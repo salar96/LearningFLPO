{
 "cells": [
  {
   "cell_type": "code",
   "execution_count": 14,
   "metadata": {},
   "outputs": [],
   "source": [
    "import torch\n",
    "from SPN import SPN\n",
    "from matplotlib import pyplot as plt\n",
    "import utils\n",
    "from torchinfo import summary\n",
    "import numpy as np\n",
    "from DatasetGenerator import generate_dataset, torchFLPO_2_numpyFLPO \n",
    "from viz import plot_UAV_FLPO, plot_UAV_FLPO_3D\n",
    "from pathlib import Path\n",
    "from Anneal import anneal\n",
    "import pickle\n",
    "import time\n",
    "import GD"
   ]
  },
  {
   "cell_type": "markdown",
   "metadata": {},
   "source": [
    "### Initialize an FLPO scenario"
   ]
  },
  {
   "cell_type": "markdown",
   "metadata": {},
   "source": [
    "Run the below command if you encounter errors running the plotting block."
   ]
  },
  {
   "cell_type": "code",
   "execution_count": 2,
   "metadata": {},
   "outputs": [],
   "source": [
    "# !pip install nbformat --upgrade"
   ]
  },
  {
   "cell_type": "code",
   "execution_count": 16,
   "metadata": {},
   "outputs": [
    {
     "name": "stdout",
     "output_type": "stream",
     "text": [
      "Running on:  cpu\n",
      "num_drones = 10\t num_facilities = 4\t dim = 2\t num_distinct_ends = 2\n"
     ]
    },
    {
     "data": {
      "image/png": "[encoded data removed]",
      "text/plain": [
       "<Figure size 1200x1000 with 1 Axes>"
      ]
     },
     "metadata": {},
     "output_type": "display_data"
    }
   ],
   "source": [
    "seed=3\n",
    "torch.manual_seed(seed)\n",
    "torch.cuda.manual_seed(seed)\n",
    "torch.cuda.manual_seed_all(seed)\n",
    "device = torch.device('cuda') if torch.cuda.is_available() else torch.device('cpu')\n",
    "np.random.seed(seed)\n",
    "load_from_path = True\n",
    "scene_path = \"Benchmark/benchmark_data/N10_M4_ends2_seed3\"\n",
    "print(\"Running on: \" , device)\n",
    "\n",
    "if load_from_path:\n",
    "    with open(scene_path, 'rb') as file:\n",
    "        data = pickle.load(file)\n",
    "    START_locs = data[\"START_locs\"]\n",
    "    F_base = data[\"F_base\"]\n",
    "    END_locs = data[\"END_locs\"]\n",
    "    num_drones = START_locs.shape[0]\n",
    "    num_facilities = F_base.shape[-2]\n",
    "    dim_ = F_base.shape[-1]\n",
    "    num_distinct_ends = len(torch.unique(END_locs, dim=0))\n",
    "    print(f\"num_drones = {num_drones}\\t num_facilities = {num_facilities}\\t dim = {dim_}\\t num_distinct_ends = {num_distinct_ends}\")\n",
    "    assert(F_base.requires_grad == True)\n",
    "else:\n",
    "    num_drones = 10\n",
    "    n_drone_clusters = 3\n",
    "    drone_cluster_split = np.random.uniform(0.0, 1.0, n_drone_clusters)\n",
    "    drone_cluster_split = drone_cluster_split / np.sum(drone_cluster_split)\n",
    "    num_facilities = 4\n",
    "    num_distinct_ends = 2\n",
    "    dim_ = 2\n",
    "    print(f\"num_drones = {num_drones}\\t num_facilities = {num_facilities}\\t dim = {dim_}\\t num_distinct_ends = {num_distinct_ends}\")\n",
    "    START_locs, F_base, END_locs = generate_dataset(\n",
    "        num_drones, \n",
    "        n_drone_clusters, \n",
    "        drone_cluster_split, \n",
    "        num_facilities, \n",
    "        dim_, \n",
    "        device, \n",
    "        seed,\n",
    "        drone_cluster_std_range=[0.02, 0.03], \n",
    "        F_noise_std=0.05,\n",
    "        num_distinct_ends=num_distinct_ends\n",
    "    )\n",
    "    assert(F_base.requires_grad == True)\n",
    "\n",
    "start_locs_np = START_locs.cpu().numpy().reshape(-1,2)\n",
    "end_locs_np = END_locs.cpu().numpy().reshape(-1,2)\n",
    "fac_locs = F_base.detach().cpu().numpy().squeeze()\n",
    "\n",
    "plot_UAV_FLPO(START_locs, END_locs, F_base, (12,10))\n",
    "# # plot_UAV_FLPO_3D(START_locs, END_locs, F_base)"
   ]
  },
  {
   "cell_type": "markdown",
   "metadata": {},
   "source": [
    "### Save a new scenario"
   ]
  },
  {
   "cell_type": "code",
   "execution_count": 8,
   "metadata": {},
   "outputs": [
    {
     "name": "stdout",
     "output_type": "stream",
     "text": [
      "Benchmark/benchmark_data/N10_M4_ends2_seed3\n"
     ]
    }
   ],
   "source": [
    "# benchmark_data = {\n",
    "#     \"START_locs\":START_locs, \n",
    "#     \"F_base\":F_base, \n",
    "#     \"END_locs\":END_locs,\n",
    "# }\n",
    "\n",
    "# scenario = f\"N{int(num_drones)}_M{int(num_facilities)}_ends{int(num_distinct_ends)}_seed{int(seed)}\"\n",
    "# filepath = \"Benchmark/benchmark_data/\" + scenario\n",
    "# print(filepath)\n",
    "\n",
    "# with open(filepath, 'wb') as file:\n",
    "#     pickle.dump(benchmark_data, file)"
   ]
  },
  {
   "cell_type": "markdown",
   "metadata": {},
   "source": [
    "### Load the SPN Module"
   ]
  },
  {
   "cell_type": "code",
   "execution_count": 17,
   "metadata": {},
   "outputs": [
    {
     "name": "stdout",
     "output_type": "stream",
     "text": [
      "Model created.\n",
      "SPN loaded on:  cpu\n",
      "=====================================================================================\n",
      "Layer (type:depth-idx)                                       Param #\n",
      "=====================================================================================\n",
      "SPN                                                          --\n",
      "├─LinearAttnEncoder: 1-1                                     2,048\n",
      "│    └─ModuleList: 2-1                                       --\n",
      "│    │    └─MultiheadAttention: 3-1                          (66,048)\n",
      "│    │    └─MultiheadAttention: 3-2                          (66,048)\n",
      "│    │    └─MultiheadAttention: 3-3                          (66,048)\n",
      "│    │    └─MultiheadAttention: 3-4                          (66,048)\n",
      "│    │    └─MultiheadAttention: 3-5                          (66,048)\n",
      "│    │    └─MultiheadAttention: 3-6                          (66,048)\n",
      "│    └─ModuleList: 2-2                                       --\n",
      "│    │    └─MultiheadAttention: 3-7                          (66,048)\n",
      "│    │    └─MultiheadAttention: 3-8                          (66,048)\n",
      "│    │    └─MultiheadAttention: 3-9                          (66,048)\n",
      "│    │    └─MultiheadAttention: 3-10                         (66,048)\n",
      "│    │    └─MultiheadAttention: 3-11                         (66,048)\n",
      "│    │    └─MultiheadAttention: 3-12                         (66,048)\n",
      "│    └─Linear: 2-3                                           (512)\n",
      "│    └─ModuleList: 2-4                                       --\n",
      "│    │    └─Sequential: 3-13                                 (65,920)\n",
      "│    │    └─Sequential: 3-14                                 (65,920)\n",
      "│    │    └─Sequential: 3-15                                 (65,920)\n",
      "│    │    └─Sequential: 3-16                                 (65,920)\n",
      "│    │    └─Sequential: 3-17                                 (65,920)\n",
      "│    │    └─Sequential: 3-18                                 (65,920)\n",
      "│    └─LayerNorm: 2-5                                        (256)\n",
      "│    └─LayerNorm: 2-6                                        (256)\n",
      "│    └─Dropout: 2-7                                          --\n",
      "│    └─ReLU: 2-8                                             --\n",
      "├─FastDecoder: 1-2                                           256\n",
      "│    └─Linear: 2-9                                           (384)\n",
      "│    └─Linear: 2-10                                          (384)\n",
      "│    └─ReLU: 2-11                                            --\n",
      "│    └─LayerNorm: 2-12                                       (256)\n",
      "=====================================================================================\n",
      "Total params: 1,192,448\n",
      "Trainable params: 0\n",
      "Non-trainable params: 1,192,448\n",
      "=====================================================================================\n"
     ]
    }
   ],
   "source": [
    "torch.cuda.empty_cache()\n",
    "model_classes = {\"SPN\": SPN}\n",
    "weights_address = (\n",
    "    Path(\"Saved_models\") /\n",
    "    \"FT100_FastAnneal_2025_07_19_01_50_51.pth\"\n",
    ")\n",
    "spn = utils.load_model(\n",
    "    weights_address, model_classes, weights_only=True, device=device\n",
    ")\n",
    "for param in spn.parameters():\n",
    "    param.requires_grad = False\n",
    "print(\"SPN loaded on: \", spn.device)\n",
    "print(summary(spn))"
   ]
  },
  {
   "cell_type": "markdown",
   "metadata": {},
   "source": [
    "### Optimization loop for a single beta\n"
   ]
  },
  {
   "cell_type": "code",
   "execution_count": 29,
   "metadata": {},
   "outputs": [
    {
     "name": "stdout",
     "output_type": "stream",
     "text": [
      "iter: 0\tFreeE: 1.1177e-01\tNorm gradient: 0.260\tmean_D_min:1.118e-01\n",
      "iter: 1\tFreeE: 1.0624e-01\tNorm gradient: 0.223\tmean_D_min:1.062e-01\n",
      "iter: 2\tFreeE: 1.0195e-01\tNorm gradient: 0.189\tmean_D_min:1.020e-01\n",
      "iter: 3\tFreeE: 9.7137e-02\tNorm gradient: 0.196\tmean_D_min:9.714e-02\n",
      "iter: 4\tFreeE: 9.5338e-02\tNorm gradient: 0.171\tmean_D_min:9.534e-02\n",
      "iter: 5\tFreeE: 9.2955e-02\tNorm gradient: 0.154\tmean_D_min:9.296e-02\n",
      "iter: 6\tFreeE: 9.0896e-02\tNorm gradient: 0.142\tmean_D_min:9.090e-02\n",
      "iter: 7\tFreeE: 8.9035e-02\tNorm gradient: 0.131\tmean_D_min:8.904e-02\n",
      "iter: 8\tFreeE: 8.7306e-02\tNorm gradient: 0.122\tmean_D_min:8.731e-02\n",
      "iter: 9\tFreeE: 8.4310e-02\tNorm gradient: 0.144\tmean_D_min:8.431e-02\n",
      "iter: 10\tFreeE: 8.1849e-02\tNorm gradient: 0.158\tmean_D_min:8.185e-02\n",
      "iter: 11\tFreeE: 7.8842e-02\tNorm gradient: 0.179\tmean_D_min:7.884e-02\n",
      "iter: 12\tFreeE: 7.6539e-02\tNorm gradient: 0.179\tmean_D_min:7.654e-02\n",
      "iter: 13\tFreeE: 7.3781e-02\tNorm gradient: 0.234\tmean_D_min:7.378e-02\n",
      "iter: 14\tFreeE: 7.1622e-02\tNorm gradient: 0.189\tmean_D_min:7.162e-02\n",
      "iter: 15\tFreeE: 6.9390e-02\tNorm gradient: 0.141\tmean_D_min:6.939e-02\n",
      "iter: 16\tFreeE: 6.6906e-02\tNorm gradient: 0.132\tmean_D_min:6.691e-02\n",
      "iter: 17\tFreeE: 6.5596e-02\tNorm gradient: 0.094\tmean_D_min:6.560e-02\n",
      "iter: 18\tFreeE: 6.5046e-02\tNorm gradient: 0.083\tmean_D_min:6.505e-02\n",
      "iter: 19\tFreeE: 6.4987e-02\tNorm gradient: 0.095\tmean_D_min:6.499e-02\n",
      "iter: 20\tFreeE: 6.4463e-02\tNorm gradient: 0.099\tmean_D_min:6.446e-02\n",
      "iter: 21\tFreeE: 6.4383e-02\tNorm gradient: 0.104\tmean_D_min:6.438e-02\n",
      "iter: 22\tFreeE: 6.4276e-02\tNorm gradient: 0.104\tmean_D_min:6.428e-02\n",
      "iter: 23\tFreeE: 6.4123e-02\tNorm gradient: 0.099\tmean_D_min:6.412e-02\n",
      "iter: 24\tFreeE: 6.3958e-02\tNorm gradient: 0.091\tmean_D_min:6.396e-02\n",
      "iter: 25\tFreeE: 6.3832e-02\tNorm gradient: 0.083\tmean_D_min:6.383e-02\n",
      "iter: 26\tFreeE: 6.3784e-02\tNorm gradient: 0.079\tmean_D_min:6.378e-02\n",
      "iter: 27\tFreeE: 6.3816e-02\tNorm gradient: 0.079\tmean_D_min:6.382e-02\n",
      "iter: 28\tFreeE: 6.3897e-02\tNorm gradient: 0.082\tmean_D_min:6.390e-02\n",
      "iter: 29\tFreeE: 6.3974e-02\tNorm gradient: 0.085\tmean_D_min:6.397e-02\n",
      "iter: 30\tFreeE: 6.4006e-02\tNorm gradient: 0.085\tmean_D_min:6.401e-02\n",
      "iter: 31\tFreeE: 6.3973e-02\tNorm gradient: 0.082\tmean_D_min:6.397e-02\n",
      "iter: 32\tFreeE: 6.3887e-02\tNorm gradient: 0.075\tmean_D_min:6.389e-02\n",
      "iter: 33\tFreeE: 6.3774e-02\tNorm gradient: 0.066\tmean_D_min:6.377e-02\n",
      "iter: 34\tFreeE: 6.3667e-02\tNorm gradient: 0.057\tmean_D_min:6.367e-02\n",
      "iter: 35\tFreeE: 6.3584e-02\tNorm gradient: 0.050\tmean_D_min:6.358e-02\n",
      "iter: 36\tFreeE: 6.3531e-02\tNorm gradient: 0.047\tmean_D_min:6.353e-02\n",
      "iter: 37\tFreeE: 6.3494e-02\tNorm gradient: 0.047\tmean_D_min:6.349e-02\n",
      "iter: 38\tFreeE: 6.3452e-02\tNorm gradient: 0.047\tmean_D_min:6.345e-02\n",
      "iter: 39\tFreeE: 6.3386e-02\tNorm gradient: 0.046\tmean_D_min:6.339e-02\n",
      "iter: 40\tFreeE: 6.3291e-02\tNorm gradient: 0.043\tmean_D_min:6.329e-02\n",
      "iter: 41\tFreeE: 6.3176e-02\tNorm gradient: 0.038\tmean_D_min:6.318e-02\n",
      "iter: 42\tFreeE: 6.3056e-02\tNorm gradient: 0.031\tmean_D_min:6.306e-02\n",
      "iter: 43\tFreeE: 6.2951e-02\tNorm gradient: 0.024\tmean_D_min:6.295e-02\n",
      "iter: 44\tFreeE: 6.2874e-02\tNorm gradient: 0.019\tmean_D_min:6.287e-02\n",
      "iter: 45\tFreeE: 6.2827e-02\tNorm gradient: 0.018\tmean_D_min:6.283e-02\n",
      "iter: 46\tFreeE: 6.2807e-02\tNorm gradient: 0.020\tmean_D_min:6.281e-02\n",
      "iter: 47\tFreeE: 6.2806e-02\tNorm gradient: 0.022\tmean_D_min:6.281e-02\n",
      "iter: 48\tFreeE: 6.2813e-02\tNorm gradient: 0.023\tmean_D_min:6.281e-02\n",
      "iter: 49\tFreeE: 6.2824e-02\tNorm gradient: 0.023\tmean_D_min:6.282e-02\n",
      "iter: 50\tFreeE: 6.2834e-02\tNorm gradient: 0.021\tmean_D_min:6.283e-02\n",
      "iter: 51\tFreeE: 6.2844e-02\tNorm gradient: 0.019\tmean_D_min:6.284e-02\n",
      "iter: 52\tFreeE: 6.2852e-02\tNorm gradient: 0.018\tmean_D_min:6.285e-02\n",
      "iter: 53\tFreeE: 6.2858e-02\tNorm gradient: 0.017\tmean_D_min:6.286e-02\n",
      "iter: 54\tFreeE: 6.2860e-02\tNorm gradient: 0.018\tmean_D_min:6.286e-02\n",
      "iter: 55\tFreeE: 6.2857e-02\tNorm gradient: 0.018\tmean_D_min:6.286e-02\n",
      "iter: 56\tFreeE: 6.2849e-02\tNorm gradient: 0.018\tmean_D_min:6.285e-02\n",
      "iter: 57\tFreeE: 6.2837e-02\tNorm gradient: 0.017\tmean_D_min:6.284e-02\n",
      "iter: 58\tFreeE: 6.2821e-02\tNorm gradient: 0.016\tmean_D_min:6.282e-02\n",
      "iter: 59\tFreeE: 6.2806e-02\tNorm gradient: 0.015\tmean_D_min:6.281e-02\n",
      "iter: 60\tFreeE: 6.2793e-02\tNorm gradient: 0.014\tmean_D_min:6.279e-02\n",
      "iter: 61\tFreeE: 6.2782e-02\tNorm gradient: 0.014\tmean_D_min:6.278e-02\n",
      "iter: 62\tFreeE: 6.2774e-02\tNorm gradient: 0.014\tmean_D_min:6.277e-02\n",
      "iter: 63\tFreeE: 6.2767e-02\tNorm gradient: 0.014\tmean_D_min:6.277e-02\n",
      "iter: 64\tFreeE: 6.2761e-02\tNorm gradient: 0.014\tmean_D_min:6.276e-02\n",
      "iter: 65\tFreeE: 6.2754e-02\tNorm gradient: 0.013\tmean_D_min:6.275e-02\n",
      "iter: 66\tFreeE: 6.2748e-02\tNorm gradient: 0.011\tmean_D_min:6.275e-02\n",
      "iter: 67\tFreeE: 6.2742e-02\tNorm gradient: 0.009\tmean_D_min:6.274e-02\n",
      "iter: 68\tFreeE: 6.2738e-02\tNorm gradient: 0.008\tmean_D_min:6.274e-02\n",
      "iter: 69\tFreeE: 6.2737e-02\tNorm gradient: 0.007\tmean_D_min:6.274e-02\n",
      "iter: 70\tFreeE: 6.2738e-02\tNorm gradient: 0.007\tmean_D_min:6.274e-02\n",
      "iter: 71\tFreeE: 6.2740e-02\tNorm gradient: 0.008\tmean_D_min:6.274e-02\n",
      "iter: 72\tFreeE: 6.2742e-02\tNorm gradient: 0.008\tmean_D_min:6.274e-02\n",
      "iter: 73\tFreeE: 6.2744e-02\tNorm gradient: 0.008\tmean_D_min:6.274e-02\n",
      "iter: 74\tFreeE: 6.2744e-02\tNorm gradient: 0.008\tmean_D_min:6.274e-02\n",
      "iter: 75\tFreeE: 6.2744e-02\tNorm gradient: 0.008\tmean_D_min:6.274e-02\n",
      "iter: 76\tFreeE: 6.2743e-02\tNorm gradient: 0.008\tmean_D_min:6.274e-02\n",
      "iter: 77\tFreeE: 6.2742e-02\tNorm gradient: 0.008\tmean_D_min:6.274e-02\n",
      "iter: 78\tFreeE: 6.2741e-02\tNorm gradient: 0.008\tmean_D_min:6.274e-02\n",
      "iter: 79\tFreeE: 6.2740e-02\tNorm gradient: 0.008\tmean_D_min:6.274e-02\n",
      "iter: 80\tFreeE: 6.2738e-02\tNorm gradient: 0.007\tmean_D_min:6.274e-02\n",
      "iter: 81\tFreeE: 6.2736e-02\tNorm gradient: 0.006\tmean_D_min:6.274e-02\n",
      "iter: 82\tFreeE: 6.2734e-02\tNorm gradient: 0.005\tmean_D_min:6.273e-02\n",
      "iter: 83\tFreeE: 6.2732e-02\tNorm gradient: 0.004\tmean_D_min:6.273e-02\n",
      "iter: 84\tFreeE: 6.2730e-02\tNorm gradient: 0.003\tmean_D_min:6.273e-02\n",
      "iter: 85\tFreeE: 6.2730e-02\tNorm gradient: 0.002\tmean_D_min:6.273e-02\n",
      "iter: 86\tFreeE: 6.2730e-02\tNorm gradient: 0.003\tmean_D_min:6.273e-02\n",
      "iter: 87\tFreeE: 6.2730e-02\tNorm gradient: 0.004\tmean_D_min:6.273e-02\n",
      "iter: 88\tFreeE: 6.2730e-02\tNorm gradient: 0.004\tmean_D_min:6.273e-02\n",
      "iter: 89\tFreeE: 6.2730e-02\tNorm gradient: 0.004\tmean_D_min:6.273e-02\n",
      "iter: 90\tFreeE: 6.2730e-02\tNorm gradient: 0.004\tmean_D_min:6.273e-02\n",
      "iter: 91\tFreeE: 6.2730e-02\tNorm gradient: 0.003\tmean_D_min:6.273e-02\n",
      "iter: 92\tFreeE: 6.2730e-02\tNorm gradient: 0.003\tmean_D_min:6.273e-02\n",
      "iter: 93\tFreeE: 6.2730e-02\tNorm gradient: 0.003\tmean_D_min:6.273e-02\n",
      "iter: 94\tFreeE: 6.2730e-02\tNorm gradient: 0.003\tmean_D_min:6.273e-02\n",
      "iter: 95\tFreeE: 6.2730e-02\tNorm gradient: 0.003\tmean_D_min:6.273e-02\n",
      "iter: 96\tFreeE: 6.2730e-02\tNorm gradient: 0.003\tmean_D_min:6.273e-02\n",
      "iter: 97\tFreeE: 6.2730e-02\tNorm gradient: 0.002\tmean_D_min:6.273e-02\n",
      "iter: 98\tFreeE: 6.2729e-02\tNorm gradient: 0.002\tmean_D_min:6.273e-02\n",
      "iter: 99\tFreeE: 6.2729e-02\tNorm gradient: 0.002\tmean_D_min:6.273e-02\n",
      "iter: 100\tFreeE: 6.2729e-02\tNorm gradient: 0.002\tmean_D_min:6.273e-02\n",
      "iter: 101\tFreeE: 6.2729e-02\tNorm gradient: 0.002\tmean_D_min:6.273e-02\n",
      "iter: 102\tFreeE: 6.2729e-02\tNorm gradient: 0.002\tmean_D_min:6.273e-02\n",
      "iter: 103\tFreeE: 6.2728e-02\tNorm gradient: 0.001\tmean_D_min:6.273e-02\n",
      "iter: 104\tFreeE: 6.2728e-02\tNorm gradient: 0.001\tmean_D_min:6.273e-02\n",
      "iter: 105\tFreeE: 6.2728e-02\tNorm gradient: 0.001\tmean_D_min:6.273e-02\n",
      "Optimization terminated due to tol at iteration: 106 FreeE: 6.2728e-02\n"
     ]
    }
   ],
   "source": [
    "optim_iters = 200\n",
    "optim_step = 0.01\n",
    "b_min = 1e4\n",
    "beta = 1e4\n",
    "tol = 1e-3\n",
    "\n",
    "Y_arr_adam, FreeEnergy_adam, G_adam = GD.Adam_at_beta(\n",
    "    F_base, START_locs, END_locs, spn, optim_iters,\n",
    "    optim_step, tol=tol, allowPrint=True, return_list= True)\n"
   ]
  },
  {
   "cell_type": "markdown",
   "metadata": {},
   "source": [
    "### Using SPN and Path Sampling"
   ]
  },
  {
   "cell_type": "code",
   "execution_count": 28,
   "metadata": {},
   "outputs": [
    {
     "ename": "TypeError",
     "evalue": "Adam_at_beta() got an unexpected keyword argument 'n_path_samples'",
     "output_type": "error",
     "traceback": [
      "\u001b[0;31m---------------------------------------------------------------------------\u001b[0m",
      "\u001b[0;31mTypeError\u001b[0m                                 Traceback (most recent call last)",
      "Cell \u001b[0;32mIn[28], line 10\u001b[0m\n\u001b[1;32m      8\u001b[0m tic \u001b[38;5;241m=\u001b[39m time\u001b[38;5;241m.\u001b[39mtime()\n\u001b[1;32m      9\u001b[0m F_base0_highbeta \u001b[38;5;241m=\u001b[39m F_base\u001b[38;5;241m.\u001b[39mclone()\u001b[38;5;241m.\u001b[39mdetach()\u001b[38;5;241m.\u001b[39mrequires_grad_(\u001b[38;5;28;01mTrue\u001b[39;00m)\n\u001b[0;32m---> 10\u001b[0m F_base_sampling, FreeEnergy_sampling, G_sampling \u001b[38;5;241m=\u001b[39m \u001b[43mGD\u001b[49m\u001b[38;5;241;43m.\u001b[39;49m\u001b[43mAdam_at_beta\u001b[49m\u001b[43m(\u001b[49m\n\u001b[1;32m     11\u001b[0m \u001b[43m    \u001b[49m\u001b[43mF_base0_highbeta\u001b[49m\u001b[43m,\u001b[49m\n\u001b[1;32m     12\u001b[0m \u001b[43m    \u001b[49m\u001b[43mSTART_locs\u001b[49m\u001b[43m,\u001b[49m\n\u001b[1;32m     13\u001b[0m \u001b[43m    \u001b[49m\u001b[43mEND_locs\u001b[49m\u001b[43m,\u001b[49m\n\u001b[1;32m     14\u001b[0m \u001b[43m    \u001b[49m\u001b[43mspn\u001b[49m\u001b[43m,\u001b[49m\n\u001b[1;32m     15\u001b[0m \u001b[43m    \u001b[49m\u001b[43mn_path_samples\u001b[49m\u001b[38;5;241;43m=\u001b[39;49m\u001b[43mn_path_samples\u001b[49m\u001b[43m,\u001b[49m\n\u001b[1;32m     16\u001b[0m \u001b[43m    \u001b[49m\u001b[43mbeta\u001b[49m\u001b[38;5;241;43m=\u001b[39;49m\u001b[43mbeta\u001b[49m\u001b[43m,\u001b[49m\n\u001b[1;32m     17\u001b[0m \u001b[43m    \u001b[49m\u001b[43mstepsize\u001b[49m\u001b[38;5;241;43m=\u001b[39;49m\u001b[43moptim_step\u001b[49m\u001b[43m,\u001b[49m\n\u001b[1;32m     18\u001b[0m \u001b[43m    \u001b[49m\u001b[43miters\u001b[49m\u001b[38;5;241;43m=\u001b[39;49m\u001b[43moptim_iters\u001b[49m\u001b[43m,\u001b[49m\n\u001b[1;32m     19\u001b[0m \u001b[43m    \u001b[49m\u001b[43mtol\u001b[49m\u001b[38;5;241;43m=\u001b[39;49m\u001b[43mtol\u001b[49m\u001b[43m,\u001b[49m\n\u001b[1;32m     20\u001b[0m \u001b[43m    \u001b[49m\u001b[43mallowPrint\u001b[49m\u001b[38;5;241;43m=\u001b[39;49m\u001b[38;5;28;43;01mTrue\u001b[39;49;00m\n\u001b[1;32m     21\u001b[0m \u001b[43m    \u001b[49m\u001b[43m)\u001b[49m\n\u001b[1;32m     22\u001b[0m toc \u001b[38;5;241m=\u001b[39m time\u001b[38;5;241m.\u001b[39mtime()\n\u001b[1;32m     23\u001b[0m runtime_high_beta \u001b[38;5;241m=\u001b[39m toc\u001b[38;5;241m-\u001b[39mtic\n",
      "\u001b[0;31mTypeError\u001b[0m: Adam_at_beta() got an unexpected keyword argument 'n_path_samples'"
     ]
    }
   ],
   "source": [
    "# optim_iters = 500\n",
    "# optim_step = 0.01\n",
    "# b_min = 100\n",
    "# beta = 1e3\n",
    "# tol = 0.001\n",
    "# n_path_samples = 8\n",
    "\n",
    "# tic = time.time()\n",
    "# F_base0_highbeta = F_base.clone().detach().requires_grad_(True)\n",
    "# F_base_sampling, FreeEnergy_sampling, G_sampling = GD.sampling_GD_at_beta_auto_diff(\n",
    "#     F_base0_highbeta,\n",
    "#     START_locs,\n",
    "#     END_locs,\n",
    "#     spn,\n",
    "#     n_path_samples=n_path_samples,\n",
    "#     beta=beta,\n",
    "#     stepsize=optim_step,\n",
    "#     iters=optim_iters,\n",
    "#     tol=tol,\n",
    "#     allowPrint=True\n",
    "#     )\n",
    "# toc = time.time()\n",
    "# runtime_high_beta = toc-tic\n"
   ]
  },
  {
   "cell_type": "code",
   "execution_count": 19,
   "metadata": {},
   "outputs": [
    {
     "data": {
      "image/png": "[encoded data removed]",
      "text/plain": [
       "<Figure size 1200x600 with 1 Axes>"
      ]
     },
     "metadata": {},
     "output_type": "display_data"
    }
   ],
   "source": [
    "plot_UAV_FLPO(START_locs, END_locs, F_base_sampling, (12,6))\n"
   ]
  },
  {
   "cell_type": "markdown",
   "metadata": {},
   "source": [
    "### Save the high beta results (plotting done in plot_res.ipynb)"
   ]
  },
  {
   "cell_type": "code",
   "execution_count": 31,
   "metadata": {},
   "outputs": [
    {
     "name": "stdout",
     "output_type": "stream",
     "text": [
      "AAAI26_res/high_beta_res/N100_M5_ends4_seed3\n"
     ]
    }
   ],
   "source": [
    "# scenario = f\"N{int(num_drones)}_M{int(num_facilities)}_ends{int(num_distinct_ends)}_seed{int(seed)}\"\n",
    "# file_path0 = \"AAAI26_res/high_beta_res/\" + scenario\n",
    "# print(file_path0)\n",
    "# # file_path0 = \"AAAI26_res/low_beta_res/\" + scenario\n",
    "\n",
    "# high_beta_res_data = {\n",
    "#     \"START_locs\":START_locs,\n",
    "#     \"END_locs\":END_locs,\n",
    "#     \"F_base\":F_base_sampling,\n",
    "#     \"n_ends\":num_distinct_ends,\n",
    "#     \"F_base0\":F_base0_highbeta,\n",
    "#     \"optim_method\":\"sampling_GD_at_beta_auto_diff\",\n",
    "#     \"optim_iters\":optim_iters,\n",
    "#     \"optim_step\":optim_step,\n",
    "#     \"beta\":beta,\n",
    "#     \"optim_tol\":tol,\n",
    "#     \"n_path_samples\":n_path_samples,\n",
    "#     \"Free_energy_final\":FreeEnergy_sampling,\n",
    "#     \"Gradient_final\":G_sampling,\n",
    "#     \"runtime\":runtime_high_beta\n",
    "# }\n",
    "\n",
    "# with open(file_path0, 'wb') as file:\n",
    "#     pickle.dump(high_beta_res_data, file)"
   ]
  },
  {
   "cell_type": "markdown",
   "metadata": {},
   "source": [
    "### Annealing loop implementation\n",
    "Warning: Use $\\beta >= 1e-3$, as the free energy approximation is poor for $\\beta < 5e-4$ with torch.float32 datatype."
   ]
  },
  {
   "cell_type": "code",
   "execution_count": 26,
   "metadata": {},
   "outputs": [
    {
     "name": "stdout",
     "output_type": "stream",
     "text": [
      "beta: 1.0000e-03\tFreeE: -2564.7876\tGrad: 5.8863e-02\n",
      "beta: 1.0000e-02\tFreeE: -256.3289\tGrad: 5.5919e-02\n",
      "beta: 1.0000e-01\tFreeE: -25.4830\tGrad: 5.6654e-02\n",
      "beta: 1.0000e+00\tFreeE: -2.4101\tGrad: 3.3885e-02\n",
      "beta: 1.0000e+01\tFreeE: -0.1228\tGrad: 5.7322e-02\n",
      "beta: 1.0000e+02\tFreeE: 0.0515\tGrad: 4.1373e-02\n",
      "beta: 1.0000e+03\tFreeE: 0.0565\tGrad: 4.3816e-02\n",
      "beta: 1.0000e+04\tFreeE: 0.0577\tGrad: 2.2075e-02\n"
     ]
    },
    {
     "data": {
      "image/png": "[encoded data removed]",
      "text/plain": [
       "<Figure size 1200x600 with 1 Axes>"
      ]
     },
     "metadata": {},
     "output_type": "display_data"
    }
   ],
   "source": [
    "beta_min = 1e-3 \n",
    "beta_max = 1e4\n",
    "beta_grow = 10\n",
    "optim_iters = 100\n",
    "optim_step = 0.01 # 0.1 for gd0, sampling_gd, use < 0.01 for the other two optimizers \n",
    "optim_name = \"sampling_auto_diff\"\n",
    "tol = 0.001\n",
    "n_path_samples = 8\n",
    "\n",
    "tic = time.time()\n",
    "F_base0_anneal = F_base.clone().detach().requires_grad_(True)\n",
    "Y_arr, b_arr, F_arr = anneal( \n",
    "        F_base0_anneal, \n",
    "        START_locs, \n",
    "        END_locs, \n",
    "        spn,  \n",
    "        optim_iters, \n",
    "        optim_step, \n",
    "        beta_min, \n",
    "        beta_max, \n",
    "        beta_grow, \n",
    "        tol=tol, \n",
    "        optimizer_name=optim_name, \n",
    "        n_path_samples=n_path_samples, \n",
    "        allowPrint=True \n",
    "    ) \n",
    "toc = time.time()\n",
    "runtime_anneal = toc-tic \n",
    "plot_UAV_FLPO(START_locs, END_locs, Y_arr[-1], (12,6)) \n"
   ]
  },
  {
   "cell_type": "markdown",
   "metadata": {},
   "source": [
    "### Save the annealing results (plotting done in plot_res.ipynb)"
   ]
  },
  {
   "cell_type": "code",
   "execution_count": 33,
   "metadata": {},
   "outputs": [
    {
     "name": "stdout",
     "output_type": "stream",
     "text": [
      "filepath: AAAI26_res/annealing_res/N100_M5_ends4_seed3\n"
     ]
    }
   ],
   "source": [
    "# file_path1 = \"AAAI26_res/annealing_res/\" + scenario\n",
    "# print(f'filepath: {file_path1}')\n",
    "\n",
    "# annealing_res_data = {\n",
    "#     \"START_locs\":START_locs,\n",
    "#     \"END_locs\":END_locs,\n",
    "#     \"Y_arr\":Y_arr,\n",
    "#     \"b_arr\":b_arr,\n",
    "#     \"F_arr\":F_arr,\n",
    "#     \"F_bas0\":F_base0_anneal,\n",
    "#     \"optim_method\":optim_name,\n",
    "#     \"optim_iters\":optim_iters,\n",
    "#     \"optim_step\":optim_step,\n",
    "#     \"optim_tol\":tol,\n",
    "#     \"n_path_samples\":n_path_samples,\n",
    "#     \"runtime\":runtime_anneal\n",
    "# }\n",
    "\n",
    "# with open(file_path1, 'wb') as file:\n",
    "#     pickle.dump(annealing_res_data, file)"
   ]
  },
  {
   "cell_type": "markdown",
   "metadata": {},
   "source": [
    "### Animation results moved to plot_res.ipynb"
   ]
  }
 ],
 "metadata": {
  "kernelspec": {
   "display_name": "Python 3",
   "language": "python",
   "name": "python3"
  },
  "language_info": {
   "codemirror_mode": {
    "name": "ipython",
    "version": 3
   },
   "file_extension": ".py",
   "mimetype": "text/x-python",
   "name": "python",
   "nbconvert_exporter": "python",
   "pygments_lexer": "ipython3",
   "version": "3.9.6"
  }
 },
 "nbformat": 4,
 "nbformat_minor": 2
}
