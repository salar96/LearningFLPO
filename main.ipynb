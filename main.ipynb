{
 "cells": [
  {
   "cell_type": "markdown",
   "metadata": {},
   "source": [
    "# Learning FLPO"
   ]
  },
  {
   "cell_type": "markdown",
   "metadata": {},
   "source": [
    "In this code, we will implement the hierarchical ML architecture to predict the parameters in the FLPO setup."
   ]
  },
  {
   "cell_type": "code",
   "execution_count": 11,
   "metadata": {},
   "outputs": [],
   "source": [
    "import torch\n",
    "from VRP_Net import VRPNet\n",
    "from matplotlib import pyplot as plt\n",
    "from utils import *\n",
    "import os\n",
    "import matplotlib.pyplot as plt\n",
    "from torchinfo import summary\n",
    "import numpy as np"
   ]
  },
  {
   "cell_type": "markdown",
   "metadata": {},
   "source": [
    "# Loading the Data"
   ]
  },
  {
   "cell_type": "code",
   "execution_count": 12,
   "metadata": {},
   "outputs": [
    {
     "name": "stdout",
     "output_type": "stream",
     "text": [
      "Running on:  cpu\n"
     ]
    }
   ],
   "source": [
    "\n",
    "device = torch.device('cuda') if torch.cuda.is_available() else torch.device('cpu')\n",
    "print(\"Running on: \" , device)\n",
    "num_data = 10 # number of FLPO instances\n",
    "num_nodes = 30\n",
    "city_dim = 2\n",
    "data = torch.rand(num_data,num_nodes,city_dim).to(device)\n"
   ]
  },
  {
   "cell_type": "markdown",
   "metadata": {},
   "source": [
    "# Loading the VRP NET Module"
   ]
  },
  {
   "cell_type": "code",
   "execution_count": 13,
   "metadata": {},
   "outputs": [
    {
     "name": "stdout",
     "output_type": "stream",
     "text": [
      "VRP NET loaded.\n",
      "===============================================================================================\n",
      "Layer (type:depth-idx)                                                 Param #\n",
      "===============================================================================================\n",
      "VRPNet                                                                 --\n",
      "├─Encoder: 1-1                                                         --\n",
      "│    └─Linear: 2-1                                                     384\n",
      "│    └─PositionalEncoding: 2-2                                         --\n",
      "│    └─TransformerEncoder: 2-3                                         --\n",
      "│    │    └─ModuleList: 3-1                                            594,816\n",
      "├─Decoder: 1-2                                                         --\n",
      "│    └─TransformerDecoder: 2-4                                         --\n",
      "│    │    └─ModuleList: 3-2                                            793,728\n",
      "├─PositionalEncoding: 1-3                                              --\n",
      "===============================================================================================\n",
      "Total params: 1,388,928\n",
      "Trainable params: 1,388,928\n",
      "Non-trainable params: 0\n",
      "===============================================================================================\n"
     ]
    }
   ],
   "source": [
    "hidden_dim = 128\n",
    "num_layers = 3\n",
    "num_heads = 8\n",
    "input_dim = 2\n",
    "num_samples = 1 # for inference\n",
    "vrpnet = VRPNet(input_dim,hidden_dim,device,num_heads=num_heads,num_enc_layers=num_layers,num_dec_layers=num_layers,use_PE=False)\n",
    "vrpnet.load_state_dict(torch.load('Saved models/POMO2025_03_12 11_03_550.8357473611831665best_model.pth', map_location=torch.device('cpu')))#,weights_only=False))\n",
    "vrpnet.eval()\n",
    "print('VRP NET loaded.')\n",
    "print(summary(vrpnet))"
   ]
  },
  {
   "cell_type": "markdown",
   "metadata": {},
   "source": [
    "# Generating d_min"
   ]
  },
  {
   "cell_type": "code",
   "execution_count": 14,
   "metadata": {},
   "outputs": [],
   "source": [
    "all_samples = torch.zeros(num_data, num_nodes, num_samples).to(device)\n",
    "for i in range(num_samples):\n",
    "    _, actions = vrpnet(data, mod='train')\n",
    "    all_samples[:,:,i:i+1] = actions\n",
    "opt_sample_indices = []\n"
   ]
  },
  {
   "cell_type": "code",
   "execution_count": 15,
   "metadata": {},
   "outputs": [
    {
     "name": "stdout",
     "output_type": "stream",
     "text": [
      "d_mins for all data are:  [1.70865619 0.61032188 0.20331575 0.09000816 0.22877039 0.9916532\n",
      " 0.72838849 0.11450128 0.4081955  1.11983597]\n"
     ]
    }
   ],
   "source": [
    "d_mins = np.zeros(num_data)\n",
    "for data_idx in range(num_data):\n",
    "    costs_for_data = [route_cost(data[data_idx:data_idx+1], all_samples[data_idx:data_idx+1, :, sample_idx]) for sample_idx in range(num_samples)]\n",
    "    costs_tensor = torch.tensor(costs_for_data)\n",
    "    d_min, opt_sample_index = torch.min(costs_tensor, dim=0)  \n",
    "    opt_sample_indices.append(opt_sample_index.item())\n",
    "    d_mins[data_idx] = d_min\n",
    "opt_sample_indices = torch.tensor(opt_sample_indices)\n",
    "actions = all_samples[torch.arange(num_data),:,opt_sample_indices]\n",
    "print(\"d_mins for all data are: \",d_mins)"
   ]
  },
  {
   "cell_type": "markdown",
   "metadata": {},
   "source": [
    "# Loading Free Energy Network"
   ]
  },
  {
   "cell_type": "markdown",
   "metadata": {},
   "source": [
    "Dhananjay's code for loading his DNN is here. The output of this block should be Y."
   ]
  },
  {
   "cell_type": "code",
   "execution_count": 57,
   "metadata": {},
   "outputs": [
    {
     "name": "stdout",
     "output_type": "stream",
     "text": [
      "n_inputs:3\tn_outputs:1\tlayers:[20, 10]\n",
      "lse_net:\n",
      "dnn(\n",
      "  (layers): ModuleList(\n",
      "    (0): Linear(in_features=3, out_features=20, bias=True)\n",
      "    (1): ReLU()\n",
      "    (2): Linear(in_features=20, out_features=10, bias=True)\n",
      "    (3): ReLU()\n",
      "    (4): Linear(in_features=10, out_features=1, bias=True)\n",
      "  )\n",
      ")\n"
     ]
    }
   ],
   "source": [
    "import LSE_net\n",
    "lse_data = torch.load('LSE_models/lse_2543_1624.pth')\n",
    "n_inputs = lse_data['n_inputs']\n",
    "n_outputs = lse_data['n_outputs']\n",
    "layers = lse_data['layers']\n",
    "weights = lse_data['model_state_dict']\n",
    "lse_net = LSE_net.dnn(n_inputs, n_outputs, layers)\n",
    "lse_net.load_state_dict(weights)\n",
    "lse_net.eval()\n",
    "print(f'n_inputs:{n_inputs}\\tn_outputs:{n_outputs}\\tlayers:{layers}\\nlse_net:\\n{lse_net}')"
   ]
  },
  {
   "cell_type": "markdown",
   "metadata": {},
   "source": [
    "# Calculating Free Energy"
   ]
  },
  {
   "cell_type": "markdown",
   "metadata": {},
   "source": [
    "Feeding the d_min from Salar Block to get the Free energy"
   ]
  },
  {
   "cell_type": "code",
   "execution_count": 58,
   "metadata": {},
   "outputs": [
    {
     "name": "stdout",
     "output_type": "stream",
     "text": [
      "tensor([[-5.2983e+00,  1.7087e-02,  1.0000e-02],\n",
      "        [-5.2983e+00,  1.7087e-02,  1.0500e-02],\n",
      "        [-5.2983e+00,  1.7087e-02,  1.1025e-02],\n",
      "        [-5.2983e+00,  1.7087e-02,  1.1576e-02],\n",
      "        [-5.2983e+00,  1.7087e-02,  1.2155e-02],\n",
      "        [-5.2983e+00,  1.7087e-02,  1.2763e-02],\n",
      "        [-5.2983e+00,  1.7087e-02,  1.3401e-02],\n",
      "        [-5.2983e+00,  1.7087e-02,  1.4071e-02],\n",
      "        [-5.2983e+00,  1.7087e-02,  1.4775e-02],\n",
      "        [-5.2983e+00,  1.7087e-02,  1.5513e-02],\n",
      "        [-5.2983e+00,  1.7087e-02,  1.6289e-02],\n",
      "        [-5.2983e+00,  1.7087e-02,  1.7103e-02],\n",
      "        [-5.2983e+00,  1.7087e-02,  1.7959e-02],\n",
      "        [-5.2983e+00,  1.7087e-02,  1.8856e-02],\n",
      "        [-5.2983e+00,  1.7087e-02,  1.9799e-02],\n",
      "        [-5.2983e+00,  1.7087e-02,  2.0789e-02],\n",
      "        [-5.2983e+00,  1.7087e-02,  2.1829e-02],\n",
      "        [-5.2983e+00,  1.7087e-02,  2.2920e-02],\n",
      "        [-5.2983e+00,  1.7087e-02,  2.4066e-02],\n",
      "        [-5.2983e+00,  1.7087e-02,  2.5270e-02],\n",
      "        [-5.2983e+00,  1.7087e-02,  2.6533e-02],\n",
      "        [-5.2983e+00,  1.7087e-02,  2.7860e-02],\n",
      "        [-5.2983e+00,  1.7087e-02,  2.9253e-02],\n",
      "        [-5.2983e+00,  1.7087e-02,  3.0715e-02],\n",
      "        [-5.2983e+00,  1.7087e-02,  3.2251e-02],\n",
      "        [-5.2983e+00,  1.7087e-02,  3.3864e-02],\n",
      "        [-5.2983e+00,  1.7087e-02,  3.5557e-02],\n",
      "        [-5.2983e+00,  1.7087e-02,  3.7335e-02],\n",
      "        [-5.2983e+00,  1.7087e-02,  3.9201e-02],\n",
      "        [-5.2983e+00,  1.7087e-02,  4.1161e-02],\n",
      "        [-5.2983e+00,  1.7087e-02,  4.3219e-02],\n",
      "        [-5.2983e+00,  1.7087e-02,  4.5380e-02],\n",
      "        [-5.2983e+00,  1.7087e-02,  4.7649e-02],\n",
      "        [-5.2983e+00,  1.7087e-02,  5.0032e-02],\n",
      "        [-5.2983e+00,  1.7087e-02,  5.2533e-02],\n",
      "        [-5.2983e+00,  1.7087e-02,  5.5160e-02],\n",
      "        [-5.2983e+00,  1.7087e-02,  5.7918e-02],\n",
      "        [-5.2983e+00,  1.7087e-02,  6.0814e-02],\n",
      "        [-5.2983e+00,  1.7087e-02,  6.3855e-02],\n",
      "        [-5.2983e+00,  1.7087e-02,  6.7048e-02],\n",
      "        [-5.2983e+00,  1.7087e-02,  7.0400e-02],\n",
      "        [-5.2983e+00,  1.7087e-02,  7.3920e-02],\n",
      "        [-5.2983e+00,  1.7087e-02,  7.7616e-02],\n",
      "        [-5.2983e+00,  1.7087e-02,  8.1497e-02],\n",
      "        [-5.2983e+00,  1.7087e-02,  8.5572e-02],\n",
      "        [-5.2983e+00,  1.7087e-02,  8.9850e-02],\n",
      "        [-5.2983e+00,  1.7087e-02,  9.4343e-02],\n",
      "        [-5.2983e+00,  1.7087e-02,  9.9060e-02],\n",
      "        [-5.2983e+00,  1.7087e-02,  1.0401e-01],\n",
      "        [-5.2983e+00,  1.7087e-02,  1.0921e-01],\n",
      "        [-5.2983e+00,  1.7087e-02,  1.1467e-01],\n",
      "        [-5.2983e+00,  1.7087e-02,  1.2041e-01],\n",
      "        [-5.2983e+00,  1.7087e-02,  1.2643e-01],\n",
      "        [-5.2983e+00,  1.7087e-02,  1.3275e-01],\n",
      "        [-5.2983e+00,  1.7087e-02,  1.3939e-01],\n",
      "        [-5.2983e+00,  1.7087e-02,  1.4636e-01],\n",
      "        [-5.2983e+00,  1.7087e-02,  1.5367e-01],\n",
      "        [-5.2983e+00,  1.7087e-02,  1.6136e-01],\n",
      "        [-5.2983e+00,  1.7087e-02,  1.6943e-01],\n",
      "        [-5.2983e+00,  1.7087e-02,  1.7790e-01],\n",
      "        [-5.2983e+00,  1.7087e-02,  1.8679e-01],\n",
      "        [-5.2983e+00,  1.7087e-02,  1.9613e-01],\n",
      "        [-5.2983e+00,  1.7087e-02,  2.0594e-01],\n",
      "        [-5.2983e+00,  1.7087e-02,  2.1623e-01],\n",
      "        [-5.2983e+00,  1.7087e-02,  2.2705e-01],\n",
      "        [-5.2983e+00,  1.7087e-02,  2.3840e-01],\n",
      "        [-5.2983e+00,  1.7087e-02,  2.5032e-01],\n",
      "        [-5.2983e+00,  1.7087e-02,  2.6283e-01],\n",
      "        [-5.2983e+00,  1.7087e-02,  2.7598e-01],\n",
      "        [-5.2983e+00,  1.7087e-02,  2.8978e-01],\n",
      "        [-5.2983e+00,  1.7087e-02,  3.0426e-01],\n",
      "        [-5.2983e+00,  1.7087e-02,  3.1948e-01],\n",
      "        [-5.2983e+00,  1.7087e-02,  3.3545e-01],\n",
      "        [-5.2983e+00,  1.7087e-02,  3.5222e-01],\n",
      "        [-5.2983e+00,  1.7087e-02,  3.6984e-01],\n",
      "        [-5.2983e+00,  1.7087e-02,  3.8833e-01],\n",
      "        [-5.2983e+00,  1.7087e-02,  4.0774e-01],\n",
      "        [-5.2983e+00,  1.7087e-02,  4.2813e-01],\n",
      "        [-5.2983e+00,  1.7087e-02,  4.4954e-01],\n",
      "        [-5.2983e+00,  1.7087e-02,  4.7201e-01],\n",
      "        [-5.2983e+00,  1.7087e-02,  4.9561e-01],\n",
      "        [-5.2983e+00,  1.7087e-02,  5.2040e-01],\n",
      "        [-5.2983e+00,  1.7087e-02,  5.4641e-01],\n",
      "        [-5.2983e+00,  1.7087e-02,  5.7374e-01],\n",
      "        [-5.2983e+00,  1.7087e-02,  6.0242e-01],\n",
      "        [-5.2983e+00,  1.7087e-02,  6.3254e-01],\n",
      "        [-5.2983e+00,  1.7087e-02,  6.6417e-01],\n",
      "        [-5.2983e+00,  1.7087e-02,  6.9738e-01],\n",
      "        [-5.2983e+00,  1.7087e-02,  7.3225e-01],\n",
      "        [-5.2983e+00,  1.7087e-02,  7.6886e-01],\n",
      "        [-5.2983e+00,  1.7087e-02,  8.0730e-01],\n",
      "        [-5.2983e+00,  1.7087e-02,  8.4767e-01],\n",
      "        [-5.2983e+00,  1.7087e-02,  8.9005e-01],\n",
      "        [-5.2983e+00,  1.7087e-02,  9.3455e-01],\n",
      "        [-5.2983e+00,  1.7087e-02,  9.8128e-01],\n",
      "        [-5.2983e+00,  1.7087e-02,  1.0303e+00],\n",
      "        [-5.2983e+00,  1.7087e-02,  1.0819e+00],\n",
      "        [-5.2983e+00,  1.7087e-02,  1.1360e+00],\n",
      "        [-5.2983e+00,  1.7087e-02,  1.1928e+00],\n",
      "        [-5.2983e+00,  1.7087e-02,  1.2524e+00],\n",
      "        [-5.2983e+00,  1.7087e-02,  1.3150e+00],\n",
      "        [-5.2983e+00,  1.7087e-02,  1.3808e+00],\n",
      "        [-5.2983e+00,  1.7087e-02,  1.4498e+00],\n",
      "        [-5.2983e+00,  1.7087e-02,  1.5223e+00],\n",
      "        [-5.2983e+00,  1.7087e-02,  1.5984e+00],\n",
      "        [-5.2983e+00,  1.7087e-02,  1.6783e+00],\n",
      "        [-5.2983e+00,  1.7087e-02,  1.7622e+00],\n",
      "        [-5.2983e+00,  1.7087e-02,  1.8504e+00],\n",
      "        [-5.2983e+00,  1.7087e-02,  1.9429e+00],\n",
      "        [-5.2983e+00,  1.7087e-02,  2.0400e+00],\n",
      "        [-5.2983e+00,  1.7087e-02,  2.1420e+00],\n",
      "        [-5.2983e+00,  1.7087e-02,  2.2491e+00],\n",
      "        [-5.2983e+00,  1.7087e-02,  2.3616e+00],\n",
      "        [-5.2983e+00,  1.7087e-02,  2.4797e+00],\n",
      "        [-5.2983e+00,  1.7087e-02,  2.6036e+00],\n",
      "        [-5.2983e+00,  1.7087e-02,  2.7338e+00],\n",
      "        [-5.2983e+00,  1.7087e-02,  2.8705e+00],\n",
      "        [-5.2983e+00,  1.7087e-02,  3.0140e+00],\n",
      "        [-5.2983e+00,  1.7087e-02,  3.1647e+00],\n",
      "        [-5.2983e+00,  1.7087e-02,  3.3230e+00],\n",
      "        [-5.2983e+00,  1.7087e-02,  3.4891e+00],\n",
      "        [-5.2983e+00,  1.7087e-02,  3.6636e+00],\n",
      "        [-5.2983e+00,  1.7087e-02,  3.8468e+00],\n",
      "        [-5.2983e+00,  1.7087e-02,  4.0391e+00],\n",
      "        [-5.2983e+00,  1.7087e-02,  4.2410e+00],\n",
      "        [-5.2983e+00,  1.7087e-02,  4.4531e+00],\n",
      "        [-5.2983e+00,  1.7087e-02,  4.6758e+00],\n",
      "        [-5.2983e+00,  1.7087e-02,  4.9095e+00],\n",
      "        [-5.2983e+00,  1.7087e-02,  5.1550e+00],\n",
      "        [-5.2983e+00,  1.7087e-02,  5.4128e+00],\n",
      "        [-5.2983e+00,  1.7087e-02,  5.6834e+00],\n",
      "        [-5.2983e+00,  1.7087e-02,  5.9676e+00],\n",
      "        [-5.2983e+00,  1.7087e-02,  6.2660e+00],\n",
      "        [-5.2983e+00,  1.7087e-02,  6.5793e+00],\n",
      "        [-5.2983e+00,  1.7087e-02,  6.9082e+00],\n",
      "        [-5.2983e+00,  1.7087e-02,  7.2536e+00],\n",
      "        [-5.2983e+00,  1.7087e-02,  7.6163e+00],\n",
      "        [-5.2983e+00,  1.7087e-02,  7.9971e+00],\n",
      "        [-5.2983e+00,  1.7087e-02,  8.3970e+00],\n",
      "        [-5.2983e+00,  1.7087e-02,  8.8168e+00],\n",
      "        [-5.2983e+00,  1.7087e-02,  9.2577e+00],\n",
      "        [-5.2983e+00,  1.7087e-02,  9.7206e+00],\n",
      "        [-5.2983e+00,  1.7087e-02,  1.0207e+01],\n",
      "        [-5.2983e+00,  1.7087e-02,  1.0717e+01],\n",
      "        [-5.2983e+00,  1.7087e-02,  1.1253e+01],\n",
      "        [-5.2983e+00,  1.7087e-02,  1.1815e+01],\n",
      "        [-5.2983e+00,  1.7087e-02,  1.2406e+01],\n",
      "        [-5.2983e+00,  1.7087e-02,  1.3026e+01],\n",
      "        [-5.2983e+00,  1.7087e-02,  1.3678e+01],\n",
      "        [-5.2983e+00,  1.7087e-02,  1.4362e+01],\n",
      "        [-5.2983e+00,  1.7087e-02,  1.5080e+01],\n",
      "        [-5.2983e+00,  1.7087e-02,  1.5834e+01],\n",
      "        [-5.2983e+00,  1.7087e-02,  1.6625e+01],\n",
      "        [-5.2983e+00,  1.7087e-02,  1.7457e+01],\n",
      "        [-5.2983e+00,  1.7087e-02,  1.8330e+01],\n",
      "        [-5.2983e+00,  1.7087e-02,  1.9246e+01],\n",
      "        [-5.2983e+00,  1.7087e-02,  2.0208e+01],\n",
      "        [-5.2983e+00,  1.7087e-02,  2.1219e+01],\n",
      "        [-5.2983e+00,  1.7087e-02,  2.2280e+01],\n",
      "        [-5.2983e+00,  1.7087e-02,  2.3394e+01],\n",
      "        [-5.2983e+00,  1.7087e-02,  2.4563e+01],\n",
      "        [-5.2983e+00,  1.7087e-02,  2.5792e+01],\n",
      "        [-5.2983e+00,  1.7087e-02,  2.7081e+01],\n",
      "        [-5.2983e+00,  1.7087e-02,  2.8435e+01],\n",
      "        [-5.2983e+00,  1.7087e-02,  2.9857e+01],\n",
      "        [-5.2983e+00,  1.7087e-02,  3.1350e+01],\n",
      "        [-5.2983e+00,  1.7087e-02,  3.2917e+01],\n",
      "        [-5.2983e+00,  1.7087e-02,  3.4563e+01],\n",
      "        [-5.2983e+00,  1.7087e-02,  3.6291e+01],\n",
      "        [-5.2983e+00,  1.7087e-02,  3.8106e+01],\n",
      "        [-5.2983e+00,  1.7087e-02,  4.0011e+01],\n",
      "        [-5.2983e+00,  1.7087e-02,  4.2012e+01],\n",
      "        [-5.2983e+00,  1.7087e-02,  4.4112e+01],\n",
      "        [-5.2983e+00,  1.7087e-02,  4.6318e+01],\n",
      "        [-5.2983e+00,  1.7087e-02,  4.8634e+01],\n",
      "        [-5.2983e+00,  1.7087e-02,  5.1065e+01],\n",
      "        [-5.2983e+00,  1.7087e-02,  5.3619e+01],\n",
      "        [-5.2983e+00,  1.7087e-02,  5.6300e+01],\n",
      "        [-5.2983e+00,  1.7087e-02,  5.9115e+01],\n",
      "        [-5.2983e+00,  1.7087e-02,  6.2070e+01],\n",
      "        [-5.2983e+00,  1.7087e-02,  6.5174e+01],\n",
      "        [-5.2983e+00,  1.7087e-02,  6.8433e+01],\n",
      "        [-5.2983e+00,  1.7087e-02,  7.1854e+01],\n",
      "        [-5.2983e+00,  1.7087e-02,  7.5447e+01],\n",
      "        [-5.2983e+00,  1.7087e-02,  7.9219e+01],\n",
      "        [-5.2983e+00,  1.7087e-02,  8.3180e+01],\n",
      "        [-5.2983e+00,  1.7087e-02,  8.7339e+01],\n",
      "        [-5.2983e+00,  1.7087e-02,  9.1706e+01],\n",
      "        [-5.2983e+00,  1.7087e-02,  9.6292e+01],\n",
      "        [-5.2983e+00,  1.7087e-02,  1.0111e+02]])\n",
      "tensor([[-5.1950e+00],\n",
      "        [-5.0482e+00],\n",
      "        [-4.8826e+00],\n",
      "        [-4.7025e+00],\n",
      "        [-4.5134e+00],\n",
      "        [-4.3148e+00],\n",
      "        [-4.1047e+00],\n",
      "        [-3.8841e+00],\n",
      "        [-3.6524e+00],\n",
      "        [-3.3945e+00],\n",
      "        [-3.1156e+00],\n",
      "        [-2.8516e+00],\n",
      "        [-2.6959e+00],\n",
      "        [-2.5325e+00],\n",
      "        [-2.3609e+00],\n",
      "        [-2.2503e+00],\n",
      "        [-2.1587e+00],\n",
      "        [-2.0624e+00],\n",
      "        [-1.9614e+00],\n",
      "        [-1.8553e+00],\n",
      "        [-1.7438e+00],\n",
      "        [-1.6269e+00],\n",
      "        [-1.5040e+00],\n",
      "        [-1.3751e+00],\n",
      "        [-1.3311e+00],\n",
      "        [-1.2889e+00],\n",
      "        [-1.2446e+00],\n",
      "        [-1.1980e+00],\n",
      "        [-1.1492e+00],\n",
      "        [-1.0979e+00],\n",
      "        [-1.0440e+00],\n",
      "        [-9.8746e-01],\n",
      "        [-9.2808e-01],\n",
      "        [-8.6572e-01],\n",
      "        [-8.0025e-01],\n",
      "        [-7.3150e-01],\n",
      "        [-6.5932e-01],\n",
      "        [-5.8839e-01],\n",
      "        [-5.3952e-01],\n",
      "        [-4.8820e-01],\n",
      "        [-4.3432e-01],\n",
      "        [-3.7774e-01],\n",
      "        [-3.1833e-01],\n",
      "        [-2.8856e-01],\n",
      "        [-2.7835e-01],\n",
      "        [-2.6762e-01],\n",
      "        [-2.5636e-01],\n",
      "        [-2.4454e-01],\n",
      "        [-2.3212e-01],\n",
      "        [-2.1909e-01],\n",
      "        [-2.0540e-01],\n",
      "        [-1.9103e-01],\n",
      "        [-1.7594e-01],\n",
      "        [-1.6009e-01],\n",
      "        [-1.4346e-01],\n",
      "        [-1.2599e-01],\n",
      "        [-1.0765e-01],\n",
      "        [-8.8387e-02],\n",
      "        [-6.8165e-02],\n",
      "        [-4.6931e-02],\n",
      "        [-2.4636e-02],\n",
      "        [-1.2259e-03],\n",
      "        [ 2.3354e-02],\n",
      "        [ 4.9164e-02],\n",
      "        [ 7.6264e-02],\n",
      "        [ 1.0472e-01],\n",
      "        [ 1.3231e-01],\n",
      "        [ 1.3429e-01],\n",
      "        [ 1.3636e-01],\n",
      "        [ 1.3854e-01],\n",
      "        [ 1.4083e-01],\n",
      "        [ 1.4013e-01],\n",
      "        [ 1.3900e-01],\n",
      "        [ 1.3781e-01],\n",
      "        [ 1.3656e-01],\n",
      "        [ 1.3525e-01],\n",
      "        [ 1.3387e-01],\n",
      "        [ 1.3242e-01],\n",
      "        [ 1.3090e-01],\n",
      "        [ 1.2931e-01],\n",
      "        [ 1.2763e-01],\n",
      "        [ 1.2588e-01],\n",
      "        [ 1.2403e-01],\n",
      "        [ 1.2209e-01],\n",
      "        [ 1.2006e-01],\n",
      "        [ 1.1792e-01],\n",
      "        [ 1.1567e-01],\n",
      "        [ 1.1332e-01],\n",
      "        [ 1.1084e-01],\n",
      "        [ 1.0825e-01],\n",
      "        [ 1.0552e-01],\n",
      "        [ 1.0265e-01],\n",
      "        [ 9.9646e-02],\n",
      "        [ 9.6488e-02],\n",
      "        [ 9.3173e-02],\n",
      "        [ 8.9691e-02],\n",
      "        [ 8.6035e-02],\n",
      "        [ 8.2197e-02],\n",
      "        [ 7.8167e-02],\n",
      "        [ 7.3936e-02],\n",
      "        [ 6.9492e-02],\n",
      "        [ 6.4827e-02],\n",
      "        [ 5.9928e-02],\n",
      "        [ 5.4784e-02],\n",
      "        [ 4.9383e-02],\n",
      "        [ 4.3712e-02],\n",
      "        [ 3.7758e-02],\n",
      "        [ 3.1505e-02],\n",
      "        [ 2.7822e-02],\n",
      "        [ 2.8171e-02],\n",
      "        [ 2.8536e-02],\n",
      "        [ 2.8921e-02],\n",
      "        [ 2.9324e-02],\n",
      "        [ 2.9747e-02],\n",
      "        [ 3.0192e-02],\n",
      "        [ 3.0659e-02],\n",
      "        [ 3.1149e-02],\n",
      "        [ 3.1664e-02],\n",
      "        [ 3.2204e-02],\n",
      "        [ 3.2772e-02],\n",
      "        [ 3.3368e-02],\n",
      "        [ 3.3993e-02],\n",
      "        [ 3.4650e-02],\n",
      "        [ 3.5340e-02],\n",
      "        [ 3.6064e-02],\n",
      "        [ 3.6824e-02],\n",
      "        [ 3.7623e-02],\n",
      "        [ 3.8462e-02],\n",
      "        [ 3.9342e-02],\n",
      "        [ 3.0916e-02],\n",
      "        [-6.1597e-03],\n",
      "        [ 2.9400e-03],\n",
      "        [ 1.2495e-02],\n",
      "        [ 2.1954e-02],\n",
      "        [ 1.9701e-02],\n",
      "        [ 1.7336e-02],\n",
      "        [ 1.4853e-02],\n",
      "        [ 1.3276e-02],\n",
      "        [ 1.3116e-02],\n",
      "        [ 1.2947e-02],\n",
      "        [ 1.2771e-02],\n",
      "        [ 1.2586e-02],\n",
      "        [ 1.2392e-02],\n",
      "        [ 1.2187e-02],\n",
      "        [ 1.1973e-02],\n",
      "        [ 1.1748e-02],\n",
      "        [ 1.1512e-02],\n",
      "        [ 1.1263e-02],\n",
      "        [ 1.1003e-02],\n",
      "        [ 1.0729e-02],\n",
      "        [ 1.0441e-02],\n",
      "        [ 1.0140e-02],\n",
      "        [ 9.8225e-03],\n",
      "        [ 9.4904e-03],\n",
      "        [ 9.1409e-03],\n",
      "        [ 8.7742e-03],\n",
      "        [ 8.3897e-03],\n",
      "        [ 7.9855e-03],\n",
      "        [ 7.5600e-03],\n",
      "        [ 7.1139e-03],\n",
      "        [ 6.6471e-03],\n",
      "        [ 6.1554e-03],\n",
      "        [ 5.6397e-03],\n",
      "        [ 5.0973e-03],\n",
      "        [ 4.5294e-03],\n",
      "        [ 3.9331e-03],\n",
      "        [ 3.3054e-03],\n",
      "        [ 2.6464e-03],\n",
      "        [ 1.9559e-03],\n",
      "        [ 1.2299e-03],\n",
      "        [ 4.6676e-04],\n",
      "        [-3.3313e-04],\n",
      "        [-1.1747e-03],\n",
      "        [-2.0574e-03],\n",
      "        [-2.9834e-03],\n",
      "        [-3.9561e-03],\n",
      "        [-4.9775e-03],\n",
      "        [-6.0504e-03],\n",
      "        [-7.1748e-03],\n",
      "        [-8.3616e-03],\n",
      "        [-9.6014e-03],\n",
      "        [-1.0902e-02],\n",
      "        [-1.2272e-02],\n",
      "        [-1.3712e-02],\n",
      "        [-1.5222e-02],\n",
      "        [-1.6807e-02],\n",
      "        [-1.8472e-02],\n",
      "        [-2.0218e-02],\n",
      "        [-2.2049e-02],\n",
      "        [-2.3978e-02]], grad_fn=<AddmmBackward0>)\n"
     ]
    }
   ],
   "source": [
    "b_arr = lse_data['b_arr']\n",
    "len_Darray = lse_data['len_Darray']\n",
    "io_scale = lse_data['io_scale']\n",
    "b_min = b_arr[0]\n",
    "b_max = b_arr[-1]\n",
    "d_min_random = np.random.choice(d_mins, 1)[0]\n",
    "# d_min_random = d_mins[0]\n",
    "st = 0\n",
    "In = torch.tensor([[-io_scale/b_min*np.log(len_Darray), io_scale*d_min_random, b] for b in b_arr], dtype=torch.float32)\n",
    "print(In)\n",
    "Out = lse_net(In)\n",
    "print(Out)\n",
    "# Out.backward()\n",
    "# print(In.grad)"
   ]
  },
  {
   "cell_type": "code",
   "execution_count": 59,
   "metadata": {},
   "outputs": [
    {
     "data": {
      "image/png": "[encoded data removed]",
      "text/plain": [
       "<Figure size 640x480 with 1 Axes>"
      ]
     },
     "metadata": {},
     "output_type": "display_data"
    }
   ],
   "source": [
    "Out_numpy = Out.view(-1).detach().numpy()/io_scale\n",
    "plt.plot(Out_numpy)\n",
    "plt.plot(d_min_random*np.ones(Out_numpy.shape))\n",
    "plt.show()"
   ]
  },
  {
   "cell_type": "markdown",
   "metadata": {},
   "source": [
    "# Calculating the gradients"
   ]
  },
  {
   "cell_type": "markdown",
   "metadata": {},
   "source": [
    "The output of this block shoud be dF/dy"
   ]
  },
  {
   "cell_type": "markdown",
   "metadata": {},
   "source": [
    "First calculate $\\frac{\\partial F}{\\partial d_{min}}$ (code in progress)"
   ]
  },
  {
   "cell_type": "code",
   "execution_count": 63,
   "metadata": {},
   "outputs": [
    {
     "name": "stderr",
     "output_type": "stream",
     "text": [
      "/var/folders/sh/ndxykdmj1q9cwr2kpvkvcbs80000gn/T/ipykernel_89473/1274708057.py:11: UserWarning: The .grad attribute of a Tensor that is not a leaf Tensor is being accessed. Its .grad attribute won't be populated during autograd.backward(). If you indeed want the .grad field to be populated for a non-leaf Tensor, use .retain_grad() on the non-leaf Tensor. If you access the non-leaf Tensor by mistake, make sure you access the leaf Tensor instead. See github.com/pytorch/pytorch/pull/30531 for more informations. (Triggered internally at /Users/runner/work/pytorch/pytorch/pytorch/build/aten/src/ATen/core/TensorBody.h:494.)\n",
      "  d_mins_torch.grad\n"
     ]
    }
   ],
   "source": [
    "# fix beta\n",
    "b = np.random.choice(b_arr)\n",
    "d_mins_torch = torch.tensor(d_mins, dtype=torch.float32, requires_grad=True).view(-1,1)\n",
    "const_bmin = -io_scale/b_arr[0] * np.log(len_Darray) * torch.ones(len(d_mins), dtype=torch.float32).view(-1,1)\n",
    "const_b = b * torch.ones(len(d_mins), dtype=torch.float32).view(-1,1)\n",
    "In = torch.concatenate((const_bmin, d_mins_torch, const_b), axis=1)\n",
    "Out = lse_net(In)\n",
    "# print(Out)\n",
    "Out[0].retain_grad()\n",
    "Out[0].backward()\n",
    "d_mins_torch.grad"
   ]
  },
  {
   "cell_type": "markdown",
   "metadata": {},
   "source": [
    "# Running CLF to determin Y"
   ]
  },
  {
   "cell_type": "markdown",
   "metadata": {},
   "source": [
    "The GD code here"
   ]
  },
  {
   "cell_type": "markdown",
   "metadata": {},
   "source": [
    "# Closing the Beta Loop for Annealing"
   ]
  },
  {
   "cell_type": "markdown",
   "metadata": {},
   "source": []
  }
 ],
 "metadata": {
  "kernelspec": {
   "display_name": "Python 3",
   "language": "python",
   "name": "python3"
  },
  "language_info": {
   "codemirror_mode": {
    "name": "ipython",
    "version": 3
   },
   "file_extension": ".py",
   "mimetype": "text/x-python",
   "name": "python",
   "nbconvert_exporter": "python",
   "pygments_lexer": "ipython3",
   "version": "3.9.6"
  }
 },
 "nbformat": 4,
 "nbformat_minor": 2
}
