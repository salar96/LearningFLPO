{
 "cells": [
  {
   "cell_type": "markdown",
   "metadata": {},
   "source": [
    "# Learning FLPO"
   ]
  },
  {
   "cell_type": "markdown",
   "metadata": {},
   "source": [
    "In this code, we will implement the hierarchical ML architecture to predict the parameters in the FLPO setup."
   ]
  },
  {
   "cell_type": "code",
   "execution_count": 170,
   "metadata": {},
   "outputs": [],
   "source": [
    "import torch\n",
    "from VRP_Net_L import VRPNet_L\n",
    "from matplotlib import pyplot as plt\n",
    "import utils\n",
    "import os\n",
    "import matplotlib.pyplot as plt\n",
    "from torchinfo import summary\n",
    "import numpy as np\n",
    "import time\n",
    "import LSE_net\n",
    "from torch import optim\n",
    "import importlib"
   ]
  },
  {
   "cell_type": "markdown",
   "metadata": {},
   "source": [
    "# Loading the Data"
   ]
  },
  {
   "cell_type": "code",
   "execution_count": 171,
   "metadata": {},
   "outputs": [
    {
     "data": {
      "text/plain": [
       "tensor([0.2691, 0.4869])"
      ]
     },
     "execution_count": 171,
     "metadata": {},
     "output_type": "execute_result"
    }
   ],
   "source": [
    "torch.normal(mean=torch.tensor([0.3,0.3]), std=torch.tensor([0.1,0.1]))"
   ]
  },
  {
   "cell_type": "code",
   "execution_count": 187,
   "metadata": {},
   "outputs": [
    {
     "name": "stdout",
     "output_type": "stream",
     "text": [
      "Running on:  cpu\n",
      "Data Loaded.\n"
     ]
    }
   ],
   "source": [
    "\n",
    "seed=41;\n",
    "torch.manual_seed(seed)\n",
    "torch.cuda.manual_seed(seed)\n",
    "torch.cuda.manual_seed_all(seed)\n",
    "device = torch.device('cuda') if torch.cuda.is_available() else torch.device('cpu')\n",
    "print(\"Running on: \" , device)\n",
    "num_drones = 10 # number of FLPO instances\n",
    "num_facilities = 3\n",
    "dim_ = 2\n",
    "# START and END locations: no grads needed\n",
    "nd_per_cluster = int(num_drones/2)\n",
    "means1 = torch.tensor([[0.4,0.7]]).repeat(nd_per_cluster,1).unsqueeze(1).to(device)\n",
    "std1 = torch.tensor([[0.05,0.05]]).repeat(nd_per_cluster,1).unsqueeze(1).to(device)\n",
    "means2 = torch.tensor([[0.7,0.3]]).repeat(nd_per_cluster,1).unsqueeze(1).to(device)\n",
    "std2 = torch.tensor([[0.05,0.05]]).repeat(nd_per_cluster,1).unsqueeze(1).to(device)\n",
    "START_locs1 = torch.normal(mean=means1, std=std1)\n",
    "START_locs2 = torch.normal(mean=means2, std=std2)\n",
    "START_locs = torch.cat((START_locs1, START_locs2), axis=0)\n",
    "END_locs   = torch.ones((num_drones, 1, dim_), requires_grad=False, device=device)#torch.rand(num_drones, 1, dim_, requires_grad=False, device=device)\n",
    "\n",
    "# Facility locations: we want grads here\n",
    "# We create a base tensor with requires_grad=True, then expand it\n",
    "# F_base = torch.rand(1, num_facilities, dim_, requires_grad=True, device=device)\n",
    "F_base = torch.mean(START_locs, dim=0).repeat(num_facilities, 1).unsqueeze(0).requires_grad_().to(device)\n",
    "F_locs = F_base.expand(num_drones, -1, -1)  # view, shares grad with F_base\n",
    "data = torch.cat((START_locs, F_locs, END_locs), dim=1)  # shape: (Nd, Nf+2, D)\n",
    "print(\"Data Loaded.\")\n"
   ]
  },
  {
   "cell_type": "markdown",
   "metadata": {},
   "source": [
    "### Compute n_routes from each drone"
   ]
  },
  {
   "cell_type": "code",
   "execution_count": 188,
   "metadata": {},
   "outputs": [
    {
     "name": "stdout",
     "output_type": "stream",
     "text": [
      "n_routes:\ttorch.Size([10, 1])\n",
      "tensor([[40.],\n",
      "        [40.],\n",
      "        [40.],\n",
      "        [40.],\n",
      "        [40.],\n",
      "        [40.],\n",
      "        [40.],\n",
      "        [40.],\n",
      "        [40.],\n",
      "        [40.]])\n",
      "log_n_routes:\ttorch.Size([10, 1])\n",
      "tensor([[3.6889],\n",
      "        [3.6889],\n",
      "        [3.6889],\n",
      "        [3.6889],\n",
      "        [3.6889],\n",
      "        [3.6889],\n",
      "        [3.6889],\n",
      "        [3.6889],\n",
      "        [3.6889],\n",
      "        [3.6889]])\n"
     ]
    }
   ],
   "source": [
    "importlib.reload(utils)\n",
    "n_drone_routes = torch.tensor(utils.num_flpo_routes(num_facilities, num_drones)[0], dtype=torch.float32).view(-1,1).to(device)\n",
    "print(f\"n_routes:\\t{n_drone_routes.shape}\\n{n_drone_routes}\\nlog_n_routes:\\t{n_drone_routes.shape}\\n{torch.log(n_drone_routes)}\")"
   ]
  },
  {
   "cell_type": "markdown",
   "metadata": {},
   "source": [
    "# Loading the VRP NET Module"
   ]
  },
  {
   "cell_type": "code",
   "execution_count": 189,
   "metadata": {},
   "outputs": [
    {
     "name": "stdout",
     "output_type": "stream",
     "text": [
      "VRP NET loaded on:  cpu\n",
      "===============================================================================================\n",
      "Layer (type:depth-idx)                                                 Param #\n",
      "===============================================================================================\n",
      "VRPNet_L                                                               --\n",
      "├─LinearAttnEncoder: 1-1                                               2,560\n",
      "│    └─MultiheadAttention: 2-1                                         197,376\n",
      "│    │    └─NonDynamicallyQuantizableLinear: 3-1                       65,792\n",
      "│    └─Linear: 2-2                                                     768\n",
      "│    └─Linear: 2-3                                                     8,224\n",
      "│    └─LayerNorm: 2-4                                                  512\n",
      "│    └─Dropout: 2-5                                                    --\n",
      "│    └─ReLU: 2-6                                                       --\n",
      "├─Decoder: 1-2                                                         --\n",
      "│    └─TransformerDecoder: 2-7                                         --\n",
      "│    │    └─ModuleList: 3-2                                            16,992\n",
      "├─PositionalEncoding: 1-3                                              --\n",
      "===============================================================================================\n",
      "Total params: 292,224\n",
      "Trainable params: 292,224\n",
      "Non-trainable params: 0\n",
      "===============================================================================================\n"
     ]
    }
   ],
   "source": [
    "hidden_dim = 32\n",
    "num_layers_enc = 1\n",
    "num_layers_dec = 1\n",
    "num_heads = 8\n",
    "torch.cuda.empty_cache()\n",
    "vrp_net = VRPNet_L(dim_, hidden_dim, device, num_layers_enc, num_layers_dec, num_heads)\n",
    "if torch.cuda.is_available():\n",
    "    vrp_net.load_state_dict(torch.load('Saved models/POMO2025_04_12 00_54_260.6350972652435303best_model.pth',weights_only=True))\n",
    "else:\n",
    "    vrp_net.load_state_dict(torch.load('Saved models/POMO2025_04_12 00_54_260.6350972652435303best_model.pth',weights_only=False, map_location=torch.device('cpu')))\n",
    "vrp_net.eval()\n",
    "\n",
    "# for param in vrp_net.parameters():\n",
    "#     param.requires_grad = False\n",
    "print('VRP NET loaded on: ',vrp_net.device)\n",
    "print(summary(vrp_net))"
   ]
  },
  {
   "cell_type": "markdown",
   "metadata": {},
   "source": [
    "# Loading lseNet"
   ]
  },
  {
   "cell_type": "code",
   "execution_count": 190,
   "metadata": {},
   "outputs": [
    {
     "name": "stdout",
     "output_type": "stream",
     "text": [
      "n_inputs: 3\n",
      "n_outputs: 1\n",
      "layers: [20, 20, 10]\n",
      "io_scale: 1\n",
      "LSE_net:\n",
      "=================================================================\n",
      "Layer (type:depth-idx)                   Param #\n",
      "=================================================================\n",
      "dnn                                      --\n",
      "├─ModuleList: 1-1                        --\n",
      "│    └─Linear: 2-1                       (80)\n",
      "│    └─ReLU: 2-2                         --\n",
      "│    └─Linear: 2-3                       (420)\n",
      "│    └─ReLU: 2-4                         --\n",
      "│    └─Linear: 2-5                       (210)\n",
      "│    └─ReLU: 2-6                         --\n",
      "│    └─Linear: 2-7                       (11)\n",
      "=================================================================\n",
      "Total params: 721\n",
      "Trainable params: 0\n",
      "Non-trainable params: 721\n",
      "=================================================================\n"
     ]
    }
   ],
   "source": [
    "importlib.reload(LSE_net)\n",
    "lse_data = torch.load('logSumExp_models/lse_2025_4_30__14_6_10.pth', weights_only=False)\n",
    "n_inputs = lse_data['n_inputs']\n",
    "n_outputs = lse_data['n_outputs']\n",
    "layers = lse_data['layers']\n",
    "weights = lse_data['model_state_dict']\n",
    "io_scale = lse_data['io_scale']\n",
    "lse_net = LSE_net.dnn(n_inputs, n_outputs, layers)\n",
    "lse_net.to(device)\n",
    "lse_net.load_state_dict(weights)\n",
    "lse_net.eval()\n",
    "for p in lse_net.parameters():\n",
    "    p.requires_grad = False\n",
    "print(f'n_inputs: {n_inputs}\\nn_outputs: {n_outputs}\\nlayers: {layers}\\nio_scale: {io_scale}\\nLSE_net:\\n{summary(lse_net)}')"
   ]
  },
  {
   "cell_type": "code",
   "execution_count": 191,
   "metadata": {},
   "outputs": [
    {
     "data": {
      "text/plain": [
       "torch.Size([2])"
      ]
     },
     "execution_count": 191,
     "metadata": {},
     "output_type": "execute_result"
    }
   ],
   "source": [
    "torch.tensor([10,10]).shape"
   ]
  },
  {
   "cell_type": "code",
   "execution_count": 192,
   "metadata": {},
   "outputs": [],
   "source": [
    "def logSumExp(D_tensor, beta):\n",
    "    # with torch.no_grad():\n",
    "    # print(D_tensor)\n",
    "    D_min = torch.min(D_tensor, axis=1, keepdims=True)\n",
    "    F = -1/beta * torch.log(torch.sum(torch.exp(-beta*(D_tensor - D_min.values)), axis=1, keepdims=True)) + 1/beta * torch.log(torch.tensor([D_tensor.shape[1]])) + D_min.values\n",
    "    return F\n",
    "\n",
    "def area_approx_F(D_min, D_max_range, beta, printCalculations=False):\n",
    "    min_beta_D_arr = beta * D_min\n",
    "    x_max = beta * D_max_range - min_beta_D_arr\n",
    "    F_est = -1/beta * torch.log(1/x_max * (1 - torch.exp(-x_max))) + D_min\n",
    "    \n",
    "    if printCalculations:\n",
    "        print(f'min_beta_D_arr:{min_beta_D_arr}')\n",
    "        print(f'x_max:{x_max}')\n",
    "        print(f'inside_log:{1/x_max * (1 - torch.exp(-x_max))}')\n",
    "        print(f'log:{torch.log(1/x_max * (1 - torch.exp(-x_max)))}')\n",
    "        print(f'-1/beta_log:\\n{-1/beta * torch.log(1/x_max * (1 - torch.exp(-x_max)))}')\n",
    "        \n",
    "    return F_est"
   ]
  },
  {
   "cell_type": "markdown",
   "metadata": {},
   "source": [
    "### Pick a random variable matrix with iid entries of shape shape (a,b) between [r1, r2] at uniform using pytorch"
   ]
  },
  {
   "cell_type": "code",
   "execution_count": 193,
   "metadata": {},
   "outputs": [],
   "source": [
    "# a = 3\n",
    "# b = 2\n",
    "# r1 = 0.5\n",
    "# r2 = 10.0\n",
    "# (r1 - r2) * torch.rand(a,b) + r2"
   ]
  },
  {
   "cell_type": "code",
   "execution_count": 194,
   "metadata": {},
   "outputs": [],
   "source": [
    "s = time.time()\n",
    "with torch.no_grad():\n",
    "    # forward pass: no activations are saved for grad\n",
    "    _, actions = vrp_net(data, mod='eval_greedy')\n",
    "e = time.time()\n",
    "actions.detach()\n",
    "d_mins = utils.route_cost(data, actions)\n"
   ]
  },
  {
   "cell_type": "markdown",
   "metadata": {},
   "source": [
    "#### The next 3 blocks show that, when we work with torch.float32 datatype, the Free energy approximation at $\\beta_{min}$ \\[using the function area_approx_F()\\] is poor when $\\beta_{min} \\leq 2e-4$. Therefore, for all d_mins $\\in [0,1],$ we should keep $\\beta_{min} > 1e-3.$"
   ]
  },
  {
   "cell_type": "code",
   "execution_count": 195,
   "metadata": {},
   "outputs": [
    {
     "name": "stdout",
     "output_type": "stream",
     "text": [
      "tensor([0.4993, 0.5213, 0.5593, 0.5157, 0.4953, 0.5049, 0.5148, 0.5085, 0.5586,\n",
      "        0.5004], grad_fn=<SumBackward1>)\n",
      "torch.float32\n"
     ]
    }
   ],
   "source": [
    "print(d_mins)\n",
    "print(d_mins.dtype)\n"
   ]
  },
  {
   "cell_type": "code",
   "execution_count": 196,
   "metadata": {},
   "outputs": [
    {
     "name": "stdout",
     "output_type": "stream",
     "text": [
      "tensor([0.4993, 0.5213, 0.5593, 0.5157, 0.4953, 0.5049, 0.5148, 0.5085, 0.5586,\n",
      "        0.5004], dtype=torch.float64, grad_fn=<ToCopyBackward0>)\n",
      "torch.float64\n"
     ]
    }
   ],
   "source": [
    "d_mins1 = d_mins.to(torch.float64)\n",
    "print(d_mins1)\n",
    "print(d_mins1.dtype)"
   ]
  },
  {
   "cell_type": "markdown",
   "metadata": {},
   "source": [
    "#### Theoretically, the estimate of Free Energy at $\\beta_{min}$ should be (almost) equal at $\\beta = 1e-3$ and $\\beta = 1e-4$. Below we observe that when the d_min data is in float32 precision, the values are not equal for the two $\\beta$ values."
   ]
  },
  {
   "cell_type": "code",
   "execution_count": 197,
   "metadata": {},
   "outputs": [
    {
     "name": "stdout",
     "output_type": "stream",
     "text": [
      "beta:0.001\n",
      "F_tensor1_float32:\n",
      "tensor([0.7121, 0.7535, 0.7530, 0.7538, 0.7494, 0.7767, 0.7122, 0.7573, 0.8290,\n",
      "        0.7816])\n",
      "\n",
      "beta:0.0001\n",
      "F_tensor2_float32:\n",
      "tensor([ 1.4375,  2.8419,  6.5543,  6.5901, -1.6896, -4.0002,  1.2587, -4.2790,\n",
      "        -4.8366,  2.1176])\n",
      "\n",
      "beta:0.001\n",
      "F_tensor1_float64:\n",
      "tensor([0.7496, 0.7606, 0.7796, 0.7578, 0.7476, 0.7524, 0.7574, 0.7542, 0.7793,\n",
      "        0.7502], dtype=torch.float64)\n",
      "\n",
      "beta:0.0001\n",
      "F_tensor2_float64:\n",
      "tensor([0.7496, 0.7606, 0.7796, 0.7579, 0.7476, 0.7525, 0.7574, 0.7542, 0.7793,\n",
      "        0.7502], dtype=torch.float64)\n"
     ]
    }
   ],
   "source": [
    "# discared method using uniform distribution on D's\n",
    "# with torch.no_grad():\n",
    "    # D_tensor = (d_mins1.view(-1,1) - 1.0) * torch.rand(num_drones, int(n_drone_routes[0,0])) + 1.0\n",
    "    # F_tensor = logSumExp(D_tensor, beta=1e-4)\n",
    "\n",
    "# current method\n",
    "with torch.no_grad():\n",
    "    F_tensor1_float32 = area_approx_F(d_mins, D_max_range=1.0, beta=1e-3, printCalculations=False)\n",
    "    print(f'beta:{1e-3}\\nF_tensor1_float32:\\n{F_tensor1_float32}\\n')\n",
    "    F_tensor2_float32 = area_approx_F(d_mins, D_max_range=1.0, beta=1e-4, printCalculations=False)\n",
    "    print(f'beta:{1e-4}\\nF_tensor2_float32:\\n{F_tensor2_float32}\\n')\n",
    "\n",
    "    F_tensor1_float64 = area_approx_F(d_mins1, D_max_range=1.0, beta=1e-3, printCalculations=False)\n",
    "    print(f'beta:{1e-3}\\nF_tensor1_float64:\\n{F_tensor1_float64}\\n')\n",
    "    F_tensor2_float64 = area_approx_F(d_mins1, D_max_range=1.0, beta=1e-4, printCalculations=False)\n",
    "    print(f'beta:{1e-4}\\nF_tensor2_float64:\\n{F_tensor2_float64}')\n"
   ]
  },
  {
   "cell_type": "code",
   "execution_count": 198,
   "metadata": {},
   "outputs": [
    {
     "data": {
      "image/png": "[encoded data removed]",
      "text/plain": [
       "<Figure size 1400x200 with 2 Axes>"
      ]
     },
     "metadata": {},
     "output_type": "display_data"
    }
   ],
   "source": [
    "# b_arr = torch.tensor(lse_data['b_arr'], dtype=torch.float32)\n",
    "# len_Darray = torch.tensor(lse_data['len_Darray'], dtype=torch.float32)\n",
    "io_scale = lse_data['io_scale']\n",
    "b_min = 0.001\n",
    "b_max = 100000\n",
    "b_grow = 1.5\n",
    "b_array = utils.createBetaArray(b_min, b_max, b_grow).to(device)\n",
    "drone_id = np.random.choice(range(num_drones))\n",
    "FreeEnergy = []\n",
    "log_betas = []\n",
    "betas = []\n",
    "\n",
    "s = time.time()\n",
    "with torch.no_grad():\n",
    "    # forward pass: no activations are saved for grad\n",
    "    _, actions = vrp_net(data, mod='eval_greedy')\n",
    "e = time.time()\n",
    "actions.detach()\n",
    "\n",
    "d_mins = utils.route_cost(data, actions)[drone_id:drone_id+1]\n",
    "Fmin_est = area_approx_F(d_mins, D_max_range=1.0, beta=b_min, printCalculations=False)\n",
    "beta=b_min\n",
    "\n",
    "for beta in b_array:\n",
    "\n",
    "    torch.cuda.empty_cache()\n",
    "    In = torch.tensor([\n",
    "        Fmin_est.to(device),\n",
    "        io_scale*d_mins,\n",
    "        torch.log(torch.tensor([beta]))/torch.log(torch.tensor([10.0])).to(device)\n",
    "    ])\n",
    "    log_betas.append(In[2].detach().numpy())\n",
    "    betas.append(10**In[2].detach().numpy())\n",
    "    Out = lse_net(In)/io_scale - 0*(1/beta * torch.log(n_drone_routes[drone_id,0])).to(device)\n",
    "    FreeEnergy.append(Out[0].detach().numpy())\n",
    "    \n",
    "\n",
    "plt.figure(figsize=(14,2))\n",
    "\n",
    "plt.subplot(1,2,1)\n",
    "plt.plot(log_betas, FreeEnergy - d_mins.detach().numpy(), marker='.', markersize=10)\n",
    "# plt.plot(log_betas, d_mins.detach().numpy() * np.ones(len(betas)), marker='.', markersize=5)\n",
    "plt.xlabel(rf'$\\log_{{10}}\\beta$')\n",
    "plt.ylabel(rf'$F(\\beta)$')\n",
    "plt.grid()\n",
    "\n",
    "plt.subplot(1,2,2)\n",
    "plt.plot(betas, FreeEnergy - d_mins.detach().numpy(), marker='.', markersize=10)\n",
    "# plt.plot(betas, d_mins.detach().numpy() * np.ones(len(betas)), marker='.', markersize=5)\n",
    "plt.xlabel(rf'$\\beta$')\n",
    "plt.ylabel(rf'$F(\\beta)$')\n",
    "plt.grid()\n",
    "plt.show()"
   ]
  },
  {
   "cell_type": "markdown",
   "metadata": {},
   "source": [
    "### Perform annealing. At each beta, the free energy is optimized by computing the gradients using backpropagation."
   ]
  },
  {
   "cell_type": "code",
   "execution_count": 199,
   "metadata": {},
   "outputs": [
    {
     "name": "stdout",
     "output_type": "stream",
     "text": [
      "beta:1.000e-03\n",
      "\tEpoch: 0\tVRP_runtime: 0.01s\tFreeEnergy: 0.76\tF_Grad: 4.980e-01\td_min_mean: 0.52\n",
      "\tEpoch: 10\tVRP_runtime: 0.00s\tFreeEnergy: 0.76\tF_Grad: 5.004e-01\td_min_mean: 0.49\n",
      "\tEpoch: 20\tVRP_runtime: 0.00s\tFreeEnergy: 0.74\tF_Grad: 4.102e-01\td_min_mean: 0.48\n",
      "\tEpoch: 30\tVRP_runtime: 0.00s\tFreeEnergy: 0.74\tF_Grad: 2.526e-01\td_min_mean: 0.48\n",
      "\tEpoch: 40\tVRP_runtime: 0.00s\tFreeEnergy: 0.73\tF_Grad: 2.294e-01\td_min_mean: 0.46\n",
      "\tEpoch: 50\tVRP_runtime: 0.00s\tFreeEnergy: 0.72\tF_Grad: 2.154e-01\td_min_mean: 0.45\n",
      "\tEpoch: 60\tVRP_runtime: 0.00s\tFreeEnergy: 0.72\tF_Grad: 2.016e-01\td_min_mean: 0.44\n",
      "\tEpoch: 70\tVRP_runtime: 0.00s\tFreeEnergy: 0.71\tF_Grad: 1.900e-01\td_min_mean: 0.42\n",
      "\tEpoch: 80\tVRP_runtime: 0.00s\tFreeEnergy: 0.70\tF_Grad: 2.289e-01\td_min_mean: 0.41\n",
      "\tEpoch: 90\tVRP_runtime: 0.00s\tFreeEnergy: 0.69\tF_Grad: 1.808e-01\td_min_mean: 0.39\n",
      "\tEpoch: 100\tVRP_runtime: 0.00s\tFreeEnergy: 0.69\tF_Grad: 1.464e-01\td_min_mean: 0.38\n",
      "\tEpoch: 110\tVRP_runtime: 0.00s\tFreeEnergy: 0.69\tF_Grad: 2.399e-01\td_min_mean: 0.37\n",
      "\tEpoch: 120\tVRP_runtime: 0.00s\tFreeEnergy: 0.68\tF_Grad: 3.695e-01\td_min_mean: 0.36\n",
      "\tEpoch: 130\tVRP_runtime: 0.00s\tFreeEnergy: 0.66\tF_Grad: 3.258e-01\td_min_mean: 0.34\n",
      "\tEpoch: 140\tVRP_runtime: 0.00s\tFreeEnergy: 0.66\tF_Grad: 3.937e-01\td_min_mean: 0.32\n",
      "\tEpoch: 150\tVRP_runtime: 0.00s\tFreeEnergy: 0.65\tF_Grad: 3.424e-01\td_min_mean: 0.30\n",
      "\tEpoch: 160\tVRP_runtime: 0.00s\tFreeEnergy: 0.64\tF_Grad: 3.071e-01\td_min_mean: 0.29\n",
      "\tEpoch: 170\tVRP_runtime: 0.00s\tFreeEnergy: 0.63\tF_Grad: 2.836e-01\td_min_mean: 0.28\n",
      "\tEpoch: 180\tVRP_runtime: 0.00s\tFreeEnergy: 0.63\tF_Grad: 2.582e-01\td_min_mean: 0.27\n",
      "\tEpoch: 190\tVRP_runtime: 0.01s\tFreeEnergy: 0.62\tF_Grad: 2.324e-01\td_min_mean: 0.26\n",
      "\tEpoch: 200\tVRP_runtime: 0.00s\tFreeEnergy: 0.61\tF_Grad: 2.060e-01\td_min_mean: 0.25\n",
      "\tEpoch: 210\tVRP_runtime: 0.00s\tFreeEnergy: 0.61\tF_Grad: 1.928e-01\td_min_mean: 0.25\n",
      "\tEpoch: 220\tVRP_runtime: 0.00s\tFreeEnergy: 0.63\tF_Grad: 1.936e-01\td_min_mean: 0.24\n",
      "\tEpoch: 230\tVRP_runtime: 0.00s\tFreeEnergy: 0.62\tF_Grad: 1.722e-01\td_min_mean: 0.24\n",
      "\tEpoch: 240\tVRP_runtime: 0.00s\tFreeEnergy: 0.61\tF_Grad: 1.563e-01\td_min_mean: 0.23\n",
      "\tEpoch: 250\tVRP_runtime: 0.00s\tFreeEnergy: 0.61\tF_Grad: 1.401e-01\td_min_mean: 0.23\n",
      "\tEpoch: 260\tVRP_runtime: 0.00s\tFreeEnergy: 0.61\tF_Grad: 1.318e-01\td_min_mean: 0.23\n",
      "\tEpoch: 270\tVRP_runtime: 0.00s\tFreeEnergy: 0.61\tF_Grad: 1.157e-01\td_min_mean: 0.22\n",
      "\tEpoch: 280\tVRP_runtime: 0.00s\tFreeEnergy: 0.61\tF_Grad: 1.115e-01\td_min_mean: 0.22\n",
      "\tEpoch: 290\tVRP_runtime: 0.00s\tFreeEnergy: 0.61\tF_Grad: 1.065e-01\td_min_mean: 0.22\n",
      "\tEpoch: 300\tVRP_runtime: 0.00s\tFreeEnergy: 0.61\tF_Grad: 9.389e-02\td_min_mean: 0.22\n",
      "\tEpoch: 310\tVRP_runtime: 0.00s\tFreeEnergy: 0.62\tF_Grad: 9.475e-02\td_min_mean: 0.22\n",
      "\tEpoch: 320\tVRP_runtime: 0.00s\tFreeEnergy: 0.62\tF_Grad: 8.458e-02\td_min_mean: 0.21\n",
      "\tEpoch: 330\tVRP_runtime: 0.00s\tFreeEnergy: 0.61\tF_Grad: 7.549e-02\td_min_mean: 0.21\n",
      "\tEpoch: 340\tVRP_runtime: 0.00s\tFreeEnergy: 0.61\tF_Grad: 7.138e-02\td_min_mean: 0.21\n",
      "\tEpoch: 350\tVRP_runtime: 0.00s\tFreeEnergy: 0.60\tF_Grad: 6.645e-02\td_min_mean: 0.21\n",
      "\tEpoch: 360\tVRP_runtime: 0.00s\tFreeEnergy: 0.60\tF_Grad: 6.052e-02\td_min_mean: 0.21\n",
      "\tEpoch: 370\tVRP_runtime: 0.00s\tFreeEnergy: 0.60\tF_Grad: 5.491e-02\td_min_mean: 0.21\n",
      "\tEpoch: 380\tVRP_runtime: 0.00s\tFreeEnergy: 0.60\tF_Grad: 5.232e-02\td_min_mean: 0.21\n",
      "\tEpoch: 390\tVRP_runtime: 0.00s\tFreeEnergy: 0.60\tF_Grad: 4.795e-02\td_min_mean: 0.21\n",
      "\tEpoch: 400\tVRP_runtime: 0.00s\tFreeEnergy: 0.60\tF_Grad: 4.592e-02\td_min_mean: 0.21\n",
      "\tEpoch: 410\tVRP_runtime: 0.00s\tFreeEnergy: 0.59\tF_Grad: 4.153e-02\td_min_mean: 0.21\n",
      "\tEpoch: 420\tVRP_runtime: 0.00s\tFreeEnergy: 0.62\tF_Grad: 4.219e-02\td_min_mean: 0.21\n",
      "\tEpoch: 430\tVRP_runtime: 0.00s\tFreeEnergy: 0.60\tF_Grad: 3.932e-02\td_min_mean: 0.20\n",
      "\tEpoch: 440\tVRP_runtime: 0.00s\tFreeEnergy: 0.59\tF_Grad: 3.783e-02\td_min_mean: 0.20\n",
      "\tEpoch: 450\tVRP_runtime: 0.00s\tFreeEnergy: 0.59\tF_Grad: 3.386e-02\td_min_mean: 0.20\n",
      "\tEpoch: 460\tVRP_runtime: 0.00s\tFreeEnergy: 0.60\tF_Grad: 3.287e-02\td_min_mean: 0.20\n",
      "\tEpoch: 470\tVRP_runtime: 0.00s\tFreeEnergy: 0.61\tF_Grad: 2.819e-02\td_min_mean: 0.20\n",
      "\tEpoch: 480\tVRP_runtime: 0.00s\tFreeEnergy: 0.61\tF_Grad: 2.756e-02\td_min_mean: 0.20\n",
      "\tEpoch: 490\tVRP_runtime: 0.01s\tFreeEnergy: 0.58\tF_Grad: 2.725e-02\td_min_mean: 0.20\n",
      "\tEpoch: 500\tVRP_runtime: 0.01s\tFreeEnergy: 0.59\tF_Grad: 2.242e-02\td_min_mean: 0.20\n",
      "\tEpoch: 510\tVRP_runtime: 0.01s\tFreeEnergy: 0.59\tF_Grad: 2.291e-02\td_min_mean: 0.20\n",
      "\tEpoch: 520\tVRP_runtime: 0.01s\tFreeEnergy: 0.58\tF_Grad: 2.198e-02\td_min_mean: 0.20\n",
      "\tEpoch: 530\tVRP_runtime: 0.01s\tFreeEnergy: 0.61\tF_Grad: 2.104e-02\td_min_mean: 0.20\n",
      "\tEpoch: 540\tVRP_runtime: 0.01s\tFreeEnergy: 0.60\tF_Grad: 3.269e-02\td_min_mean: 0.20\n",
      "\tEpoch: 550\tVRP_runtime: 0.01s\tFreeEnergy: 0.60\tF_Grad: 1.886e-02\td_min_mean: 0.20\n",
      "\tEpoch: 560\tVRP_runtime: 0.00s\tFreeEnergy: 0.58\tF_Grad: 1.444e-02\td_min_mean: 0.20\n",
      "\tEpoch: 570\tVRP_runtime: 0.00s\tFreeEnergy: 0.59\tF_Grad: 1.299e-02\td_min_mean: 0.20\n",
      "\tEpoch: 580\tVRP_runtime: 0.01s\tFreeEnergy: 0.60\tF_Grad: 2.050e-02\td_min_mean: 0.20\n",
      "\tEpoch: 590\tVRP_runtime: 0.01s\tFreeEnergy: 0.61\tF_Grad: 1.884e-02\td_min_mean: 0.20\n",
      "\tEpoch: 600\tVRP_runtime: 0.01s\tFreeEnergy: 0.59\tF_Grad: 1.124e-02\td_min_mean: 0.20\n",
      "\tEpoch: 610\tVRP_runtime: 0.01s\tFreeEnergy: 0.61\tF_Grad: 1.158e-02\td_min_mean: 0.20\n",
      "\tEpoch: 620\tVRP_runtime: 0.01s\tFreeEnergy: 0.60\tF_Grad: 1.071e-02\td_min_mean: 0.20\n",
      "\tEpoch: 630\tVRP_runtime: 0.01s\tFreeEnergy: 0.60\tF_Grad: 1.024e-02\td_min_mean: 0.20\n",
      "\tEpoch: 640\tVRP_runtime: 0.01s\tFreeEnergy: 0.60\tF_Grad: 1.425e-02\td_min_mean: 0.20\n",
      "\tEpoch: 650\tVRP_runtime: 0.01s\tFreeEnergy: 0.60\tF_Grad: 9.518e-03\td_min_mean: 0.20\n",
      "\tEpoch: 660\tVRP_runtime: 0.01s\tFreeEnergy: 0.60\tF_Grad: 8.867e-03\td_min_mean: 0.20\n",
      "\tEpoch: 670\tVRP_runtime: 0.01s\tFreeEnergy: 0.59\tF_Grad: 7.617e-03\td_min_mean: 0.20\n",
      "\tEpoch: 680\tVRP_runtime: 0.01s\tFreeEnergy: 0.60\tF_Grad: 5.877e-03\td_min_mean: 0.20\n",
      "\tEpoch: 690\tVRP_runtime: 0.01s\tFreeEnergy: 0.59\tF_Grad: 1.111e-02\td_min_mean: 0.20\n",
      "\tEpoch: 700\tVRP_runtime: 0.01s\tFreeEnergy: 0.61\tF_Grad: 1.213e-02\td_min_mean: 0.20\n",
      "\tEpoch: 710\tVRP_runtime: 0.01s\tFreeEnergy: 0.60\tF_Grad: 8.938e-03\td_min_mean: 0.20\n",
      "\tEpoch: 720\tVRP_runtime: 0.00s\tFreeEnergy: 0.60\tF_Grad: 8.412e-03\td_min_mean: 0.20\n",
      "\tEpoch: 730\tVRP_runtime: 0.00s\tFreeEnergy: 0.60\tF_Grad: 5.329e-03\td_min_mean: 0.20\n",
      "\tEpoch: 740\tVRP_runtime: 0.00s\tFreeEnergy: 0.59\tF_Grad: 1.002e-02\td_min_mean: 0.20\n",
      "\tEpoch: 750\tVRP_runtime: 0.00s\tFreeEnergy: 0.60\tF_Grad: 4.214e-03\td_min_mean: 0.20\n",
      "\tEpoch: 760\tVRP_runtime: 0.00s\tFreeEnergy: 0.61\tF_Grad: 4.024e-03\td_min_mean: 0.20\n",
      "\tEpoch: 770\tVRP_runtime: 0.01s\tFreeEnergy: 0.59\tF_Grad: 8.142e-03\td_min_mean: 0.20\n",
      "\tEpoch: 780\tVRP_runtime: 0.01s\tFreeEnergy: 0.60\tF_Grad: 4.431e-03\td_min_mean: 0.20\n",
      "\tEpoch: 790\tVRP_runtime: 0.01s\tFreeEnergy: 0.61\tF_Grad: 3.847e-03\td_min_mean: 0.20\n",
      "\tEpoch: 800\tVRP_runtime: 0.00s\tFreeEnergy: 0.59\tF_Grad: 3.426e-03\td_min_mean: 0.20\n",
      "\tEpoch: 810\tVRP_runtime: 0.01s\tFreeEnergy: 0.60\tF_Grad: 9.143e-03\td_min_mean: 0.20\n",
      "\tEpoch: 820\tVRP_runtime: 0.01s\tFreeEnergy: 0.60\tF_Grad: 1.123e-02\td_min_mean: 0.20\n",
      "\tEpoch: 830\tVRP_runtime: 0.01s\tFreeEnergy: 0.60\tF_Grad: 1.517e-02\td_min_mean: 0.20\n",
      "\tEpoch: 840\tVRP_runtime: 0.01s\tFreeEnergy: 0.60\tF_Grad: 1.661e-03\td_min_mean: 0.20\n",
      "\tEpoch: 850\tVRP_runtime: 0.00s\tFreeEnergy: 0.60\tF_Grad: 1.119e-02\td_min_mean: 0.20\n",
      "\tEpoch: 860\tVRP_runtime: 0.00s\tFreeEnergy: 0.60\tF_Grad: 5.267e-03\td_min_mean: 0.20\n",
      "\tEpoch: 870\tVRP_runtime: 0.00s\tFreeEnergy: 0.61\tF_Grad: 7.414e-03\td_min_mean: 0.20\n",
      "\tEpoch: 880\tVRP_runtime: 0.01s\tFreeEnergy: 0.60\tF_Grad: 7.433e-03\td_min_mean: 0.20\n",
      "\tEpoch: 890\tVRP_runtime: 0.01s\tFreeEnergy: 0.60\tF_Grad: 3.446e-03\td_min_mean: 0.20\n",
      "\tEpoch: 900\tVRP_runtime: 0.01s\tFreeEnergy: 0.61\tF_Grad: 8.532e-03\td_min_mean: 0.20\n",
      "\tEpoch: 910\tVRP_runtime: 0.01s\tFreeEnergy: 0.60\tF_Grad: 2.199e-03\td_min_mean: 0.20\n",
      "\tEpoch: 920\tVRP_runtime: 0.01s\tFreeEnergy: 0.58\tF_Grad: 1.779e-03\td_min_mean: 0.20\n",
      "\tEpoch: 930\tVRP_runtime: 0.00s\tFreeEnergy: 0.61\tF_Grad: 5.828e-03\td_min_mean: 0.20\n",
      "\tEpoch: 940\tVRP_runtime: 0.01s\tFreeEnergy: 0.60\tF_Grad: 3.056e-03\td_min_mean: 0.20\n",
      "\tEpoch: 950\tVRP_runtime: 0.01s\tFreeEnergy: 0.60\tF_Grad: 4.547e-03\td_min_mean: 0.20\n",
      "\tEpoch: 960\tVRP_runtime: 0.00s\tFreeEnergy: 0.60\tF_Grad: 3.142e-03\td_min_mean: 0.20\n",
      "\tEpoch: 970\tVRP_runtime: 0.01s\tFreeEnergy: 0.60\tF_Grad: 2.871e-03\td_min_mean: 0.20\n",
      "\tEpoch: 980\tVRP_runtime: 0.01s\tFreeEnergy: 0.59\tF_Grad: 6.735e-03\td_min_mean: 0.20\n",
      "\tEpoch: 990\tVRP_runtime: 0.01s\tFreeEnergy: 0.60\tF_Grad: 8.000e-03\td_min_mean: 0.20\n",
      "\tEpoch: 999\tVRP_runtime: 0.00s\tFreeEnergy: 0.60\tF_Grad: 1.072e-02\td_min_mean: 0.20\n"
     ]
    }
   ],
   "source": [
    "num_epochs = 1000;\n",
    "optimizer = optim.Adam([F_base], lr=1e-3)\n",
    "# b_arr = torch.tensor(lse_data['b_arr'], dtype=torch.float32)\n",
    "# len_Darray = torch.tensor(lse_data['len_Darray'], dtype=torch.float32)\n",
    "io_scale = lse_data['io_scale']\n",
    "b_min = 1e-3\n",
    "b_max = 1e-3\n",
    "b_grow = 2\n",
    "b_array = utils.createBetaArray(b_min, b_max, b_grow).to(device)\n",
    "torch.autograd.set_detect_anomaly(True)\n",
    "# beta=b_min\n",
    "for beta in b_array:\n",
    "    print(f\"beta:{beta:.3e}\")\n",
    "    for epoch in range(num_epochs):\n",
    "        s = time.time()\n",
    "        with torch.no_grad():\n",
    "            # forward pass: no activations are saved for grad\n",
    "            _, actions = vrp_net(data, mod='eval_greedy')\n",
    "        e = time.time()\n",
    "        actions.detach()\n",
    "        d_mins = utils.route_cost(data, actions)\n",
    "        Fmin_est_tensor = area_approx_F(d_mins, D_max_range=1.0, beta=b_min, printCalculations=False)\n",
    "\n",
    "        torch.cuda.empty_cache()\n",
    "\n",
    "        In = torch.cat((\n",
    "            Fmin_est_tensor.view(-1,1),\n",
    "            io_scale*d_mins.view(-1,1), \n",
    "            torch.ones((num_drones,1)).to(device)*torch.log(torch.tensor([beta]))/torch.log(torch.tensor([10.0])).to(device).to(device)), axis=1) #, torch.ones((num_drones,1)).to(device)*b_min.to(device)),axis=1)\n",
    "\n",
    "        Out = lse_net(In)/io_scale\n",
    "        FreeEnergy = torch.mean(Out)\n",
    "        \n",
    "        # print(torch.norm(data))\n",
    "        optimizer.zero_grad()\n",
    "        FreeEnergy.backward()\n",
    "        optimizer.step()\n",
    "        # perturb and update facility location data for each drone\n",
    "        std1 = torch.tensor([[0.05,0.05]]).repeat(nd_per_cluster,1).unsqueeze(1).to(device)\n",
    "        with torch.no_grad():\n",
    "            F_base += torch.normal(mean=torch.zeros(1,num_facilities,dim_), std=0.0001*torch.ones(1,num_facilities,dim_)).to(device)\n",
    "        # print(F_base)\n",
    "        F_locs = F_base.expand(num_drones, -1, -1)\n",
    "        # print(F_locs)\n",
    "        data = torch.cat((START_locs, F_locs, END_locs), dim=1)\n",
    "        if epoch % 10 == 0 or epoch == num_epochs-1:\n",
    "            print(f\"\\tEpoch: {epoch}\\tVRP_runtime: {e-s:.2f}s\\tFreeEnergy: {FreeEnergy:.2f}\\tF_Grad: {torch.max(torch.abs(F_base.grad)):.3e}\\td_min_mean: {torch.mean(d_mins):.2f}\")\n",
    "    # update annealing parameter\n",
    "    beta = beta * b_grow\n",
    "    \n"
   ]
  },
  {
   "cell_type": "markdown",
   "metadata": {},
   "source": [
    "# Plotting some results"
   ]
  },
  {
   "cell_type": "code",
   "execution_count": 200,
   "metadata": {},
   "outputs": [
    {
     "data": {
      "text/plain": [
       "<matplotlib.collections.PathCollection at 0x30b7a34c0>"
      ]
     },
     "execution_count": 200,
     "metadata": {},
     "output_type": "execute_result"
    },
    {
     "data": {
      "image/png": "[encoded data removed]",
      "text/plain": [
       "<Figure size 640x480 with 1 Axes>"
      ]
     },
     "metadata": {},
     "output_type": "display_data"
    }
   ],
   "source": [
    "start_locs = START_locs.squeeze(1).cpu().numpy()\n",
    "plt.scatter(start_locs[:,0],start_locs[:,1],color='cyan',marker='.')\n",
    "end_locs = END_locs.squeeze(1).cpu().numpy()\n",
    "plt.scatter(end_locs[:,0],end_locs[:,1],color='red',marker='.')\n",
    "f_locs = F_base.squeeze(0).detach().cpu().numpy()\n",
    "plt.scatter(f_locs[:,0],f_locs[:,1],color='black',marker='^')"
   ]
  }
 ],
 "metadata": {
  "kernelspec": {
   "display_name": "Python 3",
   "language": "python",
   "name": "python3"
  },
  "language_info": {
   "codemirror_mode": {
    "name": "ipython",
    "version": 3
   },
   "file_extension": ".py",
   "mimetype": "text/x-python",
   "name": "python",
   "nbconvert_exporter": "python",
   "pygments_lexer": "ipython3",
   "version": "3.9.6"
  }
 },
 "nbformat": 4,
 "nbformat_minor": 2
}
