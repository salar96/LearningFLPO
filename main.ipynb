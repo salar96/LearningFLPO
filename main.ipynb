{
 "cells": [
  {
   "cell_type": "code",
   "execution_count": 1,
   "metadata": {},
   "outputs": [],
   "source": [
    "import torch\n",
    "from VRP_Net_L import VRPNet_L\n",
    "from matplotlib import pyplot as plt\n",
    "import utils\n",
    "import matplotlib.pyplot as plt\n",
    "from torchinfo import summary\n",
    "import numpy as np\n",
    "import LSE_net\n",
    "import importlib\n",
    "from DatasetGenerator import generate_dataset, torchFLPO_2_numpyFLPO\n",
    "from viz import plot_UAV_FLPO, plot_UAV_FLPO_3D\n",
    "import Animator\n",
    "from pathlib import Path\n",
    "import GD\n",
    "import ModelPass as mp\n",
    "import inference\n",
    "from Anneal import anneal"
   ]
  },
  {
   "cell_type": "code",
   "execution_count": 2,
   "metadata": {},
   "outputs": [
    {
     "name": "stdout",
     "output_type": "stream",
     "text": [
      "Running on:  cpu\n"
     ]
    }
   ],
   "source": [
    "\n",
    "seed=0;\n",
    "torch.manual_seed(seed)\n",
    "torch.cuda.manual_seed(seed)\n",
    "torch.cuda.manual_seed_all(seed)\n",
    "device = torch.device('cuda') if torch.cuda.is_available() else torch.device('cpu')\n",
    "np.random.seed(seed)\n",
    "print(\"Running on: \" , device)\n"
   ]
  },
  {
   "cell_type": "markdown",
   "metadata": {},
   "source": [
    "### Initialize an FLPO scenario"
   ]
  },
  {
   "cell_type": "markdown",
   "metadata": {},
   "source": [
    "Run the below command if you encounter errors running the plotting block."
   ]
  },
  {
   "cell_type": "code",
   "execution_count": 3,
   "metadata": {},
   "outputs": [],
   "source": [
    "# !pip install nbformat --upgrade\n"
   ]
  },
  {
   "cell_type": "code",
   "execution_count": 4,
   "metadata": {},
   "outputs": [
    {
     "name": "stdout",
     "output_type": "stream",
     "text": [
      "num_drones = 100\tnum_facilities = 30\tdim = 2\n",
      "Data Created.\n"
     ]
    }
   ],
   "source": [
    "num_drones = 100\n",
    "n_drone_clusters = 10\n",
    "drone_cluster_split = np.random.uniform(0.0, 1.0, n_drone_clusters)\n",
    "drone_cluster_split = drone_cluster_split / np.sum(drone_cluster_split)\n",
    "num_facilities = 30\n",
    "num_distinct_ends = 4\n",
    "dim_ = 2\n",
    "print(f\"num_drones = {num_drones}\\tnum_facilities = {num_facilities}\\tdim = {dim_}\")\n",
    "\n",
    "START_locs, F_base, END_locs = generate_dataset(\n",
    "    num_drones, n_drone_clusters, drone_cluster_split, num_facilities, dim_, device, drone_cluster_std_range=[0.02, 0.05], F_noise_std=0.1,num_distinct_ends=num_distinct_ends\n",
    ")\n",
    "np_flpo_filename = 'numpy_FLPO_data/numpy_FLPO_data'\n",
    "torchFLPO_2_numpyFLPO(START_locs, END_locs, F_base, np_flpo_filename, scale=1.0)\n",
    "\n",
    "# plot_UAV_FLPO(START_locs, END_locs, F_base)\n",
    "# plot_UAV_FLPO_3D(START_locs, END_locs, F_base)"
   ]
  },
  {
   "cell_type": "markdown",
   "metadata": {},
   "source": [
    "### Load the VRP NET Module"
   ]
  },
  {
   "cell_type": "code",
   "execution_count": 5,
   "metadata": {},
   "outputs": [
    {
     "name": "stdout",
     "output_type": "stream",
     "text": [
      "Model created.\n",
      "VRP NET loaded on:  cpu\n",
      "===============================================================================================\n",
      "Layer (type:depth-idx)                                                 Param #\n",
      "===============================================================================================\n",
      "VRPNet_L                                                               --\n",
      "├─LinearAttnEncoder: 1-1                                               2,048\n",
      "│    └─ModuleList: 2-1                                                 --\n",
      "│    │    └─MultiheadAttention: 3-1                                    (66,048)\n",
      "│    │    └─MultiheadAttention: 3-2                                    (66,048)\n",
      "│    │    └─MultiheadAttention: 3-3                                    (66,048)\n",
      "│    │    └─MultiheadAttention: 3-4                                    (66,048)\n",
      "│    │    └─MultiheadAttention: 3-5                                    (66,048)\n",
      "│    │    └─MultiheadAttention: 3-6                                    (66,048)\n",
      "│    └─ModuleList: 2-2                                                 --\n",
      "│    │    └─MultiheadAttention: 3-7                                    (66,048)\n",
      "│    │    └─MultiheadAttention: 3-8                                    (66,048)\n",
      "│    │    └─MultiheadAttention: 3-9                                    (66,048)\n",
      "│    │    └─MultiheadAttention: 3-10                                   (66,048)\n",
      "│    │    └─MultiheadAttention: 3-11                                   (66,048)\n",
      "│    │    └─MultiheadAttention: 3-12                                   (66,048)\n",
      "│    └─Linear: 2-3                                                     (512)\n",
      "│    └─Linear: 2-4                                                     (8,256)\n",
      "│    └─LayerNorm: 2-5                                                  (256)\n",
      "│    └─Dropout: 2-6                                                    --\n",
      "│    └─ReLU: 2-7                                                       --\n",
      "├─Decoder: 1-2                                                         --\n",
      "│    └─PositionalEncoding: 2-8                                         --\n",
      "│    └─TransformerDecoder: 2-9                                         --\n",
      "│    │    └─ModuleList: 3-13                                           (200,256)\n",
      "===============================================================================================\n",
      "Total params: 1,003,904\n",
      "Trainable params: 0\n",
      "Non-trainable params: 1,003,904\n",
      "===============================================================================================\n"
     ]
    }
   ],
   "source": [
    "torch.cuda.empty_cache()\n",
    "model_classes = {\"VRPNet_L\": VRPNet_L}\n",
    "weights_address = (\n",
    "    Path(\"Saved_models\") /\n",
    "    \"VRPNet_L_lr1e-04_bs32_ep60000_samples1920000_cities50_inputdim2_\"\n",
    "    \"workers0_hidden64_enc1_dec1_heads8_dropout0.30_\"\n",
    "    \"train_PO_2025_05_17_22_43_32last_model.pth\"\n",
    ")\n",
    "vrp_net = utils.load_model(\n",
    "    weights_address, model_classes, weights_only=True, device=device\n",
    ")\n",
    "for param in vrp_net.parameters():\n",
    "    param.requires_grad = False\n",
    "print(\"VRP NET loaded on: \", vrp_net.device)\n",
    "print(summary(vrp_net))"
   ]
  },
  {
   "cell_type": "markdown",
   "metadata": {},
   "source": [
    "### Load the LSE net module"
   ]
  },
  {
   "cell_type": "code",
   "execution_count": 6,
   "metadata": {},
   "outputs": [
    {
     "name": "stdout",
     "output_type": "stream",
     "text": [
      "D_max_scale: 5.0\n",
      "n_inputs: 3\n",
      "n_outputs: 1\n",
      "layers: [20, 20, 10]\n",
      "io_scale: 1\n",
      "LSE_net:\n",
      "=================================================================\n",
      "Layer (type:depth-idx)                   Param #\n",
      "=================================================================\n",
      "dnn                                      --\n",
      "├─ModuleList: 1-1                        --\n",
      "│    └─Linear: 2-1                       (80)\n",
      "│    └─ReLU: 2-2                         --\n",
      "│    └─Linear: 2-3                       (420)\n",
      "│    └─ReLU: 2-4                         --\n",
      "│    └─Linear: 2-5                       (210)\n",
      "│    └─ReLU: 2-6                         --\n",
      "│    └─Linear: 2-7                       (11)\n",
      "=================================================================\n",
      "Total params: 721\n",
      "Trainable params: 0\n",
      "Non-trainable params: 721\n",
      "=================================================================\n"
     ]
    }
   ],
   "source": [
    "importlib.reload(LSE_net)\n",
    "lse_data = torch.load('logSumExp_models/lse_2025_5_19__15_47_58.pth', weights_only=False)\n",
    "n_inputs = lse_data['n_inputs']\n",
    "n_outputs = lse_data['n_outputs']\n",
    "layers = lse_data['layers']\n",
    "weights = lse_data['model_state_dict']\n",
    "io_scale = lse_data['io_scale']\n",
    "D_max_range = lse_data['D_max_range']\n",
    "lse_net = LSE_net.dnn(n_inputs, n_outputs, layers)\n",
    "lse_net.to(device)\n",
    "lse_net.load_state_dict(weights)\n",
    "lse_net.eval()\n",
    "for p in lse_net.parameters():\n",
    "    p.requires_grad = False\n",
    "print(f'D_max_scale: {D_max_range}\\nn_inputs: {n_inputs}\\nn_outputs: {n_outputs}\\nlayers: {layers}\\nio_scale: {io_scale}\\nLSE_net:\\n{summary(lse_net)}')"
   ]
  },
  {
   "cell_type": "markdown",
   "metadata": {},
   "source": [
    "### Optimization loop for a single beta\n",
    "Warning: Use $\\beta >= 1e-3$, as the free energy approximation is poor for $\\beta < 5e-4$ with torch.float32 datatype."
   ]
  },
  {
   "cell_type": "code",
   "execution_count": 7,
   "metadata": {},
   "outputs": [],
   "source": [
    "optim_iters = 200\n",
    "optim_step = 0.01\n",
    "b_min = 1e-3\n",
    "beta = 1e3\n",
    "tol = 1e-3\n",
    "\n",
    "# Y_arr, FreeEnergy, G = GD.Adam_at_beta(\n",
    "#     F_base, START_locs, END_locs, vrp_net, lse_net, optim_iters,\n",
    "#     optim_step, b_min, beta, D_max_range=D_max_range, tol=tol, allowPrint=True, return_list= True)\n",
    "\n",
    "# F_base, FreeEnergy, G = GD.GD_at_beta1(\n",
    "#     F_base, START_locs, END_locs, vrp_net, lse_net, optim_iters, \n",
    "#     optim_step, b_min, beta, D_max_range=D_max_range, tol=tol, allowPrint=True)\n",
    "\n",
    "# F_base, FreeEnergy, G = GD.GD_at_beta0(\n",
    "#     F_base, START_locs, END_locs, vrp_net, lse_net, optim_iters, \n",
    "#     optim_step, b_min, beta, D_max_range=D_max_range, tol=tol, allowPrint=True)\n",
    "\n",
    "# F_base, FreeEnergy, G = GD.sampling_GD_at_beta(\n",
    "#     F_base,\n",
    "#     START_locs,\n",
    "#     END_locs,\n",
    "#     vrp_net,\n",
    "#     n_path_samples=10,\n",
    "#     beta=1e3,\n",
    "#     stepsize=0.1,\n",
    "#     iters=100,\n",
    "#     tol=1e-3,\n",
    "#     allowPrint=True\n",
    "#     )"
   ]
  },
  {
   "cell_type": "code",
   "execution_count": 8,
   "metadata": {},
   "outputs": [
    {
     "data": {
      "image/png": "[encoded data removed]",
      "text/plain": [
       "<Figure size 400x300 with 1 Axes>"
      ]
     },
     "metadata": {},
     "output_type": "display_data"
    },
    {
     "data": {
      "application/vnd.plotly.v1+json": {
       "config": {
        "plotlyServerURL": "https://plot.ly"
       },
       "data": [
        {
         "mode": "text",
         "name": "Drone Start",
         "text": [
          "𖥂",
          "𖥂",
          "𖥂",
          "𖥂",
          "𖥂",
          "𖥂",
          "𖥂",
          "𖥂",
          "𖥂",
          "𖥂",
          "𖥂",
          "𖥂",
          "𖥂",
          "𖥂",
          "𖥂",
          "𖥂",
          "𖥂",
          "𖥂",
          "𖥂",
          "𖥂",
          "𖥂",
          "𖥂",
          "𖥂",
          "𖥂",
          "𖥂",
          "𖥂",
          "𖥂",
          "𖥂",
          "𖥂",
          "𖥂",
          "𖥂",
          "𖥂",
          "𖥂",
          "𖥂",
          "𖥂",
          "𖥂",
          "𖥂",
          "𖥂",
          "𖥂",
          "𖥂",
          "𖥂",
          "𖥂",
          "𖥂",
          "𖥂",
          "𖥂",
          "𖥂",
          "𖥂",
          "𖥂",
          "𖥂",
          "𖥂",
          "𖥂",
          "𖥂",
          "𖥂",
          "𖥂",
          "𖥂",
          "𖥂",
          "𖥂",
          "𖥂",
          "𖥂",
          "𖥂",
          "𖥂",
          "𖥂",
          "𖥂",
          "𖥂",
          "𖥂",
          "𖥂",
          "𖥂",
          "𖥂",
          "𖥂",
          "𖥂",
          "𖥂",
          "𖥂",
          "𖥂",
          "𖥂",
          "𖥂",
          "𖥂",
          "𖥂",
          "𖥂",
          "𖥂",
          "𖥂",
          "𖥂",
          "𖥂",
          "𖥂",
          "𖥂",
          "𖥂",
          "𖥂",
          "𖥂",
          "𖥂",
          "𖥂",
          "𖥂",
          "𖥂",
          "𖥂",
          "𖥂",
          "𖥂",
          "𖥂",
          "𖥂",
          "𖥂",
          "𖥂",
          "𖥂",
          "𖥂"
         ],
         "textfont": {
          "color": "cyan",
          "size": 16
         },
         "type": "scatter3d",
         "x": {
          "bdata": "F1QJP/fO9T4atwQ/IYoQPygPAT/kggo//VUKP9JXFz9oiAY/Vgs+P6eXNz9SVUE/ZSE0PzPYQj+HKyw/7Pg0P6PYKj/e6TQ/c8UvP0riNz+0uFw9hJnqPMlvEj0goyY9bjV3PMLdVj2ETh89HNTDPDNfWD0XLQ4/PF4TPwg1Fz9rFww/JzoWPwYFFD+yDA0/WhkSP1SCGz/5xBk/JsMZP3MnHT8BFBw/TIsVPzVIuz6sGiQ+NGubPgaeez5Dz5U+9PaPPvJDvj6024k+y3CVPsomnD7ZirU+PijCPqX6pj4OYpI+TuqwPvAetT6+i4o+KqyUPr+oqT4RYJw+ncmlPpJzoT7qGoY+FzuIPsvmjz6fbJw+zqZnPpS1lz6rI5M+XKKZPra3gT5wi6Y+a5eoPmBeqz6fJYs+TridPh32xj5OoL0+uKKnPpA2sj7IQNA+K/K9PpC6kT6V+a4+e+SpPjwGxz4izmI/sRdbP0uCXT/E0GE/35VnP1qhbD/udGM/uO9iPzFUZz/58GE/+upePw==",
          "dtype": "f4"
         },
         "y": {
          "bdata": "INJMPxuBWj9VzkI/6sxHP2L4Tj+huDo/44BTP1JMRT+rzD8/H+BAP8qeNj98YUM/mRdIP34iTD85GFo/ibRBP7UHOD/Ekzg/EjlKPwzYRj9DnGw/zE51P4r3fz/wR3c/NClhP3jfZT9Kdm0/yLR0P+Jcbz/YMRM/FIsYPzn8Fz+Csxo/aHwVP9ZNHz/AfSA/3V8fPycFSz9TZVA/yJlVP9bjVz+fRVU/+r9UP52UNj8HMCU/poseP7oiNT/y2jM/PEs4Pz9uMT/rJSY/07I1P68YJT8YG2o/6vNoP9U+eT/Cg28/Ugx2PySsbj9n53A/OxcfP7P5JD+JniQ/sbAkP8vBIj8ShyY/zq4iP5XyKT9cRyc/4+QoP0HpIT87xSw/j3AkP/64Iz9+BR8/H8EcPxI9IT+r/yg/dIYxP74JID/JwSE/YTQlP9n8Lz9v5y4/pr4hP5luMT+3iyo/DkoRP3mSGj8gqXw/xgCEP3r3ej/dnYM/2Fl/P1YvgD9NmoI/9Yt1P3nchz/y8YA/T5Z8Pw==",
          "dtype": "f4"
         },
         "z": {
          "bdata": "AAAAAAAA8D8AAAAAAADwPwAAAAAAAPA/AAAAAAAA8D8AAAAAAADwPwAAAAAAAPA/AAAAAAAA8D8AAAAAAADwPwAAAAAAAPA/AAAAAAAA8D8AAAAAAADwPwAAAAAAAPA/AAAAAAAA8D8AAAAAAADwPwAAAAAAAPA/AAAAAAAA8D8AAAAAAADwPwAAAAAAAPA/AAAAAAAA8D8AAAAAAADwPwAAAAAAAPA/AAAAAAAA8D8AAAAAAADwPwAAAAAAAPA/AAAAAAAA8D8AAAAAAADwPwAAAAAAAPA/AAAAAAAA8D8AAAAAAADwPwAAAAAAAPA/AAAAAAAA8D8AAAAAAADwPwAAAAAAAPA/AAAAAAAA8D8AAAAAAADwPwAAAAAAAPA/AAAAAAAA8D8AAAAAAADwPwAAAAAAAPA/AAAAAAAA8D8AAAAAAADwPwAAAAAAAPA/AAAAAAAA8D8AAAAAAADwPwAAAAAAAPA/AAAAAAAA8D8AAAAAAADwPwAAAAAAAPA/AAAAAAAA8D8AAAAAAADwPwAAAAAAAPA/AAAAAAAA8D8AAAAAAADwPwAAAAAAAPA/AAAAAAAA8D8AAAAAAADwPwAAAAAAAPA/AAAAAAAA8D8AAAAAAADwPwAAAAAAAPA/AAAAAAAA8D8AAAAAAADwPwAAAAAAAPA/AAAAAAAA8D8AAAAAAADwPwAAAAAAAPA/AAAAAAAA8D8AAAAAAADwPwAAAAAAAPA/AAAAAAAA8D8AAAAAAADwPwAAAAAAAPA/AAAAAAAA8D8AAAAAAADwPwAAAAAAAPA/AAAAAAAA8D8AAAAAAADwPwAAAAAAAPA/AAAAAAAA8D8AAAAAAADwPwAAAAAAAPA/AAAAAAAA8D8AAAAAAADwPwAAAAAAAPA/AAAAAAAA8D8AAAAAAADwPwAAAAAAAPA/AAAAAAAA8D8AAAAAAADwPwAAAAAAAPA/AAAAAAAA8D8AAAAAAADwPwAAAAAAAPA/AAAAAAAA8D8AAAAAAADwPwAAAAAAAPA/AAAAAAAA8D8AAAAAAADwPwAAAAAAAPA/AAAAAAAA8D8=",
          "dtype": "f8"
         }
        },
        {
         "mode": "text",
         "name": "Drone End",
         "text": [
          "📍",
          "📍",
          "📍",
          "📍",
          "📍",
          "📍",
          "📍",
          "📍",
          "📍",
          "📍",
          "📍",
          "📍",
          "📍",
          "📍",
          "📍",
          "📍",
          "📍",
          "📍",
          "📍",
          "📍",
          "📍",
          "📍",
          "📍",
          "📍",
          "📍",
          "📍",
          "📍",
          "📍",
          "📍",
          "📍",
          "📍",
          "📍",
          "📍",
          "📍",
          "📍",
          "📍",
          "📍",
          "📍",
          "📍",
          "📍",
          "📍",
          "📍",
          "📍",
          "📍",
          "📍",
          "📍",
          "📍",
          "📍",
          "📍",
          "📍",
          "📍",
          "📍",
          "📍",
          "📍",
          "📍",
          "📍",
          "📍",
          "📍",
          "📍",
          "📍",
          "📍",
          "📍",
          "📍",
          "📍",
          "📍",
          "📍",
          "📍",
          "📍",
          "📍",
          "📍",
          "📍",
          "📍",
          "📍",
          "📍",
          "📍",
          "📍",
          "📍",
          "📍",
          "📍",
          "📍",
          "📍",
          "📍",
          "📍",
          "📍",
          "📍",
          "📍",
          "📍",
          "📍",
          "📍",
          "📍",
          "📍",
          "📍",
          "📍",
          "📍",
          "📍",
          "📍",
          "📍",
          "📍",
          "📍",
          "📍"
         ],
         "textfont": {
          "color": "red",
          "size": 20
         },
         "type": "scatter3d",
         "x": {
          "bdata": "kqBbP5KgWz+SoFs/kqBbP5KgWz+SoFs/kqBbP5KgWz+SoFs/kqBbP5KgWz+SoFs/kqBbP5KgWz+SoFs/kqBbP5KgWz+SoFs/kqBbP5KgWz+SoFs/kqBbP5KgWz+SoFs/kqBbP93QcT/d0HE/3dBxP93QcT/d0HE/3dBxP93QcT/d0HE/3dBxP93QcT/d0HE/3dBxP93QcT/d0HE/3dBxP93QcT/d0HE/3dBxP93QcT/d0HE/3dBxP93QcT/d0HE/3dBxP93QcT/9UTg//VE4P/1ROD/9UTg//VE4P/1ROD/9UTg//VE4P/1ROD/9UTg//VE4P/1ROD/9UTg//VE4P/1ROD/9UTg//VE4P/1ROD/9UTg//VE4P/1ROD/9UTg//VE4P/1ROD/9UTg/RVgqP0VYKj9FWCo/RVgqP0VYKj9FWCo/RVgqP0VYKj9FWCo/RVgqP0VYKj9FWCo/RVgqP0VYKj9FWCo/RVgqP0VYKj9FWCo/RVgqP0VYKj9FWCo/RVgqP0VYKj9FWCo/RVgqPw==",
          "dtype": "f4"
         },
         "y": {
          "bdata": "EdViPxHVYj8R1WI/EdViPxHVYj8R1WI/EdViPxHVYj8R1WI/EdViPxHVYj8R1WI/EdViPxHVYj8R1WI/EdViPxHVYj8R1WI/EdViPxHVYj8R1WI/EdViPxHVYj8R1WI/EdViP6hyvj6ocr4+qHK+Pqhyvj6ocr4+qHK+Pqhyvj6ocr4+qHK+Pqhyvj6ocr4+qHK+Pqhyvj6ocr4+qHK+Pqhyvj6ocr4+qHK+Pqhyvj6ocr4+qHK+Pqhyvj6ocr4+qHK+Pqhyvj4CCnI/AgpyPwIKcj8CCnI/AgpyPwIKcj8CCnI/AgpyPwIKcj8CCnI/AgpyPwIKcj8CCnI/AgpyPwIKcj8CCnI/AgpyPwIKcj8CCnI/AgpyPwIKcj8CCnI/AgpyPwIKcj8CCnI/ZfV/P2X1fz9l9X8/ZfV/P2X1fz9l9X8/ZfV/P2X1fz9l9X8/ZfV/P2X1fz9l9X8/ZfV/P2X1fz9l9X8/ZfV/P2X1fz9l9X8/ZfV/P2X1fz9l9X8/ZfV/P2X1fz9l9X8/ZfV/Pw==",
          "dtype": "f4"
         },
         "z": {
          "bdata": "AAAAAAAAAAAAAAAAAAAAAAAAAAAAAAAAAAAAAAAAAAAAAAAAAAAAAAAAAAAAAAAAAAAAAAAAAAAAAAAAAAAAAAAAAAAAAAAAAAAAAAAAAAAAAAAAAAAAAAAAAAAAAAAAAAAAAAAAAAAAAAAAAAAAAAAAAAAAAAAAAAAAAAAAAAAAAAAAAAAAAAAAAAAAAAAAAAAAAAAAAAAAAAAAAAAAAAAAAAAAAAAAAAAAAAAAAAAAAAAAAAAAAAAAAAAAAAAAAAAAAAAAAAAAAAAAAAAAAAAAAAAAAAAAAAAAAAAAAAAAAAAAAAAAAAAAAAAAAAAAAAAAAAAAAAAAAAAAAAAAAAAAAAAAAAAAAAAAAAAAAAAAAAAAAAAAAAAAAAAAAAAAAAAAAAAAAAAAAAAAAAAAAAAAAAAAAAAAAAAAAAAAAAAAAAAAAAAAAAAAAAAAAAAAAAAAAAAAAAAAAAAAAAAAAAAAAAAAAAAAAAAAAAAAAAAAAAAAAAAAAAAAAAAAAAAAAAAAAAAAAAAAAAAAAAAAAAAAAAAAAAAAAAAAAAAAAAAAAAAAAAAAAAAAAAAAAAAAAAAAAAAAAAAAAAAAAAAAAAAAAAAAAAAAAAAAAAAAAAAAAAAAAAAAAAAAAAAAAAAAAAAAAAAAAAAAAAAAAAAAAAAAAAAAAAAAAAAAAAAAAAAAAAAAAAAAAAAAAAAAAAAAAAAAAAAAAAAAAAAAAAAAAAAAAAAAAAAAAAAAAAAAAAAAAAAAAAAAAAAAAAAAAAAAAAAAAAAAAAAAAAAAAAAAAAAAAAAAAAAAAAAAAAAAAAAAAAAAAAAAAAAAAAAAAAAAAAAAAAAAAAAAAAAAAAAAAAAAAAAAAAAAAAAAAAAAAAAAAAAAAAAAAAAAAAAAAAAAAAAAAAAAAAAAAAAAAAAAAAAAAAAAAAAAAAAAAAAAAAAAAAAAAAAAAAAAAAAAAAAAAAAAAAAAAAAAAAAAAAAAAAAAAAAAAAAAAAAAAAAAAAAAAAAAAAAAAAAAAAAAAAAAAAAAAAAAAAAAAAAAAAAAAAAAAAAAAAAAAAAAAAAAAAA=",
          "dtype": "f8"
         }
        },
        {
         "line": {
          "color": "gray",
          "width": 3
         },
         "mode": "lines",
         "showlegend": false,
         "type": "scatter3d",
         "x": [
          0.5073357820510864,
          0.5073357820510864
         ],
         "y": [
          0.6147305369377136,
          0.6147305369377136
         ],
         "z": [
          0,
          1
         ]
        },
        {
         "line": {
          "color": "gray",
          "width": 3
         },
         "mode": "lines",
         "showlegend": false,
         "type": "scatter3d",
         "x": [
          0.4840333163738251,
          0.4840333163738251
         ],
         "y": [
          0.8424753546714783,
          0.8424753546714783
         ],
         "z": [
          0,
          1
         ]
        },
        {
         "line": {
          "color": "gray",
          "width": 3
         },
         "mode": "lines",
         "showlegend": false,
         "type": "scatter3d",
         "x": [
          0.4825580418109894,
          0.4825580418109894
         ],
         "y": [
          0.6999889016151428,
          0.6999889016151428
         ],
         "z": [
          0,
          1
         ]
        },
        {
         "line": {
          "color": "gray",
          "width": 3
         },
         "mode": "lines",
         "showlegend": false,
         "type": "scatter3d",
         "x": [
          0.44846269488334656,
          0.44846269488334656
         ],
         "y": [
          0.9524012804031372,
          0.9524012804031372
         ],
         "z": [
          0,
          1
         ]
        },
        {
         "line": {
          "color": "gray",
          "width": 3
         },
         "mode": "lines",
         "showlegend": false,
         "type": "scatter3d",
         "x": [
          0.3828918933868408,
          0.3828918933868408
         ],
         "y": [
          0.8259080648422241,
          0.8259080648422241
         ],
         "z": [
          0,
          1
         ]
        },
        {
         "line": {
          "color": "gray",
          "width": 3
         },
         "mode": "lines",
         "showlegend": false,
         "type": "scatter3d",
         "x": [
          0.5765957832336426,
          0.5765957832336426
         ],
         "y": [
          0.7044153809547424,
          0.7044153809547424
         ],
         "z": [
          0,
          1
         ]
        },
        {
         "line": {
          "color": "gray",
          "width": 3
         },
         "mode": "lines",
         "showlegend": false,
         "type": "scatter3d",
         "x": [
          0.38926345109939575,
          0.38926345109939575
         ],
         "y": [
          0.7521801590919495,
          0.7521801590919495
         ],
         "z": [
          0,
          1
         ]
        },
        {
         "line": {
          "color": "gray",
          "width": 3
         },
         "mode": "lines",
         "showlegend": false,
         "type": "scatter3d",
         "x": [
          0.5020895600318909,
          0.5020895600318909
         ],
         "y": [
          0.7206568121910095,
          0.7206568121910095
         ],
         "z": [
          0,
          1
         ]
        },
        {
         "line": {
          "color": "gray",
          "width": 3
         },
         "mode": "lines",
         "showlegend": false,
         "type": "scatter3d",
         "x": [
          0.5917105674743652,
          0.5917105674743652
         ],
         "y": [
          0.7182361483573914,
          0.7182361483573914
         ],
         "z": [
          0,
          1
         ]
        },
        {
         "line": {
          "color": "gray",
          "width": 3
         },
         "mode": "lines",
         "showlegend": false,
         "type": "scatter3d",
         "x": [
          0.6207587718963623,
          0.6207587718963623
         ],
         "y": [
          0.6660740971565247,
          0.6660740971565247
         ],
         "z": [
          0,
          1
         ]
        },
        {
         "line": {
          "color": "gray",
          "width": 3
         },
         "mode": "lines",
         "showlegend": false,
         "type": "scatter3d",
         "x": [
          0.3952568471431732,
          0.3952568471431732
         ],
         "y": [
          0.6252161860466003,
          0.6252161860466003
         ],
         "z": [
          0,
          1
         ]
        },
        {
         "line": {
          "color": "gray",
          "width": 3
         },
         "mode": "lines",
         "showlegend": false,
         "type": "scatter3d",
         "x": [
          0.38617193698883057,
          0.38617193698883057
         ],
         "y": [
          0.8702132105827332,
          0.8702132105827332
         ],
         "z": [
          0,
          1
         ]
        },
        {
         "line": {
          "color": "gray",
          "width": 3
         },
         "mode": "lines",
         "showlegend": false,
         "type": "scatter3d",
         "x": [
          0.38151076436042786,
          0.38151076436042786
         ],
         "y": [
          0.7619118690490723,
          0.7619118690490723
         ],
         "z": [
          0,
          1
         ]
        },
        {
         "line": {
          "color": "gray",
          "width": 3
         },
         "mode": "lines",
         "showlegend": false,
         "type": "scatter3d",
         "x": [
          0.673286497592926,
          0.673286497592926
         ],
         "y": [
          0.9469864964485168,
          0.9469864964485168
         ],
         "z": [
          0,
          1
         ]
        },
        {
         "line": {
          "color": "gray",
          "width": 3
         },
         "mode": "lines",
         "showlegend": false,
         "type": "scatter3d",
         "x": [
          0.5186477303504944,
          0.5186477303504944
         ],
         "y": [
          0.8677631616592407,
          0.8677631616592407
         ],
         "z": [
          0,
          1
         ]
        },
        {
         "line": {
          "color": "gray",
          "width": 3
         },
         "mode": "lines",
         "showlegend": false,
         "type": "scatter3d",
         "x": [
          0.43213462829589844,
          0.43213462829589844
         ],
         "y": [
          0.7439852356910706,
          0.7439852356910706
         ],
         "z": [
          0,
          1
         ]
        },
        {
         "line": {
          "color": "gray",
          "width": 3
         },
         "mode": "lines",
         "showlegend": false,
         "type": "scatter3d",
         "x": [
          0.42486342787742615,
          0.42486342787742615
         ],
         "y": [
          0.7407792210578918,
          0.7407792210578918
         ],
         "z": [
          0,
          1
         ]
        },
        {
         "line": {
          "color": "gray",
          "width": 3
         },
         "mode": "lines",
         "showlegend": false,
         "type": "scatter3d",
         "x": [
          0.5276820063591003,
          0.5276820063591003
         ],
         "y": [
          0.704123854637146,
          0.704123854637146
         ],
         "z": [
          0,
          1
         ]
        },
        {
         "line": {
          "color": "gray",
          "width": 3
         },
         "mode": "lines",
         "showlegend": false,
         "type": "scatter3d",
         "x": [
          0.60043865442276,
          0.60043865442276
         ],
         "y": [
          0.7394374012947083,
          0.7394374012947083
         ],
         "z": [
          0,
          1
         ]
        },
        {
         "line": {
          "color": "gray",
          "width": 3
         },
         "mode": "lines",
         "showlegend": false,
         "type": "scatter3d",
         "x": [
          0.5041460990905762,
          0.5041460990905762
         ],
         "y": [
          0.7458896040916443,
          0.7458896040916443
         ],
         "z": [
          0,
          1
         ]
        },
        {
         "line": {
          "color": "gray",
          "width": 3
         },
         "mode": "lines",
         "showlegend": false,
         "type": "scatter3d",
         "x": [
          0.5718844532966614,
          0.5718844532966614
         ],
         "y": [
          0.7094837427139282,
          0.7094837427139282
         ],
         "z": [
          0,
          1
         ]
        },
        {
         "line": {
          "color": "gray",
          "width": 3
         },
         "mode": "lines",
         "showlegend": false,
         "type": "scatter3d",
         "x": [
          0.549258828163147,
          0.549258828163147
         ],
         "y": [
          0.6175342798233032,
          0.6175342798233032
         ],
         "z": [
          0,
          1
         ]
        },
        {
         "line": {
          "color": "gray",
          "width": 3
         },
         "mode": "lines",
         "showlegend": false,
         "type": "scatter3d",
         "x": [
          0.3328785300254822,
          0.3328785300254822
         ],
         "y": [
          0.7659007906913757,
          0.7659007906913757
         ],
         "z": [
          0,
          1
         ]
        },
        {
         "line": {
          "color": "gray",
          "width": 3
         },
         "mode": "lines",
         "showlegend": false,
         "type": "scatter3d",
         "x": [
          0.6330269575119019,
          0.6330269575119019
         ],
         "y": [
          0.6625041365623474,
          0.6625041365623474
         ],
         "z": [
          0,
          1
         ]
        },
        {
         "line": {
          "color": "gray",
          "width": 3
         },
         "mode": "lines",
         "showlegend": false,
         "type": "scatter3d",
         "x": [
          0.7930721044540405,
          0.7930721044540405
         ],
         "y": [
          0.7116023898124695,
          0.7116023898124695
         ],
         "z": [
          0,
          1
         ]
        },
        {
         "line": {
          "color": "gray",
          "width": 3
         },
         "mode": "lines",
         "showlegend": false,
         "type": "scatter3d",
         "x": [
          0.405240535736084,
          0.405240535736084
         ],
         "y": [
          0.9427857398986816,
          0.9427857398986816
         ],
         "z": [
          0,
          1
         ]
        },
        {
         "line": {
          "color": "gray",
          "width": 3
         },
         "mode": "lines",
         "showlegend": false,
         "type": "scatter3d",
         "x": [
          0.43234869837760925,
          0.43234869837760925
         ],
         "y": [
          0.7368279695510864,
          0.7368279695510864
         ],
         "z": [
          0,
          1
         ]
        },
        {
         "line": {
          "color": "gray",
          "width": 3
         },
         "mode": "lines",
         "showlegend": false,
         "type": "scatter3d",
         "x": [
          0.5821638107299805,
          0.5821638107299805
         ],
         "y": [
          0.9029956459999084,
          0.9029956459999084
         ],
         "z": [
          0,
          1
         ]
        },
        {
         "line": {
          "color": "gray",
          "width": 3
         },
         "mode": "lines",
         "showlegend": false,
         "type": "scatter3d",
         "x": [
          0.47218382358551025,
          0.47218382358551025
         ],
         "y": [
          0.925636887550354,
          0.925636887550354
         ],
         "z": [
          0,
          1
         ]
        },
        {
         "line": {
          "color": "gray",
          "width": 3
         },
         "mode": "lines",
         "showlegend": false,
         "type": "scatter3d",
         "x": [
          0.4145159423351288,
          0.4145159423351288
         ],
         "y": [
          0.9079777598381042,
          0.9079777598381042
         ],
         "z": [
          0,
          1
         ]
        },
        {
         "marker": {
          "color": "silver",
          "size": 5,
          "symbol": "square"
         },
         "mode": "markers",
         "name": "Facilities",
         "type": "scatter3d",
         "x": {
          "bdata": "wuABPzfT9z7ZEfc+55zlPmgKxD7ImxM/ik3HPvGIAD9Yehc/DOoePxtfyj5UuMU+YVXDPoFcLD8ZxgQ/wEDdPrOH2T4rFgc/WbYZP7gPAT8FZxI/OpwMPw5vqj4ODiI/xgZLP7B7zz7PXN0+sAgVPxTC8T5vO9Q+",
          "dtype": "f4"
         },
         "y": {
          "bdata": "+14dP3esVz95MjM/ktBzP7ZuUz+RVDQ/4Y5AP/d8OD9T3jc/1YMqPysOID9Lxl4/qAxDP7Vtcj+6JV4/0XU+P7WjPT92QTQ/xUs9P5/yPj+6oDU/uhYePxMSRD/fmSk/kys2P2hacT/CoDw/uSpnP4r2bD87cWg/",
          "dtype": "f4"
         },
         "z": {
          "bdata": "AAAAAAAA8D8AAAAAAADwPwAAAAAAAPA/AAAAAAAA8D8AAAAAAADwPwAAAAAAAPA/AAAAAAAA8D8AAAAAAADwPwAAAAAAAPA/AAAAAAAA8D8AAAAAAADwPwAAAAAAAPA/AAAAAAAA8D8AAAAAAADwPwAAAAAAAPA/AAAAAAAA8D8AAAAAAADwPwAAAAAAAPA/AAAAAAAA8D8AAAAAAADwPwAAAAAAAPA/AAAAAAAA8D8AAAAAAADwPwAAAAAAAPA/AAAAAAAA8D8AAAAAAADwPwAAAAAAAPA/AAAAAAAA8D8AAAAAAADwPwAAAAAAAPA/",
          "dtype": "f8"
         }
        }
       ],
       "layout": {
        "legend": {
         "bgcolor": "rgba(0,0,0,0.4)",
         "bordercolor": "white"
        },
        "margin": {
         "b": 0,
         "l": 0,
         "r": 0,
         "t": 30
        },
        "scene": {
         "aspectmode": "data",
         "camera": {
          "eye": {
           "x": 1.5,
           "y": 1.5,
           "z": 0.7
          }
         },
         "xaxis": {
          "backgroundcolor": "rgb(10,10,20)",
          "gridcolor": "gray",
          "title": {
           "text": "X"
          },
          "zerolinecolor": "gray"
         },
         "yaxis": {
          "backgroundcolor": "rgb(10,10,20)",
          "gridcolor": "gray",
          "title": {
           "text": "Y"
          },
          "zerolinecolor": "gray"
         },
         "zaxis": {
          "backgroundcolor": "rgb(10,10,20)",
          "gridcolor": "gray",
          "title": {
           "text": "Z"
          },
          "zerolinecolor": "gray"
         }
        },
        "template": {
         "data": {
          "bar": [
           {
            "error_x": {
             "color": "#f2f5fa"
            },
            "error_y": {
             "color": "#f2f5fa"
            },
            "marker": {
             "line": {
              "color": "rgb(17,17,17)",
              "width": 0.5
             },
             "pattern": {
              "fillmode": "overlay",
              "size": 10,
              "solidity": 0.2
             }
            },
            "type": "bar"
           }
          ],
          "barpolar": [
           {
            "marker": {
             "line": {
              "color": "rgb(17,17,17)",
              "width": 0.5
             },
             "pattern": {
              "fillmode": "overlay",
              "size": 10,
              "solidity": 0.2
             }
            },
            "type": "barpolar"
           }
          ],
          "carpet": [
           {
            "aaxis": {
             "endlinecolor": "#A2B1C6",
             "gridcolor": "#506784",
             "linecolor": "#506784",
             "minorgridcolor": "#506784",
             "startlinecolor": "#A2B1C6"
            },
            "baxis": {
             "endlinecolor": "#A2B1C6",
             "gridcolor": "#506784",
             "linecolor": "#506784",
             "minorgridcolor": "#506784",
             "startlinecolor": "#A2B1C6"
            },
            "type": "carpet"
           }
          ],
          "choropleth": [
           {
            "colorbar": {
             "outlinewidth": 0,
             "ticks": ""
            },
            "type": "choropleth"
           }
          ],
          "contour": [
           {
            "colorbar": {
             "outlinewidth": 0,
             "ticks": ""
            },
            "colorscale": [
             [
              0,
              "#0d0887"
             ],
             [
              0.1111111111111111,
              "#46039f"
             ],
             [
              0.2222222222222222,
              "#7201a8"
             ],
             [
              0.3333333333333333,
              "#9c179e"
             ],
             [
              0.4444444444444444,
              "#bd3786"
             ],
             [
              0.5555555555555556,
              "#d8576b"
             ],
             [
              0.6666666666666666,
              "#ed7953"
             ],
             [
              0.7777777777777778,
              "#fb9f3a"
             ],
             [
              0.8888888888888888,
              "#fdca26"
             ],
             [
              1,
              "#f0f921"
             ]
            ],
            "type": "contour"
           }
          ],
          "contourcarpet": [
           {
            "colorbar": {
             "outlinewidth": 0,
             "ticks": ""
            },
            "type": "contourcarpet"
           }
          ],
          "heatmap": [
           {
            "colorbar": {
             "outlinewidth": 0,
             "ticks": ""
            },
            "colorscale": [
             [
              0,
              "#0d0887"
             ],
             [
              0.1111111111111111,
              "#46039f"
             ],
             [
              0.2222222222222222,
              "#7201a8"
             ],
             [
              0.3333333333333333,
              "#9c179e"
             ],
             [
              0.4444444444444444,
              "#bd3786"
             ],
             [
              0.5555555555555556,
              "#d8576b"
             ],
             [
              0.6666666666666666,
              "#ed7953"
             ],
             [
              0.7777777777777778,
              "#fb9f3a"
             ],
             [
              0.8888888888888888,
              "#fdca26"
             ],
             [
              1,
              "#f0f921"
             ]
            ],
            "type": "heatmap"
           }
          ],
          "histogram": [
           {
            "marker": {
             "pattern": {
              "fillmode": "overlay",
              "size": 10,
              "solidity": 0.2
             }
            },
            "type": "histogram"
           }
          ],
          "histogram2d": [
           {
            "colorbar": {
             "outlinewidth": 0,
             "ticks": ""
            },
            "colorscale": [
             [
              0,
              "#0d0887"
             ],
             [
              0.1111111111111111,
              "#46039f"
             ],
             [
              0.2222222222222222,
              "#7201a8"
             ],
             [
              0.3333333333333333,
              "#9c179e"
             ],
             [
              0.4444444444444444,
              "#bd3786"
             ],
             [
              0.5555555555555556,
              "#d8576b"
             ],
             [
              0.6666666666666666,
              "#ed7953"
             ],
             [
              0.7777777777777778,
              "#fb9f3a"
             ],
             [
              0.8888888888888888,
              "#fdca26"
             ],
             [
              1,
              "#f0f921"
             ]
            ],
            "type": "histogram2d"
           }
          ],
          "histogram2dcontour": [
           {
            "colorbar": {
             "outlinewidth": 0,
             "ticks": ""
            },
            "colorscale": [
             [
              0,
              "#0d0887"
             ],
             [
              0.1111111111111111,
              "#46039f"
             ],
             [
              0.2222222222222222,
              "#7201a8"
             ],
             [
              0.3333333333333333,
              "#9c179e"
             ],
             [
              0.4444444444444444,
              "#bd3786"
             ],
             [
              0.5555555555555556,
              "#d8576b"
             ],
             [
              0.6666666666666666,
              "#ed7953"
             ],
             [
              0.7777777777777778,
              "#fb9f3a"
             ],
             [
              0.8888888888888888,
              "#fdca26"
             ],
             [
              1,
              "#f0f921"
             ]
            ],
            "type": "histogram2dcontour"
           }
          ],
          "mesh3d": [
           {
            "colorbar": {
             "outlinewidth": 0,
             "ticks": ""
            },
            "type": "mesh3d"
           }
          ],
          "parcoords": [
           {
            "line": {
             "colorbar": {
              "outlinewidth": 0,
              "ticks": ""
             }
            },
            "type": "parcoords"
           }
          ],
          "pie": [
           {
            "automargin": true,
            "type": "pie"
           }
          ],
          "scatter": [
           {
            "marker": {
             "line": {
              "color": "#283442"
             }
            },
            "type": "scatter"
           }
          ],
          "scatter3d": [
           {
            "line": {
             "colorbar": {
              "outlinewidth": 0,
              "ticks": ""
             }
            },
            "marker": {
             "colorbar": {
              "outlinewidth": 0,
              "ticks": ""
             }
            },
            "type": "scatter3d"
           }
          ],
          "scattercarpet": [
           {
            "marker": {
             "colorbar": {
              "outlinewidth": 0,
              "ticks": ""
             }
            },
            "type": "scattercarpet"
           }
          ],
          "scattergeo": [
           {
            "marker": {
             "colorbar": {
              "outlinewidth": 0,
              "ticks": ""
             }
            },
            "type": "scattergeo"
           }
          ],
          "scattergl": [
           {
            "marker": {
             "line": {
              "color": "#283442"
             }
            },
            "type": "scattergl"
           }
          ],
          "scattermap": [
           {
            "marker": {
             "colorbar": {
              "outlinewidth": 0,
              "ticks": ""
             }
            },
            "type": "scattermap"
           }
          ],
          "scattermapbox": [
           {
            "marker": {
             "colorbar": {
              "outlinewidth": 0,
              "ticks": ""
             }
            },
            "type": "scattermapbox"
           }
          ],
          "scatterpolar": [
           {
            "marker": {
             "colorbar": {
              "outlinewidth": 0,
              "ticks": ""
             }
            },
            "type": "scatterpolar"
           }
          ],
          "scatterpolargl": [
           {
            "marker": {
             "colorbar": {
              "outlinewidth": 0,
              "ticks": ""
             }
            },
            "type": "scatterpolargl"
           }
          ],
          "scatterternary": [
           {
            "marker": {
             "colorbar": {
              "outlinewidth": 0,
              "ticks": ""
             }
            },
            "type": "scatterternary"
           }
          ],
          "surface": [
           {
            "colorbar": {
             "outlinewidth": 0,
             "ticks": ""
            },
            "colorscale": [
             [
              0,
              "#0d0887"
             ],
             [
              0.1111111111111111,
              "#46039f"
             ],
             [
              0.2222222222222222,
              "#7201a8"
             ],
             [
              0.3333333333333333,
              "#9c179e"
             ],
             [
              0.4444444444444444,
              "#bd3786"
             ],
             [
              0.5555555555555556,
              "#d8576b"
             ],
             [
              0.6666666666666666,
              "#ed7953"
             ],
             [
              0.7777777777777778,
              "#fb9f3a"
             ],
             [
              0.8888888888888888,
              "#fdca26"
             ],
             [
              1,
              "#f0f921"
             ]
            ],
            "type": "surface"
           }
          ],
          "table": [
           {
            "cells": {
             "fill": {
              "color": "#506784"
             },
             "line": {
              "color": "rgb(17,17,17)"
             }
            },
            "header": {
             "fill": {
              "color": "#2a3f5f"
             },
             "line": {
              "color": "rgb(17,17,17)"
             }
            },
            "type": "table"
           }
          ]
         },
         "layout": {
          "annotationdefaults": {
           "arrowcolor": "#f2f5fa",
           "arrowhead": 0,
           "arrowwidth": 1
          },
          "autotypenumbers": "strict",
          "coloraxis": {
           "colorbar": {
            "outlinewidth": 0,
            "ticks": ""
           }
          },
          "colorscale": {
           "diverging": [
            [
             0,
             "#8e0152"
            ],
            [
             0.1,
             "#c51b7d"
            ],
            [
             0.2,
             "#de77ae"
            ],
            [
             0.3,
             "#f1b6da"
            ],
            [
             0.4,
             "#fde0ef"
            ],
            [
             0.5,
             "#f7f7f7"
            ],
            [
             0.6,
             "#e6f5d0"
            ],
            [
             0.7,
             "#b8e186"
            ],
            [
             0.8,
             "#7fbc41"
            ],
            [
             0.9,
             "#4d9221"
            ],
            [
             1,
             "#276419"
            ]
           ],
           "sequential": [
            [
             0,
             "#0d0887"
            ],
            [
             0.1111111111111111,
             "#46039f"
            ],
            [
             0.2222222222222222,
             "#7201a8"
            ],
            [
             0.3333333333333333,
             "#9c179e"
            ],
            [
             0.4444444444444444,
             "#bd3786"
            ],
            [
             0.5555555555555556,
             "#d8576b"
            ],
            [
             0.6666666666666666,
             "#ed7953"
            ],
            [
             0.7777777777777778,
             "#fb9f3a"
            ],
            [
             0.8888888888888888,
             "#fdca26"
            ],
            [
             1,
             "#f0f921"
            ]
           ],
           "sequentialminus": [
            [
             0,
             "#0d0887"
            ],
            [
             0.1111111111111111,
             "#46039f"
            ],
            [
             0.2222222222222222,
             "#7201a8"
            ],
            [
             0.3333333333333333,
             "#9c179e"
            ],
            [
             0.4444444444444444,
             "#bd3786"
            ],
            [
             0.5555555555555556,
             "#d8576b"
            ],
            [
             0.6666666666666666,
             "#ed7953"
            ],
            [
             0.7777777777777778,
             "#fb9f3a"
            ],
            [
             0.8888888888888888,
             "#fdca26"
            ],
            [
             1,
             "#f0f921"
            ]
           ]
          },
          "colorway": [
           "#636efa",
           "#EF553B",
           "#00cc96",
           "#ab63fa",
           "#FFA15A",
           "#19d3f3",
           "#FF6692",
           "#B6E880",
           "#FF97FF",
           "#FECB52"
          ],
          "font": {
           "color": "#f2f5fa"
          },
          "geo": {
           "bgcolor": "rgb(17,17,17)",
           "lakecolor": "rgb(17,17,17)",
           "landcolor": "rgb(17,17,17)",
           "showlakes": true,
           "showland": true,
           "subunitcolor": "#506784"
          },
          "hoverlabel": {
           "align": "left"
          },
          "hovermode": "closest",
          "mapbox": {
           "style": "dark"
          },
          "paper_bgcolor": "rgb(17,17,17)",
          "plot_bgcolor": "rgb(17,17,17)",
          "polar": {
           "angularaxis": {
            "gridcolor": "#506784",
            "linecolor": "#506784",
            "ticks": ""
           },
           "bgcolor": "rgb(17,17,17)",
           "radialaxis": {
            "gridcolor": "#506784",
            "linecolor": "#506784",
            "ticks": ""
           }
          },
          "scene": {
           "xaxis": {
            "backgroundcolor": "rgb(17,17,17)",
            "gridcolor": "#506784",
            "gridwidth": 2,
            "linecolor": "#506784",
            "showbackground": true,
            "ticks": "",
            "zerolinecolor": "#C8D4E3"
           },
           "yaxis": {
            "backgroundcolor": "rgb(17,17,17)",
            "gridcolor": "#506784",
            "gridwidth": 2,
            "linecolor": "#506784",
            "showbackground": true,
            "ticks": "",
            "zerolinecolor": "#C8D4E3"
           },
           "zaxis": {
            "backgroundcolor": "rgb(17,17,17)",
            "gridcolor": "#506784",
            "gridwidth": 2,
            "linecolor": "#506784",
            "showbackground": true,
            "ticks": "",
            "zerolinecolor": "#C8D4E3"
           }
          },
          "shapedefaults": {
           "line": {
            "color": "#f2f5fa"
           }
          },
          "sliderdefaults": {
           "bgcolor": "#C8D4E3",
           "bordercolor": "rgb(17,17,17)",
           "borderwidth": 1,
           "tickwidth": 0
          },
          "ternary": {
           "aaxis": {
            "gridcolor": "#506784",
            "linecolor": "#506784",
            "ticks": ""
           },
           "baxis": {
            "gridcolor": "#506784",
            "linecolor": "#506784",
            "ticks": ""
           },
           "bgcolor": "rgb(17,17,17)",
           "caxis": {
            "gridcolor": "#506784",
            "linecolor": "#506784",
            "ticks": ""
           }
          },
          "title": {
           "x": 0.05
          },
          "updatemenudefaults": {
           "bgcolor": "#506784",
           "borderwidth": 0
          },
          "xaxis": {
           "automargin": true,
           "gridcolor": "#283442",
           "linecolor": "#506784",
           "ticks": "",
           "title": {
            "standoff": 15
           },
           "zerolinecolor": "#283442",
           "zerolinewidth": 2
          },
          "yaxis": {
           "automargin": true,
           "gridcolor": "#283442",
           "linecolor": "#506784",
           "ticks": "",
           "title": {
            "standoff": 15
           },
           "zerolinecolor": "#283442",
           "zerolinewidth": 2
          }
         }
        },
        "title": {
         "font": {
          "size": 20
         },
         "text": "UAV Spatial Deployment",
         "x": 0.5
        }
       }
      }
     },
     "metadata": {},
     "output_type": "display_data"
    }
   ],
   "source": [
    "plot_UAV_FLPO(START_locs, END_locs, F_base, (4,3))\n",
    "plot_UAV_FLPO_3D(START_locs, END_locs, F_base)\n"
   ]
  },
  {
   "cell_type": "markdown",
   "metadata": {},
   "source": [
    "### Annealing loop implementation\n",
    "Warning: Use $\\beta >= 1e-3$, as the free energy approximation is poor for $\\beta < 5e-4$ with torch.float32 datatype."
   ]
  },
  {
   "cell_type": "code",
   "execution_count": 9,
   "metadata": {},
   "outputs": [
    {
     "name": "stdout",
     "output_type": "stream",
     "text": [
      "n_drones:100\tnum_facilities:30\tdim_:2\n",
      "beta: 1.0000e-03\tFreeE: -2397.5264\tGrad: 5.0915e-02\n",
      "n_drones:100\tnum_facilities:30\tdim_:2\n",
      "beta: 3.0000e-03\tFreeE: -798.9246\tGrad: 4.1902e-02\n",
      "n_drones:100\tnum_facilities:30\tdim_:2\n",
      "beta: 9.0000e-03\tFreeE: -266.0646\tGrad: 3.6255e-02\n",
      "n_drones:100\tnum_facilities:30\tdim_:2\n",
      "beta: 2.7000e-02\tFreeE: -88.4557\tGrad: 3.3722e-02\n",
      "n_drones:100\tnum_facilities:30\tdim_:2\n",
      "beta: 8.1000e-02\tFreeE: -29.2444\tGrad: 4.1000e-02\n",
      "n_drones:100\tnum_facilities:30\tdim_:2\n",
      "beta: 2.4300e-01\tFreeE: -9.5128\tGrad: 3.6892e-02\n",
      "n_drones:100\tnum_facilities:30\tdim_:2\n",
      "beta: 7.2900e-01\tFreeE: -2.9413\tGrad: 3.6761e-02\n",
      "n_drones:100\tnum_facilities:30\tdim_:2\n",
      "beta: 2.1870e+00\tFreeE: -0.7784\tGrad: 3.9225e-02\n",
      "n_drones:100\tnum_facilities:30\tdim_:2\n",
      "beta: 6.5610e+00\tFreeE: -0.0879\tGrad: 3.4106e-02\n",
      "n_drones:100\tnum_facilities:30\tdim_:2\n",
      "beta: 1.9683e+01\tFreeE: 0.1162\tGrad: 3.5581e-02\n",
      "n_drones:100\tnum_facilities:30\tdim_:2\n",
      "beta: 5.9049e+01\tFreeE: 0.0545\tGrad: 4.9396e-02\n",
      "n_drones:100\tnum_facilities:30\tdim_:2\n",
      "beta: 1.7715e+02\tFreeE: 0.0468\tGrad: 1.4108e-02\n",
      "n_drones:100\tnum_facilities:30\tdim_:2\n",
      "beta: 5.3144e+02\tFreeE: 0.0422\tGrad: 2.2814e-02\n",
      "n_drones:100\tnum_facilities:30\tdim_:2\n",
      "beta: 1.5943e+03\tFreeE: 0.0407\tGrad: 5.7998e-03\n",
      "n_drones:100\tnum_facilities:30\tdim_:2\n",
      "beta: 4.7830e+03\tFreeE: 0.0403\tGrad: 2.8041e-03\n",
      "n_drones:100\tnum_facilities:30\tdim_:2\n",
      "beta: 1.4349e+04\tFreeE: 0.0404\tGrad: 1.6566e-03\n",
      "n_drones:100\tnum_facilities:30\tdim_:2\n",
      "beta: 4.3047e+04\tFreeE: 0.0403\tGrad: 9.9741e-04\n"
     ]
    }
   ],
   "source": [
    "beta_min = 1e-3\n",
    "beta_max = 1e5\n",
    "beta_grow = 3\n",
    "optim_iters = 50\n",
    "optim_step = 0.01 # 0.1 for gd0, use < 0.01 for the other two optimizers\n",
    "optim_name = 'sampling_gradient_descent'\n",
    "tol = 1e-3\n",
    "\n",
    "Y_arr, b_arr, F_arr = anneal(\n",
    "        F_base, START_locs, END_locs, vrp_net, lse_net, optim_iters, optim_step, \n",
    "        beta_min, beta_max, beta_grow, D_max_range=D_max_range, tol=tol,\n",
    "        optimizer_name=optim_name, allowPrint=True\n",
    "    )\n"
   ]
  },
  {
   "cell_type": "code",
   "execution_count": 12,
   "metadata": {},
   "outputs": [
    {
     "data": {
      "text/plain": [
       "tensor([[[0.5820, 0.7309],\n",
       "         [0.6783, 0.7792],\n",
       "         [0.5263, 0.7229],\n",
       "         [0.6576, 0.8374],\n",
       "         [0.4577, 0.7280],\n",
       "         [0.6393, 0.8182],\n",
       "         [0.4229, 0.7292],\n",
       "         [0.6848, 0.8839],\n",
       "         [0.7660, 0.9411],\n",
       "         [0.6971, 0.9082],\n",
       "         [0.1738, 0.8270],\n",
       "         [0.6073, 0.7777],\n",
       "         [0.7194, 0.5598],\n",
       "         [0.8167, 0.9335],\n",
       "         [0.7084, 0.9289],\n",
       "         [0.3885, 0.7275],\n",
       "         [0.3527, 0.7187],\n",
       "         [0.5948, 0.7545],\n",
       "         [0.7009, 0.9125],\n",
       "         [0.7946, 0.4973],\n",
       "         [0.7153, 0.9487],\n",
       "         [0.3088, 0.7159],\n",
       "         [0.6725, 0.8595],\n",
       "         [0.6991, 0.9133],\n",
       "         [0.7075, 0.9276],\n",
       "         [0.6217, 0.7988],\n",
       "         [0.8696, 0.4347],\n",
       "         [0.6440, 0.6221],\n",
       "         [0.5600, 0.7176],\n",
       "         [0.4923, 0.7267]]])"
      ]
     },
     "execution_count": 12,
     "metadata": {},
     "output_type": "execute_result"
    }
   ],
   "source": [
    "Y_arr[-1]"
   ]
  },
  {
   "cell_type": "code",
   "execution_count": 13,
   "metadata": {},
   "outputs": [
    {
     "data": {
      "image/png": "[encoded data removed]",
      "text/plain": [
       "<Figure size 400x300 with 1 Axes>"
      ]
     },
     "metadata": {},
     "output_type": "display_data"
    },
    {
     "data": {
      "application/vnd.plotly.v1+json": {
       "config": {
        "plotlyServerURL": "https://plot.ly"
       },
       "data": [
        {
         "mode": "text",
         "name": "Drone Start",
         "text": [
          "𖥂",
          "𖥂",
          "𖥂",
          "𖥂",
          "𖥂",
          "𖥂",
          "𖥂",
          "𖥂",
          "𖥂",
          "𖥂",
          "𖥂",
          "𖥂",
          "𖥂",
          "𖥂",
          "𖥂",
          "𖥂",
          "𖥂",
          "𖥂",
          "𖥂",
          "𖥂",
          "𖥂",
          "𖥂",
          "𖥂",
          "𖥂",
          "𖥂",
          "𖥂",
          "𖥂",
          "𖥂",
          "𖥂",
          "𖥂",
          "𖥂",
          "𖥂",
          "𖥂",
          "𖥂",
          "𖥂",
          "𖥂",
          "𖥂",
          "𖥂",
          "𖥂",
          "𖥂",
          "𖥂",
          "𖥂",
          "𖥂",
          "𖥂",
          "𖥂",
          "𖥂",
          "𖥂",
          "𖥂",
          "𖥂",
          "𖥂",
          "𖥂",
          "𖥂",
          "𖥂",
          "𖥂",
          "𖥂",
          "𖥂",
          "𖥂",
          "𖥂",
          "𖥂",
          "𖥂",
          "𖥂",
          "𖥂",
          "𖥂",
          "𖥂",
          "𖥂",
          "𖥂",
          "𖥂",
          "𖥂",
          "𖥂",
          "𖥂",
          "𖥂",
          "𖥂",
          "𖥂",
          "𖥂",
          "𖥂",
          "𖥂",
          "𖥂",
          "𖥂",
          "𖥂",
          "𖥂",
          "𖥂",
          "𖥂",
          "𖥂",
          "𖥂",
          "𖥂",
          "𖥂",
          "𖥂",
          "𖥂",
          "𖥂",
          "𖥂",
          "𖥂",
          "𖥂",
          "𖥂",
          "𖥂",
          "𖥂",
          "𖥂",
          "𖥂",
          "𖥂",
          "𖥂",
          "𖥂"
         ],
         "textfont": {
          "color": "cyan",
          "size": 16
         },
         "type": "scatter3d",
         "x": {
          "bdata": "F1QJP/fO9T4atwQ/IYoQPygPAT/kggo//VUKP9JXFz9oiAY/Vgs+P6eXNz9SVUE/ZSE0PzPYQj+HKyw/7Pg0P6PYKj/e6TQ/c8UvP0riNz+0uFw9hJnqPMlvEj0goyY9bjV3PMLdVj2ETh89HNTDPDNfWD0XLQ4/PF4TPwg1Fz9rFww/JzoWPwYFFD+yDA0/WhkSP1SCGz/5xBk/JsMZP3MnHT8BFBw/TIsVPzVIuz6sGiQ+NGubPgaeez5Dz5U+9PaPPvJDvj6024k+y3CVPsomnD7ZirU+PijCPqX6pj4OYpI+TuqwPvAetT6+i4o+KqyUPr+oqT4RYJw+ncmlPpJzoT7qGoY+FzuIPsvmjz6fbJw+zqZnPpS1lz6rI5M+XKKZPra3gT5wi6Y+a5eoPmBeqz6fJYs+TridPh32xj5OoL0+uKKnPpA2sj7IQNA+K/K9PpC6kT6V+a4+e+SpPjwGxz4izmI/sRdbP0uCXT/E0GE/35VnP1qhbD/udGM/uO9iPzFUZz/58GE/+upePw==",
          "dtype": "f4"
         },
         "y": {
          "bdata": "INJMPxuBWj9VzkI/6sxHP2L4Tj+huDo/44BTP1JMRT+rzD8/H+BAP8qeNj98YUM/mRdIP34iTD85GFo/ibRBP7UHOD/Ekzg/EjlKPwzYRj9DnGw/zE51P4r3fz/wR3c/NClhP3jfZT9Kdm0/yLR0P+Jcbz/YMRM/FIsYPzn8Fz+Csxo/aHwVP9ZNHz/AfSA/3V8fPycFSz9TZVA/yJlVP9bjVz+fRVU/+r9UP52UNj8HMCU/poseP7oiNT/y2jM/PEs4Pz9uMT/rJSY/07I1P68YJT8YG2o/6vNoP9U+eT/Cg28/Ugx2PySsbj9n53A/OxcfP7P5JD+JniQ/sbAkP8vBIj8ShyY/zq4iP5XyKT9cRyc/4+QoP0HpIT87xSw/j3AkP/64Iz9+BR8/H8EcPxI9IT+r/yg/dIYxP74JID/JwSE/YTQlP9n8Lz9v5y4/pr4hP5luMT+3iyo/DkoRP3mSGj8gqXw/xgCEP3r3ej/dnYM/2Fl/P1YvgD9NmoI/9Yt1P3nchz/y8YA/T5Z8Pw==",
          "dtype": "f4"
         },
         "z": {
          "bdata": "AAAAAAAA8D8AAAAAAADwPwAAAAAAAPA/AAAAAAAA8D8AAAAAAADwPwAAAAAAAPA/AAAAAAAA8D8AAAAAAADwPwAAAAAAAPA/AAAAAAAA8D8AAAAAAADwPwAAAAAAAPA/AAAAAAAA8D8AAAAAAADwPwAAAAAAAPA/AAAAAAAA8D8AAAAAAADwPwAAAAAAAPA/AAAAAAAA8D8AAAAAAADwPwAAAAAAAPA/AAAAAAAA8D8AAAAAAADwPwAAAAAAAPA/AAAAAAAA8D8AAAAAAADwPwAAAAAAAPA/AAAAAAAA8D8AAAAAAADwPwAAAAAAAPA/AAAAAAAA8D8AAAAAAADwPwAAAAAAAPA/AAAAAAAA8D8AAAAAAADwPwAAAAAAAPA/AAAAAAAA8D8AAAAAAADwPwAAAAAAAPA/AAAAAAAA8D8AAAAAAADwPwAAAAAAAPA/AAAAAAAA8D8AAAAAAADwPwAAAAAAAPA/AAAAAAAA8D8AAAAAAADwPwAAAAAAAPA/AAAAAAAA8D8AAAAAAADwPwAAAAAAAPA/AAAAAAAA8D8AAAAAAADwPwAAAAAAAPA/AAAAAAAA8D8AAAAAAADwPwAAAAAAAPA/AAAAAAAA8D8AAAAAAADwPwAAAAAAAPA/AAAAAAAA8D8AAAAAAADwPwAAAAAAAPA/AAAAAAAA8D8AAAAAAADwPwAAAAAAAPA/AAAAAAAA8D8AAAAAAADwPwAAAAAAAPA/AAAAAAAA8D8AAAAAAADwPwAAAAAAAPA/AAAAAAAA8D8AAAAAAADwPwAAAAAAAPA/AAAAAAAA8D8AAAAAAADwPwAAAAAAAPA/AAAAAAAA8D8AAAAAAADwPwAAAAAAAPA/AAAAAAAA8D8AAAAAAADwPwAAAAAAAPA/AAAAAAAA8D8AAAAAAADwPwAAAAAAAPA/AAAAAAAA8D8AAAAAAADwPwAAAAAAAPA/AAAAAAAA8D8AAAAAAADwPwAAAAAAAPA/AAAAAAAA8D8AAAAAAADwPwAAAAAAAPA/AAAAAAAA8D8AAAAAAADwPwAAAAAAAPA/AAAAAAAA8D8=",
          "dtype": "f8"
         }
        },
        {
         "mode": "text",
         "name": "Drone End",
         "text": [
          "📍",
          "📍",
          "📍",
          "📍",
          "📍",
          "📍",
          "📍",
          "📍",
          "📍",
          "📍",
          "📍",
          "📍",
          "📍",
          "📍",
          "📍",
          "📍",
          "📍",
          "📍",
          "📍",
          "📍",
          "📍",
          "📍",
          "📍",
          "📍",
          "📍",
          "📍",
          "📍",
          "📍",
          "📍",
          "📍",
          "📍",
          "📍",
          "📍",
          "📍",
          "📍",
          "📍",
          "📍",
          "📍",
          "📍",
          "📍",
          "📍",
          "📍",
          "📍",
          "📍",
          "📍",
          "📍",
          "📍",
          "📍",
          "📍",
          "📍",
          "📍",
          "📍",
          "📍",
          "📍",
          "📍",
          "📍",
          "📍",
          "📍",
          "📍",
          "📍",
          "📍",
          "📍",
          "📍",
          "📍",
          "📍",
          "📍",
          "📍",
          "📍",
          "📍",
          "📍",
          "📍",
          "📍",
          "📍",
          "📍",
          "📍",
          "📍",
          "📍",
          "📍",
          "📍",
          "📍",
          "📍",
          "📍",
          "📍",
          "📍",
          "📍",
          "📍",
          "📍",
          "📍",
          "📍",
          "📍",
          "📍",
          "📍",
          "📍",
          "📍",
          "📍",
          "📍",
          "📍",
          "📍",
          "📍",
          "📍"
         ],
         "textfont": {
          "color": "red",
          "size": 20
         },
         "type": "scatter3d",
         "x": {
          "bdata": "kqBbP5KgWz+SoFs/kqBbP5KgWz+SoFs/kqBbP5KgWz+SoFs/kqBbP5KgWz+SoFs/kqBbP5KgWz+SoFs/kqBbP5KgWz+SoFs/kqBbP5KgWz+SoFs/kqBbP5KgWz+SoFs/kqBbP93QcT/d0HE/3dBxP93QcT/d0HE/3dBxP93QcT/d0HE/3dBxP93QcT/d0HE/3dBxP93QcT/d0HE/3dBxP93QcT/d0HE/3dBxP93QcT/d0HE/3dBxP93QcT/d0HE/3dBxP93QcT/9UTg//VE4P/1ROD/9UTg//VE4P/1ROD/9UTg//VE4P/1ROD/9UTg//VE4P/1ROD/9UTg//VE4P/1ROD/9UTg//VE4P/1ROD/9UTg//VE4P/1ROD/9UTg//VE4P/1ROD/9UTg/RVgqP0VYKj9FWCo/RVgqP0VYKj9FWCo/RVgqP0VYKj9FWCo/RVgqP0VYKj9FWCo/RVgqP0VYKj9FWCo/RVgqP0VYKj9FWCo/RVgqP0VYKj9FWCo/RVgqP0VYKj9FWCo/RVgqPw==",
          "dtype": "f4"
         },
         "y": {
          "bdata": "EdViPxHVYj8R1WI/EdViPxHVYj8R1WI/EdViPxHVYj8R1WI/EdViPxHVYj8R1WI/EdViPxHVYj8R1WI/EdViPxHVYj8R1WI/EdViPxHVYj8R1WI/EdViPxHVYj8R1WI/EdViP6hyvj6ocr4+qHK+Pqhyvj6ocr4+qHK+Pqhyvj6ocr4+qHK+Pqhyvj6ocr4+qHK+Pqhyvj6ocr4+qHK+Pqhyvj6ocr4+qHK+Pqhyvj6ocr4+qHK+Pqhyvj6ocr4+qHK+Pqhyvj4CCnI/AgpyPwIKcj8CCnI/AgpyPwIKcj8CCnI/AgpyPwIKcj8CCnI/AgpyPwIKcj8CCnI/AgpyPwIKcj8CCnI/AgpyPwIKcj8CCnI/AgpyPwIKcj8CCnI/AgpyPwIKcj8CCnI/ZfV/P2X1fz9l9X8/ZfV/P2X1fz9l9X8/ZfV/P2X1fz9l9X8/ZfV/P2X1fz9l9X8/ZfV/P2X1fz9l9X8/ZfV/P2X1fz9l9X8/ZfV/P2X1fz9l9X8/ZfV/P2X1fz9l9X8/ZfV/Pw==",
          "dtype": "f4"
         },
         "z": {
          "bdata": "AAAAAAAAAAAAAAAAAAAAAAAAAAAAAAAAAAAAAAAAAAAAAAAAAAAAAAAAAAAAAAAAAAAAAAAAAAAAAAAAAAAAAAAAAAAAAAAAAAAAAAAAAAAAAAAAAAAAAAAAAAAAAAAAAAAAAAAAAAAAAAAAAAAAAAAAAAAAAAAAAAAAAAAAAAAAAAAAAAAAAAAAAAAAAAAAAAAAAAAAAAAAAAAAAAAAAAAAAAAAAAAAAAAAAAAAAAAAAAAAAAAAAAAAAAAAAAAAAAAAAAAAAAAAAAAAAAAAAAAAAAAAAAAAAAAAAAAAAAAAAAAAAAAAAAAAAAAAAAAAAAAAAAAAAAAAAAAAAAAAAAAAAAAAAAAAAAAAAAAAAAAAAAAAAAAAAAAAAAAAAAAAAAAAAAAAAAAAAAAAAAAAAAAAAAAAAAAAAAAAAAAAAAAAAAAAAAAAAAAAAAAAAAAAAAAAAAAAAAAAAAAAAAAAAAAAAAAAAAAAAAAAAAAAAAAAAAAAAAAAAAAAAAAAAAAAAAAAAAAAAAAAAAAAAAAAAAAAAAAAAAAAAAAAAAAAAAAAAAAAAAAAAAAAAAAAAAAAAAAAAAAAAAAAAAAAAAAAAAAAAAAAAAAAAAAAAAAAAAAAAAAAAAAAAAAAAAAAAAAAAAAAAAAAAAAAAAAAAAAAAAAAAAAAAAAAAAAAAAAAAAAAAAAAAAAAAAAAAAAAAAAAAAAAAAAAAAAAAAAAAAAAAAAAAAAAAAAAAAAAAAAAAAAAAAAAAAAAAAAAAAAAAAAAAAAAAAAAAAAAAAAAAAAAAAAAAAAAAAAAAAAAAAAAAAAAAAAAAAAAAAAAAAAAAAAAAAAAAAAAAAAAAAAAAAAAAAAAAAAAAAAAAAAAAAAAAAAAAAAAAAAAAAAAAAAAAAAAAAAAAAAAAAAAAAAAAAAAAAAAAAAAAAAAAAAAAAAAAAAAAAAAAAAAAAAAAAAAAAAAAAAAAAAAAAAAAAAAAAAAAAAAAAAAAAAAAAAAAAAAAAAAAAAAAAAAAAAAAAAAAAAAAAAAAAAAAAAAAAAAAAAAAAAAAAAAAAAAAAAAAAAAAAA=",
          "dtype": "f8"
         }
        },
        {
         "line": {
          "color": "gray",
          "width": 3
         },
         "mode": "lines",
         "showlegend": false,
         "type": "scatter3d",
         "x": [
          0.5820378065109253,
          0.5820378065109253
         ],
         "y": [
          0.7309437394142151,
          0.7309437394142151
         ],
         "z": [
          0,
          1
         ]
        },
        {
         "line": {
          "color": "gray",
          "width": 3
         },
         "mode": "lines",
         "showlegend": false,
         "type": "scatter3d",
         "x": [
          0.6782583594322205,
          0.6782583594322205
         ],
         "y": [
          0.7791557312011719,
          0.7791557312011719
         ],
         "z": [
          0,
          1
         ]
        },
        {
         "line": {
          "color": "gray",
          "width": 3
         },
         "mode": "lines",
         "showlegend": false,
         "type": "scatter3d",
         "x": [
          0.5262982249259949,
          0.5262982249259949
         ],
         "y": [
          0.7229270339012146,
          0.7229270339012146
         ],
         "z": [
          0,
          1
         ]
        },
        {
         "line": {
          "color": "gray",
          "width": 3
         },
         "mode": "lines",
         "showlegend": false,
         "type": "scatter3d",
         "x": [
          0.657597005367279,
          0.657597005367279
         ],
         "y": [
          0.8373618125915527,
          0.8373618125915527
         ],
         "z": [
          0,
          1
         ]
        },
        {
         "line": {
          "color": "gray",
          "width": 3
         },
         "mode": "lines",
         "showlegend": false,
         "type": "scatter3d",
         "x": [
          0.4576635956764221,
          0.4576635956764221
         ],
         "y": [
          0.7279888987541199,
          0.7279888987541199
         ],
         "z": [
          0,
          1
         ]
        },
        {
         "line": {
          "color": "gray",
          "width": 3
         },
         "mode": "lines",
         "showlegend": false,
         "type": "scatter3d",
         "x": [
          0.6393415331840515,
          0.6393415331840515
         ],
         "y": [
          0.818242073059082,
          0.818242073059082
         ],
         "z": [
          0,
          1
         ]
        },
        {
         "line": {
          "color": "gray",
          "width": 3
         },
         "mode": "lines",
         "showlegend": false,
         "type": "scatter3d",
         "x": [
          0.4229224920272827,
          0.4229224920272827
         ],
         "y": [
          0.7291633486747742,
          0.7291633486747742
         ],
         "z": [
          0,
          1
         ]
        },
        {
         "line": {
          "color": "gray",
          "width": 3
         },
         "mode": "lines",
         "showlegend": false,
         "type": "scatter3d",
         "x": [
          0.684821367263794,
          0.684821367263794
         ],
         "y": [
          0.8839012384414673,
          0.8839012384414673
         ],
         "z": [
          0,
          1
         ]
        },
        {
         "line": {
          "color": "gray",
          "width": 3
         },
         "mode": "lines",
         "showlegend": false,
         "type": "scatter3d",
         "x": [
          0.7660253047943115,
          0.7660253047943115
         ],
         "y": [
          0.9411413669586182,
          0.9411413669586182
         ],
         "z": [
          0,
          1
         ]
        },
        {
         "line": {
          "color": "gray",
          "width": 3
         },
         "mode": "lines",
         "showlegend": false,
         "type": "scatter3d",
         "x": [
          0.6970689296722412,
          0.6970689296722412
         ],
         "y": [
          0.9082279205322266,
          0.9082279205322266
         ],
         "z": [
          0,
          1
         ]
        },
        {
         "line": {
          "color": "gray",
          "width": 3
         },
         "mode": "lines",
         "showlegend": false,
         "type": "scatter3d",
         "x": [
          0.17375442385673523,
          0.17375442385673523
         ],
         "y": [
          0.8270195722579956,
          0.8270195722579956
         ],
         "z": [
          0,
          1
         ]
        },
        {
         "line": {
          "color": "gray",
          "width": 3
         },
         "mode": "lines",
         "showlegend": false,
         "type": "scatter3d",
         "x": [
          0.60734623670578,
          0.60734623670578
         ],
         "y": [
          0.7776684761047363,
          0.7776684761047363
         ],
         "z": [
          0,
          1
         ]
        },
        {
         "line": {
          "color": "gray",
          "width": 3
         },
         "mode": "lines",
         "showlegend": false,
         "type": "scatter3d",
         "x": [
          0.7193700671195984,
          0.7193700671195984
         ],
         "y": [
          0.5598236322402954,
          0.5598236322402954
         ],
         "z": [
          0,
          1
         ]
        },
        {
         "line": {
          "color": "gray",
          "width": 3
         },
         "mode": "lines",
         "showlegend": false,
         "type": "scatter3d",
         "x": [
          0.8167206048965454,
          0.8167206048965454
         ],
         "y": [
          0.9335238933563232,
          0.9335238933563232
         ],
         "z": [
          0,
          1
         ]
        },
        {
         "line": {
          "color": "gray",
          "width": 3
         },
         "mode": "lines",
         "showlegend": false,
         "type": "scatter3d",
         "x": [
          0.7084096074104309,
          0.7084096074104309
         ],
         "y": [
          0.9288536310195923,
          0.9288536310195923
         ],
         "z": [
          0,
          1
         ]
        },
        {
         "line": {
          "color": "gray",
          "width": 3
         },
         "mode": "lines",
         "showlegend": false,
         "type": "scatter3d",
         "x": [
          0.38853031396865845,
          0.38853031396865845
         ],
         "y": [
          0.7274801731109619,
          0.7274801731109619
         ],
         "z": [
          0,
          1
         ]
        },
        {
         "line": {
          "color": "gray",
          "width": 3
         },
         "mode": "lines",
         "showlegend": false,
         "type": "scatter3d",
         "x": [
          0.3526819944381714,
          0.3526819944381714
         ],
         "y": [
          0.7186837792396545,
          0.7186837792396545
         ],
         "z": [
          0,
          1
         ]
        },
        {
         "line": {
          "color": "gray",
          "width": 3
         },
         "mode": "lines",
         "showlegend": false,
         "type": "scatter3d",
         "x": [
          0.5947769284248352,
          0.5947769284248352
         ],
         "y": [
          0.7545289993286133,
          0.7545289993286133
         ],
         "z": [
          0,
          1
         ]
        },
        {
         "line": {
          "color": "gray",
          "width": 3
         },
         "mode": "lines",
         "showlegend": false,
         "type": "scatter3d",
         "x": [
          0.7009026408195496,
          0.7009026408195496
         ],
         "y": [
          0.9124668836593628,
          0.9124668836593628
         ],
         "z": [
          0,
          1
         ]
        },
        {
         "line": {
          "color": "gray",
          "width": 3
         },
         "mode": "lines",
         "showlegend": false,
         "type": "scatter3d",
         "x": [
          0.7945741415023804,
          0.7945741415023804
         ],
         "y": [
          0.49733442068099976,
          0.49733442068099976
         ],
         "z": [
          0,
          1
         ]
        },
        {
         "line": {
          "color": "gray",
          "width": 3
         },
         "mode": "lines",
         "showlegend": false,
         "type": "scatter3d",
         "x": [
          0.7153030633926392,
          0.7153030633926392
         ],
         "y": [
          0.9487122297286987,
          0.9487122297286987
         ],
         "z": [
          0,
          1
         ]
        },
        {
         "line": {
          "color": "gray",
          "width": 3
         },
         "mode": "lines",
         "showlegend": false,
         "type": "scatter3d",
         "x": [
          0.3087557256221771,
          0.3087557256221771
         ],
         "y": [
          0.7158972024917603,
          0.7158972024917603
         ],
         "z": [
          0,
          1
         ]
        },
        {
         "line": {
          "color": "gray",
          "width": 3
         },
         "mode": "lines",
         "showlegend": false,
         "type": "scatter3d",
         "x": [
          0.6724933981895447,
          0.6724933981895447
         ],
         "y": [
          0.8594695329666138,
          0.8594695329666138
         ],
         "z": [
          0,
          1
         ]
        },
        {
         "line": {
          "color": "gray",
          "width": 3
         },
         "mode": "lines",
         "showlegend": false,
         "type": "scatter3d",
         "x": [
          0.6991261839866638,
          0.6991261839866638
         ],
         "y": [
          0.9133445620536804,
          0.9133445620536804
         ],
         "z": [
          0,
          1
         ]
        },
        {
         "line": {
          "color": "gray",
          "width": 3
         },
         "mode": "lines",
         "showlegend": false,
         "type": "scatter3d",
         "x": [
          0.7074582576751709,
          0.7074582576751709
         ],
         "y": [
          0.9276390671730042,
          0.9276390671730042
         ],
         "z": [
          0,
          1
         ]
        },
        {
         "line": {
          "color": "gray",
          "width": 3
         },
         "mode": "lines",
         "showlegend": false,
         "type": "scatter3d",
         "x": [
          0.6217466592788696,
          0.6217466592788696
         ],
         "y": [
          0.7988443374633789,
          0.7988443374633789
         ],
         "z": [
          0,
          1
         ]
        },
        {
         "line": {
          "color": "gray",
          "width": 3
         },
         "mode": "lines",
         "showlegend": false,
         "type": "scatter3d",
         "x": [
          0.8696243166923523,
          0.8696243166923523
         ],
         "y": [
          0.43469223380088806,
          0.43469223380088806
         ],
         "z": [
          0,
          1
         ]
        },
        {
         "line": {
          "color": "gray",
          "width": 3
         },
         "mode": "lines",
         "showlegend": false,
         "type": "scatter3d",
         "x": [
          0.643956184387207,
          0.643956184387207
         ],
         "y": [
          0.6221075057983398,
          0.6221075057983398
         ],
         "z": [
          0,
          1
         ]
        },
        {
         "line": {
          "color": "gray",
          "width": 3
         },
         "mode": "lines",
         "showlegend": false,
         "type": "scatter3d",
         "x": [
          0.5599690079689026,
          0.5599690079689026
         ],
         "y": [
          0.7176174521446228,
          0.7176174521446228
         ],
         "z": [
          0,
          1
         ]
        },
        {
         "line": {
          "color": "gray",
          "width": 3
         },
         "mode": "lines",
         "showlegend": false,
         "type": "scatter3d",
         "x": [
          0.49225953221321106,
          0.49225953221321106
         ],
         "y": [
          0.7266544103622437,
          0.7266544103622437
         ],
         "z": [
          0,
          1
         ]
        },
        {
         "marker": {
          "color": "silver",
          "size": 5,
          "symbol": "square"
         },
         "mode": "markers",
         "name": "Facilities",
         "type": "scatter3d",
         "x": {
          "bdata": "bgAVP1eiLT97uwY/R1goP+JS6j7jqyM/TInYPnRQLz88GkQ/HHMyP67sMT4Lexs/oyg4P5oUUT9VWjU/cu3GPryStD5NQxg/W24zPzZpSz8aHjc/OxWePocoLD/v+TI//Bs1P8oqHz+zn14/UNokPyFaDz9xCfw+",
          "dtype": "f4"
         },
         "y": {
          "bdata": "IR87P8B2Rz+/ETk/WF1WP3tdOj9QeFE/c6o6P1pHYj+k7nA/oIFoP463Uz9IFUc/mlAPP2z7bj9ayW0/JDw6P6n7Nz/QKEE/bpdpP56i/j7O3nI/CkU3PzIGXD/z0Gk/wXltPxCBTD/7j94+cEIfP8e1Nz8GBjo/",
          "dtype": "f4"
         },
         "z": {
          "bdata": "AAAAAAAA8D8AAAAAAADwPwAAAAAAAPA/AAAAAAAA8D8AAAAAAADwPwAAAAAAAPA/AAAAAAAA8D8AAAAAAADwPwAAAAAAAPA/AAAAAAAA8D8AAAAAAADwPwAAAAAAAPA/AAAAAAAA8D8AAAAAAADwPwAAAAAAAPA/AAAAAAAA8D8AAAAAAADwPwAAAAAAAPA/AAAAAAAA8D8AAAAAAADwPwAAAAAAAPA/AAAAAAAA8D8AAAAAAADwPwAAAAAAAPA/AAAAAAAA8D8AAAAAAADwPwAAAAAAAPA/AAAAAAAA8D8AAAAAAADwPwAAAAAAAPA/",
          "dtype": "f8"
         }
        }
       ],
       "layout": {
        "legend": {
         "bgcolor": "rgba(0,0,0,0.4)",
         "bordercolor": "white"
        },
        "margin": {
         "b": 0,
         "l": 0,
         "r": 0,
         "t": 30
        },
        "scene": {
         "aspectmode": "data",
         "camera": {
          "eye": {
           "x": 1.5,
           "y": 1.5,
           "z": 0.7
          }
         },
         "xaxis": {
          "backgroundcolor": "rgb(10,10,20)",
          "gridcolor": "gray",
          "title": {
           "text": "X"
          },
          "zerolinecolor": "gray"
         },
         "yaxis": {
          "backgroundcolor": "rgb(10,10,20)",
          "gridcolor": "gray",
          "title": {
           "text": "Y"
          },
          "zerolinecolor": "gray"
         },
         "zaxis": {
          "backgroundcolor": "rgb(10,10,20)",
          "gridcolor": "gray",
          "title": {
           "text": "Z"
          },
          "zerolinecolor": "gray"
         }
        },
        "template": {
         "data": {
          "bar": [
           {
            "error_x": {
             "color": "#f2f5fa"
            },
            "error_y": {
             "color": "#f2f5fa"
            },
            "marker": {
             "line": {
              "color": "rgb(17,17,17)",
              "width": 0.5
             },
             "pattern": {
              "fillmode": "overlay",
              "size": 10,
              "solidity": 0.2
             }
            },
            "type": "bar"
           }
          ],
          "barpolar": [
           {
            "marker": {
             "line": {
              "color": "rgb(17,17,17)",
              "width": 0.5
             },
             "pattern": {
              "fillmode": "overlay",
              "size": 10,
              "solidity": 0.2
             }
            },
            "type": "barpolar"
           }
          ],
          "carpet": [
           {
            "aaxis": {
             "endlinecolor": "#A2B1C6",
             "gridcolor": "#506784",
             "linecolor": "#506784",
             "minorgridcolor": "#506784",
             "startlinecolor": "#A2B1C6"
            },
            "baxis": {
             "endlinecolor": "#A2B1C6",
             "gridcolor": "#506784",
             "linecolor": "#506784",
             "minorgridcolor": "#506784",
             "startlinecolor": "#A2B1C6"
            },
            "type": "carpet"
           }
          ],
          "choropleth": [
           {
            "colorbar": {
             "outlinewidth": 0,
             "ticks": ""
            },
            "type": "choropleth"
           }
          ],
          "contour": [
           {
            "colorbar": {
             "outlinewidth": 0,
             "ticks": ""
            },
            "colorscale": [
             [
              0,
              "#0d0887"
             ],
             [
              0.1111111111111111,
              "#46039f"
             ],
             [
              0.2222222222222222,
              "#7201a8"
             ],
             [
              0.3333333333333333,
              "#9c179e"
             ],
             [
              0.4444444444444444,
              "#bd3786"
             ],
             [
              0.5555555555555556,
              "#d8576b"
             ],
             [
              0.6666666666666666,
              "#ed7953"
             ],
             [
              0.7777777777777778,
              "#fb9f3a"
             ],
             [
              0.8888888888888888,
              "#fdca26"
             ],
             [
              1,
              "#f0f921"
             ]
            ],
            "type": "contour"
           }
          ],
          "contourcarpet": [
           {
            "colorbar": {
             "outlinewidth": 0,
             "ticks": ""
            },
            "type": "contourcarpet"
           }
          ],
          "heatmap": [
           {
            "colorbar": {
             "outlinewidth": 0,
             "ticks": ""
            },
            "colorscale": [
             [
              0,
              "#0d0887"
             ],
             [
              0.1111111111111111,
              "#46039f"
             ],
             [
              0.2222222222222222,
              "#7201a8"
             ],
             [
              0.3333333333333333,
              "#9c179e"
             ],
             [
              0.4444444444444444,
              "#bd3786"
             ],
             [
              0.5555555555555556,
              "#d8576b"
             ],
             [
              0.6666666666666666,
              "#ed7953"
             ],
             [
              0.7777777777777778,
              "#fb9f3a"
             ],
             [
              0.8888888888888888,
              "#fdca26"
             ],
             [
              1,
              "#f0f921"
             ]
            ],
            "type": "heatmap"
           }
          ],
          "histogram": [
           {
            "marker": {
             "pattern": {
              "fillmode": "overlay",
              "size": 10,
              "solidity": 0.2
             }
            },
            "type": "histogram"
           }
          ],
          "histogram2d": [
           {
            "colorbar": {
             "outlinewidth": 0,
             "ticks": ""
            },
            "colorscale": [
             [
              0,
              "#0d0887"
             ],
             [
              0.1111111111111111,
              "#46039f"
             ],
             [
              0.2222222222222222,
              "#7201a8"
             ],
             [
              0.3333333333333333,
              "#9c179e"
             ],
             [
              0.4444444444444444,
              "#bd3786"
             ],
             [
              0.5555555555555556,
              "#d8576b"
             ],
             [
              0.6666666666666666,
              "#ed7953"
             ],
             [
              0.7777777777777778,
              "#fb9f3a"
             ],
             [
              0.8888888888888888,
              "#fdca26"
             ],
             [
              1,
              "#f0f921"
             ]
            ],
            "type": "histogram2d"
           }
          ],
          "histogram2dcontour": [
           {
            "colorbar": {
             "outlinewidth": 0,
             "ticks": ""
            },
            "colorscale": [
             [
              0,
              "#0d0887"
             ],
             [
              0.1111111111111111,
              "#46039f"
             ],
             [
              0.2222222222222222,
              "#7201a8"
             ],
             [
              0.3333333333333333,
              "#9c179e"
             ],
             [
              0.4444444444444444,
              "#bd3786"
             ],
             [
              0.5555555555555556,
              "#d8576b"
             ],
             [
              0.6666666666666666,
              "#ed7953"
             ],
             [
              0.7777777777777778,
              "#fb9f3a"
             ],
             [
              0.8888888888888888,
              "#fdca26"
             ],
             [
              1,
              "#f0f921"
             ]
            ],
            "type": "histogram2dcontour"
           }
          ],
          "mesh3d": [
           {
            "colorbar": {
             "outlinewidth": 0,
             "ticks": ""
            },
            "type": "mesh3d"
           }
          ],
          "parcoords": [
           {
            "line": {
             "colorbar": {
              "outlinewidth": 0,
              "ticks": ""
             }
            },
            "type": "parcoords"
           }
          ],
          "pie": [
           {
            "automargin": true,
            "type": "pie"
           }
          ],
          "scatter": [
           {
            "marker": {
             "line": {
              "color": "#283442"
             }
            },
            "type": "scatter"
           }
          ],
          "scatter3d": [
           {
            "line": {
             "colorbar": {
              "outlinewidth": 0,
              "ticks": ""
             }
            },
            "marker": {
             "colorbar": {
              "outlinewidth": 0,
              "ticks": ""
             }
            },
            "type": "scatter3d"
           }
          ],
          "scattercarpet": [
           {
            "marker": {
             "colorbar": {
              "outlinewidth": 0,
              "ticks": ""
             }
            },
            "type": "scattercarpet"
           }
          ],
          "scattergeo": [
           {
            "marker": {
             "colorbar": {
              "outlinewidth": 0,
              "ticks": ""
             }
            },
            "type": "scattergeo"
           }
          ],
          "scattergl": [
           {
            "marker": {
             "line": {
              "color": "#283442"
             }
            },
            "type": "scattergl"
           }
          ],
          "scattermap": [
           {
            "marker": {
             "colorbar": {
              "outlinewidth": 0,
              "ticks": ""
             }
            },
            "type": "scattermap"
           }
          ],
          "scattermapbox": [
           {
            "marker": {
             "colorbar": {
              "outlinewidth": 0,
              "ticks": ""
             }
            },
            "type": "scattermapbox"
           }
          ],
          "scatterpolar": [
           {
            "marker": {
             "colorbar": {
              "outlinewidth": 0,
              "ticks": ""
             }
            },
            "type": "scatterpolar"
           }
          ],
          "scatterpolargl": [
           {
            "marker": {
             "colorbar": {
              "outlinewidth": 0,
              "ticks": ""
             }
            },
            "type": "scatterpolargl"
           }
          ],
          "scatterternary": [
           {
            "marker": {
             "colorbar": {
              "outlinewidth": 0,
              "ticks": ""
             }
            },
            "type": "scatterternary"
           }
          ],
          "surface": [
           {
            "colorbar": {
             "outlinewidth": 0,
             "ticks": ""
            },
            "colorscale": [
             [
              0,
              "#0d0887"
             ],
             [
              0.1111111111111111,
              "#46039f"
             ],
             [
              0.2222222222222222,
              "#7201a8"
             ],
             [
              0.3333333333333333,
              "#9c179e"
             ],
             [
              0.4444444444444444,
              "#bd3786"
             ],
             [
              0.5555555555555556,
              "#d8576b"
             ],
             [
              0.6666666666666666,
              "#ed7953"
             ],
             [
              0.7777777777777778,
              "#fb9f3a"
             ],
             [
              0.8888888888888888,
              "#fdca26"
             ],
             [
              1,
              "#f0f921"
             ]
            ],
            "type": "surface"
           }
          ],
          "table": [
           {
            "cells": {
             "fill": {
              "color": "#506784"
             },
             "line": {
              "color": "rgb(17,17,17)"
             }
            },
            "header": {
             "fill": {
              "color": "#2a3f5f"
             },
             "line": {
              "color": "rgb(17,17,17)"
             }
            },
            "type": "table"
           }
          ]
         },
         "layout": {
          "annotationdefaults": {
           "arrowcolor": "#f2f5fa",
           "arrowhead": 0,
           "arrowwidth": 1
          },
          "autotypenumbers": "strict",
          "coloraxis": {
           "colorbar": {
            "outlinewidth": 0,
            "ticks": ""
           }
          },
          "colorscale": {
           "diverging": [
            [
             0,
             "#8e0152"
            ],
            [
             0.1,
             "#c51b7d"
            ],
            [
             0.2,
             "#de77ae"
            ],
            [
             0.3,
             "#f1b6da"
            ],
            [
             0.4,
             "#fde0ef"
            ],
            [
             0.5,
             "#f7f7f7"
            ],
            [
             0.6,
             "#e6f5d0"
            ],
            [
             0.7,
             "#b8e186"
            ],
            [
             0.8,
             "#7fbc41"
            ],
            [
             0.9,
             "#4d9221"
            ],
            [
             1,
             "#276419"
            ]
           ],
           "sequential": [
            [
             0,
             "#0d0887"
            ],
            [
             0.1111111111111111,
             "#46039f"
            ],
            [
             0.2222222222222222,
             "#7201a8"
            ],
            [
             0.3333333333333333,
             "#9c179e"
            ],
            [
             0.4444444444444444,
             "#bd3786"
            ],
            [
             0.5555555555555556,
             "#d8576b"
            ],
            [
             0.6666666666666666,
             "#ed7953"
            ],
            [
             0.7777777777777778,
             "#fb9f3a"
            ],
            [
             0.8888888888888888,
             "#fdca26"
            ],
            [
             1,
             "#f0f921"
            ]
           ],
           "sequentialminus": [
            [
             0,
             "#0d0887"
            ],
            [
             0.1111111111111111,
             "#46039f"
            ],
            [
             0.2222222222222222,
             "#7201a8"
            ],
            [
             0.3333333333333333,
             "#9c179e"
            ],
            [
             0.4444444444444444,
             "#bd3786"
            ],
            [
             0.5555555555555556,
             "#d8576b"
            ],
            [
             0.6666666666666666,
             "#ed7953"
            ],
            [
             0.7777777777777778,
             "#fb9f3a"
            ],
            [
             0.8888888888888888,
             "#fdca26"
            ],
            [
             1,
             "#f0f921"
            ]
           ]
          },
          "colorway": [
           "#636efa",
           "#EF553B",
           "#00cc96",
           "#ab63fa",
           "#FFA15A",
           "#19d3f3",
           "#FF6692",
           "#B6E880",
           "#FF97FF",
           "#FECB52"
          ],
          "font": {
           "color": "#f2f5fa"
          },
          "geo": {
           "bgcolor": "rgb(17,17,17)",
           "lakecolor": "rgb(17,17,17)",
           "landcolor": "rgb(17,17,17)",
           "showlakes": true,
           "showland": true,
           "subunitcolor": "#506784"
          },
          "hoverlabel": {
           "align": "left"
          },
          "hovermode": "closest",
          "mapbox": {
           "style": "dark"
          },
          "paper_bgcolor": "rgb(17,17,17)",
          "plot_bgcolor": "rgb(17,17,17)",
          "polar": {
           "angularaxis": {
            "gridcolor": "#506784",
            "linecolor": "#506784",
            "ticks": ""
           },
           "bgcolor": "rgb(17,17,17)",
           "radialaxis": {
            "gridcolor": "#506784",
            "linecolor": "#506784",
            "ticks": ""
           }
          },
          "scene": {
           "xaxis": {
            "backgroundcolor": "rgb(17,17,17)",
            "gridcolor": "#506784",
            "gridwidth": 2,
            "linecolor": "#506784",
            "showbackground": true,
            "ticks": "",
            "zerolinecolor": "#C8D4E3"
           },
           "yaxis": {
            "backgroundcolor": "rgb(17,17,17)",
            "gridcolor": "#506784",
            "gridwidth": 2,
            "linecolor": "#506784",
            "showbackground": true,
            "ticks": "",
            "zerolinecolor": "#C8D4E3"
           },
           "zaxis": {
            "backgroundcolor": "rgb(17,17,17)",
            "gridcolor": "#506784",
            "gridwidth": 2,
            "linecolor": "#506784",
            "showbackground": true,
            "ticks": "",
            "zerolinecolor": "#C8D4E3"
           }
          },
          "shapedefaults": {
           "line": {
            "color": "#f2f5fa"
           }
          },
          "sliderdefaults": {
           "bgcolor": "#C8D4E3",
           "bordercolor": "rgb(17,17,17)",
           "borderwidth": 1,
           "tickwidth": 0
          },
          "ternary": {
           "aaxis": {
            "gridcolor": "#506784",
            "linecolor": "#506784",
            "ticks": ""
           },
           "baxis": {
            "gridcolor": "#506784",
            "linecolor": "#506784",
            "ticks": ""
           },
           "bgcolor": "rgb(17,17,17)",
           "caxis": {
            "gridcolor": "#506784",
            "linecolor": "#506784",
            "ticks": ""
           }
          },
          "title": {
           "x": 0.05
          },
          "updatemenudefaults": {
           "bgcolor": "#506784",
           "borderwidth": 0
          },
          "xaxis": {
           "automargin": true,
           "gridcolor": "#283442",
           "linecolor": "#506784",
           "ticks": "",
           "title": {
            "standoff": 15
           },
           "zerolinecolor": "#283442",
           "zerolinewidth": 2
          },
          "yaxis": {
           "automargin": true,
           "gridcolor": "#283442",
           "linecolor": "#506784",
           "ticks": "",
           "title": {
            "standoff": 15
           },
           "zerolinecolor": "#283442",
           "zerolinewidth": 2
          }
         }
        },
        "title": {
         "font": {
          "size": 20
         },
         "text": "UAV Spatial Deployment",
         "x": 0.5
        }
       }
      }
     },
     "metadata": {},
     "output_type": "display_data"
    }
   ],
   "source": [
    "plot_UAV_FLPO(START_locs, END_locs, Y_arr[-1], (4,3))\n",
    "plot_UAV_FLPO_3D(START_locs, END_locs, Y_arr[-1])"
   ]
  },
  {
   "cell_type": "markdown",
   "metadata": {},
   "source": [
    "### Plot free energy during annealing implementation"
   ]
  },
  {
   "cell_type": "code",
   "execution_count": 11,
   "metadata": {},
   "outputs": [],
   "source": [
    "# # plot free energy evolution\n",
    "# plt.figure(figsize=(10,3))\n",
    "# plt.plot(np.log(b_arr)/np.log(10), F_arr, marker='.')\n",
    "# plt.ylabel(rf'$F$')\n",
    "# plt.xlabel(rf'$\\log_{{10}}\\beta$')\n",
    "# plt.grid()\n",
    "# plt.show()"
   ]
  },
  {
   "cell_type": "markdown",
   "metadata": {},
   "source": [
    "# Save an Animation"
   ]
  },
  {
   "cell_type": "code",
   "execution_count": 14,
   "metadata": {},
   "outputs": [
    {
     "name": "stderr",
     "output_type": "stream",
     "text": [
      "2025-07-02 17:35:17,514 - INFO - Animation.save using <class 'matplotlib.animation.PillowWriter'>\n"
     ]
    },
    {
     "data": {
      "text/plain": [
       "<matplotlib.animation.FuncAnimation at 0x30d448970>"
      ]
     },
     "execution_count": 14,
     "metadata": {},
     "output_type": "execute_result"
    }
   ],
   "source": [
    "Animator.animate_UAV_FLPO(\n",
    "    START_locs,\n",
    "    END_locs,\n",
    "    Y_arr,\n",
    "    figuresize=(6, 5),\n",
    "    interval=100,\n",
    "    save_path=\"facility_movement_2D.gif\",\n",
    ")"
   ]
  },
  {
   "cell_type": "code",
   "execution_count": 15,
   "metadata": {},
   "outputs": [
    {
     "name": "stderr",
     "output_type": "stream",
     "text": [
      "2025-07-02 17:35:20,090 - INFO - Rendering frame 0/16\n",
      "2025-07-02 17:35:20,110 - ERROR - Failed to render frame 0: \n",
      "Image export using the \"kaleido\" engine requires the Kaleido package,\n",
      "which can be installed using pip:\n",
      "\n",
      "    $ pip install --upgrade kaleido\n",
      "\n",
      "/Users/dhananjaytiwari/Documents/NASA_ULI/Review_May2025/LearningFLPO/Animator.py:316: UserWarning:\n",
      "\n",
      "Skipping frame 0 due to rendering error: \n",
      "Image export using the \"kaleido\" engine requires the Kaleido package,\n",
      "which can be installed using pip:\n",
      "\n",
      "    $ pip install --upgrade kaleido\n",
      "\n",
      "\n",
      "2025-07-02 17:35:20,110 - INFO - Rendering frame 1/16\n",
      "2025-07-02 17:35:20,130 - ERROR - Failed to render frame 1: \n",
      "Image export using the \"kaleido\" engine requires the Kaleido package,\n",
      "which can be installed using pip:\n",
      "\n",
      "    $ pip install --upgrade kaleido\n",
      "\n",
      "/Users/dhananjaytiwari/Documents/NASA_ULI/Review_May2025/LearningFLPO/Animator.py:316: UserWarning:\n",
      "\n",
      "Skipping frame 1 due to rendering error: \n",
      "Image export using the \"kaleido\" engine requires the Kaleido package,\n",
      "which can be installed using pip:\n",
      "\n",
      "    $ pip install --upgrade kaleido\n",
      "\n",
      "\n",
      "2025-07-02 17:35:20,130 - INFO - Rendering frame 2/16\n",
      "2025-07-02 17:35:20,151 - ERROR - Failed to render frame 2: \n",
      "Image export using the \"kaleido\" engine requires the Kaleido package,\n",
      "which can be installed using pip:\n",
      "\n",
      "    $ pip install --upgrade kaleido\n",
      "\n",
      "/Users/dhananjaytiwari/Documents/NASA_ULI/Review_May2025/LearningFLPO/Animator.py:316: UserWarning:\n",
      "\n",
      "Skipping frame 2 due to rendering error: \n",
      "Image export using the \"kaleido\" engine requires the Kaleido package,\n",
      "which can be installed using pip:\n",
      "\n",
      "    $ pip install --upgrade kaleido\n",
      "\n",
      "\n",
      "2025-07-02 17:35:20,151 - INFO - Rendering frame 3/16\n",
      "2025-07-02 17:35:20,173 - ERROR - Failed to render frame 3: \n",
      "Image export using the \"kaleido\" engine requires the Kaleido package,\n",
      "which can be installed using pip:\n",
      "\n",
      "    $ pip install --upgrade kaleido\n",
      "\n",
      "/Users/dhananjaytiwari/Documents/NASA_ULI/Review_May2025/LearningFLPO/Animator.py:316: UserWarning:\n",
      "\n",
      "Skipping frame 3 due to rendering error: \n",
      "Image export using the \"kaleido\" engine requires the Kaleido package,\n",
      "which can be installed using pip:\n",
      "\n",
      "    $ pip install --upgrade kaleido\n",
      "\n",
      "\n",
      "2025-07-02 17:35:20,174 - INFO - Rendering frame 4/16\n",
      "2025-07-02 17:35:20,193 - ERROR - Failed to render frame 4: \n",
      "Image export using the \"kaleido\" engine requires the Kaleido package,\n",
      "which can be installed using pip:\n",
      "\n",
      "    $ pip install --upgrade kaleido\n",
      "\n",
      "/Users/dhananjaytiwari/Documents/NASA_ULI/Review_May2025/LearningFLPO/Animator.py:316: UserWarning:\n",
      "\n",
      "Skipping frame 4 due to rendering error: \n",
      "Image export using the \"kaleido\" engine requires the Kaleido package,\n",
      "which can be installed using pip:\n",
      "\n",
      "    $ pip install --upgrade kaleido\n",
      "\n",
      "\n",
      "2025-07-02 17:35:20,194 - INFO - Rendering frame 5/16\n",
      "2025-07-02 17:35:20,213 - ERROR - Failed to render frame 5: \n",
      "Image export using the \"kaleido\" engine requires the Kaleido package,\n",
      "which can be installed using pip:\n",
      "\n",
      "    $ pip install --upgrade kaleido\n",
      "\n",
      "/Users/dhananjaytiwari/Documents/NASA_ULI/Review_May2025/LearningFLPO/Animator.py:316: UserWarning:\n",
      "\n",
      "Skipping frame 5 due to rendering error: \n",
      "Image export using the \"kaleido\" engine requires the Kaleido package,\n",
      "which can be installed using pip:\n",
      "\n",
      "    $ pip install --upgrade kaleido\n",
      "\n",
      "\n",
      "2025-07-02 17:35:20,214 - INFO - Rendering frame 6/16\n",
      "2025-07-02 17:35:20,234 - ERROR - Failed to render frame 6: \n",
      "Image export using the \"kaleido\" engine requires the Kaleido package,\n",
      "which can be installed using pip:\n",
      "\n",
      "    $ pip install --upgrade kaleido\n",
      "\n",
      "/Users/dhananjaytiwari/Documents/NASA_ULI/Review_May2025/LearningFLPO/Animator.py:316: UserWarning:\n",
      "\n",
      "Skipping frame 6 due to rendering error: \n",
      "Image export using the \"kaleido\" engine requires the Kaleido package,\n",
      "which can be installed using pip:\n",
      "\n",
      "    $ pip install --upgrade kaleido\n",
      "\n",
      "\n",
      "2025-07-02 17:35:20,234 - INFO - Rendering frame 7/16\n",
      "2025-07-02 17:35:20,254 - ERROR - Failed to render frame 7: \n",
      "Image export using the \"kaleido\" engine requires the Kaleido package,\n",
      "which can be installed using pip:\n",
      "\n",
      "    $ pip install --upgrade kaleido\n",
      "\n",
      "/Users/dhananjaytiwari/Documents/NASA_ULI/Review_May2025/LearningFLPO/Animator.py:316: UserWarning:\n",
      "\n",
      "Skipping frame 7 due to rendering error: \n",
      "Image export using the \"kaleido\" engine requires the Kaleido package,\n",
      "which can be installed using pip:\n",
      "\n",
      "    $ pip install --upgrade kaleido\n",
      "\n",
      "\n",
      "2025-07-02 17:35:20,255 - INFO - Rendering frame 8/16\n",
      "2025-07-02 17:35:20,275 - ERROR - Failed to render frame 8: \n",
      "Image export using the \"kaleido\" engine requires the Kaleido package,\n",
      "which can be installed using pip:\n",
      "\n",
      "    $ pip install --upgrade kaleido\n",
      "\n",
      "/Users/dhananjaytiwari/Documents/NASA_ULI/Review_May2025/LearningFLPO/Animator.py:316: UserWarning:\n",
      "\n",
      "Skipping frame 8 due to rendering error: \n",
      "Image export using the \"kaleido\" engine requires the Kaleido package,\n",
      "which can be installed using pip:\n",
      "\n",
      "    $ pip install --upgrade kaleido\n",
      "\n",
      "\n",
      "2025-07-02 17:35:20,275 - INFO - Rendering frame 9/16\n",
      "2025-07-02 17:35:20,294 - ERROR - Failed to render frame 9: \n",
      "Image export using the \"kaleido\" engine requires the Kaleido package,\n",
      "which can be installed using pip:\n",
      "\n",
      "    $ pip install --upgrade kaleido\n",
      "\n",
      "/Users/dhananjaytiwari/Documents/NASA_ULI/Review_May2025/LearningFLPO/Animator.py:316: UserWarning:\n",
      "\n",
      "Skipping frame 9 due to rendering error: \n",
      "Image export using the \"kaleido\" engine requires the Kaleido package,\n",
      "which can be installed using pip:\n",
      "\n",
      "    $ pip install --upgrade kaleido\n",
      "\n",
      "\n",
      "2025-07-02 17:35:20,295 - INFO - Rendering frame 10/16\n",
      "2025-07-02 17:35:20,315 - ERROR - Failed to render frame 10: \n",
      "Image export using the \"kaleido\" engine requires the Kaleido package,\n",
      "which can be installed using pip:\n",
      "\n",
      "    $ pip install --upgrade kaleido\n",
      "\n",
      "/Users/dhananjaytiwari/Documents/NASA_ULI/Review_May2025/LearningFLPO/Animator.py:316: UserWarning:\n",
      "\n",
      "Skipping frame 10 due to rendering error: \n",
      "Image export using the \"kaleido\" engine requires the Kaleido package,\n",
      "which can be installed using pip:\n",
      "\n",
      "    $ pip install --upgrade kaleido\n",
      "\n",
      "\n",
      "2025-07-02 17:35:20,316 - INFO - Rendering frame 11/16\n",
      "2025-07-02 17:35:20,335 - ERROR - Failed to render frame 11: \n",
      "Image export using the \"kaleido\" engine requires the Kaleido package,\n",
      "which can be installed using pip:\n",
      "\n",
      "    $ pip install --upgrade kaleido\n",
      "\n",
      "/Users/dhananjaytiwari/Documents/NASA_ULI/Review_May2025/LearningFLPO/Animator.py:316: UserWarning:\n",
      "\n",
      "Skipping frame 11 due to rendering error: \n",
      "Image export using the \"kaleido\" engine requires the Kaleido package,\n",
      "which can be installed using pip:\n",
      "\n",
      "    $ pip install --upgrade kaleido\n",
      "\n",
      "\n",
      "2025-07-02 17:35:20,335 - INFO - Rendering frame 12/16\n",
      "2025-07-02 17:35:20,355 - ERROR - Failed to render frame 12: \n",
      "Image export using the \"kaleido\" engine requires the Kaleido package,\n",
      "which can be installed using pip:\n",
      "\n",
      "    $ pip install --upgrade kaleido\n",
      "\n",
      "/Users/dhananjaytiwari/Documents/NASA_ULI/Review_May2025/LearningFLPO/Animator.py:316: UserWarning:\n",
      "\n",
      "Skipping frame 12 due to rendering error: \n",
      "Image export using the \"kaleido\" engine requires the Kaleido package,\n",
      "which can be installed using pip:\n",
      "\n",
      "    $ pip install --upgrade kaleido\n",
      "\n",
      "\n",
      "2025-07-02 17:35:20,356 - INFO - Rendering frame 13/16\n",
      "2025-07-02 17:35:20,375 - ERROR - Failed to render frame 13: \n",
      "Image export using the \"kaleido\" engine requires the Kaleido package,\n",
      "which can be installed using pip:\n",
      "\n",
      "    $ pip install --upgrade kaleido\n",
      "\n",
      "/Users/dhananjaytiwari/Documents/NASA_ULI/Review_May2025/LearningFLPO/Animator.py:316: UserWarning:\n",
      "\n",
      "Skipping frame 13 due to rendering error: \n",
      "Image export using the \"kaleido\" engine requires the Kaleido package,\n",
      "which can be installed using pip:\n",
      "\n",
      "    $ pip install --upgrade kaleido\n",
      "\n",
      "\n",
      "2025-07-02 17:35:20,375 - INFO - Rendering frame 14/16\n",
      "2025-07-02 17:35:20,395 - ERROR - Failed to render frame 14: \n",
      "Image export using the \"kaleido\" engine requires the Kaleido package,\n",
      "which can be installed using pip:\n",
      "\n",
      "    $ pip install --upgrade kaleido\n",
      "\n",
      "/Users/dhananjaytiwari/Documents/NASA_ULI/Review_May2025/LearningFLPO/Animator.py:316: UserWarning:\n",
      "\n",
      "Skipping frame 14 due to rendering error: \n",
      "Image export using the \"kaleido\" engine requires the Kaleido package,\n",
      "which can be installed using pip:\n",
      "\n",
      "    $ pip install --upgrade kaleido\n",
      "\n",
      "\n",
      "2025-07-02 17:35:20,396 - INFO - Rendering frame 15/16\n",
      "2025-07-02 17:35:20,415 - ERROR - Failed to render frame 15: \n",
      "Image export using the \"kaleido\" engine requires the Kaleido package,\n",
      "which can be installed using pip:\n",
      "\n",
      "    $ pip install --upgrade kaleido\n",
      "\n",
      "/Users/dhananjaytiwari/Documents/NASA_ULI/Review_May2025/LearningFLPO/Animator.py:316: UserWarning:\n",
      "\n",
      "Skipping frame 15 due to rendering error: \n",
      "Image export using the \"kaleido\" engine requires the Kaleido package,\n",
      "which can be installed using pip:\n",
      "\n",
      "    $ pip install --upgrade kaleido\n",
      "\n",
      "\n",
      "2025-07-02 17:35:20,416 - INFO - Rendering frame 16/16\n",
      "2025-07-02 17:35:20,435 - ERROR - Failed to render frame 16: \n",
      "Image export using the \"kaleido\" engine requires the Kaleido package,\n",
      "which can be installed using pip:\n",
      "\n",
      "    $ pip install --upgrade kaleido\n",
      "\n",
      "/Users/dhananjaytiwari/Documents/NASA_ULI/Review_May2025/LearningFLPO/Animator.py:316: UserWarning:\n",
      "\n",
      "Skipping frame 16 due to rendering error: \n",
      "Image export using the \"kaleido\" engine requires the Kaleido package,\n",
      "which can be installed using pip:\n",
      "\n",
      "    $ pip install --upgrade kaleido\n",
      "\n",
      "\n",
      "2025-07-02 17:35:20,436 - ERROR - No frames were successfully rendered.\n"
     ]
    },
    {
     "ename": "RuntimeError",
     "evalue": "Failed to render any frames for the GIF.",
     "output_type": "error",
     "traceback": [
      "\u001b[0;31m---------------------------------------------------------------------------\u001b[0m",
      "\u001b[0;31mRuntimeError\u001b[0m                              Traceback (most recent call last)",
      "Cell \u001b[0;32mIn[15], line 1\u001b[0m\n\u001b[0;32m----> 1\u001b[0m \u001b[43mAnimator\u001b[49m\u001b[38;5;241;43m.\u001b[39;49m\u001b[43manimate_UAV_FLPO_3D\u001b[49m\u001b[43m(\u001b[49m\n\u001b[1;32m      2\u001b[0m \u001b[43m        \u001b[49m\u001b[43mSTART_locs\u001b[49m\u001b[43m,\u001b[49m\n\u001b[1;32m      3\u001b[0m \u001b[43m        \u001b[49m\u001b[43mEND_locs\u001b[49m\u001b[43m,\u001b[49m\n\u001b[1;32m      4\u001b[0m \u001b[43m        \u001b[49m\u001b[43mY_arr\u001b[49m\u001b[43m,\u001b[49m\n\u001b[1;32m      5\u001b[0m \u001b[43m        \u001b[49m\u001b[43mstart_altitudes\u001b[49m\u001b[38;5;241;43m=\u001b[39;49m\u001b[38;5;28;43;01mNone\u001b[39;49;00m\u001b[43m,\u001b[49m\n\u001b[1;32m      6\u001b[0m \u001b[43m        \u001b[49m\u001b[43mend_altitudes\u001b[49m\u001b[38;5;241;43m=\u001b[39;49m\u001b[38;5;28;43;01mNone\u001b[39;49;00m\u001b[43m,\u001b[49m\n\u001b[1;32m      7\u001b[0m \u001b[43m        \u001b[49m\u001b[43mfacility_heights_list\u001b[49m\u001b[38;5;241;43m=\u001b[39;49m\u001b[38;5;28;43;01mNone\u001b[39;49;00m\u001b[43m,\u001b[49m\n\u001b[1;32m      8\u001b[0m \u001b[43m        \u001b[49m\u001b[43mscene_title\u001b[49m\u001b[38;5;241;43m=\u001b[39;49m\u001b[38;5;124;43m\"\u001b[39;49m\u001b[38;5;124;43mUAV Spatial Deployment Over Time\u001b[39;49m\u001b[38;5;124;43m\"\u001b[39;49m\u001b[43m,\u001b[49m\n\u001b[1;32m      9\u001b[0m \u001b[43m        \u001b[49m\u001b[43moutput_gif\u001b[49m\u001b[38;5;241;43m=\u001b[39;49m\u001b[38;5;124;43m\"\u001b[39;49m\u001b[38;5;124;43mfacility_movement_3D.gif\u001b[39;49m\u001b[38;5;124;43m\"\u001b[39;49m\u001b[43m,\u001b[49m\n\u001b[1;32m     10\u001b[0m \u001b[43m        \u001b[49m\u001b[43mframe_duration\u001b[49m\u001b[38;5;241;43m=\u001b[39;49m\u001b[38;5;241;43m100\u001b[39;49m\u001b[43m,\u001b[49m\n\u001b[1;32m     11\u001b[0m \u001b[43m        \u001b[49m\u001b[43mrender_timeout\u001b[49m\u001b[38;5;241;43m=\u001b[39;49m\u001b[38;5;241;43m30\u001b[39;49m\u001b[43m,\u001b[49m\n\u001b[1;32m     12\u001b[0m \u001b[43m        \u001b[49m\u001b[43mcamera\u001b[49m\u001b[43m \u001b[49m\u001b[38;5;241;43m=\u001b[39;49m\u001b[43m \u001b[49m\u001b[43m(\u001b[49m\u001b[38;5;241;43m0.3\u001b[39;49m\u001b[43m,\u001b[49m\u001b[38;5;241;43m0.7\u001b[39;49m\u001b[43m,\u001b[49m\u001b[38;5;241;43m2.0\u001b[39;49m\u001b[43m)\u001b[49m\n\u001b[1;32m     13\u001b[0m \u001b[43m    \u001b[49m\u001b[43m)\u001b[49m\n",
      "File \u001b[0;32m~/Documents/NASA_ULI/Review_May2025/LearningFLPO/Animator.py:324\u001b[0m, in \u001b[0;36manimate_UAV_FLPO_3D\u001b[0;34m(drone_START, drone_END, Facilities_list, start_altitudes, end_altitudes, facility_heights_list, scene_title, output_gif, frame_duration, render_timeout, camera)\u001b[0m\n\u001b[1;32m    322\u001b[0m \u001b[38;5;28;01mif\u001b[39;00m \u001b[38;5;129;01mnot\u001b[39;00m images:\n\u001b[1;32m    323\u001b[0m     logging\u001b[38;5;241m.\u001b[39merror(\u001b[38;5;124m\"\u001b[39m\u001b[38;5;124mNo frames were successfully rendered.\u001b[39m\u001b[38;5;124m\"\u001b[39m)\n\u001b[0;32m--> 324\u001b[0m     \u001b[38;5;28;01mraise\u001b[39;00m \u001b[38;5;167;01mRuntimeError\u001b[39;00m(\u001b[38;5;124m\"\u001b[39m\u001b[38;5;124mFailed to render any frames for the GIF.\u001b[39m\u001b[38;5;124m\"\u001b[39m)\n\u001b[1;32m    326\u001b[0m \u001b[38;5;66;03m# Save GIF\u001b[39;00m\n\u001b[1;32m    327\u001b[0m logging\u001b[38;5;241m.\u001b[39minfo(\u001b[38;5;124mf\u001b[39m\u001b[38;5;124m\"\u001b[39m\u001b[38;5;124mSaving GIF to \u001b[39m\u001b[38;5;132;01m{\u001b[39;00moutput_gif\u001b[38;5;132;01m}\u001b[39;00m\u001b[38;5;124m\"\u001b[39m)\n",
      "\u001b[0;31mRuntimeError\u001b[0m: Failed to render any frames for the GIF."
     ]
    }
   ],
   "source": [
    "Animator.animate_UAV_FLPO_3D(\n",
    "        START_locs,\n",
    "        END_locs,\n",
    "        Y_arr,\n",
    "        start_altitudes=None,\n",
    "        end_altitudes=None,\n",
    "        facility_heights_list=None,\n",
    "        scene_title=\"UAV Spatial Deployment Over Time\",\n",
    "        output_gif=\"facility_movement_3D.gif\",\n",
    "        frame_duration=100,\n",
    "        render_timeout=30,\n",
    "        camera = (0.3,0.7,2.0)\n",
    "    )"
   ]
  },
  {
   "cell_type": "markdown",
   "metadata": {},
   "source": [
    "### Compare with original FLPO solution"
   ]
  },
  {
   "cell_type": "code",
   "execution_count": 12,
   "metadata": {},
   "outputs": [
    {
     "data": {
      "image/png": "[encoded data removed]",
      "text/plain": [
       "<Figure size 400x300 with 1 Axes>"
      ]
     },
     "metadata": {},
     "output_type": "display_data"
    }
   ],
   "source": [
    "import classFLPO as cf\n",
    "importlib.reload(cf)\n",
    "\n",
    "flpo_filename = 'numpy_FLPO_data/numpy_FLPO_data'\n",
    "flpo = cf.FLPO(flpo_filename, plotFLPO=True, disType='sqeuclidean', selfHop=True)"
   ]
  },
  {
   "cell_type": "code",
   "execution_count": 14,
   "metadata": {},
   "outputs": [],
   "source": [
    "Y0 = flpo.facilityLocations\n",
    "init_guess = Y0.flatten()"
   ]
  },
  {
   "cell_type": "code",
   "execution_count": 15,
   "metadata": {},
   "outputs": [
    {
     "name": "stdout",
     "output_type": "stream",
     "text": [
      "`gtol` termination condition is satisfied.\n",
      "Number of iterations: 158, function evaluations: 7298, CG iterations: 1011, optimality: 5.28e-09, constraint violation: 0.00e+00, execution time:  3.0 s.\n"
     ]
    }
   ],
   "source": [
    "cost, params, time = flpo.optimize_D(init_guess, beta=1e5, method='trust-constr', method_options={'verbose':1})"
   ]
  },
  {
   "cell_type": "code",
   "execution_count": 16,
   "metadata": {},
   "outputs": [
    {
     "data": {
      "image/png": "[encoded data removed]",
      "text/plain": [
       "<Figure size 400x300 with 1 Axes>"
      ]
     },
     "metadata": {},
     "output_type": "display_data"
    },
    {
     "data": {
      "image/png": "[encoded data removed]",
      "text/plain": [
       "<Figure size 400x300 with 1 Axes>"
      ]
     },
     "metadata": {},
     "output_type": "display_data"
    }
   ],
   "source": [
    "flpo.facilityLocations = params.reshape(-1,2)\n",
    "flpo.plotFLPO()\n",
    "ext_facilities = F_base.cpu().squeeze().detach().numpy()\n",
    "flpo.facilityLocations = ext_facilities\n",
    "flpo.plotFLPO()"
   ]
  },
  {
   "cell_type": "code",
   "execution_count": 21,
   "metadata": {},
   "outputs": [
    {
     "name": "stderr",
     "output_type": "stream",
     "text": [
      "c:\\Users\\salar\\AppData\\Local\\Programs\\Python\\Python310\\lib\\site-packages\\scipy\\optimize\\_differentiable_functions.py:231: UserWarning:\n",
      "\n",
      "delta_grad == 0.0. Check if the approximated function is linear. If the function is linear better results can be obtained by defining the Hessian as zero instead of using quasi-Newton approximations.\n",
      "\n"
     ]
    },
    {
     "name": "stdout",
     "output_type": "stream",
     "text": [
      "beta: 3.0000e-03\tFreeE: -59965.7799\n",
      "beta: 9.0000e-03\tFreeE: -19988.4874\n",
      "beta: 2.7000e-02\tFreeE: -6662.7232\n",
      "beta: 8.1000e-02\tFreeE: -2220.8018\n",
      "beta: 2.4300e-01\tFreeE: -740.1614\n",
      "beta: 7.2900e-01\tFreeE: -246.6145\n",
      "beta: 2.1870e+00\tFreeE: -82.0989\n",
      "beta: 6.5610e+00\tFreeE: -27.2604\n",
      "beta: 1.9683e+01\tFreeE: -8.9809\n",
      "beta: 5.9049e+01\tFreeE: -2.8877\n",
      "beta: 1.7715e+02\tFreeE: -0.8567\n",
      "beta: 5.3144e+02\tFreeE: -0.2029\n",
      "beta: 1.5943e+03\tFreeE: -0.0180\n",
      "beta: 4.7830e+03\tFreeE: 0.0258\n",
      "beta: 1.4349e+04\tFreeE: 0.0354\n",
      "beta: 4.3047e+04\tFreeE: 0.0359\n",
      "beta: 1.2914e+05\tFreeE: 0.0354\n"
     ]
    }
   ],
   "source": [
    "beta_o = beta_min\n",
    "params_o = Y0.flatten()\n",
    "b_arr_o = []\n",
    "F_arr_o = []\n",
    "\n",
    "while beta_o <= beta_max:\n",
    "    cost_o, params_o, time = flpo.optimize_D(params_o, beta=beta_o, method='trust-constr', method_options={'verbose':0})\n",
    "    b_arr_o.append(beta_o)\n",
    "    F_arr_o.append(cost_o)\n",
    "\n",
    "    params_o = params_o + 0.01*np.random.uniform(-1,1,params_o.shape)\n",
    "    beta_o = beta_grow * beta_o\n",
    "\n",
    "    print(\n",
    "        f\"beta: {beta_o:.4e}\\tFreeE: {cost_o:.4f}\"\n",
    "    )"
   ]
  },
  {
   "cell_type": "code",
   "execution_count": 22,
   "metadata": {},
   "outputs": [
    {
     "data": {
      "image/png": "[encoded data removed]",
      "text/plain": [
       "<Figure size 400x300 with 1 Axes>"
      ]
     },
     "metadata": {},
     "output_type": "display_data"
    }
   ],
   "source": [
    "flpo.facilityLocations = params_o.reshape(-1,2)\n",
    "flpo.plotFLPO()"
   ]
  },
  {
   "cell_type": "code",
   "execution_count": 74,
   "metadata": {},
   "outputs": [
    {
     "data": {
      "image/png": "[encoded data removed]",
      "text/plain": [
       "<Figure size 1000x300 with 1 Axes>"
      ]
     },
     "metadata": {},
     "output_type": "display_data"
    }
   ],
   "source": [
    "# plot free energy evolution\n",
    "plt.figure(figsize=(10,3))\n",
    "plt.plot(np.log(b_arr_o)/np.log(10), F_arr_o, marker='.')\n",
    "plt.ylabel(rf'$F$')\n",
    "plt.xlabel(rf'$\\log_{{10}}\\beta$')\n",
    "plt.grid()\n",
    "plt.show()"
   ]
  }
 ],
 "metadata": {
  "kernelspec": {
   "display_name": "Python 3",
   "language": "python",
   "name": "python3"
  },
  "language_info": {
   "codemirror_mode": {
    "name": "ipython",
    "version": 3
   },
   "file_extension": ".py",
   "mimetype": "text/x-python",
   "name": "python",
   "nbconvert_exporter": "python",
   "pygments_lexer": "ipython3",
   "version": "3.9.6"
  }
 },
 "nbformat": 4,
 "nbformat_minor": 2
}
