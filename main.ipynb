{
 "cells": [
  {
   "cell_type": "markdown",
   "metadata": {},
   "source": [
    "# Learning FLPO"
   ]
  },
  {
   "cell_type": "markdown",
   "metadata": {},
   "source": [
    "In this code, we will implement the hierarchical ML architecture to predict the parameters in the FLPO setup."
   ]
  },
  {
   "cell_type": "code",
   "execution_count": 1,
   "metadata": {},
   "outputs": [],
   "source": [
    "import torch\n",
    "from VRP_Net_L import VRPNet_L\n",
    "from matplotlib import pyplot as plt\n",
    "from utils import *\n",
    "import os\n",
    "import matplotlib.pyplot as plt\n",
    "from torchinfo import summary\n",
    "import numpy as np\n",
    "import time\n",
    "import LSE_net\n",
    "from torch import optim"
   ]
  },
  {
   "cell_type": "markdown",
   "metadata": {},
   "source": [
    "# Loading the Data"
   ]
  },
  {
   "cell_type": "code",
   "execution_count": 2,
   "metadata": {},
   "outputs": [
    {
     "name": "stdout",
     "output_type": "stream",
     "text": [
      "Running on:  cpu\n",
      "Data Loaded.\n"
     ]
    }
   ],
   "source": [
    "\n",
    "seed=42;\n",
    "torch.manual_seed(seed)\n",
    "torch.cuda.manual_seed(seed)\n",
    "torch.cuda.manual_seed_all(seed)\n",
    "device = torch.device('cuda') if torch.cuda.is_available() else torch.device('cpu')\n",
    "print(\"Running on: \" , device)\n",
    "num_drones = 100 # number of FLPO instances\n",
    "num_facilities = 4\n",
    "dim_ = 2\n",
    "# START and END locations: no grads needed\n",
    "START_locs = torch.rand(num_drones, 1, dim_, requires_grad=False, device=device)\n",
    "END_locs   = torch.ones((num_drones, 1, dim_), requires_grad=False, device=device)#torch.rand(num_drones, 1, dim_, requires_grad=False, device=device)\n",
    "\n",
    "# Facility locations: we want grads here\n",
    "# We create a base tensor with requires_grad=True, then expand it\n",
    "# F_base = torch.rand(1, num_facilities, dim_, requires_grad=True, device=device)\n",
    "F_base = torch.mean(START_locs, dim=0).repeat(num_facilities, 1).unsqueeze(0).requires_grad_().to(device)\n",
    "F_locs = F_base.expand(num_drones, -1, -1)  # view, shares grad with F_base\n",
    "data = torch.cat((START_locs, F_locs, END_locs), dim=1)  # shape: (Nd, Nf+2, D)\n",
    "print(\"Data Loaded.\")\n"
   ]
  },
  {
   "cell_type": "code",
   "execution_count": 3,
   "metadata": {},
   "outputs": [
    {
     "data": {
      "text/plain": [
       "torch.Size([1, 4, 2])"
      ]
     },
     "execution_count": 3,
     "metadata": {},
     "output_type": "execute_result"
    }
   ],
   "source": [
    "F_base.shape"
   ]
  },
  {
   "cell_type": "markdown",
   "metadata": {},
   "source": [
    "# Loading the VRP NET Module"
   ]
  },
  {
   "cell_type": "code",
   "execution_count": 4,
   "metadata": {},
   "outputs": [
    {
     "name": "stdout",
     "output_type": "stream",
     "text": [
      "VRP NET loaded on:  cpu\n",
      "===============================================================================================\n",
      "Layer (type:depth-idx)                                                 Param #\n",
      "===============================================================================================\n",
      "VRPNet_L                                                               --\n",
      "├─LinearAttnEncoder: 1-1                                               2,560\n",
      "│    └─MultiheadAttention: 2-1                                         197,376\n",
      "│    │    └─NonDynamicallyQuantizableLinear: 3-1                       65,792\n",
      "│    └─Linear: 2-2                                                     768\n",
      "│    └─Linear: 2-3                                                     8,224\n",
      "│    └─LayerNorm: 2-4                                                  512\n",
      "│    └─Dropout: 2-5                                                    --\n",
      "│    └─ReLU: 2-6                                                       --\n",
      "├─Decoder: 1-2                                                         --\n",
      "│    └─TransformerDecoder: 2-7                                         --\n",
      "│    │    └─ModuleList: 3-2                                            16,992\n",
      "├─PositionalEncoding: 1-3                                              --\n",
      "===============================================================================================\n",
      "Total params: 292,224\n",
      "Trainable params: 292,224\n",
      "Non-trainable params: 0\n",
      "===============================================================================================\n"
     ]
    }
   ],
   "source": [
    "hidden_dim = 32\n",
    "num_layers_enc = 1\n",
    "num_layers_dec = 1\n",
    "num_heads = 8\n",
    "torch.cuda.empty_cache()\n",
    "vrp_net = VRPNet_L(dim_, hidden_dim, device, num_layers_enc, num_layers_dec, num_heads)\n",
    "if torch.cuda.is_available():\n",
    "    vrp_net.load_state_dict(torch.load('Saved models/POMO2025_04_12 00_54_260.6350972652435303best_model.pth',weights_only=True))\n",
    "else:\n",
    "    vrp_net.load_state_dict(torch.load('Saved models/POMO2025_04_12 00_54_260.6350972652435303best_model.pth',weights_only=False, map_location=torch.device('cpu')))\n",
    "vrp_net.eval()\n",
    "\n",
    "# for param in vrp_net.parameters():\n",
    "#     param.requires_grad = False\n",
    "print('VRP NET loaded on: ',vrp_net.device)\n",
    "print(summary(vrp_net))"
   ]
  },
  {
   "cell_type": "markdown",
   "metadata": {},
   "source": [
    "# Loading lseNet"
   ]
  },
  {
   "cell_type": "code",
   "execution_count": 5,
   "metadata": {},
   "outputs": [
    {
     "name": "stdout",
     "output_type": "stream",
     "text": [
      "n_inputs:3\tn_outputs:1\tlayers:[20, 10]\n",
      "lse_net:\n",
      "dnn(\n",
      "  (layers): ModuleList(\n",
      "    (0): Linear(in_features=3, out_features=20, bias=True)\n",
      "    (1): ReLU()\n",
      "    (2): Linear(in_features=20, out_features=10, bias=True)\n",
      "    (3): ReLU()\n",
      "    (4): Linear(in_features=10, out_features=1, bias=True)\n",
      "  )\n",
      ")\n",
      "=================================================================\n",
      "Layer (type:depth-idx)                   Param #\n",
      "=================================================================\n",
      "dnn                                      --\n",
      "├─ModuleList: 1-1                        --\n",
      "│    └─Linear: 2-1                       (80)\n",
      "│    └─ReLU: 2-2                         --\n",
      "│    └─Linear: 2-3                       (210)\n",
      "│    └─ReLU: 2-4                         --\n",
      "│    └─Linear: 2-5                       (11)\n",
      "=================================================================\n",
      "Total params: 301\n",
      "Trainable params: 0\n",
      "Non-trainable params: 301\n",
      "=================================================================\n"
     ]
    }
   ],
   "source": [
    "\n",
    "lse_data = torch.load('logSumExp_models/dnn_2543_1624.pth', weights_only=False)\n",
    "n_inputs = lse_data['n_inputs']\n",
    "n_outputs = lse_data['n_outputs']\n",
    "layers = lse_data['layers']\n",
    "weights = lse_data['model_state_dict']\n",
    "lse_net = LSE_net.dnn(n_inputs, n_outputs, layers)\n",
    "lse_net.to(device)\n",
    "lse_net.load_state_dict(weights)\n",
    "lse_net.eval()\n",
    "for p in lse_net.parameters():\n",
    "    p.requires_grad = False\n",
    "print(f'n_inputs:{n_inputs}\\tn_outputs:{n_outputs}\\tlayers:{layers}\\nlse_net:\\n{lse_net}')\n",
    "print(summary(lse_net))"
   ]
  },
  {
   "cell_type": "code",
   "execution_count": 6,
   "metadata": {},
   "outputs": [
    {
     "name": "stdout",
     "output_type": "stream",
     "text": [
      "beta:1.000e-02\n",
      "\tTime: 0.02s\tFreeEnergy: -519.25\tF_Grad: 1.864e-01\n",
      "\tTime: 0.02s\tFreeEnergy: -519.25\tF_Grad: 1.711e-01\n",
      "\tTime: 0.01s\tFreeEnergy: -519.26\tF_Grad: 1.588e-01\n",
      "\tTime: 0.01s\tFreeEnergy: -519.26\tF_Grad: 1.133e-01\n",
      "\tTime: 0.01s\tFreeEnergy: -519.26\tF_Grad: 1.400e-01\n",
      "\tTime: 0.01s\tFreeEnergy: -519.26\tF_Grad: 1.670e-01\n",
      "\tTime: 0.01s\tFreeEnergy: -519.26\tF_Grad: 1.670e-01\n",
      "\tTime: 0.01s\tFreeEnergy: -519.26\tF_Grad: 1.442e-01\n",
      "\tTime: 0.02s\tFreeEnergy: -519.26\tF_Grad: 1.516e-01\n",
      "\tTime: 0.02s\tFreeEnergy: -519.26\tF_Grad: 1.691e-01\n",
      "\tTime: 0.02s\tFreeEnergy: -519.26\tF_Grad: 1.445e-01\n",
      "\tTime: 0.01s\tFreeEnergy: -519.26\tF_Grad: 1.587e-01\n",
      "\tTime: 0.01s\tFreeEnergy: -519.27\tF_Grad: 1.541e-01\n",
      "\tTime: 0.01s\tFreeEnergy: -519.27\tF_Grad: 1.434e-01\n",
      "\tTime: 0.01s\tFreeEnergy: -519.27\tF_Grad: 1.347e-01\n",
      "\tTime: 0.01s\tFreeEnergy: -519.27\tF_Grad: 1.624e-01\n",
      "\tTime: 0.01s\tFreeEnergy: -519.27\tF_Grad: 1.414e-01\n",
      "\tTime: 0.02s\tFreeEnergy: -519.27\tF_Grad: 1.602e-01\n",
      "\tTime: 0.02s\tFreeEnergy: -519.27\tF_Grad: 1.496e-01\n",
      "\tTime: 0.01s\tFreeEnergy: -519.27\tF_Grad: 1.511e-01\n",
      "beta:1.629e-02\n",
      "\tTime: 0.01s\tFreeEnergy: -311.21\tF_Grad: 2.332e-01\n",
      "\tTime: 0.02s\tFreeEnergy: -311.21\tF_Grad: 2.413e-01\n",
      "\tTime: 0.01s\tFreeEnergy: -311.22\tF_Grad: 2.377e-01\n",
      "\tTime: 0.01s\tFreeEnergy: -311.22\tF_Grad: 2.343e-01\n",
      "\tTime: 0.01s\tFreeEnergy: -311.22\tF_Grad: 2.476e-01\n",
      "\tTime: 0.02s\tFreeEnergy: -311.22\tF_Grad: 2.292e-01\n",
      "\tTime: 0.01s\tFreeEnergy: -311.23\tF_Grad: 2.089e-01\n",
      "\tTime: 0.01s\tFreeEnergy: -311.23\tF_Grad: 2.390e-01\n",
      "\tTime: 0.01s\tFreeEnergy: -311.24\tF_Grad: 2.407e-01\n",
      "\tTime: 0.01s\tFreeEnergy: -311.24\tF_Grad: 2.433e-01\n",
      "\tTime: 0.02s\tFreeEnergy: -311.25\tF_Grad: 2.441e-01\n",
      "\tTime: 0.01s\tFreeEnergy: -311.25\tF_Grad: 2.554e-01\n",
      "\tTime: 0.01s\tFreeEnergy: -311.25\tF_Grad: 2.815e-01\n",
      "\tTime: 0.01s\tFreeEnergy: -311.26\tF_Grad: 2.806e-01\n",
      "\tTime: 0.01s\tFreeEnergy: -311.27\tF_Grad: 2.846e-01\n",
      "\tTime: 0.01s\tFreeEnergy: -311.27\tF_Grad: 2.879e-01\n",
      "\tTime: 0.01s\tFreeEnergy: -311.28\tF_Grad: 2.945e-01\n",
      "\tTime: 0.01s\tFreeEnergy: -311.28\tF_Grad: 2.927e-01\n",
      "\tTime: 0.02s\tFreeEnergy: -311.29\tF_Grad: 2.884e-01\n",
      "\tTime: 0.02s\tFreeEnergy: -311.29\tF_Grad: 3.032e-01\n",
      "beta:2.653e-02\n",
      "\tTime: 0.02s\tFreeEnergy: -174.41\tF_Grad: 2.602e-02\n",
      "\tTime: 0.02s\tFreeEnergy: -174.41\tF_Grad: 2.673e-02\n",
      "\tTime: 0.02s\tFreeEnergy: -174.41\tF_Grad: 2.665e-02\n",
      "\tTime: 0.02s\tFreeEnergy: -174.41\tF_Grad: 2.663e-02\n",
      "\tTime: 0.02s\tFreeEnergy: -174.41\tF_Grad: 2.610e-02\n",
      "\tTime: 0.02s\tFreeEnergy: -174.41\tF_Grad: 2.600e-02\n",
      "\tTime: 0.02s\tFreeEnergy: -174.41\tF_Grad: 2.638e-02\n",
      "\tTime: 0.02s\tFreeEnergy: -174.41\tF_Grad: 2.621e-02\n",
      "\tTime: 0.02s\tFreeEnergy: -174.41\tF_Grad: 2.604e-02\n",
      "\tTime: 0.02s\tFreeEnergy: -174.41\tF_Grad: 2.587e-02\n",
      "\tTime: 0.02s\tFreeEnergy: -174.41\tF_Grad: 2.630e-02\n",
      "\tTime: 0.02s\tFreeEnergy: -174.41\tF_Grad: 2.612e-02\n",
      "\tTime: 0.02s\tFreeEnergy: -174.41\tF_Grad: 2.652e-02\n",
      "\tTime: 0.02s\tFreeEnergy: -174.41\tF_Grad: 2.633e-02\n",
      "\tTime: 0.02s\tFreeEnergy: -174.41\tF_Grad: 2.615e-02\n",
      "\tTime: 0.02s\tFreeEnergy: -174.41\tF_Grad: 2.596e-02\n",
      "\tTime: 0.02s\tFreeEnergy: -174.41\tF_Grad: 2.505e-02\n",
      "\tTime: 0.02s\tFreeEnergy: -174.41\tF_Grad: 2.487e-02\n",
      "\tTime: 0.02s\tFreeEnergy: -174.41\tF_Grad: 2.432e-02\n",
      "\tTime: 0.02s\tFreeEnergy: -174.41\tF_Grad: 2.369e-02\n",
      "beta:4.322e-02\n",
      "\tTime: 0.02s\tFreeEnergy: -104.56\tF_Grad: 1.644e-01\n",
      "\tTime: 0.02s\tFreeEnergy: -104.56\tF_Grad: 1.658e-01\n",
      "\tTime: 0.02s\tFreeEnergy: -104.56\tF_Grad: 1.719e-01\n",
      "\tTime: 0.02s\tFreeEnergy: -104.56\tF_Grad: 1.631e-01\n",
      "\tTime: 0.02s\tFreeEnergy: -104.57\tF_Grad: 1.671e-01\n",
      "\tTime: 0.02s\tFreeEnergy: -104.58\tF_Grad: 1.556e-01\n",
      "\tTime: 0.02s\tFreeEnergy: -104.58\tF_Grad: 1.523e-01\n",
      "\tTime: 0.02s\tFreeEnergy: -104.58\tF_Grad: 1.448e-01\n",
      "\tTime: 0.02s\tFreeEnergy: -104.58\tF_Grad: 1.368e-01\n",
      "\tTime: 0.02s\tFreeEnergy: -104.59\tF_Grad: 1.457e-01\n",
      "\tTime: 0.02s\tFreeEnergy: -104.59\tF_Grad: 1.376e-01\n",
      "\tTime: 0.02s\tFreeEnergy: -104.59\tF_Grad: 1.323e-01\n",
      "\tTime: 0.02s\tFreeEnergy: -104.59\tF_Grad: 1.258e-01\n",
      "\tTime: 0.02s\tFreeEnergy: -104.60\tF_Grad: 1.228e-01\n",
      "\tTime: 0.02s\tFreeEnergy: -104.60\tF_Grad: 1.348e-01\n",
      "\tTime: 0.02s\tFreeEnergy: -104.60\tF_Grad: 1.163e-01\n",
      "\tTime: 0.02s\tFreeEnergy: -104.60\tF_Grad: 1.273e-01\n",
      "\tTime: 0.02s\tFreeEnergy: -104.60\tF_Grad: 1.161e-01\n",
      "\tTime: 0.02s\tFreeEnergy: -104.61\tF_Grad: 1.308e-01\n",
      "\tTime: 0.02s\tFreeEnergy: -104.61\tF_Grad: 1.145e-01\n",
      "beta:7.040e-02\n",
      "\tTime: 0.02s\tFreeEnergy: -44.53\tF_Grad: 6.166e-01\n",
      "\tTime: 0.02s\tFreeEnergy: -44.56\tF_Grad: 6.057e-01\n",
      "\tTime: 0.02s\tFreeEnergy: -44.60\tF_Grad: 5.575e-01\n",
      "\tTime: 0.02s\tFreeEnergy: -44.64\tF_Grad: 5.313e-01\n",
      "\tTime: 0.02s\tFreeEnergy: -44.67\tF_Grad: 4.518e-01\n",
      "\tTime: 0.02s\tFreeEnergy: -44.70\tF_Grad: 4.543e-01\n",
      "\tTime: 0.02s\tFreeEnergy: -44.73\tF_Grad: 4.224e-01\n",
      "\tTime: 0.02s\tFreeEnergy: -44.74\tF_Grad: 3.923e-01\n",
      "\tTime: 0.02s\tFreeEnergy: -44.77\tF_Grad: 3.610e-01\n",
      "\tTime: 0.02s\tFreeEnergy: -44.79\tF_Grad: 3.381e-01\n",
      "\tTime: 0.02s\tFreeEnergy: -44.81\tF_Grad: 3.200e-01\n",
      "\tTime: 0.02s\tFreeEnergy: -44.85\tF_Grad: 3.770e-01\n",
      "\tTime: 0.02s\tFreeEnergy: -44.86\tF_Grad: 3.323e-01\n",
      "\tTime: 0.02s\tFreeEnergy: -44.87\tF_Grad: 2.932e-01\n",
      "\tTime: 0.02s\tFreeEnergy: -44.88\tF_Grad: 2.545e-01\n",
      "\tTime: 0.02s\tFreeEnergy: -44.88\tF_Grad: 2.254e-01\n",
      "\tTime: 0.02s\tFreeEnergy: -44.89\tF_Grad: 2.051e-01\n",
      "\tTime: 0.02s\tFreeEnergy: -44.89\tF_Grad: 1.955e-01\n",
      "\tTime: 0.02s\tFreeEnergy: -44.90\tF_Grad: 1.844e-01\n",
      "\tTime: 0.02s\tFreeEnergy: -44.90\tF_Grad: 1.753e-01\n",
      "beta:1.147e-01\n",
      "\tTime: 0.02s\tFreeEnergy: -21.57\tF_Grad: 1.102e-01\n",
      "\tTime: 0.02s\tFreeEnergy: -21.57\tF_Grad: 1.042e-01\n",
      "\tTime: 0.02s\tFreeEnergy: -21.57\tF_Grad: 9.908e-02\n",
      "\tTime: 0.02s\tFreeEnergy: -21.57\tF_Grad: 9.498e-02\n",
      "\tTime: 0.02s\tFreeEnergy: -21.57\tF_Grad: 8.871e-02\n",
      "\tTime: 0.02s\tFreeEnergy: -21.57\tF_Grad: 8.605e-02\n",
      "\tTime: 0.02s\tFreeEnergy: -21.57\tF_Grad: 8.093e-02\n",
      "\tTime: 0.02s\tFreeEnergy: -21.57\tF_Grad: 7.744e-02\n",
      "\tTime: 0.02s\tFreeEnergy: -21.57\tF_Grad: 7.288e-02\n",
      "\tTime: 0.02s\tFreeEnergy: -21.58\tF_Grad: 7.051e-02\n",
      "\tTime: 0.02s\tFreeEnergy: -21.58\tF_Grad: 6.917e-02\n",
      "\tTime: 0.02s\tFreeEnergy: -21.58\tF_Grad: 6.655e-02\n",
      "\tTime: 0.02s\tFreeEnergy: -21.58\tF_Grad: 6.271e-02\n",
      "\tTime: 0.02s\tFreeEnergy: -21.58\tF_Grad: 5.907e-02\n",
      "\tTime: 0.02s\tFreeEnergy: -21.58\tF_Grad: 5.564e-02\n",
      "\tTime: 0.02s\tFreeEnergy: -21.58\tF_Grad: 5.668e-02\n",
      "\tTime: 0.02s\tFreeEnergy: -21.58\tF_Grad: 5.545e-02\n",
      "\tTime: 0.02s\tFreeEnergy: -21.58\tF_Grad: 5.452e-02\n",
      "\tTime: 0.02s\tFreeEnergy: -21.58\tF_Grad: 5.086e-02\n",
      "\tTime: 0.02s\tFreeEnergy: -21.58\tF_Grad: 4.689e-02\n",
      "beta:1.868e-01\n",
      "\tTime: 0.02s\tFreeEnergy: -3.51\tF_Grad: 4.398e-02\n",
      "\tTime: 0.02s\tFreeEnergy: -3.51\tF_Grad: 4.122e-02\n",
      "\tTime: 0.02s\tFreeEnergy: -3.51\tF_Grad: 3.868e-02\n",
      "\tTime: 0.02s\tFreeEnergy: -3.51\tF_Grad: 3.630e-02\n",
      "\tTime: 0.02s\tFreeEnergy: -3.51\tF_Grad: 3.407e-02\n",
      "\tTime: 0.02s\tFreeEnergy: -3.51\tF_Grad: 3.197e-02\n",
      "\tTime: 0.02s\tFreeEnergy: -3.51\tF_Grad: 3.199e-02\n",
      "\tTime: 0.02s\tFreeEnergy: -3.51\tF_Grad: 3.163e-02\n",
      "\tTime: 0.03s\tFreeEnergy: -3.51\tF_Grad: 2.961e-02\n",
      "\tTime: 0.02s\tFreeEnergy: -3.51\tF_Grad: 2.772e-02\n",
      "\tTime: 0.02s\tFreeEnergy: -3.51\tF_Grad: 2.735e-02\n",
      "\tTime: 0.02s\tFreeEnergy: -3.51\tF_Grad: 2.689e-02\n",
      "\tTime: 0.02s\tFreeEnergy: -3.50\tF_Grad: 2.771e-02\n",
      "\tTime: 0.02s\tFreeEnergy: -3.50\tF_Grad: 2.501e-02\n",
      "\tTime: 0.02s\tFreeEnergy: -3.50\tF_Grad: 2.403e-02\n",
      "\tTime: 0.02s\tFreeEnergy: -3.50\tF_Grad: 2.216e-02\n",
      "\tTime: 0.02s\tFreeEnergy: -3.50\tF_Grad: 2.051e-02\n",
      "\tTime: 0.02s\tFreeEnergy: -3.50\tF_Grad: 1.908e-02\n",
      "\tTime: 0.02s\tFreeEnergy: -3.50\tF_Grad: 1.781e-02\n",
      "\tTime: 0.02s\tFreeEnergy: -3.50\tF_Grad: 1.662e-02\n",
      "beta:3.043e-01\n",
      "\tTime: 0.02s\tFreeEnergy: 13.18\tF_Grad: 1.401e-02\n",
      "\tTime: 0.02s\tFreeEnergy: 13.18\tF_Grad: 1.311e-02\n",
      "\tTime: 0.02s\tFreeEnergy: 13.18\tF_Grad: 1.229e-02\n",
      "\tTime: 0.02s\tFreeEnergy: 13.18\tF_Grad: 1.153e-02\n",
      "\tTime: 0.02s\tFreeEnergy: 13.18\tF_Grad: 1.081e-02\n",
      "\tTime: 0.02s\tFreeEnergy: 13.18\tF_Grad: 1.013e-02\n",
      "\tTime: 0.02s\tFreeEnergy: 13.18\tF_Grad: 9.497e-03\n",
      "\tTime: 0.02s\tFreeEnergy: 13.18\tF_Grad: 8.896e-03\n",
      "\tTime: 0.02s\tFreeEnergy: 13.18\tF_Grad: 1.094e-02\n",
      "\tTime: 0.02s\tFreeEnergy: 13.18\tF_Grad: 1.703e-02\n",
      "\tTime: 0.02s\tFreeEnergy: 13.17\tF_Grad: 4.147e-02\n",
      "\tTime: 0.02s\tFreeEnergy: 13.17\tF_Grad: 4.341e-02\n",
      "\tTime: 0.02s\tFreeEnergy: 13.17\tF_Grad: 3.430e-02\n",
      "\tTime: 0.02s\tFreeEnergy: 13.17\tF_Grad: 2.304e-02\n",
      "\tTime: 0.02s\tFreeEnergy: 13.17\tF_Grad: 1.725e-02\n",
      "\tTime: 0.02s\tFreeEnergy: 13.17\tF_Grad: 1.146e-02\n",
      "\tTime: 0.02s\tFreeEnergy: 13.17\tF_Grad: 8.074e-03\n",
      "\tTime: 0.02s\tFreeEnergy: 13.17\tF_Grad: 5.840e-03\n",
      "\tTime: 0.02s\tFreeEnergy: 13.17\tF_Grad: 4.518e-03\n",
      "\tTime: 0.03s\tFreeEnergy: 13.17\tF_Grad: 3.737e-03\n",
      "beta:4.956e-01\n",
      "\tTime: 0.02s\tFreeEnergy: 11.81\tF_Grad: 3.216e-03\n",
      "\tTime: 0.02s\tFreeEnergy: 11.81\tF_Grad: 2.818e-03\n",
      "\tTime: 0.02s\tFreeEnergy: 11.81\tF_Grad: 2.493e-03\n",
      "\tTime: 0.02s\tFreeEnergy: 11.81\tF_Grad: 2.221e-03\n",
      "\tTime: 0.02s\tFreeEnergy: 11.81\tF_Grad: 1.990e-03\n",
      "\tTime: 0.02s\tFreeEnergy: 11.81\tF_Grad: 1.791e-03\n",
      "\tTime: 0.02s\tFreeEnergy: 11.81\tF_Grad: 1.618e-03\n",
      "\tTime: 0.02s\tFreeEnergy: 11.81\tF_Grad: 1.466e-03\n",
      "\tTime: 0.02s\tFreeEnergy: 11.81\tF_Grad: 1.330e-03\n",
      "\tTime: 0.02s\tFreeEnergy: 11.81\tF_Grad: 1.209e-03\n",
      "\tTime: 0.02s\tFreeEnergy: 11.81\tF_Grad: 1.100e-03\n",
      "\tTime: 0.02s\tFreeEnergy: 11.81\tF_Grad: 1.002e-03\n",
      "\tTime: 0.02s\tFreeEnergy: 11.81\tF_Grad: 9.134e-04\n",
      "\tTime: 0.02s\tFreeEnergy: 11.81\tF_Grad: 8.331e-04\n",
      "\tTime: 0.02s\tFreeEnergy: 11.81\tF_Grad: 7.602e-04\n",
      "\tTime: 0.02s\tFreeEnergy: 11.81\tF_Grad: 6.938e-04\n",
      "\tTime: 0.03s\tFreeEnergy: 11.81\tF_Grad: 6.335e-04\n",
      "\tTime: 0.02s\tFreeEnergy: 11.81\tF_Grad: 5.785e-04\n",
      "\tTime: 0.02s\tFreeEnergy: 11.81\tF_Grad: 5.285e-04\n",
      "\tTime: 0.02s\tFreeEnergy: 11.81\tF_Grad: 4.828e-04\n",
      "beta:8.073e-01\n",
      "\tTime: 0.03s\tFreeEnergy: 9.60\tF_Grad: 4.411e-04\n",
      "\tTime: 0.02s\tFreeEnergy: 9.60\tF_Grad: 4.030e-04\n",
      "\tTime: 0.02s\tFreeEnergy: 9.60\tF_Grad: 3.683e-04\n",
      "\tTime: 0.02s\tFreeEnergy: 9.60\tF_Grad: 3.365e-04\n",
      "\tTime: 0.02s\tFreeEnergy: 9.60\tF_Grad: 3.075e-04\n",
      "\tTime: 0.02s\tFreeEnergy: 9.60\tF_Grad: 2.809e-04\n",
      "\tTime: 0.02s\tFreeEnergy: 9.60\tF_Grad: 2.566e-04\n",
      "\tTime: 0.02s\tFreeEnergy: 9.60\tF_Grad: 2.343e-04\n",
      "\tTime: 0.02s\tFreeEnergy: 9.60\tF_Grad: 2.140e-04\n",
      "\tTime: 0.02s\tFreeEnergy: 9.60\tF_Grad: 1.953e-04\n",
      "\tTime: 0.02s\tFreeEnergy: 9.60\tF_Grad: 1.783e-04\n",
      "\tTime: 0.02s\tFreeEnergy: 9.60\tF_Grad: 1.627e-04\n",
      "\tTime: 0.02s\tFreeEnergy: 9.60\tF_Grad: 1.484e-04\n",
      "\tTime: 0.02s\tFreeEnergy: 9.60\tF_Grad: 1.353e-04\n",
      "\tTime: 0.02s\tFreeEnergy: 9.60\tF_Grad: 1.233e-04\n",
      "\tTime: 0.02s\tFreeEnergy: 9.60\tF_Grad: 1.124e-04\n",
      "\tTime: 0.03s\tFreeEnergy: 9.60\tF_Grad: 1.024e-04\n",
      "\tTime: 0.02s\tFreeEnergy: 9.60\tF_Grad: 9.324e-05\n",
      "\tTime: 0.02s\tFreeEnergy: 9.60\tF_Grad: 8.487e-05\n",
      "\tTime: 0.02s\tFreeEnergy: 9.60\tF_Grad: 7.720e-05\n",
      "beta:1.315e+00\n",
      "\tTime: 0.02s\tFreeEnergy: 6.00\tF_Grad: 7.023e-05\n",
      "\tTime: 0.02s\tFreeEnergy: 6.00\tF_Grad: 6.378e-05\n",
      "\tTime: 0.02s\tFreeEnergy: 6.00\tF_Grad: 5.800e-05\n",
      "\tTime: 0.02s\tFreeEnergy: 6.00\tF_Grad: 5.267e-05\n",
      "\tTime: 0.02s\tFreeEnergy: 6.00\tF_Grad: 4.775e-05\n",
      "\tTime: 0.02s\tFreeEnergy: 6.00\tF_Grad: 4.338e-05\n",
      "\tTime: 0.02s\tFreeEnergy: 6.00\tF_Grad: 3.928e-05\n",
      "\tTime: 0.02s\tFreeEnergy: 6.00\tF_Grad: 3.567e-05\n",
      "\tTime: 0.02s\tFreeEnergy: 6.00\tF_Grad: 3.221e-05\n",
      "\tTime: 0.02s\tFreeEnergy: 6.00\tF_Grad: 2.924e-05\n",
      "\tTime: 0.02s\tFreeEnergy: 6.00\tF_Grad: 2.646e-05\n",
      "\tTime: 0.02s\tFreeEnergy: 6.00\tF_Grad: 2.385e-05\n",
      "\tTime: 0.02s\tFreeEnergy: 6.00\tF_Grad: 2.165e-05\n",
      "\tTime: 0.02s\tFreeEnergy: 6.00\tF_Grad: 1.952e-05\n",
      "\tTime: 0.02s\tFreeEnergy: 6.00\tF_Grad: 1.755e-05\n",
      "\tTime: 0.02s\tFreeEnergy: 6.00\tF_Grad: 1.594e-05\n",
      "\tTime: 0.02s\tFreeEnergy: 6.00\tF_Grad: 1.445e-05\n",
      "\tTime: 0.02s\tFreeEnergy: 6.00\tF_Grad: 1.309e-05\n",
      "\tTime: 0.02s\tFreeEnergy: 6.00\tF_Grad: 1.175e-05\n",
      "\tTime: 0.02s\tFreeEnergy: 6.00\tF_Grad: 1.043e-05\n",
      "beta:2.142e+00\n",
      "\tTime: 0.02s\tFreeEnergy: 1.40\tF_Grad: 1.450e-05\n",
      "\tTime: 0.02s\tFreeEnergy: 1.40\tF_Grad: 1.256e-05\n",
      "\tTime: 0.02s\tFreeEnergy: 1.40\tF_Grad: 1.047e-05\n",
      "\tTime: 0.02s\tFreeEnergy: 1.40\tF_Grad: 9.142e-06\n",
      "\tTime: 0.02s\tFreeEnergy: 1.40\tF_Grad: 7.992e-06\n",
      "\tTime: 0.02s\tFreeEnergy: 1.40\tF_Grad: 6.936e-06\n",
      "\tTime: 0.02s\tFreeEnergy: 1.40\tF_Grad: 5.905e-06\n",
      "\tTime: 0.02s\tFreeEnergy: 1.40\tF_Grad: 5.031e-06\n",
      "\tTime: 0.02s\tFreeEnergy: 1.40\tF_Grad: 4.330e-06\n",
      "\tTime: 0.02s\tFreeEnergy: 1.40\tF_Grad: 3.756e-06\n",
      "\tTime: 0.02s\tFreeEnergy: 1.40\tF_Grad: 3.463e-06\n",
      "\tTime: 0.02s\tFreeEnergy: 1.40\tF_Grad: 2.746e-06\n",
      "\tTime: 0.02s\tFreeEnergy: 1.40\tF_Grad: 2.526e-06\n",
      "\tTime: 0.02s\tFreeEnergy: 1.40\tF_Grad: 2.569e-06\n",
      "\tTime: 0.02s\tFreeEnergy: 1.40\tF_Grad: 2.569e-06\n",
      "\tTime: 0.02s\tFreeEnergy: 1.40\tF_Grad: 2.537e-06\n",
      "\tTime: 0.02s\tFreeEnergy: 1.40\tF_Grad: 2.537e-06\n",
      "\tTime: 0.02s\tFreeEnergy: 1.40\tF_Grad: 2.537e-06\n",
      "\tTime: 0.02s\tFreeEnergy: 1.40\tF_Grad: 2.537e-06\n",
      "\tTime: 0.02s\tFreeEnergy: 1.40\tF_Grad: 2.537e-06\n",
      "beta:3.489e+00\n",
      "\tTime: 0.02s\tFreeEnergy: 1.88\tF_Grad: 2.537e-06\n",
      "\tTime: 0.02s\tFreeEnergy: 1.88\tF_Grad: 2.537e-06\n",
      "\tTime: 0.02s\tFreeEnergy: 1.88\tF_Grad: 2.537e-06\n",
      "\tTime: 0.02s\tFreeEnergy: 1.88\tF_Grad: 2.537e-06\n",
      "\tTime: 0.03s\tFreeEnergy: 1.88\tF_Grad: 2.537e-06\n",
      "\tTime: 0.02s\tFreeEnergy: 1.88\tF_Grad: 2.546e-06\n",
      "\tTime: 0.02s\tFreeEnergy: 1.88\tF_Grad: 2.527e-06\n",
      "\tTime: 0.02s\tFreeEnergy: 1.88\tF_Grad: 2.527e-06\n",
      "\tTime: 0.02s\tFreeEnergy: 1.88\tF_Grad: 2.527e-06\n",
      "\tTime: 0.02s\tFreeEnergy: 1.88\tF_Grad: 2.530e-06\n",
      "\tTime: 0.02s\tFreeEnergy: 1.88\tF_Grad: 2.530e-06\n",
      "\tTime: 0.02s\tFreeEnergy: 1.88\tF_Grad: 2.530e-06\n",
      "\tTime: 0.02s\tFreeEnergy: 1.88\tF_Grad: 2.530e-06\n",
      "\tTime: 0.02s\tFreeEnergy: 1.88\tF_Grad: 2.530e-06\n",
      "\tTime: 0.02s\tFreeEnergy: 1.88\tF_Grad: 2.495e-06\n",
      "\tTime: 0.02s\tFreeEnergy: 1.88\tF_Grad: 2.492e-06\n",
      "\tTime: 0.02s\tFreeEnergy: 1.88\tF_Grad: 2.492e-06\n",
      "\tTime: 0.02s\tFreeEnergy: 1.88\tF_Grad: 2.478e-06\n",
      "\tTime: 0.02s\tFreeEnergy: 1.88\tF_Grad: 2.477e-06\n",
      "\tTime: 0.02s\tFreeEnergy: 1.88\tF_Grad: 2.400e-06\n",
      "beta:5.683e+00\n",
      "\tTime: 0.02s\tFreeEnergy: -2.05\tF_Grad: 2.357e-06\n",
      "\tTime: 0.02s\tFreeEnergy: -2.05\tF_Grad: 2.357e-06\n",
      "\tTime: 0.02s\tFreeEnergy: -2.05\tF_Grad: 2.357e-06\n",
      "\tTime: 0.02s\tFreeEnergy: -2.05\tF_Grad: 2.357e-06\n",
      "\tTime: 0.02s\tFreeEnergy: -2.05\tF_Grad: 2.357e-06\n",
      "\tTime: 0.02s\tFreeEnergy: -2.05\tF_Grad: 2.340e-06\n",
      "\tTime: 0.02s\tFreeEnergy: -2.05\tF_Grad: 2.342e-06\n",
      "\tTime: 0.02s\tFreeEnergy: -2.05\tF_Grad: 2.342e-06\n",
      "\tTime: 0.02s\tFreeEnergy: -2.05\tF_Grad: 2.348e-06\n",
      "\tTime: 0.02s\tFreeEnergy: -2.05\tF_Grad: 2.288e-06\n",
      "\tTime: 0.02s\tFreeEnergy: -2.05\tF_Grad: 2.288e-06\n",
      "\tTime: 0.02s\tFreeEnergy: -2.05\tF_Grad: 2.288e-06\n",
      "\tTime: 0.02s\tFreeEnergy: -2.05\tF_Grad: 2.288e-06\n",
      "\tTime: 0.02s\tFreeEnergy: -2.05\tF_Grad: 2.288e-06\n",
      "\tTime: 0.02s\tFreeEnergy: -2.05\tF_Grad: 2.280e-06\n",
      "\tTime: 0.02s\tFreeEnergy: -2.05\tF_Grad: 2.216e-06\n",
      "\tTime: 0.02s\tFreeEnergy: -2.05\tF_Grad: 2.216e-06\n",
      "\tTime: 0.02s\tFreeEnergy: -2.05\tF_Grad: 2.211e-06\n",
      "\tTime: 0.02s\tFreeEnergy: -2.05\tF_Grad: 2.183e-06\n",
      "\tTime: 0.02s\tFreeEnergy: -2.05\tF_Grad: 2.167e-06\n",
      "beta:9.258e+00\n",
      "\tTime: 0.02s\tFreeEnergy: -0.13\tF_Grad: 2.112e-06\n",
      "\tTime: 0.02s\tFreeEnergy: -0.13\tF_Grad: 2.112e-06\n",
      "\tTime: 0.02s\tFreeEnergy: -0.13\tF_Grad: 2.112e-06\n",
      "\tTime: 0.02s\tFreeEnergy: -0.13\tF_Grad: 2.112e-06\n",
      "\tTime: 0.02s\tFreeEnergy: -0.13\tF_Grad: 2.112e-06\n",
      "\tTime: 0.02s\tFreeEnergy: -0.13\tF_Grad: 2.112e-06\n",
      "\tTime: 0.02s\tFreeEnergy: -0.13\tF_Grad: 2.112e-06\n",
      "\tTime: 0.02s\tFreeEnergy: -0.13\tF_Grad: 2.112e-06\n",
      "\tTime: 0.02s\tFreeEnergy: -0.13\tF_Grad: 2.112e-06\n",
      "\tTime: 0.02s\tFreeEnergy: -0.13\tF_Grad: 2.030e-06\n",
      "\tTime: 0.02s\tFreeEnergy: -0.13\tF_Grad: 2.043e-06\n",
      "\tTime: 0.02s\tFreeEnergy: -0.13\tF_Grad: 2.043e-06\n",
      "\tTime: 0.02s\tFreeEnergy: -0.13\tF_Grad: 2.024e-06\n",
      "\tTime: 0.02s\tFreeEnergy: -0.13\tF_Grad: 2.019e-06\n",
      "\tTime: 0.02s\tFreeEnergy: -0.13\tF_Grad: 2.019e-06\n",
      "\tTime: 0.02s\tFreeEnergy: -0.13\tF_Grad: 2.019e-06\n",
      "\tTime: 0.02s\tFreeEnergy: -0.13\tF_Grad: 2.019e-06\n",
      "\tTime: 0.02s\tFreeEnergy: -0.13\tF_Grad: 2.019e-06\n",
      "\tTime: 0.02s\tFreeEnergy: -0.13\tF_Grad: 2.019e-06\n",
      "\tTime: 0.02s\tFreeEnergy: -0.13\tF_Grad: 2.019e-06\n",
      "beta:1.508e+01\n",
      "\tTime: 0.06s\tFreeEnergy: -0.36\tF_Grad: 2.021e-06\n",
      "\tTime: 0.02s\tFreeEnergy: -0.36\tF_Grad: 2.021e-06\n",
      "\tTime: 0.02s\tFreeEnergy: -0.36\tF_Grad: 2.021e-06\n",
      "\tTime: 0.02s\tFreeEnergy: -0.36\tF_Grad: 2.021e-06\n",
      "\tTime: 0.02s\tFreeEnergy: -0.36\tF_Grad: 1.933e-06\n",
      "\tTime: 0.02s\tFreeEnergy: -0.36\tF_Grad: 1.875e-06\n",
      "\tTime: 0.02s\tFreeEnergy: -0.36\tF_Grad: 1.875e-06\n",
      "\tTime: 0.02s\tFreeEnergy: -0.36\tF_Grad: 1.873e-06\n",
      "\tTime: 0.02s\tFreeEnergy: -0.36\tF_Grad: 1.873e-06\n",
      "\tTime: 0.02s\tFreeEnergy: -0.36\tF_Grad: 1.892e-06\n",
      "\tTime: 0.02s\tFreeEnergy: -0.36\tF_Grad: 1.874e-06\n",
      "\tTime: 0.02s\tFreeEnergy: -0.36\tF_Grad: 1.874e-06\n",
      "\tTime: 0.02s\tFreeEnergy: -0.36\tF_Grad: 1.785e-06\n",
      "\tTime: 0.02s\tFreeEnergy: -0.36\tF_Grad: 1.783e-06\n",
      "\tTime: 0.02s\tFreeEnergy: -0.36\tF_Grad: 1.762e-06\n",
      "\tTime: 0.02s\tFreeEnergy: -0.36\tF_Grad: 1.762e-06\n",
      "\tTime: 0.02s\tFreeEnergy: -0.36\tF_Grad: 1.762e-06\n",
      "\tTime: 0.02s\tFreeEnergy: -0.36\tF_Grad: 1.754e-06\n",
      "\tTime: 0.02s\tFreeEnergy: -0.36\tF_Grad: 1.754e-06\n",
      "\tTime: 0.02s\tFreeEnergy: -0.36\tF_Grad: 1.754e-06\n",
      "beta:2.456e+01\n",
      "\tTime: 0.02s\tFreeEnergy: -0.74\tF_Grad: 1.754e-06\n",
      "\tTime: 0.02s\tFreeEnergy: -0.74\tF_Grad: 1.746e-06\n",
      "\tTime: 0.02s\tFreeEnergy: -0.74\tF_Grad: 1.745e-06\n",
      "\tTime: 0.02s\tFreeEnergy: -0.74\tF_Grad: 1.745e-06\n",
      "\tTime: 0.02s\tFreeEnergy: -0.74\tF_Grad: 1.745e-06\n",
      "\tTime: 0.02s\tFreeEnergy: -0.74\tF_Grad: 1.745e-06\n",
      "\tTime: 0.02s\tFreeEnergy: -0.74\tF_Grad: 1.740e-06\n",
      "\tTime: 0.02s\tFreeEnergy: -0.74\tF_Grad: 1.732e-06\n",
      "\tTime: 0.02s\tFreeEnergy: -0.74\tF_Grad: 1.653e-06\n",
      "\tTime: 0.02s\tFreeEnergy: -0.74\tF_Grad: 1.653e-06\n",
      "\tTime: 0.02s\tFreeEnergy: -0.74\tF_Grad: 1.653e-06\n",
      "\tTime: 0.02s\tFreeEnergy: -0.74\tF_Grad: 1.653e-06\n",
      "\tTime: 0.02s\tFreeEnergy: -0.74\tF_Grad: 1.653e-06\n",
      "\tTime: 0.02s\tFreeEnergy: -0.74\tF_Grad: 1.653e-06\n",
      "\tTime: 0.02s\tFreeEnergy: -0.74\tF_Grad: 1.653e-06\n",
      "\tTime: 0.02s\tFreeEnergy: -0.74\tF_Grad: 1.653e-06\n",
      "\tTime: 0.02s\tFreeEnergy: -0.74\tF_Grad: 1.653e-06\n",
      "\tTime: 0.02s\tFreeEnergy: -0.74\tF_Grad: 1.651e-06\n",
      "\tTime: 0.02s\tFreeEnergy: -0.74\tF_Grad: 1.659e-06\n",
      "\tTime: 0.02s\tFreeEnergy: -0.74\tF_Grad: 1.571e-06\n",
      "beta:4.001e+01\n",
      "\tTime: 0.02s\tFreeEnergy: -1.36\tF_Grad: 1.566e-06\n",
      "\tTime: 0.02s\tFreeEnergy: -1.36\tF_Grad: 1.534e-06\n",
      "\tTime: 0.02s\tFreeEnergy: -1.36\tF_Grad: 1.533e-06\n",
      "\tTime: 0.02s\tFreeEnergy: -1.36\tF_Grad: 1.533e-06\n",
      "\tTime: 0.02s\tFreeEnergy: -1.36\tF_Grad: 1.533e-06\n",
      "\tTime: 0.02s\tFreeEnergy: -1.36\tF_Grad: 1.533e-06\n",
      "\tTime: 0.02s\tFreeEnergy: -1.36\tF_Grad: 1.533e-06\n",
      "\tTime: 0.02s\tFreeEnergy: -1.36\tF_Grad: 1.533e-06\n",
      "\tTime: 0.02s\tFreeEnergy: -1.36\tF_Grad: 1.533e-06\n",
      "\tTime: 0.02s\tFreeEnergy: -1.36\tF_Grad: 1.533e-06\n",
      "\tTime: 0.02s\tFreeEnergy: -1.36\tF_Grad: 1.533e-06\n",
      "\tTime: 0.02s\tFreeEnergy: -1.36\tF_Grad: 1.533e-06\n",
      "\tTime: 0.02s\tFreeEnergy: -1.36\tF_Grad: 1.442e-06\n",
      "\tTime: 0.02s\tFreeEnergy: -1.36\tF_Grad: 1.442e-06\n",
      "\tTime: 0.02s\tFreeEnergy: -1.36\tF_Grad: 1.442e-06\n",
      "\tTime: 0.02s\tFreeEnergy: -1.36\tF_Grad: 1.425e-06\n",
      "\tTime: 0.02s\tFreeEnergy: -1.36\tF_Grad: 1.424e-06\n",
      "\tTime: 0.02s\tFreeEnergy: -1.36\tF_Grad: 1.426e-06\n",
      "\tTime: 0.02s\tFreeEnergy: -1.36\tF_Grad: 1.400e-06\n",
      "\tTime: 0.02s\tFreeEnergy: -1.36\tF_Grad: 1.400e-06\n",
      "beta:6.517e+01\n",
      "\tTime: 0.02s\tFreeEnergy: -2.36\tF_Grad: 1.385e-06\n",
      "\tTime: 0.02s\tFreeEnergy: -2.36\tF_Grad: 1.385e-06\n",
      "\tTime: 0.02s\tFreeEnergy: -2.36\tF_Grad: 1.380e-06\n",
      "\tTime: 0.02s\tFreeEnergy: -2.36\tF_Grad: 1.380e-06\n",
      "\tTime: 0.02s\tFreeEnergy: -2.36\tF_Grad: 1.380e-06\n",
      "\tTime: 0.02s\tFreeEnergy: -2.36\tF_Grad: 1.380e-06\n",
      "\tTime: 0.02s\tFreeEnergy: -2.36\tF_Grad: 1.380e-06\n",
      "\tTime: 0.02s\tFreeEnergy: -2.36\tF_Grad: 1.380e-06\n",
      "\tTime: 0.02s\tFreeEnergy: -2.36\tF_Grad: 1.377e-06\n",
      "\tTime: 0.02s\tFreeEnergy: -2.36\tF_Grad: 1.300e-06\n",
      "\tTime: 0.02s\tFreeEnergy: -2.36\tF_Grad: 1.300e-06\n",
      "\tTime: 0.02s\tFreeEnergy: -2.36\tF_Grad: 1.298e-06\n",
      "\tTime: 0.02s\tFreeEnergy: -2.36\tF_Grad: 1.299e-06\n",
      "\tTime: 0.02s\tFreeEnergy: -2.36\tF_Grad: 1.299e-06\n",
      "\tTime: 0.02s\tFreeEnergy: -2.36\tF_Grad: 1.299e-06\n",
      "\tTime: 0.02s\tFreeEnergy: -2.36\tF_Grad: 1.299e-06\n",
      "\tTime: 0.02s\tFreeEnergy: -2.36\tF_Grad: 1.299e-06\n",
      "\tTime: 0.02s\tFreeEnergy: -2.36\tF_Grad: 1.299e-06\n",
      "\tTime: 0.03s\tFreeEnergy: -2.36\tF_Grad: 1.299e-06\n",
      "\tTime: 0.02s\tFreeEnergy: -2.36\tF_Grad: 1.299e-06\n"
     ]
    }
   ],
   "source": [
    "num_epochs = 200;\n",
    "optimizer = optim.Adam([F_base], lr=1e-3)\n",
    "b_arr = torch.tensor(lse_data['b_arr'], dtype=torch.float32)\n",
    "len_Darray = torch.tensor(lse_data['len_Darray'], dtype=torch.float32)\n",
    "io_scale = lse_data['io_scale']\n",
    "b_min = b_arr[0]\n",
    "b_max = b_arr[-1]\n",
    "\n",
    "# beta=b_min\n",
    "for beta in b_arr[0::10]:\n",
    "    print(f\"beta:{beta:.3e}\")\n",
    "    for epoch in range(num_epochs):\n",
    "        s = time.time()\n",
    "        with torch.no_grad():\n",
    "            # forward pass: no activations are saved for grad\n",
    "            _, actions = vrp_net(data, mod='eval_greedy')\n",
    "        e = time.time()\n",
    "        actions.detach()\n",
    "        d_mins = route_cost(data,actions)\n",
    "        torch.cuda.empty_cache()\n",
    "        In = torch.cat((torch.ones((num_drones,1)).to(device)*(-io_scale/b_min*torch.log(len_Darray)).to(device), io_scale*d_mins.view(-1,1), torch.ones((num_drones,1)).to(device)*beta.to(device)), axis=1) #, torch.ones((num_drones,1)).to(device)*b_min.to(device)),axis=1)\n",
    "        Out = lse_net(In)\n",
    "        FreeEnergy = torch.mean(Out)/io_scale\n",
    "        \n",
    "        # print(torch.norm(data))\n",
    "        optimizer.zero_grad()\n",
    "        FreeEnergy.backward()\n",
    "        optimizer.step()\n",
    "        F_locs = F_base.expand(num_drones, -1, -1)  \n",
    "        data = torch.cat((START_locs, F_locs, END_locs), dim=1)\n",
    "        if epoch % 10 == 0:\n",
    "            print(f\"\\tTime: {e-s:.2f}s\\tFreeEnergy: {FreeEnergy:.2f}\\tF_Grad: {torch.norm(F_base.grad):.3e}\")\n",
    "    \n",
    "    \n"
   ]
  },
  {
   "cell_type": "markdown",
   "metadata": {},
   "source": [
    "# Plotting some results"
   ]
  },
  {
   "cell_type": "code",
   "execution_count": 7,
   "metadata": {},
   "outputs": [
    {
     "data": {
      "text/plain": [
       "<matplotlib.collections.PathCollection at 0x16c5cae80>"
      ]
     },
     "execution_count": 7,
     "metadata": {},
     "output_type": "execute_result"
    },
    {
     "data": {
      "image/png": "[encoded data removed]",
      "text/plain": [
       "<Figure size 640x480 with 1 Axes>"
      ]
     },
     "metadata": {},
     "output_type": "display_data"
    }
   ],
   "source": [
    "start_locs = START_locs.squeeze(1).cpu().numpy()\n",
    "plt.scatter(start_locs[:,0],start_locs[:,1],color='cyan',marker='.')\n",
    "end_locs = END_locs.squeeze(1).cpu().numpy()\n",
    "plt.scatter(end_locs[:,0],end_locs[:,1],color='red',marker='.')\n",
    "f_locs = F_base.squeeze(0).detach().cpu().numpy()\n",
    "plt.scatter(f_locs[:,0],f_locs[:,1],color='black',marker='^')"
   ]
  },
  {
   "cell_type": "code",
   "execution_count": 15,
   "metadata": {},
   "outputs": [],
   "source": [
    "# all_samples = torch.zeros(num_data, num_nodes, num_samples).to(device)\n",
    "# for i in range(num_samples):\n",
    "#     _, actions = vrpnet(data, mod='train')\n",
    "#     all_samples[:,:,i:i+1] = actions\n",
    "# opt_sample_indices = []\n"
   ]
  },
  {
   "cell_type": "code",
   "execution_count": 16,
   "metadata": {},
   "outputs": [],
   "source": [
    "# d_mins = np.zeros(num_data)\n",
    "# for data_idx in range(num_data):\n",
    "#     costs_for_data = [route_cost(data[data_idx:data_idx+1], all_samples[data_idx:data_idx+1, :, sample_idx]) for sample_idx in range(num_samples)]\n",
    "#     costs_tensor = torch.tensor(costs_for_data)\n",
    "#     d_min, opt_sample_index = torch.min(costs_tensor, dim=0)  \n",
    "#     opt_sample_indices.append(opt_sample_index.item())\n",
    "#     d_mins[data_idx] = d_min\n",
    "# opt_sample_indices = torch.tensor(opt_sample_indices)\n",
    "# actions = all_samples[torch.arange(num_data),:,opt_sample_indices]\n",
    "# print(\"d_mins for all data are: \",d_mins)"
   ]
  },
  {
   "cell_type": "markdown",
   "metadata": {},
   "source": [
    "# Loading Free Energy Network"
   ]
  },
  {
   "cell_type": "markdown",
   "metadata": {},
   "source": [
    "Dhananjay's code for loading his DNN is here. The output of this block should be Y."
   ]
  },
  {
   "cell_type": "markdown",
   "metadata": {},
   "source": [
    "# Calculating Free Energy"
   ]
  },
  {
   "cell_type": "markdown",
   "metadata": {},
   "source": [
    "Feeding the d_min from Salar Block to get the Free energy"
   ]
  },
  {
   "cell_type": "code",
   "execution_count": 59,
   "metadata": {},
   "outputs": [
    {
     "data": {
      "image/png": "[encoded data removed]",
      "text/plain": [
       "<Figure size 640x480 with 1 Axes>"
      ]
     },
     "metadata": {},
     "output_type": "display_data"
    }
   ],
   "source": [
    "Out_numpy = Out.view(-1).detach().numpy()/io_scale\n",
    "plt.plot(Out_numpy)\n",
    "plt.plot(d_min_random*np.ones(Out_numpy.shape))\n",
    "plt.show()"
   ]
  },
  {
   "cell_type": "markdown",
   "metadata": {},
   "source": [
    "# Calculating the gradients"
   ]
  },
  {
   "cell_type": "markdown",
   "metadata": {},
   "source": [
    "The output of this block shoud be dF/dy"
   ]
  },
  {
   "cell_type": "markdown",
   "metadata": {},
   "source": [
    "First calculate $\\frac{\\partial F}{\\partial d_{min}}$ (code in progress)"
   ]
  },
  {
   "cell_type": "code",
   "execution_count": 63,
   "metadata": {},
   "outputs": [
    {
     "name": "stderr",
     "output_type": "stream",
     "text": [
      "/var/folders/sh/ndxykdmj1q9cwr2kpvkvcbs80000gn/T/ipykernel_89473/1274708057.py:11: UserWarning: The .grad attribute of a Tensor that is not a leaf Tensor is being accessed. Its .grad attribute won't be populated during autograd.backward(). If you indeed want the .grad field to be populated for a non-leaf Tensor, use .retain_grad() on the non-leaf Tensor. If you access the non-leaf Tensor by mistake, make sure you access the leaf Tensor instead. See github.com/pytorch/pytorch/pull/30531 for more informations. (Triggered internally at /Users/runner/work/pytorch/pytorch/pytorch/build/aten/src/ATen/core/TensorBody.h:494.)\n",
      "  d_mins_torch.grad\n"
     ]
    }
   ],
   "source": [
    "# fix beta\n",
    "b = np.random.choice(b_arr)\n",
    "d_mins_torch = torch.tensor(d_mins, dtype=torch.float32, requires_grad=True).view(-1,1)\n",
    "const_bmin = -io_scale/b_arr[0] * np.log(len_Darray) * torch.ones(len(d_mins), dtype=torch.float32).view(-1,1)\n",
    "const_b = b * torch.ones(len(d_mins), dtype=torch.float32).view(-1,1)\n",
    "In = torch.concatenate((const_bmin, d_mins_torch, const_b), axis=1)\n",
    "Out = lse_net(In)\n",
    "# print(Out)\n",
    "Out[0].retain_grad()\n",
    "Out[0].backward()\n",
    "d_mins_torch.grad"
   ]
  },
  {
   "cell_type": "markdown",
   "metadata": {},
   "source": [
    "# Running CLF to determin Y"
   ]
  },
  {
   "cell_type": "markdown",
   "metadata": {},
   "source": [
    "The GD code here"
   ]
  },
  {
   "cell_type": "markdown",
   "metadata": {},
   "source": [
    "# Closing the Beta Loop for Annealing"
   ]
  },
  {
   "cell_type": "markdown",
   "metadata": {},
   "source": []
  },
  {
   "cell_type": "code",
   "execution_count": 30,
   "metadata": {},
   "outputs": [
    {
     "name": "stdout",
     "output_type": "stream",
     "text": [
      "tensor([ True, False, False, False, False,  True, False, False, False, False,\n",
      "         True, False, False, False, False,  True, False, False, False, False])\n",
      "Original: tensor([ 0,  1,  2,  3,  4,  5,  6,  7,  8,  9, 10, 11, 12, 13, 14, 15, 16, 17,\n",
      "        18, 19])\n",
      "Filtered: tensor([ 0,  5, 10, 15])\n"
     ]
    }
   ],
   "source": [
    "import torch\n",
    "\n",
    "x = torch.arange(20)  # Just an example tensor: [0, 1, 2, ..., 19]\n",
    "\n",
    "# Create a mask to skip every 5th element\n",
    "mask = torch.zeros(len(x), dtype=bool)\n",
    "mask[0::5] = True  # Set every 5th element to False\n",
    "print(mask)\n",
    "result = x[mask]\n",
    "\n",
    "print(\"Original:\", x)\n",
    "print(\"Filtered:\", result)\n"
   ]
  }
 ],
 "metadata": {
  "kernelspec": {
   "display_name": "Python 3",
   "language": "python",
   "name": "python3"
  },
  "language_info": {
   "codemirror_mode": {
    "name": "ipython",
    "version": 3
   },
   "file_extension": ".py",
   "mimetype": "text/x-python",
   "name": "python",
   "nbconvert_exporter": "python",
   "pygments_lexer": "ipython3",
   "version": "3.10.0"
  }
 },
 "nbformat": 4,
 "nbformat_minor": 2
}
