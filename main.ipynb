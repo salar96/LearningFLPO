{
 "cells": [
  {
   "cell_type": "markdown",
   "metadata": {},
   "source": [
    "# Learning FLPO"
   ]
  },
  {
   "cell_type": "markdown",
   "metadata": {},
   "source": [
    "In this code, we will implement the hierarchical ML architecture to predict the parameters in the FLPO setup."
   ]
  },
  {
   "cell_type": "code",
   "execution_count": 1,
   "metadata": {},
   "outputs": [],
   "source": [
    "import torch\n",
    "from VRP_Net_L import VRPNet_L\n",
    "from matplotlib import pyplot as plt\n",
    "from utils import *\n",
    "import os\n",
    "import matplotlib.pyplot as plt\n",
    "from torchinfo import summary\n",
    "import numpy as np\n",
    "import time\n",
    "import LSE_net\n",
    "from torch import optim"
   ]
  },
  {
   "cell_type": "markdown",
   "metadata": {},
   "source": [
    "# Loading the Data"
   ]
  },
  {
   "cell_type": "code",
   "execution_count": 40,
   "metadata": {},
   "outputs": [
    {
     "name": "stdout",
     "output_type": "stream",
     "text": [
      "Running on:  cuda\n",
      "Data Loaded.\n"
     ]
    }
   ],
   "source": [
    "\n",
    "seed=42;\n",
    "torch.manual_seed(seed)\n",
    "torch.cuda.manual_seed(seed)\n",
    "torch.cuda.manual_seed_all(seed)\n",
    "device = torch.device('cuda') if torch.cuda.is_available() else torch.device('cpu')\n",
    "print(\"Running on: \" , device)\n",
    "num_drones = 10 # number of FLPO instances\n",
    "num_facilities = 20\n",
    "dim_ = 2\n",
    "# START and END locations: no grads needed\n",
    "START_locs = torch.rand(num_drones, 1, dim_, requires_grad=False, device=device)\n",
    "END_locs   = torch.ones((num_drones, 1, dim_), requires_grad=False, device=device)#torch.rand(num_drones, 1, dim_, requires_grad=False, device=device)\n",
    "\n",
    "# Facility locations: we want grads here\n",
    "# We create a base tensor with requires_grad=True, then expand it\n",
    "# F_base = torch.rand(1, num_facilities, dim_, requires_grad=True, device=device)\n",
    "F_base = torch.mean(START_locs, dim=0).repeat(num_facilities, 1).unsqueeze(0).requires_grad_().to(device)\n",
    "F_locs = F_base.expand(num_drones, -1, -1)  # view, shares grad with F_base\n",
    "data = torch.cat((START_locs, F_locs, END_locs), dim=1)  # shape: (Nd, Nf+2, D)\n",
    "print(\"Data Loaded.\")\n"
   ]
  },
  {
   "cell_type": "code",
   "execution_count": 42,
   "metadata": {},
   "outputs": [
    {
     "data": {
      "text/plain": [
       "torch.Size([1, 20, 2])"
      ]
     },
     "execution_count": 42,
     "metadata": {},
     "output_type": "execute_result"
    }
   ],
   "source": [
    "F_base.shape"
   ]
  },
  {
   "cell_type": "markdown",
   "metadata": {},
   "source": [
    "# Loading the VRP NET Module"
   ]
  },
  {
   "cell_type": "code",
   "execution_count": 43,
   "metadata": {},
   "outputs": [
    {
     "name": "stdout",
     "output_type": "stream",
     "text": [
      "VRP NET loaded on:  cuda\n",
      "===============================================================================================\n",
      "Layer (type:depth-idx)                                                 Param #\n",
      "===============================================================================================\n",
      "VRPNet_L                                                               --\n",
      "├─LinearAttnEncoder: 1-1                                               2,560\n",
      "│    └─MultiheadAttention: 2-1                                         197,376\n",
      "│    │    └─NonDynamicallyQuantizableLinear: 3-1                       65,792\n",
      "│    └─Linear: 2-2                                                     768\n",
      "│    └─Linear: 2-3                                                     8,224\n",
      "│    └─LayerNorm: 2-4                                                  512\n",
      "│    └─Dropout: 2-5                                                    --\n",
      "│    └─ReLU: 2-6                                                       --\n",
      "├─Decoder: 1-2                                                         --\n",
      "│    └─TransformerDecoder: 2-7                                         --\n",
      "│    │    └─ModuleList: 3-2                                            16,992\n",
      "├─PositionalEncoding: 1-3                                              --\n",
      "===============================================================================================\n",
      "Total params: 292,224\n",
      "Trainable params: 292,224\n",
      "Non-trainable params: 0\n",
      "===============================================================================================\n"
     ]
    }
   ],
   "source": [
    "hidden_dim = 32\n",
    "num_layers_enc = 1\n",
    "num_layers_dec = 1\n",
    "num_heads = 8\n",
    "torch.cuda.empty_cache()\n",
    "vrp_net = VRPNet_L(dim_, hidden_dim, device, num_layers_enc, num_layers_dec, num_heads)\n",
    "vrp_net.load_state_dict(torch.load('Saved models/POMO2025_04_12 00_54_260.6350972652435303best_model.pth',weights_only=True))\n",
    "vrp_net.eval()\n",
    "\n",
    "# for param in vrp_net.parameters():\n",
    "#     param.requires_grad = False\n",
    "print('VRP NET loaded on: ',vrp_net.device)\n",
    "print(summary(vrp_net))"
   ]
  },
  {
   "cell_type": "markdown",
   "metadata": {},
   "source": [
    "# Loading lseNet"
   ]
  },
  {
   "cell_type": "code",
   "execution_count": 44,
   "metadata": {},
   "outputs": [
    {
     "name": "stdout",
     "output_type": "stream",
     "text": [
      "n_inputs:3\tn_outputs:1\tlayers:[20, 10]\n",
      "lse_net:\n",
      "dnn(\n",
      "  (layers): ModuleList(\n",
      "    (0): Linear(in_features=3, out_features=20, bias=True)\n",
      "    (1): ReLU()\n",
      "    (2): Linear(in_features=20, out_features=10, bias=True)\n",
      "    (3): ReLU()\n",
      "    (4): Linear(in_features=10, out_features=1, bias=True)\n",
      "  )\n",
      ")\n",
      "=================================================================\n",
      "Layer (type:depth-idx)                   Param #\n",
      "=================================================================\n",
      "dnn                                      --\n",
      "├─ModuleList: 1-1                        --\n",
      "│    └─Linear: 2-1                       (80)\n",
      "│    └─ReLU: 2-2                         --\n",
      "│    └─Linear: 2-3                       (210)\n",
      "│    └─ReLU: 2-4                         --\n",
      "│    └─Linear: 2-5                       (11)\n",
      "=================================================================\n",
      "Total params: 301\n",
      "Trainable params: 0\n",
      "Non-trainable params: 301\n",
      "=================================================================\n"
     ]
    },
    {
     "name": "stderr",
     "output_type": "stream",
     "text": [
      "C:\\Users\\salar\\AppData\\Local\\Temp\\ipykernel_27316\\3657882782.py:1: FutureWarning: You are using `torch.load` with `weights_only=False` (the current default value), which uses the default pickle module implicitly. It is possible to construct malicious pickle data which will execute arbitrary code during unpickling (See https://github.com/pytorch/pytorch/blob/main/SECURITY.md#untrusted-models for more details). In a future release, the default value for `weights_only` will be flipped to `True`. This limits the functions that could be executed during unpickling. Arbitrary objects will no longer be allowed to be loaded via this mode unless they are explicitly allowlisted by the user via `torch.serialization.add_safe_globals`. We recommend you start setting `weights_only=True` for any use case where you don't have full control of the loaded file. Please open an issue on GitHub for any issues related to this experimental feature.\n",
      "  lse_data = torch.load('logSumExp_models/dnn_2543_1624.pth')\n"
     ]
    }
   ],
   "source": [
    "\n",
    "lse_data = torch.load('logSumExp_models/dnn_2543_1624.pth')\n",
    "n_inputs = lse_data['n_inputs']\n",
    "n_outputs = lse_data['n_outputs']\n",
    "layers = lse_data['layers']\n",
    "weights = lse_data['model_state_dict']\n",
    "lse_net = LSE_net.dnn(n_inputs, n_outputs, layers)\n",
    "lse_net.to(device)\n",
    "lse_net.load_state_dict(weights)\n",
    "lse_net.eval()\n",
    "for p in lse_net.parameters():\n",
    "    p.requires_grad = False\n",
    "print(f'n_inputs:{n_inputs}\\tn_outputs:{n_outputs}\\tlayers:{layers}\\nlse_net:\\n{lse_net}')\n",
    "print(summary(lse_net))"
   ]
  },
  {
   "cell_type": "code",
   "execution_count": 47,
   "metadata": {},
   "outputs": [
    {
     "name": "stdout",
     "output_type": "stream",
     "text": [
      "Time: 0.15s\n",
      "FreeEnergy: -519.30\n",
      "tensor(0.1558, device='cuda:0')\n",
      "Time: 0.10s\n",
      "FreeEnergy: -519.30\n",
      "tensor(0.1798, device='cuda:0')\n",
      "Time: 0.10s\n",
      "FreeEnergy: -519.30\n",
      "tensor(0.1841, device='cuda:0')\n",
      "Time: 0.12s\n",
      "FreeEnergy: -519.30\n",
      "tensor(0.1840, device='cuda:0')\n",
      "Time: 0.14s\n",
      "FreeEnergy: -519.30\n",
      "tensor(0.1560, device='cuda:0')\n",
      "Time: 0.13s\n",
      "FreeEnergy: -519.30\n",
      "tensor(0.1561, device='cuda:0')\n",
      "Time: 0.11s\n",
      "FreeEnergy: -519.30\n",
      "tensor(0.1562, device='cuda:0')\n",
      "Time: 0.11s\n",
      "FreeEnergy: -519.30\n",
      "tensor(0.2238, device='cuda:0')\n",
      "Time: 0.15s\n",
      "FreeEnergy: -519.30\n",
      "tensor(0.2232, device='cuda:0')\n",
      "Time: 0.11s\n",
      "FreeEnergy: -519.30\n",
      "tensor(0.2232, device='cuda:0')\n",
      "Time: 0.13s\n",
      "FreeEnergy: -519.30\n",
      "tensor(0.1902, device='cuda:0')\n",
      "Time: 0.12s\n",
      "FreeEnergy: -519.30\n",
      "tensor(0.1540, device='cuda:0')\n",
      "Time: 0.10s\n",
      "FreeEnergy: -519.30\n",
      "tensor(0.1857, device='cuda:0')\n",
      "Time: 0.10s\n",
      "FreeEnergy: -519.30\n",
      "tensor(0.1857, device='cuda:0')\n",
      "Time: 0.12s\n",
      "FreeEnergy: -519.30\n",
      "tensor(0.1858, device='cuda:0')\n",
      "Time: 0.16s\n",
      "FreeEnergy: -519.30\n",
      "tensor(0.1858, device='cuda:0')\n",
      "Time: 0.12s\n",
      "FreeEnergy: -519.30\n",
      "tensor(0.1859, device='cuda:0')\n",
      "Time: 0.12s\n",
      "FreeEnergy: -519.30\n",
      "tensor(0.1903, device='cuda:0')\n",
      "Time: 0.12s\n",
      "FreeEnergy: -519.30\n",
      "tensor(0.1565, device='cuda:0')\n",
      "Time: 0.09s\n",
      "FreeEnergy: -519.30\n",
      "tensor(0.1566, device='cuda:0')\n",
      "Time: 0.17s\n",
      "FreeEnergy: -519.30\n",
      "tensor(0.1566, device='cuda:0')\n",
      "Time: 0.10s\n",
      "FreeEnergy: -519.30\n",
      "tensor(0.1517, device='cuda:0')\n",
      "Time: 0.10s\n",
      "FreeEnergy: -519.30\n",
      "tensor(0.1517, device='cuda:0')\n",
      "Time: 0.10s\n",
      "FreeEnergy: -519.30\n",
      "tensor(0.1514, device='cuda:0')\n",
      "Time: 0.10s\n",
      "FreeEnergy: -519.30\n",
      "tensor(0.1566, device='cuda:0')\n",
      "Time: 0.11s\n",
      "FreeEnergy: -519.30\n",
      "tensor(0.1566, device='cuda:0')\n",
      "Time: 0.11s\n",
      "FreeEnergy: -519.30\n",
      "tensor(0.1564, device='cuda:0')\n",
      "Time: 0.11s\n",
      "FreeEnergy: -519.30\n",
      "tensor(0.1565, device='cuda:0')\n",
      "Time: 0.11s\n",
      "FreeEnergy: -519.30\n",
      "tensor(0.1566, device='cuda:0')\n",
      "Time: 0.11s\n",
      "FreeEnergy: -519.30\n",
      "tensor(0.1907, device='cuda:0')\n",
      "Time: 0.11s\n",
      "FreeEnergy: -519.30\n",
      "tensor(0.2236, device='cuda:0')\n",
      "Time: 0.10s\n",
      "FreeEnergy: -519.30\n",
      "tensor(0.2237, device='cuda:0')\n",
      "Time: 0.09s\n",
      "FreeEnergy: -519.30\n",
      "tensor(0.1907, device='cuda:0')\n",
      "Time: 0.10s\n",
      "FreeEnergy: -519.30\n",
      "tensor(0.2237, device='cuda:0')\n",
      "Time: 0.10s\n",
      "FreeEnergy: -519.30\n",
      "tensor(0.2243, device='cuda:0')\n",
      "Time: 0.10s\n",
      "FreeEnergy: -519.30\n",
      "tensor(0.1902, device='cuda:0')\n",
      "Time: 0.09s\n",
      "FreeEnergy: -519.30\n",
      "tensor(0.1866, device='cuda:0')\n",
      "Time: 0.10s\n",
      "FreeEnergy: -519.30\n",
      "tensor(0.1570, device='cuda:0')\n",
      "Time: 0.11s\n",
      "FreeEnergy: -519.30\n",
      "tensor(0.1570, device='cuda:0')\n",
      "Time: 0.10s\n",
      "FreeEnergy: -519.30\n",
      "tensor(0.1525, device='cuda:0')\n",
      "Time: 0.12s\n",
      "FreeEnergy: -519.30\n",
      "tensor(0.1912, device='cuda:0')\n",
      "Time: 0.11s\n",
      "FreeEnergy: -519.30\n",
      "tensor(0.1912, device='cuda:0')\n",
      "Time: 0.12s\n",
      "FreeEnergy: -519.30\n",
      "tensor(0.2239, device='cuda:0')\n",
      "Time: 0.10s\n",
      "FreeEnergy: -519.30\n",
      "tensor(0.2239, device='cuda:0')\n",
      "Time: 0.10s\n",
      "FreeEnergy: -519.30\n",
      "tensor(0.1568, device='cuda:0')\n",
      "Time: 0.09s\n",
      "FreeEnergy: -519.30\n",
      "tensor(0.1588, device='cuda:0')\n",
      "Time: 0.10s\n",
      "FreeEnergy: -519.30\n",
      "tensor(0.1593, device='cuda:0')\n",
      "Time: 0.11s\n",
      "FreeEnergy: -519.30\n",
      "tensor(0.1589, device='cuda:0')\n",
      "Time: 0.10s\n",
      "FreeEnergy: -519.30\n",
      "tensor(0.1581, device='cuda:0')\n",
      "Time: 0.10s\n",
      "FreeEnergy: -519.30\n",
      "tensor(0.1904, device='cuda:0')\n",
      "Time: 0.12s\n",
      "FreeEnergy: -519.30\n",
      "tensor(0.1527, device='cuda:0')\n",
      "Time: 0.11s\n",
      "FreeEnergy: -519.30\n",
      "tensor(0.1896, device='cuda:0')\n",
      "Time: 0.11s\n",
      "FreeEnergy: -519.30\n",
      "tensor(0.1915, device='cuda:0')\n",
      "Time: 0.12s\n",
      "FreeEnergy: -519.30\n",
      "tensor(0.2247, device='cuda:0')\n",
      "Time: 0.10s\n",
      "FreeEnergy: -519.30\n",
      "tensor(0.1524, device='cuda:0')\n",
      "Time: 0.10s\n",
      "FreeEnergy: -519.30\n",
      "tensor(0.1915, device='cuda:0')\n",
      "Time: 0.11s\n",
      "FreeEnergy: -519.30\n",
      "tensor(0.1583, device='cuda:0')\n",
      "Time: 0.10s\n",
      "FreeEnergy: -519.30\n",
      "tensor(0.1589, device='cuda:0')\n",
      "Time: 0.11s\n",
      "FreeEnergy: -519.30\n",
      "tensor(0.1589, device='cuda:0')\n",
      "Time: 0.10s\n",
      "FreeEnergy: -519.30\n",
      "tensor(0.1587, device='cuda:0')\n",
      "Time: 0.11s\n",
      "FreeEnergy: -519.30\n",
      "tensor(0.1279, device='cuda:0')\n",
      "Time: 0.17s\n",
      "FreeEnergy: -519.30\n",
      "tensor(0.1297, device='cuda:0')\n",
      "Time: 0.12s\n",
      "FreeEnergy: -519.30\n",
      "tensor(0.1680, device='cuda:0')\n",
      "Time: 0.12s\n",
      "FreeEnergy: -519.30\n",
      "tensor(0.1691, device='cuda:0')\n",
      "Time: 0.14s\n",
      "FreeEnergy: -519.30\n",
      "tensor(0.1691, device='cuda:0')\n",
      "Time: 0.09s\n",
      "FreeEnergy: -519.30\n",
      "tensor(0.1381, device='cuda:0')\n",
      "Time: 0.12s\n",
      "FreeEnergy: -519.30\n",
      "tensor(0.1899, device='cuda:0')\n",
      "Time: 0.11s\n",
      "FreeEnergy: -519.30\n",
      "tensor(0.1569, device='cuda:0')\n",
      "Time: 0.13s\n",
      "FreeEnergy: -519.30\n",
      "tensor(0.1687, device='cuda:0')\n",
      "Time: 0.11s\n",
      "FreeEnergy: -519.30\n",
      "tensor(0.1684, device='cuda:0')\n",
      "Time: 0.11s\n",
      "FreeEnergy: -519.30\n",
      "tensor(0.1646, device='cuda:0')\n",
      "Time: 0.12s\n",
      "FreeEnergy: -519.30\n",
      "tensor(0.1518, device='cuda:0')\n",
      "Time: 0.12s\n",
      "FreeEnergy: -519.30\n",
      "tensor(0.1531, device='cuda:0')\n",
      "Time: 0.11s\n",
      "FreeEnergy: -519.30\n",
      "tensor(0.1185, device='cuda:0')\n",
      "Time: 0.11s\n",
      "FreeEnergy: -519.30\n",
      "tensor(0.1569, device='cuda:0')\n",
      "Time: 0.11s\n",
      "FreeEnergy: -519.30\n",
      "tensor(0.1568, device='cuda:0')\n",
      "Time: 0.11s\n",
      "FreeEnergy: -519.30\n",
      "tensor(0.1568, device='cuda:0')\n",
      "Time: 0.11s\n",
      "FreeEnergy: -519.30\n",
      "tensor(0.1582, device='cuda:0')\n",
      "Time: 0.13s\n",
      "FreeEnergy: -519.30\n",
      "tensor(0.1900, device='cuda:0')\n",
      "Time: 0.12s\n",
      "FreeEnergy: -519.30\n",
      "tensor(0.1901, device='cuda:0')\n",
      "Time: 0.12s\n",
      "FreeEnergy: -519.30\n",
      "tensor(0.1677, device='cuda:0')\n",
      "Time: 0.11s\n",
      "FreeEnergy: -519.30\n",
      "tensor(0.1903, device='cuda:0')\n",
      "Time: 0.11s\n",
      "FreeEnergy: -519.30\n",
      "tensor(0.1679, device='cuda:0')\n",
      "Time: 0.13s\n",
      "FreeEnergy: -519.30\n",
      "tensor(0.1895, device='cuda:0')\n",
      "Time: 0.12s\n",
      "FreeEnergy: -519.30\n",
      "tensor(0.1907, device='cuda:0')\n",
      "Time: 0.12s\n",
      "FreeEnergy: -519.30\n",
      "tensor(0.1884, device='cuda:0')\n",
      "Time: 0.11s\n",
      "FreeEnergy: -519.30\n",
      "tensor(0.1854, device='cuda:0')\n",
      "Time: 0.12s\n",
      "FreeEnergy: -519.30\n",
      "tensor(0.1525, device='cuda:0')\n",
      "Time: 0.11s\n",
      "FreeEnergy: -519.30\n",
      "tensor(0.1518, device='cuda:0')\n",
      "Time: 0.13s\n",
      "FreeEnergy: -519.30\n",
      "tensor(0.1689, device='cuda:0')\n",
      "Time: 0.11s\n",
      "FreeEnergy: -519.30\n",
      "tensor(0.1903, device='cuda:0')\n",
      "Time: 0.11s\n",
      "FreeEnergy: -519.30\n",
      "tensor(0.1686, device='cuda:0')\n",
      "Time: 0.12s\n",
      "FreeEnergy: -519.30\n",
      "tensor(0.1643, device='cuda:0')\n",
      "Time: 0.11s\n",
      "FreeEnergy: -519.30\n",
      "tensor(0.1917, device='cuda:0')\n",
      "Time: 0.12s\n",
      "FreeEnergy: -519.30\n",
      "tensor(0.1905, device='cuda:0')\n",
      "Time: 0.12s\n",
      "FreeEnergy: -519.30\n",
      "tensor(0.1907, device='cuda:0')\n",
      "Time: 0.11s\n",
      "FreeEnergy: -519.30\n",
      "tensor(0.1908, device='cuda:0')\n",
      "Time: 0.12s\n",
      "FreeEnergy: -519.30\n",
      "tensor(0.2254, device='cuda:0')\n",
      "Time: 0.11s\n",
      "FreeEnergy: -519.30\n",
      "tensor(0.1908, device='cuda:0')\n",
      "Time: 0.12s\n",
      "FreeEnergy: -519.30\n",
      "tensor(0.1908, device='cuda:0')\n"
     ]
    }
   ],
   "source": [
    "num_epochs = 100;\n",
    "optimizer = optim.Adam([F_base], lr=1e-4)\n",
    "b_arr = lse_data['b_arr']\n",
    "len_Darray = torch.tensor(lse_data['len_Darray'], dtype=torch.float32)\n",
    "io_scale = lse_data['io_scale']\n",
    "b_min = torch.tensor(b_arr[0], dtype=torch.float32)\n",
    "b_max = torch.tensor(b_arr[-1], dtype=torch.float32)\n",
    "beta=b_min\n",
    "for epoch in range(num_epochs):\n",
    "    s = time.time()\n",
    "    with torch.no_grad():\n",
    "        # forward pass: no activations are saved for grad\n",
    "        _, actions = vrp_net(data, mod='eval_greedy')\n",
    "    print(f\"Time: {time.time()-s:.2f}s\", )\n",
    "    actions.detach()\n",
    "    d_mins = route_cost(data,actions)\n",
    "    torch.cuda.empty_cache()\n",
    "    In = torch.cat((torch.ones((num_drones,1)).to(device)*(-io_scale/b_min*torch.log(len_Darray)).to(device), io_scale*d_mins.view(-1,1), torch.ones((num_drones,1)).to(device)*beta.to(device)), axis=1) #, torch.ones((num_drones,1)).to(device)*b_min.to(device)),axis=1)\n",
    "    Out = lse_net(In)\n",
    "    FreeEnergy = torch.mean(Out)/io_scale\n",
    "    print(f\"FreeEnergy: {FreeEnergy:.2f}\")\n",
    "    \n",
    "    # print(torch.norm(data))\n",
    "    optimizer.zero_grad()\n",
    "    FreeEnergy.backward()\n",
    "    print(torch.norm(F_base.grad))\n",
    "    optimizer.step()\n",
    "    F_locs = F_base.expand(num_drones, -1, -1)  \n",
    "    data = torch.cat((START_locs, F_locs, END_locs), dim=1)  \n",
    "    \n",
    "    \n"
   ]
  },
  {
   "cell_type": "markdown",
   "metadata": {},
   "source": [
    "# Plotting some results"
   ]
  },
  {
   "cell_type": "code",
   "execution_count": 48,
   "metadata": {},
   "outputs": [
    {
     "data": {
      "text/plain": [
       "<matplotlib.collections.PathCollection at 0x19182aab7c0>"
      ]
     },
     "execution_count": 48,
     "metadata": {},
     "output_type": "execute_result"
    },
    {
     "data": {
      "image/png": "[encoded data removed]",
      "text/plain": [
       "<Figure size 640x480 with 1 Axes>"
      ]
     },
     "metadata": {},
     "output_type": "display_data"
    }
   ],
   "source": [
    "start_locs = START_locs.squeeze(1).cpu().numpy()\n",
    "plt.scatter(start_locs[:,0],start_locs[:,1],color='cyan',marker='.')\n",
    "end_locs = END_locs.squeeze(1).cpu().numpy()\n",
    "plt.scatter(end_locs[:,0],end_locs[:,1],color='red',marker='.')\n",
    "f_locs = F_base.squeeze(0).detach().cpu().numpy()\n",
    "plt.scatter(f_locs[:,0],f_locs[:,1],color='black',marker='^')"
   ]
  },
  {
   "cell_type": "code",
   "execution_count": 15,
   "metadata": {},
   "outputs": [],
   "source": [
    "# all_samples = torch.zeros(num_data, num_nodes, num_samples).to(device)\n",
    "# for i in range(num_samples):\n",
    "#     _, actions = vrpnet(data, mod='train')\n",
    "#     all_samples[:,:,i:i+1] = actions\n",
    "# opt_sample_indices = []\n"
   ]
  },
  {
   "cell_type": "code",
   "execution_count": 16,
   "metadata": {},
   "outputs": [],
   "source": [
    "# d_mins = np.zeros(num_data)\n",
    "# for data_idx in range(num_data):\n",
    "#     costs_for_data = [route_cost(data[data_idx:data_idx+1], all_samples[data_idx:data_idx+1, :, sample_idx]) for sample_idx in range(num_samples)]\n",
    "#     costs_tensor = torch.tensor(costs_for_data)\n",
    "#     d_min, opt_sample_index = torch.min(costs_tensor, dim=0)  \n",
    "#     opt_sample_indices.append(opt_sample_index.item())\n",
    "#     d_mins[data_idx] = d_min\n",
    "# opt_sample_indices = torch.tensor(opt_sample_indices)\n",
    "# actions = all_samples[torch.arange(num_data),:,opt_sample_indices]\n",
    "# print(\"d_mins for all data are: \",d_mins)"
   ]
  },
  {
   "cell_type": "markdown",
   "metadata": {},
   "source": [
    "# Loading Free Energy Network"
   ]
  },
  {
   "cell_type": "markdown",
   "metadata": {},
   "source": [
    "Dhananjay's code for loading his DNN is here. The output of this block should be Y."
   ]
  },
  {
   "cell_type": "markdown",
   "metadata": {},
   "source": [
    "# Calculating Free Energy"
   ]
  },
  {
   "cell_type": "markdown",
   "metadata": {},
   "source": [
    "Feeding the d_min from Salar Block to get the Free energy"
   ]
  },
  {
   "cell_type": "code",
   "execution_count": 59,
   "metadata": {},
   "outputs": [
    {
     "data": {
      "image/png": "[encoded data removed]",
      "text/plain": [
       "<Figure size 640x480 with 1 Axes>"
      ]
     },
     "metadata": {},
     "output_type": "display_data"
    }
   ],
   "source": [
    "Out_numpy = Out.view(-1).detach().numpy()/io_scale\n",
    "plt.plot(Out_numpy)\n",
    "plt.plot(d_min_random*np.ones(Out_numpy.shape))\n",
    "plt.show()"
   ]
  },
  {
   "cell_type": "markdown",
   "metadata": {},
   "source": [
    "# Calculating the gradients"
   ]
  },
  {
   "cell_type": "markdown",
   "metadata": {},
   "source": [
    "The output of this block shoud be dF/dy"
   ]
  },
  {
   "cell_type": "markdown",
   "metadata": {},
   "source": [
    "First calculate $\\frac{\\partial F}{\\partial d_{min}}$ (code in progress)"
   ]
  },
  {
   "cell_type": "code",
   "execution_count": 63,
   "metadata": {},
   "outputs": [
    {
     "name": "stderr",
     "output_type": "stream",
     "text": [
      "/var/folders/sh/ndxykdmj1q9cwr2kpvkvcbs80000gn/T/ipykernel_89473/1274708057.py:11: UserWarning: The .grad attribute of a Tensor that is not a leaf Tensor is being accessed. Its .grad attribute won't be populated during autograd.backward(). If you indeed want the .grad field to be populated for a non-leaf Tensor, use .retain_grad() on the non-leaf Tensor. If you access the non-leaf Tensor by mistake, make sure you access the leaf Tensor instead. See github.com/pytorch/pytorch/pull/30531 for more informations. (Triggered internally at /Users/runner/work/pytorch/pytorch/pytorch/build/aten/src/ATen/core/TensorBody.h:494.)\n",
      "  d_mins_torch.grad\n"
     ]
    }
   ],
   "source": [
    "# fix beta\n",
    "b = np.random.choice(b_arr)\n",
    "d_mins_torch = torch.tensor(d_mins, dtype=torch.float32, requires_grad=True).view(-1,1)\n",
    "const_bmin = -io_scale/b_arr[0] * np.log(len_Darray) * torch.ones(len(d_mins), dtype=torch.float32).view(-1,1)\n",
    "const_b = b * torch.ones(len(d_mins), dtype=torch.float32).view(-1,1)\n",
    "In = torch.concatenate((const_bmin, d_mins_torch, const_b), axis=1)\n",
    "Out = lse_net(In)\n",
    "# print(Out)\n",
    "Out[0].retain_grad()\n",
    "Out[0].backward()\n",
    "d_mins_torch.grad"
   ]
  },
  {
   "cell_type": "markdown",
   "metadata": {},
   "source": [
    "# Running CLF to determin Y"
   ]
  },
  {
   "cell_type": "markdown",
   "metadata": {},
   "source": [
    "The GD code here"
   ]
  },
  {
   "cell_type": "markdown",
   "metadata": {},
   "source": [
    "# Closing the Beta Loop for Annealing"
   ]
  },
  {
   "cell_type": "markdown",
   "metadata": {},
   "source": []
  }
 ],
 "metadata": {
  "kernelspec": {
   "display_name": "Python 3",
   "language": "python",
   "name": "python3"
  },
  "language_info": {
   "codemirror_mode": {
    "name": "ipython",
    "version": 3
   },
   "file_extension": ".py",
   "mimetype": "text/x-python",
   "name": "python",
   "nbconvert_exporter": "python",
   "pygments_lexer": "ipython3",
   "version": "3.10.0"
  }
 },
 "nbformat": 4,
 "nbformat_minor": 2
}
