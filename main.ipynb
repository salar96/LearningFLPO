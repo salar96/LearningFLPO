{
 "cells": [
  {
   "cell_type": "markdown",
   "metadata": {},
   "source": [
    "# Learning FLPO"
   ]
  },
  {
   "cell_type": "markdown",
   "metadata": {},
   "source": [
    "In this code, we will implement the hierarchical ML architecture to predict the parameters in the FLPO setup."
   ]
  },
  {
   "cell_type": "code",
<<<<<<< HEAD
   "execution_count": 8,
=======
   "execution_count": 1,
>>>>>>> origin/Everything_in_loop
   "metadata": {},
   "outputs": [],
   "source": [
    "import torch\n",
    "from VRP_Net_L import VRPNet_L\n",
    "from matplotlib import pyplot as plt\n",
    "from utils import *\n",
    "import os\n",
    "import matplotlib.pyplot as plt\n",
    "from torchinfo import summary\n",
    "import numpy as np\n",
    "import time\n",
    "import LSE_net\n",
    "from torch import optim"
   ]
  },
  {
   "cell_type": "code",
   "execution_count": 11,
   "metadata": {},
   "outputs": [
    {
     "name": "stdout",
     "output_type": "stream",
     "text": [
      "2.3.1\n"
     ]
    }
   ],
   "source": [
    "print(torch.__version__)"
   ]
  },
  {
   "cell_type": "markdown",
   "metadata": {},
   "source": [
    "# Loading the Data"
   ]
  },
  {
   "cell_type": "code",
<<<<<<< HEAD
   "execution_count": 12,
=======
   "execution_count": 40,
>>>>>>> origin/Everything_in_loop
   "metadata": {},
   "outputs": [
    {
     "name": "stdout",
     "output_type": "stream",
     "text": [
      "Running on:  cpu\n",
      "Data Loaded.\n"
     ]
    }
   ],
   "source": [
    "\n",
    "seed=42;\n",
    "torch.manual_seed(seed)\n",
    "torch.cuda.manual_seed(seed)\n",
    "torch.cuda.manual_seed_all(seed)\n",
    "device = torch.device('cuda') if torch.cuda.is_available() else torch.device('cpu')\n",
    "print(\"Running on: \" , device)\n",
    "num_drones = 10 # number of FLPO instances\n",
<<<<<<< HEAD
    "num_facilities = 50\n",
=======
    "num_facilities = 20\n",
>>>>>>> origin/Everything_in_loop
    "dim_ = 2\n",
    "# START and END locations: no grads needed\n",
    "START_locs = torch.rand(num_drones, 1, dim_, requires_grad=False, device=device)\n",
    "END_locs   = torch.ones((num_drones, 1, dim_), requires_grad=False, device=device)#torch.rand(num_drones, 1, dim_, requires_grad=False, device=device)\n",
    "\n",
    "# Facility locations: we want grads here\n",
    "# We create a base tensor with requires_grad=True, then expand it\n",
    "# F_base = torch.rand(1, num_facilities, dim_, requires_grad=True, device=device)\n",
    "F_base = torch.mean(START_locs, dim=0).repeat(num_facilities, 1).unsqueeze(0).requires_grad_().to(device)\n",
    "F_locs = F_base.expand(num_drones, -1, -1)  # view, shares grad with F_base\n",
    "data = torch.cat((START_locs, F_locs, END_locs), dim=1)  # shape: (Nd, Nf+2, D)\n",
    "print(\"Data Loaded.\")\n"
   ]
  },
  {
   "cell_type": "code",
   "execution_count": 42,
   "metadata": {},
   "outputs": [
    {
     "data": {
      "text/plain": [
       "torch.Size([1, 20, 2])"
      ]
     },
     "execution_count": 42,
     "metadata": {},
     "output_type": "execute_result"
    }
   ],
   "source": [
    "F_base.shape"
   ]
  },
  {
   "cell_type": "markdown",
   "metadata": {},
   "source": [
    "# Loading the VRP NET Module"
   ]
  },
  {
   "cell_type": "code",
<<<<<<< HEAD
   "execution_count": 14,
=======
   "execution_count": 43,
>>>>>>> origin/Everything_in_loop
   "metadata": {},
   "outputs": [
    {
     "name": "stdout",
     "output_type": "stream",
     "text": [
      "VRP NET loaded on:  cpu\n",
      "===============================================================================================\n",
      "Layer (type:depth-idx)                                                 Param #\n",
      "===============================================================================================\n",
      "VRPNet_L                                                               --\n",
      "├─LinearAttnEncoder: 1-1                                               2,560\n",
      "│    └─MultiheadAttention: 2-1                                         197,376\n",
      "│    │    └─NonDynamicallyQuantizableLinear: 3-1                       65,792\n",
      "│    └─Linear: 2-2                                                     768\n",
      "│    └─Linear: 2-3                                                     8,224\n",
      "│    └─LayerNorm: 2-4                                                  512\n",
      "│    └─Dropout: 2-5                                                    --\n",
      "│    └─ReLU: 2-6                                                       --\n",
      "├─Decoder: 1-2                                                         --\n",
      "│    └─TransformerDecoder: 2-7                                         --\n",
      "│    │    └─ModuleList: 3-2                                            16,992\n",
      "├─PositionalEncoding: 1-3                                              --\n",
      "===============================================================================================\n",
      "Total params: 292,224\n",
      "Trainable params: 292,224\n",
      "Non-trainable params: 0\n",
      "===============================================================================================\n"
     ]
    }
   ],
   "source": [
    "hidden_dim = 32\n",
    "num_layers_enc = 1\n",
    "num_layers_dec = 1\n",
    "num_heads = 8\n",
    "torch.cuda.empty_cache()\n",
    "vrp_net = VRPNet_L(dim_, hidden_dim, device, num_layers_enc, num_layers_dec, num_heads)\n",
<<<<<<< HEAD
    "vrp_net.load_state_dict(torch.load('Saved models/POMO2025_03_28 19_45_231.101370930671692best_model.pth', map_location=torch.device('cpu')))\n",
=======
    "vrp_net.load_state_dict(torch.load('Saved models/POMO2025_04_12 00_54_260.6350972652435303best_model.pth',weights_only=True))\n",
>>>>>>> origin/Everything_in_loop
    "vrp_net.eval()\n",
    "\n",
    "# for param in vrp_net.parameters():\n",
    "#     param.requires_grad = False\n",
    "print('VRP NET loaded on: ',vrp_net.device)\n",
    "print(summary(vrp_net))"
   ]
  },
  {
   "cell_type": "markdown",
   "metadata": {},
   "source": [
    "# Loading lseNet"
   ]
  },
  {
   "cell_type": "code",
   "execution_count": 15,
   "metadata": {},
   "outputs": [
    {
     "name": "stdout",
     "output_type": "stream",
     "text": [
<<<<<<< HEAD
      "Time: 0.09s\n",
      "tensor([0.7665, 0.1522, 0.3629, 0.5113, 0.5548, 0.2603, 0.0332, 1.4072, 0.1044,\n",
      "        0.7656], grad_fn=<SumBackward1>)\n"
=======
      "n_inputs:3\tn_outputs:1\tlayers:[20, 10]\n",
      "lse_net:\n",
      "dnn(\n",
      "  (layers): ModuleList(\n",
      "    (0): Linear(in_features=3, out_features=20, bias=True)\n",
      "    (1): ReLU()\n",
      "    (2): Linear(in_features=20, out_features=10, bias=True)\n",
      "    (3): ReLU()\n",
      "    (4): Linear(in_features=10, out_features=1, bias=True)\n",
      "  )\n",
      ")\n",
      "=================================================================\n",
      "Layer (type:depth-idx)                   Param #\n",
      "=================================================================\n",
      "dnn                                      --\n",
      "├─ModuleList: 1-1                        --\n",
      "│    └─Linear: 2-1                       (80)\n",
      "│    └─ReLU: 2-2                         --\n",
      "│    └─Linear: 2-3                       (210)\n",
      "│    └─ReLU: 2-4                         --\n",
      "│    └─Linear: 2-5                       (11)\n",
      "=================================================================\n",
      "Total params: 301\n",
      "Trainable params: 0\n",
      "Non-trainable params: 301\n",
      "=================================================================\n"
     ]
    },
    {
     "name": "stderr",
     "output_type": "stream",
     "text": [
      "C:\\Users\\salar\\AppData\\Local\\Temp\\ipykernel_27316\\3657882782.py:1: FutureWarning: You are using `torch.load` with `weights_only=False` (the current default value), which uses the default pickle module implicitly. It is possible to construct malicious pickle data which will execute arbitrary code during unpickling (See https://github.com/pytorch/pytorch/blob/main/SECURITY.md#untrusted-models for more details). In a future release, the default value for `weights_only` will be flipped to `True`. This limits the functions that could be executed during unpickling. Arbitrary objects will no longer be allowed to be loaded via this mode unless they are explicitly allowlisted by the user via `torch.serialization.add_safe_globals`. We recommend you start setting `weights_only=True` for any use case where you don't have full control of the loaded file. Please open an issue on GitHub for any issues related to this experimental feature.\n",
      "  lse_data = torch.load('logSumExp_models/dnn_2543_1624.pth')\n"
>>>>>>> origin/Everything_in_loop
     ]
    }
   ],
   "source": [
    "\n",
    "lse_data = torch.load('logSumExp_models/dnn_2543_1624.pth')\n",
    "n_inputs = lse_data['n_inputs']\n",
    "n_outputs = lse_data['n_outputs']\n",
    "layers = lse_data['layers']\n",
    "weights = lse_data['model_state_dict']\n",
    "lse_net = LSE_net.dnn(n_inputs, n_outputs, layers)\n",
    "lse_net.to(device)\n",
    "lse_net.load_state_dict(weights)\n",
    "lse_net.eval()\n",
    "for p in lse_net.parameters():\n",
    "    p.requires_grad = False\n",
    "print(f'n_inputs:{n_inputs}\\tn_outputs:{n_outputs}\\tlayers:{layers}\\nlse_net:\\n{lse_net}')\n",
    "print(summary(lse_net))"
   ]
  },
  {
   "cell_type": "code",
<<<<<<< HEAD
   "execution_count": 16,
=======
   "execution_count": 47,
   "metadata": {},
   "outputs": [
    {
     "name": "stdout",
     "output_type": "stream",
     "text": [
      "Time: 0.15s\n",
      "FreeEnergy: -519.30\n",
      "tensor(0.1558, device='cuda:0')\n",
      "Time: 0.10s\n",
      "FreeEnergy: -519.30\n",
      "tensor(0.1798, device='cuda:0')\n",
      "Time: 0.10s\n",
      "FreeEnergy: -519.30\n",
      "tensor(0.1841, device='cuda:0')\n",
      "Time: 0.12s\n",
      "FreeEnergy: -519.30\n",
      "tensor(0.1840, device='cuda:0')\n",
      "Time: 0.14s\n",
      "FreeEnergy: -519.30\n",
      "tensor(0.1560, device='cuda:0')\n",
      "Time: 0.13s\n",
      "FreeEnergy: -519.30\n",
      "tensor(0.1561, device='cuda:0')\n",
      "Time: 0.11s\n",
      "FreeEnergy: -519.30\n",
      "tensor(0.1562, device='cuda:0')\n",
      "Time: 0.11s\n",
      "FreeEnergy: -519.30\n",
      "tensor(0.2238, device='cuda:0')\n",
      "Time: 0.15s\n",
      "FreeEnergy: -519.30\n",
      "tensor(0.2232, device='cuda:0')\n",
      "Time: 0.11s\n",
      "FreeEnergy: -519.30\n",
      "tensor(0.2232, device='cuda:0')\n",
      "Time: 0.13s\n",
      "FreeEnergy: -519.30\n",
      "tensor(0.1902, device='cuda:0')\n",
      "Time: 0.12s\n",
      "FreeEnergy: -519.30\n",
      "tensor(0.1540, device='cuda:0')\n",
      "Time: 0.10s\n",
      "FreeEnergy: -519.30\n",
      "tensor(0.1857, device='cuda:0')\n",
      "Time: 0.10s\n",
      "FreeEnergy: -519.30\n",
      "tensor(0.1857, device='cuda:0')\n",
      "Time: 0.12s\n",
      "FreeEnergy: -519.30\n",
      "tensor(0.1858, device='cuda:0')\n",
      "Time: 0.16s\n",
      "FreeEnergy: -519.30\n",
      "tensor(0.1858, device='cuda:0')\n",
      "Time: 0.12s\n",
      "FreeEnergy: -519.30\n",
      "tensor(0.1859, device='cuda:0')\n",
      "Time: 0.12s\n",
      "FreeEnergy: -519.30\n",
      "tensor(0.1903, device='cuda:0')\n",
      "Time: 0.12s\n",
      "FreeEnergy: -519.30\n",
      "tensor(0.1565, device='cuda:0')\n",
      "Time: 0.09s\n",
      "FreeEnergy: -519.30\n",
      "tensor(0.1566, device='cuda:0')\n",
      "Time: 0.17s\n",
      "FreeEnergy: -519.30\n",
      "tensor(0.1566, device='cuda:0')\n",
      "Time: 0.10s\n",
      "FreeEnergy: -519.30\n",
      "tensor(0.1517, device='cuda:0')\n",
      "Time: 0.10s\n",
      "FreeEnergy: -519.30\n",
      "tensor(0.1517, device='cuda:0')\n",
      "Time: 0.10s\n",
      "FreeEnergy: -519.30\n",
      "tensor(0.1514, device='cuda:0')\n",
      "Time: 0.10s\n",
      "FreeEnergy: -519.30\n",
      "tensor(0.1566, device='cuda:0')\n",
      "Time: 0.11s\n",
      "FreeEnergy: -519.30\n",
      "tensor(0.1566, device='cuda:0')\n",
      "Time: 0.11s\n",
      "FreeEnergy: -519.30\n",
      "tensor(0.1564, device='cuda:0')\n",
      "Time: 0.11s\n",
      "FreeEnergy: -519.30\n",
      "tensor(0.1565, device='cuda:0')\n",
      "Time: 0.11s\n",
      "FreeEnergy: -519.30\n",
      "tensor(0.1566, device='cuda:0')\n",
      "Time: 0.11s\n",
      "FreeEnergy: -519.30\n",
      "tensor(0.1907, device='cuda:0')\n",
      "Time: 0.11s\n",
      "FreeEnergy: -519.30\n",
      "tensor(0.2236, device='cuda:0')\n",
      "Time: 0.10s\n",
      "FreeEnergy: -519.30\n",
      "tensor(0.2237, device='cuda:0')\n",
      "Time: 0.09s\n",
      "FreeEnergy: -519.30\n",
      "tensor(0.1907, device='cuda:0')\n",
      "Time: 0.10s\n",
      "FreeEnergy: -519.30\n",
      "tensor(0.2237, device='cuda:0')\n",
      "Time: 0.10s\n",
      "FreeEnergy: -519.30\n",
      "tensor(0.2243, device='cuda:0')\n",
      "Time: 0.10s\n",
      "FreeEnergy: -519.30\n",
      "tensor(0.1902, device='cuda:0')\n",
      "Time: 0.09s\n",
      "FreeEnergy: -519.30\n",
      "tensor(0.1866, device='cuda:0')\n",
      "Time: 0.10s\n",
      "FreeEnergy: -519.30\n",
      "tensor(0.1570, device='cuda:0')\n",
      "Time: 0.11s\n",
      "FreeEnergy: -519.30\n",
      "tensor(0.1570, device='cuda:0')\n",
      "Time: 0.10s\n",
      "FreeEnergy: -519.30\n",
      "tensor(0.1525, device='cuda:0')\n",
      "Time: 0.12s\n",
      "FreeEnergy: -519.30\n",
      "tensor(0.1912, device='cuda:0')\n",
      "Time: 0.11s\n",
      "FreeEnergy: -519.30\n",
      "tensor(0.1912, device='cuda:0')\n",
      "Time: 0.12s\n",
      "FreeEnergy: -519.30\n",
      "tensor(0.2239, device='cuda:0')\n",
      "Time: 0.10s\n",
      "FreeEnergy: -519.30\n",
      "tensor(0.2239, device='cuda:0')\n",
      "Time: 0.10s\n",
      "FreeEnergy: -519.30\n",
      "tensor(0.1568, device='cuda:0')\n",
      "Time: 0.09s\n",
      "FreeEnergy: -519.30\n",
      "tensor(0.1588, device='cuda:0')\n",
      "Time: 0.10s\n",
      "FreeEnergy: -519.30\n",
      "tensor(0.1593, device='cuda:0')\n",
      "Time: 0.11s\n",
      "FreeEnergy: -519.30\n",
      "tensor(0.1589, device='cuda:0')\n",
      "Time: 0.10s\n",
      "FreeEnergy: -519.30\n",
      "tensor(0.1581, device='cuda:0')\n",
      "Time: 0.10s\n",
      "FreeEnergy: -519.30\n",
      "tensor(0.1904, device='cuda:0')\n",
      "Time: 0.12s\n",
      "FreeEnergy: -519.30\n",
      "tensor(0.1527, device='cuda:0')\n",
      "Time: 0.11s\n",
      "FreeEnergy: -519.30\n",
      "tensor(0.1896, device='cuda:0')\n",
      "Time: 0.11s\n",
      "FreeEnergy: -519.30\n",
      "tensor(0.1915, device='cuda:0')\n",
      "Time: 0.12s\n",
      "FreeEnergy: -519.30\n",
      "tensor(0.2247, device='cuda:0')\n",
      "Time: 0.10s\n",
      "FreeEnergy: -519.30\n",
      "tensor(0.1524, device='cuda:0')\n",
      "Time: 0.10s\n",
      "FreeEnergy: -519.30\n",
      "tensor(0.1915, device='cuda:0')\n",
      "Time: 0.11s\n",
      "FreeEnergy: -519.30\n",
      "tensor(0.1583, device='cuda:0')\n",
      "Time: 0.10s\n",
      "FreeEnergy: -519.30\n",
      "tensor(0.1589, device='cuda:0')\n",
      "Time: 0.11s\n",
      "FreeEnergy: -519.30\n",
      "tensor(0.1589, device='cuda:0')\n",
      "Time: 0.10s\n",
      "FreeEnergy: -519.30\n",
      "tensor(0.1587, device='cuda:0')\n",
      "Time: 0.11s\n",
      "FreeEnergy: -519.30\n",
      "tensor(0.1279, device='cuda:0')\n",
      "Time: 0.17s\n",
      "FreeEnergy: -519.30\n",
      "tensor(0.1297, device='cuda:0')\n",
      "Time: 0.12s\n",
      "FreeEnergy: -519.30\n",
      "tensor(0.1680, device='cuda:0')\n",
      "Time: 0.12s\n",
      "FreeEnergy: -519.30\n",
      "tensor(0.1691, device='cuda:0')\n",
      "Time: 0.14s\n",
      "FreeEnergy: -519.30\n",
      "tensor(0.1691, device='cuda:0')\n",
      "Time: 0.09s\n",
      "FreeEnergy: -519.30\n",
      "tensor(0.1381, device='cuda:0')\n",
      "Time: 0.12s\n",
      "FreeEnergy: -519.30\n",
      "tensor(0.1899, device='cuda:0')\n",
      "Time: 0.11s\n",
      "FreeEnergy: -519.30\n",
      "tensor(0.1569, device='cuda:0')\n",
      "Time: 0.13s\n",
      "FreeEnergy: -519.30\n",
      "tensor(0.1687, device='cuda:0')\n",
      "Time: 0.11s\n",
      "FreeEnergy: -519.30\n",
      "tensor(0.1684, device='cuda:0')\n",
      "Time: 0.11s\n",
      "FreeEnergy: -519.30\n",
      "tensor(0.1646, device='cuda:0')\n",
      "Time: 0.12s\n",
      "FreeEnergy: -519.30\n",
      "tensor(0.1518, device='cuda:0')\n",
      "Time: 0.12s\n",
      "FreeEnergy: -519.30\n",
      "tensor(0.1531, device='cuda:0')\n",
      "Time: 0.11s\n",
      "FreeEnergy: -519.30\n",
      "tensor(0.1185, device='cuda:0')\n",
      "Time: 0.11s\n",
      "FreeEnergy: -519.30\n",
      "tensor(0.1569, device='cuda:0')\n",
      "Time: 0.11s\n",
      "FreeEnergy: -519.30\n",
      "tensor(0.1568, device='cuda:0')\n",
      "Time: 0.11s\n",
      "FreeEnergy: -519.30\n",
      "tensor(0.1568, device='cuda:0')\n",
      "Time: 0.11s\n",
      "FreeEnergy: -519.30\n",
      "tensor(0.1582, device='cuda:0')\n",
      "Time: 0.13s\n",
      "FreeEnergy: -519.30\n",
      "tensor(0.1900, device='cuda:0')\n",
      "Time: 0.12s\n",
      "FreeEnergy: -519.30\n",
      "tensor(0.1901, device='cuda:0')\n",
      "Time: 0.12s\n",
      "FreeEnergy: -519.30\n",
      "tensor(0.1677, device='cuda:0')\n",
      "Time: 0.11s\n",
      "FreeEnergy: -519.30\n",
      "tensor(0.1903, device='cuda:0')\n",
      "Time: 0.11s\n",
      "FreeEnergy: -519.30\n",
      "tensor(0.1679, device='cuda:0')\n",
      "Time: 0.13s\n",
      "FreeEnergy: -519.30\n",
      "tensor(0.1895, device='cuda:0')\n",
      "Time: 0.12s\n",
      "FreeEnergy: -519.30\n",
      "tensor(0.1907, device='cuda:0')\n",
      "Time: 0.12s\n",
      "FreeEnergy: -519.30\n",
      "tensor(0.1884, device='cuda:0')\n",
      "Time: 0.11s\n",
      "FreeEnergy: -519.30\n",
      "tensor(0.1854, device='cuda:0')\n",
      "Time: 0.12s\n",
      "FreeEnergy: -519.30\n",
      "tensor(0.1525, device='cuda:0')\n",
      "Time: 0.11s\n",
      "FreeEnergy: -519.30\n",
      "tensor(0.1518, device='cuda:0')\n",
      "Time: 0.13s\n",
      "FreeEnergy: -519.30\n",
      "tensor(0.1689, device='cuda:0')\n",
      "Time: 0.11s\n",
      "FreeEnergy: -519.30\n",
      "tensor(0.1903, device='cuda:0')\n",
      "Time: 0.11s\n",
      "FreeEnergy: -519.30\n",
      "tensor(0.1686, device='cuda:0')\n",
      "Time: 0.12s\n",
      "FreeEnergy: -519.30\n",
      "tensor(0.1643, device='cuda:0')\n",
      "Time: 0.11s\n",
      "FreeEnergy: -519.30\n",
      "tensor(0.1917, device='cuda:0')\n",
      "Time: 0.12s\n",
      "FreeEnergy: -519.30\n",
      "tensor(0.1905, device='cuda:0')\n",
      "Time: 0.12s\n",
      "FreeEnergy: -519.30\n",
      "tensor(0.1907, device='cuda:0')\n",
      "Time: 0.11s\n",
      "FreeEnergy: -519.30\n",
      "tensor(0.1908, device='cuda:0')\n",
      "Time: 0.12s\n",
      "FreeEnergy: -519.30\n",
      "tensor(0.2254, device='cuda:0')\n",
      "Time: 0.11s\n",
      "FreeEnergy: -519.30\n",
      "tensor(0.1908, device='cuda:0')\n",
      "Time: 0.12s\n",
      "FreeEnergy: -519.30\n",
      "tensor(0.1908, device='cuda:0')\n"
     ]
    }
   ],
   "source": [
    "num_epochs = 100;\n",
    "optimizer = optim.Adam([F_base], lr=1e-4)\n",
    "b_arr = lse_data['b_arr']\n",
    "len_Darray = torch.tensor(lse_data['len_Darray'], dtype=torch.float32)\n",
    "io_scale = lse_data['io_scale']\n",
    "b_min = torch.tensor(b_arr[0], dtype=torch.float32)\n",
    "b_max = torch.tensor(b_arr[-1], dtype=torch.float32)\n",
    "beta=b_min\n",
    "for epoch in range(num_epochs):\n",
    "    s = time.time()\n",
    "    with torch.no_grad():\n",
    "        # forward pass: no activations are saved for grad\n",
    "        _, actions = vrp_net(data, mod='eval_greedy')\n",
    "    print(f\"Time: {time.time()-s:.2f}s\", )\n",
    "    actions.detach()\n",
    "    d_mins = route_cost(data,actions)\n",
    "    torch.cuda.empty_cache()\n",
    "    In = torch.cat((torch.ones((num_drones,1)).to(device)*(-io_scale/b_min*torch.log(len_Darray)).to(device), io_scale*d_mins.view(-1,1), torch.ones((num_drones,1)).to(device)*beta.to(device)), axis=1) #, torch.ones((num_drones,1)).to(device)*b_min.to(device)),axis=1)\n",
    "    Out = lse_net(In)\n",
    "    FreeEnergy = torch.mean(Out)/io_scale\n",
    "    print(f\"FreeEnergy: {FreeEnergy:.2f}\")\n",
    "    \n",
    "    # print(torch.norm(data))\n",
    "    optimizer.zero_grad()\n",
    "    FreeEnergy.backward()\n",
    "    print(torch.norm(F_base.grad))\n",
    "    optimizer.step()\n",
    "    F_locs = F_base.expand(num_drones, -1, -1)  \n",
    "    data = torch.cat((START_locs, F_locs, END_locs), dim=1)  \n",
    "    \n",
    "    \n"
   ]
  },
  {
   "cell_type": "markdown",
   "metadata": {},
   "source": [
    "# Plotting some results"
   ]
  },
  {
   "cell_type": "code",
   "execution_count": 48,
>>>>>>> origin/Everything_in_loop
   "metadata": {},
   "outputs": [
    {
     "data": {
      "text/plain": [
       "<matplotlib.collections.PathCollection at 0x19182aab7c0>"
      ]
     },
<<<<<<< HEAD
     "execution_count": 16,
     "metadata": {},
     "output_type": "execute_result"
    }
   ],
   "source": [
    "d_mins.requires_grad"
   ]
  },
  {
   "cell_type": "code",
   "execution_count": 17,
   "metadata": {},
   "outputs": [
=======
     "execution_count": 48,
     "metadata": {},
     "output_type": "execute_result"
    },
>>>>>>> origin/Everything_in_loop
    {
     "data": {
      "image/png": "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",
      "text/plain": [
<<<<<<< HEAD
       "torch.Size([10])"
      ]
     },
     "execution_count": 17,
=======
       "<Figure size 640x480 with 1 Axes>"
      ]
     },
>>>>>>> origin/Everything_in_loop
     "metadata": {},
     "output_type": "display_data"
    }
   ],
   "source": [
    "start_locs = START_locs.squeeze(1).cpu().numpy()\n",
    "plt.scatter(start_locs[:,0],start_locs[:,1],color='cyan',marker='.')\n",
    "end_locs = END_locs.squeeze(1).cpu().numpy()\n",
    "plt.scatter(end_locs[:,0],end_locs[:,1],color='red',marker='.')\n",
    "f_locs = F_base.squeeze(0).detach().cpu().numpy()\n",
    "plt.scatter(f_locs[:,0],f_locs[:,1],color='black',marker='^')"
   ]
  },
  {
   "cell_type": "code",
   "execution_count": 15,
   "metadata": {},
   "outputs": [],
   "source": [
    "# all_samples = torch.zeros(num_data, num_nodes, num_samples).to(device)\n",
    "# for i in range(num_samples):\n",
    "#     _, actions = vrpnet(data, mod='train')\n",
    "#     all_samples[:,:,i:i+1] = actions\n",
    "# opt_sample_indices = []\n"
   ]
  },
  {
   "cell_type": "code",
   "execution_count": 16,
   "metadata": {},
   "outputs": [],
   "source": [
    "# d_mins = np.zeros(num_data)\n",
    "# for data_idx in range(num_data):\n",
    "#     costs_for_data = [route_cost(data[data_idx:data_idx+1], all_samples[data_idx:data_idx+1, :, sample_idx]) for sample_idx in range(num_samples)]\n",
    "#     costs_tensor = torch.tensor(costs_for_data)\n",
    "#     d_min, opt_sample_index = torch.min(costs_tensor, dim=0)  \n",
    "#     opt_sample_indices.append(opt_sample_index.item())\n",
    "#     d_mins[data_idx] = d_min\n",
    "# opt_sample_indices = torch.tensor(opt_sample_indices)\n",
    "# actions = all_samples[torch.arange(num_data),:,opt_sample_indices]\n",
    "# print(\"d_mins for all data are: \",d_mins)"
   ]
  },
  {
   "cell_type": "markdown",
   "metadata": {},
   "source": [
    "# Loading Free Energy Network"
   ]
  },
  {
   "cell_type": "markdown",
   "metadata": {},
   "source": [
    "Dhananjay's code for loading his DNN is here. The output of this block should be Y."
   ]
  },
  {
<<<<<<< HEAD
   "cell_type": "code",
   "execution_count": 18,
   "metadata": {},
   "outputs": [
    {
     "name": "stdout",
     "output_type": "stream",
     "text": [
      "n_inputs:3\tn_outputs:1\tlayers:[20, 10]\n",
      "lse_net:\n",
      "dnn(\n",
      "  (layers): ModuleList(\n",
      "    (0): Linear(in_features=3, out_features=20, bias=True)\n",
      "    (1): ReLU()\n",
      "    (2): Linear(in_features=20, out_features=10, bias=True)\n",
      "    (3): ReLU()\n",
      "    (4): Linear(in_features=10, out_features=1, bias=True)\n",
      "  )\n",
      ")\n",
      "=================================================================\n",
      "Layer (type:depth-idx)                   Param #\n",
      "=================================================================\n",
      "dnn                                      --\n",
      "├─ModuleList: 1-1                        --\n",
      "│    └─Linear: 2-1                       (80)\n",
      "│    └─ReLU: 2-2                         --\n",
      "│    └─Linear: 2-3                       (210)\n",
      "│    └─ReLU: 2-4                         --\n",
      "│    └─Linear: 2-5                       (11)\n",
      "=================================================================\n",
      "Total params: 301\n",
      "Trainable params: 0\n",
      "Non-trainable params: 301\n",
      "=================================================================\n"
     ]
    }
   ],
   "source": [
    "import LSE_net\n",
    "lse_data = torch.load('logSumExp_models/dnn_2543_1624.pth')\n",
    "n_inputs = lse_data['n_inputs']\n",
    "n_outputs = lse_data['n_outputs']\n",
    "layers = lse_data['layers']\n",
    "weights = lse_data['model_state_dict']\n",
    "lse_net = LSE_net.dnn(n_inputs, n_outputs, layers)\n",
    "lse_net.to(device)\n",
    "lse_net.load_state_dict(weights)\n",
    "lse_net.eval()\n",
    "for p in lse_net.parameters():\n",
    "    p.requires_grad = False\n",
    "print(f'n_inputs:{n_inputs}\\tn_outputs:{n_outputs}\\tlayers:{layers}\\nlse_net:\\n{lse_net}')\n",
    "print(summary(lse_net))"
   ]
  },
  {
=======
>>>>>>> origin/Everything_in_loop
   "cell_type": "markdown",
   "metadata": {},
   "source": [
    "# Calculating Free Energy"
   ]
  },
  {
   "cell_type": "markdown",
   "metadata": {},
   "source": [
    "Feeding the d_min from Salar Block to get the Free energy"
   ]
  },
  {
   "cell_type": "code",
<<<<<<< HEAD
   "execution_count": 19,
   "metadata": {},
   "outputs": [
    {
     "name": "stdout",
     "output_type": "stream",
     "text": [
      "tensor([[-5.2983e+00,  7.6646e-01,  1.0111e+02],\n",
      "        [-5.2983e+00,  1.5224e-01,  1.0111e+02],\n",
      "        [-5.2983e+00,  3.6291e-01,  1.0111e+02],\n",
      "        [-5.2983e+00,  5.1135e-01,  1.0111e+02],\n",
      "        [-5.2983e+00,  5.5485e-01,  1.0111e+02],\n",
      "        [-5.2983e+00,  2.6028e-01,  1.0111e+02],\n",
      "        [-5.2983e+00,  3.3157e-02,  1.0111e+02],\n",
      "        [-5.2983e+00,  1.4072e+00,  1.0111e+02],\n",
      "        [-5.2983e+00,  1.0440e-01,  1.0111e+02],\n",
      "        [-5.2983e+00,  7.6559e-01,  1.0111e+02]], grad_fn=<CatBackward0>)\n",
      "tensor(0.4443, grad_fn=<MeanBackward0>)\n"
     ]
    }
   ],
   "source": [
    "b_arr = lse_data['b_arr']\n",
    "len_Darray = torch.tensor(lse_data['len_Darray'], dtype=torch.float32)\n",
    "io_scale = lse_data['io_scale']\n",
    "b_min = torch.tensor(b_arr[0], dtype=torch.float32)\n",
    "b_max = torch.tensor(b_arr[-1], dtype=torch.float32)\n",
    "# d_min_random = np.random.choice(d_mins, 1)[0]\n",
    "# d_min_random = d_mins[0]\n",
    "st = 0\n",
    "# In = torch.tensor([[-io_scale/b_min*np.log(len_Darray), io_scale*d_min_random, b] for b in b_arr], dtype=torch.float32)\n",
    "In = torch.cat((torch.ones((num_drones,1)).to(device)*(-io_scale/b_min*torch.log(len_Darray)).to(device), d_mins.view(-1,1), torch.ones((num_drones,1)).to(device)*b_max.to(device)), axis=1) #, torch.ones((num_drones,1)).to(device)*b_min.to(device)),axis=1)\n",
    "\n",
    "# In = torch.cat((torch.ones((num_drones,1)).to(device)*(-io_scale/b_min*torch.log(len_Darray)).to(device), d_mins.view(-1,1), torch.ones((num_drones,1)).to(device)*b_min.to(device)),axis=1)\n",
    "\n",
    "print(In)\n",
    "Out = lse_net(In)\n",
    "FreeEnergy = torch.mean(Out)\n",
    "print(FreeEnergy)\n",
    "\n",
    "FreeEnergy.backward()\n",
    "# print(In.grad)"
   ]
  },
  {
   "cell_type": "code",
   "execution_count": 20,
   "metadata": {},
   "outputs": [],
   "source": [
    "\n",
    "optimizer = optim.Adam([F_base], lr=1e-3)\n",
    "optimizer.step()"
   ]
  },
  {
   "cell_type": "code",
   "execution_count": 21,
=======
   "execution_count": 59,
>>>>>>> origin/Everything_in_loop
   "metadata": {},
   "outputs": [
    {
     "ename": "NameError",
     "evalue": "name 'd_min_random' is not defined",
     "output_type": "error",
     "traceback": [
      "\u001b[0;31m---------------------------------------------------------------------------\u001b[0m",
      "\u001b[0;31mNameError\u001b[0m                                 Traceback (most recent call last)",
      "Cell \u001b[0;32mIn[21], line 3\u001b[0m\n\u001b[1;32m      1\u001b[0m Out_numpy \u001b[38;5;241m=\u001b[39m Out\u001b[38;5;241m.\u001b[39mview(\u001b[38;5;241m-\u001b[39m\u001b[38;5;241m1\u001b[39m)\u001b[38;5;241m.\u001b[39mdetach()\u001b[38;5;241m.\u001b[39mnumpy()\u001b[38;5;241m/\u001b[39mio_scale\n\u001b[1;32m      2\u001b[0m plt\u001b[38;5;241m.\u001b[39mplot(Out_numpy)\n\u001b[0;32m----> 3\u001b[0m plt\u001b[38;5;241m.\u001b[39mplot(\u001b[43md_min_random\u001b[49m\u001b[38;5;241m*\u001b[39mnp\u001b[38;5;241m.\u001b[39mones(Out_numpy\u001b[38;5;241m.\u001b[39mshape))\n\u001b[1;32m      4\u001b[0m plt\u001b[38;5;241m.\u001b[39mshow()\n",
      "\u001b[0;31mNameError\u001b[0m: name 'd_min_random' is not defined"
     ]
    },
    {
     "data": {
      "image/png": "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",
      "text/plain": [
       "<Figure size 640x480 with 1 Axes>"
      ]
     },
     "metadata": {},
     "output_type": "display_data"
    }
   ],
   "source": [
    "Out_numpy = Out.view(-1).detach().numpy()/io_scale\n",
    "plt.plot(Out_numpy)\n",
    "plt.plot(d_min_random*np.ones(Out_numpy.shape))\n",
    "plt.show()"
   ]
  },
  {
   "cell_type": "markdown",
   "metadata": {},
   "source": [
    "# Calculating the gradients"
   ]
  },
  {
   "cell_type": "markdown",
   "metadata": {},
   "source": [
    "The output of this block shoud be dF/dy"
   ]
  },
  {
   "cell_type": "markdown",
   "metadata": {},
   "source": [
    "First calculate $\\frac{\\partial F}{\\partial d_{min}}$ (code in progress)"
   ]
  },
  {
   "cell_type": "code",
   "execution_count": 63,
   "metadata": {},
   "outputs": [
    {
     "name": "stderr",
     "output_type": "stream",
     "text": [
      "/var/folders/sh/ndxykdmj1q9cwr2kpvkvcbs80000gn/T/ipykernel_89473/1274708057.py:11: UserWarning: The .grad attribute of a Tensor that is not a leaf Tensor is being accessed. Its .grad attribute won't be populated during autograd.backward(). If you indeed want the .grad field to be populated for a non-leaf Tensor, use .retain_grad() on the non-leaf Tensor. If you access the non-leaf Tensor by mistake, make sure you access the leaf Tensor instead. See github.com/pytorch/pytorch/pull/30531 for more informations. (Triggered internally at /Users/runner/work/pytorch/pytorch/pytorch/build/aten/src/ATen/core/TensorBody.h:494.)\n",
      "  d_mins_torch.grad\n"
     ]
    }
   ],
   "source": [
    "# fix beta\n",
    "b = np.random.choice(b_arr)\n",
    "d_mins_torch = torch.tensor(d_mins, dtype=torch.float32, requires_grad=True).view(-1,1)\n",
    "const_bmin = -io_scale/b_arr[0] * np.log(len_Darray) * torch.ones(len(d_mins), dtype=torch.float32).view(-1,1)\n",
    "const_b = b * torch.ones(len(d_mins), dtype=torch.float32).view(-1,1)\n",
    "In = torch.concatenate((const_bmin, d_mins_torch, const_b), axis=1)\n",
    "Out = lse_net(In)\n",
    "# print(Out)\n",
    "Out[0].retain_grad()\n",
    "Out[0].backward()\n",
    "d_mins_torch.grad"
   ]
  },
  {
   "cell_type": "markdown",
   "metadata": {},
   "source": [
    "# Running CLF to determin Y"
   ]
  },
  {
   "cell_type": "markdown",
   "metadata": {},
   "source": [
    "The GD code here"
   ]
  },
  {
   "cell_type": "markdown",
   "metadata": {},
   "source": [
    "# Closing the Beta Loop for Annealing"
   ]
  },
  {
   "cell_type": "markdown",
   "metadata": {},
   "source": []
  }
 ],
 "metadata": {
  "kernelspec": {
   "display_name": "Python 3",
   "language": "python",
   "name": "python3"
  },
  "language_info": {
   "codemirror_mode": {
    "name": "ipython",
    "version": 3
   },
   "file_extension": ".py",
   "mimetype": "text/x-python",
   "name": "python",
   "nbconvert_exporter": "python",
   "pygments_lexer": "ipython3",
   "version": "3.9.6"
  }
 },
 "nbformat": 4,
 "nbformat_minor": 2
}
