{
 "cells": [
  {
   "cell_type": "code",
   "execution_count": 1,
   "metadata": {},
   "outputs": [],
   "source": [
    "import torch\n",
    "from VRP_Net_L import VRPNet_L\n",
    "from matplotlib import pyplot as plt\n",
    "import utils\n",
    "import matplotlib.pyplot as plt\n",
    "from torchinfo import summary\n",
    "import numpy as np\n",
    "import LSE_net\n",
    "import importlib\n",
    "from DatasetGenerator import generate_dataset\n",
    "from viz import plot_UAV_FLPO, plot_UAV_FLPO_3D\n",
    "from pathlib import Path\n",
    "import GD\n",
    "from Anneal import anneal"
   ]
  },
  {
   "cell_type": "code",
   "execution_count": 2,
   "metadata": {},
   "outputs": [
    {
     "name": "stdout",
     "output_type": "stream",
     "text": [
      "Running on:  cuda\n"
     ]
    }
   ],
   "source": [
    "seed=0;\n",
    "torch.manual_seed(seed)\n",
    "torch.cuda.manual_seed(seed)\n",
    "torch.cuda.manual_seed_all(seed)\n",
    "device = torch.device('cuda') if torch.cuda.is_available() else torch.device('cpu')\n",
    "np.random.seed(seed)\n",
    "print(\"Running on: \" , device)"
   ]
  },
  {
   "cell_type": "markdown",
   "metadata": {},
   "source": [
    "### Initialize an FLPO scenario"
   ]
  },
  {
   "cell_type": "markdown",
   "metadata": {},
   "source": [
    "Run the below command if you encounter errors running the plotting block."
   ]
  },
  {
   "cell_type": "code",
   "execution_count": 3,
   "metadata": {},
   "outputs": [],
   "source": [
    "# !pip install nbformat --upgrade\n"
   ]
  },
  {
   "cell_type": "code",
   "execution_count": 4,
   "metadata": {},
   "outputs": [
    {
     "name": "stdout",
     "output_type": "stream",
     "text": [
      "num_drones = 100\tnum_facilities = 20\tdim = 2\n",
      "Data Created.\n"
     ]
    },
    {
     "data": {
      "image/png": "[encoded data removed]",
      "text/plain": [
       "<Figure size 600x500 with 1 Axes>"
      ]
     },
     "metadata": {},
     "output_type": "display_data"
    },
    {
     "data": {
      "application/vnd.plotly.v1+json": {
       "config": {
        "plotlyServerURL": "https://plot.ly"
       },
       "data": [
        {
         "marker": {
          "color": "cyan",
          "line": {
           "color": "white",
           "width": 1
          },
          "opacity": 0.7,
          "size": 8,
          "symbol": "diamond"
         },
         "mode": "markers",
         "name": "Drone Start",
         "type": "scatter3d",
         "x": {
          "bdata": "aBboPg4xvz5NNfs+WkTvPq6F5D4cVdY+tr8CP1JYDj+WD/s+Bh0QPzhU8j692ew+vL3/Pp6aFT+pOvw+NBsPP6Lk7z4xeOg+5XbsPvQ2oD4Wx6s+j+CyPhZrnz5EBao+mKGNPrxWpT5mrpI+Zo6YPoY0kD51lqM+8H2gPsMUmT72GK0+v3moPvw6uj4NiZk++oHMPrdElz5Q4bs+nA+VPhdanj60zsA+4j6dPvcehT6yHQw/NC3gPusm6z6y7vk+5pPcPsJu/D6QW+I+Y68HP5lD5D5gF9Y+QYz5PqzWzT5H4gA/r9D6PjUS+j4xIN0+ybIBPzR95T5tYOg+LmTfPqLY4z57hRI9XFodvFIeEbzU5K476LONPCRYubxY7v07xloKvJRQaD3AQM65esOCPcmFbz1mGJq9wQmGvfoQhD0YDYo7b3EnPXXZ0z1o1OE8AcEuP+b5OD/NBTM/ALk1P+K6MD9+gzY/ibEgP0LyQz9DZzU/VMU0P/itUT8juCE/sLg5PztEKT+9qTA/15Q0Pw==",
          "dtype": "f4"
         },
         "y": {
          "bdata": "oss/P6xTRj8wBz4/yedAP+yBQD+tmV4/Yo5CPx8yUj+EmFI/Ec5QP8RbND9H0DU/epREP9mJTD9gFDs/YV5BPyjoQD87cDs/hRZEPyFTID/LqR8/H3clPyzrHj99hCU/NQIhP0LWIz8s1iE/g88oP7xKKD+abSA/xNUhP8yDHz9JZiA/J0YkP2RiIz93SiA/xBQiP7TqIT/iFik/8tkhP7lEIT8itiI/P9MjP64MHz/dpRs/mPgiP3tdHj/i5yg/BRAjP5+sIj/fFCE/tRcSP/lPJD+anSg/g0EiP0G3Kz9v6RY/kiwcPx9oHD+o8jM/YS8fP0y7Mz9jWBw/d7sgP4yILD+9cwI+zC82Ps6vQj5sPjk+OHYlPv3tPz4B5UQ+0Lg8PtHdUT5H3gs+o2w2PlXfJT6/uT8+bZ5JPrqHPD4upVs+5nE7PuFCBz71cdI9/gRTP135ST8MmEI/AjpTP206Wz+DJUo/o6xOP0tbVT8xRlw/LfNWP3UKPD+yqEM/VgZLP+V+UT82LFA/3F9LPw==",
          "dtype": "f4"
         },
         "z": {
          "bdata": "AAAAAAAA8D8AAAAAAADwPwAAAAAAAPA/AAAAAAAA8D8AAAAAAADwPwAAAAAAAPA/AAAAAAAA8D8AAAAAAADwPwAAAAAAAPA/AAAAAAAA8D8AAAAAAADwPwAAAAAAAPA/AAAAAAAA8D8AAAAAAADwPwAAAAAAAPA/AAAAAAAA8D8AAAAAAADwPwAAAAAAAPA/AAAAAAAA8D8AAAAAAADwPwAAAAAAAPA/AAAAAAAA8D8AAAAAAADwPwAAAAAAAPA/AAAAAAAA8D8AAAAAAADwPwAAAAAAAPA/AAAAAAAA8D8AAAAAAADwPwAAAAAAAPA/AAAAAAAA8D8AAAAAAADwPwAAAAAAAPA/AAAAAAAA8D8AAAAAAADwPwAAAAAAAPA/AAAAAAAA8D8AAAAAAADwPwAAAAAAAPA/AAAAAAAA8D8AAAAAAADwPwAAAAAAAPA/AAAAAAAA8D8AAAAAAADwPwAAAAAAAPA/AAAAAAAA8D8AAAAAAADwPwAAAAAAAPA/AAAAAAAA8D8AAAAAAADwPwAAAAAAAPA/AAAAAAAA8D8AAAAAAADwPwAAAAAAAPA/AAAAAAAA8D8AAAAAAADwPwAAAAAAAPA/AAAAAAAA8D8AAAAAAADwPwAAAAAAAPA/AAAAAAAA8D8AAAAAAADwPwAAAAAAAPA/AAAAAAAA8D8AAAAAAADwPwAAAAAAAPA/AAAAAAAA8D8AAAAAAADwPwAAAAAAAPA/AAAAAAAA8D8AAAAAAADwPwAAAAAAAPA/AAAAAAAA8D8AAAAAAADwPwAAAAAAAPA/AAAAAAAA8D8AAAAAAADwPwAAAAAAAPA/AAAAAAAA8D8AAAAAAADwPwAAAAAAAPA/AAAAAAAA8D8AAAAAAADwPwAAAAAAAPA/AAAAAAAA8D8AAAAAAADwPwAAAAAAAPA/AAAAAAAA8D8AAAAAAADwPwAAAAAAAPA/AAAAAAAA8D8AAAAAAADwPwAAAAAAAPA/AAAAAAAA8D8AAAAAAADwPwAAAAAAAPA/AAAAAAAA8D8AAAAAAADwPwAAAAAAAPA/AAAAAAAA8D8=",
          "dtype": "f8"
         }
        },
        {
         "marker": {
          "color": "orange",
          "opacity": 0.9,
          "size": 6,
          "symbol": "circle"
         },
         "mode": "markers",
         "name": "Drone End",
         "type": "scatter3d",
         "x": {
          "bdata": "AAAAAAAAAAAAAAAAAAAAAAAAAAAAAAAAAAAAAAAAAAAAAAAAAAAAAAAAAAAAAAAAAAAAAAAAAAAAAAAAAAAAAAAAAAAAAAAAAAAAAAAAAAAAAAAAAAAAAAAAAAAAAAAAAAAAAAAAAAAAAAAAAAAAAAAAAAAAAAAAAAAAAAAAAAAAAAAAAAAAAAAAAAAAAAAAAAAAAAAAAAAAAAAAAAAAAAAAAAAAAAAAAAAAAAAAAAAAAAAAAAAAAAAAAAAAAAAAAAAAAAAAAAAAAAAAAAAAAAAAAAAAAAAAAAAAAAAAAAAAAAAAAAAAAAAAAAAAAAAAAAAAAAAAAAAAAAAAAAAAAAAAAAAAAAAAAAAAAAAAAAAAAAAAAAAAAAAAAAAAAAAAAAAAAAAAAAAAAAAAAAAAAAAAAAAAAAAAAAAAAAAAAAAAAAAAAAAAAAAAAAAAAAAAAAAAAAAAAAAAAAAAAAAAAAAAAAAAAAAAAAAAAAAAAAAAAAAAAAAAAAAAAAAAAAAAAAAAAAAAAAAAAAAAAAAAAA==",
          "dtype": "f4"
         },
         "y": {
          "bdata": "AAAAAAAAAAAAAAAAAAAAAAAAAAAAAAAAAAAAAAAAAAAAAAAAAAAAAAAAAAAAAAAAAAAAAAAAAAAAAAAAAAAAAAAAAAAAAAAAAAAAAAAAAAAAAAAAAAAAAAAAAAAAAAAAAAAAAAAAAAAAAAAAAAAAAAAAAAAAAAAAAAAAAAAAAAAAAAAAAAAAAAAAAAAAAAAAAAAAAAAAAAAAAAAAAAAAAAAAAAAAAAAAAAAAAAAAAAAAAAAAAAAAAAAAAAAAAAAAAAAAAAAAAAAAAAAAAAAAAAAAAAAAAAAAAAAAAAAAAAAAAAAAAAAAAAAAAAAAAAAAAAAAAAAAAAAAAAAAAAAAAAAAAAAAAAAAAAAAAAAAAAAAAAAAAAAAAAAAAAAAAAAAAAAAAAAAAAAAAAAAAAAAAAAAAAAAAAAAAAAAAAAAAAAAAAAAAAAAAAAAAAAAAAAAAAAAAAAAAAAAAAAAAAAAAAAAAAAAAAAAAAAAAAAAAAAAAAAAAAAAAAAAAAAAAAAAAAAAAAAAAAAAAAAAAAAAAA==",
          "dtype": "f4"
         },
         "z": {
          "bdata": "AAAAAAAA8D8AAAAAAADwPwAAAAAAAPA/AAAAAAAA8D8AAAAAAADwPwAAAAAAAPA/AAAAAAAA8D8AAAAAAADwPwAAAAAAAPA/AAAAAAAA8D8AAAAAAADwPwAAAAAAAPA/AAAAAAAA8D8AAAAAAADwPwAAAAAAAPA/AAAAAAAA8D8AAAAAAADwPwAAAAAAAPA/AAAAAAAA8D8AAAAAAADwPwAAAAAAAPA/AAAAAAAA8D8AAAAAAADwPwAAAAAAAPA/AAAAAAAA8D8AAAAAAADwPwAAAAAAAPA/AAAAAAAA8D8AAAAAAADwPwAAAAAAAPA/AAAAAAAA8D8AAAAAAADwPwAAAAAAAPA/AAAAAAAA8D8AAAAAAADwPwAAAAAAAPA/AAAAAAAA8D8AAAAAAADwPwAAAAAAAPA/AAAAAAAA8D8AAAAAAADwPwAAAAAAAPA/AAAAAAAA8D8AAAAAAADwPwAAAAAAAPA/AAAAAAAA8D8AAAAAAADwPwAAAAAAAPA/AAAAAAAA8D8AAAAAAADwPwAAAAAAAPA/AAAAAAAA8D8AAAAAAADwPwAAAAAAAPA/AAAAAAAA8D8AAAAAAADwPwAAAAAAAPA/AAAAAAAA8D8AAAAAAADwPwAAAAAAAPA/AAAAAAAA8D8AAAAAAADwPwAAAAAAAPA/AAAAAAAA8D8AAAAAAADwPwAAAAAAAPA/AAAAAAAA8D8AAAAAAADwPwAAAAAAAPA/AAAAAAAA8D8AAAAAAADwPwAAAAAAAPA/AAAAAAAA8D8AAAAAAADwPwAAAAAAAPA/AAAAAAAA8D8AAAAAAADwPwAAAAAAAPA/AAAAAAAA8D8AAAAAAADwPwAAAAAAAPA/AAAAAAAA8D8AAAAAAADwPwAAAAAAAPA/AAAAAAAA8D8AAAAAAADwPwAAAAAAAPA/AAAAAAAA8D8AAAAAAADwPwAAAAAAAPA/AAAAAAAA8D8AAAAAAADwPwAAAAAAAPA/AAAAAAAA8D8AAAAAAADwPwAAAAAAAPA/AAAAAAAA8D8AAAAAAADwPwAAAAAAAPA/AAAAAAAA8D8=",
          "dtype": "f8"
         }
        },
        {
         "line": {
          "color": "gray",
          "width": 3
         },
         "mode": "lines",
         "showlegend": false,
         "type": "scatter3d",
         "x": [
          0.3856225609779358,
          0.3856225609779358
         ],
         "y": [
          0.6002084016799927,
          0.6002084016799927
         ],
         "z": [
          0,
          1
         ]
        },
        {
         "line": {
          "color": "gray",
          "width": 3
         },
         "mode": "lines",
         "showlegend": false,
         "type": "scatter3d",
         "x": [
          0.3859376311302185,
          0.3859376311302185
         ],
         "y": [
          0.6005235314369202,
          0.6005235314369202
         ],
         "z": [
          0,
          1
         ]
        },
        {
         "line": {
          "color": "gray",
          "width": 3
         },
         "mode": "lines",
         "showlegend": false,
         "type": "scatter3d",
         "x": [
          0.38581976294517517,
          0.38581976294517517
         ],
         "y": [
          0.6004056334495544,
          0.6004056334495544
         ],
         "z": [
          0,
          1
         ]
        },
        {
         "line": {
          "color": "gray",
          "width": 3
         },
         "mode": "lines",
         "showlegend": false,
         "type": "scatter3d",
         "x": [
          0.38682618737220764,
          0.38682618737220764
         ],
         "y": [
          0.6014120578765869,
          0.6014120578765869
         ],
         "z": [
          0,
          1
         ]
        },
        {
         "line": {
          "color": "gray",
          "width": 3
         },
         "mode": "lines",
         "showlegend": false,
         "type": "scatter3d",
         "x": [
          0.38455721735954285,
          0.38455721735954285
         ],
         "y": [
          0.5991430878639221,
          0.5991430878639221
         ],
         "z": [
          0,
          1
         ]
        },
        {
         "line": {
          "color": "gray",
          "width": 3
         },
         "mode": "lines",
         "showlegend": false,
         "type": "scatter3d",
         "x": [
          0.38625282049179077,
          0.38625282049179077
         ],
         "y": [
          0.6008387207984924,
          0.6008387207984924
         ],
         "z": [
          0,
          1
         ]
        },
        {
         "line": {
          "color": "gray",
          "width": 3
         },
         "mode": "lines",
         "showlegend": false,
         "type": "scatter3d",
         "x": [
          0.3851240873336792,
          0.3851240873336792
         ],
         "y": [
          0.5997099876403809,
          0.5997099876403809
         ],
         "z": [
          0,
          1
         ]
        },
        {
         "line": {
          "color": "gray",
          "width": 3
         },
         "mode": "lines",
         "showlegend": false,
         "type": "scatter3d",
         "x": [
          0.3842793107032776,
          0.3842793107032776
         ],
         "y": [
          0.5988652110099792,
          0.5988652110099792
         ],
         "z": [
          0,
          1
         ]
        },
        {
         "line": {
          "color": "gray",
          "width": 3
         },
         "mode": "lines",
         "showlegend": false,
         "type": "scatter3d",
         "x": [
          0.38379916548728943,
          0.38379916548728943
         ],
         "y": [
          0.5983850359916687,
          0.5983850359916687
         ],
         "z": [
          0,
          1
         ]
        },
        {
         "line": {
          "color": "gray",
          "width": 3
         },
         "mode": "lines",
         "showlegend": false,
         "type": "scatter3d",
         "x": [
          0.38568106293678284,
          0.38568106293678284
         ],
         "y": [
          0.6002669334411621,
          0.6002669334411621
         ],
         "z": [
          0,
          1
         ]
        },
        {
         "line": {
          "color": "gray",
          "width": 3
         },
         "mode": "lines",
         "showlegend": false,
         "type": "scatter3d",
         "x": [
          0.3839811384677887,
          0.3839811384677887
         ],
         "y": [
          0.598567008972168,
          0.598567008972168
         ],
         "z": [
          0,
          1
         ]
        },
        {
         "line": {
          "color": "gray",
          "width": 3
         },
         "mode": "lines",
         "showlegend": false,
         "type": "scatter3d",
         "x": [
          0.38449913263320923,
          0.38449913263320923
         ],
         "y": [
          0.5990849733352661,
          0.5990849733352661
         ],
         "z": [
          0,
          1
         ]
        },
        {
         "line": {
          "color": "gray",
          "width": 3
         },
         "mode": "lines",
         "showlegend": false,
         "type": "scatter3d",
         "x": [
          0.3858691155910492,
          0.3858691155910492
         ],
         "y": [
          0.6004549860954285,
          0.6004549860954285
         ],
         "z": [
          0,
          1
         ]
        },
        {
         "line": {
          "color": "gray",
          "width": 3
         },
         "mode": "lines",
         "showlegend": false,
         "type": "scatter3d",
         "x": [
          0.3867167532444,
          0.3867167532444
         ],
         "y": [
          0.6013026237487793,
          0.6013026237487793
         ],
         "z": [
          0,
          1
         ]
        },
        {
         "line": {
          "color": "gray",
          "width": 3
         },
         "mode": "lines",
         "showlegend": false,
         "type": "scatter3d",
         "x": [
          0.3855566382408142,
          0.3855566382408142
         ],
         "y": [
          0.6001424789428711,
          0.6001424789428711
         ],
         "z": [
          0,
          1
         ]
        },
        {
         "line": {
          "color": "gray",
          "width": 3
         },
         "mode": "lines",
         "showlegend": false,
         "type": "scatter3d",
         "x": [
          0.38607436418533325,
          0.38607436418533325
         ],
         "y": [
          0.6006602644920349,
          0.6006602644920349
         ],
         "z": [
          0,
          1
         ]
        },
        {
         "line": {
          "color": "gray",
          "width": 3
         },
         "mode": "lines",
         "showlegend": false,
         "type": "scatter3d",
         "x": [
          0.3860729932785034,
          0.3860729932785034
         ],
         "y": [
          0.6006588339805603,
          0.6006588339805603
         ],
         "z": [
          0,
          1
         ]
        },
        {
         "line": {
          "color": "gray",
          "width": 3
         },
         "mode": "lines",
         "showlegend": false,
         "type": "scatter3d",
         "x": [
          0.3833784759044647,
          0.3833784759044647
         ],
         "y": [
          0.597964346408844,
          0.597964346408844
         ],
         "z": [
          0,
          1
         ]
        },
        {
         "line": {
          "color": "gray",
          "width": 3
         },
         "mode": "lines",
         "showlegend": false,
         "type": "scatter3d",
         "x": [
          0.3858832120895386,
          0.3858832120895386
         ],
         "y": [
          0.6004690527915955,
          0.6004690527915955
         ],
         "z": [
          0,
          1
         ]
        },
        {
         "line": {
          "color": "gray",
          "width": 3
         },
         "mode": "lines",
         "showlegend": false,
         "type": "scatter3d",
         "x": [
          0.3829582929611206,
          0.3829582929611206
         ],
         "y": [
          0.5975441336631775,
          0.5975441336631775
         ],
         "z": [
          0,
          1
         ]
        },
        {
         "marker": {
          "color": "silver",
          "size": 5,
          "symbol": "square"
         },
         "mode": "markers",
         "name": "Facilities",
         "type": "scatter3d",
         "x": {
          "bdata": "UnDFPp6ZxT4risU+FQ7GPq/kxD7uwsU+/C7FPkLAxD5TgcQ+/XfFPi2ZxD4S3cQ+o5DFPr3/xT6uZ8U+iqvFPlyrxT4vSsQ+fJLFPhwTxD4=",
          "dtype": "f4"
         },
         "y": {
          "bdata": "QqcZP+m7GT8vtBk/JPYZP3FhGT+R0Bk/mIYZPztPGT/DLxk/GKsZP7A7GT+iXRk/a7cZP/juGT/wohk/38QZP8fEGT8xFBk/V7gZP6f4GD8=",
          "dtype": "f4"
         },
         "z": {
          "bdata": "AAAAAAAA8D8AAAAAAADwPwAAAAAAAPA/AAAAAAAA8D8AAAAAAADwPwAAAAAAAPA/AAAAAAAA8D8AAAAAAADwPwAAAAAAAPA/AAAAAAAA8D8AAAAAAADwPwAAAAAAAPA/AAAAAAAA8D8AAAAAAADwPwAAAAAAAPA/AAAAAAAA8D8AAAAAAADwPwAAAAAAAPA/AAAAAAAA8D8AAAAAAADwPw==",
          "dtype": "f8"
         }
        }
       ],
       "layout": {
        "legend": {
         "bgcolor": "rgba(0,0,0,0.4)",
         "bordercolor": "white"
        },
        "margin": {
         "b": 0,
         "l": 0,
         "r": 0,
         "t": 30
        },
        "scene": {
         "aspectmode": "data",
         "camera": {
          "eye": {
           "x": 1.5,
           "y": 1.5,
           "z": 0.7
          }
         },
         "xaxis": {
          "backgroundcolor": "rgb(10,10,20)",
          "gridcolor": "gray",
          "title": {
           "text": "X"
          },
          "zerolinecolor": "gray"
         },
         "yaxis": {
          "backgroundcolor": "rgb(10,10,20)",
          "gridcolor": "gray",
          "title": {
           "text": "Y"
          },
          "zerolinecolor": "gray"
         },
         "zaxis": {
          "backgroundcolor": "rgb(10,10,20)",
          "gridcolor": "gray",
          "title": {
           "text": "Altitude"
          },
          "zerolinecolor": "gray"
         }
        },
        "template": {
         "data": {
          "bar": [
           {
            "error_x": {
             "color": "#f2f5fa"
            },
            "error_y": {
             "color": "#f2f5fa"
            },
            "marker": {
             "line": {
              "color": "rgb(17,17,17)",
              "width": 0.5
             },
             "pattern": {
              "fillmode": "overlay",
              "size": 10,
              "solidity": 0.2
             }
            },
            "type": "bar"
           }
          ],
          "barpolar": [
           {
            "marker": {
             "line": {
              "color": "rgb(17,17,17)",
              "width": 0.5
             },
             "pattern": {
              "fillmode": "overlay",
              "size": 10,
              "solidity": 0.2
             }
            },
            "type": "barpolar"
           }
          ],
          "carpet": [
           {
            "aaxis": {
             "endlinecolor": "#A2B1C6",
             "gridcolor": "#506784",
             "linecolor": "#506784",
             "minorgridcolor": "#506784",
             "startlinecolor": "#A2B1C6"
            },
            "baxis": {
             "endlinecolor": "#A2B1C6",
             "gridcolor": "#506784",
             "linecolor": "#506784",
             "minorgridcolor": "#506784",
             "startlinecolor": "#A2B1C6"
            },
            "type": "carpet"
           }
          ],
          "choropleth": [
           {
            "colorbar": {
             "outlinewidth": 0,
             "ticks": ""
            },
            "type": "choropleth"
           }
          ],
          "contour": [
           {
            "colorbar": {
             "outlinewidth": 0,
             "ticks": ""
            },
            "colorscale": [
             [
              0,
              "#0d0887"
             ],
             [
              0.1111111111111111,
              "#46039f"
             ],
             [
              0.2222222222222222,
              "#7201a8"
             ],
             [
              0.3333333333333333,
              "#9c179e"
             ],
             [
              0.4444444444444444,
              "#bd3786"
             ],
             [
              0.5555555555555556,
              "#d8576b"
             ],
             [
              0.6666666666666666,
              "#ed7953"
             ],
             [
              0.7777777777777778,
              "#fb9f3a"
             ],
             [
              0.8888888888888888,
              "#fdca26"
             ],
             [
              1,
              "#f0f921"
             ]
            ],
            "type": "contour"
           }
          ],
          "contourcarpet": [
           {
            "colorbar": {
             "outlinewidth": 0,
             "ticks": ""
            },
            "type": "contourcarpet"
           }
          ],
          "heatmap": [
           {
            "colorbar": {
             "outlinewidth": 0,
             "ticks": ""
            },
            "colorscale": [
             [
              0,
              "#0d0887"
             ],
             [
              0.1111111111111111,
              "#46039f"
             ],
             [
              0.2222222222222222,
              "#7201a8"
             ],
             [
              0.3333333333333333,
              "#9c179e"
             ],
             [
              0.4444444444444444,
              "#bd3786"
             ],
             [
              0.5555555555555556,
              "#d8576b"
             ],
             [
              0.6666666666666666,
              "#ed7953"
             ],
             [
              0.7777777777777778,
              "#fb9f3a"
             ],
             [
              0.8888888888888888,
              "#fdca26"
             ],
             [
              1,
              "#f0f921"
             ]
            ],
            "type": "heatmap"
           }
          ],
          "histogram": [
           {
            "marker": {
             "pattern": {
              "fillmode": "overlay",
              "size": 10,
              "solidity": 0.2
             }
            },
            "type": "histogram"
           }
          ],
          "histogram2d": [
           {
            "colorbar": {
             "outlinewidth": 0,
             "ticks": ""
            },
            "colorscale": [
             [
              0,
              "#0d0887"
             ],
             [
              0.1111111111111111,
              "#46039f"
             ],
             [
              0.2222222222222222,
              "#7201a8"
             ],
             [
              0.3333333333333333,
              "#9c179e"
             ],
             [
              0.4444444444444444,
              "#bd3786"
             ],
             [
              0.5555555555555556,
              "#d8576b"
             ],
             [
              0.6666666666666666,
              "#ed7953"
             ],
             [
              0.7777777777777778,
              "#fb9f3a"
             ],
             [
              0.8888888888888888,
              "#fdca26"
             ],
             [
              1,
              "#f0f921"
             ]
            ],
            "type": "histogram2d"
           }
          ],
          "histogram2dcontour": [
           {
            "colorbar": {
             "outlinewidth": 0,
             "ticks": ""
            },
            "colorscale": [
             [
              0,
              "#0d0887"
             ],
             [
              0.1111111111111111,
              "#46039f"
             ],
             [
              0.2222222222222222,
              "#7201a8"
             ],
             [
              0.3333333333333333,
              "#9c179e"
             ],
             [
              0.4444444444444444,
              "#bd3786"
             ],
             [
              0.5555555555555556,
              "#d8576b"
             ],
             [
              0.6666666666666666,
              "#ed7953"
             ],
             [
              0.7777777777777778,
              "#fb9f3a"
             ],
             [
              0.8888888888888888,
              "#fdca26"
             ],
             [
              1,
              "#f0f921"
             ]
            ],
            "type": "histogram2dcontour"
           }
          ],
          "mesh3d": [
           {
            "colorbar": {
             "outlinewidth": 0,
             "ticks": ""
            },
            "type": "mesh3d"
           }
          ],
          "parcoords": [
           {
            "line": {
             "colorbar": {
              "outlinewidth": 0,
              "ticks": ""
             }
            },
            "type": "parcoords"
           }
          ],
          "pie": [
           {
            "automargin": true,
            "type": "pie"
           }
          ],
          "scatter": [
           {
            "marker": {
             "line": {
              "color": "#283442"
             }
            },
            "type": "scatter"
           }
          ],
          "scatter3d": [
           {
            "line": {
             "colorbar": {
              "outlinewidth": 0,
              "ticks": ""
             }
            },
            "marker": {
             "colorbar": {
              "outlinewidth": 0,
              "ticks": ""
             }
            },
            "type": "scatter3d"
           }
          ],
          "scattercarpet": [
           {
            "marker": {
             "colorbar": {
              "outlinewidth": 0,
              "ticks": ""
             }
            },
            "type": "scattercarpet"
           }
          ],
          "scattergeo": [
           {
            "marker": {
             "colorbar": {
              "outlinewidth": 0,
              "ticks": ""
             }
            },
            "type": "scattergeo"
           }
          ],
          "scattergl": [
           {
            "marker": {
             "line": {
              "color": "#283442"
             }
            },
            "type": "scattergl"
           }
          ],
          "scattermap": [
           {
            "marker": {
             "colorbar": {
              "outlinewidth": 0,
              "ticks": ""
             }
            },
            "type": "scattermap"
           }
          ],
          "scattermapbox": [
           {
            "marker": {
             "colorbar": {
              "outlinewidth": 0,
              "ticks": ""
             }
            },
            "type": "scattermapbox"
           }
          ],
          "scatterpolar": [
           {
            "marker": {
             "colorbar": {
              "outlinewidth": 0,
              "ticks": ""
             }
            },
            "type": "scatterpolar"
           }
          ],
          "scatterpolargl": [
           {
            "marker": {
             "colorbar": {
              "outlinewidth": 0,
              "ticks": ""
             }
            },
            "type": "scatterpolargl"
           }
          ],
          "scatterternary": [
           {
            "marker": {
             "colorbar": {
              "outlinewidth": 0,
              "ticks": ""
             }
            },
            "type": "scatterternary"
           }
          ],
          "surface": [
           {
            "colorbar": {
             "outlinewidth": 0,
             "ticks": ""
            },
            "colorscale": [
             [
              0,
              "#0d0887"
             ],
             [
              0.1111111111111111,
              "#46039f"
             ],
             [
              0.2222222222222222,
              "#7201a8"
             ],
             [
              0.3333333333333333,
              "#9c179e"
             ],
             [
              0.4444444444444444,
              "#bd3786"
             ],
             [
              0.5555555555555556,
              "#d8576b"
             ],
             [
              0.6666666666666666,
              "#ed7953"
             ],
             [
              0.7777777777777778,
              "#fb9f3a"
             ],
             [
              0.8888888888888888,
              "#fdca26"
             ],
             [
              1,
              "#f0f921"
             ]
            ],
            "type": "surface"
           }
          ],
          "table": [
           {
            "cells": {
             "fill": {
              "color": "#506784"
             },
             "line": {
              "color": "rgb(17,17,17)"
             }
            },
            "header": {
             "fill": {
              "color": "#2a3f5f"
             },
             "line": {
              "color": "rgb(17,17,17)"
             }
            },
            "type": "table"
           }
          ]
         },
         "layout": {
          "annotationdefaults": {
           "arrowcolor": "#f2f5fa",
           "arrowhead": 0,
           "arrowwidth": 1
          },
          "autotypenumbers": "strict",
          "coloraxis": {
           "colorbar": {
            "outlinewidth": 0,
            "ticks": ""
           }
          },
          "colorscale": {
           "diverging": [
            [
             0,
             "#8e0152"
            ],
            [
             0.1,
             "#c51b7d"
            ],
            [
             0.2,
             "#de77ae"
            ],
            [
             0.3,
             "#f1b6da"
            ],
            [
             0.4,
             "#fde0ef"
            ],
            [
             0.5,
             "#f7f7f7"
            ],
            [
             0.6,
             "#e6f5d0"
            ],
            [
             0.7,
             "#b8e186"
            ],
            [
             0.8,
             "#7fbc41"
            ],
            [
             0.9,
             "#4d9221"
            ],
            [
             1,
             "#276419"
            ]
           ],
           "sequential": [
            [
             0,
             "#0d0887"
            ],
            [
             0.1111111111111111,
             "#46039f"
            ],
            [
             0.2222222222222222,
             "#7201a8"
            ],
            [
             0.3333333333333333,
             "#9c179e"
            ],
            [
             0.4444444444444444,
             "#bd3786"
            ],
            [
             0.5555555555555556,
             "#d8576b"
            ],
            [
             0.6666666666666666,
             "#ed7953"
            ],
            [
             0.7777777777777778,
             "#fb9f3a"
            ],
            [
             0.8888888888888888,
             "#fdca26"
            ],
            [
             1,
             "#f0f921"
            ]
           ],
           "sequentialminus": [
            [
             0,
             "#0d0887"
            ],
            [
             0.1111111111111111,
             "#46039f"
            ],
            [
             0.2222222222222222,
             "#7201a8"
            ],
            [
             0.3333333333333333,
             "#9c179e"
            ],
            [
             0.4444444444444444,
             "#bd3786"
            ],
            [
             0.5555555555555556,
             "#d8576b"
            ],
            [
             0.6666666666666666,
             "#ed7953"
            ],
            [
             0.7777777777777778,
             "#fb9f3a"
            ],
            [
             0.8888888888888888,
             "#fdca26"
            ],
            [
             1,
             "#f0f921"
            ]
           ]
          },
          "colorway": [
           "#636efa",
           "#EF553B",
           "#00cc96",
           "#ab63fa",
           "#FFA15A",
           "#19d3f3",
           "#FF6692",
           "#B6E880",
           "#FF97FF",
           "#FECB52"
          ],
          "font": {
           "color": "#f2f5fa"
          },
          "geo": {
           "bgcolor": "rgb(17,17,17)",
           "lakecolor": "rgb(17,17,17)",
           "landcolor": "rgb(17,17,17)",
           "showlakes": true,
           "showland": true,
           "subunitcolor": "#506784"
          },
          "hoverlabel": {
           "align": "left"
          },
          "hovermode": "closest",
          "mapbox": {
           "style": "dark"
          },
          "paper_bgcolor": "rgb(17,17,17)",
          "plot_bgcolor": "rgb(17,17,17)",
          "polar": {
           "angularaxis": {
            "gridcolor": "#506784",
            "linecolor": "#506784",
            "ticks": ""
           },
           "bgcolor": "rgb(17,17,17)",
           "radialaxis": {
            "gridcolor": "#506784",
            "linecolor": "#506784",
            "ticks": ""
           }
          },
          "scene": {
           "xaxis": {
            "backgroundcolor": "rgb(17,17,17)",
            "gridcolor": "#506784",
            "gridwidth": 2,
            "linecolor": "#506784",
            "showbackground": true,
            "ticks": "",
            "zerolinecolor": "#C8D4E3"
           },
           "yaxis": {
            "backgroundcolor": "rgb(17,17,17)",
            "gridcolor": "#506784",
            "gridwidth": 2,
            "linecolor": "#506784",
            "showbackground": true,
            "ticks": "",
            "zerolinecolor": "#C8D4E3"
           },
           "zaxis": {
            "backgroundcolor": "rgb(17,17,17)",
            "gridcolor": "#506784",
            "gridwidth": 2,
            "linecolor": "#506784",
            "showbackground": true,
            "ticks": "",
            "zerolinecolor": "#C8D4E3"
           }
          },
          "shapedefaults": {
           "line": {
            "color": "#f2f5fa"
           }
          },
          "sliderdefaults": {
           "bgcolor": "#C8D4E3",
           "bordercolor": "rgb(17,17,17)",
           "borderwidth": 1,
           "tickwidth": 0
          },
          "ternary": {
           "aaxis": {
            "gridcolor": "#506784",
            "linecolor": "#506784",
            "ticks": ""
           },
           "baxis": {
            "gridcolor": "#506784",
            "linecolor": "#506784",
            "ticks": ""
           },
           "bgcolor": "rgb(17,17,17)",
           "caxis": {
            "gridcolor": "#506784",
            "linecolor": "#506784",
            "ticks": ""
           }
          },
          "title": {
           "x": 0.05
          },
          "updatemenudefaults": {
           "bgcolor": "#506784",
           "borderwidth": 0
          },
          "xaxis": {
           "automargin": true,
           "gridcolor": "#283442",
           "linecolor": "#506784",
           "ticks": "",
           "title": {
            "standoff": 15
           },
           "zerolinecolor": "#283442",
           "zerolinewidth": 2
          },
          "yaxis": {
           "automargin": true,
           "gridcolor": "#283442",
           "linecolor": "#506784",
           "ticks": "",
           "title": {
            "standoff": 15
           },
           "zerolinecolor": "#283442",
           "zerolinewidth": 2
          }
         }
        },
        "title": {
         "font": {
          "size": 20
         },
         "text": "UAV Spatial Deployment",
         "x": 0.5
        }
       }
      }
     },
     "metadata": {},
     "output_type": "display_data"
    }
   ],
   "source": [
    "# UAV FLPO MetaData\n",
    "num_drones = 100\n",
    "n_drone_clusters = 5\n",
    "drone_cluster_split = np.random.uniform(0.0, 1.0, n_drone_clusters)\n",
    "drone_cluster_split = drone_cluster_split / np.sum(drone_cluster_split)\n",
    "num_facilities = 20\n",
    "dim_ = 2\n",
    "print(f\"num_drones = {num_drones}\\tnum_facilities = {num_facilities}\\tdim = {dim_}\")\n",
    "\n",
    "START_locs, F_base, END_locs = generate_dataset(\n",
    "    num_drones, n_drone_clusters, drone_cluster_split, num_facilities, dim_, device\n",
    ")\n",
    "\n",
    "plot_UAV_FLPO(START_locs, END_locs, F_base)\n",
    "plot_UAV_FLPO_3D(START_locs, END_locs, F_base)"
   ]
  },
  {
   "cell_type": "markdown",
   "metadata": {},
   "source": [
    "### Load the VRP NET Module"
   ]
  },
  {
   "cell_type": "code",
   "execution_count": 5,
   "metadata": {},
   "outputs": [
    {
     "name": "stdout",
     "output_type": "stream",
     "text": [
      "Model created.\n",
      "VRP NET loaded on:  cuda\n",
      "===============================================================================================\n",
      "Layer (type:depth-idx)                                                 Param #\n",
      "===============================================================================================\n",
      "VRPNet_L                                                               --\n",
      "├─LinearAttnEncoder: 1-1                                               2,048\n",
      "│    └─ModuleList: 2-1                                                 --\n",
      "│    │    └─MultiheadAttention: 3-1                                    (66,048)\n",
      "│    │    └─MultiheadAttention: 3-2                                    (66,048)\n",
      "│    │    └─MultiheadAttention: 3-3                                    (66,048)\n",
      "│    │    └─MultiheadAttention: 3-4                                    (66,048)\n",
      "│    │    └─MultiheadAttention: 3-5                                    (66,048)\n",
      "│    │    └─MultiheadAttention: 3-6                                    (66,048)\n",
      "│    └─ModuleList: 2-2                                                 --\n",
      "│    │    └─MultiheadAttention: 3-7                                    (66,048)\n",
      "│    │    └─MultiheadAttention: 3-8                                    (66,048)\n",
      "│    │    └─MultiheadAttention: 3-9                                    (66,048)\n",
      "│    │    └─MultiheadAttention: 3-10                                   (66,048)\n",
      "│    │    └─MultiheadAttention: 3-11                                   (66,048)\n",
      "│    │    └─MultiheadAttention: 3-12                                   (66,048)\n",
      "│    └─Linear: 2-3                                                     (512)\n",
      "│    └─Linear: 2-4                                                     (8,256)\n",
      "│    └─LayerNorm: 2-5                                                  (256)\n",
      "│    └─Dropout: 2-6                                                    --\n",
      "│    └─ReLU: 2-7                                                       --\n",
      "├─Decoder: 1-2                                                         --\n",
      "│    └─PositionalEncoding: 2-8                                         --\n",
      "│    └─TransformerDecoder: 2-9                                         --\n",
      "│    │    └─ModuleList: 3-13                                           (200,256)\n",
      "===============================================================================================\n",
      "Total params: 1,003,904\n",
      "Trainable params: 0\n",
      "Non-trainable params: 1,003,904\n",
      "===============================================================================================\n"
     ]
    }
   ],
   "source": [
    "torch.cuda.empty_cache()\n",
    "model_classes = {\"VRPNet_L\": VRPNet_L}\n",
    "weights_address = (\n",
    "    Path(\"Saved models\") /\n",
    "    \"VRPNet_L_lr1e-04_bs32_ep60000_samples1920000_cities50_inputdim2_\"\n",
    "    \"workers0_hidden64_enc1_dec1_heads8_dropout0.30_\"\n",
    "    \"train_PO_2025_05_17_22_43_32last_model.pth\"\n",
    ")\n",
    "vrp_net = utils.load_model(\n",
    "    weights_address, model_classes, weights_only=True, device=device\n",
    ")\n",
    "for param in vrp_net.parameters():\n",
    "    param.requires_grad = False\n",
    "print(\"VRP NET loaded on: \", vrp_net.device)\n",
    "print(summary(vrp_net))"
   ]
  },
  {
   "cell_type": "markdown",
   "metadata": {},
   "source": [
    "### Load the LSE net module"
   ]
  },
  {
   "cell_type": "code",
   "execution_count": 6,
   "metadata": {},
   "outputs": [
    {
     "name": "stdout",
     "output_type": "stream",
     "text": [
      "n_inputs: 3\n",
      "n_outputs: 1\n",
      "layers: [20, 20, 10]\n",
      "io_scale: 1\n",
      "LSE_net:\n",
      "=================================================================\n",
      "Layer (type:depth-idx)                   Param #\n",
      "=================================================================\n",
      "dnn                                      --\n",
      "├─ModuleList: 1-1                        --\n",
      "│    └─Linear: 2-1                       (80)\n",
      "│    └─ReLU: 2-2                         --\n",
      "│    └─Linear: 2-3                       (420)\n",
      "│    └─ReLU: 2-4                         --\n",
      "│    └─Linear: 2-5                       (210)\n",
      "│    └─ReLU: 2-6                         --\n",
      "│    └─Linear: 2-7                       (11)\n",
      "=================================================================\n",
      "Total params: 721\n",
      "Trainable params: 0\n",
      "Non-trainable params: 721\n",
      "=================================================================\n"
     ]
    }
   ],
   "source": [
    "importlib.reload(LSE_net)\n",
    "lse_data = torch.load('logSumExp_models/lse_2025_5_1__17_6_31.pth', weights_only=False)\n",
    "n_inputs = lse_data['n_inputs']\n",
    "n_outputs = lse_data['n_outputs']\n",
    "layers = lse_data['layers']\n",
    "weights = lse_data['model_state_dict']\n",
    "io_scale = lse_data['io_scale']\n",
    "lse_net = LSE_net.dnn(n_inputs, n_outputs, layers)\n",
    "lse_net.to(device)\n",
    "lse_net.load_state_dict(weights)\n",
    "lse_net.eval()\n",
    "for p in lse_net.parameters():\n",
    "    p.requires_grad = False\n",
    "print(f'n_inputs: {n_inputs}\\nn_outputs: {n_outputs}\\nlayers: {layers}\\nio_scale: {io_scale}\\nLSE_net:\\n{summary(lse_net)}')"
   ]
  },
  {
   "cell_type": "markdown",
   "metadata": {},
   "source": [
    "### Optimization loop for a single beta"
   ]
  },
  {
   "cell_type": "code",
   "execution_count": 9,
   "metadata": {},
   "outputs": [
    {
     "name": "stdout",
     "output_type": "stream",
     "text": [
      "iter: 0\tFreeE: 5.7530e-01 Norm gradient: 0.484\n",
      "iter: 1\tFreeE: 5.6544e-01 Norm gradient: 0.632\n",
      "iter: 2\tFreeE: 5.3847e-01 Norm gradient: 0.797\n",
      "iter: 3\tFreeE: 4.7328e-01 Norm gradient: 0.878\n",
      "iter: 4\tFreeE: 3.8746e-01 Norm gradient: 1.002\n",
      "iter: 5\tFreeE: 3.6715e-01 Norm gradient: 0.971\n",
      "iter: 6\tFreeE: 3.5202e-01 Norm gradient: 0.938\n",
      "iter: 7\tFreeE: 3.3684e-01 Norm gradient: 0.921\n",
      "iter: 8\tFreeE: 3.2235e-01 Norm gradient: 0.899\n",
      "iter: 9\tFreeE: 3.0847e-01 Norm gradient: 0.859\n",
      "iter: 10\tFreeE: 2.9495e-01 Norm gradient: 0.834\n",
      "iter: 11\tFreeE: 2.8177e-01 Norm gradient: 0.806\n",
      "iter: 12\tFreeE: 2.6937e-01 Norm gradient: 0.779\n",
      "iter: 13\tFreeE: 2.5759e-01 Norm gradient: 0.754\n",
      "iter: 14\tFreeE: 2.4650e-01 Norm gradient: 0.730\n",
      "iter: 15\tFreeE: 2.3645e-01 Norm gradient: 0.711\n",
      "iter: 16\tFreeE: 2.2552e-01 Norm gradient: 0.689\n",
      "iter: 17\tFreeE: 2.1534e-01 Norm gradient: 0.665\n",
      "iter: 18\tFreeE: 2.0631e-01 Norm gradient: 0.644\n",
      "iter: 19\tFreeE: 1.9738e-01 Norm gradient: 0.624\n",
      "iter: 20\tFreeE: 1.8871e-01 Norm gradient: 0.603\n",
      "iter: 21\tFreeE: 1.7977e-01 Norm gradient: 0.584\n",
      "iter: 22\tFreeE: 1.7182e-01 Norm gradient: 0.561\n",
      "iter: 23\tFreeE: 1.6394e-01 Norm gradient: 0.542\n",
      "iter: 24\tFreeE: 1.5651e-01 Norm gradient: 0.522\n",
      "iter: 25\tFreeE: 1.4973e-01 Norm gradient: 0.503\n",
      "iter: 26\tFreeE: 1.4328e-01 Norm gradient: 0.485\n",
      "iter: 27\tFreeE: 1.3699e-01 Norm gradient: 0.466\n",
      "iter: 28\tFreeE: 1.3149e-01 Norm gradient: 0.453\n",
      "iter: 29\tFreeE: 1.2567e-01 Norm gradient: 0.434\n",
      "iter: 30\tFreeE: 1.2039e-01 Norm gradient: 0.421\n",
      "iter: 31\tFreeE: 1.1541e-01 Norm gradient: 0.406\n",
      "iter: 32\tFreeE: 1.1077e-01 Norm gradient: 0.391\n",
      "iter: 33\tFreeE: 1.0617e-01 Norm gradient: 0.374\n",
      "iter: 34\tFreeE: 1.0205e-01 Norm gradient: 0.360\n",
      "iter: 35\tFreeE: 9.8310e-02 Norm gradient: 0.349\n",
      "iter: 36\tFreeE: 9.4926e-02 Norm gradient: 0.339\n",
      "iter: 37\tFreeE: 9.1721e-02 Norm gradient: 0.330\n",
      "iter: 38\tFreeE: 8.8617e-02 Norm gradient: 0.319\n",
      "iter: 39\tFreeE: 8.5602e-02 Norm gradient: 0.307\n",
      "iter: 40\tFreeE: 8.2903e-02 Norm gradient: 0.296\n",
      "iter: 41\tFreeE: 8.0779e-02 Norm gradient: 0.286\n",
      "iter: 42\tFreeE: 7.8680e-02 Norm gradient: 0.275\n",
      "iter: 43\tFreeE: 7.6615e-02 Norm gradient: 0.263\n",
      "iter: 44\tFreeE: 7.4587e-02 Norm gradient: 0.259\n",
      "iter: 45\tFreeE: 7.2683e-02 Norm gradient: 0.247\n",
      "iter: 46\tFreeE: 7.1057e-02 Norm gradient: 0.236\n",
      "iter: 47\tFreeE: 6.9356e-02 Norm gradient: 0.236\n",
      "iter: 48\tFreeE: 6.7825e-02 Norm gradient: 0.237\n",
      "iter: 49\tFreeE: 6.6246e-02 Norm gradient: 0.232\n",
      "iter: 50\tFreeE: 6.4695e-02 Norm gradient: 0.221\n",
      "iter: 51\tFreeE: 6.3174e-02 Norm gradient: 0.209\n",
      "iter: 52\tFreeE: 6.1791e-02 Norm gradient: 0.197\n",
      "iter: 53\tFreeE: 6.0532e-02 Norm gradient: 0.183\n",
      "iter: 54\tFreeE: 5.9353e-02 Norm gradient: 0.171\n",
      "iter: 55\tFreeE: 5.8232e-02 Norm gradient: 0.164\n",
      "iter: 56\tFreeE: 5.7373e-02 Norm gradient: 0.154\n",
      "iter: 57\tFreeE: 5.6421e-02 Norm gradient: 0.150\n",
      "iter: 58\tFreeE: 5.5569e-02 Norm gradient: 0.142\n",
      "iter: 59\tFreeE: 5.4778e-02 Norm gradient: 0.143\n",
      "iter: 60\tFreeE: 5.3434e-02 Norm gradient: 0.130\n",
      "iter: 61\tFreeE: 5.2426e-02 Norm gradient: 0.119\n",
      "iter: 62\tFreeE: 5.1787e-02 Norm gradient: 0.117\n",
      "iter: 63\tFreeE: 5.1141e-02 Norm gradient: 0.152\n",
      "iter: 64\tFreeE: 4.9589e-02 Norm gradient: 0.118\n",
      "iter: 65\tFreeE: 4.9015e-02 Norm gradient: 0.118\n",
      "iter: 66\tFreeE: 4.8521e-02 Norm gradient: 0.122\n",
      "iter: 67\tFreeE: 4.7835e-02 Norm gradient: 0.107\n",
      "iter: 68\tFreeE: 4.7133e-02 Norm gradient: 0.088\n",
      "iter: 69\tFreeE: 4.6806e-02 Norm gradient: 0.089\n",
      "iter: 70\tFreeE: 4.6634e-02 Norm gradient: 0.096\n",
      "iter: 71\tFreeE: 4.6255e-02 Norm gradient: 0.087\n",
      "iter: 72\tFreeE: 4.5606e-02 Norm gradient: 0.066\n",
      "iter: 73\tFreeE: 4.5208e-02 Norm gradient: 0.057\n",
      "iter: 74\tFreeE: 4.5152e-02 Norm gradient: 0.063\n",
      "iter: 75\tFreeE: 4.4877e-02 Norm gradient: 0.064\n",
      "iter: 76\tFreeE: 4.4564e-02 Norm gradient: 0.056\n",
      "iter: 77\tFreeE: 4.4205e-02 Norm gradient: 0.051\n",
      "iter: 78\tFreeE: 4.4015e-02 Norm gradient: 0.051\n",
      "iter: 79\tFreeE: 4.3775e-02 Norm gradient: 0.050\n",
      "iter: 80\tFreeE: 4.3666e-02 Norm gradient: 0.045\n",
      "iter: 81\tFreeE: 4.3478e-02 Norm gradient: 0.040\n",
      "iter: 82\tFreeE: 4.3420e-02 Norm gradient: 0.040\n",
      "iter: 83\tFreeE: 4.3145e-02 Norm gradient: 0.038\n",
      "iter: 84\tFreeE: 4.3138e-02 Norm gradient: 0.035\n",
      "iter: 85\tFreeE: 4.2947e-02 Norm gradient: 0.036\n",
      "iter: 86\tFreeE: 4.2929e-02 Norm gradient: 0.037\n",
      "iter: 87\tFreeE: 4.2689e-02 Norm gradient: 0.036\n",
      "iter: 88\tFreeE: 4.2622e-02 Norm gradient: 0.031\n",
      "iter: 89\tFreeE: 4.2593e-02 Norm gradient: 0.026\n",
      "iter: 90\tFreeE: 4.2476e-02 Norm gradient: 0.026\n",
      "iter: 91\tFreeE: 4.2444e-02 Norm gradient: 0.026\n",
      "iter: 92\tFreeE: 4.2436e-02 Norm gradient: 0.027\n",
      "iter: 93\tFreeE: 4.2271e-02 Norm gradient: 0.025\n",
      "iter: 94\tFreeE: 4.2118e-02 Norm gradient: 0.024\n",
      "iter: 95\tFreeE: 4.2067e-02 Norm gradient: 0.022\n",
      "iter: 96\tFreeE: 4.2079e-02 Norm gradient: 0.021\n",
      "iter: 97\tFreeE: 4.2007e-02 Norm gradient: 0.021\n",
      "iter: 98\tFreeE: 4.1857e-02 Norm gradient: 0.019\n",
      "iter: 99\tFreeE: 4.1839e-02 Norm gradient: 0.017\n",
      "iter: 100\tFreeE: 4.1909e-02 Norm gradient: 0.016\n",
      "iter: 101\tFreeE: 4.1709e-02 Norm gradient: 0.016\n",
      "iter: 102\tFreeE: 4.1850e-02 Norm gradient: 0.017\n",
      "iter: 103\tFreeE: 4.1891e-02 Norm gradient: 0.016\n",
      "iter: 104\tFreeE: 4.1858e-02 Norm gradient: 0.014\n",
      "iter: 105\tFreeE: 4.1812e-02 Norm gradient: 0.013\n",
      "iter: 106\tFreeE: 4.1753e-02 Norm gradient: 0.012\n",
      "iter: 107\tFreeE: 4.1727e-02 Norm gradient: 0.012\n",
      "iter: 108\tFreeE: 4.1841e-02 Norm gradient: 0.012\n",
      "iter: 109\tFreeE: 4.1725e-02 Norm gradient: 0.012\n",
      "iter: 110\tFreeE: 4.1696e-02 Norm gradient: 0.012\n",
      "iter: 111\tFreeE: 4.1757e-02 Norm gradient: 0.012\n",
      "iter: 112\tFreeE: 4.1628e-02 Norm gradient: 0.010\n",
      "iter: 113\tFreeE: 4.1669e-02 Norm gradient: 0.010\n",
      "iter: 114\tFreeE: 4.1588e-02 Norm gradient: 0.010\n",
      "iter: 115\tFreeE: 4.1571e-02 Norm gradient: 0.009\n",
      "iter: 116\tFreeE: 4.1542e-02 Norm gradient: 0.009\n",
      "iter: 117\tFreeE: 4.1526e-02 Norm gradient: 0.009\n",
      "iter: 118\tFreeE: 4.1360e-02 Norm gradient: 0.008\n",
      "iter: 119\tFreeE: 4.1452e-02 Norm gradient: 0.008\n",
      "iter: 120\tFreeE: 4.1498e-02 Norm gradient: 0.008\n",
      "iter: 121\tFreeE: 4.1498e-02 Norm gradient: 0.006\n",
      "iter: 122\tFreeE: 4.1471e-02 Norm gradient: 0.007\n",
      "iter: 123\tFreeE: 4.1319e-02 Norm gradient: 0.008\n",
      "iter: 124\tFreeE: 4.1507e-02 Norm gradient: 0.008\n",
      "iter: 125\tFreeE: 4.1404e-02 Norm gradient: 0.007\n",
      "iter: 126\tFreeE: 4.1461e-02 Norm gradient: 0.006\n",
      "iter: 127\tFreeE: 4.1310e-02 Norm gradient: 0.006\n",
      "iter: 128\tFreeE: 4.1411e-02 Norm gradient: 0.007\n",
      "iter: 129\tFreeE: 4.1491e-02 Norm gradient: 0.007\n",
      "iter: 130\tFreeE: 4.1482e-02 Norm gradient: 0.006\n",
      "iter: 131\tFreeE: 4.1477e-02 Norm gradient: 0.006\n",
      "iter: 132\tFreeE: 4.1446e-02 Norm gradient: 0.007\n",
      "iter: 133\tFreeE: 4.1470e-02 Norm gradient: 0.006\n",
      "iter: 134\tFreeE: 4.1521e-02 Norm gradient: 0.005\n",
      "iter: 135\tFreeE: 4.1396e-02 Norm gradient: 0.004\n",
      "iter: 136\tFreeE: 4.1419e-02 Norm gradient: 0.004\n",
      "iter: 137\tFreeE: 4.1295e-02 Norm gradient: 0.004\n",
      "iter: 138\tFreeE: 4.1396e-02 Norm gradient: 0.004\n",
      "iter: 139\tFreeE: 4.1435e-02 Norm gradient: 0.004\n",
      "iter: 140\tFreeE: 4.1485e-02 Norm gradient: 0.004\n",
      "iter: 141\tFreeE: 4.1362e-02 Norm gradient: 0.004\n",
      "iter: 142\tFreeE: 4.1343e-02 Norm gradient: 0.004\n",
      "iter: 143\tFreeE: 4.1474e-02 Norm gradient: 0.004\n",
      "iter: 144\tFreeE: 4.1478e-02 Norm gradient: 0.004\n",
      "iter: 145\tFreeE: 4.1471e-02 Norm gradient: 0.003\n",
      "iter: 146\tFreeE: 4.1457e-02 Norm gradient: 0.003\n",
      "iter: 147\tFreeE: 4.1496e-02 Norm gradient: 0.004\n",
      "iter: 148\tFreeE: 4.1576e-02 Norm gradient: 0.004\n",
      "iter: 149\tFreeE: 4.1559e-02 Norm gradient: 0.005\n",
      "iter: 150\tFreeE: 4.1473e-02 Norm gradient: 0.006\n",
      "iter: 151\tFreeE: 4.1591e-02 Norm gradient: 0.006\n",
      "iter: 152\tFreeE: 4.1507e-02 Norm gradient: 0.006\n",
      "iter: 153\tFreeE: 4.1620e-02 Norm gradient: 0.005\n",
      "iter: 154\tFreeE: 4.1557e-02 Norm gradient: 0.005\n",
      "iter: 155\tFreeE: 4.1577e-02 Norm gradient: 0.004\n",
      "iter: 156\tFreeE: 4.1468e-02 Norm gradient: 0.005\n",
      "iter: 157\tFreeE: 4.1594e-02 Norm gradient: 0.007\n",
      "iter: 158\tFreeE: 4.1663e-02 Norm gradient: 0.006\n",
      "iter: 159\tFreeE: 4.1654e-02 Norm gradient: 0.006\n",
      "iter: 160\tFreeE: 4.1614e-02 Norm gradient: 0.011\n",
      "iter: 161\tFreeE: 4.1652e-02 Norm gradient: 0.009\n",
      "iter: 162\tFreeE: 4.1638e-02 Norm gradient: 0.007\n",
      "iter: 163\tFreeE: 4.1618e-02 Norm gradient: 0.010\n",
      "iter: 164\tFreeE: 4.1586e-02 Norm gradient: 0.010\n",
      "iter: 165\tFreeE: 4.1524e-02 Norm gradient: 0.006\n",
      "iter: 166\tFreeE: 4.1590e-02 Norm gradient: 0.007\n",
      "iter: 167\tFreeE: 4.1633e-02 Norm gradient: 0.009\n",
      "iter: 168\tFreeE: 4.1629e-02 Norm gradient: 0.006\n",
      "iter: 169\tFreeE: 4.1597e-02 Norm gradient: 0.006\n",
      "iter: 170\tFreeE: 4.1623e-02 Norm gradient: 0.006\n",
      "iter: 171\tFreeE: 4.1544e-02 Norm gradient: 0.005\n",
      "iter: 172\tFreeE: 4.1513e-02 Norm gradient: 0.005\n",
      "iter: 173\tFreeE: 4.1525e-02 Norm gradient: 0.005\n",
      "iter: 174\tFreeE: 4.1564e-02 Norm gradient: 0.004\n",
      "iter: 175\tFreeE: 4.1581e-02 Norm gradient: 0.004\n",
      "iter: 176\tFreeE: 4.1554e-02 Norm gradient: 0.003\n",
      "iter: 177\tFreeE: 4.1621e-02 Norm gradient: 0.003\n",
      "iter: 178\tFreeE: 4.1660e-02 Norm gradient: 0.004\n",
      "iter: 179\tFreeE: 4.1563e-02 Norm gradient: 0.002\n",
      "iter: 180\tFreeE: 4.1528e-02 Norm gradient: 0.003\n",
      "iter: 181\tFreeE: 4.1535e-02 Norm gradient: 0.003\n",
      "iter: 182\tFreeE: 4.1552e-02 Norm gradient: 0.002\n",
      "iter: 183\tFreeE: 4.1575e-02 Norm gradient: 0.002\n",
      "iter: 184\tFreeE: 4.1528e-02 Norm gradient: 0.003\n",
      "iter: 185\tFreeE: 4.1586e-02 Norm gradient: 0.002\n",
      "iter: 186\tFreeE: 4.1648e-02 Norm gradient: 0.002\n",
      "iter: 187\tFreeE: 4.1570e-02 Norm gradient: 0.002\n",
      "iter: 188\tFreeE: 4.1583e-02 Norm gradient: 0.002\n",
      "iter: 189\tFreeE: 4.1557e-02 Norm gradient: 0.002\n",
      "iter: 190\tFreeE: 4.1593e-02 Norm gradient: 0.002\n",
      "iter: 191\tFreeE: 4.1657e-02 Norm gradient: 0.002\n",
      "iter: 192\tFreeE: 4.1498e-02 Norm gradient: 0.001\n",
      "iter: 193\tFreeE: 4.1454e-02 Norm gradient: 0.002\n",
      "iter: 194\tFreeE: 4.1554e-02 Norm gradient: 0.002\n",
      "iter: 195\tFreeE: 4.1653e-02 Norm gradient: 0.001\n",
      "iter: 196\tFreeE: 4.1607e-02 Norm gradient: 0.002\n",
      "iter: 197\tFreeE: 4.1583e-02 Norm gradient: 0.001\n",
      "iter: 198\tFreeE: 4.1563e-02 Norm gradient: 0.002\n",
      "iter: 199\tFreeE: 4.1539e-02 Norm gradient: 0.001\n",
      "iter: 200\tFreeE: 4.1584e-02 Norm gradient: 0.001\n",
      "iter: 201\tFreeE: 4.1617e-02 Norm gradient: 0.002\n",
      "iter: 202\tFreeE: 4.1591e-02 Norm gradient: 0.001\n",
      "iter: 203\tFreeE: 4.1559e-02 Norm gradient: 0.001\n",
      "iter: 204\tFreeE: 4.1560e-02 Norm gradient: 0.001\n",
      "iter: 205\tFreeE: 4.1547e-02 Norm gradient: 0.001\n",
      "iter: 206\tFreeE: 4.1545e-02 Norm gradient: 0.001\n",
      "iter: 207\tFreeE: 4.1578e-02 Norm gradient: 0.001\n",
      "iter: 208\tFreeE: 4.1534e-02 Norm gradient: 0.001\n",
      "iter: 209\tFreeE: 4.1534e-02 Norm gradient: 0.001\n",
      "iter: 210\tFreeE: 4.1534e-02 Norm gradient: 0.001\n",
      "iter: 211\tFreeE: 4.1545e-02 Norm gradient: 0.001\n",
      "iter: 212\tFreeE: 4.1544e-02 Norm gradient: 0.001\n",
      "iter: 213\tFreeE: 4.1567e-02 Norm gradient: 0.001\n",
      "iter: 214\tFreeE: 4.1588e-02 Norm gradient: 0.001\n",
      "iter: 215\tFreeE: 4.1500e-02 Norm gradient: 0.001\n",
      "iter: 216\tFreeE: 4.1511e-02 Norm gradient: 0.001\n",
      "iter: 217\tFreeE: 4.1533e-02 Norm gradient: 0.001\n",
      "iter: 218\tFreeE: 4.1533e-02 Norm gradient: 0.001\n",
      "iter: 219\tFreeE: 4.1510e-02 Norm gradient: 0.000\n",
      "iter: 220\tFreeE: 4.1522e-02 Norm gradient: 0.001\n",
      "iter: 221\tFreeE: 4.1532e-02 Norm gradient: 0.000\n",
      "iter: 222\tFreeE: 4.1510e-02 Norm gradient: 0.000\n",
      "iter: 223\tFreeE: 4.1488e-02 Norm gradient: 0.000\n",
      "iter: 224\tFreeE: 4.1543e-02 Norm gradient: 0.000\n",
      "iter: 225\tFreeE: 4.1555e-02 Norm gradient: 0.000\n",
      "iter: 226\tFreeE: 4.1566e-02 Norm gradient: 0.000\n",
      "iter: 227\tFreeE: 4.1567e-02 Norm gradient: 0.000\n",
      "iter: 228\tFreeE: 4.1499e-02 Norm gradient: 0.000\n",
      "iter: 229\tFreeE: 4.1499e-02 Norm gradient: 0.000\n",
      "iter: 230\tFreeE: 4.1543e-02 Norm gradient: 0.000\n",
      "iter: 231\tFreeE: 4.1554e-02 Norm gradient: 0.000\n",
      "iter: 232\tFreeE: 4.1521e-02 Norm gradient: 0.000\n",
      "iter: 233\tFreeE: 4.1565e-02 Norm gradient: 0.000\n",
      "iter: 234\tFreeE: 4.1544e-02 Norm gradient: 0.000\n",
      "iter: 235\tFreeE: 4.1522e-02 Norm gradient: 0.000\n",
      "iter: 236\tFreeE: 4.1532e-02 Norm gradient: 0.000\n",
      "iter: 237\tFreeE: 4.1522e-02 Norm gradient: 0.000\n",
      "iter: 238\tFreeE: 4.1554e-02 Norm gradient: 0.000\n",
      "iter: 239\tFreeE: 4.1543e-02 Norm gradient: 0.000\n",
      "iter: 240\tFreeE: 4.1533e-02 Norm gradient: 0.000\n",
      "iter: 241\tFreeE: 4.1566e-02 Norm gradient: 0.000\n",
      "iter: 242\tFreeE: 4.1533e-02 Norm gradient: 0.000\n",
      "iter: 243\tFreeE: 4.1533e-02 Norm gradient: 0.000\n",
      "iter: 244\tFreeE: 4.1566e-02 Norm gradient: 0.000\n",
      "iter: 245\tFreeE: 4.1554e-02 Norm gradient: 0.000\n",
      "iter: 246\tFreeE: 4.1544e-02 Norm gradient: 0.000\n",
      "iter: 247\tFreeE: 4.1543e-02 Norm gradient: 0.000\n",
      "iter: 248\tFreeE: 4.1521e-02 Norm gradient: 0.000\n",
      "iter: 249\tFreeE: 4.1543e-02 Norm gradient: 0.000\n",
      "iter: 250\tFreeE: 4.1576e-02 Norm gradient: 0.000\n",
      "iter: 251\tFreeE: 4.1554e-02 Norm gradient: 0.000\n",
      "iter: 252\tFreeE: 4.1554e-02 Norm gradient: 0.000\n",
      "iter: 253\tFreeE: 4.1554e-02 Norm gradient: 0.000\n",
      "iter: 254\tFreeE: 4.1554e-02 Norm gradient: 0.000\n",
      "iter: 255\tFreeE: 4.1598e-02 Norm gradient: 0.000\n",
      "iter: 256\tFreeE: 4.1565e-02 Norm gradient: 0.000\n",
      "iter: 257\tFreeE: 4.1565e-02 Norm gradient: 0.000\n",
      "iter: 258\tFreeE: 4.1565e-02 Norm gradient: 0.000\n",
      "iter: 259\tFreeE: 4.1554e-02 Norm gradient: 0.000\n",
      "iter: 260\tFreeE: 4.1554e-02 Norm gradient: 0.000\n",
      "iter: 261\tFreeE: 4.1544e-02 Norm gradient: 0.000\n",
      "iter: 262\tFreeE: 4.1544e-02 Norm gradient: 0.000\n",
      "iter: 263\tFreeE: 4.1566e-02 Norm gradient: 0.000\n",
      "iter: 264\tFreeE: 4.1566e-02 Norm gradient: 0.000\n",
      "iter: 265\tFreeE: 4.1555e-02 Norm gradient: 0.000\n",
      "iter: 266\tFreeE: 4.1566e-02 Norm gradient: 0.000\n",
      "iter: 267\tFreeE: 4.1566e-02 Norm gradient: 0.000\n",
      "iter: 268\tFreeE: 4.1544e-02 Norm gradient: 0.000\n",
      "iter: 269\tFreeE: 4.1532e-02 Norm gradient: 0.000\n",
      "iter: 270\tFreeE: 4.1533e-02 Norm gradient: 0.000\n",
      "iter: 271\tFreeE: 4.1544e-02 Norm gradient: 0.000\n",
      "iter: 272\tFreeE: 4.1544e-02 Norm gradient: 0.000\n",
      "iter: 273\tFreeE: 4.1544e-02 Norm gradient: 0.000\n",
      "iter: 274\tFreeE: 4.1533e-02 Norm gradient: 0.000\n",
      "iter: 275\tFreeE: 4.1532e-02 Norm gradient: 0.000\n",
      "iter: 276\tFreeE: 4.1543e-02 Norm gradient: 0.000\n",
      "iter: 277\tFreeE: 4.1543e-02 Norm gradient: 0.000\n",
      "iter: 278\tFreeE: 4.1543e-02 Norm gradient: 0.000\n",
      "iter: 279\tFreeE: 4.1543e-02 Norm gradient: 0.000\n",
      "iter: 280\tFreeE: 4.1543e-02 Norm gradient: 0.000\n",
      "iter: 281\tFreeE: 4.1544e-02 Norm gradient: 0.000\n",
      "iter: 282\tFreeE: 4.1543e-02 Norm gradient: 0.000\n",
      "iter: 283\tFreeE: 4.1543e-02 Norm gradient: 0.000\n",
      "iter: 284\tFreeE: 4.1533e-02 Norm gradient: 0.000\n",
      "iter: 285\tFreeE: 4.1532e-02 Norm gradient: 0.000\n",
      "iter: 286\tFreeE: 4.1532e-02 Norm gradient: 0.000\n",
      "iter: 287\tFreeE: 4.1543e-02 Norm gradient: 0.000\n",
      "iter: 288\tFreeE: 4.1543e-02 Norm gradient: 0.000\n",
      "iter: 289\tFreeE: 4.1543e-02 Norm gradient: 0.000\n",
      "iter: 290\tFreeE: 4.1533e-02 Norm gradient: 0.000\n",
      "iter: 291\tFreeE: 4.1544e-02 Norm gradient: 0.000\n",
      "iter: 292\tFreeE: 4.1543e-02 Norm gradient: 0.000\n",
      "iter: 293\tFreeE: 4.1544e-02 Norm gradient: 0.000\n",
      "iter: 294\tFreeE: 4.1543e-02 Norm gradient: 0.000\n",
      "iter: 295\tFreeE: 4.1543e-02 Norm gradient: 0.000\n",
      "iter: 296\tFreeE: 4.1543e-02 Norm gradient: 0.000\n",
      "iter: 297\tFreeE: 4.1544e-02 Norm gradient: 0.000\n",
      "iter: 298\tFreeE: 4.1544e-02 Norm gradient: 0.000\n",
      "iter: 299\tFreeE: 4.1543e-02 Norm gradient: 0.000\n",
      "iter: 300\tFreeE: 4.1543e-02 Norm gradient: 0.000\n",
      "iter: 301\tFreeE: 4.1543e-02 Norm gradient: 0.000\n",
      "iter: 302\tFreeE: 4.1543e-02 Norm gradient: 0.000\n",
      "iter: 303\tFreeE: 4.1543e-02 Norm gradient: 0.000\n",
      "iter: 304\tFreeE: 4.1543e-02 Norm gradient: 0.000\n",
      "iter: 305\tFreeE: 4.1543e-02 Norm gradient: 0.000\n",
      "iter: 306\tFreeE: 4.1543e-02 Norm gradient: 0.000\n",
      "iter: 307\tFreeE: 4.1543e-02 Norm gradient: 0.000\n",
      "iter: 308\tFreeE: 4.1543e-02 Norm gradient: 0.000\n",
      "iter: 309\tFreeE: 4.1543e-02 Norm gradient: 0.000\n",
      "iter: 310\tFreeE: 4.1544e-02 Norm gradient: 0.000\n",
      "iter: 311\tFreeE: 4.1543e-02 Norm gradient: 0.000\n",
      "iter: 312\tFreeE: 4.1543e-02 Norm gradient: 0.000\n",
      "iter: 313\tFreeE: 4.1544e-02 Norm gradient: 0.000\n",
      "iter: 314\tFreeE: 4.1544e-02 Norm gradient: 0.000\n",
      "iter: 315\tFreeE: 4.1543e-02 Norm gradient: 0.000\n",
      "iter: 316\tFreeE: 4.1543e-02 Norm gradient: 0.000\n",
      "iter: 317\tFreeE: 4.1543e-02 Norm gradient: 0.000\n",
      "iter: 318\tFreeE: 4.1543e-02 Norm gradient: 0.000\n",
      "iter: 319\tFreeE: 4.1543e-02 Norm gradient: 0.000\n",
      "iter: 320\tFreeE: 4.1543e-02 Norm gradient: 0.000\n",
      "iter: 321\tFreeE: 4.1544e-02 Norm gradient: 0.000\n",
      "iter: 322\tFreeE: 4.1544e-02 Norm gradient: 0.000\n",
      "iter: 323\tFreeE: 4.1543e-02 Norm gradient: 0.000\n",
      "iter: 324\tFreeE: 4.1543e-02 Norm gradient: 0.000\n",
      "iter: 325\tFreeE: 4.1543e-02 Norm gradient: 0.000\n",
      "iter: 326\tFreeE: 4.1543e-02 Norm gradient: 0.000\n",
      "iter: 327\tFreeE: 4.1543e-02 Norm gradient: 0.000\n",
      "iter: 328\tFreeE: 4.1543e-02 Norm gradient: 0.000\n",
      "iter: 329\tFreeE: 4.1543e-02 Norm gradient: 0.000\n",
      "iter: 330\tFreeE: 4.1543e-02 Norm gradient: 0.000\n",
      "iter: 331\tFreeE: 4.1543e-02 Norm gradient: 0.000\n",
      "iter: 332\tFreeE: 4.1543e-02 Norm gradient: 0.000\n",
      "iter: 333\tFreeE: 4.1543e-02 Norm gradient: 0.000\n",
      "iter: 334\tFreeE: 4.1543e-02 Norm gradient: 0.000\n",
      "iter: 335\tFreeE: 4.1543e-02 Norm gradient: 0.000\n",
      "iter: 336\tFreeE: 4.1543e-02 Norm gradient: 0.000\n",
      "iter: 337\tFreeE: 4.1543e-02 Norm gradient: 0.000\n",
      "iter: 338\tFreeE: 4.1543e-02 Norm gradient: 0.000\n",
      "iter: 339\tFreeE: 4.1543e-02 Norm gradient: 0.000\n",
      "iter: 340\tFreeE: 4.1543e-02 Norm gradient: 0.000\n",
      "iter: 341\tFreeE: 4.1543e-02 Norm gradient: 0.000\n",
      "iter: 342\tFreeE: 4.1543e-02 Norm gradient: 0.000\n",
      "iter: 343\tFreeE: 4.1543e-02 Norm gradient: 0.000\n",
      "iter: 344\tFreeE: 4.1543e-02 Norm gradient: 0.000\n",
      "iter: 345\tFreeE: 4.1543e-02 Norm gradient: 0.000\n",
      "iter: 346\tFreeE: 4.1543e-02 Norm gradient: 0.000\n",
      "iter: 347\tFreeE: 4.1543e-02 Norm gradient: 0.000\n",
      "iter: 348\tFreeE: 4.1543e-02 Norm gradient: 0.000\n",
      "iter: 349\tFreeE: 4.1543e-02 Norm gradient: 0.000\n",
      "iter: 350\tFreeE: 4.1543e-02 Norm gradient: 0.000\n",
      "iter: 351\tFreeE: 4.1543e-02 Norm gradient: 0.000\n",
      "iter: 352\tFreeE: 4.1543e-02 Norm gradient: 0.000\n",
      "iter: 353\tFreeE: 4.1543e-02 Norm gradient: 0.000\n",
      "iter: 354\tFreeE: 4.1543e-02 Norm gradient: 0.000\n",
      "iter: 355\tFreeE: 4.1543e-02 Norm gradient: 0.000\n",
      "iter: 356\tFreeE: 4.1543e-02 Norm gradient: 0.000\n",
      "iter: 357\tFreeE: 4.1543e-02 Norm gradient: 0.000\n",
      "iter: 358\tFreeE: 4.1543e-02 Norm gradient: 0.000\n",
      "iter: 359\tFreeE: 4.1543e-02 Norm gradient: 0.000\n",
      "iter: 360\tFreeE: 4.1543e-02 Norm gradient: 0.000\n",
      "iter: 361\tFreeE: 4.1543e-02 Norm gradient: 0.000\n",
      "iter: 362\tFreeE: 4.1543e-02 Norm gradient: 0.000\n",
      "iter: 363\tFreeE: 4.1543e-02 Norm gradient: 0.000\n",
      "iter: 364\tFreeE: 4.1543e-02 Norm gradient: 0.000\n",
      "iter: 365\tFreeE: 4.1543e-02 Norm gradient: 0.000\n",
      "iter: 366\tFreeE: 4.1543e-02 Norm gradient: 0.000\n",
      "iter: 367\tFreeE: 4.1543e-02 Norm gradient: 0.000\n",
      "iter: 368\tFreeE: 4.1543e-02 Norm gradient: 0.000\n",
      "iter: 369\tFreeE: 4.1543e-02 Norm gradient: 0.000\n",
      "iter: 370\tFreeE: 4.1543e-02 Norm gradient: 0.000\n",
      "iter: 371\tFreeE: 4.1543e-02 Norm gradient: 0.000\n",
      "iter: 372\tFreeE: 4.1543e-02 Norm gradient: 0.000\n",
      "iter: 373\tFreeE: 4.1543e-02 Norm gradient: 0.000\n",
      "iter: 374\tFreeE: 4.1543e-02 Norm gradient: 0.000\n",
      "iter: 375\tFreeE: 4.1543e-02 Norm gradient: 0.000\n",
      "iter: 376\tFreeE: 4.1543e-02 Norm gradient: 0.000\n",
      "iter: 377\tFreeE: 4.1543e-02 Norm gradient: 0.000\n",
      "iter: 378\tFreeE: 4.1543e-02 Norm gradient: 0.000\n",
      "iter: 379\tFreeE: 4.1543e-02 Norm gradient: 0.000\n",
      "iter: 380\tFreeE: 4.1543e-02 Norm gradient: 0.000\n",
      "iter: 381\tFreeE: 4.1543e-02 Norm gradient: 0.000\n",
      "iter: 382\tFreeE: 4.1543e-02 Norm gradient: 0.000\n",
      "iter: 383\tFreeE: 4.1543e-02 Norm gradient: 0.000\n",
      "iter: 384\tFreeE: 4.1543e-02 Norm gradient: 0.000\n",
      "iter: 385\tFreeE: 4.1543e-02 Norm gradient: 0.000\n",
      "iter: 386\tFreeE: 4.1543e-02 Norm gradient: 0.000\n",
      "iter: 387\tFreeE: 4.1543e-02 Norm gradient: 0.000\n",
      "iter: 388\tFreeE: 4.1543e-02 Norm gradient: 0.000\n",
      "iter: 389\tFreeE: 4.1543e-02 Norm gradient: 0.000\n",
      "iter: 390\tFreeE: 4.1543e-02 Norm gradient: 0.000\n",
      "iter: 391\tFreeE: 4.1543e-02 Norm gradient: 0.000\n",
      "iter: 392\tFreeE: 4.1543e-02 Norm gradient: 0.000\n",
      "iter: 393\tFreeE: 4.1543e-02 Norm gradient: 0.000\n",
      "iter: 394\tFreeE: 4.1543e-02 Norm gradient: 0.000\n",
      "iter: 395\tFreeE: 4.1543e-02 Norm gradient: 0.000\n",
      "iter: 396\tFreeE: 4.1543e-02 Norm gradient: 0.000\n",
      "iter: 397\tFreeE: 4.1543e-02 Norm gradient: 0.000\n",
      "iter: 398\tFreeE: 4.1543e-02 Norm gradient: 0.000\n",
      "iter: 399\tFreeE: 4.1543e-02 Norm gradient: 0.000\n",
      "iter: 400\tFreeE: 4.1543e-02 Norm gradient: 0.000\n",
      "iter: 401\tFreeE: 4.1543e-02 Norm gradient: 0.000\n",
      "iter: 402\tFreeE: 4.1543e-02 Norm gradient: 0.000\n",
      "iter: 403\tFreeE: 4.1543e-02 Norm gradient: 0.000\n",
      "iter: 404\tFreeE: 4.1543e-02 Norm gradient: 0.000\n",
      "iter: 405\tFreeE: 4.1543e-02 Norm gradient: 0.000\n",
      "iter: 406\tFreeE: 4.1543e-02 Norm gradient: 0.000\n",
      "iter: 407\tFreeE: 4.1543e-02 Norm gradient: 0.000\n",
      "iter: 408\tFreeE: 4.1543e-02 Norm gradient: 0.000\n",
      "iter: 409\tFreeE: 4.1543e-02 Norm gradient: 0.000\n",
      "iter: 410\tFreeE: 4.1543e-02 Norm gradient: 0.000\n",
      "iter: 411\tFreeE: 4.1543e-02 Norm gradient: 0.000\n",
      "iter: 412\tFreeE: 4.1543e-02 Norm gradient: 0.000\n",
      "iter: 413\tFreeE: 4.1543e-02 Norm gradient: 0.000\n",
      "iter: 414\tFreeE: 4.1543e-02 Norm gradient: 0.000\n",
      "iter: 415\tFreeE: 4.1543e-02 Norm gradient: 0.000\n",
      "iter: 416\tFreeE: 4.1543e-02 Norm gradient: 0.000\n",
      "iter: 417\tFreeE: 4.1543e-02 Norm gradient: 0.000\n",
      "iter: 418\tFreeE: 4.1543e-02 Norm gradient: 0.000\n",
      "iter: 419\tFreeE: 4.1543e-02 Norm gradient: 0.000\n",
      "iter: 420\tFreeE: 4.1543e-02 Norm gradient: 0.000\n",
      "iter: 421\tFreeE: 4.1543e-02 Norm gradient: 0.000\n",
      "iter: 422\tFreeE: 4.1543e-02 Norm gradient: 0.000\n",
      "iter: 423\tFreeE: 4.1543e-02 Norm gradient: 0.000\n",
      "iter: 424\tFreeE: 4.1543e-02 Norm gradient: 0.000\n",
      "iter: 425\tFreeE: 4.1543e-02 Norm gradient: 0.000\n",
      "iter: 426\tFreeE: 4.1543e-02 Norm gradient: 0.000\n",
      "iter: 427\tFreeE: 4.1543e-02 Norm gradient: 0.000\n",
      "iter: 428\tFreeE: 4.1543e-02 Norm gradient: 0.000\n",
      "iter: 429\tFreeE: 4.1543e-02 Norm gradient: 0.000\n",
      "iter: 430\tFreeE: 4.1543e-02 Norm gradient: 0.000\n",
      "iter: 431\tFreeE: 4.1543e-02 Norm gradient: 0.000\n",
      "iter: 432\tFreeE: 4.1543e-02 Norm gradient: 0.000\n",
      "iter: 433\tFreeE: 4.1543e-02 Norm gradient: 0.000\n",
      "iter: 434\tFreeE: 4.1543e-02 Norm gradient: 0.000\n",
      "iter: 435\tFreeE: 4.1543e-02 Norm gradient: 0.000\n",
      "iter: 436\tFreeE: 4.1543e-02 Norm gradient: 0.000\n",
      "iter: 437\tFreeE: 4.1543e-02 Norm gradient: 0.000\n",
      "iter: 438\tFreeE: 4.1543e-02 Norm gradient: 0.000\n",
      "iter: 439\tFreeE: 4.1543e-02 Norm gradient: 0.000\n",
      "iter: 440\tFreeE: 4.1543e-02 Norm gradient: 0.000\n",
      "iter: 441\tFreeE: 4.1543e-02 Norm gradient: 0.000\n",
      "iter: 442\tFreeE: 4.1543e-02 Norm gradient: 0.000\n",
      "iter: 443\tFreeE: 4.1543e-02 Norm gradient: 0.000\n",
      "iter: 444\tFreeE: 4.1543e-02 Norm gradient: 0.000\n",
      "iter: 445\tFreeE: 4.1543e-02 Norm gradient: 0.000\n",
      "iter: 446\tFreeE: 4.1543e-02 Norm gradient: 0.000\n",
      "iter: 447\tFreeE: 4.1543e-02 Norm gradient: 0.000\n",
      "iter: 448\tFreeE: 4.1543e-02 Norm gradient: 0.000\n",
      "iter: 449\tFreeE: 4.1543e-02 Norm gradient: 0.000\n",
      "iter: 450\tFreeE: 4.1543e-02 Norm gradient: 0.000\n",
      "iter: 451\tFreeE: 4.1543e-02 Norm gradient: 0.000\n",
      "iter: 452\tFreeE: 4.1543e-02 Norm gradient: 0.000\n",
      "iter: 453\tFreeE: 4.1543e-02 Norm gradient: 0.000\n",
      "iter: 454\tFreeE: 4.1543e-02 Norm gradient: 0.000\n",
      "iter: 455\tFreeE: 4.1543e-02 Norm gradient: 0.000\n",
      "iter: 456\tFreeE: 4.1543e-02 Norm gradient: 0.000\n",
      "iter: 457\tFreeE: 4.1543e-02 Norm gradient: 0.000\n",
      "iter: 458\tFreeE: 4.1543e-02 Norm gradient: 0.000\n",
      "iter: 459\tFreeE: 4.1543e-02 Norm gradient: 0.000\n",
      "iter: 460\tFreeE: 4.1543e-02 Norm gradient: 0.000\n",
      "iter: 461\tFreeE: 4.1543e-02 Norm gradient: 0.000\n",
      "iter: 462\tFreeE: 4.1543e-02 Norm gradient: 0.000\n",
      "iter: 463\tFreeE: 4.1543e-02 Norm gradient: 0.000\n",
      "iter: 464\tFreeE: 4.1543e-02 Norm gradient: 0.000\n",
      "iter: 465\tFreeE: 4.1543e-02 Norm gradient: 0.000\n",
      "iter: 466\tFreeE: 4.1543e-02 Norm gradient: 0.000\n",
      "iter: 467\tFreeE: 4.1543e-02 Norm gradient: 0.000\n",
      "iter: 468\tFreeE: 4.1543e-02 Norm gradient: 0.000\n",
      "iter: 469\tFreeE: 4.1543e-02 Norm gradient: 0.000\n",
      "iter: 470\tFreeE: 4.1543e-02 Norm gradient: 0.000\n",
      "iter: 471\tFreeE: 4.1543e-02 Norm gradient: 0.000\n",
      "iter: 472\tFreeE: 4.1543e-02 Norm gradient: 0.000\n",
      "iter: 473\tFreeE: 4.1543e-02 Norm gradient: 0.000\n",
      "iter: 474\tFreeE: 4.1543e-02 Norm gradient: 0.000\n",
      "iter: 475\tFreeE: 4.1543e-02 Norm gradient: 0.000\n",
      "iter: 476\tFreeE: 4.1543e-02 Norm gradient: 0.000\n",
      "iter: 477\tFreeE: 4.1543e-02 Norm gradient: 0.000\n",
      "iter: 478\tFreeE: 4.1543e-02 Norm gradient: 0.000\n",
      "iter: 479\tFreeE: 4.1543e-02 Norm gradient: 0.000\n",
      "iter: 480\tFreeE: 4.1543e-02 Norm gradient: 0.000\n",
      "iter: 481\tFreeE: 4.1543e-02 Norm gradient: 0.000\n",
      "iter: 482\tFreeE: 4.1543e-02 Norm gradient: 0.000\n",
      "iter: 483\tFreeE: 4.1543e-02 Norm gradient: 0.000\n",
      "iter: 484\tFreeE: 4.1543e-02 Norm gradient: 0.000\n",
      "iter: 485\tFreeE: 4.1543e-02 Norm gradient: 0.000\n",
      "iter: 486\tFreeE: 4.1543e-02 Norm gradient: 0.000\n",
      "iter: 487\tFreeE: 4.1543e-02 Norm gradient: 0.000\n",
      "iter: 488\tFreeE: 4.1543e-02 Norm gradient: 0.000\n",
      "iter: 489\tFreeE: 4.1543e-02 Norm gradient: 0.000\n",
      "iter: 490\tFreeE: 4.1543e-02 Norm gradient: 0.000\n",
      "iter: 491\tFreeE: 4.1543e-02 Norm gradient: 0.000\n",
      "iter: 492\tFreeE: 4.1543e-02 Norm gradient: 0.000\n",
      "iter: 493\tFreeE: 4.1543e-02 Norm gradient: 0.000\n",
      "iter: 494\tFreeE: 4.1543e-02 Norm gradient: 0.000\n",
      "iter: 495\tFreeE: 4.1543e-02 Norm gradient: 0.000\n",
      "iter: 496\tFreeE: 4.1543e-02 Norm gradient: 0.000\n",
      "iter: 497\tFreeE: 4.1543e-02 Norm gradient: 0.000\n",
      "iter: 498\tFreeE: 4.1543e-02 Norm gradient: 0.000\n",
      "iter: 499\tFreeE: 4.1543e-02 Norm gradient: 0.000\n"
     ]
    }
   ],
   "source": [
    "optim_iters = 500\n",
    "optim_step = 0.01\n",
    "b_min = 1e-3\n",
    "beta = 1e3\n",
    "F_base, FreeEnergy, G = GD.Adam_at_beta(\n",
    "    F_base, START_locs, END_locs, vrp_net, lse_net, optim_iters, \n",
    "    optim_step, b_min, beta, D_max_range=2.0, allowPrint=True)\n"
   ]
  },
  {
   "cell_type": "code",
   "execution_count": 10,
   "metadata": {},
   "outputs": [
    {
     "data": {
      "image/png": "[encoded data removed]",
      "text/plain": [
       "<Figure size 400x300 with 1 Axes>"
      ]
     },
     "metadata": {},
     "output_type": "display_data"
    },
    {
     "data": {
      "application/vnd.plotly.v1+json": {
       "config": {
        "plotlyServerURL": "https://plot.ly"
       },
       "data": [
        {
         "marker": {
          "color": "cyan",
          "line": {
           "color": "white",
           "width": 1
          },
          "opacity": 0.7,
          "size": 8,
          "symbol": "diamond"
         },
         "mode": "markers",
         "name": "Drone Start",
         "type": "scatter3d",
         "x": {
          "bdata": "aBboPg4xvz5NNfs+WkTvPq6F5D4cVdY+tr8CP1JYDj+WD/s+Bh0QPzhU8j692ew+vL3/Pp6aFT+pOvw+NBsPP6Lk7z4xeOg+5XbsPvQ2oD4Wx6s+j+CyPhZrnz5EBao+mKGNPrxWpT5mrpI+Zo6YPoY0kD51lqM+8H2gPsMUmT72GK0+v3moPvw6uj4NiZk++oHMPrdElz5Q4bs+nA+VPhdanj60zsA+4j6dPvcehT6yHQw/NC3gPusm6z6y7vk+5pPcPsJu/D6QW+I+Y68HP5lD5D5gF9Y+QYz5PqzWzT5H4gA/r9D6PjUS+j4xIN0+ybIBPzR95T5tYOg+LmTfPqLY4z57hRI9XFodvFIeEbzU5K476LONPCRYubxY7v07xloKvJRQaD3AQM65esOCPcmFbz1mGJq9wQmGvfoQhD0YDYo7b3EnPXXZ0z1o1OE8AcEuP+b5OD/NBTM/ALk1P+K6MD9+gzY/ibEgP0LyQz9DZzU/VMU0P/itUT8juCE/sLg5PztEKT+9qTA/15Q0Pw==",
          "dtype": "f4"
         },
         "y": {
          "bdata": "oss/P6xTRj8wBz4/yedAP+yBQD+tmV4/Yo5CPx8yUj+EmFI/Ec5QP8RbND9H0DU/epREP9mJTD9gFDs/YV5BPyjoQD87cDs/hRZEPyFTID/LqR8/H3clPyzrHj99hCU/NQIhP0LWIz8s1iE/g88oP7xKKD+abSA/xNUhP8yDHz9JZiA/J0YkP2RiIz93SiA/xBQiP7TqIT/iFik/8tkhP7lEIT8itiI/P9MjP64MHz/dpRs/mPgiP3tdHj/i5yg/BRAjP5+sIj/fFCE/tRcSP/lPJD+anSg/g0EiP0G3Kz9v6RY/kiwcPx9oHD+o8jM/YS8fP0y7Mz9jWBw/d7sgP4yILD+9cwI+zC82Ps6vQj5sPjk+OHYlPv3tPz4B5UQ+0Lg8PtHdUT5H3gs+o2w2PlXfJT6/uT8+bZ5JPrqHPD4upVs+5nE7PuFCBz71cdI9/gRTP135ST8MmEI/AjpTP206Wz+DJUo/o6xOP0tbVT8xRlw/LfNWP3UKPD+yqEM/VgZLP+V+UT82LFA/3F9LPw==",
          "dtype": "f4"
         },
         "z": {
          "bdata": "AAAAAAAA8D8AAAAAAADwPwAAAAAAAPA/AAAAAAAA8D8AAAAAAADwPwAAAAAAAPA/AAAAAAAA8D8AAAAAAADwPwAAAAAAAPA/AAAAAAAA8D8AAAAAAADwPwAAAAAAAPA/AAAAAAAA8D8AAAAAAADwPwAAAAAAAPA/AAAAAAAA8D8AAAAAAADwPwAAAAAAAPA/AAAAAAAA8D8AAAAAAADwPwAAAAAAAPA/AAAAAAAA8D8AAAAAAADwPwAAAAAAAPA/AAAAAAAA8D8AAAAAAADwPwAAAAAAAPA/AAAAAAAA8D8AAAAAAADwPwAAAAAAAPA/AAAAAAAA8D8AAAAAAADwPwAAAAAAAPA/AAAAAAAA8D8AAAAAAADwPwAAAAAAAPA/AAAAAAAA8D8AAAAAAADwPwAAAAAAAPA/AAAAAAAA8D8AAAAAAADwPwAAAAAAAPA/AAAAAAAA8D8AAAAAAADwPwAAAAAAAPA/AAAAAAAA8D8AAAAAAADwPwAAAAAAAPA/AAAAAAAA8D8AAAAAAADwPwAAAAAAAPA/AAAAAAAA8D8AAAAAAADwPwAAAAAAAPA/AAAAAAAA8D8AAAAAAADwPwAAAAAAAPA/AAAAAAAA8D8AAAAAAADwPwAAAAAAAPA/AAAAAAAA8D8AAAAAAADwPwAAAAAAAPA/AAAAAAAA8D8AAAAAAADwPwAAAAAAAPA/AAAAAAAA8D8AAAAAAADwPwAAAAAAAPA/AAAAAAAA8D8AAAAAAADwPwAAAAAAAPA/AAAAAAAA8D8AAAAAAADwPwAAAAAAAPA/AAAAAAAA8D8AAAAAAADwPwAAAAAAAPA/AAAAAAAA8D8AAAAAAADwPwAAAAAAAPA/AAAAAAAA8D8AAAAAAADwPwAAAAAAAPA/AAAAAAAA8D8AAAAAAADwPwAAAAAAAPA/AAAAAAAA8D8AAAAAAADwPwAAAAAAAPA/AAAAAAAA8D8AAAAAAADwPwAAAAAAAPA/AAAAAAAA8D8AAAAAAADwPwAAAAAAAPA/AAAAAAAA8D8AAAAAAADwPwAAAAAAAPA/AAAAAAAA8D8=",
          "dtype": "f8"
         }
        },
        {
         "marker": {
          "color": "orange",
          "opacity": 0.9,
          "size": 6,
          "symbol": "circle"
         },
         "mode": "markers",
         "name": "Drone End",
         "type": "scatter3d",
         "x": {
          "bdata": "AAAAAAAAAAAAAAAAAAAAAAAAAAAAAAAAAAAAAAAAAAAAAAAAAAAAAAAAAAAAAAAAAAAAAAAAAAAAAAAAAAAAAAAAAAAAAAAAAAAAAAAAAAAAAAAAAAAAAAAAAAAAAAAAAAAAAAAAAAAAAAAAAAAAAAAAAAAAAAAAAAAAAAAAAAAAAAAAAAAAAAAAAAAAAAAAAAAAAAAAAAAAAAAAAAAAAAAAAAAAAAAAAAAAAAAAAAAAAAAAAAAAAAAAAAAAAAAAAAAAAAAAAAAAAAAAAAAAAAAAAAAAAAAAAAAAAAAAAAAAAAAAAAAAAAAAAAAAAAAAAAAAAAAAAAAAAAAAAAAAAAAAAAAAAAAAAAAAAAAAAAAAAAAAAAAAAAAAAAAAAAAAAAAAAAAAAAAAAAAAAAAAAAAAAAAAAAAAAAAAAAAAAAAAAAAAAAAAAAAAAAAAAAAAAAAAAAAAAAAAAAAAAAAAAAAAAAAAAAAAAAAAAAAAAAAAAAAAAAAAAAAAAAAAAAAAAAAAAAAAAAAAAAAAAAAAAA==",
          "dtype": "f4"
         },
         "y": {
          "bdata": "AAAAAAAAAAAAAAAAAAAAAAAAAAAAAAAAAAAAAAAAAAAAAAAAAAAAAAAAAAAAAAAAAAAAAAAAAAAAAAAAAAAAAAAAAAAAAAAAAAAAAAAAAAAAAAAAAAAAAAAAAAAAAAAAAAAAAAAAAAAAAAAAAAAAAAAAAAAAAAAAAAAAAAAAAAAAAAAAAAAAAAAAAAAAAAAAAAAAAAAAAAAAAAAAAAAAAAAAAAAAAAAAAAAAAAAAAAAAAAAAAAAAAAAAAAAAAAAAAAAAAAAAAAAAAAAAAAAAAAAAAAAAAAAAAAAAAAAAAAAAAAAAAAAAAAAAAAAAAAAAAAAAAAAAAAAAAAAAAAAAAAAAAAAAAAAAAAAAAAAAAAAAAAAAAAAAAAAAAAAAAAAAAAAAAAAAAAAAAAAAAAAAAAAAAAAAAAAAAAAAAAAAAAAAAAAAAAAAAAAAAAAAAAAAAAAAAAAAAAAAAAAAAAAAAAAAAAAAAAAAAAAAAAAAAAAAAAAAAAAAAAAAAAAAAAAAAAAAAAAAAAAAAAAAAAAAAA==",
          "dtype": "f4"
         },
         "z": {
          "bdata": "AAAAAAAA8D8AAAAAAADwPwAAAAAAAPA/AAAAAAAA8D8AAAAAAADwPwAAAAAAAPA/AAAAAAAA8D8AAAAAAADwPwAAAAAAAPA/AAAAAAAA8D8AAAAAAADwPwAAAAAAAPA/AAAAAAAA8D8AAAAAAADwPwAAAAAAAPA/AAAAAAAA8D8AAAAAAADwPwAAAAAAAPA/AAAAAAAA8D8AAAAAAADwPwAAAAAAAPA/AAAAAAAA8D8AAAAAAADwPwAAAAAAAPA/AAAAAAAA8D8AAAAAAADwPwAAAAAAAPA/AAAAAAAA8D8AAAAAAADwPwAAAAAAAPA/AAAAAAAA8D8AAAAAAADwPwAAAAAAAPA/AAAAAAAA8D8AAAAAAADwPwAAAAAAAPA/AAAAAAAA8D8AAAAAAADwPwAAAAAAAPA/AAAAAAAA8D8AAAAAAADwPwAAAAAAAPA/AAAAAAAA8D8AAAAAAADwPwAAAAAAAPA/AAAAAAAA8D8AAAAAAADwPwAAAAAAAPA/AAAAAAAA8D8AAAAAAADwPwAAAAAAAPA/AAAAAAAA8D8AAAAAAADwPwAAAAAAAPA/AAAAAAAA8D8AAAAAAADwPwAAAAAAAPA/AAAAAAAA8D8AAAAAAADwPwAAAAAAAPA/AAAAAAAA8D8AAAAAAADwPwAAAAAAAPA/AAAAAAAA8D8AAAAAAADwPwAAAAAAAPA/AAAAAAAA8D8AAAAAAADwPwAAAAAAAPA/AAAAAAAA8D8AAAAAAADwPwAAAAAAAPA/AAAAAAAA8D8AAAAAAADwPwAAAAAAAPA/AAAAAAAA8D8AAAAAAADwPwAAAAAAAPA/AAAAAAAA8D8AAAAAAADwPwAAAAAAAPA/AAAAAAAA8D8AAAAAAADwPwAAAAAAAPA/AAAAAAAA8D8AAAAAAADwPwAAAAAAAPA/AAAAAAAA8D8AAAAAAADwPwAAAAAAAPA/AAAAAAAA8D8AAAAAAADwPwAAAAAAAPA/AAAAAAAA8D8AAAAAAADwPwAAAAAAAPA/AAAAAAAA8D8AAAAAAADwPwAAAAAAAPA/AAAAAAAA8D8=",
          "dtype": "f8"
         }
        },
        {
         "line": {
          "color": "gray",
          "width": 3
         },
         "mode": "lines",
         "showlegend": false,
         "type": "scatter3d",
         "x": [
          0.15247111022472382,
          0.15247111022472382
         ],
         "y": [
          0.3021499514579773,
          0.3021499514579773
         ],
         "z": [
          0,
          1
         ]
        },
        {
         "line": {
          "color": "gray",
          "width": 3
         },
         "mode": "lines",
         "showlegend": false,
         "type": "scatter3d",
         "x": [
          0.10242348909378052,
          0.10242348909378052
         ],
         "y": [
          0.2253885567188263,
          0.2253885567188263
         ],
         "z": [
          0,
          1
         ]
        },
        {
         "line": {
          "color": "gray",
          "width": 3
         },
         "mode": "lines",
         "showlegend": false,
         "type": "scatter3d",
         "x": [
          0.026625312864780426,
          0.026625312864780426
         ],
         "y": [
          0.07422192394733429,
          0.07422192394733429
         ],
         "z": [
          0,
          1
         ]
        },
        {
         "line": {
          "color": "gray",
          "width": 3
         },
         "mode": "lines",
         "showlegend": false,
         "type": "scatter3d",
         "x": [
          0.5931116938591003,
          0.5931116938591003
         ],
         "y": [
          0.7638925909996033,
          0.7638925909996033
         ],
         "z": [
          0,
          1
         ]
        },
        {
         "line": {
          "color": "gray",
          "width": 3
         },
         "mode": "lines",
         "showlegend": false,
         "type": "scatter3d",
         "x": [
          0.22754259407520294,
          0.22754259407520294
         ],
         "y": [
          0.4172920286655426,
          0.4172920286655426
         ],
         "z": [
          0,
          1
         ]
        },
        {
         "line": {
          "color": "gray",
          "width": 3
         },
         "mode": "lines",
         "showlegend": false,
         "type": "scatter3d",
         "x": [
          0.3276378810405731,
          0.3276378810405731
         ],
         "y": [
          0.570814847946167,
          0.570814847946167
         ],
         "z": [
          0,
          1
         ]
        },
        {
         "line": {
          "color": "gray",
          "width": 3
         },
         "mode": "lines",
         "showlegend": false,
         "type": "scatter3d",
         "x": [
          0.30261412262916565,
          0.30261412262916565
         ],
         "y": [
          0.5324342250823975,
          0.5324342250823975
         ],
         "z": [
          0,
          1
         ]
        },
        {
         "line": {
          "color": "gray",
          "width": 3
         },
         "mode": "lines",
         "showlegend": false,
         "type": "scatter3d",
         "x": [
          0.2025187760591507,
          0.2025187760591507
         ],
         "y": [
          0.3789113461971283,
          0.3789113461971283
         ],
         "z": [
          0,
          1
         ]
        },
        {
         "line": {
          "color": "gray",
          "width": 3
         },
         "mode": "lines",
         "showlegend": false,
         "type": "scatter3d",
         "x": [
          0.4518962502479553,
          0.4518962502479553
         ],
         "y": [
          0.6742079854011536,
          0.6742079854011536
         ],
         "z": [
          0,
          1
         ]
        },
        {
         "line": {
          "color": "gray",
          "width": 3
         },
         "mode": "lines",
         "showlegend": false,
         "type": "scatter3d",
         "x": [
          0.07739967852830887,
          0.07739967852830887
         ],
         "y": [
          0.1870078444480896,
          0.1870078444480896
         ],
         "z": [
          0,
          1
         ]
        },
        {
         "line": {
          "color": "gray",
          "width": 3
         },
         "mode": "lines",
         "showlegend": false,
         "type": "scatter3d",
         "x": [
          0.05410994589328766,
          0.05410994589328766
         ],
         "y": [
          0.149004727602005,
          0.149004727602005
         ],
         "z": [
          0,
          1
         ]
        },
        {
         "line": {
          "color": "gray",
          "width": 3
         },
         "mode": "lines",
         "showlegend": false,
         "type": "scatter3d",
         "x": [
          0.27759021520614624,
          0.27759021520614624
         ],
         "y": [
          0.494053453207016,
          0.494053453207016
         ],
         "z": [
          0,
          1
         ]
        },
        {
         "line": {
          "color": "gray",
          "width": 3
         },
         "mode": "lines",
         "showlegend": false,
         "type": "scatter3d",
         "x": [
          0.17749497294425964,
          0.17749497294425964
         ],
         "y": [
          0.3405306339263916,
          0.3405306339263916
         ],
         "z": [
          0,
          1
         ]
        },
        {
         "line": {
          "color": "gray",
          "width": 3
         },
         "mode": "lines",
         "showlegend": false,
         "type": "scatter3d",
         "x": [
          0.5040221810340881,
          0.5040221810340881
         ],
         "y": [
          0.7204746007919312,
          0.7204746007919312
         ],
         "z": [
          0,
          1
         ]
        },
        {
         "line": {
          "color": "gray",
          "width": 3
         },
         "mode": "lines",
         "showlegend": false,
         "type": "scatter3d",
         "x": [
          0.2525664269924164,
          0.2525664269924164
         ],
         "y": [
          0.4556727707386017,
          0.4556727707386017
         ],
         "z": [
          0,
          1
         ]
        },
        {
         "line": {
          "color": "gray",
          "width": 3
         },
         "mode": "lines",
         "showlegend": false,
         "type": "scatter3d",
         "x": [
          0.41160908341407776,
          0.41160908341407776
         ],
         "y": [
          0.6307379007339478,
          0.6307379007339478
         ],
         "z": [
          0,
          1
         ]
        },
        {
         "line": {
          "color": "gray",
          "width": 3
         },
         "mode": "lines",
         "showlegend": false,
         "type": "scatter3d",
         "x": [
          0.12744733691215515,
          0.12744733691215515
         ],
         "y": [
          0.2637692391872406,
          0.2637692391872406
         ],
         "z": [
          0,
          1
         ]
        },
        {
         "line": {
          "color": "gray",
          "width": 3
         },
         "mode": "lines",
         "showlegend": false,
         "type": "scatter3d",
         "x": [
          0.040062930434942245,
          0.040062930434942245
         ],
         "y": [
          0.11141951382160187,
          0.11141951382160187
         ],
         "z": [
          0,
          1
         ]
        },
        {
         "line": {
          "color": "gray",
          "width": 3
         },
         "mode": "lines",
         "showlegend": false,
         "type": "scatter3d",
         "x": [
          0.36796805262565613,
          0.36796805262565613
         ],
         "y": [
          0.6012689471244812,
          0.6012689471244812
         ],
         "z": [
          0,
          1
         ]
        },
        {
         "line": {
          "color": "gray",
          "width": 3
         },
         "mode": "lines",
         "showlegend": false,
         "type": "scatter3d",
         "x": [
          0.013312657363712788,
          0.013312657363712788
         ],
         "y": [
          0.03711095452308655,
          0.03711095452308655
         ],
         "z": [
          0,
          1
         ]
        },
        {
         "marker": {
          "color": "silver",
          "size": 5,
          "symbol": "square"
         },
         "mode": "markers",
         "name": "Facilities",
         "type": "scatter3d",
         "x": {
          "bdata": "YyEcPmjD0T1UHdo8K9YXP+0AaT4nwKc+PfCaPhVhTz7yXuc+uYOePWSiXT1OII4+PsE1PpkHAT9jUIE+bb7SPo6BAj4HGSQ9T2a8PlUdWjw=",
          "dtype": "f4"
         },
         "y": {
          "bdata": "ZrOaPkLMZj6qAZg9d45DP02n1T7sIBI/nE0IP6sAwj7lmCw//H4/PrKUGD6T9Pw+CFquPgZxOD/xTek+CnghP8MMhz7qL+Q9w+wZP6gBGD0=",
          "dtype": "f4"
         },
         "z": {
          "bdata": "AAAAAAAA8D8AAAAAAADwPwAAAAAAAPA/AAAAAAAA8D8AAAAAAADwPwAAAAAAAPA/AAAAAAAA8D8AAAAAAADwPwAAAAAAAPA/AAAAAAAA8D8AAAAAAADwPwAAAAAAAPA/AAAAAAAA8D8AAAAAAADwPwAAAAAAAPA/AAAAAAAA8D8AAAAAAADwPwAAAAAAAPA/AAAAAAAA8D8AAAAAAADwPw==",
          "dtype": "f8"
         }
        }
       ],
       "layout": {
        "legend": {
         "bgcolor": "rgba(0,0,0,0.4)",
         "bordercolor": "white"
        },
        "margin": {
         "b": 0,
         "l": 0,
         "r": 0,
         "t": 30
        },
        "scene": {
         "aspectmode": "data",
         "camera": {
          "eye": {
           "x": 1.5,
           "y": 1.5,
           "z": 0.7
          }
         },
         "xaxis": {
          "backgroundcolor": "rgb(10,10,20)",
          "gridcolor": "gray",
          "title": {
           "text": "X"
          },
          "zerolinecolor": "gray"
         },
         "yaxis": {
          "backgroundcolor": "rgb(10,10,20)",
          "gridcolor": "gray",
          "title": {
           "text": "Y"
          },
          "zerolinecolor": "gray"
         },
         "zaxis": {
          "backgroundcolor": "rgb(10,10,20)",
          "gridcolor": "gray",
          "title": {
           "text": "Altitude"
          },
          "zerolinecolor": "gray"
         }
        },
        "template": {
         "data": {
          "bar": [
           {
            "error_x": {
             "color": "#f2f5fa"
            },
            "error_y": {
             "color": "#f2f5fa"
            },
            "marker": {
             "line": {
              "color": "rgb(17,17,17)",
              "width": 0.5
             },
             "pattern": {
              "fillmode": "overlay",
              "size": 10,
              "solidity": 0.2
             }
            },
            "type": "bar"
           }
          ],
          "barpolar": [
           {
            "marker": {
             "line": {
              "color": "rgb(17,17,17)",
              "width": 0.5
             },
             "pattern": {
              "fillmode": "overlay",
              "size": 10,
              "solidity": 0.2
             }
            },
            "type": "barpolar"
           }
          ],
          "carpet": [
           {
            "aaxis": {
             "endlinecolor": "#A2B1C6",
             "gridcolor": "#506784",
             "linecolor": "#506784",
             "minorgridcolor": "#506784",
             "startlinecolor": "#A2B1C6"
            },
            "baxis": {
             "endlinecolor": "#A2B1C6",
             "gridcolor": "#506784",
             "linecolor": "#506784",
             "minorgridcolor": "#506784",
             "startlinecolor": "#A2B1C6"
            },
            "type": "carpet"
           }
          ],
          "choropleth": [
           {
            "colorbar": {
             "outlinewidth": 0,
             "ticks": ""
            },
            "type": "choropleth"
           }
          ],
          "contour": [
           {
            "colorbar": {
             "outlinewidth": 0,
             "ticks": ""
            },
            "colorscale": [
             [
              0,
              "#0d0887"
             ],
             [
              0.1111111111111111,
              "#46039f"
             ],
             [
              0.2222222222222222,
              "#7201a8"
             ],
             [
              0.3333333333333333,
              "#9c179e"
             ],
             [
              0.4444444444444444,
              "#bd3786"
             ],
             [
              0.5555555555555556,
              "#d8576b"
             ],
             [
              0.6666666666666666,
              "#ed7953"
             ],
             [
              0.7777777777777778,
              "#fb9f3a"
             ],
             [
              0.8888888888888888,
              "#fdca26"
             ],
             [
              1,
              "#f0f921"
             ]
            ],
            "type": "contour"
           }
          ],
          "contourcarpet": [
           {
            "colorbar": {
             "outlinewidth": 0,
             "ticks": ""
            },
            "type": "contourcarpet"
           }
          ],
          "heatmap": [
           {
            "colorbar": {
             "outlinewidth": 0,
             "ticks": ""
            },
            "colorscale": [
             [
              0,
              "#0d0887"
             ],
             [
              0.1111111111111111,
              "#46039f"
             ],
             [
              0.2222222222222222,
              "#7201a8"
             ],
             [
              0.3333333333333333,
              "#9c179e"
             ],
             [
              0.4444444444444444,
              "#bd3786"
             ],
             [
              0.5555555555555556,
              "#d8576b"
             ],
             [
              0.6666666666666666,
              "#ed7953"
             ],
             [
              0.7777777777777778,
              "#fb9f3a"
             ],
             [
              0.8888888888888888,
              "#fdca26"
             ],
             [
              1,
              "#f0f921"
             ]
            ],
            "type": "heatmap"
           }
          ],
          "histogram": [
           {
            "marker": {
             "pattern": {
              "fillmode": "overlay",
              "size": 10,
              "solidity": 0.2
             }
            },
            "type": "histogram"
           }
          ],
          "histogram2d": [
           {
            "colorbar": {
             "outlinewidth": 0,
             "ticks": ""
            },
            "colorscale": [
             [
              0,
              "#0d0887"
             ],
             [
              0.1111111111111111,
              "#46039f"
             ],
             [
              0.2222222222222222,
              "#7201a8"
             ],
             [
              0.3333333333333333,
              "#9c179e"
             ],
             [
              0.4444444444444444,
              "#bd3786"
             ],
             [
              0.5555555555555556,
              "#d8576b"
             ],
             [
              0.6666666666666666,
              "#ed7953"
             ],
             [
              0.7777777777777778,
              "#fb9f3a"
             ],
             [
              0.8888888888888888,
              "#fdca26"
             ],
             [
              1,
              "#f0f921"
             ]
            ],
            "type": "histogram2d"
           }
          ],
          "histogram2dcontour": [
           {
            "colorbar": {
             "outlinewidth": 0,
             "ticks": ""
            },
            "colorscale": [
             [
              0,
              "#0d0887"
             ],
             [
              0.1111111111111111,
              "#46039f"
             ],
             [
              0.2222222222222222,
              "#7201a8"
             ],
             [
              0.3333333333333333,
              "#9c179e"
             ],
             [
              0.4444444444444444,
              "#bd3786"
             ],
             [
              0.5555555555555556,
              "#d8576b"
             ],
             [
              0.6666666666666666,
              "#ed7953"
             ],
             [
              0.7777777777777778,
              "#fb9f3a"
             ],
             [
              0.8888888888888888,
              "#fdca26"
             ],
             [
              1,
              "#f0f921"
             ]
            ],
            "type": "histogram2dcontour"
           }
          ],
          "mesh3d": [
           {
            "colorbar": {
             "outlinewidth": 0,
             "ticks": ""
            },
            "type": "mesh3d"
           }
          ],
          "parcoords": [
           {
            "line": {
             "colorbar": {
              "outlinewidth": 0,
              "ticks": ""
             }
            },
            "type": "parcoords"
           }
          ],
          "pie": [
           {
            "automargin": true,
            "type": "pie"
           }
          ],
          "scatter": [
           {
            "marker": {
             "line": {
              "color": "#283442"
             }
            },
            "type": "scatter"
           }
          ],
          "scatter3d": [
           {
            "line": {
             "colorbar": {
              "outlinewidth": 0,
              "ticks": ""
             }
            },
            "marker": {
             "colorbar": {
              "outlinewidth": 0,
              "ticks": ""
             }
            },
            "type": "scatter3d"
           }
          ],
          "scattercarpet": [
           {
            "marker": {
             "colorbar": {
              "outlinewidth": 0,
              "ticks": ""
             }
            },
            "type": "scattercarpet"
           }
          ],
          "scattergeo": [
           {
            "marker": {
             "colorbar": {
              "outlinewidth": 0,
              "ticks": ""
             }
            },
            "type": "scattergeo"
           }
          ],
          "scattergl": [
           {
            "marker": {
             "line": {
              "color": "#283442"
             }
            },
            "type": "scattergl"
           }
          ],
          "scattermap": [
           {
            "marker": {
             "colorbar": {
              "outlinewidth": 0,
              "ticks": ""
             }
            },
            "type": "scattermap"
           }
          ],
          "scattermapbox": [
           {
            "marker": {
             "colorbar": {
              "outlinewidth": 0,
              "ticks": ""
             }
            },
            "type": "scattermapbox"
           }
          ],
          "scatterpolar": [
           {
            "marker": {
             "colorbar": {
              "outlinewidth": 0,
              "ticks": ""
             }
            },
            "type": "scatterpolar"
           }
          ],
          "scatterpolargl": [
           {
            "marker": {
             "colorbar": {
              "outlinewidth": 0,
              "ticks": ""
             }
            },
            "type": "scatterpolargl"
           }
          ],
          "scatterternary": [
           {
            "marker": {
             "colorbar": {
              "outlinewidth": 0,
              "ticks": ""
             }
            },
            "type": "scatterternary"
           }
          ],
          "surface": [
           {
            "colorbar": {
             "outlinewidth": 0,
             "ticks": ""
            },
            "colorscale": [
             [
              0,
              "#0d0887"
             ],
             [
              0.1111111111111111,
              "#46039f"
             ],
             [
              0.2222222222222222,
              "#7201a8"
             ],
             [
              0.3333333333333333,
              "#9c179e"
             ],
             [
              0.4444444444444444,
              "#bd3786"
             ],
             [
              0.5555555555555556,
              "#d8576b"
             ],
             [
              0.6666666666666666,
              "#ed7953"
             ],
             [
              0.7777777777777778,
              "#fb9f3a"
             ],
             [
              0.8888888888888888,
              "#fdca26"
             ],
             [
              1,
              "#f0f921"
             ]
            ],
            "type": "surface"
           }
          ],
          "table": [
           {
            "cells": {
             "fill": {
              "color": "#506784"
             },
             "line": {
              "color": "rgb(17,17,17)"
             }
            },
            "header": {
             "fill": {
              "color": "#2a3f5f"
             },
             "line": {
              "color": "rgb(17,17,17)"
             }
            },
            "type": "table"
           }
          ]
         },
         "layout": {
          "annotationdefaults": {
           "arrowcolor": "#f2f5fa",
           "arrowhead": 0,
           "arrowwidth": 1
          },
          "autotypenumbers": "strict",
          "coloraxis": {
           "colorbar": {
            "outlinewidth": 0,
            "ticks": ""
           }
          },
          "colorscale": {
           "diverging": [
            [
             0,
             "#8e0152"
            ],
            [
             0.1,
             "#c51b7d"
            ],
            [
             0.2,
             "#de77ae"
            ],
            [
             0.3,
             "#f1b6da"
            ],
            [
             0.4,
             "#fde0ef"
            ],
            [
             0.5,
             "#f7f7f7"
            ],
            [
             0.6,
             "#e6f5d0"
            ],
            [
             0.7,
             "#b8e186"
            ],
            [
             0.8,
             "#7fbc41"
            ],
            [
             0.9,
             "#4d9221"
            ],
            [
             1,
             "#276419"
            ]
           ],
           "sequential": [
            [
             0,
             "#0d0887"
            ],
            [
             0.1111111111111111,
             "#46039f"
            ],
            [
             0.2222222222222222,
             "#7201a8"
            ],
            [
             0.3333333333333333,
             "#9c179e"
            ],
            [
             0.4444444444444444,
             "#bd3786"
            ],
            [
             0.5555555555555556,
             "#d8576b"
            ],
            [
             0.6666666666666666,
             "#ed7953"
            ],
            [
             0.7777777777777778,
             "#fb9f3a"
            ],
            [
             0.8888888888888888,
             "#fdca26"
            ],
            [
             1,
             "#f0f921"
            ]
           ],
           "sequentialminus": [
            [
             0,
             "#0d0887"
            ],
            [
             0.1111111111111111,
             "#46039f"
            ],
            [
             0.2222222222222222,
             "#7201a8"
            ],
            [
             0.3333333333333333,
             "#9c179e"
            ],
            [
             0.4444444444444444,
             "#bd3786"
            ],
            [
             0.5555555555555556,
             "#d8576b"
            ],
            [
             0.6666666666666666,
             "#ed7953"
            ],
            [
             0.7777777777777778,
             "#fb9f3a"
            ],
            [
             0.8888888888888888,
             "#fdca26"
            ],
            [
             1,
             "#f0f921"
            ]
           ]
          },
          "colorway": [
           "#636efa",
           "#EF553B",
           "#00cc96",
           "#ab63fa",
           "#FFA15A",
           "#19d3f3",
           "#FF6692",
           "#B6E880",
           "#FF97FF",
           "#FECB52"
          ],
          "font": {
           "color": "#f2f5fa"
          },
          "geo": {
           "bgcolor": "rgb(17,17,17)",
           "lakecolor": "rgb(17,17,17)",
           "landcolor": "rgb(17,17,17)",
           "showlakes": true,
           "showland": true,
           "subunitcolor": "#506784"
          },
          "hoverlabel": {
           "align": "left"
          },
          "hovermode": "closest",
          "mapbox": {
           "style": "dark"
          },
          "paper_bgcolor": "rgb(17,17,17)",
          "plot_bgcolor": "rgb(17,17,17)",
          "polar": {
           "angularaxis": {
            "gridcolor": "#506784",
            "linecolor": "#506784",
            "ticks": ""
           },
           "bgcolor": "rgb(17,17,17)",
           "radialaxis": {
            "gridcolor": "#506784",
            "linecolor": "#506784",
            "ticks": ""
           }
          },
          "scene": {
           "xaxis": {
            "backgroundcolor": "rgb(17,17,17)",
            "gridcolor": "#506784",
            "gridwidth": 2,
            "linecolor": "#506784",
            "showbackground": true,
            "ticks": "",
            "zerolinecolor": "#C8D4E3"
           },
           "yaxis": {
            "backgroundcolor": "rgb(17,17,17)",
            "gridcolor": "#506784",
            "gridwidth": 2,
            "linecolor": "#506784",
            "showbackground": true,
            "ticks": "",
            "zerolinecolor": "#C8D4E3"
           },
           "zaxis": {
            "backgroundcolor": "rgb(17,17,17)",
            "gridcolor": "#506784",
            "gridwidth": 2,
            "linecolor": "#506784",
            "showbackground": true,
            "ticks": "",
            "zerolinecolor": "#C8D4E3"
           }
          },
          "shapedefaults": {
           "line": {
            "color": "#f2f5fa"
           }
          },
          "sliderdefaults": {
           "bgcolor": "#C8D4E3",
           "bordercolor": "rgb(17,17,17)",
           "borderwidth": 1,
           "tickwidth": 0
          },
          "ternary": {
           "aaxis": {
            "gridcolor": "#506784",
            "linecolor": "#506784",
            "ticks": ""
           },
           "baxis": {
            "gridcolor": "#506784",
            "linecolor": "#506784",
            "ticks": ""
           },
           "bgcolor": "rgb(17,17,17)",
           "caxis": {
            "gridcolor": "#506784",
            "linecolor": "#506784",
            "ticks": ""
           }
          },
          "title": {
           "x": 0.05
          },
          "updatemenudefaults": {
           "bgcolor": "#506784",
           "borderwidth": 0
          },
          "xaxis": {
           "automargin": true,
           "gridcolor": "#283442",
           "linecolor": "#506784",
           "ticks": "",
           "title": {
            "standoff": 15
           },
           "zerolinecolor": "#283442",
           "zerolinewidth": 2
          },
          "yaxis": {
           "automargin": true,
           "gridcolor": "#283442",
           "linecolor": "#506784",
           "ticks": "",
           "title": {
            "standoff": 15
           },
           "zerolinecolor": "#283442",
           "zerolinewidth": 2
          }
         }
        },
        "title": {
         "font": {
          "size": 20
         },
         "text": "UAV Spatial Deployment",
         "x": 0.5
        }
       }
      }
     },
     "metadata": {},
     "output_type": "display_data"
    }
   ],
   "source": [
    "plot_UAV_FLPO(START_locs, END_locs, F_base, (4,3))\n",
    "plot_UAV_FLPO_3D(START_locs, END_locs, F_base)\n"
   ]
  },
  {
   "cell_type": "markdown",
   "metadata": {},
   "source": [
    "### Annealing loop implementation"
   ]
  },
  {
   "cell_type": "code",
   "execution_count": 7,
   "metadata": {},
   "outputs": [
    {
     "name": "stdout",
     "output_type": "stream",
     "text": [
      "beta: 1.0000e-03\tFreeE: 1.0230\tGrad: 1.0245e-02\n",
      "beta: 3.0000e-03\tFreeE: 1.0267\tGrad: 1.8020e-04\n",
      "beta: 9.0000e-03\tFreeE: 1.0250\tGrad: 1.7823e-04\n",
      "beta: 2.7000e-02\tFreeE: 1.0301\tGrad: 3.1565e-04\n",
      "beta: 8.1000e-02\tFreeE: 1.0112\tGrad: 3.5229e-04\n",
      "beta: 2.4300e-01\tFreeE: 0.9845\tGrad: 1.8317e-04\n",
      "beta: 7.2900e-01\tFreeE: 0.9093\tGrad: 2.7291e-04\n",
      "beta: 2.1870e+00\tFreeE: 0.7045\tGrad: 1.7901e-03\n",
      "beta: 6.5610e+00\tFreeE: 0.4405\tGrad: 1.7718e-03\n",
      "beta: 1.9683e+01\tFreeE: 0.2259\tGrad: 6.8609e-04\n",
      "beta: 5.9049e+01\tFreeE: 0.1102\tGrad: 2.2576e-03\n",
      "beta: 1.7715e+02\tFreeE: 0.0689\tGrad: 5.8087e-04\n",
      "beta: 5.3144e+02\tFreeE: 0.0420\tGrad: 2.8337e-04\n",
      "beta: 1.5943e+03\tFreeE: 0.0412\tGrad: 1.5537e-04\n",
      "beta: 4.7830e+03\tFreeE: 0.0403\tGrad: 3.6840e-04\n",
      "beta: 1.4349e+04\tFreeE: 0.0393\tGrad: 3.6437e-04\n",
      "beta: 4.3047e+04\tFreeE: 0.0385\tGrad: 2.1734e-04\n"
     ]
    }
   ],
   "source": [
    "beta_min = 1e-3\n",
    "beta_max = 1e5\n",
    "beta_grow = 3\n",
    "optim_iters = 100\n",
    "optim_step = 0.01 # 0.1 for gd0, use < 0.01 for the other two optimizers\n",
    "\n",
    "F_base, b_arr, F_arr = anneal(\n",
    "    F_base, START_locs,END_locs, vrp_net, lse_net, optim_iters, optim_step, \n",
    "    beta_min, beta_max, beta_grow, D_max_range=2.0, \n",
    "    optimizer_name='adam', allowPrint=True)\n"
   ]
  },
  {
   "cell_type": "code",
   "execution_count": 10,
   "metadata": {},
   "outputs": [
    {
     "data": {
      "image/png": "[encoded data removed]",
      "text/plain": [
       "<Figure size 400x300 with 1 Axes>"
      ]
     },
     "metadata": {},
     "output_type": "display_data"
    },
    {
     "data": {
      "application/vnd.plotly.v1+json": {
       "config": {
        "plotlyServerURL": "https://plot.ly"
       },
       "data": [
        {
         "marker": {
          "color": "cyan",
          "line": {
           "color": "white",
           "width": 1
          },
          "opacity": 0.7,
          "size": 8,
          "symbol": "diamond"
         },
         "mode": "markers",
         "name": "Drone Start",
         "type": "scatter3d",
         "x": {
          "bdata": "aBboPg4xvz5NNfs+WkTvPq6F5D4cVdY+tr8CP1JYDj+WD/s+Bh0QPzhU8j692ew+vL3/Pp6aFT+pOvw+NBsPP6Lk7z4xeOg+5XbsPvQ2oD4Wx6s+j+CyPhZrnz5EBao+mKGNPrxWpT5mrpI+Zo6YPoY0kD51lqM+8H2gPsMUmT72GK0+v3moPvw6uj4NiZk++oHMPrdElz5Q4bs+nA+VPhdanj60zsA+4j6dPvcehT6yHQw/NC3gPusm6z6y7vk+5pPcPsJu/D6QW+I+Y68HP5lD5D5gF9Y+QYz5PqzWzT5H4gA/r9D6PjUS+j4xIN0+ybIBPzR95T5tYOg+LmTfPqLY4z57hRI9XFodvFIeEbzU5K476LONPCRYubxY7v07xloKvJRQaD3AQM65esOCPcmFbz1mGJq9wQmGvfoQhD0YDYo7b3EnPXXZ0z1o1OE8AcEuP+b5OD/NBTM/ALk1P+K6MD9+gzY/ibEgP0LyQz9DZzU/VMU0P/itUT8juCE/sLg5PztEKT+9qTA/15Q0Pw==",
          "dtype": "f4"
         },
         "y": {
          "bdata": "oss/P6xTRj8wBz4/yedAP+yBQD+tmV4/Yo5CPx8yUj+EmFI/Ec5QP8RbND9H0DU/epREP9mJTD9gFDs/YV5BPyjoQD87cDs/hRZEPyFTID/LqR8/H3clPyzrHj99hCU/NQIhP0LWIz8s1iE/g88oP7xKKD+abSA/xNUhP8yDHz9JZiA/J0YkP2RiIz93SiA/xBQiP7TqIT/iFik/8tkhP7lEIT8itiI/P9MjP64MHz/dpRs/mPgiP3tdHj/i5yg/BRAjP5+sIj/fFCE/tRcSP/lPJD+anSg/g0EiP0G3Kz9v6RY/kiwcPx9oHD+o8jM/YS8fP0y7Mz9jWBw/d7sgP4yILD+9cwI+zC82Ps6vQj5sPjk+OHYlPv3tPz4B5UQ+0Lg8PtHdUT5H3gs+o2w2PlXfJT6/uT8+bZ5JPrqHPD4upVs+5nE7PuFCBz71cdI9/gRTP135ST8MmEI/AjpTP206Wz+DJUo/o6xOP0tbVT8xRlw/LfNWP3UKPD+yqEM/VgZLP+V+UT82LFA/3F9LPw==",
          "dtype": "f4"
         },
         "z": {
          "bdata": "AAAAAAAA8D8AAAAAAADwPwAAAAAAAPA/AAAAAAAA8D8AAAAAAADwPwAAAAAAAPA/AAAAAAAA8D8AAAAAAADwPwAAAAAAAPA/AAAAAAAA8D8AAAAAAADwPwAAAAAAAPA/AAAAAAAA8D8AAAAAAADwPwAAAAAAAPA/AAAAAAAA8D8AAAAAAADwPwAAAAAAAPA/AAAAAAAA8D8AAAAAAADwPwAAAAAAAPA/AAAAAAAA8D8AAAAAAADwPwAAAAAAAPA/AAAAAAAA8D8AAAAAAADwPwAAAAAAAPA/AAAAAAAA8D8AAAAAAADwPwAAAAAAAPA/AAAAAAAA8D8AAAAAAADwPwAAAAAAAPA/AAAAAAAA8D8AAAAAAADwPwAAAAAAAPA/AAAAAAAA8D8AAAAAAADwPwAAAAAAAPA/AAAAAAAA8D8AAAAAAADwPwAAAAAAAPA/AAAAAAAA8D8AAAAAAADwPwAAAAAAAPA/AAAAAAAA8D8AAAAAAADwPwAAAAAAAPA/AAAAAAAA8D8AAAAAAADwPwAAAAAAAPA/AAAAAAAA8D8AAAAAAADwPwAAAAAAAPA/AAAAAAAA8D8AAAAAAADwPwAAAAAAAPA/AAAAAAAA8D8AAAAAAADwPwAAAAAAAPA/AAAAAAAA8D8AAAAAAADwPwAAAAAAAPA/AAAAAAAA8D8AAAAAAADwPwAAAAAAAPA/AAAAAAAA8D8AAAAAAADwPwAAAAAAAPA/AAAAAAAA8D8AAAAAAADwPwAAAAAAAPA/AAAAAAAA8D8AAAAAAADwPwAAAAAAAPA/AAAAAAAA8D8AAAAAAADwPwAAAAAAAPA/AAAAAAAA8D8AAAAAAADwPwAAAAAAAPA/AAAAAAAA8D8AAAAAAADwPwAAAAAAAPA/AAAAAAAA8D8AAAAAAADwPwAAAAAAAPA/AAAAAAAA8D8AAAAAAADwPwAAAAAAAPA/AAAAAAAA8D8AAAAAAADwPwAAAAAAAPA/AAAAAAAA8D8AAAAAAADwPwAAAAAAAPA/AAAAAAAA8D8AAAAAAADwPwAAAAAAAPA/AAAAAAAA8D8=",
          "dtype": "f8"
         }
        },
        {
         "marker": {
          "color": "orange",
          "opacity": 0.9,
          "size": 6,
          "symbol": "circle"
         },
         "mode": "markers",
         "name": "Drone End",
         "type": "scatter3d",
         "x": {
          "bdata": "AAAAAAAAAAAAAAAAAAAAAAAAAAAAAAAAAAAAAAAAAAAAAAAAAAAAAAAAAAAAAAAAAAAAAAAAAAAAAAAAAAAAAAAAAAAAAAAAAAAAAAAAAAAAAAAAAAAAAAAAAAAAAAAAAAAAAAAAAAAAAAAAAAAAAAAAAAAAAAAAAAAAAAAAAAAAAAAAAAAAAAAAAAAAAAAAAAAAAAAAAAAAAAAAAAAAAAAAAAAAAAAAAAAAAAAAAAAAAAAAAAAAAAAAAAAAAAAAAAAAAAAAAAAAAAAAAAAAAAAAAAAAAAAAAAAAAAAAAAAAAAAAAAAAAAAAAAAAAAAAAAAAAAAAAAAAAAAAAAAAAAAAAAAAAAAAAAAAAAAAAAAAAAAAAAAAAAAAAAAAAAAAAAAAAAAAAAAAAAAAAAAAAAAAAAAAAAAAAAAAAAAAAAAAAAAAAAAAAAAAAAAAAAAAAAAAAAAAAAAAAAAAAAAAAAAAAAAAAAAAAAAAAAAAAAAAAAAAAAAAAAAAAAAAAAAAAAAAAAAAAAAAAAAAAAAAAA==",
          "dtype": "f4"
         },
         "y": {
          "bdata": "AAAAAAAAAAAAAAAAAAAAAAAAAAAAAAAAAAAAAAAAAAAAAAAAAAAAAAAAAAAAAAAAAAAAAAAAAAAAAAAAAAAAAAAAAAAAAAAAAAAAAAAAAAAAAAAAAAAAAAAAAAAAAAAAAAAAAAAAAAAAAAAAAAAAAAAAAAAAAAAAAAAAAAAAAAAAAAAAAAAAAAAAAAAAAAAAAAAAAAAAAAAAAAAAAAAAAAAAAAAAAAAAAAAAAAAAAAAAAAAAAAAAAAAAAAAAAAAAAAAAAAAAAAAAAAAAAAAAAAAAAAAAAAAAAAAAAAAAAAAAAAAAAAAAAAAAAAAAAAAAAAAAAAAAAAAAAAAAAAAAAAAAAAAAAAAAAAAAAAAAAAAAAAAAAAAAAAAAAAAAAAAAAAAAAAAAAAAAAAAAAAAAAAAAAAAAAAAAAAAAAAAAAAAAAAAAAAAAAAAAAAAAAAAAAAAAAAAAAAAAAAAAAAAAAAAAAAAAAAAAAAAAAAAAAAAAAAAAAAAAAAAAAAAAAAAAAAAAAAAAAAAAAAAAAAAAAA==",
          "dtype": "f4"
         },
         "z": {
          "bdata": "AAAAAAAA8D8AAAAAAADwPwAAAAAAAPA/AAAAAAAA8D8AAAAAAADwPwAAAAAAAPA/AAAAAAAA8D8AAAAAAADwPwAAAAAAAPA/AAAAAAAA8D8AAAAAAADwPwAAAAAAAPA/AAAAAAAA8D8AAAAAAADwPwAAAAAAAPA/AAAAAAAA8D8AAAAAAADwPwAAAAAAAPA/AAAAAAAA8D8AAAAAAADwPwAAAAAAAPA/AAAAAAAA8D8AAAAAAADwPwAAAAAAAPA/AAAAAAAA8D8AAAAAAADwPwAAAAAAAPA/AAAAAAAA8D8AAAAAAADwPwAAAAAAAPA/AAAAAAAA8D8AAAAAAADwPwAAAAAAAPA/AAAAAAAA8D8AAAAAAADwPwAAAAAAAPA/AAAAAAAA8D8AAAAAAADwPwAAAAAAAPA/AAAAAAAA8D8AAAAAAADwPwAAAAAAAPA/AAAAAAAA8D8AAAAAAADwPwAAAAAAAPA/AAAAAAAA8D8AAAAAAADwPwAAAAAAAPA/AAAAAAAA8D8AAAAAAADwPwAAAAAAAPA/AAAAAAAA8D8AAAAAAADwPwAAAAAAAPA/AAAAAAAA8D8AAAAAAADwPwAAAAAAAPA/AAAAAAAA8D8AAAAAAADwPwAAAAAAAPA/AAAAAAAA8D8AAAAAAADwPwAAAAAAAPA/AAAAAAAA8D8AAAAAAADwPwAAAAAAAPA/AAAAAAAA8D8AAAAAAADwPwAAAAAAAPA/AAAAAAAA8D8AAAAAAADwPwAAAAAAAPA/AAAAAAAA8D8AAAAAAADwPwAAAAAAAPA/AAAAAAAA8D8AAAAAAADwPwAAAAAAAPA/AAAAAAAA8D8AAAAAAADwPwAAAAAAAPA/AAAAAAAA8D8AAAAAAADwPwAAAAAAAPA/AAAAAAAA8D8AAAAAAADwPwAAAAAAAPA/AAAAAAAA8D8AAAAAAADwPwAAAAAAAPA/AAAAAAAA8D8AAAAAAADwPwAAAAAAAPA/AAAAAAAA8D8AAAAAAADwPwAAAAAAAPA/AAAAAAAA8D8AAAAAAADwPwAAAAAAAPA/AAAAAAAA8D8=",
          "dtype": "f8"
         }
        },
        {
         "line": {
          "color": "gray",
          "width": 3
         },
         "mode": "lines",
         "showlegend": false,
         "type": "scatter3d",
         "x": [
          0.25271737575531006,
          0.25271737575531006
         ],
         "y": [
          0.4558772146701813,
          0.4558772146701813
         ],
         "z": [
          0,
          1
         ]
        },
        {
         "line": {
          "color": "gray",
          "width": 3
         },
         "mode": "lines",
         "showlegend": false,
         "type": "scatter3d",
         "x": [
          0.41154739260673523,
          0.41154739260673523
         ],
         "y": [
          0.6307626962661743,
          0.6307626962661743
         ],
         "z": [
          0,
          1
         ]
        },
        {
         "line": {
          "color": "gray",
          "width": 3
         },
         "mode": "lines",
         "showlegend": false,
         "type": "scatter3d",
         "x": [
          0.3277074098587036,
          0.3277074098587036
         ],
         "y": [
          0.5707743167877197,
          0.5707743167877197
         ],
         "z": [
          0,
          1
         ]
        },
        {
         "line": {
          "color": "gray",
          "width": 3
         },
         "mode": "lines",
         "showlegend": false,
         "type": "scatter3d",
         "x": [
          0.5930983424186707,
          0.5930983424186707
         ],
         "y": [
          0.7639434933662415,
          0.7639434933662415
         ],
         "z": [
          0,
          1
         ]
        },
        {
         "line": {
          "color": "gray",
          "width": 3
         },
         "mode": "lines",
         "showlegend": false,
         "type": "scatter3d",
         "x": [
          0.20273329317569733,
          0.20273329317569733
         ],
         "y": [
          0.3790949583053589,
          0.3790949583053589
         ],
         "z": [
          0,
          1
         ]
        },
        {
         "line": {
          "color": "gray",
          "width": 3
         },
         "mode": "lines",
         "showlegend": false,
         "type": "scatter3d",
         "x": [
          0.4519522786140442,
          0.4519522786140442
         ],
         "y": [
          0.6742348074913025,
          0.6742348074913025
         ],
         "z": [
          0,
          1
         ]
        },
        {
         "line": {
          "color": "gray",
          "width": 3
         },
         "mode": "lines",
         "showlegend": false,
         "type": "scatter3d",
         "x": [
          0.1526714414358139,
          0.1526714414358139
         ],
         "y": [
          0.3024655282497406,
          0.3024655282497406
         ],
         "z": [
          0,
          1
         ]
        },
        {
         "line": {
          "color": "gray",
          "width": 3
         },
         "mode": "lines",
         "showlegend": false,
         "type": "scatter3d",
         "x": [
          0.36804482340812683,
          0.36804482340812683
         ],
         "y": [
          0.6013100147247314,
          0.6013100147247314
         ],
         "z": [
          0,
          1
         ]
        },
        {
         "line": {
          "color": "gray",
          "width": 3
         },
         "mode": "lines",
         "showlegend": false,
         "type": "scatter3d",
         "x": [
          0.04064405336976051,
          0.04064405336976051
         ],
         "y": [
          0.11188830435276031,
          0.11188830435276031
         ],
         "z": [
          0,
          1
         ]
        },
        {
         "line": {
          "color": "gray",
          "width": 3
         },
         "mode": "lines",
         "showlegend": false,
         "type": "scatter3d",
         "x": [
          0.1277957707643509,
          0.1277957707643509
         ],
         "y": [
          0.2640242278575897,
          0.2640242278575897
         ],
         "z": [
          0,
          1
         ]
        },
        {
         "line": {
          "color": "gray",
          "width": 3
         },
         "mode": "lines",
         "showlegend": false,
         "type": "scatter3d",
         "x": [
          0.07771109789609909,
          0.07771109789609909
         ],
         "y": [
          0.18743062019348145,
          0.18743062019348145
         ],
         "z": [
          0,
          1
         ]
        },
        {
         "line": {
          "color": "gray",
          "width": 3
         },
         "mode": "lines",
         "showlegend": false,
         "type": "scatter3d",
         "x": [
          0.17773301899433136,
          0.17773301899433136
         ],
         "y": [
          0.3408264219760895,
          0.3408264219760895
         ],
         "z": [
          0,
          1
         ]
        },
        {
         "line": {
          "color": "gray",
          "width": 3
         },
         "mode": "lines",
         "showlegend": false,
         "type": "scatter3d",
         "x": [
          0.3025786876678467,
          0.3025786876678467
         ],
         "y": [
          0.5324212908744812,
          0.5324212908744812
         ],
         "z": [
          0,
          1
         ]
        },
        {
         "line": {
          "color": "gray",
          "width": 3
         },
         "mode": "lines",
         "showlegend": false,
         "type": "scatter3d",
         "x": [
          0.5040318369865417,
          0.5040318369865417
         ],
         "y": [
          0.7204312682151794,
          0.7204312682151794
         ],
         "z": [
          0,
          1
         ]
        },
        {
         "line": {
          "color": "gray",
          "width": 3
         },
         "mode": "lines",
         "showlegend": false,
         "type": "scatter3d",
         "x": [
          0.22761933505535126,
          0.22761933505535126
         ],
         "y": [
          0.4174470901489258,
          0.4174470901489258
         ],
         "z": [
          0,
          1
         ]
        },
        {
         "line": {
          "color": "gray",
          "width": 3
         },
         "mode": "lines",
         "showlegend": false,
         "type": "scatter3d",
         "x": [
          0.05458309128880501,
          0.05458309128880501
         ],
         "y": [
          0.14936237037181854,
          0.14936237037181854
         ],
         "z": [
          0,
          1
         ]
        },
        {
         "line": {
          "color": "gray",
          "width": 3
         },
         "mode": "lines",
         "showlegend": false,
         "type": "scatter3d",
         "x": [
          0.27769672870635986,
          0.27769672870635986
         ],
         "y": [
          0.4942001402378082,
          0.4942001402378082
         ],
         "z": [
          0,
          1
         ]
        },
        {
         "line": {
          "color": "gray",
          "width": 3
         },
         "mode": "lines",
         "showlegend": false,
         "type": "scatter3d",
         "x": [
          0.02665075846016407,
          0.02665075846016407
         ],
         "y": [
          0.07475660741329193,
          0.07475660741329193
         ],
         "z": [
          0,
          1
         ]
        },
        {
         "line": {
          "color": "gray",
          "width": 3
         },
         "mode": "lines",
         "showlegend": false,
         "type": "scatter3d",
         "x": [
          0.10282358527183533,
          0.10282358527183533
         ],
         "y": [
          0.2257760763168335,
          0.2257760763168335
         ],
         "z": [
          0,
          1
         ]
        },
        {
         "line": {
          "color": "gray",
          "width": 3
         },
         "mode": "lines",
         "showlegend": false,
         "type": "scatter3d",
         "x": [
          0.013324878178536892,
          0.013324878178536892
         ],
         "y": [
          0.03740157186985016,
          0.03740157186985016
         ],
         "z": [
          0,
          1
         ]
        },
        {
         "marker": {
          "color": "silver",
          "size": 5,
          "symbol": "square"
         },
         "mode": "markers",
         "name": "Facilities",
         "type": "scatter3d",
         "x": {
          "bdata": "LGSBPle20j5Eyac+S9UXP1GZTz5KZuc+51UcPl9wvD5heiY95dwCPv8mnz2l/zU+mOuaPjsIAT8LFWk+hZJfPUQujj6xUto8LJXSPZdQWjw=",
          "dtype": "f4"
         },
         "y": {
          "bdata": "vWjpPqp5IT9EHhI/zZFDP7wYwj6nmiw/w9yaPnTvGT+yJeU9Ly6HPtDtPz7NgK4+w0wIPy9uOD+gu9U+c/IYPs0H/T7+GZk92DFnPmQyGT0=",
          "dtype": "f4"
         },
         "z": {
          "bdata": "AAAAAAAA8D8AAAAAAADwPwAAAAAAAPA/AAAAAAAA8D8AAAAAAADwPwAAAAAAAPA/AAAAAAAA8D8AAAAAAADwPwAAAAAAAPA/AAAAAAAA8D8AAAAAAADwPwAAAAAAAPA/AAAAAAAA8D8AAAAAAADwPwAAAAAAAPA/AAAAAAAA8D8AAAAAAADwPwAAAAAAAPA/AAAAAAAA8D8AAAAAAADwPw==",
          "dtype": "f8"
         }
        }
       ],
       "layout": {
        "legend": {
         "bgcolor": "rgba(0,0,0,0.4)",
         "bordercolor": "white"
        },
        "margin": {
         "b": 0,
         "l": 0,
         "r": 0,
         "t": 30
        },
        "scene": {
         "aspectmode": "data",
         "camera": {
          "eye": {
           "x": 1.5,
           "y": 1.5,
           "z": 0.7
          }
         },
         "xaxis": {
          "backgroundcolor": "rgb(10,10,20)",
          "gridcolor": "gray",
          "title": {
           "text": "X"
          },
          "zerolinecolor": "gray"
         },
         "yaxis": {
          "backgroundcolor": "rgb(10,10,20)",
          "gridcolor": "gray",
          "title": {
           "text": "Y"
          },
          "zerolinecolor": "gray"
         },
         "zaxis": {
          "backgroundcolor": "rgb(10,10,20)",
          "gridcolor": "gray",
          "title": {
           "text": "Altitude"
          },
          "zerolinecolor": "gray"
         }
        },
        "template": {
         "data": {
          "bar": [
           {
            "error_x": {
             "color": "#f2f5fa"
            },
            "error_y": {
             "color": "#f2f5fa"
            },
            "marker": {
             "line": {
              "color": "rgb(17,17,17)",
              "width": 0.5
             },
             "pattern": {
              "fillmode": "overlay",
              "size": 10,
              "solidity": 0.2
             }
            },
            "type": "bar"
           }
          ],
          "barpolar": [
           {
            "marker": {
             "line": {
              "color": "rgb(17,17,17)",
              "width": 0.5
             },
             "pattern": {
              "fillmode": "overlay",
              "size": 10,
              "solidity": 0.2
             }
            },
            "type": "barpolar"
           }
          ],
          "carpet": [
           {
            "aaxis": {
             "endlinecolor": "#A2B1C6",
             "gridcolor": "#506784",
             "linecolor": "#506784",
             "minorgridcolor": "#506784",
             "startlinecolor": "#A2B1C6"
            },
            "baxis": {
             "endlinecolor": "#A2B1C6",
             "gridcolor": "#506784",
             "linecolor": "#506784",
             "minorgridcolor": "#506784",
             "startlinecolor": "#A2B1C6"
            },
            "type": "carpet"
           }
          ],
          "choropleth": [
           {
            "colorbar": {
             "outlinewidth": 0,
             "ticks": ""
            },
            "type": "choropleth"
           }
          ],
          "contour": [
           {
            "colorbar": {
             "outlinewidth": 0,
             "ticks": ""
            },
            "colorscale": [
             [
              0,
              "#0d0887"
             ],
             [
              0.1111111111111111,
              "#46039f"
             ],
             [
              0.2222222222222222,
              "#7201a8"
             ],
             [
              0.3333333333333333,
              "#9c179e"
             ],
             [
              0.4444444444444444,
              "#bd3786"
             ],
             [
              0.5555555555555556,
              "#d8576b"
             ],
             [
              0.6666666666666666,
              "#ed7953"
             ],
             [
              0.7777777777777778,
              "#fb9f3a"
             ],
             [
              0.8888888888888888,
              "#fdca26"
             ],
             [
              1,
              "#f0f921"
             ]
            ],
            "type": "contour"
           }
          ],
          "contourcarpet": [
           {
            "colorbar": {
             "outlinewidth": 0,
             "ticks": ""
            },
            "type": "contourcarpet"
           }
          ],
          "heatmap": [
           {
            "colorbar": {
             "outlinewidth": 0,
             "ticks": ""
            },
            "colorscale": [
             [
              0,
              "#0d0887"
             ],
             [
              0.1111111111111111,
              "#46039f"
             ],
             [
              0.2222222222222222,
              "#7201a8"
             ],
             [
              0.3333333333333333,
              "#9c179e"
             ],
             [
              0.4444444444444444,
              "#bd3786"
             ],
             [
              0.5555555555555556,
              "#d8576b"
             ],
             [
              0.6666666666666666,
              "#ed7953"
             ],
             [
              0.7777777777777778,
              "#fb9f3a"
             ],
             [
              0.8888888888888888,
              "#fdca26"
             ],
             [
              1,
              "#f0f921"
             ]
            ],
            "type": "heatmap"
           }
          ],
          "histogram": [
           {
            "marker": {
             "pattern": {
              "fillmode": "overlay",
              "size": 10,
              "solidity": 0.2
             }
            },
            "type": "histogram"
           }
          ],
          "histogram2d": [
           {
            "colorbar": {
             "outlinewidth": 0,
             "ticks": ""
            },
            "colorscale": [
             [
              0,
              "#0d0887"
             ],
             [
              0.1111111111111111,
              "#46039f"
             ],
             [
              0.2222222222222222,
              "#7201a8"
             ],
             [
              0.3333333333333333,
              "#9c179e"
             ],
             [
              0.4444444444444444,
              "#bd3786"
             ],
             [
              0.5555555555555556,
              "#d8576b"
             ],
             [
              0.6666666666666666,
              "#ed7953"
             ],
             [
              0.7777777777777778,
              "#fb9f3a"
             ],
             [
              0.8888888888888888,
              "#fdca26"
             ],
             [
              1,
              "#f0f921"
             ]
            ],
            "type": "histogram2d"
           }
          ],
          "histogram2dcontour": [
           {
            "colorbar": {
             "outlinewidth": 0,
             "ticks": ""
            },
            "colorscale": [
             [
              0,
              "#0d0887"
             ],
             [
              0.1111111111111111,
              "#46039f"
             ],
             [
              0.2222222222222222,
              "#7201a8"
             ],
             [
              0.3333333333333333,
              "#9c179e"
             ],
             [
              0.4444444444444444,
              "#bd3786"
             ],
             [
              0.5555555555555556,
              "#d8576b"
             ],
             [
              0.6666666666666666,
              "#ed7953"
             ],
             [
              0.7777777777777778,
              "#fb9f3a"
             ],
             [
              0.8888888888888888,
              "#fdca26"
             ],
             [
              1,
              "#f0f921"
             ]
            ],
            "type": "histogram2dcontour"
           }
          ],
          "mesh3d": [
           {
            "colorbar": {
             "outlinewidth": 0,
             "ticks": ""
            },
            "type": "mesh3d"
           }
          ],
          "parcoords": [
           {
            "line": {
             "colorbar": {
              "outlinewidth": 0,
              "ticks": ""
             }
            },
            "type": "parcoords"
           }
          ],
          "pie": [
           {
            "automargin": true,
            "type": "pie"
           }
          ],
          "scatter": [
           {
            "marker": {
             "line": {
              "color": "#283442"
             }
            },
            "type": "scatter"
           }
          ],
          "scatter3d": [
           {
            "line": {
             "colorbar": {
              "outlinewidth": 0,
              "ticks": ""
             }
            },
            "marker": {
             "colorbar": {
              "outlinewidth": 0,
              "ticks": ""
             }
            },
            "type": "scatter3d"
           }
          ],
          "scattercarpet": [
           {
            "marker": {
             "colorbar": {
              "outlinewidth": 0,
              "ticks": ""
             }
            },
            "type": "scattercarpet"
           }
          ],
          "scattergeo": [
           {
            "marker": {
             "colorbar": {
              "outlinewidth": 0,
              "ticks": ""
             }
            },
            "type": "scattergeo"
           }
          ],
          "scattergl": [
           {
            "marker": {
             "line": {
              "color": "#283442"
             }
            },
            "type": "scattergl"
           }
          ],
          "scattermap": [
           {
            "marker": {
             "colorbar": {
              "outlinewidth": 0,
              "ticks": ""
             }
            },
            "type": "scattermap"
           }
          ],
          "scattermapbox": [
           {
            "marker": {
             "colorbar": {
              "outlinewidth": 0,
              "ticks": ""
             }
            },
            "type": "scattermapbox"
           }
          ],
          "scatterpolar": [
           {
            "marker": {
             "colorbar": {
              "outlinewidth": 0,
              "ticks": ""
             }
            },
            "type": "scatterpolar"
           }
          ],
          "scatterpolargl": [
           {
            "marker": {
             "colorbar": {
              "outlinewidth": 0,
              "ticks": ""
             }
            },
            "type": "scatterpolargl"
           }
          ],
          "scatterternary": [
           {
            "marker": {
             "colorbar": {
              "outlinewidth": 0,
              "ticks": ""
             }
            },
            "type": "scatterternary"
           }
          ],
          "surface": [
           {
            "colorbar": {
             "outlinewidth": 0,
             "ticks": ""
            },
            "colorscale": [
             [
              0,
              "#0d0887"
             ],
             [
              0.1111111111111111,
              "#46039f"
             ],
             [
              0.2222222222222222,
              "#7201a8"
             ],
             [
              0.3333333333333333,
              "#9c179e"
             ],
             [
              0.4444444444444444,
              "#bd3786"
             ],
             [
              0.5555555555555556,
              "#d8576b"
             ],
             [
              0.6666666666666666,
              "#ed7953"
             ],
             [
              0.7777777777777778,
              "#fb9f3a"
             ],
             [
              0.8888888888888888,
              "#fdca26"
             ],
             [
              1,
              "#f0f921"
             ]
            ],
            "type": "surface"
           }
          ],
          "table": [
           {
            "cells": {
             "fill": {
              "color": "#506784"
             },
             "line": {
              "color": "rgb(17,17,17)"
             }
            },
            "header": {
             "fill": {
              "color": "#2a3f5f"
             },
             "line": {
              "color": "rgb(17,17,17)"
             }
            },
            "type": "table"
           }
          ]
         },
         "layout": {
          "annotationdefaults": {
           "arrowcolor": "#f2f5fa",
           "arrowhead": 0,
           "arrowwidth": 1
          },
          "autotypenumbers": "strict",
          "coloraxis": {
           "colorbar": {
            "outlinewidth": 0,
            "ticks": ""
           }
          },
          "colorscale": {
           "diverging": [
            [
             0,
             "#8e0152"
            ],
            [
             0.1,
             "#c51b7d"
            ],
            [
             0.2,
             "#de77ae"
            ],
            [
             0.3,
             "#f1b6da"
            ],
            [
             0.4,
             "#fde0ef"
            ],
            [
             0.5,
             "#f7f7f7"
            ],
            [
             0.6,
             "#e6f5d0"
            ],
            [
             0.7,
             "#b8e186"
            ],
            [
             0.8,
             "#7fbc41"
            ],
            [
             0.9,
             "#4d9221"
            ],
            [
             1,
             "#276419"
            ]
           ],
           "sequential": [
            [
             0,
             "#0d0887"
            ],
            [
             0.1111111111111111,
             "#46039f"
            ],
            [
             0.2222222222222222,
             "#7201a8"
            ],
            [
             0.3333333333333333,
             "#9c179e"
            ],
            [
             0.4444444444444444,
             "#bd3786"
            ],
            [
             0.5555555555555556,
             "#d8576b"
            ],
            [
             0.6666666666666666,
             "#ed7953"
            ],
            [
             0.7777777777777778,
             "#fb9f3a"
            ],
            [
             0.8888888888888888,
             "#fdca26"
            ],
            [
             1,
             "#f0f921"
            ]
           ],
           "sequentialminus": [
            [
             0,
             "#0d0887"
            ],
            [
             0.1111111111111111,
             "#46039f"
            ],
            [
             0.2222222222222222,
             "#7201a8"
            ],
            [
             0.3333333333333333,
             "#9c179e"
            ],
            [
             0.4444444444444444,
             "#bd3786"
            ],
            [
             0.5555555555555556,
             "#d8576b"
            ],
            [
             0.6666666666666666,
             "#ed7953"
            ],
            [
             0.7777777777777778,
             "#fb9f3a"
            ],
            [
             0.8888888888888888,
             "#fdca26"
            ],
            [
             1,
             "#f0f921"
            ]
           ]
          },
          "colorway": [
           "#636efa",
           "#EF553B",
           "#00cc96",
           "#ab63fa",
           "#FFA15A",
           "#19d3f3",
           "#FF6692",
           "#B6E880",
           "#FF97FF",
           "#FECB52"
          ],
          "font": {
           "color": "#f2f5fa"
          },
          "geo": {
           "bgcolor": "rgb(17,17,17)",
           "lakecolor": "rgb(17,17,17)",
           "landcolor": "rgb(17,17,17)",
           "showlakes": true,
           "showland": true,
           "subunitcolor": "#506784"
          },
          "hoverlabel": {
           "align": "left"
          },
          "hovermode": "closest",
          "mapbox": {
           "style": "dark"
          },
          "paper_bgcolor": "rgb(17,17,17)",
          "plot_bgcolor": "rgb(17,17,17)",
          "polar": {
           "angularaxis": {
            "gridcolor": "#506784",
            "linecolor": "#506784",
            "ticks": ""
           },
           "bgcolor": "rgb(17,17,17)",
           "radialaxis": {
            "gridcolor": "#506784",
            "linecolor": "#506784",
            "ticks": ""
           }
          },
          "scene": {
           "xaxis": {
            "backgroundcolor": "rgb(17,17,17)",
            "gridcolor": "#506784",
            "gridwidth": 2,
            "linecolor": "#506784",
            "showbackground": true,
            "ticks": "",
            "zerolinecolor": "#C8D4E3"
           },
           "yaxis": {
            "backgroundcolor": "rgb(17,17,17)",
            "gridcolor": "#506784",
            "gridwidth": 2,
            "linecolor": "#506784",
            "showbackground": true,
            "ticks": "",
            "zerolinecolor": "#C8D4E3"
           },
           "zaxis": {
            "backgroundcolor": "rgb(17,17,17)",
            "gridcolor": "#506784",
            "gridwidth": 2,
            "linecolor": "#506784",
            "showbackground": true,
            "ticks": "",
            "zerolinecolor": "#C8D4E3"
           }
          },
          "shapedefaults": {
           "line": {
            "color": "#f2f5fa"
           }
          },
          "sliderdefaults": {
           "bgcolor": "#C8D4E3",
           "bordercolor": "rgb(17,17,17)",
           "borderwidth": 1,
           "tickwidth": 0
          },
          "ternary": {
           "aaxis": {
            "gridcolor": "#506784",
            "linecolor": "#506784",
            "ticks": ""
           },
           "baxis": {
            "gridcolor": "#506784",
            "linecolor": "#506784",
            "ticks": ""
           },
           "bgcolor": "rgb(17,17,17)",
           "caxis": {
            "gridcolor": "#506784",
            "linecolor": "#506784",
            "ticks": ""
           }
          },
          "title": {
           "x": 0.05
          },
          "updatemenudefaults": {
           "bgcolor": "#506784",
           "borderwidth": 0
          },
          "xaxis": {
           "automargin": true,
           "gridcolor": "#283442",
           "linecolor": "#506784",
           "ticks": "",
           "title": {
            "standoff": 15
           },
           "zerolinecolor": "#283442",
           "zerolinewidth": 2
          },
          "yaxis": {
           "automargin": true,
           "gridcolor": "#283442",
           "linecolor": "#506784",
           "ticks": "",
           "title": {
            "standoff": 15
           },
           "zerolinecolor": "#283442",
           "zerolinewidth": 2
          }
         }
        },
        "title": {
         "font": {
          "size": 20
         },
         "text": "UAV Spatial Deployment",
         "x": 0.5
        }
       }
      }
     },
     "metadata": {},
     "output_type": "display_data"
    }
   ],
   "source": [
    "plot_UAV_FLPO(START_locs, END_locs, F_base, (4,3))\n",
    "plot_UAV_FLPO_3D(START_locs, END_locs, F_base)"
   ]
  },
  {
   "cell_type": "markdown",
   "metadata": {},
   "source": [
    "### Plot free energy during annealing implementation"
   ]
  },
  {
   "cell_type": "code",
   "execution_count": 9,
   "metadata": {},
   "outputs": [
    {
     "data": {
      "image/png": "[encoded data removed]",
      "text/plain": [
       "<Figure size 1000x300 with 1 Axes>"
      ]
     },
     "metadata": {},
     "output_type": "display_data"
    }
   ],
   "source": [
    "# plot free energy evolution\n",
    "plt.figure(figsize=(10,3))\n",
    "plt.plot(np.log(b_arr)/np.log(10), F_arr, marker='.')\n",
    "plt.ylabel(rf'$F$')\n",
    "plt.xlabel(rf'$\\log_{{10}}\\beta$')\n",
    "plt.grid()\n",
    "plt.show()"
   ]
  }
 ],
 "metadata": {
  "kernelspec": {
   "display_name": "Python 3",
   "language": "python",
   "name": "python3"
  },
  "language_info": {
   "codemirror_mode": {
    "name": "ipython",
    "version": 3
   },
   "file_extension": ".py",
   "mimetype": "text/x-python",
   "name": "python",
   "nbconvert_exporter": "python",
   "pygments_lexer": "ipython3",
   "version": "3.10.0"
  }
 },
 "nbformat": 4,
 "nbformat_minor": 2
}
