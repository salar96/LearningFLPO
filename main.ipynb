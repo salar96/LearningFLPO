{
 "cells": [
  {
   "cell_type": "markdown",
   "metadata": {},
   "source": [
    "# Learning FLPO"
   ]
  },
  {
   "cell_type": "markdown",
   "metadata": {},
   "source": [
    "In this code, we will implement the hierarchical ML architecture to predict the parameters in the FLPO setup."
   ]
  },
  {
   "cell_type": "code",
   "execution_count": 8,
   "metadata": {},
   "outputs": [],
   "source": [
    "import torch\n",
    "from VRP_Net_L import VRPNet_L\n",
    "from matplotlib import pyplot as plt\n",
    "import utils\n",
    "import os\n",
    "import matplotlib.pyplot as plt\n",
    "from torchinfo import summary\n",
    "import numpy as np\n",
    "import time\n",
    "import LSE_net\n",
    "from torch import optim\n",
    "import importlib"
   ]
  },
  {
   "cell_type": "markdown",
   "metadata": {},
   "source": [
    "# Loading the Data"
   ]
  },
  {
   "cell_type": "code",
   "execution_count": 9,
   "metadata": {},
   "outputs": [
    {
     "data": {
      "text/plain": [
       "tensor([0.3419, 0.4122])"
      ]
     },
     "execution_count": 9,
     "metadata": {},
     "output_type": "execute_result"
    }
   ],
   "source": [
    "torch.normal(mean=torch.tensor([0.3,0.3]), std=torch.tensor([0.1,0.1]))"
   ]
  },
  {
   "cell_type": "code",
   "execution_count": 10,
   "metadata": {},
   "outputs": [
    {
     "name": "stdout",
     "output_type": "stream",
     "text": [
      "Running on:  cpu\n",
      "Data Loaded.\n"
     ]
    }
   ],
   "source": [
    "\n",
    "seed=42;\n",
    "torch.manual_seed(seed)\n",
    "torch.cuda.manual_seed(seed)\n",
    "torch.cuda.manual_seed_all(seed)\n",
    "device = torch.device('cuda') if torch.cuda.is_available() else torch.device('cpu')\n",
    "print(\"Running on: \" , device)\n",
    "num_drones = 100 # number of FLPO instances\n",
    "num_facilities = 4 \n",
    "dim_ = 2\n",
    "# START and END locations: no grads needed\n",
    "nd_per_cluster = int(num_drones/2)\n",
    "means1 = torch.tensor([[0.4,0.7]]).repeat(nd_per_cluster,1).unsqueeze(1).to(device)\n",
    "std1 = torch.tensor([[0.05,0.05]]).repeat(nd_per_cluster,1).unsqueeze(1).to(device)\n",
    "means2 = torch.tensor([[0.7,0.3]]).repeat(nd_per_cluster,1).unsqueeze(1).to(device)\n",
    "std2 = torch.tensor([[0.05,0.05]]).repeat(nd_per_cluster,1).unsqueeze(1).to(device)\n",
    "START_locs1 = torch.normal(mean=means1, std=std1)\n",
    "START_locs2 = torch.normal(mean=means2, std=std2)\n",
    "START_locs = torch.cat((START_locs1, START_locs2), axis=0)\n",
    "END_locs   = torch.ones((num_drones, 1, dim_), requires_grad=False, device=device)#torch.rand(num_drones, 1, dim_, requires_grad=False, device=device)\n",
    "\n",
    "# Facility locations: we want grads here\n",
    "# We create a base tensor with requires_grad=True, then expand it\n",
    "# F_base = torch.rand(1, num_facilities, dim_, requires_grad=True, device=device)\n",
    "F_base = torch.mean(START_locs, dim=0).repeat(num_facilities, 1).unsqueeze(0).requires_grad_().to(device)\n",
    "F_locs = F_base.expand(num_drones, -1, -1)  # view, shares grad with F_base\n",
    "data = torch.cat((START_locs, F_locs, END_locs), dim=1)  # shape: (Nd, Nf+2, D)\n",
    "print(\"Data Loaded.\")\n"
   ]
  },
  {
   "cell_type": "markdown",
   "metadata": {},
   "source": [
    "### Compute n_routes from each drone"
   ]
  },
  {
   "cell_type": "code",
   "execution_count": 11,
   "metadata": {},
   "outputs": [
    {
     "name": "stdout",
     "output_type": "stream",
     "text": [
      "n_routes:\ttorch.Size([100, 1])\n",
      "tensor([[341.],\n",
      "        [341.],\n",
      "        [341.],\n",
      "        [341.],\n",
      "        [341.],\n",
      "        [341.],\n",
      "        [341.],\n",
      "        [341.],\n",
      "        [341.],\n",
      "        [341.],\n",
      "        [341.],\n",
      "        [341.],\n",
      "        [341.],\n",
      "        [341.],\n",
      "        [341.],\n",
      "        [341.],\n",
      "        [341.],\n",
      "        [341.],\n",
      "        [341.],\n",
      "        [341.],\n",
      "        [341.],\n",
      "        [341.],\n",
      "        [341.],\n",
      "        [341.],\n",
      "        [341.],\n",
      "        [341.],\n",
      "        [341.],\n",
      "        [341.],\n",
      "        [341.],\n",
      "        [341.],\n",
      "        [341.],\n",
      "        [341.],\n",
      "        [341.],\n",
      "        [341.],\n",
      "        [341.],\n",
      "        [341.],\n",
      "        [341.],\n",
      "        [341.],\n",
      "        [341.],\n",
      "        [341.],\n",
      "        [341.],\n",
      "        [341.],\n",
      "        [341.],\n",
      "        [341.],\n",
      "        [341.],\n",
      "        [341.],\n",
      "        [341.],\n",
      "        [341.],\n",
      "        [341.],\n",
      "        [341.],\n",
      "        [341.],\n",
      "        [341.],\n",
      "        [341.],\n",
      "        [341.],\n",
      "        [341.],\n",
      "        [341.],\n",
      "        [341.],\n",
      "        [341.],\n",
      "        [341.],\n",
      "        [341.],\n",
      "        [341.],\n",
      "        [341.],\n",
      "        [341.],\n",
      "        [341.],\n",
      "        [341.],\n",
      "        [341.],\n",
      "        [341.],\n",
      "        [341.],\n",
      "        [341.],\n",
      "        [341.],\n",
      "        [341.],\n",
      "        [341.],\n",
      "        [341.],\n",
      "        [341.],\n",
      "        [341.],\n",
      "        [341.],\n",
      "        [341.],\n",
      "        [341.],\n",
      "        [341.],\n",
      "        [341.],\n",
      "        [341.],\n",
      "        [341.],\n",
      "        [341.],\n",
      "        [341.],\n",
      "        [341.],\n",
      "        [341.],\n",
      "        [341.],\n",
      "        [341.],\n",
      "        [341.],\n",
      "        [341.],\n",
      "        [341.],\n",
      "        [341.],\n",
      "        [341.],\n",
      "        [341.],\n",
      "        [341.],\n",
      "        [341.],\n",
      "        [341.],\n",
      "        [341.],\n",
      "        [341.],\n",
      "        [341.]])\n",
      "log_n_routes:\ttorch.Size([100, 1])\n",
      "tensor([[5.8319],\n",
      "        [5.8319],\n",
      "        [5.8319],\n",
      "        [5.8319],\n",
      "        [5.8319],\n",
      "        [5.8319],\n",
      "        [5.8319],\n",
      "        [5.8319],\n",
      "        [5.8319],\n",
      "        [5.8319],\n",
      "        [5.8319],\n",
      "        [5.8319],\n",
      "        [5.8319],\n",
      "        [5.8319],\n",
      "        [5.8319],\n",
      "        [5.8319],\n",
      "        [5.8319],\n",
      "        [5.8319],\n",
      "        [5.8319],\n",
      "        [5.8319],\n",
      "        [5.8319],\n",
      "        [5.8319],\n",
      "        [5.8319],\n",
      "        [5.8319],\n",
      "        [5.8319],\n",
      "        [5.8319],\n",
      "        [5.8319],\n",
      "        [5.8319],\n",
      "        [5.8319],\n",
      "        [5.8319],\n",
      "        [5.8319],\n",
      "        [5.8319],\n",
      "        [5.8319],\n",
      "        [5.8319],\n",
      "        [5.8319],\n",
      "        [5.8319],\n",
      "        [5.8319],\n",
      "        [5.8319],\n",
      "        [5.8319],\n",
      "        [5.8319],\n",
      "        [5.8319],\n",
      "        [5.8319],\n",
      "        [5.8319],\n",
      "        [5.8319],\n",
      "        [5.8319],\n",
      "        [5.8319],\n",
      "        [5.8319],\n",
      "        [5.8319],\n",
      "        [5.8319],\n",
      "        [5.8319],\n",
      "        [5.8319],\n",
      "        [5.8319],\n",
      "        [5.8319],\n",
      "        [5.8319],\n",
      "        [5.8319],\n",
      "        [5.8319],\n",
      "        [5.8319],\n",
      "        [5.8319],\n",
      "        [5.8319],\n",
      "        [5.8319],\n",
      "        [5.8319],\n",
      "        [5.8319],\n",
      "        [5.8319],\n",
      "        [5.8319],\n",
      "        [5.8319],\n",
      "        [5.8319],\n",
      "        [5.8319],\n",
      "        [5.8319],\n",
      "        [5.8319],\n",
      "        [5.8319],\n",
      "        [5.8319],\n",
      "        [5.8319],\n",
      "        [5.8319],\n",
      "        [5.8319],\n",
      "        [5.8319],\n",
      "        [5.8319],\n",
      "        [5.8319],\n",
      "        [5.8319],\n",
      "        [5.8319],\n",
      "        [5.8319],\n",
      "        [5.8319],\n",
      "        [5.8319],\n",
      "        [5.8319],\n",
      "        [5.8319],\n",
      "        [5.8319],\n",
      "        [5.8319],\n",
      "        [5.8319],\n",
      "        [5.8319],\n",
      "        [5.8319],\n",
      "        [5.8319],\n",
      "        [5.8319],\n",
      "        [5.8319],\n",
      "        [5.8319],\n",
      "        [5.8319],\n",
      "        [5.8319],\n",
      "        [5.8319],\n",
      "        [5.8319],\n",
      "        [5.8319],\n",
      "        [5.8319],\n",
      "        [5.8319]])\n"
     ]
    }
   ],
   "source": [
    "importlib.reload(utils)\n",
    "n_drone_routes = torch.tensor(utils.num_flpo_routes(num_facilities, num_drones)[0], dtype=torch.float32).view(-1,1).to(device)\n",
    "print(f\"n_routes:\\t{n_drone_routes.shape}\\n{n_drone_routes}\\nlog_n_routes:\\t{n_drone_routes.shape}\\n{torch.log(n_drone_routes)}\")"
   ]
  },
  {
   "cell_type": "markdown",
   "metadata": {},
   "source": [
    "# Loading the VRP NET Module"
   ]
  },
  {
   "cell_type": "code",
   "execution_count": 12,
   "metadata": {},
   "outputs": [
    {
     "name": "stdout",
     "output_type": "stream",
     "text": [
      "VRP NET loaded on:  cpu\n",
      "===============================================================================================\n",
      "Layer (type:depth-idx)                                                 Param #\n",
      "===============================================================================================\n",
      "VRPNet_L                                                               --\n",
      "├─LinearAttnEncoder: 1-1                                               2,560\n",
      "│    └─MultiheadAttention: 2-1                                         197,376\n",
      "│    │    └─NonDynamicallyQuantizableLinear: 3-1                       65,792\n",
      "│    └─Linear: 2-2                                                     768\n",
      "│    └─Linear: 2-3                                                     8,224\n",
      "│    └─LayerNorm: 2-4                                                  512\n",
      "│    └─Dropout: 2-5                                                    --\n",
      "│    └─ReLU: 2-6                                                       --\n",
      "├─Decoder: 1-2                                                         --\n",
      "│    └─TransformerDecoder: 2-7                                         --\n",
      "│    │    └─ModuleList: 3-2                                            16,992\n",
      "├─PositionalEncoding: 1-3                                              --\n",
      "===============================================================================================\n",
      "Total params: 292,224\n",
      "Trainable params: 292,224\n",
      "Non-trainable params: 0\n",
      "===============================================================================================\n"
     ]
    }
   ],
   "source": [
    "hidden_dim = 32\n",
    "num_layers_enc = 1\n",
    "num_layers_dec = 1\n",
    "num_heads = 8\n",
    "torch.cuda.empty_cache()\n",
    "vrp_net = VRPNet_L(dim_, hidden_dim, device, num_layers_enc, num_layers_dec, num_heads)\n",
    "if torch.cuda.is_available():\n",
    "    vrp_net.load_state_dict(torch.load('Saved models/POMO2025_04_12 00_54_260.6350972652435303best_model.pth',weights_only=True))\n",
    "else:\n",
    "    vrp_net.load_state_dict(torch.load('Saved models/POMO2025_04_12 00_54_260.6350972652435303best_model.pth',weights_only=False, map_location=torch.device('cpu')))\n",
    "vrp_net.eval()\n",
    "\n",
    "# for param in vrp_net.parameters():\n",
    "#     param.requires_grad = False\n",
    "print('VRP NET loaded on: ',vrp_net.device)\n",
    "print(summary(vrp_net))"
   ]
  },
  {
   "cell_type": "markdown",
   "metadata": {},
   "source": [
    "# Loading lseNet"
   ]
  },
  {
   "cell_type": "code",
   "execution_count": 13,
   "metadata": {},
   "outputs": [
    {
     "name": "stdout",
     "output_type": "stream",
     "text": [
      "n_inputs: 3\n",
      "n_outputs: 1\n",
      "layers: [20, 20, 10]\n",
      "io_scale: 1\n",
      "LSE_net:\n",
      "=================================================================\n",
      "Layer (type:depth-idx)                   Param #\n",
      "=================================================================\n",
      "dnn                                      --\n",
      "├─ModuleList: 1-1                        --\n",
      "│    └─Linear: 2-1                       (80)\n",
      "│    └─ReLU: 2-2                         --\n",
      "│    └─Linear: 2-3                       (420)\n",
      "│    └─ReLU: 2-4                         --\n",
      "│    └─Linear: 2-5                       (210)\n",
      "│    └─ReLU: 2-6                         --\n",
      "│    └─Linear: 2-7                       (11)\n",
      "=================================================================\n",
      "Total params: 721\n",
      "Trainable params: 0\n",
      "Non-trainable params: 721\n",
      "=================================================================\n"
     ]
    }
   ],
   "source": [
    "\n",
    "lse_data = torch.load('logSumExp_models/lse_2025_4_17__15_56_48.pth', weights_only=False)\n",
    "n_inputs = lse_data['n_inputs']\n",
    "n_outputs = lse_data['n_outputs']\n",
    "layers = lse_data['layers']\n",
    "weights = lse_data['model_state_dict']\n",
    "io_scale = lse_data['io_scale']\n",
    "lse_net = LSE_net.dnn(n_inputs, n_outputs, layers)\n",
    "lse_net.to(device)\n",
    "lse_net.load_state_dict(weights)\n",
    "lse_net.eval()\n",
    "for p in lse_net.parameters():\n",
    "    p.requires_grad = False\n",
    "print(f'n_inputs: {n_inputs}\\nn_outputs: {n_outputs}\\nlayers: {layers}\\nio_scale: {io_scale}\\nLSE_net:\\n{summary(lse_net)}')"
   ]
  },
  {
   "cell_type": "code",
   "execution_count": 19,
   "metadata": {},
   "outputs": [
    {
     "name": "stdout",
     "output_type": "stream",
     "text": [
      "beta:1.000e-02\n",
      "\tEpoch: 0\tVRP_runtime: 0.02s\tFreeEnergy: -225.31\tF_Grad: 2.330e-01\td_min_mean: 0.20\n",
      "\tEpoch: 50\tVRP_runtime: 0.01s\tFreeEnergy: -225.30\tF_Grad: 1.870e-01\td_min_mean: 0.23\n",
      "\tEpoch: 100\tVRP_runtime: 0.01s\tFreeEnergy: -225.31\tF_Grad: 8.641e-02\td_min_mean: 0.21\n",
      "\tEpoch: 150\tVRP_runtime: 0.01s\tFreeEnergy: -225.30\tF_Grad: 2.508e-01\td_min_mean: 0.22\n",
      "\tEpoch: 199\tVRP_runtime: 0.01s\tFreeEnergy: -225.27\tF_Grad: 2.784e-01\td_min_mean: 0.29\n",
      "beta:2.000e-02\n",
      "\tEpoch: 0\tVRP_runtime: 0.01s\tFreeEnergy: -225.27\tF_Grad: 2.802e-01\td_min_mean: 0.28\n",
      "\tEpoch: 50\tVRP_runtime: 0.01s\tFreeEnergy: -225.30\tF_Grad: 1.397e-01\td_min_mean: 0.23\n",
      "\tEpoch: 100\tVRP_runtime: 0.01s\tFreeEnergy: -225.29\tF_Grad: 2.139e-01\td_min_mean: 0.24\n",
      "\tEpoch: 150\tVRP_runtime: 0.01s\tFreeEnergy: -225.32\tF_Grad: 1.978e-01\td_min_mean: 0.19\n",
      "\tEpoch: 199\tVRP_runtime: 0.01s\tFreeEnergy: -225.32\tF_Grad: 1.940e-01\td_min_mean: 0.20\n"
     ]
    }
   ],
   "source": [
    "num_epochs = 200;\n",
    "optimizer = optim.Adam([F_base], lr=1e-3)\n",
    "# b_arr = torch.tensor(lse_data['b_arr'], dtype=torch.float32)\n",
    "# len_Darray = torch.tensor(lse_data['len_Darray'], dtype=torch.float32)\n",
    "io_scale = lse_data['io_scale']\n",
    "b_min = 0.01\n",
    "b_max = 0.01\n",
    "b_grow = 2\n",
    "b_array = utils.createBetaArray(b_min, b_max, b_grow).to(device)\n",
    "\n",
    "# beta=b_min\n",
    "for beta in b_array:\n",
    "    print(f\"beta:{beta:.3e}\")\n",
    "    for epoch in range(num_epochs):\n",
    "        s = time.time()\n",
    "        with torch.no_grad():\n",
    "            # forward pass: no activations are saved for grad\n",
    "            _, actions = vrp_net(data, mod='eval_greedy')\n",
    "        e = time.time()\n",
    "        actions.detach()\n",
    "        d_mins = utils.route_cost(data, actions)\n",
    "        torch.cuda.empty_cache()\n",
    "        In = torch.cat((torch.ones(\n",
    "            (num_drones,1)).to(device)*(-io_scale/b_min*torch.log(n_drone_routes)).to(device), \n",
    "            io_scale*d_mins.view(-1,1), \n",
    "            torch.ones((num_drones,1)).to(device)*beta.to(device)), axis=1) #, torch.ones((num_drones,1)).to(device)*b_min.to(device)),axis=1)\n",
    "        Out = lse_net(In)/io_scale - 0.0*(1/beta * torch.log(n_drone_routes)).to(device) + d_mins.view(-1,1)\n",
    "        FreeEnergy = torch.mean(Out)\n",
    "        \n",
    "        # print(torch.norm(data))\n",
    "        optimizer.zero_grad()\n",
    "        FreeEnergy.backward()\n",
    "        optimizer.step()\n",
    "        # perturb and update facility location data for each drone\n",
    "        std1 = torch.tensor([[0.05,0.05]]).repeat(nd_per_cluster,1).unsqueeze(1).to(device)\n",
    "        with torch.no_grad():\n",
    "            F_base += torch.normal(mean=torch.zeros(1,num_facilities,dim_), std=0.01*torch.ones(1,num_facilities,dim_)).to(device)\n",
    "        # print(F_base)\n",
    "        F_locs = F_base.expand(num_drones, -1, -1)\n",
    "        # print(F_locs)\n",
    "        data = torch.cat((START_locs, F_locs, END_locs), dim=1)\n",
    "        if epoch % 50 == 0 or epoch == num_epochs-1:\n",
    "            print(f\"\\tEpoch: {epoch}\\tVRP_runtime: {e-s:.2f}s\\tFreeEnergy: {FreeEnergy:.2f}\\tF_Grad: {torch.max(torch.abs(F_base.grad)):.3e}\\td_min_mean: {torch.mean(d_mins):.2f}\")\n",
    "    # update annealing parameter\n",
    "    beta = beta * b_grow\n",
    "    \n"
   ]
  },
  {
   "cell_type": "markdown",
   "metadata": {},
   "source": [
    "# Plotting some results"
   ]
  },
  {
   "cell_type": "code",
   "execution_count": 8,
   "metadata": {},
   "outputs": [
    {
     "data": {
      "text/plain": [
       "<matplotlib.collections.PathCollection at 0x312d6caf0>"
      ]
     },
     "execution_count": 8,
     "metadata": {},
     "output_type": "execute_result"
    },
    {
     "data": {
      "image/png": "[encoded data removed]",
      "text/plain": [
       "<Figure size 640x480 with 1 Axes>"
      ]
     },
     "metadata": {},
     "output_type": "display_data"
    }
   ],
   "source": [
    "start_locs = START_locs.squeeze(1).cpu().numpy()\n",
    "plt.scatter(start_locs[:,0],start_locs[:,1],color='cyan',marker='.')\n",
    "end_locs = END_locs.squeeze(1).cpu().numpy()\n",
    "plt.scatter(end_locs[:,0],end_locs[:,1],color='red',marker='.')\n",
    "f_locs = F_base.squeeze(0).detach().cpu().numpy()\n",
    "plt.scatter(f_locs[:,0],f_locs[:,1],color='black',marker='^')"
   ]
  },
  {
   "cell_type": "markdown",
   "metadata": {},
   "source": [
    "# Calculating the gradients"
   ]
  },
  {
   "cell_type": "markdown",
   "metadata": {},
   "source": [
    "The output of this block shoud be dF/dy"
   ]
  },
  {
   "cell_type": "markdown",
   "metadata": {},
   "source": [
    "First calculate $\\frac{\\partial F}{\\partial d_{min}}$ (code in progress)"
   ]
  },
  {
   "cell_type": "code",
   "execution_count": 63,
   "metadata": {},
   "outputs": [
    {
     "name": "stderr",
     "output_type": "stream",
     "text": [
      "/var/folders/sh/ndxykdmj1q9cwr2kpvkvcbs80000gn/T/ipykernel_89473/1274708057.py:11: UserWarning: The .grad attribute of a Tensor that is not a leaf Tensor is being accessed. Its .grad attribute won't be populated during autograd.backward(). If you indeed want the .grad field to be populated for a non-leaf Tensor, use .retain_grad() on the non-leaf Tensor. If you access the non-leaf Tensor by mistake, make sure you access the leaf Tensor instead. See github.com/pytorch/pytorch/pull/30531 for more informations. (Triggered internally at /Users/runner/work/pytorch/pytorch/pytorch/build/aten/src/ATen/core/TensorBody.h:494.)\n",
      "  d_mins_torch.grad\n"
     ]
    }
   ],
   "source": [
    "# fix beta\n",
    "b = np.random.choice(b_arr)\n",
    "d_mins_torch = torch.tensor(d_mins, dtype=torch.float32, requires_grad=True).view(-1,1)\n",
    "const_bmin = -io_scale/b_arr[0] * np.log(len_Darray) * torch.ones(len(d_mins), dtype=torch.float32).view(-1,1)\n",
    "const_b = b * torch.ones(len(d_mins), dtype=torch.float32).view(-1,1)\n",
    "In = torch.concatenate((const_bmin, d_mins_torch, const_b), axis=1)\n",
    "Out = lse_net(In)\n",
    "# print(Out)\n",
    "Out[0].retain_grad()\n",
    "Out[0].backward()\n",
    "d_mins_torch.grad"
   ]
  },
  {
   "cell_type": "markdown",
   "metadata": {},
   "source": [
    "# Running CLF to determin Y"
   ]
  },
  {
   "cell_type": "markdown",
   "metadata": {},
   "source": [
    "The GD code here"
   ]
  },
  {
   "cell_type": "markdown",
   "metadata": {},
   "source": [
    "# Closing the Beta Loop for Annealing"
   ]
  },
  {
   "cell_type": "markdown",
   "metadata": {},
   "source": []
  },
  {
   "cell_type": "code",
   "execution_count": 30,
   "metadata": {},
   "outputs": [
    {
     "name": "stdout",
     "output_type": "stream",
     "text": [
      "tensor([ True, False, False, False, False,  True, False, False, False, False,\n",
      "         True, False, False, False, False,  True, False, False, False, False])\n",
      "Original: tensor([ 0,  1,  2,  3,  4,  5,  6,  7,  8,  9, 10, 11, 12, 13, 14, 15, 16, 17,\n",
      "        18, 19])\n",
      "Filtered: tensor([ 0,  5, 10, 15])\n"
     ]
    }
   ],
   "source": [
    "import torch\n",
    "\n",
    "x = torch.arange(20)  # Just an example tensor: [0, 1, 2, ..., 19]\n",
    "\n",
    "# Create a mask to skip every 5th element\n",
    "mask = torch.zeros(len(x), dtype=bool)\n",
    "mask[0::5] = True  # Set every 5th element to False\n",
    "print(mask)\n",
    "result = x[mask]\n",
    "\n",
    "print(\"Original:\", x)\n",
    "print(\"Filtered:\", result)\n"
   ]
  }
 ],
 "metadata": {
  "kernelspec": {
   "display_name": "Python 3",
   "language": "python",
   "name": "python3"
  },
  "language_info": {
   "codemirror_mode": {
    "name": "ipython",
    "version": 3
   },
   "file_extension": ".py",
   "mimetype": "text/x-python",
   "name": "python",
   "nbconvert_exporter": "python",
   "pygments_lexer": "ipython3",
   "version": "3.9.6"
  }
 },
 "nbformat": 4,
 "nbformat_minor": 2
}
