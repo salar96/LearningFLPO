{
 "cells": [
  {
   "cell_type": "markdown",
   "metadata": {},
   "source": [
    "# Learning FLPO"
   ]
  },
  {
   "cell_type": "markdown",
   "metadata": {},
   "source": [
    "In this code, we will implement the hierarchical ML architecture to predict the parameters in the FLPO setup."
   ]
  },
  {
   "cell_type": "code",
   "execution_count": null,
   "metadata": {},
   "outputs": [],
   "source": [
    "import torch\n",
    "from VRP_Net_L import VRPNet_L\n",
    "from matplotlib import pyplot as plt\n",
    "from utils import *\n",
    "import os\n",
    "import matplotlib.pyplot as plt\n",
    "from torchinfo import summary\n",
    "import numpy as np\n",
    "import time\n",
    "from torch import optim"
   ]
  },
  {
   "cell_type": "markdown",
   "metadata": {},
   "source": [
    "# Loading the Data"
   ]
  },
  {
   "cell_type": "code",
   "execution_count": 2,
   "metadata": {},
   "outputs": [
    {
     "name": "stdout",
     "output_type": "stream",
     "text": [
      "Running on:  cuda\n",
      "Data Loaded.\n"
     ]
    }
   ],
   "source": [
    "\n",
    "seed=42;\n",
    "torch.manual_seed(seed)\n",
    "torch.cuda.manual_seed(seed)\n",
    "torch.cuda.manual_seed_all(seed)\n",
    "device = torch.device('cuda') if torch.cuda.is_available() else torch.device('cpu')\n",
    "print(\"Running on: \" , device)\n",
    "num_drones = 100 # number of FLPO instances\n",
    "num_facilities = 500\n",
    "dim_ = 2\n",
    "# START and END locations: no grads needed\n",
    "START_locs = torch.rand(num_drones, 1, dim_, requires_grad=False, device=device)\n",
    "END_locs   = torch.rand(num_drones, 1, dim_, requires_grad=False, device=device)\n",
    "\n",
    "# Facility locations: we want grads here\n",
    "# We create a base tensor with requires_grad=True, then expand it\n",
    "F_base = torch.rand(1, num_facilities, dim_, requires_grad=True, device=device)\n",
    "F_locs = F_base.expand(num_drones, -1, -1)  # view, shares grad with F_base\n",
    "data = torch.cat((START_locs, F_locs, END_locs), dim=1)  # shape: (Nd, Nf+2, D)\n",
    "print(\"Data Loaded.\")\n"
   ]
  },
  {
   "cell_type": "markdown",
   "metadata": {},
   "source": [
    "# Loading the VRP NET Module"
   ]
  },
  {
   "cell_type": "code",
   "execution_count": 3,
   "metadata": {},
   "outputs": [
    {
     "name": "stdout",
     "output_type": "stream",
     "text": [
      "VRP NET loaded on:  cuda\n",
      "===============================================================================================\n",
      "Layer (type:depth-idx)                                                 Param #\n",
      "===============================================================================================\n",
      "VRPNet_L                                                               --\n",
      "├─LinearAttnEncoder: 1-1                                               2,560\n",
      "│    └─MultiheadAttention: 2-1                                         197,376\n",
      "│    │    └─NonDynamicallyQuantizableLinear: 3-1                       65,792\n",
      "│    └─Linear: 2-2                                                     768\n",
      "│    └─Linear: 2-3                                                     8,224\n",
      "│    └─LayerNorm: 2-4                                                  512\n",
      "│    └─Dropout: 2-5                                                    --\n",
      "│    └─ReLU: 2-6                                                       --\n",
      "├─Decoder: 1-2                                                         --\n",
      "│    └─TransformerDecoder: 2-7                                         --\n",
      "│    │    └─ModuleList: 3-2                                            16,992\n",
      "├─PositionalEncoding: 1-3                                              --\n",
      "===============================================================================================\n",
      "Total params: 292,224\n",
      "Trainable params: 292,224\n",
      "Non-trainable params: 0\n",
      "===============================================================================================\n"
     ]
    }
   ],
   "source": [
    "hidden_dim = 32\n",
    "num_layers_enc = 1\n",
    "num_layers_dec = 1\n",
    "num_heads = 8\n",
    "torch.cuda.empty_cache()\n",
    "vrp_net = VRPNet_L(dim_, hidden_dim, device, num_layers_enc, num_layers_dec, num_heads)\n",
    "vrp_net.load_state_dict(torch.load('Saved models/POMO2025_03_28 19_45_231.101370930671692best_model.pth',weights_only=True))\n",
    "vrp_net.eval()\n",
    "\n",
    "# for param in vrp_net.parameters():\n",
    "#     param.requires_grad = False\n",
    "print('VRP NET loaded on: ',vrp_net.device)\n",
    "print(summary(vrp_net))"
   ]
  },
  {
   "cell_type": "markdown",
   "metadata": {},
   "source": [
    "# Generating d_min"
   ]
  },
  {
   "cell_type": "code",
   "execution_count": 44,
   "metadata": {},
   "outputs": [
    {
     "name": "stdout",
     "output_type": "stream",
     "text": [
      "Time: 4.58s\n",
      "tensor([0.0415, 2.6687, 2.4110, 2.3447, 2.5296, 2.5189, 0.8092, 0.1869, 0.7044,\n",
      "        2.3178, 1.8981, 3.4951, 2.5454, 0.0719, 0.3187, 3.3989, 2.5723, 0.3299,\n",
      "        1.3470, 0.9555, 1.6029, 1.0371, 0.3269, 0.4108, 2.1969, 0.6331, 0.9852,\n",
      "        0.8339, 2.6408, 2.0714, 3.2424, 0.3746, 2.4443, 0.3428, 1.5078, 0.2086,\n",
      "        2.1435, 3.6214, 2.3391, 2.5481, 0.5070, 1.4093, 3.5332, 1.7715, 2.7245,\n",
      "        0.7523, 0.7124, 1.1901, 2.1854, 0.6041, 2.0345, 0.8130, 3.6162, 0.3967,\n",
      "        0.6948, 3.3399, 0.6180, 0.0308, 2.3670, 2.4885, 0.4342, 0.1336, 0.5692,\n",
      "        1.7286, 0.1112, 0.1873, 0.8573, 1.9137, 2.2196, 1.8206, 0.2638, 0.6185,\n",
      "        2.4196, 0.4128, 0.7338, 1.6731, 1.2428, 0.4067, 1.0655, 1.0202, 1.9492,\n",
      "        2.4874, 0.2882, 1.5001, 0.2049, 1.1155, 0.0829, 1.6937, 0.3063, 3.4723,\n",
      "        1.3522, 0.4058, 2.9228, 1.6015, 0.3911, 0.6516, 2.5834, 1.5128, 2.2863,\n",
      "        2.8225], device='cuda:0', grad_fn=<SumBackward1>)\n"
     ]
    }
   ],
   "source": [
    "\n",
    "s = time.time()\n",
    "with torch.no_grad():\n",
    "    # forward pass: no activations are saved for grad\n",
    "    _, actions = vrp_net(data, mod='eval_greedy')\n",
    "print(f\"Time: {time.time()-s:.2f}s\", )\n",
    "actions.detach()\n",
    "d_mins = route_cost(data,actions)\n",
    "\n",
    "print(d_mins)\n",
    "torch.cuda.empty_cache()\n"
   ]
  },
  {
   "cell_type": "code",
   "execution_count": 13,
   "metadata": {},
   "outputs": [
    {
     "data": {
      "text/plain": [
       "True"
      ]
     },
     "execution_count": 13,
     "metadata": {},
     "output_type": "execute_result"
    }
   ],
   "source": [
    "d_mins.requires_grad"
   ]
  },
  {
   "cell_type": "code",
   "execution_count": 14,
   "metadata": {},
   "outputs": [
    {
     "data": {
      "text/plain": [
       "torch.Size([100])"
      ]
     },
     "execution_count": 14,
     "metadata": {},
     "output_type": "execute_result"
    }
   ],
   "source": [
    "d_mins.shape"
   ]
  },
  {
   "cell_type": "code",
   "execution_count": 15,
   "metadata": {},
   "outputs": [],
   "source": [
    "# all_samples = torch.zeros(num_data, num_nodes, num_samples).to(device)\n",
    "# for i in range(num_samples):\n",
    "#     _, actions = vrpnet(data, mod='train')\n",
    "#     all_samples[:,:,i:i+1] = actions\n",
    "# opt_sample_indices = []\n"
   ]
  },
  {
   "cell_type": "code",
   "execution_count": 16,
   "metadata": {},
   "outputs": [],
   "source": [
    "# d_mins = np.zeros(num_data)\n",
    "# for data_idx in range(num_data):\n",
    "#     costs_for_data = [route_cost(data[data_idx:data_idx+1], all_samples[data_idx:data_idx+1, :, sample_idx]) for sample_idx in range(num_samples)]\n",
    "#     costs_tensor = torch.tensor(costs_for_data)\n",
    "#     d_min, opt_sample_index = torch.min(costs_tensor, dim=0)  \n",
    "#     opt_sample_indices.append(opt_sample_index.item())\n",
    "#     d_mins[data_idx] = d_min\n",
    "# opt_sample_indices = torch.tensor(opt_sample_indices)\n",
    "# actions = all_samples[torch.arange(num_data),:,opt_sample_indices]\n",
    "# print(\"d_mins for all data are: \",d_mins)"
   ]
  },
  {
   "cell_type": "markdown",
   "metadata": {},
   "source": [
    "# Loading Free Energy Network"
   ]
  },
  {
   "cell_type": "markdown",
   "metadata": {},
   "source": [
    "Dhananjay's code for loading his DNN is here. The output of this block should be Y."
   ]
  },
  {
   "cell_type": "code",
   "execution_count": 22,
   "metadata": {},
   "outputs": [
    {
     "name": "stdout",
     "output_type": "stream",
     "text": [
      "n_inputs:3\tn_outputs:1\tlayers:[20, 10]\n",
      "lse_net:\n",
      "dnn(\n",
      "  (layers): ModuleList(\n",
      "    (0): Linear(in_features=3, out_features=20, bias=True)\n",
      "    (1): ReLU()\n",
      "    (2): Linear(in_features=20, out_features=10, bias=True)\n",
      "    (3): ReLU()\n",
      "    (4): Linear(in_features=10, out_features=1, bias=True)\n",
      "  )\n",
      ")\n",
      "=================================================================\n",
      "Layer (type:depth-idx)                   Param #\n",
      "=================================================================\n",
      "dnn                                      --\n",
      "├─ModuleList: 1-1                        --\n",
      "│    └─Linear: 2-1                       (80)\n",
      "│    └─ReLU: 2-2                         --\n",
      "│    └─Linear: 2-3                       (210)\n",
      "│    └─ReLU: 2-4                         --\n",
      "│    └─Linear: 2-5                       (11)\n",
      "=================================================================\n",
      "Total params: 301\n",
      "Trainable params: 0\n",
      "Non-trainable params: 301\n",
      "=================================================================\n"
     ]
    },
    {
     "name": "stderr",
     "output_type": "stream",
     "text": [
      "C:\\Users\\salar\\AppData\\Local\\Temp\\ipykernel_18476\\843068783.py:2: FutureWarning: You are using `torch.load` with `weights_only=False` (the current default value), which uses the default pickle module implicitly. It is possible to construct malicious pickle data which will execute arbitrary code during unpickling (See https://github.com/pytorch/pytorch/blob/main/SECURITY.md#untrusted-models for more details). In a future release, the default value for `weights_only` will be flipped to `True`. This limits the functions that could be executed during unpickling. Arbitrary objects will no longer be allowed to be loaded via this mode unless they are explicitly allowlisted by the user via `torch.serialization.add_safe_globals`. We recommend you start setting `weights_only=True` for any use case where you don't have full control of the loaded file. Please open an issue on GitHub for any issues related to this experimental feature.\n",
      "  lse_data = torch.load('logSumExp_models/dnn_2543_1624.pth')\n"
     ]
    }
   ],
   "source": [
    "import LSE_net\n",
    "lse_data = torch.load('logSumExp_models/dnn_2543_1624.pth')\n",
    "n_inputs = lse_data['n_inputs']\n",
    "n_outputs = lse_data['n_outputs']\n",
    "layers = lse_data['layers']\n",
    "weights = lse_data['model_state_dict']\n",
    "lse_net = LSE_net.dnn(n_inputs, n_outputs, layers)\n",
    "lse_net.to(device)\n",
    "lse_net.load_state_dict(weights)\n",
    "lse_net.eval()\n",
    "for p in lse_net.parameters():\n",
    "    p.requires_grad = False\n",
    "print(f'n_inputs:{n_inputs}\\tn_outputs:{n_outputs}\\tlayers:{layers}\\nlse_net:\\n{lse_net}')\n",
    "print(summary(lse_net))"
   ]
  },
  {
   "cell_type": "markdown",
   "metadata": {},
   "source": [
    "# Calculating Free Energy"
   ]
  },
  {
   "cell_type": "markdown",
   "metadata": {},
   "source": [
    "Feeding the d_min from Salar Block to get the Free energy"
   ]
  },
  {
   "cell_type": "code",
   "execution_count": 45,
   "metadata": {},
   "outputs": [
    {
     "name": "stdout",
     "output_type": "stream",
     "text": [
      "tensor([[-5.2983e+00,  4.1452e-02,  1.0111e+02],\n",
      "        [-5.2983e+00,  2.6687e+00,  1.0111e+02],\n",
      "        [-5.2983e+00,  2.4110e+00,  1.0111e+02],\n",
      "        [-5.2983e+00,  2.3447e+00,  1.0111e+02],\n",
      "        [-5.2983e+00,  2.5296e+00,  1.0111e+02],\n",
      "        [-5.2983e+00,  2.5189e+00,  1.0111e+02],\n",
      "        [-5.2983e+00,  8.0916e-01,  1.0111e+02],\n",
      "        [-5.2983e+00,  1.8694e-01,  1.0111e+02],\n",
      "        [-5.2983e+00,  7.0439e-01,  1.0111e+02],\n",
      "        [-5.2983e+00,  2.3178e+00,  1.0111e+02],\n",
      "        [-5.2983e+00,  1.8981e+00,  1.0111e+02],\n",
      "        [-5.2983e+00,  3.4951e+00,  1.0111e+02],\n",
      "        [-5.2983e+00,  2.5454e+00,  1.0111e+02],\n",
      "        [-5.2983e+00,  7.1922e-02,  1.0111e+02],\n",
      "        [-5.2983e+00,  3.1868e-01,  1.0111e+02],\n",
      "        [-5.2983e+00,  3.3989e+00,  1.0111e+02],\n",
      "        [-5.2983e+00,  2.5723e+00,  1.0111e+02],\n",
      "        [-5.2983e+00,  3.2992e-01,  1.0111e+02],\n",
      "        [-5.2983e+00,  1.3470e+00,  1.0111e+02],\n",
      "        [-5.2983e+00,  9.5545e-01,  1.0111e+02],\n",
      "        [-5.2983e+00,  1.6029e+00,  1.0111e+02],\n",
      "        [-5.2983e+00,  1.0371e+00,  1.0111e+02],\n",
      "        [-5.2983e+00,  3.2694e-01,  1.0111e+02],\n",
      "        [-5.2983e+00,  4.1078e-01,  1.0111e+02],\n",
      "        [-5.2983e+00,  2.1969e+00,  1.0111e+02],\n",
      "        [-5.2983e+00,  6.3307e-01,  1.0111e+02],\n",
      "        [-5.2983e+00,  9.8515e-01,  1.0111e+02],\n",
      "        [-5.2983e+00,  8.3391e-01,  1.0111e+02],\n",
      "        [-5.2983e+00,  2.6408e+00,  1.0111e+02],\n",
      "        [-5.2983e+00,  2.0714e+00,  1.0111e+02],\n",
      "        [-5.2983e+00,  3.2424e+00,  1.0111e+02],\n",
      "        [-5.2983e+00,  3.7465e-01,  1.0111e+02],\n",
      "        [-5.2983e+00,  2.4443e+00,  1.0111e+02],\n",
      "        [-5.2983e+00,  3.4275e-01,  1.0111e+02],\n",
      "        [-5.2983e+00,  1.5078e+00,  1.0111e+02],\n",
      "        [-5.2983e+00,  2.0858e-01,  1.0111e+02],\n",
      "        [-5.2983e+00,  2.1435e+00,  1.0111e+02],\n",
      "        [-5.2983e+00,  3.6214e+00,  1.0111e+02],\n",
      "        [-5.2983e+00,  2.3391e+00,  1.0111e+02],\n",
      "        [-5.2983e+00,  2.5481e+00,  1.0111e+02],\n",
      "        [-5.2983e+00,  5.0705e-01,  1.0111e+02],\n",
      "        [-5.2983e+00,  1.4093e+00,  1.0111e+02],\n",
      "        [-5.2983e+00,  3.5332e+00,  1.0111e+02],\n",
      "        [-5.2983e+00,  1.7715e+00,  1.0111e+02],\n",
      "        [-5.2983e+00,  2.7245e+00,  1.0111e+02],\n",
      "        [-5.2983e+00,  7.5226e-01,  1.0111e+02],\n",
      "        [-5.2983e+00,  7.1241e-01,  1.0111e+02],\n",
      "        [-5.2983e+00,  1.1901e+00,  1.0111e+02],\n",
      "        [-5.2983e+00,  2.1854e+00,  1.0111e+02],\n",
      "        [-5.2983e+00,  6.0409e-01,  1.0111e+02],\n",
      "        [-5.2983e+00,  2.0345e+00,  1.0111e+02],\n",
      "        [-5.2983e+00,  8.1302e-01,  1.0111e+02],\n",
      "        [-5.2983e+00,  3.6162e+00,  1.0111e+02],\n",
      "        [-5.2983e+00,  3.9675e-01,  1.0111e+02],\n",
      "        [-5.2983e+00,  6.9484e-01,  1.0111e+02],\n",
      "        [-5.2983e+00,  3.3399e+00,  1.0111e+02],\n",
      "        [-5.2983e+00,  6.1797e-01,  1.0111e+02],\n",
      "        [-5.2983e+00,  3.0793e-02,  1.0111e+02],\n",
      "        [-5.2983e+00,  2.3670e+00,  1.0111e+02],\n",
      "        [-5.2983e+00,  2.4885e+00,  1.0111e+02],\n",
      "        [-5.2983e+00,  4.3424e-01,  1.0111e+02],\n",
      "        [-5.2983e+00,  1.3363e-01,  1.0111e+02],\n",
      "        [-5.2983e+00,  5.6920e-01,  1.0111e+02],\n",
      "        [-5.2983e+00,  1.7286e+00,  1.0111e+02],\n",
      "        [-5.2983e+00,  1.1122e-01,  1.0111e+02],\n",
      "        [-5.2983e+00,  1.8734e-01,  1.0111e+02],\n",
      "        [-5.2983e+00,  8.5727e-01,  1.0111e+02],\n",
      "        [-5.2983e+00,  1.9137e+00,  1.0111e+02],\n",
      "        [-5.2983e+00,  2.2196e+00,  1.0111e+02],\n",
      "        [-5.2983e+00,  1.8206e+00,  1.0111e+02],\n",
      "        [-5.2983e+00,  2.6376e-01,  1.0111e+02],\n",
      "        [-5.2983e+00,  6.1851e-01,  1.0111e+02],\n",
      "        [-5.2983e+00,  2.4196e+00,  1.0111e+02],\n",
      "        [-5.2983e+00,  4.1277e-01,  1.0111e+02],\n",
      "        [-5.2983e+00,  7.3382e-01,  1.0111e+02],\n",
      "        [-5.2983e+00,  1.6731e+00,  1.0111e+02],\n",
      "        [-5.2983e+00,  1.2428e+00,  1.0111e+02],\n",
      "        [-5.2983e+00,  4.0666e-01,  1.0111e+02],\n",
      "        [-5.2983e+00,  1.0655e+00,  1.0111e+02],\n",
      "        [-5.2983e+00,  1.0202e+00,  1.0111e+02],\n",
      "        [-5.2983e+00,  1.9492e+00,  1.0111e+02],\n",
      "        [-5.2983e+00,  2.4874e+00,  1.0111e+02],\n",
      "        [-5.2983e+00,  2.8819e-01,  1.0111e+02],\n",
      "        [-5.2983e+00,  1.5001e+00,  1.0111e+02],\n",
      "        [-5.2983e+00,  2.0492e-01,  1.0111e+02],\n",
      "        [-5.2983e+00,  1.1155e+00,  1.0111e+02],\n",
      "        [-5.2983e+00,  8.2948e-02,  1.0111e+02],\n",
      "        [-5.2983e+00,  1.6937e+00,  1.0111e+02],\n",
      "        [-5.2983e+00,  3.0632e-01,  1.0111e+02],\n",
      "        [-5.2983e+00,  3.4723e+00,  1.0111e+02],\n",
      "        [-5.2983e+00,  1.3522e+00,  1.0111e+02],\n",
      "        [-5.2983e+00,  4.0584e-01,  1.0111e+02],\n",
      "        [-5.2983e+00,  2.9228e+00,  1.0111e+02],\n",
      "        [-5.2983e+00,  1.6015e+00,  1.0111e+02],\n",
      "        [-5.2983e+00,  3.9108e-01,  1.0111e+02],\n",
      "        [-5.2983e+00,  6.5157e-01,  1.0111e+02],\n",
      "        [-5.2983e+00,  2.5834e+00,  1.0111e+02],\n",
      "        [-5.2983e+00,  1.5128e+00,  1.0111e+02],\n",
      "        [-5.2983e+00,  2.2863e+00,  1.0111e+02],\n",
      "        [-5.2983e+00,  2.8225e+00,  1.0111e+02]], device='cuda:0',\n",
      "       grad_fn=<CatBackward0>)\n",
      "tensor(1.4014, device='cuda:0', grad_fn=<MeanBackward0>)\n"
     ]
    }
   ],
   "source": [
    "b_arr = lse_data['b_arr']\n",
    "len_Darray = torch.tensor(lse_data['len_Darray'], dtype=torch.float32)\n",
    "io_scale = lse_data['io_scale']\n",
    "b_min = torch.tensor(b_arr[0], dtype=torch.float32)\n",
    "b_max = torch.tensor(b_arr[-1], dtype=torch.float32)\n",
    "# d_min_random = np.random.choice(d_mins, 1)[0]\n",
    "# d_min_random = d_mins[0]\n",
    "st = 0\n",
    "# In = torch.tensor([[-io_scale/b_min*np.log(len_Darray), io_scale*d_min_random, b] for b in b_arr], dtype=torch.float32)\n",
    "In = torch.cat((torch.ones((num_drones,1)).to(device)*(-io_scale/b_min*torch.log(len_Darray)).to(device), d_mins.view(-1,1), torch.ones((num_drones,1)).to(device)*b_max.to(device)), axis=1) #, torch.ones((num_drones,1)).to(device)*b_min.to(device)),axis=1)\n",
    "\n",
    "# In = torch.cat((torch.ones((num_drones,1)).to(device)*(-io_scale/b_min*torch.log(len_Darray)).to(device), d_mins.view(-1,1), torch.ones((num_drones,1)).to(device)*b_min.to(device)),axis=1)\n",
    "\n",
    "print(In)\n",
    "Out = lse_net(In)\n",
    "FreeEnergy = torch.mean(Out)\n",
    "print(FreeEnergy)\n",
    "\n",
    "FreeEnergy.backward()\n",
    "# print(In.grad)"
   ]
  },
  {
   "cell_type": "code",
   "execution_count": 46,
   "metadata": {},
   "outputs": [],
   "source": [
    "\n",
    "optimizer = optim.Adam([F_base], lr=1e-3)\n",
    "optimizer.step()"
   ]
  },
  {
   "cell_type": "code",
   "execution_count": 59,
   "metadata": {},
   "outputs": [
    {
     "data": {
      "image/png": "[encoded data removed]",
      "text/plain": [
       "<Figure size 640x480 with 1 Axes>"
      ]
     },
     "metadata": {},
     "output_type": "display_data"
    }
   ],
   "source": [
    "Out_numpy = Out.view(-1).detach().numpy()/io_scale\n",
    "plt.plot(Out_numpy)\n",
    "plt.plot(d_min_random*np.ones(Out_numpy.shape))\n",
    "plt.show()"
   ]
  },
  {
   "cell_type": "markdown",
   "metadata": {},
   "source": [
    "# Calculating the gradients"
   ]
  },
  {
   "cell_type": "markdown",
   "metadata": {},
   "source": [
    "The output of this block shoud be dF/dy"
   ]
  },
  {
   "cell_type": "markdown",
   "metadata": {},
   "source": [
    "First calculate $\\frac{\\partial F}{\\partial d_{min}}$ (code in progress)"
   ]
  },
  {
   "cell_type": "code",
   "execution_count": 63,
   "metadata": {},
   "outputs": [
    {
     "name": "stderr",
     "output_type": "stream",
     "text": [
      "/var/folders/sh/ndxykdmj1q9cwr2kpvkvcbs80000gn/T/ipykernel_89473/1274708057.py:11: UserWarning: The .grad attribute of a Tensor that is not a leaf Tensor is being accessed. Its .grad attribute won't be populated during autograd.backward(). If you indeed want the .grad field to be populated for a non-leaf Tensor, use .retain_grad() on the non-leaf Tensor. If you access the non-leaf Tensor by mistake, make sure you access the leaf Tensor instead. See github.com/pytorch/pytorch/pull/30531 for more informations. (Triggered internally at /Users/runner/work/pytorch/pytorch/pytorch/build/aten/src/ATen/core/TensorBody.h:494.)\n",
      "  d_mins_torch.grad\n"
     ]
    }
   ],
   "source": [
    "# fix beta\n",
    "b = np.random.choice(b_arr)\n",
    "d_mins_torch = torch.tensor(d_mins, dtype=torch.float32, requires_grad=True).view(-1,1)\n",
    "const_bmin = -io_scale/b_arr[0] * np.log(len_Darray) * torch.ones(len(d_mins), dtype=torch.float32).view(-1,1)\n",
    "const_b = b * torch.ones(len(d_mins), dtype=torch.float32).view(-1,1)\n",
    "In = torch.concatenate((const_bmin, d_mins_torch, const_b), axis=1)\n",
    "Out = lse_net(In)\n",
    "# print(Out)\n",
    "Out[0].retain_grad()\n",
    "Out[0].backward()\n",
    "d_mins_torch.grad"
   ]
  },
  {
   "cell_type": "markdown",
   "metadata": {},
   "source": [
    "# Running CLF to determin Y"
   ]
  },
  {
   "cell_type": "markdown",
   "metadata": {},
   "source": [
    "The GD code here"
   ]
  },
  {
   "cell_type": "markdown",
   "metadata": {},
   "source": [
    "# Closing the Beta Loop for Annealing"
   ]
  },
  {
   "cell_type": "markdown",
   "metadata": {},
   "source": []
  }
 ],
 "metadata": {
  "kernelspec": {
   "display_name": "Python 3",
   "language": "python",
   "name": "python3"
  },
  "language_info": {
   "codemirror_mode": {
    "name": "ipython",
    "version": 3
   },
   "file_extension": ".py",
   "mimetype": "text/x-python",
   "name": "python",
   "nbconvert_exporter": "python",
   "pygments_lexer": "ipython3",
   "version": "3.10.0"
  }
 },
 "nbformat": 4,
 "nbformat_minor": 2
}
