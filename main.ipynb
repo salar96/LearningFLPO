{
 "cells": [
  {
   "cell_type": "code",
   "execution_count": 1,
   "metadata": {},
   "outputs": [],
   "source": [
    "import torch\n",
    "from VRP_Net_L import VRPNet_L\n",
    "from matplotlib import pyplot as plt\n",
    "import utils\n",
    "import os\n",
    "import matplotlib.pyplot as plt\n",
    "from torchinfo import summary\n",
    "import numpy as np\n",
    "import time\n",
    "import LSE_net\n",
    "from torch import optim\n",
    "import importlib"
   ]
  },
  {
   "cell_type": "code",
   "execution_count": 62,
   "metadata": {},
   "outputs": [
    {
     "name": "stdout",
     "output_type": "stream",
     "text": [
      "Running on:  cuda\n"
     ]
    }
   ],
   "source": [
    "seed=4;\n",
    "torch.manual_seed(seed)\n",
    "torch.cuda.manual_seed(seed)\n",
    "torch.cuda.manual_seed_all(seed)\n",
    "device = torch.device('cuda') if torch.cuda.is_available() else torch.device('cpu')\n",
    "np.random.seed(seed)\n",
    "print(\"Running on: \" , device)"
   ]
  },
  {
   "cell_type": "markdown",
   "metadata": {},
   "source": [
    "### Initialize an FLPO scenario"
   ]
  },
  {
   "cell_type": "code",
   "execution_count": 63,
   "metadata": {},
   "outputs": [
    {
     "name": "stdout",
     "output_type": "stream",
     "text": [
      "num_drones = 100\tnum_facilities = 5\tdim = 2\n",
      "Data Loaded.\n"
     ]
    },
    {
     "data": {
      "image/png": "[encoded data removed]",
      "text/plain": [
       "<Figure size 400x300 with 1 Axes>"
      ]
     },
     "metadata": {},
     "output_type": "display_data"
    }
   ],
   "source": [
    "# UAV FLPO MetaData\n",
    "num_drones = 100\n",
    "n_drone_clusters = 5\n",
    "drone_cluster_split = np.random.uniform(0.0, 1.0, n_drone_clusters)\n",
    "drone_cluster_split = drone_cluster_split / np.sum(drone_cluster_split)\n",
    "num_facilities = 5\n",
    "dim_ = 2\n",
    "print(f'num_drones = {num_drones}\\tnum_facilities = {num_facilities}\\tdim = {dim_}')\n",
    "\n",
    "# Assign start location to each drone\n",
    "drone_cnt = 0\n",
    "for i in range(n_drone_clusters):\n",
    "    if i == n_drone_clusters-1:\n",
    "        n_drones = int(num_drones - drone_cnt)\n",
    "    else:\n",
    "        n_drones = int(drone_cluster_split[i] * (num_drones+1))\n",
    "        drone_cnt += n_drones\n",
    "\n",
    "    drone_cluster_mean = torch.rand(1, dim_).repeat(n_drones,1).unsqueeze(1).to(device)\n",
    "    drone_cluster_std = ((0.01 - 0.05) * torch.rand(1,dim_) + 0.05).repeat(n_drones,1).unsqueeze(1).to(device)\n",
    "    drone_cluster_START_locs = torch.normal(mean=drone_cluster_mean, std=drone_cluster_std).to(device)\n",
    "    if i == 0:\n",
    "        START_locs = drone_cluster_START_locs\n",
    "    else:\n",
    "        START_locs = torch.cat((START_locs, drone_cluster_START_locs), axis=0)\n",
    "\n",
    "assert not START_locs.requires_grad, \"set requires_grad for START_locs to 0\"\n",
    "# Assign destination location to each drone\n",
    "END_locs = torch.zeros((num_drones, 1, dim_), requires_grad=False, device=device) #torch.rand(num_drones, 1, dim_, requires_grad=False, device=device)\n",
    "\n",
    "# Create the data tensor\n",
    "F_means = torch.mean(START_locs, dim=0).repeat(num_facilities, 1)\n",
    "F_noise = torch.normal(mean=torch.zeros(num_facilities,1,device=device), std=0.001*torch.ones(num_facilities,1,device=device))\n",
    "F_base = (F_means + F_noise).unsqueeze(0).requires_grad_()\n",
    "# print(F_base.shape)\n",
    "F_locs = F_base.expand(num_drones, -1, -1)  # view, shares grad with F_base\n",
    "data = torch.cat((START_locs, F_locs, END_locs), dim=1)  # shape: (Nd, Nf+2, D)\n",
    "print(\"Data Loaded.\")\n",
    "\n",
    "# plot the data\n",
    "def plot_UAV_FLPO(drone_START, drone_END, Facilities, figuresize=(6,5)):\n",
    "    start_locs = drone_START.squeeze(1).cpu().numpy()\n",
    "    end_locs = drone_END.squeeze(1).cpu().numpy()\n",
    "    f_locs = Facilities.squeeze(0).detach().cpu().numpy()\n",
    "\n",
    "    plt.figure(figsize=figuresize)\n",
    "    plt.scatter(start_locs[:,0], start_locs[:,1], color='violet', marker='X', alpha=0.5)\n",
    "    plt.scatter(end_locs[:,0], end_locs[:,1], color='red', marker='.')\n",
    "    plt.scatter(f_locs[:,0], f_locs[:,1], color='black', marker='^')\n",
    "    plt.grid()\n",
    "    plt.show()\n",
    "\n",
    "plot_UAV_FLPO(START_locs, END_locs, F_base, (4,3))\n"
   ]
  },
  {
   "cell_type": "markdown",
   "metadata": {},
   "source": [
    "### Load the VRP NET Module"
   ]
  },
  {
   "cell_type": "code",
   "execution_count": 64,
   "metadata": {},
   "outputs": [
    {
     "name": "stdout",
     "output_type": "stream",
     "text": [
      "VRP NET loaded on:  cuda\n",
      "===============================================================================================\n",
      "Layer (type:depth-idx)                                                 Param #\n",
      "===============================================================================================\n",
      "VRPNet_L                                                               --\n",
      "├─LinearAttnEncoder: 1-1                                               2,560\n",
      "│    └─MultiheadAttention: 2-1                                         197,376\n",
      "│    │    └─NonDynamicallyQuantizableLinear: 3-1                       (65,792)\n",
      "│    └─Linear: 2-2                                                     (768)\n",
      "│    └─Linear: 2-3                                                     (8,224)\n",
      "│    └─LayerNorm: 2-4                                                  (512)\n",
      "│    └─Dropout: 2-5                                                    --\n",
      "│    └─ReLU: 2-6                                                       --\n",
      "├─Decoder: 1-2                                                         --\n",
      "│    └─TransformerDecoder: 2-7                                         --\n",
      "│    │    └─ModuleList: 3-2                                            (16,992)\n",
      "├─PositionalEncoding: 1-3                                              --\n",
      "===============================================================================================\n",
      "Total params: 292,224\n",
      "Trainable params: 0\n",
      "Non-trainable params: 292,224\n",
      "===============================================================================================\n"
     ]
    }
   ],
   "source": [
    "hidden_dim = 32\n",
    "num_layers_enc = 1\n",
    "num_layers_dec = 1\n",
    "num_heads = 8\n",
    "torch.cuda.empty_cache()\n",
    "vrp_net = VRPNet_L(dim_, hidden_dim, device, num_layers_enc, num_layers_dec, num_heads)\n",
    "if torch.cuda.is_available():\n",
    "    vrp_net.load_state_dict(torch.load('Saved models/POMO2025_04_12 00_54_260.6350972652435303best_model.pth',weights_only=True))\n",
    "else:\n",
    "    vrp_net.load_state_dict(torch.load('Saved models/POMO2025_04_12 00_54_260.6350972652435303best_model.pth',weights_only=False, map_location=torch.device('cpu')))\n",
    "vrp_net.eval()\n",
    "\n",
    "for param in vrp_net.parameters():\n",
    "    param.requires_grad = False\n",
    "print('VRP NET loaded on: ',vrp_net.device)\n",
    "print(summary(vrp_net))\n"
   ]
  },
  {
   "cell_type": "markdown",
   "metadata": {},
   "source": [
    "### Load the LSE net module"
   ]
  },
  {
   "cell_type": "code",
   "execution_count": 75,
   "metadata": {},
   "outputs": [
    {
     "name": "stdout",
     "output_type": "stream",
     "text": [
      "n_inputs: 3\n",
      "n_outputs: 1\n",
      "layers: [20, 20, 10]\n",
      "io_scale: 1\n",
      "LSE_net:\n",
      "=================================================================\n",
      "Layer (type:depth-idx)                   Param #\n",
      "=================================================================\n",
      "dnn                                      --\n",
      "├─ModuleList: 1-1                        --\n",
      "│    └─Linear: 2-1                       (80)\n",
      "│    └─ReLU: 2-2                         --\n",
      "│    └─Linear: 2-3                       (420)\n",
      "│    └─ReLU: 2-4                         --\n",
      "│    └─Linear: 2-5                       (210)\n",
      "│    └─ReLU: 2-6                         --\n",
      "│    └─Linear: 2-7                       (11)\n",
      "=================================================================\n",
      "Total params: 721\n",
      "Trainable params: 0\n",
      "Non-trainable params: 721\n",
      "=================================================================\n"
     ]
    }
   ],
   "source": [
    "importlib.reload(LSE_net)\n",
    "lse_data = torch.load('logSumExp_models/lse_2025_5_1__17_6_31.pth', weights_only=False)\n",
    "n_inputs = lse_data['n_inputs']\n",
    "n_outputs = lse_data['n_outputs']\n",
    "layers = lse_data['layers']\n",
    "weights = lse_data['model_state_dict']\n",
    "io_scale = lse_data['io_scale']\n",
    "lse_net = LSE_net.dnn(n_inputs, n_outputs, layers)\n",
    "lse_net.to(device)\n",
    "lse_net.load_state_dict(weights)\n",
    "lse_net.eval()\n",
    "for p in lse_net.parameters():\n",
    "    p.requires_grad = False\n",
    "print(f'n_inputs: {n_inputs}\\nn_outputs: {n_outputs}\\nlayers: {layers}\\nio_scale: {io_scale}\\nLSE_net:\\n{summary(lse_net)}')"
   ]
  },
  {
   "cell_type": "markdown",
   "metadata": {},
   "source": [
    "### Some functions for free energy approximation"
   ]
  },
  {
   "cell_type": "code",
   "execution_count": 78,
   "metadata": {},
   "outputs": [],
   "source": [
    "def logSumExp(D_tensor, beta):\n",
    "    # with torch.no_grad():\n",
    "    # print(D_tensor)\n",
    "    D_min = torch.min(D_tensor, axis=1, keepdims=True)\n",
    "    F = -1/beta * torch.log(torch.sum(torch.exp(-beta*(D_tensor - D_min.values)), axis=1, keepdims=True)) + 1/beta * torch.log(torch.tensor([D_tensor.shape[1]])) + D_min.values\n",
    "    return F\n",
    "\n",
    "def area_approx_F(D_min, D_max_range, beta, printCalculations=False):\n",
    "    min_beta_D_arr = beta * D_min\n",
    "    x_max = beta * D_max_range - min_beta_D_arr\n",
    "    F_est = -1/beta * torch.log(1/x_max * (1 - torch.exp(-x_max))) + D_min\n",
    "    \n",
    "    if printCalculations:\n",
    "        print(f'min_beta_D_arr:{min_beta_D_arr}')\n",
    "        print(f'x_max:{x_max}')\n",
    "        print(f'inside_log:{1/x_max * (1 - torch.exp(-x_max))}')\n",
    "        print(f'log:{torch.log(1/x_max * (1 - torch.exp(-x_max)))}')\n",
    "        print(f'-1/beta_log:\\n{-1/beta * torch.log(1/x_max * (1 - torch.exp(-x_max)))}')\n",
    "        \n",
    "    return F_est"
   ]
  },
  {
   "cell_type": "markdown",
   "metadata": {},
   "source": [
    "### Functions to modularize the entire implementation including forward passes of VRP and LSE nets, optimization at fixed beta, annealing iterations"
   ]
  },
  {
   "cell_type": "code",
   "execution_count": 86,
   "metadata": {},
   "outputs": [],
   "source": [
    "# Shortest path and its gradient wrt facility locations\n",
    "def VRPNet_pass(vrp_net, F_locs, returnGrad=False):\n",
    "    data = torch.cat((START_locs, F_locs, END_locs), dim=1)  # shape: (Nd, Nf+2, D)\n",
    "\n",
    "    s = time.time()\n",
    "    \n",
    "    _, actions = vrp_net(data, mod='eval_greedy')\n",
    "    e = time.time()\n",
    "    actions.detach()\n",
    "    D_min_drones = utils.route_cost(data, actions).view(-1,1)\n",
    "    if returnGrad:\n",
    "        gradient = torch.autograd.grad(outputs=D_min_drones, inputs=F_locs,\n",
    "                                grad_outputs=torch.ones_like(D_min_drones),\n",
    "                                create_graph=True)\n",
    "        dDmin_dFlocs = gradient[0]\n",
    "    else:\n",
    "        dDmin_dFlocs = None\n",
    "\n",
    "    return D_min_drones, dDmin_dFlocs, e-s\n",
    "\n",
    "# Free energy as a function of shortest path, and its gradients\n",
    "def LSENet_pass(lse_net, D_min_drones, D_max_range, beta, beta_min, returnGrad=False):\n",
    "    device = D_min_drones.device\n",
    "    Fmin_est = area_approx_F(D_min_drones, D_max_range=D_max_range, beta=beta_min, printCalculations=False)\n",
    "    In_lse = torch.cat((\n",
    "        Fmin_est.to(device),\n",
    "        D_min_drones,\n",
    "        (torch.ones(D_min_drones.shape,device=device)*torch.log(torch.tensor([beta],device=device))/torch.log(torch.tensor([10.0],device=device)))\n",
    "    ), axis=1)\n",
    "    FreeEnergy = lse_net(In_lse)\n",
    "    if returnGrad:\n",
    "        gradient = torch.autograd.grad(outputs=FreeEnergy, inputs=In_lse,\n",
    "                                grad_outputs=torch.ones_like(FreeEnergy),\n",
    "                                create_graph=True)\n",
    "        # dFreeE_dDmin = gradient[0].view(num_drones,1,1)\n",
    "        dFreeE_dDmin = gradient[0][:,1].view(-1,1).view(num_drones,1,1)\n",
    "    else:\n",
    "        dFreeE_dDmin = None\n",
    "\n",
    "    return FreeEnergy, dFreeE_dDmin\n",
    "\n",
    "# gradient descent step\n",
    "def gradient_descent_step(Y, dY, eta):\n",
    "    Y = Y - eta * dY\n",
    "    return Y\n",
    "\n",
    "# optimize using gradient descent at given beta\n",
    "def GD_at_beta0(F_base0, num_drones, vrp_net, lse_net, iters, optim_stepsize, beta_min, beta, D_max_range, allowPrint=False):\n",
    "\n",
    "    F_base = F_base0\n",
    "    assert(F_base.requires_grad == True)\n",
    "\n",
    "    for i in range(iters):\n",
    "        \n",
    "        F_locs = F_base.expand(num_drones, -1, -1)  # view, shares grad with F_base\n",
    "        \n",
    "        # free energy and gradients using VRP_net and LSE_net\n",
    "        D_min_drones, dDmin_dFlocs, _ = VRPNet_pass(vrp_net, F_locs, returnGrad=True)\n",
    "        freeEnergy_drones, dFreeE_dDmin = LSENet_pass(\n",
    "            lse_net, D_min_drones, D_max_range=D_max_range, \n",
    "            beta=beta, beta_min=beta_min, returnGrad=True)\n",
    "\n",
    "        torch.cuda.empty_cache()\n",
    "\n",
    "        # total gradient using chain rule and backpropagation\n",
    "        total_gradient = dDmin_dFlocs * dFreeE_dDmin\n",
    "        G = torch.mean(total_gradient, axis=0)\n",
    "\n",
    "        # optimizer step\n",
    "        F_base = gradient_descent_step(F_base, G, optim_stepsize)\n",
    "\n",
    "        # print data\n",
    "        if allowPrint:\n",
    "            print(f'iter: {i}\\tFreeE: {torch.mean(freeEnergy_drones):.4e}\\tdDmin: {torch.max(torch.abs(dDmin_dFlocs)):.4e}\\tdFreeE: {torch.max(torch.abs(dFreeE_dDmin)):.4e}\\t G:{torch.max(torch.abs(G)):.4e}')\n",
    "\n",
    "    return F_base, freeEnergy_drones, G\n",
    "\n",
    "# optimize using gradient descent at given beta\n",
    "def GD_at_beta1(F_base0, num_drones, vrp_net, lse_net, iters, optim_stepsize, beta_min, beta, D_max_range, allowPrint=False):\n",
    "\n",
    "    F_base = F_base0\n",
    "    assert(F_base.requires_grad == True)\n",
    "\n",
    "    for i in range(iters):\n",
    "        \n",
    "        F_locs = F_base.expand(num_drones, -1, -1)  # view, shares grad with F_base\n",
    "        \n",
    "        # free energy and gradients using VRP_net and LSE_net\n",
    "        D_min_drones, _, _ = VRPNet_pass(vrp_net, F_locs, returnGrad=False)\n",
    "        freeEnergy_drones, _ = LSENet_pass(\n",
    "            lse_net, D_min_drones, D_max_range=D_max_range, \n",
    "            beta=beta, beta_min=beta_min, returnGrad=False)\n",
    "        freeEnergy = torch.mean(freeEnergy_drones)\n",
    "\n",
    "        torch.cuda.empty_cache()\n",
    "\n",
    "        # total gradient using chain rule and backpropagation\n",
    "        total_gradient = torch.autograd.grad(outputs=freeEnergy, inputs=F_base,\n",
    "                                grad_outputs=torch.ones_like(freeEnergy),\n",
    "                                create_graph=True)\n",
    "        G = total_gradient[0]\n",
    "\n",
    "        # optimizer step\n",
    "        F_base = gradient_descent_step(F_base, G, eta)\n",
    "\n",
    "        # print data\n",
    "        if allowPrint:\n",
    "            print(f'iter: {i}\\tFreeE: {freeEnergy:.4e}\\tG:{torch.max(torch.abs(G)):.4e}')\n",
    "\n",
    "    return F_base, freeEnergy_drones, G\n",
    "\n",
    "\n",
    "def Adam_at_beta(F_base0, num_drones, vrp_net, lse_net, iters, optim_stepsize, beta_min, beta, D_max_range, allowPrint=False):\n",
    "\n",
    "    F_base = F_base0\n",
    "    assert(F_base.requires_grad == True)\n",
    "    optimizer = optim.Adam([F_base], lr=optim_stepsize)\n",
    "\n",
    "    for i in range(iters):\n",
    "        F_locs = F_base.expand(num_drones, -1, -1)  # view, shares grad with F_base\n",
    "        \n",
    "        # free energy and gradients using VRP_net and LSE_net\n",
    "        D_min_drones, _, _ = VRPNet_pass(vrp_net, F_locs)\n",
    "        freeEnergy_drones, _ = LSENet_pass(\n",
    "            lse_net, D_min_drones, D_max_range=D_max_range, beta=beta, beta_min=beta_min)\n",
    "        FreeEnergy = torch.mean(freeEnergy_drones)\n",
    "\n",
    "        torch.cuda.empty_cache()\n",
    "\n",
    "        # compute gradient of free energy wrt F_base using backpropagation\n",
    "        optimizer.zero_grad()\n",
    "        FreeEnergy.backward()\n",
    "        G = F_base.grad\n",
    "        print(G)\n",
    "        # optimizer step\n",
    "        optimizer.step()\n",
    "\n",
    "        # print data\n",
    "        if allowPrint:\n",
    "            print(f'iter: {i}\\tFreeE: {FreeEnergy:.4e}')\n",
    "    \n",
    "    return F_base, FreeEnergy, G\n",
    "\n",
    "\n",
    "# perform annealing\n",
    "def anneal(F_base0, num_drones, vrp_net, lse_net, iters, step, beta_min, beta_max, beta_grow, D_max_range, optimizer_name, allowPrint):\n",
    "\n",
    "    beta = beta_min\n",
    "    F_base = F_base0\n",
    "    b_arr = []\n",
    "    F_arr = []\n",
    "\n",
    "    while beta <= beta_max:\n",
    "        # optimize using gradient descent iterations\n",
    "\n",
    "        if optimizer_name == 'gradient_descent0':\n",
    "            F_base, FreeEnergy, G = GD_at_beta0(\n",
    "                F_base, num_drones, vrp_net, lse_net, optim_iters, \n",
    "                optim_step, beta_min, beta, D_max_range=D_max_range, allowPrint=False)\n",
    "        \n",
    "        elif optimizer_name == 'gradient_descent1':\n",
    "            F_base, FreeEnergy, G = GD_at_beta1(\n",
    "                F_base, num_drones, vrp_net, lse_net, optim_iters, \n",
    "                optim_step, beta_min, beta, D_max_range=D_max_range, allowPrint=False)\n",
    "\n",
    "        elif optimizer_name == 'adam':\n",
    "            F_base, FreeEnergy, G = Adam_at_beta(\n",
    "                F_base, num_drones, vrp_net, lse_net, optim_iters, \n",
    "                optim_step, beta_min, beta, D_max_range=D_max_range, allowPrint=False)\n",
    "\n",
    "        # store data\n",
    "        b_arr.append(beta)\n",
    "        F_arr.append(torch.mean(FreeEnergy).detach().item())\n",
    "        # print data\n",
    "        if allowPrint:\n",
    "            print(f'beta: {beta:.4e}\\tFreeE: {torch.mean(FreeEnergy):.4f}\\tGrad: {torch.abs(torch.max(G)):.4e}')\n",
    "        # update beta\n",
    "        beta = beta * beta_grow\n",
    "\n",
    "    return F_base, b_arr, F_arr\n",
    "\n",
    "\n",
    "    "
   ]
  },
  {
   "cell_type": "markdown",
   "metadata": {},
   "source": [
    "### Optimization loop for a single beta"
   ]
  },
  {
   "cell_type": "markdown",
   "metadata": {},
   "source": [
    "#### using gradient descent 0"
   ]
  },
  {
   "cell_type": "code",
   "execution_count": 87,
   "metadata": {},
   "outputs": [
    {
     "name": "stdout",
     "output_type": "stream",
     "text": [
      "cuda\n"
     ]
    },
    {
     "ename": "ValueError",
     "evalue": "can't optimize a non-leaf Tensor",
     "output_type": "error",
     "traceback": [
      "\u001b[1;31m---------------------------------------------------------------------------\u001b[0m",
      "\u001b[1;31mValueError\u001b[0m                                Traceback (most recent call last)",
      "Cell \u001b[1;32mIn[87], line 6\u001b[0m\n\u001b[0;32m      4\u001b[0m beta \u001b[38;5;241m=\u001b[39m \u001b[38;5;241m1e3\u001b[39m\n\u001b[0;32m      5\u001b[0m \u001b[38;5;28mprint\u001b[39m(vrp_net\u001b[38;5;241m.\u001b[39mdevice)\n\u001b[1;32m----> 6\u001b[0m F_base, FreeEnergy, G \u001b[38;5;241m=\u001b[39m \u001b[43mAdam_at_beta\u001b[49m\u001b[43m(\u001b[49m\n\u001b[0;32m      7\u001b[0m \u001b[43m    \u001b[49m\u001b[43mF_base\u001b[49m\u001b[43m,\u001b[49m\u001b[43m \u001b[49m\u001b[43mnum_drones\u001b[49m\u001b[43m,\u001b[49m\u001b[43m \u001b[49m\u001b[43mvrp_net\u001b[49m\u001b[43m,\u001b[49m\u001b[43m \u001b[49m\u001b[43mlse_net\u001b[49m\u001b[43m,\u001b[49m\u001b[43m \u001b[49m\u001b[43moptim_iters\u001b[49m\u001b[43m,\u001b[49m\u001b[43m \u001b[49m\n\u001b[0;32m      8\u001b[0m \u001b[43m    \u001b[49m\u001b[43moptim_step\u001b[49m\u001b[43m,\u001b[49m\u001b[43m \u001b[49m\u001b[43mb_min\u001b[49m\u001b[43m,\u001b[49m\u001b[43m \u001b[49m\u001b[43mbeta\u001b[49m\u001b[43m,\u001b[49m\u001b[43m \u001b[49m\u001b[43mD_max_range\u001b[49m\u001b[38;5;241;43m=\u001b[39;49m\u001b[38;5;241;43m2.0\u001b[39;49m\u001b[43m,\u001b[49m\u001b[43m \u001b[49m\u001b[43mallowPrint\u001b[49m\u001b[38;5;241;43m=\u001b[39;49m\u001b[38;5;28;43;01mTrue\u001b[39;49;00m\u001b[43m)\u001b[49m\n",
      "Cell \u001b[1;32mIn[86], line 117\u001b[0m, in \u001b[0;36mAdam_at_beta\u001b[1;34m(F_base0, num_drones, vrp_net, lse_net, iters, optim_stepsize, beta_min, beta, D_max_range, allowPrint)\u001b[0m\n\u001b[0;32m    115\u001b[0m F_base \u001b[38;5;241m=\u001b[39m F_base0\n\u001b[0;32m    116\u001b[0m \u001b[38;5;28;01massert\u001b[39;00m(F_base\u001b[38;5;241m.\u001b[39mrequires_grad \u001b[38;5;241m==\u001b[39m \u001b[38;5;28;01mTrue\u001b[39;00m)\n\u001b[1;32m--> 117\u001b[0m optimizer \u001b[38;5;241m=\u001b[39m \u001b[43moptim\u001b[49m\u001b[38;5;241;43m.\u001b[39;49m\u001b[43mAdam\u001b[49m\u001b[43m(\u001b[49m\u001b[43m[\u001b[49m\u001b[43mF_base\u001b[49m\u001b[43m]\u001b[49m\u001b[43m,\u001b[49m\u001b[43m \u001b[49m\u001b[43mlr\u001b[49m\u001b[38;5;241;43m=\u001b[39;49m\u001b[43moptim_stepsize\u001b[49m\u001b[43m)\u001b[49m\n\u001b[0;32m    119\u001b[0m \u001b[38;5;28;01mfor\u001b[39;00m i \u001b[38;5;129;01min\u001b[39;00m \u001b[38;5;28mrange\u001b[39m(iters):\n\u001b[0;32m    120\u001b[0m     F_locs \u001b[38;5;241m=\u001b[39m F_base\u001b[38;5;241m.\u001b[39mexpand(num_drones, \u001b[38;5;241m-\u001b[39m\u001b[38;5;241m1\u001b[39m, \u001b[38;5;241m-\u001b[39m\u001b[38;5;241m1\u001b[39m)  \u001b[38;5;66;03m# view, shares grad with F_base\u001b[39;00m\n",
      "File \u001b[1;32mc:\\Users\\salar\\AppData\\Local\\Programs\\Python\\Python310\\lib\\site-packages\\torch\\optim\\adam.py:78\u001b[0m, in \u001b[0;36mAdam.__init__\u001b[1;34m(self, params, lr, betas, eps, weight_decay, amsgrad, foreach, maximize, capturable, differentiable, fused)\u001b[0m\n\u001b[0;32m     64\u001b[0m     \u001b[38;5;28;01mraise\u001b[39;00m \u001b[38;5;167;01mValueError\u001b[39;00m(\u001b[38;5;124mf\u001b[39m\u001b[38;5;124m\"\u001b[39m\u001b[38;5;124mInvalid weight_decay value: \u001b[39m\u001b[38;5;132;01m{\u001b[39;00mweight_decay\u001b[38;5;132;01m}\u001b[39;00m\u001b[38;5;124m\"\u001b[39m)\n\u001b[0;32m     66\u001b[0m defaults \u001b[38;5;241m=\u001b[39m \u001b[38;5;28mdict\u001b[39m(\n\u001b[0;32m     67\u001b[0m     lr\u001b[38;5;241m=\u001b[39mlr,\n\u001b[0;32m     68\u001b[0m     betas\u001b[38;5;241m=\u001b[39mbetas,\n\u001b[1;32m   (...)\u001b[0m\n\u001b[0;32m     76\u001b[0m     fused\u001b[38;5;241m=\u001b[39mfused,\n\u001b[0;32m     77\u001b[0m )\n\u001b[1;32m---> 78\u001b[0m \u001b[38;5;28;43msuper\u001b[39;49m\u001b[43m(\u001b[49m\u001b[43m)\u001b[49m\u001b[38;5;241;43m.\u001b[39;49m\u001b[38;5;21;43m__init__\u001b[39;49m\u001b[43m(\u001b[49m\u001b[43mparams\u001b[49m\u001b[43m,\u001b[49m\u001b[43m \u001b[49m\u001b[43mdefaults\u001b[49m\u001b[43m)\u001b[49m\n\u001b[0;32m     80\u001b[0m \u001b[38;5;28;01mif\u001b[39;00m fused:\n\u001b[0;32m     81\u001b[0m     \u001b[38;5;28;01mif\u001b[39;00m differentiable:\n",
      "File \u001b[1;32mc:\\Users\\salar\\AppData\\Local\\Programs\\Python\\Python310\\lib\\site-packages\\torch\\optim\\optimizer.py:371\u001b[0m, in \u001b[0;36mOptimizer.__init__\u001b[1;34m(self, params, defaults)\u001b[0m\n\u001b[0;32m    368\u001b[0m     param_groups \u001b[38;5;241m=\u001b[39m [{\u001b[38;5;124m\"\u001b[39m\u001b[38;5;124mparams\u001b[39m\u001b[38;5;124m\"\u001b[39m: param_groups}]\n\u001b[0;32m    370\u001b[0m \u001b[38;5;28;01mfor\u001b[39;00m param_group \u001b[38;5;129;01min\u001b[39;00m param_groups:\n\u001b[1;32m--> 371\u001b[0m     \u001b[38;5;28;43mself\u001b[39;49m\u001b[38;5;241;43m.\u001b[39;49m\u001b[43madd_param_group\u001b[49m\u001b[43m(\u001b[49m\u001b[43mcast\u001b[49m\u001b[43m(\u001b[49m\u001b[38;5;28;43mdict\u001b[39;49m\u001b[43m,\u001b[49m\u001b[43m \u001b[49m\u001b[43mparam_group\u001b[49m\u001b[43m)\u001b[49m\u001b[43m)\u001b[49m\n\u001b[0;32m    373\u001b[0m \u001b[38;5;66;03m# Allows _cuda_graph_capture_health_check to rig a poor man's TORCH_WARN_ONCE in python,\u001b[39;00m\n\u001b[0;32m    374\u001b[0m \u001b[38;5;66;03m# which I don't think exists\u001b[39;00m\n\u001b[0;32m    375\u001b[0m \u001b[38;5;66;03m# https://github.com/pytorch/pytorch/issues/72948\u001b[39;00m\n\u001b[0;32m    376\u001b[0m \u001b[38;5;28mself\u001b[39m\u001b[38;5;241m.\u001b[39m_warned_capturable_if_run_uncaptured \u001b[38;5;241m=\u001b[39m \u001b[38;5;28;01mTrue\u001b[39;00m\n",
      "File \u001b[1;32mc:\\Users\\salar\\AppData\\Local\\Programs\\Python\\Python310\\lib\\site-packages\\torch\\_compile.py:32\u001b[0m, in \u001b[0;36m_disable_dynamo.<locals>.inner\u001b[1;34m(*args, **kwargs)\u001b[0m\n\u001b[0;32m     29\u001b[0m     disable_fn \u001b[38;5;241m=\u001b[39m torch\u001b[38;5;241m.\u001b[39m_dynamo\u001b[38;5;241m.\u001b[39mdisable(fn, recursive)\n\u001b[0;32m     30\u001b[0m     fn\u001b[38;5;241m.\u001b[39m__dynamo_disable \u001b[38;5;241m=\u001b[39m disable_fn\n\u001b[1;32m---> 32\u001b[0m \u001b[38;5;28;01mreturn\u001b[39;00m disable_fn(\u001b[38;5;241m*\u001b[39margs, \u001b[38;5;241m*\u001b[39m\u001b[38;5;241m*\u001b[39mkwargs)\n",
      "File \u001b[1;32mc:\\Users\\salar\\AppData\\Local\\Programs\\Python\\Python310\\lib\\site-packages\\torch\\_dynamo\\eval_frame.py:632\u001b[0m, in \u001b[0;36mDisableContext.__call__.<locals>._fn\u001b[1;34m(*args, **kwargs)\u001b[0m\n\u001b[0;32m    630\u001b[0m prior \u001b[38;5;241m=\u001b[39m _maybe_set_eval_frame(callback)\n\u001b[0;32m    631\u001b[0m \u001b[38;5;28;01mtry\u001b[39;00m:\n\u001b[1;32m--> 632\u001b[0m     \u001b[38;5;28;01mreturn\u001b[39;00m fn(\u001b[38;5;241m*\u001b[39margs, \u001b[38;5;241m*\u001b[39m\u001b[38;5;241m*\u001b[39mkwargs)\n\u001b[0;32m    633\u001b[0m \u001b[38;5;28;01mfinally\u001b[39;00m:\n\u001b[0;32m    634\u001b[0m     _maybe_set_eval_frame(prior)\n",
      "File \u001b[1;32mc:\\Users\\salar\\AppData\\Local\\Programs\\Python\\Python310\\lib\\site-packages\\torch\\optim\\optimizer.py:1026\u001b[0m, in \u001b[0;36mOptimizer.add_param_group\u001b[1;34m(self, param_group)\u001b[0m\n\u001b[0;32m   1019\u001b[0m         \u001b[38;5;28;01mraise\u001b[39;00m \u001b[38;5;167;01mTypeError\u001b[39;00m(\n\u001b[0;32m   1020\u001b[0m             \u001b[38;5;124m\"\u001b[39m\u001b[38;5;124moptimizer can only optimize Tensors, \u001b[39m\u001b[38;5;124m\"\u001b[39m\n\u001b[0;32m   1021\u001b[0m             \u001b[38;5;124m\"\u001b[39m\u001b[38;5;124mbut one of the params is \u001b[39m\u001b[38;5;124m\"\u001b[39m \u001b[38;5;241m+\u001b[39m torch\u001b[38;5;241m.\u001b[39mtypename(param)\n\u001b[0;32m   1022\u001b[0m         )\n\u001b[0;32m   1023\u001b[0m     \u001b[38;5;28;01mif\u001b[39;00m \u001b[38;5;129;01mnot\u001b[39;00m \u001b[38;5;28mself\u001b[39m\u001b[38;5;241m.\u001b[39mdefaults\u001b[38;5;241m.\u001b[39mget(\u001b[38;5;124m\"\u001b[39m\u001b[38;5;124mdifferentiable\u001b[39m\u001b[38;5;124m\"\u001b[39m, \u001b[38;5;28;01mNone\u001b[39;00m) \u001b[38;5;129;01mand\u001b[39;00m \u001b[38;5;129;01mnot\u001b[39;00m (\n\u001b[0;32m   1024\u001b[0m         param\u001b[38;5;241m.\u001b[39mis_leaf \u001b[38;5;129;01mor\u001b[39;00m param\u001b[38;5;241m.\u001b[39mretains_grad\n\u001b[0;32m   1025\u001b[0m     ):\n\u001b[1;32m-> 1026\u001b[0m         \u001b[38;5;28;01mraise\u001b[39;00m \u001b[38;5;167;01mValueError\u001b[39;00m(\u001b[38;5;124m\"\u001b[39m\u001b[38;5;124mcan\u001b[39m\u001b[38;5;124m'\u001b[39m\u001b[38;5;124mt optimize a non-leaf Tensor\u001b[39m\u001b[38;5;124m\"\u001b[39m)\n\u001b[0;32m   1028\u001b[0m \u001b[38;5;28;01mfor\u001b[39;00m name, default \u001b[38;5;129;01min\u001b[39;00m \u001b[38;5;28mself\u001b[39m\u001b[38;5;241m.\u001b[39mdefaults\u001b[38;5;241m.\u001b[39mitems():\n\u001b[0;32m   1029\u001b[0m     \u001b[38;5;28;01mif\u001b[39;00m default \u001b[38;5;129;01mis\u001b[39;00m required \u001b[38;5;129;01mand\u001b[39;00m name \u001b[38;5;129;01mnot\u001b[39;00m \u001b[38;5;129;01min\u001b[39;00m param_group:\n",
      "\u001b[1;31mValueError\u001b[0m: can't optimize a non-leaf Tensor"
     ]
    }
   ],
   "source": [
    "optim_iters = 500\n",
    "optim_step = 0.1\n",
    "b_min = 1e-3\n",
    "beta = 1e3\n",
    "print(vrp_net.device)\n",
    "F_base, FreeEnergy, G = Adam_at_beta(\n",
    "    F_base, num_drones, vrp_net, lse_net, optim_iters, \n",
    "    optim_step, b_min, beta, D_max_range=2.0, allowPrint=True)\n"
   ]
  },
  {
   "cell_type": "markdown",
   "metadata": {},
   "source": [
    "#### using gradient descent 1 (comment the other two optimization implementations)"
   ]
  },
  {
   "cell_type": "code",
   "execution_count": 28,
   "metadata": {},
   "outputs": [],
   "source": [
    "# optim_iters = 500\n",
    "# optim_step = 0.001\n",
    "# b_min = 1e-3\n",
    "# beta = 1e-3\n",
    "\n",
    "# F_base, FreeEnergy, G = Adam_at_beta(\n",
    "#     F_base, num_drones, vrp_net, lse_net, optim_iters, \n",
    "#     optim_step, b_min, beta, D_max_range=2.0, allowPrint=True)\n"
   ]
  },
  {
   "cell_type": "markdown",
   "metadata": {},
   "source": [
    "#### using Adam optimizer from torch.optim (comment the other two optimization implementations)"
   ]
  },
  {
   "cell_type": "code",
   "execution_count": 27,
   "metadata": {},
   "outputs": [],
   "source": [
    "# optim_iters = 1000\n",
    "# optim_step = 0.01\n",
    "# b_min = 1e-3\n",
    "# beta = 1e-3\n",
    "\n",
    "# F_base, FreeEnergy, G = GD_at_beta1(\n",
    "#     F_base, num_drones, vrp_net, lse_net, optim_iters, \n",
    "#     optim_step, b_min, beta, D_max_range=2.0, allowPrint=True)\n"
   ]
  },
  {
   "cell_type": "code",
   "execution_count": 25,
   "metadata": {},
   "outputs": [
    {
     "data": {
      "text/plain": [
       "tensor([[[0.7889, 0.3893],\n",
       "         [0.7897, 0.3969],\n",
       "         [0.7885, 0.3976],\n",
       "         [0.7898, 0.3966],\n",
       "         [0.7432, 0.3779]]], grad_fn=<SubBackward0>)"
      ]
     },
     "execution_count": 25,
     "metadata": {},
     "output_type": "execute_result"
    }
   ],
   "source": [
    "F_base"
   ]
  },
  {
   "cell_type": "code",
   "execution_count": 26,
   "metadata": {},
   "outputs": [
    {
     "data": {
      "image/png": "[encoded data removed]",
      "text/plain": [
       "<Figure size 400x300 with 1 Axes>"
      ]
     },
     "metadata": {},
     "output_type": "display_data"
    }
   ],
   "source": [
    "plot_UAV_FLPO(START_locs, END_locs, F_base, (4,3))"
   ]
  },
  {
   "cell_type": "markdown",
   "metadata": {},
   "source": [
    "### Annealing loop implementation"
   ]
  },
  {
   "cell_type": "code",
   "execution_count": 43,
   "metadata": {},
   "outputs": [
    {
     "name": "stdout",
     "output_type": "stream",
     "text": [
      "beta: 1.0000e-03\tFreeE: 1.3718\tGrad: 1.0314e-03\n",
      "beta: 3.0000e-03\tFreeE: 1.3534\tGrad: 9.4309e-04\n",
      "beta: 9.0000e-03\tFreeE: 1.3310\tGrad: 9.4154e-04\n",
      "beta: 2.7000e-02\tFreeE: 1.1542\tGrad: 2.6768e-03\n",
      "beta: 8.1000e-02\tFreeE: 1.0838\tGrad: 5.1806e-03\n",
      "beta: 2.4300e-01\tFreeE: 1.0567\tGrad: 6.4388e-03\n",
      "beta: 7.2900e-01\tFreeE: 0.9776\tGrad: 4.3463e-06\n",
      "beta: 2.1870e+00\tFreeE: 0.8144\tGrad: 2.9206e-07\n",
      "beta: 6.5610e+00\tFreeE: 0.5622\tGrad: 2.9206e-07\n",
      "beta: 1.9683e+01\tFreeE: 0.3717\tGrad: 2.7120e-07\n",
      "beta: 5.9049e+01\tFreeE: 0.2432\tGrad: 4.4195e-03\n",
      "beta: 1.7715e+02\tFreeE: 0.2160\tGrad: 2.0672e-02\n",
      "beta: 5.3144e+02\tFreeE: 0.1882\tGrad: 4.6555e-05\n",
      "beta: 1.5943e+03\tFreeE: 0.1873\tGrad: 3.0335e-08\n",
      "beta: 4.7830e+03\tFreeE: 0.1864\tGrad: 3.0335e-08\n",
      "beta: 1.4349e+04\tFreeE: 0.1855\tGrad: 3.0335e-08\n",
      "beta: 4.3047e+04\tFreeE: 0.1846\tGrad: 3.0335e-08\n"
     ]
    }
   ],
   "source": [
    "beta_min = 1e-3\n",
    "beta_max = 1e5\n",
    "beta_grow = 3\n",
    "beta = 1e-3\n",
    "optim_iters = 200\n",
    "optim_step = 0.1 # 0.1 for gd0, use < 0.01 for the other two optimizers\n",
    "\n",
    "F_base, b_arr, F_arr = anneal(\n",
    "    F_base, num_drones, vrp_net, lse_net, optim_iters, optim_step, \n",
    "    beta_min, beta_max, beta_grow, D_max_range=2.0, \n",
    "    optimizer_name='gradient_descent0', allowPrint=True)\n"
   ]
  },
  {
   "cell_type": "code",
   "execution_count": 44,
   "metadata": {},
   "outputs": [
    {
     "data": {
      "text/plain": [
       "tensor([[[0.5649, 0.2896],\n",
       "         [0.6738, 0.3355],\n",
       "         [0.2933, 0.1494],\n",
       "         [0.4400, 0.2241],\n",
       "         [0.1467, 0.0747]]], grad_fn=<SubBackward0>)"
      ]
     },
     "execution_count": 44,
     "metadata": {},
     "output_type": "execute_result"
    }
   ],
   "source": [
    "F_base"
   ]
  },
  {
   "cell_type": "code",
   "execution_count": 45,
   "metadata": {},
   "outputs": [
    {
     "data": {
      "image/png": "[encoded data removed]",
      "text/plain": [
       "<Figure size 400x300 with 1 Axes>"
      ]
     },
     "metadata": {},
     "output_type": "display_data"
    }
   ],
   "source": [
    "plot_UAV_FLPO(START_locs, END_locs, F_base, (4,3))"
   ]
  },
  {
   "cell_type": "markdown",
   "metadata": {},
   "source": [
    "### Plot free energy during annealing implementation"
   ]
  },
  {
   "cell_type": "code",
   "execution_count": 51,
   "metadata": {},
   "outputs": [
    {
     "data": {
      "image/png": "[encoded data removed]",
      "text/plain": [
       "<Figure size 1000x300 with 1 Axes>"
      ]
     },
     "metadata": {},
     "output_type": "display_data"
    }
   ],
   "source": [
    "# plot free energy evolution\n",
    "plt.figure(figsize=(10,3))\n",
    "plt.plot(np.log(b_arr)/np.log(10), F_arr, marker='.')\n",
    "plt.ylabel(rf'$F$')\n",
    "plt.xlabel(rf'$\\log_{{10}}\\beta$')\n",
    "plt.grid()\n",
    "plt.show()"
   ]
  }
 ],
 "metadata": {
  "kernelspec": {
   "display_name": "Python 3",
   "language": "python",
   "name": "python3"
  },
  "language_info": {
   "codemirror_mode": {
    "name": "ipython",
    "version": 3
   },
   "file_extension": ".py",
   "mimetype": "text/x-python",
   "name": "python",
   "nbconvert_exporter": "python",
   "pygments_lexer": "ipython3",
   "version": "3.10.0"
  }
 },
 "nbformat": 4,
 "nbformat_minor": 2
}
