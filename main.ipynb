{
 "cells": [
  {
   "cell_type": "markdown",
   "metadata": {},
   "source": [
    "# Learning FLPO"
   ]
  },
  {
   "cell_type": "markdown",
   "metadata": {},
   "source": [
    "In this code, we will implement the hierarchical ML architecture to predict the parameters in the FLPO setup."
   ]
  },
  {
   "cell_type": "code",
   "execution_count": 453,
   "metadata": {},
   "outputs": [],
   "source": [
    "import torch\n",
    "from VRP_Net_L import VRPNet_L\n",
    "from matplotlib import pyplot as plt\n",
    "import utils\n",
    "import os\n",
    "import matplotlib.pyplot as plt\n",
    "from torchinfo import summary\n",
    "import numpy as np\n",
    "import time\n",
    "import LSE_net\n",
    "from torch import optim\n",
    "import importlib"
   ]
  },
  {
   "cell_type": "markdown",
   "metadata": {},
   "source": [
    "# Loading the Data"
   ]
  },
  {
   "cell_type": "code",
   "execution_count": 454,
   "metadata": {},
   "outputs": [
    {
     "data": {
      "text/plain": [
       "tensor([0.3101, 0.3978])"
      ]
     },
     "execution_count": 454,
     "metadata": {},
     "output_type": "execute_result"
    }
   ],
   "source": [
    "torch.normal(mean=torch.tensor([0.3,0.3]), std=torch.tensor([0.1,0.1]))"
   ]
  },
  {
   "cell_type": "code",
   "execution_count": 455,
   "metadata": {},
   "outputs": [
    {
     "name": "stdout",
     "output_type": "stream",
     "text": [
      "Running on:  cpu\n"
     ]
    }
   ],
   "source": [
    "seed=41;\n",
    "torch.manual_seed(seed)\n",
    "torch.cuda.manual_seed(seed)\n",
    "torch.cuda.manual_seed_all(seed)\n",
    "device = torch.device('cuda') if torch.cuda.is_available() else torch.device('cpu')\n",
    "print(\"Running on: \" , device)"
   ]
  },
  {
   "cell_type": "code",
   "execution_count": 456,
   "metadata": {},
   "outputs": [
    {
     "name": "stdout",
     "output_type": "stream",
     "text": [
      "num_drones = 100\tnum_facilities = 5\tdim = 2\n",
      "Data Loaded.\n"
     ]
    },
    {
     "data": {
      "image/png": "[encoded data removed]",
      "text/plain": [
       "<Figure size 400x300 with 1 Axes>"
      ]
     },
     "metadata": {},
     "output_type": "display_data"
    }
   ],
   "source": [
    "# UAV FLPO MetaData\n",
    "num_drones = 100\n",
    "n_drone_clusters = 10\n",
    "drone_cluster_split = np.random.uniform(0.0, 1.0, n_drone_clusters)\n",
    "drone_cluster_split = drone_cluster_split / np.sum(drone_cluster_split)\n",
    "num_facilities = 5\n",
    "dim_ = 2\n",
    "print(f'num_drones = {num_drones}\\tnum_facilities = {num_facilities}\\tdim = {dim_}')\n",
    "\n",
    "# Assign start location to each drone\n",
    "drone_cnt = 0\n",
    "for i in range(n_drone_clusters):\n",
    "    if i == n_drone_clusters-1:\n",
    "        n_drones = int(num_drones - drone_cnt)\n",
    "    else:\n",
    "        n_drones = int(drone_cluster_split[i] * (num_drones+1))\n",
    "        drone_cnt += n_drones\n",
    "\n",
    "    drone_cluster_mean = torch.rand(1, dim_).repeat(n_drones,1).unsqueeze(1).to(device)\n",
    "    drone_cluster_std = ((0.01 - 0.05) * torch.rand(1,dim_) + 0.05).repeat(n_drones,1).unsqueeze(1).to(device)\n",
    "    drone_cluster_START_locs = torch.normal(mean=drone_cluster_mean, std=drone_cluster_std)\n",
    "    if i == 0:\n",
    "        START_locs = drone_cluster_START_locs\n",
    "    else:\n",
    "        START_locs = torch.cat((START_locs, drone_cluster_START_locs), axis=0)\n",
    "\n",
    "START_locs.shape\n",
    "\n",
    "# Assign destination location to each drone\n",
    "END_locs = torch.ones((num_drones, 1, dim_), requires_grad=False, device=device)#torch.rand(num_drones, 1, dim_, requires_grad=False, device=device)\n",
    "\n",
    "# Create the data tensor\n",
    "F_base = torch.mean(START_locs, dim=0).repeat(num_facilities, 1).unsqueeze(0).requires_grad_().to(device)\n",
    "F_locs = F_base.expand(num_drones, -1, -1)  # view, shares grad with F_base\n",
    "data = torch.cat((START_locs, F_locs, END_locs), dim=1)  # shape: (Nd, Nf+2, D)\n",
    "print(\"Data Loaded.\")\n",
    "\n",
    "# plot the data\n",
    "def plot_UAV_FLPO(drone_START, drone_END, Facilities, figuresize=(6,5)):\n",
    "    start_locs = drone_START.squeeze(1).cpu().numpy()\n",
    "    end_locs = drone_END.squeeze(1).cpu().numpy()\n",
    "    f_locs = Facilities.squeeze(0).detach().cpu().numpy()\n",
    "\n",
    "    plt.figure(figsize=figuresize)\n",
    "    plt.scatter(start_locs[:,0], start_locs[:,1], color='violet', marker='X', alpha=0.5)\n",
    "    plt.scatter(end_locs[:,0], end_locs[:,1], color='red', marker='.')\n",
    "    plt.scatter(f_locs[:,0], f_locs[:,1], color='black', marker='^')\n",
    "    plt.grid()\n",
    "    plt.show()\n",
    "\n",
    "plot_UAV_FLPO(START_locs, END_locs, F_base, (4,3))"
   ]
  },
  {
   "cell_type": "markdown",
   "metadata": {},
   "source": [
    "### Compute n_routes from each drone"
   ]
  },
  {
   "cell_type": "code",
   "execution_count": 457,
   "metadata": {},
   "outputs": [
    {
     "name": "stdout",
     "output_type": "stream",
     "text": [
      "n_routes:\ttorch.Size([100, 1])\n",
      "tensor([[3906.],\n",
      "        [3906.],\n",
      "        [3906.],\n",
      "        [3906.],\n",
      "        [3906.],\n",
      "        [3906.],\n",
      "        [3906.],\n",
      "        [3906.],\n",
      "        [3906.],\n",
      "        [3906.],\n",
      "        [3906.],\n",
      "        [3906.],\n",
      "        [3906.],\n",
      "        [3906.],\n",
      "        [3906.],\n",
      "        [3906.],\n",
      "        [3906.],\n",
      "        [3906.],\n",
      "        [3906.],\n",
      "        [3906.],\n",
      "        [3906.],\n",
      "        [3906.],\n",
      "        [3906.],\n",
      "        [3906.],\n",
      "        [3906.],\n",
      "        [3906.],\n",
      "        [3906.],\n",
      "        [3906.],\n",
      "        [3906.],\n",
      "        [3906.],\n",
      "        [3906.],\n",
      "        [3906.],\n",
      "        [3906.],\n",
      "        [3906.],\n",
      "        [3906.],\n",
      "        [3906.],\n",
      "        [3906.],\n",
      "        [3906.],\n",
      "        [3906.],\n",
      "        [3906.],\n",
      "        [3906.],\n",
      "        [3906.],\n",
      "        [3906.],\n",
      "        [3906.],\n",
      "        [3906.],\n",
      "        [3906.],\n",
      "        [3906.],\n",
      "        [3906.],\n",
      "        [3906.],\n",
      "        [3906.],\n",
      "        [3906.],\n",
      "        [3906.],\n",
      "        [3906.],\n",
      "        [3906.],\n",
      "        [3906.],\n",
      "        [3906.],\n",
      "        [3906.],\n",
      "        [3906.],\n",
      "        [3906.],\n",
      "        [3906.],\n",
      "        [3906.],\n",
      "        [3906.],\n",
      "        [3906.],\n",
      "        [3906.],\n",
      "        [3906.],\n",
      "        [3906.],\n",
      "        [3906.],\n",
      "        [3906.],\n",
      "        [3906.],\n",
      "        [3906.],\n",
      "        [3906.],\n",
      "        [3906.],\n",
      "        [3906.],\n",
      "        [3906.],\n",
      "        [3906.],\n",
      "        [3906.],\n",
      "        [3906.],\n",
      "        [3906.],\n",
      "        [3906.],\n",
      "        [3906.],\n",
      "        [3906.],\n",
      "        [3906.],\n",
      "        [3906.],\n",
      "        [3906.],\n",
      "        [3906.],\n",
      "        [3906.],\n",
      "        [3906.],\n",
      "        [3906.],\n",
      "        [3906.],\n",
      "        [3906.],\n",
      "        [3906.],\n",
      "        [3906.],\n",
      "        [3906.],\n",
      "        [3906.],\n",
      "        [3906.],\n",
      "        [3906.],\n",
      "        [3906.],\n",
      "        [3906.],\n",
      "        [3906.],\n",
      "        [3906.]])\n",
      "log_n_routes:\ttorch.Size([100, 1])\n",
      "tensor([[8.2703],\n",
      "        [8.2703],\n",
      "        [8.2703],\n",
      "        [8.2703],\n",
      "        [8.2703],\n",
      "        [8.2703],\n",
      "        [8.2703],\n",
      "        [8.2703],\n",
      "        [8.2703],\n",
      "        [8.2703],\n",
      "        [8.2703],\n",
      "        [8.2703],\n",
      "        [8.2703],\n",
      "        [8.2703],\n",
      "        [8.2703],\n",
      "        [8.2703],\n",
      "        [8.2703],\n",
      "        [8.2703],\n",
      "        [8.2703],\n",
      "        [8.2703],\n",
      "        [8.2703],\n",
      "        [8.2703],\n",
      "        [8.2703],\n",
      "        [8.2703],\n",
      "        [8.2703],\n",
      "        [8.2703],\n",
      "        [8.2703],\n",
      "        [8.2703],\n",
      "        [8.2703],\n",
      "        [8.2703],\n",
      "        [8.2703],\n",
      "        [8.2703],\n",
      "        [8.2703],\n",
      "        [8.2703],\n",
      "        [8.2703],\n",
      "        [8.2703],\n",
      "        [8.2703],\n",
      "        [8.2703],\n",
      "        [8.2703],\n",
      "        [8.2703],\n",
      "        [8.2703],\n",
      "        [8.2703],\n",
      "        [8.2703],\n",
      "        [8.2703],\n",
      "        [8.2703],\n",
      "        [8.2703],\n",
      "        [8.2703],\n",
      "        [8.2703],\n",
      "        [8.2703],\n",
      "        [8.2703],\n",
      "        [8.2703],\n",
      "        [8.2703],\n",
      "        [8.2703],\n",
      "        [8.2703],\n",
      "        [8.2703],\n",
      "        [8.2703],\n",
      "        [8.2703],\n",
      "        [8.2703],\n",
      "        [8.2703],\n",
      "        [8.2703],\n",
      "        [8.2703],\n",
      "        [8.2703],\n",
      "        [8.2703],\n",
      "        [8.2703],\n",
      "        [8.2703],\n",
      "        [8.2703],\n",
      "        [8.2703],\n",
      "        [8.2703],\n",
      "        [8.2703],\n",
      "        [8.2703],\n",
      "        [8.2703],\n",
      "        [8.2703],\n",
      "        [8.2703],\n",
      "        [8.2703],\n",
      "        [8.2703],\n",
      "        [8.2703],\n",
      "        [8.2703],\n",
      "        [8.2703],\n",
      "        [8.2703],\n",
      "        [8.2703],\n",
      "        [8.2703],\n",
      "        [8.2703],\n",
      "        [8.2703],\n",
      "        [8.2703],\n",
      "        [8.2703],\n",
      "        [8.2703],\n",
      "        [8.2703],\n",
      "        [8.2703],\n",
      "        [8.2703],\n",
      "        [8.2703],\n",
      "        [8.2703],\n",
      "        [8.2703],\n",
      "        [8.2703],\n",
      "        [8.2703],\n",
      "        [8.2703],\n",
      "        [8.2703],\n",
      "        [8.2703],\n",
      "        [8.2703],\n",
      "        [8.2703],\n",
      "        [8.2703]])\n"
     ]
    }
   ],
   "source": [
    "importlib.reload(utils)\n",
    "n_drone_routes = torch.tensor(utils.num_flpo_routes(num_facilities, num_drones)[0], dtype=torch.float32).view(-1,1).to(device)\n",
    "print(f\"n_routes:\\t{n_drone_routes.shape}\\n{n_drone_routes}\\nlog_n_routes:\\t{n_drone_routes.shape}\\n{torch.log(n_drone_routes)}\")"
   ]
  },
  {
   "cell_type": "markdown",
   "metadata": {},
   "source": [
    "# Loading the VRP NET Module"
   ]
  },
  {
   "cell_type": "code",
   "execution_count": 458,
   "metadata": {},
   "outputs": [
    {
     "name": "stdout",
     "output_type": "stream",
     "text": [
      "VRP NET loaded on:  cpu\n",
      "===============================================================================================\n",
      "Layer (type:depth-idx)                                                 Param #\n",
      "===============================================================================================\n",
      "VRPNet_L                                                               --\n",
      "├─LinearAttnEncoder: 1-1                                               2,560\n",
      "│    └─MultiheadAttention: 2-1                                         197,376\n",
      "│    │    └─NonDynamicallyQuantizableLinear: 3-1                       65,792\n",
      "│    └─Linear: 2-2                                                     768\n",
      "│    └─Linear: 2-3                                                     8,224\n",
      "│    └─LayerNorm: 2-4                                                  512\n",
      "│    └─Dropout: 2-5                                                    --\n",
      "│    └─ReLU: 2-6                                                       --\n",
      "├─Decoder: 1-2                                                         --\n",
      "│    └─TransformerDecoder: 2-7                                         --\n",
      "│    │    └─ModuleList: 3-2                                            16,992\n",
      "├─PositionalEncoding: 1-3                                              --\n",
      "===============================================================================================\n",
      "Total params: 292,224\n",
      "Trainable params: 292,224\n",
      "Non-trainable params: 0\n",
      "===============================================================================================\n"
     ]
    }
   ],
   "source": [
    "hidden_dim = 32\n",
    "num_layers_enc = 1\n",
    "num_layers_dec = 1\n",
    "num_heads = 8\n",
    "torch.cuda.empty_cache()\n",
    "vrp_net = VRPNet_L(dim_, hidden_dim, device, num_layers_enc, num_layers_dec, num_heads)\n",
    "if torch.cuda.is_available():\n",
    "    vrp_net.load_state_dict(torch.load('Saved models/POMO2025_04_12 00_54_260.6350972652435303best_model.pth',weights_only=True))\n",
    "else:\n",
    "    vrp_net.load_state_dict(torch.load('Saved models/POMO2025_04_12 00_54_260.6350972652435303best_model.pth',weights_only=False, map_location=torch.device('cpu')))\n",
    "vrp_net.eval()\n",
    "\n",
    "# for param in vrp_net.parameters():\n",
    "#     param.requires_grad = False\n",
    "print('VRP NET loaded on: ',vrp_net.device)\n",
    "print(summary(vrp_net))"
   ]
  },
  {
   "cell_type": "markdown",
   "metadata": {},
   "source": [
    "# Loading lseNet"
   ]
  },
  {
   "cell_type": "code",
   "execution_count": 459,
   "metadata": {},
   "outputs": [
    {
     "name": "stdout",
     "output_type": "stream",
     "text": [
      "n_inputs: 3\n",
      "n_outputs: 1\n",
      "layers: [20, 20, 10]\n",
      "io_scale: 1\n",
      "LSE_net:\n",
      "=================================================================\n",
      "Layer (type:depth-idx)                   Param #\n",
      "=================================================================\n",
      "dnn                                      --\n",
      "├─ModuleList: 1-1                        --\n",
      "│    └─Linear: 2-1                       (80)\n",
      "│    └─ReLU: 2-2                         --\n",
      "│    └─Linear: 2-3                       (420)\n",
      "│    └─ReLU: 2-4                         --\n",
      "│    └─Linear: 2-5                       (210)\n",
      "│    └─ReLU: 2-6                         --\n",
      "│    └─Linear: 2-7                       (11)\n",
      "=================================================================\n",
      "Total params: 721\n",
      "Trainable params: 0\n",
      "Non-trainable params: 721\n",
      "=================================================================\n"
     ]
    }
   ],
   "source": [
    "importlib.reload(LSE_net)\n",
    "lse_data = torch.load('logSumExp_models/lse_2025_5_1__17_6_31.pth', weights_only=False)\n",
    "n_inputs = lse_data['n_inputs']\n",
    "n_outputs = lse_data['n_outputs']\n",
    "layers = lse_data['layers']\n",
    "weights = lse_data['model_state_dict']\n",
    "io_scale = lse_data['io_scale']\n",
    "lse_net = LSE_net.dnn(n_inputs, n_outputs, layers)\n",
    "lse_net.to(device)\n",
    "lse_net.load_state_dict(weights)\n",
    "lse_net.eval()\n",
    "for p in lse_net.parameters():\n",
    "    p.requires_grad = False\n",
    "print(f'n_inputs: {n_inputs}\\nn_outputs: {n_outputs}\\nlayers: {layers}\\nio_scale: {io_scale}\\nLSE_net:\\n{summary(lse_net)}')"
   ]
  },
  {
   "cell_type": "code",
   "execution_count": 460,
   "metadata": {},
   "outputs": [
    {
     "data": {
      "text/plain": [
       "torch.Size([2])"
      ]
     },
     "execution_count": 460,
     "metadata": {},
     "output_type": "execute_result"
    }
   ],
   "source": [
    "torch.tensor([10,10]).shape"
   ]
  },
  {
   "cell_type": "code",
   "execution_count": 461,
   "metadata": {},
   "outputs": [],
   "source": [
    "def logSumExp(D_tensor, beta):\n",
    "    # with torch.no_grad():\n",
    "    # print(D_tensor)\n",
    "    D_min = torch.min(D_tensor, axis=1, keepdims=True)\n",
    "    F = -1/beta * torch.log(torch.sum(torch.exp(-beta*(D_tensor - D_min.values)), axis=1, keepdims=True)) + 1/beta * torch.log(torch.tensor([D_tensor.shape[1]])) + D_min.values\n",
    "    return F\n",
    "\n",
    "def area_approx_F(D_min, D_max_range, beta, printCalculations=False):\n",
    "    min_beta_D_arr = beta * D_min\n",
    "    x_max = beta * D_max_range - min_beta_D_arr\n",
    "    F_est = -1/beta * torch.log(1/x_max * (1 - torch.exp(-x_max))) + D_min\n",
    "    \n",
    "    if printCalculations:\n",
    "        print(f'min_beta_D_arr:{min_beta_D_arr}')\n",
    "        print(f'x_max:{x_max}')\n",
    "        print(f'inside_log:{1/x_max * (1 - torch.exp(-x_max))}')\n",
    "        print(f'log:{torch.log(1/x_max * (1 - torch.exp(-x_max)))}')\n",
    "        print(f'-1/beta_log:\\n{-1/beta * torch.log(1/x_max * (1 - torch.exp(-x_max)))}')\n",
    "        \n",
    "    return F_est"
   ]
  },
  {
   "cell_type": "markdown",
   "metadata": {},
   "source": [
    "### Pick a random variable matrix with iid entries of shape shape (a,b) between [r1, r2] at uniform using pytorch"
   ]
  },
  {
   "cell_type": "code",
   "execution_count": 462,
   "metadata": {},
   "outputs": [],
   "source": [
    "# a = 3\n",
    "# b = 2\n",
    "# r1 = 0.5\n",
    "# r2 = 10.0\n",
    "# (r1 - r2) * torch.rand(a,b) + r2"
   ]
  },
  {
   "cell_type": "code",
   "execution_count": 463,
   "metadata": {},
   "outputs": [],
   "source": [
    "s = time.time()\n",
    "with torch.no_grad():\n",
    "    # forward pass: no activations are saved for grad\n",
    "    _, actions = vrp_net(data, mod='eval_greedy')\n",
    "e = time.time()\n",
    "actions.detach()\n",
    "d_mins = utils.route_cost(data, actions)\n"
   ]
  },
  {
   "cell_type": "markdown",
   "metadata": {},
   "source": [
    "#### The next 3 blocks show that, when we work with torch.float32 datatype, the Free energy approximation at $\\beta_{min}$ \\[using the function area_approx_F()\\] is poor when $\\beta_{min} \\leq 2e-4$. Therefore, for all d_mins $\\in [0,1],$ we should keep $\\beta_{min} > 1e-3.$"
   ]
  },
  {
   "cell_type": "code",
   "execution_count": 464,
   "metadata": {},
   "outputs": [
    {
     "name": "stdout",
     "output_type": "stream",
     "text": [
      "tensor([0.8063, 0.7783, 0.7975, 0.7932, 0.7998, 0.7810, 0.7962, 0.7915, 0.7835,\n",
      "        0.7915, 0.8118, 0.7850, 0.7891, 0.6895, 0.6724, 0.6649, 0.6463, 0.6710,\n",
      "        0.6480, 0.6604, 0.7302, 0.6566, 0.6584, 0.6644, 0.6744, 0.6774, 0.6563,\n",
      "        0.6722, 0.8733, 0.8011, 0.8347, 0.7860, 0.8787, 0.8054, 0.7952, 0.7856,\n",
      "        0.8021, 0.7850, 0.8026, 0.7668, 0.7540, 0.7812, 0.7893, 0.7512, 0.7893,\n",
      "        0.6387, 0.6467, 0.6667, 0.5826, 0.6068, 0.0912, 0.0885, 0.0511, 0.0882,\n",
      "        0.1231, 0.0976, 0.0769, 0.0482, 0.0632, 0.8909, 0.9084, 0.8764, 0.8995,\n",
      "        0.9138, 0.9267, 0.8937, 0.9411, 0.9961, 1.0028, 0.9920, 0.9883, 0.9866,\n",
      "        0.9780, 1.0151, 0.9595, 1.0145, 0.9683, 0.9575, 0.9776, 0.7802, 0.7810,\n",
      "        0.7772, 0.7826, 0.7771, 0.7652, 0.7863, 0.7756, 0.7701, 0.7753, 0.7690,\n",
      "        0.7725, 0.7831, 0.7631, 0.7843, 0.7816, 0.7692, 0.7735, 0.7738, 0.7666,\n",
      "        0.7702], grad_fn=<SumBackward1>)\n",
      "torch.float32\n"
     ]
    }
   ],
   "source": [
    "print(d_mins)\n",
    "print(d_mins.dtype)\n"
   ]
  },
  {
   "cell_type": "code",
   "execution_count": 465,
   "metadata": {},
   "outputs": [
    {
     "name": "stdout",
     "output_type": "stream",
     "text": [
      "tensor([0.8063, 0.7783, 0.7975, 0.7932, 0.7998, 0.7810, 0.7962, 0.7915, 0.7835,\n",
      "        0.7915, 0.8118, 0.7850, 0.7891, 0.6895, 0.6724, 0.6649, 0.6463, 0.6710,\n",
      "        0.6480, 0.6604, 0.7302, 0.6566, 0.6584, 0.6644, 0.6744, 0.6774, 0.6563,\n",
      "        0.6722, 0.8733, 0.8011, 0.8347, 0.7860, 0.8787, 0.8054, 0.7952, 0.7856,\n",
      "        0.8021, 0.7850, 0.8026, 0.7668, 0.7540, 0.7812, 0.7893, 0.7512, 0.7893,\n",
      "        0.6387, 0.6467, 0.6667, 0.5826, 0.6068, 0.0912, 0.0885, 0.0511, 0.0882,\n",
      "        0.1231, 0.0976, 0.0769, 0.0482, 0.0632, 0.8909, 0.9084, 0.8764, 0.8995,\n",
      "        0.9138, 0.9267, 0.8937, 0.9411, 0.9961, 1.0028, 0.9920, 0.9883, 0.9866,\n",
      "        0.9780, 1.0151, 0.9595, 1.0145, 0.9683, 0.9575, 0.9776, 0.7802, 0.7810,\n",
      "        0.7772, 0.7826, 0.7771, 0.7652, 0.7863, 0.7756, 0.7701, 0.7753, 0.7690,\n",
      "        0.7725, 0.7831, 0.7631, 0.7843, 0.7816, 0.7692, 0.7735, 0.7738, 0.7666,\n",
      "        0.7702], dtype=torch.float64, grad_fn=<ToCopyBackward0>)\n",
      "torch.float64\n"
     ]
    }
   ],
   "source": [
    "d_mins1 = d_mins.to(torch.float64)\n",
    "print(d_mins1)\n",
    "print(d_mins1.dtype)"
   ]
  },
  {
   "cell_type": "markdown",
   "metadata": {},
   "source": [
    "#### Theoretically, the estimate of Free Energy at $\\beta_{min}$ should be (almost) equal at $\\beta = 1e-3$ and $\\beta = 1e-4$. Below we observe that when the d_min data is in float32 precision, the values are not equal for the two $\\beta$ values."
   ]
  },
  {
   "cell_type": "code",
   "execution_count": 466,
   "metadata": {},
   "outputs": [
    {
     "name": "stdout",
     "output_type": "stream",
     "text": [
      "beta:0.001\n",
      "F_tensor1_float32:\n",
      "tensor([ 0.8622,  0.9697,  0.9826,  0.9767,  0.7883,  0.9410,  1.0116,  1.0311,\n",
      "         0.9043,  1.0124,  0.9513,  0.7634,  0.8071,  0.8443,  0.8058,  0.8135,\n",
      "         0.8922,  0.8772,  0.8869,  0.7856,  0.7764,  0.7543,  0.8141,  0.7777,\n",
      "         0.8809,  0.9185,  0.8090,  0.8006,  0.9899,  1.0282,  0.7808,  0.9810,\n",
      "         0.6959,  0.8829,  0.8199,  0.9064,  0.9546,  0.9077,  0.9840,  0.7942,\n",
      "         0.8420,  0.9435,  1.0074,  0.8792,  0.9638,  0.7524,  0.7461,  0.8954,\n",
      "         0.7380,  0.7610,  0.5438,  0.5267,  0.5107,  0.5661,  0.5424,  0.5476,\n",
      "         0.5124,  0.5032,  0.5449,  0.8984,  0.9237,  0.8137,  1.1306,  1.0326,\n",
      "         1.3601,  0.8510,  0.5220, -0.5675, 15.7542, -0.9051, -1.0065,  1.3771,\n",
      "        -0.1788,  1.0305,  0.4733,  4.9211,  0.1764,  0.5287,  0.6815,  0.8374,\n",
      "         0.7600,  0.8517,  1.0202,  0.8155,  0.7620,  0.9771,  0.9323,  0.9537,\n",
      "         0.7594,  0.7732,  0.8570,  0.9277,  0.8486,  0.8358,  0.8923,  0.9476,\n",
      "         1.0171,  0.9765,  0.9554,  0.8100])\n",
      "\n",
      "beta:0.0001\n",
      "F_tensor2_float32:\n",
      "tensor([ 1.3624e+00,  3.4575e-03, -6.1774e+00, -2.5222e-01, -5.2696e+00,\n",
      "         1.0552e+01, -2.9022e+00, -5.3876e+00,  7.4972e+00, -5.5758e+00,\n",
      "        -7.2923e+00, -4.9724e+00, -4.6847e+00,  3.1635e-01, -5.2684e+00,\n",
      "         5.7093e+00,  6.4762e+00, -8.9287e-01, -5.4263e+00, -5.1088e+00,\n",
      "        -7.6431e+00,  1.6318e+00,  3.9598e+00,  2.0738e-02,  4.5704e+00,\n",
      "         4.9347e+00, -6.4865e+00,  1.3696e-01, -1.6759e+01, -8.9109e+00,\n",
      "         1.4724e+01,  2.7340e+00,  2.3650e+01, -1.3723e+01, -1.0591e+01,\n",
      "        -6.3442e+00, -6.8667e-01, -6.3055e+00,  5.6365e+00,  8.7093e+00,\n",
      "        -5.6324e+00,  2.4044e+00, -1.1163e+01,  9.2217e+00, -1.1601e+01,\n",
      "         3.4262e+00, -5.1070e+00,  2.9528e+00,  4.9925e+00, -5.4317e+00,\n",
      "        -1.9435e+00,  1.8541e+00,  2.4837e-01, -1.6712e+00,  9.1592e-01,\n",
      "        -2.7572e-02, -2.0269e+00, -1.0401e+00, -2.1205e+00,  6.4327e+00,\n",
      "        -2.4949e+01,  1.9552e+01, -2.0482e+01, -2.5522e+01,  5.2626e+00,\n",
      "         2.2918e+01, -2.3478e+01,  7.8582e+02,  1.5463e+03,  3.5939e+02,\n",
      "        -1.7008e+02, -2.1490e+02, -1.0608e+01, -2.3230e+02, -1.8626e+01,\n",
      "         1.2310e+02,  4.9494e+01,  3.8830e+01, -1.0784e+02, -6.7819e+00,\n",
      "         1.4187e+01, -6.5038e+00, -7.8063e+00, -1.5150e+00, -1.8070e+00,\n",
      "         1.3857e+01,  1.2975e+01, -5.1708e+00,  6.1675e-01, -9.5052e+00,\n",
      "        -8.8609e+00, -5.1861e-01,  1.1687e+01, -1.4649e+00,  1.0079e+01,\n",
      "         5.1338e+00,  5.7801e-01, -1.0366e+01, -1.0110e+01, -9.2027e+00])\n",
      "\n",
      "beta:0.001\n",
      "F_tensor1_float64:\n",
      "tensor([0.9031, 0.8891, 0.8987, 0.8966, 0.8999, 0.8905, 0.8981, 0.8958, 0.8917,\n",
      "        0.8958, 0.9059, 0.8925, 0.8946, 0.8447, 0.8362, 0.8324, 0.8232, 0.8355,\n",
      "        0.8240, 0.8302, 0.8651, 0.8283, 0.8292, 0.8322, 0.8372, 0.8387, 0.8282,\n",
      "        0.8361, 0.9366, 0.9006, 0.9173, 0.8930, 0.9394, 0.9027, 0.8976, 0.8928,\n",
      "        0.9011, 0.8925, 0.9013, 0.8834, 0.8770, 0.8906, 0.8946, 0.8756, 0.8946,\n",
      "        0.8193, 0.8234, 0.8334, 0.7913, 0.8034, 0.5456, 0.5442, 0.5255, 0.5441,\n",
      "        0.5615, 0.5488, 0.5384, 0.5241, 0.5316, 0.9454, 0.9542, 0.9382, 0.9497,\n",
      "        0.9569, 0.9633, 0.9468, 0.9706, 0.9981, 1.0014, 0.9960, 0.9941, 0.9933,\n",
      "        0.9890, 1.0076, 0.9798, 1.0072, 0.9841, 0.9788, 0.9888, 0.8901, 0.8905,\n",
      "        0.8886, 0.8913, 0.8886, 0.8826, 0.8932, 0.8878, 0.8850, 0.8876, 0.8845,\n",
      "        0.8863, 0.8915, 0.8816, 0.8921, 0.8908, 0.8846, 0.8868, 0.8869, 0.8833,\n",
      "        0.8851], dtype=torch.float64)\n",
      "\n",
      "beta:0.0001\n",
      "F_tensor2_float64:\n",
      "tensor([0.9031, 0.8891, 0.8987, 0.8966, 0.8999, 0.8905, 0.8981, 0.8958, 0.8917,\n",
      "        0.8958, 0.9059, 0.8925, 0.8946, 0.8447, 0.8362, 0.8324, 0.8232, 0.8355,\n",
      "        0.8240, 0.8302, 0.8651, 0.8283, 0.8292, 0.8322, 0.8372, 0.8387, 0.8282,\n",
      "        0.8361, 0.9366, 0.9006, 0.9173, 0.8930, 0.9394, 0.9027, 0.8976, 0.8928,\n",
      "        0.9011, 0.8925, 0.9013, 0.8834, 0.8770, 0.8906, 0.8946, 0.8756, 0.8946,\n",
      "        0.8193, 0.8234, 0.8334, 0.7913, 0.8034, 0.5456, 0.5442, 0.5255, 0.5441,\n",
      "        0.5616, 0.5488, 0.5385, 0.5241, 0.5316, 0.9454, 0.9542, 0.9382, 0.9497,\n",
      "        0.9569, 0.9633, 0.9468, 0.9706, 0.9981, 1.0014, 0.9960, 0.9941, 0.9933,\n",
      "        0.9890, 1.0076, 0.9798, 1.0072, 0.9841, 0.9788, 0.9888, 0.8901, 0.8905,\n",
      "        0.8886, 0.8913, 0.8886, 0.8826, 0.8932, 0.8878, 0.8850, 0.8876, 0.8845,\n",
      "        0.8863, 0.8915, 0.8816, 0.8921, 0.8908, 0.8846, 0.8868, 0.8869, 0.8833,\n",
      "        0.8851], dtype=torch.float64)\n"
     ]
    }
   ],
   "source": [
    "# discared method using uniform distribution on D's\n",
    "# with torch.no_grad():\n",
    "    # D_tensor = (d_mins1.view(-1,1) - 1.0) * torch.rand(num_drones, int(n_drone_routes[0,0])) + 1.0\n",
    "    # F_tensor = logSumExp(D_tensor, beta=1e-4)\n",
    "\n",
    "# current method\n",
    "with torch.no_grad():\n",
    "    F_tensor1_float32 = area_approx_F(d_mins, D_max_range=1.0, beta=1e-3, printCalculations=False)\n",
    "    print(f'beta:{1e-3}\\nF_tensor1_float32:\\n{F_tensor1_float32}\\n')\n",
    "    F_tensor2_float32 = area_approx_F(d_mins, D_max_range=1.0, beta=1e-4, printCalculations=False)\n",
    "    print(f'beta:{1e-4}\\nF_tensor2_float32:\\n{F_tensor2_float32}\\n')\n",
    "\n",
    "    F_tensor1_float64 = area_approx_F(d_mins1, D_max_range=1.0, beta=1e-3, printCalculations=False)\n",
    "    print(f'beta:{1e-3}\\nF_tensor1_float64:\\n{F_tensor1_float64}\\n')\n",
    "    F_tensor2_float64 = area_approx_F(d_mins1, D_max_range=1.0, beta=1e-4, printCalculations=False)\n",
    "    print(f'beta:{1e-4}\\nF_tensor2_float64:\\n{F_tensor2_float64}')\n"
   ]
  },
  {
   "cell_type": "code",
   "execution_count": 478,
   "metadata": {},
   "outputs": [
    {
     "data": {
      "image/png": "[encoded data removed]",
      "text/plain": [
       "<Figure size 1400x200 with 2 Axes>"
      ]
     },
     "metadata": {},
     "output_type": "display_data"
    }
   ],
   "source": [
    "# b_arr = torch.tensor(lse_data['b_arr'], dtype=torch.float32)\n",
    "# len_Darray = torch.tensor(lse_data['len_Darray'], dtype=torch.float32)\n",
    "io_scale = lse_data['io_scale']\n",
    "b_min = 0.001\n",
    "b_max = 100000\n",
    "b_grow = 1.5\n",
    "b_array = utils.createBetaArray(b_min, b_max, b_grow).to(device)\n",
    "drone_id = np.random.choice(range(num_drones))\n",
    "FreeEnergy = []\n",
    "log_betas = []\n",
    "betas = []\n",
    "\n",
    "s = time.time()\n",
    "with torch.no_grad():\n",
    "    # forward pass: no activations are saved for grad\n",
    "    _, actions = vrp_net(data, mod='eval_greedy')\n",
    "e = time.time()\n",
    "actions.detach()\n",
    "\n",
    "d_mins = utils.route_cost(data, actions)[drone_id:drone_id+1]\n",
    "Fmin_est = area_approx_F(d_mins, D_max_range=2.0, beta=b_min, printCalculations=False)\n",
    "beta=b_min\n",
    "\n",
    "for beta in b_array:\n",
    "\n",
    "    torch.cuda.empty_cache()\n",
    "    In = torch.tensor([\n",
    "        Fmin_est.to(device),\n",
    "        io_scale*d_mins,\n",
    "        torch.log(torch.tensor([beta]))/torch.log(torch.tensor([10.0])).to(device)\n",
    "    ])\n",
    "    log_betas.append(In[2].detach().numpy())\n",
    "    betas.append(10**In[2].detach().numpy())\n",
    "    Out = lse_net(In)/io_scale - 0*(1/beta * torch.log(n_drone_routes[drone_id,0])).to(device)\n",
    "    FreeEnergy.append(Out[0].detach().numpy())\n",
    "    \n",
    "\n",
    "plt.figure(figsize=(14,2))\n",
    "\n",
    "plt.subplot(1,2,1)\n",
    "plt.plot(log_betas, FreeEnergy, marker='.', markersize=10)\n",
    "plt.plot(log_betas, d_mins.detach().numpy() * np.ones(len(betas)), marker='.', markersize=5)\n",
    "plt.xlabel(rf'$\\log_{{10}}\\beta$')\n",
    "plt.ylabel(rf'$F(\\beta)$')\n",
    "plt.grid()\n",
    "\n",
    "plt.subplot(1,2,2)\n",
    "plt.plot(betas, FreeEnergy, marker='.', markersize=10)\n",
    "plt.plot(betas, d_mins.detach().numpy() * np.ones(len(betas)), marker='.', markersize=5)\n",
    "plt.xlabel(rf'$\\beta$')\n",
    "plt.ylabel(rf'$F(\\beta)$')\n",
    "plt.grid()\n",
    "plt.show()"
   ]
  },
  {
   "cell_type": "markdown",
   "metadata": {},
   "source": [
    "### Perform annealing. At each beta, the free energy is optimized by computing the gradients using backpropagation."
   ]
  },
  {
   "cell_type": "code",
   "execution_count": 441,
   "metadata": {},
   "outputs": [
    {
     "name": "stdout",
     "output_type": "stream",
     "text": [
      "beta:1.000e+00\n",
      "\tEpoch: 0\tVRP_runtime: 0.02s\tFreeEnergy: 0.99723\tF_Grad: 3.23106e-01\td_min_mean: 0.3629\n",
      "\tEpoch: 50\tVRP_runtime: 0.02s\tFreeEnergy: 0.96724\tF_Grad: 1.43007e-01\td_min_mean: 0.3184\n",
      "\tEpoch: 100\tVRP_runtime: 0.03s\tFreeEnergy: 0.89775\tF_Grad: 9.02353e-03\td_min_mean: 0.2234\n",
      "\tEpoch: 150\tVRP_runtime: 0.02s\tFreeEnergy: 0.89727\tF_Grad: 1.65577e-03\td_min_mean: 0.2226\n",
      "\tEpoch: 199\tVRP_runtime: 0.03s\tFreeEnergy: 0.89727\tF_Grad: 1.53621e-04\td_min_mean: 0.2226\n"
     ]
    }
   ],
   "source": [
    "num_epochs = 200;\n",
    "optimizer = optim.Adam([F_base], lr=5e-3)\n",
    "# b_arr = torch.tensor(lse_data['b_arr'], dtype=torch.float32)\n",
    "# len_Darray = torch.tensor(lse_data['len_Darray'], dtype=torch.float32)\n",
    "io_scale = lse_data['io_scale']\n",
    "b_min = 1\n",
    "b_max = 1\n",
    "b_grow = 2\n",
    "b_array = utils.createBetaArray(b_min, b_max, b_grow).to(device)\n",
    "torch.autograd.set_detect_anomaly(True)\n",
    "# beta=b_min\n",
    "for beta in b_array:\n",
    "    print(f\"beta:{beta:.3e}\")\n",
    "    for epoch in range(num_epochs):\n",
    "        s = time.time()\n",
    "        with torch.no_grad():\n",
    "            # forward pass: no activations are saved for grad\n",
    "            _, actions = vrp_net(data, mod='eval_greedy')\n",
    "        e = time.time()\n",
    "        actions.detach()\n",
    "        d_mins = utils.route_cost(data, actions)\n",
    "        Fmin_est_tensor = area_approx_F(d_mins, D_max_range=2.0, beta=b_min, printCalculations=False)\n",
    "\n",
    "        torch.cuda.empty_cache()\n",
    "\n",
    "        In = torch.cat((\n",
    "            Fmin_est_tensor.view(-1,1),\n",
    "            io_scale * d_mins.view(-1,1), \n",
    "            torch.ones((num_drones,1)).to(device)*torch.log(torch.tensor([beta]))/torch.log(torch.tensor([10.0])).to(device).to(device)), axis=1)\n",
    "\n",
    "        Out = lse_net(In)/io_scale\n",
    "        FreeEnergy = torch.mean(Out)\n",
    "        \n",
    "        # print(torch.norm(data))\n",
    "        optimizer.zero_grad()\n",
    "        FreeEnergy.backward()\n",
    "        # print(d_mins)\n",
    "        # print(f'before step: {F_base}')\n",
    "        optimizer.step()\n",
    "        # print(f'after step: {F_base}')\n",
    "        # perturb and update facility location data for each drone\n",
    "        # std1 = torch.tensor([[0.05,0.05]]).repeat(nd_per_cluster,1).unsqueeze(1).to(device)\n",
    "        # print(F_base)\n",
    "        F_locs = F_base.expand(num_drones, -1, -1)\n",
    "        # print(F_locs)\n",
    "        data = torch.cat((START_locs, F_locs, END_locs), dim=1)\n",
    "        if epoch % 50 == 0 or epoch == num_epochs-1:\n",
    "            print(f\"\\tEpoch: {epoch}\\tVRP_runtime: {e-s:.2f}s\\tFreeEnergy: {FreeEnergy:.5f}\\tF_Grad: {torch.max(torch.abs(F_base.grad)):.5e}\\td_min_mean: {torch.mean(d_mins):.4f}\")\n",
    "    \n",
    "    with torch.no_grad():\n",
    "        F_base += torch.normal(mean=torch.zeros(1,num_facilities,dim_), std=0.0001*torch.ones(1,num_facilities,dim_)).to(device)\n",
    "        \n",
    "    # update annealing parameter\n",
    "    beta = beta * b_grow\n",
    "    \n"
   ]
  },
  {
   "cell_type": "markdown",
   "metadata": {},
   "source": [
    "# Plotting some results"
   ]
  },
  {
   "cell_type": "code",
   "execution_count": 442,
   "metadata": {},
   "outputs": [
    {
     "data": {
      "image/png": "[encoded data removed]",
      "text/plain": [
       "<Figure size 600x500 with 1 Axes>"
      ]
     },
     "metadata": {},
     "output_type": "display_data"
    }
   ],
   "source": [
    "plot_UAV_FLPO(START_locs, END_locs, F_locs)"
   ]
  }
 ],
 "metadata": {
  "kernelspec": {
   "display_name": "Python 3",
   "language": "python",
   "name": "python3"
  },
  "language_info": {
   "codemirror_mode": {
    "name": "ipython",
    "version": 3
   },
   "file_extension": ".py",
   "mimetype": "text/x-python",
   "name": "python",
   "nbconvert_exporter": "python",
   "pygments_lexer": "ipython3",
   "version": "3.9.6"
  }
 },
 "nbformat": 4,
 "nbformat_minor": 2
}
