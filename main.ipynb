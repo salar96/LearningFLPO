{
 "cells": [
  {
   "cell_type": "code",
   "execution_count": 1,
   "metadata": {},
   "outputs": [],
   "source": [
    "import torch\n",
    "from SPN import SPN\n",
    "from matplotlib import pyplot as plt\n",
    "import utils\n",
    "from torchinfo import summary\n",
    "import numpy as np\n",
    "from DatasetGenerator import generate_dataset, torchFLPO_2_numpyFLPO \n",
    "from viz import plot_UAV_FLPO, plot_UAV_FLPO_3D\n",
    "from pathlib import Path\n",
    "from Anneal import anneal\n",
    "import pickle\n",
    "import time\n",
    "import GD"
   ]
  },
  {
   "cell_type": "markdown",
   "metadata": {},
   "source": [
    "### Initialize an FLPO scenario"
   ]
  },
  {
   "cell_type": "markdown",
   "metadata": {},
   "source": [
    "Run the below command if you encounter errors running the plotting block."
   ]
  },
  {
   "cell_type": "code",
   "execution_count": 2,
   "metadata": {},
   "outputs": [],
   "source": [
    "# !pip install nbformat --upgrade"
   ]
  },
  {
   "cell_type": "code",
   "execution_count": 3,
   "metadata": {},
   "outputs": [
    {
     "name": "stdout",
     "output_type": "stream",
     "text": [
      "Running on:  cpu\n",
      "num_drones = 10\t num_facilities = 4\t dim = 2\t num_distinct_ends = 2\n"
     ]
    },
    {
     "data": {
      "image/png": "[encoded data removed]",
      "text/plain": [
       "<Figure size 1200x1000 with 1 Axes>"
      ]
     },
     "metadata": {},
     "output_type": "display_data"
    }
   ],
   "source": [
    "seed=3\n",
    "torch.manual_seed(seed)\n",
    "torch.cuda.manual_seed(seed)\n",
    "torch.cuda.manual_seed_all(seed)\n",
    "device = torch.device('cuda') if torch.cuda.is_available() else torch.device('cpu')\n",
    "np.random.seed(seed)\n",
    "load_from_path = False\n",
    "scene_path = \"Benchmark/benchmark_data/N40_M4_ends2_seed3\"\n",
    "print(\"Running on: \" , device)\n",
    "\n",
    "if load_from_path:\n",
    "    with open(scene_path, 'rb') as file:\n",
    "        data = pickle.load(file)\n",
    "    START_locs = data[\"START_locs\"]\n",
    "    F_base = data[\"F_base\"]\n",
    "    END_locs = data[\"END_locs\"]\n",
    "    num_drones = START_locs.shape[0]\n",
    "    num_facilities = F_base.shape[-2]\n",
    "    dim_ = F_base.shape[-1]\n",
    "    num_distinct_ends = len(torch.unique(END_locs, dim=0))\n",
    "    print(f\"num_drones = {num_drones}\\t num_facilities = {num_facilities}\\t dim = {dim_}\\t num_distinct_ends = {num_distinct_ends}\")\n",
    "    assert(F_base.requires_grad == True)\n",
    "else:\n",
    "    num_drones = 10\n",
    "    n_drone_clusters = 3\n",
    "    drone_cluster_split = np.random.uniform(0.0, 1.0, n_drone_clusters)\n",
    "    drone_cluster_split = drone_cluster_split / np.sum(drone_cluster_split)\n",
    "    num_facilities = 4\n",
    "    num_distinct_ends = 2\n",
    "    dim_ = 2\n",
    "    print(f\"num_drones = {num_drones}\\t num_facilities = {num_facilities}\\t dim = {dim_}\\t num_distinct_ends = {num_distinct_ends}\")\n",
    "    START_locs, F_base, END_locs = generate_dataset(\n",
    "        num_drones, \n",
    "        n_drone_clusters, \n",
    "        drone_cluster_split, \n",
    "        num_facilities, \n",
    "        dim_, \n",
    "        device, \n",
    "        seed,\n",
    "        drone_cluster_std_range=[0.02, 0.03], \n",
    "        F_noise_std=0.05,\n",
    "        num_distinct_ends=num_distinct_ends\n",
    "    )\n",
    "    assert(F_base.requires_grad == True)\n",
    "\n",
    "start_locs_np = START_locs.cpu().numpy().reshape(-1,2)\n",
    "end_locs_np = END_locs.cpu().numpy().reshape(-1,2)\n",
    "fac_locs = F_base.detach().cpu().numpy().squeeze()\n",
    "\n",
    "plot_UAV_FLPO(START_locs, END_locs, F_base, (12,10))\n",
    "# # plot_UAV_FLPO_3D(START_locs, END_locs, F_base)"
   ]
  },
  {
   "cell_type": "markdown",
   "metadata": {},
   "source": [
    "### Save a new scenario"
   ]
  },
  {
   "cell_type": "code",
   "execution_count": 8,
   "metadata": {},
   "outputs": [
    {
     "name": "stdout",
     "output_type": "stream",
     "text": [
      "Benchmark/benchmark_data/N10_M4_ends2_seed3\n"
     ]
    }
   ],
   "source": [
    "benchmark_data = {\n",
    "    \"START_locs\":START_locs, \n",
    "    \"F_base\":F_base, \n",
    "    \"END_locs\":END_locs,\n",
    "}\n",
    "\n",
    "scenario = f\"N{int(num_drones)}_M{int(num_facilities)}_ends{int(num_distinct_ends)}_seed{int(seed)}\"\n",
    "filepath = \"Benchmark/benchmark_data/\" + scenario\n",
    "print(filepath)\n",
    "\n",
    "with open(filepath, 'wb') as file:\n",
    "    pickle.dump(benchmark_data, file)"
   ]
  },
  {
   "cell_type": "markdown",
   "metadata": {},
   "source": [
    "### Load the SPN Module"
   ]
  },
  {
   "cell_type": "code",
   "execution_count": 9,
   "metadata": {},
   "outputs": [
    {
     "name": "stdout",
     "output_type": "stream",
     "text": [
      "Model created.\n",
      "SPN loaded on:  cpu\n",
      "=====================================================================================\n",
      "Layer (type:depth-idx)                                       Param #\n",
      "=====================================================================================\n",
      "SPN                                                          --\n",
      "├─LinearAttnEncoder: 1-1                                     2,048\n",
      "│    └─ModuleList: 2-1                                       --\n",
      "│    │    └─MultiheadAttention: 3-1                          (66,048)\n",
      "│    │    └─MultiheadAttention: 3-2                          (66,048)\n",
      "│    │    └─MultiheadAttention: 3-3                          (66,048)\n",
      "│    │    └─MultiheadAttention: 3-4                          (66,048)\n",
      "│    │    └─MultiheadAttention: 3-5                          (66,048)\n",
      "│    │    └─MultiheadAttention: 3-6                          (66,048)\n",
      "│    └─ModuleList: 2-2                                       --\n",
      "│    │    └─MultiheadAttention: 3-7                          (66,048)\n",
      "│    │    └─MultiheadAttention: 3-8                          (66,048)\n",
      "│    │    └─MultiheadAttention: 3-9                          (66,048)\n",
      "│    │    └─MultiheadAttention: 3-10                         (66,048)\n",
      "│    │    └─MultiheadAttention: 3-11                         (66,048)\n",
      "│    │    └─MultiheadAttention: 3-12                         (66,048)\n",
      "│    └─Linear: 2-3                                           (512)\n",
      "│    └─ModuleList: 2-4                                       --\n",
      "│    │    └─Sequential: 3-13                                 (65,920)\n",
      "│    │    └─Sequential: 3-14                                 (65,920)\n",
      "│    │    └─Sequential: 3-15                                 (65,920)\n",
      "│    │    └─Sequential: 3-16                                 (65,920)\n",
      "│    │    └─Sequential: 3-17                                 (65,920)\n",
      "│    │    └─Sequential: 3-18                                 (65,920)\n",
      "│    └─LayerNorm: 2-5                                        (256)\n",
      "│    └─LayerNorm: 2-6                                        (256)\n",
      "│    └─Dropout: 2-7                                          --\n",
      "│    └─ReLU: 2-8                                             --\n",
      "├─FastDecoder: 1-2                                           256\n",
      "│    └─Linear: 2-9                                           (384)\n",
      "│    └─Linear: 2-10                                          (384)\n",
      "│    └─ReLU: 2-11                                            --\n",
      "│    └─LayerNorm: 2-12                                       (256)\n",
      "=====================================================================================\n",
      "Total params: 1,192,448\n",
      "Trainable params: 0\n",
      "Non-trainable params: 1,192,448\n",
      "=====================================================================================\n"
     ]
    }
   ],
   "source": [
    "torch.cuda.empty_cache()\n",
    "model_classes = {\"SPN\": SPN}\n",
    "weights_address = (\n",
    "    Path(\"Saved_models\") /\n",
    "    \"FT100_FastAnneal_2025_07_19_01_50_51.pth\"\n",
    ")\n",
    "spn = utils.load_model(\n",
    "    weights_address, model_classes, weights_only=True, device=device\n",
    ")\n",
    "for param in spn.parameters():\n",
    "    param.requires_grad = False\n",
    "print(\"SPN loaded on: \", spn.device)\n",
    "print(summary(spn))"
   ]
  },
  {
   "cell_type": "markdown",
   "metadata": {},
   "source": [
    "### Optimization loop for a single beta\n"
   ]
  },
  {
   "cell_type": "code",
   "execution_count": 5,
   "metadata": {},
   "outputs": [],
   "source": [
    "# optim_iters = 200\n",
    "# optim_step = 0.01\n",
    "# b_min = 1e-3\n",
    "# beta = 1e3\n",
    "# tol = 1e-3\n",
    "\n",
    "# Y_arr_adam, FreeEnergy_adam, G_adam = GD.Adam_at_beta(\n",
    "#     F_base, START_locs, END_locs, spn, optim_iters,\n",
    "#     optim_step, tol=tol, allowPrint=True, return_list= True)\n"
   ]
  },
  {
   "cell_type": "markdown",
   "metadata": {},
   "source": [
    "Using SPN and Path Sampling"
   ]
  },
  {
   "cell_type": "code",
   "execution_count": 10,
   "metadata": {},
   "outputs": [
    {
     "name": "stdout",
     "output_type": "stream",
     "text": [
      "iter: 0\tFreeE:0.112\tNorm_G: 0.255\ttolY:0.028\tmean_D_min:1.660e-01\n",
      "iter: 1\tFreeE:0.106\tNorm_G: 0.240\ttolY:0.028\tmean_D_min:1.624e-01\n",
      "iter: 2\tFreeE:0.101\tNorm_G: 0.225\ttolY:0.026\tmean_D_min:1.568e-01\n",
      "iter: 3\tFreeE:0.097\tNorm_G: 0.193\ttolY:0.023\tmean_D_min:1.532e-01\n",
      "iter: 4\tFreeE:0.094\tNorm_G: 0.168\ttolY:0.021\tmean_D_min:1.448e-01\n",
      "iter: 5\tFreeE:0.092\tNorm_G: 0.151\ttolY:0.019\tmean_D_min:1.414e-01\n",
      "iter: 6\tFreeE:0.090\tNorm_G: 0.149\ttolY:0.018\tmean_D_min:1.382e-01\n",
      "iter: 7\tFreeE:0.088\tNorm_G: 0.161\ttolY:0.017\tmean_D_min:1.372e-01\n",
      "iter: 8\tFreeE:0.085\tNorm_G: 0.149\ttolY:0.017\tmean_D_min:1.309e-01\n",
      "iter: 9\tFreeE:0.083\tNorm_G: 0.160\ttolY:0.018\tmean_D_min:1.229e-01\n",
      "iter: 10\tFreeE:0.081\tNorm_G: 0.156\ttolY:0.018\tmean_D_min:1.189e-01\n",
      "iter: 11\tFreeE:0.078\tNorm_G: 0.139\ttolY:0.018\tmean_D_min:1.166e-01\n",
      "iter: 12\tFreeE:0.076\tNorm_G: 0.123\ttolY:0.018\tmean_D_min:1.161e-01\n",
      "iter: 13\tFreeE:0.074\tNorm_G: 0.107\ttolY:0.018\tmean_D_min:1.164e-01\n",
      "iter: 14\tFreeE:0.073\tNorm_G: 0.092\ttolY:0.018\tmean_D_min:1.132e-01\n",
      "iter: 15\tFreeE:0.072\tNorm_G: 0.077\ttolY:0.017\tmean_D_min:1.092e-01\n",
      "iter: 16\tFreeE:0.071\tNorm_G: 0.065\ttolY:0.017\tmean_D_min:1.058e-01\n",
      "iter: 17\tFreeE:0.070\tNorm_G: 0.078\ttolY:0.016\tmean_D_min:1.003e-01\n",
      "iter: 18\tFreeE:0.069\tNorm_G: 0.071\ttolY:0.015\tmean_D_min:1.012e-01\n",
      "iter: 19\tFreeE:0.068\tNorm_G: 0.061\ttolY:0.015\tmean_D_min:9.475e-02\n",
      "iter: 20\tFreeE:0.068\tNorm_G: 0.054\ttolY:0.014\tmean_D_min:9.478e-02\n",
      "iter: 21\tFreeE:0.068\tNorm_G: 0.050\ttolY:0.013\tmean_D_min:9.643e-02\n",
      "iter: 22\tFreeE:0.067\tNorm_G: 0.050\ttolY:0.011\tmean_D_min:9.570e-02\n",
      "iter: 23\tFreeE:0.067\tNorm_G: 0.053\ttolY:0.011\tmean_D_min:9.404e-02\n",
      "iter: 24\tFreeE:0.067\tNorm_G: 0.060\ttolY:0.010\tmean_D_min:9.705e-02\n",
      "iter: 25\tFreeE:0.067\tNorm_G: 0.066\ttolY:0.009\tmean_D_min:9.179e-02\n",
      "iter: 26\tFreeE:0.066\tNorm_G: 0.074\ttolY:0.009\tmean_D_min:9.099e-02\n",
      "iter: 27\tFreeE:0.066\tNorm_G: 0.072\ttolY:0.009\tmean_D_min:9.038e-02\n",
      "iter: 28\tFreeE:0.066\tNorm_G: 0.053\ttolY:0.009\tmean_D_min:8.994e-02\n",
      "iter: 29\tFreeE:0.066\tNorm_G: 0.037\ttolY:0.008\tmean_D_min:8.889e-02\n",
      "iter: 30\tFreeE:0.066\tNorm_G: 0.039\ttolY:0.007\tmean_D_min:8.809e-02\n",
      "iter: 31\tFreeE:0.066\tNorm_G: 0.052\ttolY:0.006\tmean_D_min:8.899e-02\n",
      "iter: 32\tFreeE:0.066\tNorm_G: 0.063\ttolY:0.006\tmean_D_min:8.851e-02\n",
      "iter: 33\tFreeE:0.066\tNorm_G: 0.066\ttolY:0.006\tmean_D_min:8.730e-02\n",
      "iter: 34\tFreeE:0.066\tNorm_G: 0.061\ttolY:0.006\tmean_D_min:8.750e-02\n",
      "iter: 35\tFreeE:0.066\tNorm_G: 0.053\ttolY:0.006\tmean_D_min:8.750e-02\n",
      "iter: 36\tFreeE:0.066\tNorm_G: 0.048\ttolY:0.005\tmean_D_min:8.839e-02\n",
      "iter: 37\tFreeE:0.066\tNorm_G: 0.048\ttolY:0.004\tmean_D_min:8.838e-02\n",
      "iter: 38\tFreeE:0.066\tNorm_G: 0.051\ttolY:0.003\tmean_D_min:9.101e-02\n",
      "iter: 39\tFreeE:0.066\tNorm_G: 0.053\ttolY:0.002\tmean_D_min:9.135e-02\n",
      "iter: 40\tFreeE:0.066\tNorm_G: 0.051\ttolY:0.003\tmean_D_min:9.511e-02\n",
      "iter: 41\tFreeE:0.066\tNorm_G: 0.046\ttolY:0.004\tmean_D_min:9.499e-02\n",
      "iter: 42\tFreeE:0.066\tNorm_G: 0.040\ttolY:0.005\tmean_D_min:9.483e-02\n",
      "iter: 43\tFreeE:0.065\tNorm_G: 0.037\ttolY:0.005\tmean_D_min:9.642e-02\n",
      "iter: 44\tFreeE:0.065\tNorm_G: 0.036\ttolY:0.005\tmean_D_min:9.634e-02\n",
      "iter: 45\tFreeE:0.065\tNorm_G: 0.033\ttolY:0.005\tmean_D_min:9.690e-02\n",
      "iter: 46\tFreeE:0.065\tNorm_G: 0.032\ttolY:0.005\tmean_D_min:9.675e-02\n",
      "iter: 47\tFreeE:0.065\tNorm_G: 0.032\ttolY:0.005\tmean_D_min:9.726e-02\n",
      "iter: 48\tFreeE:0.065\tNorm_G: 0.033\ttolY:0.006\tmean_D_min:9.751e-02\n",
      "iter: 49\tFreeE:0.065\tNorm_G: 0.034\ttolY:0.006\tmean_D_min:9.705e-02\n",
      "iter: 50\tFreeE:0.065\tNorm_G: 0.031\ttolY:0.007\tmean_D_min:9.532e-02\n",
      "iter: 51\tFreeE:0.064\tNorm_G: 0.026\ttolY:0.007\tmean_D_min:9.601e-02\n",
      "iter: 52\tFreeE:0.064\tNorm_G: 0.023\ttolY:0.007\tmean_D_min:9.633e-02\n",
      "iter: 53\tFreeE:0.064\tNorm_G: 0.022\ttolY:0.006\tmean_D_min:9.679e-02\n",
      "iter: 54\tFreeE:0.064\tNorm_G: 0.021\ttolY:0.006\tmean_D_min:9.731e-02\n",
      "iter: 55\tFreeE:0.064\tNorm_G: 0.017\ttolY:0.006\tmean_D_min:9.827e-02\n",
      "iter: 56\tFreeE:0.064\tNorm_G: 0.013\ttolY:0.005\tmean_D_min:9.603e-02\n",
      "iter: 57\tFreeE:0.064\tNorm_G: 0.011\ttolY:0.005\tmean_D_min:9.831e-02\n",
      "iter: 58\tFreeE:0.064\tNorm_G: 0.014\ttolY:0.004\tmean_D_min:9.867e-02\n",
      "iter: 59\tFreeE:0.064\tNorm_G: 0.018\ttolY:0.003\tmean_D_min:9.799e-02\n",
      "iter: 60\tFreeE:0.064\tNorm_G: 0.020\ttolY:0.002\tmean_D_min:9.871e-02\n",
      "iter: 61\tFreeE:0.064\tNorm_G: 0.021\ttolY:0.002\tmean_D_min:9.888e-02\n",
      "iter: 62\tFreeE:0.064\tNorm_G: 0.020\ttolY:0.002\tmean_D_min:9.897e-02\n",
      "iter: 63\tFreeE:0.064\tNorm_G: 0.018\ttolY:0.002\tmean_D_min:9.896e-02\n",
      "iter: 64\tFreeE:0.064\tNorm_G: 0.017\ttolY:0.002\tmean_D_min:9.875e-02\n",
      "iter: 65\tFreeE:0.064\tNorm_G: 0.018\ttolY:0.002\tmean_D_min:9.862e-02\n",
      "iter: 66\tFreeE:0.064\tNorm_G: 0.018\ttolY:0.002\tmean_D_min:9.848e-02\n",
      "iter: 67\tFreeE:0.064\tNorm_G: 0.018\ttolY:0.002\tmean_D_min:1.027e-01\n",
      "iter: 68\tFreeE:0.064\tNorm_G: 0.017\ttolY:0.003\tmean_D_min:1.004e-01\n",
      "iter: 69\tFreeE:0.064\tNorm_G: 0.015\ttolY:0.003\tmean_D_min:9.989e-02\n",
      "iter: 70\tFreeE:0.064\tNorm_G: 0.012\ttolY:0.003\tmean_D_min:9.786e-02\n",
      "iter: 71\tFreeE:0.064\tNorm_G: 0.010\ttolY:0.003\tmean_D_min:9.825e-02\n",
      "iter: 72\tFreeE:0.064\tNorm_G: 0.009\ttolY:0.003\tmean_D_min:9.981e-02\n",
      "iter: 73\tFreeE:0.064\tNorm_G: 0.010\ttolY:0.003\tmean_D_min:1.003e-01\n",
      "iter: 74\tFreeE:0.064\tNorm_G: 0.011\ttolY:0.003\tmean_D_min:9.997e-02\n",
      "iter: 75\tFreeE:0.064\tNorm_G: 0.011\ttolY:0.002\tmean_D_min:9.985e-02\n",
      "iter: 76\tFreeE:0.064\tNorm_G: 0.010\ttolY:0.002\tmean_D_min:9.993e-02\n",
      "iter: 77\tFreeE:0.064\tNorm_G: 0.009\ttolY:0.002\tmean_D_min:9.976e-02\n",
      "iter: 78\tFreeE:0.064\tNorm_G: 0.008\ttolY:0.002\tmean_D_min:9.806e-02\n",
      "iter: 79\tFreeE:0.064\tNorm_G: 0.008\ttolY:0.002\tmean_D_min:9.732e-02\n",
      "iter: 80\tFreeE:0.064\tNorm_G: 0.009\ttolY:0.001\tmean_D_min:9.728e-02\n",
      "iter: 81\tFreeE:0.064\tNorm_G: 0.010\ttolY:0.001\tmean_D_min:9.730e-02\n",
      "iter: 82\tFreeE:0.064\tNorm_G: 0.010\ttolY:0.001\tmean_D_min:9.737e-02\n",
      "iter: 83\tFreeE:0.064\tNorm_G: 0.010\ttolY:0.001\tmean_D_min:9.748e-02\n",
      "iter: 84\tFreeE:0.064\tNorm_G: 0.009\ttolY:0.001\tmean_D_min:9.762e-02\n",
      "iter: 85\tFreeE:0.064\tNorm_G: 0.007\ttolY:0.001\tmean_D_min:9.778e-02\n",
      "iter: 86\tFreeE:0.064\tNorm_G: 0.006\ttolY:0.001\tmean_D_min:9.859e-02\n",
      "iter: 87\tFreeE:0.064\tNorm_G: 0.006\ttolY:0.001\tmean_D_min:9.873e-02\n",
      "iter: 88\tFreeE:0.064\tNorm_G: 0.006\ttolY:0.001\tmean_D_min:9.884e-02\n",
      "iter: 89\tFreeE:0.064\tNorm_G: 0.006\ttolY:0.001\tmean_D_min:9.891e-02\n",
      "iter: 90\tFreeE:0.064\tNorm_G: 0.006\ttolY:0.001\tmean_D_min:1.005e-01\n",
      "iter: 91\tFreeE:0.064\tNorm_G: 0.005\ttolY:0.001\tmean_D_min:1.005e-01\n",
      "iter: 92\tFreeE:0.064\tNorm_G: 0.004\ttolY:0.001\tmean_D_min:9.886e-02\n",
      "iter: 93\tFreeE:0.064\tNorm_G: 0.004\ttolY:0.001\tmean_D_min:9.881e-02\n",
      "iter: 94\tFreeE:0.064\tNorm_G: 0.005\ttolY:0.001\tmean_D_min:9.814e-02\n",
      "iter: 95\tFreeE:0.064\tNorm_G: 0.005\ttolY:0.001\tmean_D_min:9.811e-02\n",
      "iter: 96\tFreeE:0.064\tNorm_G: 0.005\ttolY:0.001\tmean_D_min:9.809e-02\n",
      "iter: 97\tFreeE:0.064\tNorm_G: 0.004\ttolY:0.001\tmean_D_min:9.808e-02\n",
      "iter: 98\tFreeE:0.064\tNorm_G: 0.002\ttolY:0.001\tmean_D_min:9.808e-02\n",
      "iter: 99\tFreeE:0.064\tNorm_G: 0.002\ttolY:0.001\tmean_D_min:9.954e-02\n",
      "iter: 100\tFreeE:0.064\tNorm_G: 0.003\ttolY:0.000\tmean_D_min:9.954e-02\n",
      "iter: 101\tFreeE:0.064\tNorm_G: 0.004\ttolY:0.000\tmean_D_min:9.954e-02\n",
      "iter: 102\tFreeE:0.064\tNorm_G: 0.004\ttolY:0.000\tmean_D_min:9.951e-02\n",
      "iter: 103\tFreeE:0.064\tNorm_G: 0.004\ttolY:0.000\tmean_D_min:9.947e-02\n",
      "iter: 104\tFreeE:0.064\tNorm_G: 0.003\ttolY:0.000\tmean_D_min:9.942e-02\n",
      "iter: 105\tFreeE:0.064\tNorm_G: 0.003\ttolY:0.000\tmean_D_min:9.852e-02\n",
      "iter: 106\tFreeE:0.064\tNorm_G: 0.003\ttolY:0.000\tmean_D_min:9.848e-02\n",
      "iter: 107\tFreeE:0.064\tNorm_G: 0.003\ttolY:0.000\tmean_D_min:9.846e-02\n",
      "iter: 108\tFreeE:0.064\tNorm_G: 0.003\ttolY:0.000\tmean_D_min:9.846e-02\n",
      "iter: 109\tFreeE:0.064\tNorm_G: 0.003\ttolY:0.000\tmean_D_min:9.847e-02\n",
      "iter: 110\tFreeE:0.064\tNorm_G: 0.002\ttolY:0.000\tmean_D_min:9.850e-02\n",
      "iter: 111\tFreeE:0.064\tNorm_G: 0.002\ttolY:0.000\tmean_D_min:9.855e-02\n",
      "iter: 112\tFreeE:0.064\tNorm_G: 0.001\ttolY:0.000\tmean_D_min:9.860e-02\n",
      "iter: 113\tFreeE:0.064\tNorm_G: 0.001\ttolY:0.000\tmean_D_min:9.865e-02\n",
      "iter: 114\tFreeE:0.064\tNorm_G: 0.001\ttolY:0.000\tmean_D_min:9.869e-02\n",
      "iter: 115\tFreeE:0.064\tNorm_G: 0.001\ttolY:0.000\tmean_D_min:9.871e-02\n",
      "iter: 116\tFreeE:0.064\tNorm_G: 0.001\ttolY:0.000\tmean_D_min:9.872e-02\n",
      "iter: 117\tFreeE:0.064\tNorm_G: 0.001\ttolY:0.000\tmean_D_min:9.872e-02\n",
      "iter: 118\tFreeE:0.064\tNorm_G: 0.001\ttolY:0.000\tmean_D_min:9.871e-02\n",
      "iter: 119\tFreeE:0.064\tNorm_G: 0.001\ttolY:0.000\tmean_D_min:9.870e-02\n",
      "iter: 120\tFreeE:0.064\tNorm_G: 0.002\ttolY:0.000\tmean_D_min:9.868e-02\n",
      "iter: 121\tFreeE:0.064\tNorm_G: 0.002\ttolY:0.000\tmean_D_min:9.866e-02\n",
      "iter: 122\tFreeE:0.064\tNorm_G: 0.001\ttolY:0.000\tmean_D_min:9.865e-02\n",
      "iter: 123\tFreeE:0.064\tNorm_G: 0.001\ttolY:0.000\tmean_D_min:9.864e-02\n",
      "Optimization terminated due to tol at iteration: 124 tol: 0.000962127058301121 FreeE: 6.4074e-02\n"
     ]
    }
   ],
   "source": [
    "optim_iters = 500\n",
    "optim_step = 0.01\n",
    "b_min = 100\n",
    "beta = 1e3\n",
    "tol = 0.001\n",
    "n_path_samples = 4\n",
    "\n",
    "tic = time.time()\n",
    "F_base0_highbeta = F_base.clone().detach().requires_grad_(True)\n",
    "F_base_sampling, FreeEnergy_sampling, G_sampling = GD.sampling_GD_at_beta_auto_diff(\n",
    "    F_base0_highbeta,\n",
    "    START_locs,\n",
    "    END_locs,\n",
    "    spn,\n",
    "    n_path_samples=n_path_samples,\n",
    "    beta=beta,\n",
    "    stepsize=optim_step,\n",
    "    iters=optim_iters,\n",
    "    tol=tol,\n",
    "    allowPrint=True\n",
    "    )\n",
    "toc = time.time()\n",
    "runtime_high_beta = toc-tic\n"
   ]
  },
  {
   "cell_type": "code",
   "execution_count": 11,
   "metadata": {},
   "outputs": [
    {
     "data": {
      "image/png": "[encoded data removed]",
      "text/plain": [
       "<Figure size 1200x600 with 1 Axes>"
      ]
     },
     "metadata": {},
     "output_type": "display_data"
    }
   ],
   "source": [
    "plot_UAV_FLPO(START_locs, END_locs, F_base_sampling, (12,6))\n"
   ]
  },
  {
   "cell_type": "markdown",
   "metadata": {},
   "source": [
    "### Save the high beta results (plotting done in plot_res.ipynb)"
   ]
  },
  {
   "cell_type": "code",
   "execution_count": 31,
   "metadata": {},
   "outputs": [
    {
     "name": "stdout",
     "output_type": "stream",
     "text": [
      "AAAI26_res/high_beta_res/N100_M5_ends4_seed3\n"
     ]
    }
   ],
   "source": [
    "scenario = f\"N{int(num_drones)}_M{int(num_facilities)}_ends{int(num_distinct_ends)}_seed{int(seed)}\"\n",
    "file_path0 = \"AAAI26_res/high_beta_res/\" + scenario\n",
    "print(file_path0)\n",
    "# file_path0 = \"AAAI26_res/low_beta_res/\" + scenario\n",
    "\n",
    "high_beta_res_data = {\n",
    "    \"START_locs\":START_locs,\n",
    "    \"END_locs\":END_locs,\n",
    "    \"F_base\":F_base_sampling,\n",
    "    \"n_ends\":num_distinct_ends,\n",
    "    \"F_base0\":F_base0_highbeta,\n",
    "    \"optim_method\":\"sampling_GD_at_beta_auto_diff\",\n",
    "    \"optim_iters\":optim_iters,\n",
    "    \"optim_step\":optim_step,\n",
    "    \"beta\":beta,\n",
    "    \"optim_tol\":tol,\n",
    "    \"n_path_samples\":n_path_samples,\n",
    "    \"Free_energy_final\":FreeEnergy_sampling,\n",
    "    \"Gradient_final\":G_sampling,\n",
    "    \"runtime\":runtime_high_beta\n",
    "}\n",
    "\n",
    "with open(file_path0, 'wb') as file:\n",
    "    pickle.dump(high_beta_res_data, file)"
   ]
  },
  {
   "cell_type": "markdown",
   "metadata": {},
   "source": [
    "### Annealing loop implementation\n",
    "Warning: Use $\\beta >= 1e-3$, as the free energy approximation is poor for $\\beta < 5e-4$ with torch.float32 datatype."
   ]
  },
  {
   "cell_type": "code",
   "execution_count": 12,
   "metadata": {},
   "outputs": [
    {
     "name": "stdout",
     "output_type": "stream",
     "text": [
      "beta: 1.0000e-03\tFreeE: -2564.7856\tGrad: 6.9330e-02\n",
      "beta: 1.0000e-02\tFreeE: -256.3204\tGrad: 6.9478e-02\n",
      "beta: 1.0000e-01\tFreeE: -25.4845\tGrad: 3.1825e-02\n",
      "beta: 1.0000e+00\tFreeE: -2.4067\tGrad: 7.2849e-02\n",
      "beta: 1.0000e+01\tFreeE: -0.1157\tGrad: 5.9810e-02\n",
      "beta: 1.0000e+02\tFreeE: 0.0524\tGrad: 9.2520e-02\n",
      "beta: 1.0000e+03\tFreeE: 0.0617\tGrad: 3.2194e-02\n"
     ]
    },
    {
     "data": {
      "image/png": "[encoded data removed]",
      "text/plain": [
       "<Figure size 1200x600 with 1 Axes>"
      ]
     },
     "metadata": {},
     "output_type": "display_data"
    }
   ],
   "source": [
    "beta_min = 1e-3 \n",
    "beta_max = 1e3\n",
    "beta_grow = 10\n",
    "optim_iters = 100\n",
    "optim_step = 0.01 # 0.1 for gd0, sampling_gd, use < 0.01 for the other two optimizers \n",
    "optim_name = \"sampling_auto_diff\"\n",
    "tol = 0.001\n",
    "n_path_samples = 8\n",
    "\n",
    "tic = time.time()\n",
    "F_base0_anneal = F_base.clone().detach().requires_grad_(True)\n",
    "Y_arr, b_arr, F_arr = anneal( \n",
    "        F_base0_anneal, \n",
    "        START_locs, \n",
    "        END_locs, \n",
    "        spn,  \n",
    "        optim_iters, \n",
    "        optim_step, \n",
    "        beta_min, \n",
    "        beta_max, \n",
    "        beta_grow, \n",
    "        tol=tol, \n",
    "        optimizer_name=optim_name, \n",
    "        n_path_samples=n_path_samples, \n",
    "        allowPrint=True \n",
    "    ) \n",
    "toc = time.time()\n",
    "runtime_anneal = toc-tic\n",
    "plot_UAV_FLPO(START_locs, END_locs, Y_arr[-1], (12,6))\n"
   ]
  },
  {
   "cell_type": "markdown",
   "metadata": {},
   "source": [
    "### Save the annealing results (plotting done in plot_res.ipynb)"
   ]
  },
  {
   "cell_type": "code",
   "execution_count": 33,
   "metadata": {},
   "outputs": [
    {
     "name": "stdout",
     "output_type": "stream",
     "text": [
      "filepath: AAAI26_res/annealing_res/N100_M5_ends4_seed3\n"
     ]
    }
   ],
   "source": [
    "file_path1 = \"AAAI26_res/annealing_res/\" + scenario\n",
    "print(f'filepath: {file_path1}')\n",
    "\n",
    "annealing_res_data = {\n",
    "    \"START_locs\":START_locs,\n",
    "    \"END_locs\":END_locs,\n",
    "    \"Y_arr\":Y_arr,\n",
    "    \"b_arr\":b_arr,\n",
    "    \"F_arr\":F_arr,\n",
    "    \"F_bas0\":F_base0_anneal,\n",
    "    \"optim_method\":optim_name,\n",
    "    \"optim_iters\":optim_iters,\n",
    "    \"optim_step\":optim_step,\n",
    "    \"optim_tol\":tol,\n",
    "    \"n_path_samples\":n_path_samples,\n",
    "    \"runtime\":runtime_anneal\n",
    "}\n",
    "\n",
    "with open(file_path1, 'wb') as file:\n",
    "    pickle.dump(annealing_res_data, file)"
   ]
  },
  {
   "cell_type": "markdown",
   "metadata": {},
   "source": [
    "### Animation results moved to plot_res.ipynb"
   ]
  }
 ],
 "metadata": {
  "kernelspec": {
   "display_name": "Python 3",
   "language": "python",
   "name": "python3"
  },
  "language_info": {
   "codemirror_mode": {
    "name": "ipython",
    "version": 3
   },
   "file_extension": ".py",
   "mimetype": "text/x-python",
   "name": "python",
   "nbconvert_exporter": "python",
   "pygments_lexer": "ipython3",
   "version": "3.9.6"
  }
 },
 "nbformat": 4,
 "nbformat_minor": 2
}
