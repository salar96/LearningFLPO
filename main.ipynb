{
 "cells": [
  {
   "cell_type": "code",
   "execution_count": 1,
   "metadata": {},
   "outputs": [],
   "source": [
    "import torch\n",
    "from VRP_Net_L import VRPNet_L\n",
    "from matplotlib import pyplot as plt\n",
    "import utils\n",
    "import matplotlib.pyplot as plt\n",
    "from torchinfo import summary\n",
    "import numpy as np\n",
    "import LSE_net\n",
    "import importlib\n",
    "from DatasetGenerator import generate_dataset, torchFLPO_2_numpyFLPO\n",
    "from viz import plot_UAV_FLPO, plot_UAV_FLPO_3D\n",
    "import Animator\n",
    "from pathlib import Path\n",
    "import GD\n",
    "import ModelPass as mp\n",
    "import inference\n",
    "from Anneal import anneal"
   ]
  },
  {
   "cell_type": "code",
   "execution_count": 2,
   "metadata": {},
   "outputs": [
    {
     "name": "stdout",
     "output_type": "stream",
     "text": [
      "Running on:  cpu\n"
     ]
    }
   ],
   "source": [
    "\n",
    "seed=0;\n",
    "torch.manual_seed(seed)\n",
    "torch.cuda.manual_seed(seed)\n",
    "torch.cuda.manual_seed_all(seed)\n",
    "device = torch.device('cuda') if torch.cuda.is_available() else torch.device('cpu')\n",
    "np.random.seed(seed)\n",
    "print(\"Running on: \" , device)\n"
   ]
  },
  {
   "cell_type": "markdown",
   "metadata": {},
   "source": [
    "### Initialize an FLPO scenario"
   ]
  },
  {
   "cell_type": "markdown",
   "metadata": {},
   "source": [
    "Run the below command if you encounter errors running the plotting block."
   ]
  },
  {
   "cell_type": "code",
   "execution_count": 3,
   "metadata": {},
   "outputs": [],
   "source": [
    "# !pip install nbformat --upgrade\n"
   ]
  },
  {
   "cell_type": "code",
   "execution_count": 4,
   "metadata": {},
   "outputs": [
    {
     "name": "stdout",
     "output_type": "stream",
     "text": [
      "num_drones = 20\tnum_facilities = 50\tdim = 2\n",
      "Data Created.\n"
     ]
    }
   ],
   "source": [
    "num_drones = 20\n",
    "n_drone_clusters = 10\n",
    "drone_cluster_split = np.random.uniform(0.0, 1.0, n_drone_clusters)\n",
    "drone_cluster_split = drone_cluster_split / np.sum(drone_cluster_split)\n",
    "num_facilities = 50\n",
    "num_distinct_ends = 2\n",
    "dim_ = 2\n",
    "print(f\"num_drones = {num_drones}\\tnum_facilities = {num_facilities}\\tdim = {dim_}\")\n",
    "\n",
    "START_locs, F_base, END_locs = generate_dataset(\n",
    "    num_drones, n_drone_clusters, drone_cluster_split, num_facilities, dim_, device, drone_cluster_std_range=[0.02, 0.05], F_noise_std=0.1,num_distinct_ends=num_distinct_ends\n",
    ")\n",
    "np_flpo_filename = 'numpy_FLPO_data/numpy_FLPO_data'\n",
    "torchFLPO_2_numpyFLPO(START_locs, END_locs, F_base, np_flpo_filename, scale=1.0)\n",
    "\n",
    "# plot_UAV_FLPO(START_locs, END_locs, F_base)\n",
    "# plot_UAV_FLPO_3D(START_locs, END_locs, F_base)"
   ]
  },
  {
   "cell_type": "markdown",
   "metadata": {},
   "source": [
    "### Load the VRP NET Module"
   ]
  },
  {
   "cell_type": "code",
   "execution_count": 5,
   "metadata": {},
   "outputs": [
    {
     "name": "stdout",
     "output_type": "stream",
     "text": [
      "Model created.\n",
      "VRP NET loaded on:  cpu\n",
      "===============================================================================================\n",
      "Layer (type:depth-idx)                                                 Param #\n",
      "===============================================================================================\n",
      "VRPNet_L                                                               --\n",
      "├─LinearAttnEncoder: 1-1                                               2,048\n",
      "│    └─ModuleList: 2-1                                                 --\n",
      "│    │    └─MultiheadAttention: 3-1                                    (66,048)\n",
      "│    │    └─MultiheadAttention: 3-2                                    (66,048)\n",
      "│    │    └─MultiheadAttention: 3-3                                    (66,048)\n",
      "│    │    └─MultiheadAttention: 3-4                                    (66,048)\n",
      "│    │    └─MultiheadAttention: 3-5                                    (66,048)\n",
      "│    │    └─MultiheadAttention: 3-6                                    (66,048)\n",
      "│    └─ModuleList: 2-2                                                 --\n",
      "│    │    └─MultiheadAttention: 3-7                                    (66,048)\n",
      "│    │    └─MultiheadAttention: 3-8                                    (66,048)\n",
      "│    │    └─MultiheadAttention: 3-9                                    (66,048)\n",
      "│    │    └─MultiheadAttention: 3-10                                   (66,048)\n",
      "│    │    └─MultiheadAttention: 3-11                                   (66,048)\n",
      "│    │    └─MultiheadAttention: 3-12                                   (66,048)\n",
      "│    └─Linear: 2-3                                                     (512)\n",
      "│    └─Linear: 2-4                                                     (8,256)\n",
      "│    └─LayerNorm: 2-5                                                  (256)\n",
      "│    └─Dropout: 2-6                                                    --\n",
      "│    └─ReLU: 2-7                                                       --\n",
      "├─Decoder: 1-2                                                         --\n",
      "│    └─PositionalEncoding: 2-8                                         --\n",
      "│    └─TransformerDecoder: 2-9                                         --\n",
      "│    │    └─ModuleList: 3-13                                           (200,256)\n",
      "===============================================================================================\n",
      "Total params: 1,003,904\n",
      "Trainable params: 0\n",
      "Non-trainable params: 1,003,904\n",
      "===============================================================================================\n"
     ]
    }
   ],
   "source": [
    "torch.cuda.empty_cache()\n",
    "model_classes = {\"VRPNet_L\": VRPNet_L}\n",
    "weights_address = (\n",
    "    Path(\"Saved_models\") /\n",
    "    \"VRPNet_L_lr1e-04_bs32_ep60000_samples1920000_cities50_inputdim2_\"\n",
    "    \"workers0_hidden64_enc1_dec1_heads8_dropout0.30_\"\n",
    "    \"train_PO_2025_05_17_22_43_32last_model.pth\"\n",
    ")\n",
    "vrp_net = utils.load_model(\n",
    "    weights_address, model_classes, weights_only=True, device=device\n",
    ")\n",
    "for param in vrp_net.parameters():\n",
    "    param.requires_grad = False\n",
    "print(\"VRP NET loaded on: \", vrp_net.device)\n",
    "print(summary(vrp_net))"
   ]
  },
  {
   "cell_type": "markdown",
   "metadata": {},
   "source": [
    "### Load the LSE net module"
   ]
  },
  {
   "cell_type": "code",
   "execution_count": 6,
   "metadata": {},
   "outputs": [
    {
     "name": "stdout",
     "output_type": "stream",
     "text": [
      "D_max_scale: 5.0\n",
      "n_inputs: 3\n",
      "n_outputs: 1\n",
      "layers: [20, 20, 10]\n",
      "io_scale: 1\n",
      "LSE_net:\n",
      "=================================================================\n",
      "Layer (type:depth-idx)                   Param #\n",
      "=================================================================\n",
      "dnn                                      --\n",
      "├─ModuleList: 1-1                        --\n",
      "│    └─Linear: 2-1                       (80)\n",
      "│    └─ReLU: 2-2                         --\n",
      "│    └─Linear: 2-3                       (420)\n",
      "│    └─ReLU: 2-4                         --\n",
      "│    └─Linear: 2-5                       (210)\n",
      "│    └─ReLU: 2-6                         --\n",
      "│    └─Linear: 2-7                       (11)\n",
      "=================================================================\n",
      "Total params: 721\n",
      "Trainable params: 0\n",
      "Non-trainable params: 721\n",
      "=================================================================\n"
     ]
    }
   ],
   "source": [
    "importlib.reload(LSE_net)\n",
    "lse_data = torch.load('logSumExp_models/lse_2025_5_19__15_47_58.pth', weights_only=False)\n",
    "n_inputs = lse_data['n_inputs']\n",
    "n_outputs = lse_data['n_outputs']\n",
    "layers = lse_data['layers']\n",
    "weights = lse_data['model_state_dict']\n",
    "io_scale = lse_data['io_scale']\n",
    "D_max_range = lse_data['D_max_range']\n",
    "lse_net = LSE_net.dnn(n_inputs, n_outputs, layers)\n",
    "lse_net.to(device)\n",
    "lse_net.load_state_dict(weights)\n",
    "lse_net.eval()\n",
    "for p in lse_net.parameters():\n",
    "    p.requires_grad = False\n",
    "print(f'D_max_scale: {D_max_range}\\nn_inputs: {n_inputs}\\nn_outputs: {n_outputs}\\nlayers: {layers}\\nio_scale: {io_scale}\\nLSE_net:\\n{summary(lse_net)}')"
   ]
  },
  {
   "cell_type": "markdown",
   "metadata": {},
   "source": [
    "### Optimization loop for a single beta\n",
    "Warning: Use $\\beta >= 1e-3$, as the free energy approximation is poor for $\\beta < 5e-4$ with torch.float32 datatype."
   ]
  },
  {
   "cell_type": "code",
   "execution_count": 8,
   "metadata": {},
   "outputs": [
    {
     "name": "stdout",
     "output_type": "stream",
     "text": [
      "n_drones:20\tnum_facilities:50\tdim_:2\n",
      "iter: 0\tFreeE:0.077\tNorm gradient: 0.208\tmean_D_min:7.660e-02\n",
      "iter: 1\tFreeE:0.072\tNorm gradient: 0.190\tmean_D_min:7.241e-02\n",
      "iter: 2\tFreeE:0.069\tNorm gradient: 0.162\tmean_D_min:6.906e-02\n",
      "iter: 3\tFreeE:0.067\tNorm gradient: 0.142\tmean_D_min:6.662e-02\n",
      "iter: 4\tFreeE:0.065\tNorm gradient: 0.125\tmean_D_min:6.473e-02\n",
      "iter: 5\tFreeE:0.063\tNorm gradient: 0.112\tmean_D_min:6.325e-02\n",
      "iter: 6\tFreeE:0.062\tNorm gradient: 0.105\tmean_D_min:6.172e-02\n",
      "iter: 7\tFreeE:0.061\tNorm gradient: 0.097\tmean_D_min:6.065e-02\n",
      "iter: 8\tFreeE:0.060\tNorm gradient: 0.090\tmean_D_min:5.975e-02\n",
      "iter: 9\tFreeE:0.059\tNorm gradient: 0.084\tmean_D_min:5.898e-02\n",
      "iter: 10\tFreeE:0.058\tNorm gradient: 0.078\tmean_D_min:5.830e-02\n",
      "iter: 11\tFreeE:0.058\tNorm gradient: 0.076\tmean_D_min:5.791e-02\n",
      "iter: 12\tFreeE:0.057\tNorm gradient: 0.071\tmean_D_min:5.735e-02\n",
      "iter: 13\tFreeE:0.057\tNorm gradient: 0.067\tmean_D_min:5.686e-02\n",
      "iter: 14\tFreeE:0.056\tNorm gradient: 0.064\tmean_D_min:5.641e-02\n",
      "iter: 15\tFreeE:0.056\tNorm gradient: 0.061\tmean_D_min:5.601e-02\n",
      "iter: 16\tFreeE:0.056\tNorm gradient: 0.058\tmean_D_min:5.565e-02\n",
      "iter: 17\tFreeE:0.055\tNorm gradient: 0.056\tmean_D_min:5.531e-02\n",
      "iter: 18\tFreeE:0.055\tNorm gradient: 0.058\tmean_D_min:5.478e-02\n",
      "iter: 19\tFreeE:0.054\tNorm gradient: 0.055\tmean_D_min:5.446e-02\n",
      "iter: 20\tFreeE:0.054\tNorm gradient: 0.052\tmean_D_min:5.417e-02\n",
      "iter: 21\tFreeE:0.054\tNorm gradient: 0.050\tmean_D_min:5.390e-02\n",
      "iter: 22\tFreeE:0.054\tNorm gradient: 0.052\tmean_D_min:5.365e-02\n",
      "iter: 23\tFreeE:0.053\tNorm gradient: 0.052\tmean_D_min:5.345e-02\n",
      "iter: 24\tFreeE:0.053\tNorm gradient: 0.051\tmean_D_min:5.329e-02\n",
      "iter: 25\tFreeE:0.053\tNorm gradient: 0.050\tmean_D_min:5.303e-02\n",
      "iter: 26\tFreeE:0.053\tNorm gradient: 0.048\tmean_D_min:5.279e-02\n",
      "iter: 27\tFreeE:0.053\tNorm gradient: 0.047\tmean_D_min:5.263e-02\n",
      "iter: 28\tFreeE:0.052\tNorm gradient: 0.051\tmean_D_min:5.245e-02\n",
      "iter: 29\tFreeE:0.052\tNorm gradient: 0.053\tmean_D_min:5.220e-02\n",
      "iter: 30\tFreeE:0.052\tNorm gradient: 0.053\tmean_D_min:5.196e-02\n",
      "iter: 31\tFreeE:0.052\tNorm gradient: 0.051\tmean_D_min:5.169e-02\n",
      "iter: 32\tFreeE:0.051\tNorm gradient: 0.049\tmean_D_min:5.143e-02\n",
      "iter: 33\tFreeE:0.051\tNorm gradient: 0.047\tmean_D_min:5.120e-02\n",
      "iter: 34\tFreeE:0.051\tNorm gradient: 0.046\tmean_D_min:5.098e-02\n",
      "iter: 35\tFreeE:0.051\tNorm gradient: 0.044\tmean_D_min:5.077e-02\n",
      "iter: 36\tFreeE:0.051\tNorm gradient: 0.045\tmean_D_min:5.052e-02\n",
      "iter: 37\tFreeE:0.050\tNorm gradient: 0.044\tmean_D_min:5.032e-02\n",
      "iter: 38\tFreeE:0.050\tNorm gradient: 0.044\tmean_D_min:5.011e-02\n",
      "iter: 39\tFreeE:0.050\tNorm gradient: 0.043\tmean_D_min:4.992e-02\n",
      "iter: 40\tFreeE:0.050\tNorm gradient: 0.041\tmean_D_min:4.974e-02\n",
      "iter: 41\tFreeE:0.050\tNorm gradient: 0.040\tmean_D_min:4.958e-02\n",
      "iter: 42\tFreeE:0.049\tNorm gradient: 0.039\tmean_D_min:4.942e-02\n",
      "iter: 43\tFreeE:0.049\tNorm gradient: 0.038\tmean_D_min:4.927e-02\n",
      "iter: 44\tFreeE:0.049\tNorm gradient: 0.037\tmean_D_min:4.912e-02\n",
      "iter: 45\tFreeE:0.049\tNorm gradient: 0.036\tmean_D_min:4.898e-02\n",
      "iter: 46\tFreeE:0.049\tNorm gradient: 0.036\tmean_D_min:4.885e-02\n",
      "iter: 47\tFreeE:0.049\tNorm gradient: 0.035\tmean_D_min:4.873e-02\n",
      "iter: 48\tFreeE:0.049\tNorm gradient: 0.034\tmean_D_min:4.861e-02\n",
      "iter: 49\tFreeE:0.048\tNorm gradient: 0.033\tmean_D_min:4.849e-02\n",
      "iter: 50\tFreeE:0.048\tNorm gradient: 0.033\tmean_D_min:4.838e-02\n",
      "iter: 51\tFreeE:0.048\tNorm gradient: 0.032\tmean_D_min:4.827e-02\n",
      "iter: 52\tFreeE:0.048\tNorm gradient: 0.032\tmean_D_min:4.817e-02\n",
      "iter: 53\tFreeE:0.048\tNorm gradient: 0.031\tmean_D_min:4.807e-02\n",
      "iter: 54\tFreeE:0.048\tNorm gradient: 0.030\tmean_D_min:4.798e-02\n",
      "iter: 55\tFreeE:0.048\tNorm gradient: 0.030\tmean_D_min:4.788e-02\n",
      "iter: 56\tFreeE:0.048\tNorm gradient: 0.029\tmean_D_min:4.780e-02\n",
      "iter: 57\tFreeE:0.048\tNorm gradient: 0.029\tmean_D_min:4.771e-02\n",
      "iter: 58\tFreeE:0.048\tNorm gradient: 0.028\tmean_D_min:4.763e-02\n",
      "iter: 59\tFreeE:0.048\tNorm gradient: 0.028\tmean_D_min:4.755e-02\n",
      "iter: 60\tFreeE:0.047\tNorm gradient: 0.028\tmean_D_min:4.747e-02\n",
      "iter: 61\tFreeE:0.047\tNorm gradient: 0.027\tmean_D_min:4.739e-02\n",
      "iter: 62\tFreeE:0.047\tNorm gradient: 0.027\tmean_D_min:4.732e-02\n",
      "iter: 63\tFreeE:0.048\tNorm gradient: 0.029\tmean_D_min:4.753e-02\n",
      "iter: 64\tFreeE:0.047\tNorm gradient: 0.028\tmean_D_min:4.745e-02\n",
      "iter: 65\tFreeE:0.047\tNorm gradient: 0.028\tmean_D_min:4.737e-02\n",
      "iter: 66\tFreeE:0.047\tNorm gradient: 0.027\tmean_D_min:4.730e-02\n",
      "iter: 67\tFreeE:0.047\tNorm gradient: 0.027\tmean_D_min:4.722e-02\n",
      "iter: 68\tFreeE:0.047\tNorm gradient: 0.026\tmean_D_min:4.715e-02\n",
      "iter: 69\tFreeE:0.047\tNorm gradient: 0.026\tmean_D_min:4.708e-02\n",
      "iter: 70\tFreeE:0.047\tNorm gradient: 0.025\tmean_D_min:4.702e-02\n",
      "iter: 71\tFreeE:0.047\tNorm gradient: 0.025\tmean_D_min:4.695e-02\n",
      "iter: 72\tFreeE:0.047\tNorm gradient: 0.025\tmean_D_min:4.689e-02\n",
      "iter: 73\tFreeE:0.047\tNorm gradient: 0.024\tmean_D_min:4.683e-02\n",
      "iter: 74\tFreeE:0.047\tNorm gradient: 0.024\tmean_D_min:4.677e-02\n",
      "iter: 75\tFreeE:0.047\tNorm gradient: 0.024\tmean_D_min:4.671e-02\n",
      "iter: 76\tFreeE:0.047\tNorm gradient: 0.023\tmean_D_min:4.666e-02\n",
      "iter: 77\tFreeE:0.047\tNorm gradient: 0.023\tmean_D_min:4.660e-02\n",
      "iter: 78\tFreeE:0.047\tNorm gradient: 0.023\tmean_D_min:4.655e-02\n",
      "iter: 79\tFreeE:0.046\tNorm gradient: 0.022\tmean_D_min:4.650e-02\n",
      "iter: 80\tFreeE:0.046\tNorm gradient: 0.022\tmean_D_min:4.645e-02\n",
      "iter: 81\tFreeE:0.046\tNorm gradient: 0.022\tmean_D_min:4.640e-02\n",
      "iter: 82\tFreeE:0.046\tNorm gradient: 0.022\tmean_D_min:4.635e-02\n",
      "iter: 83\tFreeE:0.046\tNorm gradient: 0.021\tmean_D_min:4.631e-02\n",
      "iter: 84\tFreeE:0.046\tNorm gradient: 0.021\tmean_D_min:4.626e-02\n",
      "iter: 85\tFreeE:0.046\tNorm gradient: 0.021\tmean_D_min:4.622e-02\n",
      "iter: 86\tFreeE:0.046\tNorm gradient: 0.021\tmean_D_min:4.618e-02\n",
      "iter: 87\tFreeE:0.046\tNorm gradient: 0.020\tmean_D_min:4.613e-02\n",
      "iter: 88\tFreeE:0.046\tNorm gradient: 0.020\tmean_D_min:4.609e-02\n",
      "iter: 89\tFreeE:0.046\tNorm gradient: 0.020\tmean_D_min:4.605e-02\n",
      "iter: 90\tFreeE:0.046\tNorm gradient: 0.020\tmean_D_min:4.601e-02\n",
      "iter: 91\tFreeE:0.046\tNorm gradient: 0.019\tmean_D_min:4.598e-02\n",
      "iter: 92\tFreeE:0.046\tNorm gradient: 0.019\tmean_D_min:4.594e-02\n",
      "iter: 93\tFreeE:0.046\tNorm gradient: 0.019\tmean_D_min:4.590e-02\n",
      "iter: 94\tFreeE:0.046\tNorm gradient: 0.019\tmean_D_min:4.587e-02\n",
      "iter: 95\tFreeE:0.046\tNorm gradient: 0.018\tmean_D_min:4.583e-02\n",
      "iter: 96\tFreeE:0.046\tNorm gradient: 0.018\tmean_D_min:4.580e-02\n",
      "iter: 97\tFreeE:0.046\tNorm gradient: 0.022\tmean_D_min:4.571e-02\n",
      "iter: 98\tFreeE:0.046\tNorm gradient: 0.025\tmean_D_min:4.622e-02\n",
      "iter: 99\tFreeE:0.046\tNorm gradient: 0.024\tmean_D_min:4.616e-02\n"
     ]
    }
   ],
   "source": [
    "optim_iters = 200\n",
    "optim_step = 0.01\n",
    "b_min = 1e-3\n",
    "beta = 1e3\n",
    "tol = 1e-3\n",
    "\n",
    "# Y_arr, FreeEnergy, G = GD.Adam_at_beta(\n",
    "#     F_base, START_locs, END_locs, vrp_net, lse_net, optim_iters,\n",
    "#     optim_step, b_min, beta, D_max_range=D_max_range, tol=tol, allowPrint=True, return_list= True)\n",
    "\n",
    "# F_base, FreeEnergy, G = GD.GD_at_beta1(\n",
    "#     F_base, START_locs, END_locs, vrp_net, lse_net, optim_iters, \n",
    "#     optim_step, b_min, beta, D_max_range=D_max_range, tol=tol, allowPrint=True)\n",
    "\n",
    "# F_base, FreeEnergy, G = GD.GD_at_beta0(\n",
    "#     F_base, START_locs, END_locs, vrp_net, lse_net, optim_iters, \n",
    "#     optim_step, b_min, beta, D_max_range=D_max_range, tol=tol, allowPrint=True)\n",
    "\n",
    "F_base, FreeEnergy, G = GD.sampling_GD_at_beta(\n",
    "    F_base,\n",
    "    START_locs,\n",
    "    END_locs,\n",
    "    vrp_net,\n",
    "    n_path_samples=20,\n",
    "    beta=1e3,\n",
    "    stepsize=0.1,\n",
    "    iters=100,\n",
    "    tol=1e-3,\n",
    "    allowPrint=True\n",
    "    )"
   ]
  },
  {
   "cell_type": "code",
   "execution_count": 7,
   "metadata": {},
   "outputs": [
    {
     "data": {
      "image/png": "[encoded data removed]",
      "text/plain": [
       "<Figure size 400x300 with 1 Axes>"
      ]
     },
     "metadata": {},
     "output_type": "display_data"
    },
    {
     "data": {
      "application/vnd.plotly.v1+json": {
       "config": {
        "plotlyServerURL": "https://plot.ly"
       },
       "data": [
        {
         "mode": "text",
         "name": "Drone Start",
         "text": [
          "𖥂",
          "𖥂",
          "𖥂",
          "𖥂",
          "𖥂",
          "𖥂",
          "𖥂",
          "𖥂",
          "𖥂",
          "𖥂",
          "𖥂",
          "𖥂",
          "𖥂",
          "𖥂",
          "𖥂",
          "𖥂",
          "𖥂",
          "𖥂",
          "𖥂",
          "𖥂"
         ],
         "textfont": {
          "color": "cyan",
          "size": 16
         },
         "type": "scatter3d",
         "x": {
          "bdata": "ckTJPhdy8T4Zudo+lCMmPyQMJD8/lwo+t4oOP65bez6UMY4+1BI8P44iQz+hqlI/Ku1OPzSEDT9kxhk/u7ErP4gNgj+qR3o/8WdoP18+gz8=",
          "dtype": "f4"
         },
         "y": {
          "bdata": "RF1LP/0CKj+28x0/DP1wP1cJaz+Gg0g+0DGQPlqg7j6RX+8+ybU3P5+2dT/9YnE/T+R9P9sozz7qLdA+bR3UPoSccT+BAE0//q9PP/qdVj8=",
          "dtype": "f4"
         },
         "z": {
          "bdata": "AAAAAAAA8D8AAAAAAADwPwAAAAAAAPA/AAAAAAAA8D8AAAAAAADwPwAAAAAAAPA/AAAAAAAA8D8AAAAAAADwPwAAAAAAAPA/AAAAAAAA8D8AAAAAAADwPwAAAAAAAPA/AAAAAAAA8D8AAAAAAADwPwAAAAAAAPA/AAAAAAAA8D8AAAAAAADwPwAAAAAAAPA/AAAAAAAA8D8AAAAAAADwPw==",
          "dtype": "f8"
         }
        },
        {
         "mode": "text",
         "name": "Drone End",
         "text": [
          "📍",
          "📍",
          "📍",
          "📍",
          "📍",
          "📍",
          "📍",
          "📍",
          "📍",
          "📍",
          "📍",
          "📍",
          "📍",
          "📍",
          "📍",
          "📍",
          "📍",
          "📍",
          "📍",
          "📍"
         ],
         "textfont": {
          "color": "red",
          "size": 20
         },
         "type": "scatter3d",
         "x": {
          "bdata": "FzsyPxc7Mj8XOzI/FzsyPxc7Mj8XOzI/FzsyPxc7Mj8XOzI/FzsyPxoXgz4aF4M+GheDPhoXgz4aF4M+GheDPhoXgz4aF4M+GheDPhoXgz4=",
          "dtype": "f4"
         },
         "y": {
          "bdata": "z6oHP8+qBz/Pqgc/z6oHP8+qBz/Pqgc/z6oHP8+qBz/Pqgc/z6oHP3WRPD91kTw/dZE8P3WRPD91kTw/dZE8P3WRPD91kTw/dZE8P3WRPD8=",
          "dtype": "f4"
         },
         "z": {
          "bdata": "AAAAAAAAAAAAAAAAAAAAAAAAAAAAAAAAAAAAAAAAAAAAAAAAAAAAAAAAAAAAAAAAAAAAAAAAAAAAAAAAAAAAAAAAAAAAAAAAAAAAAAAAAAAAAAAAAAAAAAAAAAAAAAAAAAAAAAAAAAAAAAAAAAAAAAAAAAAAAAAAAAAAAAAAAAAAAAAAAAAAAAAAAAAAAAAAAAAAAAAAAAAAAAAAAAAAAA==",
          "dtype": "f8"
         }
        },
        {
         "line": {
          "color": "gray",
          "width": 3
         },
         "mode": "lines",
         "showlegend": false,
         "type": "scatter3d",
         "x": [
          0.6946126818656921,
          0.6946126818656921
         ],
         "y": [
          0.6058896780014038,
          0.6058896780014038
         ],
         "z": [
          0,
          1
         ]
        },
        {
         "line": {
          "color": "gray",
          "width": 3
         },
         "mode": "lines",
         "showlegend": false,
         "type": "scatter3d",
         "x": [
          0.5454703569412231,
          0.5454703569412231
         ],
         "y": [
          0.637000322341919,
          0.637000322341919
         ],
         "z": [
          0,
          1
         ]
        },
        {
         "line": {
          "color": "gray",
          "width": 3
         },
         "mode": "lines",
         "showlegend": false,
         "type": "scatter3d",
         "x": [
          0.5533252954483032,
          0.5533252954483032
         ],
         "y": [
          0.7354525923728943,
          0.7354525923728943
         ],
         "z": [
          0,
          1
         ]
        },
        {
         "line": {
          "color": "gray",
          "width": 3
         },
         "mode": "lines",
         "showlegend": false,
         "type": "scatter3d",
         "x": [
          0.6948444247245789,
          0.6948444247245789
         ],
         "y": [
          0.7255800366401672,
          0.7255800366401672
         ],
         "z": [
          0,
          1
         ]
        },
        {
         "line": {
          "color": "gray",
          "width": 3
         },
         "mode": "lines",
         "showlegend": false,
         "type": "scatter3d",
         "x": [
          0.5583256483078003,
          0.5583256483078003
         ],
         "y": [
          0.703323483467102,
          0.703323483467102
         ],
         "z": [
          0,
          1
         ]
        },
        {
         "line": {
          "color": "gray",
          "width": 3
         },
         "mode": "lines",
         "showlegend": false,
         "type": "scatter3d",
         "x": [
          0.6260753870010376,
          0.6260753870010376
         ],
         "y": [
          0.6905315518379211,
          0.6905315518379211
         ],
         "z": [
          0,
          1
         ]
        },
        {
         "line": {
          "color": "gray",
          "width": 3
         },
         "mode": "lines",
         "showlegend": false,
         "type": "scatter3d",
         "x": [
          0.5744088888168335,
          0.5744088888168335
         ],
         "y": [
          0.5544987916946411,
          0.5544987916946411
         ],
         "z": [
          0,
          1
         ]
        },
        {
         "line": {
          "color": "gray",
          "width": 3
         },
         "mode": "lines",
         "showlegend": false,
         "type": "scatter3d",
         "x": [
          0.6235986948013306,
          0.6235986948013306
         ],
         "y": [
          0.575536847114563,
          0.575536847114563
         ],
         "z": [
          0,
          1
         ]
        },
        {
         "line": {
          "color": "gray",
          "width": 3
         },
         "mode": "lines",
         "showlegend": false,
         "type": "scatter3d",
         "x": [
          0.8995102643966675,
          0.8995102643966675
         ],
         "y": [
          0.7774035930633545,
          0.7774035930633545
         ],
         "z": [
          0,
          1
         ]
        },
        {
         "line": {
          "color": "gray",
          "width": 3
         },
         "mode": "lines",
         "showlegend": false,
         "type": "scatter3d",
         "x": [
          0.607843816280365,
          0.607843816280365
         ],
         "y": [
          0.6907253861427307,
          0.6907253861427307
         ],
         "z": [
          0,
          1
         ]
        },
        {
         "line": {
          "color": "gray",
          "width": 3
         },
         "mode": "lines",
         "showlegend": false,
         "type": "scatter3d",
         "x": [
          0.6582037806510925,
          0.6582037806510925
         ],
         "y": [
          0.7953517436981201,
          0.7953517436981201
         ],
         "z": [
          0,
          1
         ]
        },
        {
         "line": {
          "color": "gray",
          "width": 3
         },
         "mode": "lines",
         "showlegend": false,
         "type": "scatter3d",
         "x": [
          0.6626655459403992,
          0.6626655459403992
         ],
         "y": [
          0.7175514101982117,
          0.7175514101982117
         ],
         "z": [
          0,
          1
         ]
        },
        {
         "line": {
          "color": "gray",
          "width": 3
         },
         "mode": "lines",
         "showlegend": false,
         "type": "scatter3d",
         "x": [
          0.6880909204483032,
          0.6880909204483032
         ],
         "y": [
          0.7314447164535522,
          0.7314447164535522
         ],
         "z": [
          0,
          1
         ]
        },
        {
         "line": {
          "color": "gray",
          "width": 3
         },
         "mode": "lines",
         "showlegend": false,
         "type": "scatter3d",
         "x": [
          0.6530278921127319,
          0.6530278921127319
         ],
         "y": [
          0.6016759872436523,
          0.6016759872436523
         ],
         "z": [
          0,
          1
         ]
        },
        {
         "line": {
          "color": "gray",
          "width": 3
         },
         "mode": "lines",
         "showlegend": false,
         "type": "scatter3d",
         "x": [
          0.44377338886260986,
          0.44377338886260986
         ],
         "y": [
          0.6919593811035156,
          0.6919593811035156
         ],
         "z": [
          0,
          1
         ]
        },
        {
         "line": {
          "color": "gray",
          "width": 3
         },
         "mode": "lines",
         "showlegend": false,
         "type": "scatter3d",
         "x": [
          0.5633785724639893,
          0.5633785724639893
         ],
         "y": [
          0.7103637456893921,
          0.7103637456893921
         ],
         "z": [
          0,
          1
         ]
        },
        {
         "line": {
          "color": "gray",
          "width": 3
         },
         "mode": "lines",
         "showlegend": false,
         "type": "scatter3d",
         "x": [
          0.619472861289978,
          0.619472861289978
         ],
         "y": [
          0.647162139415741,
          0.647162139415741
         ],
         "z": [
          0,
          1
         ]
        },
        {
         "line": {
          "color": "gray",
          "width": 3
         },
         "mode": "lines",
         "showlegend": false,
         "type": "scatter3d",
         "x": [
          0.7305225133895874,
          0.7305225133895874
         ],
         "y": [
          0.5797833800315857,
          0.5797833800315857
         ],
         "z": [
          0,
          1
         ]
        },
        {
         "line": {
          "color": "gray",
          "width": 3
         },
         "mode": "lines",
         "showlegend": false,
         "type": "scatter3d",
         "x": [
          0.6639685034751892,
          0.6639685034751892
         ],
         "y": [
          0.6681599617004395,
          0.6681599617004395
         ],
         "z": [
          0,
          1
         ]
        },
        {
         "line": {
          "color": "gray",
          "width": 3
         },
         "mode": "lines",
         "showlegend": false,
         "type": "scatter3d",
         "x": [
          0.7336536049842834,
          0.7336536049842834
         ],
         "y": [
          0.6290201544761658,
          0.6290201544761658
         ],
         "z": [
          0,
          1
         ]
        },
        {
         "line": {
          "color": "gray",
          "width": 3
         },
         "mode": "lines",
         "showlegend": false,
         "type": "scatter3d",
         "x": [
          0.7329126596450806,
          0.7329126596450806
         ],
         "y": [
          0.6011182069778442,
          0.6011182069778442
         ],
         "z": [
          0,
          1
         ]
        },
        {
         "line": {
          "color": "gray",
          "width": 3
         },
         "mode": "lines",
         "showlegend": false,
         "type": "scatter3d",
         "x": [
          0.6652128100395203,
          0.6652128100395203
         ],
         "y": [
          0.7002249360084534,
          0.7002249360084534
         ],
         "z": [
          0,
          1
         ]
        },
        {
         "line": {
          "color": "gray",
          "width": 3
         },
         "mode": "lines",
         "showlegend": false,
         "type": "scatter3d",
         "x": [
          0.6218028664588928,
          0.6218028664588928
         ],
         "y": [
          0.7149376273155212,
          0.7149376273155212
         ],
         "z": [
          0,
          1
         ]
        },
        {
         "line": {
          "color": "gray",
          "width": 3
         },
         "mode": "lines",
         "showlegend": false,
         "type": "scatter3d",
         "x": [
          0.6024044156074524,
          0.6024044156074524
         ],
         "y": [
          0.5710208415985107,
          0.5710208415985107
         ],
         "z": [
          0,
          1
         ]
        },
        {
         "line": {
          "color": "gray",
          "width": 3
         },
         "mode": "lines",
         "showlegend": false,
         "type": "scatter3d",
         "x": [
          0.6535107493400574,
          0.6535107493400574
         ],
         "y": [
          0.5611584186553955,
          0.5611584186553955
         ],
         "z": [
          0,
          1
         ]
        },
        {
         "line": {
          "color": "gray",
          "width": 3
         },
         "mode": "lines",
         "showlegend": false,
         "type": "scatter3d",
         "x": [
          0.6271935105323792,
          0.6271935105323792
         ],
         "y": [
          0.6430561542510986,
          0.6430561542510986
         ],
         "z": [
          0,
          1
         ]
        },
        {
         "line": {
          "color": "gray",
          "width": 3
         },
         "mode": "lines",
         "showlegend": false,
         "type": "scatter3d",
         "x": [
          0.47765177488327026,
          0.47765177488327026
         ],
         "y": [
          0.643427312374115,
          0.643427312374115
         ],
         "z": [
          0,
          1
         ]
        },
        {
         "line": {
          "color": "gray",
          "width": 3
         },
         "mode": "lines",
         "showlegend": false,
         "type": "scatter3d",
         "x": [
          0.741915225982666,
          0.741915225982666
         ],
         "y": [
          0.6920394897460938,
          0.6920394897460938
         ],
         "z": [
          0,
          1
         ]
        },
        {
         "line": {
          "color": "gray",
          "width": 3
         },
         "mode": "lines",
         "showlegend": false,
         "type": "scatter3d",
         "x": [
          0.60907381772995,
          0.60907381772995
         ],
         "y": [
          0.5373529195785522,
          0.5373529195785522
         ],
         "z": [
          0,
          1
         ]
        },
        {
         "line": {
          "color": "gray",
          "width": 3
         },
         "mode": "lines",
         "showlegend": false,
         "type": "scatter3d",
         "x": [
          0.5259421467781067,
          0.5259421467781067
         ],
         "y": [
          0.6068006753921509,
          0.6068006753921509
         ],
         "z": [
          0,
          1
         ]
        },
        {
         "line": {
          "color": "gray",
          "width": 3
         },
         "mode": "lines",
         "showlegend": false,
         "type": "scatter3d",
         "x": [
          0.780887246131897,
          0.780887246131897
         ],
         "y": [
          0.7064551711082458,
          0.7064551711082458
         ],
         "z": [
          0,
          1
         ]
        },
        {
         "line": {
          "color": "gray",
          "width": 3
         },
         "mode": "lines",
         "showlegend": false,
         "type": "scatter3d",
         "x": [
          0.7004860639572144,
          0.7004860639572144
         ],
         "y": [
          0.5794526934623718,
          0.5794526934623718
         ],
         "z": [
          0,
          1
         ]
        },
        {
         "line": {
          "color": "gray",
          "width": 3
         },
         "mode": "lines",
         "showlegend": false,
         "type": "scatter3d",
         "x": [
          0.6970846056938171,
          0.6970846056938171
         ],
         "y": [
          0.4872036874294281,
          0.4872036874294281
         ],
         "z": [
          0,
          1
         ]
        },
        {
         "line": {
          "color": "gray",
          "width": 3
         },
         "mode": "lines",
         "showlegend": false,
         "type": "scatter3d",
         "x": [
          0.5778449773788452,
          0.5778449773788452
         ],
         "y": [
          0.7322388291358948,
          0.7322388291358948
         ],
         "z": [
          0,
          1
         ]
        },
        {
         "line": {
          "color": "gray",
          "width": 3
         },
         "mode": "lines",
         "showlegend": false,
         "type": "scatter3d",
         "x": [
          0.6744966506958008,
          0.6744966506958008
         ],
         "y": [
          0.7183502912521362,
          0.7183502912521362
         ],
         "z": [
          0,
          1
         ]
        },
        {
         "line": {
          "color": "gray",
          "width": 3
         },
         "mode": "lines",
         "showlegend": false,
         "type": "scatter3d",
         "x": [
          0.6509590744972229,
          0.6509590744972229
         ],
         "y": [
          0.7664961218833923,
          0.7664961218833923
         ],
         "z": [
          0,
          1
         ]
        },
        {
         "line": {
          "color": "gray",
          "width": 3
         },
         "mode": "lines",
         "showlegend": false,
         "type": "scatter3d",
         "x": [
          0.837411642074585,
          0.837411642074585
         ],
         "y": [
          0.6920506954193115,
          0.6920506954193115
         ],
         "z": [
          0,
          1
         ]
        },
        {
         "line": {
          "color": "gray",
          "width": 3
         },
         "mode": "lines",
         "showlegend": false,
         "type": "scatter3d",
         "x": [
          0.6263684630393982,
          0.6263684630393982
         ],
         "y": [
          0.5696693062782288,
          0.5696693062782288
         ],
         "z": [
          0,
          1
         ]
        },
        {
         "line": {
          "color": "gray",
          "width": 3
         },
         "mode": "lines",
         "showlegend": false,
         "type": "scatter3d",
         "x": [
          0.6730105876922607,
          0.6730105876922607
         ],
         "y": [
          0.7383442521095276,
          0.7383442521095276
         ],
         "z": [
          0,
          1
         ]
        },
        {
         "line": {
          "color": "gray",
          "width": 3
         },
         "mode": "lines",
         "showlegend": false,
         "type": "scatter3d",
         "x": [
          0.7000353336334229,
          0.7000353336334229
         ],
         "y": [
          0.5582613945007324,
          0.5582613945007324
         ],
         "z": [
          0,
          1
         ]
        },
        {
         "line": {
          "color": "gray",
          "width": 3
         },
         "mode": "lines",
         "showlegend": false,
         "type": "scatter3d",
         "x": [
          0.54595947265625,
          0.54595947265625
         ],
         "y": [
          0.47105199098587036,
          0.47105199098587036
         ],
         "z": [
          0,
          1
         ]
        },
        {
         "line": {
          "color": "gray",
          "width": 3
         },
         "mode": "lines",
         "showlegend": false,
         "type": "scatter3d",
         "x": [
          0.7509168982505798,
          0.7509168982505798
         ],
         "y": [
          0.6886413097381592,
          0.6886413097381592
         ],
         "z": [
          0,
          1
         ]
        },
        {
         "line": {
          "color": "gray",
          "width": 3
         },
         "mode": "lines",
         "showlegend": false,
         "type": "scatter3d",
         "x": [
          0.6529694199562073,
          0.6529694199562073
         ],
         "y": [
          0.7168858647346497,
          0.7168858647346497
         ],
         "z": [
          0,
          1
         ]
        },
        {
         "line": {
          "color": "gray",
          "width": 3
         },
         "mode": "lines",
         "showlegend": false,
         "type": "scatter3d",
         "x": [
          0.6193321943283081,
          0.6193321943283081
         ],
         "y": [
          0.7426534295082092,
          0.7426534295082092
         ],
         "z": [
          0,
          1
         ]
        },
        {
         "line": {
          "color": "gray",
          "width": 3
         },
         "mode": "lines",
         "showlegend": false,
         "type": "scatter3d",
         "x": [
          0.6056789755821228,
          0.6056789755821228
         ],
         "y": [
          0.5459040403366089,
          0.5459040403366089
         ],
         "z": [
          0,
          1
         ]
        },
        {
         "line": {
          "color": "gray",
          "width": 3
         },
         "mode": "lines",
         "showlegend": false,
         "type": "scatter3d",
         "x": [
          0.5684279799461365,
          0.5684279799461365
         ],
         "y": [
          0.8508740663528442,
          0.8508740663528442
         ],
         "z": [
          0,
          1
         ]
        },
        {
         "line": {
          "color": "gray",
          "width": 3
         },
         "mode": "lines",
         "showlegend": false,
         "type": "scatter3d",
         "x": [
          0.5814700722694397,
          0.5814700722694397
         ],
         "y": [
          0.7650420665740967,
          0.7650420665740967
         ],
         "z": [
          0,
          1
         ]
        },
        {
         "line": {
          "color": "gray",
          "width": 3
         },
         "mode": "lines",
         "showlegend": false,
         "type": "scatter3d",
         "x": [
          0.5451116561889648,
          0.5451116561889648
         ],
         "y": [
          0.7627691030502319,
          0.7627691030502319
         ],
         "z": [
          0,
          1
         ]
        },
        {
         "line": {
          "color": "gray",
          "width": 3
         },
         "mode": "lines",
         "showlegend": false,
         "type": "scatter3d",
         "x": [
          0.749097466468811,
          0.749097466468811
         ],
         "y": [
          0.502781867980957,
          0.502781867980957
         ],
         "z": [
          0,
          1
         ]
        },
        {
         "line": {
          "color": "gray",
          "width": 3
         },
         "mode": "lines",
         "showlegend": false,
         "type": "scatter3d",
         "x": [
          0.5231040716171265,
          0.5231040716171265
         ],
         "y": [
          0.5071555376052856,
          0.5071555376052856
         ],
         "z": [
          0,
          1
         ]
        },
        {
         "marker": {
          "color": "silver",
          "size": 5,
          "symbol": "square"
         },
         "mode": "markers",
         "name": "Facilities",
         "type": "scatter3d",
         "x": {
          "bdata": "I9IxP/KjCz+6pg0/U+ExP27uDj96RiA/dgwTPyqkHz9ORmY/p5sbPwuAKD9zpCk/uiYwP9YsJz9ENuM+lDkQP8aVHj+GAzs/1/kpP7nQOz8qoDs/Y0sqP3kuHz8tNxo/e0wnP8GPID/GjvQ+KO49P0PsGz8lpAY/OuhHPw5TMz8jdDI/pu0TP9CrLD9BpSY/nGBWP69ZID9sSiw/hDUzPwDECz8XPEA/ASknP46MHj/HDRs/f4QRPznbFD9wjAs/2sQ/PybqBT8=",
          "dtype": "f4"
         },
         "y": {
          "bdata": "lhsbP3QSIz+fRjw/nb85PwINND+txjA/ovMNP2JWEz/sA0c/YdMwPyycSz9zsTc/9j87P3AHGj9AJDE/Zto1P2usJT+vbBQ/iAwrP3cHIT/i4hk/8UEzPycGNz9sLhI/FKgPP1SfJD+ntyQ/gCkxP/aPCT9KVxs/P9o0PwNXFD/Dcvk+AXQ7P87lNz8XOUQ/PCoxP9nVET8hBD0/OOoOP7ot8T7MSjA/1YU3P4kePj9ewAs/4tJZP8zZQz/WREM/ULYAP/LUAT8=",
          "dtype": "f4"
         },
         "z": {
          "bdata": "AAAAAAAA8D8AAAAAAADwPwAAAAAAAPA/AAAAAAAA8D8AAAAAAADwPwAAAAAAAPA/AAAAAAAA8D8AAAAAAADwPwAAAAAAAPA/AAAAAAAA8D8AAAAAAADwPwAAAAAAAPA/AAAAAAAA8D8AAAAAAADwPwAAAAAAAPA/AAAAAAAA8D8AAAAAAADwPwAAAAAAAPA/AAAAAAAA8D8AAAAAAADwPwAAAAAAAPA/AAAAAAAA8D8AAAAAAADwPwAAAAAAAPA/AAAAAAAA8D8AAAAAAADwPwAAAAAAAPA/AAAAAAAA8D8AAAAAAADwPwAAAAAAAPA/AAAAAAAA8D8AAAAAAADwPwAAAAAAAPA/AAAAAAAA8D8AAAAAAADwPwAAAAAAAPA/AAAAAAAA8D8AAAAAAADwPwAAAAAAAPA/AAAAAAAA8D8AAAAAAADwPwAAAAAAAPA/AAAAAAAA8D8AAAAAAADwPwAAAAAAAPA/AAAAAAAA8D8AAAAAAADwPwAAAAAAAPA/AAAAAAAA8D8AAAAAAADwPw==",
          "dtype": "f8"
         }
        }
       ],
       "layout": {
        "legend": {
         "bgcolor": "rgba(0,0,0,0.4)",
         "bordercolor": "white"
        },
        "margin": {
         "b": 0,
         "l": 0,
         "r": 0,
         "t": 30
        },
        "scene": {
         "aspectmode": "data",
         "camera": {
          "eye": {
           "x": 1.5,
           "y": 1.5,
           "z": 0.7
          }
         },
         "xaxis": {
          "backgroundcolor": "rgb(10,10,20)",
          "gridcolor": "gray",
          "title": {
           "text": "X"
          },
          "zerolinecolor": "gray"
         },
         "yaxis": {
          "backgroundcolor": "rgb(10,10,20)",
          "gridcolor": "gray",
          "title": {
           "text": "Y"
          },
          "zerolinecolor": "gray"
         },
         "zaxis": {
          "backgroundcolor": "rgb(10,10,20)",
          "gridcolor": "gray",
          "title": {
           "text": "Z"
          },
          "zerolinecolor": "gray"
         }
        },
        "template": {
         "data": {
          "bar": [
           {
            "error_x": {
             "color": "#f2f5fa"
            },
            "error_y": {
             "color": "#f2f5fa"
            },
            "marker": {
             "line": {
              "color": "rgb(17,17,17)",
              "width": 0.5
             },
             "pattern": {
              "fillmode": "overlay",
              "size": 10,
              "solidity": 0.2
             }
            },
            "type": "bar"
           }
          ],
          "barpolar": [
           {
            "marker": {
             "line": {
              "color": "rgb(17,17,17)",
              "width": 0.5
             },
             "pattern": {
              "fillmode": "overlay",
              "size": 10,
              "solidity": 0.2
             }
            },
            "type": "barpolar"
           }
          ],
          "carpet": [
           {
            "aaxis": {
             "endlinecolor": "#A2B1C6",
             "gridcolor": "#506784",
             "linecolor": "#506784",
             "minorgridcolor": "#506784",
             "startlinecolor": "#A2B1C6"
            },
            "baxis": {
             "endlinecolor": "#A2B1C6",
             "gridcolor": "#506784",
             "linecolor": "#506784",
             "minorgridcolor": "#506784",
             "startlinecolor": "#A2B1C6"
            },
            "type": "carpet"
           }
          ],
          "choropleth": [
           {
            "colorbar": {
             "outlinewidth": 0,
             "ticks": ""
            },
            "type": "choropleth"
           }
          ],
          "contour": [
           {
            "colorbar": {
             "outlinewidth": 0,
             "ticks": ""
            },
            "colorscale": [
             [
              0,
              "#0d0887"
             ],
             [
              0.1111111111111111,
              "#46039f"
             ],
             [
              0.2222222222222222,
              "#7201a8"
             ],
             [
              0.3333333333333333,
              "#9c179e"
             ],
             [
              0.4444444444444444,
              "#bd3786"
             ],
             [
              0.5555555555555556,
              "#d8576b"
             ],
             [
              0.6666666666666666,
              "#ed7953"
             ],
             [
              0.7777777777777778,
              "#fb9f3a"
             ],
             [
              0.8888888888888888,
              "#fdca26"
             ],
             [
              1,
              "#f0f921"
             ]
            ],
            "type": "contour"
           }
          ],
          "contourcarpet": [
           {
            "colorbar": {
             "outlinewidth": 0,
             "ticks": ""
            },
            "type": "contourcarpet"
           }
          ],
          "heatmap": [
           {
            "colorbar": {
             "outlinewidth": 0,
             "ticks": ""
            },
            "colorscale": [
             [
              0,
              "#0d0887"
             ],
             [
              0.1111111111111111,
              "#46039f"
             ],
             [
              0.2222222222222222,
              "#7201a8"
             ],
             [
              0.3333333333333333,
              "#9c179e"
             ],
             [
              0.4444444444444444,
              "#bd3786"
             ],
             [
              0.5555555555555556,
              "#d8576b"
             ],
             [
              0.6666666666666666,
              "#ed7953"
             ],
             [
              0.7777777777777778,
              "#fb9f3a"
             ],
             [
              0.8888888888888888,
              "#fdca26"
             ],
             [
              1,
              "#f0f921"
             ]
            ],
            "type": "heatmap"
           }
          ],
          "histogram": [
           {
            "marker": {
             "pattern": {
              "fillmode": "overlay",
              "size": 10,
              "solidity": 0.2
             }
            },
            "type": "histogram"
           }
          ],
          "histogram2d": [
           {
            "colorbar": {
             "outlinewidth": 0,
             "ticks": ""
            },
            "colorscale": [
             [
              0,
              "#0d0887"
             ],
             [
              0.1111111111111111,
              "#46039f"
             ],
             [
              0.2222222222222222,
              "#7201a8"
             ],
             [
              0.3333333333333333,
              "#9c179e"
             ],
             [
              0.4444444444444444,
              "#bd3786"
             ],
             [
              0.5555555555555556,
              "#d8576b"
             ],
             [
              0.6666666666666666,
              "#ed7953"
             ],
             [
              0.7777777777777778,
              "#fb9f3a"
             ],
             [
              0.8888888888888888,
              "#fdca26"
             ],
             [
              1,
              "#f0f921"
             ]
            ],
            "type": "histogram2d"
           }
          ],
          "histogram2dcontour": [
           {
            "colorbar": {
             "outlinewidth": 0,
             "ticks": ""
            },
            "colorscale": [
             [
              0,
              "#0d0887"
             ],
             [
              0.1111111111111111,
              "#46039f"
             ],
             [
              0.2222222222222222,
              "#7201a8"
             ],
             [
              0.3333333333333333,
              "#9c179e"
             ],
             [
              0.4444444444444444,
              "#bd3786"
             ],
             [
              0.5555555555555556,
              "#d8576b"
             ],
             [
              0.6666666666666666,
              "#ed7953"
             ],
             [
              0.7777777777777778,
              "#fb9f3a"
             ],
             [
              0.8888888888888888,
              "#fdca26"
             ],
             [
              1,
              "#f0f921"
             ]
            ],
            "type": "histogram2dcontour"
           }
          ],
          "mesh3d": [
           {
            "colorbar": {
             "outlinewidth": 0,
             "ticks": ""
            },
            "type": "mesh3d"
           }
          ],
          "parcoords": [
           {
            "line": {
             "colorbar": {
              "outlinewidth": 0,
              "ticks": ""
             }
            },
            "type": "parcoords"
           }
          ],
          "pie": [
           {
            "automargin": true,
            "type": "pie"
           }
          ],
          "scatter": [
           {
            "marker": {
             "line": {
              "color": "#283442"
             }
            },
            "type": "scatter"
           }
          ],
          "scatter3d": [
           {
            "line": {
             "colorbar": {
              "outlinewidth": 0,
              "ticks": ""
             }
            },
            "marker": {
             "colorbar": {
              "outlinewidth": 0,
              "ticks": ""
             }
            },
            "type": "scatter3d"
           }
          ],
          "scattercarpet": [
           {
            "marker": {
             "colorbar": {
              "outlinewidth": 0,
              "ticks": ""
             }
            },
            "type": "scattercarpet"
           }
          ],
          "scattergeo": [
           {
            "marker": {
             "colorbar": {
              "outlinewidth": 0,
              "ticks": ""
             }
            },
            "type": "scattergeo"
           }
          ],
          "scattergl": [
           {
            "marker": {
             "line": {
              "color": "#283442"
             }
            },
            "type": "scattergl"
           }
          ],
          "scattermap": [
           {
            "marker": {
             "colorbar": {
              "outlinewidth": 0,
              "ticks": ""
             }
            },
            "type": "scattermap"
           }
          ],
          "scattermapbox": [
           {
            "marker": {
             "colorbar": {
              "outlinewidth": 0,
              "ticks": ""
             }
            },
            "type": "scattermapbox"
           }
          ],
          "scatterpolar": [
           {
            "marker": {
             "colorbar": {
              "outlinewidth": 0,
              "ticks": ""
             }
            },
            "type": "scatterpolar"
           }
          ],
          "scatterpolargl": [
           {
            "marker": {
             "colorbar": {
              "outlinewidth": 0,
              "ticks": ""
             }
            },
            "type": "scatterpolargl"
           }
          ],
          "scatterternary": [
           {
            "marker": {
             "colorbar": {
              "outlinewidth": 0,
              "ticks": ""
             }
            },
            "type": "scatterternary"
           }
          ],
          "surface": [
           {
            "colorbar": {
             "outlinewidth": 0,
             "ticks": ""
            },
            "colorscale": [
             [
              0,
              "#0d0887"
             ],
             [
              0.1111111111111111,
              "#46039f"
             ],
             [
              0.2222222222222222,
              "#7201a8"
             ],
             [
              0.3333333333333333,
              "#9c179e"
             ],
             [
              0.4444444444444444,
              "#bd3786"
             ],
             [
              0.5555555555555556,
              "#d8576b"
             ],
             [
              0.6666666666666666,
              "#ed7953"
             ],
             [
              0.7777777777777778,
              "#fb9f3a"
             ],
             [
              0.8888888888888888,
              "#fdca26"
             ],
             [
              1,
              "#f0f921"
             ]
            ],
            "type": "surface"
           }
          ],
          "table": [
           {
            "cells": {
             "fill": {
              "color": "#506784"
             },
             "line": {
              "color": "rgb(17,17,17)"
             }
            },
            "header": {
             "fill": {
              "color": "#2a3f5f"
             },
             "line": {
              "color": "rgb(17,17,17)"
             }
            },
            "type": "table"
           }
          ]
         },
         "layout": {
          "annotationdefaults": {
           "arrowcolor": "#f2f5fa",
           "arrowhead": 0,
           "arrowwidth": 1
          },
          "autotypenumbers": "strict",
          "coloraxis": {
           "colorbar": {
            "outlinewidth": 0,
            "ticks": ""
           }
          },
          "colorscale": {
           "diverging": [
            [
             0,
             "#8e0152"
            ],
            [
             0.1,
             "#c51b7d"
            ],
            [
             0.2,
             "#de77ae"
            ],
            [
             0.3,
             "#f1b6da"
            ],
            [
             0.4,
             "#fde0ef"
            ],
            [
             0.5,
             "#f7f7f7"
            ],
            [
             0.6,
             "#e6f5d0"
            ],
            [
             0.7,
             "#b8e186"
            ],
            [
             0.8,
             "#7fbc41"
            ],
            [
             0.9,
             "#4d9221"
            ],
            [
             1,
             "#276419"
            ]
           ],
           "sequential": [
            [
             0,
             "#0d0887"
            ],
            [
             0.1111111111111111,
             "#46039f"
            ],
            [
             0.2222222222222222,
             "#7201a8"
            ],
            [
             0.3333333333333333,
             "#9c179e"
            ],
            [
             0.4444444444444444,
             "#bd3786"
            ],
            [
             0.5555555555555556,
             "#d8576b"
            ],
            [
             0.6666666666666666,
             "#ed7953"
            ],
            [
             0.7777777777777778,
             "#fb9f3a"
            ],
            [
             0.8888888888888888,
             "#fdca26"
            ],
            [
             1,
             "#f0f921"
            ]
           ],
           "sequentialminus": [
            [
             0,
             "#0d0887"
            ],
            [
             0.1111111111111111,
             "#46039f"
            ],
            [
             0.2222222222222222,
             "#7201a8"
            ],
            [
             0.3333333333333333,
             "#9c179e"
            ],
            [
             0.4444444444444444,
             "#bd3786"
            ],
            [
             0.5555555555555556,
             "#d8576b"
            ],
            [
             0.6666666666666666,
             "#ed7953"
            ],
            [
             0.7777777777777778,
             "#fb9f3a"
            ],
            [
             0.8888888888888888,
             "#fdca26"
            ],
            [
             1,
             "#f0f921"
            ]
           ]
          },
          "colorway": [
           "#636efa",
           "#EF553B",
           "#00cc96",
           "#ab63fa",
           "#FFA15A",
           "#19d3f3",
           "#FF6692",
           "#B6E880",
           "#FF97FF",
           "#FECB52"
          ],
          "font": {
           "color": "#f2f5fa"
          },
          "geo": {
           "bgcolor": "rgb(17,17,17)",
           "lakecolor": "rgb(17,17,17)",
           "landcolor": "rgb(17,17,17)",
           "showlakes": true,
           "showland": true,
           "subunitcolor": "#506784"
          },
          "hoverlabel": {
           "align": "left"
          },
          "hovermode": "closest",
          "mapbox": {
           "style": "dark"
          },
          "paper_bgcolor": "rgb(17,17,17)",
          "plot_bgcolor": "rgb(17,17,17)",
          "polar": {
           "angularaxis": {
            "gridcolor": "#506784",
            "linecolor": "#506784",
            "ticks": ""
           },
           "bgcolor": "rgb(17,17,17)",
           "radialaxis": {
            "gridcolor": "#506784",
            "linecolor": "#506784",
            "ticks": ""
           }
          },
          "scene": {
           "xaxis": {
            "backgroundcolor": "rgb(17,17,17)",
            "gridcolor": "#506784",
            "gridwidth": 2,
            "linecolor": "#506784",
            "showbackground": true,
            "ticks": "",
            "zerolinecolor": "#C8D4E3"
           },
           "yaxis": {
            "backgroundcolor": "rgb(17,17,17)",
            "gridcolor": "#506784",
            "gridwidth": 2,
            "linecolor": "#506784",
            "showbackground": true,
            "ticks": "",
            "zerolinecolor": "#C8D4E3"
           },
           "zaxis": {
            "backgroundcolor": "rgb(17,17,17)",
            "gridcolor": "#506784",
            "gridwidth": 2,
            "linecolor": "#506784",
            "showbackground": true,
            "ticks": "",
            "zerolinecolor": "#C8D4E3"
           }
          },
          "shapedefaults": {
           "line": {
            "color": "#f2f5fa"
           }
          },
          "sliderdefaults": {
           "bgcolor": "#C8D4E3",
           "bordercolor": "rgb(17,17,17)",
           "borderwidth": 1,
           "tickwidth": 0
          },
          "ternary": {
           "aaxis": {
            "gridcolor": "#506784",
            "linecolor": "#506784",
            "ticks": ""
           },
           "baxis": {
            "gridcolor": "#506784",
            "linecolor": "#506784",
            "ticks": ""
           },
           "bgcolor": "rgb(17,17,17)",
           "caxis": {
            "gridcolor": "#506784",
            "linecolor": "#506784",
            "ticks": ""
           }
          },
          "title": {
           "x": 0.05
          },
          "updatemenudefaults": {
           "bgcolor": "#506784",
           "borderwidth": 0
          },
          "xaxis": {
           "automargin": true,
           "gridcolor": "#283442",
           "linecolor": "#506784",
           "ticks": "",
           "title": {
            "standoff": 15
           },
           "zerolinecolor": "#283442",
           "zerolinewidth": 2
          },
          "yaxis": {
           "automargin": true,
           "gridcolor": "#283442",
           "linecolor": "#506784",
           "ticks": "",
           "title": {
            "standoff": 15
           },
           "zerolinecolor": "#283442",
           "zerolinewidth": 2
          }
         }
        },
        "title": {
         "font": {
          "size": 20
         },
         "text": "UAV Spatial Deployment",
         "x": 0.5
        }
       }
      }
     },
     "metadata": {},
     "output_type": "display_data"
    }
   ],
   "source": [
    "plot_UAV_FLPO(START_locs, END_locs, F_base, (4,3))\n",
    "plot_UAV_FLPO_3D(START_locs, END_locs, F_base)\n"
   ]
  },
  {
   "cell_type": "markdown",
   "metadata": {},
   "source": [
    "### Annealing loop implementation\n",
    "Warning: Use $\\beta >= 1e-3$, as the free energy approximation is poor for $\\beta < 5e-4$ with torch.float32 datatype."
   ]
  },
  {
   "cell_type": "code",
   "execution_count": 9,
   "metadata": {},
   "outputs": [
    {
     "name": "stdout",
     "output_type": "stream",
     "text": [
      "n_drones:100\tnum_facilities:20\tdim_:2\n",
      "beta: 1.0000e-03\tFreeE: -4614.6851\tGrad: 8.3714e-02\n",
      "n_drones:100\tnum_facilities:20\tdim_:2\n",
      "beta: 3.0000e-03\tFreeE: -1537.9491\tGrad: 1.6663e-02\n",
      "n_drones:100\tnum_facilities:20\tdim_:2\n",
      "beta: 9.0000e-03\tFreeE: -512.3651\tGrad: 1.2424e-02\n",
      "n_drones:100\tnum_facilities:20\tdim_:2\n",
      "beta: 2.7000e-02\tFreeE: -170.5056\tGrad: 1.2310e-02\n",
      "n_drones:100\tnum_facilities:20\tdim_:2\n",
      "beta: 8.1000e-02\tFreeE: -56.5538\tGrad: 9.9555e-03\n",
      "n_drones:100\tnum_facilities:20\tdim_:2\n",
      "beta: 2.4300e-01\tFreeE: -18.5701\tGrad: 9.5922e-03\n",
      "n_drones:100\tnum_facilities:20\tdim_:2\n",
      "beta: 7.2900e-01\tFreeE: -5.9140\tGrad: 9.8724e-03\n",
      "n_drones:100\tnum_facilities:20\tdim_:2\n",
      "beta: 2.1870e+00\tFreeE: -1.7085\tGrad: 1.5387e-02\n",
      "n_drones:100\tnum_facilities:20\tdim_:2\n",
      "beta: 6.5610e+00\tFreeE: -0.3499\tGrad: 2.3539e-02\n",
      "n_drones:100\tnum_facilities:20\tdim_:2\n"
     ]
    },
    {
     "ename": "KeyboardInterrupt",
     "evalue": "",
     "output_type": "error",
     "traceback": [
      "\u001b[0;31m---------------------------------------------------------------------------\u001b[0m",
      "\u001b[0;31mKeyboardInterrupt\u001b[0m                         Traceback (most recent call last)",
      "Cell \u001b[0;32mIn[9], line 9\u001b[0m\n\u001b[1;32m      6\u001b[0m optim_name \u001b[38;5;241m=\u001b[39m \u001b[38;5;124m'\u001b[39m\u001b[38;5;124msampling_gradient_descent\u001b[39m\u001b[38;5;124m'\u001b[39m \n\u001b[1;32m      7\u001b[0m tol \u001b[38;5;241m=\u001b[39m \u001b[38;5;241m1e-2\u001b[39m \n\u001b[0;32m----> 9\u001b[0m Y_arr, b_arr, F_arr \u001b[38;5;241m=\u001b[39m \u001b[43manneal\u001b[49m\u001b[43m(\u001b[49m\u001b[43m \u001b[49m\n\u001b[1;32m     10\u001b[0m \u001b[43m        \u001b[49m\u001b[43mF_base\u001b[49m\u001b[43m,\u001b[49m\u001b[43m \u001b[49m\u001b[43mSTART_locs\u001b[49m\u001b[43m,\u001b[49m\u001b[43m \u001b[49m\u001b[43mEND_locs\u001b[49m\u001b[43m,\u001b[49m\u001b[43m \u001b[49m\u001b[43mvrp_net\u001b[49m\u001b[43m,\u001b[49m\u001b[43m \u001b[49m\u001b[43mlse_net\u001b[49m\u001b[43m,\u001b[49m\u001b[43m \u001b[49m\u001b[43moptim_iters\u001b[49m\u001b[43m,\u001b[49m\u001b[43m \u001b[49m\u001b[43moptim_step\u001b[49m\u001b[43m,\u001b[49m\u001b[43m \u001b[49m\n\u001b[1;32m     11\u001b[0m \u001b[43m        \u001b[49m\u001b[43mbeta_min\u001b[49m\u001b[43m,\u001b[49m\u001b[43m \u001b[49m\u001b[43mbeta_max\u001b[49m\u001b[43m,\u001b[49m\u001b[43m \u001b[49m\u001b[43mbeta_grow\u001b[49m\u001b[43m,\u001b[49m\u001b[43m \u001b[49m\u001b[43mD_max_range\u001b[49m\u001b[38;5;241;43m=\u001b[39;49m\u001b[43mD_max_range\u001b[49m\u001b[43m,\u001b[49m\u001b[43m \u001b[49m\u001b[43mtol\u001b[49m\u001b[38;5;241;43m=\u001b[39;49m\u001b[43mtol\u001b[49m\u001b[43m,\u001b[49m\u001b[43m \u001b[49m\n\u001b[1;32m     12\u001b[0m \u001b[43m        \u001b[49m\u001b[43moptimizer_name\u001b[49m\u001b[38;5;241;43m=\u001b[39;49m\u001b[43moptim_name\u001b[49m\u001b[43m,\u001b[49m\u001b[43m \u001b[49m\u001b[43mn_path_samples\u001b[49m\u001b[38;5;241;43m=\u001b[39;49m\u001b[38;5;241;43m100\u001b[39;49m\u001b[43m,\u001b[49m\u001b[43m \u001b[49m\u001b[43mallowPrint\u001b[49m\u001b[38;5;241;43m=\u001b[39;49m\u001b[38;5;28;43;01mTrue\u001b[39;49;00m\u001b[43m \u001b[49m\n\u001b[1;32m     13\u001b[0m \u001b[43m    \u001b[49m\u001b[43m)\u001b[49m \n",
      "File \u001b[0;32m~/Documents/NASA_ULI/Review_May2025/LearningFLPO/Anneal.py:81\u001b[0m, in \u001b[0;36manneal\u001b[0;34m(F_base, S, E, vrp_net, lse_net, optim_iters, optim_step, beta_min, beta_max, beta_grow, D_max_range, tol, optimizer_name, n_path_samples, allowPrint)\u001b[0m\n\u001b[1;32m     64\u001b[0m     F_base, FreeEnergy, G \u001b[38;5;241m=\u001b[39m GD\u001b[38;5;241m.\u001b[39mAdam_at_beta(\n\u001b[1;32m     65\u001b[0m         F_base,\n\u001b[1;32m     66\u001b[0m         S,\n\u001b[0;32m   (...)\u001b[0m\n\u001b[1;32m     77\u001b[0m         return_list \u001b[38;5;241m=\u001b[39m \u001b[38;5;28;01mFalse\u001b[39;00m\n\u001b[1;32m     78\u001b[0m     )\n\u001b[1;32m     80\u001b[0m \u001b[38;5;28;01melif\u001b[39;00m optimizer_name \u001b[38;5;241m==\u001b[39m \u001b[38;5;124m\"\u001b[39m\u001b[38;5;124msampling_gradient_descent\u001b[39m\u001b[38;5;124m\"\u001b[39m:\n\u001b[0;32m---> 81\u001b[0m     F_base, FreeEnergy, G \u001b[38;5;241m=\u001b[39m \u001b[43mGD\u001b[49m\u001b[38;5;241;43m.\u001b[39;49m\u001b[43msampling_GD_at_beta\u001b[49m\u001b[43m(\u001b[49m\n\u001b[1;32m     82\u001b[0m \u001b[43m        \u001b[49m\u001b[43mF_base\u001b[49m\u001b[43m,\u001b[49m\n\u001b[1;32m     83\u001b[0m \u001b[43m        \u001b[49m\u001b[43mS\u001b[49m\u001b[43m,\u001b[49m\n\u001b[1;32m     84\u001b[0m \u001b[43m        \u001b[49m\u001b[43mE\u001b[49m\u001b[43m,\u001b[49m\n\u001b[1;32m     85\u001b[0m \u001b[43m        \u001b[49m\u001b[43mvrp_net\u001b[49m\u001b[43m,\u001b[49m\n\u001b[1;32m     86\u001b[0m \u001b[43m        \u001b[49m\u001b[43mn_path_samples\u001b[49m\u001b[38;5;241;43m=\u001b[39;49m\u001b[43mn_path_samples\u001b[49m\u001b[43m,\u001b[49m\n\u001b[1;32m     87\u001b[0m \u001b[43m        \u001b[49m\u001b[43mbeta\u001b[49m\u001b[38;5;241;43m=\u001b[39;49m\u001b[43mbeta\u001b[49m\u001b[43m,\u001b[49m\n\u001b[1;32m     88\u001b[0m \u001b[43m        \u001b[49m\u001b[43mstepsize\u001b[49m\u001b[38;5;241;43m=\u001b[39;49m\u001b[43moptim_step\u001b[49m\u001b[43m,\u001b[49m\n\u001b[1;32m     89\u001b[0m \u001b[43m        \u001b[49m\u001b[43miters\u001b[49m\u001b[38;5;241;43m=\u001b[39;49m\u001b[43moptim_iters\u001b[49m\u001b[43m,\u001b[49m\n\u001b[1;32m     90\u001b[0m \u001b[43m        \u001b[49m\u001b[43mtol\u001b[49m\u001b[38;5;241;43m=\u001b[39;49m\u001b[43mtol\u001b[49m\u001b[43m,\u001b[49m\n\u001b[1;32m     91\u001b[0m \u001b[43m        \u001b[49m\u001b[43mallowPrint\u001b[49m\u001b[38;5;241;43m=\u001b[39;49m\u001b[38;5;28;43;01mFalse\u001b[39;49;00m\n\u001b[1;32m     92\u001b[0m \u001b[43m        \u001b[49m\u001b[43m)\u001b[49m            \n\u001b[1;32m     94\u001b[0m \u001b[38;5;66;03m# store data\u001b[39;00m\n\u001b[1;32m     95\u001b[0m Y_arr\u001b[38;5;241m.\u001b[39mappend(F_base\u001b[38;5;241m.\u001b[39mclone()\u001b[38;5;241m.\u001b[39mdetach())\n",
      "File \u001b[0;32m~/Documents/NASA_ULI/Review_May2025/LearningFLPO/GD.py:215\u001b[0m, in \u001b[0;36msampling_GD_at_beta\u001b[0;34m(F_base, S, E, vrp_net, n_path_samples, beta, stepsize, iters, tol, allowPrint)\u001b[0m\n\u001b[1;32m    206\u001b[0m D_mins, GD_mins, _ \u001b[38;5;241m=\u001b[39m VRPNet_pass(\n\u001b[1;32m    207\u001b[0m     vrp_net, \n\u001b[1;32m    208\u001b[0m     F_base, \n\u001b[0;32m   (...)\u001b[0m\n\u001b[1;32m    211\u001b[0m     method\u001b[38;5;241m=\u001b[39m\u001b[38;5;124m\"\u001b[39m\u001b[38;5;124mGreedy\u001b[39m\u001b[38;5;124m\"\u001b[39m,\n\u001b[1;32m    212\u001b[0m     returnGrad\u001b[38;5;241m=\u001b[39m\u001b[38;5;28;01mTrue\u001b[39;00m)\n\u001b[1;32m    214\u001b[0m \u001b[38;5;66;03m# sample some paths using a stagewise uniform distribution\u001b[39;00m\n\u001b[0;32m--> 215\u001b[0m D_samples, GD_samples \u001b[38;5;241m=\u001b[39m \u001b[43msampling_pass\u001b[49m\u001b[43m(\u001b[49m\n\u001b[1;32m    216\u001b[0m \u001b[43m    \u001b[49m\u001b[43mF_base\u001b[49m\u001b[43m,\u001b[49m\u001b[43m \u001b[49m\n\u001b[1;32m    217\u001b[0m \u001b[43m    \u001b[49m\u001b[43mS\u001b[49m\u001b[43m,\u001b[49m\u001b[43m \u001b[49m\n\u001b[1;32m    218\u001b[0m \u001b[43m    \u001b[49m\u001b[43mE\u001b[49m\u001b[43m,\u001b[49m\u001b[43m \u001b[49m\n\u001b[1;32m    219\u001b[0m \u001b[43m    \u001b[49m\u001b[43mn_path_samples\u001b[49m\u001b[43m,\u001b[49m\u001b[43m \u001b[49m\n\u001b[1;32m    220\u001b[0m \u001b[43m    \u001b[49m\u001b[43mreturnGrad\u001b[49m\u001b[38;5;241;43m=\u001b[39;49m\u001b[38;5;28;43;01mTrue\u001b[39;49;00m\u001b[43m)\u001b[49m\n\u001b[1;32m    222\u001b[0m \u001b[38;5;66;03m# compute a gibbs distribution on all the paths (shortest and sampled)\u001b[39;00m\n\u001b[1;32m    223\u001b[0m D_cat \u001b[38;5;241m=\u001b[39m torch\u001b[38;5;241m.\u001b[39mcat((D_mins, D_samples\u001b[38;5;241m.\u001b[39msqueeze()\u001b[38;5;241m.\u001b[39mT),axis\u001b[38;5;241m=\u001b[39m\u001b[38;5;241m1\u001b[39m)\n",
      "File \u001b[0;32m~/Documents/NASA_ULI/Review_May2025/LearningFLPO/ModelPass.py:90\u001b[0m, in \u001b[0;36msampling_pass\u001b[0;34m(F_base, S, E, n_samples, returnGrad)\u001b[0m\n\u001b[1;32m     88\u001b[0m \u001b[38;5;28;01mfor\u001b[39;00m i \u001b[38;5;129;01min\u001b[39;00m \u001b[38;5;28mrange\u001b[39m(n_samples):\n\u001b[1;32m     89\u001b[0m     \u001b[38;5;28;01mwith\u001b[39;00m torch\u001b[38;5;241m.\u001b[39mno_grad():\n\u001b[0;32m---> 90\u001b[0m         _, actions \u001b[38;5;241m=\u001b[39m \u001b[43minference\u001b[49m\u001b[43m(\u001b[49m\u001b[43mdata\u001b[49m\u001b[43m,\u001b[49m\u001b[43m \u001b[49m\u001b[43mmodel\u001b[49m\u001b[38;5;241;43m=\u001b[39;49m\u001b[38;5;28;43;01mNone\u001b[39;49;00m\u001b[43m,\u001b[49m\u001b[43m \u001b[49m\u001b[43mmethod\u001b[49m\u001b[38;5;241;43m=\u001b[39;49m\u001b[38;5;124;43m\"\u001b[39;49m\u001b[38;5;124;43mfree_sampling\u001b[39;49m\u001b[38;5;124;43m\"\u001b[39;49m\u001b[43m)\u001b[49m\n\u001b[1;32m     92\u001b[0m     D_drones \u001b[38;5;241m=\u001b[39m utils\u001b[38;5;241m.\u001b[39mroute_cost(data, actions)\u001b[38;5;241m.\u001b[39mview(\u001b[38;5;241m-\u001b[39m\u001b[38;5;241m1\u001b[39m, \u001b[38;5;241m1\u001b[39m)\n\u001b[1;32m     94\u001b[0m     \u001b[38;5;28;01mif\u001b[39;00m returnGrad:\n\u001b[1;32m     95\u001b[0m         \u001b[38;5;66;03m# grad D_mins w.r.t. F_locs: shape = num_drones x num_facilities x dim_facility\u001b[39;00m\n",
      "File \u001b[0;32m~/Documents/NASA_ULI/Review_May2025/LearningFLPO/inference.py:50\u001b[0m, in \u001b[0;36minference\u001b[0;34m(data, model, method)\u001b[0m\n\u001b[1;32m     48\u001b[0m     P_s \u001b[38;5;241m=\u001b[39m P_s\u001b[38;5;241m/\u001b[39mtorch\u001b[38;5;241m.\u001b[39msum(P_s, axis\u001b[38;5;241m=\u001b[39m\u001b[38;5;241m-\u001b[39m\u001b[38;5;241m1\u001b[39m, keepdims\u001b[38;5;241m=\u001b[39m\u001b[38;5;28;01mTrue\u001b[39;00m) \u001b[38;5;66;03m# normalization\u001b[39;00m\n\u001b[1;32m     49\u001b[0m     \u001b[38;5;28;01mfor\u001b[39;00m t \u001b[38;5;129;01min\u001b[39;00m \u001b[38;5;28mrange\u001b[39m(\u001b[38;5;241m1\u001b[39m, num_cities):\n\u001b[0;32m---> 50\u001b[0m         a \u001b[38;5;241m=\u001b[39m \u001b[43mtorch\u001b[49m\u001b[38;5;241;43m.\u001b[39;49m\u001b[43mmultinomial\u001b[49m\u001b[43m(\u001b[49m\u001b[43mP_s\u001b[49m\u001b[43m[\u001b[49m\u001b[43m:\u001b[49m\u001b[43m,\u001b[49m\u001b[43m \u001b[49m\u001b[43mt\u001b[49m\u001b[43m,\u001b[49m\u001b[43m \u001b[49m\u001b[43m:\u001b[49m\u001b[43m]\u001b[49m\u001b[43m,\u001b[49m\u001b[43m \u001b[49m\u001b[43mnum_samples\u001b[49m\u001b[38;5;241;43m=\u001b[39;49m\u001b[38;5;241;43m1\u001b[39;49m\u001b[43m)\u001b[49m\u001b[38;5;241m.\u001b[39msqueeze(\u001b[38;5;241m-\u001b[39m\u001b[38;5;241m1\u001b[39m)\n\u001b[1;32m     51\u001b[0m         actions[:, t, \u001b[38;5;241m0\u001b[39m] \u001b[38;5;241m=\u001b[39m a\n\u001b[1;32m     52\u001b[0m \u001b[38;5;28;01melse\u001b[39;00m:\n",
      "\u001b[0;31mKeyboardInterrupt\u001b[0m: "
     ]
    }
   ],
   "source": [
    "beta_min = 1e-3 \n",
    "beta_max = 1e5 \n",
    "beta_grow = 3 \n",
    "optim_iters = 100 \n",
    "optim_step = 0.05 # 0.1 for gd0, sampling_gd, use < 0.01 for the other two optimizers \n",
    "optim_name = 'sampling_gradient_descent' \n",
    "tol = 1e-2 \n",
    "\n",
    "Y_arr, b_arr, F_arr = anneal( \n",
    "        F_base, START_locs, END_locs, vrp_net, lse_net, optim_iters, optim_step, \n",
    "        beta_min, beta_max, beta_grow, D_max_range=D_max_range, tol=tol, \n",
    "        optimizer_name=optim_name, n_path_samples=100, allowPrint=True \n",
    "    ) \n"
   ]
  },
  {
   "cell_type": "code",
   "execution_count": 10,
   "metadata": {},
   "outputs": [
    {
     "data": {
      "text/plain": [
       "tensor([[[0.6465, 0.5324],\n",
       "         [0.2876, 0.3382],\n",
       "         [0.5463, 0.5872],\n",
       "         [0.4143, 0.4202],\n",
       "         [0.4169, 0.4903],\n",
       "         [0.2117, 0.0831],\n",
       "         [0.4125, 0.4213],\n",
       "         [0.4103, 0.4219],\n",
       "         [0.4459, 0.5308],\n",
       "         [0.4746, 0.5799],\n",
       "         [0.3088, 0.3889],\n",
       "         [0.2408, 0.2200],\n",
       "         [0.2650, 0.2816],\n",
       "         [0.4074, 0.4242],\n",
       "         [0.4114, 0.4217],\n",
       "         [0.3798, 0.4595],\n",
       "         [0.3297, 0.4350],\n",
       "         [0.3610, 0.6099],\n",
       "         [0.4128, 0.4212],\n",
       "         [0.2149, 0.1546]]])"
      ]
     },
     "execution_count": 10,
     "metadata": {},
     "output_type": "execute_result"
    }
   ],
   "source": [
    "Y_arr[-1] "
   ]
  },
  {
   "cell_type": "code",
   "execution_count": 11,
   "metadata": {},
   "outputs": [
    {
     "data": {
      "image/png": "[encoded data removed]",
      "text/plain": [
       "<Figure size 400x300 with 1 Axes>"
      ]
     },
     "metadata": {},
     "output_type": "display_data"
    },
    {
     "data": {
      "application/vnd.plotly.v1+json": {
       "config": {
        "plotlyServerURL": "https://plot.ly"
       },
       "data": [
        {
         "mode": "text",
         "name": "Drone Start",
         "text": [
          "𖥂",
          "𖥂",
          "𖥂",
          "𖥂",
          "𖥂",
          "𖥂",
          "𖥂",
          "𖥂",
          "𖥂",
          "𖥂",
          "𖥂",
          "𖥂",
          "𖥂",
          "𖥂",
          "𖥂",
          "𖥂",
          "𖥂",
          "𖥂",
          "𖥂",
          "𖥂",
          "𖥂",
          "𖥂",
          "𖥂",
          "𖥂",
          "𖥂",
          "𖥂",
          "𖥂",
          "𖥂",
          "𖥂",
          "𖥂",
          "𖥂",
          "𖥂",
          "𖥂",
          "𖥂",
          "𖥂",
          "𖥂",
          "𖥂",
          "𖥂",
          "𖥂",
          "𖥂",
          "𖥂",
          "𖥂",
          "𖥂",
          "𖥂",
          "𖥂",
          "𖥂",
          "𖥂",
          "𖥂",
          "𖥂",
          "𖥂",
          "𖥂",
          "𖥂",
          "𖥂",
          "𖥂",
          "𖥂",
          "𖥂",
          "𖥂",
          "𖥂",
          "𖥂",
          "𖥂",
          "𖥂",
          "𖥂",
          "𖥂",
          "𖥂",
          "𖥂",
          "𖥂",
          "𖥂",
          "𖥂",
          "𖥂",
          "𖥂",
          "𖥂",
          "𖥂",
          "𖥂",
          "𖥂",
          "𖥂",
          "𖥂",
          "𖥂",
          "𖥂",
          "𖥂",
          "𖥂",
          "𖥂",
          "𖥂",
          "𖥂",
          "𖥂",
          "𖥂",
          "𖥂",
          "𖥂",
          "𖥂",
          "𖥂",
          "𖥂",
          "𖥂",
          "𖥂",
          "𖥂",
          "𖥂",
          "𖥂",
          "𖥂",
          "𖥂",
          "𖥂",
          "𖥂",
          "𖥂"
         ],
         "textfont": {
          "color": "cyan",
          "size": 16
         },
         "type": "scatter3d",
         "x": {
          "bdata": "TPtAPxByOD9TozY/l7tOP/PLPz+e1z4/ETFUPxl8Qz+r4kM//nA0P1XgQD8BbEA//9NYP7rjcj6Qd4c+vpKPPvrieD6Vumg+WhuXPhod1D1gnI4+YjVYPuS8Zz4Xz5k+buuLPrAYSD78pl0+dhOAPhVuhT6ajYg+7QCUPpbcSj56/5I+zQ1sPtqOGz4TrzQ+85JeP7FHWj9I518/cf1YP2S5TD9hSlY/EPRTP3h1Yz9Tz2I/1K0BPVTeDjwuoEi9Ak4gPYREgT8QhHk/yk1SPY+EAD6QFRc+PvoUPVatQj1/Uys/O6cTP+ppDD+prxQ/9t4qPwYzFz9kuSY/9JwbP6vLGD/3Lxk/hGwNPzQh9j4VKgc/9kIaPy3/AT+mT/0+l0XkPgxEBz+esAI/rYkKP8VzAz+GUfw+DEEFP6aqfz5w928+KJiqPuVVlj7t+YU+SFSiPoqslz6jYY0+qySOPuPNmj4GxqE+pgKUPscagD4odZY+S+uIPk5wmz41xpk+dlmKPpbjpz6vmIE+1neSPg==",
          "dtype": "f4"
         },
         "y": {
          "bdata": "V0mGPvTxbz5ePn8+az+FPpsopz7TuIo+f/mNPlrvgz5SqY8+i4C1PqAykz5XmI4+TCiAPqiLIT+HySk/Qo04P1q6ID8ZmR8/4XwdPy6hHj80cSg/aDYcPxmTJT8QviU/3OQtP+/YHT8qZCA/QG4cP9zOMD9dEx0/vgIeP6QTMD9oUCs/EjokPzjUHz9IAxs/sDheP9L9TD++FFY/Zj5hP3b9Qz9zcks/57BEP6k8Tj+GxFA/qUExPts+iz5sYyE+OTjlPTlBkD+Hrnk/sJr0PdKAZj1xa1E9nfcHPh68TD2YNS8/bS8pP+OmMD+HgBs/hskoP4rULD8oniM/ZTcmP5VWKT9cdyM/80QtP9fUQj9HQ0E/LDFEP2E2Jj98Giw/m6c/P9CoOj9ITT4/jYkvP/FcRz8q5DA/9AZRP+6bCz/uh/Q+MHn8PuC+Gz+5uvw+b1IJP/qiCj9ecQM/rELwPpgA6j4UJvA+fQ38PuxcEz/BeM8+Jlf7PqElBz9mVfo+e7DYPoHnCz8ZlPY+Gov3Pg==",
          "dtype": "f4"
         },
         "z": {
          "bdata": "AAAAAAAA8D8AAAAAAADwPwAAAAAAAPA/AAAAAAAA8D8AAAAAAADwPwAAAAAAAPA/AAAAAAAA8D8AAAAAAADwPwAAAAAAAPA/AAAAAAAA8D8AAAAAAADwPwAAAAAAAPA/AAAAAAAA8D8AAAAAAADwPwAAAAAAAPA/AAAAAAAA8D8AAAAAAADwPwAAAAAAAPA/AAAAAAAA8D8AAAAAAADwPwAAAAAAAPA/AAAAAAAA8D8AAAAAAADwPwAAAAAAAPA/AAAAAAAA8D8AAAAAAADwPwAAAAAAAPA/AAAAAAAA8D8AAAAAAADwPwAAAAAAAPA/AAAAAAAA8D8AAAAAAADwPwAAAAAAAPA/AAAAAAAA8D8AAAAAAADwPwAAAAAAAPA/AAAAAAAA8D8AAAAAAADwPwAAAAAAAPA/AAAAAAAA8D8AAAAAAADwPwAAAAAAAPA/AAAAAAAA8D8AAAAAAADwPwAAAAAAAPA/AAAAAAAA8D8AAAAAAADwPwAAAAAAAPA/AAAAAAAA8D8AAAAAAADwPwAAAAAAAPA/AAAAAAAA8D8AAAAAAADwPwAAAAAAAPA/AAAAAAAA8D8AAAAAAADwPwAAAAAAAPA/AAAAAAAA8D8AAAAAAADwPwAAAAAAAPA/AAAAAAAA8D8AAAAAAADwPwAAAAAAAPA/AAAAAAAA8D8AAAAAAADwPwAAAAAAAPA/AAAAAAAA8D8AAAAAAADwPwAAAAAAAPA/AAAAAAAA8D8AAAAAAADwPwAAAAAAAPA/AAAAAAAA8D8AAAAAAADwPwAAAAAAAPA/AAAAAAAA8D8AAAAAAADwPwAAAAAAAPA/AAAAAAAA8D8AAAAAAADwPwAAAAAAAPA/AAAAAAAA8D8AAAAAAADwPwAAAAAAAPA/AAAAAAAA8D8AAAAAAADwPwAAAAAAAPA/AAAAAAAA8D8AAAAAAADwPwAAAAAAAPA/AAAAAAAA8D8AAAAAAADwPwAAAAAAAPA/AAAAAAAA8D8AAAAAAADwPwAAAAAAAPA/AAAAAAAA8D8AAAAAAADwPwAAAAAAAPA/AAAAAAAA8D8=",
          "dtype": "f8"
         }
        },
        {
         "mode": "text",
         "name": "Drone End",
         "text": [
          "📍",
          "📍",
          "📍",
          "📍",
          "📍",
          "📍",
          "📍",
          "📍",
          "📍",
          "📍",
          "📍",
          "📍",
          "📍",
          "📍",
          "📍",
          "📍",
          "📍",
          "📍",
          "📍",
          "📍",
          "📍",
          "📍",
          "📍",
          "📍",
          "📍",
          "📍",
          "📍",
          "📍",
          "📍",
          "📍",
          "📍",
          "📍",
          "📍",
          "📍",
          "📍",
          "📍",
          "📍",
          "📍",
          "📍",
          "📍",
          "📍",
          "📍",
          "📍",
          "📍",
          "📍",
          "📍",
          "📍",
          "📍",
          "📍",
          "📍",
          "📍",
          "📍",
          "📍",
          "📍",
          "📍",
          "📍",
          "📍",
          "📍",
          "📍",
          "📍",
          "📍",
          "📍",
          "📍",
          "📍",
          "📍",
          "📍",
          "📍",
          "📍",
          "📍",
          "📍",
          "📍",
          "📍",
          "📍",
          "📍",
          "📍",
          "📍",
          "📍",
          "📍",
          "📍",
          "📍",
          "📍",
          "📍",
          "📍",
          "📍",
          "📍",
          "📍",
          "📍",
          "📍",
          "📍",
          "📍",
          "📍",
          "📍",
          "📍",
          "📍",
          "📍",
          "📍",
          "📍",
          "📍",
          "📍",
          "📍"
         ],
         "textfont": {
          "color": "red",
          "size": 20
         },
         "type": "scatter3d",
         "x": {
          "bdata": "ltY9P5bWPT+W1j0/ltY9P5bWPT+W1j0/ltY9P5bWPT+W1j0/ltY9P5bWPT+W1j0/ltY9P5bWPT+W1j0/ltY9P5bWPT+W1j0/ltY9P5bWPT+W1j0/ltY9P5bWPT+W1j0/ltY9P5bWPT+W1j0/ltY9P5bWPT+W1j0/ltY9P5bWPT+W1j0/ltY9P5bWPT+W1j0/ltY9P5bWPT+W1j0/ltY9P5bWPT+W1j0/ltY9P5bWPT+W1j0/ltY9P5bWPT+W1j0/ltY9P5bWPT+kqlQ+pKpUPqSqVD6kqlQ+pKpUPqSqVD6kqlQ+pKpUPqSqVD6kqlQ+pKpUPqSqVD6kqlQ+pKpUPqSqVD6kqlQ+pKpUPqSqVD6kqlQ+pKpUPqSqVD6kqlQ+pKpUPqSqVD6kqlQ+pKpUPqSqVD6kqlQ+pKpUPqSqVD6kqlQ+pKpUPqSqVD6kqlQ+pKpUPqSqVD6kqlQ+pKpUPqSqVD6kqlQ+pKpUPqSqVD6kqlQ+pKpUPqSqVD6kqlQ+pKpUPqSqVD6kqlQ+pKpUPg==",
          "dtype": "f4"
         },
         "y": {
          "bdata": "TG7rPkxu6z5Mbus+TG7rPkxu6z5Mbus+TG7rPkxu6z5Mbus+TG7rPkxu6z5Mbus+TG7rPkxu6z5Mbus+TG7rPkxu6z5Mbus+TG7rPkxu6z5Mbus+TG7rPkxu6z5Mbus+TG7rPkxu6z5Mbus+TG7rPkxu6z5Mbus+TG7rPkxu6z5Mbus+TG7rPkxu6z5Mbus+TG7rPkxu6z5Mbus+TG7rPkxu6z5Mbus+TG7rPkxu6z5Mbus+TG7rPkxu6z5Mbus+TG7rPkxu6z6AciY8gHImPIByJjyAciY8gHImPIByJjyAciY8gHImPIByJjyAciY8gHImPIByJjyAciY8gHImPIByJjyAciY8gHImPIByJjyAciY8gHImPIByJjyAciY8gHImPIByJjyAciY8gHImPIByJjyAciY8gHImPIByJjyAciY8gHImPIByJjyAciY8gHImPIByJjyAciY8gHImPIByJjyAciY8gHImPIByJjyAciY8gHImPIByJjyAciY8gHImPIByJjyAciY8gHImPA==",
          "dtype": "f4"
         },
         "z": {
          "bdata": "AAAAAAAAAAAAAAAAAAAAAAAAAAAAAAAAAAAAAAAAAAAAAAAAAAAAAAAAAAAAAAAAAAAAAAAAAAAAAAAAAAAAAAAAAAAAAAAAAAAAAAAAAAAAAAAAAAAAAAAAAAAAAAAAAAAAAAAAAAAAAAAAAAAAAAAAAAAAAAAAAAAAAAAAAAAAAAAAAAAAAAAAAAAAAAAAAAAAAAAAAAAAAAAAAAAAAAAAAAAAAAAAAAAAAAAAAAAAAAAAAAAAAAAAAAAAAAAAAAAAAAAAAAAAAAAAAAAAAAAAAAAAAAAAAAAAAAAAAAAAAAAAAAAAAAAAAAAAAAAAAAAAAAAAAAAAAAAAAAAAAAAAAAAAAAAAAAAAAAAAAAAAAAAAAAAAAAAAAAAAAAAAAAAAAAAAAAAAAAAAAAAAAAAAAAAAAAAAAAAAAAAAAAAAAAAAAAAAAAAAAAAAAAAAAAAAAAAAAAAAAAAAAAAAAAAAAAAAAAAAAAAAAAAAAAAAAAAAAAAAAAAAAAAAAAAAAAAAAAAAAAAAAAAAAAAAAAAAAAAAAAAAAAAAAAAAAAAAAAAAAAAAAAAAAAAAAAAAAAAAAAAAAAAAAAAAAAAAAAAAAAAAAAAAAAAAAAAAAAAAAAAAAAAAAAAAAAAAAAAAAAAAAAAAAAAAAAAAAAAAAAAAAAAAAAAAAAAAAAAAAAAAAAAAAAAAAAAAAAAAAAAAAAAAAAAAAAAAAAAAAAAAAAAAAAAAAAAAAAAAAAAAAAAAAAAAAAAAAAAAAAAAAAAAAAAAAAAAAAAAAAAAAAAAAAAAAAAAAAAAAAAAAAAAAAAAAAAAAAAAAAAAAAAAAAAAAAAAAAAAAAAAAAAAAAAAAAAAAAAAAAAAAAAAAAAAAAAAAAAAAAAAAAAAAAAAAAAAAAAAAAAAAAAAAAAAAAAAAAAAAAAAAAAAAAAAAAAAAAAAAAAAAAAAAAAAAAAAAAAAAAAAAAAAAAAAAAAAAAAAAAAAAAAAAAAAAAAAAAAAAAAAAAAAAAAAAAAAAAAAAAAAAAAAAAAAAAAAAAAAAAAAAAAAAAAAAAAAAAAAAAAAAAA=",
          "dtype": "f8"
         }
        },
        {
         "line": {
          "color": "gray",
          "width": 3
         },
         "mode": "lines",
         "showlegend": false,
         "type": "scatter3d",
         "x": [
          0.6465295553207397,
          0.6465295553207397
         ],
         "y": [
          0.5323610305786133,
          0.5323610305786133
         ],
         "z": [
          0,
          1
         ]
        },
        {
         "line": {
          "color": "gray",
          "width": 3
         },
         "mode": "lines",
         "showlegend": false,
         "type": "scatter3d",
         "x": [
          0.2876044511795044,
          0.2876044511795044
         ],
         "y": [
          0.3382106423377991,
          0.3382106423377991
         ],
         "z": [
          0,
          1
         ]
        },
        {
         "line": {
          "color": "gray",
          "width": 3
         },
         "mode": "lines",
         "showlegend": false,
         "type": "scatter3d",
         "x": [
          0.5462578535079956,
          0.5462578535079956
         ],
         "y": [
          0.5871836543083191,
          0.5871836543083191
         ],
         "z": [
          0,
          1
         ]
        },
        {
         "line": {
          "color": "gray",
          "width": 3
         },
         "mode": "lines",
         "showlegend": false,
         "type": "scatter3d",
         "x": [
          0.4142775237560272,
          0.4142775237560272
         ],
         "y": [
          0.42019206285476685,
          0.42019206285476685
         ],
         "z": [
          0,
          1
         ]
        },
        {
         "line": {
          "color": "gray",
          "width": 3
         },
         "mode": "lines",
         "showlegend": false,
         "type": "scatter3d",
         "x": [
          0.41690605878829956,
          0.41690605878829956
         ],
         "y": [
          0.4903300702571869,
          0.4903300702571869
         ],
         "z": [
          0,
          1
         ]
        },
        {
         "line": {
          "color": "gray",
          "width": 3
         },
         "mode": "lines",
         "showlegend": false,
         "type": "scatter3d",
         "x": [
          0.21165744960308075,
          0.21165744960308075
         ],
         "y": [
          0.0830586776137352,
          0.0830586776137352
         ],
         "z": [
          0,
          1
         ]
        },
        {
         "line": {
          "color": "gray",
          "width": 3
         },
         "mode": "lines",
         "showlegend": false,
         "type": "scatter3d",
         "x": [
          0.4125189781188965,
          0.4125189781188965
         ],
         "y": [
          0.42130962014198303,
          0.42130962014198303
         ],
         "z": [
          0,
          1
         ]
        },
        {
         "line": {
          "color": "gray",
          "width": 3
         },
         "mode": "lines",
         "showlegend": false,
         "type": "scatter3d",
         "x": [
          0.41031476855278015,
          0.41031476855278015
         ],
         "y": [
          0.4219494163990021,
          0.4219494163990021
         ],
         "z": [
          0,
          1
         ]
        },
        {
         "line": {
          "color": "gray",
          "width": 3
         },
         "mode": "lines",
         "showlegend": false,
         "type": "scatter3d",
         "x": [
          0.445944607257843,
          0.445944607257843
         ],
         "y": [
          0.5307881832122803,
          0.5307881832122803
         ],
         "z": [
          0,
          1
         ]
        },
        {
         "line": {
          "color": "gray",
          "width": 3
         },
         "mode": "lines",
         "showlegend": false,
         "type": "scatter3d",
         "x": [
          0.47457385063171387,
          0.47457385063171387
         ],
         "y": [
          0.5798919200897217,
          0.5798919200897217
         ],
         "z": [
          0,
          1
         ]
        },
        {
         "line": {
          "color": "gray",
          "width": 3
         },
         "mode": "lines",
         "showlegend": false,
         "type": "scatter3d",
         "x": [
          0.3088430166244507,
          0.3088430166244507
         ],
         "y": [
          0.38891300559043884,
          0.38891300559043884
         ],
         "z": [
          0,
          1
         ]
        },
        {
         "line": {
          "color": "gray",
          "width": 3
         },
         "mode": "lines",
         "showlegend": false,
         "type": "scatter3d",
         "x": [
          0.24078908562660217,
          0.24078908562660217
         ],
         "y": [
          0.2199690341949463,
          0.2199690341949463
         ],
         "z": [
          0,
          1
         ]
        },
        {
         "line": {
          "color": "gray",
          "width": 3
         },
         "mode": "lines",
         "showlegend": false,
         "type": "scatter3d",
         "x": [
          0.2650125026702881,
          0.2650125026702881
         ],
         "y": [
          0.28157317638397217,
          0.28157317638397217
         ],
         "z": [
          0,
          1
         ]
        },
        {
         "line": {
          "color": "gray",
          "width": 3
         },
         "mode": "lines",
         "showlegend": false,
         "type": "scatter3d",
         "x": [
          0.40738117694854736,
          0.40738117694854736
         ],
         "y": [
          0.4241750240325928,
          0.4241750240325928
         ],
         "z": [
          0,
          1
         ]
        },
        {
         "line": {
          "color": "gray",
          "width": 3
         },
         "mode": "lines",
         "showlegend": false,
         "type": "scatter3d",
         "x": [
          0.41135793924331665,
          0.41135793924331665
         ],
         "y": [
          0.42169907689094543,
          0.42169907689094543
         ],
         "z": [
          0,
          1
         ]
        },
        {
         "line": {
          "color": "gray",
          "width": 3
         },
         "mode": "lines",
         "showlegend": false,
         "type": "scatter3d",
         "x": [
          0.37981513142585754,
          0.37981513142585754
         ],
         "y": [
          0.45947137475013733,
          0.45947137475013733
         ],
         "z": [
          0,
          1
         ]
        },
        {
         "line": {
          "color": "gray",
          "width": 3
         },
         "mode": "lines",
         "showlegend": false,
         "type": "scatter3d",
         "x": [
          0.32972896099090576,
          0.32972896099090576
         ],
         "y": [
          0.4350152313709259,
          0.4350152313709259
         ],
         "z": [
          0,
          1
         ]
        },
        {
         "line": {
          "color": "gray",
          "width": 3
         },
         "mode": "lines",
         "showlegend": false,
         "type": "scatter3d",
         "x": [
          0.3609812259674072,
          0.3609812259674072
         ],
         "y": [
          0.6099401116371155,
          0.6099401116371155
         ],
         "z": [
          0,
          1
         ]
        },
        {
         "line": {
          "color": "gray",
          "width": 3
         },
         "mode": "lines",
         "showlegend": false,
         "type": "scatter3d",
         "x": [
          0.4127560257911682,
          0.4127560257911682
         ],
         "y": [
          0.4211958944797516,
          0.4211958944797516
         ],
         "z": [
          0,
          1
         ]
        },
        {
         "line": {
          "color": "gray",
          "width": 3
         },
         "mode": "lines",
         "showlegend": false,
         "type": "scatter3d",
         "x": [
          0.21494102478027344,
          0.21494102478027344
         ],
         "y": [
          0.1546076536178589,
          0.1546076536178589
         ],
         "z": [
          0,
          1
         ]
        },
        {
         "marker": {
          "color": "silver",
          "size": 5,
          "symbol": "square"
         },
         "mode": "markers",
         "name": "Facilities",
         "type": "scatter3d",
         "x": {
          "bdata": "9oIlP+RAkz6O1ws/LxzUPrZ01T67vFg+sDXTPscU0j7aUuQ+WPvyPqwgnj5qkXY+uK+HPkSU0D6CndI+IXfCPjzSqD6I0rg+wlTTPoAZXD4=",
          "dtype": "f4"
         },
         "y": {
          "bdata": "0EgIP/IprT6rURY/aiPXPosM+z6rGqo95bXXPsEJ2D684Qc/zHMUP5sfxz6QP2E+XCqQPngt2T7x6Nc+1T/rPlG63j4JJRw//abXPnhRHj4=",
          "dtype": "f4"
         },
         "z": {
          "bdata": "AAAAAAAA8D8AAAAAAADwPwAAAAAAAPA/AAAAAAAA8D8AAAAAAADwPwAAAAAAAPA/AAAAAAAA8D8AAAAAAADwPwAAAAAAAPA/AAAAAAAA8D8AAAAAAADwPwAAAAAAAPA/AAAAAAAA8D8AAAAAAADwPwAAAAAAAPA/AAAAAAAA8D8AAAAAAADwPwAAAAAAAPA/AAAAAAAA8D8AAAAAAADwPw==",
          "dtype": "f8"
         }
        }
       ],
       "layout": {
        "legend": {
         "bgcolor": "rgba(0,0,0,0.4)",
         "bordercolor": "white"
        },
        "margin": {
         "b": 0,
         "l": 0,
         "r": 0,
         "t": 30
        },
        "scene": {
         "aspectmode": "data",
         "camera": {
          "eye": {
           "x": 1.5,
           "y": 1.5,
           "z": 0.7
          }
         },
         "xaxis": {
          "backgroundcolor": "rgb(10,10,20)",
          "gridcolor": "gray",
          "title": {
           "text": "X"
          },
          "zerolinecolor": "gray"
         },
         "yaxis": {
          "backgroundcolor": "rgb(10,10,20)",
          "gridcolor": "gray",
          "title": {
           "text": "Y"
          },
          "zerolinecolor": "gray"
         },
         "zaxis": {
          "backgroundcolor": "rgb(10,10,20)",
          "gridcolor": "gray",
          "title": {
           "text": "Z"
          },
          "zerolinecolor": "gray"
         }
        },
        "template": {
         "data": {
          "bar": [
           {
            "error_x": {
             "color": "#f2f5fa"
            },
            "error_y": {
             "color": "#f2f5fa"
            },
            "marker": {
             "line": {
              "color": "rgb(17,17,17)",
              "width": 0.5
             },
             "pattern": {
              "fillmode": "overlay",
              "size": 10,
              "solidity": 0.2
             }
            },
            "type": "bar"
           }
          ],
          "barpolar": [
           {
            "marker": {
             "line": {
              "color": "rgb(17,17,17)",
              "width": 0.5
             },
             "pattern": {
              "fillmode": "overlay",
              "size": 10,
              "solidity": 0.2
             }
            },
            "type": "barpolar"
           }
          ],
          "carpet": [
           {
            "aaxis": {
             "endlinecolor": "#A2B1C6",
             "gridcolor": "#506784",
             "linecolor": "#506784",
             "minorgridcolor": "#506784",
             "startlinecolor": "#A2B1C6"
            },
            "baxis": {
             "endlinecolor": "#A2B1C6",
             "gridcolor": "#506784",
             "linecolor": "#506784",
             "minorgridcolor": "#506784",
             "startlinecolor": "#A2B1C6"
            },
            "type": "carpet"
           }
          ],
          "choropleth": [
           {
            "colorbar": {
             "outlinewidth": 0,
             "ticks": ""
            },
            "type": "choropleth"
           }
          ],
          "contour": [
           {
            "colorbar": {
             "outlinewidth": 0,
             "ticks": ""
            },
            "colorscale": [
             [
              0,
              "#0d0887"
             ],
             [
              0.1111111111111111,
              "#46039f"
             ],
             [
              0.2222222222222222,
              "#7201a8"
             ],
             [
              0.3333333333333333,
              "#9c179e"
             ],
             [
              0.4444444444444444,
              "#bd3786"
             ],
             [
              0.5555555555555556,
              "#d8576b"
             ],
             [
              0.6666666666666666,
              "#ed7953"
             ],
             [
              0.7777777777777778,
              "#fb9f3a"
             ],
             [
              0.8888888888888888,
              "#fdca26"
             ],
             [
              1,
              "#f0f921"
             ]
            ],
            "type": "contour"
           }
          ],
          "contourcarpet": [
           {
            "colorbar": {
             "outlinewidth": 0,
             "ticks": ""
            },
            "type": "contourcarpet"
           }
          ],
          "heatmap": [
           {
            "colorbar": {
             "outlinewidth": 0,
             "ticks": ""
            },
            "colorscale": [
             [
              0,
              "#0d0887"
             ],
             [
              0.1111111111111111,
              "#46039f"
             ],
             [
              0.2222222222222222,
              "#7201a8"
             ],
             [
              0.3333333333333333,
              "#9c179e"
             ],
             [
              0.4444444444444444,
              "#bd3786"
             ],
             [
              0.5555555555555556,
              "#d8576b"
             ],
             [
              0.6666666666666666,
              "#ed7953"
             ],
             [
              0.7777777777777778,
              "#fb9f3a"
             ],
             [
              0.8888888888888888,
              "#fdca26"
             ],
             [
              1,
              "#f0f921"
             ]
            ],
            "type": "heatmap"
           }
          ],
          "histogram": [
           {
            "marker": {
             "pattern": {
              "fillmode": "overlay",
              "size": 10,
              "solidity": 0.2
             }
            },
            "type": "histogram"
           }
          ],
          "histogram2d": [
           {
            "colorbar": {
             "outlinewidth": 0,
             "ticks": ""
            },
            "colorscale": [
             [
              0,
              "#0d0887"
             ],
             [
              0.1111111111111111,
              "#46039f"
             ],
             [
              0.2222222222222222,
              "#7201a8"
             ],
             [
              0.3333333333333333,
              "#9c179e"
             ],
             [
              0.4444444444444444,
              "#bd3786"
             ],
             [
              0.5555555555555556,
              "#d8576b"
             ],
             [
              0.6666666666666666,
              "#ed7953"
             ],
             [
              0.7777777777777778,
              "#fb9f3a"
             ],
             [
              0.8888888888888888,
              "#fdca26"
             ],
             [
              1,
              "#f0f921"
             ]
            ],
            "type": "histogram2d"
           }
          ],
          "histogram2dcontour": [
           {
            "colorbar": {
             "outlinewidth": 0,
             "ticks": ""
            },
            "colorscale": [
             [
              0,
              "#0d0887"
             ],
             [
              0.1111111111111111,
              "#46039f"
             ],
             [
              0.2222222222222222,
              "#7201a8"
             ],
             [
              0.3333333333333333,
              "#9c179e"
             ],
             [
              0.4444444444444444,
              "#bd3786"
             ],
             [
              0.5555555555555556,
              "#d8576b"
             ],
             [
              0.6666666666666666,
              "#ed7953"
             ],
             [
              0.7777777777777778,
              "#fb9f3a"
             ],
             [
              0.8888888888888888,
              "#fdca26"
             ],
             [
              1,
              "#f0f921"
             ]
            ],
            "type": "histogram2dcontour"
           }
          ],
          "mesh3d": [
           {
            "colorbar": {
             "outlinewidth": 0,
             "ticks": ""
            },
            "type": "mesh3d"
           }
          ],
          "parcoords": [
           {
            "line": {
             "colorbar": {
              "outlinewidth": 0,
              "ticks": ""
             }
            },
            "type": "parcoords"
           }
          ],
          "pie": [
           {
            "automargin": true,
            "type": "pie"
           }
          ],
          "scatter": [
           {
            "marker": {
             "line": {
              "color": "#283442"
             }
            },
            "type": "scatter"
           }
          ],
          "scatter3d": [
           {
            "line": {
             "colorbar": {
              "outlinewidth": 0,
              "ticks": ""
             }
            },
            "marker": {
             "colorbar": {
              "outlinewidth": 0,
              "ticks": ""
             }
            },
            "type": "scatter3d"
           }
          ],
          "scattercarpet": [
           {
            "marker": {
             "colorbar": {
              "outlinewidth": 0,
              "ticks": ""
             }
            },
            "type": "scattercarpet"
           }
          ],
          "scattergeo": [
           {
            "marker": {
             "colorbar": {
              "outlinewidth": 0,
              "ticks": ""
             }
            },
            "type": "scattergeo"
           }
          ],
          "scattergl": [
           {
            "marker": {
             "line": {
              "color": "#283442"
             }
            },
            "type": "scattergl"
           }
          ],
          "scattermap": [
           {
            "marker": {
             "colorbar": {
              "outlinewidth": 0,
              "ticks": ""
             }
            },
            "type": "scattermap"
           }
          ],
          "scattermapbox": [
           {
            "marker": {
             "colorbar": {
              "outlinewidth": 0,
              "ticks": ""
             }
            },
            "type": "scattermapbox"
           }
          ],
          "scatterpolar": [
           {
            "marker": {
             "colorbar": {
              "outlinewidth": 0,
              "ticks": ""
             }
            },
            "type": "scatterpolar"
           }
          ],
          "scatterpolargl": [
           {
            "marker": {
             "colorbar": {
              "outlinewidth": 0,
              "ticks": ""
             }
            },
            "type": "scatterpolargl"
           }
          ],
          "scatterternary": [
           {
            "marker": {
             "colorbar": {
              "outlinewidth": 0,
              "ticks": ""
             }
            },
            "type": "scatterternary"
           }
          ],
          "surface": [
           {
            "colorbar": {
             "outlinewidth": 0,
             "ticks": ""
            },
            "colorscale": [
             [
              0,
              "#0d0887"
             ],
             [
              0.1111111111111111,
              "#46039f"
             ],
             [
              0.2222222222222222,
              "#7201a8"
             ],
             [
              0.3333333333333333,
              "#9c179e"
             ],
             [
              0.4444444444444444,
              "#bd3786"
             ],
             [
              0.5555555555555556,
              "#d8576b"
             ],
             [
              0.6666666666666666,
              "#ed7953"
             ],
             [
              0.7777777777777778,
              "#fb9f3a"
             ],
             [
              0.8888888888888888,
              "#fdca26"
             ],
             [
              1,
              "#f0f921"
             ]
            ],
            "type": "surface"
           }
          ],
          "table": [
           {
            "cells": {
             "fill": {
              "color": "#506784"
             },
             "line": {
              "color": "rgb(17,17,17)"
             }
            },
            "header": {
             "fill": {
              "color": "#2a3f5f"
             },
             "line": {
              "color": "rgb(17,17,17)"
             }
            },
            "type": "table"
           }
          ]
         },
         "layout": {
          "annotationdefaults": {
           "arrowcolor": "#f2f5fa",
           "arrowhead": 0,
           "arrowwidth": 1
          },
          "autotypenumbers": "strict",
          "coloraxis": {
           "colorbar": {
            "outlinewidth": 0,
            "ticks": ""
           }
          },
          "colorscale": {
           "diverging": [
            [
             0,
             "#8e0152"
            ],
            [
             0.1,
             "#c51b7d"
            ],
            [
             0.2,
             "#de77ae"
            ],
            [
             0.3,
             "#f1b6da"
            ],
            [
             0.4,
             "#fde0ef"
            ],
            [
             0.5,
             "#f7f7f7"
            ],
            [
             0.6,
             "#e6f5d0"
            ],
            [
             0.7,
             "#b8e186"
            ],
            [
             0.8,
             "#7fbc41"
            ],
            [
             0.9,
             "#4d9221"
            ],
            [
             1,
             "#276419"
            ]
           ],
           "sequential": [
            [
             0,
             "#0d0887"
            ],
            [
             0.1111111111111111,
             "#46039f"
            ],
            [
             0.2222222222222222,
             "#7201a8"
            ],
            [
             0.3333333333333333,
             "#9c179e"
            ],
            [
             0.4444444444444444,
             "#bd3786"
            ],
            [
             0.5555555555555556,
             "#d8576b"
            ],
            [
             0.6666666666666666,
             "#ed7953"
            ],
            [
             0.7777777777777778,
             "#fb9f3a"
            ],
            [
             0.8888888888888888,
             "#fdca26"
            ],
            [
             1,
             "#f0f921"
            ]
           ],
           "sequentialminus": [
            [
             0,
             "#0d0887"
            ],
            [
             0.1111111111111111,
             "#46039f"
            ],
            [
             0.2222222222222222,
             "#7201a8"
            ],
            [
             0.3333333333333333,
             "#9c179e"
            ],
            [
             0.4444444444444444,
             "#bd3786"
            ],
            [
             0.5555555555555556,
             "#d8576b"
            ],
            [
             0.6666666666666666,
             "#ed7953"
            ],
            [
             0.7777777777777778,
             "#fb9f3a"
            ],
            [
             0.8888888888888888,
             "#fdca26"
            ],
            [
             1,
             "#f0f921"
            ]
           ]
          },
          "colorway": [
           "#636efa",
           "#EF553B",
           "#00cc96",
           "#ab63fa",
           "#FFA15A",
           "#19d3f3",
           "#FF6692",
           "#B6E880",
           "#FF97FF",
           "#FECB52"
          ],
          "font": {
           "color": "#f2f5fa"
          },
          "geo": {
           "bgcolor": "rgb(17,17,17)",
           "lakecolor": "rgb(17,17,17)",
           "landcolor": "rgb(17,17,17)",
           "showlakes": true,
           "showland": true,
           "subunitcolor": "#506784"
          },
          "hoverlabel": {
           "align": "left"
          },
          "hovermode": "closest",
          "mapbox": {
           "style": "dark"
          },
          "paper_bgcolor": "rgb(17,17,17)",
          "plot_bgcolor": "rgb(17,17,17)",
          "polar": {
           "angularaxis": {
            "gridcolor": "#506784",
            "linecolor": "#506784",
            "ticks": ""
           },
           "bgcolor": "rgb(17,17,17)",
           "radialaxis": {
            "gridcolor": "#506784",
            "linecolor": "#506784",
            "ticks": ""
           }
          },
          "scene": {
           "xaxis": {
            "backgroundcolor": "rgb(17,17,17)",
            "gridcolor": "#506784",
            "gridwidth": 2,
            "linecolor": "#506784",
            "showbackground": true,
            "ticks": "",
            "zerolinecolor": "#C8D4E3"
           },
           "yaxis": {
            "backgroundcolor": "rgb(17,17,17)",
            "gridcolor": "#506784",
            "gridwidth": 2,
            "linecolor": "#506784",
            "showbackground": true,
            "ticks": "",
            "zerolinecolor": "#C8D4E3"
           },
           "zaxis": {
            "backgroundcolor": "rgb(17,17,17)",
            "gridcolor": "#506784",
            "gridwidth": 2,
            "linecolor": "#506784",
            "showbackground": true,
            "ticks": "",
            "zerolinecolor": "#C8D4E3"
           }
          },
          "shapedefaults": {
           "line": {
            "color": "#f2f5fa"
           }
          },
          "sliderdefaults": {
           "bgcolor": "#C8D4E3",
           "bordercolor": "rgb(17,17,17)",
           "borderwidth": 1,
           "tickwidth": 0
          },
          "ternary": {
           "aaxis": {
            "gridcolor": "#506784",
            "linecolor": "#506784",
            "ticks": ""
           },
           "baxis": {
            "gridcolor": "#506784",
            "linecolor": "#506784",
            "ticks": ""
           },
           "bgcolor": "rgb(17,17,17)",
           "caxis": {
            "gridcolor": "#506784",
            "linecolor": "#506784",
            "ticks": ""
           }
          },
          "title": {
           "x": 0.05
          },
          "updatemenudefaults": {
           "bgcolor": "#506784",
           "borderwidth": 0
          },
          "xaxis": {
           "automargin": true,
           "gridcolor": "#283442",
           "linecolor": "#506784",
           "ticks": "",
           "title": {
            "standoff": 15
           },
           "zerolinecolor": "#283442",
           "zerolinewidth": 2
          },
          "yaxis": {
           "automargin": true,
           "gridcolor": "#283442",
           "linecolor": "#506784",
           "ticks": "",
           "title": {
            "standoff": 15
           },
           "zerolinecolor": "#283442",
           "zerolinewidth": 2
          }
         }
        },
        "title": {
         "font": {
          "size": 20
         },
         "text": "UAV Spatial Deployment",
         "x": 0.5
        }
       }
      }
     },
     "metadata": {},
     "output_type": "display_data"
    }
   ],
   "source": [
    "plot_UAV_FLPO(START_locs, END_locs, Y_arr[-1], (4,3))\n",
    "plot_UAV_FLPO_3D(START_locs, END_locs, Y_arr[-1])"
   ]
  },
  {
   "cell_type": "markdown",
   "metadata": {},
   "source": [
    "### Plot free energy during annealing implementation"
   ]
  },
  {
   "cell_type": "code",
   "execution_count": 12,
   "metadata": {},
   "outputs": [],
   "source": [
    "# # plot free energy evolution\n",
    "# plt.figure(figsize=(10,3))\n",
    "# plt.plot(np.log(b_arr)/np.log(10), F_arr, marker='.')\n",
    "# plt.ylabel(rf'$F$')\n",
    "# plt.xlabel(rf'$\\log_{{10}}\\beta$')\n",
    "# plt.grid()\n",
    "# plt.show()"
   ]
  },
  {
   "cell_type": "markdown",
   "metadata": {},
   "source": [
    "# Save an Animation"
   ]
  },
  {
   "cell_type": "code",
   "execution_count": 26,
   "metadata": {},
   "outputs": [
    {
     "name": "stderr",
     "output_type": "stream",
     "text": [
      "2025-07-03 11:43:41,758 - INFO - Animation.save using <class 'matplotlib.animation.PillowWriter'>\n"
     ]
    },
    {
     "data": {
      "text/plain": [
       "<matplotlib.animation.FuncAnimation at 0x31656e0a0>"
      ]
     },
     "execution_count": 26,
     "metadata": {},
     "output_type": "execute_result"
    }
   ],
   "source": [
    "Animator.animate_UAV_FLPO(\n",
    "    START_locs,\n",
    "    END_locs,\n",
    "    Y_arr,\n",
    "    figuresize=(6, 5),\n",
    "    interval=100,\n",
    "    save_path=\"facility_movement_2D.gif\",\n",
    ")\n"
   ]
  },
  {
   "cell_type": "code",
   "execution_count": 13,
   "metadata": {},
   "outputs": [
    {
     "name": "stderr",
     "output_type": "stream",
     "text": [
      "2025-07-03 11:06:21,633 - INFO - Rendering frame 0/12\n",
      "2025-07-03 11:06:21,652 - INFO - Chromium init'ed with kwargs {}\n",
      "2025-07-03 11:06:21,654 - INFO - Found chromium path: /Applications/Google Chrome.app/Contents/MacOS/Google Chrome\n",
      "2025-07-03 11:06:21,655 - INFO - Temp directory created: /var/folders/sh/ndxykdmj1q9cwr2kpvkvcbs80000gn/T/tmpunqcl7gn.\n",
      "2025-07-03 11:06:21,656 - INFO - Opening browser.\n",
      "2025-07-03 11:06:21,657 - INFO - Temp directory created: /var/folders/sh/ndxykdmj1q9cwr2kpvkvcbs80000gn/T/tmp5gsn90jq.\n",
      "2025-07-03 11:06:21,657 - INFO - Temporary directory at: /var/folders/sh/ndxykdmj1q9cwr2kpvkvcbs80000gn/T/tmp5gsn90jq\n",
      "2025-07-03 11:06:22,691 - INFO - Conforming 1 to file:///var/folders/sh/ndxykdmj1q9cwr2kpvkvcbs80000gn/T/tmpunqcl7gn/index.html\n",
      "2025-07-03 11:06:22,694 - INFO - Waiting on all navigates\n",
      "2025-07-03 11:06:23,310 - INFO - All navigates done, putting them all in queue.\n",
      "2025-07-03 11:06:23,312 - INFO - Getting tab from queue (has 1)\n",
      "2025-07-03 11:06:23,312 - INFO - Got 0C03\n",
      "2025-07-03 11:06:23,313 - INFO - Processing UAV_Spatial_Deployment_Over_Time.png\n",
      "2025-07-03 11:06:23,314 - INFO - Sending big command for UAV_Spatial_Deployment_Over_Time.png.\n",
      "2025-07-03 11:06:25,221 - INFO - Sent big command for UAV_Spatial_Deployment_Over_Time.png.\n",
      "2025-07-03 11:06:25,223 - INFO - Reloading tab 0C03 before return.\n",
      "2025-07-03 11:06:25,701 - INFO - Putting tab 0C03 back (queue size: 0).\n",
      "2025-07-03 11:06:25,701 - INFO - Waiting for all cleanups to finish.\n",
      "2025-07-03 11:06:25,702 - INFO - Exiting Kaleido\n",
      "2025-07-03 11:06:25,703 - INFO - TemporaryDirectory.cleanup() worked.\n",
      "2025-07-03 11:06:25,704 - INFO - shutil.rmtree worked.\n",
      "2025-07-03 11:06:25,704 - INFO - Cancelling tasks.\n",
      "2025-07-03 11:06:25,705 - INFO - Exiting Kaleido/Choreo\n",
      "2025-07-03 11:06:25,705 - INFO - Closing browser.\n",
      "2025-07-03 11:06:25,709 - INFO - TemporaryDirectory.cleanup() worked.\n",
      "2025-07-03 11:06:25,709 - INFO - shutil.rmtree worked.\n",
      "2025-07-03 11:06:25,710 - INFO - Cancelling tasks.\n",
      "2025-07-03 11:06:25,711 - INFO - Exiting Kaleido/Choreo\n",
      "2025-07-03 11:06:25,711 - INFO - Closing browser.\n",
      "2025-07-03 11:06:25,809 - INFO - TemporaryDirectory.cleanup() worked.\n",
      "2025-07-03 11:06:25,810 - INFO - shutil.rmtree worked.\n",
      "2025-07-03 11:06:25,812 - INFO - Rendering frame 1/12\n",
      "2025-07-03 11:06:25,832 - INFO - Chromium init'ed with kwargs {}\n",
      "2025-07-03 11:06:25,833 - INFO - Found chromium path: /Applications/Google Chrome.app/Contents/MacOS/Google Chrome\n",
      "2025-07-03 11:06:25,834 - INFO - Temp directory created: /var/folders/sh/ndxykdmj1q9cwr2kpvkvcbs80000gn/T/tmptke1fbvf.\n",
      "2025-07-03 11:06:25,835 - INFO - Opening browser.\n",
      "2025-07-03 11:06:25,836 - INFO - Temp directory created: /var/folders/sh/ndxykdmj1q9cwr2kpvkvcbs80000gn/T/tmprjnm16ks.\n",
      "2025-07-03 11:06:25,837 - INFO - Temporary directory at: /var/folders/sh/ndxykdmj1q9cwr2kpvkvcbs80000gn/T/tmprjnm16ks\n",
      "2025-07-03 11:06:26,509 - INFO - Conforming 1 to file:///var/folders/sh/ndxykdmj1q9cwr2kpvkvcbs80000gn/T/tmptke1fbvf/index.html\n",
      "2025-07-03 11:06:26,515 - INFO - Waiting on all navigates\n",
      "2025-07-03 11:06:27,096 - INFO - All navigates done, putting them all in queue.\n",
      "2025-07-03 11:06:27,098 - INFO - Getting tab from queue (has 1)\n",
      "2025-07-03 11:06:27,098 - INFO - Got 8EF9\n",
      "2025-07-03 11:06:27,099 - INFO - Processing UAV_Spatial_Deployment_Over_Time.png\n",
      "2025-07-03 11:06:27,099 - INFO - Sending big command for UAV_Spatial_Deployment_Over_Time.png.\n",
      "2025-07-03 11:06:28,955 - INFO - Sent big command for UAV_Spatial_Deployment_Over_Time.png.\n",
      "2025-07-03 11:06:28,957 - INFO - Reloading tab 8EF9 before return.\n",
      "2025-07-03 11:06:29,438 - INFO - Putting tab 8EF9 back (queue size: 0).\n",
      "2025-07-03 11:06:29,439 - INFO - Waiting for all cleanups to finish.\n",
      "2025-07-03 11:06:29,439 - INFO - Exiting Kaleido\n",
      "2025-07-03 11:06:29,441 - INFO - TemporaryDirectory.cleanup() worked.\n",
      "2025-07-03 11:06:29,441 - INFO - shutil.rmtree worked.\n",
      "2025-07-03 11:06:29,441 - INFO - Cancelling tasks.\n",
      "2025-07-03 11:06:29,442 - INFO - Exiting Kaleido/Choreo\n",
      "2025-07-03 11:06:29,442 - INFO - Closing browser.\n",
      "2025-07-03 11:06:29,447 - INFO - TemporaryDirectory.cleanup() worked.\n",
      "2025-07-03 11:06:29,447 - INFO - shutil.rmtree worked.\n",
      "2025-07-03 11:06:29,448 - INFO - Cancelling tasks.\n",
      "2025-07-03 11:06:29,448 - INFO - Exiting Kaleido/Choreo\n",
      "2025-07-03 11:06:29,449 - INFO - Closing browser.\n",
      "2025-07-03 11:06:29,546 - INFO - TemporaryDirectory.cleanup() worked.\n",
      "2025-07-03 11:06:29,546 - INFO - shutil.rmtree worked.\n",
      "2025-07-03 11:06:29,549 - INFO - Rendering frame 2/12\n",
      "2025-07-03 11:06:29,562 - INFO - TemporaryDirectory.cleanup() worked.\n",
      "2025-07-03 11:06:29,563 - INFO - shutil.rmtree worked.\n",
      "2025-07-03 11:06:29,564 - INFO - TemporaryDirectory.cleanup() worked.\n",
      "2025-07-03 11:06:29,564 - INFO - shutil.rmtree worked.\n",
      "2025-07-03 11:06:29,572 - INFO - Chromium init'ed with kwargs {}\n",
      "2025-07-03 11:06:29,575 - INFO - Found chromium path: /Applications/Google Chrome.app/Contents/MacOS/Google Chrome\n",
      "2025-07-03 11:06:29,576 - INFO - Temp directory created: /var/folders/sh/ndxykdmj1q9cwr2kpvkvcbs80000gn/T/tmpwvb6zoe5.\n",
      "2025-07-03 11:06:29,577 - INFO - Opening browser.\n",
      "2025-07-03 11:06:29,578 - INFO - Temp directory created: /var/folders/sh/ndxykdmj1q9cwr2kpvkvcbs80000gn/T/tmppd6s5pf5.\n",
      "2025-07-03 11:06:29,578 - INFO - Temporary directory at: /var/folders/sh/ndxykdmj1q9cwr2kpvkvcbs80000gn/T/tmppd6s5pf5\n",
      "2025-07-03 11:06:30,262 - INFO - Conforming 1 to file:///var/folders/sh/ndxykdmj1q9cwr2kpvkvcbs80000gn/T/tmpwvb6zoe5/index.html\n",
      "2025-07-03 11:06:30,266 - INFO - Waiting on all navigates\n",
      "2025-07-03 11:06:30,847 - INFO - All navigates done, putting them all in queue.\n",
      "2025-07-03 11:06:30,848 - INFO - Getting tab from queue (has 1)\n",
      "2025-07-03 11:06:30,848 - INFO - Got E4DC\n",
      "2025-07-03 11:06:30,849 - INFO - Processing UAV_Spatial_Deployment_Over_Time.png\n",
      "2025-07-03 11:06:30,849 - INFO - Sending big command for UAV_Spatial_Deployment_Over_Time.png.\n",
      "2025-07-03 11:06:32,674 - INFO - Sent big command for UAV_Spatial_Deployment_Over_Time.png.\n",
      "2025-07-03 11:06:32,676 - INFO - Reloading tab E4DC before return.\n",
      "2025-07-03 11:06:33,156 - INFO - Putting tab E4DC back (queue size: 0).\n",
      "2025-07-03 11:06:33,156 - INFO - Waiting for all cleanups to finish.\n",
      "2025-07-03 11:06:33,157 - INFO - Exiting Kaleido\n",
      "2025-07-03 11:06:33,158 - INFO - TemporaryDirectory.cleanup() worked.\n",
      "2025-07-03 11:06:33,159 - INFO - shutil.rmtree worked.\n",
      "2025-07-03 11:06:33,159 - INFO - Cancelling tasks.\n",
      "2025-07-03 11:06:33,159 - INFO - Exiting Kaleido/Choreo\n",
      "2025-07-03 11:06:33,160 - INFO - Closing browser.\n",
      "2025-07-03 11:06:33,165 - INFO - TemporaryDirectory.cleanup() worked.\n",
      "2025-07-03 11:06:33,165 - INFO - shutil.rmtree worked.\n",
      "2025-07-03 11:06:33,166 - INFO - Cancelling tasks.\n",
      "2025-07-03 11:06:33,167 - INFO - Exiting Kaleido/Choreo\n",
      "2025-07-03 11:06:33,168 - INFO - Closing browser.\n",
      "2025-07-03 11:06:33,264 - INFO - TemporaryDirectory.cleanup() worked.\n",
      "2025-07-03 11:06:33,264 - INFO - shutil.rmtree worked.\n",
      "2025-07-03 11:06:33,267 - INFO - Rendering frame 3/12\n",
      "2025-07-03 11:06:33,272 - INFO - TemporaryDirectory.cleanup() worked.\n",
      "2025-07-03 11:06:33,273 - INFO - shutil.rmtree worked.\n",
      "2025-07-03 11:06:33,302 - INFO - Chromium init'ed with kwargs {}\n",
      "2025-07-03 11:06:33,305 - INFO - Found chromium path: /Applications/Google Chrome.app/Contents/MacOS/Google Chrome\n",
      "2025-07-03 11:06:33,305 - INFO - Temp directory created: /var/folders/sh/ndxykdmj1q9cwr2kpvkvcbs80000gn/T/tmpkg4p_dv4.\n",
      "2025-07-03 11:06:33,306 - INFO - Opening browser.\n",
      "2025-07-03 11:06:33,307 - INFO - Temp directory created: /var/folders/sh/ndxykdmj1q9cwr2kpvkvcbs80000gn/T/tmplocik6mn.\n",
      "2025-07-03 11:06:33,308 - INFO - Temporary directory at: /var/folders/sh/ndxykdmj1q9cwr2kpvkvcbs80000gn/T/tmplocik6mn\n",
      "2025-07-03 11:06:33,970 - INFO - Conforming 1 to file:///var/folders/sh/ndxykdmj1q9cwr2kpvkvcbs80000gn/T/tmpkg4p_dv4/index.html\n",
      "2025-07-03 11:06:33,979 - INFO - Waiting on all navigates\n",
      "2025-07-03 11:06:34,558 - INFO - All navigates done, putting them all in queue.\n",
      "2025-07-03 11:06:34,560 - INFO - Getting tab from queue (has 1)\n",
      "2025-07-03 11:06:34,560 - INFO - Got A1C1\n",
      "2025-07-03 11:06:34,561 - INFO - Processing UAV_Spatial_Deployment_Over_Time.png\n",
      "2025-07-03 11:06:34,561 - INFO - Sending big command for UAV_Spatial_Deployment_Over_Time.png.\n",
      "2025-07-03 11:06:36,382 - INFO - Sent big command for UAV_Spatial_Deployment_Over_Time.png.\n",
      "2025-07-03 11:06:36,384 - INFO - Reloading tab A1C1 before return.\n",
      "2025-07-03 11:06:36,860 - INFO - Putting tab A1C1 back (queue size: 0).\n",
      "2025-07-03 11:06:36,860 - INFO - Waiting for all cleanups to finish.\n",
      "2025-07-03 11:06:36,861 - INFO - Exiting Kaleido\n",
      "2025-07-03 11:06:36,862 - INFO - TemporaryDirectory.cleanup() worked.\n",
      "2025-07-03 11:06:36,863 - INFO - shutil.rmtree worked.\n",
      "2025-07-03 11:06:36,863 - INFO - Cancelling tasks.\n",
      "2025-07-03 11:06:36,864 - INFO - Exiting Kaleido/Choreo\n",
      "2025-07-03 11:06:36,864 - INFO - Closing browser.\n",
      "2025-07-03 11:06:36,868 - INFO - TemporaryDirectory.cleanup() worked.\n",
      "2025-07-03 11:06:36,868 - INFO - shutil.rmtree worked.\n",
      "2025-07-03 11:06:36,869 - INFO - Cancelling tasks.\n",
      "2025-07-03 11:06:36,870 - INFO - Exiting Kaleido/Choreo\n",
      "2025-07-03 11:06:36,871 - INFO - Closing browser.\n",
      "2025-07-03 11:06:36,967 - INFO - TemporaryDirectory.cleanup() worked.\n",
      "2025-07-03 11:06:36,968 - INFO - shutil.rmtree worked.\n",
      "2025-07-03 11:06:36,971 - INFO - Rendering frame 4/12\n",
      "2025-07-03 11:06:36,977 - INFO - TemporaryDirectory.cleanup() worked.\n",
      "2025-07-03 11:06:36,978 - INFO - shutil.rmtree worked.\n",
      "2025-07-03 11:06:36,994 - INFO - Chromium init'ed with kwargs {}\n",
      "2025-07-03 11:06:36,997 - INFO - Found chromium path: /Applications/Google Chrome.app/Contents/MacOS/Google Chrome\n",
      "2025-07-03 11:06:36,998 - INFO - Temp directory created: /var/folders/sh/ndxykdmj1q9cwr2kpvkvcbs80000gn/T/tmpfeueokwr.\n",
      "2025-07-03 11:06:36,999 - INFO - Opening browser.\n",
      "2025-07-03 11:06:37,000 - INFO - Temp directory created: /var/folders/sh/ndxykdmj1q9cwr2kpvkvcbs80000gn/T/tmpbm2fo4ke.\n",
      "2025-07-03 11:06:37,001 - INFO - Temporary directory at: /var/folders/sh/ndxykdmj1q9cwr2kpvkvcbs80000gn/T/tmpbm2fo4ke\n",
      "2025-07-03 11:06:37,719 - INFO - Conforming 1 to file:///var/folders/sh/ndxykdmj1q9cwr2kpvkvcbs80000gn/T/tmpfeueokwr/index.html\n",
      "2025-07-03 11:06:37,724 - INFO - Waiting on all navigates\n",
      "2025-07-03 11:06:38,313 - INFO - All navigates done, putting them all in queue.\n",
      "2025-07-03 11:06:38,314 - INFO - Getting tab from queue (has 1)\n",
      "2025-07-03 11:06:38,315 - INFO - Got 412A\n",
      "2025-07-03 11:06:38,316 - INFO - Processing UAV_Spatial_Deployment_Over_Time.png\n",
      "2025-07-03 11:06:38,316 - INFO - Sending big command for UAV_Spatial_Deployment_Over_Time.png.\n",
      "2025-07-03 11:06:40,146 - INFO - Sent big command for UAV_Spatial_Deployment_Over_Time.png.\n",
      "2025-07-03 11:06:40,148 - INFO - Reloading tab 412A before return.\n",
      "2025-07-03 11:06:40,627 - INFO - Putting tab 412A back (queue size: 0).\n",
      "2025-07-03 11:06:40,628 - INFO - Waiting for all cleanups to finish.\n",
      "2025-07-03 11:06:40,628 - INFO - Exiting Kaleido\n",
      "2025-07-03 11:06:40,630 - INFO - TemporaryDirectory.cleanup() worked.\n",
      "2025-07-03 11:06:40,630 - INFO - shutil.rmtree worked.\n",
      "2025-07-03 11:06:40,630 - INFO - Cancelling tasks.\n",
      "2025-07-03 11:06:40,631 - INFO - Exiting Kaleido/Choreo\n",
      "2025-07-03 11:06:40,631 - INFO - Closing browser.\n",
      "2025-07-03 11:06:40,635 - INFO - TemporaryDirectory.cleanup() worked.\n",
      "2025-07-03 11:06:40,635 - INFO - shutil.rmtree worked.\n",
      "2025-07-03 11:06:40,636 - INFO - Cancelling tasks.\n",
      "2025-07-03 11:06:40,637 - INFO - Exiting Kaleido/Choreo\n",
      "2025-07-03 11:06:40,637 - INFO - Closing browser.\n",
      "2025-07-03 11:06:40,735 - INFO - TemporaryDirectory.cleanup() worked.\n",
      "2025-07-03 11:06:40,736 - INFO - shutil.rmtree worked.\n",
      "2025-07-03 11:06:40,738 - INFO - Rendering frame 5/12\n",
      "2025-07-03 11:06:40,758 - INFO - Chromium init'ed with kwargs {}\n",
      "2025-07-03 11:06:40,760 - INFO - Found chromium path: /Applications/Google Chrome.app/Contents/MacOS/Google Chrome\n",
      "2025-07-03 11:06:40,761 - INFO - Temp directory created: /var/folders/sh/ndxykdmj1q9cwr2kpvkvcbs80000gn/T/tmpn00b4hcd.\n",
      "2025-07-03 11:06:40,762 - INFO - Opening browser.\n",
      "2025-07-03 11:06:40,763 - INFO - Temp directory created: /var/folders/sh/ndxykdmj1q9cwr2kpvkvcbs80000gn/T/tmpbi3i_tzs.\n",
      "2025-07-03 11:06:40,764 - INFO - Temporary directory at: /var/folders/sh/ndxykdmj1q9cwr2kpvkvcbs80000gn/T/tmpbi3i_tzs\n",
      "2025-07-03 11:06:41,450 - INFO - Conforming 1 to file:///var/folders/sh/ndxykdmj1q9cwr2kpvkvcbs80000gn/T/tmpn00b4hcd/index.html\n",
      "2025-07-03 11:06:41,452 - INFO - Waiting on all navigates\n",
      "2025-07-03 11:06:42,053 - INFO - All navigates done, putting them all in queue.\n",
      "2025-07-03 11:06:42,055 - INFO - Getting tab from queue (has 1)\n",
      "2025-07-03 11:06:42,055 - INFO - Got CC53\n",
      "2025-07-03 11:06:42,056 - INFO - Processing UAV_Spatial_Deployment_Over_Time.png\n",
      "2025-07-03 11:06:42,056 - INFO - Sending big command for UAV_Spatial_Deployment_Over_Time.png.\n",
      "2025-07-03 11:06:43,895 - INFO - Sent big command for UAV_Spatial_Deployment_Over_Time.png.\n",
      "2025-07-03 11:06:43,896 - INFO - Reloading tab CC53 before return.\n",
      "2025-07-03 11:06:44,377 - INFO - Putting tab CC53 back (queue size: 0).\n",
      "2025-07-03 11:06:44,378 - INFO - Waiting for all cleanups to finish.\n",
      "2025-07-03 11:06:44,378 - INFO - Exiting Kaleido\n",
      "2025-07-03 11:06:44,379 - INFO - TemporaryDirectory.cleanup() worked.\n",
      "2025-07-03 11:06:44,380 - INFO - shutil.rmtree worked.\n",
      "2025-07-03 11:06:44,380 - INFO - Cancelling tasks.\n",
      "2025-07-03 11:06:44,381 - INFO - Exiting Kaleido/Choreo\n",
      "2025-07-03 11:06:44,381 - INFO - Closing browser.\n",
      "2025-07-03 11:06:44,385 - INFO - TemporaryDirectory.cleanup() worked.\n",
      "2025-07-03 11:06:44,386 - INFO - shutil.rmtree worked.\n",
      "2025-07-03 11:06:44,386 - INFO - Cancelling tasks.\n",
      "2025-07-03 11:06:44,387 - INFO - Exiting Kaleido/Choreo\n",
      "2025-07-03 11:06:44,388 - INFO - Closing browser.\n",
      "2025-07-03 11:06:44,489 - INFO - TemporaryDirectory.cleanup() worked.\n",
      "2025-07-03 11:06:44,490 - INFO - shutil.rmtree worked.\n",
      "2025-07-03 11:06:44,493 - INFO - Rendering frame 6/12\n",
      "2025-07-03 11:06:44,498 - INFO - TemporaryDirectory.cleanup() worked.\n",
      "2025-07-03 11:06:44,499 - INFO - shutil.rmtree worked.\n",
      "2025-07-03 11:06:44,514 - INFO - Chromium init'ed with kwargs {}\n",
      "2025-07-03 11:06:44,517 - INFO - Found chromium path: /Applications/Google Chrome.app/Contents/MacOS/Google Chrome\n",
      "2025-07-03 11:06:44,517 - INFO - Temp directory created: /var/folders/sh/ndxykdmj1q9cwr2kpvkvcbs80000gn/T/tmpwhdalufk.\n",
      "2025-07-03 11:06:44,519 - INFO - Opening browser.\n",
      "2025-07-03 11:06:44,519 - INFO - Temp directory created: /var/folders/sh/ndxykdmj1q9cwr2kpvkvcbs80000gn/T/tmp44f9x2y1.\n",
      "2025-07-03 11:06:44,521 - INFO - Temporary directory at: /var/folders/sh/ndxykdmj1q9cwr2kpvkvcbs80000gn/T/tmp44f9x2y1\n",
      "2025-07-03 11:06:45,196 - INFO - Conforming 1 to file:///var/folders/sh/ndxykdmj1q9cwr2kpvkvcbs80000gn/T/tmpwhdalufk/index.html\n",
      "2025-07-03 11:06:45,199 - INFO - Waiting on all navigates\n",
      "2025-07-03 11:06:45,783 - INFO - All navigates done, putting them all in queue.\n",
      "2025-07-03 11:06:45,785 - INFO - Getting tab from queue (has 1)\n",
      "2025-07-03 11:06:45,785 - INFO - Got 1D7B\n",
      "2025-07-03 11:06:45,786 - INFO - Processing UAV_Spatial_Deployment_Over_Time.png\n",
      "2025-07-03 11:06:45,786 - INFO - Sending big command for UAV_Spatial_Deployment_Over_Time.png.\n",
      "2025-07-03 11:06:47,638 - INFO - Sent big command for UAV_Spatial_Deployment_Over_Time.png.\n",
      "2025-07-03 11:06:47,640 - INFO - Reloading tab 1D7B before return.\n",
      "2025-07-03 11:06:48,114 - INFO - Putting tab 1D7B back (queue size: 0).\n",
      "2025-07-03 11:06:48,115 - INFO - Waiting for all cleanups to finish.\n",
      "2025-07-03 11:06:48,115 - INFO - Exiting Kaleido\n",
      "2025-07-03 11:06:48,116 - INFO - TemporaryDirectory.cleanup() worked.\n",
      "2025-07-03 11:06:48,117 - INFO - shutil.rmtree worked.\n",
      "2025-07-03 11:06:48,117 - INFO - Cancelling tasks.\n",
      "2025-07-03 11:06:48,118 - INFO - Exiting Kaleido/Choreo\n",
      "2025-07-03 11:06:48,118 - INFO - Closing browser.\n",
      "2025-07-03 11:06:48,122 - INFO - TemporaryDirectory.cleanup() worked.\n",
      "2025-07-03 11:06:48,123 - INFO - shutil.rmtree worked.\n",
      "2025-07-03 11:06:48,123 - INFO - Cancelling tasks.\n",
      "2025-07-03 11:06:48,124 - INFO - Exiting Kaleido/Choreo\n",
      "2025-07-03 11:06:48,125 - INFO - Closing browser.\n",
      "2025-07-03 11:06:48,222 - INFO - TemporaryDirectory.cleanup() worked.\n",
      "2025-07-03 11:06:48,222 - INFO - shutil.rmtree worked.\n",
      "2025-07-03 11:06:48,225 - INFO - Rendering frame 7/12\n",
      "2025-07-03 11:06:48,230 - INFO - TemporaryDirectory.cleanup() worked.\n",
      "2025-07-03 11:06:48,231 - INFO - shutil.rmtree worked.\n",
      "2025-07-03 11:06:48,245 - INFO - Chromium init'ed with kwargs {}\n",
      "2025-07-03 11:06:48,248 - INFO - Found chromium path: /Applications/Google Chrome.app/Contents/MacOS/Google Chrome\n",
      "2025-07-03 11:06:48,248 - INFO - Temp directory created: /var/folders/sh/ndxykdmj1q9cwr2kpvkvcbs80000gn/T/tmpk3lwdgqa.\n",
      "2025-07-03 11:06:48,249 - INFO - Opening browser.\n",
      "2025-07-03 11:06:48,250 - INFO - Temp directory created: /var/folders/sh/ndxykdmj1q9cwr2kpvkvcbs80000gn/T/tmpdc_erybc.\n",
      "2025-07-03 11:06:48,251 - INFO - Temporary directory at: /var/folders/sh/ndxykdmj1q9cwr2kpvkvcbs80000gn/T/tmpdc_erybc\n",
      "2025-07-03 11:06:48,905 - INFO - Conforming 1 to file:///var/folders/sh/ndxykdmj1q9cwr2kpvkvcbs80000gn/T/tmpk3lwdgqa/index.html\n",
      "2025-07-03 11:06:48,908 - INFO - Waiting on all navigates\n",
      "2025-07-03 11:06:49,498 - INFO - All navigates done, putting them all in queue.\n",
      "2025-07-03 11:06:49,500 - INFO - Getting tab from queue (has 1)\n",
      "2025-07-03 11:06:49,500 - INFO - Got B016\n",
      "2025-07-03 11:06:49,500 - INFO - Processing UAV_Spatial_Deployment_Over_Time.png\n",
      "2025-07-03 11:06:49,501 - INFO - Sending big command for UAV_Spatial_Deployment_Over_Time.png.\n",
      "2025-07-03 11:06:49,503 - INFO - TemporaryDirectory.cleanup() worked.\n",
      "2025-07-03 11:06:49,505 - INFO - shutil.rmtree worked.\n",
      "2025-07-03 11:06:51,320 - INFO - Sent big command for UAV_Spatial_Deployment_Over_Time.png.\n",
      "2025-07-03 11:06:51,324 - INFO - Reloading tab B016 before return.\n",
      "2025-07-03 11:06:51,816 - INFO - Putting tab B016 back (queue size: 0).\n",
      "2025-07-03 11:06:51,816 - INFO - Waiting for all cleanups to finish.\n",
      "2025-07-03 11:06:51,817 - INFO - Exiting Kaleido\n",
      "2025-07-03 11:06:51,818 - INFO - TemporaryDirectory.cleanup() worked.\n",
      "2025-07-03 11:06:51,819 - INFO - shutil.rmtree worked.\n",
      "2025-07-03 11:06:51,819 - INFO - Cancelling tasks.\n",
      "2025-07-03 11:06:51,819 - INFO - Exiting Kaleido/Choreo\n",
      "2025-07-03 11:06:51,820 - INFO - Closing browser.\n",
      "2025-07-03 11:06:51,825 - INFO - TemporaryDirectory.cleanup() worked.\n",
      "2025-07-03 11:06:51,826 - INFO - shutil.rmtree worked.\n",
      "2025-07-03 11:06:51,826 - INFO - Cancelling tasks.\n",
      "2025-07-03 11:06:51,827 - INFO - Exiting Kaleido/Choreo\n",
      "2025-07-03 11:06:51,828 - INFO - Closing browser.\n",
      "2025-07-03 11:06:51,930 - INFO - TemporaryDirectory.cleanup() worked.\n",
      "2025-07-03 11:06:51,931 - INFO - shutil.rmtree worked.\n",
      "2025-07-03 11:06:51,935 - INFO - Rendering frame 8/12\n",
      "2025-07-03 11:06:51,958 - INFO - Chromium init'ed with kwargs {}\n",
      "2025-07-03 11:06:51,960 - INFO - Found chromium path: /Applications/Google Chrome.app/Contents/MacOS/Google Chrome\n",
      "2025-07-03 11:06:51,961 - INFO - Temp directory created: /var/folders/sh/ndxykdmj1q9cwr2kpvkvcbs80000gn/T/tmp_l1hoj77.\n",
      "2025-07-03 11:06:51,962 - INFO - Opening browser.\n",
      "2025-07-03 11:06:51,963 - INFO - Temp directory created: /var/folders/sh/ndxykdmj1q9cwr2kpvkvcbs80000gn/T/tmp7y1fzfnb.\n",
      "2025-07-03 11:06:51,963 - INFO - Temporary directory at: /var/folders/sh/ndxykdmj1q9cwr2kpvkvcbs80000gn/T/tmp7y1fzfnb\n",
      "2025-07-03 11:06:52,694 - INFO - Conforming 1 to file:///var/folders/sh/ndxykdmj1q9cwr2kpvkvcbs80000gn/T/tmp_l1hoj77/index.html\n",
      "2025-07-03 11:06:52,698 - INFO - Waiting on all navigates\n",
      "2025-07-03 11:06:53,298 - INFO - All navigates done, putting them all in queue.\n",
      "2025-07-03 11:06:53,300 - INFO - Getting tab from queue (has 1)\n",
      "2025-07-03 11:06:53,300 - INFO - Got F132\n",
      "2025-07-03 11:06:53,300 - INFO - Processing UAV_Spatial_Deployment_Over_Time.png\n",
      "2025-07-03 11:06:53,301 - INFO - Sending big command for UAV_Spatial_Deployment_Over_Time.png.\n",
      "2025-07-03 11:06:55,113 - INFO - Sent big command for UAV_Spatial_Deployment_Over_Time.png.\n",
      "2025-07-03 11:06:55,115 - INFO - Reloading tab F132 before return.\n",
      "2025-07-03 11:06:55,591 - INFO - Putting tab F132 back (queue size: 0).\n",
      "2025-07-03 11:06:55,592 - INFO - Waiting for all cleanups to finish.\n",
      "2025-07-03 11:06:55,592 - INFO - Exiting Kaleido\n",
      "2025-07-03 11:06:55,593 - INFO - TemporaryDirectory.cleanup() worked.\n",
      "2025-07-03 11:06:55,594 - INFO - shutil.rmtree worked.\n",
      "2025-07-03 11:06:55,594 - INFO - Cancelling tasks.\n",
      "2025-07-03 11:06:55,594 - INFO - Exiting Kaleido/Choreo\n",
      "2025-07-03 11:06:55,595 - INFO - Closing browser.\n",
      "2025-07-03 11:06:55,598 - INFO - TemporaryDirectory.cleanup() worked.\n",
      "2025-07-03 11:06:55,599 - INFO - shutil.rmtree worked.\n",
      "2025-07-03 11:06:55,600 - INFO - Cancelling tasks.\n",
      "2025-07-03 11:06:55,600 - INFO - Exiting Kaleido/Choreo\n",
      "2025-07-03 11:06:55,601 - INFO - Closing browser.\n",
      "2025-07-03 11:06:55,700 - INFO - TemporaryDirectory.cleanup() worked.\n",
      "2025-07-03 11:06:55,701 - INFO - shutil.rmtree worked.\n",
      "2025-07-03 11:06:55,704 - INFO - Rendering frame 9/12\n",
      "2025-07-03 11:06:55,709 - INFO - TemporaryDirectory.cleanup() worked.\n",
      "2025-07-03 11:06:55,710 - INFO - shutil.rmtree worked.\n",
      "2025-07-03 11:06:55,725 - INFO - Chromium init'ed with kwargs {}\n",
      "2025-07-03 11:06:55,728 - INFO - Found chromium path: /Applications/Google Chrome.app/Contents/MacOS/Google Chrome\n",
      "2025-07-03 11:06:55,728 - INFO - Temp directory created: /var/folders/sh/ndxykdmj1q9cwr2kpvkvcbs80000gn/T/tmpl49mcnp4.\n",
      "2025-07-03 11:06:55,729 - INFO - Opening browser.\n",
      "2025-07-03 11:06:55,730 - INFO - Temp directory created: /var/folders/sh/ndxykdmj1q9cwr2kpvkvcbs80000gn/T/tmpapdzgql5.\n",
      "2025-07-03 11:06:55,731 - INFO - Temporary directory at: /var/folders/sh/ndxykdmj1q9cwr2kpvkvcbs80000gn/T/tmpapdzgql5\n",
      "2025-07-03 11:06:56,400 - INFO - Conforming 1 to file:///var/folders/sh/ndxykdmj1q9cwr2kpvkvcbs80000gn/T/tmpl49mcnp4/index.html\n",
      "2025-07-03 11:06:56,402 - INFO - Waiting on all navigates\n",
      "2025-07-03 11:06:57,042 - INFO - All navigates done, putting them all in queue.\n",
      "2025-07-03 11:06:57,043 - INFO - Getting tab from queue (has 1)\n",
      "2025-07-03 11:06:57,043 - INFO - Got BDCC\n",
      "2025-07-03 11:06:57,044 - INFO - Processing UAV_Spatial_Deployment_Over_Time.png\n",
      "2025-07-03 11:06:57,044 - INFO - Sending big command for UAV_Spatial_Deployment_Over_Time.png.\n",
      "2025-07-03 11:06:58,879 - INFO - Sent big command for UAV_Spatial_Deployment_Over_Time.png.\n",
      "2025-07-03 11:06:58,881 - INFO - Reloading tab BDCC before return.\n",
      "2025-07-03 11:06:59,361 - INFO - Putting tab BDCC back (queue size: 0).\n",
      "2025-07-03 11:06:59,362 - INFO - Waiting for all cleanups to finish.\n",
      "2025-07-03 11:06:59,362 - INFO - Exiting Kaleido\n",
      "2025-07-03 11:06:59,363 - INFO - TemporaryDirectory.cleanup() worked.\n",
      "2025-07-03 11:06:59,364 - INFO - shutil.rmtree worked.\n",
      "2025-07-03 11:06:59,364 - INFO - Cancelling tasks.\n",
      "2025-07-03 11:06:59,365 - INFO - Exiting Kaleido/Choreo\n",
      "2025-07-03 11:06:59,365 - INFO - Closing browser.\n",
      "2025-07-03 11:06:59,370 - INFO - TemporaryDirectory.cleanup() worked.\n",
      "2025-07-03 11:06:59,371 - INFO - shutil.rmtree worked.\n",
      "2025-07-03 11:06:59,372 - INFO - Cancelling tasks.\n",
      "2025-07-03 11:06:59,373 - INFO - Exiting Kaleido/Choreo\n",
      "2025-07-03 11:06:59,373 - INFO - Closing browser.\n",
      "2025-07-03 11:06:59,467 - INFO - TemporaryDirectory.cleanup() worked.\n",
      "2025-07-03 11:06:59,468 - INFO - shutil.rmtree worked.\n",
      "2025-07-03 11:06:59,470 - INFO - Rendering frame 10/12\n",
      "2025-07-03 11:06:59,476 - INFO - TemporaryDirectory.cleanup() worked.\n",
      "2025-07-03 11:06:59,476 - INFO - shutil.rmtree worked.\n",
      "2025-07-03 11:06:59,492 - INFO - Chromium init'ed with kwargs {}\n",
      "2025-07-03 11:06:59,494 - INFO - Found chromium path: /Applications/Google Chrome.app/Contents/MacOS/Google Chrome\n",
      "2025-07-03 11:06:59,495 - INFO - Temp directory created: /var/folders/sh/ndxykdmj1q9cwr2kpvkvcbs80000gn/T/tmprfm55k8m.\n",
      "2025-07-03 11:06:59,496 - INFO - Opening browser.\n",
      "2025-07-03 11:06:59,497 - INFO - Temp directory created: /var/folders/sh/ndxykdmj1q9cwr2kpvkvcbs80000gn/T/tmpvmgt1fbe.\n",
      "2025-07-03 11:06:59,498 - INFO - Temporary directory at: /var/folders/sh/ndxykdmj1q9cwr2kpvkvcbs80000gn/T/tmpvmgt1fbe\n",
      "2025-07-03 11:07:00,160 - INFO - Conforming 1 to file:///var/folders/sh/ndxykdmj1q9cwr2kpvkvcbs80000gn/T/tmprfm55k8m/index.html\n",
      "2025-07-03 11:07:00,171 - INFO - Waiting on all navigates\n",
      "2025-07-03 11:07:00,758 - INFO - All navigates done, putting them all in queue.\n",
      "2025-07-03 11:07:00,759 - INFO - Getting tab from queue (has 1)\n",
      "2025-07-03 11:07:00,760 - INFO - Got 98AC\n",
      "2025-07-03 11:07:00,760 - INFO - Processing UAV_Spatial_Deployment_Over_Time.png\n",
      "2025-07-03 11:07:00,761 - INFO - Sending big command for UAV_Spatial_Deployment_Over_Time.png.\n",
      "2025-07-03 11:07:02,606 - INFO - Sent big command for UAV_Spatial_Deployment_Over_Time.png.\n",
      "2025-07-03 11:07:02,608 - INFO - Reloading tab 98AC before return.\n",
      "2025-07-03 11:07:03,082 - INFO - Putting tab 98AC back (queue size: 0).\n",
      "2025-07-03 11:07:03,083 - INFO - Waiting for all cleanups to finish.\n",
      "2025-07-03 11:07:03,083 - INFO - Exiting Kaleido\n",
      "2025-07-03 11:07:03,085 - INFO - TemporaryDirectory.cleanup() worked.\n",
      "2025-07-03 11:07:03,085 - INFO - shutil.rmtree worked.\n",
      "2025-07-03 11:07:03,085 - INFO - Cancelling tasks.\n",
      "2025-07-03 11:07:03,086 - INFO - Exiting Kaleido/Choreo\n",
      "2025-07-03 11:07:03,087 - INFO - Closing browser.\n",
      "2025-07-03 11:07:03,091 - INFO - TemporaryDirectory.cleanup() worked.\n",
      "2025-07-03 11:07:03,092 - INFO - shutil.rmtree worked.\n",
      "2025-07-03 11:07:03,092 - INFO - Cancelling tasks.\n",
      "2025-07-03 11:07:03,093 - INFO - Exiting Kaleido/Choreo\n",
      "2025-07-03 11:07:03,094 - INFO - Closing browser.\n",
      "2025-07-03 11:07:03,195 - INFO - TemporaryDirectory.cleanup() worked.\n",
      "2025-07-03 11:07:03,196 - INFO - shutil.rmtree worked.\n",
      "2025-07-03 11:07:03,198 - INFO - Rendering frame 11/12\n",
      "2025-07-03 11:07:03,218 - INFO - Chromium init'ed with kwargs {}\n",
      "2025-07-03 11:07:03,219 - INFO - Found chromium path: /Applications/Google Chrome.app/Contents/MacOS/Google Chrome\n",
      "2025-07-03 11:07:03,220 - INFO - Temp directory created: /var/folders/sh/ndxykdmj1q9cwr2kpvkvcbs80000gn/T/tmprxklrt7g.\n",
      "2025-07-03 11:07:03,222 - INFO - Opening browser.\n",
      "2025-07-03 11:07:03,223 - INFO - Temp directory created: /var/folders/sh/ndxykdmj1q9cwr2kpvkvcbs80000gn/T/tmp3fe7smzc.\n",
      "2025-07-03 11:07:03,224 - INFO - Temporary directory at: /var/folders/sh/ndxykdmj1q9cwr2kpvkvcbs80000gn/T/tmp3fe7smzc\n",
      "2025-07-03 11:07:03,883 - INFO - Conforming 1 to file:///var/folders/sh/ndxykdmj1q9cwr2kpvkvcbs80000gn/T/tmprxklrt7g/index.html\n",
      "2025-07-03 11:07:03,888 - INFO - Waiting on all navigates\n",
      "2025-07-03 11:07:04,475 - INFO - All navigates done, putting them all in queue.\n",
      "2025-07-03 11:07:04,476 - INFO - Getting tab from queue (has 1)\n",
      "2025-07-03 11:07:04,476 - INFO - Got 497C\n",
      "2025-07-03 11:07:04,477 - INFO - Processing UAV_Spatial_Deployment_Over_Time.png\n",
      "2025-07-03 11:07:04,478 - INFO - Sending big command for UAV_Spatial_Deployment_Over_Time.png.\n",
      "2025-07-03 11:07:06,271 - INFO - Sent big command for UAV_Spatial_Deployment_Over_Time.png.\n",
      "2025-07-03 11:07:06,272 - INFO - Reloading tab 497C before return.\n",
      "2025-07-03 11:07:06,744 - INFO - Putting tab 497C back (queue size: 0).\n",
      "2025-07-03 11:07:06,744 - INFO - Waiting for all cleanups to finish.\n",
      "2025-07-03 11:07:06,745 - INFO - Exiting Kaleido\n",
      "2025-07-03 11:07:06,746 - INFO - TemporaryDirectory.cleanup() worked.\n",
      "2025-07-03 11:07:06,746 - INFO - shutil.rmtree worked.\n",
      "2025-07-03 11:07:06,747 - INFO - Cancelling tasks.\n",
      "2025-07-03 11:07:06,747 - INFO - Exiting Kaleido/Choreo\n",
      "2025-07-03 11:07:06,748 - INFO - Closing browser.\n",
      "2025-07-03 11:07:06,752 - INFO - TemporaryDirectory.cleanup() worked.\n",
      "2025-07-03 11:07:06,752 - INFO - shutil.rmtree worked.\n",
      "2025-07-03 11:07:06,753 - INFO - Cancelling tasks.\n",
      "2025-07-03 11:07:06,754 - INFO - Exiting Kaleido/Choreo\n",
      "2025-07-03 11:07:06,755 - INFO - Closing browser.\n",
      "2025-07-03 11:07:06,861 - INFO - TemporaryDirectory.cleanup() worked.\n",
      "2025-07-03 11:07:06,862 - INFO - shutil.rmtree worked.\n",
      "2025-07-03 11:07:06,864 - INFO - Rendering frame 12/12\n",
      "2025-07-03 11:07:06,870 - INFO - TemporaryDirectory.cleanup() worked.\n",
      "2025-07-03 11:07:06,870 - INFO - shutil.rmtree worked.\n",
      "2025-07-03 11:07:06,885 - INFO - Chromium init'ed with kwargs {}\n",
      "2025-07-03 11:07:06,887 - INFO - Found chromium path: /Applications/Google Chrome.app/Contents/MacOS/Google Chrome\n",
      "2025-07-03 11:07:06,888 - INFO - Temp directory created: /var/folders/sh/ndxykdmj1q9cwr2kpvkvcbs80000gn/T/tmpy1gunxif.\n",
      "2025-07-03 11:07:06,890 - INFO - Opening browser.\n",
      "2025-07-03 11:07:06,891 - INFO - Temp directory created: /var/folders/sh/ndxykdmj1q9cwr2kpvkvcbs80000gn/T/tmp47klf906.\n",
      "2025-07-03 11:07:06,891 - INFO - Temporary directory at: /var/folders/sh/ndxykdmj1q9cwr2kpvkvcbs80000gn/T/tmp47klf906\n",
      "2025-07-03 11:07:07,551 - INFO - Conforming 1 to file:///var/folders/sh/ndxykdmj1q9cwr2kpvkvcbs80000gn/T/tmpy1gunxif/index.html\n",
      "2025-07-03 11:07:07,560 - INFO - Waiting on all navigates\n",
      "2025-07-03 11:07:08,143 - INFO - All navigates done, putting them all in queue.\n",
      "2025-07-03 11:07:08,144 - INFO - Getting tab from queue (has 1)\n",
      "2025-07-03 11:07:08,144 - INFO - Got FD00\n",
      "2025-07-03 11:07:08,145 - INFO - Processing UAV_Spatial_Deployment_Over_Time.png\n",
      "2025-07-03 11:07:08,145 - INFO - Sending big command for UAV_Spatial_Deployment_Over_Time.png.\n",
      "2025-07-03 11:07:09,953 - INFO - Sent big command for UAV_Spatial_Deployment_Over_Time.png.\n",
      "2025-07-03 11:07:09,955 - INFO - Reloading tab FD00 before return.\n",
      "2025-07-03 11:07:10,427 - INFO - Putting tab FD00 back (queue size: 0).\n",
      "2025-07-03 11:07:10,427 - INFO - Waiting for all cleanups to finish.\n",
      "2025-07-03 11:07:10,428 - INFO - Exiting Kaleido\n",
      "2025-07-03 11:07:10,429 - INFO - TemporaryDirectory.cleanup() worked.\n",
      "2025-07-03 11:07:10,429 - INFO - shutil.rmtree worked.\n",
      "2025-07-03 11:07:10,430 - INFO - Cancelling tasks.\n",
      "2025-07-03 11:07:10,430 - INFO - Exiting Kaleido/Choreo\n",
      "2025-07-03 11:07:10,431 - INFO - Closing browser.\n",
      "2025-07-03 11:07:10,435 - INFO - TemporaryDirectory.cleanup() worked.\n",
      "2025-07-03 11:07:10,436 - INFO - shutil.rmtree worked.\n",
      "2025-07-03 11:07:10,436 - INFO - Cancelling tasks.\n",
      "2025-07-03 11:07:10,437 - INFO - Exiting Kaleido/Choreo\n",
      "2025-07-03 11:07:10,437 - INFO - Closing browser.\n",
      "2025-07-03 11:07:10,529 - INFO - TemporaryDirectory.cleanup() worked.\n",
      "2025-07-03 11:07:10,529 - INFO - shutil.rmtree worked.\n",
      "2025-07-03 11:07:10,536 - INFO - TemporaryDirectory.cleanup() worked.\n",
      "2025-07-03 11:07:10,537 - INFO - shutil.rmtree worked.\n",
      "2025-07-03 11:07:10,539 - INFO - Saving GIF to facility_movement_3D.gif\n",
      "2025-07-03 11:07:10,808 - INFO - GIF successfully saved to facility_movement_3D.gif\n"
     ]
    },
    {
     "data": {
      "text/plain": [
       "'facility_movement_3D.gif'"
      ]
     },
     "execution_count": 13,
     "metadata": {},
     "output_type": "execute_result"
    }
   ],
   "source": [
    "Animator.animate_UAV_FLPO_3D(\n",
    "        START_locs,\n",
    "        END_locs,\n",
    "        Y_arr,\n",
    "        start_altitudes=None,\n",
    "        end_altitudes=None,\n",
    "        facility_heights_list=None,\n",
    "        scene_title=\"UAV Spatial Deployment Over Time\",\n",
    "        output_gif=\"facility_movement_3D.gif\",\n",
    "        frame_duration=100,\n",
    "        render_timeout=30,\n",
    "        camera = (0.3,0.7,2.0)\n",
    "    )\n",
    "\n"
   ]
  },
  {
   "cell_type": "markdown",
   "metadata": {},
   "source": [
    "### Compare with original FLPO solution"
   ]
  },
  {
   "cell_type": "code",
   "execution_count": 31,
   "metadata": {},
   "outputs": [
    {
     "data": {
      "image/png": "[encoded data removed]",
      "text/plain": [
       "<Figure size 400x300 with 1 Axes>"
      ]
     },
     "metadata": {},
     "output_type": "display_data"
    }
   ],
   "source": [
    "import classFLPO as cf\n",
    "importlib.reload(cf)\n",
    "\n",
    "flpo_filename = 'numpy_FLPO_data/numpy_FLPO_data'\n",
    "flpo = cf.FLPO(flpo_filename, plotFLPO=True, disType='sqeuclidean', selfHop=True)"
   ]
  },
  {
   "cell_type": "code",
   "execution_count": 33,
   "metadata": {},
   "outputs": [],
   "source": [
    "Y0 = flpo.facilityLocations\n",
    "init_guess = Y0.flatten()"
   ]
  },
  {
   "cell_type": "code",
   "execution_count": 34,
   "metadata": {},
   "outputs": [
    {
     "name": "stdout",
     "output_type": "stream",
     "text": [
      "`gtol` termination condition is satisfied.\n",
      "Number of iterations: 40, function evaluations: 330, CG iterations: 90, optimality: 3.82e-09, constraint violation: 0.00e+00, execution time: 0.13 s.\n"
     ]
    }
   ],
   "source": [
    "cost, params, time = flpo.optimize_D(init_guess, beta=1e5, method='trust-constr', method_options={'verbose':1})"
   ]
  },
  {
   "cell_type": "code",
   "execution_count": 35,
   "metadata": {},
   "outputs": [
    {
     "name": "stderr",
     "output_type": "stream",
     "text": [
      "2025-07-03 11:12:11,564 - INFO - TemporaryDirectory.cleanup() worked.\n",
      "2025-07-03 11:12:11,565 - INFO - shutil.rmtree worked.\n",
      "2025-07-03 11:12:11,565 - INFO - TemporaryDirectory.cleanup() worked.\n",
      "2025-07-03 11:12:11,566 - INFO - shutil.rmtree worked.\n"
     ]
    },
    {
     "data": {
      "image/png": "[encoded data removed]",
      "text/plain": [
       "<Figure size 400x300 with 1 Axes>"
      ]
     },
     "metadata": {},
     "output_type": "display_data"
    },
    {
     "data": {
      "image/png": "[encoded data removed]",
      "text/plain": [
       "<Figure size 400x300 with 1 Axes>"
      ]
     },
     "metadata": {},
     "output_type": "display_data"
    }
   ],
   "source": [
    "flpo.facilityLocations = params.reshape(-1,2)\n",
    "flpo.plotFLPO()\n",
    "ext_facilities = F_base.cpu().squeeze().detach().numpy()\n",
    "flpo.facilityLocations = ext_facilities\n",
    "flpo.plotFLPO()"
   ]
  },
  {
   "cell_type": "code",
   "execution_count": 36,
   "metadata": {},
   "outputs": [
    {
     "name": "stderr",
     "output_type": "stream",
     "text": [
      "/Users/dhananjaytiwari/Library/Python/3.9/lib/python/site-packages/scipy/optimize/_hessian_update_strategy.py:182: UserWarning:\n",
      "\n",
      "delta_grad == 0.0. Check if the approximated function is linear. If the function is linear better results can be obtained by defining the Hessian as zero instead of using quasi-Newton approximations.\n",
      "\n"
     ]
    },
    {
     "name": "stdout",
     "output_type": "stream",
     "text": [
      "beta: 3.0000e-03\tFreeE: -8270.1048\n",
      "beta: 9.0000e-03\tFreeE: -2756.5921\n",
      "beta: 2.7000e-02\tFreeE: -918.7545\n",
      "beta: 8.1000e-02\tFreeE: -306.1419\n",
      "beta: 2.4300e-01\tFreeE: -101.9378\n",
      "beta: 7.2900e-01\tFreeE: -33.8697\n",
      "beta: 2.1870e+00\tFreeE: -11.1804\n",
      "beta: 6.5610e+00\tFreeE: -3.6172\n",
      "beta: 1.9683e+01\tFreeE: -1.0962\n",
      "beta: 5.9049e+01\tFreeE: -0.2559\n",
      "beta: 1.7715e+02\tFreeE: 0.0101\n",
      "beta: 5.3144e+02\tFreeE: 0.0670\n",
      "beta: 1.5943e+03\tFreeE: 0.0742\n"
     ]
    }
   ],
   "source": [
    "beta_o = beta_min\n",
    "params_o = Y0.flatten()\n",
    "b_arr_o = []\n",
    "F_arr_o = []\n",
    "\n",
    "while beta_o <= beta_max:\n",
    "    cost_o, params_o, time = flpo.optimize_D(params_o, beta=beta_o, method='trust-constr', method_options={'verbose':0})\n",
    "    b_arr_o.append(beta_o)\n",
    "    F_arr_o.append(cost_o)\n",
    "\n",
    "    params_o = params_o + 0.01*np.random.uniform(-1,1,params_o.shape)\n",
    "    beta_o = beta_grow * beta_o\n",
    "\n",
    "    print(\n",
    "        f\"beta: {beta_o:.4e}\\tFreeE: {cost_o:.4f}\"\n",
    "    )"
   ]
  },
  {
   "cell_type": "code",
   "execution_count": 37,
   "metadata": {},
   "outputs": [
    {
     "data": {
      "image/png": "[encoded data removed]",
      "text/plain": [
       "<Figure size 400x300 with 1 Axes>"
      ]
     },
     "metadata": {},
     "output_type": "display_data"
    }
   ],
   "source": [
    "flpo.facilityLocations = params_o.reshape(-1,2)\n",
    "flpo.plotFLPO()"
   ]
  },
  {
   "cell_type": "code",
   "execution_count": 74,
   "metadata": {},
   "outputs": [
    {
     "data": {
      "image/png": "[encoded data removed]",
      "text/plain": [
       "<Figure size 1000x300 with 1 Axes>"
      ]
     },
     "metadata": {},
     "output_type": "display_data"
    }
   ],
   "source": [
    "# plot free energy evolution\n",
    "plt.figure(figsize=(10,3))\n",
    "plt.plot(np.log(b_arr_o)/np.log(10), F_arr_o, marker='.')\n",
    "plt.ylabel(rf'$F$')\n",
    "plt.xlabel(rf'$\\log_{{10}}\\beta$')\n",
    "plt.grid()\n",
    "plt.show()"
   ]
  }
 ],
 "metadata": {
  "kernelspec": {
   "display_name": "Python 3",
   "language": "python",
   "name": "python3"
  },
  "language_info": {
   "codemirror_mode": {
    "name": "ipython",
    "version": 3
   },
   "file_extension": ".py",
   "mimetype": "text/x-python",
   "name": "python",
   "nbconvert_exporter": "python",
   "pygments_lexer": "ipython3",
   "version": "3.9.6"
  }
 },
 "nbformat": 4,
 "nbformat_minor": 2
}
