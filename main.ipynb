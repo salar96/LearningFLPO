{
 "cells": [
  {
   "cell_type": "code",
   "execution_count": 14,
   "metadata": {},
   "outputs": [],
   "source": [
    "import torch\n",
    "from VRP_Net_L import VRPNet_L\n",
    "from matplotlib import pyplot as plt\n",
    "import utils\n",
    "import os\n",
    "import matplotlib.pyplot as plt\n",
    "from torchinfo import summary\n",
    "import numpy as np\n",
    "import time\n",
    "import LSE_net\n",
    "from torch import optim\n",
    "import importlib"
   ]
  },
  {
   "cell_type": "code",
   "execution_count": 15,
   "metadata": {},
   "outputs": [
    {
     "name": "stdout",
     "output_type": "stream",
     "text": [
      "Running on:  cpu\n"
     ]
    }
   ],
   "source": [
    "seed=4;\n",
    "torch.manual_seed(seed)\n",
    "torch.cuda.manual_seed(seed)\n",
    "torch.cuda.manual_seed_all(seed)\n",
    "device = torch.device('cuda') if torch.cuda.is_available() else torch.device('cpu')\n",
    "np.random.seed(seed)\n",
    "print(\"Running on: \" , device)"
   ]
  },
  {
   "cell_type": "markdown",
   "metadata": {},
   "source": [
    "### Initialize an FLPO scenario"
   ]
  },
  {
   "cell_type": "code",
   "execution_count": 23,
   "metadata": {},
   "outputs": [
    {
     "name": "stdout",
     "output_type": "stream",
     "text": [
      "num_drones = 100\tnum_facilities = 5\tdim = 2\n",
      "Data Loaded.\n"
     ]
    },
    {
     "data": {
      "image/png": "[encoded data removed]",
      "text/plain": [
       "<Figure size 400x300 with 1 Axes>"
      ]
     },
     "metadata": {},
     "output_type": "display_data"
    }
   ],
   "source": [
    "# UAV FLPO MetaData\n",
    "num_drones = 100\n",
    "n_drone_clusters = 5\n",
    "drone_cluster_split = np.random.uniform(0.0, 1.0, n_drone_clusters)\n",
    "drone_cluster_split = drone_cluster_split / np.sum(drone_cluster_split)\n",
    "num_facilities = 5\n",
    "dim_ = 2\n",
    "print(f'num_drones = {num_drones}\\tnum_facilities = {num_facilities}\\tdim = {dim_}')\n",
    "\n",
    "# Assign start location to each drone\n",
    "drone_cnt = 0\n",
    "for i in range(n_drone_clusters):\n",
    "    if i == n_drone_clusters-1:\n",
    "        n_drones = int(num_drones - drone_cnt)\n",
    "    else:\n",
    "        n_drones = int(drone_cluster_split[i] * (num_drones+1))\n",
    "        drone_cnt += n_drones\n",
    "\n",
    "    drone_cluster_mean = torch.rand(1, dim_).repeat(n_drones,1).unsqueeze(1).to(device)\n",
    "    drone_cluster_std = ((0.01 - 0.05) * torch.rand(1,dim_) + 0.05).repeat(n_drones,1).unsqueeze(1).to(device)\n",
    "    drone_cluster_START_locs = torch.normal(mean=drone_cluster_mean, std=drone_cluster_std).to(device)\n",
    "    if i == 0:\n",
    "        START_locs = drone_cluster_START_locs\n",
    "    else:\n",
    "        START_locs = torch.cat((START_locs, drone_cluster_START_locs), axis=0)\n",
    "\n",
    "assert not START_locs.requires_grad, \"set requires_grad for START_locs to 0\"\n",
    "# Assign destination location to each drone\n",
    "END_locs = torch.zeros((num_drones, 1, dim_), requires_grad=False, device=device) #torch.rand(num_drones, 1, dim_, requires_grad=False, device=device)\n",
    "\n",
    "# Create the data tensor\n",
    "F_means = torch.mean(START_locs, dim=0).repeat(num_facilities, 1)\n",
    "F_noise = torch.normal(mean=torch.zeros(num_facilities,1,device=device), std=0.001*torch.ones(num_facilities,1,device=device))\n",
    "F_base = (F_means + F_noise).unsqueeze(0).requires_grad_()\n",
    "# print(F_base.shape)\n",
    "F_locs = F_base.expand(num_drones, -1, -1)  # view, shares grad with F_base\n",
    "data = torch.cat((START_locs, F_locs, END_locs), dim=1)  # shape: (Nd, Nf+2, D)\n",
    "print(\"Data Loaded.\")\n",
    "\n",
    "# plot the data\n",
    "def plot_UAV_FLPO(drone_START, drone_END, Facilities, figuresize=(6,5)):\n",
    "    start_locs = drone_START.squeeze(1).cpu().numpy()\n",
    "    end_locs = drone_END.squeeze(1).cpu().numpy()\n",
    "    f_locs = Facilities.squeeze(0).detach().cpu().numpy()\n",
    "\n",
    "    plt.figure(figsize=figuresize)\n",
    "    plt.scatter(start_locs[:,0], start_locs[:,1], color='violet', marker='X', alpha=0.5)\n",
    "    plt.scatter(end_locs[:,0], end_locs[:,1], color='red', marker='.')\n",
    "    plt.scatter(f_locs[:,0], f_locs[:,1], color='black', marker='^')\n",
    "    plt.grid()\n",
    "    plt.show()\n",
    "\n",
    "plot_UAV_FLPO(START_locs, END_locs, F_base, (4,3))\n"
   ]
  },
  {
   "cell_type": "code",
   "execution_count": 27,
   "metadata": {},
   "outputs": [
    {
     "data": {
      "text/plain": [
       "array([[ 8.84336829e-02,  8.69557977e-01],\n",
       "       [ 1.46164671e-01,  7.92946577e-01],\n",
       "       [ 8.80517066e-02,  8.65315914e-01],\n",
       "       [ 1.68382227e-01,  7.61617601e-01],\n",
       "       [ 1.51603580e-01,  7.73043394e-01],\n",
       "       [ 1.30266666e-01,  8.08261514e-01],\n",
       "       [ 7.16349185e-02,  8.33799064e-01],\n",
       "       [ 1.17588148e-01,  8.98616910e-01],\n",
       "       [ 1.04969770e-01,  8.15708876e-01],\n",
       "       [ 9.85093713e-02,  8.82649422e-01],\n",
       "       [ 1.32989585e-01,  8.68013620e-01],\n",
       "       [ 5.13079092e-02,  8.78194094e-01],\n",
       "       [ 1.48487434e-01,  7.65067697e-01],\n",
       "       [ 9.39500779e-02,  8.62656593e-01],\n",
       "       [ 9.23817307e-02,  8.14465821e-01],\n",
       "       [ 1.16588801e-01,  8.19371521e-01],\n",
       "       [ 8.59668329e-02,  8.00484717e-01],\n",
       "       [ 1.29402637e-01,  7.86019564e-01],\n",
       "       [ 1.67106822e-01,  8.18992615e-01],\n",
       "       [ 1.10562392e-01,  8.29537272e-01],\n",
       "       [ 1.15162998e-01,  8.11980844e-01],\n",
       "       [ 1.09576963e-01,  7.76594102e-01],\n",
       "       [ 4.60106283e-02,  7.79958129e-01],\n",
       "       [ 7.27179199e-02,  8.08249354e-01],\n",
       "       [ 1.49971530e-01,  8.61444890e-01],\n",
       "       [ 1.54058233e-01,  7.95878232e-01],\n",
       "       [ 5.57286292e-02,  7.85201311e-01],\n",
       "       [ 1.89884484e-01, -5.29577211e-03],\n",
       "       [ 1.80326492e-01,  1.89202838e-02],\n",
       "       [ 2.49001473e-01,  1.61076756e-03],\n",
       "       [ 1.57882586e-01,  2.74754129e-02],\n",
       "       [ 1.89368278e-01,  3.70065719e-02],\n",
       "       [ 1.28602743e-01,  1.63772833e-02],\n",
       "       [ 1.49170771e-01,  2.08363198e-02],\n",
       "       [ 2.34774277e-01,  1.92360543e-02],\n",
       "       [ 1.97643623e-01,  1.64956553e-03],\n",
       "       [ 1.93401605e-01,  1.36371795e-03],\n",
       "       [ 1.44980624e-01,  2.74710776e-03],\n",
       "       [ 2.00980499e-01, -3.96046788e-04],\n",
       "       [ 1.78508416e-01,  5.31297643e-03],\n",
       "       [ 1.34163648e-01, -3.70130874e-02],\n",
       "       [ 1.45473778e-01,  5.13359047e-02],\n",
       "       [ 1.76596001e-01,  1.27210319e-02],\n",
       "       [ 1.74639493e-01, -2.33555548e-02],\n",
       "       [ 1.63614810e-01,  3.55004035e-02],\n",
       "       [ 1.98514119e-01, -2.70920917e-02],\n",
       "       [ 1.76513031e-01,  7.14976853e-03],\n",
       "       [ 1.91572919e-01,  3.29845212e-03],\n",
       "       [ 1.18188299e-01, -3.87566723e-03],\n",
       "       [ 1.59194157e-01,  9.73256305e-03],\n",
       "       [ 1.70955330e-01, -7.96222594e-03],\n",
       "       [ 2.19642654e-01,  8.91987141e-03],\n",
       "       [ 1.63608447e-01,  1.76278912e-02],\n",
       "       [ 9.86893296e-01,  4.30653282e-02],\n",
       "       [ 9.57362950e-01,  2.35872604e-02],\n",
       "       [ 9.12998378e-01, -2.64461525e-02],\n",
       "       [ 8.96613061e-01,  4.09423709e-02],\n",
       "       [ 1.00256145e+00,  2.21366417e-02],\n",
       "       [ 1.07617402e+00,  5.48414178e-02],\n",
       "       [ 8.94951344e-01, -3.95141989e-02],\n",
       "       [ 9.79399621e-01,  7.95651600e-02],\n",
       "       [ 4.70480978e-01,  3.78670841e-02],\n",
       "       [ 5.65281749e-01,  4.23928350e-03],\n",
       "       [ 5.20754039e-01,  3.59051637e-02],\n",
       "       [ 5.09246230e-01,  1.52172387e-01],\n",
       "       [ 5.26082158e-01, -5.75461611e-02],\n",
       "       [ 6.19941413e-01, -1.82811916e-02],\n",
       "       [ 5.82646728e-01,  1.95372012e-02],\n",
       "       [ 6.16483033e-01,  4.07301895e-02],\n",
       "       [ 5.61140835e-01, -7.28240609e-03],\n",
       "       [ 5.36414146e-01,  9.75042731e-02],\n",
       "       [ 4.69961315e-01, -2.79036239e-02],\n",
       "       [ 5.07003307e-01,  3.91262695e-02],\n",
       "       [ 4.52220738e-01,  4.60163318e-02],\n",
       "       [ 5.45132637e-01,  3.82187963e-02],\n",
       "       [ 5.82552671e-01,  7.07244873e-02],\n",
       "       [ 6.01259887e-01, -1.93702802e-02],\n",
       "       [ 5.11442721e-01,  5.06742559e-02],\n",
       "       [ 4.90864366e-01,  2.21611578e-02],\n",
       "       [ 5.48770726e-01,  4.86854129e-02],\n",
       "       [ 6.17740214e-01,  3.45513970e-02],\n",
       "       [ 4.05389309e-01,  4.28549275e-02],\n",
       "       [ 6.05144024e-01,  3.30521166e-02],\n",
       "       [ 5.75697124e-01,  6.70260638e-02],\n",
       "       [ 4.52773005e-01,  8.93727094e-02],\n",
       "       [ 5.48347473e-01,  8.52456689e-02],\n",
       "       [ 5.56106210e-01,  4.69270796e-02],\n",
       "       [ 5.64204395e-01,  5.60389608e-02],\n",
       "       [ 5.06066382e-01,  8.15221965e-02],\n",
       "       [ 5.43032348e-01,  4.71821427e-02],\n",
       "       [ 5.30749559e-01,  5.10351136e-02],\n",
       "       [ 6.05171919e-01, -1.32240616e-02],\n",
       "       [ 4.86660480e-01,  7.13327974e-02],\n",
       "       [ 5.22164822e-01,  2.96008922e-02],\n",
       "       [ 5.39799154e-01,  5.14619723e-02],\n",
       "       [ 5.70957184e-01,  5.67170046e-02],\n",
       "       [ 5.32437265e-01,  3.17504220e-02],\n",
       "       [ 5.54754674e-01, -4.61696833e-03],\n",
       "       [ 4.75761861e-01,  6.27789736e-01],\n",
       "       [ 4.68822122e-01,  6.30280614e-01]])"
      ]
     },
     "execution_count": 27,
     "metadata": {},
     "output_type": "execute_result"
    }
   ],
   "source": [
    "START_locs.to(torch.float64).numpy().squeeze()"
   ]
  },
  {
   "cell_type": "code",
   "execution_count": 32,
   "metadata": {},
   "outputs": [
    {
     "data": {
      "text/plain": [
       "array([[0.36369985, 0.25443509],\n",
       "       [0.36324751, 0.25398275],\n",
       "       [0.36120567, 0.25194091],\n",
       "       [0.36389244, 0.25462767],\n",
       "       [0.36174393, 0.25247917]])"
      ]
     },
     "execution_count": 32,
     "metadata": {},
     "output_type": "execute_result"
    }
   ],
   "source": [
    "F_base.to(torch.float64).detach().numpy().squeeze()"
   ]
  },
  {
   "cell_type": "code",
   "execution_count": 39,
   "metadata": {},
   "outputs": [
    {
     "data": {
      "text/plain": [
       "array([[0., 0.]])"
      ]
     },
     "execution_count": 39,
     "metadata": {},
     "output_type": "execute_result"
    }
   ],
   "source": [
    "END_locs[0].to(torch.float64).numpy()"
   ]
  },
  {
   "cell_type": "markdown",
   "metadata": {},
   "source": [
    "### Load the VRP NET Module"
   ]
  },
  {
   "cell_type": "code",
   "execution_count": 4,
   "metadata": {},
   "outputs": [
    {
     "name": "stdout",
     "output_type": "stream",
     "text": [
      "VRP NET loaded on:  cpu\n",
      "===============================================================================================\n",
      "Layer (type:depth-idx)                                                 Param #\n",
      "===============================================================================================\n",
      "VRPNet_L                                                               --\n",
      "├─LinearAttnEncoder: 1-1                                               2,560\n",
      "│    └─MultiheadAttention: 2-1                                         197,376\n",
      "│    │    └─NonDynamicallyQuantizableLinear: 3-1                       (65,792)\n",
      "│    └─Linear: 2-2                                                     (768)\n",
      "│    └─Linear: 2-3                                                     (8,224)\n",
      "│    └─LayerNorm: 2-4                                                  (512)\n",
      "│    └─Dropout: 2-5                                                    --\n",
      "│    └─ReLU: 2-6                                                       --\n",
      "├─Decoder: 1-2                                                         --\n",
      "│    └─TransformerDecoder: 2-7                                         --\n",
      "│    │    └─ModuleList: 3-2                                            (16,992)\n",
      "├─PositionalEncoding: 1-3                                              --\n",
      "===============================================================================================\n",
      "Total params: 292,224\n",
      "Trainable params: 0\n",
      "Non-trainable params: 292,224\n",
      "===============================================================================================\n"
     ]
    }
   ],
   "source": [
    "hidden_dim = 32\n",
    "num_layers_enc = 1\n",
    "num_layers_dec = 1\n",
    "num_heads = 8\n",
    "torch.cuda.empty_cache()\n",
    "vrp_net = VRPNet_L(dim_, hidden_dim, device, num_layers_enc, num_layers_dec, num_heads)\n",
    "if torch.cuda.is_available():\n",
    "    vrp_net.load_state_dict(torch.load('Saved models/POMO2025_04_12 00_54_260.6350972652435303best_model.pth',weights_only=True))\n",
    "else:\n",
    "    vrp_net.load_state_dict(torch.load('Saved models/POMO2025_04_12 00_54_260.6350972652435303best_model.pth',weights_only=False, map_location=torch.device('cpu')))\n",
    "vrp_net.eval()\n",
    "\n",
    "for param in vrp_net.parameters():\n",
    "    param.requires_grad = False\n",
    "print('VRP NET loaded on: ',vrp_net.device)\n",
    "print(summary(vrp_net))\n"
   ]
  },
  {
   "cell_type": "markdown",
   "metadata": {},
   "source": [
    "### Load the LSE net module"
   ]
  },
  {
   "cell_type": "code",
   "execution_count": 5,
   "metadata": {},
   "outputs": [
    {
     "name": "stdout",
     "output_type": "stream",
     "text": [
      "n_inputs: 3\n",
      "n_outputs: 1\n",
      "layers: [20, 20, 10]\n",
      "io_scale: 1\n",
      "LSE_net:\n",
      "=================================================================\n",
      "Layer (type:depth-idx)                   Param #\n",
      "=================================================================\n",
      "dnn                                      --\n",
      "├─ModuleList: 1-1                        --\n",
      "│    └─Linear: 2-1                       (80)\n",
      "│    └─ReLU: 2-2                         --\n",
      "│    └─Linear: 2-3                       (420)\n",
      "│    └─ReLU: 2-4                         --\n",
      "│    └─Linear: 2-5                       (210)\n",
      "│    └─ReLU: 2-6                         --\n",
      "│    └─Linear: 2-7                       (11)\n",
      "=================================================================\n",
      "Total params: 721\n",
      "Trainable params: 0\n",
      "Non-trainable params: 721\n",
      "=================================================================\n"
     ]
    }
   ],
   "source": [
    "importlib.reload(LSE_net)\n",
    "lse_data = torch.load('logSumExp_models/lse_2025_5_1__17_6_31.pth', weights_only=False)\n",
    "n_inputs = lse_data['n_inputs']\n",
    "n_outputs = lse_data['n_outputs']\n",
    "layers = lse_data['layers']\n",
    "weights = lse_data['model_state_dict']\n",
    "io_scale = lse_data['io_scale']\n",
    "lse_net = LSE_net.dnn(n_inputs, n_outputs, layers)\n",
    "lse_net.to(device)\n",
    "lse_net.load_state_dict(weights)\n",
    "lse_net.eval()\n",
    "for p in lse_net.parameters():\n",
    "    p.requires_grad = False\n",
    "print(f'n_inputs: {n_inputs}\\nn_outputs: {n_outputs}\\nlayers: {layers}\\nio_scale: {io_scale}\\nLSE_net:\\n{summary(lse_net)}')"
   ]
  },
  {
   "cell_type": "markdown",
   "metadata": {},
   "source": [
    "### Some functions for free energy approximation"
   ]
  },
  {
   "cell_type": "code",
   "execution_count": 6,
   "metadata": {},
   "outputs": [],
   "source": [
    "def logSumExp(D_tensor, beta):\n",
    "    # with torch.no_grad():\n",
    "    # print(D_tensor)\n",
    "    D_min = torch.min(D_tensor, axis=1, keepdims=True)\n",
    "    F = -1/beta * torch.log(torch.sum(torch.exp(-beta*(D_tensor - D_min.values)), axis=1, keepdims=True)) + 1/beta * torch.log(torch.tensor([D_tensor.shape[1]])) + D_min.values\n",
    "    return F\n",
    "\n",
    "def area_approx_F(D_min, D_max_range, beta, printCalculations=False):\n",
    "    min_beta_D_arr = beta * D_min\n",
    "    x_max = beta * D_max_range - min_beta_D_arr\n",
    "    F_est = -1/beta * torch.log(1/x_max * (1 - torch.exp(-x_max))) + D_min\n",
    "    \n",
    "    if printCalculations:\n",
    "        print(f'min_beta_D_arr:{min_beta_D_arr}')\n",
    "        print(f'x_max:{x_max}')\n",
    "        print(f'inside_log:{1/x_max * (1 - torch.exp(-x_max))}')\n",
    "        print(f'log:{torch.log(1/x_max * (1 - torch.exp(-x_max)))}')\n",
    "        print(f'-1/beta_log:\\n{-1/beta * torch.log(1/x_max * (1 - torch.exp(-x_max)))}')\n",
    "        \n",
    "    return F_est"
   ]
  },
  {
   "cell_type": "markdown",
   "metadata": {},
   "source": [
    "### Functions to modularize the entire implementation including forward passes of VRP and LSE nets, optimization at fixed beta, annealing iterations"
   ]
  },
  {
   "cell_type": "code",
   "execution_count": 40,
   "metadata": {},
   "outputs": [],
   "source": [
    "# Shortest path and its gradient wrt facility locations\n",
    "def VRPNet_pass(vrp_net, F_locs, returnGrad=False):\n",
    "    data = torch.cat((START_locs, F_locs, END_locs), dim=1)  # shape: (Nd, Nf+2, D)\n",
    "\n",
    "    s = time.time()\n",
    "    _, actions = vrp_net(data, mod='eval_greedy')\n",
    "    e = time.time()\n",
    "    actions.detach()\n",
    "    D_min_drones = utils.route_cost(data, actions).view(-1,1)\n",
    "    if returnGrad:\n",
    "        gradient = torch.autograd.grad(outputs=D_min_drones, inputs=F_locs,\n",
    "                                grad_outputs=torch.ones_like(D_min_drones),\n",
    "                                create_graph=True)\n",
    "        dDmin_dFlocs = gradient[0]\n",
    "    else:\n",
    "        dDmin_dFlocs = None\n",
    "\n",
    "    return D_min_drones, dDmin_dFlocs, e-s\n",
    "\n",
    "# Free energy as a function of shortest path, and its gradients\n",
    "def LSENet_pass(lse_net, D_min_drones, D_max_range, beta, beta_min, returnGrad=False):\n",
    "    device = D_min_drones.device\n",
    "    # with torch.no_grad():\n",
    "    Fmin_est = area_approx_F(D_min_drones, D_max_range=D_max_range, beta=beta_min, printCalculations=False).detach()\n",
    "    In_lse = torch.cat((\n",
    "        Fmin_est.to(device),\n",
    "        D_min_drones,\n",
    "        (torch.ones(D_min_drones.shape,device=device)*torch.log(torch.tensor([beta],device=device))/torch.log(torch.tensor([10.0],device=device)))\n",
    "    ), axis=1)\n",
    "    FreeEnergy = lse_net(In_lse)\n",
    "    if returnGrad:\n",
    "        gradient = torch.autograd.grad(outputs=FreeEnergy, inputs=In_lse,\n",
    "                                grad_outputs=torch.ones_like(FreeEnergy),\n",
    "                                create_graph=True)\n",
    "        # dFreeE_dDmin = gradient[0].view(num_drones,1,1)\n",
    "        dFreeE_dDmin = gradient[0][:,1].view(-1,1).view(num_drones,1,1)\n",
    "    else:\n",
    "        dFreeE_dDmin = None\n",
    "\n",
    "    return FreeEnergy, dFreeE_dDmin\n",
    "\n",
    "# gradient descent step\n",
    "def gradient_descent_step(Y, dY, eta):\n",
    "    Y = Y - eta * dY\n",
    "    return Y\n",
    "\n",
    "# optimize using gradient descent at given beta\n",
    "def GD_at_beta0(F_base0, num_drones, vrp_net, lse_net, iters, optim_stepsize, beta_min, beta, D_max_range, allowPrint=False):\n",
    "\n",
    "    F_base = F_base0\n",
    "    assert(F_base.requires_grad == True)\n",
    "\n",
    "    for i in range(iters):\n",
    "        \n",
    "        F_locs = F_base.expand(num_drones, -1, -1)  # view, shares grad with F_base\n",
    "        \n",
    "        # free energy and gradients using VRP_net and LSE_net\n",
    "        D_min_drones, dDmin_dFlocs, _ = VRPNet_pass(vrp_net, F_locs, returnGrad=True)\n",
    "        freeEnergy_drones, dFreeE_dDmin = LSENet_pass(\n",
    "            lse_net, D_min_drones, D_max_range=D_max_range, \n",
    "            beta=beta, beta_min=beta_min, returnGrad=True)\n",
    "\n",
    "        torch.cuda.empty_cache()\n",
    "\n",
    "        # total gradient using chain rule and backpropagation\n",
    "        total_gradient = dDmin_dFlocs * dFreeE_dDmin\n",
    "        G = torch.mean(total_gradient, axis=0)\n",
    "\n",
    "        # optimizer step\n",
    "        F_base = gradient_descent_step(F_base, G, optim_stepsize)\n",
    "\n",
    "        # print data\n",
    "        if allowPrint:\n",
    "            print(f'iter: {i}\\tFreeE: {torch.mean(freeEnergy_drones):.4e}\\tdDmin: {torch.max(torch.abs(dDmin_dFlocs)):.4e}\\tdFreeE: {torch.max(torch.abs(dFreeE_dDmin)):.4e}\\t G:{torch.max(torch.abs(G)):.4e}')\n",
    "\n",
    "    return F_base, freeEnergy_drones, G\n",
    "\n",
    "# optimize using gradient descent at given beta\n",
    "def GD_at_beta1(F_base0, num_drones, vrp_net, lse_net, iters, optim_stepsize, beta_min, beta, D_max_range, allowPrint=False):\n",
    "\n",
    "    F_base = F_base0\n",
    "    assert(F_base.requires_grad == True)\n",
    "\n",
    "    for i in range(iters):\n",
    "        \n",
    "        F_locs = F_base.expand(num_drones, -1, -1)  # view, shares grad with F_base\n",
    "        \n",
    "        # free energy and gradients using VRP_net and LSE_net\n",
    "        D_min_drones, _, _ = VRPNet_pass(vrp_net, F_locs, returnGrad=False)\n",
    "        freeEnergy_drones, _ = LSENet_pass(\n",
    "            lse_net, D_min_drones, D_max_range=D_max_range, \n",
    "            beta=beta, beta_min=beta_min, returnGrad=False)\n",
    "        freeEnergy = torch.mean(freeEnergy_drones)\n",
    "\n",
    "        torch.cuda.empty_cache()\n",
    "\n",
    "        # total gradient using chain rule and backpropagation\n",
    "        total_gradient = torch.autograd.grad(outputs=freeEnergy, inputs=F_base,\n",
    "                                grad_outputs=torch.ones_like(freeEnergy),\n",
    "                                create_graph=True)\n",
    "        G = total_gradient[0]\n",
    "\n",
    "        # optimizer step\n",
    "        F_base = gradient_descent_step(F_base, G, eta)\n",
    "\n",
    "        # print data\n",
    "        if allowPrint:\n",
    "            print(f'iter: {i}\\tFreeE: {freeEnergy:.4e}\\tG:{torch.max(torch.abs(G)):.4e}')\n",
    "\n",
    "    return F_base, freeEnergy_drones, G\n",
    "\n",
    "\n",
    "def Adam_at_beta(F_base0, num_drones, vrp_net, lse_net, iters, optim_stepsize, beta_min, beta, D_max_range, allowPrint=False):\n",
    "\n",
    "    F_base = F_base0\n",
    "    assert(F_base.requires_grad == True)\n",
    "    optimizer = optim.Adam([F_base], lr=optim_stepsize)\n",
    "\n",
    "    for i in range(iters):\n",
    "        F_locs = F_base.expand(num_drones, -1, -1)  # view, shares grad with F_base\n",
    "        \n",
    "        # free energy and gradients using VRP_net and LSE_net\n",
    "        D_min_drones, _, _ = VRPNet_pass(vrp_net, F_locs)\n",
    "        freeEnergy_drones, _ = LSENet_pass(\n",
    "            lse_net, D_min_drones, D_max_range=D_max_range, beta=beta, beta_min=beta_min)\n",
    "        FreeEnergy = torch.mean(freeEnergy_drones)\n",
    "\n",
    "        torch.cuda.empty_cache()\n",
    "\n",
    "        # compute gradient of free energy wrt F_base using backpropagation\n",
    "        optimizer.zero_grad()\n",
    "        FreeEnergy.backward()\n",
    "        G = F_base.grad\n",
    "        print(G)\n",
    "        # optimizer step\n",
    "        optimizer.step()\n",
    "\n",
    "        # print data\n",
    "        if allowPrint:\n",
    "            print(f'iter: {i}\\tFreeE: {FreeEnergy:.4e}')\n",
    "    \n",
    "    return F_base, FreeEnergy, G\n",
    "\n",
    "\n",
    "# perform annealing\n",
    "def anneal(F_base0, num_drones, vrp_net, lse_net, iters, step, beta_min, beta_max, beta_grow, D_max_range, optimizer_name, allowPrint):\n",
    "\n",
    "    beta = beta_min\n",
    "    F_base = F_base0\n",
    "    b_arr = []\n",
    "    F_arr = []\n",
    "\n",
    "    while beta <= beta_max:\n",
    "        # optimize using gradient descent iterations\n",
    "\n",
    "        if optimizer_name == 'gradient_descent0':\n",
    "            F_base, FreeEnergy, G = GD_at_beta0(\n",
    "                F_base, num_drones, vrp_net, lse_net, optim_iters, \n",
    "                optim_step, beta_min, beta, D_max_range=D_max_range, allowPrint=False)\n",
    "        \n",
    "        elif optimizer_name == 'gradient_descent1':\n",
    "            F_base, FreeEnergy, G = GD_at_beta1(\n",
    "                F_base, num_drones, vrp_net, lse_net, optim_iters, \n",
    "                optim_step, beta_min, beta, D_max_range=D_max_range, allowPrint=False)\n",
    "\n",
    "        elif optimizer_name == 'adam':\n",
    "            F_base, FreeEnergy, G = Adam_at_beta(\n",
    "                F_base, num_drones, vrp_net, lse_net, optim_iters, \n",
    "                optim_step, beta_min, beta, D_max_range=D_max_range, allowPrint=False)\n",
    "\n",
    "        # store data\n",
    "        b_arr.append(beta)\n",
    "        F_arr.append(torch.mean(FreeEnergy).detach().item())\n",
    "        # print data\n",
    "        if allowPrint:\n",
    "            print(f'beta: {beta:.4e}\\tFreeE: {torch.mean(FreeEnergy):.4f}\\tGrad: {torch.abs(torch.max(G)):.4e}')\n",
    "        # update beta\n",
    "        beta = beta * beta_grow\n",
    "\n",
    "    return F_base, b_arr, F_arr\n",
    "\n",
    "\n",
    "    "
   ]
  },
  {
   "cell_type": "markdown",
   "metadata": {},
   "source": [
    "### Optimization loop for a single beta"
   ]
  },
  {
   "cell_type": "markdown",
   "metadata": {},
   "source": [
    "#### using gradient descent 0"
   ]
  },
  {
   "cell_type": "code",
   "execution_count": 41,
   "metadata": {},
   "outputs": [
    {
     "name": "stdout",
     "output_type": "stream",
     "text": [
      "cpu\n",
      "tensor([[[ 2.4171e-07,  2.4171e-07],\n",
      "         [ 9.7822e-07,  9.7822e-07],\n",
      "         [-1.3199e-04,  2.0183e-04],\n",
      "         [-6.3863e-06, -1.3346e-05],\n",
      "         [ 3.0868e-04,  2.1503e-04]]])\n",
      "iter: 0\tFreeE: 1.1868e+00\n"
     ]
    }
   ],
   "source": [
    "optim_iters = 1\n",
    "optim_step = 0.1\n",
    "b_min = 1e-3\n",
    "beta = 1e-3\n",
    "print(vrp_net.device)\n",
    "F_base, FreeEnergy, G = Adam_at_beta(\n",
    "    F_base, num_drones, vrp_net, lse_net, optim_iters, \n",
    "    optim_step, b_min, beta, D_max_range=2.0, allowPrint=True)\n"
   ]
  },
  {
   "cell_type": "markdown",
   "metadata": {},
   "source": [
    "#### using gradient descent 1 (comment the other two optimization implementations)"
   ]
  },
  {
   "cell_type": "code",
   "execution_count": 28,
   "metadata": {},
   "outputs": [],
   "source": [
    "# optim_iters = 500\n",
    "# optim_step = 0.001\n",
    "# b_min = 1e-3\n",
    "# beta = 1e-3\n",
    "\n",
    "# F_base, FreeEnergy, G = Adam_at_beta(\n",
    "#     F_base, num_drones, vrp_net, lse_net, optim_iters, \n",
    "#     optim_step, b_min, beta, D_max_range=2.0, allowPrint=True)\n"
   ]
  },
  {
   "cell_type": "markdown",
   "metadata": {},
   "source": [
    "#### using Adam optimizer from torch.optim (comment the other two optimization implementations)"
   ]
  },
  {
   "cell_type": "code",
   "execution_count": 27,
   "metadata": {},
   "outputs": [],
   "source": [
    "# optim_iters = 1000\n",
    "# optim_step = 0.01\n",
    "# b_min = 1e-3\n",
    "# beta = 1e-3\n",
    "\n",
    "# F_base, FreeEnergy, G = GD_at_beta1(\n",
    "#     F_base, num_drones, vrp_net, lse_net, optim_iters, \n",
    "#     optim_step, b_min, beta, D_max_range=2.0, allowPrint=True)\n"
   ]
  },
  {
   "cell_type": "code",
   "execution_count": 12,
   "metadata": {},
   "outputs": [
    {
     "data": {
      "text/plain": [
       "tensor([[[0.4715, 0.3701],\n",
       "         [0.3094, 0.2243],\n",
       "         [0.1557, 0.1132],\n",
       "         [0.4397, 0.2818],\n",
       "         [0.5035, 0.4567]]], requires_grad=True)"
      ]
     },
     "execution_count": 12,
     "metadata": {},
     "output_type": "execute_result"
    }
   ],
   "source": [
    "F_base"
   ]
  },
  {
   "cell_type": "code",
   "execution_count": 13,
   "metadata": {},
   "outputs": [
    {
     "data": {
      "image/png": "[encoded data removed]",
      "text/plain": [
       "<Figure size 400x300 with 1 Axes>"
      ]
     },
     "metadata": {},
     "output_type": "display_data"
    }
   ],
   "source": [
    "plot_UAV_FLPO(START_locs, END_locs, F_base, (4,3))"
   ]
  },
  {
   "cell_type": "markdown",
   "metadata": {},
   "source": [
    "### Annealing loop implementation"
   ]
  },
  {
   "cell_type": "code",
   "execution_count": 43,
   "metadata": {},
   "outputs": [
    {
     "name": "stdout",
     "output_type": "stream",
     "text": [
      "beta: 1.0000e-03\tFreeE: 1.3718\tGrad: 1.0314e-03\n",
      "beta: 3.0000e-03\tFreeE: 1.3534\tGrad: 9.4309e-04\n",
      "beta: 9.0000e-03\tFreeE: 1.3310\tGrad: 9.4154e-04\n",
      "beta: 2.7000e-02\tFreeE: 1.1542\tGrad: 2.6768e-03\n",
      "beta: 8.1000e-02\tFreeE: 1.0838\tGrad: 5.1806e-03\n",
      "beta: 2.4300e-01\tFreeE: 1.0567\tGrad: 6.4388e-03\n",
      "beta: 7.2900e-01\tFreeE: 0.9776\tGrad: 4.3463e-06\n",
      "beta: 2.1870e+00\tFreeE: 0.8144\tGrad: 2.9206e-07\n",
      "beta: 6.5610e+00\tFreeE: 0.5622\tGrad: 2.9206e-07\n",
      "beta: 1.9683e+01\tFreeE: 0.3717\tGrad: 2.7120e-07\n",
      "beta: 5.9049e+01\tFreeE: 0.2432\tGrad: 4.4195e-03\n",
      "beta: 1.7715e+02\tFreeE: 0.2160\tGrad: 2.0672e-02\n",
      "beta: 5.3144e+02\tFreeE: 0.1882\tGrad: 4.6555e-05\n",
      "beta: 1.5943e+03\tFreeE: 0.1873\tGrad: 3.0335e-08\n",
      "beta: 4.7830e+03\tFreeE: 0.1864\tGrad: 3.0335e-08\n",
      "beta: 1.4349e+04\tFreeE: 0.1855\tGrad: 3.0335e-08\n",
      "beta: 4.3047e+04\tFreeE: 0.1846\tGrad: 3.0335e-08\n"
     ]
    }
   ],
   "source": [
    "beta_min = 1e-3\n",
    "beta_max = 1e5\n",
    "beta_grow = 3\n",
    "beta = 1e-3\n",
    "optim_iters = 200\n",
    "optim_step = 0.1 # 0.1 for gd0, use < 0.01 for the other two optimizers\n",
    "\n",
    "F_base, b_arr, F_arr = anneal(\n",
    "    F_base, num_drones, vrp_net, lse_net, optim_iters, optim_step, \n",
    "    beta_min, beta_max, beta_grow, D_max_range=2.0, \n",
    "    optimizer_name='gradient_descent0', allowPrint=True)\n"
   ]
  },
  {
   "cell_type": "code",
   "execution_count": 44,
   "metadata": {},
   "outputs": [
    {
     "data": {
      "text/plain": [
       "tensor([[[0.5649, 0.2896],\n",
       "         [0.6738, 0.3355],\n",
       "         [0.2933, 0.1494],\n",
       "         [0.4400, 0.2241],\n",
       "         [0.1467, 0.0747]]], grad_fn=<SubBackward0>)"
      ]
     },
     "execution_count": 44,
     "metadata": {},
     "output_type": "execute_result"
    }
   ],
   "source": [
    "F_base"
   ]
  },
  {
   "cell_type": "code",
   "execution_count": 45,
   "metadata": {},
   "outputs": [
    {
     "data": {
      "image/png": "[encoded data removed]",
      "text/plain": [
       "<Figure size 400x300 with 1 Axes>"
      ]
     },
     "metadata": {},
     "output_type": "display_data"
    }
   ],
   "source": [
    "plot_UAV_FLPO(START_locs, END_locs, F_base, (4,3))"
   ]
  },
  {
   "cell_type": "markdown",
   "metadata": {},
   "source": [
    "### Plot free energy during annealing implementation"
   ]
  },
  {
   "cell_type": "code",
   "execution_count": 51,
   "metadata": {},
   "outputs": [
    {
     "data": {
      "image/png": "[encoded data removed]",
      "text/plain": [
       "<Figure size 1000x300 with 1 Axes>"
      ]
     },
     "metadata": {},
     "output_type": "display_data"
    }
   ],
   "source": [
    "# plot free energy evolution\n",
    "plt.figure(figsize=(10,3))\n",
    "plt.plot(np.log(b_arr)/np.log(10), F_arr, marker='.')\n",
    "plt.ylabel(rf'$F$')\n",
    "plt.xlabel(rf'$\\log_{{10}}\\beta$')\n",
    "plt.grid()\n",
    "plt.show()"
   ]
  }
 ],
 "metadata": {
  "kernelspec": {
   "display_name": "Python 3",
   "language": "python",
   "name": "python3"
  },
  "language_info": {
   "codemirror_mode": {
    "name": "ipython",
    "version": 3
   },
   "file_extension": ".py",
   "mimetype": "text/x-python",
   "name": "python",
   "nbconvert_exporter": "python",
   "pygments_lexer": "ipython3",
   "version": "3.9.6"
  }
 },
 "nbformat": 4,
 "nbformat_minor": 2
}
