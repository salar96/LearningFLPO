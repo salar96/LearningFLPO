{
 "cells": [
  {
   "cell_type": "markdown",
   "metadata": {},
   "source": [
    "# Learning FLPO"
   ]
  },
  {
   "cell_type": "markdown",
   "metadata": {},
   "source": [
    "In this code, we will implement the hierarchical ML architecture to predict the parameters in the FLPO setup."
   ]
  },
  {
   "cell_type": "code",
   "execution_count": 2,
   "metadata": {},
   "outputs": [],
   "source": [
    "import torch\n",
    "from VRP_Net import VRPNet\n",
    "from matplotlib import pyplot as plt\n",
    "from utils import *\n",
    "import os\n",
    "import matplotlib.pyplot as plt\n",
    "from torchinfo import summary"
   ]
  },
  {
   "cell_type": "markdown",
   "metadata": {},
   "source": [
    "# Loading the Data"
   ]
  },
  {
   "cell_type": "code",
   "execution_count": 3,
   "metadata": {},
   "outputs": [
    {
     "name": "stdout",
     "output_type": "stream",
     "text": [
      "Running on:  cuda\n"
     ]
    }
   ],
   "source": [
    "device = torch.device('cuda') if torch.cuda.is_available() else torch.device('cpu')\n",
    "print(\"Running on: \" , device)\n",
    "num_data = 10 # number of FLPO instances\n",
    "num_nodes = 12\n",
    "city_dim = 2\n",
    "data = torch.rand(num_data,num_nodes,city_dim).to(device)"
   ]
  },
  {
   "cell_type": "markdown",
   "metadata": {},
   "source": [
    "# Loading the VRP NET Module"
   ]
  },
  {
   "cell_type": "code",
   "execution_count": 4,
   "metadata": {},
   "outputs": [
    {
     "name": "stdout",
     "output_type": "stream",
     "text": [
      "VRP NET loaded.\n",
      "===============================================================================================\n",
      "Layer (type:depth-idx)                                                 Param #\n",
      "===============================================================================================\n",
      "VRPNet                                                                 --\n",
      "├─Encoder: 1-1                                                         --\n",
      "│    └─Linear: 2-1                                                     384\n",
      "│    └─PositionalEncoding: 2-2                                         --\n",
      "│    └─TransformerEncoder: 2-3                                         --\n",
      "│    │    └─ModuleList: 3-1                                            594,816\n",
      "├─Decoder: 1-2                                                         --\n",
      "│    └─TransformerDecoder: 2-4                                         --\n",
      "│    │    └─ModuleList: 3-2                                            793,728\n",
      "├─PositionalEncoding: 1-3                                              --\n",
      "===============================================================================================\n",
      "Total params: 1,388,928\n",
      "Trainable params: 1,388,928\n",
      "Non-trainable params: 0\n",
      "===============================================================================================\n"
     ]
    }
   ],
   "source": [
    "hidden_dim = 128\n",
    "num_layers = 3\n",
    "num_heads = 8\n",
    "input_dim = 2\n",
    "num_samples = 5 # for inference\n",
    "vrpnet = VRPNet(input_dim,hidden_dim,device,num_heads=num_heads,num_enc_layers=num_layers,num_dec_layers=num_layers,use_PE=False)\n",
    "vrpnet.load_state_dict(torch.load('Saved models/POMO2025_03_12 11_03_550.8357473611831665best_model.pth',weights_only=True))\n",
    "vrpnet.eval()\n",
    "print('VRP NET loaded.')\n",
    "print(summary(vrpnet))"
   ]
  },
  {
   "cell_type": "markdown",
   "metadata": {},
   "source": [
    "# Generating d_min"
   ]
  },
  {
   "cell_type": "code",
   "execution_count": 6,
   "metadata": {},
   "outputs": [
    {
     "name": "stdout",
     "output_type": "stream",
     "text": [
      "d_mins for all data are:  [tensor(0.0866), tensor(0.2088), tensor(0.7325), tensor(0.4038), tensor(0.5385), tensor(0.0077), tensor(0.6882), tensor(0.5132), tensor(0.9509), tensor(0.0915)]\n"
     ]
    }
   ],
   "source": [
    "all_samples = torch.zeros(num_data, num_nodes, num_samples).to(device)\n",
    "for i in range(num_samples):\n",
    "    _, actions = vrpnet(data, mod='train')\n",
    "    all_samples[:,:,i:i+1] = actions\n",
    "opt_sample_indices = []\n",
    "d_mins = []\n",
    "for data_idx in range(num_data):\n",
    "    costs_for_data = [route_cost(data[data_idx:data_idx+1], all_samples[data_idx:data_idx+1, :, sample_idx]) for sample_idx in range(num_samples)]\n",
    "    costs_tensor = torch.tensor(costs_for_data)\n",
    "    d_min, opt_sample_index = torch.min(costs_tensor, dim=0)  \n",
    "    opt_sample_indices.append(opt_sample_index.item())\n",
    "    d_mins.append(d_min)  \n",
    "opt_sample_indices = torch.tensor(opt_sample_indices)\n",
    "actions = all_samples[torch.arange(num_data),:,opt_sample_indices]\n",
    "print(\"d_mins for all data are: \",d_mins)"
   ]
  },
  {
   "cell_type": "markdown",
   "metadata": {},
   "source": [
    "# Loading Free Energy Network"
   ]
  },
  {
   "cell_type": "markdown",
   "metadata": {},
   "source": [
    "Dhananjay's code for loading his DNN is here. The output of this block should be Y."
   ]
  },
  {
   "cell_type": "markdown",
   "metadata": {},
   "source": [
    "# Calculating Free Energy"
   ]
  },
  {
   "cell_type": "markdown",
   "metadata": {},
   "source": [
    "Feeding the d_min from Salar Block to get the Free energy"
   ]
  },
  {
   "cell_type": "markdown",
   "metadata": {},
   "source": [
    "# Calculating the gradients"
   ]
  },
  {
   "cell_type": "markdown",
   "metadata": {},
   "source": [
    "The output of this block shoud be dF/dy"
   ]
  },
  {
   "cell_type": "markdown",
   "metadata": {},
   "source": [
    "# Running CLF to determin Y"
   ]
  },
  {
   "cell_type": "markdown",
   "metadata": {},
   "source": [
    "The GD code here"
   ]
  },
  {
   "cell_type": "markdown",
   "metadata": {},
   "source": [
    "# Closing the Beta Loop for Annealing"
   ]
  },
  {
   "cell_type": "markdown",
   "metadata": {},
   "source": []
  }
 ],
 "metadata": {
  "kernelspec": {
   "display_name": "Python 3",
   "language": "python",
   "name": "python3"
  },
  "language_info": {
   "codemirror_mode": {
    "name": "ipython",
    "version": 3
   },
   "file_extension": ".py",
   "mimetype": "text/x-python",
   "name": "python",
   "nbconvert_exporter": "python",
   "pygments_lexer": "ipython3",
   "version": "3.10.0"
  }
 },
 "nbformat": 4,
 "nbformat_minor": 2
}
