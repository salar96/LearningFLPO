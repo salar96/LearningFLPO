{
 "cells": [
  {
   "cell_type": "code",
   "execution_count": 1,
   "metadata": {},
   "outputs": [],
   "source": [
    "import torch\n",
    "from VRP_Net_L import VRPNet_L\n",
    "from matplotlib import pyplot as plt\n",
    "import utils\n",
    "import matplotlib.pyplot as plt\n",
    "from torchinfo import summary\n",
    "import numpy as np\n",
    "import LSE_net\n",
    "import importlib\n",
    "from DatasetGenerator import generate_dataset, torchFLPO_2_numpyFLPO\n",
    "from viz import plot_UAV_FLPO, plot_UAV_FLPO_3D\n",
    "import Animator\n",
    "from pathlib import Path\n",
    "import GD\n",
    "from Anneal import anneal"
   ]
  },
  {
   "cell_type": "code",
   "execution_count": 2,
   "metadata": {},
   "outputs": [
    {
     "name": "stdout",
     "output_type": "stream",
     "text": [
      "Running on:  cuda\n"
     ]
    }
   ],
   "source": [
    "seed=0;\n",
    "torch.manual_seed(seed)\n",
    "torch.cuda.manual_seed(seed)\n",
    "torch.cuda.manual_seed_all(seed)\n",
    "device = torch.device('cuda') if torch.cuda.is_available() else torch.device('cpu')\n",
    "np.random.seed(seed)\n",
    "print(\"Running on: \" , device)"
   ]
  },
  {
   "cell_type": "markdown",
   "metadata": {},
   "source": [
    "### Initialize an FLPO scenario"
   ]
  },
  {
   "cell_type": "markdown",
   "metadata": {},
   "source": [
    "Run the below command if you encounter errors running the plotting block."
   ]
  },
  {
   "cell_type": "code",
   "execution_count": 3,
   "metadata": {},
   "outputs": [],
   "source": [
    "# !pip install nbformat --upgrade\n"
   ]
  },
  {
   "cell_type": "code",
   "execution_count": 4,
   "metadata": {},
   "outputs": [
    {
     "name": "stdout",
     "output_type": "stream",
     "text": [
      "num_drones = 100\tnum_facilities = 200\tdim = 2\n",
      "Data Created.\n"
     ]
    }
   ],
   "source": [
    "num_drones = 100\n",
    "n_drone_clusters = 10\n",
    "drone_cluster_split = np.random.uniform(0.0, 1.0, n_drone_clusters)\n",
    "drone_cluster_split = drone_cluster_split / np.sum(drone_cluster_split)\n",
    "num_facilities = 200\n",
    "num_distinct_ends = 20\n",
    "dim_ = 2\n",
    "print(f\"num_drones = {num_drones}\\tnum_facilities = {num_facilities}\\tdim = {dim_}\")\n",
    "\n",
    "START_locs, F_base, END_locs = generate_dataset(\n",
    "    num_drones, n_drone_clusters, drone_cluster_split, num_facilities, dim_, device, drone_cluster_std_range=[0.02, 0.05], F_noise_std=0.1,num_distinct_ends=num_distinct_ends\n",
    ")\n",
    "np_flpo_filename = 'numpy_FLPO_data/numpy_FLPO_data'\n",
    "torchFLPO_2_numpyFLPO(START_locs, END_locs, F_base, np_flpo_filename, scale=1.0)\n",
    "\n",
    "# plot_UAV_FLPO(START_locs, END_locs, F_base)\n",
    "# plot_UAV_FLPO_3D(START_locs, END_locs, F_base)"
   ]
  },
  {
   "cell_type": "markdown",
   "metadata": {},
   "source": [
    "### Load the VRP NET Module"
   ]
  },
  {
   "cell_type": "code",
   "execution_count": 5,
   "metadata": {},
   "outputs": [
    {
     "name": "stdout",
     "output_type": "stream",
     "text": [
      "Model created.\n",
      "VRP NET loaded on:  cuda\n",
      "===============================================================================================\n",
      "Layer (type:depth-idx)                                                 Param #\n",
      "===============================================================================================\n",
      "VRPNet_L                                                               --\n",
      "├─LinearAttnEncoder: 1-1                                               2,048\n",
      "│    └─ModuleList: 2-1                                                 --\n",
      "│    │    └─MultiheadAttention: 3-1                                    (66,048)\n",
      "│    │    └─MultiheadAttention: 3-2                                    (66,048)\n",
      "│    │    └─MultiheadAttention: 3-3                                    (66,048)\n",
      "│    │    └─MultiheadAttention: 3-4                                    (66,048)\n",
      "│    │    └─MultiheadAttention: 3-5                                    (66,048)\n",
      "│    │    └─MultiheadAttention: 3-6                                    (66,048)\n",
      "│    └─ModuleList: 2-2                                                 --\n",
      "│    │    └─MultiheadAttention: 3-7                                    (66,048)\n",
      "│    │    └─MultiheadAttention: 3-8                                    (66,048)\n",
      "│    │    └─MultiheadAttention: 3-9                                    (66,048)\n",
      "│    │    └─MultiheadAttention: 3-10                                   (66,048)\n",
      "│    │    └─MultiheadAttention: 3-11                                   (66,048)\n",
      "│    │    └─MultiheadAttention: 3-12                                   (66,048)\n",
      "│    └─Linear: 2-3                                                     (512)\n",
      "│    └─Linear: 2-4                                                     (8,256)\n",
      "│    └─LayerNorm: 2-5                                                  (256)\n",
      "│    └─Dropout: 2-6                                                    --\n",
      "│    └─ReLU: 2-7                                                       --\n",
      "├─Decoder: 1-2                                                         --\n",
      "│    └─PositionalEncoding: 2-8                                         --\n",
      "│    └─TransformerDecoder: 2-9                                         --\n",
      "│    │    └─ModuleList: 3-13                                           (200,256)\n",
      "===============================================================================================\n",
      "Total params: 1,003,904\n",
      "Trainable params: 0\n",
      "Non-trainable params: 1,003,904\n",
      "===============================================================================================\n"
     ]
    }
   ],
   "source": [
    "torch.cuda.empty_cache()\n",
    "model_classes = {\"VRPNet_L\": VRPNet_L}\n",
    "weights_address = (\n",
    "    Path(\"Saved_models\") /\n",
    "    \"VRPNet_L_lr1e-04_bs32_ep60000_samples1920000_cities50_inputdim2_\"\n",
    "    \"workers0_hidden64_enc1_dec1_heads8_dropout0.30_\"\n",
    "    \"train_PO_2025_05_17_22_43_32last_model.pth\"\n",
    ")\n",
    "vrp_net = utils.load_model(\n",
    "    weights_address, model_classes, weights_only=True, device=device\n",
    ")\n",
    "for param in vrp_net.parameters():\n",
    "    param.requires_grad = False\n",
    "print(\"VRP NET loaded on: \", vrp_net.device)\n",
    "print(summary(vrp_net))"
   ]
  },
  {
   "cell_type": "markdown",
   "metadata": {},
   "source": [
    "### Load the LSE net module"
   ]
  },
  {
   "cell_type": "code",
   "execution_count": 6,
   "metadata": {},
   "outputs": [
    {
     "name": "stdout",
     "output_type": "stream",
     "text": [
      "D_max_scale: 5.0\n",
      "n_inputs: 3\n",
      "n_outputs: 1\n",
      "layers: [20, 20, 10]\n",
      "io_scale: 1\n",
      "LSE_net:\n",
      "=================================================================\n",
      "Layer (type:depth-idx)                   Param #\n",
      "=================================================================\n",
      "dnn                                      --\n",
      "├─ModuleList: 1-1                        --\n",
      "│    └─Linear: 2-1                       (80)\n",
      "│    └─ReLU: 2-2                         --\n",
      "│    └─Linear: 2-3                       (420)\n",
      "│    └─ReLU: 2-4                         --\n",
      "│    └─Linear: 2-5                       (210)\n",
      "│    └─ReLU: 2-6                         --\n",
      "│    └─Linear: 2-7                       (11)\n",
      "=================================================================\n",
      "Total params: 721\n",
      "Trainable params: 0\n",
      "Non-trainable params: 721\n",
      "=================================================================\n"
     ]
    }
   ],
   "source": [
    "importlib.reload(LSE_net)\n",
    "lse_data = torch.load('logSumExp_models/lse_2025_5_19__15_47_58.pth', weights_only=False)\n",
    "n_inputs = lse_data['n_inputs']\n",
    "n_outputs = lse_data['n_outputs']\n",
    "layers = lse_data['layers']\n",
    "weights = lse_data['model_state_dict']\n",
    "io_scale = lse_data['io_scale']\n",
    "D_max_range = lse_data['D_max_range']\n",
    "lse_net = LSE_net.dnn(n_inputs, n_outputs, layers)\n",
    "lse_net.to(device)\n",
    "lse_net.load_state_dict(weights)\n",
    "lse_net.eval()\n",
    "for p in lse_net.parameters():\n",
    "    p.requires_grad = False\n",
    "print(f'D_max_scale: {D_max_range}\\nn_inputs: {n_inputs}\\nn_outputs: {n_outputs}\\nlayers: {layers}\\nio_scale: {io_scale}\\nLSE_net:\\n{summary(lse_net)}')"
   ]
  },
  {
   "cell_type": "markdown",
   "metadata": {},
   "source": [
    "### Optimization loop for a single beta\n",
    "Warning: Use $\\beta >= 1e-3$, as the free energy approximation is poor for $\\beta < 5e-4$ with torch.float32 datatype."
   ]
  },
  {
   "cell_type": "code",
   "execution_count": null,
   "metadata": {},
   "outputs": [],
   "source": [
    "optim_iters = 200\n",
    "optim_step = 0.01\n",
    "b_min = 1e-3\n",
    "beta = 1e3\n",
    "tol = 1e-3\n",
    "\n",
    "print(D_max_range)\n",
    "Y_arr, FreeEnergy, G = GD.Adam_at_beta(\n",
    "    F_base, START_locs, END_locs, vrp_net, lse_net, optim_iters,\n",
    "    optim_step, b_min, beta, D_max_range=D_max_range, tol=tol, allowPrint=True, return_list= True)\n",
    "\n",
    "# F_base, FreeEnergy, G = GD.GD_at_beta1(\n",
    "#     F_base, START_locs, END_locs, vrp_net, lse_net, optim_iters, \n",
    "#     optim_step, b_min, beta, D_max_range=D_max_range, tol=tol, allowPrint=True)\n",
    "\n",
    "# F_base, FreeEnergy, G = GD.GD_at_beta0(\n",
    "#     F_base, START_locs, END_locs, vrp_net, lse_net, optim_iters, \n",
    "#     optim_step, b_min, beta, D_max_range=D_max_range, tol=tol, allowPrint=True)"
   ]
  },
  {
   "cell_type": "code",
   "execution_count": null,
   "metadata": {},
   "outputs": [
    {
     "data": {
      "image/png": "[encoded data removed]",
      "text/plain": [
       "<Figure size 400x300 with 1 Axes>"
      ]
     },
     "metadata": {},
     "output_type": "display_data"
    },
    {
     "data": {
      "application/vnd.plotly.v1+json": {
       "config": {
        "plotlyServerURL": "https://plot.ly"
       },
       "data": [
        {
         "mode": "text",
         "name": "Drone Start",
         "text": [
          "𖥂",
          "𖥂",
          "𖥂",
          "𖥂",
          "𖥂",
          "𖥂",
          "𖥂",
          "𖥂",
          "𖥂",
          "𖥂",
          "𖥂",
          "𖥂",
          "𖥂",
          "𖥂",
          "𖥂",
          "𖥂",
          "𖥂",
          "𖥂",
          "𖥂",
          "𖥂",
          "𖥂",
          "𖥂",
          "𖥂",
          "𖥂",
          "𖥂",
          "𖥂",
          "𖥂",
          "𖥂",
          "𖥂",
          "𖥂",
          "𖥂",
          "𖥂",
          "𖥂",
          "𖥂",
          "𖥂",
          "𖥂",
          "𖥂",
          "𖥂",
          "𖥂",
          "𖥂",
          "𖥂",
          "𖥂",
          "𖥂",
          "𖥂",
          "𖥂",
          "𖥂",
          "𖥂",
          "𖥂",
          "𖥂",
          "𖥂",
          "𖥂",
          "𖥂",
          "𖥂",
          "𖥂",
          "𖥂",
          "𖥂",
          "𖥂",
          "𖥂",
          "𖥂",
          "𖥂",
          "𖥂",
          "𖥂",
          "𖥂",
          "𖥂",
          "𖥂",
          "𖥂",
          "𖥂",
          "𖥂",
          "𖥂",
          "𖥂",
          "𖥂",
          "𖥂",
          "𖥂",
          "𖥂",
          "𖥂",
          "𖥂",
          "𖥂",
          "𖥂",
          "𖥂",
          "𖥂",
          "𖥂",
          "𖥂",
          "𖥂",
          "𖥂",
          "𖥂",
          "𖥂",
          "𖥂",
          "𖥂",
          "𖥂",
          "𖥂",
          "𖥂",
          "𖥂",
          "𖥂",
          "𖥂",
          "𖥂",
          "𖥂",
          "𖥂",
          "𖥂",
          "𖥂",
          "𖥂"
         ],
         "textfont": {
          "color": "cyan",
          "size": 16
         },
         "type": "scatter3d",
         "x": {
          "bdata": "LKvnPnP+vT5JJ/s+H/zuPhEJ5D5Sk9U+yNECP+2iDj/aAPs+HKugPoYYrj4JV7Y+YL6fPi0OrD6zFos+Zp6mPvPzkD5yxpc+3xOOPteVpD5nYw4/lUvfPkVV6z5Ni/s+GlnbPlJJ/j7+r+E+TYcJP0TH4z7vwBY9rI1FvPRgOLzAHYQ7nImKPDKk1bwcOtk7WBgxvJScLj83Njk/xgkzP4bWNT8oqTA/gag2P9igMD8ijTI/vT0mP63EKz+Q2R4/yp8gP08IMz9P/C8/JwU1P3srMz/UTs4+HRXPPsTQ2j7ULMg+NJPUPpVfzz5+e+o+g8RHPoC6Gj7gsgU+X59MPjxFST6j5Tw+8i89PjRRRj5SQm0++goAPtN8Lj7UfD4+1HMzPqMjeT5a+fg9yJcUPsaKbz4oEEo+aiwBPlYX0D3SvSs+QkAaPuZ+Cj5JLyo+Abe6Pfc3JT4+FD0+Wir6PTZDaj4jAG8+ddxIPueTXD5hEIE++ilUPp3RgD7MzH8+zO5JPp64Vz4p0x4+0n1gPg==",
          "dtype": "f4"
         },
         "y": {
          "bdata": "1KY/PzxgRj8G1T0/XstAP4BiQD+0XV8/cn5CP2SYUj/PAVM/rg4fPwD6HT/ZdCc/jcIcP7CKJz+8LCA/v8skPw+HIT8X7Cw/JhMsP+45Hz9F6Ro/9BkjPz7zHT8dvSk/JjQjP/zEIj/2/CA/gzkQP/yZJD/q2vU9l9Q3PrGLRj7pbTs+PiQkPstMQz4NJUk+FoY/Pgt5Uz+OxEk/eNlBP+2xUz+2R1w/7fNJP4uKbT8G83I/pXVvP6NyYz/D+ms/IclkP4FIcj+SX24/AvddP0loWz+eRSE/x2whP2sJCj/qIg8/ONgZPwPb6j59Sg0/qHjFPpWPxT7NCrw+Kn6rPolVwD5/QLk+hq2kPtY5wz7nwsI+hMeyPh6vwz4Ostc+UPq/PhPy0T4yaI8+uNF4PioVXT4fiZE+yyzFPtNmkD4HU5M+knC4Pk/pnD6/ZYQ+xhpfPr1AmD5obEA+kPxuPsY6YT57rWo/+Bd3P51TZD9bKXE/UJttP4xtbD9SOnI/oGxeP9o0bD8binQ/hSNuPw==",
          "dtype": "f4"
         },
         "z": {
          "bdata": "AAAAAAAA8D8AAAAAAADwPwAAAAAAAPA/AAAAAAAA8D8AAAAAAADwPwAAAAAAAPA/AAAAAAAA8D8AAAAAAADwPwAAAAAAAPA/AAAAAAAA8D8AAAAAAADwPwAAAAAAAPA/AAAAAAAA8D8AAAAAAADwPwAAAAAAAPA/AAAAAAAA8D8AAAAAAADwPwAAAAAAAPA/AAAAAAAA8D8AAAAAAADwPwAAAAAAAPA/AAAAAAAA8D8AAAAAAADwPwAAAAAAAPA/AAAAAAAA8D8AAAAAAADwPwAAAAAAAPA/AAAAAAAA8D8AAAAAAADwPwAAAAAAAPA/AAAAAAAA8D8AAAAAAADwPwAAAAAAAPA/AAAAAAAA8D8AAAAAAADwPwAAAAAAAPA/AAAAAAAA8D8AAAAAAADwPwAAAAAAAPA/AAAAAAAA8D8AAAAAAADwPwAAAAAAAPA/AAAAAAAA8D8AAAAAAADwPwAAAAAAAPA/AAAAAAAA8D8AAAAAAADwPwAAAAAAAPA/AAAAAAAA8D8AAAAAAADwPwAAAAAAAPA/AAAAAAAA8D8AAAAAAADwPwAAAAAAAPA/AAAAAAAA8D8AAAAAAADwPwAAAAAAAPA/AAAAAAAA8D8AAAAAAADwPwAAAAAAAPA/AAAAAAAA8D8AAAAAAADwPwAAAAAAAPA/AAAAAAAA8D8AAAAAAADwPwAAAAAAAPA/AAAAAAAA8D8AAAAAAADwPwAAAAAAAPA/AAAAAAAA8D8AAAAAAADwPwAAAAAAAPA/AAAAAAAA8D8AAAAAAADwPwAAAAAAAPA/AAAAAAAA8D8AAAAAAADwPwAAAAAAAPA/AAAAAAAA8D8AAAAAAADwPwAAAAAAAPA/AAAAAAAA8D8AAAAAAADwPwAAAAAAAPA/AAAAAAAA8D8AAAAAAADwPwAAAAAAAPA/AAAAAAAA8D8AAAAAAADwPwAAAAAAAPA/AAAAAAAA8D8AAAAAAADwPwAAAAAAAPA/AAAAAAAA8D8AAAAAAADwPwAAAAAAAPA/AAAAAAAA8D8AAAAAAADwPwAAAAAAAPA/AAAAAAAA8D8=",
          "dtype": "f8"
         }
        },
        {
         "mode": "text",
         "name": "Drone End",
         "text": [
          "📍",
          "📍",
          "📍",
          "📍",
          "📍",
          "📍",
          "📍",
          "📍",
          "📍",
          "📍",
          "📍",
          "📍",
          "📍",
          "📍",
          "📍",
          "📍",
          "📍",
          "📍",
          "📍",
          "📍",
          "📍",
          "📍",
          "📍",
          "📍",
          "📍",
          "📍",
          "📍",
          "📍",
          "📍",
          "📍",
          "📍",
          "📍",
          "📍",
          "📍",
          "📍",
          "📍",
          "📍",
          "📍",
          "📍",
          "📍",
          "📍",
          "📍",
          "📍",
          "📍",
          "📍",
          "📍",
          "📍",
          "📍",
          "📍",
          "📍",
          "📍",
          "📍",
          "📍",
          "📍",
          "📍",
          "📍",
          "📍",
          "📍",
          "📍",
          "📍",
          "📍",
          "📍",
          "📍",
          "📍",
          "📍",
          "📍",
          "📍",
          "📍",
          "📍",
          "📍",
          "📍",
          "📍",
          "📍",
          "📍",
          "📍",
          "📍",
          "📍",
          "📍",
          "📍",
          "📍",
          "📍",
          "📍",
          "📍",
          "📍",
          "📍",
          "📍",
          "📍",
          "📍",
          "📍",
          "📍",
          "📍",
          "📍",
          "📍",
          "📍",
          "📍",
          "📍",
          "📍",
          "📍",
          "📍",
          "📍"
         ],
         "textfont": {
          "color": "red",
          "size": 20
         },
         "type": "scatter3d",
         "x": {
          "bdata": "zndXP853Vz/Od1c/zndXP853Vz/r9SA/6/UgP+v1ID/r9SA/6/UgP51JJT+dSSU/nUklP51JJT+dSSU/yb61Psm+tT7JvrU+yb61Psm+tT5tKgU9bSoFPW0qBT1tKgU9bSoFPXboIj926CI/dugiP3boIj926CI/sGEVP7BhFT+wYRU/sGEVP7BhFT/eTNY+3kzWPt5M1j7eTNY+3kzWPhGb1D0Rm9Q9EZvUPRGb1D0Rm9Q9FfggPxX4ID8V+CA/FfggPxX4ID8hKqY+ISqmPiEqpj4hKqY+ISqmPrhqxz64asc+uGrHPrhqxz64asc+wRj0PsEY9D7BGPQ+wRj0PsEY9D4V/uI+Ff7iPhX+4j4V/uI+Ff7iPoNwVz6DcFc+g3BXPoNwVz6DcFc+cbrTPXG60z1xutM9cbrTPXG60z33RHI/90RyP/dEcj/3RHI/90RyP5tX2D6bV9g+m1fYPptX2D6bV9g+H5E1Px+RNT8fkTU/H5E1Px+RNT/gg8E74IPBO+CDwTvgg8E74IPBOw==",
          "dtype": "f4"
         },
         "y": {
          "bdata": "NYURPzWFET81hRE/NYURPzWFET9MaN08TGjdPExo3TxMaN08TGjdPBHdxj4R3cY+Ed3GPhHdxj4R3cY+RuX8Pkbl/D5G5fw+RuX8Pkbl/D7aOXw/2jl8P9o5fD/aOXw/2jl8P/MfIj/zHyI/8x8iP/MfIj/zHyI/7bcbP+23Gz/ttxs/7bcbP+23Gz8RZeg+EWXoPhFl6D4RZeg+EWXoPia4Zz8muGc/JrhnPya4Zz8muGc/HluCPh5bgj4eW4I+HluCPh5bgj6J7HQ/iex0P4nsdD+J7HQ/iex0P76pJj++qSY/vqkmP76pJj++qSY/FgrpPRYK6T0WCuk9FgrpPRYK6T14ONo+eDjaPng42j54ONo+eDjaPt9VID/fVSA/31UgP99VID/fVSA/3PMXP9zzFz/c8xc/3PMXP9zzFz9SzOE+UszhPlLM4T5SzOE+UszhPkytbD5MrWw+TK1sPkytbD5MrWw+cl3sPnJd7D5yXew+cl3sPnJd7D6NZKQ9jWSkPY1kpD2NZKQ9jWSkPQ==",
          "dtype": "f4"
         },
         "z": {
          "bdata": "AAAAAAAAAAAAAAAAAAAAAAAAAAAAAAAAAAAAAAAAAAAAAAAAAAAAAAAAAAAAAAAAAAAAAAAAAAAAAAAAAAAAAAAAAAAAAAAAAAAAAAAAAAAAAAAAAAAAAAAAAAAAAAAAAAAAAAAAAAAAAAAAAAAAAAAAAAAAAAAAAAAAAAAAAAAAAAAAAAAAAAAAAAAAAAAAAAAAAAAAAAAAAAAAAAAAAAAAAAAAAAAAAAAAAAAAAAAAAAAAAAAAAAAAAAAAAAAAAAAAAAAAAAAAAAAAAAAAAAAAAAAAAAAAAAAAAAAAAAAAAAAAAAAAAAAAAAAAAAAAAAAAAAAAAAAAAAAAAAAAAAAAAAAAAAAAAAAAAAAAAAAAAAAAAAAAAAAAAAAAAAAAAAAAAAAAAAAAAAAAAAAAAAAAAAAAAAAAAAAAAAAAAAAAAAAAAAAAAAAAAAAAAAAAAAAAAAAAAAAAAAAAAAAAAAAAAAAAAAAAAAAAAAAAAAAAAAAAAAAAAAAAAAAAAAAAAAAAAAAAAAAAAAAAAAAAAAAAAAAAAAAAAAAAAAAAAAAAAAAAAAAAAAAAAAAAAAAAAAAAAAAAAAAAAAAAAAAAAAAAAAAAAAAAAAAAAAAAAAAAAAAAAAAAAAAAAAAAAAAAAAAAAAAAAAAAAAAAAAAAAAAAAAAAAAAAAAAAAAAAAAAAAAAAAAAAAAAAAAAAAAAAAAAAAAAAAAAAAAAAAAAAAAAAAAAAAAAAAAAAAAAAAAAAAAAAAAAAAAAAAAAAAAAAAAAAAAAAAAAAAAAAAAAAAAAAAAAAAAAAAAAAAAAAAAAAAAAAAAAAAAAAAAAAAAAAAAAAAAAAAAAAAAAAAAAAAAAAAAAAAAAAAAAAAAAAAAAAAAAAAAAAAAAAAAAAAAAAAAAAAAAAAAAAAAAAAAAAAAAAAAAAAAAAAAAAAAAAAAAAAAAAAAAAAAAAAAAAAAAAAAAAAAAAAAAAAAAAAAAAAAAAAAAAAAAAAAAAAAAAAAAAAAAAAAAAAAAAAAAAAAAAAAAAAAAAAAAAAAAAAAAAAAAAAAAAAAAAAAAAAAAAAAA=",
          "dtype": "f8"
         }
        },
        {
         "line": {
          "color": "gray",
          "width": 3
         },
         "mode": "lines",
         "showlegend": false,
         "type": "scatter3d",
         "x": [
          0.17243769764900208,
          0.17243769764900208
         ],
         "y": [
          0.9325700402259827,
          0.9325700402259827
         ],
         "z": [
          0,
          1
         ]
        },
        {
         "line": {
          "color": "gray",
          "width": 3
         },
         "mode": "lines",
         "showlegend": false,
         "type": "scatter3d",
         "x": [
          0.7424973249435425,
          0.7424973249435425
         ],
         "y": [
          0.5770828723907471,
          0.5770828723907471
         ],
         "z": [
          0,
          1
         ]
        },
        {
         "line": {
          "color": "gray",
          "width": 3
         },
         "mode": "lines",
         "showlegend": false,
         "type": "scatter3d",
         "x": [
          0.609224259853363,
          0.609224259853363
         ],
         "y": [
          0.4967784285545349,
          0.4967784285545349
         ],
         "z": [
          0,
          1
         ]
        },
        {
         "line": {
          "color": "gray",
          "width": 3
         },
         "mode": "lines",
         "showlegend": false,
         "type": "scatter3d",
         "x": [
          0.6212421655654907,
          0.6212421655654907
         ],
         "y": [
          0.4627734422683716,
          0.4627734422683716
         ],
         "z": [
          0,
          1
         ]
        },
        {
         "line": {
          "color": "gray",
          "width": 3
         },
         "mode": "lines",
         "showlegend": false,
         "type": "scatter3d",
         "x": [
          0.6006394624710083,
          0.6006394624710083
         ],
         "y": [
          0.7696971893310547,
          0.7696971893310547
         ],
         "z": [
          0,
          1
         ]
        },
        {
         "line": {
          "color": "gray",
          "width": 3
         },
         "mode": "lines",
         "showlegend": false,
         "type": "scatter3d",
         "x": [
          0.04823656752705574,
          0.04823656752705574
         ],
         "y": [
          0.20489151775836945,
          0.20489151775836945
         ],
         "z": [
          0,
          1
         ]
        },
        {
         "line": {
          "color": "gray",
          "width": 3
         },
         "mode": "lines",
         "showlegend": false,
         "type": "scatter3d",
         "x": [
          0.6553338766098022,
          0.6553338766098022
         ],
         "y": [
          0.9042724370956421,
          0.9042724370956421
         ],
         "z": [
          0,
          1
         ]
        },
        {
         "line": {
          "color": "gray",
          "width": 3
         },
         "mode": "lines",
         "showlegend": false,
         "type": "scatter3d",
         "x": [
          0.3258608877658844,
          0.3258608877658844
         ],
         "y": [
          0.6130916476249695,
          0.6130916476249695
         ],
         "z": [
          0,
          1
         ]
        },
        {
         "line": {
          "color": "gray",
          "width": 3
         },
         "mode": "lines",
         "showlegend": false,
         "type": "scatter3d",
         "x": [
          0.36983761191368103,
          0.36983761191368103
         ],
         "y": [
          0.21204064786434174,
          0.21204064786434174
         ],
         "z": [
          0,
          1
         ]
        },
        {
         "line": {
          "color": "gray",
          "width": 3
         },
         "mode": "lines",
         "showlegend": false,
         "type": "scatter3d",
         "x": [
          0.45212095975875854,
          0.45212095975875854
         ],
         "y": [
          0.5520322322845459,
          0.5520322322845459
         ],
         "z": [
          0,
          1
         ]
        },
        {
         "line": {
          "color": "gray",
          "width": 3
         },
         "mode": "lines",
         "showlegend": false,
         "type": "scatter3d",
         "x": [
          0.5569972991943359,
          0.5569972991943359
         ],
         "y": [
          0.5783313512802124,
          0.5783313512802124
         ],
         "z": [
          0,
          1
         ]
        },
        {
         "line": {
          "color": "gray",
          "width": 3
         },
         "mode": "lines",
         "showlegend": false,
         "type": "scatter3d",
         "x": [
          0.22618383169174194,
          0.22618383169174194
         ],
         "y": [
          0.898686408996582,
          0.898686408996582
         ],
         "z": [
          0,
          1
         ]
        },
        {
         "line": {
          "color": "gray",
          "width": 3
         },
         "mode": "lines",
         "showlegend": false,
         "type": "scatter3d",
         "x": [
          0.4496358633041382,
          0.4496358633041382
         ],
         "y": [
          0.5476308465003967,
          0.5476308465003967
         ],
         "z": [
          0,
          1
         ]
        },
        {
         "line": {
          "color": "gray",
          "width": 3
         },
         "mode": "lines",
         "showlegend": false,
         "type": "scatter3d",
         "x": [
          0.13810427486896515,
          0.13810427486896515
         ],
         "y": [
          0.5564582347869873,
          0.5564582347869873
         ],
         "z": [
          0,
          1
         ]
        },
        {
         "line": {
          "color": "gray",
          "width": 3
         },
         "mode": "lines",
         "showlegend": false,
         "type": "scatter3d",
         "x": [
          0.20306585729122162,
          0.20306585729122162
         ],
         "y": [
          0.9083459973335266,
          0.9083459973335266
         ],
         "z": [
          0,
          1
         ]
        },
        {
         "line": {
          "color": "gray",
          "width": 3
         },
         "mode": "lines",
         "showlegend": false,
         "type": "scatter3d",
         "x": [
          0.40690940618515015,
          0.40690940618515015
         ],
         "y": [
          0.5463405251502991,
          0.5463405251502991
         ],
         "z": [
          0,
          1
         ]
        },
        {
         "line": {
          "color": "gray",
          "width": 3
         },
         "mode": "lines",
         "showlegend": false,
         "type": "scatter3d",
         "x": [
          0.6644232273101807,
          0.6644232273101807
         ],
         "y": [
          0.8883768916130066,
          0.8883768916130066
         ],
         "z": [
          0,
          1
         ]
        },
        {
         "line": {
          "color": "gray",
          "width": 3
         },
         "mode": "lines",
         "showlegend": false,
         "type": "scatter3d",
         "x": [
          0.07908927649259567,
          0.07908927649259567
         ],
         "y": [
          0.9584432244300842,
          0.9584432244300842
         ],
         "z": [
          0,
          1
         ]
        },
        {
         "line": {
          "color": "gray",
          "width": 3
         },
         "mode": "lines",
         "showlegend": false,
         "type": "scatter3d",
         "x": [
          0.17000022530555725,
          0.17000022530555725
         ],
         "y": [
          0.9139691591262817,
          0.9139691591262817
         ],
         "z": [
          0,
          1
         ]
        },
        {
         "line": {
          "color": "gray",
          "width": 3
         },
         "mode": "lines",
         "showlegend": false,
         "type": "scatter3d",
         "x": [
          0.44502994418144226,
          0.44502994418144226
         ],
         "y": [
          0.829617440700531,
          0.829617440700531
         ],
         "z": [
          0,
          1
         ]
        },
        {
         "line": {
          "color": "gray",
          "width": 3
         },
         "mode": "lines",
         "showlegend": false,
         "type": "scatter3d",
         "x": [
          0.12711511552333832,
          0.12711511552333832
         ],
         "y": [
          0.1538868248462677,
          0.1538868248462677
         ],
         "z": [
          0,
          1
         ]
        },
        {
         "line": {
          "color": "gray",
          "width": 3
         },
         "mode": "lines",
         "showlegend": false,
         "type": "scatter3d",
         "x": [
          0.5054122805595398,
          0.5054122805595398
         ],
         "y": [
          0.783090353012085,
          0.783090353012085
         ],
         "z": [
          0,
          1
         ]
        },
        {
         "line": {
          "color": "gray",
          "width": 3
         },
         "mode": "lines",
         "showlegend": false,
         "type": "scatter3d",
         "x": [
          0.16331027448177338,
          0.16331027448177338
         ],
         "y": [
          0.6614094972610474,
          0.6614094972610474
         ],
         "z": [
          0,
          1
         ]
        },
        {
         "line": {
          "color": "gray",
          "width": 3
         },
         "mode": "lines",
         "showlegend": false,
         "type": "scatter3d",
         "x": [
          0.23578254878520966,
          0.23578254878520966
         ],
         "y": [
          0.8917075991630554,
          0.8917075991630554
         ],
         "z": [
          0,
          1
         ]
        },
        {
         "line": {
          "color": "gray",
          "width": 3
         },
         "mode": "lines",
         "showlegend": false,
         "type": "scatter3d",
         "x": [
          0.6327478885650635,
          0.6327478885650635
         ],
         "y": [
          0.815141499042511,
          0.815141499042511
         ],
         "z": [
          0,
          1
         ]
        },
        {
         "line": {
          "color": "gray",
          "width": 3
         },
         "mode": "lines",
         "showlegend": false,
         "type": "scatter3d",
         "x": [
          0.5760661959648132,
          0.5760661959648132
         ],
         "y": [
          0.7001891732215881,
          0.7001891732215881
         ],
         "z": [
          0,
          1
         ]
        },
        {
         "line": {
          "color": "gray",
          "width": 3
         },
         "mode": "lines",
         "showlegend": false,
         "type": "scatter3d",
         "x": [
          0.41727831959724426,
          0.41727831959724426
         ],
         "y": [
          0.6565852761268616,
          0.6565852761268616
         ],
         "z": [
          0,
          1
         ]
        },
        {
         "line": {
          "color": "gray",
          "width": 3
         },
         "mode": "lines",
         "showlegend": false,
         "type": "scatter3d",
         "x": [
          0.5622220635414124,
          0.5622220635414124
         ],
         "y": [
          0.5969058275222778,
          0.5969058275222778
         ],
         "z": [
          0,
          1
         ]
        },
        {
         "line": {
          "color": "gray",
          "width": 3
         },
         "mode": "lines",
         "showlegend": false,
         "type": "scatter3d",
         "x": [
          0.6304967999458313,
          0.6304967999458313
         ],
         "y": [
          0.41449984908103943,
          0.41449984908103943
         ],
         "z": [
          0,
          1
         ]
        },
        {
         "line": {
          "color": "gray",
          "width": 3
         },
         "mode": "lines",
         "showlegend": false,
         "type": "scatter3d",
         "x": [
          0.2872300446033478,
          0.2872300446033478
         ],
         "y": [
          0.4092676043510437,
          0.4092676043510437
         ],
         "z": [
          0,
          1
         ]
        },
        {
         "line": {
          "color": "gray",
          "width": 3
         },
         "mode": "lines",
         "showlegend": false,
         "type": "scatter3d",
         "x": [
          0.17983481287956238,
          0.17983481287956238
         ],
         "y": [
          0.43993252515792847,
          0.43993252515792847
         ],
         "z": [
          0,
          1
         ]
        },
        {
         "line": {
          "color": "gray",
          "width": 3
         },
         "mode": "lines",
         "showlegend": false,
         "type": "scatter3d",
         "x": [
          0.3845479190349579,
          0.3845479190349579
         ],
         "y": [
          0.5946894288063049,
          0.5946894288063049
         ],
         "z": [
          0,
          1
         ]
        },
        {
         "line": {
          "color": "gray",
          "width": 3
         },
         "mode": "lines",
         "showlegend": false,
         "type": "scatter3d",
         "x": [
          0.30100053548812866,
          0.30100053548812866
         ],
         "y": [
          0.629331648349762,
          0.629331648349762
         ],
         "z": [
          0,
          1
         ]
        },
        {
         "line": {
          "color": "gray",
          "width": 3
         },
         "mode": "lines",
         "showlegend": false,
         "type": "scatter3d",
         "x": [
          0.5837390422821045,
          0.5837390422821045
         ],
         "y": [
          0.5482969880104065,
          0.5482969880104065
         ],
         "z": [
          0,
          1
         ]
        },
        {
         "line": {
          "color": "gray",
          "width": 3
         },
         "mode": "lines",
         "showlegend": false,
         "type": "scatter3d",
         "x": [
          0.5129263997077942,
          0.5129263997077942
         ],
         "y": [
          0.5880380272865295,
          0.5880380272865295
         ],
         "z": [
          0,
          1
         ]
        },
        {
         "line": {
          "color": "gray",
          "width": 3
         },
         "mode": "lines",
         "showlegend": false,
         "type": "scatter3d",
         "x": [
          0.4790102541446686,
          0.4790102541446686
         ],
         "y": [
          0.5763946175575256,
          0.5763946175575256
         ],
         "z": [
          0,
          1
         ]
        },
        {
         "line": {
          "color": "gray",
          "width": 3
         },
         "mode": "lines",
         "showlegend": false,
         "type": "scatter3d",
         "x": [
          0.628226101398468,
          0.628226101398468
         ],
         "y": [
          0.1792094111442566,
          0.1792094111442566
         ],
         "z": [
          0,
          1
         ]
        },
        {
         "line": {
          "color": "gray",
          "width": 3
         },
         "mode": "lines",
         "showlegend": false,
         "type": "scatter3d",
         "x": [
          0.2288665622472763,
          0.2288665622472763
         ],
         "y": [
          0.36941617727279663,
          0.36941617727279663
         ],
         "z": [
          0,
          1
         ]
        },
        {
         "line": {
          "color": "gray",
          "width": 3
         },
         "mode": "lines",
         "showlegend": false,
         "type": "scatter3d",
         "x": [
          0.9047625064849854,
          0.9047625064849854
         ],
         "y": [
          0.47503164410591125,
          0.47503164410591125
         ],
         "z": [
          0,
          1
         ]
        },
        {
         "line": {
          "color": "gray",
          "width": 3
         },
         "mode": "lines",
         "showlegend": false,
         "type": "scatter3d",
         "x": [
          0.6238487362861633,
          0.6238487362861633
         ],
         "y": [
          0.8740385174751282,
          0.8740385174751282
         ],
         "z": [
          0,
          1
         ]
        },
        {
         "line": {
          "color": "gray",
          "width": 3
         },
         "mode": "lines",
         "showlegend": false,
         "type": "scatter3d",
         "x": [
          0.11302260309457779,
          0.11302260309457779
         ],
         "y": [
          0.25663673877716064,
          0.25663673877716064
         ],
         "z": [
          0,
          1
         ]
        },
        {
         "line": {
          "color": "gray",
          "width": 3
         },
         "mode": "lines",
         "showlegend": false,
         "type": "scatter3d",
         "x": [
          0.4959292411804199,
          0.4959292411804199
         ],
         "y": [
          0.5917153358459473,
          0.5917153358459473
         ],
         "z": [
          0,
          1
         ]
        },
        {
         "line": {
          "color": "gray",
          "width": 3
         },
         "mode": "lines",
         "showlegend": false,
         "type": "scatter3d",
         "x": [
          0.3101186752319336,
          0.3101186752319336
         ],
         "y": [
          0.4186866581439972,
          0.4186866581439972
         ],
         "z": [
          0,
          1
         ]
        },
        {
         "line": {
          "color": "gray",
          "width": 3
         },
         "mode": "lines",
         "showlegend": false,
         "type": "scatter3d",
         "x": [
          0.2529233396053314,
          0.2529233396053314
         ],
         "y": [
          0.25699150562286377,
          0.25699150562286377
         ],
         "z": [
          0,
          1
         ]
        },
        {
         "line": {
          "color": "gray",
          "width": 3
         },
         "mode": "lines",
         "showlegend": false,
         "type": "scatter3d",
         "x": [
          0.43187013268470764,
          0.43187013268470764
         ],
         "y": [
          0.589884877204895,
          0.589884877204895
         ],
         "z": [
          0,
          1
         ]
        },
        {
         "line": {
          "color": "gray",
          "width": 3
         },
         "mode": "lines",
         "showlegend": false,
         "type": "scatter3d",
         "x": [
          0.12999461591243744,
          0.12999461591243744
         ],
         "y": [
          0.2663782835006714,
          0.2663782835006714
         ],
         "z": [
          0,
          1
         ]
        },
        {
         "line": {
          "color": "gray",
          "width": 3
         },
         "mode": "lines",
         "showlegend": false,
         "type": "scatter3d",
         "x": [
          0.48470425605773926,
          0.48470425605773926
         ],
         "y": [
          0.5843784213066101,
          0.5843784213066101
         ],
         "z": [
          0,
          1
         ]
        },
        {
         "line": {
          "color": "gray",
          "width": 3
         },
         "mode": "lines",
         "showlegend": false,
         "type": "scatter3d",
         "x": [
          0.5724579691886902,
          0.5724579691886902
         ],
         "y": [
          0.5744909048080444,
          0.5744909048080444
         ],
         "z": [
          0,
          1
         ]
        },
        {
         "line": {
          "color": "gray",
          "width": 3
         },
         "mode": "lines",
         "showlegend": false,
         "type": "scatter3d",
         "x": [
          0.5828173756599426,
          0.5828173756599426
         ],
         "y": [
          0.5560390949249268,
          0.5560390949249268
         ],
         "z": [
          0,
          1
         ]
        },
        {
         "line": {
          "color": "gray",
          "width": 3
         },
         "mode": "lines",
         "showlegend": false,
         "type": "scatter3d",
         "x": [
          0.585498034954071,
          0.585498034954071
         ],
         "y": [
          0.7369234561920166,
          0.7369234561920166
         ],
         "z": [
          0,
          1
         ]
        },
        {
         "line": {
          "color": "gray",
          "width": 3
         },
         "mode": "lines",
         "showlegend": false,
         "type": "scatter3d",
         "x": [
          0.5665022134780884,
          0.5665022134780884
         ],
         "y": [
          0.6074026823043823,
          0.6074026823043823
         ],
         "z": [
          0,
          1
         ]
        },
        {
         "line": {
          "color": "gray",
          "width": 3
         },
         "mode": "lines",
         "showlegend": false,
         "type": "scatter3d",
         "x": [
          0.47150537371635437,
          0.47150537371635437
         ],
         "y": [
          0.7908767461776733,
          0.7908767461776733
         ],
         "z": [
          0,
          1
         ]
        },
        {
         "line": {
          "color": "gray",
          "width": 3
         },
         "mode": "lines",
         "showlegend": false,
         "type": "scatter3d",
         "x": [
          0.11766619980335236,
          0.11766619980335236
         ],
         "y": [
          0.9336188435554504,
          0.9336188435554504
         ],
         "z": [
          0,
          1
         ]
        },
        {
         "line": {
          "color": "gray",
          "width": 3
         },
         "mode": "lines",
         "showlegend": false,
         "type": "scatter3d",
         "x": [
          0.2768700420856476,
          0.2768700420856476
         ],
         "y": [
          0.8513033986091614,
          0.8513033986091614
         ],
         "z": [
          0,
          1
         ]
        },
        {
         "line": {
          "color": "gray",
          "width": 3
         },
         "mode": "lines",
         "showlegend": false,
         "type": "scatter3d",
         "x": [
          0.20647193491458893,
          0.20647193491458893
         ],
         "y": [
          0.2989456355571747,
          0.2989456355571747
         ],
         "z": [
          0,
          1
         ]
        },
        {
         "line": {
          "color": "gray",
          "width": 3
         },
         "mode": "lines",
         "showlegend": false,
         "type": "scatter3d",
         "x": [
          0.629063606262207,
          0.629063606262207
         ],
         "y": [
          0.2948124408721924,
          0.2948124408721924
         ],
         "z": [
          0,
          1
         ]
        },
        {
         "line": {
          "color": "gray",
          "width": 3
         },
         "mode": "lines",
         "showlegend": false,
         "type": "scatter3d",
         "x": [
          0.35773003101348877,
          0.35773003101348877
         ],
         "y": [
          0.4422745406627655,
          0.4422745406627655
         ],
         "z": [
          0,
          1
         ]
        },
        {
         "line": {
          "color": "gray",
          "width": 3
         },
         "mode": "lines",
         "showlegend": false,
         "type": "scatter3d",
         "x": [
          0.5782862305641174,
          0.5782862305641174
         ],
         "y": [
          0.8714469075202942,
          0.8714469075202942
         ],
         "z": [
          0,
          1
         ]
        },
        {
         "line": {
          "color": "gray",
          "width": 3
         },
         "mode": "lines",
         "showlegend": false,
         "type": "scatter3d",
         "x": [
          0.8028479218482971,
          0.8028479218482971
         ],
         "y": [
          0.5574698448181152,
          0.5574698448181152
         ],
         "z": [
          0,
          1
         ]
        },
        {
         "line": {
          "color": "gray",
          "width": 3
         },
         "mode": "lines",
         "showlegend": false,
         "type": "scatter3d",
         "x": [
          0.4226977825164795,
          0.4226977825164795
         ],
         "y": [
          0.5200363993644714,
          0.5200363993644714
         ],
         "z": [
          0,
          1
         ]
        },
        {
         "line": {
          "color": "gray",
          "width": 3
         },
         "mode": "lines",
         "showlegend": false,
         "type": "scatter3d",
         "x": [
          0.17636382579803467,
          0.17636382579803467
         ],
         "y": [
          0.32659608125686646,
          0.32659608125686646
         ],
         "z": [
          0,
          1
         ]
        },
        {
         "line": {
          "color": "gray",
          "width": 3
         },
         "mode": "lines",
         "showlegend": false,
         "type": "scatter3d",
         "x": [
          0.19651520252227783,
          0.19651520252227783
         ],
         "y": [
          0.3507840931415558,
          0.3507840931415558
         ],
         "z": [
          0,
          1
         ]
        },
        {
         "line": {
          "color": "gray",
          "width": 3
         },
         "mode": "lines",
         "showlegend": false,
         "type": "scatter3d",
         "x": [
          0.5976079106330872,
          0.5976079106330872
         ],
         "y": [
          0.5215985178947449,
          0.5215985178947449
         ],
         "z": [
          0,
          1
         ]
        },
        {
         "line": {
          "color": "gray",
          "width": 3
         },
         "mode": "lines",
         "showlegend": false,
         "type": "scatter3d",
         "x": [
          0.03415551036596298,
          0.03415551036596298
         ],
         "y": [
          0.1830022782087326,
          0.1830022782087326
         ],
         "z": [
          0,
          1
         ]
        },
        {
         "line": {
          "color": "gray",
          "width": 3
         },
         "mode": "lines",
         "showlegend": false,
         "type": "scatter3d",
         "x": [
          0.274735689163208,
          0.274735689163208
         ],
         "y": [
          0.8611874580383301,
          0.8611874580383301
         ],
         "z": [
          0,
          1
         ]
        },
        {
         "line": {
          "color": "gray",
          "width": 3
         },
         "mode": "lines",
         "showlegend": false,
         "type": "scatter3d",
         "x": [
          0.4166051149368286,
          0.4166051149368286
         ],
         "y": [
          0.6244571805000305,
          0.6244571805000305
         ],
         "z": [
          0,
          1
         ]
        },
        {
         "line": {
          "color": "gray",
          "width": 3
         },
         "mode": "lines",
         "showlegend": false,
         "type": "scatter3d",
         "x": [
          0.2781387269496918,
          0.2781387269496918
         ],
         "y": [
          0.4053134620189667,
          0.4053134620189667
         ],
         "z": [
          0,
          1
         ]
        },
        {
         "line": {
          "color": "gray",
          "width": 3
         },
         "mode": "lines",
         "showlegend": false,
         "type": "scatter3d",
         "x": [
          0.26805466413497925,
          0.26805466413497925
         ],
         "y": [
          0.8750414252281189,
          0.8750414252281189
         ],
         "z": [
          0,
          1
         ]
        },
        {
         "line": {
          "color": "gray",
          "width": 3
         },
         "mode": "lines",
         "showlegend": false,
         "type": "scatter3d",
         "x": [
          0.018988553434610367,
          0.018988553434610367
         ],
         "y": [
          0.11745760589838028,
          0.11745760589838028
         ],
         "z": [
          0,
          1
         ]
        },
        {
         "line": {
          "color": "gray",
          "width": 3
         },
         "mode": "lines",
         "showlegend": false,
         "type": "scatter3d",
         "x": [
          0.38186711072921753,
          0.38186711072921753
         ],
         "y": [
          0.6847564578056335,
          0.6847564578056335
         ],
         "z": [
          0,
          1
         ]
        },
        {
         "line": {
          "color": "gray",
          "width": 3
         },
         "mode": "lines",
         "showlegend": false,
         "type": "scatter3d",
         "x": [
          0.034439895302057266,
          0.034439895302057266
         ],
         "y": [
          0.18610846996307373,
          0.18610846996307373
         ],
         "z": [
          0,
          1
         ]
        },
        {
         "line": {
          "color": "gray",
          "width": 3
         },
         "mode": "lines",
         "showlegend": false,
         "type": "scatter3d",
         "x": [
          0.4216908812522888,
          0.4216908812522888
         ],
         "y": [
          0.3928152918815613,
          0.3928152918815613
         ],
         "z": [
          0,
          1
         ]
        },
        {
         "line": {
          "color": "gray",
          "width": 3
         },
         "mode": "lines",
         "showlegend": false,
         "type": "scatter3d",
         "x": [
          0.5525417327880859,
          0.5525417327880859
         ],
         "y": [
          0.8783873915672302,
          0.8783873915672302
         ],
         "z": [
          0,
          1
         ]
        },
        {
         "line": {
          "color": "gray",
          "width": 3
         },
         "mode": "lines",
         "showlegend": false,
         "type": "scatter3d",
         "x": [
          0.3691495954990387,
          0.3691495954990387
         ],
         "y": [
          0.687629759311676,
          0.687629759311676
         ],
         "z": [
          0,
          1
         ]
        },
        {
         "line": {
          "color": "gray",
          "width": 3
         },
         "mode": "lines",
         "showlegend": false,
         "type": "scatter3d",
         "x": [
          0.3824795186519623,
          0.3824795186519623
         ],
         "y": [
          0.8998878002166748,
          0.8998878002166748
         ],
         "z": [
          0,
          1
         ]
        },
        {
         "line": {
          "color": "gray",
          "width": 3
         },
         "mode": "lines",
         "showlegend": false,
         "type": "scatter3d",
         "x": [
          0.5517916679382324,
          0.5517916679382324
         ],
         "y": [
          0.7128577828407288,
          0.7128577828407288
         ],
         "z": [
          0,
          1
         ]
        },
        {
         "line": {
          "color": "gray",
          "width": 3
         },
         "mode": "lines",
         "showlegend": false,
         "type": "scatter3d",
         "x": [
          0.595677375793457,
          0.595677375793457
         ],
         "y": [
          0.8688034415245056,
          0.8688034415245056
         ],
         "z": [
          0,
          1
         ]
        },
        {
         "line": {
          "color": "gray",
          "width": 3
         },
         "mode": "lines",
         "showlegend": false,
         "type": "scatter3d",
         "x": [
          0.48348501324653625,
          0.48348501324653625
         ],
         "y": [
          0.8925308585166931,
          0.8925308585166931
         ],
         "z": [
          0,
          1
         ]
        },
        {
         "line": {
          "color": "gray",
          "width": 3
         },
         "mode": "lines",
         "showlegend": false,
         "type": "scatter3d",
         "x": [
          0.3091323673725128,
          0.3091323673725128
         ],
         "y": [
          0.7924156785011292,
          0.7924156785011292
         ],
         "z": [
          0,
          1
         ]
        },
        {
         "line": {
          "color": "gray",
          "width": 3
         },
         "mode": "lines",
         "showlegend": false,
         "type": "scatter3d",
         "x": [
          0.0590529628098011,
          0.0590529628098011
         ],
         "y": [
          0.21684877574443817,
          0.21684877574443817
         ],
         "z": [
          0,
          1
         ]
        },
        {
         "line": {
          "color": "gray",
          "width": 3
         },
         "mode": "lines",
         "showlegend": false,
         "type": "scatter3d",
         "x": [
          0.16089101135730743,
          0.16089101135730743
         ],
         "y": [
          0.5180832147598267,
          0.5180832147598267
         ],
         "z": [
          0,
          1
         ]
        },
        {
         "line": {
          "color": "gray",
          "width": 3
         },
         "mode": "lines",
         "showlegend": false,
         "type": "scatter3d",
         "x": [
          0.35050708055496216,
          0.35050708055496216
         ],
         "y": [
          0.9068645238876343,
          0.9068645238876343
         ],
         "z": [
          0,
          1
         ]
        },
        {
         "line": {
          "color": "gray",
          "width": 3
         },
         "mode": "lines",
         "showlegend": false,
         "type": "scatter3d",
         "x": [
          0.38535943627357483,
          0.38535943627357483
         ],
         "y": [
          0.45880410075187683,
          0.45880410075187683
         ],
         "z": [
          0,
          1
         ]
        },
        {
         "line": {
          "color": "gray",
          "width": 3
         },
         "mode": "lines",
         "showlegend": false,
         "type": "scatter3d",
         "x": [
          0.3454778492450714,
          0.3454778492450714
         ],
         "y": [
          0.4439443051815033,
          0.4439443051815033
         ],
         "z": [
          0,
          1
         ]
        },
        {
         "line": {
          "color": "gray",
          "width": 3
         },
         "mode": "lines",
         "showlegend": false,
         "type": "scatter3d",
         "x": [
          0.29085275530815125,
          0.29085275530815125
         ],
         "y": [
          0.8221448659896851,
          0.8221448659896851
         ],
         "z": [
          0,
          1
         ]
        },
        {
         "line": {
          "color": "gray",
          "width": 3
         },
         "mode": "lines",
         "showlegend": false,
         "type": "scatter3d",
         "x": [
          0.1482643485069275,
          0.1482643485069275
         ],
         "y": [
          0.28792324662208557,
          0.28792324662208557
         ],
         "z": [
          0,
          1
         ]
        },
        {
         "line": {
          "color": "gray",
          "width": 3
         },
         "mode": "lines",
         "showlegend": false,
         "type": "scatter3d",
         "x": [
          0.5378841161727905,
          0.5378841161727905
         ],
         "y": [
          0.5928729176521301,
          0.5928729176521301
         ],
         "z": [
          0,
          1
         ]
        },
        {
         "line": {
          "color": "gray",
          "width": 3
         },
         "mode": "lines",
         "showlegend": false,
         "type": "scatter3d",
         "x": [
          0.629528820514679,
          0.629528820514679
         ],
         "y": [
          0.10461413860321045,
          0.10461413860321045
         ],
         "z": [
          0,
          1
         ]
        },
        {
         "line": {
          "color": "gray",
          "width": 3
         },
         "mode": "lines",
         "showlegend": false,
         "type": "scatter3d",
         "x": [
          0.4526812434196472,
          0.4526812434196472
         ],
         "y": [
          0.6177909970283508,
          0.6177909970283508
         ],
         "z": [
          0,
          1
         ]
        },
        {
         "line": {
          "color": "gray",
          "width": 3
         },
         "mode": "lines",
         "showlegend": false,
         "type": "scatter3d",
         "x": [
          0.20715370774269104,
          0.20715370774269104
         ],
         "y": [
          0.34854862093925476,
          0.34854862093925476
         ],
         "z": [
          0,
          1
         ]
        },
        {
         "line": {
          "color": "gray",
          "width": 3
         },
         "mode": "lines",
         "showlegend": false,
         "type": "scatter3d",
         "x": [
          0.39006468653678894,
          0.39006468653678894
         ],
         "y": [
          0.6649144291877747,
          0.6649144291877747
         ],
         "z": [
          0,
          1
         ]
        },
        {
         "line": {
          "color": "gray",
          "width": 3
         },
         "mode": "lines",
         "showlegend": false,
         "type": "scatter3d",
         "x": [
          0.5738953351974487,
          0.5738953351974487
         ],
         "y": [
          0.621801495552063,
          0.621801495552063
         ],
         "z": [
          0,
          1
         ]
        },
        {
         "line": {
          "color": "gray",
          "width": 3
         },
         "mode": "lines",
         "showlegend": false,
         "type": "scatter3d",
         "x": [
          0.13387593626976013,
          0.13387593626976013
         ],
         "y": [
          0.9009370803833008,
          0.9009370803833008
         ],
         "z": [
          0,
          1
         ]
        },
        {
         "line": {
          "color": "gray",
          "width": 3
         },
         "mode": "lines",
         "showlegend": false,
         "type": "scatter3d",
         "x": [
          0.3324902653694153,
          0.3324902653694153
         ],
         "y": [
          0.7656136155128479,
          0.7656136155128479
         ],
         "z": [
          0,
          1
         ]
        },
        {
         "line": {
          "color": "gray",
          "width": 3
         },
         "mode": "lines",
         "showlegend": false,
         "type": "scatter3d",
         "x": [
          0.2181282341480255,
          0.2181282341480255
         ],
         "y": [
          0.36848315596580505,
          0.36848315596580505
         ],
         "z": [
          0,
          1
         ]
        },
        {
         "line": {
          "color": "gray",
          "width": 3
         },
         "mode": "lines",
         "showlegend": false,
         "type": "scatter3d",
         "x": [
          0.09106941521167755,
          0.09106941521167755
         ],
         "y": [
          0.238742858171463,
          0.238742858171463
         ],
         "z": [
          0,
          1
         ]
        },
        {
         "line": {
          "color": "gray",
          "width": 3
         },
         "mode": "lines",
         "showlegend": false,
         "type": "scatter3d",
         "x": [
          0.13478776812553406,
          0.13478776812553406
         ],
         "y": [
          0.9372496008872986,
          0.9372496008872986
         ],
         "z": [
          0,
          1
         ]
        },
        {
         "line": {
          "color": "gray",
          "width": 3
         },
         "mode": "lines",
         "showlegend": false,
         "type": "scatter3d",
         "x": [
          0.19578766822814941,
          0.19578766822814941
         ],
         "y": [
          0.36137616634368896,
          0.36137616634368896
         ],
         "z": [
          0,
          1
         ]
        },
        {
         "line": {
          "color": "gray",
          "width": 3
         },
         "mode": "lines",
         "showlegend": false,
         "type": "scatter3d",
         "x": [
          0.2989451289176941,
          0.2989451289176941
         ],
         "y": [
          0.9050807356834412,
          0.9050807356834412
         ],
         "z": [
          0,
          1
         ]
        },
        {
         "line": {
          "color": "gray",
          "width": 3
         },
         "mode": "lines",
         "showlegend": false,
         "type": "scatter3d",
         "x": [
          0.21516048908233643,
          0.21516048908233643
         ],
         "y": [
          0.8974963426589966,
          0.8974963426589966
         ],
         "z": [
          0,
          1
         ]
        },
        {
         "line": {
          "color": "gray",
          "width": 3
         },
         "mode": "lines",
         "showlegend": false,
         "type": "scatter3d",
         "x": [
          0.25082334876060486,
          0.25082334876060486
         ],
         "y": [
          0.3910466730594635,
          0.3910466730594635
         ],
         "z": [
          0,
          1
         ]
        },
        {
         "line": {
          "color": "gray",
          "width": 3
         },
         "mode": "lines",
         "showlegend": false,
         "type": "scatter3d",
         "x": [
          0.3455410599708557,
          0.3455410599708557
         ],
         "y": [
          0.7318124771118164,
          0.7318124771118164
         ],
         "z": [
          0,
          1
         ]
        },
        {
         "line": {
          "color": "gray",
          "width": 3
         },
         "mode": "lines",
         "showlegend": false,
         "type": "scatter3d",
         "x": [
          0.6333163380622864,
          0.6333163380622864
         ],
         "y": [
          0.8399896621704102,
          0.8399896621704102
         ],
         "z": [
          0,
          1
         ]
        },
        {
         "line": {
          "color": "gray",
          "width": 3
         },
         "mode": "lines",
         "showlegend": false,
         "type": "scatter3d",
         "x": [
          0.16462095081806183,
          0.16462095081806183
         ],
         "y": [
          0.9198002219200134,
          0.9198002219200134
         ],
         "z": [
          0,
          1
         ]
        },
        {
         "line": {
          "color": "gray",
          "width": 3
         },
         "mode": "lines",
         "showlegend": false,
         "type": "scatter3d",
         "x": [
          0.5788155794143677,
          0.5788155794143677
         ],
         "y": [
          0.6109958291053772,
          0.6109958291053772
         ],
         "z": [
          0,
          1
         ]
        },
        {
         "line": {
          "color": "gray",
          "width": 3
         },
         "mode": "lines",
         "showlegend": false,
         "type": "scatter3d",
         "x": [
          0.3531256318092346,
          0.3531256318092346
         ],
         "y": [
          0.5742132067680359,
          0.5742132067680359
         ],
         "z": [
          0,
          1
         ]
        },
        {
         "line": {
          "color": "gray",
          "width": 3
         },
         "mode": "lines",
         "showlegend": false,
         "type": "scatter3d",
         "x": [
          0.06483367830514908,
          0.06483367830514908
         ],
         "y": [
          0.21318528056144714,
          0.21318528056144714
         ],
         "z": [
          0,
          1
         ]
        },
        {
         "line": {
          "color": "gray",
          "width": 3
         },
         "mode": "lines",
         "showlegend": false,
         "type": "scatter3d",
         "x": [
          0.5826964378356934,
          0.5826964378356934
         ],
         "y": [
          0.5785781145095825,
          0.5785781145095825
         ],
         "z": [
          0,
          1
         ]
        },
        {
         "line": {
          "color": "gray",
          "width": 3
         },
         "mode": "lines",
         "showlegend": false,
         "type": "scatter3d",
         "x": [
          0.6248804926872253,
          0.6248804926872253
         ],
         "y": [
          0.4412691593170166,
          0.4412691593170166
         ],
         "z": [
          0,
          1
         ]
        },
        {
         "line": {
          "color": "gray",
          "width": 3
         },
         "mode": "lines",
         "showlegend": false,
         "type": "scatter3d",
         "x": [
          0.6685628890991211,
          0.6685628890991211
         ],
         "y": [
          0.466204434633255,
          0.466204434633255
         ],
         "z": [
          0,
          1
         ]
        },
        {
         "line": {
          "color": "gray",
          "width": 3
         },
         "mode": "lines",
         "showlegend": false,
         "type": "scatter3d",
         "x": [
          0.4032430350780487,
          0.4032430350780487
         ],
         "y": [
          0.4926949441432953,
          0.4926949441432953
         ],
         "z": [
          0,
          1
         ]
        },
        {
         "line": {
          "color": "gray",
          "width": 3
         },
         "mode": "lines",
         "showlegend": false,
         "type": "scatter3d",
         "x": [
          0.04258324205875397,
          0.04258324205875397
         ],
         "y": [
          0.19426129758358002,
          0.19426129758358002
         ],
         "z": [
          0,
          1
         ]
        },
        {
         "line": {
          "color": "gray",
          "width": 3
         },
         "mode": "lines",
         "showlegend": false,
         "type": "scatter3d",
         "x": [
          0.4515214264392853,
          0.4515214264392853
         ],
         "y": [
          0.8945716023445129,
          0.8945716023445129
         ],
         "z": [
          0,
          1
         ]
        },
        {
         "line": {
          "color": "gray",
          "width": 3
         },
         "mode": "lines",
         "showlegend": false,
         "type": "scatter3d",
         "x": [
          0.6300254464149475,
          0.6300254464149475
         ],
         "y": [
          0.32854127883911133,
          0.32854127883911133
         ],
         "z": [
          0,
          1
         ]
        },
        {
         "line": {
          "color": "gray",
          "width": 3
         },
         "mode": "lines",
         "showlegend": false,
         "type": "scatter3d",
         "x": [
          0.5853064060211182,
          0.5853064060211182
         ],
         "y": [
          0.5430586338043213,
          0.5430586338043213
         ],
         "z": [
          0,
          1
         ]
        },
        {
         "line": {
          "color": "gray",
          "width": 3
         },
         "mode": "lines",
         "showlegend": false,
         "type": "scatter3d",
         "x": [
          0.35506510734558105,
          0.35506510734558105
         ],
         "y": [
          0.7215639352798462,
          0.7215639352798462
         ],
         "z": [
          0,
          1
         ]
        },
        {
         "line": {
          "color": "gray",
          "width": 3
         },
         "mode": "lines",
         "showlegend": false,
         "type": "scatter3d",
         "x": [
          0.5157676935195923,
          0.5157676935195923
         ],
         "y": [
          0.739829957485199,
          0.739829957485199
         ],
         "z": [
          0,
          1
         ]
        },
        {
         "line": {
          "color": "gray",
          "width": 3
         },
         "mode": "lines",
         "showlegend": false,
         "type": "scatter3d",
         "x": [
          0.6298214793205261,
          0.6298214793205261
         ],
         "y": [
          0.3514588475227356,
          0.3514588475227356
         ],
         "z": [
          0,
          1
         ]
        },
        {
         "line": {
          "color": "gray",
          "width": 3
         },
         "mode": "lines",
         "showlegend": false,
         "type": "scatter3d",
         "x": [
          0.5662122964859009,
          0.5662122964859009
         ],
         "y": [
          0.7025697827339172,
          0.7025697827339172
         ],
         "z": [
          0,
          1
         ]
        },
        {
         "line": {
          "color": "gray",
          "width": 3
         },
         "mode": "lines",
         "showlegend": false,
         "type": "scatter3d",
         "x": [
          0.41403260827064514,
          0.41403260827064514
         ],
         "y": [
          0.5002970695495605,
          0.5002970695495605
         ],
         "z": [
          0,
          1
         ]
        },
        {
         "line": {
          "color": "gray",
          "width": 3
         },
         "mode": "lines",
         "showlegend": false,
         "type": "scatter3d",
         "x": [
          0.057813096791505814,
          0.057813096791505814
         ],
         "y": [
          0.2107694000005722,
          0.2107694000005722
         ],
         "z": [
          0,
          1
         ]
        },
        {
         "line": {
          "color": "gray",
          "width": 3
         },
         "mode": "lines",
         "showlegend": false,
         "type": "scatter3d",
         "x": [
          0.19923044741153717,
          0.19923044741153717
         ],
         "y": [
          0.562721312046051,
          0.562721312046051
         ],
         "z": [
          0,
          1
         ]
        },
        {
         "line": {
          "color": "gray",
          "width": 3
         },
         "mode": "lines",
         "showlegend": false,
         "type": "scatter3d",
         "x": [
          0.6528507471084595,
          0.6528507471084595
         ],
         "y": [
          0.8837034106254578,
          0.8837034106254578
         ],
         "z": [
          0,
          1
         ]
        },
        {
         "line": {
          "color": "gray",
          "width": 3
         },
         "mode": "lines",
         "showlegend": false,
         "type": "scatter3d",
         "x": [
          0.4661678075790405,
          0.4661678075790405
         ],
         "y": [
          0.6018086075782776,
          0.6018086075782776
         ],
         "z": [
          0,
          1
         ]
        },
        {
         "line": {
          "color": "gray",
          "width": 3
         },
         "mode": "lines",
         "showlegend": false,
         "type": "scatter3d",
         "x": [
          0.5424397587776184,
          0.5424397587776184
         ],
         "y": [
          0.5852165222167969,
          0.5852165222167969
         ],
         "z": [
          0,
          1
         ]
        },
        {
         "line": {
          "color": "gray",
          "width": 3
         },
         "mode": "lines",
         "showlegend": false,
         "type": "scatter3d",
         "x": [
          0.4231889843940735,
          0.4231889843940735
         ],
         "y": [
          0.16264279186725616,
          0.16264279186725616
         ],
         "z": [
          0,
          1
         ]
        },
        {
         "line": {
          "color": "gray",
          "width": 3
         },
         "mode": "lines",
         "showlegend": false,
         "type": "scatter3d",
         "x": [
          0.2095453292131424,
          0.2095453292131424
         ],
         "y": [
          0.5770136713981628,
          0.5770136713981628
         ],
         "z": [
          0,
          1
         ]
        },
        {
         "line": {
          "color": "gray",
          "width": 3
         },
         "mode": "lines",
         "showlegend": false,
         "type": "scatter3d",
         "x": [
          0.23841924965381622,
          0.23841924965381622
         ],
         "y": [
          0.3815000653266907,
          0.3815000653266907
         ],
         "z": [
          0,
          1
         ]
        },
        {
         "line": {
          "color": "gray",
          "width": 3
         },
         "mode": "lines",
         "showlegend": false,
         "type": "scatter3d",
         "x": [
          0.5592361092567444,
          0.5592361092567444
         ],
         "y": [
          0.6001037955284119,
          0.6001037955284119
         ],
         "z": [
          0,
          1
         ]
        },
        {
         "line": {
          "color": "gray",
          "width": 3
         },
         "mode": "lines",
         "showlegend": false,
         "type": "scatter3d",
         "x": [
          0.41779008507728577,
          0.41779008507728577
         ],
         "y": [
          0.3002825379371643,
          0.3002825379371643
         ],
         "z": [
          0,
          1
         ]
        },
        {
         "line": {
          "color": "gray",
          "width": 3
         },
         "mode": "lines",
         "showlegend": false,
         "type": "scatter3d",
         "x": [
          0.18609587848186493,
          0.18609587848186493
         ],
         "y": [
          0.465355783700943,
          0.465355783700943
         ],
         "z": [
          0,
          1
         ]
        },
        {
         "line": {
          "color": "gray",
          "width": 3
         },
         "mode": "lines",
         "showlegend": false,
         "type": "scatter3d",
         "x": [
          0.6282447576522827,
          0.6282447576522827
         ],
         "y": [
          0.25687479972839355,
          0.25687479972839355
         ],
         "z": [
          0,
          1
         ]
        },
        {
         "line": {
          "color": "gray",
          "width": 3
         },
         "mode": "lines",
         "showlegend": false,
         "type": "scatter3d",
         "x": [
          0.3046362102031708,
          0.3046362102031708
         ],
         "y": [
          0.4172999858856201,
          0.4172999858856201
         ],
         "z": [
          0,
          1
         ]
        },
        {
         "line": {
          "color": "gray",
          "width": 3
         },
         "mode": "lines",
         "showlegend": false,
         "type": "scatter3d",
         "x": [
          0.1886252760887146,
          0.1886252760887146
         ],
         "y": [
          0.9167494773864746,
          0.9167494773864746
         ],
         "z": [
          0,
          1
         ]
        },
        {
         "line": {
          "color": "gray",
          "width": 3
         },
         "mode": "lines",
         "showlegend": false,
         "type": "scatter3d",
         "x": [
          0.13543976843357086,
          0.13543976843357086
         ],
         "y": [
          0.9296236038208008,
          0.9296236038208008
         ],
         "z": [
          0,
          1
         ]
        },
        {
         "line": {
          "color": "gray",
          "width": 3
         },
         "mode": "lines",
         "showlegend": false,
         "type": "scatter3d",
         "x": [
          0.8746079802513123,
          0.8746079802513123
         ],
         "y": [
          0.5005825757980347,
          0.5005825757980347
         ],
         "z": [
          0,
          1
         ]
        },
        {
         "line": {
          "color": "gray",
          "width": 3
         },
         "mode": "lines",
         "showlegend": false,
         "type": "scatter3d",
         "x": [
          0.19022469222545624,
          0.19022469222545624
         ],
         "y": [
          0.3964079022407532,
          0.3964079022407532
         ],
         "z": [
          0,
          1
         ]
        },
        {
         "line": {
          "color": "gray",
          "width": 3
         },
         "mode": "lines",
         "showlegend": false,
         "type": "scatter3d",
         "x": [
          0.40793928503990173,
          0.40793928503990173
         ],
         "y": [
          0.9007912874221802,
          0.9007912874221802
         ],
         "z": [
          0,
          1
         ]
        },
        {
         "line": {
          "color": "gray",
          "width": 3
         },
         "mode": "lines",
         "showlegend": false,
         "type": "scatter3d",
         "x": [
          0.49351975321769714,
          0.49351975321769714
         ],
         "y": [
          0.5913854837417603,
          0.5913854837417603
         ],
         "z": [
          0,
          1
         ]
        },
        {
         "line": {
          "color": "gray",
          "width": 3
         },
         "mode": "lines",
         "showlegend": false,
         "type": "scatter3d",
         "x": [
          0.39656978845596313,
          0.39656978845596313
         ],
         "y": [
          0.48662370443344116,
          0.48662370443344116
         ],
         "z": [
          0,
          1
         ]
        },
        {
         "line": {
          "color": "gray",
          "width": 3
         },
         "mode": "lines",
         "showlegend": false,
         "type": "scatter3d",
         "x": [
          0.16349893808364868,
          0.16349893808364868
         ],
         "y": [
          0.30632397532463074,
          0.30632397532463074
         ],
         "z": [
          0,
          1
         ]
        },
        {
         "line": {
          "color": "gray",
          "width": 3
         },
         "mode": "lines",
         "showlegend": false,
         "type": "scatter3d",
         "x": [
          0.8368409276008606,
          0.8368409276008606
         ],
         "y": [
          0.5282794237136841,
          0.5282794237136841
         ],
         "z": [
          0,
          1
         ]
        },
        {
         "line": {
          "color": "gray",
          "width": 3
         },
         "mode": "lines",
         "showlegend": false,
         "type": "scatter3d",
         "x": [
          0.19176419079303741,
          0.19176419079303741
         ],
         "y": [
          0.3491283059120178,
          0.3491283059120178
         ],
         "z": [
          0,
          1
         ]
        },
        {
         "line": {
          "color": "gray",
          "width": 3
         },
         "mode": "lines",
         "showlegend": false,
         "type": "scatter3d",
         "x": [
          0.5810291171073914,
          0.5810291171073914
         ],
         "y": [
          0.6522666215896606,
          0.6522666215896606
         ],
         "z": [
          0,
          1
         ]
        },
        {
         "line": {
          "color": "gray",
          "width": 3
         },
         "mode": "lines",
         "showlegend": false,
         "type": "scatter3d",
         "x": [
          0.1328488141298294,
          0.1328488141298294
         ],
         "y": [
          0.9254122376441956,
          0.9254122376441956
         ],
         "z": [
          0,
          1
         ]
        },
        {
         "line": {
          "color": "gray",
          "width": 3
         },
         "mode": "lines",
         "showlegend": false,
         "type": "scatter3d",
         "x": [
          0.2480391561985016,
          0.2480391561985016
         ],
         "y": [
          0.886133074760437,
          0.886133074760437
         ],
         "z": [
          0,
          1
         ]
        },
        {
         "line": {
          "color": "gray",
          "width": 3
         },
         "mode": "lines",
         "showlegend": false,
         "type": "scatter3d",
         "x": [
          0.0750763937830925,
          0.0750763937830925
         ],
         "y": [
          0.22315527498722076,
          0.22315527498722076
         ],
         "z": [
          0,
          1
         ]
        },
        {
         "line": {
          "color": "gray",
          "width": 3
         },
         "mode": "lines",
         "showlegend": false,
         "type": "scatter3d",
         "x": [
          0.6118039488792419,
          0.6118039488792419
         ],
         "y": [
          0.6209160089492798,
          0.6209160089492798
         ],
         "z": [
          0,
          1
         ]
        },
        {
         "line": {
          "color": "gray",
          "width": 3
         },
         "mode": "lines",
         "showlegend": false,
         "type": "scatter3d",
         "x": [
          0.5818497538566589,
          0.5818497538566589
         ],
         "y": [
          0.5574971437454224,
          0.5574971437454224
         ],
         "z": [
          0,
          1
         ]
        },
        {
         "line": {
          "color": "gray",
          "width": 3
         },
         "mode": "lines",
         "showlegend": false,
         "type": "scatter3d",
         "x": [
          0.3255642056465149,
          0.3255642056465149
         ],
         "y": [
          0.77339768409729,
          0.77339768409729
         ],
         "z": [
          0,
          1
         ]
        },
        {
         "line": {
          "color": "gray",
          "width": 3
         },
         "mode": "lines",
         "showlegend": false,
         "type": "scatter3d",
         "x": [
          0.2646491825580597,
          0.2646491825580597
         ],
         "y": [
          0.25458788871765137,
          0.25458788871765137
         ],
         "z": [
          0,
          1
         ]
        },
        {
         "line": {
          "color": "gray",
          "width": 3
         },
         "mode": "lines",
         "showlegend": false,
         "type": "scatter3d",
         "x": [
          0.38391023874282837,
          0.38391023874282837
         ],
         "y": [
          0.6597822904586792,
          0.6597822904586792
         ],
         "z": [
          0,
          1
         ]
        },
        {
         "line": {
          "color": "gray",
          "width": 3
         },
         "mode": "lines",
         "showlegend": false,
         "type": "scatter3d",
         "x": [
          0.6201517581939697,
          0.6201517581939697
         ],
         "y": [
          0.848019540309906,
          0.848019540309906
         ],
         "z": [
          0,
          1
         ]
        },
        {
         "line": {
          "color": "gray",
          "width": 3
         },
         "mode": "lines",
         "showlegend": false,
         "type": "scatter3d",
         "x": [
          0.6158625483512878,
          0.6158625483512878
         ],
         "y": [
          0.8617572784423828,
          0.8617572784423828
         ],
         "z": [
          0,
          1
         ]
        },
        {
         "line": {
          "color": "gray",
          "width": 3
         },
         "mode": "lines",
         "showlegend": false,
         "type": "scatter3d",
         "x": [
          0.3304305076599121,
          0.3304305076599121
         ],
         "y": [
          0.4283602237701416,
          0.4283602237701416
         ],
         "z": [
          0,
          1
         ]
        },
        {
         "line": {
          "color": "gray",
          "width": 3
         },
         "mode": "lines",
         "showlegend": false,
         "type": "scatter3d",
         "x": [
          0.05404612794518471,
          0.05404612794518471
         ],
         "y": [
          0.2058662623167038,
          0.2058662623167038
         ],
         "z": [
          0,
          1
         ]
        },
        {
         "line": {
          "color": "gray",
          "width": 3
         },
         "mode": "lines",
         "showlegend": false,
         "type": "scatter3d",
         "x": [
          0.38881492614746094,
          0.38881492614746094
         ],
         "y": [
          0.47343239188194275,
          0.47343239188194275
         ],
         "z": [
          0,
          1
         ]
        },
        {
         "line": {
          "color": "gray",
          "width": 3
         },
         "mode": "lines",
         "showlegend": false,
         "type": "scatter3d",
         "x": [
          0.4343035817146301,
          0.4343035817146301
         ],
         "y": [
          0.8454278707504272,
          0.8454278707504272
         ],
         "z": [
          0,
          1
         ]
        },
        {
         "line": {
          "color": "gray",
          "width": 3
         },
         "mode": "lines",
         "showlegend": false,
         "type": "scatter3d",
         "x": [
          0.5681938529014587,
          0.5681938529014587
         ],
         "y": [
          0.6058402061462402,
          0.6058402061462402
         ],
         "z": [
          0,
          1
         ]
        },
        {
         "line": {
          "color": "gray",
          "width": 3
         },
         "mode": "lines",
         "showlegend": false,
         "type": "scatter3d",
         "x": [
          0.26133888959884644,
          0.26133888959884644
         ],
         "y": [
          0.39746618270874023,
          0.39746618270874023
         ],
         "z": [
          0,
          1
         ]
        },
        {
         "line": {
          "color": "gray",
          "width": 3
         },
         "mode": "lines",
         "showlegend": false,
         "type": "scatter3d",
         "x": [
          0.2730090916156769,
          0.2730090916156769
         ],
         "y": [
          0.5747011303901672,
          0.5747011303901672
         ],
         "z": [
          0,
          1
         ]
        },
        {
         "line": {
          "color": "gray",
          "width": 3
         },
         "mode": "lines",
         "showlegend": false,
         "type": "scatter3d",
         "x": [
          0.6299638748168945,
          0.6299638748168945
         ],
         "y": [
          0.3766688406467438,
          0.3766688406467438
         ],
         "z": [
          0,
          1
         ]
        },
        {
         "line": {
          "color": "gray",
          "width": 3
         },
         "mode": "lines",
         "showlegend": false,
         "type": "scatter3d",
         "x": [
          0.5129677057266235,
          0.5129677057266235
         ],
         "y": [
          0.5907158851623535,
          0.5907158851623535
         ],
         "z": [
          0,
          1
         ]
        },
        {
         "line": {
          "color": "gray",
          "width": 3
         },
         "mode": "lines",
         "showlegend": false,
         "type": "scatter3d",
         "x": [
          0.5816404223442078,
          0.5816404223442078
         ],
         "y": [
          0.6758153438568115,
          0.6758153438568115
         ],
         "z": [
          0,
          1
         ]
        },
        {
         "line": {
          "color": "gray",
          "width": 3
         },
         "mode": "lines",
         "showlegend": false,
         "type": "scatter3d",
         "x": [
          0.16781051456928253,
          0.16781051456928253
         ],
         "y": [
          0.5275485515594482,
          0.5275485515594482
         ],
         "z": [
          0,
          1
         ]
        },
        {
         "line": {
          "color": "gray",
          "width": 3
         },
         "mode": "lines",
         "showlegend": false,
         "type": "scatter3d",
         "x": [
          0.6566644906997681,
          0.6566644906997681
         ],
         "y": [
          0.6070621609687805,
          0.6070621609687805
         ],
         "z": [
          0,
          1
         ]
        },
        {
         "line": {
          "color": "gray",
          "width": 3
         },
         "mode": "lines",
         "showlegend": false,
         "type": "scatter3d",
         "x": [
          0.5898862481117249,
          0.5898862481117249
         ],
         "y": [
          0.5408957004547119,
          0.5408957004547119
         ],
         "z": [
          0,
          1
         ]
        },
        {
         "line": {
          "color": "gray",
          "width": 3
         },
         "mode": "lines",
         "showlegend": false,
         "type": "scatter3d",
         "x": [
          0.2152208387851715,
          0.2152208387851715
         ],
         "y": [
          0.3696439862251282,
          0.3696439862251282
         ],
         "z": [
          0,
          1
         ]
        },
        {
         "line": {
          "color": "gray",
          "width": 3
         },
         "mode": "lines",
         "showlegend": false,
         "type": "scatter3d",
         "x": [
          0.03199530392885208,
          0.03199530392885208
         ],
         "y": [
          0.157373309135437,
          0.157373309135437
         ],
         "z": [
          0,
          1
         ]
        },
        {
         "line": {
          "color": "gray",
          "width": 3
         },
         "mode": "lines",
         "showlegend": false,
         "type": "scatter3d",
         "x": [
          0.7232517004013062,
          0.7232517004013062
         ],
         "y": [
          0.5838058590888977,
          0.5838058590888977
         ],
         "z": [
          0,
          1
         ]
        },
        {
         "line": {
          "color": "gray",
          "width": 3
         },
         "mode": "lines",
         "showlegend": false,
         "type": "scatter3d",
         "x": [
          0.030793363228440285,
          0.030793363228440285
         ],
         "y": [
          0.15191882848739624,
          0.15191882848739624
         ],
         "z": [
          0,
          1
         ]
        },
        {
         "line": {
          "color": "gray",
          "width": 3
         },
         "mode": "lines",
         "showlegend": false,
         "type": "scatter3d",
         "x": [
          0.6344766616821289,
          0.6344766616821289
         ],
         "y": [
          0.6101134419441223,
          0.6101134419441223
         ],
         "z": [
          0,
          1
         ]
        },
        {
         "line": {
          "color": "gray",
          "width": 3
         },
         "mode": "lines",
         "showlegend": false,
         "type": "scatter3d",
         "x": [
          0.31341108679771423,
          0.31341108679771423
         ],
         "y": [
          0.41442233324050903,
          0.41442233324050903
         ],
         "z": [
          0,
          1
         ]
        },
        {
         "line": {
          "color": "gray",
          "width": 3
         },
         "mode": "lines",
         "showlegend": false,
         "type": "scatter3d",
         "x": [
          0.41783273220062256,
          0.41783273220062256
         ],
         "y": [
          0.509570300579071,
          0.509570300579071
         ],
         "z": [
          0,
          1
         ]
        },
        {
         "line": {
          "color": "gray",
          "width": 3
         },
         "mode": "lines",
         "showlegend": false,
         "type": "scatter3d",
         "x": [
          0.48323726654052734,
          0.48323726654052734
         ],
         "y": [
          0.6056438684463501,
          0.6056438684463501
         ],
         "z": [
          0,
          1
         ]
        },
        {
         "line": {
          "color": "gray",
          "width": 3
         },
         "mode": "lines",
         "showlegend": false,
         "type": "scatter3d",
         "x": [
          0.4081139862537384,
          0.4081139862537384
         ],
         "y": [
          0.4328073263168335,
          0.4328073263168335
         ],
         "z": [
          0,
          1
         ]
        },
        {
         "line": {
          "color": "gray",
          "width": 3
         },
         "mode": "lines",
         "showlegend": false,
         "type": "scatter3d",
         "x": [
          0.41220104694366455,
          0.41220104694366455
         ],
         "y": [
          0.6377837061882019,
          0.6377837061882019
         ],
         "z": [
          0,
          1
         ]
        },
        {
         "line": {
          "color": "gray",
          "width": 3
         },
         "mode": "lines",
         "showlegend": false,
         "type": "scatter3d",
         "x": [
          0.2275853157043457,
          0.2275853157043457
         ],
         "y": [
          0.29379087686538696,
          0.29379087686538696
         ],
         "z": [
          0,
          1
         ]
        },
        {
         "line": {
          "color": "gray",
          "width": 3
         },
         "mode": "lines",
         "showlegend": false,
         "type": "scatter3d",
         "x": [
          0.15950191020965576,
          0.15950191020965576
         ],
         "y": [
          0.6245995759963989,
          0.6245995759963989
         ],
         "z": [
          0,
          1
         ]
        },
        {
         "line": {
          "color": "gray",
          "width": 3
         },
         "mode": "lines",
         "showlegend": false,
         "type": "scatter3d",
         "x": [
          0.17557772994041443,
          0.17557772994041443
         ],
         "y": [
          0.31695476174354553,
          0.31695476174354553
         ],
         "z": [
          0,
          1
         ]
        },
        {
         "line": {
          "color": "gray",
          "width": 3
         },
         "mode": "lines",
         "showlegend": false,
         "type": "scatter3d",
         "x": [
          0.06979014724493027,
          0.06979014724493027
         ],
         "y": [
          0.22081997990608215,
          0.22081997990608215
         ],
         "z": [
          0,
          1
         ]
        },
        {
         "line": {
          "color": "gray",
          "width": 3
         },
         "mode": "lines",
         "showlegend": false,
         "type": "scatter3d",
         "x": [
          0.14118288457393646,
          0.14118288457393646
         ],
         "y": [
          0.6917487978935242,
          0.6917487978935242
         ],
         "z": [
          0,
          1
         ]
        },
        {
         "line": {
          "color": "gray",
          "width": 3
         },
         "mode": "lines",
         "showlegend": false,
         "type": "scatter3d",
         "x": [
          0.6929657459259033,
          0.6929657459259033
         ],
         "y": [
          0.5947574377059937,
          0.5947574377059937
         ],
         "z": [
          0,
          1
         ]
        },
        {
         "line": {
          "color": "gray",
          "width": 3
         },
         "mode": "lines",
         "showlegend": false,
         "type": "scatter3d",
         "x": [
          0.13442277908325195,
          0.13442277908325195
         ],
         "y": [
          0.6808408498764038,
          0.6808408498764038
         ],
         "z": [
          0,
          1
         ]
        },
        {
         "line": {
          "color": "gray",
          "width": 3
         },
         "mode": "lines",
         "showlegend": false,
         "type": "scatter3d",
         "x": [
          0.30389347672462463,
          0.30389347672462463
         ],
         "y": [
          0.6736989617347717,
          0.6736989617347717
         ],
         "z": [
          0,
          1
         ]
        },
        {
         "line": {
          "color": "gray",
          "width": 3
         },
         "mode": "lines",
         "showlegend": false,
         "type": "scatter3d",
         "x": [
          0.15045401453971863,
          0.15045401453971863
         ],
         "y": [
          0.9206057190895081,
          0.9206057190895081
         ],
         "z": [
          0,
          1
         ]
        },
        {
         "line": {
          "color": "gray",
          "width": 3
         },
         "mode": "lines",
         "showlegend": false,
         "type": "scatter3d",
         "x": [
          0.5207358598709106,
          0.5207358598709106
         ],
         "y": [
          0.8827272653579712,
          0.8827272653579712
         ],
         "z": [
          0,
          1
         ]
        },
        {
         "line": {
          "color": "gray",
          "width": 3
         },
         "mode": "lines",
         "showlegend": false,
         "type": "scatter3d",
         "x": [
          0.6670643091201782,
          0.6670643091201782
         ],
         "y": [
          0.8423325419425964,
          0.8423325419425964
         ],
         "z": [
          0,
          1
         ]
        },
        {
         "line": {
          "color": "gray",
          "width": 3
         },
         "mode": "lines",
         "showlegend": false,
         "type": "scatter3d",
         "x": [
          0.6375926733016968,
          0.6375926733016968
         ],
         "y": [
          0.8720327019691467,
          0.8720327019691467
         ],
         "z": [
          0,
          1
         ]
        },
        {
         "line": {
          "color": "gray",
          "width": 3
         },
         "mode": "lines",
         "showlegend": false,
         "type": "scatter3d",
         "x": [
          0.5225308537483215,
          0.5225308537483215
         ],
         "y": [
          0.7304660677909851,
          0.7304660677909851
         ],
         "z": [
          0,
          1
         ]
        },
        {
         "line": {
          "color": "gray",
          "width": 3
         },
         "mode": "lines",
         "showlegend": false,
         "type": "scatter3d",
         "x": [
          0.6264487504959106,
          0.6264487504959106
         ],
         "y": [
          0.47323405742645264,
          0.47323405742645264
         ],
         "z": [
          0,
          1
         ]
        },
        {
         "line": {
          "color": "gray",
          "width": 3
         },
         "mode": "lines",
         "showlegend": false,
         "type": "scatter3d",
         "x": [
          0.1933521181344986,
          0.1933521181344986
         ],
         "y": [
          0.509210467338562,
          0.509210467338562
         ],
         "z": [
          0,
          1
         ]
        },
        {
         "line": {
          "color": "gray",
          "width": 3
         },
         "mode": "lines",
         "showlegend": false,
         "type": "scatter3d",
         "x": [
          0.3155672252178192,
          0.3155672252178192
         ],
         "y": [
          0.23181787133216858,
          0.23181787133216858
         ],
         "z": [
          0,
          1
         ]
        },
        {
         "line": {
          "color": "gray",
          "width": 3
         },
         "mode": "lines",
         "showlegend": false,
         "type": "scatter3d",
         "x": [
          0.25532516837120056,
          0.25532516837120056
         ],
         "y": [
          0.8943320512771606,
          0.8943320512771606
         ],
         "z": [
          0,
          1
         ]
        },
        {
         "line": {
          "color": "gray",
          "width": 3
         },
         "mode": "lines",
         "showlegend": false,
         "type": "scatter3d",
         "x": [
          0.5817047357559204,
          0.5817047357559204
         ],
         "y": [
          0.6253567337989807,
          0.6253567337989807
         ],
         "z": [
          0,
          1
         ]
        },
        {
         "line": {
          "color": "gray",
          "width": 3
         },
         "mode": "lines",
         "showlegend": false,
         "type": "scatter3d",
         "x": [
          0.29196029901504517,
          0.29196029901504517
         ],
         "y": [
          0.8171019554138184,
          0.8171019554138184
         ],
         "z": [
          0,
          1
         ]
        },
        {
         "line": {
          "color": "gray",
          "width": 3
         },
         "mode": "lines",
         "showlegend": false,
         "type": "scatter3d",
         "x": [
          0.6003618836402893,
          0.6003618836402893
         ],
         "y": [
          0.7900213003158569,
          0.7900213003158569
         ],
         "z": [
          0,
          1
         ]
        },
        {
         "line": {
          "color": "gray",
          "width": 3
         },
         "mode": "lines",
         "showlegend": false,
         "type": "scatter3d",
         "x": [
          0.41748592257499695,
          0.41748592257499695
         ],
         "y": [
          0.8970722556114197,
          0.8970722556114197
         ],
         "z": [
          0,
          1
         ]
        },
        {
         "line": {
          "color": "gray",
          "width": 3
         },
         "mode": "lines",
         "showlegend": false,
         "type": "scatter3d",
         "x": [
          0.7701879143714905,
          0.7701879143714905
         ],
         "y": [
          0.5685298442840576,
          0.5685298442840576
         ],
         "z": [
          0,
          1
         ]
        },
        {
         "line": {
          "color": "gray",
          "width": 3
         },
         "mode": "lines",
         "showlegend": false,
         "type": "scatter3d",
         "x": [
          0.21584081649780273,
          0.21584081649780273
         ],
         "y": [
          0.8957535624504089,
          0.8957535624504089
         ],
         "z": [
          0,
          1
         ]
        },
        {
         "marker": {
          "color": "silver",
          "size": 5,
          "symbol": "square"
         },
         "mode": "markers",
         "name": "Facilities",
         "type": "scatter3d",
         "x": {
          "bdata": "gpMwPk4UPj8f9hs/ugkfP4LDGT+1k0U99sMnPz3Xpj5bW70+ZnznPmCXDj+8nGc+rDbmPjVrDT5/8E8+blbQPqQXKj+P+aE9ihQuPvfa4z53KgI+s2IBP886Jz77cHE+xPshPxN5Ez+BpdU+ye0PPz1oIT/RD5M+niY4PnfjxD6+HJo+7G8VPyVPAz/VQPU+bdMgP/9baj6Enmc/jbQfP2V45z1w6v0+4MeePit/gT4VHt0+Tx0FPigr+D6bjBI/hTMVPzPjFT9KBhE/J2nxPvr68D3pwY0+YW1TPlAKIT9kKLc+kQoUP3GHTT/Ya9g+uJg0Pkg7ST7V/Bg/puYLPSiqjD5ETdU+M2iOPnY+iT7ijZs8FoTDPtkQDT3e59c+YHMNPy0BvT5b1MM+OEINP1B+GD9Zi/c+mUaePoXhcT2dwCQ+qnWzPtVNxT554rA+p+qUPpzSFz7Gsgk/zSghP9bF5z4aIFQ+j7bHPs7qEj/GFgk+KjyqPgJdXz6agro9zgUKPpB8SD5WD5k+CFNcPutrgD7C6rA+BSEiP2WSKD5CLRQ/4sy0PoXHhD2YKxU/K/gfP/AmKz/fdc4+xGsuPdEt5z5ZSSE/pNYVPxjLtT5aCQQ/+zshP0rzED8V/NM+bc1sPREDTD46ISc/jK3uPlXdCj86rNg+DZNWPi0kdD4ZKg8/lejVPuuPPj6m1CA/R/mbPvwmQT65sAo+T+ZfP0PKQj5r3dA+n678PjILyz5EbCc+NTtWP9VdRD5TvhQ/hQkIPvr9fT6nwZk9L58cPxv0FD9asKY+GYCHPuKPxD5Ewh4/K6kdPzAuqT55X109wBLHPgpd3j4ndRE/Ns6FPtnHiz5QRSE/2lEDP2PmFD+F1is+KhsoP8kCFz/aYlw+gg0DPQYnOT9dQvw8EG0iP2t3oD4s7tU+4Gr3PlH00D4EDNM+IAxpPnhUIz6myjM+I+6OPT+SED40ZjE/IKYJPu2Xmz6eEBo+8k4FP7rEKj9GOSM/lcQFP/JeID8Z/kU+B5KhPvu5gj6a6hQ/0nuVPlGxGT+3wNU+CStFP2AFXT4=",
          "dtype": "f4"
         },
         "y": {
          "bdata": "6bxuP7S7Ez++Wf4+pPDsPuAKRT8Vz1E+Zn5nP5PzHD8vIVk+/FENP4YNFD9QEGY/iTEMPwx0Dj9diWg/+dwLP6tsYz+JXHU/4vlpP89hVD+ClB0+nHhIPyJSKT/zRmQ/Ha1QP5k/Mz/5FSg/0s4YP1M51D6Gi9E+1j7hPpE9GD/hGyE/MV0MP6mJFj+ZjhM/rII3Ph4kvT5ZN/M+/cBfP+Rlgz6oehc/GV7WPmSUgz6yAhc/vGKIPtOZFT/WERM/lFgOPwSnPD++fhs/5nZKP6UBbz8F71k/Zw+ZPqjxlj7PceI+JRdfP1i2Dj8bIQU/mjenPvmZsz57hwU/82Q7Psh2XD9t3B8/P4XPPrcCYD+djfA9M0wvPziTPj4WH8k+/91gP4EIMD8MX2Y/2X02P+dpXj/nfGQ/wdtKP5sNXj4aoQQ/RihoP1/o6j6rTOM+FnhSP61qkz6Fxhc/8D/WPY0nHj/3dLI+1TcqP2IuHz/Qo2Y/Qf9DP9OpvD4CeXQ+l+9vP0wGuT5fs2c/UsJlP0U3yD4QWDs/kAlXPwd4az85ahw/o/8SPz5NWj6yHRQ/CO7hPlmy7j6DQvw+b+xGPqUCZT+QNqg+5AULP2q4OD9/ZT0/avKzPp3bMz94EwA/79NXPoEOED9jOmI/IRAaP8DQFT/ViyY+K7cTP/pTwz5noBk/or6ZPh1D7j4YhYM+WKjVPhiwaj/Q+20/LiYAP/r1yj5CmmY/CmUXP74m+T5/1pw+Uj0HP/LAsj7y+iY/0edsP57ZYj/RgmQ+WvQePyK4Dj9k/UU/WFmCPn7nKD/PF1k/IJxcPwhS2z6bzlI+u2XyPvZtWD9YGBs/sIDLPp0fEz+92sA+KDkXPzwCLT9sDQc/bWgbPyR4Cj/6Qb0+eCYhPk10FT+ckBs+ZTAcPyov1D4zcwI/egsbP+yY3T7LRSM/wmuWPsLlHz/lR6I+oh5iPnMWMT8GQhg/lksuP4l3LD/RrGs/avphPxujVz+JPV8/0/86P7xL8j6eWwI/qmFtPvLyZD9hFyA/mC1RP9Y+Sj+HpmU/LIsRPxtQZT8=",
          "dtype": "f4"
         },
         "z": {
          "bdata": "AAAAAAAA8D8AAAAAAADwPwAAAAAAAPA/AAAAAAAA8D8AAAAAAADwPwAAAAAAAPA/AAAAAAAA8D8AAAAAAADwPwAAAAAAAPA/AAAAAAAA8D8AAAAAAADwPwAAAAAAAPA/AAAAAAAA8D8AAAAAAADwPwAAAAAAAPA/AAAAAAAA8D8AAAAAAADwPwAAAAAAAPA/AAAAAAAA8D8AAAAAAADwPwAAAAAAAPA/AAAAAAAA8D8AAAAAAADwPwAAAAAAAPA/AAAAAAAA8D8AAAAAAADwPwAAAAAAAPA/AAAAAAAA8D8AAAAAAADwPwAAAAAAAPA/AAAAAAAA8D8AAAAAAADwPwAAAAAAAPA/AAAAAAAA8D8AAAAAAADwPwAAAAAAAPA/AAAAAAAA8D8AAAAAAADwPwAAAAAAAPA/AAAAAAAA8D8AAAAAAADwPwAAAAAAAPA/AAAAAAAA8D8AAAAAAADwPwAAAAAAAPA/AAAAAAAA8D8AAAAAAADwPwAAAAAAAPA/AAAAAAAA8D8AAAAAAADwPwAAAAAAAPA/AAAAAAAA8D8AAAAAAADwPwAAAAAAAPA/AAAAAAAA8D8AAAAAAADwPwAAAAAAAPA/AAAAAAAA8D8AAAAAAADwPwAAAAAAAPA/AAAAAAAA8D8AAAAAAADwPwAAAAAAAPA/AAAAAAAA8D8AAAAAAADwPwAAAAAAAPA/AAAAAAAA8D8AAAAAAADwPwAAAAAAAPA/AAAAAAAA8D8AAAAAAADwPwAAAAAAAPA/AAAAAAAA8D8AAAAAAADwPwAAAAAAAPA/AAAAAAAA8D8AAAAAAADwPwAAAAAAAPA/AAAAAAAA8D8AAAAAAADwPwAAAAAAAPA/AAAAAAAA8D8AAAAAAADwPwAAAAAAAPA/AAAAAAAA8D8AAAAAAADwPwAAAAAAAPA/AAAAAAAA8D8AAAAAAADwPwAAAAAAAPA/AAAAAAAA8D8AAAAAAADwPwAAAAAAAPA/AAAAAAAA8D8AAAAAAADwPwAAAAAAAPA/AAAAAAAA8D8AAAAAAADwPwAAAAAAAPA/AAAAAAAA8D8AAAAAAADwPwAAAAAAAPA/AAAAAAAA8D8AAAAAAADwPwAAAAAAAPA/AAAAAAAA8D8AAAAAAADwPwAAAAAAAPA/AAAAAAAA8D8AAAAAAADwPwAAAAAAAPA/AAAAAAAA8D8AAAAAAADwPwAAAAAAAPA/AAAAAAAA8D8AAAAAAADwPwAAAAAAAPA/AAAAAAAA8D8AAAAAAADwPwAAAAAAAPA/AAAAAAAA8D8AAAAAAADwPwAAAAAAAPA/AAAAAAAA8D8AAAAAAADwPwAAAAAAAPA/AAAAAAAA8D8AAAAAAADwPwAAAAAAAPA/AAAAAAAA8D8AAAAAAADwPwAAAAAAAPA/AAAAAAAA8D8AAAAAAADwPwAAAAAAAPA/AAAAAAAA8D8AAAAAAADwPwAAAAAAAPA/AAAAAAAA8D8AAAAAAADwPwAAAAAAAPA/AAAAAAAA8D8AAAAAAADwPwAAAAAAAPA/AAAAAAAA8D8AAAAAAADwPwAAAAAAAPA/AAAAAAAA8D8AAAAAAADwPwAAAAAAAPA/AAAAAAAA8D8AAAAAAADwPwAAAAAAAPA/AAAAAAAA8D8AAAAAAADwPwAAAAAAAPA/AAAAAAAA8D8AAAAAAADwPwAAAAAAAPA/AAAAAAAA8D8AAAAAAADwPwAAAAAAAPA/AAAAAAAA8D8AAAAAAADwPwAAAAAAAPA/AAAAAAAA8D8AAAAAAADwPwAAAAAAAPA/AAAAAAAA8D8AAAAAAADwPwAAAAAAAPA/AAAAAAAA8D8AAAAAAADwPwAAAAAAAPA/AAAAAAAA8D8AAAAAAADwPwAAAAAAAPA/AAAAAAAA8D8AAAAAAADwPwAAAAAAAPA/AAAAAAAA8D8AAAAAAADwPwAAAAAAAPA/AAAAAAAA8D8AAAAAAADwPwAAAAAAAPA/AAAAAAAA8D8AAAAAAADwPwAAAAAAAPA/AAAAAAAA8D8AAAAAAADwPwAAAAAAAPA/AAAAAAAA8D8AAAAAAADwPwAAAAAAAPA/AAAAAAAA8D8AAAAAAADwPwAAAAAAAPA/AAAAAAAA8D8AAAAAAADwPw==",
          "dtype": "f8"
         }
        }
       ],
       "layout": {
        "legend": {
         "bgcolor": "rgba(0,0,0,0.4)",
         "bordercolor": "white"
        },
        "margin": {
         "b": 0,
         "l": 0,
         "r": 0,
         "t": 30
        },
        "scene": {
         "aspectmode": "data",
         "camera": {
          "eye": {
           "x": 1.5,
           "y": 1.5,
           "z": 0.7
          }
         },
         "xaxis": {
          "backgroundcolor": "rgb(10,10,20)",
          "gridcolor": "gray",
          "title": {
           "text": "X"
          },
          "zerolinecolor": "gray"
         },
         "yaxis": {
          "backgroundcolor": "rgb(10,10,20)",
          "gridcolor": "gray",
          "title": {
           "text": "Y"
          },
          "zerolinecolor": "gray"
         },
         "zaxis": {
          "backgroundcolor": "rgb(10,10,20)",
          "gridcolor": "gray",
          "title": {
           "text": "Z"
          },
          "zerolinecolor": "gray"
         }
        },
        "template": {
         "data": {
          "bar": [
           {
            "error_x": {
             "color": "#f2f5fa"
            },
            "error_y": {
             "color": "#f2f5fa"
            },
            "marker": {
             "line": {
              "color": "rgb(17,17,17)",
              "width": 0.5
             },
             "pattern": {
              "fillmode": "overlay",
              "size": 10,
              "solidity": 0.2
             }
            },
            "type": "bar"
           }
          ],
          "barpolar": [
           {
            "marker": {
             "line": {
              "color": "rgb(17,17,17)",
              "width": 0.5
             },
             "pattern": {
              "fillmode": "overlay",
              "size": 10,
              "solidity": 0.2
             }
            },
            "type": "barpolar"
           }
          ],
          "carpet": [
           {
            "aaxis": {
             "endlinecolor": "#A2B1C6",
             "gridcolor": "#506784",
             "linecolor": "#506784",
             "minorgridcolor": "#506784",
             "startlinecolor": "#A2B1C6"
            },
            "baxis": {
             "endlinecolor": "#A2B1C6",
             "gridcolor": "#506784",
             "linecolor": "#506784",
             "minorgridcolor": "#506784",
             "startlinecolor": "#A2B1C6"
            },
            "type": "carpet"
           }
          ],
          "choropleth": [
           {
            "colorbar": {
             "outlinewidth": 0,
             "ticks": ""
            },
            "type": "choropleth"
           }
          ],
          "contour": [
           {
            "colorbar": {
             "outlinewidth": 0,
             "ticks": ""
            },
            "colorscale": [
             [
              0,
              "#0d0887"
             ],
             [
              0.1111111111111111,
              "#46039f"
             ],
             [
              0.2222222222222222,
              "#7201a8"
             ],
             [
              0.3333333333333333,
              "#9c179e"
             ],
             [
              0.4444444444444444,
              "#bd3786"
             ],
             [
              0.5555555555555556,
              "#d8576b"
             ],
             [
              0.6666666666666666,
              "#ed7953"
             ],
             [
              0.7777777777777778,
              "#fb9f3a"
             ],
             [
              0.8888888888888888,
              "#fdca26"
             ],
             [
              1,
              "#f0f921"
             ]
            ],
            "type": "contour"
           }
          ],
          "contourcarpet": [
           {
            "colorbar": {
             "outlinewidth": 0,
             "ticks": ""
            },
            "type": "contourcarpet"
           }
          ],
          "heatmap": [
           {
            "colorbar": {
             "outlinewidth": 0,
             "ticks": ""
            },
            "colorscale": [
             [
              0,
              "#0d0887"
             ],
             [
              0.1111111111111111,
              "#46039f"
             ],
             [
              0.2222222222222222,
              "#7201a8"
             ],
             [
              0.3333333333333333,
              "#9c179e"
             ],
             [
              0.4444444444444444,
              "#bd3786"
             ],
             [
              0.5555555555555556,
              "#d8576b"
             ],
             [
              0.6666666666666666,
              "#ed7953"
             ],
             [
              0.7777777777777778,
              "#fb9f3a"
             ],
             [
              0.8888888888888888,
              "#fdca26"
             ],
             [
              1,
              "#f0f921"
             ]
            ],
            "type": "heatmap"
           }
          ],
          "histogram": [
           {
            "marker": {
             "pattern": {
              "fillmode": "overlay",
              "size": 10,
              "solidity": 0.2
             }
            },
            "type": "histogram"
           }
          ],
          "histogram2d": [
           {
            "colorbar": {
             "outlinewidth": 0,
             "ticks": ""
            },
            "colorscale": [
             [
              0,
              "#0d0887"
             ],
             [
              0.1111111111111111,
              "#46039f"
             ],
             [
              0.2222222222222222,
              "#7201a8"
             ],
             [
              0.3333333333333333,
              "#9c179e"
             ],
             [
              0.4444444444444444,
              "#bd3786"
             ],
             [
              0.5555555555555556,
              "#d8576b"
             ],
             [
              0.6666666666666666,
              "#ed7953"
             ],
             [
              0.7777777777777778,
              "#fb9f3a"
             ],
             [
              0.8888888888888888,
              "#fdca26"
             ],
             [
              1,
              "#f0f921"
             ]
            ],
            "type": "histogram2d"
           }
          ],
          "histogram2dcontour": [
           {
            "colorbar": {
             "outlinewidth": 0,
             "ticks": ""
            },
            "colorscale": [
             [
              0,
              "#0d0887"
             ],
             [
              0.1111111111111111,
              "#46039f"
             ],
             [
              0.2222222222222222,
              "#7201a8"
             ],
             [
              0.3333333333333333,
              "#9c179e"
             ],
             [
              0.4444444444444444,
              "#bd3786"
             ],
             [
              0.5555555555555556,
              "#d8576b"
             ],
             [
              0.6666666666666666,
              "#ed7953"
             ],
             [
              0.7777777777777778,
              "#fb9f3a"
             ],
             [
              0.8888888888888888,
              "#fdca26"
             ],
             [
              1,
              "#f0f921"
             ]
            ],
            "type": "histogram2dcontour"
           }
          ],
          "mesh3d": [
           {
            "colorbar": {
             "outlinewidth": 0,
             "ticks": ""
            },
            "type": "mesh3d"
           }
          ],
          "parcoords": [
           {
            "line": {
             "colorbar": {
              "outlinewidth": 0,
              "ticks": ""
             }
            },
            "type": "parcoords"
           }
          ],
          "pie": [
           {
            "automargin": true,
            "type": "pie"
           }
          ],
          "scatter": [
           {
            "marker": {
             "line": {
              "color": "#283442"
             }
            },
            "type": "scatter"
           }
          ],
          "scatter3d": [
           {
            "line": {
             "colorbar": {
              "outlinewidth": 0,
              "ticks": ""
             }
            },
            "marker": {
             "colorbar": {
              "outlinewidth": 0,
              "ticks": ""
             }
            },
            "type": "scatter3d"
           }
          ],
          "scattercarpet": [
           {
            "marker": {
             "colorbar": {
              "outlinewidth": 0,
              "ticks": ""
             }
            },
            "type": "scattercarpet"
           }
          ],
          "scattergeo": [
           {
            "marker": {
             "colorbar": {
              "outlinewidth": 0,
              "ticks": ""
             }
            },
            "type": "scattergeo"
           }
          ],
          "scattergl": [
           {
            "marker": {
             "line": {
              "color": "#283442"
             }
            },
            "type": "scattergl"
           }
          ],
          "scattermap": [
           {
            "marker": {
             "colorbar": {
              "outlinewidth": 0,
              "ticks": ""
             }
            },
            "type": "scattermap"
           }
          ],
          "scattermapbox": [
           {
            "marker": {
             "colorbar": {
              "outlinewidth": 0,
              "ticks": ""
             }
            },
            "type": "scattermapbox"
           }
          ],
          "scatterpolar": [
           {
            "marker": {
             "colorbar": {
              "outlinewidth": 0,
              "ticks": ""
             }
            },
            "type": "scatterpolar"
           }
          ],
          "scatterpolargl": [
           {
            "marker": {
             "colorbar": {
              "outlinewidth": 0,
              "ticks": ""
             }
            },
            "type": "scatterpolargl"
           }
          ],
          "scatterternary": [
           {
            "marker": {
             "colorbar": {
              "outlinewidth": 0,
              "ticks": ""
             }
            },
            "type": "scatterternary"
           }
          ],
          "surface": [
           {
            "colorbar": {
             "outlinewidth": 0,
             "ticks": ""
            },
            "colorscale": [
             [
              0,
              "#0d0887"
             ],
             [
              0.1111111111111111,
              "#46039f"
             ],
             [
              0.2222222222222222,
              "#7201a8"
             ],
             [
              0.3333333333333333,
              "#9c179e"
             ],
             [
              0.4444444444444444,
              "#bd3786"
             ],
             [
              0.5555555555555556,
              "#d8576b"
             ],
             [
              0.6666666666666666,
              "#ed7953"
             ],
             [
              0.7777777777777778,
              "#fb9f3a"
             ],
             [
              0.8888888888888888,
              "#fdca26"
             ],
             [
              1,
              "#f0f921"
             ]
            ],
            "type": "surface"
           }
          ],
          "table": [
           {
            "cells": {
             "fill": {
              "color": "#506784"
             },
             "line": {
              "color": "rgb(17,17,17)"
             }
            },
            "header": {
             "fill": {
              "color": "#2a3f5f"
             },
             "line": {
              "color": "rgb(17,17,17)"
             }
            },
            "type": "table"
           }
          ]
         },
         "layout": {
          "annotationdefaults": {
           "arrowcolor": "#f2f5fa",
           "arrowhead": 0,
           "arrowwidth": 1
          },
          "autotypenumbers": "strict",
          "coloraxis": {
           "colorbar": {
            "outlinewidth": 0,
            "ticks": ""
           }
          },
          "colorscale": {
           "diverging": [
            [
             0,
             "#8e0152"
            ],
            [
             0.1,
             "#c51b7d"
            ],
            [
             0.2,
             "#de77ae"
            ],
            [
             0.3,
             "#f1b6da"
            ],
            [
             0.4,
             "#fde0ef"
            ],
            [
             0.5,
             "#f7f7f7"
            ],
            [
             0.6,
             "#e6f5d0"
            ],
            [
             0.7,
             "#b8e186"
            ],
            [
             0.8,
             "#7fbc41"
            ],
            [
             0.9,
             "#4d9221"
            ],
            [
             1,
             "#276419"
            ]
           ],
           "sequential": [
            [
             0,
             "#0d0887"
            ],
            [
             0.1111111111111111,
             "#46039f"
            ],
            [
             0.2222222222222222,
             "#7201a8"
            ],
            [
             0.3333333333333333,
             "#9c179e"
            ],
            [
             0.4444444444444444,
             "#bd3786"
            ],
            [
             0.5555555555555556,
             "#d8576b"
            ],
            [
             0.6666666666666666,
             "#ed7953"
            ],
            [
             0.7777777777777778,
             "#fb9f3a"
            ],
            [
             0.8888888888888888,
             "#fdca26"
            ],
            [
             1,
             "#f0f921"
            ]
           ],
           "sequentialminus": [
            [
             0,
             "#0d0887"
            ],
            [
             0.1111111111111111,
             "#46039f"
            ],
            [
             0.2222222222222222,
             "#7201a8"
            ],
            [
             0.3333333333333333,
             "#9c179e"
            ],
            [
             0.4444444444444444,
             "#bd3786"
            ],
            [
             0.5555555555555556,
             "#d8576b"
            ],
            [
             0.6666666666666666,
             "#ed7953"
            ],
            [
             0.7777777777777778,
             "#fb9f3a"
            ],
            [
             0.8888888888888888,
             "#fdca26"
            ],
            [
             1,
             "#f0f921"
            ]
           ]
          },
          "colorway": [
           "#636efa",
           "#EF553B",
           "#00cc96",
           "#ab63fa",
           "#FFA15A",
           "#19d3f3",
           "#FF6692",
           "#B6E880",
           "#FF97FF",
           "#FECB52"
          ],
          "font": {
           "color": "#f2f5fa"
          },
          "geo": {
           "bgcolor": "rgb(17,17,17)",
           "lakecolor": "rgb(17,17,17)",
           "landcolor": "rgb(17,17,17)",
           "showlakes": true,
           "showland": true,
           "subunitcolor": "#506784"
          },
          "hoverlabel": {
           "align": "left"
          },
          "hovermode": "closest",
          "mapbox": {
           "style": "dark"
          },
          "paper_bgcolor": "rgb(17,17,17)",
          "plot_bgcolor": "rgb(17,17,17)",
          "polar": {
           "angularaxis": {
            "gridcolor": "#506784",
            "linecolor": "#506784",
            "ticks": ""
           },
           "bgcolor": "rgb(17,17,17)",
           "radialaxis": {
            "gridcolor": "#506784",
            "linecolor": "#506784",
            "ticks": ""
           }
          },
          "scene": {
           "xaxis": {
            "backgroundcolor": "rgb(17,17,17)",
            "gridcolor": "#506784",
            "gridwidth": 2,
            "linecolor": "#506784",
            "showbackground": true,
            "ticks": "",
            "zerolinecolor": "#C8D4E3"
           },
           "yaxis": {
            "backgroundcolor": "rgb(17,17,17)",
            "gridcolor": "#506784",
            "gridwidth": 2,
            "linecolor": "#506784",
            "showbackground": true,
            "ticks": "",
            "zerolinecolor": "#C8D4E3"
           },
           "zaxis": {
            "backgroundcolor": "rgb(17,17,17)",
            "gridcolor": "#506784",
            "gridwidth": 2,
            "linecolor": "#506784",
            "showbackground": true,
            "ticks": "",
            "zerolinecolor": "#C8D4E3"
           }
          },
          "shapedefaults": {
           "line": {
            "color": "#f2f5fa"
           }
          },
          "sliderdefaults": {
           "bgcolor": "#C8D4E3",
           "bordercolor": "rgb(17,17,17)",
           "borderwidth": 1,
           "tickwidth": 0
          },
          "ternary": {
           "aaxis": {
            "gridcolor": "#506784",
            "linecolor": "#506784",
            "ticks": ""
           },
           "baxis": {
            "gridcolor": "#506784",
            "linecolor": "#506784",
            "ticks": ""
           },
           "bgcolor": "rgb(17,17,17)",
           "caxis": {
            "gridcolor": "#506784",
            "linecolor": "#506784",
            "ticks": ""
           }
          },
          "title": {
           "x": 0.05
          },
          "updatemenudefaults": {
           "bgcolor": "#506784",
           "borderwidth": 0
          },
          "xaxis": {
           "automargin": true,
           "gridcolor": "#283442",
           "linecolor": "#506784",
           "ticks": "",
           "title": {
            "standoff": 15
           },
           "zerolinecolor": "#283442",
           "zerolinewidth": 2
          },
          "yaxis": {
           "automargin": true,
           "gridcolor": "#283442",
           "linecolor": "#506784",
           "ticks": "",
           "title": {
            "standoff": 15
           },
           "zerolinecolor": "#283442",
           "zerolinewidth": 2
          }
         }
        },
        "title": {
         "font": {
          "size": 20
         },
         "text": "UAV Spatial Deployment",
         "x": 0.5
        }
       }
      }
     },
     "metadata": {},
     "output_type": "display_data"
    }
   ],
   "source": [
    "# plot_UAV_FLPO(START_locs, END_locs, F_base, (4,3))\n",
    "# plot_UAV_FLPO_3D(START_locs, END_locs, F_base)\n"
   ]
  },
  {
   "cell_type": "markdown",
   "metadata": {},
   "source": [
    "### Annealing loop implementation\n",
    "Warning: Use $\\beta >= 1e-3$, as the free energy approximation is poor for $\\beta < 5e-4$ with torch.float32 datatype."
   ]
  },
  {
   "cell_type": "code",
   "execution_count": 9,
   "metadata": {},
   "outputs": [],
   "source": [
    "# beta_min = 1e-3\n",
    "# beta_max = 1e5\n",
    "# beta_grow = 3\n",
    "# optim_iters = 50\n",
    "# optim_step = 0.01 # 0.1 for gd0, use < 0.01 for the other two optimizers\n",
    "# optim_name = 'adam'\n",
    "# tol = 1e-3\n",
    "\n",
    "# Y_arr, b_arr, F_arr = anneal(\n",
    "#         F_base, START_locs,END_locs, vrp_net, lse_net, optim_iters, optim_step, \n",
    "#         beta_min, beta_max, beta_grow, D_max_range=D_max_range, tol=tol,\n",
    "#         optimizer_name=optim_name, allowPrint=True\n",
    "#     )\n"
   ]
  },
  {
   "cell_type": "code",
   "execution_count": 10,
   "metadata": {},
   "outputs": [],
   "source": [
    "# plot_UAV_FLPO(START_locs, END_locs, F_base, (4,3))\n",
    "# plot_UAV_FLPO_3D(START_locs, END_locs, F_base)"
   ]
  },
  {
   "cell_type": "markdown",
   "metadata": {},
   "source": [
    "### Plot free energy during annealing implementation"
   ]
  },
  {
   "cell_type": "code",
   "execution_count": 11,
   "metadata": {},
   "outputs": [],
   "source": [
    "# # plot free energy evolution\n",
    "# plt.figure(figsize=(10,3))\n",
    "# plt.plot(np.log(b_arr)/np.log(10), F_arr, marker='.')\n",
    "# plt.ylabel(rf'$F$')\n",
    "# plt.xlabel(rf'$\\log_{{10}}\\beta$')\n",
    "# plt.grid()\n",
    "# plt.show()"
   ]
  },
  {
   "cell_type": "markdown",
   "metadata": {},
   "source": [
    "# Save an Animation"
   ]
  },
  {
   "cell_type": "code",
   "execution_count": 9,
   "metadata": {},
   "outputs": [
    {
     "name": "stderr",
     "output_type": "stream",
     "text": [
      "2025-06-04 16:30:45,913 - INFO - Animation.save using <class 'matplotlib.animation.PillowWriter'>\n"
     ]
    },
    {
     "data": {
      "text/plain": [
       "<matplotlib.animation.FuncAnimation at 0x229f123c070>"
      ]
     },
     "execution_count": 9,
     "metadata": {},
     "output_type": "execute_result"
    }
   ],
   "source": [
    "Animator.animate_UAV_FLPO(\n",
    "    START_locs,\n",
    "    END_locs,\n",
    "    Y_arr,\n",
    "    figuresize=(6, 5),\n",
    "    interval=100,\n",
    "    save_path=\"facility_movement_2D.gif\",\n",
    ")"
   ]
  },
  {
   "cell_type": "code",
   "execution_count": 15,
   "metadata": {},
   "outputs": [
    {
     "name": "stderr",
     "output_type": "stream",
     "text": [
      "2025-05-25 22:00:44,941 - INFO - Rendering frame 0/77\n",
      "2025-05-25 22:00:46,018 - INFO - Rendering frame 1/77\n",
      "2025-05-25 22:00:47,068 - INFO - Rendering frame 2/77\n",
      "2025-05-25 22:00:48,109 - INFO - Rendering frame 3/77\n",
      "2025-05-25 22:00:49,142 - INFO - Rendering frame 4/77\n",
      "2025-05-25 22:00:50,178 - INFO - Rendering frame 5/77\n",
      "2025-05-25 22:00:51,217 - INFO - Rendering frame 6/77\n",
      "2025-05-25 22:00:52,260 - INFO - Rendering frame 7/77\n",
      "2025-05-25 22:00:53,317 - INFO - Rendering frame 8/77\n",
      "2025-05-25 22:00:54,359 - INFO - Rendering frame 9/77\n",
      "2025-05-25 22:00:55,404 - INFO - Rendering frame 10/77\n",
      "2025-05-25 22:00:56,472 - INFO - Rendering frame 11/77\n",
      "2025-05-25 22:00:57,546 - INFO - Rendering frame 12/77\n",
      "2025-05-25 22:00:58,591 - INFO - Rendering frame 13/77\n",
      "2025-05-25 22:00:59,644 - INFO - Rendering frame 14/77\n",
      "2025-05-25 22:01:00,793 - INFO - Rendering frame 15/77\n",
      "2025-05-25 22:01:02,156 - INFO - Rendering frame 16/77\n",
      "2025-05-25 22:01:03,571 - INFO - Rendering frame 17/77\n",
      "2025-05-25 22:01:05,018 - INFO - Rendering frame 18/77\n",
      "2025-05-25 22:01:06,401 - INFO - Rendering frame 19/77\n",
      "2025-05-25 22:01:07,779 - INFO - Rendering frame 20/77\n",
      "2025-05-25 22:01:09,137 - INFO - Rendering frame 21/77\n",
      "2025-05-25 22:01:10,580 - INFO - Rendering frame 22/77\n",
      "2025-05-25 22:01:11,967 - INFO - Rendering frame 23/77\n",
      "2025-05-25 22:01:13,361 - INFO - Rendering frame 24/77\n",
      "2025-05-25 22:01:14,773 - INFO - Rendering frame 25/77\n",
      "2025-05-25 22:01:16,171 - INFO - Rendering frame 26/77\n",
      "2025-05-25 22:01:17,578 - INFO - Rendering frame 27/77\n",
      "2025-05-25 22:01:18,912 - INFO - Rendering frame 28/77\n",
      "2025-05-25 22:01:20,316 - INFO - Rendering frame 29/77\n",
      "2025-05-25 22:01:21,692 - INFO - Rendering frame 30/77\n",
      "2025-05-25 22:01:23,094 - INFO - Rendering frame 31/77\n",
      "2025-05-25 22:01:24,536 - INFO - Rendering frame 32/77\n",
      "2025-05-25 22:01:25,898 - INFO - Rendering frame 33/77\n",
      "2025-05-25 22:01:27,283 - INFO - Rendering frame 34/77\n",
      "2025-05-25 22:01:28,726 - INFO - Rendering frame 35/77\n",
      "2025-05-25 22:01:30,004 - INFO - Rendering frame 36/77\n",
      "2025-05-25 22:01:31,055 - INFO - Rendering frame 37/77\n",
      "2025-05-25 22:01:32,099 - INFO - Rendering frame 38/77\n",
      "2025-05-25 22:01:33,157 - INFO - Rendering frame 39/77\n",
      "2025-05-25 22:01:34,207 - INFO - Rendering frame 40/77\n",
      "2025-05-25 22:01:35,248 - INFO - Rendering frame 41/77\n",
      "2025-05-25 22:01:36,303 - INFO - Rendering frame 42/77\n",
      "2025-05-25 22:01:37,355 - INFO - Rendering frame 43/77\n",
      "2025-05-25 22:01:38,427 - INFO - Rendering frame 44/77\n",
      "2025-05-25 22:01:39,480 - INFO - Rendering frame 45/77\n",
      "2025-05-25 22:01:40,527 - INFO - Rendering frame 46/77\n",
      "2025-05-25 22:01:41,569 - INFO - Rendering frame 47/77\n",
      "2025-05-25 22:01:42,608 - INFO - Rendering frame 48/77\n",
      "2025-05-25 22:01:43,660 - INFO - Rendering frame 49/77\n",
      "2025-05-25 22:01:44,759 - INFO - Rendering frame 50/77\n",
      "2025-05-25 22:01:45,810 - INFO - Rendering frame 51/77\n",
      "2025-05-25 22:01:46,855 - INFO - Rendering frame 52/77\n",
      "2025-05-25 22:01:47,910 - INFO - Rendering frame 53/77\n",
      "2025-05-25 22:01:48,960 - INFO - Rendering frame 54/77\n",
      "2025-05-25 22:01:50,018 - INFO - Rendering frame 55/77\n",
      "2025-05-25 22:01:51,047 - INFO - Rendering frame 56/77\n",
      "2025-05-25 22:01:52,102 - INFO - Rendering frame 57/77\n",
      "2025-05-25 22:01:53,153 - INFO - Rendering frame 58/77\n",
      "2025-05-25 22:01:54,204 - INFO - Rendering frame 59/77\n",
      "2025-05-25 22:01:55,257 - INFO - Rendering frame 60/77\n",
      "2025-05-25 22:01:56,285 - INFO - Rendering frame 61/77\n",
      "2025-05-25 22:01:57,331 - INFO - Rendering frame 62/77\n",
      "2025-05-25 22:01:58,369 - INFO - Rendering frame 63/77\n",
      "2025-05-25 22:01:59,400 - INFO - Rendering frame 64/77\n",
      "2025-05-25 22:02:00,441 - INFO - Rendering frame 65/77\n",
      "2025-05-25 22:02:01,479 - INFO - Rendering frame 66/77\n",
      "2025-05-25 22:02:02,518 - INFO - Rendering frame 67/77\n",
      "2025-05-25 22:02:03,573 - INFO - Rendering frame 68/77\n",
      "2025-05-25 22:02:04,608 - INFO - Rendering frame 69/77\n",
      "2025-05-25 22:02:05,643 - INFO - Rendering frame 70/77\n",
      "2025-05-25 22:02:06,698 - INFO - Rendering frame 71/77\n",
      "2025-05-25 22:02:07,739 - INFO - Rendering frame 72/77\n",
      "2025-05-25 22:02:08,774 - INFO - Rendering frame 73/77\n",
      "2025-05-25 22:02:09,807 - INFO - Rendering frame 74/77\n",
      "2025-05-25 22:02:10,848 - INFO - Rendering frame 75/77\n",
      "2025-05-25 22:02:11,887 - INFO - Rendering frame 76/77\n",
      "2025-05-25 22:02:12,934 - INFO - Rendering frame 77/77\n",
      "2025-05-25 22:02:13,975 - INFO - Saving GIF to facility_movement_3D.gif\n",
      "2025-05-25 22:02:14,963 - INFO - GIF successfully saved to facility_movement_3D.gif\n"
     ]
    },
    {
     "data": {
      "text/plain": [
       "'facility_movement_3D.gif'"
      ]
     },
     "execution_count": 15,
     "metadata": {},
     "output_type": "execute_result"
    }
   ],
   "source": [
    "Animator.animate_UAV_FLPO_3D(\n",
    "        START_locs,\n",
    "        END_locs,\n",
    "        Y_arr,\n",
    "        start_altitudes=None,\n",
    "        end_altitudes=None,\n",
    "        facility_heights_list=None,\n",
    "        scene_title=\"UAV Spatial Deployment Over Time\",\n",
    "        output_gif=\"facility_movement_3D.gif\",\n",
    "        frame_duration=100,\n",
    "        render_timeout=30,\n",
    "        camera = (0.3,0.7,2.0)\n",
    "    )"
   ]
  },
  {
   "cell_type": "markdown",
   "metadata": {},
   "source": [
    "### Compare with original FLPO solution"
   ]
  },
  {
   "cell_type": "code",
   "execution_count": 12,
   "metadata": {},
   "outputs": [
    {
     "data": {
      "image/png": "[encoded data removed]",
      "text/plain": [
       "<Figure size 400x300 with 1 Axes>"
      ]
     },
     "metadata": {},
     "output_type": "display_data"
    }
   ],
   "source": [
    "import classFLPO as cf\n",
    "importlib.reload(cf)\n",
    "\n",
    "flpo_filename = 'numpy_FLPO_data/numpy_FLPO_data'\n",
    "flpo = cf.FLPO(flpo_filename, plotFLPO=True, disType='sqeuclidean', selfHop=True)"
   ]
  },
  {
   "cell_type": "code",
   "execution_count": 14,
   "metadata": {},
   "outputs": [],
   "source": [
    "Y0 = flpo.facilityLocations\n",
    "init_guess = Y0.flatten()"
   ]
  },
  {
   "cell_type": "code",
   "execution_count": 15,
   "metadata": {},
   "outputs": [
    {
     "name": "stdout",
     "output_type": "stream",
     "text": [
      "`gtol` termination condition is satisfied.\n",
      "Number of iterations: 158, function evaluations: 7298, CG iterations: 1011, optimality: 5.28e-09, constraint violation: 0.00e+00, execution time:  3.0 s.\n"
     ]
    }
   ],
   "source": [
    "cost, params, time = flpo.optimize_D(init_guess, beta=1e5, method='trust-constr', method_options={'verbose':1})"
   ]
  },
  {
   "cell_type": "code",
   "execution_count": 16,
   "metadata": {},
   "outputs": [
    {
     "data": {
      "image/png": "[encoded data removed]",
      "text/plain": [
       "<Figure size 400x300 with 1 Axes>"
      ]
     },
     "metadata": {},
     "output_type": "display_data"
    },
    {
     "data": {
      "image/png": "[encoded data removed]",
      "text/plain": [
       "<Figure size 400x300 with 1 Axes>"
      ]
     },
     "metadata": {},
     "output_type": "display_data"
    }
   ],
   "source": [
    "flpo.facilityLocations = params.reshape(-1,2)\n",
    "flpo.plotFLPO()\n",
    "ext_facilities = F_base.cpu().squeeze().detach().numpy()\n",
    "flpo.facilityLocations = ext_facilities\n",
    "flpo.plotFLPO()"
   ]
  },
  {
   "cell_type": "code",
   "execution_count": 21,
   "metadata": {},
   "outputs": [
    {
     "name": "stderr",
     "output_type": "stream",
     "text": [
      "c:\\Users\\salar\\AppData\\Local\\Programs\\Python\\Python310\\lib\\site-packages\\scipy\\optimize\\_differentiable_functions.py:231: UserWarning:\n",
      "\n",
      "delta_grad == 0.0. Check if the approximated function is linear. If the function is linear better results can be obtained by defining the Hessian as zero instead of using quasi-Newton approximations.\n",
      "\n"
     ]
    },
    {
     "name": "stdout",
     "output_type": "stream",
     "text": [
      "beta: 3.0000e-03\tFreeE: -59965.7799\n",
      "beta: 9.0000e-03\tFreeE: -19988.4874\n",
      "beta: 2.7000e-02\tFreeE: -6662.7232\n",
      "beta: 8.1000e-02\tFreeE: -2220.8018\n",
      "beta: 2.4300e-01\tFreeE: -740.1614\n",
      "beta: 7.2900e-01\tFreeE: -246.6145\n",
      "beta: 2.1870e+00\tFreeE: -82.0989\n",
      "beta: 6.5610e+00\tFreeE: -27.2604\n",
      "beta: 1.9683e+01\tFreeE: -8.9809\n",
      "beta: 5.9049e+01\tFreeE: -2.8877\n",
      "beta: 1.7715e+02\tFreeE: -0.8567\n",
      "beta: 5.3144e+02\tFreeE: -0.2029\n",
      "beta: 1.5943e+03\tFreeE: -0.0180\n",
      "beta: 4.7830e+03\tFreeE: 0.0258\n",
      "beta: 1.4349e+04\tFreeE: 0.0354\n",
      "beta: 4.3047e+04\tFreeE: 0.0359\n",
      "beta: 1.2914e+05\tFreeE: 0.0354\n"
     ]
    }
   ],
   "source": [
    "beta_o = beta_min\n",
    "params_o = Y0.flatten()\n",
    "b_arr_o = []\n",
    "F_arr_o = []\n",
    "\n",
    "while beta_o <= beta_max:\n",
    "    cost_o, params_o, time = flpo.optimize_D(params_o, beta=beta_o, method='trust-constr', method_options={'verbose':0})\n",
    "    b_arr_o.append(beta_o)\n",
    "    F_arr_o.append(cost_o)\n",
    "\n",
    "    params_o = params_o + 0.01*np.random.uniform(-1,1,params_o.shape)\n",
    "    beta_o = beta_grow * beta_o\n",
    "\n",
    "    print(\n",
    "        f\"beta: {beta_o:.4e}\\tFreeE: {cost_o:.4f}\"\n",
    "    )"
   ]
  },
  {
   "cell_type": "code",
   "execution_count": 22,
   "metadata": {},
   "outputs": [
    {
     "data": {
      "image/png": "[encoded data removed]",
      "text/plain": [
       "<Figure size 400x300 with 1 Axes>"
      ]
     },
     "metadata": {},
     "output_type": "display_data"
    }
   ],
   "source": [
    "flpo.facilityLocations = params_o.reshape(-1,2)\n",
    "flpo.plotFLPO()"
   ]
  },
  {
   "cell_type": "code",
   "execution_count": 74,
   "metadata": {},
   "outputs": [
    {
     "data": {
      "image/png": "[encoded data removed]",
      "text/plain": [
       "<Figure size 1000x300 with 1 Axes>"
      ]
     },
     "metadata": {},
     "output_type": "display_data"
    }
   ],
   "source": [
    "# plot free energy evolution\n",
    "plt.figure(figsize=(10,3))\n",
    "plt.plot(np.log(b_arr_o)/np.log(10), F_arr_o, marker='.')\n",
    "plt.ylabel(rf'$F$')\n",
    "plt.xlabel(rf'$\\log_{{10}}\\beta$')\n",
    "plt.grid()\n",
    "plt.show()"
   ]
  }
 ],
 "metadata": {
  "kernelspec": {
   "display_name": "Python 3",
   "language": "python",
   "name": "python3"
  },
  "language_info": {
   "codemirror_mode": {
    "name": "ipython",
    "version": 3
   },
   "file_extension": ".py",
   "mimetype": "text/x-python",
   "name": "python",
   "nbconvert_exporter": "python",
   "pygments_lexer": "ipython3",
   "version": "3.10.0"
  }
 },
 "nbformat": 4,
 "nbformat_minor": 2
}
