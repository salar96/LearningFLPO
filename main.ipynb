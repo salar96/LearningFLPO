{
 "cells": [
  {
   "cell_type": "code",
   "execution_count": 1,
   "metadata": {},
   "outputs": [],
   "source": [
    "import torch\n",
    "from VRP_Net_L import VRPNet_L\n",
    "from matplotlib import pyplot as plt\n",
    "import utils\n",
    "import os\n",
    "import matplotlib.pyplot as plt\n",
    "from torchinfo import summary\n",
    "import numpy as np\n",
    "import time\n",
    "import LSE_net\n",
    "from torch import optim\n",
    "import importlib\n",
    "from inference import inference\n",
    "from BeamSearch import beam_search"
   ]
  },
  {
   "cell_type": "code",
   "execution_count": 2,
   "metadata": {},
   "outputs": [
    {
     "name": "stdout",
     "output_type": "stream",
     "text": [
      "Running on:  cpu\n"
     ]
    }
   ],
   "source": [
    "seed=41;\n",
    "torch.manual_seed(seed)\n",
    "torch.cuda.manual_seed(seed)\n",
    "torch.cuda.manual_seed_all(seed)\n",
    "device = torch.device('cuda') if torch.cuda.is_available() else torch.device('cpu')\n",
    "np.random.seed(seed)\n",
    "print(\"Running on: \" , device)"
   ]
  },
  {
   "cell_type": "markdown",
   "metadata": {},
   "source": [
    "### Initialize an FLPO scenario"
   ]
  },
  {
   "cell_type": "code",
   "execution_count": 13,
   "metadata": {},
   "outputs": [
    {
     "name": "stdout",
     "output_type": "stream",
     "text": [
      "num_drones = 100\tnum_facilities = 20\tdim = 2\n",
      "Data Loaded.\n"
     ]
    },
    {
     "data": {
      "image/png": "[encoded data removed]",
      "text/plain": [
       "<Figure size 400x300 with 1 Axes>"
      ]
     },
     "metadata": {},
     "output_type": "display_data"
    }
   ],
   "source": [
    "# UAV FLPO MetaData\n",
    "num_drones = 100\n",
    "n_drone_clusters = 5\n",
    "drone_cluster_split = np.random.uniform(0.0, 1.0, n_drone_clusters)\n",
    "drone_cluster_split = drone_cluster_split / np.sum(drone_cluster_split)\n",
    "num_facilities = 20\n",
    "dim_ = 2\n",
    "print(f'num_drones = {num_drones}\\tnum_facilities = {num_facilities}\\tdim = {dim_}')\n",
    "\n",
    "# Assign start location to each drone\n",
    "drone_cnt = 0\n",
    "for i in range(n_drone_clusters):\n",
    "    if i == n_drone_clusters-1:\n",
    "        n_drones = int(num_drones - drone_cnt)\n",
    "    else:\n",
    "        n_drones = int(drone_cluster_split[i] * (num_drones+1))\n",
    "        drone_cnt += n_drones\n",
    "\n",
    "    drone_cluster_mean = torch.rand(1, dim_).repeat(n_drones,1).unsqueeze(1).to(device)\n",
    "    drone_cluster_std = ((0.01 - 0.05) * torch.rand(1,dim_) + 0.05).repeat(n_drones,1).unsqueeze(1).to(device)\n",
    "    drone_cluster_START_locs = torch.normal(mean=drone_cluster_mean, std=drone_cluster_std).to(device)\n",
    "    if i == 0:\n",
    "        START_locs = drone_cluster_START_locs\n",
    "    else:\n",
    "        START_locs = torch.cat((START_locs, drone_cluster_START_locs), axis=0)\n",
    "\n",
    "assert not START_locs.requires_grad, \"set requires_grad for START_locs to 0\"\n",
    "# Assign destination location to each drone\n",
    "END_locs = torch.zeros((num_drones, 1, dim_), requires_grad=False, device=device) #torch.rand(num_drones, 1, dim_, requires_grad=False, device=device)\n",
    "\n",
    "# Create the data tensor\n",
    "F_means = torch.mean(START_locs, dim=0).repeat(num_facilities, 1)\n",
    "F_noise = torch.normal(mean=torch.zeros(num_facilities, dim_,device=device), std=0.05*torch.ones(num_facilities, dim_,device=device))\n",
    "F_base = (F_means + F_noise).unsqueeze(0).requires_grad_()\n",
    "# print(F_base.shape)\n",
    "F_locs = F_base.expand(num_drones, -1, -1)  # view, shares grad with F_base\n",
    "data = torch.cat((START_locs, F_locs, END_locs), dim=1)  # shape: (Nd, Nf+2, D)\n",
    "print(\"Data Loaded.\")\n",
    "\n",
    "# plot the data\n",
    "def plot_UAV_FLPO(drone_START, drone_END, Facilities, figuresize=(6,5)):\n",
    "    start_locs = drone_START.squeeze(1).cpu().numpy()\n",
    "    end_locs = drone_END.squeeze(1).cpu().numpy()\n",
    "    f_locs = Facilities.squeeze(0).detach().cpu().numpy()\n",
    "\n",
    "    plt.figure(figsize=figuresize)\n",
    "    plt.scatter(start_locs[:,0], start_locs[:,1], color='violet', marker='X', alpha=0.5)\n",
    "    plt.scatter(end_locs[:,0], end_locs[:,1], color='red', marker='.')\n",
    "    plt.scatter(f_locs[:,0], f_locs[:,1], color='black', marker='^')\n",
    "    plt.grid()\n",
    "    plt.show()\n",
    "\n",
    "plot_UAV_FLPO(START_locs, END_locs, F_base, (4,3))\n"
   ]
  },
  {
   "cell_type": "markdown",
   "metadata": {},
   "source": [
    "### Load the VRP NET Module"
   ]
  },
  {
   "cell_type": "code",
   "execution_count": 14,
   "metadata": {},
   "outputs": [
    {
     "name": "stdout",
     "output_type": "stream",
     "text": [
      "Model created.\n",
      "VRP NET loaded on:  cpu\n",
      "===============================================================================================\n",
      "Layer (type:depth-idx)                                                 Param #\n",
      "===============================================================================================\n",
      "VRPNet_L                                                               --\n",
      "├─LinearAttnEncoder: 1-1                                               2,048\n",
      "│    └─ModuleList: 2-1                                                 --\n",
      "│    │    └─MultiheadAttention: 3-1                                    (66,048)\n",
      "│    │    └─MultiheadAttention: 3-2                                    (66,048)\n",
      "│    │    └─MultiheadAttention: 3-3                                    (66,048)\n",
      "│    │    └─MultiheadAttention: 3-4                                    (66,048)\n",
      "│    │    └─MultiheadAttention: 3-5                                    (66,048)\n",
      "│    │    └─MultiheadAttention: 3-6                                    (66,048)\n",
      "│    └─ModuleList: 2-2                                                 --\n",
      "│    │    └─MultiheadAttention: 3-7                                    (66,048)\n",
      "│    │    └─MultiheadAttention: 3-8                                    (66,048)\n",
      "│    │    └─MultiheadAttention: 3-9                                    (66,048)\n",
      "│    │    └─MultiheadAttention: 3-10                                   (66,048)\n",
      "│    │    └─MultiheadAttention: 3-11                                   (66,048)\n",
      "│    │    └─MultiheadAttention: 3-12                                   (66,048)\n",
      "│    └─Linear: 2-3                                                     (512)\n",
      "│    └─Linear: 2-4                                                     (8,256)\n",
      "│    └─LayerNorm: 2-5                                                  (256)\n",
      "│    └─Dropout: 2-6                                                    --\n",
      "│    └─ReLU: 2-7                                                       --\n",
      "├─Decoder: 1-2                                                         --\n",
      "│    └─PositionalEncoding: 2-8                                         --\n",
      "│    └─TransformerDecoder: 2-9                                         --\n",
      "│    │    └─ModuleList: 3-13                                           (200,256)\n",
      "===============================================================================================\n",
      "Total params: 1,003,904\n",
      "Trainable params: 0\n",
      "Non-trainable params: 1,003,904\n",
      "===============================================================================================\n"
     ]
    }
   ],
   "source": [
    "torch.cuda.empty_cache()\n",
    "model_classes = {\"VRPNet_L\": VRPNet_L}\n",
    "weights_address = \"Saved_models/VRPNet_L_lr1e-04_bs256_ep80000_samples20480000_cities10_inputdim2_workers0_hidden64_enc6_dec3_heads8_dropout0.10_beta10000.000-10000.0_train_supervised_2025_05_13_11_34_05best_model.pth\"\n",
    "vrp_net = utils.load_model(weights_address, model_classes, device=device, weights_only=True)\n",
    "for param in vrp_net.parameters():\n",
    "    param.requires_grad = False\n",
    "print(\"VRP NET loaded on: \", vrp_net.device)\n",
    "print(summary(vrp_net))"
   ]
  },
  {
   "cell_type": "markdown",
   "metadata": {},
   "source": [
    "### Load the LSE net module"
   ]
  },
  {
   "cell_type": "code",
   "execution_count": 15,
   "metadata": {},
   "outputs": [
    {
     "name": "stdout",
     "output_type": "stream",
     "text": [
      "n_inputs: 3\n",
      "n_outputs: 1\n",
      "layers: [20, 20, 10]\n",
      "io_scale: 1\n",
      "LSE_net:\n",
      "=================================================================\n",
      "Layer (type:depth-idx)                   Param #\n",
      "=================================================================\n",
      "dnn                                      --\n",
      "├─ModuleList: 1-1                        --\n",
      "│    └─Linear: 2-1                       (80)\n",
      "│    └─ReLU: 2-2                         --\n",
      "│    └─Linear: 2-3                       (420)\n",
      "│    └─ReLU: 2-4                         --\n",
      "│    └─Linear: 2-5                       (210)\n",
      "│    └─ReLU: 2-6                         --\n",
      "│    └─Linear: 2-7                       (11)\n",
      "=================================================================\n",
      "Total params: 721\n",
      "Trainable params: 0\n",
      "Non-trainable params: 721\n",
      "=================================================================\n"
     ]
    }
   ],
   "source": [
    "importlib.reload(LSE_net)\n",
    "lse_data = torch.load('logSumExp_models/lse_2025_5_1__17_6_31.pth', weights_only=False)\n",
    "n_inputs = lse_data['n_inputs']\n",
    "n_outputs = lse_data['n_outputs']\n",
    "layers = lse_data['layers']\n",
    "weights = lse_data['model_state_dict']\n",
    "io_scale = lse_data['io_scale']\n",
    "lse_net = LSE_net.dnn(n_inputs, n_outputs, layers)\n",
    "lse_net.to(device)\n",
    "lse_net.load_state_dict(weights)\n",
    "lse_net.eval()\n",
    "for p in lse_net.parameters():\n",
    "    p.requires_grad = False\n",
    "print(f'n_inputs: {n_inputs}\\nn_outputs: {n_outputs}\\nlayers: {layers}\\nio_scale: {io_scale}\\nLSE_net:\\n{summary(lse_net)}')"
   ]
  },
  {
   "cell_type": "markdown",
   "metadata": {},
   "source": [
    "### Some functions for free energy approximation"
   ]
  },
  {
   "cell_type": "code",
   "execution_count": 16,
   "metadata": {},
   "outputs": [],
   "source": [
    "def logSumExp(D_tensor, beta):\n",
    "    # with torch.no_grad():\n",
    "    # print(D_tensor)\n",
    "    D_min = torch.min(D_tensor, axis=1, keepdims=True)\n",
    "    F = -1/beta * torch.log(torch.sum(torch.exp(-beta*(D_tensor - D_min.values)), axis=1, keepdims=True)) + 1/beta * torch.log(torch.tensor([D_tensor.shape[1]])) + D_min.values\n",
    "    return F\n",
    "\n",
    "def area_approx_F(D_min, D_max_range, beta, printCalculations=False):\n",
    "    min_beta_D_arr = beta * D_min\n",
    "    x_max = beta * D_max_range - min_beta_D_arr\n",
    "    F_est = -1/beta * torch.log(1/x_max * (1 - torch.exp(-x_max))) + D_min\n",
    "    \n",
    "    if printCalculations:\n",
    "        print(f'min_beta_D_arr:{min_beta_D_arr}')\n",
    "        print(f'x_max:{x_max}')\n",
    "        print(f'inside_log:{1/x_max * (1 - torch.exp(-x_max))}')\n",
    "        print(f'log:{torch.log(1/x_max * (1 - torch.exp(-x_max)))}')\n",
    "        print(f'-1/beta_log:\\n{-1/beta * torch.log(1/x_max * (1 - torch.exp(-x_max)))}')\n",
    "        \n",
    "    return F_est"
   ]
  },
  {
   "cell_type": "markdown",
   "metadata": {},
   "source": [
    "### Functions to modularize the entire implementation including forward passes of VRP and LSE nets, optimization at fixed beta, annealing iterations"
   ]
  },
  {
   "cell_type": "code",
   "execution_count": 21,
   "metadata": {},
   "outputs": [],
   "source": [
    "# Shortest path and its gradient wrt facility locations\n",
    "def VRPNet_pass(vrp_net, data, method = 'BeamSearch', returnGrad=False):\n",
    "    \n",
    "    s = time.time()\n",
    "    with torch.no_grad():\n",
    "        actions = inference(data , vrp_net , method)\n",
    "    e = time.time()\n",
    "    \n",
    "    D_min_drones = utils.route_cost(data, actions).view(-1,1)\n",
    "    print(torch.max(torch.abs(D_min_drones.detach())))\n",
    "    if returnGrad:\n",
    "        gradient = torch.autograd.grad(outputs=D_min_drones, inputs=data,\n",
    "                                grad_outputs=torch.ones_like(D_min_drones),\n",
    "                                create_graph=True)\n",
    "        dDmin_dFlocs = gradient[0][:,1:-1,:]\n",
    "    else:\n",
    "        dDmin_dFlocs = None\n",
    "\n",
    "    return D_min_drones, dDmin_dFlocs, e-s\n",
    "\n",
    "# Free energy as a function of shortest path, and its gradients\n",
    "def LSENet_pass(lse_net, D_min_drones, D_max_range, beta, beta_min, returnGrad=False):\n",
    "    device = D_min_drones.device\n",
    "    Fmin_est = area_approx_F(D_min_drones, D_max_range=D_max_range, beta=beta_min, printCalculations=False)\n",
    "    In_lse = torch.cat((\n",
    "        Fmin_est.to(device),\n",
    "        D_min_drones,\n",
    "        (torch.ones(D_min_drones.shape,device=device)*torch.log(torch.tensor([beta],device=device))/torch.log(torch.tensor([10.0],device=device)))\n",
    "    ), axis=1)\n",
    "    FreeEnergy = lse_net(In_lse)\n",
    "    if returnGrad:\n",
    "        gradient = torch.autograd.grad(outputs=FreeEnergy, inputs=In_lse,\n",
    "                                grad_outputs=torch.ones_like(FreeEnergy),\n",
    "                                create_graph=True)\n",
    "        # dFreeE_dDmin = gradient[0].view(num_drones,1,1)\n",
    "        dFreeE_dDmin = gradient[0][:,1].view(-1,1).view(num_drones,1,1)\n",
    "    else:\n",
    "        dFreeE_dDmin = None\n",
    "\n",
    "    return FreeEnergy, dFreeE_dDmin\n",
    "\n",
    "# gradient descent step\n",
    "def gradient_descent_step(Y, dY, eta):\n",
    "    Y = Y - eta * dY\n",
    "    return Y\n",
    "\n",
    "# optimize using gradient descent at given beta\n",
    "def GD_at_beta0(F_base, S, E, vrp_net, lse_net, iters, optim_stepsize, beta_min, beta, D_max_range, allowPrint=False):\n",
    "\n",
    "    num_drones = S.shape[0]\n",
    "    assert(S.requires_grad == False)\n",
    "\n",
    "    for i in range(iters):\n",
    "        \n",
    "        F_locs = F_base.expand(num_drones, -1, -1)  # view, shares grad with F_base\n",
    "        data = torch.cat((S, F_locs, E), dim=1)  # shape: (Nd, Nf+2, D)\n",
    "        # free energy and gradients using VRP_net and LSE_net\n",
    "        D_min_drones, dDmin_dFlocs, _ = VRPNet_pass(vrp_net, data, returnGrad=True)\n",
    "        freeEnergy_drones, dFreeE_dDmin = LSENet_pass(\n",
    "            lse_net, D_min_drones, D_max_range=D_max_range, \n",
    "            beta=beta, beta_min=beta_min, returnGrad=True)\n",
    "\n",
    "        torch.cuda.empty_cache()\n",
    "\n",
    "        # total gradient using chain rule and backpropagation\n",
    "        total_gradient = dDmin_dFlocs * dFreeE_dDmin\n",
    "        G = torch.mean(total_gradient, axis=0)\n",
    "        print(G.shape)\n",
    "        print(G)\n",
    "        # optimizer step\n",
    "        F_base = gradient_descent_step(F_base, G, optim_stepsize)\n",
    "\n",
    "        # print data\n",
    "        if allowPrint:\n",
    "            print(f'iter: {i}\\tFreeE: {torch.mean(freeEnergy_drones):.4e}\\tdDmin: {torch.max(torch.abs(dDmin_dFlocs)):.4e}\\tdFreeE: {torch.max(torch.abs(dFreeE_dDmin)):.4e}\\t G:{torch.max(torch.abs(G)):.4e}')\n",
    "\n",
    "    return F_base, freeEnergy_drones, G\n",
    "\n",
    "# optimize using gradient descent at given beta\n",
    "def GD_at_beta1(F_base0, num_drones, vrp_net, lse_net, iters, optim_stepsize, beta_min, beta, D_max_range, allowPrint=False):\n",
    "\n",
    "    F_base = F_base0\n",
    "    assert(F_base.requires_grad == True)\n",
    "\n",
    "    for i in range(iters):\n",
    "        \n",
    "        F_locs = F_base.expand(num_drones, -1, -1)  # view, shares grad with F_base\n",
    "        \n",
    "        # free energy and gradients using VRP_net and LSE_net\n",
    "        D_min_drones, _, _ = VRPNet_pass(vrp_net, F_locs, returnGrad=False)\n",
    "        freeEnergy_drones, _ = LSENet_pass(\n",
    "            lse_net, D_min_drones, D_max_range=D_max_range, \n",
    "            beta=beta, beta_min=beta_min, returnGrad=False)\n",
    "        freeEnergy = torch.mean(freeEnergy_drones)\n",
    "\n",
    "        torch.cuda.empty_cache()\n",
    "\n",
    "        # total gradient using chain rule and backpropagation\n",
    "        total_gradient = torch.autograd.grad(outputs=freeEnergy, inputs=F_base,\n",
    "                                grad_outputs=torch.ones_like(freeEnergy),\n",
    "                                create_graph=True)\n",
    "        G = total_gradient[0]\n",
    "\n",
    "        # optimizer step\n",
    "        F_base = gradient_descent_step(F_base, G, eta)\n",
    "\n",
    "        # print data\n",
    "        if allowPrint:\n",
    "            print(f'iter: {i}\\tFreeE: {freeEnergy:.4e}\\tG:{torch.max(torch.abs(G)):.4e}')\n",
    "\n",
    "    return F_base, freeEnergy_drones, G\n",
    "\n",
    "\n",
    "def Adam_at_beta(F_base, S, E, vrp_net, lse_net, iters, optim_stepsize, beta_min, beta, D_max_range, allowPrint=False):\n",
    "\n",
    "    num_drones = S.shape[0]\n",
    "    \n",
    "    assert(F_base.requires_grad == True)\n",
    "    optimizer = optim.Adam([F_base], lr=optim_stepsize)\n",
    "\n",
    "    for i in range(iters):\n",
    "        F_locs = F_base.expand(num_drones, -1, -1)  # view, shares grad with F_base\n",
    "        data = torch.cat((S, F_locs, E), dim=1)  # shape: (Nd, Nf+2, D)\n",
    "        # free energy and gradients using VRP_net and LSE_net\n",
    "        D_min_drones, _, _ = VRPNet_pass(vrp_net, data)\n",
    "        freeEnergy_drones, _ = LSENet_pass(\n",
    "            lse_net, D_min_drones, D_max_range=D_max_range, beta=beta, beta_min=beta_min)\n",
    "        FreeEnergy = torch.mean(freeEnergy_drones)\n",
    "\n",
    "        torch.cuda.empty_cache()\n",
    "\n",
    "        # compute gradient of free energy wrt F_base using backpropagation\n",
    "        optimizer.zero_grad()\n",
    "        FreeEnergy.backward()\n",
    "        G = F_base.grad\n",
    "        with torch.no_grad():\n",
    "            print(f\"Norm gradient: {torch.norm(G).item():.3f}\")\n",
    "        # optimizer step\n",
    "        optimizer.step()\n",
    "\n",
    "        # print data\n",
    "        if allowPrint:\n",
    "            print(f'iter: {i}\\tFreeE: {FreeEnergy:.4e}')\n",
    "    \n",
    "    return F_base, FreeEnergy, G\n",
    "\n",
    "\n",
    "# perform annealing\n",
    "def anneal(F_base0, num_drones, vrp_net, lse_net, iters, step, beta_min, beta_max, beta_grow, D_max_range, optimizer_name, allowPrint):\n",
    "\n",
    "    beta = beta_min\n",
    "    F_base = F_base0\n",
    "    b_arr = []\n",
    "    F_arr = []\n",
    "\n",
    "    while beta <= beta_max:\n",
    "        # optimize using gradient descent iterations\n",
    "\n",
    "        if optimizer_name == 'gradient_descent0':\n",
    "            F_base, FreeEnergy, G = GD_at_beta0(\n",
    "                F_base, num_drones, vrp_net, lse_net, optim_iters, \n",
    "                optim_step, beta_min, beta, D_max_range=D_max_range, allowPrint=False)\n",
    "        \n",
    "        elif optimizer_name == 'gradient_descent1':\n",
    "            F_base, FreeEnergy, G = GD_at_beta1(\n",
    "                F_base, num_drones, vrp_net, lse_net, optim_iters, \n",
    "                optim_step, beta_min, beta, D_max_range=D_max_range, allowPrint=False)\n",
    "\n",
    "        elif optimizer_name == 'adam':\n",
    "            F_base, FreeEnergy, G = Adam_at_beta(\n",
    "                F_base, num_drones, vrp_net, lse_net, optim_iters, \n",
    "                optim_step, beta_min, beta, D_max_range=D_max_range, allowPrint=False)\n",
    "\n",
    "        # store data\n",
    "        b_arr.append(beta)\n",
    "        F_arr.append(torch.mean(FreeEnergy).detach().item())\n",
    "        # print data\n",
    "        if allowPrint:\n",
    "            print(f'beta: {beta:.4e}\\tFreeE: {torch.mean(FreeEnergy):.4f}\\tGrad: {torch.abs(torch.max(G)):.4e}')\n",
    "        # update beta\n",
    "        beta = beta * beta_grow\n",
    "\n",
    "    return F_base, b_arr, F_arr\n",
    "\n",
    "\n",
    "    "
   ]
  },
  {
   "cell_type": "markdown",
   "metadata": {},
   "source": [
    "### Optimization loop for a single beta"
   ]
  },
  {
   "cell_type": "markdown",
   "metadata": {},
   "source": [
    "#### using gradient descent 0"
   ]
  },
  {
   "cell_type": "code",
   "execution_count": 22,
   "metadata": {},
   "outputs": [
    {
     "name": "stdout",
     "output_type": "stream",
     "text": [
      "True\n",
      "tensor(0.4884)\n",
      "Norm gradient: 0.056\n",
      "iter: 0\tFreeE: 1.1514e+00\n",
      "tensor(0.5844)\n",
      "Norm gradient: 0.102\n",
      "iter: 1\tFreeE: 1.1816e+00\n"
     ]
    },
    {
     "ename": "KeyboardInterrupt",
     "evalue": "",
     "output_type": "error",
     "traceback": [
      "\u001b[0;31m---------------------------------------------------------------------------\u001b[0m",
      "\u001b[0;31mKeyboardInterrupt\u001b[0m                         Traceback (most recent call last)",
      "Cell \u001b[0;32mIn[22], line 6\u001b[0m\n\u001b[1;32m      4\u001b[0m beta \u001b[38;5;241m=\u001b[39m \u001b[38;5;241m1e-3\u001b[39m\n\u001b[1;32m      5\u001b[0m \u001b[38;5;28mprint\u001b[39m(F_base\u001b[38;5;241m.\u001b[39mrequires_grad)\n\u001b[0;32m----> 6\u001b[0m F_base, FreeEnergy, G \u001b[38;5;241m=\u001b[39m \u001b[43mAdam_at_beta\u001b[49m\u001b[43m(\u001b[49m\n\u001b[1;32m      7\u001b[0m \u001b[43m    \u001b[49m\u001b[43mF_base\u001b[49m\u001b[43m,\u001b[49m\u001b[43m \u001b[49m\u001b[43mSTART_locs\u001b[49m\u001b[43m,\u001b[49m\u001b[43m \u001b[49m\u001b[43mEND_locs\u001b[49m\u001b[43m,\u001b[49m\u001b[43m \u001b[49m\u001b[43mvrp_net\u001b[49m\u001b[43m,\u001b[49m\u001b[43m \u001b[49m\u001b[43mlse_net\u001b[49m\u001b[43m,\u001b[49m\u001b[43m \u001b[49m\u001b[43moptim_iters\u001b[49m\u001b[43m,\u001b[49m\u001b[43m \u001b[49m\n\u001b[1;32m      8\u001b[0m \u001b[43m    \u001b[49m\u001b[43moptim_step\u001b[49m\u001b[43m,\u001b[49m\u001b[43m \u001b[49m\u001b[43mb_min\u001b[49m\u001b[43m,\u001b[49m\u001b[43m \u001b[49m\u001b[43mbeta\u001b[49m\u001b[43m,\u001b[49m\u001b[43m \u001b[49m\u001b[43mD_max_range\u001b[49m\u001b[38;5;241;43m=\u001b[39;49m\u001b[38;5;241;43m2.0\u001b[39;49m\u001b[43m,\u001b[49m\u001b[43m \u001b[49m\u001b[43mallowPrint\u001b[49m\u001b[38;5;241;43m=\u001b[39;49m\u001b[38;5;28;43;01mTrue\u001b[39;49;00m\u001b[43m)\u001b[49m\n",
      "Cell \u001b[0;32mIn[21], line 125\u001b[0m, in \u001b[0;36mAdam_at_beta\u001b[0;34m(F_base, S, E, vrp_net, lse_net, iters, optim_stepsize, beta_min, beta, D_max_range, allowPrint)\u001b[0m\n\u001b[1;32m    123\u001b[0m data \u001b[38;5;241m=\u001b[39m torch\u001b[38;5;241m.\u001b[39mcat((S, F_locs, E), dim\u001b[38;5;241m=\u001b[39m\u001b[38;5;241m1\u001b[39m)  \u001b[38;5;66;03m# shape: (Nd, Nf+2, D)\u001b[39;00m\n\u001b[1;32m    124\u001b[0m \u001b[38;5;66;03m# free energy and gradients using VRP_net and LSE_net\u001b[39;00m\n\u001b[0;32m--> 125\u001b[0m D_min_drones, _, _ \u001b[38;5;241m=\u001b[39m \u001b[43mVRPNet_pass\u001b[49m\u001b[43m(\u001b[49m\u001b[43mvrp_net\u001b[49m\u001b[43m,\u001b[49m\u001b[43m \u001b[49m\u001b[43mdata\u001b[49m\u001b[43m)\u001b[49m\n\u001b[1;32m    126\u001b[0m freeEnergy_drones, _ \u001b[38;5;241m=\u001b[39m LSENet_pass(\n\u001b[1;32m    127\u001b[0m     lse_net, D_min_drones, D_max_range\u001b[38;5;241m=\u001b[39mD_max_range, beta\u001b[38;5;241m=\u001b[39mbeta, beta_min\u001b[38;5;241m=\u001b[39mbeta_min)\n\u001b[1;32m    128\u001b[0m FreeEnergy \u001b[38;5;241m=\u001b[39m torch\u001b[38;5;241m.\u001b[39mmean(freeEnergy_drones)\n",
      "Cell \u001b[0;32mIn[21], line 6\u001b[0m, in \u001b[0;36mVRPNet_pass\u001b[0;34m(vrp_net, data, method, returnGrad)\u001b[0m\n\u001b[1;32m      4\u001b[0m s \u001b[38;5;241m=\u001b[39m time\u001b[38;5;241m.\u001b[39mtime()\n\u001b[1;32m      5\u001b[0m \u001b[38;5;28;01mwith\u001b[39;00m torch\u001b[38;5;241m.\u001b[39mno_grad():\n\u001b[0;32m----> 6\u001b[0m     actions \u001b[38;5;241m=\u001b[39m \u001b[43minference\u001b[49m\u001b[43m(\u001b[49m\u001b[43mdata\u001b[49m\u001b[43m \u001b[49m\u001b[43m,\u001b[49m\u001b[43m \u001b[49m\u001b[43mvrp_net\u001b[49m\u001b[43m \u001b[49m\u001b[43m,\u001b[49m\u001b[43m \u001b[49m\u001b[43mmethod\u001b[49m\u001b[43m)\u001b[49m\n\u001b[1;32m      7\u001b[0m e \u001b[38;5;241m=\u001b[39m time\u001b[38;5;241m.\u001b[39mtime()\n\u001b[1;32m      9\u001b[0m D_min_drones \u001b[38;5;241m=\u001b[39m utils\u001b[38;5;241m.\u001b[39mroute_cost(data, actions)\u001b[38;5;241m.\u001b[39mview(\u001b[38;5;241m-\u001b[39m\u001b[38;5;241m1\u001b[39m,\u001b[38;5;241m1\u001b[39m)\n",
      "File \u001b[0;32m~/Documents/NASA_ULI/Review_May2025/LearningFLPO/inference.py:18\u001b[0m, in \u001b[0;36minference\u001b[0;34m(data, model, method)\u001b[0m\n\u001b[1;32m     15\u001b[0m         actions[:, t, \u001b[38;5;241m0\u001b[39m] \u001b[38;5;241m=\u001b[39m torch\u001b[38;5;241m.\u001b[39margmax(outs, dim\u001b[38;5;241m=\u001b[39m\u001b[38;5;241m-\u001b[39m\u001b[38;5;241m1\u001b[39m)\n\u001b[1;32m     17\u001b[0m \u001b[38;5;28;01melif\u001b[39;00m method \u001b[38;5;241m==\u001b[39m \u001b[38;5;124m'\u001b[39m\u001b[38;5;124mBeamSearch\u001b[39m\u001b[38;5;124m'\u001b[39m:\n\u001b[0;32m---> 18\u001b[0m     seq, scores \u001b[38;5;241m=\u001b[39m \u001b[43mbeam_search\u001b[49m\u001b[43m(\u001b[49m\u001b[43mmodel\u001b[49m\u001b[43m,\u001b[49m\u001b[43mdata\u001b[49m\u001b[43m,\u001b[49m\u001b[43mbeam_width\u001b[49m\u001b[38;5;241;43m=\u001b[39;49m\u001b[38;5;28;43mmin\u001b[39;49m\u001b[43m(\u001b[49m\u001b[43mnum_cities\u001b[49m\u001b[43m,\u001b[49m\u001b[38;5;241;43m5\u001b[39;49m\u001b[43m)\u001b[49m\u001b[43m)\u001b[49m\n\u001b[1;32m     19\u001b[0m     actions \u001b[38;5;241m=\u001b[39m seq[:,\u001b[38;5;241m0\u001b[39m,:]\n\u001b[1;32m     20\u001b[0m \u001b[38;5;28;01melse\u001b[39;00m:\n",
      "File \u001b[0;32m~/Documents/NASA_ULI/Review_May2025/LearningFLPO/BeamSearch.py:46\u001b[0m, in \u001b[0;36mbeam_search\u001b[0;34m(model, data, beam_width, start_idx, device)\u001b[0m\n\u001b[1;32m     44\u001b[0m \u001b[38;5;66;03m# Expand encoder memory for each beam\u001b[39;00m\n\u001b[1;32m     45\u001b[0m E_b_exp \u001b[38;5;241m=\u001b[39m E_b\u001b[38;5;241m.\u001b[39mexpand(\u001b[38;5;28mlen\u001b[39m(beams), \u001b[38;5;241m-\u001b[39m\u001b[38;5;241m1\u001b[39m, \u001b[38;5;241m-\u001b[39m\u001b[38;5;241m1\u001b[39m)  \u001b[38;5;66;03m# (beam_width, N, d)\u001b[39;00m\n\u001b[0;32m---> 46\u001b[0m _, probs \u001b[38;5;241m=\u001b[39m \u001b[43mmodel\u001b[49m\u001b[38;5;241;43m.\u001b[39;49m\u001b[43mdecoder\u001b[49m\u001b[43m(\u001b[49m\u001b[43mE_b_exp\u001b[49m\u001b[43m,\u001b[49m\u001b[43m \u001b[49m\u001b[43mbeam_input\u001b[49m\u001b[43m)\u001b[49m  \u001b[38;5;66;03m# (beam_width, N)\u001b[39;00m\n\u001b[1;32m     47\u001b[0m log_probs \u001b[38;5;241m=\u001b[39m torch\u001b[38;5;241m.\u001b[39mlog(probs)  \u001b[38;5;66;03m# (beam_width, N)\u001b[39;00m\n\u001b[1;32m     49\u001b[0m candidates \u001b[38;5;241m=\u001b[39m []\n",
      "File \u001b[0;32m~/Library/Python/3.9/lib/python/site-packages/torch/nn/modules/module.py:1739\u001b[0m, in \u001b[0;36mModule._wrapped_call_impl\u001b[0;34m(self, *args, **kwargs)\u001b[0m\n\u001b[1;32m   1737\u001b[0m     \u001b[38;5;28;01mreturn\u001b[39;00m \u001b[38;5;28mself\u001b[39m\u001b[38;5;241m.\u001b[39m_compiled_call_impl(\u001b[38;5;241m*\u001b[39margs, \u001b[38;5;241m*\u001b[39m\u001b[38;5;241m*\u001b[39mkwargs)  \u001b[38;5;66;03m# type: ignore[misc]\u001b[39;00m\n\u001b[1;32m   1738\u001b[0m \u001b[38;5;28;01melse\u001b[39;00m:\n\u001b[0;32m-> 1739\u001b[0m     \u001b[38;5;28;01mreturn\u001b[39;00m \u001b[38;5;28;43mself\u001b[39;49m\u001b[38;5;241;43m.\u001b[39;49m\u001b[43m_call_impl\u001b[49m\u001b[43m(\u001b[49m\u001b[38;5;241;43m*\u001b[39;49m\u001b[43margs\u001b[49m\u001b[43m,\u001b[49m\u001b[43m \u001b[49m\u001b[38;5;241;43m*\u001b[39;49m\u001b[38;5;241;43m*\u001b[39;49m\u001b[43mkwargs\u001b[49m\u001b[43m)\u001b[49m\n",
      "File \u001b[0;32m~/Library/Python/3.9/lib/python/site-packages/torch/nn/modules/module.py:1750\u001b[0m, in \u001b[0;36mModule._call_impl\u001b[0;34m(self, *args, **kwargs)\u001b[0m\n\u001b[1;32m   1745\u001b[0m \u001b[38;5;66;03m# If we don't have any hooks, we want to skip the rest of the logic in\u001b[39;00m\n\u001b[1;32m   1746\u001b[0m \u001b[38;5;66;03m# this function, and just call forward.\u001b[39;00m\n\u001b[1;32m   1747\u001b[0m \u001b[38;5;28;01mif\u001b[39;00m \u001b[38;5;129;01mnot\u001b[39;00m (\u001b[38;5;28mself\u001b[39m\u001b[38;5;241m.\u001b[39m_backward_hooks \u001b[38;5;129;01mor\u001b[39;00m \u001b[38;5;28mself\u001b[39m\u001b[38;5;241m.\u001b[39m_backward_pre_hooks \u001b[38;5;129;01mor\u001b[39;00m \u001b[38;5;28mself\u001b[39m\u001b[38;5;241m.\u001b[39m_forward_hooks \u001b[38;5;129;01mor\u001b[39;00m \u001b[38;5;28mself\u001b[39m\u001b[38;5;241m.\u001b[39m_forward_pre_hooks\n\u001b[1;32m   1748\u001b[0m         \u001b[38;5;129;01mor\u001b[39;00m _global_backward_pre_hooks \u001b[38;5;129;01mor\u001b[39;00m _global_backward_hooks\n\u001b[1;32m   1749\u001b[0m         \u001b[38;5;129;01mor\u001b[39;00m _global_forward_hooks \u001b[38;5;129;01mor\u001b[39;00m _global_forward_pre_hooks):\n\u001b[0;32m-> 1750\u001b[0m     \u001b[38;5;28;01mreturn\u001b[39;00m \u001b[43mforward_call\u001b[49m\u001b[43m(\u001b[49m\u001b[38;5;241;43m*\u001b[39;49m\u001b[43margs\u001b[49m\u001b[43m,\u001b[49m\u001b[43m \u001b[49m\u001b[38;5;241;43m*\u001b[39;49m\u001b[38;5;241;43m*\u001b[39;49m\u001b[43mkwargs\u001b[49m\u001b[43m)\u001b[49m\n\u001b[1;32m   1752\u001b[0m result \u001b[38;5;241m=\u001b[39m \u001b[38;5;28;01mNone\u001b[39;00m\n\u001b[1;32m   1753\u001b[0m called_always_called_hooks \u001b[38;5;241m=\u001b[39m \u001b[38;5;28mset\u001b[39m()\n",
      "File \u001b[0;32m~/Documents/NASA_ULI/Review_May2025/LearningFLPO/VRP_Net_L.py:192\u001b[0m, in \u001b[0;36mDecoder.forward\u001b[0;34m(self, E, prev_chosen_indices, relevance_mask)\u001b[0m\n\u001b[1;32m    188\u001b[0m     \u001b[38;5;28;01melse\u001b[39;00m:\n\u001b[1;32m    189\u001b[0m         \u001b[38;5;66;03m# Mask visited cities (except END)\u001b[39;00m\n\u001b[1;32m    190\u001b[0m         memory_key_padding_mask[i, prev_chosen_indices[i]] \u001b[38;5;241m=\u001b[39m \u001b[38;5;28;01mTrue\u001b[39;00m\n\u001b[0;32m--> 192\u001b[0m dec_out \u001b[38;5;241m=\u001b[39m \u001b[38;5;28;43mself\u001b[39;49m\u001b[38;5;241;43m.\u001b[39;49m\u001b[43mtransformer_decoder\u001b[49m\u001b[43m(\u001b[49m\n\u001b[1;32m    193\u001b[0m \u001b[43m    \u001b[49m\u001b[43mtgt\u001b[49m\u001b[38;5;241;43m=\u001b[39;49m\u001b[43mtgt\u001b[49m\u001b[43m,\u001b[49m\n\u001b[1;32m    194\u001b[0m \u001b[43m    \u001b[49m\u001b[43mmemory\u001b[49m\u001b[38;5;241;43m=\u001b[39;49m\u001b[43mE\u001b[49m\u001b[43m,\u001b[49m\n\u001b[1;32m    195\u001b[0m \u001b[43m    \u001b[49m\u001b[43mtgt_mask\u001b[49m\u001b[38;5;241;43m=\u001b[39;49m\u001b[43mtgt_mask\u001b[49m\u001b[43m,\u001b[49m\n\u001b[1;32m    196\u001b[0m \u001b[43m\u001b[49m\u001b[43m)\u001b[49m  \u001b[38;5;66;03m# returns the transformed values of tgt after cross-attention\u001b[39;00m\n\u001b[1;32m    198\u001b[0m query \u001b[38;5;241m=\u001b[39m torch\u001b[38;5;241m.\u001b[39mmean(dec_out, dim\u001b[38;5;241m=\u001b[39m\u001b[38;5;241m1\u001b[39m, keepdim\u001b[38;5;241m=\u001b[39m\u001b[38;5;28;01mTrue\u001b[39;00m)\n\u001b[1;32m    200\u001b[0m scores \u001b[38;5;241m=\u001b[39m torch\u001b[38;5;241m.\u001b[39mbmm(query, E\u001b[38;5;241m.\u001b[39mtranspose(\u001b[38;5;241m1\u001b[39m, \u001b[38;5;241m2\u001b[39m)) \u001b[38;5;241m/\u001b[39m math\u001b[38;5;241m.\u001b[39msqrt(\u001b[38;5;28mself\u001b[39m\u001b[38;5;241m.\u001b[39mhidden_dim)\n",
      "File \u001b[0;32m~/Library/Python/3.9/lib/python/site-packages/torch/nn/modules/module.py:1739\u001b[0m, in \u001b[0;36mModule._wrapped_call_impl\u001b[0;34m(self, *args, **kwargs)\u001b[0m\n\u001b[1;32m   1737\u001b[0m     \u001b[38;5;28;01mreturn\u001b[39;00m \u001b[38;5;28mself\u001b[39m\u001b[38;5;241m.\u001b[39m_compiled_call_impl(\u001b[38;5;241m*\u001b[39margs, \u001b[38;5;241m*\u001b[39m\u001b[38;5;241m*\u001b[39mkwargs)  \u001b[38;5;66;03m# type: ignore[misc]\u001b[39;00m\n\u001b[1;32m   1738\u001b[0m \u001b[38;5;28;01melse\u001b[39;00m:\n\u001b[0;32m-> 1739\u001b[0m     \u001b[38;5;28;01mreturn\u001b[39;00m \u001b[38;5;28;43mself\u001b[39;49m\u001b[38;5;241;43m.\u001b[39;49m\u001b[43m_call_impl\u001b[49m\u001b[43m(\u001b[49m\u001b[38;5;241;43m*\u001b[39;49m\u001b[43margs\u001b[49m\u001b[43m,\u001b[49m\u001b[43m \u001b[49m\u001b[38;5;241;43m*\u001b[39;49m\u001b[38;5;241;43m*\u001b[39;49m\u001b[43mkwargs\u001b[49m\u001b[43m)\u001b[49m\n",
      "File \u001b[0;32m~/Library/Python/3.9/lib/python/site-packages/torch/nn/modules/module.py:1750\u001b[0m, in \u001b[0;36mModule._call_impl\u001b[0;34m(self, *args, **kwargs)\u001b[0m\n\u001b[1;32m   1745\u001b[0m \u001b[38;5;66;03m# If we don't have any hooks, we want to skip the rest of the logic in\u001b[39;00m\n\u001b[1;32m   1746\u001b[0m \u001b[38;5;66;03m# this function, and just call forward.\u001b[39;00m\n\u001b[1;32m   1747\u001b[0m \u001b[38;5;28;01mif\u001b[39;00m \u001b[38;5;129;01mnot\u001b[39;00m (\u001b[38;5;28mself\u001b[39m\u001b[38;5;241m.\u001b[39m_backward_hooks \u001b[38;5;129;01mor\u001b[39;00m \u001b[38;5;28mself\u001b[39m\u001b[38;5;241m.\u001b[39m_backward_pre_hooks \u001b[38;5;129;01mor\u001b[39;00m \u001b[38;5;28mself\u001b[39m\u001b[38;5;241m.\u001b[39m_forward_hooks \u001b[38;5;129;01mor\u001b[39;00m \u001b[38;5;28mself\u001b[39m\u001b[38;5;241m.\u001b[39m_forward_pre_hooks\n\u001b[1;32m   1748\u001b[0m         \u001b[38;5;129;01mor\u001b[39;00m _global_backward_pre_hooks \u001b[38;5;129;01mor\u001b[39;00m _global_backward_hooks\n\u001b[1;32m   1749\u001b[0m         \u001b[38;5;129;01mor\u001b[39;00m _global_forward_hooks \u001b[38;5;129;01mor\u001b[39;00m _global_forward_pre_hooks):\n\u001b[0;32m-> 1750\u001b[0m     \u001b[38;5;28;01mreturn\u001b[39;00m \u001b[43mforward_call\u001b[49m\u001b[43m(\u001b[49m\u001b[38;5;241;43m*\u001b[39;49m\u001b[43margs\u001b[49m\u001b[43m,\u001b[49m\u001b[43m \u001b[49m\u001b[38;5;241;43m*\u001b[39;49m\u001b[38;5;241;43m*\u001b[39;49m\u001b[43mkwargs\u001b[49m\u001b[43m)\u001b[49m\n\u001b[1;32m   1752\u001b[0m result \u001b[38;5;241m=\u001b[39m \u001b[38;5;28;01mNone\u001b[39;00m\n\u001b[1;32m   1753\u001b[0m called_always_called_hooks \u001b[38;5;241m=\u001b[39m \u001b[38;5;28mset\u001b[39m()\n",
      "File \u001b[0;32m~/Library/Python/3.9/lib/python/site-packages/torch/nn/modules/transformer.py:613\u001b[0m, in \u001b[0;36mTransformerDecoder.forward\u001b[0;34m(self, tgt, memory, tgt_mask, memory_mask, tgt_key_padding_mask, memory_key_padding_mask, tgt_is_causal, memory_is_causal)\u001b[0m\n\u001b[1;32m    610\u001b[0m tgt_is_causal \u001b[38;5;241m=\u001b[39m _detect_is_causal_mask(tgt_mask, tgt_is_causal, seq_len)\n\u001b[1;32m    612\u001b[0m \u001b[38;5;28;01mfor\u001b[39;00m mod \u001b[38;5;129;01min\u001b[39;00m \u001b[38;5;28mself\u001b[39m\u001b[38;5;241m.\u001b[39mlayers:\n\u001b[0;32m--> 613\u001b[0m     output \u001b[38;5;241m=\u001b[39m \u001b[43mmod\u001b[49m\u001b[43m(\u001b[49m\n\u001b[1;32m    614\u001b[0m \u001b[43m        \u001b[49m\u001b[43moutput\u001b[49m\u001b[43m,\u001b[49m\n\u001b[1;32m    615\u001b[0m \u001b[43m        \u001b[49m\u001b[43mmemory\u001b[49m\u001b[43m,\u001b[49m\n\u001b[1;32m    616\u001b[0m \u001b[43m        \u001b[49m\u001b[43mtgt_mask\u001b[49m\u001b[38;5;241;43m=\u001b[39;49m\u001b[43mtgt_mask\u001b[49m\u001b[43m,\u001b[49m\n\u001b[1;32m    617\u001b[0m \u001b[43m        \u001b[49m\u001b[43mmemory_mask\u001b[49m\u001b[38;5;241;43m=\u001b[39;49m\u001b[43mmemory_mask\u001b[49m\u001b[43m,\u001b[49m\n\u001b[1;32m    618\u001b[0m \u001b[43m        \u001b[49m\u001b[43mtgt_key_padding_mask\u001b[49m\u001b[38;5;241;43m=\u001b[39;49m\u001b[43mtgt_key_padding_mask\u001b[49m\u001b[43m,\u001b[49m\n\u001b[1;32m    619\u001b[0m \u001b[43m        \u001b[49m\u001b[43mmemory_key_padding_mask\u001b[49m\u001b[38;5;241;43m=\u001b[39;49m\u001b[43mmemory_key_padding_mask\u001b[49m\u001b[43m,\u001b[49m\n\u001b[1;32m    620\u001b[0m \u001b[43m        \u001b[49m\u001b[43mtgt_is_causal\u001b[49m\u001b[38;5;241;43m=\u001b[39;49m\u001b[43mtgt_is_causal\u001b[49m\u001b[43m,\u001b[49m\n\u001b[1;32m    621\u001b[0m \u001b[43m        \u001b[49m\u001b[43mmemory_is_causal\u001b[49m\u001b[38;5;241;43m=\u001b[39;49m\u001b[43mmemory_is_causal\u001b[49m\u001b[43m,\u001b[49m\n\u001b[1;32m    622\u001b[0m \u001b[43m    \u001b[49m\u001b[43m)\u001b[49m\n\u001b[1;32m    624\u001b[0m \u001b[38;5;28;01mif\u001b[39;00m \u001b[38;5;28mself\u001b[39m\u001b[38;5;241m.\u001b[39mnorm \u001b[38;5;129;01mis\u001b[39;00m \u001b[38;5;129;01mnot\u001b[39;00m \u001b[38;5;28;01mNone\u001b[39;00m:\n\u001b[1;32m    625\u001b[0m     output \u001b[38;5;241m=\u001b[39m \u001b[38;5;28mself\u001b[39m\u001b[38;5;241m.\u001b[39mnorm(output)\n",
      "File \u001b[0;32m~/Library/Python/3.9/lib/python/site-packages/torch/nn/modules/module.py:1739\u001b[0m, in \u001b[0;36mModule._wrapped_call_impl\u001b[0;34m(self, *args, **kwargs)\u001b[0m\n\u001b[1;32m   1737\u001b[0m     \u001b[38;5;28;01mreturn\u001b[39;00m \u001b[38;5;28mself\u001b[39m\u001b[38;5;241m.\u001b[39m_compiled_call_impl(\u001b[38;5;241m*\u001b[39margs, \u001b[38;5;241m*\u001b[39m\u001b[38;5;241m*\u001b[39mkwargs)  \u001b[38;5;66;03m# type: ignore[misc]\u001b[39;00m\n\u001b[1;32m   1738\u001b[0m \u001b[38;5;28;01melse\u001b[39;00m:\n\u001b[0;32m-> 1739\u001b[0m     \u001b[38;5;28;01mreturn\u001b[39;00m \u001b[38;5;28;43mself\u001b[39;49m\u001b[38;5;241;43m.\u001b[39;49m\u001b[43m_call_impl\u001b[49m\u001b[43m(\u001b[49m\u001b[38;5;241;43m*\u001b[39;49m\u001b[43margs\u001b[49m\u001b[43m,\u001b[49m\u001b[43m \u001b[49m\u001b[38;5;241;43m*\u001b[39;49m\u001b[38;5;241;43m*\u001b[39;49m\u001b[43mkwargs\u001b[49m\u001b[43m)\u001b[49m\n",
      "File \u001b[0;32m~/Library/Python/3.9/lib/python/site-packages/torch/nn/modules/module.py:1750\u001b[0m, in \u001b[0;36mModule._call_impl\u001b[0;34m(self, *args, **kwargs)\u001b[0m\n\u001b[1;32m   1745\u001b[0m \u001b[38;5;66;03m# If we don't have any hooks, we want to skip the rest of the logic in\u001b[39;00m\n\u001b[1;32m   1746\u001b[0m \u001b[38;5;66;03m# this function, and just call forward.\u001b[39;00m\n\u001b[1;32m   1747\u001b[0m \u001b[38;5;28;01mif\u001b[39;00m \u001b[38;5;129;01mnot\u001b[39;00m (\u001b[38;5;28mself\u001b[39m\u001b[38;5;241m.\u001b[39m_backward_hooks \u001b[38;5;129;01mor\u001b[39;00m \u001b[38;5;28mself\u001b[39m\u001b[38;5;241m.\u001b[39m_backward_pre_hooks \u001b[38;5;129;01mor\u001b[39;00m \u001b[38;5;28mself\u001b[39m\u001b[38;5;241m.\u001b[39m_forward_hooks \u001b[38;5;129;01mor\u001b[39;00m \u001b[38;5;28mself\u001b[39m\u001b[38;5;241m.\u001b[39m_forward_pre_hooks\n\u001b[1;32m   1748\u001b[0m         \u001b[38;5;129;01mor\u001b[39;00m _global_backward_pre_hooks \u001b[38;5;129;01mor\u001b[39;00m _global_backward_hooks\n\u001b[1;32m   1749\u001b[0m         \u001b[38;5;129;01mor\u001b[39;00m _global_forward_hooks \u001b[38;5;129;01mor\u001b[39;00m _global_forward_pre_hooks):\n\u001b[0;32m-> 1750\u001b[0m     \u001b[38;5;28;01mreturn\u001b[39;00m \u001b[43mforward_call\u001b[49m\u001b[43m(\u001b[49m\u001b[38;5;241;43m*\u001b[39;49m\u001b[43margs\u001b[49m\u001b[43m,\u001b[49m\u001b[43m \u001b[49m\u001b[38;5;241;43m*\u001b[39;49m\u001b[38;5;241;43m*\u001b[39;49m\u001b[43mkwargs\u001b[49m\u001b[43m)\u001b[49m\n\u001b[1;32m   1752\u001b[0m result \u001b[38;5;241m=\u001b[39m \u001b[38;5;28;01mNone\u001b[39;00m\n\u001b[1;32m   1753\u001b[0m called_always_called_hooks \u001b[38;5;241m=\u001b[39m \u001b[38;5;28mset\u001b[39m()\n",
      "File \u001b[0;32m~/Library/Python/3.9/lib/python/site-packages/torch/nn/modules/transformer.py:1112\u001b[0m, in \u001b[0;36mTransformerDecoderLayer.forward\u001b[0;34m(self, tgt, memory, tgt_mask, memory_mask, tgt_key_padding_mask, memory_key_padding_mask, tgt_is_causal, memory_is_causal)\u001b[0m\n\u001b[1;32m   1106\u001b[0m \u001b[38;5;28;01melse\u001b[39;00m:\n\u001b[1;32m   1107\u001b[0m     x \u001b[38;5;241m=\u001b[39m \u001b[38;5;28mself\u001b[39m\u001b[38;5;241m.\u001b[39mnorm1(\n\u001b[1;32m   1108\u001b[0m         x \u001b[38;5;241m+\u001b[39m \u001b[38;5;28mself\u001b[39m\u001b[38;5;241m.\u001b[39m_sa_block(x, tgt_mask, tgt_key_padding_mask, tgt_is_causal)\n\u001b[1;32m   1109\u001b[0m     )\n\u001b[1;32m   1110\u001b[0m     x \u001b[38;5;241m=\u001b[39m \u001b[38;5;28mself\u001b[39m\u001b[38;5;241m.\u001b[39mnorm2(\n\u001b[1;32m   1111\u001b[0m         x\n\u001b[0;32m-> 1112\u001b[0m         \u001b[38;5;241m+\u001b[39m \u001b[38;5;28;43mself\u001b[39;49m\u001b[38;5;241;43m.\u001b[39;49m\u001b[43m_mha_block\u001b[49m\u001b[43m(\u001b[49m\n\u001b[1;32m   1113\u001b[0m \u001b[43m            \u001b[49m\u001b[43mx\u001b[49m\u001b[43m,\u001b[49m\u001b[43m \u001b[49m\u001b[43mmemory\u001b[49m\u001b[43m,\u001b[49m\u001b[43m \u001b[49m\u001b[43mmemory_mask\u001b[49m\u001b[43m,\u001b[49m\u001b[43m \u001b[49m\u001b[43mmemory_key_padding_mask\u001b[49m\u001b[43m,\u001b[49m\u001b[43m \u001b[49m\u001b[43mmemory_is_causal\u001b[49m\n\u001b[1;32m   1114\u001b[0m \u001b[43m        \u001b[49m\u001b[43m)\u001b[49m\n\u001b[1;32m   1115\u001b[0m     )\n\u001b[1;32m   1116\u001b[0m     x \u001b[38;5;241m=\u001b[39m \u001b[38;5;28mself\u001b[39m\u001b[38;5;241m.\u001b[39mnorm3(x \u001b[38;5;241m+\u001b[39m \u001b[38;5;28mself\u001b[39m\u001b[38;5;241m.\u001b[39m_ff_block(x))\n\u001b[1;32m   1118\u001b[0m \u001b[38;5;28;01mreturn\u001b[39;00m x\n",
      "File \u001b[0;32m~/Library/Python/3.9/lib/python/site-packages/torch/nn/modules/transformer.py:1148\u001b[0m, in \u001b[0;36mTransformerDecoderLayer._mha_block\u001b[0;34m(self, x, mem, attn_mask, key_padding_mask, is_causal)\u001b[0m\n\u001b[1;32m   1140\u001b[0m \u001b[38;5;28;01mdef\u001b[39;00m \u001b[38;5;21m_mha_block\u001b[39m(\n\u001b[1;32m   1141\u001b[0m     \u001b[38;5;28mself\u001b[39m,\n\u001b[1;32m   1142\u001b[0m     x: Tensor,\n\u001b[0;32m   (...)\u001b[0m\n\u001b[1;32m   1146\u001b[0m     is_causal: \u001b[38;5;28mbool\u001b[39m \u001b[38;5;241m=\u001b[39m \u001b[38;5;28;01mFalse\u001b[39;00m,\n\u001b[1;32m   1147\u001b[0m ) \u001b[38;5;241m-\u001b[39m\u001b[38;5;241m>\u001b[39m Tensor:\n\u001b[0;32m-> 1148\u001b[0m     x \u001b[38;5;241m=\u001b[39m \u001b[38;5;28;43mself\u001b[39;49m\u001b[38;5;241;43m.\u001b[39;49m\u001b[43mmultihead_attn\u001b[49m\u001b[43m(\u001b[49m\n\u001b[1;32m   1149\u001b[0m \u001b[43m        \u001b[49m\u001b[43mx\u001b[49m\u001b[43m,\u001b[49m\n\u001b[1;32m   1150\u001b[0m \u001b[43m        \u001b[49m\u001b[43mmem\u001b[49m\u001b[43m,\u001b[49m\n\u001b[1;32m   1151\u001b[0m \u001b[43m        \u001b[49m\u001b[43mmem\u001b[49m\u001b[43m,\u001b[49m\n\u001b[1;32m   1152\u001b[0m \u001b[43m        \u001b[49m\u001b[43mattn_mask\u001b[49m\u001b[38;5;241;43m=\u001b[39;49m\u001b[43mattn_mask\u001b[49m\u001b[43m,\u001b[49m\n\u001b[1;32m   1153\u001b[0m \u001b[43m        \u001b[49m\u001b[43mkey_padding_mask\u001b[49m\u001b[38;5;241;43m=\u001b[39;49m\u001b[43mkey_padding_mask\u001b[49m\u001b[43m,\u001b[49m\n\u001b[1;32m   1154\u001b[0m \u001b[43m        \u001b[49m\u001b[43mis_causal\u001b[49m\u001b[38;5;241;43m=\u001b[39;49m\u001b[43mis_causal\u001b[49m\u001b[43m,\u001b[49m\n\u001b[1;32m   1155\u001b[0m \u001b[43m        \u001b[49m\u001b[43mneed_weights\u001b[49m\u001b[38;5;241;43m=\u001b[39;49m\u001b[38;5;28;43;01mFalse\u001b[39;49;00m\u001b[43m,\u001b[49m\n\u001b[1;32m   1156\u001b[0m \u001b[43m    \u001b[49m\u001b[43m)\u001b[49m[\u001b[38;5;241m0\u001b[39m]\n\u001b[1;32m   1157\u001b[0m     \u001b[38;5;28;01mreturn\u001b[39;00m \u001b[38;5;28mself\u001b[39m\u001b[38;5;241m.\u001b[39mdropout2(x)\n",
      "File \u001b[0;32m~/Library/Python/3.9/lib/python/site-packages/torch/nn/modules/module.py:1739\u001b[0m, in \u001b[0;36mModule._wrapped_call_impl\u001b[0;34m(self, *args, **kwargs)\u001b[0m\n\u001b[1;32m   1737\u001b[0m     \u001b[38;5;28;01mreturn\u001b[39;00m \u001b[38;5;28mself\u001b[39m\u001b[38;5;241m.\u001b[39m_compiled_call_impl(\u001b[38;5;241m*\u001b[39margs, \u001b[38;5;241m*\u001b[39m\u001b[38;5;241m*\u001b[39mkwargs)  \u001b[38;5;66;03m# type: ignore[misc]\u001b[39;00m\n\u001b[1;32m   1738\u001b[0m \u001b[38;5;28;01melse\u001b[39;00m:\n\u001b[0;32m-> 1739\u001b[0m     \u001b[38;5;28;01mreturn\u001b[39;00m \u001b[38;5;28;43mself\u001b[39;49m\u001b[38;5;241;43m.\u001b[39;49m\u001b[43m_call_impl\u001b[49m\u001b[43m(\u001b[49m\u001b[38;5;241;43m*\u001b[39;49m\u001b[43margs\u001b[49m\u001b[43m,\u001b[49m\u001b[43m \u001b[49m\u001b[38;5;241;43m*\u001b[39;49m\u001b[38;5;241;43m*\u001b[39;49m\u001b[43mkwargs\u001b[49m\u001b[43m)\u001b[49m\n",
      "File \u001b[0;32m~/Library/Python/3.9/lib/python/site-packages/torch/nn/modules/module.py:1750\u001b[0m, in \u001b[0;36mModule._call_impl\u001b[0;34m(self, *args, **kwargs)\u001b[0m\n\u001b[1;32m   1745\u001b[0m \u001b[38;5;66;03m# If we don't have any hooks, we want to skip the rest of the logic in\u001b[39;00m\n\u001b[1;32m   1746\u001b[0m \u001b[38;5;66;03m# this function, and just call forward.\u001b[39;00m\n\u001b[1;32m   1747\u001b[0m \u001b[38;5;28;01mif\u001b[39;00m \u001b[38;5;129;01mnot\u001b[39;00m (\u001b[38;5;28mself\u001b[39m\u001b[38;5;241m.\u001b[39m_backward_hooks \u001b[38;5;129;01mor\u001b[39;00m \u001b[38;5;28mself\u001b[39m\u001b[38;5;241m.\u001b[39m_backward_pre_hooks \u001b[38;5;129;01mor\u001b[39;00m \u001b[38;5;28mself\u001b[39m\u001b[38;5;241m.\u001b[39m_forward_hooks \u001b[38;5;129;01mor\u001b[39;00m \u001b[38;5;28mself\u001b[39m\u001b[38;5;241m.\u001b[39m_forward_pre_hooks\n\u001b[1;32m   1748\u001b[0m         \u001b[38;5;129;01mor\u001b[39;00m _global_backward_pre_hooks \u001b[38;5;129;01mor\u001b[39;00m _global_backward_hooks\n\u001b[1;32m   1749\u001b[0m         \u001b[38;5;129;01mor\u001b[39;00m _global_forward_hooks \u001b[38;5;129;01mor\u001b[39;00m _global_forward_pre_hooks):\n\u001b[0;32m-> 1750\u001b[0m     \u001b[38;5;28;01mreturn\u001b[39;00m \u001b[43mforward_call\u001b[49m\u001b[43m(\u001b[49m\u001b[38;5;241;43m*\u001b[39;49m\u001b[43margs\u001b[49m\u001b[43m,\u001b[49m\u001b[43m \u001b[49m\u001b[38;5;241;43m*\u001b[39;49m\u001b[38;5;241;43m*\u001b[39;49m\u001b[43mkwargs\u001b[49m\u001b[43m)\u001b[49m\n\u001b[1;32m   1752\u001b[0m result \u001b[38;5;241m=\u001b[39m \u001b[38;5;28;01mNone\u001b[39;00m\n\u001b[1;32m   1753\u001b[0m called_always_called_hooks \u001b[38;5;241m=\u001b[39m \u001b[38;5;28mset\u001b[39m()\n",
      "File \u001b[0;32m~/Library/Python/3.9/lib/python/site-packages/torch/nn/modules/activation.py:1373\u001b[0m, in \u001b[0;36mMultiheadAttention.forward\u001b[0;34m(self, query, key, value, key_padding_mask, need_weights, attn_mask, average_attn_weights, is_causal)\u001b[0m\n\u001b[1;32m   1347\u001b[0m     attn_output, attn_output_weights \u001b[38;5;241m=\u001b[39m F\u001b[38;5;241m.\u001b[39mmulti_head_attention_forward(\n\u001b[1;32m   1348\u001b[0m         query,\n\u001b[1;32m   1349\u001b[0m         key,\n\u001b[0;32m   (...)\u001b[0m\n\u001b[1;32m   1370\u001b[0m         is_causal\u001b[38;5;241m=\u001b[39mis_causal,\n\u001b[1;32m   1371\u001b[0m     )\n\u001b[1;32m   1372\u001b[0m \u001b[38;5;28;01melse\u001b[39;00m:\n\u001b[0;32m-> 1373\u001b[0m     attn_output, attn_output_weights \u001b[38;5;241m=\u001b[39m \u001b[43mF\u001b[49m\u001b[38;5;241;43m.\u001b[39;49m\u001b[43mmulti_head_attention_forward\u001b[49m\u001b[43m(\u001b[49m\n\u001b[1;32m   1374\u001b[0m \u001b[43m        \u001b[49m\u001b[43mquery\u001b[49m\u001b[43m,\u001b[49m\n\u001b[1;32m   1375\u001b[0m \u001b[43m        \u001b[49m\u001b[43mkey\u001b[49m\u001b[43m,\u001b[49m\n\u001b[1;32m   1376\u001b[0m \u001b[43m        \u001b[49m\u001b[43mvalue\u001b[49m\u001b[43m,\u001b[49m\n\u001b[1;32m   1377\u001b[0m \u001b[43m        \u001b[49m\u001b[38;5;28;43mself\u001b[39;49m\u001b[38;5;241;43m.\u001b[39;49m\u001b[43membed_dim\u001b[49m\u001b[43m,\u001b[49m\n\u001b[1;32m   1378\u001b[0m \u001b[43m        \u001b[49m\u001b[38;5;28;43mself\u001b[39;49m\u001b[38;5;241;43m.\u001b[39;49m\u001b[43mnum_heads\u001b[49m\u001b[43m,\u001b[49m\n\u001b[1;32m   1379\u001b[0m \u001b[43m        \u001b[49m\u001b[38;5;28;43mself\u001b[39;49m\u001b[38;5;241;43m.\u001b[39;49m\u001b[43min_proj_weight\u001b[49m\u001b[43m,\u001b[49m\n\u001b[1;32m   1380\u001b[0m \u001b[43m        \u001b[49m\u001b[38;5;28;43mself\u001b[39;49m\u001b[38;5;241;43m.\u001b[39;49m\u001b[43min_proj_bias\u001b[49m\u001b[43m,\u001b[49m\n\u001b[1;32m   1381\u001b[0m \u001b[43m        \u001b[49m\u001b[38;5;28;43mself\u001b[39;49m\u001b[38;5;241;43m.\u001b[39;49m\u001b[43mbias_k\u001b[49m\u001b[43m,\u001b[49m\n\u001b[1;32m   1382\u001b[0m \u001b[43m        \u001b[49m\u001b[38;5;28;43mself\u001b[39;49m\u001b[38;5;241;43m.\u001b[39;49m\u001b[43mbias_v\u001b[49m\u001b[43m,\u001b[49m\n\u001b[1;32m   1383\u001b[0m \u001b[43m        \u001b[49m\u001b[38;5;28;43mself\u001b[39;49m\u001b[38;5;241;43m.\u001b[39;49m\u001b[43madd_zero_attn\u001b[49m\u001b[43m,\u001b[49m\n\u001b[1;32m   1384\u001b[0m \u001b[43m        \u001b[49m\u001b[38;5;28;43mself\u001b[39;49m\u001b[38;5;241;43m.\u001b[39;49m\u001b[43mdropout\u001b[49m\u001b[43m,\u001b[49m\n\u001b[1;32m   1385\u001b[0m \u001b[43m        \u001b[49m\u001b[38;5;28;43mself\u001b[39;49m\u001b[38;5;241;43m.\u001b[39;49m\u001b[43mout_proj\u001b[49m\u001b[38;5;241;43m.\u001b[39;49m\u001b[43mweight\u001b[49m\u001b[43m,\u001b[49m\n\u001b[1;32m   1386\u001b[0m \u001b[43m        \u001b[49m\u001b[38;5;28;43mself\u001b[39;49m\u001b[38;5;241;43m.\u001b[39;49m\u001b[43mout_proj\u001b[49m\u001b[38;5;241;43m.\u001b[39;49m\u001b[43mbias\u001b[49m\u001b[43m,\u001b[49m\n\u001b[1;32m   1387\u001b[0m \u001b[43m        \u001b[49m\u001b[43mtraining\u001b[49m\u001b[38;5;241;43m=\u001b[39;49m\u001b[38;5;28;43mself\u001b[39;49m\u001b[38;5;241;43m.\u001b[39;49m\u001b[43mtraining\u001b[49m\u001b[43m,\u001b[49m\n\u001b[1;32m   1388\u001b[0m \u001b[43m        \u001b[49m\u001b[43mkey_padding_mask\u001b[49m\u001b[38;5;241;43m=\u001b[39;49m\u001b[43mkey_padding_mask\u001b[49m\u001b[43m,\u001b[49m\n\u001b[1;32m   1389\u001b[0m \u001b[43m        \u001b[49m\u001b[43mneed_weights\u001b[49m\u001b[38;5;241;43m=\u001b[39;49m\u001b[43mneed_weights\u001b[49m\u001b[43m,\u001b[49m\n\u001b[1;32m   1390\u001b[0m \u001b[43m        \u001b[49m\u001b[43mattn_mask\u001b[49m\u001b[38;5;241;43m=\u001b[39;49m\u001b[43mattn_mask\u001b[49m\u001b[43m,\u001b[49m\n\u001b[1;32m   1391\u001b[0m \u001b[43m        \u001b[49m\u001b[43maverage_attn_weights\u001b[49m\u001b[38;5;241;43m=\u001b[39;49m\u001b[43maverage_attn_weights\u001b[49m\u001b[43m,\u001b[49m\n\u001b[1;32m   1392\u001b[0m \u001b[43m        \u001b[49m\u001b[43mis_causal\u001b[49m\u001b[38;5;241;43m=\u001b[39;49m\u001b[43mis_causal\u001b[49m\u001b[43m,\u001b[49m\n\u001b[1;32m   1393\u001b[0m \u001b[43m    \u001b[49m\u001b[43m)\u001b[49m\n\u001b[1;32m   1394\u001b[0m \u001b[38;5;28;01mif\u001b[39;00m \u001b[38;5;28mself\u001b[39m\u001b[38;5;241m.\u001b[39mbatch_first \u001b[38;5;129;01mand\u001b[39;00m is_batched:\n\u001b[1;32m   1395\u001b[0m     \u001b[38;5;28;01mreturn\u001b[39;00m attn_output\u001b[38;5;241m.\u001b[39mtranspose(\u001b[38;5;241m1\u001b[39m, \u001b[38;5;241m0\u001b[39m), attn_output_weights\n",
      "\u001b[0;31mKeyboardInterrupt\u001b[0m: "
     ]
    }
   ],
   "source": [
    "optim_iters = 10\n",
    "optim_step = 0.1\n",
    "b_min = 1e-3\n",
    "beta = 1e-3\n",
    "print(F_base.requires_grad)\n",
    "F_base, FreeEnergy, G = Adam_at_beta(\n",
    "    F_base, START_locs, END_locs, vrp_net, lse_net, optim_iters, \n",
    "    optim_step, b_min, beta, D_max_range=2.0, allowPrint=True)\n"
   ]
  },
  {
   "cell_type": "markdown",
   "metadata": {},
   "source": [
    "#### using gradient descent 1 (comment the other two optimization implementations)"
   ]
  },
  {
   "cell_type": "code",
   "execution_count": 28,
   "metadata": {},
   "outputs": [],
   "source": [
    "# optim_iters = 500\n",
    "# optim_step = 0.001\n",
    "# b_min = 1e-3\n",
    "# beta = 1e-3\n",
    "\n",
    "# F_base, FreeEnergy, G = Adam_at_beta(\n",
    "#     F_base, num_drones, vrp_net, lse_net, optim_iters, \n",
    "#     optim_step, b_min, beta, D_max_range=2.0, allowPrint=True)\n"
   ]
  },
  {
   "cell_type": "markdown",
   "metadata": {},
   "source": [
    "#### using Adam optimizer from torch.optim (comment the other two optimization implementations)"
   ]
  },
  {
   "cell_type": "code",
   "execution_count": 27,
   "metadata": {},
   "outputs": [],
   "source": [
    "# optim_iters = 1000\n",
    "# optim_step = 0.01\n",
    "# b_min = 1e-3\n",
    "# beta = 1e-3\n",
    "\n",
    "# F_base, FreeEnergy, G = GD_at_beta1(\n",
    "#     F_base, num_drones, vrp_net, lse_net, optim_iters, \n",
    "#     optim_step, b_min, beta, D_max_range=2.0, allowPrint=True)\n"
   ]
  },
  {
   "cell_type": "code",
   "execution_count": 19,
   "metadata": {},
   "outputs": [
    {
     "data": {
      "text/plain": [
       "tensor([[[ 0.4324,  0.3063],\n",
       "         [-0.0994,  0.9379],\n",
       "         [ 0.1801,  0.2618],\n",
       "         [-0.1457,  0.9905],\n",
       "         [ 0.3351,  0.5444],\n",
       "         [ 0.5180,  0.5180],\n",
       "         [ 0.6652,  0.2300],\n",
       "         [ 0.7307,  1.0650],\n",
       "         [ 0.6034,  0.2034],\n",
       "         [ 0.7942,  1.0572],\n",
       "         [-0.1771, -0.0850],\n",
       "         [ 0.4324,  1.1202],\n",
       "         [-0.1086,  1.0434],\n",
       "         [ 0.6052,  0.8373],\n",
       "         [ 0.7361,  1.0874],\n",
       "         [ 0.2679,  0.3476],\n",
       "         [ 0.6867,  1.1347],\n",
       "         [ 0.6359,  0.8902],\n",
       "         [ 0.6663,  0.8940],\n",
       "         [ 0.2904,  0.7707]]], requires_grad=True)"
      ]
     },
     "execution_count": 19,
     "metadata": {},
     "output_type": "execute_result"
    }
   ],
   "source": [
    "F_base"
   ]
  },
  {
   "cell_type": "code",
   "execution_count": 20,
   "metadata": {},
   "outputs": [
    {
     "data": {
      "image/png": "[encoded data removed]",
      "text/plain": [
       "<Figure size 400x300 with 1 Axes>"
      ]
     },
     "metadata": {},
     "output_type": "display_data"
    }
   ],
   "source": [
    "plot_UAV_FLPO(START_locs, END_locs, F_base, (4,3))"
   ]
  },
  {
   "cell_type": "markdown",
   "metadata": {},
   "source": [
    "### Annealing loop implementation"
   ]
  },
  {
   "cell_type": "code",
   "execution_count": 43,
   "metadata": {},
   "outputs": [
    {
     "name": "stdout",
     "output_type": "stream",
     "text": [
      "beta: 1.0000e-03\tFreeE: 1.3718\tGrad: 1.0314e-03\n",
      "beta: 3.0000e-03\tFreeE: 1.3534\tGrad: 9.4309e-04\n",
      "beta: 9.0000e-03\tFreeE: 1.3310\tGrad: 9.4154e-04\n",
      "beta: 2.7000e-02\tFreeE: 1.1542\tGrad: 2.6768e-03\n",
      "beta: 8.1000e-02\tFreeE: 1.0838\tGrad: 5.1806e-03\n",
      "beta: 2.4300e-01\tFreeE: 1.0567\tGrad: 6.4388e-03\n",
      "beta: 7.2900e-01\tFreeE: 0.9776\tGrad: 4.3463e-06\n",
      "beta: 2.1870e+00\tFreeE: 0.8144\tGrad: 2.9206e-07\n",
      "beta: 6.5610e+00\tFreeE: 0.5622\tGrad: 2.9206e-07\n",
      "beta: 1.9683e+01\tFreeE: 0.3717\tGrad: 2.7120e-07\n",
      "beta: 5.9049e+01\tFreeE: 0.2432\tGrad: 4.4195e-03\n",
      "beta: 1.7715e+02\tFreeE: 0.2160\tGrad: 2.0672e-02\n",
      "beta: 5.3144e+02\tFreeE: 0.1882\tGrad: 4.6555e-05\n",
      "beta: 1.5943e+03\tFreeE: 0.1873\tGrad: 3.0335e-08\n",
      "beta: 4.7830e+03\tFreeE: 0.1864\tGrad: 3.0335e-08\n",
      "beta: 1.4349e+04\tFreeE: 0.1855\tGrad: 3.0335e-08\n",
      "beta: 4.3047e+04\tFreeE: 0.1846\tGrad: 3.0335e-08\n"
     ]
    }
   ],
   "source": [
    "beta_min = 1e-3\n",
    "beta_max = 1e5\n",
    "beta_grow = 3\n",
    "beta = 1e-3\n",
    "optim_iters = 200\n",
    "optim_step = 0.1 # 0.1 for gd0, use < 0.01 for the other two optimizers\n",
    "\n",
    "F_base, b_arr, F_arr = anneal(\n",
    "    F_base, num_drones, vrp_net, lse_net, optim_iters, optim_step, \n",
    "    beta_min, beta_max, beta_grow, D_max_range=2.0, \n",
    "    optimizer_name='gradient_descent0', allowPrint=True)\n"
   ]
  },
  {
   "cell_type": "code",
   "execution_count": 44,
   "metadata": {},
   "outputs": [
    {
     "data": {
      "text/plain": [
       "tensor([[[0.5649, 0.2896],\n",
       "         [0.6738, 0.3355],\n",
       "         [0.2933, 0.1494],\n",
       "         [0.4400, 0.2241],\n",
       "         [0.1467, 0.0747]]], grad_fn=<SubBackward0>)"
      ]
     },
     "execution_count": 44,
     "metadata": {},
     "output_type": "execute_result"
    }
   ],
   "source": [
    "F_base"
   ]
  },
  {
   "cell_type": "code",
   "execution_count": 45,
   "metadata": {},
   "outputs": [
    {
     "data": {
      "image/png": "[encoded data removed]",
      "text/plain": [
       "<Figure size 400x300 with 1 Axes>"
      ]
     },
     "metadata": {},
     "output_type": "display_data"
    }
   ],
   "source": [
    "plot_UAV_FLPO(START_locs, END_locs, F_base, (4,3))"
   ]
  },
  {
   "cell_type": "markdown",
   "metadata": {},
   "source": [
    "### Plot free energy during annealing implementation"
   ]
  },
  {
   "cell_type": "code",
   "execution_count": 51,
   "metadata": {},
   "outputs": [
    {
     "data": {
      "image/png": "[encoded data removed]",
      "text/plain": [
       "<Figure size 1000x300 with 1 Axes>"
      ]
     },
     "metadata": {},
     "output_type": "display_data"
    }
   ],
   "source": [
    "# plot free energy evolution\n",
    "plt.figure(figsize=(10,3))\n",
    "plt.plot(np.log(b_arr)/np.log(10), F_arr, marker='.')\n",
    "plt.ylabel(rf'$F$')\n",
    "plt.xlabel(rf'$\\log_{{10}}\\beta$')\n",
    "plt.grid()\n",
    "plt.show()"
   ]
  }
 ],
 "metadata": {
  "kernelspec": {
   "display_name": "Python 3",
   "language": "python",
   "name": "python3"
  },
  "language_info": {
   "codemirror_mode": {
    "name": "ipython",
    "version": 3
   },
   "file_extension": ".py",
   "mimetype": "text/x-python",
   "name": "python",
   "nbconvert_exporter": "python",
   "pygments_lexer": "ipython3",
   "version": "3.9.6"
  }
 },
 "nbformat": 4,
 "nbformat_minor": 2
}
