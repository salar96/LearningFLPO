{
 "cells": [
  {
   "cell_type": "code",
   "execution_count": 1,
   "metadata": {},
   "outputs": [],
   "source": [
    "import torch\n",
    "from VRP_Net_L import VRPNet_L\n",
    "from matplotlib import pyplot as plt\n",
    "import utils\n",
    "import matplotlib.pyplot as plt\n",
    "from torchinfo import summary\n",
    "import numpy as np\n",
    "import LSE_net\n",
    "import importlib\n",
    "from DatasetGenerator import generate_dataset, torchFLPO_2_numpyFLPO\n",
    "from viz import plot_UAV_FLPO, plot_UAV_FLPO_3D\n",
    "import Animator\n",
    "from pathlib import Path\n",
    "import GD\n",
    "from Anneal import anneal"
   ]
  },
  {
   "cell_type": "code",
   "execution_count": 2,
   "metadata": {},
   "outputs": [
    {
     "name": "stdout",
     "output_type": "stream",
     "text": [
      "Running on:  cuda\n"
     ]
    }
   ],
   "source": [
    "seed=0;\n",
    "torch.manual_seed(seed)\n",
    "torch.cuda.manual_seed(seed)\n",
    "torch.cuda.manual_seed_all(seed)\n",
    "device = torch.device('cuda') if torch.cuda.is_available() else torch.device('cpu')\n",
    "np.random.seed(seed)\n",
    "print(\"Running on: \" , device)"
   ]
  },
  {
   "cell_type": "markdown",
   "metadata": {},
   "source": [
    "### Initialize an FLPO scenario"
   ]
  },
  {
   "cell_type": "markdown",
   "metadata": {},
   "source": [
    "Run the below command if you encounter errors running the plotting block."
   ]
  },
  {
   "cell_type": "code",
   "execution_count": 3,
   "metadata": {},
   "outputs": [],
   "source": [
    "# !pip install nbformat --upgrade\n"
   ]
  },
  {
   "cell_type": "code",
   "execution_count": 4,
   "metadata": {},
   "outputs": [
    {
     "name": "stdout",
     "output_type": "stream",
     "text": [
      "num_drones = 50\tnum_facilities = 200\tdim = 2\n",
      "Data Created.\n"
     ]
    },
    {
     "data": {
      "image/png": "[encoded data removed]",
      "text/plain": [
       "<Figure size 600x500 with 1 Axes>"
      ]
     },
     "metadata": {},
     "output_type": "display_data"
    },
    {
     "data": {
      "application/vnd.plotly.v1+json": {
       "config": {
        "plotlyServerURL": "https://plot.ly"
       },
       "data": [
        {
         "mode": "text",
         "name": "Drone Start",
         "text": [
          "𖥂",
          "𖥂",
          "𖥂",
          "𖥂",
          "𖥂",
          "𖥂",
          "𖥂",
          "𖥂",
          "𖥂",
          "𖥂",
          "𖥂",
          "𖥂",
          "𖥂",
          "𖥂",
          "𖥂",
          "𖥂",
          "𖥂",
          "𖥂",
          "𖥂",
          "𖥂",
          "𖥂",
          "𖥂",
          "𖥂",
          "𖥂",
          "𖥂",
          "𖥂",
          "𖥂",
          "𖥂",
          "𖥂",
          "𖥂",
          "𖥂",
          "𖥂",
          "𖥂",
          "𖥂",
          "𖥂",
          "𖥂",
          "𖥂",
          "𖥂",
          "𖥂",
          "𖥂",
          "𖥂",
          "𖥂",
          "𖥂",
          "𖥂",
          "𖥂",
          "𖥂",
          "𖥂",
          "𖥂",
          "𖥂",
          "𖥂"
         ],
         "textfont": {
          "color": "cyan",
          "size": 16
         },
         "type": "scatter3d",
         "x": {
          "bdata": "87jaPj36mD4Rdvk+q0PmPqP91D7aLb4+XAAFP8GkFz9xOfk+hnwaP9Iv6z6sFaI+zVS1PvglwT5WwqA+FGiyPhQngz4hnao+8Y6LPldWlT7db4c++LKnPtOLoj79NZY+MYe3PrzVrz4sHBs/b1zaPsVY7D6oSAI/rXbUPhlVBD9u790+XtkTPy8P4T6N1ck+//cBP2xPvD5mQjU9cqjzvK6u6bwYObC7D3JnPHrNUL0wVr261CrkvDqVoD2sOXG83Ga4PcB1pj0=",
          "dtype": "f4"
         },
         "y": {
          "bdata": "+9A8P/5XRz+69zk/+po+P8z2PT/Id24/IERBP2R5Wj9uHls/fztYP9BhKj89nh4/XWQdP38lKD8KAxw/RT4oP8HiHz/SICU/pGshP91YLj/BYi0/Ts8eP+RqIT/xHR0/vsEePzjwJT+mnhc/AK8jP5QYHD/PdS0/ltUjP9gxIz8jkiA/9uAHP6rkJT9y+yw/Z4EiP98WMj/p7ss9x2g8PqBLUT51hEE+vnYgPkqwTD4C/FQ+MVRHPraoaj5iZus9bs48PmAmIT4=",
          "dtype": "f4"
         },
         "z": {
          "bdata": "AAAAAAAA8D8AAAAAAADwPwAAAAAAAPA/AAAAAAAA8D8AAAAAAADwPwAAAAAAAPA/AAAAAAAA8D8AAAAAAADwPwAAAAAAAPA/AAAAAAAA8D8AAAAAAADwPwAAAAAAAPA/AAAAAAAA8D8AAAAAAADwPwAAAAAAAPA/AAAAAAAA8D8AAAAAAADwPwAAAAAAAPA/AAAAAAAA8D8AAAAAAADwPwAAAAAAAPA/AAAAAAAA8D8AAAAAAADwPwAAAAAAAPA/AAAAAAAA8D8AAAAAAADwPwAAAAAAAPA/AAAAAAAA8D8AAAAAAADwPwAAAAAAAPA/AAAAAAAA8D8AAAAAAADwPwAAAAAAAPA/AAAAAAAA8D8AAAAAAADwPwAAAAAAAPA/AAAAAAAA8D8AAAAAAADwPwAAAAAAAPA/AAAAAAAA8D8AAAAAAADwPwAAAAAAAPA/AAAAAAAA8D8AAAAAAADwPwAAAAAAAPA/AAAAAAAA8D8AAAAAAADwPwAAAAAAAPA/AAAAAAAA8D8AAAAAAADwPw==",
          "dtype": "f8"
         }
        },
        {
         "mode": "text",
         "name": "Drone End",
         "text": [
          "📍",
          "📍",
          "📍",
          "📍",
          "📍",
          "📍",
          "📍",
          "📍",
          "📍",
          "📍",
          "📍",
          "📍",
          "📍",
          "📍",
          "📍",
          "📍",
          "📍",
          "📍",
          "📍",
          "📍",
          "📍",
          "📍",
          "📍",
          "📍",
          "📍",
          "📍",
          "📍",
          "📍",
          "📍",
          "📍",
          "📍",
          "📍",
          "📍",
          "📍",
          "📍",
          "📍",
          "📍",
          "📍",
          "📍",
          "📍",
          "📍",
          "📍",
          "📍",
          "📍",
          "📍",
          "📍",
          "📍",
          "📍",
          "📍",
          "📍"
         ],
         "textfont": {
          "color": "red",
          "size": 20
         },
         "type": "scatter3d",
         "x": {
          "bdata": "wz1vP8M9bz/DPW8/wz1vP8M9bz/DPW8/wz1vP8M9bz/DPW8/wz1vPyiR5j4okeY+KJHmPiiR5j4okeY+KJHmPiiR5j4okeY+KJHmPiiR5j5MrzY/TK82P0yvNj9MrzY/TK82P0yvNj9MrzY/TK82P0yvNj9MrzY/HbMoPx2zKD8dsyg/HbMoPx2zKD8dsyg/HbMoPx2zKD8dsyg/HbMoP6Yafz6mGn8+php/PqYafz6mGn8+php/PqYafz6mGn8+php/PqYafz4=",
          "dtype": "f4"
         },
         "y": {
          "bdata": "8xpSP/MaUj/zGlI/8xpSP/MaUj/zGlI/8xpSP/MaUj/zGlI/8xpSP1XuVz9V7lc/Ve5XP1XuVz9V7lc/Ve5XP1XuVz9V7lc/Ve5XP1XuVz8SHWQ9Eh1kPRIdZD0SHWQ9Eh1kPRIdZD0SHWQ9Eh1kPRIdZD0SHWQ9lSKrPZUiqz2VIqs9lSKrPZUiqz2VIqs9lSKrPZUiqz2VIqs9lSKrPf/xPT//8T0///E9P//xPT//8T0///E9P//xPT//8T0///E9P//xPT8=",
          "dtype": "f4"
         },
         "z": {
          "bdata": "AAAAAAAAAAAAAAAAAAAAAAAAAAAAAAAAAAAAAAAAAAAAAAAAAAAAAAAAAAAAAAAAAAAAAAAAAAAAAAAAAAAAAAAAAAAAAAAAAAAAAAAAAAAAAAAAAAAAAAAAAAAAAAAAAAAAAAAAAAAAAAAAAAAAAAAAAAAAAAAAAAAAAAAAAAAAAAAAAAAAAAAAAAAAAAAAAAAAAAAAAAAAAAAAAAAAAAAAAAAAAAAAAAAAAAAAAAAAAAAAAAAAAAAAAAAAAAAAAAAAAAAAAAAAAAAAAAAAAAAAAAAAAAAAAAAAAAAAAAAAAAAAAAAAAAAAAAAAAAAAAAAAAAAAAAAAAAAAAAAAAAAAAAAAAAAAAAAAAAAAAAAAAAAAAAAAAAAAAAAAAAAAAAAAAAAAAAAAAAAAAAAAAAAAAAAAAAAAAAAAAAAAAAAAAAAAAAAAAAAAAAAAAAAAAAAAAAAAAAAAAAAAAAAAAAAAAAAAAAAAAAAAAAAAAAAAAAAAAAAAAAAAAAAAAAAAAAAAAAAAAAAAAAAAAAAAAA==",
          "dtype": "f8"
         }
        },
        {
         "line": {
          "color": "gray",
          "width": 3
         },
         "mode": "lines",
         "showlegend": false,
         "type": "scatter3d",
         "x": [
          0.25992679595947266,
          0.25992679595947266
         ],
         "y": [
          0.6083675026893616,
          0.6083675026893616
         ],
         "z": [
          0,
          1
         ]
        },
        {
         "line": {
          "color": "gray",
          "width": 3
         },
         "mode": "lines",
         "showlegend": false,
         "type": "scatter3d",
         "x": [
          0.28845643997192383,
          0.28845643997192383
         ],
         "y": [
          0.5122325420379639,
          0.5122325420379639
         ],
         "z": [
          0,
          1
         ]
        },
        {
         "line": {
          "color": "gray",
          "width": 3
         },
         "mode": "lines",
         "showlegend": false,
         "type": "scatter3d",
         "x": [
          0.14968183636665344,
          0.14968183636665344
         ],
         "y": [
          0.42842429876327515,
          0.42842429876327515
         ],
         "z": [
          0,
          1
         ]
        },
        {
         "line": {
          "color": "gray",
          "width": 3
         },
         "mode": "lines",
         "showlegend": false,
         "type": "scatter3d",
         "x": [
          0.34688863158226013,
          0.34688863158226013
         ],
         "y": [
          0.39942431449890137,
          0.39942431449890137
         ],
         "z": [
          0,
          1
         ]
        },
        {
         "line": {
          "color": "gray",
          "width": 3
         },
         "mode": "lines",
         "showlegend": false,
         "type": "scatter3d",
         "x": [
          0.41381675004959106,
          0.41381675004959106
         ],
         "y": [
          0.7042368650436401,
          0.7042368650436401
         ],
         "z": [
          0,
          1
         ]
        },
        {
         "line": {
          "color": "gray",
          "width": 3
         },
         "mode": "lines",
         "showlegend": false,
         "type": "scatter3d",
         "x": [
          0.38396990299224854,
          0.38396990299224854
         ],
         "y": [
          0.5730890035629272,
          0.5730890035629272
         ],
         "z": [
          0,
          1
         ]
        },
        {
         "line": {
          "color": "gray",
          "width": 3
         },
         "mode": "lines",
         "showlegend": false,
         "type": "scatter3d",
         "x": [
          0.42805808782577515,
          0.42805808782577515
         ],
         "y": [
          0.6116940975189209,
          0.6116940975189209
         ],
         "z": [
          0,
          1
         ]
        },
        {
         "line": {
          "color": "gray",
          "width": 3
         },
         "mode": "lines",
         "showlegend": false,
         "type": "scatter3d",
         "x": [
          0.30645471811294556,
          0.30645471811294556
         ],
         "y": [
          0.6094121932983398,
          0.6094121932983398
         ],
         "z": [
          0,
          1
         ]
        },
        {
         "line": {
          "color": "gray",
          "width": 3
         },
         "mode": "lines",
         "showlegend": false,
         "type": "scatter3d",
         "x": [
          0.3198661506175995,
          0.3198661506175995
         ],
         "y": [
          0.6049414277076721,
          0.6049414277076721
         ],
         "z": [
          0,
          1
         ]
        },
        {
         "line": {
          "color": "gray",
          "width": 3
         },
         "mode": "lines",
         "showlegend": false,
         "type": "scatter3d",
         "x": [
          0.3589431941509247,
          0.3589431941509247
         ],
         "y": [
          0.45377790927886963,
          0.45377790927886963
         ],
         "z": [
          0,
          1
         ]
        },
        {
         "line": {
          "color": "gray",
          "width": 3
         },
         "mode": "lines",
         "showlegend": false,
         "type": "scatter3d",
         "x": [
          0.38007843494415283,
          0.38007843494415283
         ],
         "y": [
          0.6210594773292542,
          0.6210594773292542
         ],
         "z": [
          0,
          1
         ]
        },
        {
         "line": {
          "color": "gray",
          "width": 3
         },
         "mode": "lines",
         "showlegend": false,
         "type": "scatter3d",
         "x": [
          0.5108169913291931,
          0.5108169913291931
         ],
         "y": [
          0.751440167427063,
          0.751440167427063
         ],
         "z": [
          0,
          1
         ]
        },
        {
         "line": {
          "color": "gray",
          "width": 3
         },
         "mode": "lines",
         "showlegend": false,
         "type": "scatter3d",
         "x": [
          0.3210633099079132,
          0.3210633099079132
         ],
         "y": [
          0.518166184425354,
          0.518166184425354
         ],
         "z": [
          0,
          1
         ]
        },
        {
         "line": {
          "color": "gray",
          "width": 3
         },
         "mode": "lines",
         "showlegend": false,
         "type": "scatter3d",
         "x": [
          0.41253286600112915,
          0.41253286600112915
         ],
         "y": [
          0.404552161693573,
          0.404552161693573
         ],
         "z": [
          0,
          1
         ]
        },
        {
         "line": {
          "color": "gray",
          "width": 3
         },
         "mode": "lines",
         "showlegend": false,
         "type": "scatter3d",
         "x": [
          0.3715229630470276,
          0.3715229630470276
         ],
         "y": [
          0.6583959460258484,
          0.6583959460258484
         ],
         "z": [
          0,
          1
         ]
        },
        {
         "line": {
          "color": "gray",
          "width": 3
         },
         "mode": "lines",
         "showlegend": false,
         "type": "scatter3d",
         "x": [
          0.44956207275390625,
          0.44956207275390625
         ],
         "y": [
          0.601290225982666,
          0.601290225982666
         ],
         "z": [
          0,
          1
         ]
        },
        {
         "line": {
          "color": "gray",
          "width": 3
         },
         "mode": "lines",
         "showlegend": false,
         "type": "scatter3d",
         "x": [
          0.25795960426330566,
          0.25795960426330566
         ],
         "y": [
          0.6892633438110352,
          0.6892633438110352
         ],
         "z": [
          0,
          1
         ]
        },
        {
         "line": {
          "color": "gray",
          "width": 3
         },
         "mode": "lines",
         "showlegend": false,
         "type": "scatter3d",
         "x": [
          0.1741473525762558,
          0.1741473525762558
         ],
         "y": [
          0.658871591091156,
          0.658871591091156
         ],
         "z": [
          0,
          1
         ]
        },
        {
         "line": {
          "color": "gray",
          "width": 3
         },
         "mode": "lines",
         "showlegend": false,
         "type": "scatter3d",
         "x": [
          0.33018630743026733,
          0.33018630743026733
         ],
         "y": [
          0.5335807800292969,
          0.5335807800292969
         ],
         "z": [
          0,
          1
         ]
        },
        {
         "line": {
          "color": "gray",
          "width": 3
         },
         "mode": "lines",
         "showlegend": false,
         "type": "scatter3d",
         "x": [
          0.2850692868232727,
          0.2850692868232727
         ],
         "y": [
          0.6718409657478333,
          0.6718409657478333
         ],
         "z": [
          0,
          1
         ]
        },
        {
         "line": {
          "color": "gray",
          "width": 3
         },
         "mode": "lines",
         "showlegend": false,
         "type": "scatter3d",
         "x": [
          0.3315020501613617,
          0.3315020501613617
         ],
         "y": [
          0.4482303261756897,
          0.4482303261756897
         ],
         "z": [
          0,
          1
         ]
        },
        {
         "line": {
          "color": "gray",
          "width": 3
         },
         "mode": "lines",
         "showlegend": false,
         "type": "scatter3d",
         "x": [
          0.11211371421813965,
          0.11211371421813965
         ],
         "y": [
          0.5686339139938354,
          0.5686339139938354
         ],
         "z": [
          0,
          1
         ]
        },
        {
         "line": {
          "color": "gray",
          "width": 3
         },
         "mode": "lines",
         "showlegend": false,
         "type": "scatter3d",
         "x": [
          0.20925727486610413,
          0.20925727486610413
         ],
         "y": [
          0.6895418167114258,
          0.6895418167114258
         ],
         "z": [
          0,
          1
         ]
        },
        {
         "line": {
          "color": "gray",
          "width": 3
         },
         "mode": "lines",
         "showlegend": false,
         "type": "scatter3d",
         "x": [
          0.4203251600265503,
          0.4203251600265503
         ],
         "y": [
          0.5132597088813782,
          0.5132597088813782
         ],
         "z": [
          0,
          1
         ]
        },
        {
         "line": {
          "color": "gray",
          "width": 3
         },
         "mode": "lines",
         "showlegend": false,
         "type": "scatter3d",
         "x": [
          0.4823486804962158,
          0.4823486804962158
         ],
         "y": [
          0.6324734091758728,
          0.6324734091758728
         ],
         "z": [
          0,
          1
         ]
        },
        {
         "line": {
          "color": "gray",
          "width": 3
         },
         "mode": "lines",
         "showlegend": false,
         "type": "scatter3d",
         "x": [
          0.4007044732570648,
          0.4007044732570648
         ],
         "y": [
          0.44973915815353394,
          0.44973915815353394
         ],
         "z": [
          0,
          1
         ]
        },
        {
         "line": {
          "color": "gray",
          "width": 3
         },
         "mode": "lines",
         "showlegend": false,
         "type": "scatter3d",
         "x": [
          0.46147236227989197,
          0.46147236227989197
         ],
         "y": [
          0.5464468598365784,
          0.5464468598365784
         ],
         "z": [
          0,
          1
         ]
        },
        {
         "line": {
          "color": "gray",
          "width": 3
         },
         "mode": "lines",
         "showlegend": false,
         "type": "scatter3d",
         "x": [
          0.24397528171539307,
          0.24397528171539307
         ],
         "y": [
          0.6557605862617493,
          0.6557605862617493
         ],
         "z": [
          0,
          1
         ]
        },
        {
         "line": {
          "color": "gray",
          "width": 3
         },
         "mode": "lines",
         "showlegend": false,
         "type": "scatter3d",
         "x": [
          0.34196922183036804,
          0.34196922183036804
         ],
         "y": [
          0.5273299217224121,
          0.5273299217224121
         ],
         "z": [
          0,
          1
         ]
        },
        {
         "line": {
          "color": "gray",
          "width": 3
         },
         "mode": "lines",
         "showlegend": false,
         "type": "scatter3d",
         "x": [
          0.11455988883972168,
          0.11455988883972168
         ],
         "y": [
          0.44661077857017517,
          0.44661077857017517
         ],
         "z": [
          0,
          1
         ]
        },
        {
         "line": {
          "color": "gray",
          "width": 3
         },
         "mode": "lines",
         "showlegend": false,
         "type": "scatter3d",
         "x": [
          0.2717926502227783,
          0.2717926502227783
         ],
         "y": [
          0.6945385336875916,
          0.6945385336875916
         ],
         "z": [
          0,
          1
         ]
        },
        {
         "line": {
          "color": "gray",
          "width": 3
         },
         "mode": "lines",
         "showlegend": false,
         "type": "scatter3d",
         "x": [
          0.3745938837528229,
          0.3745938837528229
         ],
         "y": [
          0.44525521993637085,
          0.44525521993637085
         ],
         "z": [
          0,
          1
         ]
        },
        {
         "line": {
          "color": "gray",
          "width": 3
         },
         "mode": "lines",
         "showlegend": false,
         "type": "scatter3d",
         "x": [
          0.3779396116733551,
          0.3779396116733551
         ],
         "y": [
          0.5273073315620422,
          0.5273073315620422
         ],
         "z": [
          0,
          1
         ]
        },
        {
         "line": {
          "color": "gray",
          "width": 3
         },
         "mode": "lines",
         "showlegend": false,
         "type": "scatter3d",
         "x": [
          0.3889365792274475,
          0.3889365792274475
         ],
         "y": [
          0.5963071584701538,
          0.5963071584701538
         ],
         "z": [
          0,
          1
         ]
        },
        {
         "line": {
          "color": "gray",
          "width": 3
         },
         "mode": "lines",
         "showlegend": false,
         "type": "scatter3d",
         "x": [
          0.3824310600757599,
          0.3824310600757599
         ],
         "y": [
          0.5902906060218811,
          0.5902906060218811
         ],
         "z": [
          0,
          1
         ]
        },
        {
         "line": {
          "color": "gray",
          "width": 3
         },
         "mode": "lines",
         "showlegend": false,
         "type": "scatter3d",
         "x": [
          0.40895283222198486,
          0.40895283222198486
         ],
         "y": [
          0.6270037293434143,
          0.6270037293434143
         ],
         "z": [
          0,
          1
         ]
        },
        {
         "line": {
          "color": "gray",
          "width": 3
         },
         "mode": "lines",
         "showlegend": false,
         "type": "scatter3d",
         "x": [
          0.2756948173046112,
          0.2756948173046112
         ],
         "y": [
          0.41059088706970215,
          0.41059088706970215
         ],
         "z": [
          0,
          1
         ]
        },
        {
         "line": {
          "color": "gray",
          "width": 3
         },
         "mode": "lines",
         "showlegend": false,
         "type": "scatter3d",
         "x": [
          0.34869253635406494,
          0.34869253635406494
         ],
         "y": [
          0.6073476076126099,
          0.6073476076126099
         ],
         "z": [
          0,
          1
         ]
        },
        {
         "line": {
          "color": "gray",
          "width": 3
         },
         "mode": "lines",
         "showlegend": false,
         "type": "scatter3d",
         "x": [
          0.23918119072914124,
          0.23918119072914124
         ],
         "y": [
          0.5703944563865662,
          0.5703944563865662
         ],
         "z": [
          0,
          1
         ]
        },
        {
         "line": {
          "color": "gray",
          "width": 3
         },
         "mode": "lines",
         "showlegend": false,
         "type": "scatter3d",
         "x": [
          0.1978626847267151,
          0.1978626847267151
         ],
         "y": [
          0.44903188943862915,
          0.44903188943862915
         ],
         "z": [
          0,
          1
         ]
        },
        {
         "line": {
          "color": "gray",
          "width": 3
         },
         "mode": "lines",
         "showlegend": false,
         "type": "scatter3d",
         "x": [
          0.3976683020591736,
          0.3976683020591736
         ],
         "y": [
          0.5925344228744507,
          0.5925344228744507
         ],
         "z": [
          0,
          1
         ]
        },
        {
         "line": {
          "color": "gray",
          "width": 3
         },
         "mode": "lines",
         "showlegend": false,
         "type": "scatter3d",
         "x": [
          0.38469910621643066,
          0.38469910621643066
         ],
         "y": [
          0.36224424839019775,
          0.36224424839019775
         ],
         "z": [
          0,
          1
         ]
        },
        {
         "line": {
          "color": "gray",
          "width": 3
         },
         "mode": "lines",
         "showlegend": false,
         "type": "scatter3d",
         "x": [
          0.2957930862903595,
          0.2957930862903595
         ],
         "y": [
          0.5576130747795105,
          0.5576130747795105
         ],
         "z": [
          0,
          1
         ]
        },
        {
         "line": {
          "color": "gray",
          "width": 3
         },
         "mode": "lines",
         "showlegend": false,
         "type": "scatter3d",
         "x": [
          0.2975904643535614,
          0.2975904643535614
         ],
         "y": [
          0.6901336312294006,
          0.6901336312294006
         ],
         "z": [
          0,
          1
         ]
        },
        {
         "line": {
          "color": "gray",
          "width": 3
         },
         "mode": "lines",
         "showlegend": false,
         "type": "scatter3d",
         "x": [
          0.2693427801132202,
          0.2693427801132202
         ],
         "y": [
          0.561870276927948,
          0.561870276927948
         ],
         "z": [
          0,
          1
         ]
        },
        {
         "line": {
          "color": "gray",
          "width": 3
         },
         "mode": "lines",
         "showlegend": false,
         "type": "scatter3d",
         "x": [
          0.22314292192459106,
          0.22314292192459106
         ],
         "y": [
          0.6977157592773438,
          0.6977157592773438
         ],
         "z": [
          0,
          1
         ]
        },
        {
         "line": {
          "color": "gray",
          "width": 3
         },
         "mode": "lines",
         "showlegend": false,
         "type": "scatter3d",
         "x": [
          0.37956997752189636,
          0.37956997752189636
         ],
         "y": [
          0.5000285506248474,
          0.5000285506248474
         ],
         "z": [
          0,
          1
         ]
        },
        {
         "line": {
          "color": "gray",
          "width": 3
         },
         "mode": "lines",
         "showlegend": false,
         "type": "scatter3d",
         "x": [
          0.4382084012031555,
          0.4382084012031555
         ],
         "y": [
          0.5423988699913025,
          0.5423988699913025
         ],
         "z": [
          0,
          1
         ]
        },
        {
         "line": {
          "color": "gray",
          "width": 3
         },
         "mode": "lines",
         "showlegend": false,
         "type": "scatter3d",
         "x": [
          0.32823991775512695,
          0.32823991775512695
         ],
         "y": [
          0.608896791934967,
          0.608896791934967
         ],
         "z": [
          0,
          1
         ]
        },
        {
         "line": {
          "color": "gray",
          "width": 3
         },
         "mode": "lines",
         "showlegend": false,
         "type": "scatter3d",
         "x": [
          0.24685969948768616,
          0.24685969948768616
         ],
         "y": [
          0.3093773424625397,
          0.3093773424625397
         ],
         "z": [
          0,
          1
         ]
        },
        {
         "line": {
          "color": "gray",
          "width": 3
         },
         "mode": "lines",
         "showlegend": false,
         "type": "scatter3d",
         "x": [
          0.5118074417114258,
          0.5118074417114258
         ],
         "y": [
          0.6696316599845886,
          0.6696316599845886
         ],
         "z": [
          0,
          1
         ]
        },
        {
         "line": {
          "color": "gray",
          "width": 3
         },
         "mode": "lines",
         "showlegend": false,
         "type": "scatter3d",
         "x": [
          0.4003502130508423,
          0.4003502130508423
         ],
         "y": [
          0.4690234959125519,
          0.4690234959125519
         ],
         "z": [
          0,
          1
         ]
        },
        {
         "line": {
          "color": "gray",
          "width": 3
         },
         "mode": "lines",
         "showlegend": false,
         "type": "scatter3d",
         "x": [
          0.2851797342300415,
          0.2851797342300415
         ],
         "y": [
          0.5743539333343506,
          0.5743539333343506
         ],
         "z": [
          0,
          1
         ]
        },
        {
         "line": {
          "color": "gray",
          "width": 3
         },
         "mode": "lines",
         "showlegend": false,
         "type": "scatter3d",
         "x": [
          0.1741212010383606,
          0.1741212010383606
         ],
         "y": [
          0.6778321266174316,
          0.6778321266174316
         ],
         "z": [
          0,
          1
         ]
        },
        {
         "line": {
          "color": "gray",
          "width": 3
         },
         "mode": "lines",
         "showlegend": false,
         "type": "scatter3d",
         "x": [
          0.193545401096344,
          0.193545401096344
         ],
         "y": [
          0.59552401304245,
          0.59552401304245
         ],
         "z": [
          0,
          1
         ]
        },
        {
         "line": {
          "color": "gray",
          "width": 3
         },
         "mode": "lines",
         "showlegend": false,
         "type": "scatter3d",
         "x": [
          0.24985221028327942,
          0.24985221028327942
         ],
         "y": [
          0.47915035486221313,
          0.47915035486221313
         ],
         "z": [
          0,
          1
         ]
        },
        {
         "line": {
          "color": "gray",
          "width": 3
         },
         "mode": "lines",
         "showlegend": false,
         "type": "scatter3d",
         "x": [
          0.37515076994895935,
          0.37515076994895935
         ],
         "y": [
          0.37157773971557617,
          0.37157773971557617
         ],
         "z": [
          0,
          1
         ]
        },
        {
         "line": {
          "color": "gray",
          "width": 3
         },
         "mode": "lines",
         "showlegend": false,
         "type": "scatter3d",
         "x": [
          0.281074196100235,
          0.281074196100235
         ],
         "y": [
          0.6647707223892212,
          0.6647707223892212
         ],
         "z": [
          0,
          1
         ]
        },
        {
         "line": {
          "color": "gray",
          "width": 3
         },
         "mode": "lines",
         "showlegend": false,
         "type": "scatter3d",
         "x": [
          0.3803767263889313,
          0.3803767263889313
         ],
         "y": [
          0.6029785871505737,
          0.6029785871505737
         ],
         "z": [
          0,
          1
         ]
        },
        {
         "line": {
          "color": "gray",
          "width": 3
         },
         "mode": "lines",
         "showlegend": false,
         "type": "scatter3d",
         "x": [
          0.4272696375846863,
          0.4272696375846863
         ],
         "y": [
          0.5224936604499817,
          0.5224936604499817
         ],
         "z": [
          0,
          1
         ]
        },
        {
         "line": {
          "color": "gray",
          "width": 3
         },
         "mode": "lines",
         "showlegend": false,
         "type": "scatter3d",
         "x": [
          0.29032042622566223,
          0.29032042622566223
         ],
         "y": [
          0.541496992111206,
          0.541496992111206
         ],
         "z": [
          0,
          1
         ]
        },
        {
         "line": {
          "color": "gray",
          "width": 3
         },
         "mode": "lines",
         "showlegend": false,
         "type": "scatter3d",
         "x": [
          0.35312941670417786,
          0.35312941670417786
         ],
         "y": [
          0.5500684380531311,
          0.5500684380531311
         ],
         "z": [
          0,
          1
         ]
        },
        {
         "line": {
          "color": "gray",
          "width": 3
         },
         "mode": "lines",
         "showlegend": false,
         "type": "scatter3d",
         "x": [
          0.21988025307655334,
          0.21988025307655334
         ],
         "y": [
          0.6195430755615234,
          0.6195430755615234
         ],
         "z": [
          0,
          1
         ]
        },
        {
         "line": {
          "color": "gray",
          "width": 3
         },
         "mode": "lines",
         "showlegend": false,
         "type": "scatter3d",
         "x": [
          0.32027268409729004,
          0.32027268409729004
         ],
         "y": [
          0.5962668657302856,
          0.5962668657302856
         ],
         "z": [
          0,
          1
         ]
        },
        {
         "line": {
          "color": "gray",
          "width": 3
         },
         "mode": "lines",
         "showlegend": false,
         "type": "scatter3d",
         "x": [
          0.38679787516593933,
          0.38679787516593933
         ],
         "y": [
          0.6692613959312439,
          0.6692613959312439
         ],
         "z": [
          0,
          1
         ]
        },
        {
         "line": {
          "color": "gray",
          "width": 3
         },
         "mode": "lines",
         "showlegend": false,
         "type": "scatter3d",
         "x": [
          0.24030721187591553,
          0.24030721187591553
         ],
         "y": [
          0.5096851587295532,
          0.5096851587295532
         ],
         "z": [
          0,
          1
         ]
        },
        {
         "line": {
          "color": "gray",
          "width": 3
         },
         "mode": "lines",
         "showlegend": false,
         "type": "scatter3d",
         "x": [
          0.18673133850097656,
          0.18673133850097656
         ],
         "y": [
          0.6141798496246338,
          0.6141798496246338
         ],
         "z": [
          0,
          1
         ]
        },
        {
         "line": {
          "color": "gray",
          "width": 3
         },
         "mode": "lines",
         "showlegend": false,
         "type": "scatter3d",
         "x": [
          0.25906041264533997,
          0.25906041264533997
         ],
         "y": [
          0.5013599991798401,
          0.5013599991798401
         ],
         "z": [
          0,
          1
         ]
        },
        {
         "line": {
          "color": "gray",
          "width": 3
         },
         "mode": "lines",
         "showlegend": false,
         "type": "scatter3d",
         "x": [
          0.2871437966823578,
          0.2871437966823578
         ],
         "y": [
          0.6169524788856506,
          0.6169524788856506
         ],
         "z": [
          0,
          1
         ]
        },
        {
         "line": {
          "color": "gray",
          "width": 3
         },
         "mode": "lines",
         "showlegend": false,
         "type": "scatter3d",
         "x": [
          0.40352779626846313,
          0.40352779626846313
         ],
         "y": [
          0.7274596691131592,
          0.7274596691131592
         ],
         "z": [
          0,
          1
         ]
        },
        {
         "line": {
          "color": "gray",
          "width": 3
         },
         "mode": "lines",
         "showlegend": false,
         "type": "scatter3d",
         "x": [
          0.4225255846977234,
          0.4225255846977234
         ],
         "y": [
          0.532320499420166,
          0.532320499420166
         ],
         "z": [
          0,
          1
         ]
        },
        {
         "line": {
          "color": "gray",
          "width": 3
         },
         "mode": "lines",
         "showlegend": false,
         "type": "scatter3d",
         "x": [
          0.2464398294687271,
          0.2464398294687271
         ],
         "y": [
          0.6787797808647156,
          0.6787797808647156
         ],
         "z": [
          0,
          1
         ]
        },
        {
         "line": {
          "color": "gray",
          "width": 3
         },
         "mode": "lines",
         "showlegend": false,
         "type": "scatter3d",
         "x": [
          0.331582635641098,
          0.331582635641098
         ],
         "y": [
          0.5889282822608948,
          0.5889282822608948
         ],
         "z": [
          0,
          1
         ]
        },
        {
         "line": {
          "color": "gray",
          "width": 3
         },
         "mode": "lines",
         "showlegend": false,
         "type": "scatter3d",
         "x": [
          0.3737505078315735,
          0.3737505078315735
         ],
         "y": [
          0.655950129032135,
          0.655950129032135
         ],
         "z": [
          0,
          1
         ]
        },
        {
         "line": {
          "color": "gray",
          "width": 3
         },
         "mode": "lines",
         "showlegend": false,
         "type": "scatter3d",
         "x": [
          0.4158409833908081,
          0.4158409833908081
         ],
         "y": [
          0.33721163868904114,
          0.33721163868904114
         ],
         "z": [
          0,
          1
         ]
        },
        {
         "line": {
          "color": "gray",
          "width": 3
         },
         "mode": "lines",
         "showlegend": false,
         "type": "scatter3d",
         "x": [
          0.3080090880393982,
          0.3080090880393982
         ],
         "y": [
          0.4545205235481262,
          0.4545205235481262
         ],
         "z": [
          0,
          1
         ]
        },
        {
         "line": {
          "color": "gray",
          "width": 3
         },
         "mode": "lines",
         "showlegend": false,
         "type": "scatter3d",
         "x": [
          0.26609042286872864,
          0.26609042286872864
         ],
         "y": [
          0.595870316028595,
          0.595870316028595
         ],
         "z": [
          0,
          1
         ]
        },
        {
         "line": {
          "color": "gray",
          "width": 3
         },
         "mode": "lines",
         "showlegend": false,
         "type": "scatter3d",
         "x": [
          0.2467760443687439,
          0.2467760443687439
         ],
         "y": [
          0.5170397758483887,
          0.5170397758483887
         ],
         "z": [
          0,
          1
         ]
        },
        {
         "line": {
          "color": "gray",
          "width": 3
         },
         "mode": "lines",
         "showlegend": false,
         "type": "scatter3d",
         "x": [
          0.3848922550678253,
          0.3848922550678253
         ],
         "y": [
          0.6061999797821045,
          0.6061999797821045
         ],
         "z": [
          0,
          1
         ]
        },
        {
         "line": {
          "color": "gray",
          "width": 3
         },
         "mode": "lines",
         "showlegend": false,
         "type": "scatter3d",
         "x": [
          0.366601824760437,
          0.366601824760437
         ],
         "y": [
          0.5217702984809875,
          0.5217702984809875
         ],
         "z": [
          0,
          1
         ]
        },
        {
         "line": {
          "color": "gray",
          "width": 3
         },
         "mode": "lines",
         "showlegend": false,
         "type": "scatter3d",
         "x": [
          0.4375722408294678,
          0.4375722408294678
         ],
         "y": [
          0.4004313349723816,
          0.4004313349723816
         ],
         "z": [
          0,
          1
         ]
        },
        {
         "line": {
          "color": "gray",
          "width": 3
         },
         "mode": "lines",
         "showlegend": false,
         "type": "scatter3d",
         "x": [
          0.2997964322566986,
          0.2997964322566986
         ],
         "y": [
          0.4751705229282379,
          0.4751705229282379
         ],
         "z": [
          0,
          1
         ]
        },
        {
         "line": {
          "color": "gray",
          "width": 3
         },
         "mode": "lines",
         "showlegend": false,
         "type": "scatter3d",
         "x": [
          0.19596989452838898,
          0.19596989452838898
         ],
         "y": [
          0.5645378232002258,
          0.5645378232002258
         ],
         "z": [
          0,
          1
         ]
        },
        {
         "line": {
          "color": "gray",
          "width": 3
         },
         "mode": "lines",
         "showlegend": false,
         "type": "scatter3d",
         "x": [
          0.3365066349506378,
          0.3365066349506378
         ],
         "y": [
          0.6062185168266296,
          0.6062185168266296
         ],
         "z": [
          0,
          1
         ]
        },
        {
         "line": {
          "color": "gray",
          "width": 3
         },
         "mode": "lines",
         "showlegend": false,
         "type": "scatter3d",
         "x": [
          0.29523926973342896,
          0.29523926973342896
         ],
         "y": [
          0.5511804223060608,
          0.5511804223060608
         ],
         "z": [
          0,
          1
         ]
        },
        {
         "line": {
          "color": "gray",
          "width": 3
         },
         "mode": "lines",
         "showlegend": false,
         "type": "scatter3d",
         "x": [
          0.26022058725357056,
          0.26022058725357056
         ],
         "y": [
          0.5545710325241089,
          0.5545710325241089
         ],
         "z": [
          0,
          1
         ]
        },
        {
         "line": {
          "color": "gray",
          "width": 3
         },
         "mode": "lines",
         "showlegend": false,
         "type": "scatter3d",
         "x": [
          0.28456413745880127,
          0.28456413745880127
         ],
         "y": [
          0.39619868993759155,
          0.39619868993759155
         ],
         "z": [
          0,
          1
         ]
        },
        {
         "line": {
          "color": "gray",
          "width": 3
         },
         "mode": "lines",
         "showlegend": false,
         "type": "scatter3d",
         "x": [
          0.2577912509441376,
          0.2577912509441376
         ],
         "y": [
          0.5104082822799683,
          0.5104082822799683
         ],
         "z": [
          0,
          1
         ]
        },
        {
         "line": {
          "color": "gray",
          "width": 3
         },
         "mode": "lines",
         "showlegend": false,
         "type": "scatter3d",
         "x": [
          0.3770905137062073,
          0.3770905137062073
         ],
         "y": [
          0.5490208864212036,
          0.5490208864212036
         ],
         "z": [
          0,
          1
         ]
        },
        {
         "line": {
          "color": "gray",
          "width": 3
         },
         "mode": "lines",
         "showlegend": false,
         "type": "scatter3d",
         "x": [
          0.11619341373443604,
          0.11619341373443604
         ],
         "y": [
          0.528858482837677,
          0.528858482837677
         ],
         "z": [
          0,
          1
         ]
        },
        {
         "line": {
          "color": "gray",
          "width": 3
         },
         "mode": "lines",
         "showlegend": false,
         "type": "scatter3d",
         "x": [
          0.3632846176624298,
          0.3632846176624298
         ],
         "y": [
          0.8018197417259216,
          0.8018197417259216
         ],
         "z": [
          0,
          1
         ]
        },
        {
         "line": {
          "color": "gray",
          "width": 3
         },
         "mode": "lines",
         "showlegend": false,
         "type": "scatter3d",
         "x": [
          0.16311049461364746,
          0.16311049461364746
         ],
         "y": [
          0.49344560503959656,
          0.49344560503959656
         ],
         "z": [
          0,
          1
         ]
        },
        {
         "line": {
          "color": "gray",
          "width": 3
         },
         "mode": "lines",
         "showlegend": false,
         "type": "scatter3d",
         "x": [
          0.31813403964042664,
          0.31813403964042664
         ],
         "y": [
          0.6312733292579651,
          0.6312733292579651
         ],
         "z": [
          0,
          1
         ]
        },
        {
         "line": {
          "color": "gray",
          "width": 3
         },
         "mode": "lines",
         "showlegend": false,
         "type": "scatter3d",
         "x": [
          0.24493667483329773,
          0.24493667483329773
         ],
         "y": [
          0.5293817520141602,
          0.5293817520141602
         ],
         "z": [
          0,
          1
         ]
        },
        {
         "line": {
          "color": "gray",
          "width": 3
         },
         "mode": "lines",
         "showlegend": false,
         "type": "scatter3d",
         "x": [
          0.611743688583374,
          0.611743688583374
         ],
         "y": [
          0.47172170877456665,
          0.47172170877456665
         ],
         "z": [
          0,
          1
         ]
        },
        {
         "line": {
          "color": "gray",
          "width": 3
         },
         "mode": "lines",
         "showlegend": false,
         "type": "scatter3d",
         "x": [
          0.2073880434036255,
          0.2073880434036255
         ],
         "y": [
          0.4921075701713562,
          0.4921075701713562
         ],
         "z": [
          0,
          1
         ]
        },
        {
         "line": {
          "color": "gray",
          "width": 3
         },
         "mode": "lines",
         "showlegend": false,
         "type": "scatter3d",
         "x": [
          0.2783264219760895,
          0.2783264219760895
         ],
         "y": [
          0.4928775429725647,
          0.4928775429725647
         ],
         "z": [
          0,
          1
         ]
        },
        {
         "line": {
          "color": "gray",
          "width": 3
         },
         "mode": "lines",
         "showlegend": false,
         "type": "scatter3d",
         "x": [
          0.31473031640052795,
          0.31473031640052795
         ],
         "y": [
          0.49460333585739136,
          0.49460333585739136
         ],
         "z": [
          0,
          1
         ]
        },
        {
         "line": {
          "color": "gray",
          "width": 3
         },
         "mode": "lines",
         "showlegend": false,
         "type": "scatter3d",
         "x": [
          0.3843194842338562,
          0.3843194842338562
         ],
         "y": [
          0.6423960328102112,
          0.6423960328102112
         ],
         "z": [
          0,
          1
         ]
        },
        {
         "line": {
          "color": "gray",
          "width": 3
         },
         "mode": "lines",
         "showlegend": false,
         "type": "scatter3d",
         "x": [
          0.383973091840744,
          0.383973091840744
         ],
         "y": [
          0.5140482783317566,
          0.5140482783317566
         ],
         "z": [
          0,
          1
         ]
        },
        {
         "line": {
          "color": "gray",
          "width": 3
         },
         "mode": "lines",
         "showlegend": false,
         "type": "scatter3d",
         "x": [
          0.4262150526046753,
          0.4262150526046753
         ],
         "y": [
          0.6570989489555359,
          0.6570989489555359
         ],
         "z": [
          0,
          1
         ]
        },
        {
         "line": {
          "color": "gray",
          "width": 3
         },
         "mode": "lines",
         "showlegend": false,
         "type": "scatter3d",
         "x": [
          0.37444260716438293,
          0.37444260716438293
         ],
         "y": [
          0.6435682773590088,
          0.6435682773590088
         ],
         "z": [
          0,
          1
         ]
        },
        {
         "line": {
          "color": "gray",
          "width": 3
         },
         "mode": "lines",
         "showlegend": false,
         "type": "scatter3d",
         "x": [
          0.21390751004219055,
          0.21390751004219055
         ],
         "y": [
          0.5689476132392883,
          0.5689476132392883
         ],
         "z": [
          0,
          1
         ]
        },
        {
         "line": {
          "color": "gray",
          "width": 3
         },
         "mode": "lines",
         "showlegend": false,
         "type": "scatter3d",
         "x": [
          0.3871118426322937,
          0.3871118426322937
         ],
         "y": [
          0.4531560242176056,
          0.4531560242176056
         ],
         "z": [
          0,
          1
         ]
        },
        {
         "line": {
          "color": "gray",
          "width": 3
         },
         "mode": "lines",
         "showlegend": false,
         "type": "scatter3d",
         "x": [
          0.28255024552345276,
          0.28255024552345276
         ],
         "y": [
          0.6173173785209656,
          0.6173173785209656
         ],
         "z": [
          0,
          1
         ]
        },
        {
         "line": {
          "color": "gray",
          "width": 3
         },
         "mode": "lines",
         "showlegend": false,
         "type": "scatter3d",
         "x": [
          0.546454906463623,
          0.546454906463623
         ],
         "y": [
          0.5878841280937195,
          0.5878841280937195
         ],
         "z": [
          0,
          1
         ]
        },
        {
         "line": {
          "color": "gray",
          "width": 3
         },
         "mode": "lines",
         "showlegend": false,
         "type": "scatter3d",
         "x": [
          0.27404293417930603,
          0.27404293417930603
         ],
         "y": [
          0.48982691764831543,
          0.48982691764831543
         ],
         "z": [
          0,
          1
         ]
        },
        {
         "line": {
          "color": "gray",
          "width": 3
         },
         "mode": "lines",
         "showlegend": false,
         "type": "scatter3d",
         "x": [
          0.3225657343864441,
          0.3225657343864441
         ],
         "y": [
          0.7022783756256104,
          0.7022783756256104
         ],
         "z": [
          0,
          1
         ]
        },
        {
         "line": {
          "color": "gray",
          "width": 3
         },
         "mode": "lines",
         "showlegend": false,
         "type": "scatter3d",
         "x": [
          0.40284183621406555,
          0.40284183621406555
         ],
         "y": [
          0.7059599161148071,
          0.7059599161148071
         ],
         "z": [
          0,
          1
         ]
        },
        {
         "line": {
          "color": "gray",
          "width": 3
         },
         "mode": "lines",
         "showlegend": false,
         "type": "scatter3d",
         "x": [
          0.376457542181015,
          0.376457542181015
         ],
         "y": [
          0.4782693684101105,
          0.4782693684101105
         ],
         "z": [
          0,
          1
         ]
        },
        {
         "line": {
          "color": "gray",
          "width": 3
         },
         "mode": "lines",
         "showlegend": false,
         "type": "scatter3d",
         "x": [
          0.40614381432533264,
          0.40614381432533264
         ],
         "y": [
          0.4037039577960968,
          0.4037039577960968
         ],
         "z": [
          0,
          1
         ]
        },
        {
         "line": {
          "color": "gray",
          "width": 3
         },
         "mode": "lines",
         "showlegend": false,
         "type": "scatter3d",
         "x": [
          0.04973974823951721,
          0.04973974823951721
         ],
         "y": [
          0.7627270817756653,
          0.7627270817756653
         ],
         "z": [
          0,
          1
         ]
        },
        {
         "line": {
          "color": "gray",
          "width": 3
         },
         "mode": "lines",
         "showlegend": false,
         "type": "scatter3d",
         "x": [
          0.1450241655111313,
          0.1450241655111313
         ],
         "y": [
          0.5872294306755066,
          0.5872294306755066
         ],
         "z": [
          0,
          1
         ]
        },
        {
         "line": {
          "color": "gray",
          "width": 3
         },
         "mode": "lines",
         "showlegend": false,
         "type": "scatter3d",
         "x": [
          0.4098718762397766,
          0.4098718762397766
         ],
         "y": [
          0.5580310225486755,
          0.5580310225486755
         ],
         "z": [
          0,
          1
         ]
        },
        {
         "line": {
          "color": "gray",
          "width": 3
         },
         "mode": "lines",
         "showlegend": false,
         "type": "scatter3d",
         "x": [
          0.3492130935192108,
          0.3492130935192108
         ],
         "y": [
          0.7274183034896851,
          0.7274183034896851
         ],
         "z": [
          0,
          1
         ]
        },
        {
         "line": {
          "color": "gray",
          "width": 3
         },
         "mode": "lines",
         "showlegend": false,
         "type": "scatter3d",
         "x": [
          0.1688501089811325,
          0.1688501089811325
         ],
         "y": [
          0.5715717673301697,
          0.5715717673301697
         ],
         "z": [
          0,
          1
         ]
        },
        {
         "line": {
          "color": "gray",
          "width": 3
         },
         "mode": "lines",
         "showlegend": false,
         "type": "scatter3d",
         "x": [
          0.4563332200050354,
          0.4563332200050354
         ],
         "y": [
          0.5852406024932861,
          0.5852406024932861
         ],
         "z": [
          0,
          1
         ]
        },
        {
         "line": {
          "color": "gray",
          "width": 3
         },
         "mode": "lines",
         "showlegend": false,
         "type": "scatter3d",
         "x": [
          0.5104910731315613,
          0.5104910731315613
         ],
         "y": [
          0.5673959255218506,
          0.5673959255218506
         ],
         "z": [
          0,
          1
         ]
        },
        {
         "line": {
          "color": "gray",
          "width": 3
         },
         "mode": "lines",
         "showlegend": false,
         "type": "scatter3d",
         "x": [
          0.2515034079551697,
          0.2515034079551697
         ],
         "y": [
          0.6721872091293335,
          0.6721872091293335
         ],
         "z": [
          0,
          1
         ]
        },
        {
         "line": {
          "color": "gray",
          "width": 3
         },
         "mode": "lines",
         "showlegend": false,
         "type": "scatter3d",
         "x": [
          0.29826387763023376,
          0.29826387763023376
         ],
         "y": [
          0.7166145443916321,
          0.7166145443916321
         ],
         "z": [
          0,
          1
         ]
        },
        {
         "line": {
          "color": "gray",
          "width": 3
         },
         "mode": "lines",
         "showlegend": false,
         "type": "scatter3d",
         "x": [
          0.3791283369064331,
          0.3791283369064331
         ],
         "y": [
          0.577987015247345,
          0.577987015247345
         ],
         "z": [
          0,
          1
         ]
        },
        {
         "line": {
          "color": "gray",
          "width": 3
         },
         "mode": "lines",
         "showlegend": false,
         "type": "scatter3d",
         "x": [
          0.3541836440563202,
          0.3541836440563202
         ],
         "y": [
          0.4593421518802643,
          0.4593421518802643
         ],
         "z": [
          0,
          1
         ]
        },
        {
         "line": {
          "color": "gray",
          "width": 3
         },
         "mode": "lines",
         "showlegend": false,
         "type": "scatter3d",
         "x": [
          0.3231959044933319,
          0.3231959044933319
         ],
         "y": [
          0.552790641784668,
          0.552790641784668
         ],
         "z": [
          0,
          1
         ]
        },
        {
         "line": {
          "color": "gray",
          "width": 3
         },
         "mode": "lines",
         "showlegend": false,
         "type": "scatter3d",
         "x": [
          0.29070496559143066,
          0.29070496559143066
         ],
         "y": [
          0.5148404240608215,
          0.5148404240608215
         ],
         "z": [
          0,
          1
         ]
        },
        {
         "line": {
          "color": "gray",
          "width": 3
         },
         "mode": "lines",
         "showlegend": false,
         "type": "scatter3d",
         "x": [
          0.2584841251373291,
          0.2584841251373291
         ],
         "y": [
          0.6056910753250122,
          0.6056910753250122
         ],
         "z": [
          0,
          1
         ]
        },
        {
         "line": {
          "color": "gray",
          "width": 3
         },
         "mode": "lines",
         "showlegend": false,
         "type": "scatter3d",
         "x": [
          0.4346980154514313,
          0.4346980154514313
         ],
         "y": [
          0.5500585436820984,
          0.5500585436820984
         ],
         "z": [
          0,
          1
         ]
        },
        {
         "line": {
          "color": "gray",
          "width": 3
         },
         "mode": "lines",
         "showlegend": false,
         "type": "scatter3d",
         "x": [
          0.15951065719127655,
          0.15951065719127655
         ],
         "y": [
          0.549643874168396,
          0.549643874168396
         ],
         "z": [
          0,
          1
         ]
        },
        {
         "line": {
          "color": "gray",
          "width": 3
         },
         "mode": "lines",
         "showlegend": false,
         "type": "scatter3d",
         "x": [
          0.2597978711128235,
          0.2597978711128235
         ],
         "y": [
          0.563936173915863,
          0.563936173915863
         ],
         "z": [
          0,
          1
         ]
        },
        {
         "line": {
          "color": "gray",
          "width": 3
         },
         "mode": "lines",
         "showlegend": false,
         "type": "scatter3d",
         "x": [
          0.263202428817749,
          0.263202428817749
         ],
         "y": [
          0.6834399700164795,
          0.6834399700164795
         ],
         "z": [
          0,
          1
         ]
        },
        {
         "line": {
          "color": "gray",
          "width": 3
         },
         "mode": "lines",
         "showlegend": false,
         "type": "scatter3d",
         "x": [
          0.33766689896583557,
          0.33766689896583557
         ],
         "y": [
          0.6446405053138733,
          0.6446405053138733
         ],
         "z": [
          0,
          1
         ]
        },
        {
         "line": {
          "color": "gray",
          "width": 3
         },
         "mode": "lines",
         "showlegend": false,
         "type": "scatter3d",
         "x": [
          0.32634836435317993,
          0.32634836435317993
         ],
         "y": [
          0.6785029172897339,
          0.6785029172897339
         ],
         "z": [
          0,
          1
         ]
        },
        {
         "line": {
          "color": "gray",
          "width": 3
         },
         "mode": "lines",
         "showlegend": false,
         "type": "scatter3d",
         "x": [
          0.12156158685684204,
          0.12156158685684204
         ],
         "y": [
          0.5541242957115173,
          0.5541242957115173
         ],
         "z": [
          0,
          1
         ]
        },
        {
         "line": {
          "color": "gray",
          "width": 3
         },
         "mode": "lines",
         "showlegend": false,
         "type": "scatter3d",
         "x": [
          0.35246938467025757,
          0.35246938467025757
         ],
         "y": [
          0.6869661808013916,
          0.6869661808013916
         ],
         "z": [
          0,
          1
         ]
        },
        {
         "line": {
          "color": "gray",
          "width": 3
         },
         "mode": "lines",
         "showlegend": false,
         "type": "scatter3d",
         "x": [
          0.1786545366048813,
          0.1786545366048813
         ],
         "y": [
          0.7062050700187683,
          0.7062050700187683
         ],
         "z": [
          0,
          1
         ]
        },
        {
         "line": {
          "color": "gray",
          "width": 3
         },
         "mode": "lines",
         "showlegend": false,
         "type": "scatter3d",
         "x": [
          0.3192182183265686,
          0.3192182183265686
         ],
         "y": [
          0.39580458402633667,
          0.39580458402633667
         ],
         "z": [
          0,
          1
         ]
        },
        {
         "line": {
          "color": "gray",
          "width": 3
         },
         "mode": "lines",
         "showlegend": false,
         "type": "scatter3d",
         "x": [
          0.33355599641799927,
          0.33355599641799927
         ],
         "y": [
          0.5022693276405334,
          0.5022693276405334
         ],
         "z": [
          0,
          1
         ]
        },
        {
         "line": {
          "color": "gray",
          "width": 3
         },
         "mode": "lines",
         "showlegend": false,
         "type": "scatter3d",
         "x": [
          0.43113380670547485,
          0.43113380670547485
         ],
         "y": [
          0.7003035545349121,
          0.7003035545349121
         ],
         "z": [
          0,
          1
         ]
        },
        {
         "line": {
          "color": "gray",
          "width": 3
         },
         "mode": "lines",
         "showlegend": false,
         "type": "scatter3d",
         "x": [
          0.37167319655418396,
          0.37167319655418396
         ],
         "y": [
          0.6222602128982544,
          0.6222602128982544
         ],
         "z": [
          0,
          1
         ]
        },
        {
         "line": {
          "color": "gray",
          "width": 3
         },
         "mode": "lines",
         "showlegend": false,
         "type": "scatter3d",
         "x": [
          0.24099761247634888,
          0.24099761247634888
         ],
         "y": [
          0.398155152797699,
          0.398155152797699
         ],
         "z": [
          0,
          1
         ]
        },
        {
         "line": {
          "color": "gray",
          "width": 3
         },
         "mode": "lines",
         "showlegend": false,
         "type": "scatter3d",
         "x": [
          0.40398985147476196,
          0.40398985147476196
         ],
         "y": [
          0.45725134015083313,
          0.45725134015083313
         ],
         "z": [
          0,
          1
         ]
        },
        {
         "line": {
          "color": "gray",
          "width": 3
         },
         "mode": "lines",
         "showlegend": false,
         "type": "scatter3d",
         "x": [
          0.24546754360198975,
          0.24546754360198975
         ],
         "y": [
          0.49868130683898926,
          0.49868130683898926
         ],
         "z": [
          0,
          1
         ]
        },
        {
         "line": {
          "color": "gray",
          "width": 3
         },
         "mode": "lines",
         "showlegend": false,
         "type": "scatter3d",
         "x": [
          0.3226856291294098,
          0.3226856291294098
         ],
         "y": [
          0.629496693611145,
          0.629496693611145
         ],
         "z": [
          0,
          1
         ]
        },
        {
         "line": {
          "color": "gray",
          "width": 3
         },
         "mode": "lines",
         "showlegend": false,
         "type": "scatter3d",
         "x": [
          0.37369343638420105,
          0.37369343638420105
         ],
         "y": [
          0.718068540096283,
          0.718068540096283
         ],
         "z": [
          0,
          1
         ]
        },
        {
         "line": {
          "color": "gray",
          "width": 3
         },
         "mode": "lines",
         "showlegend": false,
         "type": "scatter3d",
         "x": [
          0.2078568935394287,
          0.2078568935394287
         ],
         "y": [
          0.5770460963249207,
          0.5770460963249207
         ],
         "z": [
          0,
          1
         ]
        },
        {
         "line": {
          "color": "gray",
          "width": 3
         },
         "mode": "lines",
         "showlegend": false,
         "type": "scatter3d",
         "x": [
          0.29040107131004333,
          0.29040107131004333
         ],
         "y": [
          0.49285635352134705,
          0.49285635352134705
         ],
         "z": [
          0,
          1
         ]
        },
        {
         "line": {
          "color": "gray",
          "width": 3
         },
         "mode": "lines",
         "showlegend": false,
         "type": "scatter3d",
         "x": [
          0.2790936529636383,
          0.2790936529636383
         ],
         "y": [
          0.5871606469154358,
          0.5871606469154358
         ],
         "z": [
          0,
          1
         ]
        },
        {
         "line": {
          "color": "gray",
          "width": 3
         },
         "mode": "lines",
         "showlegend": false,
         "type": "scatter3d",
         "x": [
          0.24437779188156128,
          0.24437779188156128
         ],
         "y": [
          0.5558648109436035,
          0.5558648109436035
         ],
         "z": [
          0,
          1
         ]
        },
        {
         "line": {
          "color": "gray",
          "width": 3
         },
         "mode": "lines",
         "showlegend": false,
         "type": "scatter3d",
         "x": [
          0.3558228313922882,
          0.3558228313922882
         ],
         "y": [
          0.6463569402694702,
          0.6463569402694702
         ],
         "z": [
          0,
          1
         ]
        },
        {
         "line": {
          "color": "gray",
          "width": 3
         },
         "mode": "lines",
         "showlegend": false,
         "type": "scatter3d",
         "x": [
          0.3836052417755127,
          0.3836052417755127
         ],
         "y": [
          0.46856918931007385,
          0.46856918931007385
         ],
         "z": [
          0,
          1
         ]
        },
        {
         "line": {
          "color": "gray",
          "width": 3
         },
         "mode": "lines",
         "showlegend": false,
         "type": "scatter3d",
         "x": [
          0.267511248588562,
          0.267511248588562
         ],
         "y": [
          0.32145583629608154,
          0.32145583629608154
         ],
         "z": [
          0,
          1
         ]
        },
        {
         "line": {
          "color": "gray",
          "width": 3
         },
         "mode": "lines",
         "showlegend": false,
         "type": "scatter3d",
         "x": [
          0.4043702483177185,
          0.4043702483177185
         ],
         "y": [
          0.5597840547561646,
          0.5597840547561646
         ],
         "z": [
          0,
          1
         ]
        },
        {
         "line": {
          "color": "gray",
          "width": 3
         },
         "mode": "lines",
         "showlegend": false,
         "type": "scatter3d",
         "x": [
          0.17392291128635406,
          0.17392291128635406
         ],
         "y": [
          0.5696033239364624,
          0.5696033239364624
         ],
         "z": [
          0,
          1
         ]
        },
        {
         "line": {
          "color": "gray",
          "width": 3
         },
         "mode": "lines",
         "showlegend": false,
         "type": "scatter3d",
         "x": [
          0.41713547706604004,
          0.41713547706604004
         ],
         "y": [
          0.44363933801651,
          0.44363933801651
         ],
         "z": [
          0,
          1
         ]
        },
        {
         "line": {
          "color": "gray",
          "width": 3
         },
         "mode": "lines",
         "showlegend": false,
         "type": "scatter3d",
         "x": [
          0.24138978123664856,
          0.24138978123664856
         ],
         "y": [
          0.5116580724716187,
          0.5116580724716187
         ],
         "z": [
          0,
          1
         ]
        },
        {
         "line": {
          "color": "gray",
          "width": 3
         },
         "mode": "lines",
         "showlegend": false,
         "type": "scatter3d",
         "x": [
          0.35609322786331177,
          0.35609322786331177
         ],
         "y": [
          0.5223947167396545,
          0.5223947167396545
         ],
         "z": [
          0,
          1
         ]
        },
        {
         "line": {
          "color": "gray",
          "width": 3
         },
         "mode": "lines",
         "showlegend": false,
         "type": "scatter3d",
         "x": [
          0.36052775382995605,
          0.36052775382995605
         ],
         "y": [
          0.6001169085502625,
          0.6001169085502625
         ],
         "z": [
          0,
          1
         ]
        },
        {
         "line": {
          "color": "gray",
          "width": 3
         },
         "mode": "lines",
         "showlegend": false,
         "type": "scatter3d",
         "x": [
          0.430867463350296,
          0.430867463350296
         ],
         "y": [
          0.715547502040863,
          0.715547502040863
         ],
         "z": [
          0,
          1
         ]
        },
        {
         "line": {
          "color": "gray",
          "width": 3
         },
         "mode": "lines",
         "showlegend": false,
         "type": "scatter3d",
         "x": [
          0.1383502185344696,
          0.1383502185344696
         ],
         "y": [
          0.6464324593544006,
          0.6464324593544006
         ],
         "z": [
          0,
          1
         ]
        },
        {
         "line": {
          "color": "gray",
          "width": 3
         },
         "mode": "lines",
         "showlegend": false,
         "type": "scatter3d",
         "x": [
          0.258059024810791,
          0.258059024810791
         ],
         "y": [
          0.403687447309494,
          0.403687447309494
         ],
         "z": [
          0,
          1
         ]
        },
        {
         "line": {
          "color": "gray",
          "width": 3
         },
         "mode": "lines",
         "showlegend": false,
         "type": "scatter3d",
         "x": [
          0.3131086528301239,
          0.3131086528301239
         ],
         "y": [
          0.4791276454925537,
          0.4791276454925537
         ],
         "z": [
          0,
          1
         ]
        },
        {
         "line": {
          "color": "gray",
          "width": 3
         },
         "mode": "lines",
         "showlegend": false,
         "type": "scatter3d",
         "x": [
          0.34060895442962646,
          0.34060895442962646
         ],
         "y": [
          0.6557851433753967,
          0.6557851433753967
         ],
         "z": [
          0,
          1
         ]
        },
        {
         "line": {
          "color": "gray",
          "width": 3
         },
         "mode": "lines",
         "showlegend": false,
         "type": "scatter3d",
         "x": [
          0.38330620527267456,
          0.38330620527267456
         ],
         "y": [
          0.7113160490989685,
          0.7113160490989685
         ],
         "z": [
          0,
          1
         ]
        },
        {
         "line": {
          "color": "gray",
          "width": 3
         },
         "mode": "lines",
         "showlegend": false,
         "type": "scatter3d",
         "x": [
          0.28509554266929626,
          0.28509554266929626
         ],
         "y": [
          0.6460379958152771,
          0.6460379958152771
         ],
         "z": [
          0,
          1
         ]
        },
        {
         "line": {
          "color": "gray",
          "width": 3
         },
         "mode": "lines",
         "showlegend": false,
         "type": "scatter3d",
         "x": [
          0.5121726393699646,
          0.5121726393699646
         ],
         "y": [
          0.5655617117881775,
          0.5655617117881775
         ],
         "z": [
          0,
          1
         ]
        },
        {
         "line": {
          "color": "gray",
          "width": 3
         },
         "mode": "lines",
         "showlegend": false,
         "type": "scatter3d",
         "x": [
          0.33346685767173767,
          0.33346685767173767
         ],
         "y": [
          0.6146483421325684,
          0.6146483421325684
         ],
         "z": [
          0,
          1
         ]
        },
        {
         "line": {
          "color": "gray",
          "width": 3
         },
         "mode": "lines",
         "showlegend": false,
         "type": "scatter3d",
         "x": [
          0.24666687846183777,
          0.24666687846183777
         ],
         "y": [
          0.6958716511726379,
          0.6958716511726379
         ],
         "z": [
          0,
          1
         ]
        },
        {
         "line": {
          "color": "gray",
          "width": 3
         },
         "mode": "lines",
         "showlegend": false,
         "type": "scatter3d",
         "x": [
          0.3625582158565521,
          0.3625582158565521
         ],
         "y": [
          0.6204176545143127,
          0.6204176545143127
         ],
         "z": [
          0,
          1
         ]
        },
        {
         "line": {
          "color": "gray",
          "width": 3
         },
         "mode": "lines",
         "showlegend": false,
         "type": "scatter3d",
         "x": [
          0.31493791937828064,
          0.31493791937828064
         ],
         "y": [
          0.4549335241317749,
          0.4549335241317749
         ],
         "z": [
          0,
          1
         ]
        },
        {
         "line": {
          "color": "gray",
          "width": 3
         },
         "mode": "lines",
         "showlegend": false,
         "type": "scatter3d",
         "x": [
          0.1683419793844223,
          0.1683419793844223
         ],
         "y": [
          0.47104769945144653,
          0.47104769945144653
         ],
         "z": [
          0,
          1
         ]
        },
        {
         "line": {
          "color": "gray",
          "width": 3
         },
         "mode": "lines",
         "showlegend": false,
         "type": "scatter3d",
         "x": [
          0.41138315200805664,
          0.41138315200805664
         ],
         "y": [
          0.6098219156265259,
          0.6098219156265259
         ],
         "z": [
          0,
          1
         ]
        },
        {
         "line": {
          "color": "gray",
          "width": 3
         },
         "mode": "lines",
         "showlegend": false,
         "type": "scatter3d",
         "x": [
          0.30086857080459595,
          0.30086857080459595
         ],
         "y": [
          0.48589083552360535,
          0.48589083552360535
         ],
         "z": [
          0,
          1
         ]
        },
        {
         "line": {
          "color": "gray",
          "width": 3
         },
         "mode": "lines",
         "showlegend": false,
         "type": "scatter3d",
         "x": [
          0.160302072763443,
          0.160302072763443
         ],
         "y": [
          0.4392460584640503,
          0.4392460584640503
         ],
         "z": [
          0,
          1
         ]
        },
        {
         "line": {
          "color": "gray",
          "width": 3
         },
         "mode": "lines",
         "showlegend": false,
         "type": "scatter3d",
         "x": [
          0.24214398860931396,
          0.24214398860931396
         ],
         "y": [
          0.5644673109054565,
          0.5644673109054565
         ],
         "z": [
          0,
          1
         ]
        },
        {
         "line": {
          "color": "gray",
          "width": 3
         },
         "mode": "lines",
         "showlegend": false,
         "type": "scatter3d",
         "x": [
          0.3613871932029724,
          0.3613871932029724
         ],
         "y": [
          0.5235118269920349,
          0.5235118269920349
         ],
         "z": [
          0,
          1
         ]
        },
        {
         "line": {
          "color": "gray",
          "width": 3
         },
         "mode": "lines",
         "showlegend": false,
         "type": "scatter3d",
         "x": [
          0.35365167260169983,
          0.35365167260169983
         ],
         "y": [
          0.6607307195663452,
          0.6607307195663452
         ],
         "z": [
          0,
          1
         ]
        },
        {
         "line": {
          "color": "gray",
          "width": 3
         },
         "mode": "lines",
         "showlegend": false,
         "type": "scatter3d",
         "x": [
          0.5359151363372803,
          0.5359151363372803
         ],
         "y": [
          0.5992048978805542,
          0.5992048978805542
         ],
         "z": [
          0,
          1
         ]
        },
        {
         "line": {
          "color": "gray",
          "width": 3
         },
         "mode": "lines",
         "showlegend": false,
         "type": "scatter3d",
         "x": [
          0.4198666214942932,
          0.4198666214942932
         ],
         "y": [
          0.505858302116394,
          0.505858302116394
         ],
         "z": [
          0,
          1
         ]
        },
        {
         "line": {
          "color": "gray",
          "width": 3
         },
         "mode": "lines",
         "showlegend": false,
         "type": "scatter3d",
         "x": [
          0.31215834617614746,
          0.31215834617614746
         ],
         "y": [
          0.45722681283950806,
          0.45722681283950806
         ],
         "z": [
          0,
          1
         ]
        },
        {
         "line": {
          "color": "gray",
          "width": 3
         },
         "mode": "lines",
         "showlegend": false,
         "type": "scatter3d",
         "x": [
          0.16389888525009155,
          0.16389888525009155
         ],
         "y": [
          0.4812711477279663,
          0.4812711477279663
         ],
         "z": [
          0,
          1
         ]
        },
        {
         "line": {
          "color": "gray",
          "width": 3
         },
         "mode": "lines",
         "showlegend": false,
         "type": "scatter3d",
         "x": [
          0.1736975759267807,
          0.1736975759267807
         ],
         "y": [
          0.4532579779624939,
          0.4532579779624939
         ],
         "z": [
          0,
          1
         ]
        },
        {
         "line": {
          "color": "gray",
          "width": 3
         },
         "mode": "lines",
         "showlegend": false,
         "type": "scatter3d",
         "x": [
          0.23211872577667236,
          0.23211872577667236
         ],
         "y": [
          0.491574764251709,
          0.491574764251709
         ],
         "z": [
          0,
          1
         ]
        },
        {
         "line": {
          "color": "gray",
          "width": 3
         },
         "mode": "lines",
         "showlegend": false,
         "type": "scatter3d",
         "x": [
          0.34088021516799927,
          0.34088021516799927
         ],
         "y": [
          0.7046062350273132,
          0.7046062350273132
         ],
         "z": [
          0,
          1
         ]
        },
        {
         "line": {
          "color": "gray",
          "width": 3
         },
         "mode": "lines",
         "showlegend": false,
         "type": "scatter3d",
         "x": [
          0.30930694937705994,
          0.30930694937705994
         ],
         "y": [
          0.4743638038635254,
          0.4743638038635254
         ],
         "z": [
          0,
          1
         ]
        },
        {
         "line": {
          "color": "gray",
          "width": 3
         },
         "mode": "lines",
         "showlegend": false,
         "type": "scatter3d",
         "x": [
          0.32247915863990784,
          0.32247915863990784
         ],
         "y": [
          0.45482325553894043,
          0.45482325553894043
         ],
         "z": [
          0,
          1
         ]
        },
        {
         "line": {
          "color": "gray",
          "width": 3
         },
         "mode": "lines",
         "showlegend": false,
         "type": "scatter3d",
         "x": [
          0.395026832818985,
          0.395026832818985
         ],
         "y": [
          0.5371025800704956,
          0.5371025800704956
         ],
         "z": [
          0,
          1
         ]
        },
        {
         "line": {
          "color": "gray",
          "width": 3
         },
         "mode": "lines",
         "showlegend": false,
         "type": "scatter3d",
         "x": [
          0.3226463496685028,
          0.3226463496685028
         ],
         "y": [
          0.6688902974128723,
          0.6688902974128723
         ],
         "z": [
          0,
          1
         ]
        },
        {
         "line": {
          "color": "gray",
          "width": 3
         },
         "mode": "lines",
         "showlegend": false,
         "type": "scatter3d",
         "x": [
          0.2960487902164459,
          0.2960487902164459
         ],
         "y": [
          0.6474400162696838,
          0.6474400162696838
         ],
         "z": [
          0,
          1
         ]
        },
        {
         "line": {
          "color": "gray",
          "width": 3
         },
         "mode": "lines",
         "showlegend": false,
         "type": "scatter3d",
         "x": [
          0.32295742630958557,
          0.32295742630958557
         ],
         "y": [
          0.5487350225448608,
          0.5487350225448608
         ],
         "z": [
          0,
          1
         ]
        },
        {
         "line": {
          "color": "gray",
          "width": 3
         },
         "mode": "lines",
         "showlegend": false,
         "type": "scatter3d",
         "x": [
          0.4617709517478943,
          0.4617709517478943
         ],
         "y": [
          0.5958018898963928,
          0.5958018898963928
         ],
         "z": [
          0,
          1
         ]
        },
        {
         "line": {
          "color": "gray",
          "width": 3
         },
         "mode": "lines",
         "showlegend": false,
         "type": "scatter3d",
         "x": [
          0.37539294362068176,
          0.37539294362068176
         ],
         "y": [
          0.7623559236526489,
          0.7623559236526489
         ],
         "z": [
          0,
          1
         ]
        },
        {
         "line": {
          "color": "gray",
          "width": 3
         },
         "mode": "lines",
         "showlegend": false,
         "type": "scatter3d",
         "x": [
          0.18142835795879364,
          0.18142835795879364
         ],
         "y": [
          0.569797694683075,
          0.569797694683075
         ],
         "z": [
          0,
          1
         ]
        },
        {
         "line": {
          "color": "gray",
          "width": 3
         },
         "mode": "lines",
         "showlegend": false,
         "type": "scatter3d",
         "x": [
          0.31783902645111084,
          0.31783902645111084
         ],
         "y": [
          0.6179124116897583,
          0.6179124116897583
         ],
         "z": [
          0,
          1
         ]
        },
        {
         "line": {
          "color": "gray",
          "width": 3
         },
         "mode": "lines",
         "showlegend": false,
         "type": "scatter3d",
         "x": [
          0.3193399906158447,
          0.3193399906158447
         ],
         "y": [
          0.6871691942214966,
          0.6871691942214966
         ],
         "z": [
          0,
          1
         ]
        },
        {
         "line": {
          "color": "gray",
          "width": 3
         },
         "mode": "lines",
         "showlegend": false,
         "type": "scatter3d",
         "x": [
          0.3864154517650604,
          0.3864154517650604
         ],
         "y": [
          0.4750966429710388,
          0.4750966429710388
         ],
         "z": [
          0,
          1
         ]
        },
        {
         "line": {
          "color": "gray",
          "width": 3
         },
         "mode": "lines",
         "showlegend": false,
         "type": "scatter3d",
         "x": [
          0.3915563225746155,
          0.3915563225746155
         ],
         "y": [
          0.4700044095516205,
          0.4700044095516205
         ],
         "z": [
          0,
          1
         ]
        },
        {
         "line": {
          "color": "gray",
          "width": 3
         },
         "mode": "lines",
         "showlegend": false,
         "type": "scatter3d",
         "x": [
          0.3125937879085541,
          0.3125937879085541
         ],
         "y": [
          0.5687257051467896,
          0.5687257051467896
         ],
         "z": [
          0,
          1
         ]
        },
        {
         "line": {
          "color": "gray",
          "width": 3
         },
         "mode": "lines",
         "showlegend": false,
         "type": "scatter3d",
         "x": [
          0.3326903283596039,
          0.3326903283596039
         ],
         "y": [
          0.5528727769851685,
          0.5528727769851685
         ],
         "z": [
          0,
          1
         ]
        },
        {
         "line": {
          "color": "gray",
          "width": 3
         },
         "mode": "lines",
         "showlegend": false,
         "type": "scatter3d",
         "x": [
          0.37370312213897705,
          0.37370312213897705
         ],
         "y": [
          0.5067985653877258,
          0.5067985653877258
         ],
         "z": [
          0,
          1
         ]
        },
        {
         "line": {
          "color": "gray",
          "width": 3
         },
         "mode": "lines",
         "showlegend": false,
         "type": "scatter3d",
         "x": [
          0.433124840259552,
          0.433124840259552
         ],
         "y": [
          0.6230639815330505,
          0.6230639815330505
         ],
         "z": [
          0,
          1
         ]
        },
        {
         "line": {
          "color": "gray",
          "width": 3
         },
         "mode": "lines",
         "showlegend": false,
         "type": "scatter3d",
         "x": [
          0.42405226826667786,
          0.42405226826667786
         ],
         "y": [
          0.4193406105041504,
          0.4193406105041504
         ],
         "z": [
          0,
          1
         ]
        },
        {
         "marker": {
          "color": "silver",
          "size": 5,
          "symbol": "square"
         },
         "mode": "markers",
         "name": "Facilities",
         "type": "scatter3d",
         "x": {
          "bdata": "IBWFPpCwkz4yRhk+Y5uxPsrf0z60l8Q+birbPqLnnD5/xaM+Z8e3PqSZwj7nxAI/aWKkPoI30z5COL4+AC3mPkgThD6vUzI+Lg6pPpr0kT6juqk+4JvlPYpHVj7cNNc+aPb2PiMpzT4bRuw+qNR5PpcWrz5gnuo9aCiLPsXKvz5NgcE+siLHPgHOwz5EYtE+3yeNPtSHsj7q63Q+hJxKPi6byz5I98Q+MXKXPsddmD5M54k+lH9kPv9Wwj7aXOA+EA+oPsrIfD7QBQM/tPrMPhQDkj7UTDI+xDBGPkLZfz7DE8A+9eiPPr3Awj4Ww9o+4aSUPmHNtD5KKGE+yPqjPl8Kxj4YE3Y+gDY/PpGjhD6DBJM+MpvOPkZV2D65Wnw+M8WpPjpcvz4c6dQ+XrOdPgE9iD7csnw+mRDFPjyzuz54CeA+636ZPlWsSD6ZSqw+mimXPqI7hT5kspE+N/2DPgISwT7Q9u09cQC6PnAGJz534qI+rtB6PjybHD+IXVQ+zYCOPlUkoT6GxcQ+H5jEPtw42j7xtr8+kgpbPoYzxj5tqpA+eOQLP1tPjD5WJ6U+SUHOPgu/wD4V8s8+6LtLPTeBFD662tE+D8yyPgvnLD6CpOk+i68CPw7FgD4Ltpg+HB3CPo9XtT7veaU+SNeUPghYhD69kN4+w1YjPjoEhT54woY+reKsPiIXpz5I9fg93na0PjfxNj6ScKM+2seqPpK93D7zS74+FMh2PsLXzj7YW3s+DTelPr9Uvz5w2FQ+c6+UPl3ljj4sPno+aS62PuhnxD4894g+ngnPPtkYMj7IktU+4i53PtpRtj4Yl7g+qZrcPq6rDT5QIIQ+x0+gPkxkrj62QMQ+C/iRPr8dAz8rvKo+PpZ8PjuhuT6LP6E+12EsPtCg0j5yC5o+OiYkPpj0dz6+B7k+1RG1PrwxCT/C+NY+ONOfPhzVJz7H3TE+iLBtPtqHrj57XZ4+/RulPvVAyj7nMaU+tZOXPq1apT4+bew+gTPAPlvIOT7Mu6I+iICjPj/YxT4Sesg+SwygPmNWqj4EVr8+isLdPmEd2T4=",
          "dtype": "f4"
         },
         "y": {
          "bdata": "+b0bP6whAz9uWts+WIHMPt5IND/2tRI//JccP3ACHD9x3Ro/lFXoPsH9Hj9iXkA/iqYEP3Yhzz6jjCg/KO4ZP5BzMD/Pqyg/wJgIP8X9Kz9yfuU+/pERP9CFMD/9ZAM/x+khPzZE5j7x4ws/7d8nPxj/Bj8rquQ+R80xP3744z6d/QY/lqcYP0kdFz9RgyA/+DjSPiJ7Gz9fBRI/guflPlawFz8UeLk+u78OP5msMD+71g8/gJ0yP98BAD+n2go/qeAbP7Vmnj77bCs/2SPwPtwIEz9ohi0/Q3QYPzJT9T5wP74+ai4qP85cGj8lwgU/jJ8KP0nRDD9gmh4/8qQYP7dUKz+6egI/5DodPyFZAD+Z8B0/zDo6PyhGCD+DxC0/AcQWP1nsJz8Bp6w+6rboPvWKGD+4XAQ/7C8bP72SBT9WBc0+jUnzPo2FED8jMRs/KRoNP174DT+O2so+HqoCP6KMDD9FYwc/D0RNP+ek/D4hmyE/kIUHP4KF8T6G9fs+clr8PqY8/T4RdCQ/q5gDP6M3KD/kwCQ/jaYRPxEE6D6DCB4/k38WP5jK+j6EyDM/yrk0P7nf9D5Jss4+FUJDP6tUFj8f2w4/Fjg6P4dSEj9U0hU/3EARP3YULD8NdDc/9fYTP+Uu6z6wgw0/lcwDP5IOGz+j0Aw/drUMPx9eED/s9S4/KQclP16yLT8X2w0/BN0vP9vJND/mpso+uZQAPxhHMz9yTB8//trLPtkc6j4oU/8+siYhP1fTNz9LuRM/q1f8PilQFj8oTQ4/pnclP03o7z7claQ+Ak4PP4bRET+yJOM+BvwCP6m7BT9DoRk/Hy43P5l8JT8fsM4+OFD1PonhJz/PGDY/v2IlP6fIED+YWR0/pSQyP7HTHj8M7eg+Ki3xPkodHD+vxvg+3OTgPu6AED/fBAY/piUpP35lGT/ufwE/ohnqPixp9j5uEeg+sK/7PhNhND/Q3/I+mN7oPo5/CT9lPCs/ob4lP+Z5DD95hhg/wilDP0PeET+CLx4/UuovP94/8z5rpPA+ApgRPxKJDT+NvQE/H4EfP9Cz1j4=",
          "dtype": "f4"
         },
         "z": {
          "bdata": "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",
          "dtype": "f8"
         }
        }
       ],
       "layout": {
        "legend": {
         "bgcolor": "rgba(0,0,0,0.4)",
         "bordercolor": "white"
        },
        "margin": {
         "b": 0,
         "l": 0,
         "r": 0,
         "t": 30
        },
        "scene": {
         "aspectmode": "data",
         "camera": {
          "eye": {
           "x": 1.5,
           "y": 1.5,
           "z": 0.7
          }
         },
         "xaxis": {
          "backgroundcolor": "rgb(10,10,20)",
          "gridcolor": "gray",
          "title": {
           "text": "X"
          },
          "zerolinecolor": "gray"
         },
         "yaxis": {
          "backgroundcolor": "rgb(10,10,20)",
          "gridcolor": "gray",
          "title": {
           "text": "Y"
          },
          "zerolinecolor": "gray"
         },
         "zaxis": {
          "backgroundcolor": "rgb(10,10,20)",
          "gridcolor": "gray",
          "title": {
           "text": "Z"
          },
          "zerolinecolor": "gray"
         }
        },
        "template": {
         "data": {
          "bar": [
           {
            "error_x": {
             "color": "#f2f5fa"
            },
            "error_y": {
             "color": "#f2f5fa"
            },
            "marker": {
             "line": {
              "color": "rgb(17,17,17)",
              "width": 0.5
             },
             "pattern": {
              "fillmode": "overlay",
              "size": 10,
              "solidity": 0.2
             }
            },
            "type": "bar"
           }
          ],
          "barpolar": [
           {
            "marker": {
             "line": {
              "color": "rgb(17,17,17)",
              "width": 0.5
             },
             "pattern": {
              "fillmode": "overlay",
              "size": 10,
              "solidity": 0.2
             }
            },
            "type": "barpolar"
           }
          ],
          "carpet": [
           {
            "aaxis": {
             "endlinecolor": "#A2B1C6",
             "gridcolor": "#506784",
             "linecolor": "#506784",
             "minorgridcolor": "#506784",
             "startlinecolor": "#A2B1C6"
            },
            "baxis": {
             "endlinecolor": "#A2B1C6",
             "gridcolor": "#506784",
             "linecolor": "#506784",
             "minorgridcolor": "#506784",
             "startlinecolor": "#A2B1C6"
            },
            "type": "carpet"
           }
          ],
          "choropleth": [
           {
            "colorbar": {
             "outlinewidth": 0,
             "ticks": ""
            },
            "type": "choropleth"
           }
          ],
          "contour": [
           {
            "colorbar": {
             "outlinewidth": 0,
             "ticks": ""
            },
            "colorscale": [
             [
              0,
              "#0d0887"
             ],
             [
              0.1111111111111111,
              "#46039f"
             ],
             [
              0.2222222222222222,
              "#7201a8"
             ],
             [
              0.3333333333333333,
              "#9c179e"
             ],
             [
              0.4444444444444444,
              "#bd3786"
             ],
             [
              0.5555555555555556,
              "#d8576b"
             ],
             [
              0.6666666666666666,
              "#ed7953"
             ],
             [
              0.7777777777777778,
              "#fb9f3a"
             ],
             [
              0.8888888888888888,
              "#fdca26"
             ],
             [
              1,
              "#f0f921"
             ]
            ],
            "type": "contour"
           }
          ],
          "contourcarpet": [
           {
            "colorbar": {
             "outlinewidth": 0,
             "ticks": ""
            },
            "type": "contourcarpet"
           }
          ],
          "heatmap": [
           {
            "colorbar": {
             "outlinewidth": 0,
             "ticks": ""
            },
            "colorscale": [
             [
              0,
              "#0d0887"
             ],
             [
              0.1111111111111111,
              "#46039f"
             ],
             [
              0.2222222222222222,
              "#7201a8"
             ],
             [
              0.3333333333333333,
              "#9c179e"
             ],
             [
              0.4444444444444444,
              "#bd3786"
             ],
             [
              0.5555555555555556,
              "#d8576b"
             ],
             [
              0.6666666666666666,
              "#ed7953"
             ],
             [
              0.7777777777777778,
              "#fb9f3a"
             ],
             [
              0.8888888888888888,
              "#fdca26"
             ],
             [
              1,
              "#f0f921"
             ]
            ],
            "type": "heatmap"
           }
          ],
          "histogram": [
           {
            "marker": {
             "pattern": {
              "fillmode": "overlay",
              "size": 10,
              "solidity": 0.2
             }
            },
            "type": "histogram"
           }
          ],
          "histogram2d": [
           {
            "colorbar": {
             "outlinewidth": 0,
             "ticks": ""
            },
            "colorscale": [
             [
              0,
              "#0d0887"
             ],
             [
              0.1111111111111111,
              "#46039f"
             ],
             [
              0.2222222222222222,
              "#7201a8"
             ],
             [
              0.3333333333333333,
              "#9c179e"
             ],
             [
              0.4444444444444444,
              "#bd3786"
             ],
             [
              0.5555555555555556,
              "#d8576b"
             ],
             [
              0.6666666666666666,
              "#ed7953"
             ],
             [
              0.7777777777777778,
              "#fb9f3a"
             ],
             [
              0.8888888888888888,
              "#fdca26"
             ],
             [
              1,
              "#f0f921"
             ]
            ],
            "type": "histogram2d"
           }
          ],
          "histogram2dcontour": [
           {
            "colorbar": {
             "outlinewidth": 0,
             "ticks": ""
            },
            "colorscale": [
             [
              0,
              "#0d0887"
             ],
             [
              0.1111111111111111,
              "#46039f"
             ],
             [
              0.2222222222222222,
              "#7201a8"
             ],
             [
              0.3333333333333333,
              "#9c179e"
             ],
             [
              0.4444444444444444,
              "#bd3786"
             ],
             [
              0.5555555555555556,
              "#d8576b"
             ],
             [
              0.6666666666666666,
              "#ed7953"
             ],
             [
              0.7777777777777778,
              "#fb9f3a"
             ],
             [
              0.8888888888888888,
              "#fdca26"
             ],
             [
              1,
              "#f0f921"
             ]
            ],
            "type": "histogram2dcontour"
           }
          ],
          "mesh3d": [
           {
            "colorbar": {
             "outlinewidth": 0,
             "ticks": ""
            },
            "type": "mesh3d"
           }
          ],
          "parcoords": [
           {
            "line": {
             "colorbar": {
              "outlinewidth": 0,
              "ticks": ""
             }
            },
            "type": "parcoords"
           }
          ],
          "pie": [
           {
            "automargin": true,
            "type": "pie"
           }
          ],
          "scatter": [
           {
            "marker": {
             "line": {
              "color": "#283442"
             }
            },
            "type": "scatter"
           }
          ],
          "scatter3d": [
           {
            "line": {
             "colorbar": {
              "outlinewidth": 0,
              "ticks": ""
             }
            },
            "marker": {
             "colorbar": {
              "outlinewidth": 0,
              "ticks": ""
             }
            },
            "type": "scatter3d"
           }
          ],
          "scattercarpet": [
           {
            "marker": {
             "colorbar": {
              "outlinewidth": 0,
              "ticks": ""
             }
            },
            "type": "scattercarpet"
           }
          ],
          "scattergeo": [
           {
            "marker": {
             "colorbar": {
              "outlinewidth": 0,
              "ticks": ""
             }
            },
            "type": "scattergeo"
           }
          ],
          "scattergl": [
           {
            "marker": {
             "line": {
              "color": "#283442"
             }
            },
            "type": "scattergl"
           }
          ],
          "scattermap": [
           {
            "marker": {
             "colorbar": {
              "outlinewidth": 0,
              "ticks": ""
             }
            },
            "type": "scattermap"
           }
          ],
          "scattermapbox": [
           {
            "marker": {
             "colorbar": {
              "outlinewidth": 0,
              "ticks": ""
             }
            },
            "type": "scattermapbox"
           }
          ],
          "scatterpolar": [
           {
            "marker": {
             "colorbar": {
              "outlinewidth": 0,
              "ticks": ""
             }
            },
            "type": "scatterpolar"
           }
          ],
          "scatterpolargl": [
           {
            "marker": {
             "colorbar": {
              "outlinewidth": 0,
              "ticks": ""
             }
            },
            "type": "scatterpolargl"
           }
          ],
          "scatterternary": [
           {
            "marker": {
             "colorbar": {
              "outlinewidth": 0,
              "ticks": ""
             }
            },
            "type": "scatterternary"
           }
          ],
          "surface": [
           {
            "colorbar": {
             "outlinewidth": 0,
             "ticks": ""
            },
            "colorscale": [
             [
              0,
              "#0d0887"
             ],
             [
              0.1111111111111111,
              "#46039f"
             ],
             [
              0.2222222222222222,
              "#7201a8"
             ],
             [
              0.3333333333333333,
              "#9c179e"
             ],
             [
              0.4444444444444444,
              "#bd3786"
             ],
             [
              0.5555555555555556,
              "#d8576b"
             ],
             [
              0.6666666666666666,
              "#ed7953"
             ],
             [
              0.7777777777777778,
              "#fb9f3a"
             ],
             [
              0.8888888888888888,
              "#fdca26"
             ],
             [
              1,
              "#f0f921"
             ]
            ],
            "type": "surface"
           }
          ],
          "table": [
           {
            "cells": {
             "fill": {
              "color": "#506784"
             },
             "line": {
              "color": "rgb(17,17,17)"
             }
            },
            "header": {
             "fill": {
              "color": "#2a3f5f"
             },
             "line": {
              "color": "rgb(17,17,17)"
             }
            },
            "type": "table"
           }
          ]
         },
         "layout": {
          "annotationdefaults": {
           "arrowcolor": "#f2f5fa",
           "arrowhead": 0,
           "arrowwidth": 1
          },
          "autotypenumbers": "strict",
          "coloraxis": {
           "colorbar": {
            "outlinewidth": 0,
            "ticks": ""
           }
          },
          "colorscale": {
           "diverging": [
            [
             0,
             "#8e0152"
            ],
            [
             0.1,
             "#c51b7d"
            ],
            [
             0.2,
             "#de77ae"
            ],
            [
             0.3,
             "#f1b6da"
            ],
            [
             0.4,
             "#fde0ef"
            ],
            [
             0.5,
             "#f7f7f7"
            ],
            [
             0.6,
             "#e6f5d0"
            ],
            [
             0.7,
             "#b8e186"
            ],
            [
             0.8,
             "#7fbc41"
            ],
            [
             0.9,
             "#4d9221"
            ],
            [
             1,
             "#276419"
            ]
           ],
           "sequential": [
            [
             0,
             "#0d0887"
            ],
            [
             0.1111111111111111,
             "#46039f"
            ],
            [
             0.2222222222222222,
             "#7201a8"
            ],
            [
             0.3333333333333333,
             "#9c179e"
            ],
            [
             0.4444444444444444,
             "#bd3786"
            ],
            [
             0.5555555555555556,
             "#d8576b"
            ],
            [
             0.6666666666666666,
             "#ed7953"
            ],
            [
             0.7777777777777778,
             "#fb9f3a"
            ],
            [
             0.8888888888888888,
             "#fdca26"
            ],
            [
             1,
             "#f0f921"
            ]
           ],
           "sequentialminus": [
            [
             0,
             "#0d0887"
            ],
            [
             0.1111111111111111,
             "#46039f"
            ],
            [
             0.2222222222222222,
             "#7201a8"
            ],
            [
             0.3333333333333333,
             "#9c179e"
            ],
            [
             0.4444444444444444,
             "#bd3786"
            ],
            [
             0.5555555555555556,
             "#d8576b"
            ],
            [
             0.6666666666666666,
             "#ed7953"
            ],
            [
             0.7777777777777778,
             "#fb9f3a"
            ],
            [
             0.8888888888888888,
             "#fdca26"
            ],
            [
             1,
             "#f0f921"
            ]
           ]
          },
          "colorway": [
           "#636efa",
           "#EF553B",
           "#00cc96",
           "#ab63fa",
           "#FFA15A",
           "#19d3f3",
           "#FF6692",
           "#B6E880",
           "#FF97FF",
           "#FECB52"
          ],
          "font": {
           "color": "#f2f5fa"
          },
          "geo": {
           "bgcolor": "rgb(17,17,17)",
           "lakecolor": "rgb(17,17,17)",
           "landcolor": "rgb(17,17,17)",
           "showlakes": true,
           "showland": true,
           "subunitcolor": "#506784"
          },
          "hoverlabel": {
           "align": "left"
          },
          "hovermode": "closest",
          "mapbox": {
           "style": "dark"
          },
          "paper_bgcolor": "rgb(17,17,17)",
          "plot_bgcolor": "rgb(17,17,17)",
          "polar": {
           "angularaxis": {
            "gridcolor": "#506784",
            "linecolor": "#506784",
            "ticks": ""
           },
           "bgcolor": "rgb(17,17,17)",
           "radialaxis": {
            "gridcolor": "#506784",
            "linecolor": "#506784",
            "ticks": ""
           }
          },
          "scene": {
           "xaxis": {
            "backgroundcolor": "rgb(17,17,17)",
            "gridcolor": "#506784",
            "gridwidth": 2,
            "linecolor": "#506784",
            "showbackground": true,
            "ticks": "",
            "zerolinecolor": "#C8D4E3"
           },
           "yaxis": {
            "backgroundcolor": "rgb(17,17,17)",
            "gridcolor": "#506784",
            "gridwidth": 2,
            "linecolor": "#506784",
            "showbackground": true,
            "ticks": "",
            "zerolinecolor": "#C8D4E3"
           },
           "zaxis": {
            "backgroundcolor": "rgb(17,17,17)",
            "gridcolor": "#506784",
            "gridwidth": 2,
            "linecolor": "#506784",
            "showbackground": true,
            "ticks": "",
            "zerolinecolor": "#C8D4E3"
           }
          },
          "shapedefaults": {
           "line": {
            "color": "#f2f5fa"
           }
          },
          "sliderdefaults": {
           "bgcolor": "#C8D4E3",
           "bordercolor": "rgb(17,17,17)",
           "borderwidth": 1,
           "tickwidth": 0
          },
          "ternary": {
           "aaxis": {
            "gridcolor": "#506784",
            "linecolor": "#506784",
            "ticks": ""
           },
           "baxis": {
            "gridcolor": "#506784",
            "linecolor": "#506784",
            "ticks": ""
           },
           "bgcolor": "rgb(17,17,17)",
           "caxis": {
            "gridcolor": "#506784",
            "linecolor": "#506784",
            "ticks": ""
           }
          },
          "title": {
           "x": 0.05
          },
          "updatemenudefaults": {
           "bgcolor": "#506784",
           "borderwidth": 0
          },
          "xaxis": {
           "automargin": true,
           "gridcolor": "#283442",
           "linecolor": "#506784",
           "ticks": "",
           "title": {
            "standoff": 15
           },
           "zerolinecolor": "#283442",
           "zerolinewidth": 2
          },
          "yaxis": {
           "automargin": true,
           "gridcolor": "#283442",
           "linecolor": "#506784",
           "ticks": "",
           "title": {
            "standoff": 15
           },
           "zerolinecolor": "#283442",
           "zerolinewidth": 2
          }
         }
        },
        "title": {
         "font": {
          "size": 20
         },
         "text": "UAV Spatial Deployment",
         "x": 0.5
        }
       }
      }
     },
     "metadata": {},
     "output_type": "display_data"
    }
   ],
   "source": [
    "num_drones = 50\n",
    "n_drone_clusters = 4\n",
    "drone_cluster_split = np.random.uniform(0.0, 1.0, n_drone_clusters)\n",
    "drone_cluster_split = drone_cluster_split / np.sum(drone_cluster_split)\n",
    "num_facilities = 200\n",
    "num_distinct_ends = 5\n",
    "dim_ = 2\n",
    "print(f\"num_drones = {num_drones}\\tnum_facilities = {num_facilities}\\tdim = {dim_}\")\n",
    "\n",
    "START_locs, F_base, END_locs = generate_dataset(\n",
    "    num_drones, n_drone_clusters, drone_cluster_split, num_facilities, dim_, device, drone_cluster_std_range=[0.02, 0.08], F_noise_std=0.1,num_distinct_ends=num_distinct_ends\n",
    ")\n",
    "np_flpo_filename = 'numpy_FLPO_data/numpy_FLPO_data'\n",
    "torchFLPO_2_numpyFLPO(START_locs, END_locs, F_base, np_flpo_filename, scale=1.0)\n",
    "\n",
    "plot_UAV_FLPO(START_locs, END_locs, F_base)\n",
    "plot_UAV_FLPO_3D(START_locs, END_locs, F_base)"
   ]
  },
  {
   "cell_type": "markdown",
   "metadata": {},
   "source": [
    "### Load the VRP NET Module"
   ]
  },
  {
   "cell_type": "code",
   "execution_count": 5,
   "metadata": {},
   "outputs": [
    {
     "name": "stdout",
     "output_type": "stream",
     "text": [
      "Model created.\n",
      "VRP NET loaded on:  cuda\n",
      "===============================================================================================\n",
      "Layer (type:depth-idx)                                                 Param #\n",
      "===============================================================================================\n",
      "VRPNet_L                                                               --\n",
      "├─LinearAttnEncoder: 1-1                                               2,048\n",
      "│    └─ModuleList: 2-1                                                 --\n",
      "│    │    └─MultiheadAttention: 3-1                                    (66,048)\n",
      "│    │    └─MultiheadAttention: 3-2                                    (66,048)\n",
      "│    │    └─MultiheadAttention: 3-3                                    (66,048)\n",
      "│    │    └─MultiheadAttention: 3-4                                    (66,048)\n",
      "│    │    └─MultiheadAttention: 3-5                                    (66,048)\n",
      "│    │    └─MultiheadAttention: 3-6                                    (66,048)\n",
      "│    └─ModuleList: 2-2                                                 --\n",
      "│    │    └─MultiheadAttention: 3-7                                    (66,048)\n",
      "│    │    └─MultiheadAttention: 3-8                                    (66,048)\n",
      "│    │    └─MultiheadAttention: 3-9                                    (66,048)\n",
      "│    │    └─MultiheadAttention: 3-10                                   (66,048)\n",
      "│    │    └─MultiheadAttention: 3-11                                   (66,048)\n",
      "│    │    └─MultiheadAttention: 3-12                                   (66,048)\n",
      "│    └─Linear: 2-3                                                     (512)\n",
      "│    └─Linear: 2-4                                                     (8,256)\n",
      "│    └─LayerNorm: 2-5                                                  (256)\n",
      "│    └─Dropout: 2-6                                                    --\n",
      "│    └─ReLU: 2-7                                                       --\n",
      "├─Decoder: 1-2                                                         --\n",
      "│    └─PositionalEncoding: 2-8                                         --\n",
      "│    └─TransformerDecoder: 2-9                                         --\n",
      "│    │    └─ModuleList: 3-13                                           (200,256)\n",
      "===============================================================================================\n",
      "Total params: 1,003,904\n",
      "Trainable params: 0\n",
      "Non-trainable params: 1,003,904\n",
      "===============================================================================================\n"
     ]
    }
   ],
   "source": [
    "torch.cuda.empty_cache()\n",
    "model_classes = {\"VRPNet_L\": VRPNet_L}\n",
    "weights_address = (\n",
    "    Path(\"Saved_models\") /\n",
    "    \"VRPNet_L_lr1e-04_bs32_ep60000_samples1920000_cities50_inputdim2_\"\n",
    "    \"workers0_hidden64_enc1_dec1_heads8_dropout0.30_\"\n",
    "    \"train_PO_2025_05_17_22_43_32last_model.pth\"\n",
    ")\n",
    "vrp_net = utils.load_model(\n",
    "    weights_address, model_classes, weights_only=True, device=device\n",
    ")\n",
    "for param in vrp_net.parameters():\n",
    "    param.requires_grad = False\n",
    "print(\"VRP NET loaded on: \", vrp_net.device)\n",
    "print(summary(vrp_net))"
   ]
  },
  {
   "cell_type": "markdown",
   "metadata": {},
   "source": [
    "### Load the LSE net module"
   ]
  },
  {
   "cell_type": "code",
   "execution_count": 6,
   "metadata": {},
   "outputs": [
    {
     "name": "stdout",
     "output_type": "stream",
     "text": [
      "D_max_scale: 5.0\n",
      "n_inputs: 3\n",
      "n_outputs: 1\n",
      "layers: [20, 20, 10]\n",
      "io_scale: 1\n",
      "LSE_net:\n",
      "=================================================================\n",
      "Layer (type:depth-idx)                   Param #\n",
      "=================================================================\n",
      "dnn                                      --\n",
      "├─ModuleList: 1-1                        --\n",
      "│    └─Linear: 2-1                       (80)\n",
      "│    └─ReLU: 2-2                         --\n",
      "│    └─Linear: 2-3                       (420)\n",
      "│    └─ReLU: 2-4                         --\n",
      "│    └─Linear: 2-5                       (210)\n",
      "│    └─ReLU: 2-6                         --\n",
      "│    └─Linear: 2-7                       (11)\n",
      "=================================================================\n",
      "Total params: 721\n",
      "Trainable params: 0\n",
      "Non-trainable params: 721\n",
      "=================================================================\n"
     ]
    }
   ],
   "source": [
    "importlib.reload(LSE_net)\n",
    "lse_data = torch.load('logSumExp_models/lse_2025_5_19__15_47_58.pth', weights_only=False)\n",
    "n_inputs = lse_data['n_inputs']\n",
    "n_outputs = lse_data['n_outputs']\n",
    "layers = lse_data['layers']\n",
    "weights = lse_data['model_state_dict']\n",
    "io_scale = lse_data['io_scale']\n",
    "D_max_range = lse_data['D_max_range']\n",
    "lse_net = LSE_net.dnn(n_inputs, n_outputs, layers)\n",
    "lse_net.to(device)\n",
    "lse_net.load_state_dict(weights)\n",
    "lse_net.eval()\n",
    "for p in lse_net.parameters():\n",
    "    p.requires_grad = False\n",
    "print(f'D_max_scale: {D_max_range}\\nn_inputs: {n_inputs}\\nn_outputs: {n_outputs}\\nlayers: {layers}\\nio_scale: {io_scale}\\nLSE_net:\\n{summary(lse_net)}')"
   ]
  },
  {
   "cell_type": "markdown",
   "metadata": {},
   "source": [
    "### Optimization loop for a single beta\n",
    "Warning: Use $\\beta >= 1e-3$, as the free energy approximation is poor for $\\beta < 5e-4$ with torch.float32 datatype."
   ]
  },
  {
   "cell_type": "code",
   "execution_count": null,
   "metadata": {},
   "outputs": [],
   "source": [
    "optim_iters = 200\n",
    "optim_step = 0.01\n",
    "b_min = 1e-3\n",
    "beta = 1e3\n",
    "tol = 5e-3\n",
    "\n",
    "print(D_max_range)\n",
    "Y_arr, FreeEnergy, G = GD.Adam_at_beta(\n",
    "    F_base, START_locs, END_locs, vrp_net, lse_net, optim_iters,\n",
    "    optim_step, b_min, beta, D_max_range=D_max_range, tol=tol, allowPrint=True, return_list= True)\n",
    "\n",
    "# F_base, FreeEnergy, G = GD.GD_at_beta1(\n",
    "#     F_base, START_locs, END_locs, vrp_net, lse_net, optim_iters, \n",
    "#     optim_step, b_min, beta, D_max_range=D_max_range, tol=tol, allowPrint=True)\n",
    "\n",
    "# F_base, FreeEnergy, G = GD.GD_at_beta0(\n",
    "#     F_base, START_locs, END_locs, vrp_net, lse_net, optim_iters, \n",
    "#     optim_step, b_min, beta, D_max_range=D_max_range, tol=tol, allowPrint=True)"
   ]
  },
  {
   "cell_type": "code",
   "execution_count": 8,
   "metadata": {},
   "outputs": [
    {
     "data": {
      "image/png": "[encoded data removed]",
      "text/plain": [
       "<Figure size 400x300 with 1 Axes>"
      ]
     },
     "metadata": {},
     "output_type": "display_data"
    },
    {
     "data": {
      "application/vnd.plotly.v1+json": {
       "config": {
        "plotlyServerURL": "https://plot.ly"
       },
       "data": [
        {
         "mode": "text",
         "name": "Drone Start",
         "text": [
          "𖥂",
          "𖥂",
          "𖥂",
          "𖥂",
          "𖥂",
          "𖥂",
          "𖥂",
          "𖥂",
          "𖥂",
          "𖥂",
          "𖥂",
          "𖥂",
          "𖥂",
          "𖥂",
          "𖥂",
          "𖥂",
          "𖥂",
          "𖥂",
          "𖥂",
          "𖥂",
          "𖥂",
          "𖥂",
          "𖥂",
          "𖥂",
          "𖥂",
          "𖥂",
          "𖥂",
          "𖥂",
          "𖥂",
          "𖥂",
          "𖥂",
          "𖥂",
          "𖥂",
          "𖥂",
          "𖥂",
          "𖥂",
          "𖥂",
          "𖥂",
          "𖥂",
          "𖥂",
          "𖥂",
          "𖥂",
          "𖥂",
          "𖥂",
          "𖥂",
          "𖥂",
          "𖥂",
          "𖥂",
          "𖥂",
          "𖥂"
         ],
         "textfont": {
          "color": "cyan",
          "size": 16
         },
         "type": "scatter3d",
         "x": {
          "bdata": "87jaPj36mD4Rdvk+q0PmPqP91D7aLb4+XAAFP8GkFz9xOfk+hnwaP9Iv6z6sFaI+zVS1PvglwT5WwqA+FGiyPhQngz4hnao+8Y6LPldWlT7db4c++LKnPtOLoj79NZY+MYe3PrzVrz4sHBs/b1zaPsVY7D6oSAI/rXbUPhlVBD9u790+XtkTPy8P4T6N1ck+//cBP2xPvD5mQjU9cqjzvK6u6bwYObC7D3JnPHrNUL0wVr261CrkvDqVoD2sOXG83Ga4PcB1pj0=",
          "dtype": "f4"
         },
         "y": {
          "bdata": "+9A8P/5XRz+69zk/+po+P8z2PT/Id24/IERBP2R5Wj9uHls/fztYP9BhKj89nh4/XWQdP38lKD8KAxw/RT4oP8HiHz/SICU/pGshP91YLj/BYi0/Ts8eP+RqIT/xHR0/vsEePzjwJT+mnhc/AK8jP5QYHD/PdS0/ltUjP9gxIz8jkiA/9uAHP6rkJT9y+yw/Z4EiP98WMj/p7ss9x2g8PqBLUT51hEE+vnYgPkqwTD4C/FQ+MVRHPraoaj5iZus9bs48PmAmIT4=",
          "dtype": "f4"
         },
         "z": {
          "bdata": "AAAAAAAA8D8AAAAAAADwPwAAAAAAAPA/AAAAAAAA8D8AAAAAAADwPwAAAAAAAPA/AAAAAAAA8D8AAAAAAADwPwAAAAAAAPA/AAAAAAAA8D8AAAAAAADwPwAAAAAAAPA/AAAAAAAA8D8AAAAAAADwPwAAAAAAAPA/AAAAAAAA8D8AAAAAAADwPwAAAAAAAPA/AAAAAAAA8D8AAAAAAADwPwAAAAAAAPA/AAAAAAAA8D8AAAAAAADwPwAAAAAAAPA/AAAAAAAA8D8AAAAAAADwPwAAAAAAAPA/AAAAAAAA8D8AAAAAAADwPwAAAAAAAPA/AAAAAAAA8D8AAAAAAADwPwAAAAAAAPA/AAAAAAAA8D8AAAAAAADwPwAAAAAAAPA/AAAAAAAA8D8AAAAAAADwPwAAAAAAAPA/AAAAAAAA8D8AAAAAAADwPwAAAAAAAPA/AAAAAAAA8D8AAAAAAADwPwAAAAAAAPA/AAAAAAAA8D8AAAAAAADwPwAAAAAAAPA/AAAAAAAA8D8AAAAAAADwPw==",
          "dtype": "f8"
         }
        },
        {
         "mode": "text",
         "name": "Drone End",
         "text": [
          "📍",
          "📍",
          "📍",
          "📍",
          "📍",
          "📍",
          "📍",
          "📍",
          "📍",
          "📍",
          "📍",
          "📍",
          "📍",
          "📍",
          "📍",
          "📍",
          "📍",
          "📍",
          "📍",
          "📍",
          "📍",
          "📍",
          "📍",
          "📍",
          "📍",
          "📍",
          "📍",
          "📍",
          "📍",
          "📍",
          "📍",
          "📍",
          "📍",
          "📍",
          "📍",
          "📍",
          "📍",
          "📍",
          "📍",
          "📍",
          "📍",
          "📍",
          "📍",
          "📍",
          "📍",
          "📍",
          "📍",
          "📍",
          "📍",
          "📍"
         ],
         "textfont": {
          "color": "red",
          "size": 20
         },
         "type": "scatter3d",
         "x": {
          "bdata": "wz1vP8M9bz/DPW8/wz1vP8M9bz/DPW8/wz1vP8M9bz/DPW8/wz1vPyiR5j4okeY+KJHmPiiR5j4okeY+KJHmPiiR5j4okeY+KJHmPiiR5j5MrzY/TK82P0yvNj9MrzY/TK82P0yvNj9MrzY/TK82P0yvNj9MrzY/HbMoPx2zKD8dsyg/HbMoPx2zKD8dsyg/HbMoPx2zKD8dsyg/HbMoP6Yafz6mGn8+php/PqYafz6mGn8+php/PqYafz6mGn8+php/PqYafz4=",
          "dtype": "f4"
         },
         "y": {
          "bdata": "8xpSP/MaUj/zGlI/8xpSP/MaUj/zGlI/8xpSP/MaUj/zGlI/8xpSP1XuVz9V7lc/Ve5XP1XuVz9V7lc/Ve5XP1XuVz9V7lc/Ve5XP1XuVz8SHWQ9Eh1kPRIdZD0SHWQ9Eh1kPRIdZD0SHWQ9Eh1kPRIdZD0SHWQ9lSKrPZUiqz2VIqs9lSKrPZUiqz2VIqs9lSKrPZUiqz2VIqs9lSKrPf/xPT//8T0///E9P//xPT//8T0///E9P//xPT//8T0///E9P//xPT8=",
          "dtype": "f4"
         },
         "z": {
          "bdata": "AAAAAAAAAAAAAAAAAAAAAAAAAAAAAAAAAAAAAAAAAAAAAAAAAAAAAAAAAAAAAAAAAAAAAAAAAAAAAAAAAAAAAAAAAAAAAAAAAAAAAAAAAAAAAAAAAAAAAAAAAAAAAAAAAAAAAAAAAAAAAAAAAAAAAAAAAAAAAAAAAAAAAAAAAAAAAAAAAAAAAAAAAAAAAAAAAAAAAAAAAAAAAAAAAAAAAAAAAAAAAAAAAAAAAAAAAAAAAAAAAAAAAAAAAAAAAAAAAAAAAAAAAAAAAAAAAAAAAAAAAAAAAAAAAAAAAAAAAAAAAAAAAAAAAAAAAAAAAAAAAAAAAAAAAAAAAAAAAAAAAAAAAAAAAAAAAAAAAAAAAAAAAAAAAAAAAAAAAAAAAAAAAAAAAAAAAAAAAAAAAAAAAAAAAAAAAAAAAAAAAAAAAAAAAAAAAAAAAAAAAAAAAAAAAAAAAAAAAAAAAAAAAAAAAAAAAAAAAAAAAAAAAAAAAAAAAAAAAAAAAAAAAAAAAAAAAAAAAAAAAAAAAAAAAAAAAA==",
          "dtype": "f8"
         }
        },
        {
         "line": {
          "color": "gray",
          "width": 3
         },
         "mode": "lines",
         "showlegend": false,
         "type": "scatter3d",
         "x": [
          0.24266451597213745,
          0.24266451597213745
         ],
         "y": [
          0.6191633343696594,
          0.6191633343696594
         ],
         "z": [
          0,
          1
         ]
        },
        {
         "line": {
          "color": "gray",
          "width": 3
         },
         "mode": "lines",
         "showlegend": false,
         "type": "scatter3d",
         "x": [
          0.23956631124019623,
          0.23956631124019623
         ],
         "y": [
          0.3991503119468689,
          0.3991503119468689
         ],
         "z": [
          0,
          1
         ]
        },
        {
         "line": {
          "color": "gray",
          "width": 3
         },
         "mode": "lines",
         "showlegend": false,
         "type": "scatter3d",
         "x": [
          0.008347206749022007,
          0.008347206749022007
         ],
         "y": [
          0.21077337861061096,
          0.21077337861061096
         ],
         "z": [
          0,
          1
         ]
        },
        {
         "line": {
          "color": "gray",
          "width": 3
         },
         "mode": "lines",
         "showlegend": false,
         "type": "scatter3d",
         "x": [
          0.3345041573047638,
          0.3345041573047638
         ],
         "y": [
          0.40359213948249817,
          0.40359213948249817
         ],
         "z": [
          0,
          1
         ]
        },
        {
         "line": {
          "color": "gray",
          "width": 3
         },
         "mode": "lines",
         "showlegend": false,
         "type": "scatter3d",
         "x": [
          0.8062410354614258,
          0.8062410354614258
         ],
         "y": [
          0.825028121471405,
          0.825028121471405
         ],
         "z": [
          0,
          1
         ]
        },
        {
         "line": {
          "color": "gray",
          "width": 3
         },
         "mode": "lines",
         "showlegend": false,
         "type": "scatter3d",
         "x": [
          0.49130117893218994,
          0.49130117893218994
         ],
         "y": [
          0.4477517306804657,
          0.4477517306804657
         ],
         "z": [
          0,
          1
         ]
        },
        {
         "line": {
          "color": "gray",
          "width": 3
         },
         "mode": "lines",
         "showlegend": false,
         "type": "scatter3d",
         "x": [
          0.4524427354335785,
          0.4524427354335785
         ],
         "y": [
          0.536438524723053,
          0.536438524723053
         ],
         "z": [
          0,
          1
         ]
        },
        {
         "line": {
          "color": "gray",
          "width": 3
         },
         "mode": "lines",
         "showlegend": false,
         "type": "scatter3d",
         "x": [
          0.3473176062107086,
          0.3473176062107086
         ],
         "y": [
          0.6439040303230286,
          0.6439040303230286
         ],
         "z": [
          0,
          1
         ]
        },
        {
         "line": {
          "color": "gray",
          "width": 3
         },
         "mode": "lines",
         "showlegend": false,
         "type": "scatter3d",
         "x": [
          0.3060765266418457,
          0.3060765266418457
         ],
         "y": [
          0.5890786051750183,
          0.5890786051750183
         ],
         "z": [
          0,
          1
         ]
        },
        {
         "line": {
          "color": "gray",
          "width": 3
         },
         "mode": "lines",
         "showlegend": false,
         "type": "scatter3d",
         "x": [
          0.4837345778942108,
          0.4837345778942108
         ],
         "y": [
          0.3896888792514801,
          0.3896888792514801
         ],
         "z": [
          0,
          1
         ]
        },
        {
         "line": {
          "color": "gray",
          "width": 3
         },
         "mode": "lines",
         "showlegend": false,
         "type": "scatter3d",
         "x": [
          0.3789103627204895,
          0.3789103627204895
         ],
         "y": [
          0.6493977308273315,
          0.6493977308273315
         ],
         "z": [
          0,
          1
         ]
        },
        {
         "line": {
          "color": "gray",
          "width": 3
         },
         "mode": "lines",
         "showlegend": false,
         "type": "scatter3d",
         "x": [
          0.8925890326499939,
          0.8925890326499939
         ],
         "y": [
          0.8218963146209717,
          0.8218963146209717
         ],
         "z": [
          0,
          1
         ]
        },
        {
         "line": {
          "color": "gray",
          "width": 3
         },
         "mode": "lines",
         "showlegend": false,
         "type": "scatter3d",
         "x": [
          0.3210633099079132,
          0.3210633099079132
         ],
         "y": [
          0.518166184425354,
          0.518166184425354
         ],
         "z": [
          0,
          1
         ]
        },
        {
         "line": {
          "color": "gray",
          "width": 3
         },
         "mode": "lines",
         "showlegend": false,
         "type": "scatter3d",
         "x": [
          0.35886913537979126,
          0.35886913537979126
         ],
         "y": [
          0.3688816726207733,
          0.3688816726207733
         ],
         "z": [
          0,
          1
         ]
        },
        {
         "line": {
          "color": "gray",
          "width": 3
         },
         "mode": "lines",
         "showlegend": false,
         "type": "scatter3d",
         "x": [
          0.33800044655799866,
          0.33800044655799866
         ],
         "y": [
          0.6298447251319885,
          0.6298447251319885
         ],
         "z": [
          0,
          1
         ]
        },
        {
         "line": {
          "color": "gray",
          "width": 3
         },
         "mode": "lines",
         "showlegend": false,
         "type": "scatter3d",
         "x": [
          0.44801828265190125,
          0.44801828265190125
         ],
         "y": [
          0.5723586678504944,
          0.5723586678504944
         ],
         "z": [
          0,
          1
         ]
        },
        {
         "line": {
          "color": "gray",
          "width": 3
         },
         "mode": "lines",
         "showlegend": false,
         "type": "scatter3d",
         "x": [
          0.19790779054164886,
          0.19790779054164886
         ],
         "y": [
          0.7493107318878174,
          0.7493107318878174
         ],
         "z": [
          0,
          1
         ]
        },
        {
         "line": {
          "color": "gray",
          "width": 3
         },
         "mode": "lines",
         "showlegend": false,
         "type": "scatter3d",
         "x": [
          0.1741473525762558,
          0.1741473525762558
         ],
         "y": [
          0.658871591091156,
          0.658871591091156
         ],
         "z": [
          0,
          1
         ]
        },
        {
         "line": {
          "color": "gray",
          "width": 3
         },
         "mode": "lines",
         "showlegend": false,
         "type": "scatter3d",
         "x": [
          0.44386014342308044,
          0.44386014342308044
         ],
         "y": [
          0.5322792530059814,
          0.5322792530059814
         ],
         "z": [
          0,
          1
         ]
        },
        {
         "line": {
          "color": "gray",
          "width": 3
         },
         "mode": "lines",
         "showlegend": false,
         "type": "scatter3d",
         "x": [
          0.3108833134174347,
          0.3108833134174347
         ],
         "y": [
          0.671506941318512,
          0.671506941318512
         ],
         "z": [
          0,
          1
         ]
        },
        {
         "line": {
          "color": "gray",
          "width": 3
         },
         "mode": "lines",
         "showlegend": false,
         "type": "scatter3d",
         "x": [
          0.39154815673828125,
          0.39154815673828125
         ],
         "y": [
          0.38817882537841797,
          0.38817882537841797
         ],
         "z": [
          0,
          1
         ]
        },
        {
         "line": {
          "color": "gray",
          "width": 3
         },
         "mode": "lines",
         "showlegend": false,
         "type": "scatter3d",
         "x": [
          0.11211371421813965,
          0.11211371421813965
         ],
         "y": [
          0.5686339139938354,
          0.5686339139938354
         ],
         "z": [
          0,
          1
         ]
        },
        {
         "line": {
          "color": "gray",
          "width": 3
         },
         "mode": "lines",
         "showlegend": false,
         "type": "scatter3d",
         "x": [
          0.20925727486610413,
          0.20925727486610413
         ],
         "y": [
          0.6895418167114258,
          0.6895418167114258
         ],
         "z": [
          0,
          1
         ]
        },
        {
         "line": {
          "color": "gray",
          "width": 3
         },
         "mode": "lines",
         "showlegend": false,
         "type": "scatter3d",
         "x": [
          0.4937381148338318,
          0.4937381148338318
         ],
         "y": [
          0.47981926798820496,
          0.47981926798820496
         ],
         "z": [
          0,
          1
         ]
        },
        {
         "line": {
          "color": "gray",
          "width": 3
         },
         "mode": "lines",
         "showlegend": false,
         "type": "scatter3d",
         "x": [
          0.5117584466934204,
          0.5117584466934204
         ],
         "y": [
          0.6010976433753967,
          0.6010976433753967
         ],
         "z": [
          0,
          1
         ]
        },
        {
         "line": {
          "color": "gray",
          "width": 3
         },
         "mode": "lines",
         "showlegend": false,
         "type": "scatter3d",
         "x": [
          0.614875078201294,
          0.614875078201294
         ],
         "y": [
          0.1801457405090332,
          0.1801457405090332
         ],
         "z": [
          0,
          1
         ]
        },
        {
         "line": {
          "color": "gray",
          "width": 3
         },
         "mode": "lines",
         "showlegend": false,
         "type": "scatter3d",
         "x": [
          0.540543794631958,
          0.540543794631958
         ],
         "y": [
          0.5367834568023682,
          0.5367834568023682
         ],
         "z": [
          0,
          1
         ]
        },
        {
         "line": {
          "color": "gray",
          "width": 3
         },
         "mode": "lines",
         "showlegend": false,
         "type": "scatter3d",
         "x": [
          0.28004181385040283,
          0.28004181385040283
         ],
         "y": [
          0.618686318397522,
          0.618686318397522
         ],
         "z": [
          0,
          1
         ]
        },
        {
         "line": {
          "color": "gray",
          "width": 3
         },
         "mode": "lines",
         "showlegend": false,
         "type": "scatter3d",
         "x": [
          0.5386524796485901,
          0.5386524796485901
         ],
         "y": [
          0.32414042949676514,
          0.32414042949676514
         ],
         "z": [
          0,
          1
         ]
        },
        {
         "line": {
          "color": "gray",
          "width": 3
         },
         "mode": "lines",
         "showlegend": false,
         "type": "scatter3d",
         "x": [
          -0.013055973686277866,
          -0.013055973686277866
         ],
         "y": [
          0.20362871885299683,
          0.20362871885299683
         ],
         "z": [
          0,
          1
         ]
        },
        {
         "line": {
          "color": "gray",
          "width": 3
         },
         "mode": "lines",
         "showlegend": false,
         "type": "scatter3d",
         "x": [
          0.2473641037940979,
          0.2473641037940979
         ],
         "y": [
          0.7127071022987366,
          0.7127071022987366
         ],
         "z": [
          0,
          1
         ]
        },
        {
         "line": {
          "color": "gray",
          "width": 3
         },
         "mode": "lines",
         "showlegend": false,
         "type": "scatter3d",
         "x": [
          0.28567495942115784,
          0.28567495942115784
         ],
         "y": [
          0.401798278093338,
          0.401798278093338
         ],
         "z": [
          0,
          1
         ]
        },
        {
         "line": {
          "color": "gray",
          "width": 3
         },
         "mode": "lines",
         "showlegend": false,
         "type": "scatter3d",
         "x": [
          0.5306934118270874,
          0.5306934118270874
         ],
         "y": [
          0.33925798535346985,
          0.33925798535346985
         ],
         "z": [
          0,
          1
         ]
        },
        {
         "line": {
          "color": "gray",
          "width": 3
         },
         "mode": "lines",
         "showlegend": false,
         "type": "scatter3d",
         "x": [
          0.47154122591018677,
          0.47154122591018677
         ],
         "y": [
          0.49143707752227783,
          0.49143707752227783
         ],
         "z": [
          0,
          1
         ]
        },
        {
         "line": {
          "color": "gray",
          "width": 3
         },
         "mode": "lines",
         "showlegend": false,
         "type": "scatter3d",
         "x": [
          0.5231683850288391,
          0.5231683850288391
         ],
         "y": [
          0.35476619005203247,
          0.35476619005203247
         ],
         "z": [
          0,
          1
         ]
        },
        {
         "line": {
          "color": "gray",
          "width": 3
         },
         "mode": "lines",
         "showlegend": false,
         "type": "scatter3d",
         "x": [
          0.440557062625885,
          0.440557062625885
         ],
         "y": [
          0.605553925037384,
          0.605553925037384
         ],
         "z": [
          0,
          1
         ]
        },
        {
         "line": {
          "color": "gray",
          "width": 3
         },
         "mode": "lines",
         "showlegend": false,
         "type": "scatter3d",
         "x": [
          0.2627244293689728,
          0.2627244293689728
         ],
         "y": [
          0.40149223804473877,
          0.40149223804473877
         ],
         "z": [
          0,
          1
         ]
        },
        {
         "line": {
          "color": "gray",
          "width": 3
         },
         "mode": "lines",
         "showlegend": false,
         "type": "scatter3d",
         "x": [
          0.3776109516620636,
          0.3776109516620636
         ],
         "y": [
          0.6225904226303101,
          0.6225904226303101
         ],
         "z": [
          0,
          1
         ]
        },
        {
         "line": {
          "color": "gray",
          "width": 3
         },
         "mode": "lines",
         "showlegend": false,
         "type": "scatter3d",
         "x": [
          0.21450932323932648,
          0.21450932323932648
         ],
         "y": [
          0.5253105163574219,
          0.5253105163574219
         ],
         "z": [
          0,
          1
         ]
        },
        {
         "line": {
          "color": "gray",
          "width": 3
         },
         "mode": "lines",
         "showlegend": false,
         "type": "scatter3d",
         "x": [
          0.09281421452760696,
          0.09281421452760696
         ],
         "y": [
          0.27588140964508057,
          0.27588140964508057
         ],
         "z": [
          0,
          1
         ]
        },
        {
         "line": {
          "color": "gray",
          "width": 3
         },
         "mode": "lines",
         "showlegend": false,
         "type": "scatter3d",
         "x": [
          0.44626638293266296,
          0.44626638293266296
         ],
         "y": [
          0.5890516042709351,
          0.5890516042709351
         ],
         "z": [
          0,
          1
         ]
        },
        {
         "line": {
          "color": "gray",
          "width": 3
         },
         "mode": "lines",
         "showlegend": false,
         "type": "scatter3d",
         "x": [
          0.6634008884429932,
          0.6634008884429932
         ],
         "y": [
          0.0971047654747963,
          0.0971047654747963
         ],
         "z": [
          0,
          1
         ]
        },
        {
         "line": {
          "color": "gray",
          "width": 3
         },
         "mode": "lines",
         "showlegend": false,
         "type": "scatter3d",
         "x": [
          0.20106320083141327,
          0.20106320083141327
         ],
         "y": [
          0.48273971676826477,
          0.48273971676826477
         ],
         "z": [
          0,
          1
         ]
        },
        {
         "line": {
          "color": "gray",
          "width": 3
         },
         "mode": "lines",
         "showlegend": false,
         "type": "scatter3d",
         "x": [
          0.43916550278663635,
          0.43916550278663635
         ],
         "y": [
          0.7616369128227234,
          0.7616369128227234
         ],
         "z": [
          0,
          1
         ]
        },
        {
         "line": {
          "color": "gray",
          "width": 3
         },
         "mode": "lines",
         "showlegend": false,
         "type": "scatter3d",
         "x": [
          0.28616803884506226,
          0.28616803884506226
         ],
         "y": [
          0.6286877393722534,
          0.6286877393722534
         ],
         "z": [
          0,
          1
         ]
        },
        {
         "line": {
          "color": "gray",
          "width": 3
         },
         "mode": "lines",
         "showlegend": false,
         "type": "scatter3d",
         "x": [
          0.22314292192459106,
          0.22314292192459106
         ],
         "y": [
          0.6977157592773438,
          0.6977157592773438
         ],
         "z": [
          0,
          1
         ]
        },
        {
         "line": {
          "color": "gray",
          "width": 3
         },
         "mode": "lines",
         "showlegend": false,
         "type": "scatter3d",
         "x": [
          0.43291279673576355,
          0.43291279673576355
         ],
         "y": [
          0.3961242437362671,
          0.3961242437362671
         ],
         "z": [
          0,
          1
         ]
        },
        {
         "line": {
          "color": "gray",
          "width": 3
         },
         "mode": "lines",
         "showlegend": false,
         "type": "scatter3d",
         "x": [
          0.5266737937927246,
          0.5266737937927246
         ],
         "y": [
          0.5322256684303284,
          0.5322256684303284
         ],
         "z": [
          0,
          1
         ]
        },
        {
         "line": {
          "color": "gray",
          "width": 3
         },
         "mode": "lines",
         "showlegend": false,
         "type": "scatter3d",
         "x": [
          0.4297981262207031,
          0.4297981262207031
         ],
         "y": [
          0.7512962222099304,
          0.7512962222099304
         ],
         "z": [
          0,
          1
         ]
        },
        {
         "line": {
          "color": "gray",
          "width": 3
         },
         "mode": "lines",
         "showlegend": false,
         "type": "scatter3d",
         "x": [
          0.035094644874334335,
          0.035094644874334335
         ],
         "y": [
          0.14853821694850922,
          0.14853821694850922
         ],
         "z": [
          0,
          1
         ]
        },
        {
         "line": {
          "color": "gray",
          "width": 3
         },
         "mode": "lines",
         "showlegend": false,
         "type": "scatter3d",
         "x": [
          0.5113763809204102,
          0.5113763809204102
         ],
         "y": [
          0.6254843473434448,
          0.6254843473434448
         ],
         "z": [
          0,
          1
         ]
        },
        {
         "line": {
          "color": "gray",
          "width": 3
         },
         "mode": "lines",
         "showlegend": false,
         "type": "scatter3d",
         "x": [
          0.5879688858985901,
          0.5879688858985901
         ],
         "y": [
          0.2293921858072281,
          0.2293921858072281
         ],
         "z": [
          0,
          1
         ]
        },
        {
         "line": {
          "color": "gray",
          "width": 3
         },
         "mode": "lines",
         "showlegend": false,
         "type": "scatter3d",
         "x": [
          0.22348681092262268,
          0.22348681092262268
         ],
         "y": [
          0.5537065267562866,
          0.5537065267562866
         ],
         "z": [
          0,
          1
         ]
        },
        {
         "line": {
          "color": "gray",
          "width": 3
         },
         "mode": "lines",
         "showlegend": false,
         "type": "scatter3d",
         "x": [
          0.1741212010383606,
          0.1741212010383606
         ],
         "y": [
          0.6778321266174316,
          0.6778321266174316
         ],
         "z": [
          0,
          1
         ]
        },
        {
         "line": {
          "color": "gray",
          "width": 3
         },
         "mode": "lines",
         "showlegend": false,
         "type": "scatter3d",
         "x": [
          0.193545401096344,
          0.193545401096344
         ],
         "y": [
          0.59552401304245,
          0.59552401304245
         ],
         "z": [
          0,
          1
         ]
        },
        {
         "line": {
          "color": "gray",
          "width": 3
         },
         "mode": "lines",
         "showlegend": false,
         "type": "scatter3d",
         "x": [
          0.19375401735305786,
          0.19375401735305786
         ],
         "y": [
          0.39615240693092346,
          0.39615240693092346
         ],
         "z": [
          0,
          1
         ]
        },
        {
         "line": {
          "color": "gray",
          "width": 3
         },
         "mode": "lines",
         "showlegend": false,
         "type": "scatter3d",
         "x": [
          0.6533318758010864,
          0.6533318758010864
         ],
         "y": [
          0.11408976465463638,
          0.11408976465463638
         ],
         "z": [
          0,
          1
         ]
        },
        {
         "line": {
          "color": "gray",
          "width": 3
         },
         "mode": "lines",
         "showlegend": false,
         "type": "scatter3d",
         "x": [
          0.24776636064052582,
          0.24776636064052582
         ],
         "y": [
          0.6877219676971436,
          0.6877219676971436
         ],
         "z": [
          0,
          1
         ]
        },
        {
         "line": {
          "color": "gray",
          "width": 3
         },
         "mode": "lines",
         "showlegend": false,
         "type": "scatter3d",
         "x": [
          0.4953029453754425,
          0.4953029453754425
         ],
         "y": [
          0.43242231011390686,
          0.43242231011390686
         ],
         "z": [
          0,
          1
         ]
        },
        {
         "line": {
          "color": "gray",
          "width": 3
         },
         "mode": "lines",
         "showlegend": false,
         "type": "scatter3d",
         "x": [
          0.5035300254821777,
          0.5035300254821777
         ],
         "y": [
          0.4008358120918274,
          0.4008358120918274
         ],
         "z": [
          0,
          1
         ]
        },
        {
         "line": {
          "color": "gray",
          "width": 3
         },
         "mode": "lines",
         "showlegend": false,
         "type": "scatter3d",
         "x": [
          0.3503713309764862,
          0.3503713309764862
         ],
         "y": [
          0.48144498467445374,
          0.48144498467445374
         ],
         "z": [
          0,
          1
         ]
        },
        {
         "line": {
          "color": "gray",
          "width": 3
         },
         "mode": "lines",
         "showlegend": false,
         "type": "scatter3d",
         "x": [
          0.5086018443107605,
          0.5086018443107605
         ],
         "y": [
          0.38498255610466003,
          0.38498255610466003
         ],
         "z": [
          0,
          1
         ]
        },
        {
         "line": {
          "color": "gray",
          "width": 3
         },
         "mode": "lines",
         "showlegend": false,
         "type": "scatter3d",
         "x": [
          0.21988025307655334,
          0.21988025307655334
         ],
         "y": [
          0.6195430755615234,
          0.6195430755615234
         ],
         "z": [
          0,
          1
         ]
        },
        {
         "line": {
          "color": "gray",
          "width": 3
         },
         "mode": "lines",
         "showlegend": false,
         "type": "scatter3d",
         "x": [
          0.41104021668434143,
          0.41104021668434143
         ],
         "y": [
          0.5700636506080627,
          0.5700636506080627
         ],
         "z": [
          0,
          1
         ]
        },
        {
         "line": {
          "color": "gray",
          "width": 3
         },
         "mode": "lines",
         "showlegend": false,
         "type": "scatter3d",
         "x": [
          0.45467814803123474,
          0.45467814803123474
         ],
         "y": [
          0.7542447447776794,
          0.7542447447776794
         ],
         "z": [
          0,
          1
         ]
        },
        {
         "line": {
          "color": "gray",
          "width": 3
         },
         "mode": "lines",
         "showlegend": false,
         "type": "scatter3d",
         "x": [
          0.1759939044713974,
          0.1759939044713974
         ],
         "y": [
          0.4104183614253998,
          0.4104183614253998
         ],
         "z": [
          0,
          1
         ]
        },
        {
         "line": {
          "color": "gray",
          "width": 3
         },
         "mode": "lines",
         "showlegend": false,
         "type": "scatter3d",
         "x": [
          0.18673133850097656,
          0.18673133850097656
         ],
         "y": [
          0.6141798496246338,
          0.6141798496246338
         ],
         "z": [
          0,
          1
         ]
        },
        {
         "line": {
          "color": "gray",
          "width": 3
         },
         "mode": "lines",
         "showlegend": false,
         "type": "scatter3d",
         "x": [
          0.15313906967639923,
          0.15313906967639923
         ],
         "y": [
          0.3697998523712158,
          0.3697998523712158
         ],
         "z": [
          0,
          1
         ]
        },
        {
         "line": {
          "color": "gray",
          "width": 3
         },
         "mode": "lines",
         "showlegend": false,
         "type": "scatter3d",
         "x": [
          0.24264512956142426,
          0.24264512956142426
         ],
         "y": [
          0.6325603723526001,
          0.6325603723526001
         ],
         "z": [
          0,
          1
         ]
        },
        {
         "line": {
          "color": "gray",
          "width": 3
         },
         "mode": "lines",
         "showlegend": false,
         "type": "scatter3d",
         "x": [
          0.6302017569541931,
          0.6302017569541931
         ],
         "y": [
          0.8293291926383972,
          0.8293291926383972
         ],
         "z": [
          0,
          1
         ]
        },
        {
         "line": {
          "color": "gray",
          "width": 3
         },
         "mode": "lines",
         "showlegend": false,
         "type": "scatter3d",
         "x": [
          0.5001276731491089,
          0.5001276731491089
         ],
         "y": [
          0.49586254358291626,
          0.49586254358291626
         ],
         "z": [
          0,
          1
         ]
        },
        {
         "line": {
          "color": "gray",
          "width": 3
         },
         "mode": "lines",
         "showlegend": false,
         "type": "scatter3d",
         "x": [
          0.301278293132782,
          0.301278293132782
         ],
         "y": [
          0.7336165308952332,
          0.7336165308952332
         ],
         "z": [
          0,
          1
         ]
        },
        {
         "line": {
          "color": "gray",
          "width": 3
         },
         "mode": "lines",
         "showlegend": false,
         "type": "scatter3d",
         "x": [
          0.3651958405971527,
          0.3651958405971527
         ],
         "y": [
          0.6149237155914307,
          0.6149237155914307
         ],
         "z": [
          0,
          1
         ]
        },
        {
         "line": {
          "color": "gray",
          "width": 3
         },
         "mode": "lines",
         "showlegend": false,
         "type": "scatter3d",
         "x": [
          0.4662155508995056,
          0.4662155508995056
         ],
         "y": [
          0.7356215715408325,
          0.7356215715408325
         ],
         "z": [
          0,
          1
         ]
        },
        {
         "line": {
          "color": "gray",
          "width": 3
         },
         "mode": "lines",
         "showlegend": false,
         "type": "scatter3d",
         "x": [
          0.6883853673934937,
          0.6883853673934937
         ],
         "y": [
          0.07660715281963348,
          0.07660715281963348
         ],
         "z": [
          0,
          1
         ]
        },
        {
         "line": {
          "color": "gray",
          "width": 3
         },
         "mode": "lines",
         "showlegend": false,
         "type": "scatter3d",
         "x": [
          0.06435347348451614,
          0.06435347348451614
         ],
         "y": [
          0.23517894744873047,
          0.23517894744873047
         ],
         "z": [
          0,
          1
         ]
        },
        {
         "line": {
          "color": "gray",
          "width": 3
         },
         "mode": "lines",
         "showlegend": false,
         "type": "scatter3d",
         "x": [
          0.22778300940990448,
          0.22778300940990448
         ],
         "y": [
          0.5666562914848328,
          0.5666562914848328
         ],
         "z": [
          0,
          1
         ]
        },
        {
         "line": {
          "color": "gray",
          "width": 3
         },
         "mode": "lines",
         "showlegend": false,
         "type": "scatter3d",
         "x": [
          0.1618300974369049,
          0.1618300974369049
         ],
         "y": [
          0.382902055978775,
          0.382902055978775
         ],
         "z": [
          0,
          1
         ]
        },
        {
         "line": {
          "color": "gray",
          "width": 3
         },
         "mode": "lines",
         "showlegend": false,
         "type": "scatter3d",
         "x": [
          0.38090139627456665,
          0.38090139627456665
         ],
         "y": [
          0.6974471211433411,
          0.6974471211433411
         ],
         "z": [
          0,
          1
         ]
        },
        {
         "line": {
          "color": "gray",
          "width": 3
         },
         "mode": "lines",
         "showlegend": false,
         "type": "scatter3d",
         "x": [
          0.35355693101882935,
          0.35355693101882935
         ],
         "y": [
          0.4718706011772156,
          0.4718706011772156
         ],
         "z": [
          0,
          1
         ]
        },
        {
         "line": {
          "color": "gray",
          "width": 3
         },
         "mode": "lines",
         "showlegend": false,
         "type": "scatter3d",
         "x": [
          0.6240336298942566,
          0.6240336298942566
         ],
         "y": [
          0.16372476518154144,
          0.16372476518154144
         ],
         "z": [
          0,
          1
         ]
        },
        {
         "line": {
          "color": "gray",
          "width": 3
         },
         "mode": "lines",
         "showlegend": false,
         "type": "scatter3d",
         "x": [
          0.10146628320217133,
          0.10146628320217133
         ],
         "y": [
          0.28966885805130005,
          0.28966885805130005
         ],
         "z": [
          0,
          1
         ]
        },
        {
         "line": {
          "color": "gray",
          "width": 3
         },
         "mode": "lines",
         "showlegend": false,
         "type": "scatter3d",
         "x": [
          0.19596989452838898,
          0.19596989452838898
         ],
         "y": [
          0.5645378232002258,
          0.5645378232002258
         ],
         "z": [
          0,
          1
         ]
        },
        {
         "line": {
          "color": "gray",
          "width": 3
         },
         "mode": "lines",
         "showlegend": false,
         "type": "scatter3d",
         "x": [
          0.3772139549255371,
          0.3772139549255371
         ],
         "y": [
          0.6050861477851868,
          0.6050861477851868
         ],
         "z": [
          0,
          1
         ]
        },
        {
         "line": {
          "color": "gray",
          "width": 3
         },
         "mode": "lines",
         "showlegend": false,
         "type": "scatter3d",
         "x": [
          0.18697857856750488,
          0.18697857856750488
         ],
         "y": [
          0.4392381012439728,
          0.4392381012439728
         ],
         "z": [
          0,
          1
         ]
        },
        {
         "line": {
          "color": "gray",
          "width": 3
         },
         "mode": "lines",
         "showlegend": false,
         "type": "scatter3d",
         "x": [
          0.17773443460464478,
          0.17773443460464478
         ],
         "y": [
          0.5243180394172668,
          0.5243180394172668
         ],
         "z": [
          0,
          1
         ]
        },
        {
         "line": {
          "color": "gray",
          "width": 3
         },
         "mode": "lines",
         "showlegend": false,
         "type": "scatter3d",
         "x": [
          0.06298614293336868,
          0.06298614293336868
         ],
         "y": [
          0.19602376222610474,
          0.19602376222610474
         ],
         "z": [
          0,
          1
         ]
        },
        {
         "line": {
          "color": "gray",
          "width": 3
         },
         "mode": "lines",
         "showlegend": false,
         "type": "scatter3d",
         "x": [
          0.17056812345981598,
          0.17056812345981598
         ],
         "y": [
          0.39542824029922485,
          0.39542824029922485
         ],
         "z": [
          0,
          1
         ]
        },
        {
         "line": {
          "color": "gray",
          "width": 3
         },
         "mode": "lines",
         "showlegend": false,
         "type": "scatter3d",
         "x": [
          0.4547632336616516,
          0.4547632336616516
         ],
         "y": [
          0.5201302766799927,
          0.5201302766799927
         ],
         "z": [
          0,
          1
         ]
        },
        {
         "line": {
          "color": "gray",
          "width": 3
         },
         "mode": "lines",
         "showlegend": false,
         "type": "scatter3d",
         "x": [
          0.11619341373443604,
          0.11619341373443604
         ],
         "y": [
          0.528858482837677,
          0.528858482837677
         ],
         "z": [
          0,
          1
         ]
        },
        {
         "line": {
          "color": "gray",
          "width": 3
         },
         "mode": "lines",
         "showlegend": false,
         "type": "scatter3d",
         "x": [
          0.4564954936504364,
          0.4564954936504364
         ],
         "y": [
          0.832534909248352,
          0.832534909248352
         ],
         "z": [
          0,
          1
         ]
        },
        {
         "line": {
          "color": "gray",
          "width": 3
         },
         "mode": "lines",
         "showlegend": false,
         "type": "scatter3d",
         "x": [
          0.16311049461364746,
          0.16311049461364746
         ],
         "y": [
          0.49344560503959656,
          0.49344560503959656
         ],
         "z": [
          0,
          1
         ]
        },
        {
         "line": {
          "color": "gray",
          "width": 3
         },
         "mode": "lines",
         "showlegend": false,
         "type": "scatter3d",
         "x": [
          0.24716630578041077,
          0.24716630578041077
         ],
         "y": [
          0.6744290590286255,
          0.6744290590286255
         ],
         "z": [
          0,
          1
         ]
        },
        {
         "line": {
          "color": "gray",
          "width": 3
         },
         "mode": "lines",
         "showlegend": false,
         "type": "scatter3d",
         "x": [
          0.19155514240264893,
          0.19155514240264893
         ],
         "y": [
          0.4539368152618408,
          0.4539368152618408
         ],
         "z": [
          0,
          1
         ]
        },
        {
         "line": {
          "color": "gray",
          "width": 3
         },
         "mode": "lines",
         "showlegend": false,
         "type": "scatter3d",
         "x": [
          0.611743688583374,
          0.611743688583374
         ],
         "y": [
          0.47172170877456665,
          0.47172170877456665
         ],
         "z": [
          0,
          1
         ]
        },
        {
         "line": {
          "color": "gray",
          "width": 3
         },
         "mode": "lines",
         "showlegend": false,
         "type": "scatter3d",
         "x": [
          0.11054809391498566,
          0.11054809391498566
         ],
         "y": [
          0.3034670352935791,
          0.3034670352935791
         ],
         "z": [
          0,
          1
         ]
        },
        {
         "line": {
          "color": "gray",
          "width": 3
         },
         "mode": "lines",
         "showlegend": false,
         "type": "scatter3d",
         "x": [
          0.1195051446557045,
          0.1195051446557045
         ],
         "y": [
          0.3169829845428467,
          0.3169829845428467
         ],
         "z": [
          0,
          1
         ]
        },
        {
         "line": {
          "color": "gray",
          "width": 3
         },
         "mode": "lines",
         "showlegend": false,
         "type": "scatter3d",
         "x": [
          0.31473031640052795,
          0.31473031640052795
         ],
         "y": [
          0.49460333585739136,
          0.49460333585739136
         ],
         "z": [
          0,
          1
         ]
        },
        {
         "line": {
          "color": "gray",
          "width": 3
         },
         "mode": "lines",
         "showlegend": false,
         "type": "scatter3d",
         "x": [
          0.36423003673553467,
          0.36423003673553467
         ],
         "y": [
          0.6721561551094055,
          0.6721561551094055
         ],
         "z": [
          0,
          1
         ]
        },
        {
         "line": {
          "color": "gray",
          "width": 3
         },
         "mode": "lines",
         "showlegend": false,
         "type": "scatter3d",
         "x": [
          0.5543856024742126,
          0.5543856024742126
         ],
         "y": [
          0.29351675510406494,
          0.29351675510406494
         ],
         "z": [
          0,
          1
         ]
        },
        {
         "line": {
          "color": "gray",
          "width": 3
         },
         "mode": "lines",
         "showlegend": false,
         "type": "scatter3d",
         "x": [
          0.4638829827308655,
          0.4638829827308655
         ],
         "y": [
          0.7025842666625977,
          0.7025842666625977
         ],
         "z": [
          0,
          1
         ]
        },
        {
         "line": {
          "color": "gray",
          "width": 3
         },
         "mode": "lines",
         "showlegend": false,
         "type": "scatter3d",
         "x": [
          0.3800738453865051,
          0.3800738453865051
         ],
         "y": [
          0.6672747731208801,
          0.6672747731208801
         ],
         "z": [
          0,
          1
         ]
        },
        {
         "line": {
          "color": "gray",
          "width": 3
         },
         "mode": "lines",
         "showlegend": false,
         "type": "scatter3d",
         "x": [
          0.21390751004219055,
          0.21390751004219055
         ],
         "y": [
          0.5689476132392883,
          0.5689476132392883
         ],
         "z": [
          0,
          1
         ]
        },
        {
         "line": {
          "color": "gray",
          "width": 3
         },
         "mode": "lines",
         "showlegend": false,
         "type": "scatter3d",
         "x": [
          0.5970664024353027,
          0.5970664024353027
         ],
         "y": [
          0.212938129901886,
          0.212938129901886
         ],
         "z": [
          0,
          1
         ]
        },
        {
         "line": {
          "color": "gray",
          "width": 3
         },
         "mode": "lines",
         "showlegend": false,
         "type": "scatter3d",
         "x": [
          0.2405933439731598,
          0.2405933439731598
         ],
         "y": [
          0.6072841286659241,
          0.6072841286659241
         ],
         "z": [
          0,
          1
         ]
        },
        {
         "line": {
          "color": "gray",
          "width": 3
         },
         "mode": "lines",
         "showlegend": false,
         "type": "scatter3d",
         "x": [
          0.586846649646759,
          0.586846649646759
         ],
         "y": [
          0.5687240958213806,
          0.5687240958213806
         ],
         "z": [
          0,
          1
         ]
        },
        {
         "line": {
          "color": "gray",
          "width": 3
         },
         "mode": "lines",
         "showlegend": false,
         "type": "scatter3d",
         "x": [
          0.31593555212020874,
          0.31593555212020874
         ],
         "y": [
          0.5404460430145264,
          0.5404460430145264
         ],
         "z": [
          0,
          1
         ]
        },
        {
         "line": {
          "color": "gray",
          "width": 3
         },
         "mode": "lines",
         "showlegend": false,
         "type": "scatter3d",
         "x": [
          0.506910502910614,
          0.506910502910614
         ],
         "y": [
          0.8199955821037292,
          0.8199955821037292
         ],
         "z": [
          0,
          1
         ]
        },
        {
         "line": {
          "color": "gray",
          "width": 3
         },
         "mode": "lines",
         "showlegend": false,
         "type": "scatter3d",
         "x": [
          0.7633265852928162,
          0.7633265852928162
         ],
         "y": [
          0.8263950943946838,
          0.8263950943946838
         ],
         "z": [
          0,
          1
         ]
        },
        {
         "line": {
          "color": "gray",
          "width": 3
         },
         "mode": "lines",
         "showlegend": false,
         "type": "scatter3d",
         "x": [
          0.5705463886260986,
          0.5705463886260986
         ],
         "y": [
          0.2617059350013733,
          0.2617059350013733
         ],
         "z": [
          0,
          1
         ]
        },
        {
         "line": {
          "color": "gray",
          "width": 3
         },
         "mode": "lines",
         "showlegend": false,
         "type": "scatter3d",
         "x": [
          0.6436108350753784,
          0.6436108350753784
         ],
         "y": [
          0.13094870746135712,
          0.13094870746135712
         ],
         "z": [
          0,
          1
         ]
        },
        {
         "line": {
          "color": "gray",
          "width": 3
         },
         "mode": "lines",
         "showlegend": false,
         "type": "scatter3d",
         "x": [
          0.04973974823951721,
          0.04973974823951721
         ],
         "y": [
          0.7627270817756653,
          0.7627270817756653
         ],
         "z": [
          0,
          1
         ]
        },
        {
         "line": {
          "color": "gray",
          "width": 3
         },
         "mode": "lines",
         "showlegend": false,
         "type": "scatter3d",
         "x": [
          0.1450241655111313,
          0.1450241655111313
         ],
         "y": [
          0.5872294306755066,
          0.5872294306755066
         ],
         "z": [
          0,
          1
         ]
        },
        {
         "line": {
          "color": "gray",
          "width": 3
         },
         "mode": "lines",
         "showlegend": false,
         "type": "scatter3d",
         "x": [
          0.47955819964408875,
          0.47955819964408875
         ],
         "y": [
          0.477247029542923,
          0.477247029542923
         ],
         "z": [
          0,
          1
         ]
        },
        {
         "line": {
          "color": "gray",
          "width": 3
         },
         "mode": "lines",
         "showlegend": false,
         "type": "scatter3d",
         "x": [
          0.34624502062797546,
          0.34624502062797546
         ],
         "y": [
          0.74993896484375,
          0.74993896484375
         ],
         "z": [
          0,
          1
         ]
        },
        {
         "line": {
          "color": "gray",
          "width": 3
         },
         "mode": "lines",
         "showlegend": false,
         "type": "scatter3d",
         "x": [
          0.1688501089811325,
          0.1688501089811325
         ],
         "y": [
          0.5715717673301697,
          0.5715717673301697
         ],
         "z": [
          0,
          1
         ]
        },
        {
         "line": {
          "color": "gray",
          "width": 3
         },
         "mode": "lines",
         "showlegend": false,
         "type": "scatter3d",
         "x": [
          0.5124799609184265,
          0.5124799609184265
         ],
         "y": [
          0.551238477230072,
          0.551238477230072
         ],
         "z": [
          0,
          1
         ]
        },
        {
         "line": {
          "color": "gray",
          "width": 3
         },
         "mode": "lines",
         "showlegend": false,
         "type": "scatter3d",
         "x": [
          0.5540830492973328,
          0.5540830492973328
         ],
         "y": [
          0.5413450002670288,
          0.5413450002670288
         ],
         "z": [
          0,
          1
         ]
        },
        {
         "line": {
          "color": "gray",
          "width": 3
         },
         "mode": "lines",
         "showlegend": false,
         "type": "scatter3d",
         "x": [
          0.2465147227048874,
          0.2465147227048874
         ],
         "y": [
          0.6597037315368652,
          0.6597037315368652
         ],
         "z": [
          0,
          1
         ]
        },
        {
         "line": {
          "color": "gray",
          "width": 3
         },
         "mode": "lines",
         "showlegend": false,
         "type": "scatter3d",
         "x": [
          0.29826387763023376,
          0.29826387763023376
         ],
         "y": [
          0.7166145443916321,
          0.7166145443916321
         ],
         "z": [
          0,
          1
         ]
        },
        {
         "line": {
          "color": "gray",
          "width": 3
         },
         "mode": "lines",
         "showlegend": false,
         "type": "scatter3d",
         "x": [
          0.45048394799232483,
          0.45048394799232483
         ],
         "y": [
          0.5539308190345764,
          0.5539308190345764
         ],
         "z": [
          0,
          1
         ]
        },
        {
         "line": {
          "color": "gray",
          "width": 3
         },
         "mode": "lines",
         "showlegend": false,
         "type": "scatter3d",
         "x": [
          0.3599720895290375,
          0.3599720895290375
         ],
         "y": [
          0.40273424983024597,
          0.40273424983024597
         ],
         "z": [
          0,
          1
         ]
        },
        {
         "line": {
          "color": "gray",
          "width": 3
         },
         "mode": "lines",
         "showlegend": false,
         "type": "scatter3d",
         "x": [
          0.32370343804359436,
          0.32370343804359436
         ],
         "y": [
          0.6259053349494934,
          0.6259053349494934
         ],
         "z": [
          0,
          1
         ]
        },
        {
         "line": {
          "color": "gray",
          "width": 3
         },
         "mode": "lines",
         "showlegend": false,
         "type": "scatter3d",
         "x": [
          0.19628086686134338,
          0.19628086686134338
         ],
         "y": [
          0.46844181418418884,
          0.46844181418418884
         ],
         "z": [
          0,
          1
         ]
        },
        {
         "line": {
          "color": "gray",
          "width": 3
         },
         "mode": "lines",
         "showlegend": false,
         "type": "scatter3d",
         "x": [
          0.2323317676782608,
          0.2323317676782608
         ],
         "y": [
          0.5802043080329895,
          0.5802043080329895
         ],
         "z": [
          0,
          1
         ]
        },
        {
         "line": {
          "color": "gray",
          "width": 3
         },
         "mode": "lines",
         "showlegend": false,
         "type": "scatter3d",
         "x": [
          0.5061737895011902,
          0.5061737895011902
         ],
         "y": [
          0.5118525624275208,
          0.5118525624275208
         ],
         "z": [
          0,
          1
         ]
        },
        {
         "line": {
          "color": "gray",
          "width": 3
         },
         "mode": "lines",
         "showlegend": false,
         "type": "scatter3d",
         "x": [
          0.15951065719127655,
          0.15951065719127655
         ],
         "y": [
          0.549643874168396,
          0.549643874168396
         ],
         "z": [
          0,
          1
         ]
        },
        {
         "line": {
          "color": "gray",
          "width": 3
         },
         "mode": "lines",
         "showlegend": false,
         "type": "scatter3d",
         "x": [
          0.21893370151519775,
          0.21893370151519775
         ],
         "y": [
          0.5393440127372742,
          0.5393440127372742
         ],
         "z": [
          0,
          1
         ]
        },
        {
         "line": {
          "color": "gray",
          "width": 3
         },
         "mode": "lines",
         "showlegend": false,
         "type": "scatter3d",
         "x": [
          0.2475128471851349,
          0.2475128471851349
         ],
         "y": [
          0.699776828289032,
          0.699776828289032
         ],
         "z": [
          0,
          1
         ]
        },
        {
         "line": {
          "color": "gray",
          "width": 3
         },
         "mode": "lines",
         "showlegend": false,
         "type": "scatter3d",
         "x": [
          0.3717854917049408,
          0.3717854917049408
         ],
         "y": [
          0.6864609122276306,
          0.6864609122276306
         ],
         "z": [
          0,
          1
         ]
        },
        {
         "line": {
          "color": "gray",
          "width": 3
         },
         "mode": "lines",
         "showlegend": false,
         "type": "scatter3d",
         "x": [
          0.3564465343952179,
          0.3564465343952179
         ],
         "y": [
          0.6597726345062256,
          0.6597726345062256
         ],
         "z": [
          0,
          1
         ]
        },
        {
         "line": {
          "color": "gray",
          "width": 3
         },
         "mode": "lines",
         "showlegend": false,
         "type": "scatter3d",
         "x": [
          0.12156158685684204,
          0.12156158685684204
         ],
         "y": [
          0.5541242957115173,
          0.5541242957115173
         ],
         "z": [
          0,
          1
         ]
        },
        {
         "line": {
          "color": "gray",
          "width": 3
         },
         "mode": "lines",
         "showlegend": false,
         "type": "scatter3d",
         "x": [
          0.455481618642807,
          0.455481618642807
         ],
         "y": [
          0.7802591919898987,
          0.7802591919898987
         ],
         "z": [
          0,
          1
         ]
        },
        {
         "line": {
          "color": "gray",
          "width": 3
         },
         "mode": "lines",
         "showlegend": false,
         "type": "scatter3d",
         "x": [
          0.1786545366048813,
          0.1786545366048813
         ],
         "y": [
          0.7062050700187683,
          0.7062050700187683
         ],
         "z": [
          0,
          1
         ]
        },
        {
         "line": {
          "color": "gray",
          "width": 3
         },
         "mode": "lines",
         "showlegend": false,
         "type": "scatter3d",
         "x": [
          0.32155489921569824,
          0.32155489921569824
         ],
         "y": [
          0.33148348331451416,
          0.33148348331451416
         ],
         "z": [
          0,
          1
         ]
        },
        {
         "line": {
          "color": "gray",
          "width": 3
         },
         "mode": "lines",
         "showlegend": false,
         "type": "scatter3d",
         "x": [
          0.33355599641799927,
          0.33355599641799927
         ],
         "y": [
          0.5022693276405334,
          0.5022693276405334
         ],
         "z": [
          0,
          1
         ]
        },
        {
         "line": {
          "color": "gray",
          "width": 3
         },
         "mode": "lines",
         "showlegend": false,
         "type": "scatter3d",
         "x": [
          0.45907557010650635,
          0.45907557010650635
         ],
         "y": [
          0.8085359930992126,
          0.8085359930992126
         ],
         "z": [
          0,
          1
         ]
        },
        {
         "line": {
          "color": "gray",
          "width": 3
         },
         "mode": "lines",
         "showlegend": false,
         "type": "scatter3d",
         "x": [
          0.41968414187431335,
          0.41968414187431335
         ],
         "y": [
          0.7433954477310181,
          0.7433954477310181
         ],
         "z": [
          0,
          1
         ]
        },
        {
         "line": {
          "color": "gray",
          "width": 3
         },
         "mode": "lines",
         "showlegend": false,
         "type": "scatter3d",
         "x": [
          0.06403142213821411,
          0.06403142213821411
         ],
         "y": [
          0.2157103270292282,
          0.2157103270292282
         ],
         "z": [
          0,
          1
         ]
        },
        {
         "line": {
          "color": "gray",
          "width": 3
         },
         "mode": "lines",
         "showlegend": false,
         "type": "scatter3d",
         "x": [
          0.5619810819625854,
          0.5619810819625854
         ],
         "y": [
          0.2776767611503601,
          0.2776767611503601
         ],
         "z": [
          0,
          1
         ]
        },
        {
         "line": {
          "color": "gray",
          "width": 3
         },
         "mode": "lines",
         "showlegend": false,
         "type": "scatter3d",
         "x": [
          0.13666938245296478,
          0.13666938245296478
         ],
         "y": [
          0.3435743451118469,
          0.3435743451118469
         ],
         "z": [
          0,
          1
         ]
        },
        {
         "line": {
          "color": "gray",
          "width": 3
         },
         "mode": "lines",
         "showlegend": false,
         "type": "scatter3d",
         "x": [
          0.3990909457206726,
          0.3990909457206726
         ],
         "y": [
          0.7250729203224182,
          0.7250729203224182
         ],
         "z": [
          0,
          1
         ]
        },
        {
         "line": {
          "color": "gray",
          "width": 3
         },
         "mode": "lines",
         "showlegend": false,
         "type": "scatter3d",
         "x": [
          0.5833941102027893,
          0.5833941102027893
         ],
         "y": [
          0.824890673160553,
          0.824890673160553
         ],
         "z": [
          0,
          1
         ]
        },
        {
         "line": {
          "color": "gray",
          "width": 3
         },
         "mode": "lines",
         "showlegend": false,
         "type": "scatter3d",
         "x": [
          0.2078568935394287,
          0.2078568935394287
         ],
         "y": [
          0.5770460963249207,
          0.5770460963249207
         ],
         "z": [
          0,
          1
         ]
        },
        {
         "line": {
          "color": "gray",
          "width": 3
         },
         "mode": "lines",
         "showlegend": false,
         "type": "scatter3d",
         "x": [
          0.3504525423049927,
          0.3504525423049927
         ],
         "y": [
          0.5529080629348755,
          0.5529080629348755
         ],
         "z": [
          0,
          1
         ]
        },
        {
         "line": {
          "color": "gray",
          "width": 3
         },
         "mode": "lines",
         "showlegend": false,
         "type": "scatter3d",
         "x": [
          0.23630230128765106,
          0.23630230128765106
         ],
         "y": [
          0.5944186449050903,
          0.5944186449050903
         ],
         "z": [
          0,
          1
         ]
        },
        {
         "line": {
          "color": "gray",
          "width": 3
         },
         "mode": "lines",
         "showlegend": false,
         "type": "scatter3d",
         "x": [
          0.20572510361671448,
          0.20572510361671448
         ],
         "y": [
          0.49730509519577026,
          0.49730509519577026
         ],
         "z": [
          0,
          1
         ]
        },
        {
         "line": {
          "color": "gray",
          "width": 3
         },
         "mode": "lines",
         "showlegend": false,
         "type": "scatter3d",
         "x": [
          0.3875589072704315,
          0.3875589072704315
         ],
         "y": [
          0.5934677720069885,
          0.5934677720069885
         ],
         "z": [
          0,
          1
         ]
        },
        {
         "line": {
          "color": "gray",
          "width": 3
         },
         "mode": "lines",
         "showlegend": false,
         "type": "scatter3d",
         "x": [
          0.5787625908851624,
          0.5787625908851624
         ],
         "y": [
          0.24562634527683258,
          0.24562634527683258
         ],
         "z": [
          0,
          1
         ]
        },
        {
         "line": {
          "color": "gray",
          "width": 3
         },
         "mode": "lines",
         "showlegend": false,
         "type": "scatter3d",
         "x": [
          0.054580703377723694,
          0.054580703377723694
         ],
         "y": [
          0.17339062690734863,
          0.17339062690734863
         ],
         "z": [
          0,
          1
         ]
        },
        {
         "line": {
          "color": "gray",
          "width": 3
         },
         "mode": "lines",
         "showlegend": false,
         "type": "scatter3d",
         "x": [
          0.4871901273727417,
          0.4871901273727417
         ],
         "y": [
          0.46295908093452454,
          0.46295908093452454
         ],
         "z": [
          0,
          1
         ]
        },
        {
         "line": {
          "color": "gray",
          "width": 3
         },
         "mode": "lines",
         "showlegend": false,
         "type": "scatter3d",
         "x": [
          0.17392291128635406,
          0.17392291128635406
         ],
         "y": [
          0.5696033239364624,
          0.5696033239364624
         ],
         "z": [
          0,
          1
         ]
        },
        {
         "line": {
          "color": "gray",
          "width": 3
         },
         "mode": "lines",
         "showlegend": false,
         "type": "scatter3d",
         "x": [
          0.6057825088500977,
          0.6057825088500977
         ],
         "y": [
          0.19660444557666779,
          0.19660444557666779
         ],
         "z": [
          0,
          1
         ]
        },
        {
         "line": {
          "color": "gray",
          "width": 3
         },
         "mode": "lines",
         "showlegend": false,
         "type": "scatter3d",
         "x": [
          0.1814156025648117,
          0.1814156025648117
         ],
         "y": [
          0.4247279465198517,
          0.4247279465198517
         ],
         "z": [
          0,
          1
         ]
        },
        {
         "line": {
          "color": "gray",
          "width": 3
         },
         "mode": "lines",
         "showlegend": false,
         "type": "scatter3d",
         "x": [
          0.2923460900783539,
          0.2923460900783539
         ],
         "y": [
          0.5196219086647034,
          0.5196219086647034
         ],
         "z": [
          0,
          1
         ]
        },
        {
         "line": {
          "color": "gray",
          "width": 3
         },
         "mode": "lines",
         "showlegend": false,
         "type": "scatter3d",
         "x": [
          0.46341967582702637,
          0.46341967582702637
         ],
         "y": [
          0.5058272480964661,
          0.5058272480964661
         ],
         "z": [
          0,
          1
         ]
        },
        {
         "line": {
          "color": "gray",
          "width": 3
         },
         "mode": "lines",
         "showlegend": false,
         "type": "scatter3d",
         "x": [
          0.8483896255493164,
          0.8483896255493164
         ],
         "y": [
          0.8228854537010193,
          0.8228854537010193
         ],
         "z": [
          0,
          1
         ]
        },
        {
         "line": {
          "color": "gray",
          "width": 3
         },
         "mode": "lines",
         "showlegend": false,
         "type": "scatter3d",
         "x": [
          0.1383502185344696,
          0.1383502185344696
         ],
         "y": [
          0.6464324593544006,
          0.6464324593544006
         ],
         "z": [
          0,
          1
         ]
        },
        {
         "line": {
          "color": "gray",
          "width": 3
         },
         "mode": "lines",
         "showlegend": false,
         "type": "scatter3d",
         "x": [
          0.30405548214912415,
          0.30405548214912415
         ],
         "y": [
          0.37213626503944397,
          0.37213626503944397
         ],
         "z": [
          0,
          1
         ]
        },
        {
         "line": {
          "color": "gray",
          "width": 3
         },
         "mode": "lines",
         "showlegend": false,
         "type": "scatter3d",
         "x": [
          0.3106452226638794,
          0.3106452226638794
         ],
         "y": [
          0.4030362665653229,
          0.4030362665653229
         ],
         "z": [
          0,
          1
         ]
        },
        {
         "line": {
          "color": "gray",
          "width": 3
         },
         "mode": "lines",
         "showlegend": false,
         "type": "scatter3d",
         "x": [
          0.4653932750225067,
          0.4653932750225067
         ],
         "y": [
          0.8204514384269714,
          0.8204514384269714
         ],
         "z": [
          0,
          1
         ]
        },
        {
         "line": {
          "color": "gray",
          "width": 3
         },
         "mode": "lines",
         "showlegend": false,
         "type": "scatter3d",
         "x": [
          0.6747090816497803,
          0.6747090816497803
         ],
         "y": [
          0.8266458511352539,
          0.8266458511352539
         ],
         "z": [
          0,
          1
         ]
        },
        {
         "line": {
          "color": "gray",
          "width": 3
         },
         "mode": "lines",
         "showlegend": false,
         "type": "scatter3d",
         "x": [
          0.2444121539592743,
          0.2444121539592743
         ],
         "y": [
          0.6492061018943787,
          0.6492061018943787
         ],
         "z": [
          0,
          1
         ]
        },
        {
         "line": {
          "color": "gray",
          "width": 3
         },
         "mode": "lines",
         "showlegend": false,
         "type": "scatter3d",
         "x": [
          0.5680784583091736,
          0.5680784583091736
         ],
         "y": [
          0.5455586910247803,
          0.5455586910247803
         ],
         "z": [
          0,
          1
         ]
        },
        {
         "line": {
          "color": "gray",
          "width": 3
         },
         "mode": "lines",
         "showlegend": false,
         "type": "scatter3d",
         "x": [
          0.3027857840061188,
          0.3027857840061188
         ],
         "y": [
          0.6247279047966003,
          0.6247279047966003
         ],
         "z": [
          0,
          1
         ]
        },
        {
         "line": {
          "color": "gray",
          "width": 3
         },
         "mode": "lines",
         "showlegend": false,
         "type": "scatter3d",
         "x": [
          0.24824823439121246,
          0.24824823439121246
         ],
         "y": [
          0.7279500365257263,
          0.7279500365257263
         ],
         "z": [
          0,
          1
         ]
        },
        {
         "line": {
          "color": "gray",
          "width": 3
         },
         "mode": "lines",
         "showlegend": false,
         "type": "scatter3d",
         "x": [
          0.388855516910553,
          0.388855516910553
         ],
         "y": [
          0.7140470743179321,
          0.7140470743179321
         ],
         "z": [
          0,
          1
         ]
        },
        {
         "line": {
          "color": "gray",
          "width": 3
         },
         "mode": "lines",
         "showlegend": false,
         "type": "scatter3d",
         "x": [
          0.3837181329727173,
          0.3837181329727173
         ],
         "y": [
          0.4008716344833374,
          0.4008716344833374
         ],
         "z": [
          0,
          1
         ]
        },
        {
         "line": {
          "color": "gray",
          "width": 3
         },
         "mode": "lines",
         "showlegend": false,
         "type": "scatter3d",
         "x": [
          0.07460439950227737,
          0.07460439950227737
         ],
         "y": [
          0.24861027300357819,
          0.24861027300357819
         ],
         "z": [
          0,
          1
         ]
        },
        {
         "line": {
          "color": "gray",
          "width": 3
         },
         "mode": "lines",
         "showlegend": false,
         "type": "scatter3d",
         "x": [
          0.5121740102767944,
          0.5121740102767944
         ],
         "y": [
          0.5274904370307922,
          0.5274904370307922
         ],
         "z": [
          0,
          1
         ]
        },
        {
         "line": {
          "color": "gray",
          "width": 3
         },
         "mode": "lines",
         "showlegend": false,
         "type": "scatter3d",
         "x": [
          0.21660709381103516,
          0.21660709381103516
         ],
         "y": [
          0.39747539162635803,
          0.39747539162635803
         ],
         "z": [
          0,
          1
         ]
        },
        {
         "line": {
          "color": "gray",
          "width": 3
         },
         "mode": "lines",
         "showlegend": false,
         "type": "scatter3d",
         "x": [
          0.027209391817450523,
          0.027209391817450523
         ],
         "y": [
          0.21894896030426025,
          0.21894896030426025
         ],
         "z": [
          0,
          1
         ]
        },
        {
         "line": {
          "color": "gray",
          "width": 3
         },
         "mode": "lines",
         "showlegend": false,
         "type": "scatter3d",
         "x": [
          0.20992687344551086,
          0.20992687344551086
         ],
         "y": [
          0.5116013884544373,
          0.5116013884544373
         ],
         "z": [
          0,
          1
         ]
        },
        {
         "line": {
          "color": "gray",
          "width": 3
         },
         "mode": "lines",
         "showlegend": false,
         "type": "scatter3d",
         "x": [
          0.3531303107738495,
          0.3531303107738495
         ],
         "y": [
          0.5288427472114563,
          0.5288427472114563
         ],
         "z": [
          0,
          1
         ]
        },
        {
         "line": {
          "color": "gray",
          "width": 3
         },
         "mode": "lines",
         "showlegend": false,
         "type": "scatter3d",
         "x": [
          0.459001362323761,
          0.459001362323761
         ],
         "y": [
          0.7936193943023682,
          0.7936193943023682
         ],
         "z": [
          0,
          1
         ]
        },
        {
         "line": {
          "color": "gray",
          "width": 3
         },
         "mode": "lines",
         "showlegend": false,
         "type": "scatter3d",
         "x": [
          0.5359151363372803,
          0.5359151363372803
         ],
         "y": [
          0.5992048978805542,
          0.5992048978805542
         ],
         "z": [
          0,
          1
         ]
        },
        {
         "line": {
          "color": "gray",
          "width": 3
         },
         "mode": "lines",
         "showlegend": false,
         "type": "scatter3d",
         "x": [
          0.499357670545578,
          0.499357670545578
         ],
         "y": [
          0.4165899455547333,
          0.4165899455547333
         ],
         "z": [
          0,
          1
         ]
        },
        {
         "line": {
          "color": "gray",
          "width": 3
         },
         "mode": "lines",
         "showlegend": false,
         "type": "scatter3d",
         "x": [
          0.14490322768688202,
          0.14490322768688202
         ],
         "y": [
          0.3565615117549896,
          0.3565615117549896
         ],
         "z": [
          0,
          1
         ]
        },
        {
         "line": {
          "color": "gray",
          "width": 3
         },
         "mode": "lines",
         "showlegend": false,
         "type": "scatter3d",
         "x": [
          0.16389888525009155,
          0.16389888525009155
         ],
         "y": [
          0.4812711477279663,
          0.4812711477279663
         ],
         "z": [
          0,
          1
         ]
        },
        {
         "line": {
          "color": "gray",
          "width": 3
         },
         "mode": "lines",
         "showlegend": false,
         "type": "scatter3d",
         "x": [
          0.046016763895750046,
          0.046016763895750046
         ],
         "y": [
          0.22718138992786407,
          0.22718138992786407
         ],
         "z": [
          0,
          1
         ]
        },
        {
         "line": {
          "color": "gray",
          "width": 3
         },
         "mode": "lines",
         "showlegend": false,
         "type": "scatter3d",
         "x": [
          0.12817513942718506,
          0.12817513942718506
         ],
         "y": [
          0.3303307294845581,
          0.3303307294845581
         ],
         "z": [
          0,
          1
         ]
        },
        {
         "line": {
          "color": "gray",
          "width": 3
         },
         "mode": "lines",
         "showlegend": false,
         "type": "scatter3d",
         "x": [
          0.5390832424163818,
          0.5390832424163818
         ],
         "y": [
          0.8190978765487671,
          0.8190978765487671
         ],
         "z": [
          0,
          1
         ]
        },
        {
         "line": {
          "color": "gray",
          "width": 3
         },
         "mode": "lines",
         "showlegend": false,
         "type": "scatter3d",
         "x": [
          0.0837719663977623,
          0.0837719663977623
         ],
         "y": [
          0.26234933733940125,
          0.26234933733940125
         ],
         "z": [
          0,
          1
         ]
        },
        {
         "line": {
          "color": "gray",
          "width": 3
         },
         "mode": "lines",
         "showlegend": false,
         "type": "scatter3d",
         "x": [
          0.40803393721580505,
          0.40803393721580505
         ],
         "y": [
          0.3983636498451233,
          0.3983636498451233
         ],
         "z": [
          0,
          1
         ]
        },
        {
         "line": {
          "color": "gray",
          "width": 3
         },
         "mode": "lines",
         "showlegend": false,
         "type": "scatter3d",
         "x": [
          0.39975419640541077,
          0.39975419640541077
         ],
         "y": [
          0.5819669365882874,
          0.5819669365882874
         ],
         "z": [
          0,
          1
         ]
        },
        {
         "line": {
          "color": "gray",
          "width": 3
         },
         "mode": "lines",
         "showlegend": false,
         "type": "scatter3d",
         "x": [
          0.4500531554222107,
          0.4500531554222107
         ],
         "y": [
          0.7706108093261719,
          0.7706108093261719
         ],
         "z": [
          0,
          1
         ]
        },
        {
         "line": {
          "color": "gray",
          "width": 3
         },
         "mode": "lines",
         "showlegend": false,
         "type": "scatter3d",
         "x": [
          0.40919333696365356,
          0.40919333696365356
         ],
         "y": [
          0.7341026663780212,
          0.7341026663780212
         ],
         "z": [
          0,
          1
         ]
        },
        {
         "line": {
          "color": "gray",
          "width": 3
         },
         "mode": "lines",
         "showlegend": false,
         "type": "scatter3d",
         "x": [
          0.3830087184906006,
          0.3830087184906006
         ],
         "y": [
          0.48868322372436523,
          0.48868322372436523
         ],
         "z": [
          0,
          1
         ]
        },
        {
         "line": {
          "color": "gray",
          "width": 3
         },
         "mode": "lines",
         "showlegend": false,
         "type": "scatter3d",
         "x": [
          0.5120099782943726,
          0.5120099782943726
         ],
         "y": [
          0.5767112970352173,
          0.5767112970352173
         ],
         "z": [
          0,
          1
         ]
        },
        {
         "line": {
          "color": "gray",
          "width": 3
         },
         "mode": "lines",
         "showlegend": false,
         "type": "scatter3d",
         "x": [
          0.7200350165367126,
          0.7200350165367126
         ],
         "y": [
          0.8263052701950073,
          0.8263052701950073
         ],
         "z": [
          0,
          1
         ]
        },
        {
         "line": {
          "color": "gray",
          "width": 3
         },
         "mode": "lines",
         "showlegend": false,
         "type": "scatter3d",
         "x": [
          0.18142835795879364,
          0.18142835795879364
         ],
         "y": [
          0.569797694683075,
          0.569797694683075
         ],
         "z": [
          0,
          1
         ]
        },
        {
         "line": {
          "color": "gray",
          "width": 3
         },
         "mode": "lines",
         "showlegend": false,
         "type": "scatter3d",
         "x": [
          0.35360485315322876,
          0.35360485315322876
         ],
         "y": [
          0.6246306896209717,
          0.6246306896209717
         ],
         "z": [
          0,
          1
         ]
        },
        {
         "line": {
          "color": "gray",
          "width": 3
         },
         "mode": "lines",
         "showlegend": false,
         "type": "scatter3d",
         "x": [
          0.33105701208114624,
          0.33105701208114624
         ],
         "y": [
          0.6645014882087708,
          0.6645014882087708
         ],
         "z": [
          0,
          1
         ]
        },
        {
         "line": {
          "color": "gray",
          "width": 3
         },
         "mode": "lines",
         "showlegend": false,
         "type": "scatter3d",
         "x": [
          0.4580605626106262,
          0.4580605626106262
         ],
         "y": [
          0.3924369513988495,
          0.3924369513988495
         ],
         "z": [
          0,
          1
         ]
        },
        {
         "line": {
          "color": "gray",
          "width": 3
         },
         "mode": "lines",
         "showlegend": false,
         "type": "scatter3d",
         "x": [
          0.5160031318664551,
          0.5160031318664551
         ],
         "y": [
          0.369899183511734,
          0.369899183511734
         ],
         "z": [
          0,
          1
         ]
        },
        {
         "line": {
          "color": "gray",
          "width": 3
         },
         "mode": "lines",
         "showlegend": false,
         "type": "scatter3d",
         "x": [
          0.43320420384407043,
          0.43320420384407043
         ],
         "y": [
          0.5447474718093872,
          0.5447474718093872
         ],
         "z": [
          0,
          1
         ]
        },
        {
         "line": {
          "color": "gray",
          "width": 3
         },
         "mode": "lines",
         "showlegend": false,
         "type": "scatter3d",
         "x": [
          0.4223328232765198,
          0.4223328232765198
         ],
         "y": [
          0.557388961315155,
          0.557388961315155
         ],
         "z": [
          0,
          1
         ]
        },
        {
         "line": {
          "color": "gray",
          "width": 3
         },
         "mode": "lines",
         "showlegend": false,
         "type": "scatter3d",
         "x": [
          0.5462828278541565,
          0.5462828278541565
         ],
         "y": [
          0.309163361787796,
          0.309163361787796
         ],
         "z": [
          0,
          1
         ]
        },
        {
         "line": {
          "color": "gray",
          "width": 3
         },
         "mode": "lines",
         "showlegend": false,
         "type": "scatter3d",
         "x": [
          0.4347744882106781,
          0.4347744882106781
         ],
         "y": [
          0.6224862337112427,
          0.6224862337112427
         ],
         "z": [
          0,
          1
         ]
        },
        {
         "line": {
          "color": "gray",
          "width": 3
         },
         "mode": "lines",
         "showlegend": false,
         "type": "scatter3d",
         "x": [
          0.6338895559310913,
          0.6338895559310913
         ],
         "y": [
          0.1474209427833557,
          0.1474209427833557
         ],
         "z": [
          0,
          1
         ]
        },
        {
         "marker": {
          "color": "silver",
          "size": 5,
          "symbol": "square"
         },
         "mode": "markers",
         "name": "Facilities",
         "type": "scatter3d",
         "x": {
          "bdata": "DH14Pt9QdT65wgg8IUSrPtBlTj/Ui/s+k6bnPp3TsT4Qtpw+D6z3PooAwj63gGQ/aWKkPrK9tz5lDq0+p2LlPleoSj6vUzI+o0HjPhksnz4Aecg+4JvlPYpHVj4+y/w+mgIDP3RoHT8UYQo/pGGPPiHlCT+56FW8BE19Pv1Dkj6G2wc/2m3xPl3uBT+ykOE+0YOGPjlWwT5VqFs+YRW+PQd95D6k1Ck/g+NNPk3a4D6ehJI+lH9kPr+m3T4Y1AY/gA7cPme/Dz2Q6QI/IYUWP7rZZD7UTDI+xDBGPnRnRj7CQCc/d7Z9PlmY/T5Y5wA/32OzPrszAj9KKGE+3XPSPpPL6D6/NzQ+gDY/Pn3QHD73d3g+51QhP14IAD8mQZo+8/q6Ps6z7j4GOjA/wcuDPfM/aT7KtiU+ggXDPmoFtT6rwB8/js3PPVWsSD4wIsE+UHc/PgQANj7h/oA9aakuPrrW6D7Q9u09x7npPnAGJz4qGX0+CCdEPjybHD8KZ+I9Hb/0PVUkoT5cfLo+N+wNPxKC7T4KmcI+kgpbPljZGD8aXnY+lTsWP07CoT7jxAE/X2lDP1QPEj+uwyQ/6LtLPTeBFD6niPU+B0exPgvnLD7jMQM/Y9gNP1tufD4Ltpg+1aXmPkNOuD51vKU+2v1IPmHobT6blAE/w1YjPigwYD4CdH0+q1q+PimAtj5I9fg94zTpPjfxNj7YoqQ+2seqPvQL6z7X4NY+6CKDPf7dDz8P8ws+plXMPlFZFT9w2FQ+hG6zPjv5cT6aqVI+H27GPskpFD8EkF89/HD5PtkYMj6QFBs/A8U5PmOulT5YRe0+EDBZP66rDT4prZs+5AyfPgdI7j68uSw/Lkd6PpdtET+9Bps+yTR+PhIYxz60dsQ+McqYPdYdAz9Azl0+O+bePBL3Vj5/zbQ+OgLrPrwxCT/Pq/8+g2EUPhzVJz4TfDw9WEADPlwBCj+jkKs90+nQPpWszD5ebeY+yoHRPrgZxD4WEwM/N1Q4P1vIOT6yC7U+ToCpPuqG6j7IGAQ/8czdPgI82D4x2Qs/w5rePpZGIj8=",
          "dtype": "f4"
         },
         "y": {
          "bdata": "fYEeP25dzD761Fc+oaPOPgs1Uz+3P+U+CVQJP+XWJD/bzRY/TYXHPu4+Jj/MZ1I/iqYEPw/evD6BPSE/GYYSP9TSPz/Pqyg/dEMIP+HnKz9gv8Y+/pERP9CFMD/fqvU+ieEZPyB4OD6kagk/OmIeP7z1pT4MhFA++XM2P4G4zT45s60+pJ37PuqjtT6VBRs/ZJDNPhZiHz/AegY/VECNPhbMFj/d3sY9qSn3PqP6Qj+u8SA/gJ0yP8zQyj7xPwg/81RAP2caGD6+HyA/yeVqPra/DT9ohi0/Q3QYP33Uyj7lp+k9jA4wP3Vm3T5aOs0+9X/2Pm8cxT5gmh4/se8RPy8WQT9bItI+5DodP2hWvT567yE/605UP7Lh/T5Lzjs/pGsdP7JRPD825Jw9wNJwPmMQET+9C8Q+5YsyPwaZ8T53pyc+ek+UPo2FED/t5ho/0ePgPrU5Bj90ukg+knXKPkInBT9FYwc/AiFVP+ek/D5ipyw/aGroPoKF8T4IYJs+mEuiPqY8/T5tEiw/1EeWPpDcMz+F0io/jaYRP3QMWj75dhs/55cRP6xaCj8761E/oY5TP1L+hT5rFwY+FUJDP6tUFj+5WfQ+APw/P4dSEj/3HQ0/lpUKP1jiKD8NdDc/ac4NPy8zzj5VOyA/m9fvPkWIFD/FCAM/drUMP3MSCj+TJDM/57svP9zmKD8X2w0/Eb9HP9vJND80uKk+uZQAPzf8Tj8qTz4/K+NcPqYrjj766K8+YZ45PwksUz9LuRM/YosNP9IrGD/Gnv4+ge0XP3mFez5QjTE++QjtPobRET+tUkk+8XXZPvEFBT/lfQE/n6hSP5l8JT+liL4+xVrOPhsJUj8Qn1M/XzImP7ypCz8r7h8/71o6P8rLNj8MP80+sZN+Pp0JBz/lgcs+KDRgPk/4Aj89Ygc/pCpLP35lGT9HS9U+O4+2Pixp9j49omg+HCGpPmawUT+nUoY+UvbLPsn7FD/ARkU/J+47P7A0+j5aoxM/vohTP0PeET/M5x8/xRwqP3/tyD5tY70+knQLPwuxDj+pSp4+QlsfP4T1Fj4=",
          "dtype": "f4"
         },
         "z": {
          "bdata": "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",
          "dtype": "f8"
         }
        }
       ],
       "layout": {
        "legend": {
         "bgcolor": "rgba(0,0,0,0.4)",
         "bordercolor": "white"
        },
        "margin": {
         "b": 0,
         "l": 0,
         "r": 0,
         "t": 30
        },
        "scene": {
         "aspectmode": "data",
         "camera": {
          "eye": {
           "x": 1.5,
           "y": 1.5,
           "z": 0.7
          }
         },
         "xaxis": {
          "backgroundcolor": "rgb(10,10,20)",
          "gridcolor": "gray",
          "title": {
           "text": "X"
          },
          "zerolinecolor": "gray"
         },
         "yaxis": {
          "backgroundcolor": "rgb(10,10,20)",
          "gridcolor": "gray",
          "title": {
           "text": "Y"
          },
          "zerolinecolor": "gray"
         },
         "zaxis": {
          "backgroundcolor": "rgb(10,10,20)",
          "gridcolor": "gray",
          "title": {
           "text": "Z"
          },
          "zerolinecolor": "gray"
         }
        },
        "template": {
         "data": {
          "bar": [
           {
            "error_x": {
             "color": "#f2f5fa"
            },
            "error_y": {
             "color": "#f2f5fa"
            },
            "marker": {
             "line": {
              "color": "rgb(17,17,17)",
              "width": 0.5
             },
             "pattern": {
              "fillmode": "overlay",
              "size": 10,
              "solidity": 0.2
             }
            },
            "type": "bar"
           }
          ],
          "barpolar": [
           {
            "marker": {
             "line": {
              "color": "rgb(17,17,17)",
              "width": 0.5
             },
             "pattern": {
              "fillmode": "overlay",
              "size": 10,
              "solidity": 0.2
             }
            },
            "type": "barpolar"
           }
          ],
          "carpet": [
           {
            "aaxis": {
             "endlinecolor": "#A2B1C6",
             "gridcolor": "#506784",
             "linecolor": "#506784",
             "minorgridcolor": "#506784",
             "startlinecolor": "#A2B1C6"
            },
            "baxis": {
             "endlinecolor": "#A2B1C6",
             "gridcolor": "#506784",
             "linecolor": "#506784",
             "minorgridcolor": "#506784",
             "startlinecolor": "#A2B1C6"
            },
            "type": "carpet"
           }
          ],
          "choropleth": [
           {
            "colorbar": {
             "outlinewidth": 0,
             "ticks": ""
            },
            "type": "choropleth"
           }
          ],
          "contour": [
           {
            "colorbar": {
             "outlinewidth": 0,
             "ticks": ""
            },
            "colorscale": [
             [
              0,
              "#0d0887"
             ],
             [
              0.1111111111111111,
              "#46039f"
             ],
             [
              0.2222222222222222,
              "#7201a8"
             ],
             [
              0.3333333333333333,
              "#9c179e"
             ],
             [
              0.4444444444444444,
              "#bd3786"
             ],
             [
              0.5555555555555556,
              "#d8576b"
             ],
             [
              0.6666666666666666,
              "#ed7953"
             ],
             [
              0.7777777777777778,
              "#fb9f3a"
             ],
             [
              0.8888888888888888,
              "#fdca26"
             ],
             [
              1,
              "#f0f921"
             ]
            ],
            "type": "contour"
           }
          ],
          "contourcarpet": [
           {
            "colorbar": {
             "outlinewidth": 0,
             "ticks": ""
            },
            "type": "contourcarpet"
           }
          ],
          "heatmap": [
           {
            "colorbar": {
             "outlinewidth": 0,
             "ticks": ""
            },
            "colorscale": [
             [
              0,
              "#0d0887"
             ],
             [
              0.1111111111111111,
              "#46039f"
             ],
             [
              0.2222222222222222,
              "#7201a8"
             ],
             [
              0.3333333333333333,
              "#9c179e"
             ],
             [
              0.4444444444444444,
              "#bd3786"
             ],
             [
              0.5555555555555556,
              "#d8576b"
             ],
             [
              0.6666666666666666,
              "#ed7953"
             ],
             [
              0.7777777777777778,
              "#fb9f3a"
             ],
             [
              0.8888888888888888,
              "#fdca26"
             ],
             [
              1,
              "#f0f921"
             ]
            ],
            "type": "heatmap"
           }
          ],
          "histogram": [
           {
            "marker": {
             "pattern": {
              "fillmode": "overlay",
              "size": 10,
              "solidity": 0.2
             }
            },
            "type": "histogram"
           }
          ],
          "histogram2d": [
           {
            "colorbar": {
             "outlinewidth": 0,
             "ticks": ""
            },
            "colorscale": [
             [
              0,
              "#0d0887"
             ],
             [
              0.1111111111111111,
              "#46039f"
             ],
             [
              0.2222222222222222,
              "#7201a8"
             ],
             [
              0.3333333333333333,
              "#9c179e"
             ],
             [
              0.4444444444444444,
              "#bd3786"
             ],
             [
              0.5555555555555556,
              "#d8576b"
             ],
             [
              0.6666666666666666,
              "#ed7953"
             ],
             [
              0.7777777777777778,
              "#fb9f3a"
             ],
             [
              0.8888888888888888,
              "#fdca26"
             ],
             [
              1,
              "#f0f921"
             ]
            ],
            "type": "histogram2d"
           }
          ],
          "histogram2dcontour": [
           {
            "colorbar": {
             "outlinewidth": 0,
             "ticks": ""
            },
            "colorscale": [
             [
              0,
              "#0d0887"
             ],
             [
              0.1111111111111111,
              "#46039f"
             ],
             [
              0.2222222222222222,
              "#7201a8"
             ],
             [
              0.3333333333333333,
              "#9c179e"
             ],
             [
              0.4444444444444444,
              "#bd3786"
             ],
             [
              0.5555555555555556,
              "#d8576b"
             ],
             [
              0.6666666666666666,
              "#ed7953"
             ],
             [
              0.7777777777777778,
              "#fb9f3a"
             ],
             [
              0.8888888888888888,
              "#fdca26"
             ],
             [
              1,
              "#f0f921"
             ]
            ],
            "type": "histogram2dcontour"
           }
          ],
          "mesh3d": [
           {
            "colorbar": {
             "outlinewidth": 0,
             "ticks": ""
            },
            "type": "mesh3d"
           }
          ],
          "parcoords": [
           {
            "line": {
             "colorbar": {
              "outlinewidth": 0,
              "ticks": ""
             }
            },
            "type": "parcoords"
           }
          ],
          "pie": [
           {
            "automargin": true,
            "type": "pie"
           }
          ],
          "scatter": [
           {
            "marker": {
             "line": {
              "color": "#283442"
             }
            },
            "type": "scatter"
           }
          ],
          "scatter3d": [
           {
            "line": {
             "colorbar": {
              "outlinewidth": 0,
              "ticks": ""
             }
            },
            "marker": {
             "colorbar": {
              "outlinewidth": 0,
              "ticks": ""
             }
            },
            "type": "scatter3d"
           }
          ],
          "scattercarpet": [
           {
            "marker": {
             "colorbar": {
              "outlinewidth": 0,
              "ticks": ""
             }
            },
            "type": "scattercarpet"
           }
          ],
          "scattergeo": [
           {
            "marker": {
             "colorbar": {
              "outlinewidth": 0,
              "ticks": ""
             }
            },
            "type": "scattergeo"
           }
          ],
          "scattergl": [
           {
            "marker": {
             "line": {
              "color": "#283442"
             }
            },
            "type": "scattergl"
           }
          ],
          "scattermap": [
           {
            "marker": {
             "colorbar": {
              "outlinewidth": 0,
              "ticks": ""
             }
            },
            "type": "scattermap"
           }
          ],
          "scattermapbox": [
           {
            "marker": {
             "colorbar": {
              "outlinewidth": 0,
              "ticks": ""
             }
            },
            "type": "scattermapbox"
           }
          ],
          "scatterpolar": [
           {
            "marker": {
             "colorbar": {
              "outlinewidth": 0,
              "ticks": ""
             }
            },
            "type": "scatterpolar"
           }
          ],
          "scatterpolargl": [
           {
            "marker": {
             "colorbar": {
              "outlinewidth": 0,
              "ticks": ""
             }
            },
            "type": "scatterpolargl"
           }
          ],
          "scatterternary": [
           {
            "marker": {
             "colorbar": {
              "outlinewidth": 0,
              "ticks": ""
             }
            },
            "type": "scatterternary"
           }
          ],
          "surface": [
           {
            "colorbar": {
             "outlinewidth": 0,
             "ticks": ""
            },
            "colorscale": [
             [
              0,
              "#0d0887"
             ],
             [
              0.1111111111111111,
              "#46039f"
             ],
             [
              0.2222222222222222,
              "#7201a8"
             ],
             [
              0.3333333333333333,
              "#9c179e"
             ],
             [
              0.4444444444444444,
              "#bd3786"
             ],
             [
              0.5555555555555556,
              "#d8576b"
             ],
             [
              0.6666666666666666,
              "#ed7953"
             ],
             [
              0.7777777777777778,
              "#fb9f3a"
             ],
             [
              0.8888888888888888,
              "#fdca26"
             ],
             [
              1,
              "#f0f921"
             ]
            ],
            "type": "surface"
           }
          ],
          "table": [
           {
            "cells": {
             "fill": {
              "color": "#506784"
             },
             "line": {
              "color": "rgb(17,17,17)"
             }
            },
            "header": {
             "fill": {
              "color": "#2a3f5f"
             },
             "line": {
              "color": "rgb(17,17,17)"
             }
            },
            "type": "table"
           }
          ]
         },
         "layout": {
          "annotationdefaults": {
           "arrowcolor": "#f2f5fa",
           "arrowhead": 0,
           "arrowwidth": 1
          },
          "autotypenumbers": "strict",
          "coloraxis": {
           "colorbar": {
            "outlinewidth": 0,
            "ticks": ""
           }
          },
          "colorscale": {
           "diverging": [
            [
             0,
             "#8e0152"
            ],
            [
             0.1,
             "#c51b7d"
            ],
            [
             0.2,
             "#de77ae"
            ],
            [
             0.3,
             "#f1b6da"
            ],
            [
             0.4,
             "#fde0ef"
            ],
            [
             0.5,
             "#f7f7f7"
            ],
            [
             0.6,
             "#e6f5d0"
            ],
            [
             0.7,
             "#b8e186"
            ],
            [
             0.8,
             "#7fbc41"
            ],
            [
             0.9,
             "#4d9221"
            ],
            [
             1,
             "#276419"
            ]
           ],
           "sequential": [
            [
             0,
             "#0d0887"
            ],
            [
             0.1111111111111111,
             "#46039f"
            ],
            [
             0.2222222222222222,
             "#7201a8"
            ],
            [
             0.3333333333333333,
             "#9c179e"
            ],
            [
             0.4444444444444444,
             "#bd3786"
            ],
            [
             0.5555555555555556,
             "#d8576b"
            ],
            [
             0.6666666666666666,
             "#ed7953"
            ],
            [
             0.7777777777777778,
             "#fb9f3a"
            ],
            [
             0.8888888888888888,
             "#fdca26"
            ],
            [
             1,
             "#f0f921"
            ]
           ],
           "sequentialminus": [
            [
             0,
             "#0d0887"
            ],
            [
             0.1111111111111111,
             "#46039f"
            ],
            [
             0.2222222222222222,
             "#7201a8"
            ],
            [
             0.3333333333333333,
             "#9c179e"
            ],
            [
             0.4444444444444444,
             "#bd3786"
            ],
            [
             0.5555555555555556,
             "#d8576b"
            ],
            [
             0.6666666666666666,
             "#ed7953"
            ],
            [
             0.7777777777777778,
             "#fb9f3a"
            ],
            [
             0.8888888888888888,
             "#fdca26"
            ],
            [
             1,
             "#f0f921"
            ]
           ]
          },
          "colorway": [
           "#636efa",
           "#EF553B",
           "#00cc96",
           "#ab63fa",
           "#FFA15A",
           "#19d3f3",
           "#FF6692",
           "#B6E880",
           "#FF97FF",
           "#FECB52"
          ],
          "font": {
           "color": "#f2f5fa"
          },
          "geo": {
           "bgcolor": "rgb(17,17,17)",
           "lakecolor": "rgb(17,17,17)",
           "landcolor": "rgb(17,17,17)",
           "showlakes": true,
           "showland": true,
           "subunitcolor": "#506784"
          },
          "hoverlabel": {
           "align": "left"
          },
          "hovermode": "closest",
          "mapbox": {
           "style": "dark"
          },
          "paper_bgcolor": "rgb(17,17,17)",
          "plot_bgcolor": "rgb(17,17,17)",
          "polar": {
           "angularaxis": {
            "gridcolor": "#506784",
            "linecolor": "#506784",
            "ticks": ""
           },
           "bgcolor": "rgb(17,17,17)",
           "radialaxis": {
            "gridcolor": "#506784",
            "linecolor": "#506784",
            "ticks": ""
           }
          },
          "scene": {
           "xaxis": {
            "backgroundcolor": "rgb(17,17,17)",
            "gridcolor": "#506784",
            "gridwidth": 2,
            "linecolor": "#506784",
            "showbackground": true,
            "ticks": "",
            "zerolinecolor": "#C8D4E3"
           },
           "yaxis": {
            "backgroundcolor": "rgb(17,17,17)",
            "gridcolor": "#506784",
            "gridwidth": 2,
            "linecolor": "#506784",
            "showbackground": true,
            "ticks": "",
            "zerolinecolor": "#C8D4E3"
           },
           "zaxis": {
            "backgroundcolor": "rgb(17,17,17)",
            "gridcolor": "#506784",
            "gridwidth": 2,
            "linecolor": "#506784",
            "showbackground": true,
            "ticks": "",
            "zerolinecolor": "#C8D4E3"
           }
          },
          "shapedefaults": {
           "line": {
            "color": "#f2f5fa"
           }
          },
          "sliderdefaults": {
           "bgcolor": "#C8D4E3",
           "bordercolor": "rgb(17,17,17)",
           "borderwidth": 1,
           "tickwidth": 0
          },
          "ternary": {
           "aaxis": {
            "gridcolor": "#506784",
            "linecolor": "#506784",
            "ticks": ""
           },
           "baxis": {
            "gridcolor": "#506784",
            "linecolor": "#506784",
            "ticks": ""
           },
           "bgcolor": "rgb(17,17,17)",
           "caxis": {
            "gridcolor": "#506784",
            "linecolor": "#506784",
            "ticks": ""
           }
          },
          "title": {
           "x": 0.05
          },
          "updatemenudefaults": {
           "bgcolor": "#506784",
           "borderwidth": 0
          },
          "xaxis": {
           "automargin": true,
           "gridcolor": "#283442",
           "linecolor": "#506784",
           "ticks": "",
           "title": {
            "standoff": 15
           },
           "zerolinecolor": "#283442",
           "zerolinewidth": 2
          },
          "yaxis": {
           "automargin": true,
           "gridcolor": "#283442",
           "linecolor": "#506784",
           "ticks": "",
           "title": {
            "standoff": 15
           },
           "zerolinecolor": "#283442",
           "zerolinewidth": 2
          }
         }
        },
        "title": {
         "font": {
          "size": 20
         },
         "text": "UAV Spatial Deployment",
         "x": 0.5
        }
       }
      }
     },
     "metadata": {},
     "output_type": "display_data"
    }
   ],
   "source": [
    "plot_UAV_FLPO(START_locs, END_locs, F_base, (4,3))\n",
    "plot_UAV_FLPO_3D(START_locs, END_locs, F_base)\n"
   ]
  },
  {
   "cell_type": "markdown",
   "metadata": {},
   "source": [
    "### Annealing loop implementation\n",
    "Warning: Use $\\beta >= 1e-3$, as the free energy approximation is poor for $\\beta < 5e-4$ with torch.float32 datatype."
   ]
  },
  {
   "cell_type": "code",
   "execution_count": 9,
   "metadata": {},
   "outputs": [],
   "source": [
    "# beta_min = 1e-3\n",
    "# beta_max = 1e5\n",
    "# beta_grow = 3\n",
    "# optim_iters = 50\n",
    "# optim_step = 0.01 # 0.1 for gd0, use < 0.01 for the other two optimizers\n",
    "# optim_name = 'adam'\n",
    "# tol = 1e-3\n",
    "\n",
    "# Y_arr, b_arr, F_arr = anneal(\n",
    "#         F_base, START_locs,END_locs, vrp_net, lse_net, optim_iters, optim_step, \n",
    "#         beta_min, beta_max, beta_grow, D_max_range=D_max_range, tol=tol,\n",
    "#         optimizer_name=optim_name, allowPrint=True\n",
    "#     )\n"
   ]
  },
  {
   "cell_type": "code",
   "execution_count": 10,
   "metadata": {},
   "outputs": [],
   "source": [
    "# plot_UAV_FLPO(START_locs, END_locs, F_base, (4,3))\n",
    "# plot_UAV_FLPO_3D(START_locs, END_locs, F_base)"
   ]
  },
  {
   "cell_type": "markdown",
   "metadata": {},
   "source": [
    "### Plot free energy during annealing implementation"
   ]
  },
  {
   "cell_type": "code",
   "execution_count": 11,
   "metadata": {},
   "outputs": [],
   "source": [
    "# # plot free energy evolution\n",
    "# plt.figure(figsize=(10,3))\n",
    "# plt.plot(np.log(b_arr)/np.log(10), F_arr, marker='.')\n",
    "# plt.ylabel(rf'$F$')\n",
    "# plt.xlabel(rf'$\\log_{{10}}\\beta$')\n",
    "# plt.grid()\n",
    "# plt.show()"
   ]
  },
  {
   "cell_type": "markdown",
   "metadata": {},
   "source": [
    "# Save an Animation"
   ]
  },
  {
   "cell_type": "code",
   "execution_count": 9,
   "metadata": {},
   "outputs": [
    {
     "ename": "NameError",
     "evalue": "name 'Y_arr' is not defined",
     "output_type": "error",
     "traceback": [
      "\u001b[1;31m---------------------------------------------------------------------------\u001b[0m",
      "\u001b[1;31mNameError\u001b[0m                                 Traceback (most recent call last)",
      "Cell \u001b[1;32mIn[9], line 4\u001b[0m\n\u001b[0;32m      1\u001b[0m Animator\u001b[38;5;241m.\u001b[39manimate_UAV_FLPO(\n\u001b[0;32m      2\u001b[0m     START_locs,\n\u001b[0;32m      3\u001b[0m     END_locs,\n\u001b[1;32m----> 4\u001b[0m     \u001b[43mY_arr\u001b[49m,\n\u001b[0;32m      5\u001b[0m     figuresize\u001b[38;5;241m=\u001b[39m(\u001b[38;5;241m6\u001b[39m, \u001b[38;5;241m5\u001b[39m),\n\u001b[0;32m      6\u001b[0m     interval\u001b[38;5;241m=\u001b[39m\u001b[38;5;241m100\u001b[39m,\n\u001b[0;32m      7\u001b[0m     save_path\u001b[38;5;241m=\u001b[39m\u001b[38;5;124m\"\u001b[39m\u001b[38;5;124mfacility_movement_2D.gif\u001b[39m\u001b[38;5;124m\"\u001b[39m,\n\u001b[0;32m      8\u001b[0m )\n",
      "\u001b[1;31mNameError\u001b[0m: name 'Y_arr' is not defined"
     ]
    }
   ],
   "source": [
    "Animator.animate_UAV_FLPO(\n",
    "    START_locs,\n",
    "    END_locs,\n",
    "    Y_arr,\n",
    "    figuresize=(6, 5),\n",
    "    interval=100,\n",
    "    save_path=\"facility_movement_2D.gif\",\n",
    ")"
   ]
  },
  {
   "cell_type": "code",
   "execution_count": 15,
   "metadata": {},
   "outputs": [
    {
     "name": "stderr",
     "output_type": "stream",
     "text": [
      "2025-05-25 22:00:44,941 - INFO - Rendering frame 0/77\n",
      "2025-05-25 22:00:46,018 - INFO - Rendering frame 1/77\n",
      "2025-05-25 22:00:47,068 - INFO - Rendering frame 2/77\n",
      "2025-05-25 22:00:48,109 - INFO - Rendering frame 3/77\n",
      "2025-05-25 22:00:49,142 - INFO - Rendering frame 4/77\n",
      "2025-05-25 22:00:50,178 - INFO - Rendering frame 5/77\n",
      "2025-05-25 22:00:51,217 - INFO - Rendering frame 6/77\n",
      "2025-05-25 22:00:52,260 - INFO - Rendering frame 7/77\n",
      "2025-05-25 22:00:53,317 - INFO - Rendering frame 8/77\n",
      "2025-05-25 22:00:54,359 - INFO - Rendering frame 9/77\n",
      "2025-05-25 22:00:55,404 - INFO - Rendering frame 10/77\n",
      "2025-05-25 22:00:56,472 - INFO - Rendering frame 11/77\n",
      "2025-05-25 22:00:57,546 - INFO - Rendering frame 12/77\n",
      "2025-05-25 22:00:58,591 - INFO - Rendering frame 13/77\n",
      "2025-05-25 22:00:59,644 - INFO - Rendering frame 14/77\n",
      "2025-05-25 22:01:00,793 - INFO - Rendering frame 15/77\n",
      "2025-05-25 22:01:02,156 - INFO - Rendering frame 16/77\n",
      "2025-05-25 22:01:03,571 - INFO - Rendering frame 17/77\n",
      "2025-05-25 22:01:05,018 - INFO - Rendering frame 18/77\n",
      "2025-05-25 22:01:06,401 - INFO - Rendering frame 19/77\n",
      "2025-05-25 22:01:07,779 - INFO - Rendering frame 20/77\n",
      "2025-05-25 22:01:09,137 - INFO - Rendering frame 21/77\n",
      "2025-05-25 22:01:10,580 - INFO - Rendering frame 22/77\n",
      "2025-05-25 22:01:11,967 - INFO - Rendering frame 23/77\n",
      "2025-05-25 22:01:13,361 - INFO - Rendering frame 24/77\n",
      "2025-05-25 22:01:14,773 - INFO - Rendering frame 25/77\n",
      "2025-05-25 22:01:16,171 - INFO - Rendering frame 26/77\n",
      "2025-05-25 22:01:17,578 - INFO - Rendering frame 27/77\n",
      "2025-05-25 22:01:18,912 - INFO - Rendering frame 28/77\n",
      "2025-05-25 22:01:20,316 - INFO - Rendering frame 29/77\n",
      "2025-05-25 22:01:21,692 - INFO - Rendering frame 30/77\n",
      "2025-05-25 22:01:23,094 - INFO - Rendering frame 31/77\n",
      "2025-05-25 22:01:24,536 - INFO - Rendering frame 32/77\n",
      "2025-05-25 22:01:25,898 - INFO - Rendering frame 33/77\n",
      "2025-05-25 22:01:27,283 - INFO - Rendering frame 34/77\n",
      "2025-05-25 22:01:28,726 - INFO - Rendering frame 35/77\n",
      "2025-05-25 22:01:30,004 - INFO - Rendering frame 36/77\n",
      "2025-05-25 22:01:31,055 - INFO - Rendering frame 37/77\n",
      "2025-05-25 22:01:32,099 - INFO - Rendering frame 38/77\n",
      "2025-05-25 22:01:33,157 - INFO - Rendering frame 39/77\n",
      "2025-05-25 22:01:34,207 - INFO - Rendering frame 40/77\n",
      "2025-05-25 22:01:35,248 - INFO - Rendering frame 41/77\n",
      "2025-05-25 22:01:36,303 - INFO - Rendering frame 42/77\n",
      "2025-05-25 22:01:37,355 - INFO - Rendering frame 43/77\n",
      "2025-05-25 22:01:38,427 - INFO - Rendering frame 44/77\n",
      "2025-05-25 22:01:39,480 - INFO - Rendering frame 45/77\n",
      "2025-05-25 22:01:40,527 - INFO - Rendering frame 46/77\n",
      "2025-05-25 22:01:41,569 - INFO - Rendering frame 47/77\n",
      "2025-05-25 22:01:42,608 - INFO - Rendering frame 48/77\n",
      "2025-05-25 22:01:43,660 - INFO - Rendering frame 49/77\n",
      "2025-05-25 22:01:44,759 - INFO - Rendering frame 50/77\n",
      "2025-05-25 22:01:45,810 - INFO - Rendering frame 51/77\n",
      "2025-05-25 22:01:46,855 - INFO - Rendering frame 52/77\n",
      "2025-05-25 22:01:47,910 - INFO - Rendering frame 53/77\n",
      "2025-05-25 22:01:48,960 - INFO - Rendering frame 54/77\n",
      "2025-05-25 22:01:50,018 - INFO - Rendering frame 55/77\n",
      "2025-05-25 22:01:51,047 - INFO - Rendering frame 56/77\n",
      "2025-05-25 22:01:52,102 - INFO - Rendering frame 57/77\n",
      "2025-05-25 22:01:53,153 - INFO - Rendering frame 58/77\n",
      "2025-05-25 22:01:54,204 - INFO - Rendering frame 59/77\n",
      "2025-05-25 22:01:55,257 - INFO - Rendering frame 60/77\n",
      "2025-05-25 22:01:56,285 - INFO - Rendering frame 61/77\n",
      "2025-05-25 22:01:57,331 - INFO - Rendering frame 62/77\n",
      "2025-05-25 22:01:58,369 - INFO - Rendering frame 63/77\n",
      "2025-05-25 22:01:59,400 - INFO - Rendering frame 64/77\n",
      "2025-05-25 22:02:00,441 - INFO - Rendering frame 65/77\n",
      "2025-05-25 22:02:01,479 - INFO - Rendering frame 66/77\n",
      "2025-05-25 22:02:02,518 - INFO - Rendering frame 67/77\n",
      "2025-05-25 22:02:03,573 - INFO - Rendering frame 68/77\n",
      "2025-05-25 22:02:04,608 - INFO - Rendering frame 69/77\n",
      "2025-05-25 22:02:05,643 - INFO - Rendering frame 70/77\n",
      "2025-05-25 22:02:06,698 - INFO - Rendering frame 71/77\n",
      "2025-05-25 22:02:07,739 - INFO - Rendering frame 72/77\n",
      "2025-05-25 22:02:08,774 - INFO - Rendering frame 73/77\n",
      "2025-05-25 22:02:09,807 - INFO - Rendering frame 74/77\n",
      "2025-05-25 22:02:10,848 - INFO - Rendering frame 75/77\n",
      "2025-05-25 22:02:11,887 - INFO - Rendering frame 76/77\n",
      "2025-05-25 22:02:12,934 - INFO - Rendering frame 77/77\n",
      "2025-05-25 22:02:13,975 - INFO - Saving GIF to facility_movement_3D.gif\n",
      "2025-05-25 22:02:14,963 - INFO - GIF successfully saved to facility_movement_3D.gif\n"
     ]
    },
    {
     "data": {
      "text/plain": [
       "'facility_movement_3D.gif'"
      ]
     },
     "execution_count": 15,
     "metadata": {},
     "output_type": "execute_result"
    }
   ],
   "source": [
    "Animator.animate_UAV_FLPO_3D(\n",
    "        START_locs,\n",
    "        END_locs,\n",
    "        Y_arr,\n",
    "        start_altitudes=None,\n",
    "        end_altitudes=None,\n",
    "        facility_heights_list=None,\n",
    "        scene_title=\"UAV Spatial Deployment Over Time\",\n",
    "        output_gif=\"facility_movement_3D.gif\",\n",
    "        frame_duration=100,\n",
    "        render_timeout=30,\n",
    "        camera = (0.3,0.7,2.0)\n",
    "    )"
   ]
  },
  {
   "cell_type": "markdown",
   "metadata": {},
   "source": [
    "### Compare with original FLPO solution"
   ]
  },
  {
   "cell_type": "code",
   "execution_count": 12,
   "metadata": {},
   "outputs": [
    {
     "data": {
      "image/png": "[encoded data removed]",
      "text/plain": [
       "<Figure size 400x300 with 1 Axes>"
      ]
     },
     "metadata": {},
     "output_type": "display_data"
    }
   ],
   "source": [
    "import classFLPO as cf\n",
    "importlib.reload(cf)\n",
    "\n",
    "flpo_filename = 'numpy_FLPO_data/numpy_FLPO_data'\n",
    "flpo = cf.FLPO(flpo_filename, plotFLPO=True, disType='sqeuclidean', selfHop=True)"
   ]
  },
  {
   "cell_type": "code",
   "execution_count": 14,
   "metadata": {},
   "outputs": [],
   "source": [
    "Y0 = flpo.facilityLocations\n",
    "init_guess = Y0.flatten()"
   ]
  },
  {
   "cell_type": "code",
   "execution_count": 15,
   "metadata": {},
   "outputs": [
    {
     "name": "stdout",
     "output_type": "stream",
     "text": [
      "`gtol` termination condition is satisfied.\n",
      "Number of iterations: 158, function evaluations: 7298, CG iterations: 1011, optimality: 5.28e-09, constraint violation: 0.00e+00, execution time:  3.0 s.\n"
     ]
    }
   ],
   "source": [
    "cost, params, time = flpo.optimize_D(init_guess, beta=1e5, method='trust-constr', method_options={'verbose':1})"
   ]
  },
  {
   "cell_type": "code",
   "execution_count": 16,
   "metadata": {},
   "outputs": [
    {
     "data": {
      "image/png": "[encoded data removed]",
      "text/plain": [
       "<Figure size 400x300 with 1 Axes>"
      ]
     },
     "metadata": {},
     "output_type": "display_data"
    },
    {
     "data": {
      "image/png": "[encoded data removed]",
      "text/plain": [
       "<Figure size 400x300 with 1 Axes>"
      ]
     },
     "metadata": {},
     "output_type": "display_data"
    }
   ],
   "source": [
    "flpo.facilityLocations = params.reshape(-1,2)\n",
    "flpo.plotFLPO()\n",
    "ext_facilities = F_base.cpu().squeeze().detach().numpy()\n",
    "flpo.facilityLocations = ext_facilities\n",
    "flpo.plotFLPO()"
   ]
  },
  {
   "cell_type": "code",
   "execution_count": 21,
   "metadata": {},
   "outputs": [
    {
     "name": "stderr",
     "output_type": "stream",
     "text": [
      "c:\\Users\\salar\\AppData\\Local\\Programs\\Python\\Python310\\lib\\site-packages\\scipy\\optimize\\_differentiable_functions.py:231: UserWarning:\n",
      "\n",
      "delta_grad == 0.0. Check if the approximated function is linear. If the function is linear better results can be obtained by defining the Hessian as zero instead of using quasi-Newton approximations.\n",
      "\n"
     ]
    },
    {
     "name": "stdout",
     "output_type": "stream",
     "text": [
      "beta: 3.0000e-03\tFreeE: -59965.7799\n",
      "beta: 9.0000e-03\tFreeE: -19988.4874\n",
      "beta: 2.7000e-02\tFreeE: -6662.7232\n",
      "beta: 8.1000e-02\tFreeE: -2220.8018\n",
      "beta: 2.4300e-01\tFreeE: -740.1614\n",
      "beta: 7.2900e-01\tFreeE: -246.6145\n",
      "beta: 2.1870e+00\tFreeE: -82.0989\n",
      "beta: 6.5610e+00\tFreeE: -27.2604\n",
      "beta: 1.9683e+01\tFreeE: -8.9809\n",
      "beta: 5.9049e+01\tFreeE: -2.8877\n",
      "beta: 1.7715e+02\tFreeE: -0.8567\n",
      "beta: 5.3144e+02\tFreeE: -0.2029\n",
      "beta: 1.5943e+03\tFreeE: -0.0180\n",
      "beta: 4.7830e+03\tFreeE: 0.0258\n",
      "beta: 1.4349e+04\tFreeE: 0.0354\n",
      "beta: 4.3047e+04\tFreeE: 0.0359\n",
      "beta: 1.2914e+05\tFreeE: 0.0354\n"
     ]
    }
   ],
   "source": [
    "beta_o = beta_min\n",
    "params_o = Y0.flatten()\n",
    "b_arr_o = []\n",
    "F_arr_o = []\n",
    "\n",
    "while beta_o <= beta_max:\n",
    "    cost_o, params_o, time = flpo.optimize_D(params_o, beta=beta_o, method='trust-constr', method_options={'verbose':0})\n",
    "    b_arr_o.append(beta_o)\n",
    "    F_arr_o.append(cost_o)\n",
    "\n",
    "    params_o = params_o + 0.01*np.random.uniform(-1,1,params_o.shape)\n",
    "    beta_o = beta_grow * beta_o\n",
    "\n",
    "    print(\n",
    "        f\"beta: {beta_o:.4e}\\tFreeE: {cost_o:.4f}\"\n",
    "    )"
   ]
  },
  {
   "cell_type": "code",
   "execution_count": 22,
   "metadata": {},
   "outputs": [
    {
     "data": {
      "image/png": "[encoded data removed]",
      "text/plain": [
       "<Figure size 400x300 with 1 Axes>"
      ]
     },
     "metadata": {},
     "output_type": "display_data"
    }
   ],
   "source": [
    "flpo.facilityLocations = params_o.reshape(-1,2)\n",
    "flpo.plotFLPO()"
   ]
  },
  {
   "cell_type": "code",
   "execution_count": 74,
   "metadata": {},
   "outputs": [
    {
     "data": {
      "image/png": "[encoded data removed]",
      "text/plain": [
       "<Figure size 1000x300 with 1 Axes>"
      ]
     },
     "metadata": {},
     "output_type": "display_data"
    }
   ],
   "source": [
    "# plot free energy evolution\n",
    "plt.figure(figsize=(10,3))\n",
    "plt.plot(np.log(b_arr_o)/np.log(10), F_arr_o, marker='.')\n",
    "plt.ylabel(rf'$F$')\n",
    "plt.xlabel(rf'$\\log_{{10}}\\beta$')\n",
    "plt.grid()\n",
    "plt.show()"
   ]
  }
 ],
 "metadata": {
  "kernelspec": {
   "display_name": "Python 3",
   "language": "python",
   "name": "python3"
  },
  "language_info": {
   "codemirror_mode": {
    "name": "ipython",
    "version": 3
   },
   "file_extension": ".py",
   "mimetype": "text/x-python",
   "name": "python",
   "nbconvert_exporter": "python",
   "pygments_lexer": "ipython3",
   "version": "3.10.0"
  }
 },
 "nbformat": 4,
 "nbformat_minor": 2
}
