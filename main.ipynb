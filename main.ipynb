{
 "cells": [
  {
   "cell_type": "markdown",
   "metadata": {},
   "source": [
    "# Learning FLPO"
   ]
  },
  {
   "cell_type": "markdown",
   "metadata": {},
   "source": [
    "In this code, we will implement the hierarchical ML architecture to predict the parameters in the FLPO setup."
   ]
  },
  {
   "cell_type": "code",
   "execution_count": 22,
   "metadata": {},
   "outputs": [],
   "source": [
    "import torch\n",
    "from VRP_Net import VRPNet\n",
    "from matplotlib import pyplot as plt\n",
    "from utils import *\n",
    "import os\n",
    "import matplotlib.pyplot as plt\n",
    "from torchinfo import summary\n",
    "import numpy as np"
   ]
  },
  {
   "cell_type": "markdown",
   "metadata": {},
   "source": [
    "# Loading the Data"
   ]
  },
  {
   "cell_type": "code",
   "execution_count": 3,
   "metadata": {},
   "outputs": [
    {
     "name": "stdout",
     "output_type": "stream",
     "text": [
      "Running on:  cpu\n"
     ]
    }
   ],
   "source": [
    "\n",
    "device = torch.device('cuda') if torch.cuda.is_available() else torch.device('cpu')\n",
    "print(\"Running on: \" , device)\n",
    "num_data = 10 # number of FLPO instances\n",
    "num_nodes = 300\n",
    "city_dim = 2\n",
    "data = torch.rand(num_data,num_nodes,city_dim).to(device)\n"
   ]
  },
  {
   "cell_type": "markdown",
   "metadata": {},
   "source": [
    "# Loading the VRP NET Module"
   ]
  },
  {
   "cell_type": "code",
   "execution_count": 4,
   "metadata": {},
   "outputs": [
    {
     "name": "stdout",
     "output_type": "stream",
     "text": [
      "VRP NET loaded.\n",
      "===============================================================================================\n",
      "Layer (type:depth-idx)                                                 Param #\n",
      "===============================================================================================\n",
      "VRPNet                                                                 --\n",
      "├─Encoder: 1-1                                                         --\n",
      "│    └─Linear: 2-1                                                     384\n",
      "│    └─PositionalEncoding: 2-2                                         --\n",
      "│    └─TransformerEncoder: 2-3                                         --\n",
      "│    │    └─ModuleList: 3-1                                            594,816\n",
      "├─Decoder: 1-2                                                         --\n",
      "│    └─TransformerDecoder: 2-4                                         --\n",
      "│    │    └─ModuleList: 3-2                                            793,728\n",
      "├─PositionalEncoding: 1-3                                              --\n",
      "===============================================================================================\n",
      "Total params: 1,388,928\n",
      "Trainable params: 1,388,928\n",
      "Non-trainable params: 0\n",
      "===============================================================================================\n"
     ]
    }
   ],
   "source": [
    "hidden_dim = 128\n",
    "num_layers = 3\n",
    "num_heads = 8\n",
    "input_dim = 2\n",
    "num_samples = 1 # for inference\n",
    "vrpnet = VRPNet(input_dim,hidden_dim,device,num_heads=num_heads,num_enc_layers=num_layers,num_dec_layers=num_layers,use_PE=False)\n",
    "vrpnet.load_state_dict(torch.load('Saved models/POMO2025_03_12 11_03_550.8357473611831665best_model.pth', map_location=torch.device('cpu')))#,weights_only=False))\n",
    "vrpnet.eval()\n",
    "print('VRP NET loaded.')\n",
    "print(summary(vrpnet))"
   ]
  },
  {
   "cell_type": "markdown",
   "metadata": {},
   "source": [
    "# Generating d_min"
   ]
  },
  {
   "cell_type": "code",
   "execution_count": 41,
   "metadata": {},
   "outputs": [
    {
     "name": "stdout",
     "output_type": "stream",
     "text": [
      "d_mins for all data are:  [1.14406991 0.23387909 3.43245983 3.16379023 0.69467258 1.39792514\n",
      " 0.2698549  0.63388622 1.13957238 3.38033271]\n"
     ]
    }
   ],
   "source": [
    "all_samples = torch.zeros(num_data, num_nodes, num_samples).to(device)\n",
    "for i in range(num_samples):\n",
    "    _, actions = vrpnet(data, mod='train')\n",
    "    all_samples[:,:,i:i+1] = actions\n",
    "opt_sample_indices = []\n",
    "d_mins = np.zeros(num_data)\n",
    "for data_idx in range(num_data):\n",
    "    costs_for_data = [route_cost(data[data_idx:data_idx+1], all_samples[data_idx:data_idx+1, :, sample_idx]) for sample_idx in range(num_samples)]\n",
    "    costs_tensor = torch.tensor(costs_for_data)\n",
    "    d_min, opt_sample_index = torch.min(costs_tensor, dim=0)  \n",
    "    opt_sample_indices.append(opt_sample_index.item())\n",
    "    d_mins[data_idx] = d_min\n",
    "opt_sample_indices = torch.tensor(opt_sample_indices)\n",
    "actions = all_samples[torch.arange(num_data),:,opt_sample_indices]\n",
    "print(\"d_mins for all data are: \",d_mins)"
   ]
  },
  {
   "cell_type": "markdown",
   "metadata": {},
   "source": [
    "# Loading Free Energy Network"
   ]
  },
  {
   "cell_type": "markdown",
   "metadata": {},
   "source": [
    "Dhananjay's code for loading his DNN is here. The output of this block should be Y."
   ]
  },
  {
   "cell_type": "code",
   "execution_count": 17,
   "metadata": {},
   "outputs": [
    {
     "name": "stdout",
     "output_type": "stream",
     "text": [
      "n_inputs:3\tn_outputs:1\tlayers:[20, 10]\n",
      "lse_net:\n",
      "dnn(\n",
      "  (layers): ModuleList(\n",
      "    (0): Linear(in_features=3, out_features=20, bias=True)\n",
      "    (1): ReLU()\n",
      "    (2): Linear(in_features=20, out_features=10, bias=True)\n",
      "    (3): ReLU()\n",
      "    (4): Linear(in_features=10, out_features=1, bias=True)\n",
      "  )\n",
      ")\n"
     ]
    }
   ],
   "source": [
    "import LSE_net\n",
    "lse_data = torch.load('LSE_models/lse_2543_1624.pth')\n",
    "n_inputs = lse_data['n_inputs']\n",
    "n_outputs = lse_data['n_outputs']\n",
    "layers = lse_data['layers']\n",
    "weights = lse_data['model_state_dict']\n",
    "lse_net = LSE_net.dnn(n_inputs, n_outputs, layers)\n",
    "lse_net.load_state_dict(weights)\n",
    "print(f'n_inputs:{n_inputs}\\tn_outputs:{n_outputs}\\tlayers:{layers}\\nlse_net:\\n{lse_net}')"
   ]
  },
  {
   "cell_type": "markdown",
   "metadata": {},
   "source": [
    "# Calculating Free Energy"
   ]
  },
  {
   "cell_type": "markdown",
   "metadata": {},
   "source": [
    "Feeding the d_min from Salar Block to get the Free energy"
   ]
  },
  {
   "cell_type": "code",
   "execution_count": 42,
   "metadata": {},
   "outputs": [
    {
     "data": {
      "text/plain": [
       "array([1.14406991, 0.23387909, 3.43245983, 3.16379023, 0.69467258,\n",
       "       1.39792514, 0.2698549 , 0.63388622, 1.13957238, 3.38033271])"
      ]
     },
     "execution_count": 42,
     "metadata": {},
     "output_type": "execute_result"
    }
   ],
   "source": [
    "d_mins"
   ]
  },
  {
   "cell_type": "code",
   "execution_count": 84,
   "metadata": {},
   "outputs": [],
   "source": [
    "b_arr = lse_data['b_arr']\n",
    "len_Darray = lse_data['len_Darray']\n",
    "io_scale = lse_data['io_scale']\n",
    "b_min = b_arr[0]\n",
    "b_max = b_arr[-1]\n",
    "d_min_random = np.random.choice(d_mins, 1)[0]\n",
    "st = 0\n",
    "In = torch.tensor([[-io_scale/b_min*np.log(len_Darray), io_scale*d_min_random, b] for b in b_arr], dtype=torch.float32)[st:]\n",
    "Out = lse_net(In)"
   ]
  },
  {
   "cell_type": "code",
   "execution_count": 85,
   "metadata": {},
   "outputs": [
    {
     "data": {
      "image/png": "[encoded data removed]",
      "text/plain": [
       "<Figure size 640x480 with 1 Axes>"
      ]
     },
     "metadata": {},
     "output_type": "display_data"
    }
   ],
   "source": [
    "Out_numpy = Out.view(-1).detach().numpy()/io_scale\n",
    "plt.plot(Out_numpy)\n",
    "plt.plot(d_min_random*np.ones(Out_numpy.shape))\n",
    "plt.show()"
   ]
  },
  {
   "cell_type": "markdown",
   "metadata": {},
   "source": [
    "# Calculating the gradients"
   ]
  },
  {
   "cell_type": "markdown",
   "metadata": {},
   "source": [
    "The output of this block shoud be dF/dy"
   ]
  },
  {
   "cell_type": "markdown",
   "metadata": {},
   "source": [
    "# Running CLF to determin Y"
   ]
  },
  {
   "cell_type": "markdown",
   "metadata": {},
   "source": [
    "The GD code here"
   ]
  },
  {
   "cell_type": "markdown",
   "metadata": {},
   "source": [
    "# Closing the Beta Loop for Annealing"
   ]
  },
  {
   "cell_type": "markdown",
   "metadata": {},
   "source": []
  }
 ],
 "metadata": {
  "kernelspec": {
   "display_name": "Python 3",
   "language": "python",
   "name": "python3"
  },
  "language_info": {
   "codemirror_mode": {
    "name": "ipython",
    "version": 3
   },
   "file_extension": ".py",
   "mimetype": "text/x-python",
   "name": "python",
   "nbconvert_exporter": "python",
   "pygments_lexer": "ipython3",
   "version": "3.9.6"
  }
 },
 "nbformat": 4,
 "nbformat_minor": 2
}
