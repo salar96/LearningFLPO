{
 "cells": [
  {
   "cell_type": "markdown",
   "metadata": {},
   "source": [
    "# Learning FLPO"
   ]
  },
  {
   "cell_type": "markdown",
   "metadata": {},
   "source": [
    "In this code, we will implement the hierarchical ML architecture to predict the parameters in the FLPO setup."
   ]
  },
  {
   "cell_type": "code",
   "execution_count": 2,
   "metadata": {},
   "outputs": [],
   "source": [
    "import torch\n",
    "from VRP_Net_L import VRPNet_L\n",
    "from matplotlib import pyplot as plt\n",
    "import utils\n",
    "import os\n",
    "import matplotlib.pyplot as plt\n",
    "from torchinfo import summary\n",
    "import numpy as np\n",
    "import time\n",
    "import LSE_net\n",
    "from torch import optim\n",
    "import importlib"
   ]
  },
  {
   "cell_type": "markdown",
   "metadata": {},
   "source": [
    "# Loading the Data"
   ]
  },
  {
   "cell_type": "code",
   "execution_count": 3,
   "metadata": {},
   "outputs": [
    {
     "data": {
      "text/plain": [
       "tensor([0.2545, 0.3607])"
      ]
     },
     "execution_count": 3,
     "metadata": {},
     "output_type": "execute_result"
    }
   ],
   "source": [
    "torch.normal(mean=torch.tensor([0.3,0.3]), std=torch.tensor([0.1,0.1]))"
   ]
  },
  {
   "cell_type": "code",
   "execution_count": 4,
   "metadata": {},
   "outputs": [
    {
     "name": "stdout",
     "output_type": "stream",
     "text": [
      "Running on:  cpu\n",
      "Data Loaded.\n"
     ]
    }
   ],
   "source": [
    "\n",
    "seed=42;\n",
    "torch.manual_seed(seed)\n",
    "torch.cuda.manual_seed(seed)\n",
    "torch.cuda.manual_seed_all(seed)\n",
    "device = torch.device('cuda') if torch.cuda.is_available() else torch.device('cpu')\n",
    "print(\"Running on: \" , device)\n",
    "num_drones = 100 # number of FLPO instances\n",
    "num_facilities = 4\n",
    "dim_ = 2\n",
    "# START and END locations: no grads needed\n",
    "nd_per_cluster = int(num_drones/2)\n",
    "means1 = torch.tensor([[0.4,0.7]]).repeat(nd_per_cluster,1).unsqueeze(1).to(device)\n",
    "std1 = torch.tensor([[0.05,0.05]]).repeat(nd_per_cluster,1).unsqueeze(1).to(device)\n",
    "means2 = torch.tensor([[0.7,0.3]]).repeat(nd_per_cluster,1).unsqueeze(1).to(device)\n",
    "std2 = torch.tensor([[0.05,0.05]]).repeat(nd_per_cluster,1).unsqueeze(1).to(device)\n",
    "START_locs1 = torch.normal(mean=means1, std=std1)\n",
    "START_locs2 = torch.normal(mean=means2, std=std2)\n",
    "START_locs = torch.cat((START_locs1, START_locs2), axis=0)\n",
    "END_locs   = torch.ones((num_drones, 1, dim_), requires_grad=False, device=device)#torch.rand(num_drones, 1, dim_, requires_grad=False, device=device)\n",
    "\n",
    "# Facility locations: we want grads here\n",
    "# We create a base tensor with requires_grad=True, then expand it\n",
    "# F_base = torch.rand(1, num_facilities, dim_, requires_grad=True, device=device)\n",
    "F_base = torch.mean(START_locs, dim=0).repeat(num_facilities, 1).unsqueeze(0).requires_grad_().to(device)\n",
    "F_locs = F_base.expand(num_drones, -1, -1)  # view, shares grad with F_base\n",
    "data = torch.cat((START_locs, F_locs, END_locs), dim=1)  # shape: (Nd, Nf+2, D)\n",
    "print(\"Data Loaded.\")\n"
   ]
  },
  {
   "cell_type": "markdown",
   "metadata": {},
   "source": [
    "### Compute n_routes from each drone"
   ]
  },
  {
   "cell_type": "code",
   "execution_count": 5,
   "metadata": {},
   "outputs": [
    {
     "name": "stdout",
     "output_type": "stream",
     "text": [
      "n_routes:\ttorch.Size([100, 1])\n",
      "tensor([[341.],\n",
      "        [341.],\n",
      "        [341.],\n",
      "        [341.],\n",
      "        [341.],\n",
      "        [341.],\n",
      "        [341.],\n",
      "        [341.],\n",
      "        [341.],\n",
      "        [341.],\n",
      "        [341.],\n",
      "        [341.],\n",
      "        [341.],\n",
      "        [341.],\n",
      "        [341.],\n",
      "        [341.],\n",
      "        [341.],\n",
      "        [341.],\n",
      "        [341.],\n",
      "        [341.],\n",
      "        [341.],\n",
      "        [341.],\n",
      "        [341.],\n",
      "        [341.],\n",
      "        [341.],\n",
      "        [341.],\n",
      "        [341.],\n",
      "        [341.],\n",
      "        [341.],\n",
      "        [341.],\n",
      "        [341.],\n",
      "        [341.],\n",
      "        [341.],\n",
      "        [341.],\n",
      "        [341.],\n",
      "        [341.],\n",
      "        [341.],\n",
      "        [341.],\n",
      "        [341.],\n",
      "        [341.],\n",
      "        [341.],\n",
      "        [341.],\n",
      "        [341.],\n",
      "        [341.],\n",
      "        [341.],\n",
      "        [341.],\n",
      "        [341.],\n",
      "        [341.],\n",
      "        [341.],\n",
      "        [341.],\n",
      "        [341.],\n",
      "        [341.],\n",
      "        [341.],\n",
      "        [341.],\n",
      "        [341.],\n",
      "        [341.],\n",
      "        [341.],\n",
      "        [341.],\n",
      "        [341.],\n",
      "        [341.],\n",
      "        [341.],\n",
      "        [341.],\n",
      "        [341.],\n",
      "        [341.],\n",
      "        [341.],\n",
      "        [341.],\n",
      "        [341.],\n",
      "        [341.],\n",
      "        [341.],\n",
      "        [341.],\n",
      "        [341.],\n",
      "        [341.],\n",
      "        [341.],\n",
      "        [341.],\n",
      "        [341.],\n",
      "        [341.],\n",
      "        [341.],\n",
      "        [341.],\n",
      "        [341.],\n",
      "        [341.],\n",
      "        [341.],\n",
      "        [341.],\n",
      "        [341.],\n",
      "        [341.],\n",
      "        [341.],\n",
      "        [341.],\n",
      "        [341.],\n",
      "        [341.],\n",
      "        [341.],\n",
      "        [341.],\n",
      "        [341.],\n",
      "        [341.],\n",
      "        [341.],\n",
      "        [341.],\n",
      "        [341.],\n",
      "        [341.],\n",
      "        [341.],\n",
      "        [341.],\n",
      "        [341.],\n",
      "        [341.]])\n",
      "log_n_routes:\ttorch.Size([100, 1])\n",
      "tensor([[5.8319],\n",
      "        [5.8319],\n",
      "        [5.8319],\n",
      "        [5.8319],\n",
      "        [5.8319],\n",
      "        [5.8319],\n",
      "        [5.8319],\n",
      "        [5.8319],\n",
      "        [5.8319],\n",
      "        [5.8319],\n",
      "        [5.8319],\n",
      "        [5.8319],\n",
      "        [5.8319],\n",
      "        [5.8319],\n",
      "        [5.8319],\n",
      "        [5.8319],\n",
      "        [5.8319],\n",
      "        [5.8319],\n",
      "        [5.8319],\n",
      "        [5.8319],\n",
      "        [5.8319],\n",
      "        [5.8319],\n",
      "        [5.8319],\n",
      "        [5.8319],\n",
      "        [5.8319],\n",
      "        [5.8319],\n",
      "        [5.8319],\n",
      "        [5.8319],\n",
      "        [5.8319],\n",
      "        [5.8319],\n",
      "        [5.8319],\n",
      "        [5.8319],\n",
      "        [5.8319],\n",
      "        [5.8319],\n",
      "        [5.8319],\n",
      "        [5.8319],\n",
      "        [5.8319],\n",
      "        [5.8319],\n",
      "        [5.8319],\n",
      "        [5.8319],\n",
      "        [5.8319],\n",
      "        [5.8319],\n",
      "        [5.8319],\n",
      "        [5.8319],\n",
      "        [5.8319],\n",
      "        [5.8319],\n",
      "        [5.8319],\n",
      "        [5.8319],\n",
      "        [5.8319],\n",
      "        [5.8319],\n",
      "        [5.8319],\n",
      "        [5.8319],\n",
      "        [5.8319],\n",
      "        [5.8319],\n",
      "        [5.8319],\n",
      "        [5.8319],\n",
      "        [5.8319],\n",
      "        [5.8319],\n",
      "        [5.8319],\n",
      "        [5.8319],\n",
      "        [5.8319],\n",
      "        [5.8319],\n",
      "        [5.8319],\n",
      "        [5.8319],\n",
      "        [5.8319],\n",
      "        [5.8319],\n",
      "        [5.8319],\n",
      "        [5.8319],\n",
      "        [5.8319],\n",
      "        [5.8319],\n",
      "        [5.8319],\n",
      "        [5.8319],\n",
      "        [5.8319],\n",
      "        [5.8319],\n",
      "        [5.8319],\n",
      "        [5.8319],\n",
      "        [5.8319],\n",
      "        [5.8319],\n",
      "        [5.8319],\n",
      "        [5.8319],\n",
      "        [5.8319],\n",
      "        [5.8319],\n",
      "        [5.8319],\n",
      "        [5.8319],\n",
      "        [5.8319],\n",
      "        [5.8319],\n",
      "        [5.8319],\n",
      "        [5.8319],\n",
      "        [5.8319],\n",
      "        [5.8319],\n",
      "        [5.8319],\n",
      "        [5.8319],\n",
      "        [5.8319],\n",
      "        [5.8319],\n",
      "        [5.8319],\n",
      "        [5.8319],\n",
      "        [5.8319],\n",
      "        [5.8319],\n",
      "        [5.8319],\n",
      "        [5.8319]])\n"
     ]
    }
   ],
   "source": [
    "importlib.reload(utils)\n",
    "n_drone_routes = torch.tensor(utils.num_flpo_routes(num_facilities, num_drones)[0], dtype=torch.float32).view(-1,1).to(device)\n",
    "print(f\"n_routes:\\t{n_drone_routes.shape}\\n{n_drone_routes}\\nlog_n_routes:\\t{n_drone_routes.shape}\\n{torch.log(n_drone_routes)}\")"
   ]
  },
  {
   "cell_type": "markdown",
   "metadata": {},
   "source": [
    "# Loading the VRP NET Module"
   ]
  },
  {
   "cell_type": "code",
   "execution_count": 6,
   "metadata": {},
   "outputs": [
    {
     "name": "stdout",
     "output_type": "stream",
     "text": [
      "VRP NET loaded on:  cpu\n",
      "===============================================================================================\n",
      "Layer (type:depth-idx)                                                 Param #\n",
      "===============================================================================================\n",
      "VRPNet_L                                                               --\n",
      "├─LinearAttnEncoder: 1-1                                               2,560\n",
      "│    └─MultiheadAttention: 2-1                                         197,376\n",
      "│    │    └─NonDynamicallyQuantizableLinear: 3-1                       65,792\n",
      "│    └─Linear: 2-2                                                     768\n",
      "│    └─Linear: 2-3                                                     8,224\n",
      "│    └─LayerNorm: 2-4                                                  512\n",
      "│    └─Dropout: 2-5                                                    --\n",
      "│    └─ReLU: 2-6                                                       --\n",
      "├─Decoder: 1-2                                                         --\n",
      "│    └─TransformerDecoder: 2-7                                         --\n",
      "│    │    └─ModuleList: 3-2                                            16,992\n",
      "├─PositionalEncoding: 1-3                                              --\n",
      "===============================================================================================\n",
      "Total params: 292,224\n",
      "Trainable params: 292,224\n",
      "Non-trainable params: 0\n",
      "===============================================================================================\n"
     ]
    }
   ],
   "source": [
    "hidden_dim = 32\n",
    "num_layers_enc = 1\n",
    "num_layers_dec = 1\n",
    "num_heads = 8\n",
    "torch.cuda.empty_cache()\n",
    "vrp_net = VRPNet_L(dim_, hidden_dim, device, num_layers_enc, num_layers_dec, num_heads)\n",
    "if torch.cuda.is_available():\n",
    "    vrp_net.load_state_dict(torch.load('Saved models/POMO2025_04_12 00_54_260.6350972652435303best_model.pth',weights_only=True))\n",
    "else:\n",
    "    vrp_net.load_state_dict(torch.load('Saved models/POMO2025_04_12 00_54_260.6350972652435303best_model.pth',weights_only=False, map_location=torch.device('cpu')))\n",
    "vrp_net.eval()\n",
    "\n",
    "# for param in vrp_net.parameters():\n",
    "#     param.requires_grad = False\n",
    "print('VRP NET loaded on: ',vrp_net.device)\n",
    "print(summary(vrp_net))"
   ]
  },
  {
   "cell_type": "markdown",
   "metadata": {},
   "source": [
    "# Loading lseNet"
   ]
  },
  {
   "cell_type": "code",
   "execution_count": 14,
   "metadata": {},
   "outputs": [
    {
     "name": "stdout",
     "output_type": "stream",
     "text": [
      "n_inputs: 3\n",
      "n_outputs: 1\n",
      "layers: [20, 20, 10]\n",
      "io_scale: 1\n",
      "LSE_net:\n",
      "=================================================================\n",
      "Layer (type:depth-idx)                   Param #\n",
      "=================================================================\n",
      "dnn                                      --\n",
      "├─ModuleList: 1-1                        --\n",
      "│    └─Linear: 2-1                       (80)\n",
      "│    └─ReLU: 2-2                         --\n",
      "│    └─Linear: 2-3                       (420)\n",
      "│    └─ReLU: 2-4                         --\n",
      "│    └─Linear: 2-5                       (210)\n",
      "│    └─ReLU: 2-6                         --\n",
      "│    └─Linear: 2-7                       (11)\n",
      "=================================================================\n",
      "Total params: 721\n",
      "Trainable params: 0\n",
      "Non-trainable params: 721\n",
      "=================================================================\n"
     ]
    }
   ],
   "source": [
    "importlib.reload(LSE_net)\n",
    "lse_data = torch.load('logSumExp_models/lse_2025_4_30__14_6_10.pth', weights_only=False)\n",
    "n_inputs = lse_data['n_inputs']\n",
    "n_outputs = lse_data['n_outputs']\n",
    "layers = lse_data['layers']\n",
    "weights = lse_data['model_state_dict']\n",
    "io_scale = lse_data['io_scale']\n",
    "lse_net = LSE_net.dnn(n_inputs, n_outputs, layers)\n",
    "lse_net.to(device)\n",
    "lse_net.load_state_dict(weights)\n",
    "lse_net.eval()\n",
    "for p in lse_net.parameters():\n",
    "    p.requires_grad = False\n",
    "print(f'n_inputs: {n_inputs}\\nn_outputs: {n_outputs}\\nlayers: {layers}\\nio_scale: {io_scale}\\nLSE_net:\\n{summary(lse_net)}')"
   ]
  },
  {
   "cell_type": "code",
   "execution_count": 8,
   "metadata": {},
   "outputs": [
    {
     "data": {
      "text/plain": [
       "torch.Size([2])"
      ]
     },
     "execution_count": 8,
     "metadata": {},
     "output_type": "execute_result"
    }
   ],
   "source": [
    "torch.tensor([10,10]).shape"
   ]
  },
  {
   "cell_type": "code",
   "execution_count": 15,
   "metadata": {},
   "outputs": [],
   "source": [
    "def logSumExp(D_tensor, beta):\n",
    "    # with torch.no_grad():\n",
    "    # print(D_tensor)\n",
    "    D_min = torch.min(D_tensor, axis=1, keepdims=True)\n",
    "    F = -1/beta * torch.log(torch.sum(torch.exp(-beta*(D_tensor - D_min.values)), axis=1, keepdims=True)) + 1/beta * torch.log(torch.tensor([D_tensor.shape[1]])) + D_min.values\n",
    "    return F\n",
    "\n",
    "def area_approx_F(D_min, D_max_range, N_D, beta):\n",
    "    min_beta_D_arr = beta * D_min\n",
    "    x_max = beta * D_max_range - min_beta_D_arr\n",
    "    F_est = -1/beta * np.log(N_D/x_max * (1 - np.exp(-x_max))) + D_min + 1/beta * np.log(N_D)\n",
    "    return F_est"
   ]
  },
  {
   "cell_type": "markdown",
   "metadata": {},
   "source": [
    "### Pick a random variable matrix with iid entries of shape shape (a,b) between [r1, r2] at uniform using pytorch"
   ]
  },
  {
   "cell_type": "code",
   "execution_count": 10,
   "metadata": {},
   "outputs": [],
   "source": [
    "# a = 3\n",
    "# b = 2\n",
    "# r1 = 0.5\n",
    "# r2 = 10.0\n",
    "# (r1 - r2) * torch.rand(a,b) + r2"
   ]
  },
  {
   "cell_type": "code",
   "execution_count": 11,
   "metadata": {},
   "outputs": [],
   "source": [
    "s = time.time()\n",
    "with torch.no_grad():\n",
    "    # forward pass: no activations are saved for grad\n",
    "    _, actions = vrp_net(data, mod='eval_greedy')\n",
    "e = time.time()\n",
    "actions.detach()\n",
    "d_mins = utils.route_cost(data, actions)\n"
   ]
  },
  {
   "cell_type": "code",
   "execution_count": 12,
   "metadata": {},
   "outputs": [
    {
     "data": {
      "text/plain": [
       "tensor([[0.5197],\n",
       "        [0.4645],\n",
       "        [0.4761],\n",
       "        [0.4811],\n",
       "        [0.5550],\n",
       "        [0.4888],\n",
       "        [0.5065],\n",
       "        [0.5331],\n",
       "        [0.4845],\n",
       "        [0.5212],\n",
       "        [0.5403],\n",
       "        [0.5335],\n",
       "        [0.5189],\n",
       "        [0.5264],\n",
       "        [0.5088],\n",
       "        [0.5265],\n",
       "        [0.5147],\n",
       "        [0.5479],\n",
       "        [0.4925],\n",
       "        [0.4871],\n",
       "        [0.5546],\n",
       "        [0.5087],\n",
       "        [0.5787],\n",
       "        [0.5175],\n",
       "        [0.5084],\n",
       "        [0.5141],\n",
       "        [0.5384],\n",
       "        [0.5053],\n",
       "        [0.5305],\n",
       "        [0.5194],\n",
       "        [0.5495],\n",
       "        [0.5563],\n",
       "        [0.5069],\n",
       "        [0.4953],\n",
       "        [0.4961],\n",
       "        [0.5510],\n",
       "        [0.5177],\n",
       "        [0.5123],\n",
       "        [0.4858],\n",
       "        [0.5358],\n",
       "        [0.4982],\n",
       "        [0.5182],\n",
       "        [0.5082],\n",
       "        [0.4838],\n",
       "        [0.5272],\n",
       "        [0.4954],\n",
       "        [0.5291],\n",
       "        [0.4990],\n",
       "        [0.5236],\n",
       "        [0.5124],\n",
       "        [0.5260],\n",
       "        [0.4993],\n",
       "        [0.6023],\n",
       "        [0.5409],\n",
       "        [0.5285],\n",
       "        [0.5196],\n",
       "        [0.4973],\n",
       "        [0.5195],\n",
       "        [0.4857],\n",
       "        [0.5153],\n",
       "        [0.5114],\n",
       "        [0.5010],\n",
       "        [0.4909],\n",
       "        [0.4936],\n",
       "        [0.5198],\n",
       "        [0.5110],\n",
       "        [0.5242],\n",
       "        [0.5032],\n",
       "        [0.5798],\n",
       "        [0.4831],\n",
       "        [0.5015],\n",
       "        [0.4850],\n",
       "        [0.5181],\n",
       "        [0.4986],\n",
       "        [0.5367],\n",
       "        [0.5441],\n",
       "        [0.5394],\n",
       "        [0.5047],\n",
       "        [0.4829],\n",
       "        [0.4966],\n",
       "        [0.5988],\n",
       "        [0.5041],\n",
       "        [0.5428],\n",
       "        [0.5126],\n",
       "        [0.5015],\n",
       "        [0.5162],\n",
       "        [0.5916],\n",
       "        [0.5139],\n",
       "        [0.5140],\n",
       "        [0.5103],\n",
       "        [0.4934],\n",
       "        [0.4995],\n",
       "        [0.5116],\n",
       "        [0.5744],\n",
       "        [0.4893],\n",
       "        [0.5132],\n",
       "        [0.5348],\n",
       "        [0.5195],\n",
       "        [0.5222],\n",
       "        [0.5392]], grad_fn=<ViewBackward0>)"
      ]
     },
     "execution_count": 12,
     "metadata": {},
     "output_type": "execute_result"
    }
   ],
   "source": [
    "d_mins.view(-1,1)"
   ]
  },
  {
   "cell_type": "code",
   "execution_count": 13,
   "metadata": {},
   "outputs": [
    {
     "data": {
      "text/plain": [
       "tensor([[0.7677],\n",
       "        [0.7311],\n",
       "        [0.7429],\n",
       "        [0.7362],\n",
       "        [0.7811],\n",
       "        [0.7370],\n",
       "        [0.7528],\n",
       "        [0.7598],\n",
       "        [0.7268],\n",
       "        [0.7637],\n",
       "        [0.7753],\n",
       "        [0.7720],\n",
       "        [0.7421],\n",
       "        [0.7562],\n",
       "        [0.7546],\n",
       "        [0.7651],\n",
       "        [0.7506],\n",
       "        [0.7912],\n",
       "        [0.7503],\n",
       "        [0.7412],\n",
       "        [0.7703],\n",
       "        [0.7519],\n",
       "        [0.7924],\n",
       "        [0.7640],\n",
       "        [0.7670],\n",
       "        [0.7620],\n",
       "        [0.7836],\n",
       "        [0.7446],\n",
       "        [0.7592],\n",
       "        [0.7684],\n",
       "        [0.7684],\n",
       "        [0.7789],\n",
       "        [0.7503],\n",
       "        [0.7495],\n",
       "        [0.7580],\n",
       "        [0.7746],\n",
       "        [0.7535],\n",
       "        [0.7667],\n",
       "        [0.7448],\n",
       "        [0.7630],\n",
       "        [0.7456],\n",
       "        [0.7657],\n",
       "        [0.7638],\n",
       "        [0.7454],\n",
       "        [0.7619],\n",
       "        [0.7518],\n",
       "        [0.7696],\n",
       "        [0.7615],\n",
       "        [0.7580],\n",
       "        [0.7556],\n",
       "        [0.7644],\n",
       "        [0.7427],\n",
       "        [0.7986],\n",
       "        [0.7803],\n",
       "        [0.7564],\n",
       "        [0.7581],\n",
       "        [0.7369],\n",
       "        [0.7610],\n",
       "        [0.7400],\n",
       "        [0.7703],\n",
       "        [0.7555],\n",
       "        [0.7529],\n",
       "        [0.7449],\n",
       "        [0.7515],\n",
       "        [0.7668],\n",
       "        [0.7464],\n",
       "        [0.7660],\n",
       "        [0.7458],\n",
       "        [0.7826],\n",
       "        [0.7534],\n",
       "        [0.7439],\n",
       "        [0.7327],\n",
       "        [0.7725],\n",
       "        [0.7370],\n",
       "        [0.7597],\n",
       "        [0.7789],\n",
       "        [0.7664],\n",
       "        [0.7596],\n",
       "        [0.7489],\n",
       "        [0.7391],\n",
       "        [0.7982],\n",
       "        [0.7466],\n",
       "        [0.7637],\n",
       "        [0.7474],\n",
       "        [0.7561],\n",
       "        [0.7588],\n",
       "        [0.8066],\n",
       "        [0.7565],\n",
       "        [0.7604],\n",
       "        [0.7491],\n",
       "        [0.7367],\n",
       "        [0.7435],\n",
       "        [0.7473],\n",
       "        [0.7898],\n",
       "        [0.7472],\n",
       "        [0.7489],\n",
       "        [0.7697],\n",
       "        [0.7666],\n",
       "        [0.7452],\n",
       "        [0.7739]])"
      ]
     },
     "execution_count": 13,
     "metadata": {},
     "output_type": "execute_result"
    }
   ],
   "source": [
    "with torch.no_grad():\n",
    "    D_tensor = (d_mins.view(-1,1) - 1.0) * torch.rand(num_drones, int(n_drone_routes[0,0])) + 1.0\n",
    "    F_tensor = logSumExp(D_tensor, beta=1e-4)\n",
    "F_tensor \n"
   ]
  },
  {
   "cell_type": "code",
   "execution_count": 16,
   "metadata": {},
   "outputs": [
    {
     "ename": "RuntimeError",
     "evalue": "Can't call numpy() on Tensor that requires grad. Use tensor.detach().numpy() instead.",
     "output_type": "error",
     "traceback": [
      "\u001b[0;31m---------------------------------------------------------------------------\u001b[0m",
      "\u001b[0;31mRuntimeError\u001b[0m                              Traceback (most recent call last)",
      "Cell \u001b[0;32mIn[16], line 21\u001b[0m\n\u001b[1;32m     18\u001b[0m d_mins \u001b[38;5;241m=\u001b[39m utils\u001b[38;5;241m.\u001b[39mroute_cost(data, actions)[drone_id:drone_id\u001b[38;5;241m+\u001b[39m\u001b[38;5;241m1\u001b[39m]\n\u001b[1;32m     19\u001b[0m \u001b[38;5;66;03m# d_array_est = (d_mins - 1.0) * torch.rand(1,int(n_drone_routes[drone_id,0])) + 1.0\u001b[39;00m\n\u001b[1;32m     20\u001b[0m \u001b[38;5;66;03m# Fmin_est = logSumExp(d_array_est, b_min)\u001b[39;00m\n\u001b[0;32m---> 21\u001b[0m Fmin_est \u001b[38;5;241m=\u001b[39m \u001b[43marea_approx_F\u001b[49m\u001b[43m(\u001b[49m\u001b[43md_mins\u001b[49m\u001b[43m,\u001b[49m\u001b[43m \u001b[49m\u001b[43mD_max_range\u001b[49m\u001b[38;5;241;43m=\u001b[39;49m\u001b[38;5;241;43m1.0\u001b[39;49m\u001b[43m,\u001b[49m\u001b[43m \u001b[49m\u001b[43mN_D\u001b[49m\u001b[38;5;241;43m=\u001b[39;49m\u001b[38;5;28;43mint\u001b[39;49m\u001b[43m(\u001b[49m\u001b[43mn_drone_routes\u001b[49m\u001b[43m[\u001b[49m\u001b[43mdrone_id\u001b[49m\u001b[43m,\u001b[49m\u001b[38;5;241;43m0\u001b[39;49m\u001b[43m]\u001b[49m\u001b[43m)\u001b[49m\u001b[43m,\u001b[49m\u001b[43m \u001b[49m\u001b[43mbeta\u001b[49m\u001b[38;5;241;43m=\u001b[39;49m\u001b[43mb_min\u001b[49m\u001b[43m)\u001b[49m\n\u001b[1;32m     22\u001b[0m \u001b[38;5;28mprint\u001b[39m(Fmin_est)\n\u001b[1;32m     23\u001b[0m \u001b[38;5;66;03m# beta=b_min\u001b[39;00m\n\u001b[1;32m     24\u001b[0m \u001b[38;5;66;03m# for beta in b_array:\u001b[39;00m\n\u001b[1;32m     25\u001b[0m \n\u001b[0;32m   (...)\u001b[0m\n\u001b[1;32m     47\u001b[0m \u001b[38;5;66;03m# plt.grid()\u001b[39;00m\n\u001b[1;32m     48\u001b[0m \u001b[38;5;66;03m# plt.show()\u001b[39;00m\n",
      "Cell \u001b[0;32mIn[15], line 11\u001b[0m, in \u001b[0;36marea_approx_F\u001b[0;34m(D_min, D_max_range, N_D, beta)\u001b[0m\n\u001b[1;32m      9\u001b[0m min_beta_D_arr \u001b[38;5;241m=\u001b[39m beta \u001b[38;5;241m*\u001b[39m D_min\n\u001b[1;32m     10\u001b[0m x_max \u001b[38;5;241m=\u001b[39m beta \u001b[38;5;241m*\u001b[39m D_max_range \u001b[38;5;241m-\u001b[39m min_beta_D_arr\n\u001b[0;32m---> 11\u001b[0m F_est \u001b[38;5;241m=\u001b[39m \u001b[38;5;241m-\u001b[39m\u001b[38;5;241m1\u001b[39m\u001b[38;5;241m/\u001b[39mbeta \u001b[38;5;241m*\u001b[39m np\u001b[38;5;241m.\u001b[39mlog(N_D\u001b[38;5;241m/\u001b[39mx_max \u001b[38;5;241m*\u001b[39m (\u001b[38;5;241m1\u001b[39m \u001b[38;5;241m-\u001b[39m \u001b[43mnp\u001b[49m\u001b[38;5;241;43m.\u001b[39;49m\u001b[43mexp\u001b[49m\u001b[43m(\u001b[49m\u001b[38;5;241;43m-\u001b[39;49m\u001b[43mx_max\u001b[49m\u001b[43m)\u001b[49m)) \u001b[38;5;241m+\u001b[39m D_min \u001b[38;5;241m+\u001b[39m \u001b[38;5;241m1\u001b[39m\u001b[38;5;241m/\u001b[39mbeta \u001b[38;5;241m*\u001b[39m np\u001b[38;5;241m.\u001b[39mlog(N_D)\n\u001b[1;32m     12\u001b[0m \u001b[38;5;28;01mreturn\u001b[39;00m F_est\n",
      "File \u001b[0;32m~/Library/Python/3.9/lib/python/site-packages/torch/_tensor.py:1194\u001b[0m, in \u001b[0;36mTensor.__array__\u001b[0;34m(self, dtype)\u001b[0m\n\u001b[1;32m   1192\u001b[0m     \u001b[38;5;28;01mreturn\u001b[39;00m handle_torch_function(Tensor\u001b[38;5;241m.\u001b[39m__array__, (\u001b[38;5;28mself\u001b[39m,), \u001b[38;5;28mself\u001b[39m, dtype\u001b[38;5;241m=\u001b[39mdtype)\n\u001b[1;32m   1193\u001b[0m \u001b[38;5;28;01mif\u001b[39;00m dtype \u001b[38;5;129;01mis\u001b[39;00m \u001b[38;5;28;01mNone\u001b[39;00m:\n\u001b[0;32m-> 1194\u001b[0m     \u001b[38;5;28;01mreturn\u001b[39;00m \u001b[38;5;28;43mself\u001b[39;49m\u001b[38;5;241;43m.\u001b[39;49m\u001b[43mnumpy\u001b[49m\u001b[43m(\u001b[49m\u001b[43m)\u001b[49m\n\u001b[1;32m   1195\u001b[0m \u001b[38;5;28;01melse\u001b[39;00m:\n\u001b[1;32m   1196\u001b[0m     \u001b[38;5;28;01mreturn\u001b[39;00m \u001b[38;5;28mself\u001b[39m\u001b[38;5;241m.\u001b[39mnumpy()\u001b[38;5;241m.\u001b[39mastype(dtype, copy\u001b[38;5;241m=\u001b[39m\u001b[38;5;28;01mFalse\u001b[39;00m)\n",
      "\u001b[0;31mRuntimeError\u001b[0m: Can't call numpy() on Tensor that requires grad. Use tensor.detach().numpy() instead."
     ]
    }
   ],
   "source": [
    "# b_arr = torch.tensor(lse_data['b_arr'], dtype=torch.float32)\n",
    "# len_Darray = torch.tensor(lse_data['len_Darray'], dtype=torch.float32)\n",
    "io_scale = lse_data['io_scale']\n",
    "b_min = 0.01\n",
    "b_max = 10000\n",
    "b_grow = 1.01\n",
    "b_array = utils.createBetaArray(b_min, b_max, b_grow).to(device)\n",
    "drone_id = 1\n",
    "FreeEnergy = []\n",
    "betas = []\n",
    "\n",
    "s = time.time()\n",
    "with torch.no_grad():\n",
    "    # forward pass: no activations are saved for grad\n",
    "    _, actions = vrp_net(data, mod='eval_greedy')\n",
    "e = time.time()\n",
    "actions.detach()\n",
    "d_mins = utils.route_cost(data, actions)[drone_id:drone_id+1]\n",
    "# d_array_est = (d_mins - 1.0) * torch.rand(1,int(n_drone_routes[drone_id,0])) + 1.0\n",
    "# Fmin_est = logSumExp(d_array_est, b_min)\n",
    "Fmin_est = area_approx_F(d_mins, D_max_range=1.0, N_D=int(n_drone_routes[drone_id,0]), beta=b_min)\n",
    "print(Fmin_est)\n",
    "# beta=b_min\n",
    "# for beta in b_array:\n",
    "\n",
    "#     torch.cuda.empty_cache()\n",
    "#     In = torch.tensor([\n",
    "#         Fmin_est.to(device),\n",
    "#         io_scale*d_mins,\n",
    "#         torch.log(torch.tensor([beta]))/torch.log(torch.tensor([10.0])).to(device)\n",
    "#     ])\n",
    "#     # update annealing parameter\n",
    "#     print(In)\n",
    "#     # print(In[2].detach().numpy())\n",
    "#     betas.append(In[2].detach().numpy())\n",
    "#     # print(betas)\n",
    "#     Out = lse_net(In)/io_scale - 0*(1/beta * torch.log(n_drone_routes[drone_id,0])).to(device)\n",
    "#     # print(beta, torch.log(torch.tensor([beta]))/torch.log(torch.tensor([10.0])), In, Out)\n",
    "#     # print(In)\n",
    "#     FreeEnergy.append(Out[0].detach().numpy())\n",
    "\n",
    "#     # beta = beta * b_grow\n",
    "    \n",
    "    \n",
    "# plt.figure(figsize=(6,2))\n",
    "# plt.plot(betas, FreeEnergy)\n",
    "# plt.grid()\n",
    "# plt.show()"
   ]
  },
  {
   "cell_type": "markdown",
   "metadata": {},
   "source": [
    "### Compute an estimate of free energy at b_min for all drones using d_min"
   ]
  },
  {
   "cell_type": "code",
   "execution_count": 88,
   "metadata": {},
   "outputs": [
    {
     "name": "stdout",
     "output_type": "stream",
     "text": [
      "beta:1.000e-04\n",
      "\tEpoch: 0\tVRP_runtime: 0.03s\tFreeEnergy: 1.27\tF_Grad: 9.160e-01\td_min_mean: 0.52\n",
      "\tEpoch: 50\tVRP_runtime: 0.01s\tFreeEnergy: 1.12\tF_Grad: 7.841e-01\td_min_mean: 0.42\n",
      "\tEpoch: 100\tVRP_runtime: 0.02s\tFreeEnergy: 1.02\tF_Grad: 6.493e-01\td_min_mean: 0.35\n",
      "\tEpoch: 150\tVRP_runtime: 0.02s\tFreeEnergy: 0.94\tF_Grad: 5.481e-01\td_min_mean: 0.30\n",
      "\tEpoch: 200\tVRP_runtime: 0.03s\tFreeEnergy: 0.89\tF_Grad: 4.486e-01\td_min_mean: 0.27\n",
      "\tEpoch: 250\tVRP_runtime: 0.02s\tFreeEnergy: 0.85\tF_Grad: 3.595e-01\td_min_mean: 0.24\n",
      "\tEpoch: 300\tVRP_runtime: 0.02s\tFreeEnergy: 0.82\tF_Grad: 2.787e-01\td_min_mean: 0.22\n",
      "\tEpoch: 350\tVRP_runtime: 0.02s\tFreeEnergy: 0.81\tF_Grad: 2.133e-01\td_min_mean: 0.21\n",
      "\tEpoch: 399\tVRP_runtime: 0.02s\tFreeEnergy: 0.79\tF_Grad: 1.596e-01\td_min_mean: 0.21\n"
     ]
    }
   ],
   "source": [
    "num_epochs = 400;\n",
    "optimizer = optim.Adam([F_base], lr=1e-3)\n",
    "# b_arr = torch.tensor(lse_data['b_arr'], dtype=torch.float32)\n",
    "# len_Darray = torch.tensor(lse_data['len_Darray'], dtype=torch.float32)\n",
    "io_scale = lse_data['io_scale']\n",
    "b_min = 1e-4\n",
    "b_max = 1e-4\n",
    "b_grow = 2\n",
    "b_array = utils.createBetaArray(b_min, b_max, b_grow).to(device)\n",
    "torch.autograd.set_detect_anomaly(True)\n",
    "# beta=b_min\n",
    "for beta in b_array:\n",
    "    print(f\"beta:{beta:.3e}\")\n",
    "    for epoch in range(num_epochs):\n",
    "        s = time.time()\n",
    "        with torch.no_grad():\n",
    "            # forward pass: no activations are saved for grad\n",
    "            _, actions = vrp_net(data, mod='eval_greedy')\n",
    "        e = time.time()\n",
    "        actions.detach()\n",
    "        d_mins = utils.route_cost(data, actions)\n",
    "        # print('here0')\n",
    "        with torch.no_grad():\n",
    "            D_bmin_tensor = (d_mins.view(-1,1) - 1.0) * torch.rand(num_drones, int(n_drone_routes[0,0])) + 1.0\n",
    "            # print('here1')\n",
    "            Fmin_tensor = logSumExp(D_bmin_tensor, beta=b_min).to(device)\n",
    "        # print('here2')\n",
    "        torch.cuda.empty_cache()\n",
    "\n",
    "        In = torch.cat((\n",
    "            Fmin_tensor,\n",
    "            io_scale*d_mins.view(-1,1), \n",
    "            torch.ones((num_drones,1)).to(device)*torch.log(torch.tensor([beta]))/torch.log(torch.tensor([10.0])).to(device).to(device)), axis=1) #, torch.ones((num_drones,1)).to(device)*b_min.to(device)),axis=1)\n",
    "        # print(In)\n",
    "        Out = lse_net(In)/io_scale + d_mins.view(-1,1) #- (1/beta * torch.log(n_drone_routes)).to(device) \n",
    "        FreeEnergy = torch.mean(Out)\n",
    "        \n",
    "        # print(torch.norm(data))\n",
    "        optimizer.zero_grad()\n",
    "        FreeEnergy.backward()\n",
    "        optimizer.step()\n",
    "        # perturb and update facility location data for each drone\n",
    "        std1 = torch.tensor([[0.05,0.05]]).repeat(nd_per_cluster,1).unsqueeze(1).to(device)\n",
    "        with torch.no_grad():\n",
    "            F_base += torch.normal(mean=torch.zeros(1,num_facilities,dim_), std=0.0001*torch.ones(1,num_facilities,dim_)).to(device)\n",
    "        # print(F_base)\n",
    "        F_locs = F_base.expand(num_drones, -1, -1)\n",
    "        # print(F_locs)\n",
    "        data = torch.cat((START_locs, F_locs, END_locs), dim=1)\n",
    "        if epoch % 50 == 0 or epoch == num_epochs-1:\n",
    "            print(f\"\\tEpoch: {epoch}\\tVRP_runtime: {e-s:.2f}s\\tFreeEnergy: {FreeEnergy:.2f}\\tF_Grad: {torch.max(torch.abs(F_base.grad)):.3e}\\td_min_mean: {torch.mean(d_mins):.2f}\")\n",
    "    # update annealing parameter\n",
    "    beta = beta * b_grow\n",
    "    \n"
   ]
  },
  {
   "cell_type": "markdown",
   "metadata": {},
   "source": [
    "# Plotting some results"
   ]
  },
  {
   "cell_type": "code",
   "execution_count": 89,
   "metadata": {},
   "outputs": [
    {
     "data": {
      "text/plain": [
       "<matplotlib.collections.PathCollection at 0x31866a160>"
      ]
     },
     "execution_count": 89,
     "metadata": {},
     "output_type": "execute_result"
    },
    {
     "data": {
      "image/png": "[encoded data removed]",
      "text/plain": [
       "<Figure size 640x480 with 1 Axes>"
      ]
     },
     "metadata": {},
     "output_type": "display_data"
    }
   ],
   "source": [
    "start_locs = START_locs.squeeze(1).cpu().numpy()\n",
    "plt.scatter(start_locs[:,0],start_locs[:,1],color='cyan',marker='.')\n",
    "end_locs = END_locs.squeeze(1).cpu().numpy()\n",
    "plt.scatter(end_locs[:,0],end_locs[:,1],color='red',marker='.')\n",
    "f_locs = F_base.squeeze(0).detach().cpu().numpy()\n",
    "plt.scatter(f_locs[:,0],f_locs[:,1],color='black',marker='^')"
   ]
  },
  {
   "cell_type": "markdown",
   "metadata": {},
   "source": [
    "# Calculating the gradients"
   ]
  },
  {
   "cell_type": "markdown",
   "metadata": {},
   "source": [
    "The output of this block shoud be dF/dy"
   ]
  },
  {
   "cell_type": "markdown",
   "metadata": {},
   "source": [
    "First calculate $\\frac{\\partial F}{\\partial d_{min}}$ (code in progress)"
   ]
  },
  {
   "cell_type": "code",
   "execution_count": 63,
   "metadata": {},
   "outputs": [
    {
     "name": "stderr",
     "output_type": "stream",
     "text": [
      "/var/folders/sh/ndxykdmj1q9cwr2kpvkvcbs80000gn/T/ipykernel_89473/1274708057.py:11: UserWarning: The .grad attribute of a Tensor that is not a leaf Tensor is being accessed. Its .grad attribute won't be populated during autograd.backward(). If you indeed want the .grad field to be populated for a non-leaf Tensor, use .retain_grad() on the non-leaf Tensor. If you access the non-leaf Tensor by mistake, make sure you access the leaf Tensor instead. See github.com/pytorch/pytorch/pull/30531 for more informations. (Triggered internally at /Users/runner/work/pytorch/pytorch/pytorch/build/aten/src/ATen/core/TensorBody.h:494.)\n",
      "  d_mins_torch.grad\n"
     ]
    }
   ],
   "source": [
    "# fix beta\n",
    "b = np.random.choice(b_arr)\n",
    "d_mins_torch = torch.tensor(d_mins, dtype=torch.float32, requires_grad=True).view(-1,1)\n",
    "const_bmin = -io_scale/b_arr[0] * np.log(len_Darray) * torch.ones(len(d_mins), dtype=torch.float32).view(-1,1)\n",
    "const_b = b * torch.ones(len(d_mins), dtype=torch.float32).view(-1,1)\n",
    "In = torch.concatenate((const_bmin, d_mins_torch, const_b), axis=1)\n",
    "Out = lse_net(In)\n",
    "# print(Out)\n",
    "Out[0].retain_grad()\n",
    "Out[0].backward()\n",
    "d_mins_torch.grad"
   ]
  },
  {
   "cell_type": "markdown",
   "metadata": {},
   "source": [
    "# Running CLF to determin Y"
   ]
  },
  {
   "cell_type": "markdown",
   "metadata": {},
   "source": [
    "The GD code here"
   ]
  },
  {
   "cell_type": "markdown",
   "metadata": {},
   "source": [
    "# Closing the Beta Loop for Annealing"
   ]
  },
  {
   "cell_type": "markdown",
   "metadata": {},
   "source": []
  },
  {
   "cell_type": "code",
   "execution_count": 30,
   "metadata": {},
   "outputs": [
    {
     "name": "stdout",
     "output_type": "stream",
     "text": [
      "tensor([ True, False, False, False, False,  True, False, False, False, False,\n",
      "         True, False, False, False, False,  True, False, False, False, False])\n",
      "Original: tensor([ 0,  1,  2,  3,  4,  5,  6,  7,  8,  9, 10, 11, 12, 13, 14, 15, 16, 17,\n",
      "        18, 19])\n",
      "Filtered: tensor([ 0,  5, 10, 15])\n"
     ]
    }
   ],
   "source": [
    "import torch\n",
    "\n",
    "x = torch.arange(20)  # Just an example tensor: [0, 1, 2, ..., 19]\n",
    "\n",
    "# Create a mask to skip every 5th element\n",
    "mask = torch.zeros(len(x), dtype=bool)\n",
    "mask[0::5] = True  # Set every 5th element to False\n",
    "print(mask)\n",
    "result = x[mask]\n",
    "\n",
    "print(\"Original:\", x)\n",
    "print(\"Filtered:\", result)\n"
   ]
  }
 ],
 "metadata": {
  "kernelspec": {
   "display_name": "Python 3",
   "language": "python",
   "name": "python3"
  },
  "language_info": {
   "codemirror_mode": {
    "name": "ipython",
    "version": 3
   },
   "file_extension": ".py",
   "mimetype": "text/x-python",
   "name": "python",
   "nbconvert_exporter": "python",
   "pygments_lexer": "ipython3",
   "version": "3.9.6"
  }
 },
 "nbformat": 4,
 "nbformat_minor": 2
}
