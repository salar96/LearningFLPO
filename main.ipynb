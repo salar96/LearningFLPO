{
 "cells": [
  {
   "cell_type": "markdown",
   "metadata": {},
   "source": [
    "# Learning FLPO"
   ]
  },
  {
   "cell_type": "markdown",
   "metadata": {},
   "source": [
    "In this code, we will implement the hierarchical ML architecture to predict the parameters in the FLPO setup."
   ]
  },
  {
   "cell_type": "code",
   "execution_count": 1,
   "metadata": {},
   "outputs": [],
   "source": [
    "import torch\n",
    "from VRP_Net_L import VRPNet_L\n",
    "from matplotlib import pyplot as plt\n",
    "import utils\n",
    "import os\n",
    "import matplotlib.pyplot as plt\n",
    "from torchinfo import summary\n",
    "import numpy as np\n",
    "import time\n",
    "import LSE_net\n",
    "from torch import optim\n",
    "import importlib"
   ]
  },
  {
   "cell_type": "markdown",
   "metadata": {},
   "source": [
    "# Loading the Data"
   ]
  },
  {
   "cell_type": "code",
   "execution_count": 2,
   "metadata": {},
   "outputs": [
    {
     "data": {
      "text/plain": [
       "tensor([0.2247, 0.1659])"
      ]
     },
     "execution_count": 2,
     "metadata": {},
     "output_type": "execute_result"
    }
   ],
   "source": [
    "torch.normal(mean=torch.tensor([0.3,0.3]), std=torch.tensor([0.1,0.1]))"
   ]
  },
  {
   "cell_type": "code",
   "execution_count": 3,
   "metadata": {},
   "outputs": [
    {
     "name": "stdout",
     "output_type": "stream",
     "text": [
      "Running on:  cpu\n"
     ]
    }
   ],
   "source": [
    "seed=41;\n",
    "torch.manual_seed(seed)\n",
    "torch.cuda.manual_seed(seed)\n",
    "torch.cuda.manual_seed_all(seed)\n",
    "device = torch.device('cuda') if torch.cuda.is_available() else torch.device('cpu')\n",
    "np.random.seed(seed)\n",
    "print(\"Running on: \" , device)"
   ]
  },
  {
   "cell_type": "code",
   "execution_count": 4,
   "metadata": {},
   "outputs": [
    {
     "name": "stdout",
     "output_type": "stream",
     "text": [
      "num_drones = 100\tnum_facilities = 5\tdim = 2\n",
      "Data Loaded.\n"
     ]
    },
    {
     "data": {
      "image/png": "[encoded data removed]",
      "text/plain": [
       "<Figure size 400x300 with 1 Axes>"
      ]
     },
     "metadata": {},
     "output_type": "display_data"
    }
   ],
   "source": [
    "# UAV FLPO MetaData\n",
    "num_drones = 100\n",
    "n_drone_clusters = 5\n",
    "drone_cluster_split = np.random.uniform(0.0, 1.0, n_drone_clusters)\n",
    "drone_cluster_split = drone_cluster_split / np.sum(drone_cluster_split)\n",
    "num_facilities = 5\n",
    "dim_ = 2\n",
    "print(f'num_drones = {num_drones}\\tnum_facilities = {num_facilities}\\tdim = {dim_}')\n",
    "\n",
    "# Assign start location to each drone\n",
    "drone_cnt = 0\n",
    "for i in range(n_drone_clusters):\n",
    "    if i == n_drone_clusters-1:\n",
    "        n_drones = int(num_drones - drone_cnt)\n",
    "    else:\n",
    "        n_drones = int(drone_cluster_split[i] * (num_drones+1))\n",
    "        drone_cnt += n_drones\n",
    "\n",
    "    drone_cluster_mean = torch.rand(1, dim_).repeat(n_drones,1).unsqueeze(1).to(device)\n",
    "    drone_cluster_std = ((0.02 - 0.08) * torch.rand(1,dim_) + 0.08).repeat(n_drones,1).unsqueeze(1).to(device)\n",
    "    drone_cluster_START_locs = torch.normal(mean=drone_cluster_mean, std=drone_cluster_std)\n",
    "    if i == 0:\n",
    "        START_locs = drone_cluster_START_locs\n",
    "    else:\n",
    "        START_locs = torch.cat((START_locs, drone_cluster_START_locs), axis=0)\n",
    "\n",
    "START_locs.shape\n",
    "\n",
    "# Assign destination location to each drone\n",
    "END_locs = torch.ones((num_drones, 1, dim_), requires_grad=False, device=device) #torch.rand(num_drones, 1, dim_, requires_grad=False, device=device)\n",
    "\n",
    "# Create the data tensor\n",
    "F_base = torch.mean(START_locs, dim=0).repeat(num_facilities, 1).unsqueeze(0).requires_grad_().to(device)\n",
    "F_locs = F_base.expand(num_drones, -1, -1)  # view, shares grad with F_base\n",
    "data = torch.cat((START_locs, F_locs, END_locs), dim=1)  # shape: (Nd, Nf+2, D)\n",
    "print(\"Data Loaded.\")\n",
    "\n",
    "# plot the data\n",
    "def plot_UAV_FLPO(drone_START, drone_END, Facilities, figuresize=(6,5)):\n",
    "    start_locs = drone_START.squeeze(1).cpu().numpy()\n",
    "    end_locs = drone_END.squeeze(1).cpu().numpy()\n",
    "    f_locs = Facilities.squeeze(0).detach().cpu().numpy()\n",
    "\n",
    "    plt.figure(figsize=figuresize)\n",
    "    plt.scatter(start_locs[:,0], start_locs[:,1], color='violet', marker='X', alpha=0.5)\n",
    "    plt.scatter(end_locs[:,0], end_locs[:,1], color='red', marker='.')\n",
    "    plt.scatter(f_locs[:,0], f_locs[:,1], color='black', marker='^')\n",
    "    plt.grid()\n",
    "    plt.show()\n",
    "\n",
    "plot_UAV_FLPO(START_locs, END_locs, F_base, (4,3))"
   ]
  },
  {
   "cell_type": "markdown",
   "metadata": {},
   "source": [
    "### Compute n_routes from each drone"
   ]
  },
  {
   "cell_type": "code",
   "execution_count": 5,
   "metadata": {},
   "outputs": [
    {
     "name": "stdout",
     "output_type": "stream",
     "text": [
      "n_routes:\ttorch.Size([100, 1])\n",
      "tensor([[3906.],\n",
      "        [3906.],\n",
      "        [3906.],\n",
      "        [3906.],\n",
      "        [3906.],\n",
      "        [3906.],\n",
      "        [3906.],\n",
      "        [3906.],\n",
      "        [3906.],\n",
      "        [3906.],\n",
      "        [3906.],\n",
      "        [3906.],\n",
      "        [3906.],\n",
      "        [3906.],\n",
      "        [3906.],\n",
      "        [3906.],\n",
      "        [3906.],\n",
      "        [3906.],\n",
      "        [3906.],\n",
      "        [3906.],\n",
      "        [3906.],\n",
      "        [3906.],\n",
      "        [3906.],\n",
      "        [3906.],\n",
      "        [3906.],\n",
      "        [3906.],\n",
      "        [3906.],\n",
      "        [3906.],\n",
      "        [3906.],\n",
      "        [3906.],\n",
      "        [3906.],\n",
      "        [3906.],\n",
      "        [3906.],\n",
      "        [3906.],\n",
      "        [3906.],\n",
      "        [3906.],\n",
      "        [3906.],\n",
      "        [3906.],\n",
      "        [3906.],\n",
      "        [3906.],\n",
      "        [3906.],\n",
      "        [3906.],\n",
      "        [3906.],\n",
      "        [3906.],\n",
      "        [3906.],\n",
      "        [3906.],\n",
      "        [3906.],\n",
      "        [3906.],\n",
      "        [3906.],\n",
      "        [3906.],\n",
      "        [3906.],\n",
      "        [3906.],\n",
      "        [3906.],\n",
      "        [3906.],\n",
      "        [3906.],\n",
      "        [3906.],\n",
      "        [3906.],\n",
      "        [3906.],\n",
      "        [3906.],\n",
      "        [3906.],\n",
      "        [3906.],\n",
      "        [3906.],\n",
      "        [3906.],\n",
      "        [3906.],\n",
      "        [3906.],\n",
      "        [3906.],\n",
      "        [3906.],\n",
      "        [3906.],\n",
      "        [3906.],\n",
      "        [3906.],\n",
      "        [3906.],\n",
      "        [3906.],\n",
      "        [3906.],\n",
      "        [3906.],\n",
      "        [3906.],\n",
      "        [3906.],\n",
      "        [3906.],\n",
      "        [3906.],\n",
      "        [3906.],\n",
      "        [3906.],\n",
      "        [3906.],\n",
      "        [3906.],\n",
      "        [3906.],\n",
      "        [3906.],\n",
      "        [3906.],\n",
      "        [3906.],\n",
      "        [3906.],\n",
      "        [3906.],\n",
      "        [3906.],\n",
      "        [3906.],\n",
      "        [3906.],\n",
      "        [3906.],\n",
      "        [3906.],\n",
      "        [3906.],\n",
      "        [3906.],\n",
      "        [3906.],\n",
      "        [3906.],\n",
      "        [3906.],\n",
      "        [3906.],\n",
      "        [3906.]])\n",
      "log_n_routes:\ttorch.Size([100, 1])\n",
      "tensor([[8.2703],\n",
      "        [8.2703],\n",
      "        [8.2703],\n",
      "        [8.2703],\n",
      "        [8.2703],\n",
      "        [8.2703],\n",
      "        [8.2703],\n",
      "        [8.2703],\n",
      "        [8.2703],\n",
      "        [8.2703],\n",
      "        [8.2703],\n",
      "        [8.2703],\n",
      "        [8.2703],\n",
      "        [8.2703],\n",
      "        [8.2703],\n",
      "        [8.2703],\n",
      "        [8.2703],\n",
      "        [8.2703],\n",
      "        [8.2703],\n",
      "        [8.2703],\n",
      "        [8.2703],\n",
      "        [8.2703],\n",
      "        [8.2703],\n",
      "        [8.2703],\n",
      "        [8.2703],\n",
      "        [8.2703],\n",
      "        [8.2703],\n",
      "        [8.2703],\n",
      "        [8.2703],\n",
      "        [8.2703],\n",
      "        [8.2703],\n",
      "        [8.2703],\n",
      "        [8.2703],\n",
      "        [8.2703],\n",
      "        [8.2703],\n",
      "        [8.2703],\n",
      "        [8.2703],\n",
      "        [8.2703],\n",
      "        [8.2703],\n",
      "        [8.2703],\n",
      "        [8.2703],\n",
      "        [8.2703],\n",
      "        [8.2703],\n",
      "        [8.2703],\n",
      "        [8.2703],\n",
      "        [8.2703],\n",
      "        [8.2703],\n",
      "        [8.2703],\n",
      "        [8.2703],\n",
      "        [8.2703],\n",
      "        [8.2703],\n",
      "        [8.2703],\n",
      "        [8.2703],\n",
      "        [8.2703],\n",
      "        [8.2703],\n",
      "        [8.2703],\n",
      "        [8.2703],\n",
      "        [8.2703],\n",
      "        [8.2703],\n",
      "        [8.2703],\n",
      "        [8.2703],\n",
      "        [8.2703],\n",
      "        [8.2703],\n",
      "        [8.2703],\n",
      "        [8.2703],\n",
      "        [8.2703],\n",
      "        [8.2703],\n",
      "        [8.2703],\n",
      "        [8.2703],\n",
      "        [8.2703],\n",
      "        [8.2703],\n",
      "        [8.2703],\n",
      "        [8.2703],\n",
      "        [8.2703],\n",
      "        [8.2703],\n",
      "        [8.2703],\n",
      "        [8.2703],\n",
      "        [8.2703],\n",
      "        [8.2703],\n",
      "        [8.2703],\n",
      "        [8.2703],\n",
      "        [8.2703],\n",
      "        [8.2703],\n",
      "        [8.2703],\n",
      "        [8.2703],\n",
      "        [8.2703],\n",
      "        [8.2703],\n",
      "        [8.2703],\n",
      "        [8.2703],\n",
      "        [8.2703],\n",
      "        [8.2703],\n",
      "        [8.2703],\n",
      "        [8.2703],\n",
      "        [8.2703],\n",
      "        [8.2703],\n",
      "        [8.2703],\n",
      "        [8.2703],\n",
      "        [8.2703],\n",
      "        [8.2703],\n",
      "        [8.2703]])\n"
     ]
    }
   ],
   "source": [
    "importlib.reload(utils)\n",
    "n_drone_routes = torch.tensor(utils.num_flpo_routes(num_facilities, num_drones)[0], dtype=torch.float32).view(-1,1).to(device)\n",
    "print(f\"n_routes:\\t{n_drone_routes.shape}\\n{n_drone_routes}\\nlog_n_routes:\\t{n_drone_routes.shape}\\n{torch.log(n_drone_routes)}\")"
   ]
  },
  {
   "cell_type": "markdown",
   "metadata": {},
   "source": [
    "# Loading the VRP NET Module"
   ]
  },
  {
   "cell_type": "code",
   "execution_count": 6,
   "metadata": {},
   "outputs": [
    {
     "name": "stdout",
     "output_type": "stream",
     "text": [
      "VRP NET loaded on:  cpu\n",
      "===============================================================================================\n",
      "Layer (type:depth-idx)                                                 Param #\n",
      "===============================================================================================\n",
      "VRPNet_L                                                               --\n",
      "├─LinearAttnEncoder: 1-1                                               2,560\n",
      "│    └─MultiheadAttention: 2-1                                         197,376\n",
      "│    │    └─NonDynamicallyQuantizableLinear: 3-1                       65,792\n",
      "│    └─Linear: 2-2                                                     768\n",
      "│    └─Linear: 2-3                                                     8,224\n",
      "│    └─LayerNorm: 2-4                                                  512\n",
      "│    └─Dropout: 2-5                                                    --\n",
      "│    └─ReLU: 2-6                                                       --\n",
      "├─Decoder: 1-2                                                         --\n",
      "│    └─TransformerDecoder: 2-7                                         --\n",
      "│    │    └─ModuleList: 3-2                                            16,992\n",
      "├─PositionalEncoding: 1-3                                              --\n",
      "===============================================================================================\n",
      "Total params: 292,224\n",
      "Trainable params: 292,224\n",
      "Non-trainable params: 0\n",
      "===============================================================================================\n"
     ]
    }
   ],
   "source": [
    "hidden_dim = 32\n",
    "num_layers_enc = 1\n",
    "num_layers_dec = 1\n",
    "num_heads = 8\n",
    "torch.cuda.empty_cache()\n",
    "vrp_net = VRPNet_L(dim_, hidden_dim, device, num_layers_enc, num_layers_dec, num_heads)\n",
    "if torch.cuda.is_available():\n",
    "    vrp_net.load_state_dict(torch.load('Saved models/POMO2025_04_12 00_54_260.6350972652435303best_model.pth',weights_only=True))\n",
    "else:\n",
    "    vrp_net.load_state_dict(torch.load('Saved models/POMO2025_04_12 00_54_260.6350972652435303best_model.pth',weights_only=False, map_location=torch.device('cpu')))\n",
    "vrp_net.eval()\n",
    "\n",
    "# for param in vrp_net.parameters():\n",
    "#     param.requires_grad = False\n",
    "print('VRP NET loaded on: ',vrp_net.device)\n",
    "print(summary(vrp_net))"
   ]
  },
  {
   "cell_type": "markdown",
   "metadata": {},
   "source": [
    "# Loading lseNet"
   ]
  },
  {
   "cell_type": "code",
   "execution_count": 7,
   "metadata": {},
   "outputs": [
    {
     "name": "stdout",
     "output_type": "stream",
     "text": [
      "n_inputs: 3\n",
      "n_outputs: 1\n",
      "layers: [20, 20, 10]\n",
      "io_scale: 1\n",
      "LSE_net:\n",
      "=================================================================\n",
      "Layer (type:depth-idx)                   Param #\n",
      "=================================================================\n",
      "dnn                                      --\n",
      "├─ModuleList: 1-1                        --\n",
      "│    └─Linear: 2-1                       (80)\n",
      "│    └─ReLU: 2-2                         --\n",
      "│    └─Linear: 2-3                       (420)\n",
      "│    └─ReLU: 2-4                         --\n",
      "│    └─Linear: 2-5                       (210)\n",
      "│    └─ReLU: 2-6                         --\n",
      "│    └─Linear: 2-7                       (11)\n",
      "=================================================================\n",
      "Total params: 721\n",
      "Trainable params: 0\n",
      "Non-trainable params: 721\n",
      "=================================================================\n"
     ]
    }
   ],
   "source": [
    "importlib.reload(LSE_net)\n",
    "lse_data = torch.load('logSumExp_models/lse_2025_5_1__17_6_31.pth', weights_only=False)\n",
    "n_inputs = lse_data['n_inputs']\n",
    "n_outputs = lse_data['n_outputs']\n",
    "layers = lse_data['layers']\n",
    "weights = lse_data['model_state_dict']\n",
    "io_scale = lse_data['io_scale']\n",
    "lse_net = LSE_net.dnn(n_inputs, n_outputs, layers)\n",
    "lse_net.to(device)\n",
    "lse_net.load_state_dict(weights)\n",
    "lse_net.eval()\n",
    "for p in lse_net.parameters():\n",
    "    p.requires_grad = False\n",
    "print(f'n_inputs: {n_inputs}\\nn_outputs: {n_outputs}\\nlayers: {layers}\\nio_scale: {io_scale}\\nLSE_net:\\n{summary(lse_net)}')"
   ]
  },
  {
   "cell_type": "code",
   "execution_count": 8,
   "metadata": {},
   "outputs": [
    {
     "data": {
      "text/plain": [
       "torch.Size([2])"
      ]
     },
     "execution_count": 8,
     "metadata": {},
     "output_type": "execute_result"
    }
   ],
   "source": [
    "torch.tensor([10,10]).shape"
   ]
  },
  {
   "cell_type": "code",
   "execution_count": 9,
   "metadata": {},
   "outputs": [],
   "source": [
    "def logSumExp(D_tensor, beta):\n",
    "    # with torch.no_grad():\n",
    "    # print(D_tensor)\n",
    "    D_min = torch.min(D_tensor, axis=1, keepdims=True)\n",
    "    F = -1/beta * torch.log(torch.sum(torch.exp(-beta*(D_tensor - D_min.values)), axis=1, keepdims=True)) + 1/beta * torch.log(torch.tensor([D_tensor.shape[1]])) + D_min.values\n",
    "    return F\n",
    "\n",
    "def area_approx_F(D_min, D_max_range, beta, printCalculations=False):\n",
    "    min_beta_D_arr = beta * D_min\n",
    "    x_max = beta * D_max_range - min_beta_D_arr\n",
    "    F_est = -1/beta * torch.log(1/x_max * (1 - torch.exp(-x_max))) + D_min\n",
    "    \n",
    "    if printCalculations:\n",
    "        print(f'min_beta_D_arr:{min_beta_D_arr}')\n",
    "        print(f'x_max:{x_max}')\n",
    "        print(f'inside_log:{1/x_max * (1 - torch.exp(-x_max))}')\n",
    "        print(f'log:{torch.log(1/x_max * (1 - torch.exp(-x_max)))}')\n",
    "        print(f'-1/beta_log:\\n{-1/beta * torch.log(1/x_max * (1 - torch.exp(-x_max)))}')\n",
    "        \n",
    "    return F_est"
   ]
  },
  {
   "cell_type": "code",
   "execution_count": 10,
   "metadata": {},
   "outputs": [],
   "source": [
    "# s = time.time()\n",
    "# with torch.no_grad():\n",
    "#     # forward pass: no activations are saved for grad\n",
    "#     _, actions = vrp_net(data, mod='eval_greedy')\n",
    "# e = time.time()\n",
    "# actions.detach()\n",
    "# d_mins = utils.route_cost(data, actions)\n"
   ]
  },
  {
   "cell_type": "markdown",
   "metadata": {},
   "source": [
    "#### The next 3 blocks show that, when we work with torch.float32 datatype, the Free energy approximation at $\\beta_{min}$ \\[using the function area_approx_F()\\] is poor when $\\beta_{min} \\leq 2e-4$. Therefore, for all d_mins $\\in [0,1],$ we should keep $\\beta_{min} > 1e-3.$"
   ]
  },
  {
   "cell_type": "code",
   "execution_count": 11,
   "metadata": {},
   "outputs": [],
   "source": [
    "# print(d_mins)\n",
    "# print(d_mins.dtype)\n"
   ]
  },
  {
   "cell_type": "code",
   "execution_count": 12,
   "metadata": {},
   "outputs": [],
   "source": [
    "# d_mins1 = d_mins.to(torch.float64)\n",
    "# print(d_mins1)\n",
    "# print(d_mins1.dtype)"
   ]
  },
  {
   "cell_type": "markdown",
   "metadata": {},
   "source": [
    "#### Theoretically, the estimate of Free Energy at $\\beta_{min}$ should be (almost) equal at $\\beta = 1e-3$ and $\\beta = 1e-4$. Below we observe that when the d_min data is in float32 precision, the values are not equal for the two $\\beta$ values."
   ]
  },
  {
   "cell_type": "code",
   "execution_count": 13,
   "metadata": {},
   "outputs": [],
   "source": [
    "# # discared method using uniform distribution on D's\n",
    "# # with torch.no_grad():\n",
    "#     # D_tensor = (d_mins1.view(-1,1) - 1.0) * torch.rand(num_drones, int(n_drone_routes[0,0])) + 1.0\n",
    "#     # F_tensor = logSumExp(D_tensor, beta=1e-4)\n",
    "\n",
    "# # current method\n",
    "# with torch.no_grad():\n",
    "#     F_tensor1_float32 = area_approx_F(d_mins, D_max_range=1.0, beta=1e-3, printCalculations=False)\n",
    "#     print(f'beta:{1e-3}\\nF_tensor1_float32:\\n{F_tensor1_float32}\\n')\n",
    "#     F_tensor2_float32 = area_approx_F(d_mins, D_max_range=1.0, beta=1e-4, printCalculations=False)\n",
    "#     print(f'beta:{1e-4}\\nF_tensor2_float32:\\n{F_tensor2_float32}\\n')\n",
    "\n",
    "#     F_tensor1_float64 = area_approx_F(d_mins1, D_max_range=1.0, beta=1e-3, printCalculations=False)\n",
    "#     print(f'beta:{1e-3}\\nF_tensor1_float64:\\n{F_tensor1_float64}\\n')\n",
    "#     F_tensor2_float64 = area_approx_F(d_mins1, D_max_range=1.0, beta=1e-4, printCalculations=False)\n",
    "#     print(f'beta:{1e-4}\\nF_tensor2_float64:\\n{F_tensor2_float64}')\n"
   ]
  },
  {
   "cell_type": "code",
   "execution_count": 14,
   "metadata": {},
   "outputs": [],
   "source": [
    "# # b_arr = torch.tensor(lse_data['b_arr'], dtype=torch.float32)\n",
    "# # len_Darray = torch.tensor(lse_data['len_Darray'], dtype=torch.float32)\n",
    "# io_scale = lse_data['io_scale']\n",
    "# b_min = 0.001\n",
    "# b_max = 100000\n",
    "# b_grow = 1.5\n",
    "# b_array = utils.createBetaArray(b_min, b_max, b_grow).to(device)\n",
    "# drone_id = np.random.choice(range(num_drones))\n",
    "# FreeEnergy = []\n",
    "# log_betas = []\n",
    "# betas = []\n",
    "\n",
    "# s = time.time()\n",
    "# with torch.no_grad():\n",
    "#     # forward pass: no activations are saved for grad\n",
    "#     _, actions = vrp_net(data, mod='eval_greedy')\n",
    "# e = time.time()\n",
    "# actions.detach()\n",
    "\n",
    "# d_mins = utils.route_cost(data, actions)[drone_id:drone_id+1]\n",
    "# Fmin_est = area_approx_F(d_mins, D_max_range=2.0, beta=b_min, printCalculations=False)\n",
    "# beta=b_min\n",
    "\n",
    "# for beta in b_array:\n",
    "\n",
    "#     torch.cuda.empty_cache()\n",
    "#     In = torch.tensor([\n",
    "#         Fmin_est.to(device),\n",
    "#         io_scale*d_mins,\n",
    "#         torch.log(torch.tensor([beta]))/torch.log(torch.tensor([10.0])).to(device)\n",
    "#     ])\n",
    "#     log_betas.append(In[2].detach().numpy())\n",
    "#     betas.append(10**In[2].detach().numpy())\n",
    "#     Out = lse_net(In)/io_scale - 0*(1/beta * torch.log(n_drone_routes[drone_id,0])).to(device)\n",
    "#     FreeEnergy.append(Out[0].detach().numpy())\n",
    "    \n",
    "\n",
    "# plt.figure(figsize=(14,2))\n",
    "\n",
    "# plt.subplot(1,2,1)\n",
    "# plt.plot(log_betas, FreeEnergy, marker='.', markersize=10)\n",
    "# plt.plot(log_betas, d_mins.detach().numpy() * np.ones(len(betas)), marker='.', markersize=5)\n",
    "# plt.xlabel(rf'$\\log_{{10}}\\beta$')\n",
    "# plt.ylabel(rf'$F(\\beta)$')\n",
    "# plt.grid()\n",
    "\n",
    "# plt.subplot(1,2,2)\n",
    "# plt.plot(betas, FreeEnergy, marker='.', markersize=10)\n",
    "# plt.plot(betas, d_mins.detach().numpy() * np.ones(len(betas)), marker='.', markersize=5)\n",
    "# plt.xlabel(rf'$\\beta$')\n",
    "# plt.ylabel(rf'$F(\\beta)$')\n",
    "# plt.grid()\n",
    "# plt.show()"
   ]
  },
  {
   "cell_type": "markdown",
   "metadata": {},
   "source": [
    "### Perform annealing. At each beta, the free energy is optimized by computing the gradients using backpropagation."
   ]
  },
  {
   "cell_type": "code",
   "execution_count": 17,
   "metadata": {},
   "outputs": [
    {
     "name": "stdout",
     "output_type": "stream",
     "text": [
      "beta:1.000e-03\n",
      "\tEpoch: 0\tVRP_runtime: 0.06s\tFreeEnergy: 1.07813\tF_Grad: 4.45919e-04\td_min_mean: 0.1569\n",
      "\tF_grad: None\n"
     ]
    },
    {
     "name": "stderr",
     "output_type": "stream",
     "text": [
      "/var/folders/sh/ndxykdmj1q9cwr2kpvkvcbs80000gn/T/ipykernel_9620/1311969304.py:50: UserWarning: The .grad attribute of a Tensor that is not a leaf Tensor is being accessed. Its .grad attribute won't be populated during autograd.backward(). If you indeed want the .grad field to be populated for a non-leaf Tensor, use .retain_grad() on the non-leaf Tensor. If you access the non-leaf Tensor by mistake, make sure you access the leaf Tensor instead. See github.com/pytorch/pytorch/pull/30531 for more informations. (Triggered internally at /Users/runner/work/pytorch/pytorch/pytorch/build/aten/src/ATen/core/TensorBody.h:494.)\n",
      "  print(f\"\\tF_grad: {d_mins.grad}\")\n"
     ]
    },
    {
     "name": "stdout",
     "output_type": "stream",
     "text": [
      "\tEpoch: 50\tVRP_runtime: 0.02s\tFreeEnergy: 1.09078\tF_Grad: 5.92653e-02\td_min_mean: 0.1808\n",
      "\tF_grad: None\n",
      "\tEpoch: 100\tVRP_runtime: 0.02s\tFreeEnergy: 1.08510\tF_Grad: 3.35692e-03\td_min_mean: 0.1750\n",
      "\tF_grad: None\n",
      "\tEpoch: 150\tVRP_runtime: 0.02s\tFreeEnergy: 1.08672\tF_Grad: 4.08623e-04\td_min_mean: 0.1750\n",
      "\tF_grad: None\n"
     ]
    },
    {
     "ename": "KeyboardInterrupt",
     "evalue": "",
     "output_type": "error",
     "traceback": [
      "\u001b[0;31m---------------------------------------------------------------------------\u001b[0m",
      "\u001b[0;31mKeyboardInterrupt\u001b[0m                         Traceback (most recent call last)",
      "Cell \u001b[0;32mIn[17], line 27\u001b[0m\n\u001b[1;32m     23\u001b[0m Fmin_est_tensor \u001b[38;5;241m=\u001b[39m area_approx_F(d_mins, D_max_range\u001b[38;5;241m=\u001b[39m\u001b[38;5;241m2.0\u001b[39m, beta\u001b[38;5;241m=\u001b[39mb_min0, printCalculations\u001b[38;5;241m=\u001b[39m\u001b[38;5;28;01mFalse\u001b[39;00m)\n\u001b[1;32m     25\u001b[0m torch\u001b[38;5;241m.\u001b[39mcuda\u001b[38;5;241m.\u001b[39mempty_cache()\n\u001b[0;32m---> 27\u001b[0m In \u001b[38;5;241m=\u001b[39m \u001b[43mtorch\u001b[49m\u001b[38;5;241;43m.\u001b[39;49m\u001b[43mcat\u001b[49m\u001b[43m(\u001b[49m\u001b[43m(\u001b[49m\n\u001b[1;32m     28\u001b[0m \u001b[43m    \u001b[49m\u001b[43mFmin_est_tensor\u001b[49m\u001b[38;5;241;43m.\u001b[39;49m\u001b[43mview\u001b[49m\u001b[43m(\u001b[49m\u001b[38;5;241;43m-\u001b[39;49m\u001b[38;5;241;43m1\u001b[39;49m\u001b[43m,\u001b[49m\u001b[38;5;241;43m1\u001b[39;49m\u001b[43m)\u001b[49m\u001b[43m,\u001b[49m\n\u001b[1;32m     29\u001b[0m \u001b[43m    \u001b[49m\u001b[43md_mins\u001b[49m\u001b[38;5;241;43m.\u001b[39;49m\u001b[43mview\u001b[49m\u001b[43m(\u001b[49m\u001b[38;5;241;43m-\u001b[39;49m\u001b[38;5;241;43m1\u001b[39;49m\u001b[43m,\u001b[49m\u001b[38;5;241;43m1\u001b[39;49m\u001b[43m)\u001b[49m\u001b[43m,\u001b[49m\u001b[43m \u001b[49m\n\u001b[1;32m     30\u001b[0m \u001b[43m    \u001b[49m\u001b[43mtorch\u001b[49m\u001b[38;5;241;43m.\u001b[39;49m\u001b[43mones\u001b[49m\u001b[43m(\u001b[49m\u001b[43m(\u001b[49m\u001b[43mnum_drones\u001b[49m\u001b[43m,\u001b[49m\u001b[38;5;241;43m1\u001b[39;49m\u001b[43m)\u001b[49m\u001b[43m)\u001b[49m\u001b[38;5;241;43m.\u001b[39;49m\u001b[43mto\u001b[49m\u001b[43m(\u001b[49m\u001b[43mdevice\u001b[49m\u001b[43m)\u001b[49m\u001b[43m \u001b[49m\u001b[38;5;241;43m*\u001b[39;49m\u001b[43m \u001b[49m\u001b[43m(\u001b[49m\u001b[43mtorch\u001b[49m\u001b[38;5;241;43m.\u001b[39;49m\u001b[43mlog\u001b[49m\u001b[43m(\u001b[49m\u001b[43mtorch\u001b[49m\u001b[38;5;241;43m.\u001b[39;49m\u001b[43mtensor\u001b[49m\u001b[43m(\u001b[49m\u001b[43m[\u001b[49m\u001b[43mbeta\u001b[49m\u001b[43m]\u001b[49m\u001b[43m)\u001b[49m\u001b[43m)\u001b[49m\u001b[38;5;241;43m/\u001b[39;49m\u001b[43mtorch\u001b[49m\u001b[38;5;241;43m.\u001b[39;49m\u001b[43mlog\u001b[49m\u001b[43m(\u001b[49m\u001b[43mtorch\u001b[49m\u001b[38;5;241;43m.\u001b[39;49m\u001b[43mtensor\u001b[49m\u001b[43m(\u001b[49m\u001b[43m[\u001b[49m\u001b[38;5;241;43m10.0\u001b[39;49m\u001b[43m]\u001b[49m\u001b[43m)\u001b[49m\u001b[43m)\u001b[49m\u001b[43m)\u001b[49m\u001b[38;5;241;43m.\u001b[39;49m\u001b[43mto\u001b[49m\u001b[43m(\u001b[49m\u001b[43mdevice\u001b[49m\u001b[43m)\u001b[49m\u001b[43m)\u001b[49m\u001b[43m,\u001b[49m\u001b[43m \u001b[49m\u001b[43maxis\u001b[49m\u001b[38;5;241;43m=\u001b[39;49m\u001b[38;5;241;43m1\u001b[39;49m\u001b[43m)\u001b[49m\n\u001b[1;32m     32\u001b[0m Out \u001b[38;5;241m=\u001b[39m lse_net(In)\u001b[38;5;241m/\u001b[39mio_scale\n\u001b[1;32m     33\u001b[0m FreeEnergy \u001b[38;5;241m=\u001b[39m torch\u001b[38;5;241m.\u001b[39mmean(Out)\n",
      "File \u001b[0;32m~/Library/Python/3.9/lib/python/site-packages/torch/fx/traceback.py:175\u001b[0m, in \u001b[0;36mformat_stack\u001b[0;34m()\u001b[0m\n\u001b[1;32m    172\u001b[0m     \u001b[38;5;28;01mreturn\u001b[39;00m [current_meta\u001b[38;5;241m.\u001b[39mget(\u001b[38;5;124m\"\u001b[39m\u001b[38;5;124mstack_trace\u001b[39m\u001b[38;5;124m\"\u001b[39m, \u001b[38;5;124m\"\u001b[39m\u001b[38;5;124m\"\u001b[39m)]\n\u001b[1;32m    173\u001b[0m \u001b[38;5;28;01melse\u001b[39;00m:\n\u001b[1;32m    174\u001b[0m     \u001b[38;5;66;03m# fallback to traceback.format_stack()\u001b[39;00m\n\u001b[0;32m--> 175\u001b[0m     \u001b[38;5;28;01mreturn\u001b[39;00m traceback\u001b[38;5;241m.\u001b[39mformat_list(\u001b[43mtraceback\u001b[49m\u001b[38;5;241;43m.\u001b[39;49m\u001b[43mextract_stack\u001b[49m\u001b[43m(\u001b[49m\u001b[43m)\u001b[49m[:\u001b[38;5;241m-\u001b[39m\u001b[38;5;241m1\u001b[39m])\n",
      "File \u001b[0;32m/Library/Developer/CommandLineTools/Library/Frameworks/Python3.framework/Versions/3.9/lib/python3.9/traceback.py:211\u001b[0m, in \u001b[0;36mextract_stack\u001b[0;34m(f, limit)\u001b[0m\n\u001b[1;32m    209\u001b[0m \u001b[38;5;28;01mif\u001b[39;00m f \u001b[38;5;129;01mis\u001b[39;00m \u001b[38;5;28;01mNone\u001b[39;00m:\n\u001b[1;32m    210\u001b[0m     f \u001b[38;5;241m=\u001b[39m sys\u001b[38;5;241m.\u001b[39m_getframe()\u001b[38;5;241m.\u001b[39mf_back\n\u001b[0;32m--> 211\u001b[0m stack \u001b[38;5;241m=\u001b[39m \u001b[43mStackSummary\u001b[49m\u001b[38;5;241;43m.\u001b[39;49m\u001b[43mextract\u001b[49m\u001b[43m(\u001b[49m\u001b[43mwalk_stack\u001b[49m\u001b[43m(\u001b[49m\u001b[43mf\u001b[49m\u001b[43m)\u001b[49m\u001b[43m,\u001b[49m\u001b[43m \u001b[49m\u001b[43mlimit\u001b[49m\u001b[38;5;241;43m=\u001b[39;49m\u001b[43mlimit\u001b[49m\u001b[43m)\u001b[49m\n\u001b[1;32m    212\u001b[0m stack\u001b[38;5;241m.\u001b[39mreverse()\n\u001b[1;32m    213\u001b[0m \u001b[38;5;28;01mreturn\u001b[39;00m stack\n",
      "File \u001b[0;32m/Library/Developer/CommandLineTools/Library/Frameworks/Python3.framework/Versions/3.9/lib/python3.9/traceback.py:366\u001b[0m, in \u001b[0;36mStackSummary.extract\u001b[0;34m(klass, frame_gen, limit, lookup_lines, capture_locals)\u001b[0m\n\u001b[1;32m    364\u001b[0m \u001b[38;5;28;01mif\u001b[39;00m lookup_lines:\n\u001b[1;32m    365\u001b[0m     \u001b[38;5;28;01mfor\u001b[39;00m f \u001b[38;5;129;01min\u001b[39;00m result:\n\u001b[0;32m--> 366\u001b[0m         \u001b[43mf\u001b[49m\u001b[38;5;241;43m.\u001b[39;49m\u001b[43mline\u001b[49m\n\u001b[1;32m    367\u001b[0m \u001b[38;5;28;01mreturn\u001b[39;00m result\n",
      "File \u001b[0;32m/Library/Developer/CommandLineTools/Library/Frameworks/Python3.framework/Versions/3.9/lib/python3.9/traceback.py:288\u001b[0m, in \u001b[0;36mFrameSummary.line\u001b[0;34m(self)\u001b[0m\n\u001b[1;32m    285\u001b[0m \u001b[38;5;129m@property\u001b[39m\n\u001b[1;32m    286\u001b[0m \u001b[38;5;28;01mdef\u001b[39;00m \u001b[38;5;21mline\u001b[39m(\u001b[38;5;28mself\u001b[39m):\n\u001b[1;32m    287\u001b[0m     \u001b[38;5;28;01mif\u001b[39;00m \u001b[38;5;28mself\u001b[39m\u001b[38;5;241m.\u001b[39m_line \u001b[38;5;129;01mis\u001b[39;00m \u001b[38;5;28;01mNone\u001b[39;00m:\n\u001b[0;32m--> 288\u001b[0m         \u001b[38;5;28mself\u001b[39m\u001b[38;5;241m.\u001b[39m_line \u001b[38;5;241m=\u001b[39m \u001b[43mlinecache\u001b[49m\u001b[38;5;241;43m.\u001b[39;49m\u001b[43mgetline\u001b[49m\u001b[43m(\u001b[49m\u001b[38;5;28;43mself\u001b[39;49m\u001b[38;5;241;43m.\u001b[39;49m\u001b[43mfilename\u001b[49m\u001b[43m,\u001b[49m\u001b[43m \u001b[49m\u001b[38;5;28;43mself\u001b[39;49m\u001b[38;5;241;43m.\u001b[39;49m\u001b[43mlineno\u001b[49m\u001b[43m)\u001b[49m\u001b[38;5;241m.\u001b[39mstrip()\n\u001b[1;32m    289\u001b[0m     \u001b[38;5;28;01mreturn\u001b[39;00m \u001b[38;5;28mself\u001b[39m\u001b[38;5;241m.\u001b[39m_line\n",
      "File \u001b[0;32m/Library/Developer/CommandLineTools/Library/Frameworks/Python3.framework/Versions/3.9/lib/python3.9/linecache.py:32\u001b[0m, in \u001b[0;36mgetline\u001b[0;34m(filename, lineno, module_globals)\u001b[0m\n\u001b[1;32m     30\u001b[0m lines \u001b[38;5;241m=\u001b[39m getlines(filename, module_globals)\n\u001b[1;32m     31\u001b[0m \u001b[38;5;28;01mif\u001b[39;00m \u001b[38;5;241m1\u001b[39m \u001b[38;5;241m<\u001b[39m\u001b[38;5;241m=\u001b[39m lineno \u001b[38;5;241m<\u001b[39m\u001b[38;5;241m=\u001b[39m \u001b[38;5;28mlen\u001b[39m(lines):\n\u001b[0;32m---> 32\u001b[0m     \u001b[38;5;28;01mreturn\u001b[39;00m \u001b[43mlines\u001b[49m\u001b[43m[\u001b[49m\u001b[43mlineno\u001b[49m\u001b[43m \u001b[49m\u001b[38;5;241;43m-\u001b[39;49m\u001b[43m \u001b[49m\u001b[38;5;241;43m1\u001b[39;49m\u001b[43m]\u001b[49m\n\u001b[1;32m     33\u001b[0m \u001b[38;5;28;01mreturn\u001b[39;00m \u001b[38;5;124m'\u001b[39m\u001b[38;5;124m'\u001b[39m\n",
      "\u001b[0;31mKeyboardInterrupt\u001b[0m: "
     ]
    }
   ],
   "source": [
    "num_epochs = 200;\n",
    "optimizer = optim.Adam([F_base], lr=1e-1)\n",
    "# b_arr = torch.tensor(lse_data['b_arr'], dtype=torch.float32)\n",
    "# len_Darray = torch.tensor(lse_data['len_Darray'], dtype=torch.float32)\n",
    "io_scale = lse_data['io_scale']\n",
    "b_min0 = 1e-3\n",
    "b_min = b_min0\n",
    "b_max = b_min0*2\n",
    "b_grow = 2\n",
    "b_array = utils.createBetaArray(b_min, b_max, b_grow).to(device)\n",
    "torch.autograd.set_detect_anomaly(True)\n",
    "# beta=b_min\n",
    "for beta in b_array:\n",
    "    print(f\"beta:{beta:.3e}\")\n",
    "    for epoch in range(num_epochs):\n",
    "        s = time.time()\n",
    "        with torch.no_grad():\n",
    "            # forward pass: no activations are saved for grad\n",
    "            _, actions = vrp_net(data, mod='eval_greedy')\n",
    "        e = time.time()\n",
    "        actions.detach()\n",
    "        d_mins = utils.route_cost(data, actions)\n",
    "        Fmin_est_tensor = area_approx_F(d_mins, D_max_range=2.0, beta=b_min0, printCalculations=False)\n",
    "\n",
    "        torch.cuda.empty_cache()\n",
    "\n",
    "        In = torch.cat((\n",
    "            Fmin_est_tensor.view(-1,1),\n",
    "            d_mins.view(-1,1), \n",
    "            torch.ones((num_drones,1)).to(device) * (torch.log(torch.tensor([beta]))/torch.log(torch.tensor([10.0]))).to(device)), axis=1)\n",
    "\n",
    "        Out = lse_net(In)/io_scale\n",
    "        FreeEnergy = torch.mean(Out)\n",
    "        \n",
    "        # print(torch.norm(data))\n",
    "        optimizer.zero_grad()\n",
    "        FreeEnergy.backward()\n",
    "        # print(d_mins)\n",
    "        # print(f'before step: {F_base}')\n",
    "        optimizer.step()\n",
    "        # print(f'after step: {F_base}')\n",
    "        # perturb and update facility location data for each drone\n",
    "        # std1 = torch.tensor([[0.05,0.05]]).repeat(nd_per_cluster,1).unsqueeze(1).to(device)\n",
    "        # print(F_base)\n",
    "        F_locs = F_base.expand(num_drones, -1, -1)\n",
    "        # print(F_locs)\n",
    "        data = torch.cat((START_locs, F_locs, END_locs), dim=1)\n",
    "        if epoch % 50 == 0 or epoch == num_epochs-1:\n",
    "            print(f\"\\tEpoch: {epoch}\\tVRP_runtime: {e-s:.2f}s\\tFreeEnergy: {FreeEnergy:.5f}\\tF_Grad: {torch.max(torch.abs(F_base.grad)):.5e}\\td_min_mean: {torch.mean(d_mins):.4f}\")\n",
    "            print(f\"\\tF_grad: {d_mins.grad}\")\n",
    "    \n",
    "    with torch.no_grad():\n",
    "        F_base += torch.normal(mean=torch.zeros(1,num_facilities,dim_), std=0.0001*torch.ones(1,num_facilities,dim_)).to(device)\n",
    "        \n",
    "    # update annealing parameter\n",
    "    beta = beta * b_grow\n",
    "    \n"
   ]
  },
  {
   "cell_type": "markdown",
   "metadata": {},
   "source": [
    "# Plotting some results"
   ]
  },
  {
   "cell_type": "code",
   "execution_count": 31,
   "metadata": {},
   "outputs": [
    {
     "data": {
      "text/plain": [
       "tensor([[[0.5436, 0.4125],\n",
       "         [0.5436, 0.4125],\n",
       "         [0.5436, 0.4125],\n",
       "         [0.5436, 0.4125],\n",
       "         [0.5436, 0.4125]]], requires_grad=True)"
      ]
     },
     "execution_count": 31,
     "metadata": {},
     "output_type": "execute_result"
    }
   ],
   "source": [
    "F_base"
   ]
  },
  {
   "cell_type": "code",
   "execution_count": 37,
   "metadata": {},
   "outputs": [
    {
     "data": {
      "image/png": "[encoded data removed]",
      "text/plain": [
       "<Figure size 600x500 with 1 Axes>"
      ]
     },
     "metadata": {},
     "output_type": "display_data"
    }
   ],
   "source": [
    "plot_UAV_FLPO(START_locs, END_locs, F_base)"
   ]
  }
 ],
 "metadata": {
  "kernelspec": {
   "display_name": "Python 3",
   "language": "python",
   "name": "python3"
  },
  "language_info": {
   "codemirror_mode": {
    "name": "ipython",
    "version": 3
   },
   "file_extension": ".py",
   "mimetype": "text/x-python",
   "name": "python",
   "nbconvert_exporter": "python",
   "pygments_lexer": "ipython3",
   "version": "3.9.6"
  }
 },
 "nbformat": 4,
 "nbformat_minor": 2
}
