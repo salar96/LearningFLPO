{
 "cells": [
  {
   "cell_type": "markdown",
   "metadata": {},
   "source": [
    "# Learning FLPO"
   ]
  },
  {
   "cell_type": "markdown",
   "metadata": {},
   "source": [
    "In this code, we will implement the hierarchical ML architecture to predict the parameters in the FLPO setup."
   ]
  },
  {
   "cell_type": "code",
   "execution_count": 25,
   "metadata": {},
   "outputs": [],
   "source": [
    "import torch\n",
    "from VRP_Net_L import VRPNet_L\n",
    "from matplotlib import pyplot as plt\n",
    "from utils import *\n",
    "import os\n",
    "import matplotlib.pyplot as plt\n",
    "from torchinfo import summary\n",
    "import numpy as np\n",
    "import time\n",
    "import LSE_net\n",
    "from torch import optim"
   ]
  },
  {
   "cell_type": "markdown",
   "metadata": {},
   "source": [
    "# Loading the Data"
   ]
  },
  {
   "cell_type": "code",
   "execution_count": 26,
   "metadata": {},
   "outputs": [
    {
     "data": {
      "text/plain": [
       "tensor([0.1487, 0.4175])"
      ]
     },
     "execution_count": 26,
     "metadata": {},
     "output_type": "execute_result"
    }
   ],
   "source": [
    "torch.normal(mean=torch.tensor([0.3,0.3]), std=torch.tensor([0.1,0.1]))"
   ]
  },
  {
   "cell_type": "code",
   "execution_count": 27,
   "metadata": {},
   "outputs": [
    {
     "name": "stdout",
     "output_type": "stream",
     "text": [
      "Running on:  cpu\n",
      "Data Loaded.\n"
     ]
    }
   ],
   "source": [
    "\n",
    "seed=42;\n",
    "torch.manual_seed(seed)\n",
    "torch.cuda.manual_seed(seed)\n",
    "torch.cuda.manual_seed_all(seed)\n",
    "device = torch.device('cuda') if torch.cuda.is_available() else torch.device('cpu')\n",
    "print(\"Running on: \" , device)\n",
    "num_drones = 100 # number of FLPO instances\n",
    "num_facilities = 4\n",
    "dim_ = 2\n",
    "# START and END locations: no grads needed\n",
    "nd_per_cluster = int(num_drones/2)\n",
    "means1 = torch.tensor([[0.4,0.7]]).repeat(nd_per_cluster,1).unsqueeze(1).to(device)\n",
    "std1 = torch.tensor([[0.05,0.05]]).repeat(nd_per_cluster,1).unsqueeze(1).to(device)\n",
    "means2 = torch.tensor([[0.7,0.3]]).repeat(nd_per_cluster,1).unsqueeze(1).to(device)\n",
    "std2 = torch.tensor([[0.05,0.05]]).repeat(nd_per_cluster,1).unsqueeze(1).to(device)\n",
    "START_locs1 = torch.normal(mean=means1, std=std1)\n",
    "START_locs2 = torch.normal(mean=means2, std=std2)\n",
    "START_locs = torch.cat((START_locs1, START_locs2), axis=0)\n",
    "END_locs   = torch.ones((num_drones, 1, dim_), requires_grad=False, device=device)#torch.rand(num_drones, 1, dim_, requires_grad=False, device=device)\n",
    "\n",
    "# Facility locations: we want grads here\n",
    "# We create a base tensor with requires_grad=True, then expand it\n",
    "# F_base = torch.rand(1, num_facilities, dim_, requires_grad=True, device=device)\n",
    "F_base = torch.mean(START_locs, dim=0).repeat(num_facilities, 1).unsqueeze(0).requires_grad_().to(device)\n",
    "F_locs = F_base.expand(num_drones, -1, -1)  # view, shares grad with F_base\n",
    "data = torch.cat((START_locs, F_locs, END_locs), dim=1)  # shape: (Nd, Nf+2, D)\n",
    "print(\"Data Loaded.\")\n"
   ]
  },
  {
   "cell_type": "markdown",
   "metadata": {},
   "source": [
    "# Loading the VRP NET Module"
   ]
  },
  {
   "cell_type": "code",
   "execution_count": 28,
   "metadata": {},
   "outputs": [
    {
     "name": "stdout",
     "output_type": "stream",
     "text": [
      "VRP NET loaded on:  cpu\n",
      "===============================================================================================\n",
      "Layer (type:depth-idx)                                                 Param #\n",
      "===============================================================================================\n",
      "VRPNet_L                                                               --\n",
      "├─LinearAttnEncoder: 1-1                                               2,560\n",
      "│    └─MultiheadAttention: 2-1                                         197,376\n",
      "│    │    └─NonDynamicallyQuantizableLinear: 3-1                       65,792\n",
      "│    └─Linear: 2-2                                                     768\n",
      "│    └─Linear: 2-3                                                     8,224\n",
      "│    └─LayerNorm: 2-4                                                  512\n",
      "│    └─Dropout: 2-5                                                    --\n",
      "│    └─ReLU: 2-6                                                       --\n",
      "├─Decoder: 1-2                                                         --\n",
      "│    └─TransformerDecoder: 2-7                                         --\n",
      "│    │    └─ModuleList: 3-2                                            16,992\n",
      "├─PositionalEncoding: 1-3                                              --\n",
      "===============================================================================================\n",
      "Total params: 292,224\n",
      "Trainable params: 292,224\n",
      "Non-trainable params: 0\n",
      "===============================================================================================\n"
     ]
    }
   ],
   "source": [
    "hidden_dim = 32\n",
    "num_layers_enc = 1\n",
    "num_layers_dec = 1\n",
    "num_heads = 8\n",
    "torch.cuda.empty_cache()\n",
    "vrp_net = VRPNet_L(dim_, hidden_dim, device, num_layers_enc, num_layers_dec, num_heads)\n",
    "if torch.cuda.is_available():\n",
    "    vrp_net.load_state_dict(torch.load('Saved models/POMO2025_04_12 00_54_260.6350972652435303best_model.pth',weights_only=True))\n",
    "else:\n",
    "    vrp_net.load_state_dict(torch.load('Saved models/POMO2025_04_12 00_54_260.6350972652435303best_model.pth',weights_only=False, map_location=torch.device('cpu')))\n",
    "vrp_net.eval()\n",
    "\n",
    "# for param in vrp_net.parameters():\n",
    "#     param.requires_grad = False\n",
    "print('VRP NET loaded on: ',vrp_net.device)\n",
    "print(summary(vrp_net))"
   ]
  },
  {
   "cell_type": "markdown",
   "metadata": {},
   "source": [
    "# Loading lseNet"
   ]
  },
  {
   "cell_type": "code",
   "execution_count": 29,
   "metadata": {},
   "outputs": [
    {
     "name": "stdout",
     "output_type": "stream",
     "text": [
      "n_inputs: 3\n",
      "n_outputs: 1\n",
      "layers: [20, 20, 10]\n",
      "io_scale: 1\n",
      "LSE_net:\n",
      "=================================================================\n",
      "Layer (type:depth-idx)                   Param #\n",
      "=================================================================\n",
      "dnn                                      --\n",
      "├─ModuleList: 1-1                        --\n",
      "│    └─Linear: 2-1                       (80)\n",
      "│    └─ReLU: 2-2                         --\n",
      "│    └─Linear: 2-3                       (420)\n",
      "│    └─ReLU: 2-4                         --\n",
      "│    └─Linear: 2-5                       (210)\n",
      "│    └─ReLU: 2-6                         --\n",
      "│    └─Linear: 2-7                       (11)\n",
      "=================================================================\n",
      "Total params: 721\n",
      "Trainable params: 0\n",
      "Non-trainable params: 721\n",
      "=================================================================\n"
     ]
    }
   ],
   "source": [
    "\n",
    "lse_data = torch.load('logSumExp_models/lse_2025_4_17__15_56_48.pth', weights_only=False)\n",
    "n_inputs = lse_data['n_inputs']\n",
    "n_outputs = lse_data['n_outputs']\n",
    "layers = lse_data['layers']\n",
    "weights = lse_data['model_state_dict']\n",
    "lse_net = LSE_net.dnn(n_inputs, n_outputs, layers)\n",
    "lse_net.to(device)\n",
    "lse_net.load_state_dict(weights)\n",
    "lse_net.eval()\n",
    "for p in lse_net.parameters():\n",
    "    p.requires_grad = False\n",
    "print(f'n_inputs: {n_inputs}\\nn_outputs: {n_outputs}\\nlayers: {layers}\\nio_scale: {io_scale}\\nLSE_net:\\n{summary(lse_net)}')"
   ]
  },
  {
   "cell_type": "code",
   "execution_count": 30,
   "metadata": {},
   "outputs": [
    {
     "name": "stdout",
     "output_type": "stream",
     "text": [
      "beta:1.000e-04\n",
      "\tTime: 0.03s\tFreeEnergy: -55032.02\tF_Grad: 4.910e-01\n",
      "\tTime: 0.02s\tFreeEnergy: -55032.04\tF_Grad: 4.985e-01\n",
      "\tTime: 0.02s\tFreeEnergy: -55032.05\tF_Grad: 4.803e-01\n",
      "\tTime: 0.01s\tFreeEnergy: -55032.06\tF_Grad: 4.597e-01\n",
      "\tTime: 0.02s\tFreeEnergy: -55032.07\tF_Grad: 4.400e-01\n",
      "\tTime: 0.02s\tFreeEnergy: -55032.07\tF_Grad: 4.214e-01\n",
      "\tTime: 0.02s\tFreeEnergy: -55032.08\tF_Grad: 4.042e-01\n",
      "\tTime: 0.02s\tFreeEnergy: -55032.09\tF_Grad: 3.884e-01\n",
      "\tTime: 0.02s\tFreeEnergy: -55032.10\tF_Grad: 3.739e-01\n",
      "\tTime: 0.02s\tFreeEnergy: -55032.10\tF_Grad: 3.602e-01\n",
      "\tTime: 0.02s\tFreeEnergy: -55032.11\tF_Grad: 3.473e-01\n",
      "\tTime: 0.02s\tFreeEnergy: -55032.11\tF_Grad: 3.348e-01\n",
      "\tTime: 0.02s\tFreeEnergy: -55032.12\tF_Grad: 3.227e-01\n",
      "\tTime: 0.02s\tFreeEnergy: -55032.12\tF_Grad: 3.109e-01\n",
      "\tTime: 0.02s\tFreeEnergy: -55032.14\tF_Grad: 2.994e-01\n",
      "\tTime: 0.02s\tFreeEnergy: -55032.14\tF_Grad: 2.881e-01\n",
      "\tTime: 0.02s\tFreeEnergy: -55032.14\tF_Grad: 2.770e-01\n",
      "\tTime: 0.02s\tFreeEnergy: -55032.14\tF_Grad: 2.662e-01\n",
      "\tTime: 0.02s\tFreeEnergy: -55032.14\tF_Grad: 2.556e-01\n",
      "\tTime: 0.02s\tFreeEnergy: -55032.15\tF_Grad: 2.453e-01\n",
      "beta:6.728e-04\n",
      "\tTime: 0.02s\tFreeEnergy: -9924.59\tF_Grad: 2.352e-01\n",
      "\tTime: 0.02s\tFreeEnergy: -9924.59\tF_Grad: 2.253e-01\n",
      "\tTime: 0.02s\tFreeEnergy: -9924.60\tF_Grad: 2.156e-01\n",
      "\tTime: 0.02s\tFreeEnergy: -9924.60\tF_Grad: 2.062e-01\n",
      "\tTime: 0.02s\tFreeEnergy: -9924.60\tF_Grad: 1.971e-01\n",
      "\tTime: 0.02s\tFreeEnergy: -9924.60\tF_Grad: 1.881e-01\n",
      "\tTime: 0.01s\tFreeEnergy: -9924.61\tF_Grad: 1.795e-01\n",
      "\tTime: 0.02s\tFreeEnergy: -9924.61\tF_Grad: 1.711e-01\n",
      "\tTime: 0.02s\tFreeEnergy: -9924.61\tF_Grad: 1.629e-01\n",
      "\tTime: 0.02s\tFreeEnergy: -9924.61\tF_Grad: 1.550e-01\n",
      "\tTime: 0.02s\tFreeEnergy: -9924.61\tF_Grad: 1.474e-01\n",
      "\tTime: 0.02s\tFreeEnergy: -9924.61\tF_Grad: 1.400e-01\n",
      "\tTime: 0.02s\tFreeEnergy: -9924.62\tF_Grad: 1.329e-01\n",
      "\tTime: 0.02s\tFreeEnergy: -9924.62\tF_Grad: 1.260e-01\n",
      "\tTime: 0.02s\tFreeEnergy: -9924.62\tF_Grad: 1.194e-01\n",
      "\tTime: 0.02s\tFreeEnergy: -9924.62\tF_Grad: 1.131e-01\n",
      "\tTime: 0.01s\tFreeEnergy: -9924.62\tF_Grad: 1.070e-01\n",
      "\tTime: 0.02s\tFreeEnergy: -9924.62\tF_Grad: 1.011e-01\n",
      "\tTime: 0.02s\tFreeEnergy: -9924.62\tF_Grad: 9.545e-02\n",
      "\tTime: 0.01s\tFreeEnergy: -9924.62\tF_Grad: 9.005e-02\n",
      "beta:4.526e-03\n",
      "\tTime: 0.01s\tFreeEnergy: -3219.67\tF_Grad: 8.488e-02\n",
      "\tTime: 0.02s\tFreeEnergy: -3219.67\tF_Grad: 7.994e-02\n",
      "\tTime: 0.02s\tFreeEnergy: -3219.67\tF_Grad: 7.522e-02\n",
      "\tTime: 0.02s\tFreeEnergy: -3219.67\tF_Grad: 7.071e-02\n",
      "\tTime: 0.02s\tFreeEnergy: -3219.67\tF_Grad: 6.642e-02\n",
      "\tTime: 0.02s\tFreeEnergy: -3219.67\tF_Grad: 6.233e-02\n",
      "\tTime: 0.02s\tFreeEnergy: -3219.67\tF_Grad: 5.844e-02\n",
      "\tTime: 0.02s\tFreeEnergy: -3219.67\tF_Grad: 5.475e-02\n",
      "\tTime: 0.02s\tFreeEnergy: -3219.67\tF_Grad: 5.124e-02\n",
      "\tTime: 0.02s\tFreeEnergy: -3219.67\tF_Grad: 4.791e-02\n",
      "\tTime: 0.01s\tFreeEnergy: -3219.67\tF_Grad: 4.476e-02\n",
      "\tTime: 0.02s\tFreeEnergy: -3219.67\tF_Grad: 4.178e-02\n",
      "\tTime: 0.02s\tFreeEnergy: -3219.67\tF_Grad: 3.896e-02\n",
      "\tTime: 0.02s\tFreeEnergy: -3219.67\tF_Grad: 3.630e-02\n",
      "\tTime: 0.02s\tFreeEnergy: -3219.67\tF_Grad: 3.379e-02\n",
      "\tTime: 0.02s\tFreeEnergy: -3219.67\tF_Grad: 3.142e-02\n",
      "\tTime: 0.02s\tFreeEnergy: -3219.67\tF_Grad: 2.920e-02\n",
      "\tTime: 0.02s\tFreeEnergy: -3219.67\tF_Grad: 2.710e-02\n",
      "\tTime: 0.02s\tFreeEnergy: -3219.67\tF_Grad: 2.514e-02\n",
      "\tTime: 0.02s\tFreeEnergy: -3219.67\tF_Grad: 2.329e-02\n",
      "beta:3.045e-02\n",
      "\tTime: 0.02s\tFreeEnergy: -2223.03\tF_Grad: 2.156e-02\n",
      "\tTime: 0.02s\tFreeEnergy: -2223.03\tF_Grad: 1.994e-02\n",
      "\tTime: 0.02s\tFreeEnergy: -2223.03\tF_Grad: 1.843e-02\n",
      "\tTime: 0.02s\tFreeEnergy: -2223.03\tF_Grad: 1.701e-02\n",
      "\tTime: 0.02s\tFreeEnergy: -2223.03\tF_Grad: 1.569e-02\n",
      "\tTime: 0.02s\tFreeEnergy: -2223.03\tF_Grad: 1.446e-02\n",
      "\tTime: 0.02s\tFreeEnergy: -2223.03\tF_Grad: 1.331e-02\n",
      "\tTime: 0.03s\tFreeEnergy: -2223.03\tF_Grad: 1.224e-02\n",
      "\tTime: 0.03s\tFreeEnergy: -2223.03\tF_Grad: 1.125e-02\n",
      "\tTime: 0.02s\tFreeEnergy: -2223.03\tF_Grad: 1.032e-02\n",
      "\tTime: 0.02s\tFreeEnergy: -2223.03\tF_Grad: 9.468e-03\n",
      "\tTime: 0.03s\tFreeEnergy: -2223.03\tF_Grad: 8.675e-03\n",
      "\tTime: 0.03s\tFreeEnergy: -2223.03\tF_Grad: 7.941e-03\n",
      "\tTime: 0.02s\tFreeEnergy: -2223.03\tF_Grad: 7.262e-03\n",
      "\tTime: 0.02s\tFreeEnergy: -2223.03\tF_Grad: 6.635e-03\n",
      "\tTime: 0.02s\tFreeEnergy: -2223.03\tF_Grad: 6.056e-03\n",
      "\tTime: 0.03s\tFreeEnergy: -2223.03\tF_Grad: 5.522e-03\n",
      "\tTime: 0.02s\tFreeEnergy: -2223.03\tF_Grad: 5.031e-03\n",
      "\tTime: 0.03s\tFreeEnergy: -2223.03\tF_Grad: 4.579e-03\n",
      "\tTime: 0.02s\tFreeEnergy: -2223.03\tF_Grad: 4.163e-03\n",
      "beta:2.048e-01\n",
      "\tTime: 0.03s\tFreeEnergy: -2074.89\tF_Grad: 3.782e-03\n",
      "\tTime: 0.02s\tFreeEnergy: -2074.89\tF_Grad: 3.432e-03\n",
      "\tTime: 0.03s\tFreeEnergy: -2074.89\tF_Grad: 3.111e-03\n",
      "\tTime: 0.07s\tFreeEnergy: -2074.89\tF_Grad: 2.818e-03\n",
      "\tTime: 0.03s\tFreeEnergy: -2074.89\tF_Grad: 2.550e-03\n",
      "\tTime: 0.02s\tFreeEnergy: -2074.89\tF_Grad: 2.305e-03\n",
      "\tTime: 0.03s\tFreeEnergy: -2074.89\tF_Grad: 2.081e-03\n",
      "\tTime: 0.02s\tFreeEnergy: -2074.89\tF_Grad: 1.877e-03\n",
      "\tTime: 0.02s\tFreeEnergy: -2074.89\tF_Grad: 1.692e-03\n",
      "\tTime: 0.03s\tFreeEnergy: -2074.89\tF_Grad: 1.523e-03\n",
      "\tTime: 0.02s\tFreeEnergy: -2074.89\tF_Grad: 1.370e-03\n",
      "\tTime: 0.02s\tFreeEnergy: -2074.89\tF_Grad: 1.231e-03\n",
      "\tTime: 0.02s\tFreeEnergy: -2074.89\tF_Grad: 1.105e-03\n",
      "\tTime: 0.02s\tFreeEnergy: -2074.89\tF_Grad: 9.907e-04\n",
      "\tTime: 0.03s\tFreeEnergy: -2074.89\tF_Grad: 8.873e-04\n",
      "\tTime: 0.02s\tFreeEnergy: -2074.89\tF_Grad: 7.941e-04\n",
      "\tTime: 0.02s\tFreeEnergy: -2074.89\tF_Grad: 7.099e-04\n",
      "\tTime: 0.02s\tFreeEnergy: -2074.89\tF_Grad: 6.339e-04\n",
      "\tTime: 0.03s\tFreeEnergy: -2074.89\tF_Grad: 5.656e-04\n",
      "\tTime: 0.02s\tFreeEnergy: -2074.89\tF_Grad: 5.039e-04\n",
      "beta:1.378e+00\n",
      "\tTime: 0.03s\tFreeEnergy: -2052.91\tF_Grad: 4.486e-04\n",
      "\tTime: 0.02s\tFreeEnergy: -2052.91\tF_Grad: 3.990e-04\n",
      "\tTime: 0.03s\tFreeEnergy: -2052.91\tF_Grad: 3.544e-04\n",
      "\tTime: 0.02s\tFreeEnergy: -2052.91\tF_Grad: 3.142e-04\n",
      "\tTime: 0.02s\tFreeEnergy: -2052.91\tF_Grad: 2.784e-04\n",
      "\tTime: 0.03s\tFreeEnergy: -2052.91\tF_Grad: 2.466e-04\n",
      "\tTime: 0.03s\tFreeEnergy: -2052.91\tF_Grad: 2.182e-04\n",
      "\tTime: 0.02s\tFreeEnergy: -2052.91\tF_Grad: 1.928e-04\n",
      "\tTime: 0.02s\tFreeEnergy: -2052.91\tF_Grad: 1.702e-04\n",
      "\tTime: 0.02s\tFreeEnergy: -2052.91\tF_Grad: 1.501e-04\n",
      "\tTime: 0.04s\tFreeEnergy: -2052.91\tF_Grad: 1.321e-04\n",
      "\tTime: 0.03s\tFreeEnergy: -2052.91\tF_Grad: 1.162e-04\n",
      "\tTime: 0.02s\tFreeEnergy: -2052.91\tF_Grad: 1.021e-04\n",
      "\tTime: 0.02s\tFreeEnergy: -2052.91\tF_Grad: 8.969e-05\n",
      "\tTime: 0.03s\tFreeEnergy: -2052.91\tF_Grad: 7.854e-05\n",
      "\tTime: 0.03s\tFreeEnergy: -2052.91\tF_Grad: 6.878e-05\n",
      "\tTime: 0.03s\tFreeEnergy: -2052.91\tF_Grad: 6.015e-05\n",
      "\tTime: 0.04s\tFreeEnergy: -2052.91\tF_Grad: 5.266e-05\n",
      "\tTime: 0.02s\tFreeEnergy: -2052.91\tF_Grad: 4.585e-05\n",
      "\tTime: 0.02s\tFreeEnergy: -2052.91\tF_Grad: 4.015e-05\n",
      "beta:9.271e+00\n",
      "\tTime: 0.03s\tFreeEnergy: -2049.96\tF_Grad: 3.473e-05\n",
      "\tTime: 0.02s\tFreeEnergy: -2049.96\tF_Grad: 3.029e-05\n",
      "\tTime: 0.02s\tFreeEnergy: -2049.96\tF_Grad: 2.654e-05\n",
      "\tTime: 0.03s\tFreeEnergy: -2049.96\tF_Grad: 2.273e-05\n",
      "\tTime: 0.04s\tFreeEnergy: -2049.96\tF_Grad: 1.993e-05\n",
      "\tTime: 0.03s\tFreeEnergy: -2049.96\tF_Grad: 1.741e-05\n",
      "\tTime: 0.03s\tFreeEnergy: -2049.96\tF_Grad: 1.478e-05\n",
      "\tTime: 0.02s\tFreeEnergy: -2049.96\tF_Grad: 1.290e-05\n",
      "\tTime: 0.03s\tFreeEnergy: -2049.96\tF_Grad: 1.099e-05\n",
      "\tTime: 0.03s\tFreeEnergy: -2049.96\tF_Grad: 9.082e-06\n",
      "\tTime: 0.03s\tFreeEnergy: -2049.96\tF_Grad: 8.188e-06\n",
      "\tTime: 0.02s\tFreeEnergy: -2049.96\tF_Grad: 7.520e-06\n",
      "\tTime: 0.03s\tFreeEnergy: -2049.96\tF_Grad: 6.645e-06\n",
      "\tTime: 0.02s\tFreeEnergy: -2049.96\tF_Grad: 5.565e-06\n",
      "\tTime: 0.02s\tFreeEnergy: -2049.96\tF_Grad: 4.610e-06\n",
      "\tTime: 0.02s\tFreeEnergy: -2049.96\tF_Grad: 3.745e-06\n",
      "\tTime: 0.02s\tFreeEnergy: -2049.96\tF_Grad: 2.676e-06\n",
      "\tTime: 0.03s\tFreeEnergy: -2049.96\tF_Grad: 2.563e-06\n",
      "\tTime: 0.03s\tFreeEnergy: -2049.96\tF_Grad: 2.563e-06\n",
      "\tTime: 0.02s\tFreeEnergy: -2049.96\tF_Grad: 2.563e-06\n",
      "beta:6.237e+01\n",
      "\tTime: 0.02s\tFreeEnergy: -2051.64\tF_Grad: 2.563e-06\n",
      "\tTime: 0.03s\tFreeEnergy: -2051.64\tF_Grad: 2.563e-06\n",
      "\tTime: 0.02s\tFreeEnergy: -2051.64\tF_Grad: 2.563e-06\n",
      "\tTime: 0.02s\tFreeEnergy: -2051.64\tF_Grad: 2.563e-06\n",
      "\tTime: 0.02s\tFreeEnergy: -2051.64\tF_Grad: 2.563e-06\n",
      "\tTime: 0.02s\tFreeEnergy: -2051.64\tF_Grad: 2.563e-06\n",
      "\tTime: 0.03s\tFreeEnergy: -2051.64\tF_Grad: 2.563e-06\n",
      "\tTime: 0.03s\tFreeEnergy: -2051.64\tF_Grad: 2.563e-06\n",
      "\tTime: 0.02s\tFreeEnergy: -2051.64\tF_Grad: 2.563e-06\n",
      "\tTime: 0.02s\tFreeEnergy: -2051.64\tF_Grad: 2.563e-06\n",
      "\tTime: 0.03s\tFreeEnergy: -2051.64\tF_Grad: 2.563e-06\n",
      "\tTime: 0.02s\tFreeEnergy: -2051.64\tF_Grad: 2.563e-06\n",
      "\tTime: 0.02s\tFreeEnergy: -2051.64\tF_Grad: 2.563e-06\n",
      "\tTime: 0.07s\tFreeEnergy: -2051.64\tF_Grad: 2.563e-06\n",
      "\tTime: 0.02s\tFreeEnergy: -2051.64\tF_Grad: 2.563e-06\n",
      "\tTime: 0.02s\tFreeEnergy: -2051.64\tF_Grad: 2.563e-06\n",
      "\tTime: 0.02s\tFreeEnergy: -2051.64\tF_Grad: 2.563e-06\n",
      "\tTime: 0.03s\tFreeEnergy: -2051.64\tF_Grad: 2.563e-06\n",
      "\tTime: 0.02s\tFreeEnergy: -2051.64\tF_Grad: 2.563e-06\n",
      "\tTime: 0.02s\tFreeEnergy: -2051.64\tF_Grad: 2.563e-06\n",
      "beta:4.196e+02\n",
      "\tTime: 0.03s\tFreeEnergy: -2067.82\tF_Grad: 2.631e-06\n",
      "\tTime: 0.03s\tFreeEnergy: -2067.82\tF_Grad: 2.631e-06\n",
      "\tTime: 0.02s\tFreeEnergy: -2067.82\tF_Grad: 2.631e-06\n",
      "\tTime: 0.03s\tFreeEnergy: -2067.82\tF_Grad: 2.631e-06\n",
      "\tTime: 0.02s\tFreeEnergy: -2067.82\tF_Grad: 2.631e-06\n",
      "\tTime: 0.03s\tFreeEnergy: -2067.82\tF_Grad: 2.631e-06\n",
      "\tTime: 0.03s\tFreeEnergy: -2067.82\tF_Grad: 2.631e-06\n",
      "\tTime: 0.03s\tFreeEnergy: -2067.82\tF_Grad: 2.631e-06\n",
      "\tTime: 0.02s\tFreeEnergy: -2067.82\tF_Grad: 2.631e-06\n",
      "\tTime: 0.02s\tFreeEnergy: -2067.82\tF_Grad: 2.631e-06\n",
      "\tTime: 0.03s\tFreeEnergy: -2067.82\tF_Grad: 2.631e-06\n",
      "\tTime: 0.03s\tFreeEnergy: -2067.82\tF_Grad: 2.624e-06\n",
      "\tTime: 0.03s\tFreeEnergy: -2067.82\tF_Grad: 2.624e-06\n",
      "\tTime: 0.03s\tFreeEnergy: -2067.82\tF_Grad: 2.624e-06\n",
      "\tTime: 0.02s\tFreeEnergy: -2067.82\tF_Grad: 2.491e-06\n",
      "\tTime: 0.02s\tFreeEnergy: -2067.82\tF_Grad: 2.518e-06\n",
      "\tTime: 0.02s\tFreeEnergy: -2067.82\tF_Grad: 2.561e-06\n",
      "\tTime: 0.02s\tFreeEnergy: -2067.82\tF_Grad: 2.561e-06\n",
      "\tTime: 0.02s\tFreeEnergy: -2067.82\tF_Grad: 2.439e-06\n",
      "\tTime: 0.03s\tFreeEnergy: -2067.82\tF_Grad: 2.439e-06\n",
      "beta:2.823e+03\n",
      "\tTime: 0.02s\tFreeEnergy: -2104.66\tF_Grad: 2.791e-06\n",
      "\tTime: 0.02s\tFreeEnergy: -2104.66\tF_Grad: 2.342e-06\n",
      "\tTime: 0.03s\tFreeEnergy: -2104.66\tF_Grad: 2.436e-06\n",
      "\tTime: 0.02s\tFreeEnergy: -2104.66\tF_Grad: 2.436e-06\n",
      "\tTime: 0.02s\tFreeEnergy: -2104.66\tF_Grad: 2.436e-06\n",
      "\tTime: 0.03s\tFreeEnergy: -2104.66\tF_Grad: 2.436e-06\n",
      "\tTime: 0.02s\tFreeEnergy: -2104.66\tF_Grad: 2.436e-06\n",
      "\tTime: 0.02s\tFreeEnergy: -2104.66\tF_Grad: 2.299e-06\n",
      "\tTime: 0.02s\tFreeEnergy: -2104.66\tF_Grad: 2.299e-06\n",
      "\tTime: 0.06s\tFreeEnergy: -2104.66\tF_Grad: 2.346e-06\n",
      "\tTime: 0.02s\tFreeEnergy: -2104.66\tF_Grad: 2.346e-06\n",
      "\tTime: 0.03s\tFreeEnergy: -2104.66\tF_Grad: 2.346e-06\n",
      "\tTime: 0.03s\tFreeEnergy: -2104.66\tF_Grad: 2.346e-06\n",
      "\tTime: 0.03s\tFreeEnergy: -2104.66\tF_Grad: 2.167e-06\n",
      "\tTime: 0.03s\tFreeEnergy: -2104.66\tF_Grad: 2.167e-06\n",
      "\tTime: 0.03s\tFreeEnergy: -2104.66\tF_Grad: 2.167e-06\n"
     ]
    },
    {
     "ename": "KeyboardInterrupt",
     "evalue": "",
     "output_type": "error",
     "traceback": [
      "\u001b[0;31m---------------------------------------------------------------------------\u001b[0m",
      "\u001b[0;31mKeyboardInterrupt\u001b[0m                         Traceback (most recent call last)",
      "Cell \u001b[0;32mIn[30], line 16\u001b[0m\n\u001b[1;32m     13\u001b[0m s \u001b[38;5;241m=\u001b[39m time\u001b[38;5;241m.\u001b[39mtime()\n\u001b[1;32m     14\u001b[0m \u001b[38;5;28;01mwith\u001b[39;00m torch\u001b[38;5;241m.\u001b[39mno_grad():\n\u001b[1;32m     15\u001b[0m     \u001b[38;5;66;03m# forward pass: no activations are saved for grad\u001b[39;00m\n\u001b[0;32m---> 16\u001b[0m     _, actions \u001b[38;5;241m=\u001b[39m \u001b[43mvrp_net\u001b[49m\u001b[43m(\u001b[49m\u001b[43mdata\u001b[49m\u001b[43m,\u001b[49m\u001b[43m \u001b[49m\u001b[43mmod\u001b[49m\u001b[38;5;241;43m=\u001b[39;49m\u001b[38;5;124;43m'\u001b[39;49m\u001b[38;5;124;43meval_greedy\u001b[39;49m\u001b[38;5;124;43m'\u001b[39;49m\u001b[43m)\u001b[49m\n\u001b[1;32m     17\u001b[0m e \u001b[38;5;241m=\u001b[39m time\u001b[38;5;241m.\u001b[39mtime()\n\u001b[1;32m     18\u001b[0m actions\u001b[38;5;241m.\u001b[39mdetach()\n",
      "File \u001b[0;32m~/Library/Python/3.9/lib/python/site-packages/torch/nn/modules/module.py:1739\u001b[0m, in \u001b[0;36mModule._wrapped_call_impl\u001b[0;34m(self, *args, **kwargs)\u001b[0m\n\u001b[1;32m   1737\u001b[0m     \u001b[38;5;28;01mreturn\u001b[39;00m \u001b[38;5;28mself\u001b[39m\u001b[38;5;241m.\u001b[39m_compiled_call_impl(\u001b[38;5;241m*\u001b[39margs, \u001b[38;5;241m*\u001b[39m\u001b[38;5;241m*\u001b[39mkwargs)  \u001b[38;5;66;03m# type: ignore[misc]\u001b[39;00m\n\u001b[1;32m   1738\u001b[0m \u001b[38;5;28;01melse\u001b[39;00m:\n\u001b[0;32m-> 1739\u001b[0m     \u001b[38;5;28;01mreturn\u001b[39;00m \u001b[38;5;28;43mself\u001b[39;49m\u001b[38;5;241;43m.\u001b[39;49m\u001b[43m_call_impl\u001b[49m\u001b[43m(\u001b[49m\u001b[38;5;241;43m*\u001b[39;49m\u001b[43margs\u001b[49m\u001b[43m,\u001b[49m\u001b[43m \u001b[49m\u001b[38;5;241;43m*\u001b[39;49m\u001b[38;5;241;43m*\u001b[39;49m\u001b[43mkwargs\u001b[49m\u001b[43m)\u001b[49m\n",
      "File \u001b[0;32m~/Library/Python/3.9/lib/python/site-packages/torch/nn/modules/module.py:1750\u001b[0m, in \u001b[0;36mModule._call_impl\u001b[0;34m(self, *args, **kwargs)\u001b[0m\n\u001b[1;32m   1745\u001b[0m \u001b[38;5;66;03m# If we don't have any hooks, we want to skip the rest of the logic in\u001b[39;00m\n\u001b[1;32m   1746\u001b[0m \u001b[38;5;66;03m# this function, and just call forward.\u001b[39;00m\n\u001b[1;32m   1747\u001b[0m \u001b[38;5;28;01mif\u001b[39;00m \u001b[38;5;129;01mnot\u001b[39;00m (\u001b[38;5;28mself\u001b[39m\u001b[38;5;241m.\u001b[39m_backward_hooks \u001b[38;5;129;01mor\u001b[39;00m \u001b[38;5;28mself\u001b[39m\u001b[38;5;241m.\u001b[39m_backward_pre_hooks \u001b[38;5;129;01mor\u001b[39;00m \u001b[38;5;28mself\u001b[39m\u001b[38;5;241m.\u001b[39m_forward_hooks \u001b[38;5;129;01mor\u001b[39;00m \u001b[38;5;28mself\u001b[39m\u001b[38;5;241m.\u001b[39m_forward_pre_hooks\n\u001b[1;32m   1748\u001b[0m         \u001b[38;5;129;01mor\u001b[39;00m _global_backward_pre_hooks \u001b[38;5;129;01mor\u001b[39;00m _global_backward_hooks\n\u001b[1;32m   1749\u001b[0m         \u001b[38;5;129;01mor\u001b[39;00m _global_forward_hooks \u001b[38;5;129;01mor\u001b[39;00m _global_forward_pre_hooks):\n\u001b[0;32m-> 1750\u001b[0m     \u001b[38;5;28;01mreturn\u001b[39;00m \u001b[43mforward_call\u001b[49m\u001b[43m(\u001b[49m\u001b[38;5;241;43m*\u001b[39;49m\u001b[43margs\u001b[49m\u001b[43m,\u001b[49m\u001b[43m \u001b[49m\u001b[38;5;241;43m*\u001b[39;49m\u001b[38;5;241;43m*\u001b[39;49m\u001b[43mkwargs\u001b[49m\u001b[43m)\u001b[49m\n\u001b[1;32m   1752\u001b[0m result \u001b[38;5;241m=\u001b[39m \u001b[38;5;28;01mNone\u001b[39;00m\n\u001b[1;32m   1753\u001b[0m called_always_called_hooks \u001b[38;5;241m=\u001b[39m \u001b[38;5;28mset\u001b[39m()\n",
      "File \u001b[0;32m~/Documents/NASA_ULI/Review_May2025/LearningFLPO/VRP_Net_L.py:130\u001b[0m, in \u001b[0;36mVRPNet_L.forward\u001b[0;34m(self, X, m_, mod)\u001b[0m\n\u001b[1;32m    128\u001b[0m \u001b[38;5;28;01mdef\u001b[39;00m \u001b[38;5;21mforward\u001b[39m(\u001b[38;5;28mself\u001b[39m, X, m_ \u001b[38;5;241m=\u001b[39m \u001b[38;5;241m3\u001b[39m, mod\u001b[38;5;241m=\u001b[39m\u001b[38;5;124m'\u001b[39m\u001b[38;5;124mtrain\u001b[39m\u001b[38;5;124m'\u001b[39m):\n\u001b[1;32m    129\u001b[0m     batch_size, seq_length, _ \u001b[38;5;241m=\u001b[39m X\u001b[38;5;241m.\u001b[39msize()\n\u001b[0;32m--> 130\u001b[0m     encoded_cities \u001b[38;5;241m=\u001b[39m \u001b[38;5;28;43mself\u001b[39;49m\u001b[38;5;241;43m.\u001b[39;49m\u001b[43mencoder\u001b[49m\u001b[43m(\u001b[49m\u001b[43mX\u001b[49m\u001b[43m)\u001b[49m \u001b[38;5;66;03m# Linear Encoded (batch_size,m,d)\u001b[39;00m\n\u001b[1;32m    131\u001b[0m     outs \u001b[38;5;241m=\u001b[39m torch\u001b[38;5;241m.\u001b[39mzeros(batch_size, seq_length, seq_length)\u001b[38;5;241m.\u001b[39mto(\u001b[38;5;28mself\u001b[39m\u001b[38;5;241m.\u001b[39mdevice) \u001b[38;5;66;03m# initialization of action probabilities\u001b[39;00m\n\u001b[1;32m    132\u001b[0m     action_indices \u001b[38;5;241m=\u001b[39m torch\u001b[38;5;241m.\u001b[39mzeros(batch_size, seq_length, \u001b[38;5;241m1\u001b[39m)\u001b[38;5;241m.\u001b[39mto(\u001b[38;5;28mself\u001b[39m\u001b[38;5;241m.\u001b[39mdevice)\n",
      "File \u001b[0;32m~/Library/Python/3.9/lib/python/site-packages/torch/nn/modules/module.py:1739\u001b[0m, in \u001b[0;36mModule._wrapped_call_impl\u001b[0;34m(self, *args, **kwargs)\u001b[0m\n\u001b[1;32m   1737\u001b[0m     \u001b[38;5;28;01mreturn\u001b[39;00m \u001b[38;5;28mself\u001b[39m\u001b[38;5;241m.\u001b[39m_compiled_call_impl(\u001b[38;5;241m*\u001b[39margs, \u001b[38;5;241m*\u001b[39m\u001b[38;5;241m*\u001b[39mkwargs)  \u001b[38;5;66;03m# type: ignore[misc]\u001b[39;00m\n\u001b[1;32m   1738\u001b[0m \u001b[38;5;28;01melse\u001b[39;00m:\n\u001b[0;32m-> 1739\u001b[0m     \u001b[38;5;28;01mreturn\u001b[39;00m \u001b[38;5;28;43mself\u001b[39;49m\u001b[38;5;241;43m.\u001b[39;49m\u001b[43m_call_impl\u001b[49m\u001b[43m(\u001b[49m\u001b[38;5;241;43m*\u001b[39;49m\u001b[43margs\u001b[49m\u001b[43m,\u001b[49m\u001b[43m \u001b[49m\u001b[38;5;241;43m*\u001b[39;49m\u001b[38;5;241;43m*\u001b[39;49m\u001b[43mkwargs\u001b[49m\u001b[43m)\u001b[49m\n",
      "File \u001b[0;32m~/Library/Python/3.9/lib/python/site-packages/torch/nn/modules/module.py:1750\u001b[0m, in \u001b[0;36mModule._call_impl\u001b[0;34m(self, *args, **kwargs)\u001b[0m\n\u001b[1;32m   1745\u001b[0m \u001b[38;5;66;03m# If we don't have any hooks, we want to skip the rest of the logic in\u001b[39;00m\n\u001b[1;32m   1746\u001b[0m \u001b[38;5;66;03m# this function, and just call forward.\u001b[39;00m\n\u001b[1;32m   1747\u001b[0m \u001b[38;5;28;01mif\u001b[39;00m \u001b[38;5;129;01mnot\u001b[39;00m (\u001b[38;5;28mself\u001b[39m\u001b[38;5;241m.\u001b[39m_backward_hooks \u001b[38;5;129;01mor\u001b[39;00m \u001b[38;5;28mself\u001b[39m\u001b[38;5;241m.\u001b[39m_backward_pre_hooks \u001b[38;5;129;01mor\u001b[39;00m \u001b[38;5;28mself\u001b[39m\u001b[38;5;241m.\u001b[39m_forward_hooks \u001b[38;5;129;01mor\u001b[39;00m \u001b[38;5;28mself\u001b[39m\u001b[38;5;241m.\u001b[39m_forward_pre_hooks\n\u001b[1;32m   1748\u001b[0m         \u001b[38;5;129;01mor\u001b[39;00m _global_backward_pre_hooks \u001b[38;5;129;01mor\u001b[39;00m _global_backward_hooks\n\u001b[1;32m   1749\u001b[0m         \u001b[38;5;129;01mor\u001b[39;00m _global_forward_hooks \u001b[38;5;129;01mor\u001b[39;00m _global_forward_pre_hooks):\n\u001b[0;32m-> 1750\u001b[0m     \u001b[38;5;28;01mreturn\u001b[39;00m \u001b[43mforward_call\u001b[49m\u001b[43m(\u001b[49m\u001b[38;5;241;43m*\u001b[39;49m\u001b[43margs\u001b[49m\u001b[43m,\u001b[49m\u001b[43m \u001b[49m\u001b[38;5;241;43m*\u001b[39;49m\u001b[38;5;241;43m*\u001b[39;49m\u001b[43mkwargs\u001b[49m\u001b[43m)\u001b[49m\n\u001b[1;32m   1752\u001b[0m result \u001b[38;5;241m=\u001b[39m \u001b[38;5;28;01mNone\u001b[39;00m\n\u001b[1;32m   1753\u001b[0m called_always_called_hooks \u001b[38;5;241m=\u001b[39m \u001b[38;5;28mset\u001b[39m()\n",
      "File \u001b[0;32m~/Documents/NASA_ULI/Review_May2025/LearningFLPO/VRP_Net_L.py:66\u001b[0m, in \u001b[0;36mLinearAttnEncoder.forward\u001b[0;34m(self, src, src_mask, src_key_padding_mask)\u001b[0m\n\u001b[1;32m     63\u001b[0m K \u001b[38;5;241m=\u001b[39m \u001b[38;5;28mself\u001b[39m\u001b[38;5;241m.\u001b[39mkey_vectors\u001b[38;5;241m.\u001b[39munsqueeze(\u001b[38;5;241m0\u001b[39m)\u001b[38;5;241m.\u001b[39mexpand(batch_size, \u001b[38;5;241m-\u001b[39m\u001b[38;5;241m1\u001b[39m, \u001b[38;5;241m-\u001b[39m\u001b[38;5;241m1\u001b[39m)\n\u001b[1;32m     65\u001b[0m \u001b[38;5;66;03m# Apply cross-attention where Q attends to X (K, V)\u001b[39;00m\n\u001b[0;32m---> 66\u001b[0m attn_output, _ \u001b[38;5;241m=\u001b[39m \u001b[38;5;28;43mself\u001b[39;49m\u001b[38;5;241;43m.\u001b[39;49m\u001b[43mself_attn\u001b[49m\u001b[43m(\u001b[49m\n\u001b[1;32m     67\u001b[0m \u001b[43m    \u001b[49m\u001b[43mquery\u001b[49m\u001b[38;5;241;43m=\u001b[39;49m\u001b[43msrc\u001b[49m\u001b[43m,\u001b[49m\u001b[43m \u001b[49m\n\u001b[1;32m     68\u001b[0m \u001b[43m    \u001b[49m\u001b[43mkey\u001b[49m\u001b[38;5;241;43m=\u001b[39;49m\u001b[43mK\u001b[49m\u001b[43m,\u001b[49m\u001b[43m \u001b[49m\n\u001b[1;32m     69\u001b[0m \u001b[43m    \u001b[49m\u001b[43mvalue\u001b[49m\u001b[38;5;241;43m=\u001b[39;49m\u001b[43mK\u001b[49m\u001b[43m,\u001b[49m\u001b[43m \u001b[49m\n\u001b[1;32m     70\u001b[0m \u001b[43m    \u001b[49m\u001b[43mattn_mask\u001b[49m\u001b[38;5;241;43m=\u001b[39;49m\u001b[43msrc_mask\u001b[49m\u001b[43m,\u001b[49m\u001b[43m \u001b[49m\n\u001b[1;32m     71\u001b[0m \u001b[43m    \u001b[49m\u001b[43mkey_padding_mask\u001b[49m\u001b[38;5;241;43m=\u001b[39;49m\u001b[43msrc_key_padding_mask\u001b[49m\n\u001b[1;32m     72\u001b[0m \u001b[43m\u001b[49m\u001b[43m)\u001b[49m\n\u001b[1;32m     73\u001b[0m \u001b[38;5;66;03m# Residual connection + LayerNorm\u001b[39;00m\n\u001b[1;32m     74\u001b[0m src \u001b[38;5;241m=\u001b[39m \u001b[38;5;28mself\u001b[39m\u001b[38;5;241m.\u001b[39mlinear2(\u001b[38;5;28mself\u001b[39m\u001b[38;5;241m.\u001b[39mnorm(src \u001b[38;5;241m+\u001b[39m \u001b[38;5;28mself\u001b[39m\u001b[38;5;241m.\u001b[39mdropout(attn_output)))\n",
      "File \u001b[0;32m~/Library/Python/3.9/lib/python/site-packages/torch/nn/modules/module.py:1739\u001b[0m, in \u001b[0;36mModule._wrapped_call_impl\u001b[0;34m(self, *args, **kwargs)\u001b[0m\n\u001b[1;32m   1737\u001b[0m     \u001b[38;5;28;01mreturn\u001b[39;00m \u001b[38;5;28mself\u001b[39m\u001b[38;5;241m.\u001b[39m_compiled_call_impl(\u001b[38;5;241m*\u001b[39margs, \u001b[38;5;241m*\u001b[39m\u001b[38;5;241m*\u001b[39mkwargs)  \u001b[38;5;66;03m# type: ignore[misc]\u001b[39;00m\n\u001b[1;32m   1738\u001b[0m \u001b[38;5;28;01melse\u001b[39;00m:\n\u001b[0;32m-> 1739\u001b[0m     \u001b[38;5;28;01mreturn\u001b[39;00m \u001b[38;5;28;43mself\u001b[39;49m\u001b[38;5;241;43m.\u001b[39;49m\u001b[43m_call_impl\u001b[49m\u001b[43m(\u001b[49m\u001b[38;5;241;43m*\u001b[39;49m\u001b[43margs\u001b[49m\u001b[43m,\u001b[49m\u001b[43m \u001b[49m\u001b[38;5;241;43m*\u001b[39;49m\u001b[38;5;241;43m*\u001b[39;49m\u001b[43mkwargs\u001b[49m\u001b[43m)\u001b[49m\n",
      "File \u001b[0;32m~/Library/Python/3.9/lib/python/site-packages/torch/nn/modules/module.py:1750\u001b[0m, in \u001b[0;36mModule._call_impl\u001b[0;34m(self, *args, **kwargs)\u001b[0m\n\u001b[1;32m   1745\u001b[0m \u001b[38;5;66;03m# If we don't have any hooks, we want to skip the rest of the logic in\u001b[39;00m\n\u001b[1;32m   1746\u001b[0m \u001b[38;5;66;03m# this function, and just call forward.\u001b[39;00m\n\u001b[1;32m   1747\u001b[0m \u001b[38;5;28;01mif\u001b[39;00m \u001b[38;5;129;01mnot\u001b[39;00m (\u001b[38;5;28mself\u001b[39m\u001b[38;5;241m.\u001b[39m_backward_hooks \u001b[38;5;129;01mor\u001b[39;00m \u001b[38;5;28mself\u001b[39m\u001b[38;5;241m.\u001b[39m_backward_pre_hooks \u001b[38;5;129;01mor\u001b[39;00m \u001b[38;5;28mself\u001b[39m\u001b[38;5;241m.\u001b[39m_forward_hooks \u001b[38;5;129;01mor\u001b[39;00m \u001b[38;5;28mself\u001b[39m\u001b[38;5;241m.\u001b[39m_forward_pre_hooks\n\u001b[1;32m   1748\u001b[0m         \u001b[38;5;129;01mor\u001b[39;00m _global_backward_pre_hooks \u001b[38;5;129;01mor\u001b[39;00m _global_backward_hooks\n\u001b[1;32m   1749\u001b[0m         \u001b[38;5;129;01mor\u001b[39;00m _global_forward_hooks \u001b[38;5;129;01mor\u001b[39;00m _global_forward_pre_hooks):\n\u001b[0;32m-> 1750\u001b[0m     \u001b[38;5;28;01mreturn\u001b[39;00m \u001b[43mforward_call\u001b[49m\u001b[43m(\u001b[49m\u001b[38;5;241;43m*\u001b[39;49m\u001b[43margs\u001b[49m\u001b[43m,\u001b[49m\u001b[43m \u001b[49m\u001b[38;5;241;43m*\u001b[39;49m\u001b[38;5;241;43m*\u001b[39;49m\u001b[43mkwargs\u001b[49m\u001b[43m)\u001b[49m\n\u001b[1;32m   1752\u001b[0m result \u001b[38;5;241m=\u001b[39m \u001b[38;5;28;01mNone\u001b[39;00m\n\u001b[1;32m   1753\u001b[0m called_always_called_hooks \u001b[38;5;241m=\u001b[39m \u001b[38;5;28mset\u001b[39m()\n",
      "File \u001b[0;32m~/Library/Python/3.9/lib/python/site-packages/torch/nn/modules/activation.py:1373\u001b[0m, in \u001b[0;36mMultiheadAttention.forward\u001b[0;34m(self, query, key, value, key_padding_mask, need_weights, attn_mask, average_attn_weights, is_causal)\u001b[0m\n\u001b[1;32m   1347\u001b[0m     attn_output, attn_output_weights \u001b[38;5;241m=\u001b[39m F\u001b[38;5;241m.\u001b[39mmulti_head_attention_forward(\n\u001b[1;32m   1348\u001b[0m         query,\n\u001b[1;32m   1349\u001b[0m         key,\n\u001b[0;32m   (...)\u001b[0m\n\u001b[1;32m   1370\u001b[0m         is_causal\u001b[38;5;241m=\u001b[39mis_causal,\n\u001b[1;32m   1371\u001b[0m     )\n\u001b[1;32m   1372\u001b[0m \u001b[38;5;28;01melse\u001b[39;00m:\n\u001b[0;32m-> 1373\u001b[0m     attn_output, attn_output_weights \u001b[38;5;241m=\u001b[39m \u001b[43mF\u001b[49m\u001b[38;5;241;43m.\u001b[39;49m\u001b[43mmulti_head_attention_forward\u001b[49m\u001b[43m(\u001b[49m\n\u001b[1;32m   1374\u001b[0m \u001b[43m        \u001b[49m\u001b[43mquery\u001b[49m\u001b[43m,\u001b[49m\n\u001b[1;32m   1375\u001b[0m \u001b[43m        \u001b[49m\u001b[43mkey\u001b[49m\u001b[43m,\u001b[49m\n\u001b[1;32m   1376\u001b[0m \u001b[43m        \u001b[49m\u001b[43mvalue\u001b[49m\u001b[43m,\u001b[49m\n\u001b[1;32m   1377\u001b[0m \u001b[43m        \u001b[49m\u001b[38;5;28;43mself\u001b[39;49m\u001b[38;5;241;43m.\u001b[39;49m\u001b[43membed_dim\u001b[49m\u001b[43m,\u001b[49m\n\u001b[1;32m   1378\u001b[0m \u001b[43m        \u001b[49m\u001b[38;5;28;43mself\u001b[39;49m\u001b[38;5;241;43m.\u001b[39;49m\u001b[43mnum_heads\u001b[49m\u001b[43m,\u001b[49m\n\u001b[1;32m   1379\u001b[0m \u001b[43m        \u001b[49m\u001b[38;5;28;43mself\u001b[39;49m\u001b[38;5;241;43m.\u001b[39;49m\u001b[43min_proj_weight\u001b[49m\u001b[43m,\u001b[49m\n\u001b[1;32m   1380\u001b[0m \u001b[43m        \u001b[49m\u001b[38;5;28;43mself\u001b[39;49m\u001b[38;5;241;43m.\u001b[39;49m\u001b[43min_proj_bias\u001b[49m\u001b[43m,\u001b[49m\n\u001b[1;32m   1381\u001b[0m \u001b[43m        \u001b[49m\u001b[38;5;28;43mself\u001b[39;49m\u001b[38;5;241;43m.\u001b[39;49m\u001b[43mbias_k\u001b[49m\u001b[43m,\u001b[49m\n\u001b[1;32m   1382\u001b[0m \u001b[43m        \u001b[49m\u001b[38;5;28;43mself\u001b[39;49m\u001b[38;5;241;43m.\u001b[39;49m\u001b[43mbias_v\u001b[49m\u001b[43m,\u001b[49m\n\u001b[1;32m   1383\u001b[0m \u001b[43m        \u001b[49m\u001b[38;5;28;43mself\u001b[39;49m\u001b[38;5;241;43m.\u001b[39;49m\u001b[43madd_zero_attn\u001b[49m\u001b[43m,\u001b[49m\n\u001b[1;32m   1384\u001b[0m \u001b[43m        \u001b[49m\u001b[38;5;28;43mself\u001b[39;49m\u001b[38;5;241;43m.\u001b[39;49m\u001b[43mdropout\u001b[49m\u001b[43m,\u001b[49m\n\u001b[1;32m   1385\u001b[0m \u001b[43m        \u001b[49m\u001b[38;5;28;43mself\u001b[39;49m\u001b[38;5;241;43m.\u001b[39;49m\u001b[43mout_proj\u001b[49m\u001b[38;5;241;43m.\u001b[39;49m\u001b[43mweight\u001b[49m\u001b[43m,\u001b[49m\n\u001b[1;32m   1386\u001b[0m \u001b[43m        \u001b[49m\u001b[38;5;28;43mself\u001b[39;49m\u001b[38;5;241;43m.\u001b[39;49m\u001b[43mout_proj\u001b[49m\u001b[38;5;241;43m.\u001b[39;49m\u001b[43mbias\u001b[49m\u001b[43m,\u001b[49m\n\u001b[1;32m   1387\u001b[0m \u001b[43m        \u001b[49m\u001b[43mtraining\u001b[49m\u001b[38;5;241;43m=\u001b[39;49m\u001b[38;5;28;43mself\u001b[39;49m\u001b[38;5;241;43m.\u001b[39;49m\u001b[43mtraining\u001b[49m\u001b[43m,\u001b[49m\n\u001b[1;32m   1388\u001b[0m \u001b[43m        \u001b[49m\u001b[43mkey_padding_mask\u001b[49m\u001b[38;5;241;43m=\u001b[39;49m\u001b[43mkey_padding_mask\u001b[49m\u001b[43m,\u001b[49m\n\u001b[1;32m   1389\u001b[0m \u001b[43m        \u001b[49m\u001b[43mneed_weights\u001b[49m\u001b[38;5;241;43m=\u001b[39;49m\u001b[43mneed_weights\u001b[49m\u001b[43m,\u001b[49m\n\u001b[1;32m   1390\u001b[0m \u001b[43m        \u001b[49m\u001b[43mattn_mask\u001b[49m\u001b[38;5;241;43m=\u001b[39;49m\u001b[43mattn_mask\u001b[49m\u001b[43m,\u001b[49m\n\u001b[1;32m   1391\u001b[0m \u001b[43m        \u001b[49m\u001b[43maverage_attn_weights\u001b[49m\u001b[38;5;241;43m=\u001b[39;49m\u001b[43maverage_attn_weights\u001b[49m\u001b[43m,\u001b[49m\n\u001b[1;32m   1392\u001b[0m \u001b[43m        \u001b[49m\u001b[43mis_causal\u001b[49m\u001b[38;5;241;43m=\u001b[39;49m\u001b[43mis_causal\u001b[49m\u001b[43m,\u001b[49m\n\u001b[1;32m   1393\u001b[0m \u001b[43m    \u001b[49m\u001b[43m)\u001b[49m\n\u001b[1;32m   1394\u001b[0m \u001b[38;5;28;01mif\u001b[39;00m \u001b[38;5;28mself\u001b[39m\u001b[38;5;241m.\u001b[39mbatch_first \u001b[38;5;129;01mand\u001b[39;00m is_batched:\n\u001b[1;32m   1395\u001b[0m     \u001b[38;5;28;01mreturn\u001b[39;00m attn_output\u001b[38;5;241m.\u001b[39mtranspose(\u001b[38;5;241m1\u001b[39m, \u001b[38;5;241m0\u001b[39m), attn_output_weights\n",
      "File \u001b[0;32m~/Library/Python/3.9/lib/python/site-packages/torch/nn/functional.py:6230\u001b[0m, in \u001b[0;36mmulti_head_attention_forward\u001b[0;34m(query, key, value, embed_dim_to_check, num_heads, in_proj_weight, in_proj_bias, bias_k, bias_v, add_zero_attn, dropout_p, out_proj_weight, out_proj_bias, training, key_padding_mask, need_weights, attn_mask, use_separate_proj_weight, q_proj_weight, k_proj_weight, v_proj_weight, static_k, static_v, average_attn_weights, is_causal)\u001b[0m\n\u001b[1;32m   6226\u001b[0m \u001b[38;5;28;01mif\u001b[39;00m \u001b[38;5;129;01mnot\u001b[39;00m use_separate_proj_weight:\n\u001b[1;32m   6227\u001b[0m     \u001b[38;5;28;01massert\u001b[39;00m (\n\u001b[1;32m   6228\u001b[0m         in_proj_weight \u001b[38;5;129;01mis\u001b[39;00m \u001b[38;5;129;01mnot\u001b[39;00m \u001b[38;5;28;01mNone\u001b[39;00m\n\u001b[1;32m   6229\u001b[0m     ), \u001b[38;5;124m\"\u001b[39m\u001b[38;5;124muse_separate_proj_weight is False but in_proj_weight is None\u001b[39m\u001b[38;5;124m\"\u001b[39m\n\u001b[0;32m-> 6230\u001b[0m     q, k, v \u001b[38;5;241m=\u001b[39m \u001b[43m_in_projection_packed\u001b[49m\u001b[43m(\u001b[49m\u001b[43mquery\u001b[49m\u001b[43m,\u001b[49m\u001b[43m \u001b[49m\u001b[43mkey\u001b[49m\u001b[43m,\u001b[49m\u001b[43m \u001b[49m\u001b[43mvalue\u001b[49m\u001b[43m,\u001b[49m\u001b[43m \u001b[49m\u001b[43min_proj_weight\u001b[49m\u001b[43m,\u001b[49m\u001b[43m \u001b[49m\u001b[43min_proj_bias\u001b[49m\u001b[43m)\u001b[49m\n\u001b[1;32m   6231\u001b[0m \u001b[38;5;28;01melse\u001b[39;00m:\n\u001b[1;32m   6232\u001b[0m     \u001b[38;5;28;01massert\u001b[39;00m (\n\u001b[1;32m   6233\u001b[0m         q_proj_weight \u001b[38;5;129;01mis\u001b[39;00m \u001b[38;5;129;01mnot\u001b[39;00m \u001b[38;5;28;01mNone\u001b[39;00m\n\u001b[1;32m   6234\u001b[0m     ), \u001b[38;5;124m\"\u001b[39m\u001b[38;5;124muse_separate_proj_weight is True but q_proj_weight is None\u001b[39m\u001b[38;5;124m\"\u001b[39m\n",
      "File \u001b[0;32m~/Library/Python/3.9/lib/python/site-packages/torch/nn/functional.py:5632\u001b[0m, in \u001b[0;36m_in_projection_packed\u001b[0;34m(q, k, v, w, b)\u001b[0m\n\u001b[1;32m   5630\u001b[0m     b_q, b_kv \u001b[38;5;241m=\u001b[39m b\u001b[38;5;241m.\u001b[39msplit([E, E \u001b[38;5;241m*\u001b[39m \u001b[38;5;241m2\u001b[39m])\n\u001b[1;32m   5631\u001b[0m q_proj \u001b[38;5;241m=\u001b[39m linear(q, w_q, b_q)\n\u001b[0;32m-> 5632\u001b[0m kv_proj \u001b[38;5;241m=\u001b[39m \u001b[43mlinear\u001b[49m\u001b[43m(\u001b[49m\u001b[43mk\u001b[49m\u001b[43m,\u001b[49m\u001b[43m \u001b[49m\u001b[43mw_kv\u001b[49m\u001b[43m,\u001b[49m\u001b[43m \u001b[49m\u001b[43mb_kv\u001b[49m\u001b[43m)\u001b[49m\n\u001b[1;32m   5633\u001b[0m \u001b[38;5;66;03m# reshape to 2, E and not E, 2 is deliberate for better memory coalescing and keeping same order as chunk()\u001b[39;00m\n\u001b[1;32m   5634\u001b[0m kv_proj \u001b[38;5;241m=\u001b[39m (\n\u001b[1;32m   5635\u001b[0m     kv_proj\u001b[38;5;241m.\u001b[39munflatten(\u001b[38;5;241m-\u001b[39m\u001b[38;5;241m1\u001b[39m, (\u001b[38;5;241m2\u001b[39m, E))\n\u001b[1;32m   5636\u001b[0m     \u001b[38;5;241m.\u001b[39munsqueeze(\u001b[38;5;241m0\u001b[39m)\n\u001b[0;32m   (...)\u001b[0m\n\u001b[1;32m   5639\u001b[0m     \u001b[38;5;241m.\u001b[39mcontiguous()\n\u001b[1;32m   5640\u001b[0m )\n",
      "\u001b[0;31mKeyboardInterrupt\u001b[0m: "
     ]
    }
   ],
   "source": [
    "num_epochs = 200;\n",
    "optimizer = optim.Adam([F_base], lr=1e-3)\n",
    "b_arr = torch.tensor(lse_data['b_arr'], dtype=torch.float32)\n",
    "len_Darray = torch.tensor(lse_data['len_Darray'], dtype=torch.float32)\n",
    "io_scale = lse_data['io_scale']\n",
    "b_min = b_arr[0]*10\n",
    "b_max = b_arr[-1]\n",
    "\n",
    "# beta=b_min\n",
    "for beta in b_arr[0::20]:\n",
    "    print(f\"beta:{beta:.3e}\")\n",
    "    for epoch in range(num_epochs):\n",
    "        s = time.time()\n",
    "        with torch.no_grad():\n",
    "            # forward pass: no activations are saved for grad\n",
    "            _, actions = vrp_net(data, mod='eval_greedy')\n",
    "        e = time.time()\n",
    "        actions.detach()\n",
    "        d_mins = route_cost(data,actions)\n",
    "        torch.cuda.empty_cache()\n",
    "        In = torch.cat((torch.ones((num_drones,1)).to(device)*(-io_scale/b_min*torch.log(len_Darray)).to(device), io_scale*d_mins.view(-1,1), torch.ones((num_drones,1)).to(device)*beta.to(device)), axis=1) #, torch.ones((num_drones,1)).to(device)*b_min.to(device)),axis=1)\n",
    "        Out = lse_net(In) - (1/beta * torch.log(len_Darray)).to(device) * io_scale + d_mins.view(-1,1) * io_scale\n",
    "        FreeEnergy = torch.mean(Out)/io_scale \n",
    "        \n",
    "        # print(torch.norm(data))\n",
    "        optimizer.zero_grad()\n",
    "        FreeEnergy.backward()\n",
    "        optimizer.step()\n",
    "        F_locs = F_base.expand(num_drones, -1, -1)  \n",
    "        data = torch.cat((START_locs, F_locs, END_locs), dim=1)\n",
    "        if epoch % 10 == 0:\n",
    "            print(f\"\\tTime: {e-s:.2f}s\\tFreeEnergy: {FreeEnergy:.2f}\\tF_Grad: {torch.max(torch.abs(F_base.grad)):.3e}\")\n",
    "    \n",
    "    \n"
   ]
  },
  {
   "cell_type": "markdown",
   "metadata": {},
   "source": [
    "# Plotting some results"
   ]
  },
  {
   "cell_type": "code",
   "execution_count": 50,
   "metadata": {},
   "outputs": [
    {
     "data": {
      "text/plain": [
       "<matplotlib.collections.PathCollection at 0x3177eff40>"
      ]
     },
     "execution_count": 50,
     "metadata": {},
     "output_type": "execute_result"
    },
    {
     "data": {
      "image/png": "[encoded data removed]",
      "text/plain": [
       "<Figure size 640x480 with 1 Axes>"
      ]
     },
     "metadata": {},
     "output_type": "display_data"
    }
   ],
   "source": [
    "start_locs = START_locs.squeeze(1).cpu().numpy()\n",
    "plt.scatter(start_locs[:,0],start_locs[:,1],color='cyan',marker='.')\n",
    "end_locs = END_locs.squeeze(1).cpu().numpy()\n",
    "plt.scatter(end_locs[:,0],end_locs[:,1],color='red',marker='.')\n",
    "f_locs = F_base.squeeze(0).detach().cpu().numpy()\n",
    "plt.scatter(f_locs[:,0],f_locs[:,1],color='black',marker='^')"
   ]
  },
  {
   "cell_type": "code",
   "execution_count": 15,
   "metadata": {},
   "outputs": [],
   "source": [
    "# all_samples = torch.zeros(num_data, num_nodes, num_samples).to(device)\n",
    "# for i in range(num_samples):\n",
    "#     _, actions = vrpnet(data, mod='train')\n",
    "#     all_samples[:,:,i:i+1] = actions\n",
    "# opt_sample_indices = []\n"
   ]
  },
  {
   "cell_type": "code",
   "execution_count": 16,
   "metadata": {},
   "outputs": [],
   "source": [
    "# d_mins = np.zeros(num_data)\n",
    "# for data_idx in range(num_data):\n",
    "#     costs_for_data = [route_cost(data[data_idx:data_idx+1], all_samples[data_idx:data_idx+1, :, sample_idx]) for sample_idx in range(num_samples)]\n",
    "#     costs_tensor = torch.tensor(costs_for_data)\n",
    "#     d_min, opt_sample_index = torch.min(costs_tensor, dim=0)  \n",
    "#     opt_sample_indices.append(opt_sample_index.item())\n",
    "#     d_mins[data_idx] = d_min\n",
    "# opt_sample_indices = torch.tensor(opt_sample_indices)\n",
    "# actions = all_samples[torch.arange(num_data),:,opt_sample_indices]\n",
    "# print(\"d_mins for all data are: \",d_mins)"
   ]
  },
  {
   "cell_type": "markdown",
   "metadata": {},
   "source": [
    "# Loading Free Energy Network"
   ]
  },
  {
   "cell_type": "markdown",
   "metadata": {},
   "source": [
    "Dhananjay's code for loading his DNN is here. The output of this block should be Y."
   ]
  },
  {
   "cell_type": "markdown",
   "metadata": {},
   "source": [
    "# Calculating Free Energy"
   ]
  },
  {
   "cell_type": "markdown",
   "metadata": {},
   "source": [
    "Feeding the d_min from Salar Block to get the Free energy"
   ]
  },
  {
   "cell_type": "code",
   "execution_count": 59,
   "metadata": {},
   "outputs": [
    {
     "data": {
      "image/png": "[encoded data removed]",
      "text/plain": [
       "<Figure size 640x480 with 1 Axes>"
      ]
     },
     "metadata": {},
     "output_type": "display_data"
    }
   ],
   "source": [
    "Out_numpy = Out.view(-1).detach().numpy()/io_scale\n",
    "plt.plot(Out_numpy)\n",
    "plt.plot(d_min_random*np.ones(Out_numpy.shape))\n",
    "plt.show()"
   ]
  },
  {
   "cell_type": "markdown",
   "metadata": {},
   "source": [
    "# Calculating the gradients"
   ]
  },
  {
   "cell_type": "markdown",
   "metadata": {},
   "source": [
    "The output of this block shoud be dF/dy"
   ]
  },
  {
   "cell_type": "markdown",
   "metadata": {},
   "source": [
    "First calculate $\\frac{\\partial F}{\\partial d_{min}}$ (code in progress)"
   ]
  },
  {
   "cell_type": "code",
   "execution_count": 63,
   "metadata": {},
   "outputs": [
    {
     "name": "stderr",
     "output_type": "stream",
     "text": [
      "/var/folders/sh/ndxykdmj1q9cwr2kpvkvcbs80000gn/T/ipykernel_89473/1274708057.py:11: UserWarning: The .grad attribute of a Tensor that is not a leaf Tensor is being accessed. Its .grad attribute won't be populated during autograd.backward(). If you indeed want the .grad field to be populated for a non-leaf Tensor, use .retain_grad() on the non-leaf Tensor. If you access the non-leaf Tensor by mistake, make sure you access the leaf Tensor instead. See github.com/pytorch/pytorch/pull/30531 for more informations. (Triggered internally at /Users/runner/work/pytorch/pytorch/pytorch/build/aten/src/ATen/core/TensorBody.h:494.)\n",
      "  d_mins_torch.grad\n"
     ]
    }
   ],
   "source": [
    "# fix beta\n",
    "b = np.random.choice(b_arr)\n",
    "d_mins_torch = torch.tensor(d_mins, dtype=torch.float32, requires_grad=True).view(-1,1)\n",
    "const_bmin = -io_scale/b_arr[0] * np.log(len_Darray) * torch.ones(len(d_mins), dtype=torch.float32).view(-1,1)\n",
    "const_b = b * torch.ones(len(d_mins), dtype=torch.float32).view(-1,1)\n",
    "In = torch.concatenate((const_bmin, d_mins_torch, const_b), axis=1)\n",
    "Out = lse_net(In)\n",
    "# print(Out)\n",
    "Out[0].retain_grad()\n",
    "Out[0].backward()\n",
    "d_mins_torch.grad"
   ]
  },
  {
   "cell_type": "markdown",
   "metadata": {},
   "source": [
    "# Running CLF to determin Y"
   ]
  },
  {
   "cell_type": "markdown",
   "metadata": {},
   "source": [
    "The GD code here"
   ]
  },
  {
   "cell_type": "markdown",
   "metadata": {},
   "source": [
    "# Closing the Beta Loop for Annealing"
   ]
  },
  {
   "cell_type": "markdown",
   "metadata": {},
   "source": []
  },
  {
   "cell_type": "code",
   "execution_count": 30,
   "metadata": {},
   "outputs": [
    {
     "name": "stdout",
     "output_type": "stream",
     "text": [
      "tensor([ True, False, False, False, False,  True, False, False, False, False,\n",
      "         True, False, False, False, False,  True, False, False, False, False])\n",
      "Original: tensor([ 0,  1,  2,  3,  4,  5,  6,  7,  8,  9, 10, 11, 12, 13, 14, 15, 16, 17,\n",
      "        18, 19])\n",
      "Filtered: tensor([ 0,  5, 10, 15])\n"
     ]
    }
   ],
   "source": [
    "import torch\n",
    "\n",
    "x = torch.arange(20)  # Just an example tensor: [0, 1, 2, ..., 19]\n",
    "\n",
    "# Create a mask to skip every 5th element\n",
    "mask = torch.zeros(len(x), dtype=bool)\n",
    "mask[0::5] = True  # Set every 5th element to False\n",
    "print(mask)\n",
    "result = x[mask]\n",
    "\n",
    "print(\"Original:\", x)\n",
    "print(\"Filtered:\", result)\n"
   ]
  }
 ],
 "metadata": {
  "kernelspec": {
   "display_name": "Python 3",
   "language": "python",
   "name": "python3"
  },
  "language_info": {
   "codemirror_mode": {
    "name": "ipython",
    "version": 3
   },
   "file_extension": ".py",
   "mimetype": "text/x-python",
   "name": "python",
   "nbconvert_exporter": "python",
   "pygments_lexer": "ipython3",
   "version": "3.9.6"
  }
 },
 "nbformat": 4,
 "nbformat_minor": 2
}
