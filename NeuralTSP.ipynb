{
 "cells": [
  {
   "cell_type": "code",
   "execution_count": 1,
   "metadata": {},
   "outputs": [],
   "source": [
    "from utils import route_cost, generate_unit_circle_cities\n",
    "from TSPNet_TF import TSPNet\n",
    "from data_loader_script import create_data_loader\n",
    "from train import train\n",
    "import torch\n",
    "from datetime import datetime\n",
    "import torch.multiprocessing as mp\n",
    "from torch.utils.tensorboard import SummaryWriter\n",
    "import argparse\n",
    "\n",
    "mp.set_start_method('spawn', force=True)"
   ]
  },
  {
   "cell_type": "code",
   "execution_count": 2,
   "metadata": {},
   "outputs": [
    {
     "data": {
      "text/plain": [
       "device(type='cuda')"
      ]
     },
     "execution_count": 2,
     "metadata": {},
     "output_type": "execute_result"
    }
   ],
   "source": [
    "device = torch.device('cuda') if torch.cuda.is_available() else torch.device('cpu')\n",
    "device"
   ]
  },
  {
   "cell_type": "code",
   "execution_count": 3,
   "metadata": {},
   "outputs": [],
   "source": [
    "def preload_data(data_loader, device):\n",
    "    preloaded_batches = []\n",
    "    for data_batch in data_loader:\n",
    "        preloaded_batches.append(data_batch.to(device, non_blocking=True))\n",
    "    return preloaded_batches\n",
    "\n",
    "lr = 0.001\n",
    "batch_size = 64\n",
    "num_episodes = 6000\n",
    "num_samples = batch_size * num_episodes\n",
    "num_cities = 50\n",
    "input_dim = 2\n",
    "num_workers = 8  #\n",
    "\n",
    "data_loader = create_data_loader(batch_size, num_samples, num_cities, input_dim, num_workers=num_workers)\n",
    "preloaded_batches = preload_data(data_loader, device)\n",
    "\n",
    "run_name = 'TSP/' + str(batch_size) + '_' + str(num_cities) + '_' + str(num_samples) + '_' + '/ANN/'+datetime.now().strftime((\"%Y_%m_%d %H_%M_%S\"))+ str(True) + str(0.1)\n",
    "writer = SummaryWriter(log_dir=run_name)\n",
    "\n"
   ]
  },
  {
   "cell_type": "code",
   "execution_count": null,
   "metadata": {},
   "outputs": [],
   "source": [
    "from torchinfo import summary\n",
    "\n",
    "\n",
    "hidden_dim = 64\n",
    "num_layers = 3\n",
    "num_heads = 8\n",
    "\n",
    "model = TSPNet(input_dim,hidden_dim,device,num_heads=num_heads,num_enc_layers=num_layers,num_dec_layers=num_layers,use_PE=False)\n",
    "\n",
    "summary(model)\n",
    "\n",
    "trained = train(model, preloaded_batches, writer, lr, use_base = True, alpha=0.1,check_params=False)"
   ]
  },
  {
   "cell_type": "code",
   "execution_count": 3,
   "metadata": {},
   "outputs": [
    {
     "name": "stdout",
     "output_type": "stream",
     "text": [
      "tensor([[[-0.5804, -0.1847]],\n",
      "\n",
      "        [[ 0.8841, -0.7969]]])\n",
      "tensor([[[-0.5804, -0.1847]],\n",
      "\n",
      "        [[-0.5804, -0.1847]],\n",
      "\n",
      "        [[-0.5804, -0.1847]],\n",
      "\n",
      "        [[-0.5804, -0.1847]],\n",
      "\n",
      "        [[-0.5804, -0.1847]],\n",
      "\n",
      "        [[ 0.8841, -0.7969]],\n",
      "\n",
      "        [[ 0.8841, -0.7969]],\n",
      "\n",
      "        [[ 0.8841, -0.7969]],\n",
      "\n",
      "        [[ 0.8841, -0.7969]],\n",
      "\n",
      "        [[ 0.8841, -0.7969]]])\n"
     ]
    }
   ],
   "source": [
    "import torch\n",
    "\n",
    "# Example tensor of shape (B, N, d)\n",
    "B, N, d = 2, 1, 2  # Example sizes\n",
    "x = torch.randn(B, N, d)\n",
    "\n",
    "n_rep = 5  # Number of times to repeat each row\n",
    "\n",
    "# Repeat each row n_rep times along dimension 0\n",
    "x_repeated = x.repeat_interleave(n_rep, dim=0)\n",
    "\n",
    "print(x)\n",
    "print(x_repeated)  # Expected shape: (B * n_rep * N, d)\n"
   ]
  },
  {
   "cell_type": "code",
   "execution_count": 14,
   "metadata": {},
   "outputs": [
    {
     "data": {
      "text/plain": [
       "tensor([[1],\n",
       "        [1],\n",
       "        [1],\n",
       "        [9],\n",
       "        [9],\n",
       "        [9]])"
      ]
     },
     "execution_count": 14,
     "metadata": {},
     "output_type": "execute_result"
    }
   ],
   "source": [
    "a = torch.tensor([1,2,3,4,5,6])\n",
    "b = torch.tensor([1,9]).unsqueeze(1).expand(-1,3).reshape(2*3,1)\n",
    "b"
   ]
  }
 ],
 "metadata": {
  "kernelspec": {
   "display_name": "Python 3",
   "language": "python",
   "name": "python3"
  },
  "language_info": {
   "codemirror_mode": {
    "name": "ipython",
    "version": 3
   },
   "file_extension": ".py",
   "mimetype": "text/x-python",
   "name": "python",
   "nbconvert_exporter": "python",
   "pygments_lexer": "ipython3",
   "version": "3.10.0"
  }
 },
 "nbformat": 4,
 "nbformat_minor": 2
}
