{
 "cells": [
  {
   "cell_type": "code",
   "execution_count": 1,
   "metadata": {},
   "outputs": [],
   "source": [
    "import torch\n",
    "from VRP_Net_L import VRPNet_L\n",
    "from matplotlib import pyplot as plt\n",
    "import utils\n",
    "import os\n",
    "import matplotlib.pyplot as plt\n",
    "from torchinfo import summary\n",
    "import numpy as np\n",
    "import time\n",
    "import LSE_net\n",
    "from torch import optim\n",
    "import importlib"
   ]
  },
  {
   "cell_type": "code",
   "execution_count": 2,
   "metadata": {},
   "outputs": [
    {
     "name": "stdout",
     "output_type": "stream",
     "text": [
      "Running on:  cpu\n"
     ]
    }
   ],
   "source": [
    "seed=42;\n",
    "torch.manual_seed(seed)\n",
    "torch.cuda.manual_seed(seed)\n",
    "torch.cuda.manual_seed_all(seed)\n",
    "device = torch.device('cuda') if torch.cuda.is_available() else torch.device('cpu')\n",
    "np.random.seed(seed)\n",
    "print(\"Running on: \" , device)"
   ]
  },
  {
   "cell_type": "code",
   "execution_count": 3,
   "metadata": {},
   "outputs": [
    {
     "name": "stdout",
     "output_type": "stream",
     "text": [
      "num_drones = 2\tnum_facilities = 2\tdim = 2\n",
      "Data Loaded.\n"
     ]
    },
    {
     "data": {
      "image/png": "[encoded data removed]",
      "text/plain": [
       "<Figure size 400x300 with 1 Axes>"
      ]
     },
     "metadata": {},
     "output_type": "display_data"
    }
   ],
   "source": [
    "# UAV FLPO MetaData\n",
    "num_drones = 2\n",
    "n_drone_clusters = 2\n",
    "drone_cluster_split = np.random.uniform(0.0, 1.0, n_drone_clusters)\n",
    "drone_cluster_split = drone_cluster_split / np.sum(drone_cluster_split)\n",
    "num_facilities = 2\n",
    "dim_ = 2\n",
    "print(f'num_drones = {num_drones}\\tnum_facilities = {num_facilities}\\tdim = {dim_}')\n",
    "\n",
    "# Assign start location to each drone\n",
    "drone_cnt = 0\n",
    "for i in range(n_drone_clusters):\n",
    "    if i == n_drone_clusters-1:\n",
    "        n_drones = int(num_drones - drone_cnt)\n",
    "    else:\n",
    "        n_drones = int(drone_cluster_split[i] * (num_drones+1))\n",
    "        drone_cnt += n_drones\n",
    "\n",
    "    drone_cluster_mean = torch.rand(1, dim_).repeat(n_drones,1).unsqueeze(1).to(device)\n",
    "    drone_cluster_std = ((0.02 - 0.08) * torch.rand(1,dim_) + 0.08).repeat(n_drones,1).unsqueeze(1).to(device)\n",
    "    drone_cluster_START_locs = torch.normal(mean=drone_cluster_mean, std=drone_cluster_std)\n",
    "    if i == 0:\n",
    "        START_locs = drone_cluster_START_locs\n",
    "    else:\n",
    "        START_locs = torch.cat((START_locs, drone_cluster_START_locs), axis=0)\n",
    "\n",
    "START_locs.shape\n",
    "\n",
    "# Assign destination location to each drone\n",
    "END_locs = torch.ones((num_drones, 1, dim_), requires_grad=False, device=device) #torch.rand(num_drones, 1, dim_, requires_grad=False, device=device)\n",
    "\n",
    "# Create the data tensor\n",
    "F_base = (torch.mean(START_locs, dim=0).repeat(num_facilities, 1) + torch.normal(mean=torch.zeros(num_facilities,1), std=0.05*torch.ones(num_facilities,1))).unsqueeze(0).requires_grad_().to(device)\n",
    "# print(F_base.shape)\n",
    "F_locs = F_base.expand(num_drones, -1, -1)  # view, shares grad with F_base\n",
    "data = torch.cat((START_locs, F_locs, END_locs), dim=1)  # shape: (Nd, Nf+2, D)\n",
    "print(\"Data Loaded.\")\n",
    "\n",
    "# plot the data\n",
    "def plot_UAV_FLPO(drone_START, drone_END, Facilities, figuresize=(6,5)):\n",
    "    start_locs = drone_START.squeeze(1).cpu().numpy()\n",
    "    end_locs = drone_END.squeeze(1).cpu().numpy()\n",
    "    f_locs = Facilities.squeeze(0).detach().cpu().numpy()\n",
    "\n",
    "    plt.figure(figsize=figuresize)\n",
    "    plt.scatter(start_locs[:,0], start_locs[:,1], color='violet', marker='X', alpha=0.5)\n",
    "    plt.scatter(end_locs[:,0], end_locs[:,1], color='red', marker='.')\n",
    "    plt.scatter(f_locs[:,0], f_locs[:,1], color='black', marker='^')\n",
    "    plt.grid()\n",
    "    plt.show()\n",
    "\n",
    "plot_UAV_FLPO(START_locs, END_locs, F_base, (4,3))"
   ]
  },
  {
   "cell_type": "code",
   "execution_count": 4,
   "metadata": {},
   "outputs": [],
   "source": [
    "# START_locs"
   ]
  },
  {
   "cell_type": "code",
   "execution_count": 5,
   "metadata": {},
   "outputs": [],
   "source": [
    "# END_locs"
   ]
  },
  {
   "cell_type": "code",
   "execution_count": 6,
   "metadata": {},
   "outputs": [],
   "source": [
    "# F_locs"
   ]
  },
  {
   "cell_type": "code",
   "execution_count": 7,
   "metadata": {},
   "outputs": [],
   "source": [
    "# (1-0.3179)**2 + (1-0.5949)**2"
   ]
  },
  {
   "cell_type": "code",
   "execution_count": 8,
   "metadata": {},
   "outputs": [],
   "source": [
    "# (1-0.4486)**2 + (1-0.6106)**2 + (0.4486-0.3179)**2 + (0.6106-0.5949)**2"
   ]
  },
  {
   "cell_type": "code",
   "execution_count": 9,
   "metadata": {},
   "outputs": [],
   "source": [
    "# [2*(0.4486-1) + 2*(0.4486-0.3179), 2*(0.6106-1) + 2*(0.6106-0.5949)]"
   ]
  },
  {
   "cell_type": "markdown",
   "metadata": {},
   "source": [
    "### Load the VRP NET Module"
   ]
  },
  {
   "cell_type": "code",
   "execution_count": 10,
   "metadata": {},
   "outputs": [
    {
     "name": "stdout",
     "output_type": "stream",
     "text": [
      "VRP NET loaded on:  cpu\n",
      "===============================================================================================\n",
      "Layer (type:depth-idx)                                                 Param #\n",
      "===============================================================================================\n",
      "VRPNet_L                                                               --\n",
      "├─LinearAttnEncoder: 1-1                                               2,560\n",
      "│    └─MultiheadAttention: 2-1                                         197,376\n",
      "│    │    └─NonDynamicallyQuantizableLinear: 3-1                       65,792\n",
      "│    └─Linear: 2-2                                                     768\n",
      "│    └─Linear: 2-3                                                     8,224\n",
      "│    └─LayerNorm: 2-4                                                  512\n",
      "│    └─Dropout: 2-5                                                    --\n",
      "│    └─ReLU: 2-6                                                       --\n",
      "├─Decoder: 1-2                                                         --\n",
      "│    └─TransformerDecoder: 2-7                                         --\n",
      "│    │    └─ModuleList: 3-2                                            16,992\n",
      "├─PositionalEncoding: 1-3                                              --\n",
      "===============================================================================================\n",
      "Total params: 292,224\n",
      "Trainable params: 292,224\n",
      "Non-trainable params: 0\n",
      "===============================================================================================\n"
     ]
    }
   ],
   "source": [
    "hidden_dim = 32\n",
    "num_layers_enc = 1\n",
    "num_layers_dec = 1\n",
    "num_heads = 8\n",
    "torch.cuda.empty_cache()\n",
    "vrp_net = VRPNet_L(dim_, hidden_dim, device, num_layers_enc, num_layers_dec, num_heads)\n",
    "if torch.cuda.is_available():\n",
    "    vrp_net.load_state_dict(torch.load('Saved models/POMO2025_04_12 00_54_260.6350972652435303best_model.pth',weights_only=True))\n",
    "else:\n",
    "    vrp_net.load_state_dict(torch.load('Saved models/POMO2025_04_12 00_54_260.6350972652435303best_model.pth',weights_only=False, map_location=torch.device('cpu')))\n",
    "vrp_net.eval()\n",
    "\n",
    "# for param in vrp_net.parameters():\n",
    "#     param.requires_grad = False\n",
    "print('VRP NET loaded on: ',vrp_net.device)\n",
    "print(summary(vrp_net))"
   ]
  },
  {
   "cell_type": "code",
   "execution_count": 11,
   "metadata": {},
   "outputs": [],
   "source": [
    "s = time.time()\n",
    "with torch.no_grad():\n",
    "    # forward pass: no activations are saved for grad\n",
    "    _, actions = vrp_net(data, mod='eval_greedy')\n",
    "e = time.time()\n",
    "actions.detach()\n",
    "d_mins = utils.route_cost(data, actions).view(-1,1)\n"
   ]
  },
  {
   "cell_type": "code",
   "execution_count": 12,
   "metadata": {},
   "outputs": [
    {
     "data": {
      "text/plain": [
       "tensor([[0.4705],\n",
       "        [0.4652]], grad_fn=<ViewBackward0>)"
      ]
     },
     "execution_count": 12,
     "metadata": {},
     "output_type": "execute_result"
    }
   ],
   "source": [
    "d_mins"
   ]
  },
  {
   "cell_type": "markdown",
   "metadata": {},
   "source": [
    "### Compute $\\frac{\\partial d_{min}}{\\partial F_{base}}$, where $d_{min}$ is the shortest path obtained using VRP net for a given set of facility locations $F_{base}$"
   ]
  },
  {
   "cell_type": "code",
   "execution_count": 13,
   "metadata": {},
   "outputs": [
    {
     "data": {
      "text/plain": [
       "tensor([[[-1.0834, -0.7593],\n",
       "         [ 0.2225, -0.0073]],\n",
       "\n",
       "        [[-1.0834, -0.7593],\n",
       "         [-0.2079,  0.0219]]], grad_fn=<SliceBackward0>)"
      ]
     },
     "execution_count": 13,
     "metadata": {},
     "output_type": "execute_result"
    }
   ],
   "source": [
    "gradient0 = torch.autograd.grad(outputs=d_mins, inputs=F_locs,\n",
    "                               grad_outputs=torch.ones_like(d_mins),\n",
    "                               create_graph=True)\n",
    "gradient0[0]"
   ]
  },
  {
   "cell_type": "markdown",
   "metadata": {},
   "source": [
    "### Load the LSE net module"
   ]
  },
  {
   "cell_type": "code",
   "execution_count": 14,
   "metadata": {},
   "outputs": [
    {
     "name": "stdout",
     "output_type": "stream",
     "text": [
      "n_inputs: 3\n",
      "n_outputs: 1\n",
      "layers: [20, 20, 10]\n",
      "io_scale: 1\n",
      "LSE_net:\n",
      "=================================================================\n",
      "Layer (type:depth-idx)                   Param #\n",
      "=================================================================\n",
      "dnn                                      --\n",
      "├─ModuleList: 1-1                        --\n",
      "│    └─Linear: 2-1                       (80)\n",
      "│    └─ReLU: 2-2                         --\n",
      "│    └─Linear: 2-3                       (420)\n",
      "│    └─ReLU: 2-4                         --\n",
      "│    └─Linear: 2-5                       (210)\n",
      "│    └─ReLU: 2-6                         --\n",
      "│    └─Linear: 2-7                       (11)\n",
      "=================================================================\n",
      "Total params: 721\n",
      "Trainable params: 0\n",
      "Non-trainable params: 721\n",
      "=================================================================\n"
     ]
    }
   ],
   "source": [
    "importlib.reload(LSE_net)\n",
    "lse_data = torch.load('logSumExp_models/lse_2025_5_1__17_6_31.pth', weights_only=False)\n",
    "n_inputs = lse_data['n_inputs']\n",
    "n_outputs = lse_data['n_outputs']\n",
    "layers = lse_data['layers']\n",
    "weights = lse_data['model_state_dict']\n",
    "io_scale = lse_data['io_scale']\n",
    "lse_net = LSE_net.dnn(n_inputs, n_outputs, layers)\n",
    "# lse_net.to(device)\n",
    "lse_net.load_state_dict(weights)\n",
    "lse_net.eval()\n",
    "for p in lse_net.parameters():\n",
    "    p.requires_grad = False\n",
    "print(f'n_inputs: {n_inputs}\\nn_outputs: {n_outputs}\\nlayers: {layers}\\nio_scale: {io_scale}\\nLSE_net:\\n{summary(lse_net)}')"
   ]
  },
  {
   "cell_type": "markdown",
   "metadata": {},
   "source": [
    "### Some functions for free energy approximation"
   ]
  },
  {
   "cell_type": "code",
   "execution_count": 15,
   "metadata": {},
   "outputs": [],
   "source": [
    "def logSumExp(D_tensor, beta):\n",
    "    # with torch.no_grad():\n",
    "    # print(D_tensor)\n",
    "    D_min = torch.min(D_tensor, axis=1, keepdims=True)\n",
    "    F = -1/beta * torch.log(torch.sum(torch.exp(-beta*(D_tensor - D_min.values)), axis=1, keepdims=True)) + 1/beta * torch.log(torch.tensor([D_tensor.shape[1]])) + D_min.values\n",
    "    return F\n",
    "\n",
    "def area_approx_F(D_min, D_max_range, beta, printCalculations=False):\n",
    "    min_beta_D_arr = beta * D_min\n",
    "    x_max = beta * D_max_range - min_beta_D_arr\n",
    "    F_est = -1/beta * torch.log(1/x_max * (1 - torch.exp(-x_max))) + D_min\n",
    "    \n",
    "    if printCalculations:\n",
    "        print(f'min_beta_D_arr:{min_beta_D_arr}')\n",
    "        print(f'x_max:{x_max}')\n",
    "        print(f'inside_log:{1/x_max * (1 - torch.exp(-x_max))}')\n",
    "        print(f'log:{torch.log(1/x_max * (1 - torch.exp(-x_max)))}')\n",
    "        print(f'-1/beta_log:\\n{-1/beta * torch.log(1/x_max * (1 - torch.exp(-x_max)))}')\n",
    "        \n",
    "    return F_est"
   ]
  },
  {
   "cell_type": "code",
   "execution_count": 16,
   "metadata": {},
   "outputs": [],
   "source": [
    "b_min = 1e-3\n",
    "beta = 1e-3\n",
    "d_mins = utils.route_cost(data, actions).view(-1,1)#[drone_id:drone_id+1]\n",
    "Fmin_est = area_approx_F(d_mins, D_max_range=2.0, beta=b_min, printCalculations=False)\n",
    "# torch.cuda.empty_cache()\n",
    "In_lse = torch.cat((\n",
    "    Fmin_est.to(device),\n",
    "    io_scale * d_mins,\n",
    "    (torch.ones(d_mins.shape)*torch.log(torch.tensor([beta]))/torch.log(torch.tensor([10.0]))).to(device)\n",
    "), axis=1)"
   ]
  },
  {
   "cell_type": "code",
   "execution_count": 17,
   "metadata": {},
   "outputs": [
    {
     "data": {
      "text/plain": [
       "tensor([[ 1.2281,  0.4705, -3.0000],\n",
       "        [ 1.2190,  0.4652, -3.0000]], grad_fn=<CatBackward0>)"
      ]
     },
     "execution_count": 17,
     "metadata": {},
     "output_type": "execute_result"
    }
   ],
   "source": [
    "In_lse"
   ]
  },
  {
   "cell_type": "code",
   "execution_count": 18,
   "metadata": {},
   "outputs": [],
   "source": [
    "FreeEnergy = lse_net(In_lse)\n"
   ]
  },
  {
   "cell_type": "code",
   "execution_count": 19,
   "metadata": {},
   "outputs": [
    {
     "data": {
      "text/plain": [
       "(tensor([[ 9.9905e-01,  1.2243e-03, -7.4551e-04],\n",
       "         [ 9.9905e-01,  1.2243e-03, -7.4551e-04]], grad_fn=<MmBackward0>),)"
      ]
     },
     "execution_count": 19,
     "metadata": {},
     "output_type": "execute_result"
    }
   ],
   "source": [
    "gradient1 = torch.autograd.grad(outputs=FreeEnergy, inputs=In_lse,\n",
    "                               grad_outputs=torch.ones_like(FreeEnergy),\n",
    "                               create_graph=True)\n",
    "gradient1"
   ]
  },
  {
   "cell_type": "markdown",
   "metadata": {},
   "source": [
    "### Apply Chain rule: $\\frac{\\partial F}{\\partial F_{base}} = \\frac{\\partial F}{\\partial d_{min}} \\cdot \\frac{\\partial d_{min}}{\\partial F_{base}}$"
   ]
  },
  {
   "cell_type": "code",
   "execution_count": 20,
   "metadata": {},
   "outputs": [
    {
     "data": {
      "text/plain": [
       "tensor([[[-1.0834, -0.7593],\n",
       "         [ 0.2225, -0.0073]],\n",
       "\n",
       "        [[-1.0834, -0.7593],\n",
       "         [-0.2079,  0.0219]]], grad_fn=<SliceBackward0>)"
      ]
     },
     "execution_count": 20,
     "metadata": {},
     "output_type": "execute_result"
    }
   ],
   "source": [
    "gradient0[0]"
   ]
  },
  {
   "cell_type": "code",
   "execution_count": 21,
   "metadata": {},
   "outputs": [
    {
     "data": {
      "text/plain": [
       "tensor([[0.0012],\n",
       "        [0.0012]], grad_fn=<ViewBackward0>)"
      ]
     },
     "execution_count": 21,
     "metadata": {},
     "output_type": "execute_result"
    }
   ],
   "source": [
    "gradient1[0][:,1].view(-1,1)"
   ]
  },
  {
   "cell_type": "code",
   "execution_count": 22,
   "metadata": {},
   "outputs": [
    {
     "data": {
      "text/plain": [
       "tensor([[[0.0012]],\n",
       "\n",
       "        [[0.0012]]], grad_fn=<ViewBackward0>)"
      ]
     },
     "execution_count": 22,
     "metadata": {},
     "output_type": "execute_result"
    }
   ],
   "source": [
    "gradient1[0][:,1].view(-1,1).view(num_drones,1,1) #* gradient0[0]"
   ]
  },
  {
   "cell_type": "code",
   "execution_count": 23,
   "metadata": {},
   "outputs": [
    {
     "data": {
      "text/plain": [
       "tensor([[[-1.3264e-03, -9.2959e-04],\n",
       "         [ 2.7241e-04, -8.9633e-06]],\n",
       "\n",
       "        [[-1.3264e-03, -9.2959e-04],\n",
       "         [-2.5453e-04,  2.6848e-05]]], grad_fn=<MulBackward0>)"
      ]
     },
     "execution_count": 23,
     "metadata": {},
     "output_type": "execute_result"
    }
   ],
   "source": [
    "total_gradient = gradient0[0] * gradient1[0][:,1].view(-1,1).view(num_drones,1,1)\n",
    "total_gradient"
   ]
  },
  {
   "cell_type": "code",
   "execution_count": 24,
   "metadata": {},
   "outputs": [
    {
     "data": {
      "text/plain": [
       "tensor([[-2.6527e-03, -1.8592e-03],\n",
       "        [ 1.7885e-05,  1.7885e-05]], grad_fn=<SumBackward1>)"
      ]
     },
     "execution_count": 24,
     "metadata": {},
     "output_type": "execute_result"
    }
   ],
   "source": [
    "G = torch.sum(total_gradient, axis=0)\n",
    "G"
   ]
  },
  {
   "cell_type": "code",
   "execution_count": 26,
   "metadata": {},
   "outputs": [
    {
     "data": {
      "text/plain": [
       "tensor([[[-1.0708, -0.7505],\n",
       "         [ 0.0081,  0.0072]]], grad_fn=<SumBackward1>)"
      ]
     },
     "execution_count": 26,
     "metadata": {},
     "output_type": "execute_result"
    }
   ],
   "source": [
    "G1 = torch.autograd.grad(outputs=FreeEnergy, inputs=F_base,\n",
    "                               grad_outputs=torch.ones_like(FreeEnergy),\n",
    "                               create_graph=True)\n",
    "G1[0]"
   ]
  },
  {
   "cell_type": "markdown",
   "metadata": {},
   "source": [
    "### Perform a gradient descent step: $F_{base}^+ = F_{base} - \\eta \\frac{\\partial F}{\\partial F_{base}}$"
   ]
  },
  {
   "cell_type": "code",
   "execution_count": 54,
   "metadata": {},
   "outputs": [
    {
     "data": {
      "text/plain": [
       "tensor([[[0.4472, 0.3454],\n",
       "         [0.4526, 0.3508]]], requires_grad=True)"
      ]
     },
     "execution_count": 54,
     "metadata": {},
     "output_type": "execute_result"
    }
   ],
   "source": [
    "F_base"
   ]
  },
  {
   "cell_type": "code",
   "execution_count": 28,
   "metadata": {},
   "outputs": [],
   "source": [
    "eta = 0.001\n",
    "F_base_new = F_base - eta * G"
   ]
  },
  {
   "cell_type": "code",
   "execution_count": 29,
   "metadata": {},
   "outputs": [
    {
     "data": {
      "text/plain": [
       "tensor([[[0.4382, 0.3312],\n",
       "         [0.3591, 0.2521]]], grad_fn=<SubBackward0>)"
      ]
     },
     "execution_count": 29,
     "metadata": {},
     "output_type": "execute_result"
    }
   ],
   "source": [
    "F_base_new"
   ]
  },
  {
   "cell_type": "markdown",
   "metadata": {},
   "source": [
    "### Write a loop to optimize the network w.r.t. facilities"
   ]
  },
  {
   "cell_type": "code",
   "execution_count": 30,
   "metadata": {},
   "outputs": [],
   "source": [
    "iters = 2\n",
    "eta = 0.001\n",
    "F_base_new = F_base\n",
    "\n",
    "for i in range(iters):\n",
    "    \n",
    "    F_locs = F_base_new.expand(num_drones, -1, -1)  # view, shares grad with F_base\n",
    "    data = torch.cat((START_locs, F_locs, END_locs), dim=1)  # shape: (Nd, Nf+2, D)\n",
    "\n",
    "    s = time.time()\n",
    "    with torch.no_grad():\n",
    "        # forward pass: no activations are saved for grad\n",
    "        _, actions = vrp_net(data, mod='eval_greedy')\n",
    "    e = time.time()\n",
    "    actions.detach()\n",
    "    d_mins = utils.route_cost(data, actions).view(-1,1)\n",
    "\n",
    "    gradient0 = torch.autograd.grad(outputs=d_mins, inputs=F_locs,\n",
    "                               grad_outputs=torch.ones_like(d_mins),\n",
    "                               create_graph=True)\n",
    "\n",
    "    d_mins = utils.route_cost(data, actions).view(-1,1) #[drone_id:drone_id+1]\n",
    "    Fmin_est = area_approx_F(d_mins, D_max_range=2.0, beta=b_min, printCalculations=False)\n",
    "    torch.cuda.empty_cache()\n",
    "    In_lse = torch.cat((\n",
    "        Fmin_est.to(device),\n",
    "        io_scale * d_mins,\n",
    "        (torch.ones(d_mins.shape)*torch.log(torch.tensor([beta]))/torch.log(torch.tensor([10.0]))).to(device)\n",
    "    ), axis=1)\n",
    "    \n",
    "    FreeEnergy = lse_net(In_lse)\n",
    "    gradient1 = torch.autograd.grad(outputs=FreeEnergy, inputs=In_lse,\n",
    "                               grad_outputs=torch.ones_like(FreeEnergy),\n",
    "                               create_graph=True)\n",
    "    total_gradient = gradient0[0] * gradient1[0][:,1].view(-1,1).view(num_drones,1,1)\n",
    "    G = torch.sum(total_gradient, axis=0)\n",
    "    F_base_new = F_base - eta * G"
   ]
  }
 ],
 "metadata": {
  "kernelspec": {
   "display_name": "Python 3",
   "language": "python",
   "name": "python3"
  },
  "language_info": {
   "codemirror_mode": {
    "name": "ipython",
    "version": 3
   },
   "file_extension": ".py",
   "mimetype": "text/x-python",
   "name": "python",
   "nbconvert_exporter": "python",
   "pygments_lexer": "ipython3",
   "version": "3.9.6"
  }
 },
 "nbformat": 4,
 "nbformat_minor": 2
}
