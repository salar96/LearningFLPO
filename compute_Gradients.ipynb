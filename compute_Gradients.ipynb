{
 "cells": [
  {
   "cell_type": "code",
   "execution_count": 3,
   "metadata": {},
   "outputs": [],
   "source": [
    "import torch\n",
    "from VRP_Net_L import VRPNet_L\n",
    "from matplotlib import pyplot as plt\n",
    "import utils\n",
    "import os\n",
    "import matplotlib.pyplot as plt\n",
    "from torchinfo import summary\n",
    "import numpy as np\n",
    "import time\n",
    "import LSE_net\n",
    "from torch import optim\n",
    "import importlib\n",
    "from inference import inference"
   ]
  },
  {
   "cell_type": "code",
   "execution_count": 4,
   "metadata": {},
   "outputs": [
    {
     "name": "stdout",
     "output_type": "stream",
     "text": [
      "Running on:  cpu\n"
     ]
    }
   ],
   "source": [
    "seed=42;\n",
    "torch.manual_seed(seed)\n",
    "torch.cuda.manual_seed(seed)\n",
    "torch.cuda.manual_seed_all(seed)\n",
    "device = torch.device('cuda') if torch.cuda.is_available() else torch.device('cpu')\n",
    "np.random.seed(seed)\n",
    "print(\"Running on: \" , device)"
   ]
  },
  {
   "cell_type": "code",
   "execution_count": 5,
   "metadata": {},
   "outputs": [
    {
     "name": "stdout",
     "output_type": "stream",
     "text": [
      "num_drones = 100\tnum_facilities = 10\tdim = 2\n",
      "Data Loaded.\n"
     ]
    },
    {
     "data": {
      "image/png": "[encoded data removed]",
      "text/plain": [
       "<Figure size 400x300 with 1 Axes>"
      ]
     },
     "metadata": {},
     "output_type": "display_data"
    }
   ],
   "source": [
    "# UAV FLPO MetaData\n",
    "num_drones = 100\n",
    "n_drone_clusters = 3\n",
    "drone_cluster_split = np.random.uniform(0.0, 1.0, n_drone_clusters)\n",
    "drone_cluster_split = drone_cluster_split / np.sum(drone_cluster_split)\n",
    "num_facilities = 10\n",
    "dim_ = 2\n",
    "print(f'num_drones = {num_drones}\\tnum_facilities = {num_facilities}\\tdim = {dim_}')\n",
    "\n",
    "# Assign start location to each drone\n",
    "drone_cnt = 0\n",
    "for i in range(n_drone_clusters):\n",
    "    if i == n_drone_clusters-1:\n",
    "        n_drones = int(num_drones - drone_cnt)\n",
    "    else:\n",
    "        n_drones = int(drone_cluster_split[i] * (num_drones+1))\n",
    "        drone_cnt += n_drones\n",
    "\n",
    "    drone_cluster_mean = torch.rand(1, dim_).repeat(n_drones,1).unsqueeze(1).to(device)\n",
    "    drone_cluster_std = ((0.01 - 0.05) * torch.rand(1,dim_) + 0.05).repeat(n_drones,1).unsqueeze(1).to(device)\n",
    "    drone_cluster_START_locs = torch.normal(mean=drone_cluster_mean, std=drone_cluster_std).to(device)\n",
    "    if i == 0:\n",
    "        START_locs = drone_cluster_START_locs\n",
    "    else:\n",
    "        START_locs = torch.cat((START_locs, drone_cluster_START_locs), axis=0)\n",
    "\n",
    "assert not START_locs.requires_grad, \"set requires_grad for START_locs to 0\"\n",
    "# Assign destination location to each drone\n",
    "END_locs = torch.zeros((num_drones, 1, dim_), requires_grad=False, device=device) #torch.rand(num_drones, 1, dim_, requires_grad=False, device=device)\n",
    "\n",
    "# Create the data tensor\n",
    "F_means = torch.mean(START_locs-0.1, dim=0).repeat(num_facilities, 1)\n",
    "F_noise = torch.normal(mean=torch.zeros(num_facilities,2,device=device), std=0.0001*torch.ones(num_facilities,2,device=device))\n",
    "F_base = (F_means + F_noise).unsqueeze(0).requires_grad_()\n",
    "# print(F_base.shape)\n",
    "F_locs = F_base.expand(num_drones, -1, -1)  # view, shares grad with F_base\n",
    "data = torch.cat((START_locs, F_locs, END_locs), dim=1)  # shape: (Nd, Nf+2, D)\n",
    "print(\"Data Loaded.\")\n",
    "\n",
    "# plot the data\n",
    "def plot_UAV_FLPO(drone_START, drone_END, Facilities, figuresize=(6,5)):\n",
    "    start_locs = drone_START.squeeze(1).cpu().numpy()\n",
    "    end_locs = drone_END.squeeze(1).cpu().numpy()\n",
    "    f_locs = Facilities.squeeze(0).detach().cpu().numpy()\n",
    "\n",
    "    plt.figure(figsize=figuresize)\n",
    "    plt.scatter(start_locs[:,0], start_locs[:,1], color='violet', marker='X', alpha=0.5)\n",
    "    plt.scatter(end_locs[:,0], end_locs[:,1], color='red', marker='.')\n",
    "    plt.scatter(f_locs[:,0], f_locs[:,1], color='black', marker='^')\n",
    "    plt.grid()\n",
    "    plt.show()\n",
    "\n",
    "plot_UAV_FLPO(START_locs, END_locs, F_base, (4,3))\n"
   ]
  },
  {
   "cell_type": "markdown",
   "metadata": {},
   "source": [
    "### Create and a dataset for creating an original FLPO framework"
   ]
  },
  {
   "cell_type": "code",
   "execution_count": 6,
   "metadata": {},
   "outputs": [],
   "source": [
    "node_locations = START_locs.to(torch.float64).numpy().squeeze()\n",
    "destination_location = END_locs[0].to(torch.float64).numpy()\n",
    "facility_location = F_base.to(torch.float64).detach().numpy().squeeze()"
   ]
  },
  {
   "cell_type": "code",
   "execution_count": 7,
   "metadata": {},
   "outputs": [],
   "source": [
    "numpyFLPOdata = {}\n",
    "numpyFLPOdata['nodeLocations'] = node_locations\n",
    "numpyFLPOdata['destinationLocation'] = destination_location \n",
    "numpyFLPOdata['facilityLocations'] = facility_location\n",
    "numpyFLPOdata['numFacilities'] = facility_location.shape[0]\n",
    "numpyFLPOdata['numNodes'] = node_locations.shape[0]\n",
    "numpyFLPOdata['scale'] = 1.0"
   ]
  },
  {
   "cell_type": "code",
   "execution_count": 8,
   "metadata": {},
   "outputs": [],
   "source": [
    "import pickle\n",
    "filename = 'flpo_single_drone_data.pkl'\n",
    "with open(filename, 'wb') as file:\n",
    "    pickle.dump(numpyFLPOdata, file)"
   ]
  },
  {
   "cell_type": "markdown",
   "metadata": {},
   "source": [
    "### Functions for forward pass of VRP and LSE net modules"
   ]
  },
  {
   "cell_type": "code",
   "execution_count": 9,
   "metadata": {},
   "outputs": [],
   "source": [
    "# Shortest path and its gradient wrt facility locations\n",
    "def VRPNet_pass(vrp_net, data, method = 'BeamSearch', returnGrad=False):\n",
    "    \n",
    "    s = time.time()\n",
    "    with torch.no_grad():\n",
    "        actions = inference(data , vrp_net , method)\n",
    "    e = time.time()\n",
    "    \n",
    "    D_min_drones = utils.route_cost(data, actions).view(-1,1)\n",
    "    if returnGrad:\n",
    "        gradient = torch.autograd.grad(outputs=D_min_drones, inputs=data,\n",
    "                                grad_outputs=torch.ones_like(D_min_drones),\n",
    "                                create_graph=True)\n",
    "        dDmin_dFlocs = gradient[0][:,1:-1,:]\n",
    "    else:\n",
    "        dDmin_dFlocs = None\n",
    "\n",
    "    return D_min_drones, dDmin_dFlocs, e-s\n",
    "\n",
    "# Free energy as a function of shortest path, and its gradients\n",
    "def LSENet_pass(lse_net, D_min_drones, D_max_range, beta, beta_min, returnGrad=False):\n",
    "    device = D_min_drones.device\n",
    "    Fmin_est = area_approx_F(D_min_drones, D_max_range=D_max_range, beta=beta_min, printCalculations=False)\n",
    "    In_lse = torch.cat((\n",
    "        Fmin_est.to(device),\n",
    "        D_min_drones,\n",
    "        (torch.ones(D_min_drones.shape,device=device)*torch.log(torch.tensor([beta],device=device))/torch.log(torch.tensor([10.0],device=device)))\n",
    "    ), axis=1)\n",
    "    FreeEnergy = lse_net(In_lse)\n",
    "    if returnGrad:\n",
    "        gradient = torch.autograd.grad(outputs=FreeEnergy, inputs=In_lse,\n",
    "                                grad_outputs=torch.ones_like(FreeEnergy),\n",
    "                                create_graph=True)\n",
    "        # dFreeE_dDmin = gradient[0].view(num_drones,1,1)\n",
    "        dFreeE_dDmin = gradient[0][:,1].view(-1,1).view(num_drones,1,1)\n",
    "    else:\n",
    "        dFreeE_dDmin = None\n",
    "\n",
    "    return FreeEnergy, dFreeE_dDmin\n",
    "\n",
    "\n",
    "    return FreeEnergy, dFreeE_dDmin"
   ]
  },
  {
   "cell_type": "markdown",
   "metadata": {},
   "source": [
    "### Load the VRP NET Module"
   ]
  },
  {
   "cell_type": "code",
   "execution_count": 10,
   "metadata": {},
   "outputs": [
    {
     "name": "stdout",
     "output_type": "stream",
     "text": [
      "Model created.\n",
      "VRP NET loaded on:  cpu\n",
      "===============================================================================================\n",
      "Layer (type:depth-idx)                                                 Param #\n",
      "===============================================================================================\n",
      "VRPNet_L                                                               --\n",
      "├─LinearAttnEncoder: 1-1                                               2,048\n",
      "│    └─ModuleList: 2-1                                                 --\n",
      "│    │    └─MultiheadAttention: 3-1                                    (66,048)\n",
      "│    │    └─MultiheadAttention: 3-2                                    (66,048)\n",
      "│    │    └─MultiheadAttention: 3-3                                    (66,048)\n",
      "│    │    └─MultiheadAttention: 3-4                                    (66,048)\n",
      "│    │    └─MultiheadAttention: 3-5                                    (66,048)\n",
      "│    │    └─MultiheadAttention: 3-6                                    (66,048)\n",
      "│    └─ModuleList: 2-2                                                 --\n",
      "│    │    └─MultiheadAttention: 3-7                                    (66,048)\n",
      "│    │    └─MultiheadAttention: 3-8                                    (66,048)\n",
      "│    │    └─MultiheadAttention: 3-9                                    (66,048)\n",
      "│    │    └─MultiheadAttention: 3-10                                   (66,048)\n",
      "│    │    └─MultiheadAttention: 3-11                                   (66,048)\n",
      "│    │    └─MultiheadAttention: 3-12                                   (66,048)\n",
      "│    └─Linear: 2-3                                                     (512)\n",
      "│    └─Linear: 2-4                                                     (8,256)\n",
      "│    └─LayerNorm: 2-5                                                  (256)\n",
      "│    └─Dropout: 2-6                                                    --\n",
      "│    └─ReLU: 2-7                                                       --\n",
      "├─Decoder: 1-2                                                         --\n",
      "│    └─PositionalEncoding: 2-8                                         --\n",
      "│    └─TransformerDecoder: 2-9                                         --\n",
      "│    │    └─ModuleList: 3-13                                           (200,256)\n",
      "===============================================================================================\n",
      "Total params: 1,003,904\n",
      "Trainable params: 0\n",
      "Non-trainable params: 1,003,904\n",
      "===============================================================================================\n"
     ]
    }
   ],
   "source": [
    "torch.cuda.empty_cache()\n",
    "model_classes = {\"VRPNet_L\": VRPNet_L}\n",
    "weights_address = \"Saved_models/VRPNet_L_lr1e-04_bs256_ep80000_samples20480000_cities10_inputdim2_workers0_hidden64_enc6_dec3_heads8_dropout0.10_beta10000.000-10000.0_train_supervised_2025_05_13_11_34_05best_model.pth\"\n",
    "vrp_net = utils.load_model(weights_address, model_classes, device=device, weights_only=True)\n",
    "for param in vrp_net.parameters():\n",
    "    param.requires_grad = False\n",
    "print(\"VRP NET loaded on: \", vrp_net.device)\n",
    "print(summary(vrp_net))"
   ]
  },
  {
   "cell_type": "code",
   "execution_count": 11,
   "metadata": {},
   "outputs": [],
   "source": [
    "# hidden_dim = 32\n",
    "# num_layers_enc = 1\n",
    "# num_layers_dec = 1\n",
    "# num_heads = 8\n",
    "# torch.cuda.empty_cache()\n",
    "# vrp_net = VRPNet_L(dim_, hidden_dim, device, num_layers_enc, num_layers_dec, num_heads)\n",
    "# model_name = 'Saved models/VRPNet_L_lr1e-04_bs256_ep80000_samples20480000_cities10_inputdim2_workers0_hidden64_enc6_dec3_heads8_dropout0.10_beta10000.000-10000.0_train_supervised_2025_05_13_11_34_05best_model.pth'\n",
    "# if torch.cuda.is_available():\n",
    "#     vrp_net.load_state_dict(torch.load(model_name, weights_only=True))\n",
    "# else:\n",
    "#     vrp_net.load_state_dict(torch.load(model_name, weights_only=False, map_location=torch.device('cpu')))\n",
    "# vrp_net.eval()\n",
    "\n",
    "# # for param in vrp_net.parameters():\n",
    "# #     param.requires_grad = False\n",
    "# print('VRP NET loaded on: ',vrp_net.device)\n",
    "# print(summary(vrp_net))"
   ]
  },
  {
   "cell_type": "code",
   "execution_count": 12,
   "metadata": {},
   "outputs": [],
   "source": [
    "F_locs = F_base.expand(num_drones, -1, -1)  # view, shares grad with F_base\n",
    "data = torch.cat((START_locs, F_locs, END_locs), dim=1)  # shape: (Nd, Nf+2, D)\n",
    "# print(START_locs)\n",
    "# print(F_locs)\n",
    "# print(END_locs)\n",
    "# print(data)\n",
    "d_mins, ddmins_dFlocs, _ = VRPNet_pass(vrp_net, data, returnGrad=True)"
   ]
  },
  {
   "cell_type": "code",
   "execution_count": 13,
   "metadata": {},
   "outputs": [
    {
     "data": {
      "text/plain": [
       "tensor([[0.8586],\n",
       "        [0.8384],\n",
       "        [0.8944],\n",
       "        [0.8424],\n",
       "        [0.8374],\n",
       "        [0.8531],\n",
       "        [0.8259],\n",
       "        [0.9024],\n",
       "        [0.8573],\n",
       "        [0.8981],\n",
       "        [0.8638],\n",
       "        [0.8845],\n",
       "        [0.8974],\n",
       "        [0.8330],\n",
       "        [0.8428],\n",
       "        [0.8892],\n",
       "        [0.8800],\n",
       "        [0.8161],\n",
       "        [0.4987],\n",
       "        [0.4954],\n",
       "        [0.5099],\n",
       "        [0.5080],\n",
       "        [0.5053],\n",
       "        [0.4883],\n",
       "        [0.5015],\n",
       "        [0.5009],\n",
       "        [0.4873],\n",
       "        [0.5198],\n",
       "        [0.4928],\n",
       "        [0.4880],\n",
       "        [0.5078],\n",
       "        [0.5118],\n",
       "        [0.4933],\n",
       "        [0.5008],\n",
       "        [0.4867],\n",
       "        [0.5002],\n",
       "        [0.4971],\n",
       "        [0.4982],\n",
       "        [0.4904],\n",
       "        [0.5028],\n",
       "        [0.5044],\n",
       "        [0.4988],\n",
       "        [0.5020],\n",
       "        [0.4987],\n",
       "        [0.4921],\n",
       "        [0.5001],\n",
       "        [0.4981],\n",
       "        [0.5248],\n",
       "        [0.4985],\n",
       "        [0.5053],\n",
       "        [0.5015],\n",
       "        [0.4931],\n",
       "        [0.5135],\n",
       "        [0.4841],\n",
       "        [0.4915],\n",
       "        [0.5025],\n",
       "        [0.4948],\n",
       "        [0.4975],\n",
       "        [0.4849],\n",
       "        [0.5031],\n",
       "        [0.4922],\n",
       "        [0.4961],\n",
       "        [0.5007],\n",
       "        [0.4968],\n",
       "        [0.3636],\n",
       "        [0.3904],\n",
       "        [0.4272],\n",
       "        [0.3825],\n",
       "        [0.3567],\n",
       "        [0.4173],\n",
       "        [0.3802],\n",
       "        [0.3370],\n",
       "        [0.3626],\n",
       "        [0.3800],\n",
       "        [0.5200],\n",
       "        [0.4680],\n",
       "        [0.4250],\n",
       "        [0.3805],\n",
       "        [0.4869],\n",
       "        [0.3866],\n",
       "        [0.5034],\n",
       "        [0.4006],\n",
       "        [0.3718],\n",
       "        [0.3920],\n",
       "        [0.4530],\n",
       "        [0.4388],\n",
       "        [0.4206],\n",
       "        [0.3645],\n",
       "        [0.4869],\n",
       "        [0.4970],\n",
       "        [0.4877],\n",
       "        [0.4178],\n",
       "        [0.3819],\n",
       "        [0.4290],\n",
       "        [0.4479],\n",
       "        [0.4231],\n",
       "        [0.4589],\n",
       "        [0.4521],\n",
       "        [0.4029],\n",
       "        [0.3734]], grad_fn=<ViewBackward0>)"
      ]
     },
     "execution_count": 13,
     "metadata": {},
     "output_type": "execute_result"
    }
   ],
   "source": [
    "d_mins"
   ]
  },
  {
   "cell_type": "code",
   "execution_count": 14,
   "metadata": {},
   "outputs": [
    {
     "name": "stdout",
     "output_type": "stream",
     "text": [
      "torch.Size([100, 10, 2])\n"
     ]
    },
    {
     "data": {
      "text/plain": [
       "tensor([[[-3.5965e-04,  6.0022e-05],\n",
       "         [ 1.6832e-04,  7.9632e-05],\n",
       "         [ 1.3554e-04, -4.3303e-04],\n",
       "         ...,\n",
       "         [ 2.2101e-04, -2.9689e-04],\n",
       "         [-5.4717e-05,  8.1122e-05],\n",
       "         [-6.5407e-01, -1.0489e+00]],\n",
       "\n",
       "        [[-3.5965e-04,  6.0022e-05],\n",
       "         [ 1.6832e-04,  7.9632e-05],\n",
       "         [ 1.3554e-04, -4.3303e-04],\n",
       "         ...,\n",
       "         [ 2.2101e-04, -2.9689e-04],\n",
       "         [-5.4717e-05,  8.1122e-05],\n",
       "         [-6.0402e-01, -1.0403e+00]],\n",
       "\n",
       "        [[-4.7028e-04, -4.6790e-05],\n",
       "         [ 8.5950e-05,  4.4286e-05],\n",
       "         [ 1.1580e+00,  7.5130e-01],\n",
       "         ...,\n",
       "         [-6.8188e-05,  3.9589e-04],\n",
       "         [ 4.0650e-05, -1.8340e-04],\n",
       "         [-7.3111e-01, -1.0665e+00]],\n",
       "\n",
       "        ...,\n",
       "\n",
       "        [[ 0.0000e+00,  0.0000e+00],\n",
       "         [ 0.0000e+00,  0.0000e+00],\n",
       "         [ 0.0000e+00,  0.0000e+00],\n",
       "         ...,\n",
       "         [ 0.0000e+00,  0.0000e+00],\n",
       "         [ 0.0000e+00,  0.0000e+00],\n",
       "         [ 0.0000e+00,  0.0000e+00]],\n",
       "\n",
       "        [[ 0.0000e+00,  0.0000e+00],\n",
       "         [ 0.0000e+00,  0.0000e+00],\n",
       "         [ 0.0000e+00,  0.0000e+00],\n",
       "         ...,\n",
       "         [ 0.0000e+00,  0.0000e+00],\n",
       "         [ 0.0000e+00,  0.0000e+00],\n",
       "         [ 0.0000e+00,  0.0000e+00]],\n",
       "\n",
       "        [[ 0.0000e+00,  0.0000e+00],\n",
       "         [ 0.0000e+00,  0.0000e+00],\n",
       "         [ 0.0000e+00,  0.0000e+00],\n",
       "         ...,\n",
       "         [ 0.0000e+00,  0.0000e+00],\n",
       "         [ 0.0000e+00,  0.0000e+00],\n",
       "         [ 0.0000e+00,  0.0000e+00]]], grad_fn=<SliceBackward0>)"
      ]
     },
     "execution_count": 14,
     "metadata": {},
     "output_type": "execute_result"
    }
   ],
   "source": [
    "print(ddmins_dFlocs.shape)\n",
    "ddmins_dFlocs"
   ]
  },
  {
   "cell_type": "markdown",
   "metadata": {},
   "source": [
    "### Load the LSE net module"
   ]
  },
  {
   "cell_type": "code",
   "execution_count": 15,
   "metadata": {},
   "outputs": [
    {
     "name": "stdout",
     "output_type": "stream",
     "text": [
      "n_inputs: 3\n",
      "n_outputs: 1\n",
      "layers: [20, 20, 10]\n",
      "io_scale: 1\n",
      "LSE_net:\n",
      "=================================================================\n",
      "Layer (type:depth-idx)                   Param #\n",
      "=================================================================\n",
      "dnn                                      --\n",
      "├─ModuleList: 1-1                        --\n",
      "│    └─Linear: 2-1                       (80)\n",
      "│    └─ReLU: 2-2                         --\n",
      "│    └─Linear: 2-3                       (420)\n",
      "│    └─ReLU: 2-4                         --\n",
      "│    └─Linear: 2-5                       (210)\n",
      "│    └─ReLU: 2-6                         --\n",
      "│    └─Linear: 2-7                       (11)\n",
      "=================================================================\n",
      "Total params: 721\n",
      "Trainable params: 0\n",
      "Non-trainable params: 721\n",
      "=================================================================\n"
     ]
    }
   ],
   "source": [
    "importlib.reload(LSE_net)\n",
    "lse_data = torch.load('logSumExp_models/lse_2025_5_1__17_6_31.pth', weights_only=False)\n",
    "n_inputs = lse_data['n_inputs']\n",
    "n_outputs = lse_data['n_outputs']\n",
    "layers = lse_data['layers']\n",
    "weights = lse_data['model_state_dict']\n",
    "io_scale = lse_data['io_scale']\n",
    "D_max_range = 2.0 #lse_data['D_max_range']\n",
    "lse_net = LSE_net.dnn(n_inputs, n_outputs, layers)\n",
    "# lse_net.to(device)\n",
    "lse_net.load_state_dict(weights)\n",
    "lse_net.eval()\n",
    "for p in lse_net.parameters():\n",
    "    p.requires_grad = False\n",
    "print(f'n_inputs: {n_inputs}\\nn_outputs: {n_outputs}\\nlayers: {layers}\\nio_scale: {io_scale}\\nLSE_net:\\n{summary(lse_net)}')"
   ]
  },
  {
   "cell_type": "markdown",
   "metadata": {},
   "source": [
    "### Some functions for free energy approximation"
   ]
  },
  {
   "cell_type": "code",
   "execution_count": 16,
   "metadata": {},
   "outputs": [],
   "source": [
    "def logSumExp(D_tensor, beta):\n",
    "    # with torch.no_grad():\n",
    "    # print(D_tensor)\n",
    "    D_min = torch.min(D_tensor, axis=1, keepdims=True)\n",
    "    F = -1/beta * torch.log(torch.sum(torch.exp(-beta*(D_tensor - D_min.values)), axis=1, keepdims=True)) + 1/beta * torch.log(torch.tensor([D_tensor.shape[1]])) + D_min.values\n",
    "    return F\n",
    "\n",
    "def area_approx_F(D_min, D_max_range, beta, printCalculations=False):\n",
    "    min_beta_D_arr = beta * D_min\n",
    "    x_max = beta * D_max_range - min_beta_D_arr\n",
    "    F_est = -1/beta * torch.log(1/x_max * (1 - torch.exp(-x_max))) + D_min\n",
    "    \n",
    "    if printCalculations:\n",
    "        print(f'min_beta_D_arr:{min_beta_D_arr}')\n",
    "        print(f'x_max:{x_max}')\n",
    "        print(f'inside_log:{1/x_max * (1 - torch.exp(-x_max))}')\n",
    "        print(f'log:{torch.log(1/x_max * (1 - torch.exp(-x_max)))}')\n",
    "        print(f'-1/beta_log:\\n{-1/beta * torch.log(1/x_max * (1 - torch.exp(-x_max)))}')\n",
    "        \n",
    "    return F_est"
   ]
  },
  {
   "cell_type": "code",
   "execution_count": 17,
   "metadata": {},
   "outputs": [],
   "source": [
    "b_min = 1e-3\n",
    "beta = 1e-3\n",
    "F_lse, dFlse_ddmin = LSENet_pass(lse_net, d_mins, D_max_range, beta, b_min, returnGrad=True)\n",
    "F_total = torch.mean(F_lse)"
   ]
  },
  {
   "cell_type": "code",
   "execution_count": 18,
   "metadata": {},
   "outputs": [
    {
     "data": {
      "text/plain": [
       "tensor([[[0.0012]],\n",
       "\n",
       "        [[0.0012]],\n",
       "\n",
       "        [[0.0012]],\n",
       "\n",
       "        [[0.0012]],\n",
       "\n",
       "        [[0.0012]],\n",
       "\n",
       "        [[0.0012]],\n",
       "\n",
       "        [[0.0012]],\n",
       "\n",
       "        [[0.0012]],\n",
       "\n",
       "        [[0.0012]],\n",
       "\n",
       "        [[0.0012]],\n",
       "\n",
       "        [[0.0012]],\n",
       "\n",
       "        [[0.0012]],\n",
       "\n",
       "        [[0.0012]],\n",
       "\n",
       "        [[0.0012]],\n",
       "\n",
       "        [[0.0012]],\n",
       "\n",
       "        [[0.0012]],\n",
       "\n",
       "        [[0.0012]],\n",
       "\n",
       "        [[0.0012]],\n",
       "\n",
       "        [[0.0012]],\n",
       "\n",
       "        [[0.0012]],\n",
       "\n",
       "        [[0.0012]],\n",
       "\n",
       "        [[0.0012]],\n",
       "\n",
       "        [[0.0012]],\n",
       "\n",
       "        [[0.0012]],\n",
       "\n",
       "        [[0.0012]],\n",
       "\n",
       "        [[0.0012]],\n",
       "\n",
       "        [[0.0012]],\n",
       "\n",
       "        [[0.0012]],\n",
       "\n",
       "        [[0.0012]],\n",
       "\n",
       "        [[0.0012]],\n",
       "\n",
       "        [[0.0012]],\n",
       "\n",
       "        [[0.0012]],\n",
       "\n",
       "        [[0.0012]],\n",
       "\n",
       "        [[0.0012]],\n",
       "\n",
       "        [[0.0012]],\n",
       "\n",
       "        [[0.0012]],\n",
       "\n",
       "        [[0.0012]],\n",
       "\n",
       "        [[0.0012]],\n",
       "\n",
       "        [[0.0012]],\n",
       "\n",
       "        [[0.0012]],\n",
       "\n",
       "        [[0.0012]],\n",
       "\n",
       "        [[0.0012]],\n",
       "\n",
       "        [[0.0012]],\n",
       "\n",
       "        [[0.0012]],\n",
       "\n",
       "        [[0.0012]],\n",
       "\n",
       "        [[0.0012]],\n",
       "\n",
       "        [[0.0012]],\n",
       "\n",
       "        [[0.0012]],\n",
       "\n",
       "        [[0.0012]],\n",
       "\n",
       "        [[0.0012]],\n",
       "\n",
       "        [[0.0012]],\n",
       "\n",
       "        [[0.0012]],\n",
       "\n",
       "        [[0.0012]],\n",
       "\n",
       "        [[0.0012]],\n",
       "\n",
       "        [[0.0012]],\n",
       "\n",
       "        [[0.0012]],\n",
       "\n",
       "        [[0.0012]],\n",
       "\n",
       "        [[0.0012]],\n",
       "\n",
       "        [[0.0012]],\n",
       "\n",
       "        [[0.0012]],\n",
       "\n",
       "        [[0.0012]],\n",
       "\n",
       "        [[0.0012]],\n",
       "\n",
       "        [[0.0012]],\n",
       "\n",
       "        [[0.0012]],\n",
       "\n",
       "        [[0.0012]],\n",
       "\n",
       "        [[0.0012]],\n",
       "\n",
       "        [[0.0012]],\n",
       "\n",
       "        [[0.0012]],\n",
       "\n",
       "        [[0.0012]],\n",
       "\n",
       "        [[0.0012]],\n",
       "\n",
       "        [[0.0012]],\n",
       "\n",
       "        [[0.0012]],\n",
       "\n",
       "        [[0.0012]],\n",
       "\n",
       "        [[0.0012]],\n",
       "\n",
       "        [[0.0012]],\n",
       "\n",
       "        [[0.0012]],\n",
       "\n",
       "        [[0.0012]],\n",
       "\n",
       "        [[0.0012]],\n",
       "\n",
       "        [[0.0012]],\n",
       "\n",
       "        [[0.0012]],\n",
       "\n",
       "        [[0.0012]],\n",
       "\n",
       "        [[0.0012]],\n",
       "\n",
       "        [[0.0012]],\n",
       "\n",
       "        [[0.0012]],\n",
       "\n",
       "        [[0.0012]],\n",
       "\n",
       "        [[0.0012]],\n",
       "\n",
       "        [[0.0012]],\n",
       "\n",
       "        [[0.0012]],\n",
       "\n",
       "        [[0.0012]],\n",
       "\n",
       "        [[0.0012]],\n",
       "\n",
       "        [[0.0012]],\n",
       "\n",
       "        [[0.0012]],\n",
       "\n",
       "        [[0.0012]],\n",
       "\n",
       "        [[0.0012]],\n",
       "\n",
       "        [[0.0012]],\n",
       "\n",
       "        [[0.0012]],\n",
       "\n",
       "        [[0.0012]],\n",
       "\n",
       "        [[0.0012]],\n",
       "\n",
       "        [[0.0012]],\n",
       "\n",
       "        [[0.0012]]], grad_fn=<ViewBackward0>)"
      ]
     },
     "execution_count": 18,
     "metadata": {},
     "output_type": "execute_result"
    }
   ],
   "source": [
    "dFlse_ddmin"
   ]
  },
  {
   "cell_type": "markdown",
   "metadata": {},
   "source": [
    "### Apply Chain rule: $\\frac{\\partial F}{\\partial F_{base}} = \\sum_{i=1}^N\\frac{\\partial F}{\\partial d^i_{min}} \\cdot \\frac{\\partial d^i_{min}}{\\partial F_{base}}$, where $i$ represents drone index."
   ]
  },
  {
   "cell_type": "code",
   "execution_count": 20,
   "metadata": {},
   "outputs": [
    {
     "data": {
      "text/plain": [
       "tensor([[[-4.4031e-07,  7.3483e-08],\n",
       "         [ 2.0607e-07,  9.7490e-08],\n",
       "         [ 1.6594e-07, -5.3014e-07],\n",
       "         ...,\n",
       "         [ 2.7058e-07, -3.6347e-07],\n",
       "         [-6.6988e-08,  9.9315e-08],\n",
       "         [-8.0075e-04, -1.2841e-03]],\n",
       "\n",
       "        [[-4.4031e-07,  7.3483e-08],\n",
       "         [ 2.0607e-07,  9.7490e-08],\n",
       "         [ 1.6594e-07, -5.3014e-07],\n",
       "         ...,\n",
       "         [ 2.7058e-07, -3.6347e-07],\n",
       "         [-6.6988e-08,  9.9315e-08],\n",
       "         [-7.3948e-04, -1.2736e-03]],\n",
       "\n",
       "        [[-5.7575e-07, -5.7283e-08],\n",
       "         [ 1.0523e-07,  5.4218e-08],\n",
       "         [ 1.4176e-03,  9.1979e-04],\n",
       "         ...,\n",
       "         [-8.3480e-08,  4.8468e-07],\n",
       "         [ 4.9767e-08, -2.2453e-07],\n",
       "         [-8.9507e-04, -1.3057e-03]],\n",
       "\n",
       "        ...,\n",
       "\n",
       "        [[ 0.0000e+00,  0.0000e+00],\n",
       "         [ 0.0000e+00,  0.0000e+00],\n",
       "         [ 0.0000e+00,  0.0000e+00],\n",
       "         ...,\n",
       "         [ 0.0000e+00,  0.0000e+00],\n",
       "         [ 0.0000e+00,  0.0000e+00],\n",
       "         [ 0.0000e+00,  0.0000e+00]],\n",
       "\n",
       "        [[ 0.0000e+00,  0.0000e+00],\n",
       "         [ 0.0000e+00,  0.0000e+00],\n",
       "         [ 0.0000e+00,  0.0000e+00],\n",
       "         ...,\n",
       "         [ 0.0000e+00,  0.0000e+00],\n",
       "         [ 0.0000e+00,  0.0000e+00],\n",
       "         [ 0.0000e+00,  0.0000e+00]],\n",
       "\n",
       "        [[ 0.0000e+00,  0.0000e+00],\n",
       "         [ 0.0000e+00,  0.0000e+00],\n",
       "         [ 0.0000e+00,  0.0000e+00],\n",
       "         ...,\n",
       "         [ 0.0000e+00,  0.0000e+00],\n",
       "         [ 0.0000e+00,  0.0000e+00],\n",
       "         [ 0.0000e+00,  0.0000e+00]]], grad_fn=<MulBackward0>)"
      ]
     },
     "execution_count": 20,
     "metadata": {},
     "output_type": "execute_result"
    }
   ],
   "source": [
    "drone_grads_fbase = dFlse_ddmin * ddmins_dFlocs\n",
    "drone_grads_fbase"
   ]
  },
  {
   "cell_type": "code",
   "execution_count": 21,
   "metadata": {},
   "outputs": [
    {
     "data": {
      "text/plain": [
       "tensor([[-3.6718e-07,  4.4491e-09],\n",
       "        [ 1.0400e-07,  2.3132e-10],\n",
       "        [ 1.3281e-04,  1.0969e-04],\n",
       "        [-1.9681e-07, -1.8212e-07],\n",
       "        [ 4.0662e-04,  2.6421e-04],\n",
       "        [ 7.8375e-08,  9.9269e-08],\n",
       "        [ 1.8514e-07,  5.7678e-08],\n",
       "        [ 3.5435e-04,  2.3025e-04],\n",
       "        [ 1.2233e-08, -7.5511e-09],\n",
       "        [-1.3569e-04, -3.1677e-04]], grad_fn=<MeanBackward1>)"
      ]
     },
     "execution_count": 21,
     "metadata": {},
     "output_type": "execute_result"
    }
   ],
   "source": [
    "G = torch.mean(drone_grads_fbase, axis=0)\n",
    "G"
   ]
  },
  {
   "cell_type": "markdown",
   "metadata": {},
   "source": [
    "### Compute gradient $\\frac{\\partial F}{\\partial F_{base}}$ by direct backpropagation"
   ]
  },
  {
   "cell_type": "code",
   "execution_count": 22,
   "metadata": {},
   "outputs": [
    {
     "data": {
      "text/plain": [
       "tensor([[[-1.5079e-04,  1.8286e-06],\n",
       "         [ 4.2756e-05,  1.0040e-07],\n",
       "         [ 5.4741e-02,  4.5109e-02],\n",
       "         [-8.0773e-05, -7.4787e-05],\n",
       "         [ 1.6701e-01,  1.0852e-01],\n",
       "         [ 3.2150e-05,  4.0753e-05],\n",
       "         [ 7.5962e-05,  2.3716e-05],\n",
       "         [ 1.4541e-01,  9.4485e-02],\n",
       "         [ 5.0267e-06, -3.1181e-06],\n",
       "         [-5.5937e-02, -1.3021e-01]]], grad_fn=<SumBackward1>)"
      ]
     },
     "execution_count": 22,
     "metadata": {},
     "output_type": "execute_result"
    }
   ],
   "source": [
    "G1 = torch.autograd.grad(outputs=F_total, inputs=F_base,\n",
    "                               grad_outputs=torch.ones_like(F_total),\n",
    "                               create_graph=True)\n",
    "G1[0]"
   ]
  },
  {
   "cell_type": "markdown",
   "metadata": {},
   "source": [
    "### Compute gradient $\\frac{\\partial F}{\\partial F_{base}}$ by using torch.optim.optimizer.backward()"
   ]
  },
  {
   "cell_type": "code",
   "execution_count": null,
   "metadata": {},
   "outputs": [],
   "source": []
  },
  {
   "cell_type": "markdown",
   "metadata": {},
   "source": [
    "### Compare the gradient estimates with original FLPO framework"
   ]
  },
  {
   "cell_type": "code",
   "execution_count": 21,
   "metadata": {},
   "outputs": [
    {
     "data": {
      "image/png": "[encoded data removed]",
      "text/plain": [
       "<Figure size 640x480 with 1 Axes>"
      ]
     },
     "metadata": {},
     "output_type": "display_data"
    },
    {
     "data": {
      "text/plain": [
       "array([[0.09522383, 0.05516306],\n",
       "       [0.09575924, 0.05530144],\n",
       "       [0.09615038, 0.05475917],\n",
       "       [0.09539971, 0.05490595],\n",
       "       [0.09612466, 0.05535224],\n",
       "       [0.09577386, 0.05512544],\n",
       "       [0.09561849, 0.05511719],\n",
       "       [0.09596176, 0.05528234],\n",
       "       [0.09590801, 0.05502252],\n",
       "       [0.09572716, 0.05585042]])"
      ]
     },
     "execution_count": 21,
     "metadata": {},
     "output_type": "execute_result"
    }
   ],
   "source": [
    "import classFLPO\n",
    "flpo = classFLPO.FLPO(filename, plotFLPO=True, disType='sqeuclidean', selfHop=True)\n",
    "Y = flpo.facilityLocations\n",
    "GD_s, _ = flpo.returnStagewiseGrad(Y)\n",
    "D_s, _ = flpo.returnStagewiseCost(Y)\n",
    "_, V, Fe, _, Pb = flpo.backPropDP(D_s, beta, returnPb=True)\n",
    "GV, GFe = flpo.backPropDP_grad(GD_s, Pb)\n",
    "# print(GD_s)\n",
    "GFe\n",
    "# GV[0].shape"
   ]
  },
  {
   "cell_type": "code",
   "execution_count": 22,
   "metadata": {},
   "outputs": [
    {
     "data": {
      "text/plain": [
       "0.0721742404093518"
      ]
     },
     "execution_count": 22,
     "metadata": {},
     "output_type": "execute_result"
    }
   ],
   "source": [
    "np.mean(np.sum((GFe - G1[0].detach().numpy())**2,axis=1))#/np.mean(np.sum(GFe**2,axis=1))"
   ]
  },
  {
   "cell_type": "code",
   "execution_count": 23,
   "metadata": {},
   "outputs": [
    {
     "data": {
      "text/plain": [
       "11111111111"
      ]
     },
     "execution_count": 23,
     "metadata": {},
     "output_type": "execute_result"
    }
   ],
   "source": [
    "n_routes = utils.num_flpo_routes(num_facilities, num_drones)\n",
    "n_routes[0][0]"
   ]
  },
  {
   "cell_type": "code",
   "execution_count": 24,
   "metadata": {},
   "outputs": [
    {
     "data": {
      "text/plain": [
       "tensor(-23129.9414, grad_fn=<SubBackward0>)"
      ]
     },
     "execution_count": 24,
     "metadata": {},
     "output_type": "execute_result"
    }
   ],
   "source": [
    "F_total - 1/beta * np.log(n_routes[0][0])"
   ]
  },
  {
   "cell_type": "code",
   "execution_count": 25,
   "metadata": {},
   "outputs": [
    {
     "data": {
      "text/plain": [
       "-23130.646496963338"
      ]
     },
     "execution_count": 25,
     "metadata": {},
     "output_type": "execute_result"
    }
   ],
   "source": [
    "np.mean(V[0]) #+ 1/beta * np.log(n_routes[0][0]))"
   ]
  },
  {
   "cell_type": "markdown",
   "metadata": {},
   "source": [
    "### Perform a gradient descent step: $F_{base}^+ = F_{base} - \\eta \\frac{\\partial F}{\\partial F_{base}}$"
   ]
  },
  {
   "cell_type": "code",
   "execution_count": 26,
   "metadata": {},
   "outputs": [
    {
     "data": {
      "text/plain": [
       "tensor([[[0.5787, 0.3759],\n",
       "         [0.5788, 0.3759],\n",
       "         [0.5789, 0.3758],\n",
       "         [0.5787, 0.3758],\n",
       "         [0.5789, 0.3759],\n",
       "         [0.5788, 0.3759],\n",
       "         [0.5788, 0.3759],\n",
       "         [0.5789, 0.3759],\n",
       "         [0.5789, 0.3758],\n",
       "         [0.5788, 0.3761]]], requires_grad=True)"
      ]
     },
     "execution_count": 26,
     "metadata": {},
     "output_type": "execute_result"
    }
   ],
   "source": [
    "F_base"
   ]
  },
  {
   "cell_type": "code",
   "execution_count": 27,
   "metadata": {},
   "outputs": [
    {
     "ename": "RuntimeError",
     "evalue": "The size of tensor a (10) must match the size of tensor b (12) at non-singleton dimension 1",
     "output_type": "error",
     "traceback": [
      "\u001b[0;31m---------------------------------------------------------------------------\u001b[0m",
      "\u001b[0;31mRuntimeError\u001b[0m                              Traceback (most recent call last)",
      "Cell \u001b[0;32mIn[27], line 2\u001b[0m\n\u001b[1;32m      1\u001b[0m eta \u001b[38;5;241m=\u001b[39m \u001b[38;5;241m0.001\u001b[39m\n\u001b[0;32m----> 2\u001b[0m F_base_new \u001b[38;5;241m=\u001b[39m \u001b[43mF_base\u001b[49m\u001b[43m \u001b[49m\u001b[38;5;241;43m-\u001b[39;49m\u001b[43m \u001b[49m\u001b[43meta\u001b[49m\u001b[43m \u001b[49m\u001b[38;5;241;43m*\u001b[39;49m\u001b[43m \u001b[49m\u001b[43mG\u001b[49m\n",
      "\u001b[0;31mRuntimeError\u001b[0m: The size of tensor a (10) must match the size of tensor b (12) at non-singleton dimension 1"
     ]
    }
   ],
   "source": [
    "eta = 0.001\n",
    "F_base_new = F_base - eta * G"
   ]
  },
  {
   "cell_type": "code",
   "execution_count": 29,
   "metadata": {},
   "outputs": [
    {
     "data": {
      "text/plain": [
       "tensor([[[0.4382, 0.3312],\n",
       "         [0.3591, 0.2521]]], grad_fn=<SubBackward0>)"
      ]
     },
     "execution_count": 29,
     "metadata": {},
     "output_type": "execute_result"
    }
   ],
   "source": [
    "F_base_new"
   ]
  },
  {
   "cell_type": "markdown",
   "metadata": {},
   "source": [
    "### Write a loop to optimize the network w.r.t. facilities"
   ]
  },
  {
   "cell_type": "code",
   "execution_count": 30,
   "metadata": {},
   "outputs": [],
   "source": [
    "iters = 2\n",
    "eta = 0.001\n",
    "F_base_new = F_base\n",
    "\n",
    "for i in range(iters):\n",
    "    \n",
    "    F_locs = F_base_new.expand(num_drones, -1, -1)  # view, shares grad with F_base\n",
    "    data = torch.cat((START_locs, F_locs, END_locs), dim=1)  # shape: (Nd, Nf+2, D)\n",
    "\n",
    "    s = time.time()\n",
    "    with torch.no_grad():\n",
    "        # forward pass: no activations are saved for grad\n",
    "        _, actions = vrp_net(data, mod='eval_greedy')\n",
    "    e = time.time()\n",
    "    actions.detach()\n",
    "    d_mins = utils.route_cost(data, actions).view(-1,1)\n",
    "\n",
    "    gradient0 = torch.autograd.grad(outputs=d_mins, inputs=F_locs,\n",
    "                               grad_outputs=torch.ones_like(d_mins),\n",
    "                               create_graph=True)\n",
    "\n",
    "    d_mins = utils.route_cost(data, actions).view(-1,1) #[drone_id:drone_id+1]\n",
    "    Fmin_est = area_approx_F(d_mins, D_max_range=2.0, beta=b_min, printCalculations=False)\n",
    "    torch.cuda.empty_cache()\n",
    "    In_lse = torch.cat((\n",
    "        Fmin_est.to(device),\n",
    "        io_scale * d_mins,\n",
    "        (torch.ones(d_mins.shape)*torch.log(torch.tensor([beta]))/torch.log(torch.tensor([10.0]))).to(device)\n",
    "    ), axis=1)\n",
    "    \n",
    "    FreeEnergy = lse_net(In_lse)\n",
    "    gradient1 = torch.autograd.grad(outputs=FreeEnergy, inputs=In_lse,\n",
    "                               grad_outputs=torch.ones_like(FreeEnergy),\n",
    "                               create_graph=True)\n",
    "    total_gradient = gradient0[0] * gradient1[0][:,1].view(-1,1).view(num_drones,1,1)\n",
    "    G = torch.sum(total_gradient, axis=0)\n",
    "    F_base_new = F_base - eta * G"
   ]
  }
 ],
 "metadata": {
  "kernelspec": {
   "display_name": "Python 3",
   "language": "python",
   "name": "python3"
  },
  "language_info": {
   "codemirror_mode": {
    "name": "ipython",
    "version": 3
   },
   "file_extension": ".py",
   "mimetype": "text/x-python",
   "name": "python",
   "nbconvert_exporter": "python",
   "pygments_lexer": "ipython3",
   "version": "3.9.6"
  }
 },
 "nbformat": 4,
 "nbformat_minor": 2
}
