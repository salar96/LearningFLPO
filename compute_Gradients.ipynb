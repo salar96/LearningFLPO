{
 "cells": [
  {
   "cell_type": "code",
   "execution_count": 1,
   "metadata": {},
   "outputs": [],
   "source": [
    "import torch\n",
    "from VRP_Net_L import VRPNet_L\n",
    "from matplotlib import pyplot as plt\n",
    "import utils\n",
    "import os\n",
    "import matplotlib.pyplot as plt\n",
    "from torchinfo import summary\n",
    "import numpy as np\n",
    "import time\n",
    "import LSE_net\n",
    "from torch import optim\n",
    "import importlib"
   ]
  },
  {
   "cell_type": "code",
   "execution_count": 2,
   "metadata": {},
   "outputs": [
    {
     "name": "stdout",
     "output_type": "stream",
     "text": [
      "Running on:  cpu\n"
     ]
    }
   ],
   "source": [
    "seed=42;\n",
    "torch.manual_seed(seed)\n",
    "torch.cuda.manual_seed(seed)\n",
    "torch.cuda.manual_seed_all(seed)\n",
    "device = torch.device('cuda') if torch.cuda.is_available() else torch.device('cpu')\n",
    "np.random.seed(seed)\n",
    "print(\"Running on: \" , device)"
   ]
  },
  {
   "cell_type": "code",
   "execution_count": 25,
   "metadata": {},
   "outputs": [
    {
     "name": "stdout",
     "output_type": "stream",
     "text": [
      "num_drones = 2\tnum_facilities = 5\tdim = 2\n",
      "Data Loaded.\n"
     ]
    },
    {
     "data": {
      "image/png": "[encoded data removed]",
      "text/plain": [
       "<Figure size 400x300 with 1 Axes>"
      ]
     },
     "metadata": {},
     "output_type": "display_data"
    }
   ],
   "source": [
    "# UAV FLPO MetaData\n",
    "num_drones = 2\n",
    "n_drone_clusters = 1\n",
    "drone_cluster_split = np.random.uniform(0.0, 1.0, n_drone_clusters)\n",
    "drone_cluster_split = drone_cluster_split / np.sum(drone_cluster_split)\n",
    "num_facilities = 5\n",
    "dim_ = 2\n",
    "print(f'num_drones = {num_drones}\\tnum_facilities = {num_facilities}\\tdim = {dim_}')\n",
    "\n",
    "# Assign start location to each drone\n",
    "drone_cnt = 0\n",
    "for i in range(n_drone_clusters):\n",
    "    if i == n_drone_clusters-1:\n",
    "        n_drones = int(num_drones - drone_cnt)\n",
    "    else:\n",
    "        n_drones = int(drone_cluster_split[i] * (num_drones+1))\n",
    "        drone_cnt += n_drones\n",
    "\n",
    "    drone_cluster_mean = torch.rand(1, dim_).repeat(n_drones,1).unsqueeze(1).to(device)\n",
    "    drone_cluster_std = ((0.01 - 0.05) * torch.rand(1,dim_) + 0.05).repeat(n_drones,1).unsqueeze(1).to(device)\n",
    "    drone_cluster_START_locs = torch.normal(mean=drone_cluster_mean, std=drone_cluster_std).to(device)\n",
    "    if i == 0:\n",
    "        START_locs = drone_cluster_START_locs\n",
    "    else:\n",
    "        START_locs = torch.cat((START_locs, drone_cluster_START_locs), axis=0)\n",
    "\n",
    "assert not START_locs.requires_grad, \"set requires_grad for START_locs to 0\"\n",
    "# Assign destination location to each drone\n",
    "END_locs = torch.zeros((num_drones, 1, dim_), requires_grad=False, device=device) #torch.rand(num_drones, 1, dim_, requires_grad=False, device=device)\n",
    "\n",
    "# Create the data tensor\n",
    "F_means = torch.mean(START_locs-0.1, dim=0).repeat(num_facilities, 1)\n",
    "F_noise = torch.normal(mean=torch.zeros(num_facilities,2,device=device), std=0.0001*torch.ones(num_facilities,2,device=device))\n",
    "F_base = (F_means + F_noise).unsqueeze(0).requires_grad_()\n",
    "# print(F_base.shape)\n",
    "F_locs = F_base.expand(num_drones, -1, -1)  # view, shares grad with F_base\n",
    "data = torch.cat((START_locs, F_locs, END_locs), dim=1)  # shape: (Nd, Nf+2, D)\n",
    "print(\"Data Loaded.\")\n",
    "\n",
    "# plot the data\n",
    "def plot_UAV_FLPO(drone_START, drone_END, Facilities, figuresize=(6,5)):\n",
    "    start_locs = drone_START.squeeze(1).cpu().numpy()\n",
    "    end_locs = drone_END.squeeze(1).cpu().numpy()\n",
    "    f_locs = Facilities.squeeze(0).detach().cpu().numpy()\n",
    "\n",
    "    plt.figure(figsize=figuresize)\n",
    "    plt.scatter(start_locs[:,0], start_locs[:,1], color='violet', marker='X', alpha=0.5)\n",
    "    plt.scatter(end_locs[:,0], end_locs[:,1], color='red', marker='.')\n",
    "    plt.scatter(f_locs[:,0], f_locs[:,1], color='black', marker='^')\n",
    "    plt.grid()\n",
    "    plt.show()\n",
    "\n",
    "plot_UAV_FLPO(START_locs, END_locs, F_base, (4,3))\n"
   ]
  },
  {
   "cell_type": "markdown",
   "metadata": {},
   "source": [
    "### Create and a dataset for creating an original FLPO framework"
   ]
  },
  {
   "cell_type": "code",
   "execution_count": 26,
   "metadata": {},
   "outputs": [],
   "source": [
    "node_locations = START_locs.to(torch.float64).numpy().squeeze()\n",
    "destination_location = END_locs[0].to(torch.float64).numpy()\n",
    "facility_location = F_base.to(torch.float64).detach().numpy().squeeze()"
   ]
  },
  {
   "cell_type": "code",
   "execution_count": 27,
   "metadata": {},
   "outputs": [],
   "source": [
    "numpyFLPOdata = {}\n",
    "numpyFLPOdata['nodeLocations'] = node_locations\n",
    "numpyFLPOdata['destinationLocation'] = destination_location \n",
    "numpyFLPOdata['facilityLocations'] = facility_location\n",
    "numpyFLPOdata['numFacilities'] = facility_location.shape[0]\n",
    "numpyFLPOdata['numNodes'] = node_locations.shape[0]\n",
    "numpyFLPOdata['scale'] = 1.0"
   ]
  },
  {
   "cell_type": "code",
   "execution_count": 28,
   "metadata": {},
   "outputs": [],
   "source": [
    "import pickle\n",
    "filename = 'flpo_single_drone_data.pkl'\n",
    "with open(filename, 'wb') as file:\n",
    "    pickle.dump(numpyFLPOdata, file)"
   ]
  },
  {
   "cell_type": "markdown",
   "metadata": {},
   "source": [
    "### Functions for forward pass of VRP and LSE net modules"
   ]
  },
  {
   "cell_type": "code",
   "execution_count": 29,
   "metadata": {},
   "outputs": [],
   "source": [
    "# Shortest path and its gradient wrt facility locations\n",
    "def VRPNet_pass(vrp_net, F_locs, returnGrad=False):\n",
    "    data = torch.cat((START_locs, F_locs, END_locs), dim=1)  # shape: (Nd, Nf+2, D)\n",
    "\n",
    "    s = time.time()\n",
    "    _, actions = vrp_net(data, mod='eval_greedy')\n",
    "    e = time.time()\n",
    "    actions.detach()\n",
    "    D_min_drones = utils.route_cost(data, actions).view(-1,1)\n",
    "    if returnGrad:\n",
    "        gradient = torch.autograd.grad(outputs=D_min_drones, inputs=F_locs,\n",
    "                                grad_outputs=torch.ones_like(D_min_drones),\n",
    "                                create_graph=True)\n",
    "        dDmin_dFlocs = gradient[0]\n",
    "    else:\n",
    "        dDmin_dFlocs = None\n",
    "\n",
    "    return D_min_drones, dDmin_dFlocs, e-s\n",
    "\n",
    "# Free energy as a function of shortest path, and its gradients\n",
    "def LSENet_pass(lse_net, D_min_drones, D_max_range, beta, beta_min, returnGrad=False):\n",
    "    device = D_min_drones.device\n",
    "    # with torch.no_grad():\n",
    "    Fmin_est = area_approx_F(D_min_drones, D_max_range=D_max_range, beta=beta_min, printCalculations=False)#.detach()\n",
    "    In_lse = torch.cat((\n",
    "        Fmin_est.to(device),\n",
    "        D_min_drones,\n",
    "        (torch.ones(D_min_drones.shape,device=device) * torch.log(torch.tensor([beta],device=device))/torch.log(torch.tensor([10.0],device=device)))\n",
    "    ), axis=1)\n",
    "    FreeEnergy = lse_net(In_lse)\n",
    "    if returnGrad:\n",
    "        gradient = torch.autograd.grad(outputs=FreeEnergy, inputs=In_lse,\n",
    "                                grad_outputs=torch.ones_like(FreeEnergy),\n",
    "                                create_graph=True)\n",
    "        # dFreeE_dDmin = gradient[0].view(num_drones,1,1)\n",
    "        dFreeE_dDmin = gradient[0][:,1].view(-1,1).view(num_drones,1,1)\n",
    "    else:\n",
    "        dFreeE_dDmin = None\n",
    "\n",
    "    return FreeEnergy, dFreeE_dDmin"
   ]
  },
  {
   "cell_type": "markdown",
   "metadata": {},
   "source": [
    "### Load the VRP NET Module"
   ]
  },
  {
   "cell_type": "code",
   "execution_count": 30,
   "metadata": {},
   "outputs": [
    {
     "name": "stdout",
     "output_type": "stream",
     "text": [
      "VRP NET loaded on:  cpu\n",
      "===============================================================================================\n",
      "Layer (type:depth-idx)                                                 Param #\n",
      "===============================================================================================\n",
      "VRPNet_L                                                               --\n",
      "├─LinearAttnEncoder: 1-1                                               2,560\n",
      "│    └─MultiheadAttention: 2-1                                         197,376\n",
      "│    │    └─NonDynamicallyQuantizableLinear: 3-1                       65,792\n",
      "│    └─Linear: 2-2                                                     768\n",
      "│    └─Linear: 2-3                                                     8,224\n",
      "│    └─LayerNorm: 2-4                                                  512\n",
      "│    └─Dropout: 2-5                                                    --\n",
      "│    └─ReLU: 2-6                                                       --\n",
      "├─Decoder: 1-2                                                         --\n",
      "│    └─TransformerDecoder: 2-7                                         --\n",
      "│    │    └─ModuleList: 3-2                                            16,992\n",
      "├─PositionalEncoding: 1-3                                              --\n",
      "===============================================================================================\n",
      "Total params: 292,224\n",
      "Trainable params: 292,224\n",
      "Non-trainable params: 0\n",
      "===============================================================================================\n"
     ]
    }
   ],
   "source": [
    "hidden_dim = 32\n",
    "num_layers_enc = 1\n",
    "num_layers_dec = 1\n",
    "num_heads = 8\n",
    "torch.cuda.empty_cache()\n",
    "vrp_net = VRPNet_L(dim_, hidden_dim, device, num_layers_enc, num_layers_dec, num_heads)\n",
    "if torch.cuda.is_available():\n",
    "    vrp_net.load_state_dict(torch.load('Saved models/POMO2025_04_12 00_54_260.6350972652435303best_model.pth',weights_only=True))\n",
    "else:\n",
    "    vrp_net.load_state_dict(torch.load('Saved models/POMO2025_04_12 00_54_260.6350972652435303best_model.pth',weights_only=False, map_location=torch.device('cpu')))\n",
    "vrp_net.eval()\n",
    "\n",
    "# for param in vrp_net.parameters():\n",
    "#     param.requires_grad = False\n",
    "print('VRP NET loaded on: ',vrp_net.device)\n",
    "print(summary(vrp_net))"
   ]
  },
  {
   "cell_type": "code",
   "execution_count": 31,
   "metadata": {},
   "outputs": [],
   "source": [
    "d_mins, ddmins_dFlocs, _ = VRPNet_pass(vrp_net, F_locs, returnGrad=True)"
   ]
  },
  {
   "cell_type": "code",
   "execution_count": 32,
   "metadata": {},
   "outputs": [
    {
     "data": {
      "text/plain": [
       "tensor([[0.1849],\n",
       "        [0.1873]], grad_fn=<ViewBackward0>)"
      ]
     },
     "execution_count": 32,
     "metadata": {},
     "output_type": "execute_result"
    }
   ],
   "source": [
    "d_mins"
   ]
  },
  {
   "cell_type": "code",
   "execution_count": 33,
   "metadata": {},
   "outputs": [
    {
     "data": {
      "text/plain": [
       "tensor([[[-1.9053e-01, -1.9731e-01],\n",
       "         [ 3.2159e-01,  7.4932e-01],\n",
       "         [-4.1604e-05, -4.6551e-04],\n",
       "         [-2.6137e-05,  4.1944e-04],\n",
       "         [ 1.2425e-04, -3.7652e-04]],\n",
       "\n",
       "        [[-2.0921e-01, -2.0261e-01],\n",
       "         [ 3.2159e-01,  7.4932e-01],\n",
       "         [-4.1604e-05, -4.6551e-04],\n",
       "         [-2.6137e-05,  4.1944e-04],\n",
       "         [ 1.2425e-04, -3.7652e-04]]], grad_fn=<SliceBackward0>)"
      ]
     },
     "execution_count": 33,
     "metadata": {},
     "output_type": "execute_result"
    }
   ],
   "source": [
    "ddmins_dFlocs"
   ]
  },
  {
   "cell_type": "markdown",
   "metadata": {},
   "source": [
    "### Load the LSE net module"
   ]
  },
  {
   "cell_type": "code",
   "execution_count": 34,
   "metadata": {},
   "outputs": [
    {
     "name": "stdout",
     "output_type": "stream",
     "text": [
      "n_inputs: 3\n",
      "n_outputs: 1\n",
      "layers: [20, 20, 10]\n",
      "io_scale: 1\n",
      "LSE_net:\n",
      "=================================================================\n",
      "Layer (type:depth-idx)                   Param #\n",
      "=================================================================\n",
      "dnn                                      --\n",
      "├─ModuleList: 1-1                        --\n",
      "│    └─Linear: 2-1                       (80)\n",
      "│    └─ReLU: 2-2                         --\n",
      "│    └─Linear: 2-3                       (420)\n",
      "│    └─ReLU: 2-4                         --\n",
      "│    └─Linear: 2-5                       (210)\n",
      "│    └─ReLU: 2-6                         --\n",
      "│    └─Linear: 2-7                       (11)\n",
      "=================================================================\n",
      "Total params: 721\n",
      "Trainable params: 0\n",
      "Non-trainable params: 721\n",
      "=================================================================\n"
     ]
    }
   ],
   "source": [
    "importlib.reload(LSE_net)\n",
    "lse_data = torch.load('logSumExp_models/lse_2025_5_1__17_6_31.pth', weights_only=False)\n",
    "n_inputs = lse_data['n_inputs']\n",
    "n_outputs = lse_data['n_outputs']\n",
    "layers = lse_data['layers']\n",
    "weights = lse_data['model_state_dict']\n",
    "io_scale = lse_data['io_scale']\n",
    "D_max_range = 2.0 #lse_data['D_max_range']\n",
    "lse_net = LSE_net.dnn(n_inputs, n_outputs, layers)\n",
    "# lse_net.to(device)\n",
    "lse_net.load_state_dict(weights)\n",
    "lse_net.eval()\n",
    "for p in lse_net.parameters():\n",
    "    p.requires_grad = False\n",
    "print(f'n_inputs: {n_inputs}\\nn_outputs: {n_outputs}\\nlayers: {layers}\\nio_scale: {io_scale}\\nLSE_net:\\n{summary(lse_net)}')"
   ]
  },
  {
   "cell_type": "markdown",
   "metadata": {},
   "source": [
    "### Some functions for free energy approximation"
   ]
  },
  {
   "cell_type": "code",
   "execution_count": 35,
   "metadata": {},
   "outputs": [],
   "source": [
    "def logSumExp(D_tensor, beta):\n",
    "    # with torch.no_grad():\n",
    "    # print(D_tensor)\n",
    "    D_min = torch.min(D_tensor, axis=1, keepdims=True)\n",
    "    F = -1/beta * torch.log(torch.sum(torch.exp(-beta*(D_tensor - D_min.values)), axis=1, keepdims=True)) + 1/beta * torch.log(torch.tensor([D_tensor.shape[1]])) + D_min.values\n",
    "    return F\n",
    "\n",
    "def area_approx_F(D_min, D_max_range, beta, printCalculations=False):\n",
    "    min_beta_D_arr = beta * D_min\n",
    "    x_max = beta * D_max_range - min_beta_D_arr\n",
    "    F_est = -1/beta * torch.log(1/x_max * (1 - torch.exp(-x_max))) + D_min\n",
    "    \n",
    "    if printCalculations:\n",
    "        print(f'min_beta_D_arr:{min_beta_D_arr}')\n",
    "        print(f'x_max:{x_max}')\n",
    "        print(f'inside_log:{1/x_max * (1 - torch.exp(-x_max))}')\n",
    "        print(f'log:{torch.log(1/x_max * (1 - torch.exp(-x_max)))}')\n",
    "        print(f'-1/beta_log:\\n{-1/beta * torch.log(1/x_max * (1 - torch.exp(-x_max)))}')\n",
    "        \n",
    "    return F_est"
   ]
  },
  {
   "cell_type": "code",
   "execution_count": 36,
   "metadata": {},
   "outputs": [],
   "source": [
    "b_min = 1e-3\n",
    "beta = 1e-3\n",
    "F_lse, dFlse_ddmin = LSENet_pass(lse_net, d_mins, D_max_range, beta, b_min, returnGrad=True)\n",
    "F_total = torch.mean(F_lse)"
   ]
  },
  {
   "cell_type": "code",
   "execution_count": 37,
   "metadata": {},
   "outputs": [
    {
     "data": {
      "text/plain": [
       "tensor([[[0.0012]],\n",
       "\n",
       "        [[0.0012]]], grad_fn=<ViewBackward0>)"
      ]
     },
     "execution_count": 37,
     "metadata": {},
     "output_type": "execute_result"
    }
   ],
   "source": [
    "dFlse_ddmin"
   ]
  },
  {
   "cell_type": "markdown",
   "metadata": {},
   "source": [
    "### Apply Chain rule: $\\frac{\\partial F}{\\partial F_{base}} = \\sum_{i=1}^N\\frac{\\partial F}{\\partial d^i_{min}} \\cdot \\frac{\\partial d^i_{min}}{\\partial F_{base}}$, where $i$ represents drone index."
   ]
  },
  {
   "cell_type": "code",
   "execution_count": 16,
   "metadata": {},
   "outputs": [
    {
     "data": {
      "text/plain": [
       "tensor([[[ 2.5399e-03,  2.2501e-03],\n",
       "         [ 1.5521e-05, -3.0424e-05],\n",
       "         [-3.4338e-05, -8.4592e-06],\n",
       "         [-1.6525e-02, -1.7450e-02],\n",
       "         [ 1.0150e-04, -3.7508e-05]],\n",
       "\n",
       "        [[-6.1154e-05, -3.1486e-06],\n",
       "         [ 6.3626e-06, -4.6159e-06],\n",
       "         [ 1.5996e-03,  2.0837e-03],\n",
       "         [-1.6488e-02, -1.7469e-02],\n",
       "         [ 6.3950e-05, -1.8043e-05]]], grad_fn=<MulBackward0>)"
      ]
     },
     "execution_count": 16,
     "metadata": {},
     "output_type": "execute_result"
    }
   ],
   "source": [
    "drone_grads_fbase = dFlse_ddmin * ddmins_dFlocs\n",
    "drone_grads_fbase"
   ]
  },
  {
   "cell_type": "code",
   "execution_count": 17,
   "metadata": {},
   "outputs": [
    {
     "data": {
      "text/plain": [
       "tensor([[ 1.2394e-03,  1.1235e-03],\n",
       "        [ 1.0942e-05, -1.7520e-05],\n",
       "        [ 7.8265e-04,  1.0376e-03],\n",
       "        [-1.6507e-02, -1.7459e-02],\n",
       "        [ 8.2726e-05, -2.7776e-05]], grad_fn=<MeanBackward1>)"
      ]
     },
     "execution_count": 17,
     "metadata": {},
     "output_type": "execute_result"
    }
   ],
   "source": [
    "G = torch.mean(drone_grads_fbase, axis=0)\n",
    "G"
   ]
  },
  {
   "cell_type": "markdown",
   "metadata": {},
   "source": [
    "### Compute gradient $\\frac{\\partial F}{\\partial F_{base}}$ by direct backpropagation"
   ]
  },
  {
   "cell_type": "code",
   "execution_count": 18,
   "metadata": {},
   "outputs": [
    {
     "data": {
      "text/plain": [
       "tensor([[[-5.4449e-02, -4.9463e-02],\n",
       "         [-4.9456e-04,  7.8070e-04],\n",
       "         [-3.7670e-02, -4.9868e-02],\n",
       "         [ 7.5989e-01,  8.0381e-01],\n",
       "         [-3.7708e-03,  1.2592e-03]]], grad_fn=<SumBackward1>)"
      ]
     },
     "execution_count": 18,
     "metadata": {},
     "output_type": "execute_result"
    }
   ],
   "source": [
    "G1 = torch.autograd.grad(outputs=F_total, inputs=F_base,\n",
    "                               grad_outputs=torch.ones_like(F_total),\n",
    "                               create_graph=True)\n",
    "G1[0]"
   ]
  },
  {
   "cell_type": "markdown",
   "metadata": {},
   "source": [
    "### Compare the gradient estimates with original FLPO framework"
   ]
  },
  {
   "cell_type": "code",
   "execution_count": 19,
   "metadata": {},
   "outputs": [
    {
     "data": {
      "image/png": "[encoded data removed]",
      "text/plain": [
       "<Figure size 640x480 with 1 Axes>"
      ]
     },
     "metadata": {},
     "output_type": "display_data"
    },
    {
     "data": {
      "text/plain": [
       "array([[0.27307184, 0.28378152],\n",
       "       [0.26643485, 0.28722247],\n",
       "       [0.26671292, 0.28928207],\n",
       "       [0.2689007 , 0.27978554],\n",
       "       [0.26092247, 0.28984747]])"
      ]
     },
     "execution_count": 19,
     "metadata": {},
     "output_type": "execute_result"
    }
   ],
   "source": [
    "import classFLPO\n",
    "flpo = classFLPO.FLPO(filename, plotFLPO=True, disType='sqeuclidean', selfHop=True)\n",
    "Y = flpo.facilityLocations\n",
    "GD_s, _ = flpo.returnStagewiseGrad(Y)\n",
    "D_s, _ = flpo.returnStagewiseCost(Y)\n",
    "_, V, Fe, _, Pb = flpo.backPropDP(D_s, beta, returnPb=True)\n",
    "GV, GFe = flpo.backPropDP_grad(GD_s, Pb)\n",
    "# print(GD_s)\n",
    "GFe\n",
    "# GV[0].shape"
   ]
  },
  {
   "cell_type": "code",
   "execution_count": 20,
   "metadata": {},
   "outputs": [
    {
     "data": {
      "text/plain": [
       "0.6241532807654757"
      ]
     },
     "execution_count": 20,
     "metadata": {},
     "output_type": "execute_result"
    }
   ],
   "source": [
    "np.mean(np.sum((GFe - G1[0].detach().numpy())**2,axis=1))#/np.mean(np.sum(GFe**2,axis=1))"
   ]
  },
  {
   "cell_type": "code",
   "execution_count": 21,
   "metadata": {},
   "outputs": [
    {
     "data": {
      "text/plain": [
       "3906"
      ]
     },
     "execution_count": 21,
     "metadata": {},
     "output_type": "execute_result"
    }
   ],
   "source": [
    "n_routes = utils.num_flpo_routes(num_facilities, num_drones)\n",
    "n_routes[0][0]"
   ]
  },
  {
   "cell_type": "code",
   "execution_count": 22,
   "metadata": {},
   "outputs": [
    {
     "data": {
      "text/plain": [
       "tensor(-8268.6299, grad_fn=<SubBackward0>)"
      ]
     },
     "execution_count": 22,
     "metadata": {},
     "output_type": "execute_result"
    }
   ],
   "source": [
    "F_total - 1/beta * np.log(n_routes[0][0])"
   ]
  },
  {
   "cell_type": "code",
   "execution_count": 23,
   "metadata": {},
   "outputs": [
    {
     "data": {
      "text/plain": [
       "-8268.994920974546"
      ]
     },
     "execution_count": 23,
     "metadata": {},
     "output_type": "execute_result"
    }
   ],
   "source": [
    "np.mean(V[0]) #+ 1/beta * np.log(n_routes[0][0]))"
   ]
  },
  {
   "cell_type": "markdown",
   "metadata": {},
   "source": [
    "### Perform a gradient descent step: $F_{base}^+ = F_{base} - \\eta \\frac{\\partial F}{\\partial F_{base}}$"
   ]
  },
  {
   "cell_type": "code",
   "execution_count": 54,
   "metadata": {},
   "outputs": [
    {
     "data": {
      "text/plain": [
       "tensor([[[0.4472, 0.3454],\n",
       "         [0.4526, 0.3508]]], requires_grad=True)"
      ]
     },
     "execution_count": 54,
     "metadata": {},
     "output_type": "execute_result"
    }
   ],
   "source": [
    "F_base"
   ]
  },
  {
   "cell_type": "code",
   "execution_count": 28,
   "metadata": {},
   "outputs": [],
   "source": [
    "eta = 0.001\n",
    "F_base_new = F_base - eta * G"
   ]
  },
  {
   "cell_type": "code",
   "execution_count": 29,
   "metadata": {},
   "outputs": [
    {
     "data": {
      "text/plain": [
       "tensor([[[0.4382, 0.3312],\n",
       "         [0.3591, 0.2521]]], grad_fn=<SubBackward0>)"
      ]
     },
     "execution_count": 29,
     "metadata": {},
     "output_type": "execute_result"
    }
   ],
   "source": [
    "F_base_new"
   ]
  },
  {
   "cell_type": "markdown",
   "metadata": {},
   "source": [
    "### Write a loop to optimize the network w.r.t. facilities"
   ]
  },
  {
   "cell_type": "code",
   "execution_count": 30,
   "metadata": {},
   "outputs": [],
   "source": [
    "iters = 2\n",
    "eta = 0.001\n",
    "F_base_new = F_base\n",
    "\n",
    "for i in range(iters):\n",
    "    \n",
    "    F_locs = F_base_new.expand(num_drones, -1, -1)  # view, shares grad with F_base\n",
    "    data = torch.cat((START_locs, F_locs, END_locs), dim=1)  # shape: (Nd, Nf+2, D)\n",
    "\n",
    "    s = time.time()\n",
    "    with torch.no_grad():\n",
    "        # forward pass: no activations are saved for grad\n",
    "        _, actions = vrp_net(data, mod='eval_greedy')\n",
    "    e = time.time()\n",
    "    actions.detach()\n",
    "    d_mins = utils.route_cost(data, actions).view(-1,1)\n",
    "\n",
    "    gradient0 = torch.autograd.grad(outputs=d_mins, inputs=F_locs,\n",
    "                               grad_outputs=torch.ones_like(d_mins),\n",
    "                               create_graph=True)\n",
    "\n",
    "    d_mins = utils.route_cost(data, actions).view(-1,1) #[drone_id:drone_id+1]\n",
    "    Fmin_est = area_approx_F(d_mins, D_max_range=2.0, beta=b_min, printCalculations=False)\n",
    "    torch.cuda.empty_cache()\n",
    "    In_lse = torch.cat((\n",
    "        Fmin_est.to(device),\n",
    "        io_scale * d_mins,\n",
    "        (torch.ones(d_mins.shape)*torch.log(torch.tensor([beta]))/torch.log(torch.tensor([10.0]))).to(device)\n",
    "    ), axis=1)\n",
    "    \n",
    "    FreeEnergy = lse_net(In_lse)\n",
    "    gradient1 = torch.autograd.grad(outputs=FreeEnergy, inputs=In_lse,\n",
    "                               grad_outputs=torch.ones_like(FreeEnergy),\n",
    "                               create_graph=True)\n",
    "    total_gradient = gradient0[0] * gradient1[0][:,1].view(-1,1).view(num_drones,1,1)\n",
    "    G = torch.sum(total_gradient, axis=0)\n",
    "    F_base_new = F_base - eta * G"
   ]
  }
 ],
 "metadata": {
  "kernelspec": {
   "display_name": "Python 3",
   "language": "python",
   "name": "python3"
  },
  "language_info": {
   "codemirror_mode": {
    "name": "ipython",
    "version": 3
   },
   "file_extension": ".py",
   "mimetype": "text/x-python",
   "name": "python",
   "nbconvert_exporter": "python",
   "pygments_lexer": "ipython3",
   "version": "3.9.6"
  }
 },
 "nbformat": 4,
 "nbformat_minor": 2
}
