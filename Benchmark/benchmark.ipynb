{
 "cells": [
  {
   "cell_type": "code",
   "execution_count": 1,
   "metadata": {
    "id": "RzRVu-UkS__1"
   },
   "outputs": [],
   "source": [
    "import numpy as np\n",
    "import matplotlib.pyplot as plt\n",
    "import torch\n",
    "from torchinfo import summary\n",
    "import pickle\n",
    "import sys, os\n",
    "import time\n",
    "main_path = os.path.abspath(os.path.join(os.getcwd(), '..'))\n",
    "sys.path.insert(1, main_path)\n",
    "import GD\n",
    "from SPN import SPN\n",
    "import utils\n",
    "from viz import plot_UAV_FLPO, plot_UAV_FLPO_3D\n",
    "from pathlib import Path\n",
    "from Anneal import anneal\n",
    "np.random.seed(42)\n"
   ]
  },
  {
   "cell_type": "markdown",
   "metadata": {},
   "source": [
    "# Load a Scenario"
   ]
  },
  {
   "cell_type": "code",
   "execution_count": 2,
   "metadata": {},
   "outputs": [
    {
     "name": "stdout",
     "output_type": "stream",
     "text": [
      "Running on:  cuda\n",
      "num_drones = 10\t num_facilities = 4\t dim = 2\t num_distinct_ends = 2\n"
     ]
    }
   ],
   "source": [
    "seed=3\n",
    "torch.manual_seed(seed)\n",
    "torch.cuda.manual_seed(seed)\n",
    "torch.cuda.manual_seed_all(seed)\n",
    "device = torch.device('cuda') if torch.cuda.is_available() else torch.device('cpu')\n",
    "np.random.seed(seed)\n",
    "scene_path = \"benchmark_data/N10_M4_ends2_seed3\"\n",
    "print(\"Running on: \" , device)\n",
    "\n",
    "with open(scene_path, 'rb') as file:\n",
    "    data = pickle.load(file)\n",
    "START_locs = data[\"START_locs\"]\n",
    "F_base = data[\"F_base\"]\n",
    "END_locs = data[\"END_locs\"]\n",
    "num_drones = START_locs.shape[0]\n",
    "num_facilities = F_base.shape[-2]\n",
    "dim_ = F_base.shape[-1]\n",
    "num_distinct_ends = len(torch.unique(END_locs, dim=0))\n",
    "print(f\"num_drones = {num_drones}\\t num_facilities = {num_facilities}\\t dim = {dim_}\\t num_distinct_ends = {num_distinct_ends}\")\n",
    "assert(F_base.requires_grad == True)\n",
    "\n",
    "s = START_locs.cpu().numpy().reshape(-1,1,2)\n",
    "e = END_locs.cpu().numpy().reshape(-1,1,2)\n",
    "Y_init = F_base.detach().cpu().numpy()\n",
    "\n",
    "n_algo_iters = 10\n",
    "discardPSO = True\n",
    "discardACO = True\n",
    "\n",
    "# plot_UAV_FLPO(START_locs, END_locs, F_base, (12,10))\n",
    "# # plot_UAV_FLPO_3D(START_locs, END_locs, F_base)"
   ]
  },
  {
   "cell_type": "code",
   "execution_count": 3,
   "metadata": {},
   "outputs": [],
   "source": [
    "# create a dataset of nodes and agents\n",
    "# num_nodes = 10\n",
    "# num_agents = 30\n",
    "# dim = 2  # dimension of the space\n",
    "# def generate_example(dim=2, num_nodes=30, num_agents=20):\n",
    "#     nodes = 0.5 + 0.01 * np.random.randn(1, num_nodes, dim)  # centered at [0.5, 0.5] with small perturbation\n",
    "#     s = np.random.rand(num_agents,1, dim)\n",
    "#     e = np.random.rand(num_agents,1, dim)\n",
    "#     return s, e, nodes\n",
    "# s, e, Y_init = generate_example(num_nodes=num_facilities, num_agents=num_drones, dim=dim)"
   ]
  },
  {
   "cell_type": "code",
   "execution_count": 4,
   "metadata": {},
   "outputs": [
    {
     "data": {
      "text/plain": [
       "Text(0.5, 1.0, 'Nodes and Agents in 2D Space')"
      ]
     },
     "execution_count": 4,
     "metadata": {},
     "output_type": "execute_result"
    },
    {
     "data": {
      "image/png": "[encoded data removed]",
      "text/plain": [
       "<Figure size 800x800 with 1 Axes>"
      ]
     },
     "metadata": {},
     "output_type": "display_data"
    }
   ],
   "source": [
    "\n",
    "# plot the nodes and agents\n",
    "plt.figure(figsize=(8, 8))\n",
    "plt.scatter(Y_init[0, :, 0], Y_init[0, :, 1], c='blue', label='Nodes')\n",
    "plt.scatter(s[:, 0, 0], s[:, 0, 1], c='green', label='Start Points')\n",
    "plt.scatter(e[:, 0, 0], e[:, 0, 1], c='red', label='End Points')\n",
    "plt.title('Nodes and Agents in 2D Space')"
   ]
  },
  {
   "cell_type": "markdown",
   "metadata": {
    "id": "DJDgIrJI6Bei"
   },
   "source": [
    "# PSO"
   ]
  },
  {
   "cell_type": "code",
   "execution_count": 5,
   "metadata": {},
   "outputs": [],
   "source": [
    "# run the PSO algorithm\n",
    "from PSO import pso, pso_plot, pso_print\n",
    "\n",
    "if discardPSO:\n",
    "    t_pso_arr = None\n",
    "    c_pso_arr = None\n",
    "    t_pso_min = None\n",
    "    c_pso_min = None\n",
    "else:\n",
    "    num_particles = 500\n",
    "    num_iters = 300\n",
    "    w = 0.9 # inertia weight\n",
    "    c1 = 0.5  # cognitive (individual) weight\n",
    "    c2 =1.5  # social (group) weight\n",
    "    t_pso_arr = []\n",
    "    c_pso_arr = []\n",
    "    for i in range(n_algo_iters):\n",
    "        y_final, eta_final, global_best_cost, elapsed_time = pso(\n",
    "            s,\n",
    "            e,\n",
    "            num_facilities,\n",
    "            num_drones,\n",
    "            dim_,\n",
    "            Y_init=Y_init,\n",
    "            verbose=True,\n",
    "            w=w,\n",
    "            c1=c1,\n",
    "            c2=c2,\n",
    "            num_particles=num_particles,\n",
    "            num_iters=num_iters,\n",
    "        )\n",
    "        t_pso_arr.append(elapsed_time)\n",
    "        c_pso_arr.append(global_best_cost)\n",
    "\n",
    "    t_pso_min = np.min(t_pso_arr)\n",
    "    c_pso_min = np.min(c_pso_arr)\n",
    "    pso_print(y_final, eta_final, global_best_cost, elapsed_time, s, e)\n",
    "    pso_plot(y_final, eta_final, s, e)"
   ]
  },
  {
   "cell_type": "code",
   "execution_count": 6,
   "metadata": {},
   "outputs": [
    {
     "data": {
      "text/plain": [
       "(None, None)"
      ]
     },
     "execution_count": 6,
     "metadata": {},
     "output_type": "execute_result"
    }
   ],
   "source": [
    "t_pso_min, c_pso_min"
   ]
  },
  {
   "cell_type": "markdown",
   "metadata": {
    "id": "InMO40b3y45N"
   },
   "source": [
    "# Genetic Algorithm"
   ]
  },
  {
   "cell_type": "code",
   "execution_count": 7,
   "metadata": {},
   "outputs": [],
   "source": [
    "from GA import ga, ga_plot, ga_print\n",
    "t_ga_arr = []\n",
    "c_ga_arr = []\n",
    "for i in range(n_algo_iters):\n",
    "    best_y, best_eta, best_cost, elapsed_time = ga(\n",
    "            s,\n",
    "            e,\n",
    "            num_facilities,\n",
    "            num_drones,\n",
    "            dim_,\n",
    "            Y_init=None,\n",
    "            verbose=False,\n",
    "            pop_size=100,\n",
    "            generations=8000,\n",
    "            mutation_rate=0.3,        \n",
    "        )\n",
    "    t_ga_arr.append(elapsed_time)\n",
    "    c_ga_arr.append(best_cost)\n",
    "t_ga_min = np.min(t_ga_arr)\n",
    "c_ga_min = np.min(c_ga_arr)\n",
    "# ga_print(s, e, best_y, best_eta, best_cost, elapsed_time)\n",
    "# ga_plot(s, e, best_y, best_eta)"
   ]
  },
  {
   "cell_type": "code",
   "execution_count": 8,
   "metadata": {},
   "outputs": [
    {
     "data": {
      "text/plain": [
       "(189.04747009277344, 0.7236140377913871)"
      ]
     },
     "execution_count": 8,
     "metadata": {},
     "output_type": "execute_result"
    }
   ],
   "source": [
    "t_ga_min, c_ga_min"
   ]
  },
  {
   "cell_type": "markdown",
   "metadata": {},
   "source": [
    "# SA"
   ]
  },
  {
   "cell_type": "code",
   "execution_count": 9,
   "metadata": {},
   "outputs": [],
   "source": [
    "from SA import sa, plot_sa, print_sa\n",
    "t_sa_arr = []\n",
    "c_sa_arr = []\n",
    "for i in range(n_algo_iters):\n",
    "    best_y, best_eta, best_cost, elapsed_time = sa(\n",
    "            s,\n",
    "            e,\n",
    "            num_facilities,\n",
    "            num_drones,\n",
    "            dim_,\n",
    "            Y_init=Y_init,\n",
    "            YMIN=0,\n",
    "            YMAX=1.0,\n",
    "            iters=50000,\n",
    "            verbose=False,\n",
    "        )\n",
    "    t_sa_arr.append(elapsed_time)\n",
    "    c_sa_arr.append(best_cost)\n",
    "t_sa_min = np.min(t_sa_arr)\n",
    "c_sa_min = np.min(c_sa_arr)\n",
    "# print_sa(s, e, best_y, best_eta)\n",
    "# plot_sa(s, e, best_y, best_eta)"
   ]
  },
  {
   "cell_type": "code",
   "execution_count": 10,
   "metadata": {},
   "outputs": [
    {
     "data": {
      "text/plain": [
       "(10.23348879814148, 1.0641702400588493)"
      ]
     },
     "execution_count": 10,
     "metadata": {},
     "output_type": "execute_result"
    }
   ],
   "source": [
    "t_sa_min, c_sa_min"
   ]
  },
  {
   "cell_type": "markdown",
   "metadata": {},
   "source": [
    "# CEM"
   ]
  },
  {
   "cell_type": "code",
   "execution_count": 11,
   "metadata": {},
   "outputs": [],
   "source": [
    "from CEM import cem, plot_cem, print_cem\n",
    "\n",
    "t_cem_arr = []\n",
    "c_cem_arr = []\n",
    "for i in range(n_algo_iters):\n",
    "    best_y, best_eta, best_cost, elapsed_time = cem(\n",
    "            s,\n",
    "            e,\n",
    "            num_facilities,\n",
    "            num_drones,\n",
    "            dim_,\n",
    "            Y_init=Y_init,\n",
    "            YMIN=0,\n",
    "            YMAX=1.0,\n",
    "            n_iter=2000,\n",
    "            pop_size=100,\n",
    "            elite_frac=0.2,\n",
    "            verbose=False,\n",
    "        )\n",
    "    t_cem_arr.append(elapsed_time)\n",
    "    c_cem_arr.append(best_cost)\n",
    "t_cem_min = np.min(t_cem_arr)\n",
    "c_cem_min = np.min(c_cem_arr)\n",
    "# print_cem(s, e, best_y, best_eta, best_cost, elapsed_time)\n",
    "# plot_cem(s, e, best_y, best_eta)"
   ]
  },
  {
   "cell_type": "code",
   "execution_count": 12,
   "metadata": {},
   "outputs": [
    {
     "data": {
      "text/plain": [
       "(144.31296753883362, 0.9310474284740996)"
      ]
     },
     "execution_count": 12,
     "metadata": {},
     "output_type": "execute_result"
    }
   ],
   "source": [
    "t_cem_min, c_cem_min"
   ]
  },
  {
   "cell_type": "markdown",
   "metadata": {},
   "source": [
    "# ACO"
   ]
  },
  {
   "cell_type": "code",
   "execution_count": 13,
   "metadata": {},
   "outputs": [],
   "source": [
    "from ACO import aco, plot_aco, print_aco\n",
    "\n",
    "if discardACO:\n",
    "    t_aco_arr = None\n",
    "    c_aco_arr = None\n",
    "    t_aco_min = None\n",
    "    c_aco_min = None\n",
    "else:\n",
    "    t_aco_arr = []\n",
    "    c_aco_arr = []\n",
    "    for i in range(n_algo_iters):\n",
    "        best_y, best_eta, best_cost, elapsed_time = aco(\n",
    "            s,\n",
    "            e,\n",
    "            num_facilities,\n",
    "            num_drones,\n",
    "            dim_,\n",
    "            Y_init=Y_init,\n",
    "            YMIN=0.0,\n",
    "            YMAX=1.0,\n",
    "            num_iters=200,\n",
    "            num_ants=100,\n",
    "            alpha=1.0,\n",
    "            beta=1.0,\n",
    "            rho=0.5,\n",
    "            Q=1.0,\n",
    "            verbose=True,\n",
    "        )\n",
    "        t_aco_arr.append(elapsed_time)\n",
    "        c_aco_arr.append(best_cost)\n",
    "    t_aco_min = np.min(t_aco_arr)\n",
    "    c_aco_min = np.min(c_aco_arr)\n",
    "    print_aco(s, e, num_facilities, num_drones, dim_, best_y, best_eta)\n",
    "    plot_aco(s, e, num_facilities, num_drones, dim_, best_y, best_eta)"
   ]
  },
  {
   "cell_type": "code",
   "execution_count": 14,
   "metadata": {},
   "outputs": [
    {
     "data": {
      "text/plain": [
       "(None, None)"
      ]
     },
     "execution_count": 14,
     "metadata": {},
     "output_type": "execute_result"
    }
   ],
   "source": [
    "t_aco_min, c_aco_min"
   ]
  },
  {
   "cell_type": "markdown",
   "metadata": {},
   "source": [
    "# Run benchmark iterations for our algorithm"
   ]
  },
  {
   "cell_type": "markdown",
   "metadata": {},
   "source": [
    "### Load the SPN Module"
   ]
  },
  {
   "cell_type": "code",
   "execution_count": 15,
   "metadata": {},
   "outputs": [
    {
     "name": "stdout",
     "output_type": "stream",
     "text": [
      "Model created.\n",
      "SPN loaded on:  cuda\n",
      "=====================================================================================\n",
      "Layer (type:depth-idx)                                       Param #\n",
      "=====================================================================================\n",
      "SPN                                                          --\n",
      "├─LinearAttnEncoder: 1-1                                     2,048\n",
      "│    └─ModuleList: 2-1                                       --\n",
      "│    │    └─MultiheadAttention: 3-1                          (66,048)\n",
      "│    │    └─MultiheadAttention: 3-2                          (66,048)\n",
      "│    │    └─MultiheadAttention: 3-3                          (66,048)\n",
      "│    │    └─MultiheadAttention: 3-4                          (66,048)\n",
      "│    │    └─MultiheadAttention: 3-5                          (66,048)\n",
      "│    │    └─MultiheadAttention: 3-6                          (66,048)\n",
      "│    └─ModuleList: 2-2                                       --\n",
      "│    │    └─MultiheadAttention: 3-7                          (66,048)\n",
      "│    │    └─MultiheadAttention: 3-8                          (66,048)\n",
      "│    │    └─MultiheadAttention: 3-9                          (66,048)\n",
      "│    │    └─MultiheadAttention: 3-10                         (66,048)\n",
      "│    │    └─MultiheadAttention: 3-11                         (66,048)\n",
      "│    │    └─MultiheadAttention: 3-12                         (66,048)\n",
      "│    └─Linear: 2-3                                           (512)\n",
      "│    └─ModuleList: 2-4                                       --\n",
      "│    │    └─Sequential: 3-13                                 (65,920)\n",
      "│    │    └─Sequential: 3-14                                 (65,920)\n",
      "│    │    └─Sequential: 3-15                                 (65,920)\n",
      "│    │    └─Sequential: 3-16                                 (65,920)\n",
      "│    │    └─Sequential: 3-17                                 (65,920)\n",
      "│    │    └─Sequential: 3-18                                 (65,920)\n",
      "│    └─LayerNorm: 2-5                                        (256)\n",
      "│    └─LayerNorm: 2-6                                        (256)\n",
      "│    └─Dropout: 2-7                                          --\n",
      "│    └─ReLU: 2-8                                             --\n",
      "├─FastDecoder: 1-2                                           256\n",
      "│    └─Linear: 2-9                                           (384)\n",
      "│    └─Linear: 2-10                                          (384)\n",
      "│    └─ReLU: 2-11                                            --\n",
      "│    └─LayerNorm: 2-12                                       (256)\n",
      "=====================================================================================\n",
      "Total params: 1,192,448\n",
      "Trainable params: 0\n",
      "Non-trainable params: 1,192,448\n",
      "=====================================================================================\n"
     ]
    }
   ],
   "source": [
    "torch.cuda.empty_cache()\n",
    "model_classes = {\"SPN\": SPN}\n",
    "weights_address = (\n",
    "    Path(main_path + \"/Saved_models\") /\n",
    "    \"FT100_FastAnneal_2025_07_19_01_50_51.pth\"\n",
    ")\n",
    "spn = utils.load_model(\n",
    "    weights_address, model_classes, weights_only=True, device=device\n",
    ")\n",
    "for param in spn.parameters():\n",
    "    param.requires_grad = False\n",
    "print(\"SPN loaded on: \", spn.device)\n",
    "print(summary(spn))"
   ]
  },
  {
   "cell_type": "markdown",
   "metadata": {},
   "source": [
    "### Using SPN and Path Sampling"
   ]
  },
  {
   "cell_type": "code",
   "execution_count": 16,
   "metadata": {},
   "outputs": [],
   "source": [
    "optim_iters = 100\n",
    "optim_step = 0.01\n",
    "b_min = 1e4\n",
    "beta = 1e4\n",
    "tol = 1e-3\n",
    "\n",
    "t_flpoINF_arr = []\n",
    "c_flpoINF_arr = []\n",
    "START_locs = START_locs.to(device)\n",
    "F_base = F_base.to(device)\n",
    "END_locs = END_locs.to(device)\n",
    "for i in range(n_algo_iters):\n",
    "\n",
    "    tic = time.time()\n",
    "    F_base0_anneal = F_base.clone().detach().requires_grad_(True).to(device)\n",
    "    Y_arr_adam, FreeEnergy_adam, G_adam = GD.Adam_at_beta(\n",
    "        F_base0_anneal, START_locs, END_locs, spn, optim_iters,\n",
    "        optim_step, tol=tol, allowPrint=False, return_list=True)\n",
    "    toc = time.time()\n",
    "\n",
    "    t_flpoINF_arr.append(toc-tic)\n",
    "    c_flpoINF_arr.append(FreeEnergy_adam.detach().item())\n",
    "\n",
    "t_flpoINF_min = np.min(t_flpoINF_arr)\n",
    "c_flpoINF_min = np.min(c_flpoINF_arr)\n",
    "\n",
    "# plot_UAV_FLPO(START_locs, END_locs, Y_arr_adam[-1], (12,6))\n"
   ]
  },
  {
   "cell_type": "code",
   "execution_count": 17,
   "metadata": {},
   "outputs": [
    {
     "data": {
      "text/plain": [
       "(1.0161068439483643, 0.06272906810045242)"
      ]
     },
     "execution_count": 17,
     "metadata": {},
     "output_type": "execute_result"
    }
   ],
   "source": [
    "t_flpoINF_min, c_flpoINF_min "
   ]
  },
  {
   "cell_type": "markdown",
   "metadata": {},
   "source": [
    "### Use SPN"
   ]
  },
  {
   "cell_type": "code",
   "execution_count": 18,
   "metadata": {},
   "outputs": [],
   "source": [
    "beta_min = 1e-3 \n",
    "beta_max = 1e4\n",
    "beta_grow = 10\n",
    "optim_iters = 100\n",
    "optim_step = 0.01 # 0.1 for gd0, sampling_gd, use < 0.01 for the other two optimizers \n",
    "optim_name = \"sampling_auto_diff\"\n",
    "tol = 0.001\n",
    "n_path_samples = 8\n",
    "\n",
    "t_flpoANN_arr = []\n",
    "c_flpoANN_arr = []\n",
    "\n",
    "for i in range(n_algo_iters):\n",
    "    tic = time.time()\n",
    "    F_base0_anneal = F_base.clone().detach().requires_grad_(True)\n",
    "    Y_arr, b_arr, F_arr = anneal( \n",
    "            F_base0_anneal, \n",
    "            START_locs, \n",
    "            END_locs, \n",
    "            spn,  \n",
    "            optim_iters, \n",
    "            optim_step, \n",
    "            beta_min, \n",
    "            beta_max, \n",
    "            beta_grow, \n",
    "            tol=tol, \n",
    "            optimizer_name=optim_name, \n",
    "            n_path_samples=n_path_samples, \n",
    "            allowPrint=False \n",
    "        ) \n",
    "    toc = time.time()\n",
    "    runtime_anneal = toc-tic \n",
    "    t_flpoANN_arr.append(runtime_anneal)\n",
    "    c_flpoANN_arr.append(F_arr[-1])\n",
    "\n",
    "t_flpoANN_min = np.min(t_flpoANN_arr)\n",
    "c_flpoANN_min = np.min(c_flpoANN_arr)\n",
    "\n",
    "# plot_UAV_FLPO(START_locs, END_locs, Y_arr[-1], (12,6))\n"
   ]
  },
  {
   "cell_type": "code",
   "execution_count": 19,
   "metadata": {},
   "outputs": [
    {
     "data": {
      "text/plain": [
       "(1.0161068439483643, 0.061535585671663284)"
      ]
     },
     "execution_count": 19,
     "metadata": {},
     "output_type": "execute_result"
    }
   ],
   "source": [
    "t_flpoINF_min, c_flpoANN_min"
   ]
  },
  {
   "cell_type": "markdown",
   "metadata": {},
   "source": [
    "### Print the benchmark table for all the methods"
   ]
  },
  {
   "cell_type": "code",
   "execution_count": 20,
   "metadata": {},
   "outputs": [
    {
     "name": "stdout",
     "output_type": "stream",
     "text": [
      "---------------------------------------------------------------------------------------\n",
      "Method \t\t\t\t Cost \t\t\t\t Time (s)\n",
      "---------------------------------------------------------------------------------------\n",
      "PSO \t\t\t\t NA \t\t\t\t NA\n",
      "GA \t\t\t\t 0.72 \t\t\t\t 189.0\n",
      "SA \t\t\t\t 1.06 \t\t\t\t 10.2\n",
      "CEM \t\t\t\t 0.93 \t\t\t\t 144.3\n",
      "ACO \t\t\t\t NA \t\t\t\t NA\n",
      "d-FLPO (I) \t\t\t\t 0.063 \t\t\t\t 1.016\n",
      "d-FLPO (A) \t\t\t\t 0.062 \t\t\t\t 20.246\n",
      "---------------------------------------------------------------------------------------\n"
     ]
    }
   ],
   "source": [
    "print(f\"---------------------------------------------------------------------------------------\")\n",
    "print(f\"Method \\t\\t\\t\\t Cost \\t\\t\\t\\t Time (s)\")\n",
    "print(f\"---------------------------------------------------------------------------------------\")\n",
    "if discardPSO:\n",
    "    print(f\"PSO \\t\\t\\t\\t NA \\t\\t\\t\\t NA\")\n",
    "else:\n",
    "    print(f\"PSO \\t\\t\\t\\t {t_pso_min:.2f} \\t\\t\\t\\t {c_pso_min:.3f}\")\n",
    "print(f\"GA \\t\\t\\t\\t {c_ga_min:.2f} \\t\\t\\t\\t {t_ga_min:.1f}\")\n",
    "print(f\"SA \\t\\t\\t\\t {c_sa_min:.2f} \\t\\t\\t\\t {t_sa_min:.1f}\")\n",
    "print(f\"CEM \\t\\t\\t\\t {c_cem_min:.2f} \\t\\t\\t\\t {t_cem_min:.1f}\")\n",
    "if discardACO:\n",
    "    print(f\"ACO \\t\\t\\t\\t NA \\t\\t\\t\\t NA\")\n",
    "else:\n",
    "    print(f\"ACO \\t\\t\\t\\t {c_aco_min:.3f} \\t\\t\\t\\t {t_aco_min:.2f}\")\n",
    "print(f\"d-FLPO (I) \\t\\t\\t\\t {c_flpoINF_min:.3f} \\t\\t\\t\\t {t_flpoINF_min:.3f}\")\n",
    "print(f\"d-FLPO (A) \\t\\t\\t\\t {c_flpoANN_min:.3f} \\t\\t\\t\\t {t_flpoANN_min:.3f}\")\n",
    "print(f\"---------------------------------------------------------------------------------------\")"
   ]
  },
  {
   "cell_type": "markdown",
   "metadata": {},
   "source": [
    "# Save benchmark data"
   ]
  },
  {
   "cell_type": "code",
   "execution_count": 21,
   "metadata": {},
   "outputs": [
    {
     "name": "stdout",
     "output_type": "stream",
     "text": [
      "benchmark_data/N10_M4_ends2_seed3\n"
     ]
    }
   ],
   "source": [
    "import pickle\n",
    "\n",
    "benchmark_data = {\n",
    "    \"START_locs\":START_locs, \n",
    "    \"F_base\":F_base, \n",
    "    \"END_locs\":END_locs,\n",
    "    \"n_algo_iters\":n_algo_iters,\n",
    "    \"t_pso_arr\":t_pso_arr,\n",
    "    \"c_pso_arr\":c_pso_arr,\n",
    "    \"t_ga_arr\":t_ga_arr,\n",
    "    \"c_ga_arr\":c_ga_arr,\n",
    "    \"t_sa_arr\":t_sa_arr,\n",
    "    \"c_sa_arr\":c_sa_arr,\n",
    "    \"t_cem_arr\":t_cem_arr,\n",
    "    \"c_cem_arr\":c_cem_arr,\n",
    "    \"t_aco_arr\":t_aco_arr,\n",
    "    \"c_aco_arr\":c_aco_arr,\n",
    "    \"t_flpoINF_arr\":t_flpoINF_arr,\n",
    "    \"c_flpoINF_arr\":c_flpoINF_arr,\n",
    "    \"t_flpoANN_arr\":t_flpoANN_arr,\n",
    "    \"c_flpoANN_arr\":c_flpoANN_arr\n",
    "}\n",
    "\n",
    "scenario = f\"N{int(num_drones)}_M{int(num_facilities)}_ends{int(num_distinct_ends)}_seed{int(seed)}\"\n",
    "filepath = \"benchmark_data/\" + scenario\n",
    "print(filepath)\n",
    "\n",
    "with open(filepath, 'wb') as file:\n",
    "    pickle.dump(benchmark_data, file)"
   ]
  }
 ],
 "metadata": {
  "colab": {
   "provenance": []
  },
  "kernelspec": {
   "display_name": "Python 3",
   "language": "python",
   "name": "python3"
  },
  "language_info": {
   "codemirror_mode": {
    "name": "ipython",
    "version": 3
   },
   "file_extension": ".py",
   "mimetype": "text/x-python",
   "name": "python",
   "nbconvert_exporter": "python",
   "pygments_lexer": "ipython3",
   "version": "3.10.0"
  }
 },
 "nbformat": 4,
 "nbformat_minor": 1
}
