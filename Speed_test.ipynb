{
 "cells": [
  {
   "cell_type": "code",
   "execution_count": 5,
   "id": "af749a98",
   "metadata": {},
   "outputs": [],
   "source": [
    "# Freeing CUDA memory: https://stackoverflow.com/questions/55322434/how-to-clear-cuda-memory-in-pytorch\n",
    "import torch\n",
    "from VRP_Net_L import VRPNet_L\n",
    "from matplotlib import pyplot as plt\n",
    "from utils import *\n",
    "import os\n",
    "import matplotlib.pyplot as plt\n",
    "from torchinfo import summary\n",
    "import numpy as np\n",
    "from inference import inference"
   ]
  },
  {
   "cell_type": "code",
   "execution_count": null,
   "id": "cfc38121",
   "metadata": {},
   "outputs": [
    {
     "name": "stdout",
     "output_type": "stream",
     "text": [
      "Running on:  cuda\n"
     ]
    }
   ],
   "source": [
    "device = torch.device('cuda') if torch.cuda.is_available() else torch.device('cpu')\n",
    "\n",
    "print(\"Running on: \" , device)\n",
    "num_data = 1 # number of FLPO instances\n",
    "num_nodes = np.linspace(50,200,20) # number of facilities\n",
    "\n",
    "city_dim = 2\n",
    "Data_1 = []\n",
    "Data_2 = []\n",
    "Data_3 = []\n",
    "Data_4 = []\n",
    "for i in num_nodes:\n",
    "    i = int(i)\n",
    "    data = torch.rand(1,i,city_dim).to(device) # 1 drone\n",
    "    Data_1.append(data)\n",
    "    data = torch.rand(50,i,city_dim).to(device) # 50 drones\n",
    "    Data_2.append(data)\n",
    "    data = torch.rand(100,i,city_dim).to(device) # 100 drones\n",
    "    Data_3.append(data)\n",
    "    data = torch.rand(200,i,city_dim).to(device) # 200 drones\n",
    "    Data_4.append(data)"
   ]
  },
  {
   "cell_type": "code",
   "execution_count": 9,
   "id": "1be28e5c",
   "metadata": {},
   "outputs": [
    {
     "name": "stdout",
     "output_type": "stream",
     "text": [
      "Model created.\n",
      "VRP_L NET loaded.\n",
      "===============================================================================================\n",
      "Layer (type:depth-idx)                                                 Param #\n",
      "===============================================================================================\n",
      "VRPNet_L                                                               --\n",
      "├─LinearAttnEncoder: 1-1                                               2,048\n",
      "│    └─ModuleList: 2-1                                                 --\n",
      "│    │    └─MultiheadAttention: 3-1                                    66,048\n",
      "│    │    └─MultiheadAttention: 3-2                                    66,048\n",
      "│    │    └─MultiheadAttention: 3-3                                    66,048\n",
      "│    │    └─MultiheadAttention: 3-4                                    66,048\n",
      "│    │    └─MultiheadAttention: 3-5                                    66,048\n",
      "│    │    └─MultiheadAttention: 3-6                                    66,048\n",
      "│    └─ModuleList: 2-2                                                 --\n",
      "│    │    └─MultiheadAttention: 3-7                                    66,048\n",
      "│    │    └─MultiheadAttention: 3-8                                    66,048\n",
      "│    │    └─MultiheadAttention: 3-9                                    66,048\n",
      "│    │    └─MultiheadAttention: 3-10                                   66,048\n",
      "│    │    └─MultiheadAttention: 3-11                                   66,048\n",
      "│    │    └─MultiheadAttention: 3-12                                   66,048\n",
      "│    └─Linear: 2-3                                                     512\n",
      "│    └─Linear: 2-4                                                     8,256\n",
      "│    └─LayerNorm: 2-5                                                  256\n",
      "│    └─Dropout: 2-6                                                    --\n",
      "│    └─ReLU: 2-7                                                       --\n",
      "├─Decoder: 1-2                                                         --\n",
      "│    └─PositionalEncoding: 2-8                                         --\n",
      "│    └─TransformerDecoder: 2-9                                         --\n",
      "│    │    └─ModuleList: 3-13                                           267,008\n",
      "===============================================================================================\n",
      "Total params: 1,070,656\n",
      "Trainable params: 1,070,656\n",
      "Non-trainable params: 0\n",
      "===============================================================================================\n"
     ]
    }
   ],
   "source": [
    "hidden_dim = 64\n",
    "num_layers_enc = 6\n",
    "num_layers_dec = 4\n",
    "num_heads = 8\n",
    "dropout = 0.1\n",
    "input_dim = 2\n",
    "\n",
    "vrpnet_L = VRPNet_L(input_dim, hidden_dim, device, num_layers_enc, num_layers_dec, num_heads, dropout=dropout)\n",
    "\n",
    "vrpnet_L.eval()\n",
    "print('VRP_L NET loaded.')\n",
    "print(summary(vrpnet_L))\n"
   ]
  },
  {
   "cell_type": "markdown",
   "id": "81e4529e",
   "metadata": {},
   "source": [
    "# Calculating time for SNN"
   ]
  },
  {
   "cell_type": "code",
   "execution_count": 10,
   "id": "79c1adc0",
   "metadata": {},
   "outputs": [
    {
     "name": "stderr",
     "output_type": "stream",
     "text": [
      "100%|██████████| 20/20 [00:08<00:00,  2.28it/s]\n",
      "100%|██████████| 20/20 [00:14<00:00,  1.39it/s]\n",
      "100%|██████████| 20/20 [00:18<00:00,  1.06it/s]\n",
      "100%|██████████| 20/20 [00:34<00:00,  1.73s/it]\n"
     ]
    }
   ],
   "source": [
    "import time\n",
    "from tqdm import tqdm\n",
    "times_1_L=[]\n",
    "times_2_L=[]\n",
    "times_3_L=[]\n",
    "times_4_L=[]\n",
    "torch.cuda.empty_cache()\n",
    "for data in tqdm(Data_1):\n",
    "    s = time.time()\n",
    "    with torch.no_grad():\n",
    "        inference(data,vrpnet_L,'Greedy')\n",
    "    times_1_L.append(time.time()-s)\n",
    "    torch.cuda.empty_cache()\n",
    "for data in tqdm(Data_2):\n",
    "    s = time.time()\n",
    "    with torch.no_grad():\n",
    "        inference(data,vrpnet_L,'Greedy')\n",
    "    times_2_L.append(time.time()-s)\n",
    "    torch.cuda.empty_cache()\n",
    "for data in tqdm(Data_3):\n",
    "    s = time.time()\n",
    "    with torch.no_grad():\n",
    "        inference(data,vrpnet_L,'Greedy')\n",
    "    times_3_L.append(time.time()-s)\n",
    "    torch.cuda.empty_cache()\n",
    "for data in tqdm(Data_4):\n",
    "    s = time.time()\n",
    "    with torch.no_grad():\n",
    "        inference(data,vrpnet_L,'Greedy')\n",
    "    times_4_L.append(time.time()-s)\n",
    "    torch.cuda.empty_cache()"
   ]
  },
  {
   "cell_type": "markdown",
   "id": "a320610d",
   "metadata": {},
   "source": [
    "# Calculating time for Original Gibb's Distribution"
   ]
  },
  {
   "cell_type": "code",
   "execution_count": 11,
   "id": "cbe217bf",
   "metadata": {},
   "outputs": [
    {
     "name": "stderr",
     "output_type": "stream",
     "text": [
      "100%|██████████| 20/20 [00:00<00:00, 23.40it/s]\n",
      "100%|██████████| 20/20 [00:53<00:00,  2.65s/it]\n",
      "100%|██████████| 20/20 [03:03<00:00,  9.17s/it]\n",
      "100%|██████████| 20/20 [13:12<00:00, 39.64s/it]\n"
     ]
    }
   ],
   "source": [
    "times_1_F=[]\n",
    "times_2_F=[]\n",
    "times_3_F=[]\n",
    "times_4_F=[]\n",
    "torch.cuda.empty_cache()\n",
    "for data in tqdm(Data_1):\n",
    "    s = time.time()\n",
    "    with torch.no_grad():\n",
    "        generate_true_labels(data,1e8)\n",
    "    times_1_F.append(time.time()-s)\n",
    "    torch.cuda.empty_cache()\n",
    "for data in tqdm(Data_2):\n",
    "    s = time.time()\n",
    "    with torch.no_grad():\n",
    "        generate_true_labels(data,1e8)\n",
    "    times_2_F.append(time.time()-s)\n",
    "    torch.cuda.empty_cache()\n",
    "for data in tqdm(Data_3):\n",
    "    s = time.time()\n",
    "    with torch.no_grad():\n",
    "        generate_true_labels(data,1e8)\n",
    "    times_3_F.append(time.time()-s)\n",
    "    torch.cuda.empty_cache()\n",
    "for data in tqdm(Data_4):\n",
    "    s = time.time()\n",
    "    with torch.no_grad():\n",
    "        generate_true_labels(data,1e8)\n",
    "    times_4_F.append(time.time()-s)\n",
    "    torch.cuda.empty_cache()"
   ]
  },
  {
   "cell_type": "code",
   "execution_count": 19,
   "id": "8218f283",
   "metadata": {},
   "outputs": [
    {
     "data": {
      "image/png": "[encoded data removed]",
      "text/plain": [
       "<Figure size 640x480 with 1 Axes>"
      ]
     },
     "metadata": {},
     "output_type": "display_data"
    }
   ],
   "source": [
    "color1 = 'cyan'\n",
    "color2 = 'gray'\n",
    "color3 = 'orange'\n",
    "linestyle1 = '--'\n",
    "linestyle2 = '-'\n",
    "linestyle3 = '--'\n",
    "\n",
    "# plt.plot(num_nodes,times_1_L,linestyle2,marker='v',color=color2,label='SPN_1')\n",
    "# plt.plot(num_nodes,times_2_L,linestyle2,marker='o',color=color2,label='SPN_50')\n",
    "# plt.plot(num_nodes,times_3_L,linestyle2,marker='^',color=color2,label='SPN_100')\n",
    "plt.plot(num_nodes,times_4_L,linestyle2,marker='x',color=color2,label='SPN_200')\n",
    "\n",
    "# plt.plot(num_nodes,times_1_F,linestyle3,marker='v',color=color3,label='FLPO_1')\n",
    "# plt.plot(num_nodes,times_2_F,linestyle3,marker='o',color=color3,label='FLPO_50')\n",
    "# plt.plot(num_nodes,times_3_F,linestyle3,marker='^',color=color3,label='FLPO_100')\n",
    "plt.plot(num_nodes,times_4_F,linestyle3,marker='x',color=color3,label='FLPO_200')\n",
    "\n",
    "plt.legend()\n",
    "# plt.yscale('log')\n",
    "plt.xlabel('Num F')\n",
    "plt.ylabel('T(s)')\n",
    "plt.title('GPU Runtime Comparison (Total Route)')\n",
    "# plt.yticks(np.linspace(0,35,15))\n",
    "plt.grid(axis='y',alpha=0.3)"
   ]
  }
 ],
 "metadata": {
  "kernelspec": {
   "display_name": "Python 3",
   "language": "python",
   "name": "python3"
  },
  "language_info": {
   "codemirror_mode": {
    "name": "ipython",
    "version": 3
   },
   "file_extension": ".py",
   "mimetype": "text/x-python",
   "name": "python",
   "nbconvert_exporter": "python",
   "pygments_lexer": "ipython3",
   "version": "3.10.0"
  }
 },
 "nbformat": 4,
 "nbformat_minor": 5
}
